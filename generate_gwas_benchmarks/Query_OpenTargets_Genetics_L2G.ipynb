{
 "cells": [
  {
   "cell_type": "code",
   "execution_count": null,
   "id": "e75f1e3d",
   "metadata": {},
   "outputs": [],
   "source": [
    "#setup credentials for BigQuery\n",
    "#note that the first 1TB of querying is free, but then a fee applies after that\n",
    "from google.cloud import bigquery\n",
    "credentials_path = './test-bigquery-ot-dcacff312913.json'\n",
    "client = bigquery.Client.from_service_account_json(credentials_path)"
   ]
  },
  {
   "cell_type": "code",
   "execution_count": null,
   "id": "024485c2",
   "metadata": {},
   "outputs": [],
   "source": [
    "#Imports\n",
    "import pandas as pd\n",
    "import numpy as np\n",
    "import matplotlib.pyplot as plt"
   ]
  },
  {
   "cell_type": "code",
   "execution_count": null,
   "id": "458fd0c5",
   "metadata": {},
   "outputs": [],
   "source": [
    "query='''\n",
    "WITH ranked_genes AS (\n",
    "    SELECT locus2gene.study_id, \n",
    "        locus2gene.chrom, locus2gene.pos, locus2gene.ref, locus2gene.alt, \n",
    "        study_metadata.*, \n",
    "        genes.gene_name, locus2gene.y_proba_full_model\n",
    "    \n",
    "    FROM `bigquery-public-data.open_targets_genetics.locus2gene` AS locus2gene\n",
    "    \n",
    "    #get GWAS metadata\n",
    "    INNER JOIN `bigquery-public-data.open_targets_genetics.studies` AS study_metadata\n",
    "    ON locus2gene.study_id = study_metadata.study_id\n",
    "    \n",
    "    #get HGNC IDs\n",
    "    INNER JOIN `bigquery-public-data.open_targets_genetics.genes` AS genes\n",
    "    ON locus2gene.gene_id = genes.gene_id\n",
    "\n",
    "    \n",
    "    #filter on the Neale Lab UKBB analysis\n",
    "    WHERE locus2gene.study_id LIKE '%NEALE2%'\n",
    "        \n",
    "        #optional: filter on a disease\n",
    "        AND LOWER(study_metadata.trait_reported) LIKE '%coeliac%'\n",
    "        \n",
    "        #remove the \"raw\" neale lab results -- I'm not sure what this is\n",
    "        AND locus2gene.study_id NOT LIKE '%raw%'\n",
    "\n",
    "        #filter to a l2g score threshold\n",
    "        AND locus2gene.y_proba_full_model > 0.2\n",
    "\n",
    "    )\n",
    "SELECT * from ranked_genes\n",
    "'''\n",
    "\n",
    "# Run the query\n",
    "query_job = client.query(query)\n",
    "\n",
    "l2g = query_job.to_dataframe()\n",
    "l2g"
   ]
  }
 ],
 "metadata": {
  "kernelspec": {
   "display_name": "Python 3 (ipykernel)",
   "language": "python",
   "name": "python3"
  },
  "language_info": {
   "codemirror_mode": {
    "name": "ipython",
    "version": 3
   },
   "file_extension": ".py",
   "mimetype": "text/x-python",
   "name": "python",
   "nbconvert_exporter": "python",
   "pygments_lexer": "ipython3",
   "version": "3.9.7"
  }
 },
 "nbformat": 4,
 "nbformat_minor": 5
}
