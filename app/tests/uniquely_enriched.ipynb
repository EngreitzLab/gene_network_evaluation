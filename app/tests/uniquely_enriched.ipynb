{
 "cells": [
  {
   "cell_type": "code",
   "execution_count": 1,
   "metadata": {},
   "outputs": [
    {
     "name": "stdout",
     "output_type": "stream",
     "text": [
      "The history saving thread hit an unexpected error (DatabaseError('database disk image is malformed')).History will not be written to the database.\n"
     ]
    }
   ],
   "source": [
    "import pandas as pd\n",
    "import numpy as np"
   ]
  },
  {
   "cell_type": "code",
   "execution_count": 11,
   "metadata": {},
   "outputs": [],
   "source": [
    "def count(categorical_var, count_var, dataframe):\n",
    "    counts_df = dataframe.value_counts([categorical_var, count_var])\n",
    "    counts_df = counts_df.groupby(categorical_var).sum()\n",
    "    counts_df = counts_df.sort_values(ascending=False)\n",
    "    counts_df = pd.DataFrame(counts_df.reset_index().values,\n",
    "                             columns=[categorical_var, count_var])\n",
    "    return counts_df\n",
    "\n",
    "\n",
    "def count_unique(categorical_var, count_var, dataframe, cummul=False, unique=False):\n",
    "    counts_df = count(categorical_var, count_var, dataframe)\n",
    "    new_df = []\n",
    "    terms = []\n",
    "    for prog in counts_df[categorical_var].unique():\n",
    "        terms_ = dataframe.loc[dataframe[categorical_var] == prog, count_var].unique()\n",
    "        unique_terms = [term for term in terms_ if term not in terms]\n",
    "        terms.extend(unique_terms)\n",
    "        new_df.append([prog, len(unique_terms)])\n",
    "    new_df = pd.DataFrame(new_df, columns=[categorical_var, count_var])\n",
    "    if cummul:\n",
    "        new_df[count_var] = new_df[count_var].cumsum()\n",
    "    if unique:\n",
    "        return new_df\n",
    "    else:\n",
    "        return counts_df"
   ]
  },
  {
   "cell_type": "markdown",
   "metadata": {},
   "source": [
    "# Data"
   ]
  },
  {
   "cell_type": "markdown",
   "metadata": {},
   "source": [
    "| program | geneset | p-value | adjusted p-value |\n",
    "|---------|---------|---------|------------------|\n",
    "| program1 | genesetA | 0.01 | 0.01 |\n",
    "| program1 | genesetA | 0.02 | 0.02 |\n",
    "| program2 | genesetA | 0.03 | 0.03 |\n",
    "| program2 | genesetA | 0.04 | 0.04 |\n",
    "| program3 | genesetB | 0.05 | 0.05 |\n"
   ]
  },
  {
   "cell_type": "code",
   "execution_count": 16,
   "metadata": {},
   "outputs": [
    {
     "data": {
      "text/html": [
       "<div>\n",
       "<style scoped>\n",
       "    .dataframe tbody tr th:only-of-type {\n",
       "        vertical-align: middle;\n",
       "    }\n",
       "\n",
       "    .dataframe tbody tr th {\n",
       "        vertical-align: top;\n",
       "    }\n",
       "\n",
       "    .dataframe thead th {\n",
       "        text-align: right;\n",
       "    }\n",
       "</style>\n",
       "<table border=\"1\" class=\"dataframe\">\n",
       "  <thead>\n",
       "    <tr style=\"text-align: right;\">\n",
       "      <th></th>\n",
       "      <th>program</th>\n",
       "      <th>geneset</th>\n",
       "      <th>p-value</th>\n",
       "      <th>adjusted p-value</th>\n",
       "    </tr>\n",
       "  </thead>\n",
       "  <tbody>\n",
       "    <tr>\n",
       "      <th>0</th>\n",
       "      <td>program1</td>\n",
       "      <td>genesetA</td>\n",
       "      <td>0.01</td>\n",
       "      <td>0.01</td>\n",
       "    </tr>\n",
       "    <tr>\n",
       "      <th>1</th>\n",
       "      <td>program1</td>\n",
       "      <td>genesetA</td>\n",
       "      <td>0.02</td>\n",
       "      <td>0.02</td>\n",
       "    </tr>\n",
       "    <tr>\n",
       "      <th>2</th>\n",
       "      <td>program2</td>\n",
       "      <td>genesetA</td>\n",
       "      <td>0.03</td>\n",
       "      <td>0.03</td>\n",
       "    </tr>\n",
       "    <tr>\n",
       "      <th>3</th>\n",
       "      <td>program2</td>\n",
       "      <td>genesetA</td>\n",
       "      <td>0.04</td>\n",
       "      <td>0.04</td>\n",
       "    </tr>\n",
       "    <tr>\n",
       "      <th>4</th>\n",
       "      <td>program3</td>\n",
       "      <td>genesetB</td>\n",
       "      <td>0.05</td>\n",
       "      <td>0.05</td>\n",
       "    </tr>\n",
       "  </tbody>\n",
       "</table>\n",
       "</div>"
      ],
      "text/plain": [
       "    program   geneset  p-value  adjusted p-value\n",
       "0  program1  genesetA     0.01              0.01\n",
       "1  program1  genesetA     0.02              0.02\n",
       "2  program2  genesetA     0.03              0.03\n",
       "3  program2  genesetA     0.04              0.04\n",
       "4  program3  genesetB     0.05              0.05"
      ]
     },
     "execution_count": 16,
     "metadata": {},
     "output_type": "execute_result"
    }
   ],
   "source": [
    "# Now take the above markdown and convert it to code\n",
    "data = pd.DataFrame({\n",
    "    'program': ['program1', 'program1', 'program2', 'program2', 'program3'],\n",
    "    'geneset': ['genesetA', 'genesetA', 'genesetA', 'genesetA', 'genesetB'],\n",
    "    'p-value': [0.01, 0.02, 0.03, 0.04, 0.05],\n",
    "    'adjusted p-value': [0.01, 0.02, 0.03, 0.04, 0.05]\n",
    "})\n",
    "sig_var = 'adjusted p-value'\n",
    "count_var = 'geneset'\n",
    "categorical_var = 'program'\n",
    "data"
   ]
  },
  {
   "cell_type": "markdown",
   "metadata": {},
   "source": [
    "# 1. All enriched terms\n",
    "Count everything, including terms enriched multiple times in the same program and terms enriched in multiple programs.\n",
    "\n",
    "```python\n",
    "count(categorical_var=categorical_var, count_var=count_var, dataframe=unique_data)\n",
    "```\n",
    "| program | geneset |\n",
    "|---------|---------|\n",
    "| program1 | 2 |\n",
    "| program2 | 2 |\n",
    "| program3 | 1 |"
   ]
  },
  {
   "cell_type": "code",
   "execution_count": 13,
   "metadata": {},
   "outputs": [
    {
     "data": {
      "text/html": [
       "<div>\n",
       "<style scoped>\n",
       "    .dataframe tbody tr th:only-of-type {\n",
       "        vertical-align: middle;\n",
       "    }\n",
       "\n",
       "    .dataframe tbody tr th {\n",
       "        vertical-align: top;\n",
       "    }\n",
       "\n",
       "    .dataframe thead th {\n",
       "        text-align: right;\n",
       "    }\n",
       "</style>\n",
       "<table border=\"1\" class=\"dataframe\">\n",
       "  <thead>\n",
       "    <tr style=\"text-align: right;\">\n",
       "      <th></th>\n",
       "      <th>program</th>\n",
       "      <th>geneset</th>\n",
       "    </tr>\n",
       "  </thead>\n",
       "  <tbody>\n",
       "    <tr>\n",
       "      <th>0</th>\n",
       "      <td>program1</td>\n",
       "      <td>2</td>\n",
       "    </tr>\n",
       "    <tr>\n",
       "      <th>1</th>\n",
       "      <td>program2</td>\n",
       "      <td>2</td>\n",
       "    </tr>\n",
       "    <tr>\n",
       "      <th>2</th>\n",
       "      <td>program3</td>\n",
       "      <td>1</td>\n",
       "    </tr>\n",
       "  </tbody>\n",
       "</table>\n",
       "</div>"
      ],
      "text/plain": [
       "    program geneset\n",
       "0  program1       2\n",
       "1  program2       2\n",
       "2  program3       1"
      ]
     },
     "execution_count": 13,
     "metadata": {},
     "output_type": "execute_result"
    }
   ],
   "source": [
    "count(categorical_var, count_var, data)"
   ]
  },
  {
   "cell_type": "markdown",
   "metadata": {},
   "source": [
    "# 2. Unique within a program, but can be repeated across programs. \n",
    "i.e if `program1` and `program2` are both enriched for `genesetA` we count it for both programs\n",
    "    \n",
    "```python\n",
    "unique_data = data.drop_duplicates(subset=[categorical_var, count_var])\n",
    "count(categorical_var=categorical_var, count_var=count_var, dataframe=unique_data)\n",
    "```\n",
    "| program | geneset |\n",
    "|---------|---------|\n",
    "| program1 | 1 |\n",
    "| program2 | 1 |\n",
    "| program3 | 1 |"
   ]
  },
  {
   "cell_type": "code",
   "execution_count": 19,
   "metadata": {},
   "outputs": [
    {
     "data": {
      "text/html": [
       "<div>\n",
       "<style scoped>\n",
       "    .dataframe tbody tr th:only-of-type {\n",
       "        vertical-align: middle;\n",
       "    }\n",
       "\n",
       "    .dataframe tbody tr th {\n",
       "        vertical-align: top;\n",
       "    }\n",
       "\n",
       "    .dataframe thead th {\n",
       "        text-align: right;\n",
       "    }\n",
       "</style>\n",
       "<table border=\"1\" class=\"dataframe\">\n",
       "  <thead>\n",
       "    <tr style=\"text-align: right;\">\n",
       "      <th></th>\n",
       "      <th>program</th>\n",
       "      <th>geneset</th>\n",
       "    </tr>\n",
       "  </thead>\n",
       "  <tbody>\n",
       "    <tr>\n",
       "      <th>0</th>\n",
       "      <td>program1</td>\n",
       "      <td>1</td>\n",
       "    </tr>\n",
       "    <tr>\n",
       "      <th>1</th>\n",
       "      <td>program2</td>\n",
       "      <td>1</td>\n",
       "    </tr>\n",
       "    <tr>\n",
       "      <th>2</th>\n",
       "      <td>program3</td>\n",
       "      <td>1</td>\n",
       "    </tr>\n",
       "  </tbody>\n",
       "</table>\n",
       "</div>"
      ],
      "text/plain": [
       "    program geneset\n",
       "0  program1       1\n",
       "1  program2       1\n",
       "2  program3       1"
      ]
     },
     "execution_count": 19,
     "metadata": {},
     "output_type": "execute_result"
    }
   ],
   "source": [
    "unique_data = data.drop_duplicates(subset=[categorical_var, count_var])\n",
    "count(categorical_var=categorical_var, count_var=count_var, dataframe=unique_data)"
   ]
  },
  {
   "cell_type": "markdown",
   "metadata": {},
   "source": [
    "# 3. Unique across all programs. \n",
    "i.e. if `program1` and `program2` are both enriched for `genesetA`, but `program1` has a much lower adjusted p-value, we only count `genesetA` for program1\n",
    "\n",
    "```python\n",
    "unique_data = data.sort_values(by=sig_var)\n",
    "unique_data = unique_data.drop_duplicates(subset=count_var)\n",
    "unique_df = count_unique(categorical_var=categorical_var, count_var=count_var, dataframe=unique_data)\n",
    "unique_df = unique_df.sort_values(count_var, ascending=False)\n",
    "```\n",
    "\n",
    "| program | geneset |\n",
    "|---------|---------|\n",
    "| program1 | 1 |\n",
    "| program3 | 1 |"
   ]
  },
  {
   "cell_type": "code",
   "execution_count": 21,
   "metadata": {},
   "outputs": [
    {
     "data": {
      "text/html": [
       "<div>\n",
       "<style scoped>\n",
       "    .dataframe tbody tr th:only-of-type {\n",
       "        vertical-align: middle;\n",
       "    }\n",
       "\n",
       "    .dataframe tbody tr th {\n",
       "        vertical-align: top;\n",
       "    }\n",
       "\n",
       "    .dataframe thead th {\n",
       "        text-align: right;\n",
       "    }\n",
       "</style>\n",
       "<table border=\"1\" class=\"dataframe\">\n",
       "  <thead>\n",
       "    <tr style=\"text-align: right;\">\n",
       "      <th></th>\n",
       "      <th>program</th>\n",
       "      <th>geneset</th>\n",
       "    </tr>\n",
       "  </thead>\n",
       "  <tbody>\n",
       "    <tr>\n",
       "      <th>0</th>\n",
       "      <td>program1</td>\n",
       "      <td>1</td>\n",
       "    </tr>\n",
       "    <tr>\n",
       "      <th>1</th>\n",
       "      <td>program3</td>\n",
       "      <td>1</td>\n",
       "    </tr>\n",
       "  </tbody>\n",
       "</table>\n",
       "</div>"
      ],
      "text/plain": [
       "    program geneset\n",
       "0  program1       1\n",
       "1  program3       1"
      ]
     },
     "execution_count": 21,
     "metadata": {},
     "output_type": "execute_result"
    }
   ],
   "source": [
    "unique_data = data.drop_duplicates()\n",
    "unique_data = data.sort_values(by=sig_var)\n",
    "unique_data = unique_data.drop_duplicates(subset=count_var)\n",
    "unique_df = count_unique(categorical_var=categorical_var, count_var=count_var, dataframe=unique_data)\n",
    "unique_df = unique_df.sort_values(count_var, ascending=False)\n",
    "unique_df"
   ]
  },
  {
   "cell_type": "markdown",
   "metadata": {},
   "source": [
    "# Unique "
   ]
  }
 ],
 "metadata": {
  "kernelspec": {
   "display_name": "Python 3.10 test_celloracle",
   "language": "python",
   "name": "test_scenicplus-py310"
  },
  "language_info": {
   "codemirror_mode": {
    "name": "ipython",
    "version": 3
   },
   "file_extension": ".py",
   "mimetype": "text/x-python",
   "name": "python",
   "nbconvert_exporter": "python",
   "pygments_lexer": "ipython3",
   "version": "3.10.8"
  }
 },
 "nbformat": 4,
 "nbformat_minor": 2
}
