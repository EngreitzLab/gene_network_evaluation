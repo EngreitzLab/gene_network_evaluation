{
 "cells": [
  {
   "cell_type": "markdown",
   "metadata": {},
   "source": [
    "# `app.py`"
   ]
  },
  {
   "cell_type": "code",
   "execution_count": 84,
   "metadata": {},
   "outputs": [
    {
     "name": "stdout",
     "output_type": "stream",
     "text": [
      "path_evaluation_outs: ['/cellar/users/aklie/opt/gene_program_evaluation/examples/evaluation/iPSC_EC/cNMF/cNMF_30']\n",
      "path_evaluation_config: /cellar/users/aklie/opt/gene_program_evaluation/examples/evaluation/iPSC_EC/cNMF/cNMF_30/evaluation_pipeline.yml\n",
      "path_mdata: /cellar/users/aklie/opt/gene_program_evaluation/examples/evaluation/iPSC_EC/cNMF/cNMF_30/cNMF_30.h5mu\n",
      "path_report_out: /cellar/users/aklie/opt/gene_program_evaluation/examples/report/iPSC_EC/cNMF/cNMF_30\n",
      "prog_keys: ['cNMF_30']\n",
      "data_key: rna\n",
      "categorical_keys: ['sample', 'leiden']\n",
      "continuous_keys: ['n_counts']\n",
      "annotations_loc: annotations.csv\n"
     ]
    },
    {
     "name": "stderr",
     "output_type": "stream",
     "text": [
      "/cellar/users/aklie/opt/miniconda3/envs/test_celloracle/lib/python3.10/site-packages/anndata/_core/anndata.py:522: FutureWarning:\n",
      "\n",
      "The dtype argument is deprecated and will be removed in late 2024.\n",
      "\n",
      "/cellar/users/aklie/opt/miniconda3/envs/test_celloracle/lib/python3.10/site-packages/anndata/_core/anndata.py:522: FutureWarning:\n",
      "\n",
      "The dtype argument is deprecated and will be removed in late 2024.\n",
      "\n",
      "/cellar/users/aklie/opt/miniconda3/envs/test_celloracle/lib/python3.10/site-packages/anndata/_core/anndata.py:1899: UserWarning:\n",
      "\n",
      "Variable names are not unique. To make them unique, call `.var_names_make_unique`.\n",
      "\n",
      "/cellar/users/aklie/opt/miniconda3/envs/test_celloracle/lib/python3.10/site-packages/mudata/_core/mudata.py:479: UserWarning:\n",
      "\n",
      "var_names are not unique. To make them unique, call `.var_names_make_unique`.\n",
      "\n"
     ]
    },
    {
     "name": "stdout",
     "output_type": "stream",
     "text": [
      "Gene/guide: gene, Stratification key: sample, Level key: sample_D1\n",
      "Gene/guide: gene, Stratification key: sample, Level key: sample_D2\n",
      "Gene/guide: gene, Stratification key: sample, Level key: D0\n",
      "Gene/guide: gene, Stratification key: sample, Level key: sample_D3\n",
      "Library: Reactome_2022, Method: fisher\n",
      "Library: GO_Biological_Process_2023, Method: fisher\n",
      "Database: OT_GWAS, Method: fisher\n",
      "E_P_type: enhancer, Database: test, Test type: pearsonr, Stratification key: sample, Level key: sample_D2\n",
      "E_P_type: enhancer, Database: test, Test type: pearsonr, Stratification key: sample, Level key: sample_D3\n",
      "E_P_type: enhancer, Database: test, Test type: pearsonr, Stratification key: sample, Level key: D0\n",
      "E_P_type: enhancer, Database: test, Test type: pearsonr, Stratification key: sample, Level key: sample_D1\n"
     ]
    }
   ],
   "source": [
    "import os\n",
    "import sys\n",
    "import collections\n",
    "import pandas as pd\n",
    "import mudata\n",
    "\n",
    "sys.path.append(\"/cellar/users/aklie/opt/gene_program_evaluation/app\")\n",
    "from utils import load_config\n",
    "from parse import parse\n",
    "from plot import heatmap, scatterplot\n",
    "\n",
    "def load_and_parse_data(\n",
    "        path_mdata,\n",
    "        path_evaluation_outs,\n",
    "        data_key=\"rna\",\n",
    "        perturbation_association_stratification_key=None,\n",
    "        motif_enrichment_stratification_key=None,\n",
    "    ):\n",
    "        try:\n",
    "            # Load mdata\n",
    "            mdata = mudata.read_h5mu(path_mdata)\n",
    "            mdata.mod = collections.OrderedDict(sorted(mdata.mod.items()))\n",
    "            \n",
    "            # Parse data\n",
    "            results = parse(\n",
    "                mdata, \n",
    "                path_evaluation_outs, \n",
    "                data_key,\n",
    "                perturbation_association_stratification_key=perturbation_association_stratification_key,\n",
    "                motif_enrichment_stratification_key=motif_enrichment_stratification_key,\n",
    "            )\n",
    "            \n",
    "            # Add obs data from data_key\n",
    "            obs = mdata[data_key].obs.reset_index()\n",
    "            obs.columns = [\"barcode\"] + list(obs.columns[1:])\n",
    "            results[\"obs\"] = obs\n",
    "            \n",
    "            # Add obsm data\n",
    "            obsms = {}\n",
    "            for obsm_key in mdata[data_key].obsm:\n",
    "                cols = [f\"{obsm_key}_{i}\" for i in range(2)]\n",
    "                rows = mdata[data_key].obs_names\n",
    "                df = pd.DataFrame(mdata[data_key].obsm[obsm_key][:, :2], columns=cols, index=rows)\n",
    "                obsms[obsm_key] = df\n",
    "            results[\"obsms\"] = obsms\n",
    "\n",
    "            # Return results\n",
    "            return results\n",
    "\n",
    "        except Exception as e:\n",
    "            print(f\"Could not load mdata: {e}\")\n",
    "            sys.exit(1)\n",
    "\n",
    "path_config = \"/cellar/users/aklie/opt/gene_program_evaluation/examples/report/iPSC_EC/cNMF/cNMF_30/report.yaml\"\n",
    "config = load_config(path_config)\n",
    "\n",
    "# Parse config for paths\n",
    "path_evaluation_outs = config[\"path_evaluation_outs\"]\n",
    "path_mdata = config[\"path_mdata\"]\n",
    "path_evaluation_config = config[\"path_evaluation_config\"]\n",
    "path_report_out = config[\"path_report_out\"]\n",
    "\n",
    "# Parse config for other parameters\n",
    "data_key = config[\"data_key\"]\n",
    "categorical_keys = config[\"categorical_keys\"] if config[\"categorical_keys\"] else []\n",
    "continuous_keys = config[\"continuous_keys\"] if config[\"continuous_keys\"] else []\n",
    "annotations_loc = config[\"annotations_loc\"]\n",
    "\n",
    "# Load evaluation config\n",
    "evaluation_config = load_config(path_evaluation_config)\n",
    "perturbation_association_stratification_key = evaluation_config[\"perturbation_association\"][\"groupby_key\"]\n",
    "motif_enrichment_stratification_key = evaluation_config[\"motif_enrichment\"][\"groupby_key\"]\n",
    "\n",
    "# Log configuration\n",
    "for key, value in config.items():\n",
    "    print(f\"{key}: {value}\")\n",
    "\n",
    "# Load and parse data\n",
    "results = load_and_parse_data(\n",
    "    path_mdata=path_mdata,\n",
    "    path_evaluation_outs=path_evaluation_outs,\n",
    "    data_key=data_key,\n",
    "    perturbation_association_stratification_key=perturbation_association_stratification_key,\n",
    "    motif_enrichment_stratification_key=motif_enrichment_stratification_key,\n",
    ")\n",
    "\n",
    "# Add in path_report_out to results\n",
    "results['path_evaluation_outs'] = path_evaluation_outs\n",
    "results['path_mdata'] = path_mdata\n",
    "results['evaluation_config'] = evaluation_config\n",
    "results['path_report_out'] = path_report_out\n",
    "results['data_key'] = data_key\n",
    "results['categorical_keys'] = categorical_keys\n",
    "results['continuous_keys'] = continuous_keys\n",
    "results['annotations_loc'] = annotations_loc\n",
    "results['perturbation_association_stratification_key'] = perturbation_association_stratification_key\n",
    "results['motif_enrichment_stratification_key'] = motif_enrichment_stratification_key"
   ]
  },
  {
   "cell_type": "markdown",
   "metadata": {},
   "source": [
    "# Covariate association"
   ]
  },
  {
   "cell_type": "markdown",
   "metadata": {},
   "source": [
    "## Program-covariate heatmap"
   ]
  },
  {
   "cell_type": "code",
   "execution_count": 85,
   "metadata": {},
   "outputs": [],
   "source": [
    "categorical_association_posthoc = results[\"categorical_associations_posthoc\"][config[\"prog_keys\"][0]][categorical_keys[0]]"
   ]
  },
  {
   "cell_type": "code",
   "execution_count": 95,
   "metadata": {},
   "outputs": [],
   "source": [
    "# Grab columns with stat in it\n",
    "categorical_association_posthoc_stat = categorical_association_posthoc.filter(like=\"stat\")\n",
    "new_cols = categorical_association_posthoc_stat.columns.str.split(f\"{categorical_keys[0]}_\", n=1).str[1].str.rstrip(\"_stat\").str.rsplit('_', n=1).str[0]\n",
    "method = categorical_association_posthoc_stat.columns.str.split(f\"{categorical_keys[0]}_\", n=1).str[1].str.rstrip(\"_stat\").str.rsplit('_', n=1).str[1].unique()[0]\n",
    "categorical_association_posthoc_stat.columns = new_cols\n",
    "categorical_association_posthoc_stat.index = categorical_association_posthoc[\"program_name\"].astype(str).values\n",
    "plot_data = categorical_association_posthoc_stat.T"
   ]
  },
  {
   "cell_type": "code",
   "execution_count": 96,
   "metadata": {},
   "outputs": [
    {
     "data": {
      "application/vnd.plotly.v1+json": {
       "config": {
        "plotlyServerURL": "https://plot.ly"
       },
       "data": [
        {
         "colorbar": {
          "title": {
           "text": "pearsonr"
          }
         },
         "colorscale": [
          [
           0,
           "rgb(5,48,97)"
          ],
          [
           0.1,
           "rgb(33,102,172)"
          ],
          [
           0.2,
           "rgb(67,147,195)"
          ],
          [
           0.3,
           "rgb(146,197,222)"
          ],
          [
           0.4,
           "rgb(209,229,240)"
          ],
          [
           0.5,
           "rgb(247,247,247)"
          ],
          [
           0.6,
           "rgb(253,219,199)"
          ],
          [
           0.7,
           "rgb(244,165,130)"
          ],
          [
           0.8,
           "rgb(214,96,77)"
          ],
          [
           0.9,
           "rgb(178,24,43)"
          ],
          [
           1,
           "rgb(103,0,31)"
          ]
         ],
         "hoverongaps": false,
         "hovertemplate": "<b>sample: %{y}</b><br><b>Program: %{x}</b><br><b>pearsonr: %{z}</b>",
         "type": "heatmap",
         "x": [
          "0",
          "1",
          "2",
          "3",
          "4",
          "5",
          "6",
          "7",
          "8",
          "9",
          "10",
          "11",
          "12",
          "13",
          "14",
          "15",
          "16",
          "17",
          "18",
          "19",
          "20",
          "21",
          "22",
          "23",
          "24",
          "25",
          "26",
          "27",
          "28",
          "29"
         ],
         "y": [
          "D0",
          "sample_D1",
          "sample_D2",
          "sample_D3"
         ],
         "z": [
          [
           0.8701694115659975,
           -0.4580065025595961,
           0.3252602082086615,
           0.3405530940027005,
           0.4519077602958159,
           -0.3884571697153673,
           0.261421600051011,
           0.6228927506871792,
           0.3421304786541317,
           -0.4098224693763243,
           -0.3757724415350288,
           -0.2938729059213534,
           -0.2572831548260956,
           -0.3507816804363204,
           -0.2765830986897373,
           0.1648092652650465,
           -0.2831912346052081,
           -0.281111949221731,
           0.2355744516066834,
           -0.2491477425693154,
           -0.2562391539011954,
           -0.2333456044521369,
           -0.2825509652288361,
           0.2001424359191525,
           -0.2215276964051189,
           -0.2333974217889532,
           -0.2345465662070026,
           -0.2356157358132021,
           -0.1610404488909226,
           -0.1826544982190029
          ],
          [
           -0.4124546494072163,
           -0.2707763621646443,
           0.0724077520564609,
           0.1255537649062408,
           0.0316833033098996,
           0.840548760022769,
           0.186126245180326,
           -0.2521808097226654,
           0.102099930964479,
           -0.2528575196608909,
           -0.2194097769648281,
           -0.1648716998070299,
           -0.1633468392236899,
           -0.2212916185731626,
           -0.1684096180453173,
           0.0361723767299284,
           0.6586107661304458,
           -0.1795678372902665,
           0.0953814920695293,
           -0.1413256206371343,
           -0.1120242911081886,
           -0.1405202106687017,
           0.5896496014553857,
           -0.0777606649023194,
           -0.1318807826666366,
           -0.1125580395751362,
           -0.1214099294786759,
           -0.1292236042349008,
           -0.0843643598481385,
           -0.1025090367685647
          ],
          [
           -0.3457996033656205,
           -0.2551530885403581,
           -0.0731267912541558,
           -0.1305462015251404,
           -0.2292506168133734,
           -0.2379958352383878,
           -0.1517444704524563,
           -0.2458481753749557,
           -0.1491524609256621,
           -0.224407712992333,
           -0.2041682090171682,
           0.6731342403180882,
           0.5127466584045531,
           -0.1878562228399314,
           0.6369163778765285,
           -0.001198392528333,
           -0.1764261795984811,
           0.669820827059608,
           -0.1007343740373438,
           -0.0173038046859028,
           0.5111672179724097,
           -0.1094481910191011,
           -0.0824602656578038,
           -0.0925061495238526,
           -0.0904305947921589,
           -0.049485356046616,
           0.5264240720567882,
           -0.0569956624761863,
           -0.0700236970668481,
           -0.0025546407698575
          ],
          [
           -0.5129792736253498,
           0.732121637466917,
           -0.3542133245026343,
           -0.3720037706216355,
           -0.3658067287329951,
           -0.3431074125498612,
           -0.3521608797047418,
           -0.3771414397139045,
           -0.3400501136635083,
           0.6661624009990673,
           0.6056907987956265,
           -0.208987123071376,
           -0.076790317772019,
           0.5795817583932475,
           -0.212537597365635,
           -0.2328365053290154,
           -0.2873425765423721,
           -0.2507986120007797,
           -0.2698742568545855,
           0.3531728919843627,
           -0.1376333123072132,
           0.4058386571522245,
           -0.252954243058647,
           -0.0845617493208907,
           0.3654535641842185,
           0.3491554349492543,
           -0.1400862808957887,
           0.3665186793376253,
           0.2823876840240739,
           0.2582254315858623
          ]
         ],
         "zmax": 1,
         "zmid": 0,
         "zmin": -1
        }
       ],
       "layout": {
        "hoverlabel": {
         "bgcolor": "white",
         "font": {
          "size": 16
         }
        },
        "plot_bgcolor": "rgba(0,0,0,0)",
        "template": {
         "data": {
          "bar": [
           {
            "error_x": {
             "color": "#2a3f5f"
            },
            "error_y": {
             "color": "#2a3f5f"
            },
            "marker": {
             "line": {
              "color": "#E5ECF6",
              "width": 0.5
             },
             "pattern": {
              "fillmode": "overlay",
              "size": 10,
              "solidity": 0.2
             }
            },
            "type": "bar"
           }
          ],
          "barpolar": [
           {
            "marker": {
             "line": {
              "color": "#E5ECF6",
              "width": 0.5
             },
             "pattern": {
              "fillmode": "overlay",
              "size": 10,
              "solidity": 0.2
             }
            },
            "type": "barpolar"
           }
          ],
          "carpet": [
           {
            "aaxis": {
             "endlinecolor": "#2a3f5f",
             "gridcolor": "white",
             "linecolor": "white",
             "minorgridcolor": "white",
             "startlinecolor": "#2a3f5f"
            },
            "baxis": {
             "endlinecolor": "#2a3f5f",
             "gridcolor": "white",
             "linecolor": "white",
             "minorgridcolor": "white",
             "startlinecolor": "#2a3f5f"
            },
            "type": "carpet"
           }
          ],
          "choropleth": [
           {
            "colorbar": {
             "outlinewidth": 0,
             "ticks": ""
            },
            "type": "choropleth"
           }
          ],
          "contour": [
           {
            "colorbar": {
             "outlinewidth": 0,
             "ticks": ""
            },
            "colorscale": [
             [
              0,
              "#0d0887"
             ],
             [
              0.1111111111111111,
              "#46039f"
             ],
             [
              0.2222222222222222,
              "#7201a8"
             ],
             [
              0.3333333333333333,
              "#9c179e"
             ],
             [
              0.4444444444444444,
              "#bd3786"
             ],
             [
              0.5555555555555556,
              "#d8576b"
             ],
             [
              0.6666666666666666,
              "#ed7953"
             ],
             [
              0.7777777777777778,
              "#fb9f3a"
             ],
             [
              0.8888888888888888,
              "#fdca26"
             ],
             [
              1,
              "#f0f921"
             ]
            ],
            "type": "contour"
           }
          ],
          "contourcarpet": [
           {
            "colorbar": {
             "outlinewidth": 0,
             "ticks": ""
            },
            "type": "contourcarpet"
           }
          ],
          "heatmap": [
           {
            "colorbar": {
             "outlinewidth": 0,
             "ticks": ""
            },
            "colorscale": [
             [
              0,
              "#0d0887"
             ],
             [
              0.1111111111111111,
              "#46039f"
             ],
             [
              0.2222222222222222,
              "#7201a8"
             ],
             [
              0.3333333333333333,
              "#9c179e"
             ],
             [
              0.4444444444444444,
              "#bd3786"
             ],
             [
              0.5555555555555556,
              "#d8576b"
             ],
             [
              0.6666666666666666,
              "#ed7953"
             ],
             [
              0.7777777777777778,
              "#fb9f3a"
             ],
             [
              0.8888888888888888,
              "#fdca26"
             ],
             [
              1,
              "#f0f921"
             ]
            ],
            "type": "heatmap"
           }
          ],
          "heatmapgl": [
           {
            "colorbar": {
             "outlinewidth": 0,
             "ticks": ""
            },
            "colorscale": [
             [
              0,
              "#0d0887"
             ],
             [
              0.1111111111111111,
              "#46039f"
             ],
             [
              0.2222222222222222,
              "#7201a8"
             ],
             [
              0.3333333333333333,
              "#9c179e"
             ],
             [
              0.4444444444444444,
              "#bd3786"
             ],
             [
              0.5555555555555556,
              "#d8576b"
             ],
             [
              0.6666666666666666,
              "#ed7953"
             ],
             [
              0.7777777777777778,
              "#fb9f3a"
             ],
             [
              0.8888888888888888,
              "#fdca26"
             ],
             [
              1,
              "#f0f921"
             ]
            ],
            "type": "heatmapgl"
           }
          ],
          "histogram": [
           {
            "marker": {
             "pattern": {
              "fillmode": "overlay",
              "size": 10,
              "solidity": 0.2
             }
            },
            "type": "histogram"
           }
          ],
          "histogram2d": [
           {
            "colorbar": {
             "outlinewidth": 0,
             "ticks": ""
            },
            "colorscale": [
             [
              0,
              "#0d0887"
             ],
             [
              0.1111111111111111,
              "#46039f"
             ],
             [
              0.2222222222222222,
              "#7201a8"
             ],
             [
              0.3333333333333333,
              "#9c179e"
             ],
             [
              0.4444444444444444,
              "#bd3786"
             ],
             [
              0.5555555555555556,
              "#d8576b"
             ],
             [
              0.6666666666666666,
              "#ed7953"
             ],
             [
              0.7777777777777778,
              "#fb9f3a"
             ],
             [
              0.8888888888888888,
              "#fdca26"
             ],
             [
              1,
              "#f0f921"
             ]
            ],
            "type": "histogram2d"
           }
          ],
          "histogram2dcontour": [
           {
            "colorbar": {
             "outlinewidth": 0,
             "ticks": ""
            },
            "colorscale": [
             [
              0,
              "#0d0887"
             ],
             [
              0.1111111111111111,
              "#46039f"
             ],
             [
              0.2222222222222222,
              "#7201a8"
             ],
             [
              0.3333333333333333,
              "#9c179e"
             ],
             [
              0.4444444444444444,
              "#bd3786"
             ],
             [
              0.5555555555555556,
              "#d8576b"
             ],
             [
              0.6666666666666666,
              "#ed7953"
             ],
             [
              0.7777777777777778,
              "#fb9f3a"
             ],
             [
              0.8888888888888888,
              "#fdca26"
             ],
             [
              1,
              "#f0f921"
             ]
            ],
            "type": "histogram2dcontour"
           }
          ],
          "mesh3d": [
           {
            "colorbar": {
             "outlinewidth": 0,
             "ticks": ""
            },
            "type": "mesh3d"
           }
          ],
          "parcoords": [
           {
            "line": {
             "colorbar": {
              "outlinewidth": 0,
              "ticks": ""
             }
            },
            "type": "parcoords"
           }
          ],
          "pie": [
           {
            "automargin": true,
            "type": "pie"
           }
          ],
          "scatter": [
           {
            "fillpattern": {
             "fillmode": "overlay",
             "size": 10,
             "solidity": 0.2
            },
            "type": "scatter"
           }
          ],
          "scatter3d": [
           {
            "line": {
             "colorbar": {
              "outlinewidth": 0,
              "ticks": ""
             }
            },
            "marker": {
             "colorbar": {
              "outlinewidth": 0,
              "ticks": ""
             }
            },
            "type": "scatter3d"
           }
          ],
          "scattercarpet": [
           {
            "marker": {
             "colorbar": {
              "outlinewidth": 0,
              "ticks": ""
             }
            },
            "type": "scattercarpet"
           }
          ],
          "scattergeo": [
           {
            "marker": {
             "colorbar": {
              "outlinewidth": 0,
              "ticks": ""
             }
            },
            "type": "scattergeo"
           }
          ],
          "scattergl": [
           {
            "marker": {
             "colorbar": {
              "outlinewidth": 0,
              "ticks": ""
             }
            },
            "type": "scattergl"
           }
          ],
          "scattermapbox": [
           {
            "marker": {
             "colorbar": {
              "outlinewidth": 0,
              "ticks": ""
             }
            },
            "type": "scattermapbox"
           }
          ],
          "scatterpolar": [
           {
            "marker": {
             "colorbar": {
              "outlinewidth": 0,
              "ticks": ""
             }
            },
            "type": "scatterpolar"
           }
          ],
          "scatterpolargl": [
           {
            "marker": {
             "colorbar": {
              "outlinewidth": 0,
              "ticks": ""
             }
            },
            "type": "scatterpolargl"
           }
          ],
          "scatterternary": [
           {
            "marker": {
             "colorbar": {
              "outlinewidth": 0,
              "ticks": ""
             }
            },
            "type": "scatterternary"
           }
          ],
          "surface": [
           {
            "colorbar": {
             "outlinewidth": 0,
             "ticks": ""
            },
            "colorscale": [
             [
              0,
              "#0d0887"
             ],
             [
              0.1111111111111111,
              "#46039f"
             ],
             [
              0.2222222222222222,
              "#7201a8"
             ],
             [
              0.3333333333333333,
              "#9c179e"
             ],
             [
              0.4444444444444444,
              "#bd3786"
             ],
             [
              0.5555555555555556,
              "#d8576b"
             ],
             [
              0.6666666666666666,
              "#ed7953"
             ],
             [
              0.7777777777777778,
              "#fb9f3a"
             ],
             [
              0.8888888888888888,
              "#fdca26"
             ],
             [
              1,
              "#f0f921"
             ]
            ],
            "type": "surface"
           }
          ],
          "table": [
           {
            "cells": {
             "fill": {
              "color": "#EBF0F8"
             },
             "line": {
              "color": "white"
             }
            },
            "header": {
             "fill": {
              "color": "#C8D4E3"
             },
             "line": {
              "color": "white"
             }
            },
            "type": "table"
           }
          ]
         },
         "layout": {
          "annotationdefaults": {
           "arrowcolor": "#2a3f5f",
           "arrowhead": 0,
           "arrowwidth": 1
          },
          "autotypenumbers": "strict",
          "coloraxis": {
           "colorbar": {
            "outlinewidth": 0,
            "ticks": ""
           }
          },
          "colorscale": {
           "diverging": [
            [
             0,
             "#8e0152"
            ],
            [
             0.1,
             "#c51b7d"
            ],
            [
             0.2,
             "#de77ae"
            ],
            [
             0.3,
             "#f1b6da"
            ],
            [
             0.4,
             "#fde0ef"
            ],
            [
             0.5,
             "#f7f7f7"
            ],
            [
             0.6,
             "#e6f5d0"
            ],
            [
             0.7,
             "#b8e186"
            ],
            [
             0.8,
             "#7fbc41"
            ],
            [
             0.9,
             "#4d9221"
            ],
            [
             1,
             "#276419"
            ]
           ],
           "sequential": [
            [
             0,
             "#0d0887"
            ],
            [
             0.1111111111111111,
             "#46039f"
            ],
            [
             0.2222222222222222,
             "#7201a8"
            ],
            [
             0.3333333333333333,
             "#9c179e"
            ],
            [
             0.4444444444444444,
             "#bd3786"
            ],
            [
             0.5555555555555556,
             "#d8576b"
            ],
            [
             0.6666666666666666,
             "#ed7953"
            ],
            [
             0.7777777777777778,
             "#fb9f3a"
            ],
            [
             0.8888888888888888,
             "#fdca26"
            ],
            [
             1,
             "#f0f921"
            ]
           ],
           "sequentialminus": [
            [
             0,
             "#0d0887"
            ],
            [
             0.1111111111111111,
             "#46039f"
            ],
            [
             0.2222222222222222,
             "#7201a8"
            ],
            [
             0.3333333333333333,
             "#9c179e"
            ],
            [
             0.4444444444444444,
             "#bd3786"
            ],
            [
             0.5555555555555556,
             "#d8576b"
            ],
            [
             0.6666666666666666,
             "#ed7953"
            ],
            [
             0.7777777777777778,
             "#fb9f3a"
            ],
            [
             0.8888888888888888,
             "#fdca26"
            ],
            [
             1,
             "#f0f921"
            ]
           ]
          },
          "colorway": [
           "#636efa",
           "#EF553B",
           "#00cc96",
           "#ab63fa",
           "#FFA15A",
           "#19d3f3",
           "#FF6692",
           "#B6E880",
           "#FF97FF",
           "#FECB52"
          ],
          "font": {
           "color": "#2a3f5f"
          },
          "geo": {
           "bgcolor": "white",
           "lakecolor": "white",
           "landcolor": "#E5ECF6",
           "showlakes": true,
           "showland": true,
           "subunitcolor": "white"
          },
          "hoverlabel": {
           "align": "left"
          },
          "hovermode": "closest",
          "mapbox": {
           "style": "light"
          },
          "paper_bgcolor": "white",
          "plot_bgcolor": "#E5ECF6",
          "polar": {
           "angularaxis": {
            "gridcolor": "white",
            "linecolor": "white",
            "ticks": ""
           },
           "bgcolor": "#E5ECF6",
           "radialaxis": {
            "gridcolor": "white",
            "linecolor": "white",
            "ticks": ""
           }
          },
          "scene": {
           "xaxis": {
            "backgroundcolor": "#E5ECF6",
            "gridcolor": "white",
            "gridwidth": 2,
            "linecolor": "white",
            "showbackground": true,
            "ticks": "",
            "zerolinecolor": "white"
           },
           "yaxis": {
            "backgroundcolor": "#E5ECF6",
            "gridcolor": "white",
            "gridwidth": 2,
            "linecolor": "white",
            "showbackground": true,
            "ticks": "",
            "zerolinecolor": "white"
           },
           "zaxis": {
            "backgroundcolor": "#E5ECF6",
            "gridcolor": "white",
            "gridwidth": 2,
            "linecolor": "white",
            "showbackground": true,
            "ticks": "",
            "zerolinecolor": "white"
           }
          },
          "shapedefaults": {
           "line": {
            "color": "#2a3f5f"
           }
          },
          "ternary": {
           "aaxis": {
            "gridcolor": "white",
            "linecolor": "white",
            "ticks": ""
           },
           "baxis": {
            "gridcolor": "white",
            "linecolor": "white",
            "ticks": ""
           },
           "bgcolor": "#E5ECF6",
           "caxis": {
            "gridcolor": "white",
            "linecolor": "white",
            "ticks": ""
           }
          },
          "title": {
           "x": 0.05
          },
          "xaxis": {
           "automargin": true,
           "gridcolor": "white",
           "linecolor": "white",
           "ticks": "",
           "title": {
            "standoff": 15
           },
           "zerolinecolor": "white",
           "zerolinewidth": 2
          },
          "yaxis": {
           "automargin": true,
           "gridcolor": "white",
           "linecolor": "white",
           "ticks": "",
           "title": {
            "standoff": 15
           },
           "zerolinecolor": "white",
           "zerolinewidth": 2
          }
         }
        },
        "title": {
         "text": ""
        },
        "xaxis": {
         "title": {
          "text": "Program"
         }
        },
        "yaxis": {
         "title": {
          "text": "sample"
         }
        }
       }
      },
      "text/html": [
       "<div>                            <div id=\"2d9afe4b-54b0-4a57-82e3-90f4457771d6\" class=\"plotly-graph-div\" style=\"height:525px; width:100%;\"></div>            <script type=\"text/javascript\">                require([\"plotly\"], function(Plotly) {                    window.PLOTLYENV=window.PLOTLYENV || {};                                    if (document.getElementById(\"2d9afe4b-54b0-4a57-82e3-90f4457771d6\")) {                    Plotly.newPlot(                        \"2d9afe4b-54b0-4a57-82e3-90f4457771d6\",                        [{\"colorbar\":{\"title\":{\"text\":\"pearsonr\"}},\"colorscale\":[[0.0,\"rgb(5,48,97)\"],[0.1,\"rgb(33,102,172)\"],[0.2,\"rgb(67,147,195)\"],[0.3,\"rgb(146,197,222)\"],[0.4,\"rgb(209,229,240)\"],[0.5,\"rgb(247,247,247)\"],[0.6,\"rgb(253,219,199)\"],[0.7,\"rgb(244,165,130)\"],[0.8,\"rgb(214,96,77)\"],[0.9,\"rgb(178,24,43)\"],[1.0,\"rgb(103,0,31)\"]],\"hoverongaps\":false,\"hovertemplate\":\"\\u003cb\\u003esample: %{y}\\u003c\\u002fb\\u003e\\u003cbr\\u003e\\u003cb\\u003eProgram: %{x}\\u003c\\u002fb\\u003e\\u003cbr\\u003e\\u003cb\\u003epearsonr: %{z}\\u003c\\u002fb\\u003e\",\"x\":[\"0\",\"1\",\"2\",\"3\",\"4\",\"5\",\"6\",\"7\",\"8\",\"9\",\"10\",\"11\",\"12\",\"13\",\"14\",\"15\",\"16\",\"17\",\"18\",\"19\",\"20\",\"21\",\"22\",\"23\",\"24\",\"25\",\"26\",\"27\",\"28\",\"29\"],\"y\":[\"D0\",\"sample_D1\",\"sample_D2\",\"sample_D3\"],\"z\":[[0.8701694115659975,-0.4580065025595961,0.3252602082086615,0.3405530940027005,0.4519077602958159,-0.3884571697153673,0.261421600051011,0.6228927506871792,0.3421304786541317,-0.4098224693763243,-0.3757724415350288,-0.2938729059213534,-0.2572831548260956,-0.3507816804363204,-0.2765830986897373,0.1648092652650465,-0.2831912346052081,-0.281111949221731,0.2355744516066834,-0.2491477425693154,-0.2562391539011954,-0.2333456044521369,-0.2825509652288361,0.2001424359191525,-0.2215276964051189,-0.2333974217889532,-0.2345465662070026,-0.2356157358132021,-0.1610404488909226,-0.1826544982190029],[-0.4124546494072163,-0.2707763621646443,0.0724077520564609,0.1255537649062408,0.0316833033098996,0.840548760022769,0.186126245180326,-0.2521808097226654,0.102099930964479,-0.2528575196608909,-0.2194097769648281,-0.1648716998070299,-0.1633468392236899,-0.2212916185731626,-0.1684096180453173,0.0361723767299284,0.6586107661304458,-0.1795678372902665,0.0953814920695293,-0.1413256206371343,-0.1120242911081886,-0.1405202106687017,0.5896496014553857,-0.0777606649023194,-0.1318807826666366,-0.1125580395751362,-0.1214099294786759,-0.1292236042349008,-0.0843643598481385,-0.1025090367685647],[-0.3457996033656205,-0.2551530885403581,-0.0731267912541558,-0.1305462015251404,-0.2292506168133734,-0.2379958352383878,-0.1517444704524563,-0.2458481753749557,-0.1491524609256621,-0.224407712992333,-0.2041682090171682,0.6731342403180882,0.5127466584045531,-0.1878562228399314,0.6369163778765285,-0.001198392528333,-0.1764261795984811,0.669820827059608,-0.1007343740373438,-0.0173038046859028,0.5111672179724097,-0.1094481910191011,-0.0824602656578038,-0.0925061495238526,-0.0904305947921589,-0.049485356046616,0.5264240720567882,-0.0569956624761863,-0.0700236970668481,-0.0025546407698575],[-0.5129792736253498,0.732121637466917,-0.3542133245026343,-0.3720037706216355,-0.3658067287329951,-0.3431074125498612,-0.3521608797047418,-0.3771414397139045,-0.3400501136635083,0.6661624009990673,0.6056907987956265,-0.208987123071376,-0.076790317772019,0.5795817583932475,-0.212537597365635,-0.2328365053290154,-0.2873425765423721,-0.2507986120007797,-0.2698742568545855,0.3531728919843627,-0.1376333123072132,0.4058386571522245,-0.252954243058647,-0.0845617493208907,0.3654535641842185,0.3491554349492543,-0.1400862808957887,0.3665186793376253,0.2823876840240739,0.2582254315858623]],\"zmax\":1,\"zmid\":0,\"zmin\":-1,\"type\":\"heatmap\"}],                        {\"template\":{\"data\":{\"histogram2dcontour\":[{\"type\":\"histogram2dcontour\",\"colorbar\":{\"outlinewidth\":0,\"ticks\":\"\"},\"colorscale\":[[0.0,\"#0d0887\"],[0.1111111111111111,\"#46039f\"],[0.2222222222222222,\"#7201a8\"],[0.3333333333333333,\"#9c179e\"],[0.4444444444444444,\"#bd3786\"],[0.5555555555555556,\"#d8576b\"],[0.6666666666666666,\"#ed7953\"],[0.7777777777777778,\"#fb9f3a\"],[0.8888888888888888,\"#fdca26\"],[1.0,\"#f0f921\"]]}],\"choropleth\":[{\"type\":\"choropleth\",\"colorbar\":{\"outlinewidth\":0,\"ticks\":\"\"}}],\"histogram2d\":[{\"type\":\"histogram2d\",\"colorbar\":{\"outlinewidth\":0,\"ticks\":\"\"},\"colorscale\":[[0.0,\"#0d0887\"],[0.1111111111111111,\"#46039f\"],[0.2222222222222222,\"#7201a8\"],[0.3333333333333333,\"#9c179e\"],[0.4444444444444444,\"#bd3786\"],[0.5555555555555556,\"#d8576b\"],[0.6666666666666666,\"#ed7953\"],[0.7777777777777778,\"#fb9f3a\"],[0.8888888888888888,\"#fdca26\"],[1.0,\"#f0f921\"]]}],\"heatmap\":[{\"type\":\"heatmap\",\"colorbar\":{\"outlinewidth\":0,\"ticks\":\"\"},\"colorscale\":[[0.0,\"#0d0887\"],[0.1111111111111111,\"#46039f\"],[0.2222222222222222,\"#7201a8\"],[0.3333333333333333,\"#9c179e\"],[0.4444444444444444,\"#bd3786\"],[0.5555555555555556,\"#d8576b\"],[0.6666666666666666,\"#ed7953\"],[0.7777777777777778,\"#fb9f3a\"],[0.8888888888888888,\"#fdca26\"],[1.0,\"#f0f921\"]]}],\"heatmapgl\":[{\"type\":\"heatmapgl\",\"colorbar\":{\"outlinewidth\":0,\"ticks\":\"\"},\"colorscale\":[[0.0,\"#0d0887\"],[0.1111111111111111,\"#46039f\"],[0.2222222222222222,\"#7201a8\"],[0.3333333333333333,\"#9c179e\"],[0.4444444444444444,\"#bd3786\"],[0.5555555555555556,\"#d8576b\"],[0.6666666666666666,\"#ed7953\"],[0.7777777777777778,\"#fb9f3a\"],[0.8888888888888888,\"#fdca26\"],[1.0,\"#f0f921\"]]}],\"contourcarpet\":[{\"type\":\"contourcarpet\",\"colorbar\":{\"outlinewidth\":0,\"ticks\":\"\"}}],\"contour\":[{\"type\":\"contour\",\"colorbar\":{\"outlinewidth\":0,\"ticks\":\"\"},\"colorscale\":[[0.0,\"#0d0887\"],[0.1111111111111111,\"#46039f\"],[0.2222222222222222,\"#7201a8\"],[0.3333333333333333,\"#9c179e\"],[0.4444444444444444,\"#bd3786\"],[0.5555555555555556,\"#d8576b\"],[0.6666666666666666,\"#ed7953\"],[0.7777777777777778,\"#fb9f3a\"],[0.8888888888888888,\"#fdca26\"],[1.0,\"#f0f921\"]]}],\"surface\":[{\"type\":\"surface\",\"colorbar\":{\"outlinewidth\":0,\"ticks\":\"\"},\"colorscale\":[[0.0,\"#0d0887\"],[0.1111111111111111,\"#46039f\"],[0.2222222222222222,\"#7201a8\"],[0.3333333333333333,\"#9c179e\"],[0.4444444444444444,\"#bd3786\"],[0.5555555555555556,\"#d8576b\"],[0.6666666666666666,\"#ed7953\"],[0.7777777777777778,\"#fb9f3a\"],[0.8888888888888888,\"#fdca26\"],[1.0,\"#f0f921\"]]}],\"mesh3d\":[{\"type\":\"mesh3d\",\"colorbar\":{\"outlinewidth\":0,\"ticks\":\"\"}}],\"scatter\":[{\"fillpattern\":{\"fillmode\":\"overlay\",\"size\":10,\"solidity\":0.2},\"type\":\"scatter\"}],\"parcoords\":[{\"type\":\"parcoords\",\"line\":{\"colorbar\":{\"outlinewidth\":0,\"ticks\":\"\"}}}],\"scatterpolargl\":[{\"type\":\"scatterpolargl\",\"marker\":{\"colorbar\":{\"outlinewidth\":0,\"ticks\":\"\"}}}],\"bar\":[{\"error_x\":{\"color\":\"#2a3f5f\"},\"error_y\":{\"color\":\"#2a3f5f\"},\"marker\":{\"line\":{\"color\":\"#E5ECF6\",\"width\":0.5},\"pattern\":{\"fillmode\":\"overlay\",\"size\":10,\"solidity\":0.2}},\"type\":\"bar\"}],\"scattergeo\":[{\"type\":\"scattergeo\",\"marker\":{\"colorbar\":{\"outlinewidth\":0,\"ticks\":\"\"}}}],\"scatterpolar\":[{\"type\":\"scatterpolar\",\"marker\":{\"colorbar\":{\"outlinewidth\":0,\"ticks\":\"\"}}}],\"histogram\":[{\"marker\":{\"pattern\":{\"fillmode\":\"overlay\",\"size\":10,\"solidity\":0.2}},\"type\":\"histogram\"}],\"scattergl\":[{\"type\":\"scattergl\",\"marker\":{\"colorbar\":{\"outlinewidth\":0,\"ticks\":\"\"}}}],\"scatter3d\":[{\"type\":\"scatter3d\",\"line\":{\"colorbar\":{\"outlinewidth\":0,\"ticks\":\"\"}},\"marker\":{\"colorbar\":{\"outlinewidth\":0,\"ticks\":\"\"}}}],\"scattermapbox\":[{\"type\":\"scattermapbox\",\"marker\":{\"colorbar\":{\"outlinewidth\":0,\"ticks\":\"\"}}}],\"scatterternary\":[{\"type\":\"scatterternary\",\"marker\":{\"colorbar\":{\"outlinewidth\":0,\"ticks\":\"\"}}}],\"scattercarpet\":[{\"type\":\"scattercarpet\",\"marker\":{\"colorbar\":{\"outlinewidth\":0,\"ticks\":\"\"}}}],\"carpet\":[{\"aaxis\":{\"endlinecolor\":\"#2a3f5f\",\"gridcolor\":\"white\",\"linecolor\":\"white\",\"minorgridcolor\":\"white\",\"startlinecolor\":\"#2a3f5f\"},\"baxis\":{\"endlinecolor\":\"#2a3f5f\",\"gridcolor\":\"white\",\"linecolor\":\"white\",\"minorgridcolor\":\"white\",\"startlinecolor\":\"#2a3f5f\"},\"type\":\"carpet\"}],\"table\":[{\"cells\":{\"fill\":{\"color\":\"#EBF0F8\"},\"line\":{\"color\":\"white\"}},\"header\":{\"fill\":{\"color\":\"#C8D4E3\"},\"line\":{\"color\":\"white\"}},\"type\":\"table\"}],\"barpolar\":[{\"marker\":{\"line\":{\"color\":\"#E5ECF6\",\"width\":0.5},\"pattern\":{\"fillmode\":\"overlay\",\"size\":10,\"solidity\":0.2}},\"type\":\"barpolar\"}],\"pie\":[{\"automargin\":true,\"type\":\"pie\"}]},\"layout\":{\"autotypenumbers\":\"strict\",\"colorway\":[\"#636efa\",\"#EF553B\",\"#00cc96\",\"#ab63fa\",\"#FFA15A\",\"#19d3f3\",\"#FF6692\",\"#B6E880\",\"#FF97FF\",\"#FECB52\"],\"font\":{\"color\":\"#2a3f5f\"},\"hovermode\":\"closest\",\"hoverlabel\":{\"align\":\"left\"},\"paper_bgcolor\":\"white\",\"plot_bgcolor\":\"#E5ECF6\",\"polar\":{\"bgcolor\":\"#E5ECF6\",\"angularaxis\":{\"gridcolor\":\"white\",\"linecolor\":\"white\",\"ticks\":\"\"},\"radialaxis\":{\"gridcolor\":\"white\",\"linecolor\":\"white\",\"ticks\":\"\"}},\"ternary\":{\"bgcolor\":\"#E5ECF6\",\"aaxis\":{\"gridcolor\":\"white\",\"linecolor\":\"white\",\"ticks\":\"\"},\"baxis\":{\"gridcolor\":\"white\",\"linecolor\":\"white\",\"ticks\":\"\"},\"caxis\":{\"gridcolor\":\"white\",\"linecolor\":\"white\",\"ticks\":\"\"}},\"coloraxis\":{\"colorbar\":{\"outlinewidth\":0,\"ticks\":\"\"}},\"colorscale\":{\"sequential\":[[0.0,\"#0d0887\"],[0.1111111111111111,\"#46039f\"],[0.2222222222222222,\"#7201a8\"],[0.3333333333333333,\"#9c179e\"],[0.4444444444444444,\"#bd3786\"],[0.5555555555555556,\"#d8576b\"],[0.6666666666666666,\"#ed7953\"],[0.7777777777777778,\"#fb9f3a\"],[0.8888888888888888,\"#fdca26\"],[1.0,\"#f0f921\"]],\"sequentialminus\":[[0.0,\"#0d0887\"],[0.1111111111111111,\"#46039f\"],[0.2222222222222222,\"#7201a8\"],[0.3333333333333333,\"#9c179e\"],[0.4444444444444444,\"#bd3786\"],[0.5555555555555556,\"#d8576b\"],[0.6666666666666666,\"#ed7953\"],[0.7777777777777778,\"#fb9f3a\"],[0.8888888888888888,\"#fdca26\"],[1.0,\"#f0f921\"]],\"diverging\":[[0,\"#8e0152\"],[0.1,\"#c51b7d\"],[0.2,\"#de77ae\"],[0.3,\"#f1b6da\"],[0.4,\"#fde0ef\"],[0.5,\"#f7f7f7\"],[0.6,\"#e6f5d0\"],[0.7,\"#b8e186\"],[0.8,\"#7fbc41\"],[0.9,\"#4d9221\"],[1,\"#276419\"]]},\"xaxis\":{\"gridcolor\":\"white\",\"linecolor\":\"white\",\"ticks\":\"\",\"title\":{\"standoff\":15},\"zerolinecolor\":\"white\",\"automargin\":true,\"zerolinewidth\":2},\"yaxis\":{\"gridcolor\":\"white\",\"linecolor\":\"white\",\"ticks\":\"\",\"title\":{\"standoff\":15},\"zerolinecolor\":\"white\",\"automargin\":true,\"zerolinewidth\":2},\"scene\":{\"xaxis\":{\"backgroundcolor\":\"#E5ECF6\",\"gridcolor\":\"white\",\"linecolor\":\"white\",\"showbackground\":true,\"ticks\":\"\",\"zerolinecolor\":\"white\",\"gridwidth\":2},\"yaxis\":{\"backgroundcolor\":\"#E5ECF6\",\"gridcolor\":\"white\",\"linecolor\":\"white\",\"showbackground\":true,\"ticks\":\"\",\"zerolinecolor\":\"white\",\"gridwidth\":2},\"zaxis\":{\"backgroundcolor\":\"#E5ECF6\",\"gridcolor\":\"white\",\"linecolor\":\"white\",\"showbackground\":true,\"ticks\":\"\",\"zerolinecolor\":\"white\",\"gridwidth\":2}},\"shapedefaults\":{\"line\":{\"color\":\"#2a3f5f\"}},\"annotationdefaults\":{\"arrowcolor\":\"#2a3f5f\",\"arrowhead\":0,\"arrowwidth\":1},\"geo\":{\"bgcolor\":\"white\",\"landcolor\":\"#E5ECF6\",\"subunitcolor\":\"white\",\"showland\":true,\"showlakes\":true,\"lakecolor\":\"white\"},\"title\":{\"x\":0.05},\"mapbox\":{\"style\":\"light\"}}},\"hoverlabel\":{\"font\":{\"size\":16},\"bgcolor\":\"white\"},\"title\":{\"text\":\"\"},\"xaxis\":{\"title\":{\"text\":\"Program\"}},\"yaxis\":{\"title\":{\"text\":\"sample\"}},\"plot_bgcolor\":\"rgba(0,0,0,0)\"},                        {\"responsive\": true}                    ).then(function(){\n",
       "                            \n",
       "var gd = document.getElementById('2d9afe4b-54b0-4a57-82e3-90f4457771d6');\n",
       "var x = new MutationObserver(function (mutations, observer) {{\n",
       "        var display = window.getComputedStyle(gd).display;\n",
       "        if (!display || display === 'none') {{\n",
       "            console.log([gd, 'removed!']);\n",
       "            Plotly.purge(gd);\n",
       "            observer.disconnect();\n",
       "        }}\n",
       "}});\n",
       "\n",
       "// Listen for the removal of the full notebook cells\n",
       "var notebookContainer = gd.closest('#notebook-container');\n",
       "if (notebookContainer) {{\n",
       "    x.observe(notebookContainer, {childList: true});\n",
       "}}\n",
       "\n",
       "// Listen for the clearing of the current output cell\n",
       "var outputEl = gd.closest('.output');\n",
       "if (outputEl) {{\n",
       "    x.observe(outputEl, {childList: true});\n",
       "}}\n",
       "\n",
       "                        })                };                });            </script>        </div>"
      ]
     },
     "metadata": {},
     "output_type": "display_data"
    }
   ],
   "source": [
    "fig = heatmap(\n",
    "    data=plot_data,\n",
    "    x_name=\"Program\",\n",
    "    y_name=categorical_keys[0],\n",
    "    z_name=method,\n",
    "    title=\"\",\n",
    "    xaxis_title=\"Program\",\n",
    "    yaxis_title=categorical_keys[0],\n",
    "    colorbar_title=method,\n",
    "    hovertemplate=f'<b>{categorical_keys[0]}: %{{y}}</b><br><b>Program: %{{x}}</b><br><b>{method}: %{{z}}</b>',\n",
    "    zmin=-1,\n",
    "    zmax=1,\n",
    "    zmid=0,\n",
    ")\n",
    "fig.show()"
   ]
  },
  {
   "cell_type": "markdown",
   "metadata": {},
   "source": [
    "## Categorical association volcano plot"
   ]
  },
  {
   "cell_type": "code",
   "execution_count": 97,
   "metadata": {},
   "outputs": [
    {
     "data": {
      "text/html": [
       "<div>\n",
       "<style scoped>\n",
       "    .dataframe tbody tr th:only-of-type {\n",
       "        vertical-align: middle;\n",
       "    }\n",
       "\n",
       "    .dataframe tbody tr th {\n",
       "        vertical-align: top;\n",
       "    }\n",
       "\n",
       "    .dataframe thead th {\n",
       "        text-align: right;\n",
       "    }\n",
       "</style>\n",
       "<table border=\"1\" class=\"dataframe\">\n",
       "  <thead>\n",
       "    <tr style=\"text-align: right;\">\n",
       "      <th></th>\n",
       "      <th>sample_D0_pearsonr_stat</th>\n",
       "      <th>sample_sample_D1_pearsonr_stat</th>\n",
       "      <th>sample_sample_D2_pearsonr_stat</th>\n",
       "      <th>sample_sample_D3_pearsonr_stat</th>\n",
       "    </tr>\n",
       "  </thead>\n",
       "  <tbody>\n",
       "    <tr>\n",
       "      <th>0</th>\n",
       "      <td>0.870169</td>\n",
       "      <td>-0.412455</td>\n",
       "      <td>-0.345800</td>\n",
       "      <td>-0.512979</td>\n",
       "    </tr>\n",
       "    <tr>\n",
       "      <th>1</th>\n",
       "      <td>-0.458007</td>\n",
       "      <td>-0.270776</td>\n",
       "      <td>-0.255153</td>\n",
       "      <td>0.732122</td>\n",
       "    </tr>\n",
       "    <tr>\n",
       "      <th>2</th>\n",
       "      <td>0.325260</td>\n",
       "      <td>0.072408</td>\n",
       "      <td>-0.073127</td>\n",
       "      <td>-0.354213</td>\n",
       "    </tr>\n",
       "    <tr>\n",
       "      <th>3</th>\n",
       "      <td>0.340553</td>\n",
       "      <td>0.125554</td>\n",
       "      <td>-0.130546</td>\n",
       "      <td>-0.372004</td>\n",
       "    </tr>\n",
       "    <tr>\n",
       "      <th>4</th>\n",
       "      <td>0.451908</td>\n",
       "      <td>0.031683</td>\n",
       "      <td>-0.229251</td>\n",
       "      <td>-0.365807</td>\n",
       "    </tr>\n",
       "    <tr>\n",
       "      <th>5</th>\n",
       "      <td>-0.388457</td>\n",
       "      <td>0.840549</td>\n",
       "      <td>-0.237996</td>\n",
       "      <td>-0.343107</td>\n",
       "    </tr>\n",
       "    <tr>\n",
       "      <th>6</th>\n",
       "      <td>0.261422</td>\n",
       "      <td>0.186126</td>\n",
       "      <td>-0.151744</td>\n",
       "      <td>-0.352161</td>\n",
       "    </tr>\n",
       "    <tr>\n",
       "      <th>7</th>\n",
       "      <td>0.622893</td>\n",
       "      <td>-0.252181</td>\n",
       "      <td>-0.245848</td>\n",
       "      <td>-0.377141</td>\n",
       "    </tr>\n",
       "    <tr>\n",
       "      <th>8</th>\n",
       "      <td>0.342130</td>\n",
       "      <td>0.102100</td>\n",
       "      <td>-0.149152</td>\n",
       "      <td>-0.340050</td>\n",
       "    </tr>\n",
       "    <tr>\n",
       "      <th>9</th>\n",
       "      <td>-0.409822</td>\n",
       "      <td>-0.252858</td>\n",
       "      <td>-0.224408</td>\n",
       "      <td>0.666162</td>\n",
       "    </tr>\n",
       "    <tr>\n",
       "      <th>10</th>\n",
       "      <td>-0.375772</td>\n",
       "      <td>-0.219410</td>\n",
       "      <td>-0.204168</td>\n",
       "      <td>0.605691</td>\n",
       "    </tr>\n",
       "    <tr>\n",
       "      <th>11</th>\n",
       "      <td>-0.293873</td>\n",
       "      <td>-0.164872</td>\n",
       "      <td>0.673134</td>\n",
       "      <td>-0.208987</td>\n",
       "    </tr>\n",
       "    <tr>\n",
       "      <th>12</th>\n",
       "      <td>-0.257283</td>\n",
       "      <td>-0.163347</td>\n",
       "      <td>0.512747</td>\n",
       "      <td>-0.076790</td>\n",
       "    </tr>\n",
       "    <tr>\n",
       "      <th>13</th>\n",
       "      <td>-0.350782</td>\n",
       "      <td>-0.221292</td>\n",
       "      <td>-0.187856</td>\n",
       "      <td>0.579582</td>\n",
       "    </tr>\n",
       "    <tr>\n",
       "      <th>14</th>\n",
       "      <td>-0.276583</td>\n",
       "      <td>-0.168410</td>\n",
       "      <td>0.636916</td>\n",
       "      <td>-0.212538</td>\n",
       "    </tr>\n",
       "    <tr>\n",
       "      <th>15</th>\n",
       "      <td>0.164809</td>\n",
       "      <td>0.036172</td>\n",
       "      <td>-0.001198</td>\n",
       "      <td>-0.232837</td>\n",
       "    </tr>\n",
       "    <tr>\n",
       "      <th>16</th>\n",
       "      <td>-0.283191</td>\n",
       "      <td>0.658611</td>\n",
       "      <td>-0.176426</td>\n",
       "      <td>-0.287343</td>\n",
       "    </tr>\n",
       "    <tr>\n",
       "      <th>17</th>\n",
       "      <td>-0.281112</td>\n",
       "      <td>-0.179568</td>\n",
       "      <td>0.669821</td>\n",
       "      <td>-0.250799</td>\n",
       "    </tr>\n",
       "    <tr>\n",
       "      <th>18</th>\n",
       "      <td>0.235574</td>\n",
       "      <td>0.095381</td>\n",
       "      <td>-0.100734</td>\n",
       "      <td>-0.269874</td>\n",
       "    </tr>\n",
       "    <tr>\n",
       "      <th>19</th>\n",
       "      <td>-0.249148</td>\n",
       "      <td>-0.141326</td>\n",
       "      <td>-0.017304</td>\n",
       "      <td>0.353173</td>\n",
       "    </tr>\n",
       "    <tr>\n",
       "      <th>20</th>\n",
       "      <td>-0.256239</td>\n",
       "      <td>-0.112024</td>\n",
       "      <td>0.511167</td>\n",
       "      <td>-0.137633</td>\n",
       "    </tr>\n",
       "    <tr>\n",
       "      <th>21</th>\n",
       "      <td>-0.233346</td>\n",
       "      <td>-0.140520</td>\n",
       "      <td>-0.109448</td>\n",
       "      <td>0.405839</td>\n",
       "    </tr>\n",
       "    <tr>\n",
       "      <th>22</th>\n",
       "      <td>-0.282551</td>\n",
       "      <td>0.589650</td>\n",
       "      <td>-0.082460</td>\n",
       "      <td>-0.252954</td>\n",
       "    </tr>\n",
       "    <tr>\n",
       "      <th>23</th>\n",
       "      <td>0.200142</td>\n",
       "      <td>-0.077761</td>\n",
       "      <td>-0.092506</td>\n",
       "      <td>-0.084562</td>\n",
       "    </tr>\n",
       "    <tr>\n",
       "      <th>24</th>\n",
       "      <td>-0.221528</td>\n",
       "      <td>-0.131881</td>\n",
       "      <td>-0.090431</td>\n",
       "      <td>0.365454</td>\n",
       "    </tr>\n",
       "    <tr>\n",
       "      <th>25</th>\n",
       "      <td>-0.233397</td>\n",
       "      <td>-0.112558</td>\n",
       "      <td>-0.049485</td>\n",
       "      <td>0.349155</td>\n",
       "    </tr>\n",
       "    <tr>\n",
       "      <th>26</th>\n",
       "      <td>-0.234547</td>\n",
       "      <td>-0.121410</td>\n",
       "      <td>0.526424</td>\n",
       "      <td>-0.140086</td>\n",
       "    </tr>\n",
       "    <tr>\n",
       "      <th>27</th>\n",
       "      <td>-0.235616</td>\n",
       "      <td>-0.129224</td>\n",
       "      <td>-0.056996</td>\n",
       "      <td>0.366519</td>\n",
       "    </tr>\n",
       "    <tr>\n",
       "      <th>28</th>\n",
       "      <td>-0.161040</td>\n",
       "      <td>-0.084364</td>\n",
       "      <td>-0.070024</td>\n",
       "      <td>0.282388</td>\n",
       "    </tr>\n",
       "    <tr>\n",
       "      <th>29</th>\n",
       "      <td>-0.182654</td>\n",
       "      <td>-0.102509</td>\n",
       "      <td>-0.002555</td>\n",
       "      <td>0.258225</td>\n",
       "    </tr>\n",
       "  </tbody>\n",
       "</table>\n",
       "</div>"
      ],
      "text/plain": [
       "    sample_D0_pearsonr_stat  sample_sample_D1_pearsonr_stat  \\\n",
       "0                  0.870169                       -0.412455   \n",
       "1                 -0.458007                       -0.270776   \n",
       "2                  0.325260                        0.072408   \n",
       "3                  0.340553                        0.125554   \n",
       "4                  0.451908                        0.031683   \n",
       "5                 -0.388457                        0.840549   \n",
       "6                  0.261422                        0.186126   \n",
       "7                  0.622893                       -0.252181   \n",
       "8                  0.342130                        0.102100   \n",
       "9                 -0.409822                       -0.252858   \n",
       "10                -0.375772                       -0.219410   \n",
       "11                -0.293873                       -0.164872   \n",
       "12                -0.257283                       -0.163347   \n",
       "13                -0.350782                       -0.221292   \n",
       "14                -0.276583                       -0.168410   \n",
       "15                 0.164809                        0.036172   \n",
       "16                -0.283191                        0.658611   \n",
       "17                -0.281112                       -0.179568   \n",
       "18                 0.235574                        0.095381   \n",
       "19                -0.249148                       -0.141326   \n",
       "20                -0.256239                       -0.112024   \n",
       "21                -0.233346                       -0.140520   \n",
       "22                -0.282551                        0.589650   \n",
       "23                 0.200142                       -0.077761   \n",
       "24                -0.221528                       -0.131881   \n",
       "25                -0.233397                       -0.112558   \n",
       "26                -0.234547                       -0.121410   \n",
       "27                -0.235616                       -0.129224   \n",
       "28                -0.161040                       -0.084364   \n",
       "29                -0.182654                       -0.102509   \n",
       "\n",
       "    sample_sample_D2_pearsonr_stat  sample_sample_D3_pearsonr_stat  \n",
       "0                        -0.345800                       -0.512979  \n",
       "1                        -0.255153                        0.732122  \n",
       "2                        -0.073127                       -0.354213  \n",
       "3                        -0.130546                       -0.372004  \n",
       "4                        -0.229251                       -0.365807  \n",
       "5                        -0.237996                       -0.343107  \n",
       "6                        -0.151744                       -0.352161  \n",
       "7                        -0.245848                       -0.377141  \n",
       "8                        -0.149152                       -0.340050  \n",
       "9                        -0.224408                        0.666162  \n",
       "10                       -0.204168                        0.605691  \n",
       "11                        0.673134                       -0.208987  \n",
       "12                        0.512747                       -0.076790  \n",
       "13                       -0.187856                        0.579582  \n",
       "14                        0.636916                       -0.212538  \n",
       "15                       -0.001198                       -0.232837  \n",
       "16                       -0.176426                       -0.287343  \n",
       "17                        0.669821                       -0.250799  \n",
       "18                       -0.100734                       -0.269874  \n",
       "19                       -0.017304                        0.353173  \n",
       "20                        0.511167                       -0.137633  \n",
       "21                       -0.109448                        0.405839  \n",
       "22                       -0.082460                       -0.252954  \n",
       "23                       -0.092506                       -0.084562  \n",
       "24                       -0.090431                        0.365454  \n",
       "25                       -0.049485                        0.349155  \n",
       "26                        0.526424                       -0.140086  \n",
       "27                       -0.056996                        0.366519  \n",
       "28                       -0.070024                        0.282388  \n",
       "29                       -0.002555                        0.258225  "
      ]
     },
     "execution_count": 97,
     "metadata": {},
     "output_type": "execute_result"
    }
   ],
   "source": [
    "# Grab columns with stat in it\n",
    "categorical_association_posthoc_stat = categorical_association_posthoc.filter(like=\"stat\")\n",
    "categorical_association_posthoc_stat.index = categorical_association_posthoc[\"program_name\"].astype(str).values\n",
    "categorical_association_posthoc_stat"
   ]
  },
  {
   "cell_type": "code",
   "execution_count": 104,
   "metadata": {},
   "outputs": [
    {
     "data": {
      "text/html": [
       "<div>\n",
       "<style scoped>\n",
       "    .dataframe tbody tr th:only-of-type {\n",
       "        vertical-align: middle;\n",
       "    }\n",
       "\n",
       "    .dataframe tbody tr th {\n",
       "        vertical-align: top;\n",
       "    }\n",
       "\n",
       "    .dataframe thead th {\n",
       "        text-align: right;\n",
       "    }\n",
       "</style>\n",
       "<table border=\"1\" class=\"dataframe\">\n",
       "  <thead>\n",
       "    <tr style=\"text-align: right;\">\n",
       "      <th></th>\n",
       "      <th>program_name</th>\n",
       "      <th>pearsonr</th>\n",
       "    </tr>\n",
       "  </thead>\n",
       "  <tbody>\n",
       "    <tr>\n",
       "      <th>0</th>\n",
       "      <td>0</td>\n",
       "      <td>0.870169</td>\n",
       "    </tr>\n",
       "    <tr>\n",
       "      <th>5</th>\n",
       "      <td>5</td>\n",
       "      <td>0.840549</td>\n",
       "    </tr>\n",
       "    <tr>\n",
       "      <th>1</th>\n",
       "      <td>1</td>\n",
       "      <td>0.732122</td>\n",
       "    </tr>\n",
       "    <tr>\n",
       "      <th>11</th>\n",
       "      <td>11</td>\n",
       "      <td>0.673134</td>\n",
       "    </tr>\n",
       "    <tr>\n",
       "      <th>17</th>\n",
       "      <td>17</td>\n",
       "      <td>0.669821</td>\n",
       "    </tr>\n",
       "    <tr>\n",
       "      <th>9</th>\n",
       "      <td>9</td>\n",
       "      <td>0.666162</td>\n",
       "    </tr>\n",
       "    <tr>\n",
       "      <th>16</th>\n",
       "      <td>16</td>\n",
       "      <td>0.658611</td>\n",
       "    </tr>\n",
       "    <tr>\n",
       "      <th>14</th>\n",
       "      <td>14</td>\n",
       "      <td>0.636916</td>\n",
       "    </tr>\n",
       "    <tr>\n",
       "      <th>7</th>\n",
       "      <td>7</td>\n",
       "      <td>0.622893</td>\n",
       "    </tr>\n",
       "    <tr>\n",
       "      <th>10</th>\n",
       "      <td>10</td>\n",
       "      <td>0.605691</td>\n",
       "    </tr>\n",
       "    <tr>\n",
       "      <th>22</th>\n",
       "      <td>22</td>\n",
       "      <td>0.589650</td>\n",
       "    </tr>\n",
       "    <tr>\n",
       "      <th>13</th>\n",
       "      <td>13</td>\n",
       "      <td>0.579582</td>\n",
       "    </tr>\n",
       "    <tr>\n",
       "      <th>26</th>\n",
       "      <td>26</td>\n",
       "      <td>0.526424</td>\n",
       "    </tr>\n",
       "    <tr>\n",
       "      <th>12</th>\n",
       "      <td>12</td>\n",
       "      <td>0.512747</td>\n",
       "    </tr>\n",
       "    <tr>\n",
       "      <th>20</th>\n",
       "      <td>20</td>\n",
       "      <td>0.511167</td>\n",
       "    </tr>\n",
       "    <tr>\n",
       "      <th>4</th>\n",
       "      <td>4</td>\n",
       "      <td>0.451908</td>\n",
       "    </tr>\n",
       "    <tr>\n",
       "      <th>21</th>\n",
       "      <td>21</td>\n",
       "      <td>0.405839</td>\n",
       "    </tr>\n",
       "    <tr>\n",
       "      <th>3</th>\n",
       "      <td>3</td>\n",
       "      <td>0.372004</td>\n",
       "    </tr>\n",
       "    <tr>\n",
       "      <th>27</th>\n",
       "      <td>27</td>\n",
       "      <td>0.366519</td>\n",
       "    </tr>\n",
       "    <tr>\n",
       "      <th>24</th>\n",
       "      <td>24</td>\n",
       "      <td>0.365454</td>\n",
       "    </tr>\n",
       "    <tr>\n",
       "      <th>2</th>\n",
       "      <td>2</td>\n",
       "      <td>0.354213</td>\n",
       "    </tr>\n",
       "    <tr>\n",
       "      <th>19</th>\n",
       "      <td>19</td>\n",
       "      <td>0.353173</td>\n",
       "    </tr>\n",
       "    <tr>\n",
       "      <th>6</th>\n",
       "      <td>6</td>\n",
       "      <td>0.352161</td>\n",
       "    </tr>\n",
       "    <tr>\n",
       "      <th>25</th>\n",
       "      <td>25</td>\n",
       "      <td>0.349155</td>\n",
       "    </tr>\n",
       "    <tr>\n",
       "      <th>8</th>\n",
       "      <td>8</td>\n",
       "      <td>0.342130</td>\n",
       "    </tr>\n",
       "    <tr>\n",
       "      <th>28</th>\n",
       "      <td>28</td>\n",
       "      <td>0.282388</td>\n",
       "    </tr>\n",
       "    <tr>\n",
       "      <th>18</th>\n",
       "      <td>18</td>\n",
       "      <td>0.269874</td>\n",
       "    </tr>\n",
       "    <tr>\n",
       "      <th>29</th>\n",
       "      <td>29</td>\n",
       "      <td>0.258225</td>\n",
       "    </tr>\n",
       "    <tr>\n",
       "      <th>15</th>\n",
       "      <td>15</td>\n",
       "      <td>0.232837</td>\n",
       "    </tr>\n",
       "    <tr>\n",
       "      <th>23</th>\n",
       "      <td>23</td>\n",
       "      <td>0.200142</td>\n",
       "    </tr>\n",
       "  </tbody>\n",
       "</table>\n",
       "</div>"
      ],
      "text/plain": [
       "   program_name  pearsonr\n",
       "0             0  0.870169\n",
       "5             5  0.840549\n",
       "1             1  0.732122\n",
       "11           11  0.673134\n",
       "17           17  0.669821\n",
       "9             9  0.666162\n",
       "16           16  0.658611\n",
       "14           14  0.636916\n",
       "7             7  0.622893\n",
       "10           10  0.605691\n",
       "22           22  0.589650\n",
       "13           13  0.579582\n",
       "26           26  0.526424\n",
       "12           12  0.512747\n",
       "20           20  0.511167\n",
       "4             4  0.451908\n",
       "21           21  0.405839\n",
       "3             3  0.372004\n",
       "27           27  0.366519\n",
       "24           24  0.365454\n",
       "2             2  0.354213\n",
       "19           19  0.353173\n",
       "6             6  0.352161\n",
       "25           25  0.349155\n",
       "8             8  0.342130\n",
       "28           28  0.282388\n",
       "18           18  0.269874\n",
       "29           29  0.258225\n",
       "15           15  0.232837\n",
       "23           23  0.200142"
      ]
     },
     "execution_count": 104,
     "metadata": {},
     "output_type": "execute_result"
    }
   ],
   "source": [
    "# Take the max of the stat across columns\n",
    "categorical_association_posthoc_stat_max = categorical_association_posthoc_stat.abs().max(axis=1)\n",
    "plot_data = categorical_association_posthoc_stat_max.reset_index().rename(columns={\"index\": \"program_name\", 0: method}).sort_values(method, ascending=False)\n",
    "plot_data"
   ]
  },
  {
   "cell_type": "code",
   "execution_count": 106,
   "metadata": {},
   "outputs": [
    {
     "data": {
      "text/plain": [
       "0     0.870169\n",
       "5     0.840549\n",
       "1     0.732122\n",
       "11    0.673134\n",
       "17    0.669821\n",
       "9     0.666162\n",
       "16    0.658611\n",
       "14    0.636916\n",
       "7     0.622893\n",
       "10    0.605691\n",
       "22    0.589650\n",
       "13    0.579582\n",
       "26    0.526424\n",
       "12    0.512747\n",
       "20    0.511167\n",
       "4     0.451908\n",
       "21    0.405839\n",
       "3     0.372004\n",
       "27    0.366519\n",
       "24    0.365454\n",
       "2     0.354213\n",
       "19    0.353173\n",
       "6     0.352161\n",
       "25    0.349155\n",
       "8     0.342130\n",
       "28    0.282388\n",
       "18    0.269874\n",
       "29    0.258225\n",
       "15    0.232837\n",
       "23    0.200142\n",
       "Name: pearsonr, dtype: float64"
      ]
     },
     "execution_count": 106,
     "metadata": {},
     "output_type": "execute_result"
    }
   ],
   "source": [
    "plot_data[\"pearsonr\"]"
   ]
  },
  {
   "cell_type": "code",
   "execution_count": 107,
   "metadata": {},
   "outputs": [],
   "source": [
    "def scatterplot(\n",
    "    data: pd.DataFrame,\n",
    "    x_column: str,\n",
    "    y_column: str,\n",
    "    title: str,\n",
    "    sorted: bool = True,\n",
    "    x_axis_title: str = None,\n",
    "    y_axis_title: str = None,\n",
    "    cumulative: bool = False,\n",
    "    show_xaxis_labels: bool = False,\n",
    "    colors: list = None,  # New parameter for optional colors\n",
    "    size: int = 1\n",
    "):\n",
    "    \"\"\"Create a scatter plot layout in Dash using Plotly.\n",
    "\n",
    "    Parameters\n",
    "    ----------\n",
    "    data : pd.DataFrame\n",
    "        DataFrame containing the data for the plot.\n",
    "    x_column : str\n",
    "        The column to use for the x-axis.\n",
    "    y_column : str\n",
    "        The column to use for the y-axis.\n",
    "    title : str\n",
    "        Title of the plot.\n",
    "    x_axis_title : str, optional\n",
    "        Title for the x-axis.\n",
    "    y_axis_title : str, optional\n",
    "        Title for the y-axis.\n",
    "    cumulative : bool, optional\n",
    "        Whether to plot cumulative values.\n",
    "    show_xaxis_labels : bool, optional\n",
    "        Whether to show labels on the x-axis.\n",
    "    colors : list, optional\n",
    "        List of colors corresponding to each point in the plot.\n",
    "\n",
    "    Returns\n",
    "    -------\n",
    "    go.Figure\n",
    "        A Plotly Figure containing the scatter plot.\n",
    "    \"\"\"\n",
    "    # Compute cumulative values\n",
    "    if cumulative:\n",
    "        data[y_column] = data[y_column].cumsum()\n",
    "\n",
    "    # Sort\n",
    "    x_data = data.sort_values(y_column, ascending=cumulative)[x_column] if sorted else data[x_column]\n",
    "    y_data = data.sort_values(y_column, ascending=cumulative)[y_column] if sorted else data[y_column]\n",
    "\n",
    "    # Plot\n",
    "    fig = go.Figure(\n",
    "        data=go.Scattergl(\n",
    "            x=x_data,\n",
    "            y=y_data,\n",
    "            mode='markers',\n",
    "            marker=dict(\n",
    "                color=colors if colors is not None else 'blue',  # Use passed colors or default to blue\n",
    "                size=size\n",
    "            )\n",
    "        )\n",
    "    )\n",
    "\n",
    "    # Update layout\n",
    "    fig.update_layout(\n",
    "        title=title,\n",
    "        xaxis_title=x_axis_title if x_axis_title else x_column,\n",
    "        yaxis_title=y_axis_title if y_axis_title else y_column,\n",
    "        xaxis=dict(showticklabels=show_xaxis_labels),\n",
    "        plot_bgcolor='rgba(0,0,0,0)',  # Transparent background\n",
    "    )\n",
    "    \n",
    "    return fig"
   ]
  },
  {
   "cell_type": "code",
   "execution_count": 108,
   "metadata": {},
   "outputs": [
    {
     "data": {
      "application/vnd.plotly.v1+json": {
       "config": {
        "plotlyServerURL": "https://plot.ly"
       },
       "data": [
        {
         "marker": {
          "color": "blue",
          "size": 8
         },
         "mode": "markers",
         "type": "scattergl",
         "x": [
          "0",
          "5",
          "1",
          "11",
          "17",
          "9",
          "16",
          "14",
          "7",
          "10",
          "22",
          "13",
          "26",
          "12",
          "20",
          "4",
          "21",
          "3",
          "27",
          "24",
          "2",
          "19",
          "6",
          "25",
          "8",
          "28",
          "18",
          "29",
          "15",
          "23"
         ],
         "y": [
          0.8701694115659975,
          0.840548760022769,
          0.732121637466917,
          0.6731342403180882,
          0.669820827059608,
          0.6661624009990673,
          0.6586107661304458,
          0.6369163778765285,
          0.6228927506871792,
          0.6056907987956265,
          0.5896496014553857,
          0.5795817583932475,
          0.5264240720567882,
          0.5127466584045531,
          0.5111672179724097,
          0.4519077602958159,
          0.4058386571522245,
          0.3720037706216355,
          0.3665186793376253,
          0.3654535641842185,
          0.3542133245026343,
          0.3531728919843627,
          0.3521608797047418,
          0.3491554349492543,
          0.3421304786541317,
          0.2823876840240739,
          0.2698742568545855,
          0.2582254315858623,
          0.2328365053290154,
          0.2001424359191525
         ]
        }
       ],
       "layout": {
        "plot_bgcolor": "rgba(0,0,0,0)",
        "template": {
         "data": {
          "bar": [
           {
            "error_x": {
             "color": "#2a3f5f"
            },
            "error_y": {
             "color": "#2a3f5f"
            },
            "marker": {
             "line": {
              "color": "#E5ECF6",
              "width": 0.5
             },
             "pattern": {
              "fillmode": "overlay",
              "size": 10,
              "solidity": 0.2
             }
            },
            "type": "bar"
           }
          ],
          "barpolar": [
           {
            "marker": {
             "line": {
              "color": "#E5ECF6",
              "width": 0.5
             },
             "pattern": {
              "fillmode": "overlay",
              "size": 10,
              "solidity": 0.2
             }
            },
            "type": "barpolar"
           }
          ],
          "carpet": [
           {
            "aaxis": {
             "endlinecolor": "#2a3f5f",
             "gridcolor": "white",
             "linecolor": "white",
             "minorgridcolor": "white",
             "startlinecolor": "#2a3f5f"
            },
            "baxis": {
             "endlinecolor": "#2a3f5f",
             "gridcolor": "white",
             "linecolor": "white",
             "minorgridcolor": "white",
             "startlinecolor": "#2a3f5f"
            },
            "type": "carpet"
           }
          ],
          "choropleth": [
           {
            "colorbar": {
             "outlinewidth": 0,
             "ticks": ""
            },
            "type": "choropleth"
           }
          ],
          "contour": [
           {
            "colorbar": {
             "outlinewidth": 0,
             "ticks": ""
            },
            "colorscale": [
             [
              0,
              "#0d0887"
             ],
             [
              0.1111111111111111,
              "#46039f"
             ],
             [
              0.2222222222222222,
              "#7201a8"
             ],
             [
              0.3333333333333333,
              "#9c179e"
             ],
             [
              0.4444444444444444,
              "#bd3786"
             ],
             [
              0.5555555555555556,
              "#d8576b"
             ],
             [
              0.6666666666666666,
              "#ed7953"
             ],
             [
              0.7777777777777778,
              "#fb9f3a"
             ],
             [
              0.8888888888888888,
              "#fdca26"
             ],
             [
              1,
              "#f0f921"
             ]
            ],
            "type": "contour"
           }
          ],
          "contourcarpet": [
           {
            "colorbar": {
             "outlinewidth": 0,
             "ticks": ""
            },
            "type": "contourcarpet"
           }
          ],
          "heatmap": [
           {
            "colorbar": {
             "outlinewidth": 0,
             "ticks": ""
            },
            "colorscale": [
             [
              0,
              "#0d0887"
             ],
             [
              0.1111111111111111,
              "#46039f"
             ],
             [
              0.2222222222222222,
              "#7201a8"
             ],
             [
              0.3333333333333333,
              "#9c179e"
             ],
             [
              0.4444444444444444,
              "#bd3786"
             ],
             [
              0.5555555555555556,
              "#d8576b"
             ],
             [
              0.6666666666666666,
              "#ed7953"
             ],
             [
              0.7777777777777778,
              "#fb9f3a"
             ],
             [
              0.8888888888888888,
              "#fdca26"
             ],
             [
              1,
              "#f0f921"
             ]
            ],
            "type": "heatmap"
           }
          ],
          "heatmapgl": [
           {
            "colorbar": {
             "outlinewidth": 0,
             "ticks": ""
            },
            "colorscale": [
             [
              0,
              "#0d0887"
             ],
             [
              0.1111111111111111,
              "#46039f"
             ],
             [
              0.2222222222222222,
              "#7201a8"
             ],
             [
              0.3333333333333333,
              "#9c179e"
             ],
             [
              0.4444444444444444,
              "#bd3786"
             ],
             [
              0.5555555555555556,
              "#d8576b"
             ],
             [
              0.6666666666666666,
              "#ed7953"
             ],
             [
              0.7777777777777778,
              "#fb9f3a"
             ],
             [
              0.8888888888888888,
              "#fdca26"
             ],
             [
              1,
              "#f0f921"
             ]
            ],
            "type": "heatmapgl"
           }
          ],
          "histogram": [
           {
            "marker": {
             "pattern": {
              "fillmode": "overlay",
              "size": 10,
              "solidity": 0.2
             }
            },
            "type": "histogram"
           }
          ],
          "histogram2d": [
           {
            "colorbar": {
             "outlinewidth": 0,
             "ticks": ""
            },
            "colorscale": [
             [
              0,
              "#0d0887"
             ],
             [
              0.1111111111111111,
              "#46039f"
             ],
             [
              0.2222222222222222,
              "#7201a8"
             ],
             [
              0.3333333333333333,
              "#9c179e"
             ],
             [
              0.4444444444444444,
              "#bd3786"
             ],
             [
              0.5555555555555556,
              "#d8576b"
             ],
             [
              0.6666666666666666,
              "#ed7953"
             ],
             [
              0.7777777777777778,
              "#fb9f3a"
             ],
             [
              0.8888888888888888,
              "#fdca26"
             ],
             [
              1,
              "#f0f921"
             ]
            ],
            "type": "histogram2d"
           }
          ],
          "histogram2dcontour": [
           {
            "colorbar": {
             "outlinewidth": 0,
             "ticks": ""
            },
            "colorscale": [
             [
              0,
              "#0d0887"
             ],
             [
              0.1111111111111111,
              "#46039f"
             ],
             [
              0.2222222222222222,
              "#7201a8"
             ],
             [
              0.3333333333333333,
              "#9c179e"
             ],
             [
              0.4444444444444444,
              "#bd3786"
             ],
             [
              0.5555555555555556,
              "#d8576b"
             ],
             [
              0.6666666666666666,
              "#ed7953"
             ],
             [
              0.7777777777777778,
              "#fb9f3a"
             ],
             [
              0.8888888888888888,
              "#fdca26"
             ],
             [
              1,
              "#f0f921"
             ]
            ],
            "type": "histogram2dcontour"
           }
          ],
          "mesh3d": [
           {
            "colorbar": {
             "outlinewidth": 0,
             "ticks": ""
            },
            "type": "mesh3d"
           }
          ],
          "parcoords": [
           {
            "line": {
             "colorbar": {
              "outlinewidth": 0,
              "ticks": ""
             }
            },
            "type": "parcoords"
           }
          ],
          "pie": [
           {
            "automargin": true,
            "type": "pie"
           }
          ],
          "scatter": [
           {
            "fillpattern": {
             "fillmode": "overlay",
             "size": 10,
             "solidity": 0.2
            },
            "type": "scatter"
           }
          ],
          "scatter3d": [
           {
            "line": {
             "colorbar": {
              "outlinewidth": 0,
              "ticks": ""
             }
            },
            "marker": {
             "colorbar": {
              "outlinewidth": 0,
              "ticks": ""
             }
            },
            "type": "scatter3d"
           }
          ],
          "scattercarpet": [
           {
            "marker": {
             "colorbar": {
              "outlinewidth": 0,
              "ticks": ""
             }
            },
            "type": "scattercarpet"
           }
          ],
          "scattergeo": [
           {
            "marker": {
             "colorbar": {
              "outlinewidth": 0,
              "ticks": ""
             }
            },
            "type": "scattergeo"
           }
          ],
          "scattergl": [
           {
            "marker": {
             "colorbar": {
              "outlinewidth": 0,
              "ticks": ""
             }
            },
            "type": "scattergl"
           }
          ],
          "scattermapbox": [
           {
            "marker": {
             "colorbar": {
              "outlinewidth": 0,
              "ticks": ""
             }
            },
            "type": "scattermapbox"
           }
          ],
          "scatterpolar": [
           {
            "marker": {
             "colorbar": {
              "outlinewidth": 0,
              "ticks": ""
             }
            },
            "type": "scatterpolar"
           }
          ],
          "scatterpolargl": [
           {
            "marker": {
             "colorbar": {
              "outlinewidth": 0,
              "ticks": ""
             }
            },
            "type": "scatterpolargl"
           }
          ],
          "scatterternary": [
           {
            "marker": {
             "colorbar": {
              "outlinewidth": 0,
              "ticks": ""
             }
            },
            "type": "scatterternary"
           }
          ],
          "surface": [
           {
            "colorbar": {
             "outlinewidth": 0,
             "ticks": ""
            },
            "colorscale": [
             [
              0,
              "#0d0887"
             ],
             [
              0.1111111111111111,
              "#46039f"
             ],
             [
              0.2222222222222222,
              "#7201a8"
             ],
             [
              0.3333333333333333,
              "#9c179e"
             ],
             [
              0.4444444444444444,
              "#bd3786"
             ],
             [
              0.5555555555555556,
              "#d8576b"
             ],
             [
              0.6666666666666666,
              "#ed7953"
             ],
             [
              0.7777777777777778,
              "#fb9f3a"
             ],
             [
              0.8888888888888888,
              "#fdca26"
             ],
             [
              1,
              "#f0f921"
             ]
            ],
            "type": "surface"
           }
          ],
          "table": [
           {
            "cells": {
             "fill": {
              "color": "#EBF0F8"
             },
             "line": {
              "color": "white"
             }
            },
            "header": {
             "fill": {
              "color": "#C8D4E3"
             },
             "line": {
              "color": "white"
             }
            },
            "type": "table"
           }
          ]
         },
         "layout": {
          "annotationdefaults": {
           "arrowcolor": "#2a3f5f",
           "arrowhead": 0,
           "arrowwidth": 1
          },
          "autotypenumbers": "strict",
          "coloraxis": {
           "colorbar": {
            "outlinewidth": 0,
            "ticks": ""
           }
          },
          "colorscale": {
           "diverging": [
            [
             0,
             "#8e0152"
            ],
            [
             0.1,
             "#c51b7d"
            ],
            [
             0.2,
             "#de77ae"
            ],
            [
             0.3,
             "#f1b6da"
            ],
            [
             0.4,
             "#fde0ef"
            ],
            [
             0.5,
             "#f7f7f7"
            ],
            [
             0.6,
             "#e6f5d0"
            ],
            [
             0.7,
             "#b8e186"
            ],
            [
             0.8,
             "#7fbc41"
            ],
            [
             0.9,
             "#4d9221"
            ],
            [
             1,
             "#276419"
            ]
           ],
           "sequential": [
            [
             0,
             "#0d0887"
            ],
            [
             0.1111111111111111,
             "#46039f"
            ],
            [
             0.2222222222222222,
             "#7201a8"
            ],
            [
             0.3333333333333333,
             "#9c179e"
            ],
            [
             0.4444444444444444,
             "#bd3786"
            ],
            [
             0.5555555555555556,
             "#d8576b"
            ],
            [
             0.6666666666666666,
             "#ed7953"
            ],
            [
             0.7777777777777778,
             "#fb9f3a"
            ],
            [
             0.8888888888888888,
             "#fdca26"
            ],
            [
             1,
             "#f0f921"
            ]
           ],
           "sequentialminus": [
            [
             0,
             "#0d0887"
            ],
            [
             0.1111111111111111,
             "#46039f"
            ],
            [
             0.2222222222222222,
             "#7201a8"
            ],
            [
             0.3333333333333333,
             "#9c179e"
            ],
            [
             0.4444444444444444,
             "#bd3786"
            ],
            [
             0.5555555555555556,
             "#d8576b"
            ],
            [
             0.6666666666666666,
             "#ed7953"
            ],
            [
             0.7777777777777778,
             "#fb9f3a"
            ],
            [
             0.8888888888888888,
             "#fdca26"
            ],
            [
             1,
             "#f0f921"
            ]
           ]
          },
          "colorway": [
           "#636efa",
           "#EF553B",
           "#00cc96",
           "#ab63fa",
           "#FFA15A",
           "#19d3f3",
           "#FF6692",
           "#B6E880",
           "#FF97FF",
           "#FECB52"
          ],
          "font": {
           "color": "#2a3f5f"
          },
          "geo": {
           "bgcolor": "white",
           "lakecolor": "white",
           "landcolor": "#E5ECF6",
           "showlakes": true,
           "showland": true,
           "subunitcolor": "white"
          },
          "hoverlabel": {
           "align": "left"
          },
          "hovermode": "closest",
          "mapbox": {
           "style": "light"
          },
          "paper_bgcolor": "white",
          "plot_bgcolor": "#E5ECF6",
          "polar": {
           "angularaxis": {
            "gridcolor": "white",
            "linecolor": "white",
            "ticks": ""
           },
           "bgcolor": "#E5ECF6",
           "radialaxis": {
            "gridcolor": "white",
            "linecolor": "white",
            "ticks": ""
           }
          },
          "scene": {
           "xaxis": {
            "backgroundcolor": "#E5ECF6",
            "gridcolor": "white",
            "gridwidth": 2,
            "linecolor": "white",
            "showbackground": true,
            "ticks": "",
            "zerolinecolor": "white"
           },
           "yaxis": {
            "backgroundcolor": "#E5ECF6",
            "gridcolor": "white",
            "gridwidth": 2,
            "linecolor": "white",
            "showbackground": true,
            "ticks": "",
            "zerolinecolor": "white"
           },
           "zaxis": {
            "backgroundcolor": "#E5ECF6",
            "gridcolor": "white",
            "gridwidth": 2,
            "linecolor": "white",
            "showbackground": true,
            "ticks": "",
            "zerolinecolor": "white"
           }
          },
          "shapedefaults": {
           "line": {
            "color": "#2a3f5f"
           }
          },
          "ternary": {
           "aaxis": {
            "gridcolor": "white",
            "linecolor": "white",
            "ticks": ""
           },
           "baxis": {
            "gridcolor": "white",
            "linecolor": "white",
            "ticks": ""
           },
           "bgcolor": "#E5ECF6",
           "caxis": {
            "gridcolor": "white",
            "linecolor": "white",
            "ticks": ""
           }
          },
          "title": {
           "x": 0.05
          },
          "xaxis": {
           "automargin": true,
           "gridcolor": "white",
           "linecolor": "white",
           "ticks": "",
           "title": {
            "standoff": 15
           },
           "zerolinecolor": "white",
           "zerolinewidth": 2
          },
          "yaxis": {
           "automargin": true,
           "gridcolor": "white",
           "linecolor": "white",
           "ticks": "",
           "title": {
            "standoff": 15
           },
           "zerolinecolor": "white",
           "zerolinewidth": 2
          }
         }
        },
        "title": {
         "text": ""
        },
        "xaxis": {
         "showticklabels": false,
         "title": {
          "text": "Program"
         }
        },
        "yaxis": {
         "title": {
          "text": "pearsonr"
         }
        }
       }
      },
      "text/html": [
       "<div>                            <div id=\"1f3ae9e0-6a46-4a56-b013-11eb7e82f1eb\" class=\"plotly-graph-div\" style=\"height:525px; width:100%;\"></div>            <script type=\"text/javascript\">                require([\"plotly\"], function(Plotly) {                    window.PLOTLYENV=window.PLOTLYENV || {};                                    if (document.getElementById(\"1f3ae9e0-6a46-4a56-b013-11eb7e82f1eb\")) {                    Plotly.newPlot(                        \"1f3ae9e0-6a46-4a56-b013-11eb7e82f1eb\",                        [{\"marker\":{\"color\":\"blue\",\"size\":8},\"mode\":\"markers\",\"x\":[\"0\",\"5\",\"1\",\"11\",\"17\",\"9\",\"16\",\"14\",\"7\",\"10\",\"22\",\"13\",\"26\",\"12\",\"20\",\"4\",\"21\",\"3\",\"27\",\"24\",\"2\",\"19\",\"6\",\"25\",\"8\",\"28\",\"18\",\"29\",\"15\",\"23\"],\"y\":[0.8701694115659975,0.840548760022769,0.732121637466917,0.6731342403180882,0.669820827059608,0.6661624009990673,0.6586107661304458,0.6369163778765285,0.6228927506871792,0.6056907987956265,0.5896496014553857,0.5795817583932475,0.5264240720567882,0.5127466584045531,0.5111672179724097,0.4519077602958159,0.4058386571522245,0.3720037706216355,0.3665186793376253,0.3654535641842185,0.3542133245026343,0.3531728919843627,0.3521608797047418,0.3491554349492543,0.3421304786541317,0.2823876840240739,0.2698742568545855,0.2582254315858623,0.2328365053290154,0.2001424359191525],\"type\":\"scattergl\"}],                        {\"template\":{\"data\":{\"histogram2dcontour\":[{\"type\":\"histogram2dcontour\",\"colorbar\":{\"outlinewidth\":0,\"ticks\":\"\"},\"colorscale\":[[0.0,\"#0d0887\"],[0.1111111111111111,\"#46039f\"],[0.2222222222222222,\"#7201a8\"],[0.3333333333333333,\"#9c179e\"],[0.4444444444444444,\"#bd3786\"],[0.5555555555555556,\"#d8576b\"],[0.6666666666666666,\"#ed7953\"],[0.7777777777777778,\"#fb9f3a\"],[0.8888888888888888,\"#fdca26\"],[1.0,\"#f0f921\"]]}],\"choropleth\":[{\"type\":\"choropleth\",\"colorbar\":{\"outlinewidth\":0,\"ticks\":\"\"}}],\"histogram2d\":[{\"type\":\"histogram2d\",\"colorbar\":{\"outlinewidth\":0,\"ticks\":\"\"},\"colorscale\":[[0.0,\"#0d0887\"],[0.1111111111111111,\"#46039f\"],[0.2222222222222222,\"#7201a8\"],[0.3333333333333333,\"#9c179e\"],[0.4444444444444444,\"#bd3786\"],[0.5555555555555556,\"#d8576b\"],[0.6666666666666666,\"#ed7953\"],[0.7777777777777778,\"#fb9f3a\"],[0.8888888888888888,\"#fdca26\"],[1.0,\"#f0f921\"]]}],\"heatmap\":[{\"type\":\"heatmap\",\"colorbar\":{\"outlinewidth\":0,\"ticks\":\"\"},\"colorscale\":[[0.0,\"#0d0887\"],[0.1111111111111111,\"#46039f\"],[0.2222222222222222,\"#7201a8\"],[0.3333333333333333,\"#9c179e\"],[0.4444444444444444,\"#bd3786\"],[0.5555555555555556,\"#d8576b\"],[0.6666666666666666,\"#ed7953\"],[0.7777777777777778,\"#fb9f3a\"],[0.8888888888888888,\"#fdca26\"],[1.0,\"#f0f921\"]]}],\"heatmapgl\":[{\"type\":\"heatmapgl\",\"colorbar\":{\"outlinewidth\":0,\"ticks\":\"\"},\"colorscale\":[[0.0,\"#0d0887\"],[0.1111111111111111,\"#46039f\"],[0.2222222222222222,\"#7201a8\"],[0.3333333333333333,\"#9c179e\"],[0.4444444444444444,\"#bd3786\"],[0.5555555555555556,\"#d8576b\"],[0.6666666666666666,\"#ed7953\"],[0.7777777777777778,\"#fb9f3a\"],[0.8888888888888888,\"#fdca26\"],[1.0,\"#f0f921\"]]}],\"contourcarpet\":[{\"type\":\"contourcarpet\",\"colorbar\":{\"outlinewidth\":0,\"ticks\":\"\"}}],\"contour\":[{\"type\":\"contour\",\"colorbar\":{\"outlinewidth\":0,\"ticks\":\"\"},\"colorscale\":[[0.0,\"#0d0887\"],[0.1111111111111111,\"#46039f\"],[0.2222222222222222,\"#7201a8\"],[0.3333333333333333,\"#9c179e\"],[0.4444444444444444,\"#bd3786\"],[0.5555555555555556,\"#d8576b\"],[0.6666666666666666,\"#ed7953\"],[0.7777777777777778,\"#fb9f3a\"],[0.8888888888888888,\"#fdca26\"],[1.0,\"#f0f921\"]]}],\"surface\":[{\"type\":\"surface\",\"colorbar\":{\"outlinewidth\":0,\"ticks\":\"\"},\"colorscale\":[[0.0,\"#0d0887\"],[0.1111111111111111,\"#46039f\"],[0.2222222222222222,\"#7201a8\"],[0.3333333333333333,\"#9c179e\"],[0.4444444444444444,\"#bd3786\"],[0.5555555555555556,\"#d8576b\"],[0.6666666666666666,\"#ed7953\"],[0.7777777777777778,\"#fb9f3a\"],[0.8888888888888888,\"#fdca26\"],[1.0,\"#f0f921\"]]}],\"mesh3d\":[{\"type\":\"mesh3d\",\"colorbar\":{\"outlinewidth\":0,\"ticks\":\"\"}}],\"scatter\":[{\"fillpattern\":{\"fillmode\":\"overlay\",\"size\":10,\"solidity\":0.2},\"type\":\"scatter\"}],\"parcoords\":[{\"type\":\"parcoords\",\"line\":{\"colorbar\":{\"outlinewidth\":0,\"ticks\":\"\"}}}],\"scatterpolargl\":[{\"type\":\"scatterpolargl\",\"marker\":{\"colorbar\":{\"outlinewidth\":0,\"ticks\":\"\"}}}],\"bar\":[{\"error_x\":{\"color\":\"#2a3f5f\"},\"error_y\":{\"color\":\"#2a3f5f\"},\"marker\":{\"line\":{\"color\":\"#E5ECF6\",\"width\":0.5},\"pattern\":{\"fillmode\":\"overlay\",\"size\":10,\"solidity\":0.2}},\"type\":\"bar\"}],\"scattergeo\":[{\"type\":\"scattergeo\",\"marker\":{\"colorbar\":{\"outlinewidth\":0,\"ticks\":\"\"}}}],\"scatterpolar\":[{\"type\":\"scatterpolar\",\"marker\":{\"colorbar\":{\"outlinewidth\":0,\"ticks\":\"\"}}}],\"histogram\":[{\"marker\":{\"pattern\":{\"fillmode\":\"overlay\",\"size\":10,\"solidity\":0.2}},\"type\":\"histogram\"}],\"scattergl\":[{\"type\":\"scattergl\",\"marker\":{\"colorbar\":{\"outlinewidth\":0,\"ticks\":\"\"}}}],\"scatter3d\":[{\"type\":\"scatter3d\",\"line\":{\"colorbar\":{\"outlinewidth\":0,\"ticks\":\"\"}},\"marker\":{\"colorbar\":{\"outlinewidth\":0,\"ticks\":\"\"}}}],\"scattermapbox\":[{\"type\":\"scattermapbox\",\"marker\":{\"colorbar\":{\"outlinewidth\":0,\"ticks\":\"\"}}}],\"scatterternary\":[{\"type\":\"scatterternary\",\"marker\":{\"colorbar\":{\"outlinewidth\":0,\"ticks\":\"\"}}}],\"scattercarpet\":[{\"type\":\"scattercarpet\",\"marker\":{\"colorbar\":{\"outlinewidth\":0,\"ticks\":\"\"}}}],\"carpet\":[{\"aaxis\":{\"endlinecolor\":\"#2a3f5f\",\"gridcolor\":\"white\",\"linecolor\":\"white\",\"minorgridcolor\":\"white\",\"startlinecolor\":\"#2a3f5f\"},\"baxis\":{\"endlinecolor\":\"#2a3f5f\",\"gridcolor\":\"white\",\"linecolor\":\"white\",\"minorgridcolor\":\"white\",\"startlinecolor\":\"#2a3f5f\"},\"type\":\"carpet\"}],\"table\":[{\"cells\":{\"fill\":{\"color\":\"#EBF0F8\"},\"line\":{\"color\":\"white\"}},\"header\":{\"fill\":{\"color\":\"#C8D4E3\"},\"line\":{\"color\":\"white\"}},\"type\":\"table\"}],\"barpolar\":[{\"marker\":{\"line\":{\"color\":\"#E5ECF6\",\"width\":0.5},\"pattern\":{\"fillmode\":\"overlay\",\"size\":10,\"solidity\":0.2}},\"type\":\"barpolar\"}],\"pie\":[{\"automargin\":true,\"type\":\"pie\"}]},\"layout\":{\"autotypenumbers\":\"strict\",\"colorway\":[\"#636efa\",\"#EF553B\",\"#00cc96\",\"#ab63fa\",\"#FFA15A\",\"#19d3f3\",\"#FF6692\",\"#B6E880\",\"#FF97FF\",\"#FECB52\"],\"font\":{\"color\":\"#2a3f5f\"},\"hovermode\":\"closest\",\"hoverlabel\":{\"align\":\"left\"},\"paper_bgcolor\":\"white\",\"plot_bgcolor\":\"#E5ECF6\",\"polar\":{\"bgcolor\":\"#E5ECF6\",\"angularaxis\":{\"gridcolor\":\"white\",\"linecolor\":\"white\",\"ticks\":\"\"},\"radialaxis\":{\"gridcolor\":\"white\",\"linecolor\":\"white\",\"ticks\":\"\"}},\"ternary\":{\"bgcolor\":\"#E5ECF6\",\"aaxis\":{\"gridcolor\":\"white\",\"linecolor\":\"white\",\"ticks\":\"\"},\"baxis\":{\"gridcolor\":\"white\",\"linecolor\":\"white\",\"ticks\":\"\"},\"caxis\":{\"gridcolor\":\"white\",\"linecolor\":\"white\",\"ticks\":\"\"}},\"coloraxis\":{\"colorbar\":{\"outlinewidth\":0,\"ticks\":\"\"}},\"colorscale\":{\"sequential\":[[0.0,\"#0d0887\"],[0.1111111111111111,\"#46039f\"],[0.2222222222222222,\"#7201a8\"],[0.3333333333333333,\"#9c179e\"],[0.4444444444444444,\"#bd3786\"],[0.5555555555555556,\"#d8576b\"],[0.6666666666666666,\"#ed7953\"],[0.7777777777777778,\"#fb9f3a\"],[0.8888888888888888,\"#fdca26\"],[1.0,\"#f0f921\"]],\"sequentialminus\":[[0.0,\"#0d0887\"],[0.1111111111111111,\"#46039f\"],[0.2222222222222222,\"#7201a8\"],[0.3333333333333333,\"#9c179e\"],[0.4444444444444444,\"#bd3786\"],[0.5555555555555556,\"#d8576b\"],[0.6666666666666666,\"#ed7953\"],[0.7777777777777778,\"#fb9f3a\"],[0.8888888888888888,\"#fdca26\"],[1.0,\"#f0f921\"]],\"diverging\":[[0,\"#8e0152\"],[0.1,\"#c51b7d\"],[0.2,\"#de77ae\"],[0.3,\"#f1b6da\"],[0.4,\"#fde0ef\"],[0.5,\"#f7f7f7\"],[0.6,\"#e6f5d0\"],[0.7,\"#b8e186\"],[0.8,\"#7fbc41\"],[0.9,\"#4d9221\"],[1,\"#276419\"]]},\"xaxis\":{\"gridcolor\":\"white\",\"linecolor\":\"white\",\"ticks\":\"\",\"title\":{\"standoff\":15},\"zerolinecolor\":\"white\",\"automargin\":true,\"zerolinewidth\":2},\"yaxis\":{\"gridcolor\":\"white\",\"linecolor\":\"white\",\"ticks\":\"\",\"title\":{\"standoff\":15},\"zerolinecolor\":\"white\",\"automargin\":true,\"zerolinewidth\":2},\"scene\":{\"xaxis\":{\"backgroundcolor\":\"#E5ECF6\",\"gridcolor\":\"white\",\"linecolor\":\"white\",\"showbackground\":true,\"ticks\":\"\",\"zerolinecolor\":\"white\",\"gridwidth\":2},\"yaxis\":{\"backgroundcolor\":\"#E5ECF6\",\"gridcolor\":\"white\",\"linecolor\":\"white\",\"showbackground\":true,\"ticks\":\"\",\"zerolinecolor\":\"white\",\"gridwidth\":2},\"zaxis\":{\"backgroundcolor\":\"#E5ECF6\",\"gridcolor\":\"white\",\"linecolor\":\"white\",\"showbackground\":true,\"ticks\":\"\",\"zerolinecolor\":\"white\",\"gridwidth\":2}},\"shapedefaults\":{\"line\":{\"color\":\"#2a3f5f\"}},\"annotationdefaults\":{\"arrowcolor\":\"#2a3f5f\",\"arrowhead\":0,\"arrowwidth\":1},\"geo\":{\"bgcolor\":\"white\",\"landcolor\":\"#E5ECF6\",\"subunitcolor\":\"white\",\"showland\":true,\"showlakes\":true,\"lakecolor\":\"white\"},\"title\":{\"x\":0.05},\"mapbox\":{\"style\":\"light\"}}},\"xaxis\":{\"title\":{\"text\":\"Program\"},\"showticklabels\":false},\"title\":{\"text\":\"\"},\"yaxis\":{\"title\":{\"text\":\"pearsonr\"}},\"plot_bgcolor\":\"rgba(0,0,0,0)\"},                        {\"responsive\": true}                    ).then(function(){\n",
       "                            \n",
       "var gd = document.getElementById('1f3ae9e0-6a46-4a56-b013-11eb7e82f1eb');\n",
       "var x = new MutationObserver(function (mutations, observer) {{\n",
       "        var display = window.getComputedStyle(gd).display;\n",
       "        if (!display || display === 'none') {{\n",
       "            console.log([gd, 'removed!']);\n",
       "            Plotly.purge(gd);\n",
       "            observer.disconnect();\n",
       "        }}\n",
       "}});\n",
       "\n",
       "// Listen for the removal of the full notebook cells\n",
       "var notebookContainer = gd.closest('#notebook-container');\n",
       "if (notebookContainer) {{\n",
       "    x.observe(notebookContainer, {childList: true});\n",
       "}}\n",
       "\n",
       "// Listen for the clearing of the current output cell\n",
       "var outputEl = gd.closest('.output');\n",
       "if (outputEl) {{\n",
       "    x.observe(outputEl, {childList: true});\n",
       "}}\n",
       "\n",
       "                        })                };                });            </script>        </div>"
      ]
     },
     "metadata": {},
     "output_type": "display_data"
    }
   ],
   "source": [
    "scatterplot(\n",
    "    data=plot_data,\n",
    "    x_column=\"program_name\",\n",
    "    y_column=method,\n",
    "    title=\"\",\n",
    "    x_axis_title=\"Program\",\n",
    "    y_axis_title=method,\n",
    "    sorted=True,\n",
    "    cumulative=False,\n",
    "    show_xaxis_labels=False,\n",
    "    colors=None,\n",
    "    size=8,\n",
    ")"
   ]
  },
  {
   "cell_type": "code",
   "execution_count": null,
   "metadata": {},
   "outputs": [],
   "source": [
    "new_cols = categorical_association_posthoc_stat.columns.str.split(f\"{categorical_keys[0]}_\", n=1).str[1].str.rstrip(\"_stat\").str.rsplit('_', n=1).str[0]\n",
    "method = categorical_association_posthoc_stat.columns.str.split(f\"{categorical_keys[0]}_\", n=1).str[1].str.rstrip(\"_stat\").str.rsplit('_', n=1).str[1].unique()[0]\n",
    "categorical_association_posthoc_stat.columns = new_cols\n",
    "plot_data = categorical_association_posthoc_stat.T"
   ]
  },
  {
   "cell_type": "code",
   "execution_count": null,
   "metadata": {},
   "outputs": [],
   "source": []
  },
  {
   "cell_type": "code",
   "execution_count": 93,
   "metadata": {},
   "outputs": [],
   "source": [
    "import numpy as np\n",
    "import pandas as pd\n",
    "from scipy import stats\n",
    "from statsmodels.stats.multitest import fdrcorrection\n",
    "\n",
    "import seaborn as sns\n",
    "from matplotlib import pyplot as plt\n",
    "\n",
    "\n",
    "def convertDatTraits(data):\n",
    "    \"\"\"\n",
    "    get data trait module base on samples information\n",
    "\n",
    "    :return: a dataframe contains information in suitable format for plotting module trait relationship heatmap\n",
    "    :rtype: pandas dataframe\n",
    "    \"\"\"\n",
    "    datTraits = pd.DataFrame(index=data.index)\n",
    "    for i in range(data.shape[1]):\n",
    "        data.iloc[:, i] = data.iloc[:, i].astype(str)\n",
    "        if len(np.unique(data.iloc[:, i])) == 2:\n",
    "            datTraits[data.columns[i]] = data.iloc[:, i]\n",
    "            org = np.unique(data.iloc[:, i]).tolist()\n",
    "            rep = list(range(len(org)))\n",
    "            datTraits.replace(to_replace=org, value=rep,\n",
    "                              inplace=True)\n",
    "        elif len(np.unique(data.iloc[:, i])) > 2:\n",
    "            for name in np.unique(data.iloc[:, i]):\n",
    "                datTraits[name] = data.iloc[:, i]\n",
    "                org = np.unique(data.iloc[:, i])\n",
    "                rep = np.repeat(0, len(org))\n",
    "                rep[np.where(org == name)] = 1\n",
    "                org = org.tolist()\n",
    "                rep = rep.tolist()\n",
    "                datTraits.replace(to_replace=org, value=rep, inplace=True)\n",
    "\n",
    "    return datTraits\n",
    "\n",
    "\n",
    "def plot_topic_trait_relationship_heatmap(\n",
    "        cell_topic_participation,\n",
    "        metaData,\n",
    "        covariates,\n",
    "        annotation=False,\n",
    "    ):\n",
    "    \"\"\"\n",
    "    plot topic-trait relationship heatmap\n",
    "\n",
    "    :param cell_topic_participation: Anndata contains cell topic participation where cell information is obs and topic information is var\n",
    "    :type cell_topic_participation: Anndata\n",
    "    :param metaData: traits you would like to see the relationship with topics (must be column name of cell_participation.obs)\n",
    "    :type metaData: list\n",
    "    :param annotation: indicate if you want to add correlation and p_values as a text in each square (default:False)\n",
    "    :type annotation: bool\n",
    "    :param save: indicate if you want to save the plot or not (default: True)\n",
    "    :type save: bool\n",
    "    :param show: indicate if you want to show the plot or not (default: True)\n",
    "    :type show: bool\n",
    "    :param file_format: indicate the format of plot (default: pdf)\n",
    "    :type file_format: str\n",
    "    :param file_name: name and path of the plot use for save (default: topic-traitRelationships)\n",
    "    :type file_name: str\n",
    "    \"\"\"\n",
    "    datTraits = convertDatTraits(metaData[covariates])\n",
    "    datTraits.index = cell_topic_participation.index\n",
    "\n",
    "    topicsTraitCor = pd.DataFrame(index=cell_topic_participation.columns,\n",
    "                                  columns=datTraits.columns,\n",
    "                                  dtype=\"float\")\n",
    "    topicsTraitPvalue = pd.DataFrame(index=cell_topic_participation.columns,\n",
    "                                     columns=datTraits.columns,\n",
    "                                     dtype=\"float\")\n",
    "    min_cell_participation = cell_topic_participation.min().min()\n",
    "    for i in cell_topic_participation.columns:\n",
    "        for j in datTraits.columns:\n",
    "            tmp = cell_topic_participation[\n",
    "                ~np.isclose(cell_topic_participation[i],\n",
    "                            min_cell_participation, atol=min_cell_participation)]\n",
    "            tmp = stats.spearmanr(tmp[i], datTraits.loc[tmp.index, j], alternative='greater')\n",
    "            topicsTraitCor.loc[i, j] = tmp[0]\n",
    "            topicsTraitPvalue.loc[i, j] = tmp[1]\n",
    "\n",
    "    topicsTraitCor.fillna(0.0, inplace=True)\n",
    "    topicsTraitPvalue.fillna(1.0, inplace=True)\n",
    "\n",
    "    for i in range(topicsTraitPvalue.shape[0]):\n",
    "        rejected, tmp = fdrcorrection(topicsTraitPvalue.iloc[i, :])\n",
    "        if not rejected.all():\n",
    "            topicsTraitPvalue.iloc[i, :] = tmp\n",
    "\n",
    "    xlabels = cell_topic_participation.columns\n",
    "    ylabels = datTraits.columns\n",
    "\n",
    "    if annotation:\n",
    "        fig, ax = plt.subplots(figsize=(topicsTraitPvalue.shape[0] * 1.5,\n",
    "                                        topicsTraitPvalue.shape[1] * 1.5), facecolor='white')\n",
    "\n",
    "        # Loop over data dimensions and create text annotations.\n",
    "        tmp_cor = topicsTraitCor.T.round(decimals=3)\n",
    "        tmp_pvalue = topicsTraitPvalue.T.round(decimals=3)\n",
    "        labels = (np.asarray([\"{0}\\n({1})\".format(cor, pvalue)\n",
    "                              for cor, pvalue in zip(tmp_cor.values.flatten(),\n",
    "                                                     tmp_pvalue.values.flatten())])) \\\n",
    "            .reshape(topicsTraitCor.T.shape)\n",
    "\n",
    "        sns.set(font_scale=1.5)\n",
    "        res = sns.heatmap(topicsTraitCor.T, annot=labels, fmt=\"\", cmap='RdBu_r',\n",
    "                          vmin=-1, vmax=1, ax=ax, annot_kws={'size': 20, \"weight\": \"bold\"},\n",
    "                          xticklabels=xlabels, yticklabels=ylabels)\n",
    "\n",
    "    else:\n",
    "        fig, ax = plt.subplots(figsize=(topicsTraitPvalue.shape[0],\n",
    "                                        topicsTraitPvalue.shape[1]), facecolor='white')\n",
    "\n",
    "        sns.set(font_scale=1.5)\n",
    "        res = sns.heatmap(topicsTraitCor.T, cmap='RdBu_r',\n",
    "                          vmin=-1, vmax=1, ax=ax, annot_kws={'size': 20, \"weight\": \"bold\"},\n",
    "                          xticklabels=xlabels, yticklabels=ylabels)\n",
    "    res.set_xticklabels(res.get_xmajorticklabels(), fontsize=20, fontweight=\"bold\", rotation=90)\n",
    "    res.set_yticklabels(res.get_ymajorticklabels(), fontsize=20, fontweight=\"bold\")\n",
    "    plt.yticks(rotation=0)\n",
    "    ax.set_title(f\"Topic-trait Relationships heatmap\",\n",
    "                 fontsize=30, fontweight=\"bold\")\n",
    "    ax.set_facecolor('white')\n",
    "\n",
    "\n"
   ]
  },
  {
   "cell_type": "code",
   "execution_count": 95,
   "metadata": {},
   "outputs": [],
   "source": [
    "cell_membership = results[\"obs_memberships\"]['cNMF_30']\n",
    "obs = results[\"obs\"]"
   ]
  },
  {
   "cell_type": "code",
   "execution_count": 97,
   "metadata": {},
   "outputs": [
    {
     "name": "stderr",
     "output_type": "stream",
     "text": [
      "/tmp/ipykernel_997246/3375009370.py:19: SettingWithCopyWarning: \n",
      "A value is trying to be set on a copy of a slice from a DataFrame.\n",
      "Try using .loc[row_indexer,col_indexer] = value instead\n",
      "\n",
      "See the caveats in the documentation: https://pandas.pydata.org/pandas-docs/stable/user_guide/indexing.html#returning-a-view-versus-a-copy\n",
      "  data.iloc[:, i] = data.iloc[:, i].astype(str)\n",
      "/tmp/ipykernel_997246/3375009370.py:19: DeprecationWarning: In a future version, `df.iloc[:, i] = newvals` will attempt to set the values inplace instead of always setting a new array. To retain the old behavior, use either `df[df.columns[i]] = newvals` or, if columns are non-unique, `df.isetitem(i, newvals)`\n",
      "  data.iloc[:, i] = data.iloc[:, i].astype(str)\n"
     ]
    },
    {
     "data": {
      "image/png": "[encoded data removed]",
      "text/plain": [
       "<Figure size 3000x400 with 2 Axes>"
      ]
     },
     "metadata": {},
     "output_type": "display_data"
    }
   ],
   "source": [
    "plot_topic_trait_relationship_heatmap(\n",
    "    cell_membership, \n",
    "    obs,\n",
    "    covariates=[\"sample\"],\n",
    "    annotation=False\n",
    ")"
   ]
  },
  {
   "cell_type": "code",
   "execution_count": null,
   "metadata": {},
   "outputs": [],
   "source": []
  },
  {
   "cell_type": "code",
   "execution_count": null,
   "metadata": {},
   "outputs": [],
   "source": []
  }
 ],
 "metadata": {
  "kernelspec": {
   "display_name": "Python 3.10 test_celloracle",
   "language": "python",
   "name": "test_scenicplus-py310"
  },
  "language_info": {
   "codemirror_mode": {
    "name": "ipython",
    "version": 3
   },
   "file_extension": ".py",
   "mimetype": "text/x-python",
   "name": "python",
   "nbconvert_exporter": "python",
   "pygments_lexer": "ipython3",
   "version": "3.10.8"
  }
 },
 "nbformat": 4,
 "nbformat_minor": 2
}
