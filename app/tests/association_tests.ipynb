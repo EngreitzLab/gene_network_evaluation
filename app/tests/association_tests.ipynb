{
 "cells": [
  {
   "cell_type": "markdown",
   "metadata": {},
   "source": [
    "# Set-up"
   ]
  },
  {
   "cell_type": "code",
   "execution_count": 75,
   "metadata": {},
   "outputs": [],
   "source": [
    "import os\n",
    "import sys\n",
    "import yaml\n",
    "import logging\n",
    "import mudata\n",
    "import numpy as np\n",
    "import pandas as pd\n",
    "from tqdm.auto import tqdm\n",
    "from joblib import Parallel, delayed\n",
    "from typing import List, Dict, Tuple, Union, Optional, Literal\n",
    "\n",
    "from scipy import stats\n",
    "from statsmodels.stats.multitest import multipletests\n",
    "\n",
    "# Change path to wherever you have repo locally\n",
    "sys.path.append('/cellar/users/aklie/opt/gene_program_evaluation')\n",
    "\n",
    "from src.evaluation import (\n",
    "    compute_categorical_association,\n",
    "    compute_geneset_enrichment,\n",
    "    compute_trait_enrichment,\n",
    "    compute_perturbation_association,\n",
    "    compute_explained_variance_ratio,\n",
    "    compute_motif_enrichment\n",
    ")\n",
    "from src.evaluation.enrichment_trait import process_enrichment_data"
   ]
  },
  {
   "cell_type": "code",
   "execution_count": 2,
   "metadata": {},
   "outputs": [],
   "source": [
    "# I/O paths\n",
    "path_config = \"/cellar/users/aklie/opt/gene_program_evaluation/examples/evaluation/iPSC_EC/cNMF_30/evaluation_pipeline.yml\"\n",
    "config = yaml.safe_load(open(path_config))"
   ]
  },
  {
   "cell_type": "markdown",
   "metadata": {},
   "source": [
    "## I/O"
   ]
  },
  {
   "cell_type": "code",
   "execution_count": 3,
   "metadata": {},
   "outputs": [
    {
     "data": {
      "text/plain": [
       "{'path_mdata': '/cellar/users/aklie/opt/gene_program_evaluation/examples/inference/iPSC_EC/cNMF/cNMF_30_0.2_gene_names.h5mu',\n",
       " 'path_out': '/cellar/users/aklie/opt/gene_program_evaluation/examples/evaluation/iPSC_EC/cNMF_30',\n",
       " 'data_key': 'rna',\n",
       " 'prog_key': 'cNMF'}"
      ]
     },
     "execution_count": 3,
     "metadata": {},
     "output_type": "execute_result"
    }
   ],
   "source": [
    "io_config = config['io']\n",
    "io_config"
   ]
  },
  {
   "cell_type": "code",
   "execution_count": 4,
   "metadata": {},
   "outputs": [
    {
     "name": "stderr",
     "output_type": "stream",
     "text": [
      "/cellar/users/aklie/opt/miniconda3/envs/test_celloracle/lib/python3.10/site-packages/anndata/_core/anndata.py:522: FutureWarning: The dtype argument is deprecated and will be removed in late 2024.\n",
      "  warnings.warn(\n",
      "/cellar/users/aklie/opt/miniconda3/envs/test_celloracle/lib/python3.10/site-packages/anndata/_core/anndata.py:522: FutureWarning: The dtype argument is deprecated and will be removed in late 2024.\n",
      "  warnings.warn(\n",
      "/cellar/users/aklie/opt/miniconda3/envs/test_celloracle/lib/python3.10/site-packages/anndata/_core/anndata.py:1899: UserWarning: Variable names are not unique. To make them unique, call `.var_names_make_unique`.\n",
      "  utils.warn_names_duplicates(\"var\")\n",
      "/cellar/users/aklie/opt/miniconda3/envs/test_celloracle/lib/python3.10/site-packages/mudata/_core/mudata.py:479: UserWarning: var_names are not unique. To make them unique, call `.var_names_make_unique`.\n",
      "  warnings.warn(\n"
     ]
    },
    {
     "data": {
      "text/html": [
       "<pre>MuData object with n_obs × n_vars = 92284 × 5481\n",
       "  2 modalities\n",
       "    rna:\t92284 x 5451\n",
       "      obs:\t&#x27;sample&#x27;, &#x27;species&#x27;, &#x27;gene_count&#x27;, &#x27;tscp_count&#x27;, &#x27;mread_count&#x27;, &#x27;leiden&#x27;, &#x27;n_counts&#x27;\n",
       "      obsm:\t&#x27;X_pca&#x27;, &#x27;X_umap&#x27;\n",
       "      layers:\t&#x27;norm10k&#x27;\n",
       "    cNMF:\t92284 x 30\n",
       "      obs:\t&#x27;sample&#x27;, &#x27;species&#x27;, &#x27;gene_count&#x27;, &#x27;tscp_count&#x27;, &#x27;mread_count&#x27;, &#x27;leiden&#x27;, &#x27;n_counts&#x27;\n",
       "      uns:\t&#x27;guide_names&#x27;, &#x27;guide_targets&#x27;, &#x27;var_names&#x27;\n",
       "      obsm:\t&#x27;guide_assignment&#x27;\n",
       "      varm:\t&#x27;loadings&#x27;</pre>"
      ],
      "text/plain": [
       "MuData object with n_obs × n_vars = 92284 × 5481\n",
       "  2 modalities\n",
       "    rna:\t92284 x 5451\n",
       "      obs:\t'sample', 'species', 'gene_count', 'tscp_count', 'mread_count', 'leiden', 'n_counts'\n",
       "      obsm:\t'X_pca', 'X_umap'\n",
       "      layers:\t'norm10k'\n",
       "    cNMF:\t92284 x 30\n",
       "      obs:\t'sample', 'species', 'gene_count', 'tscp_count', 'mread_count', 'leiden', 'n_counts'\n",
       "      uns:\t'guide_names', 'guide_targets', 'var_names'\n",
       "      obsm:\t'guide_assignment'\n",
       "      varm:\t'loadings'"
      ]
     },
     "execution_count": 4,
     "metadata": {},
     "output_type": "execute_result"
    }
   ],
   "source": [
    "# Load mdata\n",
    "path_mdata = io_config['path_mdata']\n",
    "mdata = mudata.read(path_mdata)\n",
    "mdata"
   ]
  },
  {
   "cell_type": "code",
   "execution_count": 5,
   "metadata": {},
   "outputs": [],
   "source": [
    "prog_key = \"cNMF\"\n",
    "data_key = \"rna\""
   ]
  },
  {
   "cell_type": "code",
   "execution_count": 6,
   "metadata": {},
   "outputs": [
    {
     "data": {
      "text/html": [
       "<pre>MuData object with n_obs × n_vars = 92284 × 5481\n",
       "  2 modalities\n",
       "    rna:\t92284 x 5451\n",
       "      obs:\t&#x27;sample&#x27;, &#x27;species&#x27;, &#x27;gene_count&#x27;, &#x27;tscp_count&#x27;, &#x27;mread_count&#x27;, &#x27;leiden&#x27;, &#x27;n_counts&#x27;\n",
       "      obsm:\t&#x27;X_pca&#x27;, &#x27;X_umap&#x27;\n",
       "      layers:\t&#x27;norm10k&#x27;\n",
       "    cNMF:\t92284 x 3\n",
       "      obs:\t&#x27;sample&#x27;, &#x27;species&#x27;, &#x27;gene_count&#x27;, &#x27;tscp_count&#x27;, &#x27;mread_count&#x27;, &#x27;leiden&#x27;, &#x27;n_counts&#x27;\n",
       "      uns:\t&#x27;guide_names&#x27;, &#x27;guide_targets&#x27;, &#x27;var_names&#x27;\n",
       "      obsm:\t&#x27;guide_assignment&#x27;\n",
       "      varm:\t&#x27;loadings&#x27;</pre>"
      ],
      "text/plain": [
       "MuData object with n_obs × n_vars = 92284 × 5481\n",
       "  2 modalities\n",
       "    rna:\t92284 x 5451\n",
       "      obs:\t'sample', 'species', 'gene_count', 'tscp_count', 'mread_count', 'leiden', 'n_counts'\n",
       "      obsm:\t'X_pca', 'X_umap'\n",
       "      layers:\t'norm10k'\n",
       "    cNMF:\t92284 x 3\n",
       "      obs:\t'sample', 'species', 'gene_count', 'tscp_count', 'mread_count', 'leiden', 'n_counts'\n",
       "      uns:\t'guide_names', 'guide_targets', 'var_names'\n",
       "      obsm:\t'guide_assignment'\n",
       "      varm:\t'loadings'"
      ]
     },
     "execution_count": 6,
     "metadata": {},
     "output_type": "execute_result"
    }
   ],
   "source": [
    "# choose the first 3 programs in prog_key\n",
    "prog_names = list(mdata.mod[prog_key].var_names)[:3]\n",
    "mdata.mod[prog_key] = mdata.mod[prog_key][:, prog_names]\n",
    "mdata"
   ]
  },
  {
   "cell_type": "markdown",
   "metadata": {},
   "source": [
    "# Perturbation association testing"
   ]
  },
  {
   "cell_type": "markdown",
   "metadata": {},
   "source": [
    "## Read MuData"
   ]
  },
  {
   "cell_type": "code",
   "execution_count": 43,
   "metadata": {},
   "outputs": [],
   "source": [
    "def read_mudata(\n",
    "    mdata: Union[os.PathLike, mudata.MuData],\n",
    "    inplace: bool = True,\n",
    "    **kwargs\n",
    ") -> mudata.MuData:\n",
    "    \"\"\"\n",
    "    Read in the mudata object from a path or directly from the object itself.\n",
    "\n",
    "    Parameters\n",
    "    ----------\n",
    "    mdata : Union[str, mudata.MUData]\n",
    "        Path to the mudata object or the mudata object itself.\n",
    "    inplace : bool, optional\n",
    "        Whether to load the mudata object in place, by default True.\n",
    "\n",
    "    Returns\n",
    "    -------\n",
    "    mudata.MUData\n",
    "        The mudata object.\n",
    "    \"\"\"\n",
    "    # Read in mudata if it is provided as a path\n",
    "    frompath = False\n",
    "    if isinstance(mdata, str):\n",
    "        if os.path.exists(mdata):\n",
    "            mdata = mudata.read(mdata)\n",
    "            if inplace:\n",
    "                logging.warning('Changed to inplace=False since path was provided')\n",
    "                inplace=False\n",
    "            frompath=True\n",
    "        else: raise ValueError('Incorrect mudata specification.')\n",
    "\n",
    "    if not inplace and not frompath:\n",
    "        mdata = mudata.MuData({prog_key: mdata[prog_key].copy()})\n",
    "\n",
    "    return mdata"
   ]
  },
  {
   "cell_type": "code",
   "execution_count": 44,
   "metadata": {},
   "outputs": [
    {
     "data": {
      "text/html": [
       "<pre>MuData object with n_obs × n_vars = 92284 × 3\n",
       "  1 modality\n",
       "    cNMF:\t92284 x 3\n",
       "      obs:\t&#x27;sample&#x27;, &#x27;species&#x27;, &#x27;gene_count&#x27;, &#x27;tscp_count&#x27;, &#x27;mread_count&#x27;, &#x27;leiden&#x27;, &#x27;n_counts&#x27;\n",
       "      uns:\t&#x27;guide_names&#x27;, &#x27;guide_targets&#x27;, &#x27;var_names&#x27;\n",
       "      obsm:\t&#x27;guide_assignment&#x27;\n",
       "      varm:\t&#x27;loadings&#x27;</pre>"
      ],
      "text/plain": [
       "MuData object with n_obs × n_vars = 92284 × 3\n",
       "  1 modality\n",
       "    cNMF:\t92284 x 3\n",
       "      obs:\t'sample', 'species', 'gene_count', 'tscp_count', 'mread_count', 'leiden', 'n_counts'\n",
       "      uns:\t'guide_names', 'guide_targets', 'var_names'\n",
       "      obsm:\t'guide_assignment'\n",
       "      varm:\t'loadings'"
      ]
     },
     "execution_count": 44,
     "metadata": {},
     "output_type": "execute_result"
    }
   ],
   "source": [
    "mdata = read_mudata(mdata, inplace=False)\n",
    "mdata"
   ]
  },
  {
   "cell_type": "markdown",
   "metadata": {},
   "source": [
    "## Get guide metadata"
   ]
  },
  {
   "cell_type": "code",
   "execution_count": 45,
   "metadata": {},
   "outputs": [],
   "source": [
    "def get_guide_metadata(\n",
    "    mdata: mudata.MuData,\n",
    "    prog_key: str,\n",
    "    guide_names_key: str = 'guide_names',\n",
    "    guide_targets_key: str = 'guide_targets'\n",
    ") -> pd.DataFrame:\n",
    "    \"\"\"\n",
    "    Get guide metadata from the mudata object.\n",
    "\n",
    "    Parameters\n",
    "    ----------\n",
    "    mdata : mudata.MuData\n",
    "        The mudata object.\n",
    "    prog_key : str\n",
    "        The key of the program in the mudata object.\n",
    "\n",
    "    Returns\n",
    "    -------\n",
    "    pd.DataFrame\n",
    "        The guide metadata.\n",
    "    \"\"\"\n",
    "    guide_metadata = pd.DataFrame(index=mdata[prog_key].uns[guide_names_key], columns=['Target'])\n",
    "    guide_metadata['Target'] = mdata[prog_key].uns[guide_targets_key]\n",
    "\n",
    "    return guide_metadata"
   ]
  },
  {
   "cell_type": "code",
   "execution_count": 25,
   "metadata": {},
   "outputs": [
    {
     "data": {
      "text/html": [
       "<div>\n",
       "<style scoped>\n",
       "    .dataframe tbody tr th:only-of-type {\n",
       "        vertical-align: middle;\n",
       "    }\n",
       "\n",
       "    .dataframe tbody tr th {\n",
       "        vertical-align: top;\n",
       "    }\n",
       "\n",
       "    .dataframe thead th {\n",
       "        text-align: right;\n",
       "    }\n",
       "</style>\n",
       "<table border=\"1\" class=\"dataframe\">\n",
       "  <thead>\n",
       "    <tr style=\"text-align: right;\">\n",
       "      <th></th>\n",
       "      <th>Target</th>\n",
       "    </tr>\n",
       "  </thead>\n",
       "  <tbody>\n",
       "    <tr>\n",
       "      <th>ACAA1_-_38178575.23-P1P2</th>\n",
       "      <td>ACAA1</td>\n",
       "    </tr>\n",
       "    <tr>\n",
       "      <th>ACAA1_+_38178488.23-P1P2</th>\n",
       "      <td>ACAA1</td>\n",
       "    </tr>\n",
       "    <tr>\n",
       "      <th>ACAA1_+_38178517.23-P1P2</th>\n",
       "      <td>ACAA1</td>\n",
       "    </tr>\n",
       "    <tr>\n",
       "      <th>ACAA1_+_38178559.23-P1P2</th>\n",
       "      <td>ACAA1</td>\n",
       "    </tr>\n",
       "    <tr>\n",
       "      <th>ACAA1_+_38178570.23-P1P2</th>\n",
       "      <td>ACAA1</td>\n",
       "    </tr>\n",
       "    <tr>\n",
       "      <th>...</th>\n",
       "      <td>...</td>\n",
       "    </tr>\n",
       "    <tr>\n",
       "      <th>NON-TARGETING_00324</th>\n",
       "      <td>non-targeting</td>\n",
       "    </tr>\n",
       "    <tr>\n",
       "      <th>NON-TARGETING_01858</th>\n",
       "      <td>non-targeting</td>\n",
       "    </tr>\n",
       "    <tr>\n",
       "      <th>NON-TARGETING_02288</th>\n",
       "      <td>non-targeting</td>\n",
       "    </tr>\n",
       "    <tr>\n",
       "      <th>NON-TARGETING_02543</th>\n",
       "      <td>non-targeting</td>\n",
       "    </tr>\n",
       "    <tr>\n",
       "      <th>NON-TARGETING_00355</th>\n",
       "      <td>non-targeting</td>\n",
       "    </tr>\n",
       "  </tbody>\n",
       "</table>\n",
       "<p>1926 rows × 1 columns</p>\n",
       "</div>"
      ],
      "text/plain": [
       "                                 Target\n",
       "ACAA1_-_38178575.23-P1P2          ACAA1\n",
       "ACAA1_+_38178488.23-P1P2          ACAA1\n",
       "ACAA1_+_38178517.23-P1P2          ACAA1\n",
       "ACAA1_+_38178559.23-P1P2          ACAA1\n",
       "ACAA1_+_38178570.23-P1P2          ACAA1\n",
       "...                                 ...\n",
       "NON-TARGETING_00324       non-targeting\n",
       "NON-TARGETING_01858       non-targeting\n",
       "NON-TARGETING_02288       non-targeting\n",
       "NON-TARGETING_02543       non-targeting\n",
       "NON-TARGETING_00355       non-targeting\n",
       "\n",
       "[1926 rows x 1 columns]"
      ]
     },
     "execution_count": 25,
     "metadata": {},
     "output_type": "execute_result"
    }
   ],
   "source": [
    "get_guide_metadata(mdata, prog_key, 'guide_names', 'guide_targets')"
   ]
  },
  {
   "cell_type": "markdown",
   "metadata": {},
   "source": [
    "## Compute perturbation associations"
   ]
  },
  {
   "cell_type": "code",
   "execution_count": 97,
   "metadata": {},
   "outputs": [],
   "source": [
    "def compute_perturbation_association_(\n",
    "    test_data: mudata.MuData,\n",
    "    reference_data: mudata.MuData,\n",
    "    program: str,\n",
    "    level_name: str,\n",
    "    test_stats_df: List[List],\n",
    "    balanced: bool = False\n",
    "):\n",
    "\n",
    "    # Get perturbation data\n",
    "    test_data_ = test_data[:, program].X.toarray()\n",
    "\n",
    "    # TODO: Resample reference data to match number of obs\n",
    "    reference_data_ = reference_data[:, program].X.toarray()\n",
    "    if balanced:\n",
    "        reference_data_ = reference_data_[np.random.choice(reference_data_.shape[0], test_data_.shape[0], replace=False)]\n",
    "\n",
    "    # Calculate log2FC\n",
    "    ref_mean = np.mean(reference_data_)\n",
    "    test_mean = np.mean(test_data_)\n",
    "    log2fc = np.log2(test_mean / ref_mean)\n",
    "\n",
    "    # Compute Mann-Whitney U test\n",
    "    results = stats.mannwhitneyu(test_data_, reference_data_)\n",
    "\n",
    "    # Append to test stats df\n",
    "    test_stats_df.append([level_name, program, ref_mean, test_mean, log2fc, results[0][0], results[1][0]])"
   ]
  },
  {
   "cell_type": "markdown",
   "metadata": {},
   "source": [
    "## Wrapper"
   ]
  },
  {
   "cell_type": "code",
   "execution_count": 110,
   "metadata": {},
   "outputs": [],
   "source": [
    "# TODO: Add support for stratification by categorical levels\n",
    "def compute_perturbation_association(\n",
    "    mdata: Union[os.PathLike, mudata.MuData],\n",
    "    prog_key: str,\n",
    "    guide_names_key: str = 'guide_names',\n",
    "    guide_targets_key: str = 'guide_targets',\n",
    "    guide_assignments_key: str = 'guide_assignment',\n",
    "    collapse_targets: bool = True,\n",
    "    pseudobulk: bool = False,\n",
    "    reference_targets: Union[str, List[str]] = ['non-targeting'],\n",
    "    balanced: bool = False,\n",
    "    n_jobs: int = 1,\n",
    "    inplace: bool = True\n",
    "):\n",
    "    \"\"\"Compute Mann-Whitney U test for cells targeted with a perturbation against a reference set of cells.\n",
    "\n",
    "    Parameters\n",
    "    ----------\n",
    "    mdata : MuData\n",
    "        mudata object containing anndata of program scores and cell-level metadata.\n",
    "    prog_key : str\n",
    "        index for the gene program anndata object (mdata[prog_key]) in the mudata object.\n",
    "    guide_names_key : str (default: 'guide_names')\n",
    "        key in mdata[prog_key].uns for 1D np.array of guide names.\n",
    "    guide_targets_key : str (default: 'guide_targets')\n",
    "        key in mdata[prog_key].uns for 1D np.array of target gene names. Should be in the same order as guide_names.\n",
    "    guide_assignments_key : str (default: 'guide_assignment')\n",
    "        key in mdata[prog_key].obsm for 2D cell x guide assignment matrix. Should correspond to guide_names and guide_targets.\n",
    "    collapse_targets : bool (default:True)\n",
    "        If target gene per guide is provided, perform tests on target levels. \n",
    "        Mutually exclusive with pseudobulk.\n",
    "    pseudobulk : bool (default: False)\n",
    "        If multiple non-targeting guides are available - optionally test at pseudobulk level.\n",
    "        Mutually exclusive with collapse_targets.\n",
    "    reference_targets : tuple\n",
    "        List of target values to use as reference distribution.\n",
    "    balanced : bool (default: False)\n",
    "        If True, resample reference data to match number of observations in test\n",
    "    n_jobs: int (default: 1)\n",
    "        number of threads to run processes on.\n",
    "    inplace: Bool (default: True)\n",
    "        update the mudata object inplace or return a copy\n",
    "\n",
    "    Returns\n",
    "    -------\n",
    "    if inplace:\n",
    "        UPDATES\n",
    "        mdata[prog_key].varm['perturbation_association_pval']\n",
    "        mdata[prog_key].varm['perturbation_association_stat'] \n",
    "    else:\n",
    "        RETURNS\n",
    "        returns test_stats_df\n",
    "    \"\"\"\n",
    "    # Read in mudata if it is provided as a path\n",
    "    frompath=False\n",
    "    if isinstance(mdata, str):\n",
    "        if os.path.exists(mdata):\n",
    "            mdata = mudata.read(mdata)\n",
    "            if inplace:\n",
    "                logging.warning('Changed to inplace=False since path was provided')\n",
    "                inplace=False\n",
    "            frompath=True\n",
    "        else: raise ValueError('Incorrect mudata specification.')\n",
    "    if not inplace and not frompath:\n",
    "        mdata = mudata.MuData({prog_key: mdata[prog_key].copy()})\n",
    "\n",
    "    # Guide metadata\n",
    "    guide_metadata = get_guide_metadata(\n",
    "        mdata, \n",
    "        prog_key, \n",
    "        guide_names_key=guide_names_key, \n",
    "        guide_targets_key=guide_targets_key\n",
    "    )\n",
    "\n",
    "    # Run tests on pseudobulk if multiple non-targeting guides otherwise at single-cell level\n",
    "    if collapse_targets:\n",
    "        if pseudobulk:\n",
    "            pseudobulk=False\n",
    "            logging.info('Setting pseudobulk to False since collapse_targets is True')\n",
    "\n",
    "    if pseudobulk:\n",
    "        pseudobulked_scores = pd.DataFrame(index=mdata[prog_key].uns[guide_names_key], columns=mdata[prog_key].obs_names)\n",
    "\n",
    "        #TODO: Parallelize\n",
    "        for i, guide in enumerate(mdata[prog_key].uns['guide_names']):\n",
    "            for program in mdata[prog_key].obs_names:\n",
    "                pseudobulked_scores.loc[guide, program] = \\\n",
    "                mdata[prog_key][mdata[prog_key].obsm[guide_assignments_key][:,i].astype(bool), program].X.mean()\n",
    "        \n",
    "        pseudobulked_scores['Target'] = mdata[prog_key].uns['guide_targets']\n",
    "\n",
    "    # Create reference data\n",
    "    if type(reference_targets) is str:\n",
    "        reference_targets = [reference_targets]\n",
    "\n",
    "    # If pseudobulk, grab a DataFrame of all non-targeting guides\n",
    "    if pseudobulk:\n",
    "        reference_data = pseudobulked_scores.loc[pseudobulked_scores.Target.isin(reference_targets)]\n",
    "\n",
    "    # Otherwise, grab a MuData for all those guides assigned to the reference targets\n",
    "    else:\n",
    "        reference_guide_idx = guide_metadata.index.get_indexer(guide_metadata.loc[guide_metadata.Target.isin(reference_targets)].index.values)\n",
    "        reference_data = mdata[prog_key][np.any(mdata[prog_key].obsm[guide_assignments_key][:,reference_guide_idx].astype(bool), axis=1)]\n",
    "\n",
    "    # Get the rest of the guides to test against the reference\n",
    "    test_guides = guide_metadata.loc[~guide_metadata.Target.isin(reference_targets)].index.values\n",
    "\n",
    "    # Run tests\n",
    "    test_stats_df = []\n",
    "\n",
    "    # If collapse_targets, run tests for each target\n",
    "    if collapse_targets:\n",
    "\n",
    "        # Set level key\n",
    "        level_key = 'target'\n",
    "\n",
    "        # Run tests for each target (with multiple guides)\n",
    "        targets_no_ref = [targ for targ in guide_metadata['Target'].unique() if targ not in reference_targets]\n",
    "        for target in tqdm(targets_no_ref, desc='Testing perturbation association', unit='targets'):\n",
    "\n",
    "            # Grab data for the current target\n",
    "            test_guide_idx = guide_metadata.index.get_indexer(guide_metadata.index[guide_metadata['Target']==target])\n",
    "            test_data = mdata[prog_key][mdata[prog_key].obsm[guide_assignments_key][:,test_guide_idx].any(-1).astype(bool)]\n",
    "\n",
    "            # Run test for every program\n",
    "            Parallel(n_jobs=n_jobs, backend='threading')(delayed(compute_perturbation_association_)(\n",
    "                test_data, \n",
    "                reference_data, \n",
    "                program, \n",
    "                target, \n",
    "                test_stats_df,\n",
    "                balanced) for program in mdata[prog_key].var_names)\n",
    "\n",
    "    else:\n",
    "\n",
    "        # Set level key\n",
    "        level_key='guide'\n",
    "\n",
    "        # Run tests for each guide\n",
    "        for guide in tqdm(test_guides, desc='Testing perturbation association', unit='guides'):\n",
    "            \n",
    "            # Run test at using pseudobulks at guide level -> requires multiple non-targeting guides as reference\n",
    "            if pseudobulk:\n",
    "                # TODO: Implement per guide probability under reference approach\n",
    "                raise NotImplementedError()\n",
    "            else:\n",
    "                # Grab data for the current guide\n",
    "                test_guide_idx = guide_metadata.index.get_loc(guide)\n",
    "                test_data = mdata[prog_key][mdata[prog_key].obsm[guide_assignments_key][:,test_guide_idx].astype(bool)]\n",
    "\n",
    "                # Run test for every program\n",
    "                Parallel(n_jobs=n_jobs, backend='threading')(delayed(compute_perturbation_association_)(\n",
    "                    test_data, \n",
    "                    reference_data, \n",
    "                    program, \n",
    "                    guide, \n",
    "                    test_stats_df,\n",
    "                    balanced) for program in mdata[prog_key].var_names)\n",
    "    \n",
    "    # Create DataFrame\n",
    "    test_stats_df = pd.DataFrame(test_stats_df, columns=['{}_name'.format(level_key), 'program_name', 'ref_mean', 'test_mean', 'log2FC', 'stat', 'pval'])\n",
    "\n",
    "    # Correct for multiple testing\n",
    "    test_stats_df['adj_pval'] = multipletests(test_stats_df['pval'], method='fdr_bh')[1]\n",
    "\n",
    "    # Return only the evaluations if not in inplace mode\n",
    "    if not inplace: return test_stats_df\n",
    "    else:\n",
    "        init_array = np.empty(mdata[prog_key].shape[1], len(test_stats_df['{}_name'.format(level_key)].unique()))\n",
    "        init_array[:] = np.nan\n",
    "\n",
    "        stats, pvals = init_array.copy(), init_array.copy()\n",
    "\n",
    "        for level_idx, level_name in enumerate(test_stats_df['{}_name'.format(level_key)].unique()):\n",
    "            stats[:, level_idx] = test_stats_df.loc[test_stats_df['{}_name'.format(level_key)]==level_name, 'stat'][mdata[prog_key].var_names].values\n",
    "            pvals[:, level_idx] = test_stats_df.loc[test_stats_df['{}_name'.format(level_key)]==level_name, 'pval'][mdata[prog_key].var_names].values\n",
    "        mdata[prog_key].varm['perturbation_association_{}_stat'.format(level_key)] = stats\n",
    "        mdata[prog_key].varm['perturbation_association_{}_pval'.format(level_key)] = pvals\n",
    "        mdata[prog_key].uns['perturbation_association_{}_names'.format(level_key)] = test_stats_df['{}_name'.format(level_key)].unique().values"
   ]
  },
  {
   "cell_type": "code",
   "execution_count": 104,
   "metadata": {},
   "outputs": [
    {
     "data": {
      "application/vnd.jupyter.widget-view+json": {
       "model_id": "d8b12beae7a54686806afe5fbeb00f6f",
       "version_major": 2,
       "version_minor": 0
      },
      "text/plain": [
       "Testing perturbation association:   0%|          | 0/298 [00:00<?, ?targets/s]"
      ]
     },
     "metadata": {},
     "output_type": "display_data"
    },
    {
     "name": "stdout",
     "output_type": "stream",
     "text": [
      "['ACAA1', '2', 0.07231384822023985, 0.0727679635493973, 0.009031484580391644, 1311736.5, 0.7015746363089513]\n"
     ]
    }
   ],
   "source": [
    "# Run wrapper function\n",
    "perturbation_assocation_df = compute_perturbation_association(\n",
    "    mdata, \n",
    "    prog_key=prog_key,\n",
    "    collapse_targets=perturbation_assocation_config['collapse_targets'],\n",
    "    pseudobulk=perturbation_assocation_config['pseudobulk'],\n",
    "    reference_targets=perturbation_assocation_config['reference_targets'],\n",
    "    n_jobs=perturbation_assocation_config['n_jobs'],\n",
    "    inplace=perturbation_assocation_config['inplace'],\n",
    "    balanced=True\n",
    ")"
   ]
  },
  {
   "cell_type": "code",
   "execution_count": 107,
   "metadata": {},
   "outputs": [
    {
     "data": {
      "text/html": [
       "<div>\n",
       "<style scoped>\n",
       "    .dataframe tbody tr th:only-of-type {\n",
       "        vertical-align: middle;\n",
       "    }\n",
       "\n",
       "    .dataframe tbody tr th {\n",
       "        vertical-align: top;\n",
       "    }\n",
       "\n",
       "    .dataframe thead th {\n",
       "        text-align: right;\n",
       "    }\n",
       "</style>\n",
       "<table border=\"1\" class=\"dataframe\">\n",
       "  <thead>\n",
       "    <tr style=\"text-align: right;\">\n",
       "      <th></th>\n",
       "      <th>target_name</th>\n",
       "      <th>program_name</th>\n",
       "      <th>ref_mean</th>\n",
       "      <th>test_mean</th>\n",
       "      <th>log2FC</th>\n",
       "      <th>stat</th>\n",
       "      <th>pval</th>\n",
       "      <th>adj_pval</th>\n",
       "    </tr>\n",
       "  </thead>\n",
       "  <tbody>\n",
       "    <tr>\n",
       "      <th>518</th>\n",
       "      <td>SETDB1</td>\n",
       "      <td>2</td>\n",
       "      <td>0.072214</td>\n",
       "      <td>0.105496</td>\n",
       "      <td>0.546854</td>\n",
       "      <td>1062804.0</td>\n",
       "      <td>6.742828e-26</td>\n",
       "      <td>6.028088e-23</td>\n",
       "    </tr>\n",
       "    <tr>\n",
       "      <th>395</th>\n",
       "      <td>PLCG1</td>\n",
       "      <td>1</td>\n",
       "      <td>0.059967</td>\n",
       "      <td>0.023381</td>\n",
       "      <td>-1.358855</td>\n",
       "      <td>2267287.0</td>\n",
       "      <td>9.445172e-15</td>\n",
       "      <td>4.221992e-12</td>\n",
       "    </tr>\n",
       "    <tr>\n",
       "      <th>486</th>\n",
       "      <td>RIBC1</td>\n",
       "      <td>2</td>\n",
       "      <td>0.070734</td>\n",
       "      <td>0.090998</td>\n",
       "      <td>0.363415</td>\n",
       "      <td>2146274.0</td>\n",
       "      <td>2.613326e-14</td>\n",
       "      <td>7.787712e-12</td>\n",
       "    </tr>\n",
       "    <tr>\n",
       "      <th>86</th>\n",
       "      <td>CBLL1</td>\n",
       "      <td>1</td>\n",
       "      <td>0.065030</td>\n",
       "      <td>0.113998</td>\n",
       "      <td>0.809829</td>\n",
       "      <td>1819187.5</td>\n",
       "      <td>5.193490e-14</td>\n",
       "      <td>1.160745e-11</td>\n",
       "    </tr>\n",
       "    <tr>\n",
       "      <th>638</th>\n",
       "      <td>TAF2</td>\n",
       "      <td>1</td>\n",
       "      <td>0.069444</td>\n",
       "      <td>0.031473</td>\n",
       "      <td>-1.141732</td>\n",
       "      <td>681832.5</td>\n",
       "      <td>4.742256e-13</td>\n",
       "      <td>8.479154e-11</td>\n",
       "    </tr>\n",
       "    <tr>\n",
       "      <th>...</th>\n",
       "      <td>...</td>\n",
       "      <td>...</td>\n",
       "      <td>...</td>\n",
       "      <td>...</td>\n",
       "      <td>...</td>\n",
       "      <td>...</td>\n",
       "      <td>...</td>\n",
       "      <td>...</td>\n",
       "    </tr>\n",
       "    <tr>\n",
       "      <th>812</th>\n",
       "      <td>CYC1</td>\n",
       "      <td>2</td>\n",
       "      <td>0.074483</td>\n",
       "      <td>0.075100</td>\n",
       "      <td>0.011901</td>\n",
       "      <td>1726766.5</td>\n",
       "      <td>9.832281e-01</td>\n",
       "      <td>9.957998e-01</td>\n",
       "    </tr>\n",
       "    <tr>\n",
       "      <th>729</th>\n",
       "      <td>ZC3H8</td>\n",
       "      <td>0</td>\n",
       "      <td>0.085446</td>\n",
       "      <td>0.079813</td>\n",
       "      <td>-0.098405</td>\n",
       "      <td>550387.0</td>\n",
       "      <td>9.887068e-01</td>\n",
       "      <td>9.957998e-01</td>\n",
       "    </tr>\n",
       "    <tr>\n",
       "      <th>62</th>\n",
       "      <td>BRD3</td>\n",
       "      <td>2</td>\n",
       "      <td>0.073512</td>\n",
       "      <td>0.073588</td>\n",
       "      <td>0.001488</td>\n",
       "      <td>2566740.5</td>\n",
       "      <td>9.884043e-01</td>\n",
       "      <td>9.957998e-01</td>\n",
       "    </tr>\n",
       "    <tr>\n",
       "      <th>838</th>\n",
       "      <td>LUZP6</td>\n",
       "      <td>1</td>\n",
       "      <td>0.069368</td>\n",
       "      <td>0.068850</td>\n",
       "      <td>-0.010803</td>\n",
       "      <td>172340.5</td>\n",
       "      <td>9.918289e-01</td>\n",
       "      <td>9.957998e-01</td>\n",
       "    </tr>\n",
       "    <tr>\n",
       "      <th>37</th>\n",
       "      <td>ATP5F1</td>\n",
       "      <td>0</td>\n",
       "      <td>0.085744</td>\n",
       "      <td>0.085190</td>\n",
       "      <td>-0.009358</td>\n",
       "      <td>1251425.5</td>\n",
       "      <td>9.979333e-01</td>\n",
       "      <td>9.979333e-01</td>\n",
       "    </tr>\n",
       "  </tbody>\n",
       "</table>\n",
       "<p>894 rows × 8 columns</p>\n",
       "</div>"
      ],
      "text/plain": [
       "    target_name program_name  ref_mean  test_mean    log2FC       stat  \\\n",
       "518      SETDB1            2  0.072214   0.105496  0.546854  1062804.0   \n",
       "395       PLCG1            1  0.059967   0.023381 -1.358855  2267287.0   \n",
       "486       RIBC1            2  0.070734   0.090998  0.363415  2146274.0   \n",
       "86        CBLL1            1  0.065030   0.113998  0.809829  1819187.5   \n",
       "638        TAF2            1  0.069444   0.031473 -1.141732   681832.5   \n",
       "..          ...          ...       ...        ...       ...        ...   \n",
       "812        CYC1            2  0.074483   0.075100  0.011901  1726766.5   \n",
       "729       ZC3H8            0  0.085446   0.079813 -0.098405   550387.0   \n",
       "62         BRD3            2  0.073512   0.073588  0.001488  2566740.5   \n",
       "838       LUZP6            1  0.069368   0.068850 -0.010803   172340.5   \n",
       "37       ATP5F1            0  0.085744   0.085190 -0.009358  1251425.5   \n",
       "\n",
       "             pval      adj_pval  \n",
       "518  6.742828e-26  6.028088e-23  \n",
       "395  9.445172e-15  4.221992e-12  \n",
       "486  2.613326e-14  7.787712e-12  \n",
       "86   5.193490e-14  1.160745e-11  \n",
       "638  4.742256e-13  8.479154e-11  \n",
       "..            ...           ...  \n",
       "812  9.832281e-01  9.957998e-01  \n",
       "729  9.887068e-01  9.957998e-01  \n",
       "62   9.884043e-01  9.957998e-01  \n",
       "838  9.918289e-01  9.957998e-01  \n",
       "37   9.979333e-01  9.979333e-01  \n",
       "\n",
       "[894 rows x 8 columns]"
      ]
     },
     "execution_count": 107,
     "metadata": {},
     "output_type": "execute_result"
    }
   ],
   "source": [
    "perturbation_assocation_df.sort_values(\"adj_pval\")"
   ]
  },
  {
   "cell_type": "code",
   "execution_count": 108,
   "metadata": {},
   "outputs": [
    {
     "data": {
      "text/html": [
       "<div>\n",
       "<style scoped>\n",
       "    .dataframe tbody tr th:only-of-type {\n",
       "        vertical-align: middle;\n",
       "    }\n",
       "\n",
       "    .dataframe tbody tr th {\n",
       "        vertical-align: top;\n",
       "    }\n",
       "\n",
       "    .dataframe thead th {\n",
       "        text-align: right;\n",
       "    }\n",
       "</style>\n",
       "<table border=\"1\" class=\"dataframe\">\n",
       "  <thead>\n",
       "    <tr style=\"text-align: right;\">\n",
       "      <th></th>\n",
       "      <th>target_name</th>\n",
       "      <th>program_name</th>\n",
       "      <th>ref_mean</th>\n",
       "      <th>test_mean</th>\n",
       "      <th>log2FC</th>\n",
       "      <th>stat</th>\n",
       "      <th>pval</th>\n",
       "      <th>adj_pval</th>\n",
       "    </tr>\n",
       "  </thead>\n",
       "  <tbody>\n",
       "    <tr>\n",
       "      <th>518</th>\n",
       "      <td>SETDB1</td>\n",
       "      <td>2</td>\n",
       "      <td>0.072214</td>\n",
       "      <td>0.105496</td>\n",
       "      <td>0.546854</td>\n",
       "      <td>1062804.0</td>\n",
       "      <td>6.742828e-26</td>\n",
       "      <td>6.028088e-23</td>\n",
       "    </tr>\n",
       "    <tr>\n",
       "      <th>395</th>\n",
       "      <td>PLCG1</td>\n",
       "      <td>1</td>\n",
       "      <td>0.059967</td>\n",
       "      <td>0.023381</td>\n",
       "      <td>-1.358855</td>\n",
       "      <td>2267287.0</td>\n",
       "      <td>9.445172e-15</td>\n",
       "      <td>4.221992e-12</td>\n",
       "    </tr>\n",
       "    <tr>\n",
       "      <th>486</th>\n",
       "      <td>RIBC1</td>\n",
       "      <td>2</td>\n",
       "      <td>0.070734</td>\n",
       "      <td>0.090998</td>\n",
       "      <td>0.363415</td>\n",
       "      <td>2146274.0</td>\n",
       "      <td>2.613326e-14</td>\n",
       "      <td>7.787712e-12</td>\n",
       "    </tr>\n",
       "    <tr>\n",
       "      <th>86</th>\n",
       "      <td>CBLL1</td>\n",
       "      <td>1</td>\n",
       "      <td>0.065030</td>\n",
       "      <td>0.113998</td>\n",
       "      <td>0.809829</td>\n",
       "      <td>1819187.5</td>\n",
       "      <td>5.193490e-14</td>\n",
       "      <td>1.160745e-11</td>\n",
       "    </tr>\n",
       "    <tr>\n",
       "      <th>638</th>\n",
       "      <td>TAF2</td>\n",
       "      <td>1</td>\n",
       "      <td>0.069444</td>\n",
       "      <td>0.031473</td>\n",
       "      <td>-1.141732</td>\n",
       "      <td>681832.5</td>\n",
       "      <td>4.742256e-13</td>\n",
       "      <td>8.479154e-11</td>\n",
       "    </tr>\n",
       "    <tr>\n",
       "      <th>...</th>\n",
       "      <td>...</td>\n",
       "      <td>...</td>\n",
       "      <td>...</td>\n",
       "      <td>...</td>\n",
       "      <td>...</td>\n",
       "      <td>...</td>\n",
       "      <td>...</td>\n",
       "      <td>...</td>\n",
       "    </tr>\n",
       "    <tr>\n",
       "      <th>812</th>\n",
       "      <td>CYC1</td>\n",
       "      <td>2</td>\n",
       "      <td>0.074483</td>\n",
       "      <td>0.075100</td>\n",
       "      <td>0.011901</td>\n",
       "      <td>1726766.5</td>\n",
       "      <td>9.832281e-01</td>\n",
       "      <td>9.957998e-01</td>\n",
       "    </tr>\n",
       "    <tr>\n",
       "      <th>729</th>\n",
       "      <td>ZC3H8</td>\n",
       "      <td>0</td>\n",
       "      <td>0.085446</td>\n",
       "      <td>0.079813</td>\n",
       "      <td>-0.098405</td>\n",
       "      <td>550387.0</td>\n",
       "      <td>9.887068e-01</td>\n",
       "      <td>9.957998e-01</td>\n",
       "    </tr>\n",
       "    <tr>\n",
       "      <th>62</th>\n",
       "      <td>BRD3</td>\n",
       "      <td>2</td>\n",
       "      <td>0.073512</td>\n",
       "      <td>0.073588</td>\n",
       "      <td>0.001488</td>\n",
       "      <td>2566740.5</td>\n",
       "      <td>9.884043e-01</td>\n",
       "      <td>9.957998e-01</td>\n",
       "    </tr>\n",
       "    <tr>\n",
       "      <th>838</th>\n",
       "      <td>LUZP6</td>\n",
       "      <td>1</td>\n",
       "      <td>0.069368</td>\n",
       "      <td>0.068850</td>\n",
       "      <td>-0.010803</td>\n",
       "      <td>172340.5</td>\n",
       "      <td>9.918289e-01</td>\n",
       "      <td>9.957998e-01</td>\n",
       "    </tr>\n",
       "    <tr>\n",
       "      <th>37</th>\n",
       "      <td>ATP5F1</td>\n",
       "      <td>0</td>\n",
       "      <td>0.085744</td>\n",
       "      <td>0.085190</td>\n",
       "      <td>-0.009358</td>\n",
       "      <td>1251425.5</td>\n",
       "      <td>9.979333e-01</td>\n",
       "      <td>9.979333e-01</td>\n",
       "    </tr>\n",
       "  </tbody>\n",
       "</table>\n",
       "<p>894 rows × 8 columns</p>\n",
       "</div>"
      ],
      "text/plain": [
       "    target_name program_name  ref_mean  test_mean    log2FC       stat  \\\n",
       "518      SETDB1            2  0.072214   0.105496  0.546854  1062804.0   \n",
       "395       PLCG1            1  0.059967   0.023381 -1.358855  2267287.0   \n",
       "486       RIBC1            2  0.070734   0.090998  0.363415  2146274.0   \n",
       "86        CBLL1            1  0.065030   0.113998  0.809829  1819187.5   \n",
       "638        TAF2            1  0.069444   0.031473 -1.141732   681832.5   \n",
       "..          ...          ...       ...        ...       ...        ...   \n",
       "812        CYC1            2  0.074483   0.075100  0.011901  1726766.5   \n",
       "729       ZC3H8            0  0.085446   0.079813 -0.098405   550387.0   \n",
       "62         BRD3            2  0.073512   0.073588  0.001488  2566740.5   \n",
       "838       LUZP6            1  0.069368   0.068850 -0.010803   172340.5   \n",
       "37       ATP5F1            0  0.085744   0.085190 -0.009358  1251425.5   \n",
       "\n",
       "             pval      adj_pval  \n",
       "518  6.742828e-26  6.028088e-23  \n",
       "395  9.445172e-15  4.221992e-12  \n",
       "486  2.613326e-14  7.787712e-12  \n",
       "86   5.193490e-14  1.160745e-11  \n",
       "638  4.742256e-13  8.479154e-11  \n",
       "..            ...           ...  \n",
       "812  9.832281e-01  9.957998e-01  \n",
       "729  9.887068e-01  9.957998e-01  \n",
       "62   9.884043e-01  9.957998e-01  \n",
       "838  9.918289e-01  9.957998e-01  \n",
       "37   9.979333e-01  9.979333e-01  \n",
       "\n",
       "[894 rows x 8 columns]"
      ]
     },
     "execution_count": 108,
     "metadata": {},
     "output_type": "execute_result"
    }
   ],
   "source": [
    "perturbation_assocation_df.sort_values(\"adj_pval\")"
   ]
  },
  {
   "cell_type": "markdown",
   "metadata": {},
   "source": [
    "# Categorical association testing"
   ]
  },
  {
   "cell_type": "code",
   "execution_count": 111,
   "metadata": {},
   "outputs": [
    {
     "data": {
      "text/plain": [
       "{'categorical_key': 'sample',\n",
       " 'pseudobulk_key': None,\n",
       " 'test': 'dunn',\n",
       " 'n_jobs': -1,\n",
       " 'inplace': False}"
      ]
     },
     "execution_count": 111,
     "metadata": {},
     "output_type": "execute_result"
    }
   ],
   "source": [
    "categorical_association_config = config['categorical_association']\n",
    "categorical_association_config"
   ]
  },
  {
   "cell_type": "code",
   "execution_count": 117,
   "metadata": {},
   "outputs": [],
   "source": [
    "from scipy import stats, sparse"
   ]
  },
  {
   "cell_type": "code",
   "execution_count": 118,
   "metadata": {},
   "outputs": [],
   "source": [
    "categorical_key = categorical_association_config['categorical_key']\n",
    "pseudobulk_key = categorical_association_config['pseudobulk_key']\n"
   ]
  },
  {
   "cell_type": "code",
   "execution_count": 119,
   "metadata": {},
   "outputs": [],
   "source": [
    "prog_nam=\"0\""
   ]
  },
  {
   "cell_type": "code",
   "execution_count": 120,
   "metadata": {},
   "outputs": [],
   "source": [
    "samples = []\n",
    "if pseudobulk_key is None:\n",
    "    \n",
    "    # Run with single-cells are individual data points\n",
    "    for category in mdata[prog_key].obs[categorical_key].astype(str).unique():\n",
    "        sample_ = mdata[prog_key][mdata[prog_key].obs[categorical_key].astype(str)==category, prog_nam].X[:,0]\n",
    "        if sparse.issparse(sample_):\n",
    "            sample_ = sample_.toarray().flatten()\n",
    "        samples.append(sample_)"
   ]
  },
  {
   "cell_type": "code",
   "execution_count": 122,
   "metadata": {},
   "outputs": [],
   "source": [
    "stat, pval = stats.kruskal(*samples, nan_policy='propagate')\n",
    "stat, pval"
   ]
  },
  {
   "cell_type": "code",
   "execution_count": 124,
   "metadata": {},
   "outputs": [
    {
     "data": {
      "text/plain": [
       "(68816.47038134227, 0.0)"
      ]
     },
     "execution_count": 124,
     "metadata": {},
     "output_type": "execute_result"
    }
   ],
   "source": []
  },
  {
   "cell_type": "code",
   "execution_count": 139,
   "metadata": {},
   "outputs": [],
   "source": [
    "# Create a single shuffled version of categorical_key\n",
    "mdata[prog_key].obs[f\"shuffled_{categorical_key}\"] = mdata[prog_key].obs[categorical_key].sample(frac=1).values\n",
    "\n",
    "# Recalculate the p-value with the shuffled version\n",
    "samples = []\n",
    "for category in mdata[prog_key].obs[f\"shuffled_{categorical_key}\"].astype(str).unique():\n",
    "    sample_ = mdata[prog_key][mdata[prog_key].obs[f\"shuffled_{categorical_key}\"].astype(str)==category, prog_nam].X[:,0]\n",
    "    if sparse.issparse(sample_):\n",
    "        sample_ = sample_.toarray().flatten()\n",
    "    samples.append(sample_)"
   ]
  },
  {
   "cell_type": "code",
   "execution_count": 140,
   "metadata": {},
   "outputs": [
    {
     "data": {
      "text/plain": [
       "(0.8442081296082438, 0.8388663900924934)"
      ]
     },
     "execution_count": 140,
     "metadata": {},
     "output_type": "execute_result"
    }
   ],
   "source": [
    "stat, pval = stats.kruskal(*samples, nan_policy='propagate')\n",
    "stat, pval"
   ]
  },
  {
   "cell_type": "code",
   "execution_count": 121,
   "metadata": {},
   "outputs": [
    {
     "data": {
      "text/plain": [
       "[ArrayView([0.30733788, 0.23179917, 0.29495603, ..., 0.17720768,\n",
       "            0.30303675, 0.21068594]),\n",
       " ArrayView([0.        , 0.        , 0.        , ..., 0.02953346,\n",
       "            0.02114811, 0.06008436]),\n",
       " ArrayView([0.00582987, 0.00041388, 0.        , ..., 0.00470786,\n",
       "            0.02357423, 0.        ]),\n",
       " ArrayView([0., 0., 0., ..., 0., 0., 0.])]"
      ]
     },
     "execution_count": 121,
     "metadata": {},
     "output_type": "execute_result"
    }
   ],
   "source": [
    "samples"
   ]
  },
  {
   "cell_type": "markdown",
   "metadata": {},
   "source": [
    "# DONE!"
   ]
  },
  {
   "cell_type": "markdown",
   "metadata": {},
   "source": [
    "---"
   ]
  }
 ],
 "metadata": {
  "kernelspec": {
   "display_name": "Python 3.10 test_celloracle",
   "language": "python",
   "name": "test_scenicplus-py310"
  },
  "language_info": {
   "codemirror_mode": {
    "name": "ipython",
    "version": 3
   },
   "file_extension": ".py",
   "mimetype": "text/x-python",
   "name": "python",
   "nbconvert_exporter": "python",
   "pygments_lexer": "ipython3",
   "version": "3.10.8"
  }
 },
 "nbformat": 4,
 "nbformat_minor": 2
}
