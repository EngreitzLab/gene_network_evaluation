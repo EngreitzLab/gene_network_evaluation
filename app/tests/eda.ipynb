{
 "cells": [
  {
   "cell_type": "code",
   "execution_count": 1,
   "metadata": {},
   "outputs": [
    {
     "name": "stdout",
     "output_type": "stream",
     "text": [
      "The history saving thread hit an unexpected error (DatabaseError('database disk image is malformed')).History will not be written to the database.\n"
     ]
    }
   ],
   "source": [
    "import mudata"
   ]
  },
  {
   "cell_type": "code",
   "execution_count": 16,
   "metadata": {},
   "outputs": [],
   "source": [
    "path_mdata = \"/cellar/users/aklie/opt/gene_program_evaluation/examples/evaluation/iPSC_EC/cNMF/cNMF_30/cNMF_30.h5mu\""
   ]
  },
  {
   "cell_type": "code",
   "execution_count": 17,
   "metadata": {},
   "outputs": [
    {
     "name": "stderr",
     "output_type": "stream",
     "text": [
      "/cellar/users/aklie/opt/miniconda3/envs/scverse-lite-py39/lib/python3.9/site-packages/anndata/_core/anndata.py:522: FutureWarning: The dtype argument is deprecated and will be removed in late 2024.\n",
      "  warnings.warn(\n",
      "/cellar/users/aklie/opt/miniconda3/envs/scverse-lite-py39/lib/python3.9/site-packages/anndata/_core/anndata.py:522: FutureWarning: The dtype argument is deprecated and will be removed in late 2024.\n",
      "  warnings.warn(\n",
      "/cellar/users/aklie/opt/miniconda3/envs/scverse-lite-py39/lib/python3.9/site-packages/anndata/_core/anndata.py:1908: UserWarning: Variable names are not unique. To make them unique, call `.var_names_make_unique`.\n",
      "  utils.warn_names_duplicates(\"var\")\n",
      "/cellar/users/aklie/opt/miniconda3/envs/scverse-lite-py39/lib/python3.9/site-packages/mudata/_core/mudata.py:479: UserWarning: var_names are not unique. To make them unique, call `.var_names_make_unique`.\n",
      "  warnings.warn(\n"
     ]
    },
    {
     "data": {
      "text/html": [
       "<pre>MuData object with n_obs × n_vars = 92284 × 5481\n",
       "  obs:\t&#x27;cNMF:sample&#x27;, &#x27;cNMF:species&#x27;, &#x27;cNMF:gene_count&#x27;, &#x27;cNMF:tscp_count&#x27;, &#x27;cNMF:mread_count&#x27;, &#x27;cNMF:leiden&#x27;, &#x27;cNMF:n_counts&#x27;\n",
       "  obsm:\t&#x27;cNMF&#x27;\n",
       "  varm:\t&#x27;cNMF&#x27;\n",
       "  2 modalities\n",
       "    rna:\t92284 x 5451\n",
       "      obs:\t&#x27;sample&#x27;, &#x27;species&#x27;, &#x27;gene_count&#x27;, &#x27;tscp_count&#x27;, &#x27;mread_count&#x27;, &#x27;leiden&#x27;, &#x27;n_counts&#x27;\n",
       "      uns:\t&#x27;guide_names&#x27;, &#x27;guide_targets&#x27;\n",
       "      obsm:\t&#x27;X_pca&#x27;, &#x27;X_umap&#x27;, &#x27;guide_assignment&#x27;\n",
       "      layers:\t&#x27;norm10k&#x27;\n",
       "    cNMF_30:\t92284 x 30\n",
       "      obs:\t&#x27;sample&#x27;, &#x27;species&#x27;, &#x27;gene_count&#x27;, &#x27;tscp_count&#x27;, &#x27;mread_count&#x27;, &#x27;leiden&#x27;, &#x27;n_counts&#x27;\n",
       "      uns:\t&#x27;guide_names&#x27;, &#x27;guide_targets&#x27;, &#x27;var_names&#x27;\n",
       "      obsm:\t&#x27;guide_assignment&#x27;\n",
       "      varm:\t&#x27;loadings&#x27;</pre>"
      ],
      "text/plain": [
       "MuData object with n_obs × n_vars = 92284 × 5481\n",
       "  obs:\t'cNMF:sample', 'cNMF:species', 'cNMF:gene_count', 'cNMF:tscp_count', 'cNMF:mread_count', 'cNMF:leiden', 'cNMF:n_counts'\n",
       "  obsm:\t'cNMF'\n",
       "  varm:\t'cNMF'\n",
       "  2 modalities\n",
       "    rna:\t92284 x 5451\n",
       "      obs:\t'sample', 'species', 'gene_count', 'tscp_count', 'mread_count', 'leiden', 'n_counts'\n",
       "      uns:\t'guide_names', 'guide_targets'\n",
       "      obsm:\t'X_pca', 'X_umap', 'guide_assignment'\n",
       "      layers:\t'norm10k'\n",
       "    cNMF_30:\t92284 x 30\n",
       "      obs:\t'sample', 'species', 'gene_count', 'tscp_count', 'mread_count', 'leiden', 'n_counts'\n",
       "      uns:\t'guide_names', 'guide_targets', 'var_names'\n",
       "      obsm:\t'guide_assignment'\n",
       "      varm:\t'loadings'"
      ]
     },
     "execution_count": 17,
     "metadata": {},
     "output_type": "execute_result"
    }
   ],
   "source": [
    "mdata = mudata.read_h5mu(path_mdata)\n",
    "mdata"
   ]
  }
 ],
 "metadata": {
  "kernelspec": {
   "display_name": "Python 3.9 scverse-lite",
   "language": "python",
   "name": "scverse-lite-py39"
  },
  "language_info": {
   "codemirror_mode": {
    "name": "ipython",
    "version": 3
   },
   "file_extension": ".py",
   "mimetype": "text/x-python",
   "name": "python",
   "nbconvert_exporter": "python",
   "pygments_lexer": "ipython3",
   "version": "3.9.18"
  }
 },
 "nbformat": 4,
 "nbformat_minor": 2
}
