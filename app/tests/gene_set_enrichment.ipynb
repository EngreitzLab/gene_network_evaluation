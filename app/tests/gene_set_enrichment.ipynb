{
 "cells": [
  {
   "cell_type": "markdown",
   "metadata": {},
   "source": [
    "# Set-up"
   ]
  },
  {
   "cell_type": "code",
   "execution_count": 21,
   "metadata": {},
   "outputs": [],
   "source": [
    "import os\n",
    "import sys\n",
    "import yaml\n",
    "import logging\n",
    "import mudata\n",
    "import numpy as np\n",
    "import pandas as pd\n",
    "from tqdm.auto import tqdm\n",
    "\n",
    "# Change path to wherever you have repo locally\n",
    "sys.path.append('/cellar/users/aklie/opt/gene_program_evaluation')\n",
    "\n",
    "from src.evaluation import (\n",
    "    compute_categorical_association,\n",
    "    compute_geneset_enrichment,\n",
    "    compute_trait_enrichment,\n",
    "    compute_perturbation_association,\n",
    "    compute_explained_variance_ratio,\n",
    "    compute_motif_enrichment\n",
    ")\n",
    "from src.evaluation.enrichment_trait import process_enrichment_data"
   ]
  },
  {
   "cell_type": "code",
   "execution_count": 2,
   "metadata": {},
   "outputs": [],
   "source": [
    "# I/O paths\n",
    "path_config = \"/cellar/users/aklie/opt/gene_program_evaluation/examples/evaluation/iPSC_EC/cNMF_30/evaluation_pipeline.yml\"\n",
    "config = yaml.safe_load(open(path_config))"
   ]
  },
  {
   "cell_type": "markdown",
   "metadata": {},
   "source": [
    "## I/O"
   ]
  },
  {
   "cell_type": "code",
   "execution_count": 13,
   "metadata": {},
   "outputs": [
    {
     "data": {
      "text/plain": [
       "{'path_mdata': '/cellar/users/aklie/opt/gene_program_evaluation/examples/inference/iPSC_EC/cNMF/cNMF_30_0.2_gene_names.h5mu',\n",
       " 'path_out': '/cellar/users/aklie/opt/gene_program_evaluation/app/examples/evaluation/iPSC_EC/cNMF_30',\n",
       " 'data_key': 'rna',\n",
       " 'prog_key': 'cNMF'}"
      ]
     },
     "execution_count": 13,
     "metadata": {},
     "output_type": "execute_result"
    }
   ],
   "source": [
    "io_config = config['io']\n",
    "io_config"
   ]
  },
  {
   "cell_type": "code",
   "execution_count": 14,
   "metadata": {},
   "outputs": [
    {
     "name": "stderr",
     "output_type": "stream",
     "text": [
      "/cellar/users/aklie/opt/miniconda3/envs/test_celloracle/lib/python3.10/site-packages/anndata/_core/anndata.py:522: FutureWarning: The dtype argument is deprecated and will be removed in late 2024.\n",
      "  warnings.warn(\n",
      "/cellar/users/aklie/opt/miniconda3/envs/test_celloracle/lib/python3.10/site-packages/anndata/_core/anndata.py:522: FutureWarning: The dtype argument is deprecated and will be removed in late 2024.\n",
      "  warnings.warn(\n",
      "/cellar/users/aklie/opt/miniconda3/envs/test_celloracle/lib/python3.10/site-packages/anndata/_core/anndata.py:1899: UserWarning: Variable names are not unique. To make them unique, call `.var_names_make_unique`.\n",
      "  utils.warn_names_duplicates(\"var\")\n",
      "/cellar/users/aklie/opt/miniconda3/envs/test_celloracle/lib/python3.10/site-packages/mudata/_core/mudata.py:479: UserWarning: var_names are not unique. To make them unique, call `.var_names_make_unique`.\n",
      "  warnings.warn(\n"
     ]
    },
    {
     "data": {
      "text/html": [
       "<pre>MuData object with n_obs × n_vars = 92284 × 5481\n",
       "  2 modalities\n",
       "    rna:\t92284 x 5451\n",
       "      obs:\t&#x27;sample&#x27;, &#x27;species&#x27;, &#x27;gene_count&#x27;, &#x27;tscp_count&#x27;, &#x27;mread_count&#x27;, &#x27;leiden&#x27;, &#x27;n_counts&#x27;\n",
       "      obsm:\t&#x27;X_pca&#x27;, &#x27;X_umap&#x27;\n",
       "      layers:\t&#x27;norm10k&#x27;\n",
       "    cNMF:\t92284 x 30\n",
       "      obs:\t&#x27;sample&#x27;, &#x27;species&#x27;, &#x27;gene_count&#x27;, &#x27;tscp_count&#x27;, &#x27;mread_count&#x27;, &#x27;leiden&#x27;, &#x27;n_counts&#x27;\n",
       "      uns:\t&#x27;guide_names&#x27;, &#x27;guide_targets&#x27;, &#x27;var_names&#x27;\n",
       "      obsm:\t&#x27;guide_assignment&#x27;\n",
       "      varm:\t&#x27;loadings&#x27;</pre>"
      ],
      "text/plain": [
       "MuData object with n_obs × n_vars = 92284 × 5481\n",
       "  2 modalities\n",
       "    rna:\t92284 x 5451\n",
       "      obs:\t'sample', 'species', 'gene_count', 'tscp_count', 'mread_count', 'leiden', 'n_counts'\n",
       "      obsm:\t'X_pca', 'X_umap'\n",
       "      layers:\t'norm10k'\n",
       "    cNMF:\t92284 x 30\n",
       "      obs:\t'sample', 'species', 'gene_count', 'tscp_count', 'mread_count', 'leiden', 'n_counts'\n",
       "      uns:\t'guide_names', 'guide_targets', 'var_names'\n",
       "      obsm:\t'guide_assignment'\n",
       "      varm:\t'loadings'"
      ]
     },
     "execution_count": 14,
     "metadata": {},
     "output_type": "execute_result"
    }
   ],
   "source": [
    "# Load mdata\n",
    "path_mdata = io_config['path_mdata']\n",
    "mdata = mudata.read(path_mdata)\n",
    "mdata"
   ]
  },
  {
   "cell_type": "code",
   "execution_count": 18,
   "metadata": {},
   "outputs": [],
   "source": [
    "prog_key = \"cNMF\"\n",
    "data_key = \"rna\""
   ]
  },
  {
   "cell_type": "markdown",
   "metadata": {},
   "source": [
    "# Gene set enrichment testing"
   ]
  },
  {
   "cell_type": "code",
   "execution_count": 24,
   "metadata": {},
   "outputs": [],
   "source": [
    "from src.evaluation.enrichment_geneset import get_geneset, get_program_gene_loadings, perform_prerank, perform_fisher_enrich\n",
    "import gseapy as gp"
   ]
  },
  {
   "cell_type": "code",
   "execution_count": 54,
   "metadata": {},
   "outputs": [],
   "source": [
    "# Run GSEAS\n",
    "def perform_prerank(\n",
    "    loadings, \n",
    "    geneset, \n",
    "    n_jobs=1, \n",
    "    low_cutoff=-np.inf,\n",
    "    hi_cutoff=np.inf,\n",
    "    **kwargs\n",
    "):\n",
    "    \"\"\"Run GSEA prerank on each gene program in the loadings matrix.\n",
    "    \n",
    "    Parameters\n",
    "    ----------\n",
    "    loadings : pd.DataFrame\n",
    "        DataFrame of gene loadings for each gene program.\n",
    "    geneset : str\n",
    "        Name of the gene set to run GSEA on.\n",
    "    n_jobs : int\n",
    "        Number of parallel jobs to run.\n",
    "    min_value : float\n",
    "        Loadings must be strictly greater this value to be included in the analysis.\n",
    "    max_value : float\n",
    "        Loadings must be strictly less than this value to be included in the analysis.\n",
    "    \"\"\"\n",
    "\n",
    "    # Run GSEA prerank for each column of loadings (each cell program)\n",
    "    pre_res = pd.DataFrame()\n",
    "    for i in tqdm(loadings.columns, desc='Running GSEA', unit='programs'):\n",
    "\n",
    "        # If low_cutoff or hi_cutoff is not -np.inf or np.inf, filter loadings\n",
    "        if low_cutoff != -np.inf or hi_cutoff != np.inf:\n",
    "            temp_loadings = loadings[i][(loadings[i] > low_cutoff) & (loadings[i] < hi_cutoff)]\n",
    "        else:\n",
    "            temp_loadings = loadings[i]\n",
    "            \n",
    "        # Run GSEA prerank\n",
    "        temp_res = gp.prerank(rnk=temp_loadings, gene_sets=geneset, threads=n_jobs, **kwargs).res2d\n",
    "\n",
    "        # Post-process results\n",
    "        temp_res['Gene %'] = temp_res['Gene %'].apply(lambda x: float(x[:-1]))\n",
    "        temp_res['tag_before'] = temp_res['Tag %'].apply(lambda x: int(x.split('/')[0]))\n",
    "        temp_res['tag_after'] = temp_res['Tag %'].apply(lambda x: int(x.split('/')[1]))\n",
    "        temp_res.drop(columns=['Tag %'], inplace=True)\n",
    "        if 'Name' in temp_res.columns and temp_res['Name'][0] == \"prerank\":\n",
    "            temp_res['Name'] = i\n",
    "        temp_res.rename(columns={'Name': 'program_name'}, inplace=True)\n",
    "        temp_res = temp_res.sort_values(['program_name', 'FDR q-val'])\n",
    "        pre_res = pd.concat([pre_res, temp_res], ignore_index=True)\n",
    "    \n",
    "    return pre_res"
   ]
  },
  {
   "cell_type": "code",
   "execution_count": 55,
   "metadata": {},
   "outputs": [
    {
     "data": {
      "text/plain": [
       "{'prog_nam': None,\n",
       " 'organism': 'human',\n",
       " 'libraries': ['Reactome_2022', 'GO_Biological_Process_2023'],\n",
       " 'method': 'fisher',\n",
       " 'database': 'enrichr',\n",
       " 'loading_rank_thresh': 300,\n",
       " 'n_jobs': -1,\n",
       " 'inplace': False,\n",
       " 'user_geneset': None,\n",
       " 'max_size': 500,\n",
       " 'min_size': 5}"
      ]
     },
     "execution_count": 55,
     "metadata": {},
     "output_type": "execute_result"
    }
   ],
   "source": [
    "gene_set_enrichment_config = config['gene_set_enrichment']\n",
    "gene_set_enrichment_config"
   ]
  },
  {
   "cell_type": "code",
   "execution_count": 56,
   "metadata": {},
   "outputs": [
    {
     "name": "stderr",
     "output_type": "stream",
     "text": [
      "INFO:root:Downloading and generating Enrichr library gene sets...\n",
      "INFO:root:Library is already downloaded in: /cellar/users/aklie/.cache/gseapy/Enrichr.Reactome_2022.gmt, use local file\n",
      "INFO:root:0002 gene_sets have been filtered out when max_size=2000 and min_size=0\n",
      "INFO:root:Library is already downloaded in: /cellar/users/aklie/.cache/gseapy/Enrichr.Reactome_2022.gmt, use local file\n",
      "INFO:root:0002 gene_sets have been filtered out when max_size=2000 and min_size=0\n"
     ]
    }
   ],
   "source": [
    "reactome = get_geneset(\n",
    "    organism=\"human\",\n",
    "    library=\"Reactome_2022\",\n",
    "    database=\"enrichr\"\n",
    ")"
   ]
  },
  {
   "cell_type": "code",
   "execution_count": 19,
   "metadata": {},
   "outputs": [],
   "source": [
    "loadings = get_program_gene_loadings(\n",
    "    mdata, \n",
    "    prog_key=prog_key, \n",
    "    prog_nam=gene_set_enrichment_config['prog_nam'],\n",
    "    data_key=data_key, \n",
    "    organism=gene_set_enrichment_config['organism'],\n",
    ")"
   ]
  },
  {
   "cell_type": "code",
   "execution_count": 49,
   "metadata": {},
   "outputs": [
    {
     "data": {
      "application/vnd.jupyter.widget-view+json": {
       "model_id": "744cebe1b5f145e28cc95c7a037d66cd",
       "version_major": 2,
       "version_minor": 0
      },
      "text/plain": [
       "Running GSEA:   0%|          | 0/30 [00:00<?, ?programs/s]"
      ]
     },
     "metadata": {},
     "output_type": "display_data"
    }
   ],
   "source": [
    "min_value = 0.0\n",
    "max_value = np.inf\n",
    "for i in tqdm(loadings.columns, desc='Running GSEA', unit='programs'):\n",
    "    temp_loadings = loadings[i][(loadings[i] > min_value) & (loadings[i] < max_value)]\n"
   ]
  },
  {
   "cell_type": "code",
   "execution_count": 60,
   "metadata": {},
   "outputs": [
    {
     "data": {
      "application/vnd.jupyter.widget-view+json": {
       "model_id": "4f194e051d274bb5b42bfbeb3a398ac4",
       "version_major": 2,
       "version_minor": 0
      },
      "text/plain": [
       "Running GSEA:   0%|          | 0/30 [00:00<?, ?programs/s]"
      ]
     },
     "metadata": {},
     "output_type": "display_data"
    },
    {
     "name": "stdout",
     "output_type": "stream",
     "text": [
      "(3406,)\n",
      "(3298,)\n"
     ]
    },
    {
     "name": "stderr",
     "output_type": "stream",
     "text": [
      "2024-09-03 12:34:11,432 [WARNING] Duplicated values found in preranked stats: 0.03% of genes\n",
      "The order of those genes will be arbitrary, which may produce unexpected results.\n"
     ]
    },
    {
     "name": "stdout",
     "output_type": "stream",
     "text": [
      "(3663,)\n",
      "(2555,)\n",
      "(3047,)\n",
      "(3562,)\n",
      "(3017,)\n",
      "(3503,)\n",
      "(2737,)\n",
      "(2470,)\n",
      "(2788,)\n",
      "(3158,)\n",
      "(3162,)\n",
      "(2616,)\n"
     ]
    },
    {
     "name": "stderr",
     "output_type": "stream",
     "text": [
      "2024-09-03 12:35:02,939 [WARNING] Duplicated values found in preranked stats: 0.03% of genes\n",
      "The order of those genes will be arbitrary, which may produce unexpected results.\n"
     ]
    },
    {
     "name": "stdout",
     "output_type": "stream",
     "text": [
      "(3078,)\n",
      "(2376,)\n",
      "(3085,)\n"
     ]
    },
    {
     "name": "stderr",
     "output_type": "stream",
     "text": [
      "2024-09-03 12:35:14,240 [WARNING] Duplicated values found in preranked stats: 0.04% of genes\n",
      "The order of those genes will be arbitrary, which may produce unexpected results.\n"
     ]
    },
    {
     "name": "stdout",
     "output_type": "stream",
     "text": [
      "(2790,)\n",
      "(3125,)\n",
      "(3286,)\n",
      "(3047,)\n",
      "(3295,)\n",
      "(3034,)\n",
      "(3110,)\n",
      "(3036,)\n",
      "(2910,)\n",
      "(2754,)\n",
      "(2767,)\n",
      "(3316,)\n",
      "(2787,)\n"
     ]
    },
    {
     "name": "stderr",
     "output_type": "stream",
     "text": [
      "Exception ignored in atexit callback: <bound method InteractiveShell.atexit_operations of <ipykernel.zmqshell.ZMQInteractiveShell object at 0x155551779e10>>\n",
      "Traceback (most recent call last):\n",
      "  File \"/cellar/users/aklie/opt/miniconda3/envs/test_celloracle/lib/python3.10/site-packages/IPython/core/interactiveshell.py\", line 3917, in atexit_operations\n",
      "    self._atexit_once()\n",
      "  File \"/cellar/users/aklie/opt/miniconda3/envs/test_celloracle/lib/python3.10/site-packages/IPython/core/interactiveshell.py\", line 3900, in _atexit_once\n",
      "    self.history_manager.end_session()\n",
      "  File \"/cellar/users/aklie/opt/miniconda3/envs/test_celloracle/lib/python3.10/site-packages/IPython/core/history.py\", line 583, in end_session\n",
      "    self.writeout_cache()\n",
      "  File \"/cellar/users/aklie/opt/miniconda3/envs/test_celloracle/lib/python3.10/site-packages/decorator.py\", line 232, in fun\n",
      "    return caller(func, *(extras + args), **kw)\n",
      "  File \"/cellar/users/aklie/opt/miniconda3/envs/test_celloracle/lib/python3.10/site-packages/IPython/core/history.py\", line 60, in only_when_enabled\n",
      "    return f(self, *a, **kw)\n",
      "  File \"/cellar/users/aklie/opt/miniconda3/envs/test_celloracle/lib/python3.10/site-packages/IPython/core/history.py\", line 844, in writeout_cache\n",
      "    self._writeout_input_cache(conn)\n",
      "  File \"/cellar/users/aklie/opt/miniconda3/envs/test_celloracle/lib/python3.10/site-packages/IPython/core/history.py\", line 827, in _writeout_input_cache\n",
      "    conn.execute(\"INSERT INTO history VALUES (?, ?, ?, ?)\",\n",
      "sqlite3.DatabaseError: database disk image is malformed\n"
     ]
    }
   ],
   "source": [
    "pre_res = perform_prerank(\n",
    "    loadings=loadings, \n",
    "    geneset=reactome,\n",
    "    n_jobs=gene_set_enrichment_config['n_jobs'],\n",
    "    low_cutoff=0\n",
    ")"
   ]
  },
  {
   "cell_type": "code",
   "execution_count": null,
   "metadata": {},
   "outputs": [],
   "source": []
  }
 ],
 "metadata": {
  "kernelspec": {
   "display_name": "Python 3.10 test_celloracle",
   "language": "python",
   "name": "test_scenicplus-py310"
  },
  "language_info": {
   "codemirror_mode": {
    "name": "ipython",
    "version": 3
   },
   "file_extension": ".py",
   "mimetype": "text/x-python",
   "name": "python",
   "nbconvert_exporter": "python",
   "pygments_lexer": "ipython3",
   "version": "3.10.8"
  }
 },
 "nbformat": 4,
 "nbformat_minor": 2
}
