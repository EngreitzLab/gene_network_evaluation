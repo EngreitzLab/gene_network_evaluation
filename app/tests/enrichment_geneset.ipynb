{
 "cells": [
  {
   "cell_type": "markdown",
   "metadata": {},
   "source": [
    "# Set-up"
   ]
  },
  {
   "cell_type": "code",
   "execution_count": 80,
   "metadata": {},
   "outputs": [],
   "source": [
    "import os\n",
    "import sys\n",
    "import yaml\n",
    "import logging\n",
    "import mudata\n",
    "import numpy as np\n",
    "import pandas as pd\n",
    "from tqdm.auto import tqdm\n",
    "from typing import List, Dict, Tuple, Union, Optional, Literal\n",
    "\n",
    "# Change path to wherever you have repo locally\n",
    "sys.path.append('/cellar/users/aklie/opt/gene_program_evaluation')\n",
    "\n",
    "from src.evaluation import (\n",
    "    compute_categorical_association,\n",
    "    compute_geneset_enrichment,\n",
    "    compute_trait_enrichment,\n",
    "    compute_perturbation_association,\n",
    "    compute_explained_variance_ratio,\n",
    "    compute_motif_enrichment\n",
    ")\n",
    "from src.evaluation.enrichment_trait import process_enrichment_data"
   ]
  },
  {
   "cell_type": "code",
   "execution_count": 84,
   "metadata": {},
   "outputs": [],
   "source": [
    "# I/O paths\n",
    "path_config = \"/cellar/users/aklie/opt/gene_program_evaluation/examples/evaluation/iPSC_EC/cNMF_30/evaluation_pipeline.yml\"\n",
    "config = yaml.safe_load(open(path_config))"
   ]
  },
  {
   "cell_type": "markdown",
   "metadata": {},
   "source": [
    "## I/O"
   ]
  },
  {
   "cell_type": "code",
   "execution_count": 85,
   "metadata": {},
   "outputs": [
    {
     "data": {
      "text/plain": [
       "{'path_mdata': '/cellar/users/aklie/opt/gene_program_evaluation/examples/inference/iPSC_EC/cNMF/cNMF_30_0.2_gene_names.h5mu',\n",
       " 'path_out': '/cellar/users/aklie/opt/gene_program_evaluation/examples/evaluation/iPSC_EC/cNMF_30',\n",
       " 'data_key': 'rna',\n",
       " 'prog_key': 'cNMF'}"
      ]
     },
     "execution_count": 85,
     "metadata": {},
     "output_type": "execute_result"
    }
   ],
   "source": [
    "io_config = config['io']\n",
    "io_config"
   ]
  },
  {
   "cell_type": "code",
   "execution_count": 8,
   "metadata": {},
   "outputs": [
    {
     "name": "stderr",
     "output_type": "stream",
     "text": [
      "/cellar/users/aklie/opt/miniconda3/envs/test_celloracle/lib/python3.10/site-packages/anndata/_core/anndata.py:522: FutureWarning: The dtype argument is deprecated and will be removed in late 2024.\n",
      "  warnings.warn(\n",
      "/cellar/users/aklie/opt/miniconda3/envs/test_celloracle/lib/python3.10/site-packages/anndata/_core/anndata.py:522: FutureWarning: The dtype argument is deprecated and will be removed in late 2024.\n",
      "  warnings.warn(\n",
      "/cellar/users/aklie/opt/miniconda3/envs/test_celloracle/lib/python3.10/site-packages/anndata/_core/anndata.py:1899: UserWarning: Variable names are not unique. To make them unique, call `.var_names_make_unique`.\n",
      "  utils.warn_names_duplicates(\"var\")\n",
      "/cellar/users/aklie/opt/miniconda3/envs/test_celloracle/lib/python3.10/site-packages/mudata/_core/mudata.py:479: UserWarning: var_names are not unique. To make them unique, call `.var_names_make_unique`.\n",
      "  warnings.warn(\n"
     ]
    },
    {
     "data": {
      "text/html": [
       "<pre>MuData object with n_obs × n_vars = 92284 × 5481\n",
       "  2 modalities\n",
       "    rna:\t92284 x 5451\n",
       "      obs:\t&#x27;sample&#x27;, &#x27;species&#x27;, &#x27;gene_count&#x27;, &#x27;tscp_count&#x27;, &#x27;mread_count&#x27;, &#x27;leiden&#x27;, &#x27;n_counts&#x27;\n",
       "      obsm:\t&#x27;X_pca&#x27;, &#x27;X_umap&#x27;\n",
       "      layers:\t&#x27;norm10k&#x27;\n",
       "    cNMF:\t92284 x 30\n",
       "      obs:\t&#x27;sample&#x27;, &#x27;species&#x27;, &#x27;gene_count&#x27;, &#x27;tscp_count&#x27;, &#x27;mread_count&#x27;, &#x27;leiden&#x27;, &#x27;n_counts&#x27;\n",
       "      uns:\t&#x27;guide_names&#x27;, &#x27;guide_targets&#x27;, &#x27;var_names&#x27;\n",
       "      obsm:\t&#x27;guide_assignment&#x27;\n",
       "      varm:\t&#x27;loadings&#x27;</pre>"
      ],
      "text/plain": [
       "MuData object with n_obs × n_vars = 92284 × 5481\n",
       "  2 modalities\n",
       "    rna:\t92284 x 5451\n",
       "      obs:\t'sample', 'species', 'gene_count', 'tscp_count', 'mread_count', 'leiden', 'n_counts'\n",
       "      obsm:\t'X_pca', 'X_umap'\n",
       "      layers:\t'norm10k'\n",
       "    cNMF:\t92284 x 30\n",
       "      obs:\t'sample', 'species', 'gene_count', 'tscp_count', 'mread_count', 'leiden', 'n_counts'\n",
       "      uns:\t'guide_names', 'guide_targets', 'var_names'\n",
       "      obsm:\t'guide_assignment'\n",
       "      varm:\t'loadings'"
      ]
     },
     "execution_count": 8,
     "metadata": {},
     "output_type": "execute_result"
    }
   ],
   "source": [
    "# Load mdata\n",
    "path_mdata = io_config['path_mdata']\n",
    "mdata = mudata.read(path_mdata)\n",
    "mdata"
   ]
  },
  {
   "cell_type": "code",
   "execution_count": 9,
   "metadata": {},
   "outputs": [],
   "source": [
    "prog_key = \"cNMF\"\n",
    "data_key = \"rna\""
   ]
  },
  {
   "cell_type": "code",
   "execution_count": 45,
   "metadata": {},
   "outputs": [
    {
     "data": {
      "text/html": [
       "<pre>MuData object with n_obs × n_vars = 92284 × 5481\n",
       "  2 modalities\n",
       "    rna:\t92284 x 5451\n",
       "      obs:\t&#x27;sample&#x27;, &#x27;species&#x27;, &#x27;gene_count&#x27;, &#x27;tscp_count&#x27;, &#x27;mread_count&#x27;, &#x27;leiden&#x27;, &#x27;n_counts&#x27;\n",
       "      obsm:\t&#x27;X_pca&#x27;, &#x27;X_umap&#x27;\n",
       "      layers:\t&#x27;norm10k&#x27;\n",
       "    cNMF:\t92284 x 3\n",
       "      obs:\t&#x27;sample&#x27;, &#x27;species&#x27;, &#x27;gene_count&#x27;, &#x27;tscp_count&#x27;, &#x27;mread_count&#x27;, &#x27;leiden&#x27;, &#x27;n_counts&#x27;\n",
       "      uns:\t&#x27;guide_names&#x27;, &#x27;guide_targets&#x27;, &#x27;var_names&#x27;\n",
       "      obsm:\t&#x27;guide_assignment&#x27;\n",
       "      varm:\t&#x27;loadings&#x27;</pre>"
      ],
      "text/plain": [
       "MuData object with n_obs × n_vars = 92284 × 5481\n",
       "  2 modalities\n",
       "    rna:\t92284 x 5451\n",
       "      obs:\t'sample', 'species', 'gene_count', 'tscp_count', 'mread_count', 'leiden', 'n_counts'\n",
       "      obsm:\t'X_pca', 'X_umap'\n",
       "      layers:\t'norm10k'\n",
       "    cNMF:\t92284 x 3\n",
       "      obs:\t'sample', 'species', 'gene_count', 'tscp_count', 'mread_count', 'leiden', 'n_counts'\n",
       "      uns:\t'guide_names', 'guide_targets', 'var_names'\n",
       "      obsm:\t'guide_assignment'\n",
       "      varm:\t'loadings'"
      ]
     },
     "execution_count": 45,
     "metadata": {},
     "output_type": "execute_result"
    }
   ],
   "source": [
    "# choose the first 3 programs in prog_key\n",
    "prog_names = list(mdata.mod[prog_key].var_names)[:3]\n",
    "mdata.mod[prog_key] = mdata.mod[prog_key][:, prog_names]\n",
    "mdata"
   ]
  },
  {
   "cell_type": "markdown",
   "metadata": {},
   "source": [
    "# Gene set enrichment testing"
   ]
  },
  {
   "cell_type": "code",
   "execution_count": 86,
   "metadata": {},
   "outputs": [],
   "source": [
    "from src.evaluation.enrichment_geneset import get_geneset, get_program_gene_loadings\n",
    "import gseapy as gp"
   ]
  },
  {
   "cell_type": "code",
   "execution_count": 87,
   "metadata": {},
   "outputs": [
    {
     "data": {
      "text/plain": [
       "{'prog_nam': None,\n",
       " 'organism': 'human',\n",
       " 'libraries': ['Reactome_2022', 'GO_Biological_Process_2023'],\n",
       " 'method': 'fisher',\n",
       " 'database': 'enrichr',\n",
       " 'n_top': 500,\n",
       " 'low_cutoff': 0,\n",
       " 'n_jobs': -1,\n",
       " 'inplace': False,\n",
       " 'user_geneset': None,\n",
       " 'max_size': 500,\n",
       " 'min_size': 5}"
      ]
     },
     "execution_count": 87,
     "metadata": {},
     "output_type": "execute_result"
    }
   ],
   "source": [
    "gene_set_enrichment_config = config['gene_set_enrichment']\n",
    "gene_set_enrichment_config"
   ]
  },
  {
   "cell_type": "markdown",
   "metadata": {},
   "source": [
    "## Get geneset and loadings"
   ]
  },
  {
   "cell_type": "code",
   "execution_count": 66,
   "metadata": {},
   "outputs": [
    {
     "name": "stderr",
     "output_type": "stream",
     "text": [
      "INFO:root:Downloading and generating Enrichr library gene sets...\n",
      "INFO:root:Library is already downloaded in: /cellar/users/aklie/.cache/gseapy/Enrichr.Reactome_2022.gmt, use local file\n",
      "INFO:root:0031 gene_sets have been filtered out when max_size=500 and min_size=5\n"
     ]
    }
   ],
   "source": [
    "reactome = get_geneset(\n",
    "    organism=\"human\",\n",
    "    library=\"Reactome_2022\",\n",
    "    database=\"enrichr\",\n",
    "    max_size=500,\n",
    "    min_size=5\n",
    ")"
   ]
  },
  {
   "cell_type": "code",
   "execution_count": 67,
   "metadata": {},
   "outputs": [],
   "source": [
    "loadings = get_program_gene_loadings(\n",
    "    mdata, \n",
    "    prog_key=prog_key, \n",
    "    prog_nam=gene_set_enrichment_config['prog_nam'],\n",
    "    data_key=data_key, \n",
    "    organism=gene_set_enrichment_config['organism'],\n",
    ")"
   ]
  },
  {
   "cell_type": "markdown",
   "metadata": {},
   "source": [
    "## GSEA"
   ]
  },
  {
   "cell_type": "code",
   "execution_count": 73,
   "metadata": {},
   "outputs": [],
   "source": [
    "def perform_prerank(\n",
    "    loadings: pd.DataFrame,\n",
    "    geneset: Union[List[str], str, Dict[str, str]],\n",
    "    n_jobs: int = 1,\n",
    "    low_cutoff: float = -np.inf,\n",
    "    n_top: Optional[int] = None,\n",
    "    **kwargs\n",
    ") -> pd.DataFrame:\n",
    "    \"\"\"Run GSEA prerank on each gene program in the loadings matrix.\n",
    "    \n",
    "    Parameters\n",
    "    ----------\n",
    "    loadings : pd.DataFrame\n",
    "        DataFrame of feature loadings for each program.\n",
    "    geneset : str\n",
    "        Name of the set to run GSEA on.\n",
    "    n_jobs : int\n",
    "        Number of parallel jobs to run.\n",
    "    low_cutoff : float\n",
    "        Remove features with loadings at or below this value.\n",
    "    n_top : int\n",
    "        Take the top n features with the highest loadings.\n",
    "        \n",
    "    Returns\n",
    "    -------\n",
    "    pd.DataFrame\n",
    "        DataFrame of GSEA results sorted by program name and FDR q-value. Includes the following columns:\n",
    "        - program_name: name of the program\n",
    "        - Term: gene set name\n",
    "        - ES: enrichment score\n",
    "        - NES: normalized enrichment score\n",
    "        - NOM p-val: nominal p-value (from the null distribution of the gene set)\n",
    "        - FDR q-val: adjusted False Discovery Rate\n",
    "        - FWER p-val: Family wise error rate p-values\n",
    "        - Gene %: percent of gene set before running enrichment peak (ES)\n",
    "        - Lead_genes: leading edge genes (gene hits before running enrichment peak)\n",
    "        - tag_before: number of genes in gene set\n",
    "        - tag_after: number of genes matched to the data\n",
    "    \"\"\"\n",
    "\n",
    "    # Run GSEA prerank for each column of loadings (each cell program)\n",
    "    pre_res = pd.DataFrame()\n",
    "    for i in tqdm(loadings.columns, desc='Running GSEA', unit='programs'):\n",
    "\n",
    "        # Filter out low loadings\n",
    "        temp_loadings = loadings[i][(loadings[i] > low_cutoff)]\n",
    "\n",
    "        # Take top n features if specified\n",
    "        if n_top is not None:\n",
    "            temp_loadings = temp_loadings.sort_values(ascending=False).head(n_top)\n",
    "            if len(temp_loadings) < n_top:\n",
    "                logging.warning(f\"Program {i} has less than {n_top} features after filtering. Only {len(temp_loadings)} features will be used.\")\n",
    "\n",
    "        # Run GSEA prerank\n",
    "        temp_res = gp.prerank(\n",
    "            rnk=temp_loadings, \n",
    "            gene_sets=geneset, \n",
    "            threads=n_jobs, \n",
    "            **kwargs\n",
    "        ).res2d\n",
    "\n",
    "        # Post-process results\n",
    "        temp_res['Gene %'] = temp_res['Gene %'].apply(lambda x: float(x[:-1]))\n",
    "        temp_res['tag_before'] = temp_res['Tag %'].apply(lambda x: int(x.split('/')[0]))\n",
    "        temp_res['tag_after'] = temp_res['Tag %'].apply(lambda x: int(x.split('/')[1]))\n",
    "        temp_res.drop(columns=['Tag %'], inplace=True)\n",
    "        if 'Name' in temp_res.columns and temp_res['Name'][0] == \"prerank\":\n",
    "            temp_res['Name'] = i\n",
    "        temp_res.rename(columns={'Name': 'program_name'}, inplace=True)\n",
    "        temp_res = temp_res.sort_values(['program_name', 'FDR q-val'])\n",
    "        pre_res = pd.concat([pre_res, temp_res], ignore_index=True)\n",
    "    \n",
    "    return pre_res"
   ]
  },
  {
   "cell_type": "code",
   "execution_count": 74,
   "metadata": {},
   "outputs": [
    {
     "data": {
      "application/vnd.jupyter.widget-view+json": {
       "model_id": "d6b897f44c0649f3a5a0b0db6fc900b7",
       "version_major": 2,
       "version_minor": 0
      },
      "text/plain": [
       "Running GSEA:   0%|          | 0/3 [00:00<?, ?programs/s]"
      ]
     },
     "metadata": {},
     "output_type": "display_data"
    },
    {
     "name": "stderr",
     "output_type": "stream",
     "text": [
      "2024-09-07 12:33:51,783 [WARNING] Duplicated values found in preranked stats: 0.03% of genes\n",
      "The order of those genes will be arbitrary, which may produce unexpected results.\n"
     ]
    }
   ],
   "source": [
    "pre_res_gsea = perform_prerank(\n",
    "    loadings=loadings, \n",
    "    geneset=reactome,\n",
    "    n_jobs=gene_set_enrichment_config['n_jobs'],\n",
    "    low_cutoff=0,\n",
    "    n_top=None\n",
    ")"
   ]
  },
  {
   "cell_type": "code",
   "execution_count": 75,
   "metadata": {},
   "outputs": [
    {
     "data": {
      "application/vnd.jupyter.widget-view+json": {
       "model_id": "a959c4516db749a3a6030b2b3975ab99",
       "version_major": 2,
       "version_minor": 0
      },
      "text/plain": [
       "Running GSEA:   0%|          | 0/3 [00:00<?, ?programs/s]"
      ]
     },
     "metadata": {},
     "output_type": "display_data"
    }
   ],
   "source": [
    "pre_res_gsea_500 = perform_prerank(\n",
    "    loadings=loadings, \n",
    "    geneset=reactome,\n",
    "    n_jobs=gene_set_enrichment_config['n_jobs'],\n",
    "    low_cutoff=0,\n",
    "    n_top=500\n",
    ")"
   ]
  },
  {
   "cell_type": "code",
   "execution_count": 99,
   "metadata": {},
   "outputs": [],
   "source": [
    "def perform_fisher_enrich(\n",
    "    loadings, \n",
    "    geneset, \n",
    "    n_top=500,\n",
    "    **kwargs\n",
    "):\n",
    "    \"\"\"Run Fisher enrichment on each gene program in the loadings matrix.\n",
    "\n",
    "    Parameters\n",
    "    ----------\n",
    "    loadings : pd.DataFrame\n",
    "        DataFrame of feature loadings for each program.\n",
    "    geneset : dict\n",
    "        Dictionary of gene sets.\n",
    "    n_top : int\n",
    "        Number of top features to take.\n",
    "    \n",
    "    Returns\n",
    "    -------\n",
    "    ['Gene_set', 'Term', 'P-value', 'Adjusted P-value', 'Odds Ratio',\n",
    "       'Combined Score', 'Genes', 'program_name', 'overlap_numerator',\n",
    "       'overlap_denominator'],\n",
    "    pd.DataFrame\n",
    "        DataFrame of Fisher enrichment results sorted by program name and adjusted p-value. Includes the following columns:\n",
    "        - program_name: name of the program\n",
    "        - Term: gene set name\n",
    "        - P-value: Fisher's exact test p-value\n",
    "        - Adjusted P-value: adjusted p-value\n",
    "        - Odds Ratio: odds ratio\n",
    "        - Combined Score: combined score\n",
    "        - Genes: genes in the gene set\n",
    "        - overlap_numerator: number of overlapping genes\n",
    "        - overlap_denominator: number of genes in the gene set\n",
    "    TODO\n",
    "    ----\n",
    "    - Parallelize across programs\n",
    "    \"\"\"\n",
    "\n",
    "    # Find the intersection of genes present in the mudata object and in the library\n",
    "    background_genes = set(value for sublist in geneset.values() for value in sublist)\n",
    "    \n",
    "    enr_res = pd.DataFrame()\n",
    "    for i in tqdm(loadings.columns, desc='Running Fisher enrichment', unit='programs'):\n",
    "        gene_list = list(loadings[i].sort_values(ascending=False).head(n_top).index)\n",
    "        temp_res = gp.enrich(\n",
    "            gene_list=gene_list,\n",
    "            gene_sets=geneset, \n",
    "            background=background_genes\n",
    "        ).res2d\n",
    "        temp_res[\"program_name\"] = i\n",
    "        enr_res = pd.concat([enr_res, temp_res], ignore_index=True)\n",
    "    enr_res['overlap_numerator'] = enr_res['Overlap'].apply(lambda x: int(x.split('/')[0]))\n",
    "    enr_res['overlap_denominator'] = enr_res['Overlap'].apply(lambda x: int(x.split('/')[1]))\n",
    "    enr_res.drop(columns=['Overlap', 'Gene_set'], inplace=True)\n",
    "    enr_res = enr_res[[\"program_name\"] + [col for col in enr_res.columns if col != \"program_name\"]]\n",
    "    enr_res = enr_res.sort_values(['program_name', 'Adjusted P-value'])\n",
    "    \n",
    "    return enr_res"
   ]
  },
  {
   "cell_type": "code",
   "execution_count": 100,
   "metadata": {},
   "outputs": [
    {
     "data": {
      "application/vnd.jupyter.widget-view+json": {
       "model_id": "3d4507ac0beb48e8b098a1f5bb1fad9b",
       "version_major": 2,
       "version_minor": 0
      },
      "text/plain": [
       "Running Fisher enrichment:   0%|          | 0/3 [00:00<?, ?programs/s]"
      ]
     },
     "metadata": {},
     "output_type": "display_data"
    }
   ],
   "source": [
    "pre_res_fisher_500 = perform_fisher_enrich(\n",
    "    loadings=loadings,\n",
    "    geneset=reactome,\n",
    "    n_top=500\n",
    ")"
   ]
  },
  {
   "cell_type": "markdown",
   "metadata": {},
   "source": [
    "## Wrapper"
   ]
  },
  {
   "cell_type": "code",
   "execution_count": 88,
   "metadata": {},
   "outputs": [],
   "source": [
    "def insert_enrichment(\n",
    "    mdata: mudata.MuData,\n",
    "    df: pd.DataFrame,\n",
    "    library=\"GSEA\", \n",
    "    prog_key=\"prog\",\n",
    "    geneset_index=\"Term\", \n",
    "    program_index=\"program_name\",\n",
    "    varmap_name_prefix=\"gsea_varmap\"\n",
    ") -> None:\n",
    "    \"\"\"Insert geneset enrichment into mudata\n",
    "    \n",
    "    Parameters\n",
    "    ----------\n",
    "    mdata : mudata.MuData\n",
    "        MuData object.\n",
    "    df : pd.DataFrame\n",
    "        DataFrame of geneset enrichment results.\n",
    "    library : str\n",
    "        name of the library used for enrichment.\n",
    "    prog_key : str\n",
    "        key for the program in the mdata object.\n",
    "    geneset_index : str\n",
    "        index for the gene set in the DataFrame.\n",
    "    program_index : str\n",
    "        index for the program in the DataFrame.\n",
    "    varmap_name_prefix : str\n",
    "        prefix for the varmap name.\n",
    "    \n",
    "    Returns\n",
    "    -------\n",
    "    None\n",
    "    \"\"\"\n",
    "    \n",
    "    # Create a mudata key to column name mapping dictionary\n",
    "    mudata_keys_dict = {}\n",
    "    for col in df.columns:\n",
    "        if col not in [geneset_index, program_index]:\n",
    "            key = f\"{col}_{library}\"\n",
    "            key = key.replace(' ', '_').replace('%', 'percent')\n",
    "            mudata_keys_dict[key] = col\n",
    "\n",
    "    # Insert the values from the dataframe into the array for each key\n",
    "    for key, colname in mudata_keys_dict.items():\n",
    "        # Create an empty dataframe with the right dimensions\n",
    "        all_progs_df = pd.DataFrame(index=df[geneset_index].unique(), \n",
    "                                    columns=mdata[prog_key].var.index)\n",
    "        \n",
    "        # Pivot the dataframe for gene sets and programs\n",
    "        pivot_df = df[[geneset_index, program_index, colname]].pivot(index=geneset_index, \n",
    "                                                                     columns=program_index, \n",
    "                                                                     values=colname)\n",
    "        \n",
    "        # Update the empty dataframe with new values\n",
    "        all_progs_df[pivot_df.columns] = pivot_df\n",
    "        \n",
    "        # Convert dataframe to a numpy array\n",
    "        all_progs_array = all_progs_df.T.to_numpy()\n",
    "        \n",
    "        # Add the array into the MuData object\n",
    "        mdata[prog_key].varm[key] = all_progs_array\n",
    "        \n",
    "    # Add the varmap to the mudata object\n",
    "    varmap_name = f\"{varmap_name_prefix}_{library}\"\n",
    "    mdata[prog_key].uns[varmap_name] = all_progs_df.index\n",
    "\n",
    "\n",
    "def compute_geneset_enrichment(\n",
    "    mdata: Union[str, mudata.MuData],\n",
    "    prog_key: str = 'program_name',\n",
    "    data_key: str = 'rna',\n",
    "    prog_name: Optional[str] = None,\n",
    "    method: Literal['gsea', 'fisher'] = 'gsea',\n",
    "    organism: Literal['human', 'mouse'] = 'human',\n",
    "    library: str = 'Reactome_2022', \n",
    "    database: Literal['msigdb', 'enrichr'] = 'enrichr',\n",
    "    user_geneset: Optional[Dict[str, List[str]]] = None,\n",
    "    min_size: int = 0,\n",
    "    max_size: int = 2000,\n",
    "    low_cutoff: float = -np.inf,\n",
    "    n_top: Optional[int] = None,\n",
    "    n_jobs: int = 1,\n",
    "    inplace: bool = True,\n",
    "    **kwargs\n",
    ") -> Optional[pd.DataFrame]:\n",
    "\n",
    "    \"\"\"\n",
    "    Wrapper function to compute gene set enrichment for each program in the MuData object.\n",
    "\n",
    "    Parameters\n",
    "    ----------\n",
    "    mdata : Union[str, mudata.MuData]\n",
    "        Path to the MuData object or the MuData object itself.\n",
    "    prog_key : str\n",
    "        index for the anndata object (mdata[prog_key]) in the mudata object.\n",
    "    data_key : str\n",
    "        index of the genomic data anndata object (mdata[data_key]) in the mudata object.\n",
    "    prog_name : str (default: None)\n",
    "        Compute enrichment for a particular program.\n",
    "    method : {'gsea', 'fisher'} (default: 'gsea')\n",
    "        Run GSEA or Fisher exact test gene set enrichment.\n",
    "    organism : {'human', 'mouse'} (default: 'human')\n",
    "        species to which the sequencing data was aligned to.\n",
    "    library : str (default: Reactome_2022)\n",
    "        gene-set library to use for computing enrichment.\n",
    "        MsigDB libraries: https://www.gsea-msigdb.org/gsea/msigdb\n",
    "        Enrichr libraries: https://maayanlab.cloud/Enrichr/#libraries\n",
    "    database : {'msigdb', 'enrichr'} (default: 'enrichr')\n",
    "        database of gene-set libraries to use. Should match the library.\n",
    "    user_geneset : dict\n",
    "        user-defined gene set to use for enrichment. If provided, library and database are ignored.\n",
    "    min_size: int (default: 0)\n",
    "        minimum size of gene sets to consider.\n",
    "    max_size: int (default: 2000)\n",
    "        maximum size of gene sets to consider.\n",
    "    low_cutoff : float (default: -np.inf)\n",
    "        Remove features with loadings at or below this value.\n",
    "    n_top : int\n",
    "        Take the top n features with the highest loadings.\n",
    "    n_jobs : int (default: 1)\n",
    "        number of threads to run processes on.\n",
    "    inplace : bool (default: True)\n",
    "        whether to insert the results back into the mudata object.\n",
    "    \n",
    "    Returns\n",
    "    -------\n",
    "    if not inplace:\n",
    "        return pre_res\n",
    "    else:\n",
    "        inserts the results back into the mudata object\n",
    "    \"\"\"\n",
    "\n",
    "    # Read in mudata if it is provided as a path\n",
    "    frompath=False\n",
    "    if isinstance(mdata, str):\n",
    "        if os.path.exists(mdata):\n",
    "            mdata = mudata.read(mdata)\n",
    "            if inplace:\n",
    "                logging.warning('Changed to inplace=False since path was provided')\n",
    "                inplace=False\n",
    "            frompath=True\n",
    "        else: raise ValueError('Incorrect mudata specification.')\n",
    "    \n",
    "    # get the geneset\n",
    "    if user_geneset is not None:\n",
    "        geneset = user_geneset\n",
    "    else:\n",
    "        geneset = get_geneset(\n",
    "            organism=organism,\n",
    "            library=library,\n",
    "            database=database,\n",
    "            max_size=max_size,\n",
    "            min_size=min_size\n",
    "        )\n",
    "     \n",
    "    # get the gene loadings for each program\n",
    "    loadings = get_program_gene_loadings(\n",
    "        mdata, \n",
    "        prog_key=prog_key, \n",
    "        prog_nam=prog_name,\n",
    "        data_key=data_key, \n",
    "        organism=organism,\n",
    "    )\n",
    "    \n",
    "    # run enrichment\n",
    "    if method == \"gsea\":\n",
    "        pre_res = perform_prerank(\n",
    "            loadings=loadings, \n",
    "            geneset=geneset,\n",
    "            n_jobs=n_jobs,\n",
    "            low_cutoff=low_cutoff,\n",
    "            n_top=n_top,\n",
    "            **kwargs\n",
    "        )\n",
    "    elif method == \"fisher\":\n",
    "        pre_res = perform_fisher_enrich(\n",
    "            loadings=loadings,\n",
    "            geneset=geneset,\n",
    "            n_top=n_top,\n",
    "            **kwargs\n",
    "        )\n",
    "        \n",
    "    # insert results back into the mudata object if inplace\n",
    "    if inplace:\n",
    "        mdata=insert_enrichment(\n",
    "            mdata, df=pre_res, \n",
    "            library=library, \n",
    "            prog_key=prog_key,\n",
    "            geneset_index=\"Term\", \n",
    "            program_index=\"program_name\",\n",
    "            varmap_name_prefix=\"gsea_varmap\"\n",
    "        )\n",
    "    else:\n",
    "        return(pre_res)"
   ]
  },
  {
   "cell_type": "code",
   "execution_count": 90,
   "metadata": {},
   "outputs": [
    {
     "name": "stderr",
     "output_type": "stream",
     "text": [
      "INFO:root:Downloading and generating Enrichr library gene sets...\n",
      "INFO:root:Library is already downloaded in: /cellar/users/aklie/.cache/gseapy/Enrichr.Reactome_2022.gmt, use local file\n",
      "INFO:root:0002 gene_sets have been filtered out when max_size=2000 and min_size=0\n"
     ]
    },
    {
     "data": {
      "application/vnd.jupyter.widget-view+json": {
       "model_id": "763552c067f9460eb1b0ae3da22a370f",
       "version_major": 2,
       "version_minor": 0
      },
      "text/plain": [
       "Running GSEA:   0%|          | 0/3 [00:00<?, ?programs/s]"
      ]
     },
     "metadata": {},
     "output_type": "display_data"
    },
    {
     "name": "stderr",
     "output_type": "stream",
     "text": [
      "2024-09-07 12:51:59,556 [WARNING] Duplicated values found in preranked stats: 0.03% of genes\n",
      "The order of those genes will be arbitrary, which may produce unexpected results.\n"
     ]
    }
   ],
   "source": [
    "# Run wrapper function with GSEA\n",
    "pre_res_wrapper_gsea = compute_geneset_enrichment(\n",
    "    mdata=mdata,\n",
    "    prog_key=prog_key,\n",
    "    data_key=data_key,\n",
    "    method='gsea',\n",
    "    organism=gene_set_enrichment_config['organism'],\n",
    "    library='Reactome_2022',\n",
    "    database=gene_set_enrichment_config['database'],\n",
    "    user_geneset=gene_set_enrichment_config['user_geneset'],\n",
    "    min_size=gene_set_enrichment_config['min_size'],\n",
    "    max_size=gene_set_enrichment_config['max_size'],\n",
    "    n_jobs=gene_set_enrichment_config['n_jobs'],\n",
    "    low_cutoff=gene_set_enrichment_config['low_cutoff'],\n",
    "    n_top=gene_set_enrichment_config['n_top'],\n",
    "    inplace=False\n",
    ")"
   ]
  },
  {
   "cell_type": "code",
   "execution_count": 93,
   "metadata": {},
   "outputs": [
    {
     "data": {
      "text/html": [
       "<div>\n",
       "<style scoped>\n",
       "    .dataframe tbody tr th:only-of-type {\n",
       "        vertical-align: middle;\n",
       "    }\n",
       "\n",
       "    .dataframe tbody tr th {\n",
       "        vertical-align: top;\n",
       "    }\n",
       "\n",
       "    .dataframe thead th {\n",
       "        text-align: right;\n",
       "    }\n",
       "</style>\n",
       "<table border=\"1\" class=\"dataframe\">\n",
       "  <thead>\n",
       "    <tr style=\"text-align: right;\">\n",
       "      <th></th>\n",
       "      <th>program_name</th>\n",
       "      <th>Term</th>\n",
       "      <th>ES</th>\n",
       "      <th>NES</th>\n",
       "      <th>NOM p-val</th>\n",
       "      <th>FDR q-val</th>\n",
       "      <th>FWER p-val</th>\n",
       "      <th>Gene %</th>\n",
       "      <th>Lead_genes</th>\n",
       "      <th>tag_before</th>\n",
       "      <th>tag_after</th>\n",
       "    </tr>\n",
       "  </thead>\n",
       "  <tbody>\n",
       "    <tr>\n",
       "      <th>0</th>\n",
       "      <td>0</td>\n",
       "      <td>TCF Dependent Signaling In Response To WNT R-H...</td>\n",
       "      <td>0.752635</td>\n",
       "      <td>1.53758</td>\n",
       "      <td>0.0</td>\n",
       "      <td>0.122341</td>\n",
       "      <td>0.095</td>\n",
       "      <td>11.69</td>\n",
       "      <td>SFRP1;TCF7L1;SOX2;SFRP2;TCF7L2;SOX4;TLE1;HECW1...</td>\n",
       "      <td>11</td>\n",
       "      <td>28</td>\n",
       "    </tr>\n",
       "    <tr>\n",
       "      <th>1</th>\n",
       "      <td>0</td>\n",
       "      <td>Glucagon-like Peptide-1 (GLP1) Regulates Insul...</td>\n",
       "      <td>0.731538</td>\n",
       "      <td>1.415272</td>\n",
       "      <td>0.013065</td>\n",
       "      <td>0.137839</td>\n",
       "      <td>0.658</td>\n",
       "      <td>11.83</td>\n",
       "      <td>ITPR2;GNG4;PRKCA;GNGT1;ADCY5;ITPR3;PRKAR1B</td>\n",
       "      <td>7</td>\n",
       "      <td>15</td>\n",
       "    </tr>\n",
       "    <tr>\n",
       "      <th>2</th>\n",
       "      <td>0</td>\n",
       "      <td>Opioid Signaling R-HSA-111885</td>\n",
       "      <td>0.698056</td>\n",
       "      <td>1.403416</td>\n",
       "      <td>0.005005</td>\n",
       "      <td>0.142552</td>\n",
       "      <td>0.713</td>\n",
       "      <td>19.67</td>\n",
       "      <td>ADCY2;ITPR2;NBEA;GNG4;PRKCA;GNGT1;ADCY5;ITPR3;...</td>\n",
       "      <td>13</td>\n",
       "      <td>25</td>\n",
       "    </tr>\n",
       "    <tr>\n",
       "      <th>3</th>\n",
       "      <td>0</td>\n",
       "      <td>Signaling By WNT R-HSA-195721</td>\n",
       "      <td>0.712681</td>\n",
       "      <td>1.501559</td>\n",
       "      <td>0.0</td>\n",
       "      <td>0.142899</td>\n",
       "      <td>0.202</td>\n",
       "      <td>11.69</td>\n",
       "      <td>SFRP1;TCF7L1;ITPR2;SOX2;SFRP2;TCF7L2;FZD7;GNG4...</td>\n",
       "      <td>21</td>\n",
       "      <td>50</td>\n",
       "    </tr>\n",
       "    <tr>\n",
       "      <th>4</th>\n",
       "      <td>0</td>\n",
       "      <td>Semaphorin Interactions R-HSA-373755</td>\n",
       "      <td>0.71259</td>\n",
       "      <td>1.4068</td>\n",
       "      <td>0.013039</td>\n",
       "      <td>0.145824</td>\n",
       "      <td>0.699</td>\n",
       "      <td>15.36</td>\n",
       "      <td>DPYSL3;SEMA6A;SEMA3A;ERBB2;SEMA4D;SEMA5A;CRMP1</td>\n",
       "      <td>7</td>\n",
       "      <td>16</td>\n",
       "    </tr>\n",
       "  </tbody>\n",
       "</table>\n",
       "</div>"
      ],
      "text/plain": [
       "  program_name                                               Term        ES  \\\n",
       "0            0  TCF Dependent Signaling In Response To WNT R-H...  0.752635   \n",
       "1            0  Glucagon-like Peptide-1 (GLP1) Regulates Insul...  0.731538   \n",
       "2            0                      Opioid Signaling R-HSA-111885  0.698056   \n",
       "3            0                      Signaling By WNT R-HSA-195721  0.712681   \n",
       "4            0               Semaphorin Interactions R-HSA-373755   0.71259   \n",
       "\n",
       "        NES NOM p-val FDR q-val FWER p-val  Gene %  \\\n",
       "0   1.53758       0.0  0.122341      0.095   11.69   \n",
       "1  1.415272  0.013065  0.137839      0.658   11.83   \n",
       "2  1.403416  0.005005  0.142552      0.713   19.67   \n",
       "3  1.501559       0.0  0.142899      0.202   11.69   \n",
       "4    1.4068  0.013039  0.145824      0.699   15.36   \n",
       "\n",
       "                                          Lead_genes  tag_before  tag_after  \n",
       "0  SFRP1;TCF7L1;SOX2;SFRP2;TCF7L2;SOX4;TLE1;HECW1...          11         28  \n",
       "1         ITPR2;GNG4;PRKCA;GNGT1;ADCY5;ITPR3;PRKAR1B           7         15  \n",
       "2  ADCY2;ITPR2;NBEA;GNG4;PRKCA;GNGT1;ADCY5;ITPR3;...          13         25  \n",
       "3  SFRP1;TCF7L1;ITPR2;SOX2;SFRP2;TCF7L2;FZD7;GNG4...          21         50  \n",
       "4     DPYSL3;SEMA6A;SEMA3A;ERBB2;SEMA4D;SEMA5A;CRMP1           7         16  "
      ]
     },
     "execution_count": 93,
     "metadata": {},
     "output_type": "execute_result"
    }
   ],
   "source": [
    "pre_res_wrapper_gsea.head()"
   ]
  },
  {
   "cell_type": "code",
   "execution_count": 97,
   "metadata": {},
   "outputs": [
    {
     "name": "stderr",
     "output_type": "stream",
     "text": [
      "INFO:root:Downloading and generating Enrichr library gene sets...\n",
      "INFO:root:Library is already downloaded in: /cellar/users/aklie/.cache/gseapy/Enrichr.Reactome_2022.gmt, use local file\n",
      "INFO:root:0031 gene_sets have been filtered out when max_size=500 and min_size=5\n"
     ]
    },
    {
     "data": {
      "application/vnd.jupyter.widget-view+json": {
       "model_id": "7df41f128b43427c9c5a8b821c5b9412",
       "version_major": 2,
       "version_minor": 0
      },
      "text/plain": [
       "Running Fisher enrichment:   0%|          | 0/3 [00:00<?, ?programs/s]"
      ]
     },
     "metadata": {},
     "output_type": "display_data"
    }
   ],
   "source": [
    "# Run wrapper function with Fisher\n",
    "pre_res_wrapper_fisher = compute_geneset_enrichment(\n",
    "    mdata=mdata,\n",
    "    prog_key=prog_key,\n",
    "    data_key=data_key,\n",
    "    method='fisher',\n",
    "    organism=gene_set_enrichment_config['organism'],\n",
    "    library='Reactome_2022',\n",
    "    database=gene_set_enrichment_config['database'],\n",
    "    user_geneset=gene_set_enrichment_config['user_geneset'],\n",
    "    min_size=gene_set_enrichment_config['min_size'],\n",
    "    max_size=gene_set_enrichment_config['max_size'],\n",
    "    n_jobs=gene_set_enrichment_config['n_jobs'],\n",
    "    low_cutoff=gene_set_enrichment_config['low_cutoff'],\n",
    "    n_top=gene_set_enrichment_config['n_top'],\n",
    "    inplace=False\n",
    ")"
   ]
  },
  {
   "cell_type": "code",
   "execution_count": 98,
   "metadata": {},
   "outputs": [
    {
     "data": {
      "text/html": [
       "<div>\n",
       "<style scoped>\n",
       "    .dataframe tbody tr th:only-of-type {\n",
       "        vertical-align: middle;\n",
       "    }\n",
       "\n",
       "    .dataframe tbody tr th {\n",
       "        vertical-align: top;\n",
       "    }\n",
       "\n",
       "    .dataframe thead th {\n",
       "        text-align: right;\n",
       "    }\n",
       "</style>\n",
       "<table border=\"1\" class=\"dataframe\">\n",
       "  <thead>\n",
       "    <tr style=\"text-align: right;\">\n",
       "      <th></th>\n",
       "      <th>Term</th>\n",
       "      <th>P-value</th>\n",
       "      <th>Adjusted P-value</th>\n",
       "      <th>Odds Ratio</th>\n",
       "      <th>Combined Score</th>\n",
       "      <th>Genes</th>\n",
       "      <th>program_name</th>\n",
       "      <th>overlap_numerator</th>\n",
       "      <th>overlap_denominator</th>\n",
       "    </tr>\n",
       "  </thead>\n",
       "  <tbody>\n",
       "    <tr>\n",
       "      <th>0</th>\n",
       "      <td>ADORA2B Mediated Anti-Inflammatory Cytokine Pr...</td>\n",
       "      <td>0.058902</td>\n",
       "      <td>0.323762</td>\n",
       "      <td>2.243373</td>\n",
       "      <td>6.352975</td>\n",
       "      <td>GPR176;GNG4;ADCY5;PRKCA;ADCY2;GNGT1;PRKAR1B</td>\n",
       "      <td>0</td>\n",
       "      <td>7</td>\n",
       "      <td>131</td>\n",
       "    </tr>\n",
       "    <tr>\n",
       "      <th>1</th>\n",
       "      <td>ADP Signaling Thru P2Y Purinoceptor 1 R-HSA-41...</td>\n",
       "      <td>0.027401</td>\n",
       "      <td>0.195146</td>\n",
       "      <td>5.765478</td>\n",
       "      <td>20.739340</td>\n",
       "      <td>GNGT1;GNA14;GNG4</td>\n",
       "      <td>0</td>\n",
       "      <td>3</td>\n",
       "      <td>25</td>\n",
       "    </tr>\n",
       "    <tr>\n",
       "      <th>2</th>\n",
       "      <td>ADP Signaling Thru P2Y Purinoceptor 12 R-HSA-3...</td>\n",
       "      <td>0.113993</td>\n",
       "      <td>0.476330</td>\n",
       "      <td>4.503989</td>\n",
       "      <td>9.780925</td>\n",
       "      <td>GNGT1;GNG4</td>\n",
       "      <td>0</td>\n",
       "      <td>2</td>\n",
       "      <td>22</td>\n",
       "    </tr>\n",
       "    <tr>\n",
       "      <th>3</th>\n",
       "      <td>AKT Phosphorylates Targets In Nucleus R-HSA-19...</td>\n",
       "      <td>0.235274</td>\n",
       "      <td>0.596152</td>\n",
       "      <td>5.816231</td>\n",
       "      <td>8.416101</td>\n",
       "      <td>FOXO1</td>\n",
       "      <td>0</td>\n",
       "      <td>1</td>\n",
       "      <td>10</td>\n",
       "    </tr>\n",
       "    <tr>\n",
       "      <th>4</th>\n",
       "      <td>ALK Mutants Bind TKIs R-HSA-9700645</td>\n",
       "      <td>0.275242</td>\n",
       "      <td>0.638869</td>\n",
       "      <td>4.803741</td>\n",
       "      <td>6.197321</td>\n",
       "      <td>BCL11A</td>\n",
       "      <td>0</td>\n",
       "      <td>1</td>\n",
       "      <td>12</td>\n",
       "    </tr>\n",
       "  </tbody>\n",
       "</table>\n",
       "</div>"
      ],
      "text/plain": [
       "                                                Term   P-value  \\\n",
       "0  ADORA2B Mediated Anti-Inflammatory Cytokine Pr...  0.058902   \n",
       "1  ADP Signaling Thru P2Y Purinoceptor 1 R-HSA-41...  0.027401   \n",
       "2  ADP Signaling Thru P2Y Purinoceptor 12 R-HSA-3...  0.113993   \n",
       "3  AKT Phosphorylates Targets In Nucleus R-HSA-19...  0.235274   \n",
       "4                ALK Mutants Bind TKIs R-HSA-9700645  0.275242   \n",
       "\n",
       "   Adjusted P-value  Odds Ratio  Combined Score  \\\n",
       "0          0.323762    2.243373        6.352975   \n",
       "1          0.195146    5.765478       20.739340   \n",
       "2          0.476330    4.503989        9.780925   \n",
       "3          0.596152    5.816231        8.416101   \n",
       "4          0.638869    4.803741        6.197321   \n",
       "\n",
       "                                         Genes program_name  \\\n",
       "0  GPR176;GNG4;ADCY5;PRKCA;ADCY2;GNGT1;PRKAR1B            0   \n",
       "1                             GNGT1;GNA14;GNG4            0   \n",
       "2                                   GNGT1;GNG4            0   \n",
       "3                                        FOXO1            0   \n",
       "4                                       BCL11A            0   \n",
       "\n",
       "   overlap_numerator  overlap_denominator  \n",
       "0                  7                  131  \n",
       "1                  3                   25  \n",
       "2                  2                   22  \n",
       "3                  1                   10  \n",
       "4                  1                   12  "
      ]
     },
     "execution_count": 98,
     "metadata": {},
     "output_type": "execute_result"
    }
   ],
   "source": [
    "pre_res_wrapper_fisher.head()"
   ]
  },
  {
   "cell_type": "markdown",
   "metadata": {},
   "source": [
    "# DONE!"
   ]
  },
  {
   "cell_type": "markdown",
   "metadata": {},
   "source": [
    "---"
   ]
  }
 ],
 "metadata": {
  "kernelspec": {
   "display_name": "Python 3.10 test_celloracle",
   "language": "python",
   "name": "test_scenicplus-py310"
  }
 },
 "nbformat": 4,
 "nbformat_minor": 2
}
