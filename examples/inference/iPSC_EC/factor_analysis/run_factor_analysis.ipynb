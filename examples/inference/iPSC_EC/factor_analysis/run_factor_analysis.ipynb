{
 "cells": [
  {
   "cell_type": "markdown",
   "metadata": {},
   "source": [
    "# Set-up"
   ]
  },
  {
   "cell_type": "code",
   "execution_count": 1,
   "metadata": {
    "execution": {
     "iopub.execute_input": "2024-09-21T23:48:13.648707Z",
     "iopub.status.busy": "2024-09-21T23:48:13.648439Z",
     "iopub.status.idle": "2024-09-21T23:49:27.301852Z",
     "shell.execute_reply": "2024-09-21T23:49:27.300713Z",
     "shell.execute_reply.started": "2024-09-21T23:48:13.648681Z"
    },
    "tags": []
   },
   "outputs": [
    {
     "name": "stdout",
     "output_type": "stream",
     "text": [
      "The history saving thread hit an unexpected error (DatabaseError('database disk image is malformed')).History will not be written to the database.\n"
     ]
    },
    {
     "name": "stderr",
     "output_type": "stream",
     "text": [
      "/cellar/users/aklie/opt/miniconda3/envs/scverse-lite-py39/lib/python3.9/site-packages/tqdm/auto.py:21: TqdmWarning: IProgress not found. Please update jupyter and ipywidgets. See https://ipywidgets.readthedocs.io/en/stable/user_install.html\n",
      "  from .autonotebook import tqdm as notebook_tqdm\n"
     ]
    }
   ],
   "source": [
    "import os\n",
    "import sys\n",
    "import scanpy as sc\n",
    "import muon as mu\n",
    "\n",
    "import seaborn as sns\n",
    "\n",
    "sys.path.append(\"/cellar/users/aklie/opt/gene_program_evaluation/src/inference\")\n",
    "from factor_analysis import run_factor_analysis"
   ]
  },
  {
   "cell_type": "code",
   "execution_count": 2,
   "metadata": {
    "execution": {
     "iopub.execute_input": "2024-08-27T22:37:38.917822Z",
     "iopub.status.busy": "2024-08-27T22:37:38.917348Z",
     "iopub.status.idle": "2024-08-27T22:37:38.922853Z",
     "shell.execute_reply": "2024-08-27T22:37:38.921556Z",
     "shell.execute_reply.started": "2024-08-27T22:37:38.917786Z"
    }
   },
   "outputs": [],
   "source": [
    "# Paths\n",
    "path_data = \"/cellar/users/aklie/opt/gene_program_evaluation/examples/datasets/iPSC_EC/iPSC_EC.h5mu\"\n",
    "path_configs = \"/cellar/users/aklie/opt/gene_program_evaluation/examples/inference/iPSC_EC/factor_analysis/config\"\n",
    "path_out = \"/cellar/users/aklie/opt/gene_program_evaluation/examples/inference/iPSC_EC/factor_analysis\""
   ]
  },
  {
   "cell_type": "markdown",
   "metadata": {},
   "source": [
    "# Load data"
   ]
  },
  {
   "cell_type": "code",
   "execution_count": 3,
   "metadata": {},
   "outputs": [
    {
     "name": "stderr",
     "output_type": "stream",
     "text": [
      "/cellar/users/aklie/opt/miniconda3/envs/scverse-lite-py39/lib/python3.9/site-packages/anndata/_core/anndata.py:522: FutureWarning: The dtype argument is deprecated and will be removed in late 2024.\n",
      "  warnings.warn(\n",
      "/cellar/users/aklie/opt/miniconda3/envs/scverse-lite-py39/lib/python3.9/site-packages/anndata/_core/anndata.py:1908: UserWarning: Variable names are not unique. To make them unique, call `.var_names_make_unique`.\n",
      "  utils.warn_names_duplicates(\"var\")\n",
      "/cellar/users/aklie/opt/miniconda3/envs/scverse-lite-py39/lib/python3.9/site-packages/mudata/_core/mudata.py:479: UserWarning: var_names are not unique. To make them unique, call `.var_names_make_unique`.\n",
      "  warnings.warn(\n"
     ]
    },
    {
     "data": {
      "text/html": [
       "<pre>MuData object with n_obs × n_vars = 92284 × 5451\n",
       "  1 modality\n",
       "    rna:\t92284 x 5451\n",
       "      obs:\t&#x27;sample&#x27;, &#x27;species&#x27;, &#x27;gene_count&#x27;, &#x27;tscp_count&#x27;, &#x27;mread_count&#x27;, &#x27;leiden&#x27;, &#x27;n_counts&#x27;\n",
       "      obsm:\t&#x27;X_pca&#x27;, &#x27;X_umap&#x27;\n",
       "      layers:\t&#x27;norm10k&#x27;</pre>"
      ],
      "text/plain": [
       "MuData object with n_obs × n_vars = 92284 × 5451\n",
       "  1 modality\n",
       "    rna:\t92284 x 5451\n",
       "      obs:\t'sample', 'species', 'gene_count', 'tscp_count', 'mread_count', 'leiden', 'n_counts'\n",
       "      obsm:\t'X_pca', 'X_umap'\n",
       "      layers:\t'norm10k'"
      ]
     },
     "execution_count": 3,
     "metadata": {},
     "output_type": "execute_result"
    }
   ],
   "source": [
    "# if filepath ends in .h5ad\n",
    "if path_data.endswith(\".h5ad\"):\n",
    "    data = sc.read_h5ad(path_data)\n",
    "elif path_data.endswith(\".h5mu\"):\n",
    "    data = mu.read_h5mu(path_data)\n",
    "data"
   ]
  },
  {
   "cell_type": "markdown",
   "metadata": {},
   "source": [
    "# (Optional) Make configs for running outside of the notebook\n",
    "```yaml\n",
    "run_factor_analysis_:\n",
    "    n_components = 5\n",
    "    random_state = 1234\n",
    "```"
   ]
  },
  {
   "cell_type": "code",
   "execution_count": 44,
   "metadata": {},
   "outputs": [
    {
     "name": "stdout",
     "output_type": "stream",
     "text": [
      "Saved config to /cellar/users/aklie/opt/gene_program_evaluation/dashapp/examples/bin/factor_analysis/config/factor_analysis_K5.gin\n",
      "Saved config to /cellar/users/aklie/opt/gene_program_evaluation/dashapp/examples/bin/factor_analysis/config/factor_analysis_K10.gin\n",
      "Saved config to /cellar/users/aklie/opt/gene_program_evaluation/dashapp/examples/bin/factor_analysis/config/factor_analysis_K15.gin\n",
      "Saved config to /cellar/users/aklie/opt/gene_program_evaluation/dashapp/examples/bin/factor_analysis/config/factor_analysis_K20.gin\n",
      "Saved config to /cellar/users/aklie/opt/gene_program_evaluation/dashapp/examples/bin/factor_analysis/config/factor_analysis_K25.gin\n",
      "Saved config to /cellar/users/aklie/opt/gene_program_evaluation/dashapp/examples/bin/factor_analysis/config/factor_analysis_K30.gin\n",
      "Saved config to /cellar/users/aklie/opt/gene_program_evaluation/dashapp/examples/bin/factor_analysis/config/factor_analysis_K35.gin\n",
      "Saved config to /cellar/users/aklie/opt/gene_program_evaluation/dashapp/examples/bin/factor_analysis/config/factor_analysis_K40.gin\n",
      "Saved config to /cellar/users/aklie/opt/gene_program_evaluation/dashapp/examples/bin/factor_analysis/config/factor_analysis_K45.gin\n",
      "Saved config to /cellar/users/aklie/opt/gene_program_evaluation/dashapp/examples/bin/factor_analysis/config/factor_analysis_K50.gin\n",
      "Saved config to /cellar/users/aklie/opt/gene_program_evaluation/dashapp/examples/bin/factor_analysis/config/factor_analysis_K100.gin\n"
     ]
    }
   ],
   "source": [
    "# Configs look like above, make a separate one for 5, 10, 15, 20, 25, 30, 35, 40, 45, 50 100\n",
    "'''\n",
    "run_factor_analysis_:\n",
    "    n_components = 5\n",
    "    random_state = 1234\n",
    "'''\n",
    "def make_factor_analysis_config(path_out, path_configs, n_components):\n",
    "    path_config = os.path.join(path_configs, f\"factor_analysis_{n_components}.gin\")\n",
    "    config = '''run_factor_analysis_:\\n\\tn_components = {n_components}\\n\\trandom_state = 1234'''\n",
    "    config = config.format(n_components=n_components)\n",
    "    with open(path_config, \"w\") as f:\n",
    "        f.write(config)\n",
    "    print(f\"Saved config to {path_config}\")\n",
    "    return path_config\n",
    "\n",
    "n_components = [5, 10, 15, 20, 25, 30, 35, 40, 45, 50, 100]\n",
    "for n in n_components:\n",
    "    make_factor_analysis_config(path_out, path_configs, n)"
   ]
  },
  {
   "cell_type": "markdown",
   "metadata": {},
   "source": [
    "# Run factor analysis"
   ]
  },
  {
   "cell_type": "code",
   "execution_count": 4,
   "metadata": {},
   "outputs": [],
   "source": [
    "n_components = [100]\n",
    "data_key = \"rna\"\n",
    "layer = \"norm10k\""
   ]
  },
  {
   "cell_type": "code",
   "execution_count": 5,
   "metadata": {},
   "outputs": [
    {
     "name": "stderr",
     "output_type": "stream",
     "text": [
      "INFO:root:Normalising and log transforming count data is reccomended before running FA.\n"
     ]
    }
   ],
   "source": [
    "# Run the factor analysis\n",
    "for n in n_components:\n",
    "    path_config = os.path.join(path_configs, f\"factor_analysis_{n}.gin\")\n",
    "    run_factor_analysis(\n",
    "        mdata=data,\n",
    "        prog_key=f\"factor_analysis_{n}\",\n",
    "        data_key=data_key,\n",
    "        layer=layer,\n",
    "        config_path=path_config,\n",
    "        inplace=True\n",
    "    )"
   ]
  },
  {
   "cell_type": "code",
   "execution_count": 6,
   "metadata": {},
   "outputs": [
    {
     "data": {
      "text/html": [
       "<pre>MuData object with n_obs × n_vars = 92284 × 5451\n",
       "  2 modalities\n",
       "    rna:\t92284 x 5451\n",
       "      obs:\t&#x27;sample&#x27;, &#x27;species&#x27;, &#x27;gene_count&#x27;, &#x27;tscp_count&#x27;, &#x27;mread_count&#x27;, &#x27;leiden&#x27;, &#x27;n_counts&#x27;\n",
       "      obsm:\t&#x27;X_pca&#x27;, &#x27;X_umap&#x27;\n",
       "      layers:\t&#x27;norm10k&#x27;\n",
       "    factor_analysis_100:\t92284 x 100\n",
       "      obs:\t&#x27;sample&#x27;, &#x27;species&#x27;, &#x27;gene_count&#x27;, &#x27;tscp_count&#x27;, &#x27;mread_count&#x27;, &#x27;leiden&#x27;, &#x27;n_counts&#x27;\n",
       "      uns:\t&#x27;loadings_genes&#x27;\n",
       "      varm:\t&#x27;loadings&#x27;</pre>"
      ],
      "text/plain": [
       "MuData object with n_obs × n_vars = 92284 × 5451\n",
       "  2 modalities\n",
       "    rna:\t92284 x 5451\n",
       "      obs:\t'sample', 'species', 'gene_count', 'tscp_count', 'mread_count', 'leiden', 'n_counts'\n",
       "      obsm:\t'X_pca', 'X_umap'\n",
       "      layers:\t'norm10k'\n",
       "    factor_analysis_100:\t92284 x 100\n",
       "      obs:\t'sample', 'species', 'gene_count', 'tscp_count', 'mread_count', 'leiden', 'n_counts'\n",
       "      uns:\t'loadings_genes'\n",
       "      varm:\t'loadings'"
      ]
     },
     "execution_count": 6,
     "metadata": {},
     "output_type": "execute_result"
    }
   ],
   "source": [
    "# Check it\n",
    "data"
   ]
  },
  {
   "cell_type": "code",
   "execution_count": 7,
   "metadata": {},
   "outputs": [
    {
     "name": "stderr",
     "output_type": "stream",
     "text": [
      "/cellar/users/aklie/opt/miniconda3/envs/scverse-lite-py39/lib/python3.9/site-packages/mudata/_core/mudata.py:479: UserWarning: var_names are not unique. To make them unique, call `.var_names_make_unique`.\n",
      "  warnings.warn(\n"
     ]
    }
   ],
   "source": [
    "# Save\n",
    "data.write(os.path.join(path_out, \"factor_analysis_100.h5mu\"))"
   ]
  },
  {
   "cell_type": "markdown",
   "metadata": {},
   "source": [
    "# Quick eval"
   ]
  },
  {
   "cell_type": "code",
   "execution_count": 8,
   "metadata": {},
   "outputs": [],
   "source": [
    "import matplotlib.pyplot as plt\n",
    "import matplotlib as mpl"
   ]
  },
  {
   "cell_type": "code",
   "execution_count": 9,
   "metadata": {},
   "outputs": [
    {
     "name": "stderr",
     "output_type": "stream",
     "text": [
      "/cellar/users/aklie/opt/miniconda3/envs/scverse-lite-py39/lib/python3.9/site-packages/anndata/_core/anndata.py:522: FutureWarning: The dtype argument is deprecated and will be removed in late 2024.\n",
      "  warnings.warn(\n",
      "/cellar/users/aklie/opt/miniconda3/envs/scverse-lite-py39/lib/python3.9/site-packages/anndata/_core/anndata.py:522: FutureWarning: The dtype argument is deprecated and will be removed in late 2024.\n",
      "  warnings.warn(\n",
      "/cellar/users/aklie/opt/miniconda3/envs/scverse-lite-py39/lib/python3.9/site-packages/anndata/_core/anndata.py:1908: UserWarning: Variable names are not unique. To make them unique, call `.var_names_make_unique`.\n",
      "  utils.warn_names_duplicates(\"var\")\n",
      "/cellar/users/aklie/opt/miniconda3/envs/scverse-lite-py39/lib/python3.9/site-packages/mudata/_core/mudata.py:479: UserWarning: var_names are not unique. To make them unique, call `.var_names_make_unique`.\n",
      "  warnings.warn(\n"
     ]
    },
    {
     "data": {
      "text/html": [
       "<pre>MuData object with n_obs × n_vars = 92284 × 5551\n",
       "  2 modalities\n",
       "    rna:\t92284 x 5451\n",
       "      obs:\t&#x27;sample&#x27;, &#x27;species&#x27;, &#x27;gene_count&#x27;, &#x27;tscp_count&#x27;, &#x27;mread_count&#x27;, &#x27;leiden&#x27;, &#x27;n_counts&#x27;\n",
       "      obsm:\t&#x27;X_pca&#x27;, &#x27;X_umap&#x27;\n",
       "      layers:\t&#x27;norm10k&#x27;\n",
       "    factor_analysis_100:\t92284 x 100\n",
       "      obs:\t&#x27;sample&#x27;, &#x27;species&#x27;, &#x27;gene_count&#x27;, &#x27;tscp_count&#x27;, &#x27;mread_count&#x27;, &#x27;leiden&#x27;, &#x27;n_counts&#x27;\n",
       "      uns:\t&#x27;loadings_genes&#x27;\n",
       "      varm:\t&#x27;loadings&#x27;</pre>"
      ],
      "text/plain": [
       "MuData object with n_obs × n_vars = 92284 × 5551\n",
       "  2 modalities\n",
       "    rna:\t92284 x 5451\n",
       "      obs:\t'sample', 'species', 'gene_count', 'tscp_count', 'mread_count', 'leiden', 'n_counts'\n",
       "      obsm:\t'X_pca', 'X_umap'\n",
       "      layers:\t'norm10k'\n",
       "    factor_analysis_100:\t92284 x 100\n",
       "      obs:\t'sample', 'species', 'gene_count', 'tscp_count', 'mread_count', 'leiden', 'n_counts'\n",
       "      uns:\t'loadings_genes'\n",
       "      varm:\t'loadings'"
      ]
     },
     "execution_count": 9,
     "metadata": {},
     "output_type": "execute_result"
    }
   ],
   "source": [
    "fa = mu.read_h5mu(os.path.join(path_out, \"factor_analysis_100.h5mu\"))\n",
    "fa"
   ]
  },
  {
   "cell_type": "code",
   "execution_count": 10,
   "metadata": {},
   "outputs": [
    {
     "data": {
      "text/plain": [
       "AnnData object with n_obs × n_vars = 92284 × 100\n",
       "    obs: 'sample', 'species', 'gene_count', 'tscp_count', 'mread_count', 'leiden', 'n_counts'\n",
       "    uns: 'loadings_genes'\n",
       "    obsm: 'X_umap'\n",
       "    varm: 'loadings'"
      ]
     },
     "execution_count": 10,
     "metadata": {},
     "output_type": "execute_result"
    }
   ],
   "source": [
    "# Grab the factor loadings\n",
    "adata = fa.mod[\"factor_analysis_100\"].copy()\n",
    "adata.obsm[\"X_umap\"] = fa.mod[\"rna\"].obsm[\"X_umap\"].copy()\n",
    "adata"
   ]
  },
  {
   "cell_type": "code",
   "execution_count": 13,
   "metadata": {},
   "outputs": [
    {
     "name": "stderr",
     "output_type": "stream",
     "text": [
      "/tmp/ipykernel_2155237/4142146940.py:2: MatplotlibDeprecationWarning: The get_cmap function was deprecated in Matplotlib 3.7 and will be removed two minor releases later. Use ``matplotlib.colormaps[name]`` or ``matplotlib.colormaps.get_cmap(obj)`` instead.\n",
      "  cmap = plt.cm.get_cmap(\"Reds\")\n"
     ]
    }
   ],
   "source": [
    "# Create a divergent colormap from grey to the current color using matplotlib\n",
    "cmap = plt.cm.get_cmap(\"Reds\")\n",
    "with plt.rc_context({\"figure.figsize\": (4, 4)}):\n",
    "    sc.pl.umap(adata, color=adata.var_names.tolist()[0], cmap=cmap, show=False, vmax=\"p99.5\")"
   ]
  },
  {
   "cell_type": "markdown",
   "metadata": {},
   "source": [
    "# DONE!"
   ]
  },
  {
   "cell_type": "markdown",
   "metadata": {},
   "source": [
    "---"
   ]
  }
 ],
 "metadata": {
  "kernelspec": {
   "display_name": "Python 3.9 scverse-lite",
   "language": "python",
   "name": "scverse-lite-py39"
  },
  "language_info": {
   "codemirror_mode": {
    "name": "ipython",
    "version": 3
   },
   "file_extension": ".py",
   "mimetype": "text/x-python",
   "name": "python",
   "nbconvert_exporter": "python",
   "pygments_lexer": "ipython3",
   "version": "3.9.18"
  }
 },
 "nbformat": 4,
 "nbformat_minor": 4
}
