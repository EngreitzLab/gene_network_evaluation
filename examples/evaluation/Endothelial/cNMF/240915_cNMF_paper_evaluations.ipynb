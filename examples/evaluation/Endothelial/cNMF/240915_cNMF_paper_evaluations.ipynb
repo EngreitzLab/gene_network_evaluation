{
 "cells": [
  {
   "cell_type": "code",
   "execution_count": 18,
   "metadata": {},
   "outputs": [],
   "source": [
    "import os\n",
    "import sys\n",
    "# Change path to wherever you have repo locally\n",
    "sys.path.append('/cellar/users/aklie/opt/gene_program_evaluation')\n",
    "\n",
    "from src.evaluation import *\n",
    "from src.evaluation.enrichment_trait import process_enrichment_data\n",
    "\n",
    "import mudata\n",
    "import numpy as np\n",
    "import pandas as pd\n",
    "\n",
    "from scipy import stats\n",
    "from statsmodels.stats.multitest import fdrcorrection"
   ]
  },
  {
   "cell_type": "code",
   "execution_count": 2,
   "metadata": {},
   "outputs": [
    {
     "name": "stderr",
     "output_type": "stream",
     "text": [
      "/cellar/users/aklie/opt/miniconda3/envs/test_celloracle/lib/python3.10/site-packages/anndata/_core/anndata.py:522: FutureWarning: The dtype argument is deprecated and will be removed in late 2024.\n",
      "  warnings.warn(\n",
      "/cellar/users/aklie/opt/miniconda3/envs/test_celloracle/lib/python3.10/site-packages/anndata/_core/anndata.py:522: FutureWarning: The dtype argument is deprecated and will be removed in late 2024.\n",
      "  warnings.warn(\n"
     ]
    },
    {
     "data": {
      "text/html": [
       "<pre>MuData object with n_obs × n_vars = 214449 × 17532\n",
       "  2 modalities\n",
       "    rna:\t214449 x 17472\n",
       "      obs:\t&#x27;barcodes&#x27;, &#x27;n_genes&#x27;, &#x27;n_counts&#x27;, &#x27;sample&#x27;, &#x27;batch&#x27;\n",
       "      var:\t&#x27;n_cells&#x27;\n",
       "    cNMF:\t214449 x 60\n",
       "      obs:\t&#x27;sample&#x27;, &#x27;batch&#x27;\n",
       "      uns:\t&#x27;var_names&#x27;\n",
       "      varm:\t&#x27;loadings&#x27;, &#x27;loadings_zscore&#x27;</pre>"
      ],
      "text/plain": [
       "MuData object with n_obs × n_vars = 214449 × 17532\n",
       "  2 modalities\n",
       "    rna:\t214449 x 17472\n",
       "      obs:\t'barcodes', 'n_genes', 'n_counts', 'sample', 'batch'\n",
       "      var:\t'n_cells'\n",
       "    cNMF:\t214449 x 60\n",
       "      obs:\t'sample', 'batch'\n",
       "      uns:\t'var_names'\n",
       "      varm:\t'loadings', 'loadings_zscore'"
      ]
     },
     "execution_count": 2,
     "metadata": {},
     "output_type": "execute_result"
    }
   ],
   "source": [
    "# Read mudata with cNMF and RNA\n",
    "mdata = mudata.read('/cellar/users/aklie/opt/gene_program_evaluation/examples/evaluation/Endothelial/cNMF/cNMF.h5mu')\n",
    "mdata"
   ]
  },
  {
   "cell_type": "code",
   "execution_count": 15,
   "metadata": {},
   "outputs": [
    {
     "data": {
      "text/html": [
       "<div>\n",
       "<style scoped>\n",
       "    .dataframe tbody tr th:only-of-type {\n",
       "        vertical-align: middle;\n",
       "    }\n",
       "\n",
       "    .dataframe tbody tr th {\n",
       "        vertical-align: top;\n",
       "    }\n",
       "\n",
       "    .dataframe thead th {\n",
       "        text-align: right;\n",
       "    }\n",
       "</style>\n",
       "<table border=\"1\" class=\"dataframe\">\n",
       "  <thead>\n",
       "    <tr style=\"text-align: right;\">\n",
       "      <th></th>\n",
       "      <th>topic</th>\n",
       "      <th>batch</th>\n",
       "      <th>pearsonr</th>\n",
       "      <th>pval</th>\n",
       "      <th>adj_pval</th>\n",
       "      <th>log2FC</th>\n",
       "    </tr>\n",
       "  </thead>\n",
       "  <tbody>\n",
       "    <tr>\n",
       "      <th>0</th>\n",
       "      <td>1</td>\n",
       "      <td>11AMDox</td>\n",
       "      <td>0.170600</td>\n",
       "      <td>0.000000e+00</td>\n",
       "      <td>0.000000e+00</td>\n",
       "      <td>0.680129</td>\n",
       "    </tr>\n",
       "    <tr>\n",
       "      <th>1</th>\n",
       "      <td>1</td>\n",
       "      <td>2PMDox1</td>\n",
       "      <td>-0.083032</td>\n",
       "      <td>0.000000e+00</td>\n",
       "      <td>0.000000e+00</td>\n",
       "      <td>-0.352810</td>\n",
       "    </tr>\n",
       "    <tr>\n",
       "      <th>2</th>\n",
       "      <td>1</td>\n",
       "      <td>2PMDox2</td>\n",
       "      <td>-0.070304</td>\n",
       "      <td>4.532597e-233</td>\n",
       "      <td>4.532597e-233</td>\n",
       "      <td>-0.278402</td>\n",
       "    </tr>\n",
       "    <tr>\n",
       "      <th>3</th>\n",
       "      <td>2</td>\n",
       "      <td>11AMDox</td>\n",
       "      <td>0.055254</td>\n",
       "      <td>1.277865e-144</td>\n",
       "      <td>1.277865e-144</td>\n",
       "      <td>0.363984</td>\n",
       "    </tr>\n",
       "    <tr>\n",
       "      <th>4</th>\n",
       "      <td>2</td>\n",
       "      <td>2PMDox1</td>\n",
       "      <td>0.016959</td>\n",
       "      <td>4.024909e-15</td>\n",
       "      <td>4.024909e-15</td>\n",
       "      <td>0.107524</td>\n",
       "    </tr>\n",
       "    <tr>\n",
       "      <th>...</th>\n",
       "      <td>...</td>\n",
       "      <td>...</td>\n",
       "      <td>...</td>\n",
       "      <td>...</td>\n",
       "      <td>...</td>\n",
       "      <td>...</td>\n",
       "    </tr>\n",
       "    <tr>\n",
       "      <th>175</th>\n",
       "      <td>59</td>\n",
       "      <td>2PMDox1</td>\n",
       "      <td>-0.268220</td>\n",
       "      <td>0.000000e+00</td>\n",
       "      <td>0.000000e+00</td>\n",
       "      <td>-0.658530</td>\n",
       "    </tr>\n",
       "    <tr>\n",
       "      <th>176</th>\n",
       "      <td>59</td>\n",
       "      <td>2PMDox2</td>\n",
       "      <td>0.023672</td>\n",
       "      <td>5.708263e-28</td>\n",
       "      <td>5.708263e-28</td>\n",
       "      <td>0.050693</td>\n",
       "    </tr>\n",
       "    <tr>\n",
       "      <th>177</th>\n",
       "      <td>60</td>\n",
       "      <td>11AMDox</td>\n",
       "      <td>0.581869</td>\n",
       "      <td>0.000000e+00</td>\n",
       "      <td>0.000000e+00</td>\n",
       "      <td>2.558836</td>\n",
       "    </tr>\n",
       "    <tr>\n",
       "      <th>178</th>\n",
       "      <td>60</td>\n",
       "      <td>2PMDox1</td>\n",
       "      <td>-0.237496</td>\n",
       "      <td>0.000000e+00</td>\n",
       "      <td>0.000000e+00</td>\n",
       "      <td>-1.502954</td>\n",
       "    </tr>\n",
       "    <tr>\n",
       "      <th>179</th>\n",
       "      <td>60</td>\n",
       "      <td>2PMDox2</td>\n",
       "      <td>-0.283491</td>\n",
       "      <td>0.000000e+00</td>\n",
       "      <td>0.000000e+00</td>\n",
       "      <td>-1.627595</td>\n",
       "    </tr>\n",
       "  </tbody>\n",
       "</table>\n",
       "<p>180 rows × 6 columns</p>\n",
       "</div>"
      ],
      "text/plain": [
       "    topic    batch  pearsonr           pval       adj_pval    log2FC\n",
       "0       1  11AMDox  0.170600   0.000000e+00   0.000000e+00  0.680129\n",
       "1       1  2PMDox1 -0.083032   0.000000e+00   0.000000e+00 -0.352810\n",
       "2       1  2PMDox2 -0.070304  4.532597e-233  4.532597e-233 -0.278402\n",
       "3       2  11AMDox  0.055254  1.277865e-144  1.277865e-144  0.363984\n",
       "4       2  2PMDox1  0.016959   4.024909e-15   4.024909e-15  0.107524\n",
       "..    ...      ...       ...            ...            ...       ...\n",
       "175    59  2PMDox1 -0.268220   0.000000e+00   0.000000e+00 -0.658530\n",
       "176    59  2PMDox2  0.023672   5.708263e-28   5.708263e-28  0.050693\n",
       "177    60  11AMDox  0.581869   0.000000e+00   0.000000e+00  2.558836\n",
       "178    60  2PMDox1 -0.237496   0.000000e+00   0.000000e+00 -1.502954\n",
       "179    60  2PMDox2 -0.283491   0.000000e+00   0.000000e+00 -1.627595\n",
       "\n",
       "[180 rows x 6 columns]"
      ]
     },
     "execution_count": 15,
     "metadata": {},
     "output_type": "execute_result"
    }
   ],
   "source": [
    "# Redo correlation tests\n",
    "correls_df = []\n",
    "for topic in mdata['cNMF'].var_names:\n",
    "    for batch_ in mdata['cNMF'].obs.batch.unique():\n",
    "        bool_ = mdata['cNMF'].obs.batch==batch_\n",
    "\n",
    "        r, pval = stats.pearsonr(mdata['cNMF'][:, topic].X.toarray().flatten(),\n",
    "                                 bool_)\n",
    "    \n",
    "        _, adj_pval = fdrcorrection([pval])\n",
    "        log2FC = np.log2(mdata['cNMF'][:, topic].X.toarray().flatten()[bool_].mean() /\n",
    "                         mdata['cNMF'][:, topic].X.toarray().flatten()[~bool_].mean())\n",
    "\n",
    "        correls_df.append([topic, batch_, r, pval, adj_pval[0], log2FC])\n",
    "correls_df = pd.DataFrame(correls_df, columns=['topic', 'batch', 'pearsonr', 'pval', 'adj_pval', 'log2FC'])\n",
    "correls_df"
   ]
  },
  {
   "cell_type": "code",
   "execution_count": 16,
   "metadata": {},
   "outputs": [],
   "source": [
    "# Create eval pipeline output for correlations\n",
    "results_df = pd.DataFrame(index=mdata['cNMF'].var_names, \n",
    "                          columns=['batch_max_pearsonr_stat', \n",
    "                                   'batch_max_pearsonr_pval'])\n",
    "\n",
    "for topic_ in results_df.index.values:\n",
    "    maxidx = correls_df.loc[correls_df.topic==topic_,'pearsonr'].idxmax()\n",
    "    results_df.loc[topic_] = correls_df.loc[maxidx, ['pearsonr', 'pval']].values\n",
    "results_df['batch_max_pearsonr_pval'] = results_df['batch_max_pearsonr_pval'].astype(float)\n",
    "results_df.index.name='program_name'\n",
    "\n",
    "# File name format scheme {prog_key}_{categorical_key}_association_results.txt\n",
    "# Column format scheme {categorical_key}_{test}_* \n",
    "results_df.to_csv('/cellar/users/aklie/opt/gene_program_evaluation/examples/evaluation/Endothelial/cNMF/cNMF_batch_association_results.txt', sep='\\t', index=True)"
   ]
  },
  {
   "cell_type": "code",
   "execution_count": 17,
   "metadata": {},
   "outputs": [],
   "source": [
    "posthoc_df = correls_df.pivot(index='topic', columns='batch', values=['pearsonr', 'pval', 'adj_pval', 'log2FC'])\n",
    "posthoc_df.columns = [f\"batch_{batch}_pearsonr_stat\" if metric == 'pearsonr' \n",
    "                   else f\"batch_{batch}_pearsonr_{metric}\" for metric, batch in posthoc_df.columns]\n",
    "posthoc_df = posthoc_df.reset_index().rename(columns={'topic': 'program_name'})\n",
    "\n",
    "# File name format scheme {prog_key}_{categorical_key}_association_posthoc.txt\n",
    "# Column format scheme {categorical_key}_{test}_*\n",
    "posthoc_df.to_csv('/cellar/users/aklie/opt/gene_program_evaluation/examples/evaluation/Endothelial/cNMF/cNMF_batch_association_posthoc.txt', sep='\\t', index=False)"
   ]
  },
  {
   "cell_type": "code",
   "execution_count": 20,
   "metadata": {},
   "outputs": [
    {
     "name": "stderr",
     "output_type": "stream",
     "text": [
      "INFO:root:Downloading and generating Enrichr library gene sets...\n",
      "INFO:root:Library is already downloaded in: /cellar/users/aklie/.cache/gseapy/Enrichr.Reactome_2022.gmt, use local file\n",
      "INFO:root:0002 gene_sets have been filtered out when max_size=2000 and min_size=0\n"
     ]
    },
    {
     "data": {
      "application/vnd.jupyter.widget-view+json": {
       "model_id": "0e590e1498af44f483ad7b555986ebd6",
       "version_major": 2,
       "version_minor": 0
      },
      "text/plain": [
       "Running Fisher enrichment:   0%|          | 0/60 [00:00<?, ?programs/s]"
      ]
     },
     "metadata": {},
     "output_type": "display_data"
    },
    {
     "name": "stderr",
     "output_type": "stream",
     "text": [
      "INFO:root:Downloading and generating Enrichr library gene sets...\n",
      "INFO:root:Library is already downloaded in: /cellar/users/aklie/.cache/gseapy/Enrichr.GO_Biological_Process_2023.gmt, use local file\n",
      "INFO:root:0001 gene_sets have been filtered out when max_size=2000 and min_size=0\n"
     ]
    },
    {
     "data": {
      "application/vnd.jupyter.widget-view+json": {
       "model_id": "6514c53c79204f5a8586c718ecd94839",
       "version_major": 2,
       "version_minor": 0
      },
      "text/plain": [
       "Running Fisher enrichment:   0%|          | 0/60 [00:00<?, ?programs/s]"
      ]
     },
     "metadata": {},
     "output_type": "display_data"
    },
    {
     "data": {
      "application/vnd.jupyter.widget-view+json": {
       "model_id": "900a4239077a4c0c8cec82298c7de5a7",
       "version_major": 2,
       "version_minor": 0
      },
      "text/plain": [
       "Running Fisher enrichment:   0%|          | 0/60 [00:00<?, ?programs/s]"
      ]
     },
     "metadata": {},
     "output_type": "display_data"
    },
    {
     "ename": "NameError",
     "evalue": "name 'res_trait' is not defined",
     "output_type": "error",
     "traceback": [
      "\u001b[0;31m---------------------------------------------------------------------------\u001b[0m",
      "\u001b[0;31mNameError\u001b[0m                                 Traceback (most recent call last)",
      "Cell \u001b[0;32mIn[20], line 36\u001b[0m\n\u001b[1;32m     25\u001b[0m pre_res_trait \u001b[38;5;241m=\u001b[39m pre_res_trait\u001b[38;5;241m.\u001b[39mrename(columns\u001b[38;5;241m=\u001b[39m{\u001b[38;5;124m\"\u001b[39m\u001b[38;5;124mTerm\u001b[39m\u001b[38;5;124m\"\u001b[39m: \u001b[38;5;124m\"\u001b[39m\u001b[38;5;124mterm\u001b[39m\u001b[38;5;124m\"\u001b[39m, \u001b[38;5;124m\"\u001b[39m\u001b[38;5;124mP-value\u001b[39m\u001b[38;5;124m\"\u001b[39m: \u001b[38;5;124m\"\u001b[39m\u001b[38;5;124mpval\u001b[39m\u001b[38;5;124m\"\u001b[39m, \u001b[38;5;124m\"\u001b[39m\u001b[38;5;124mAdjusted P-value\u001b[39m\u001b[38;5;124m\"\u001b[39m: \u001b[38;5;124m\"\u001b[39m\u001b[38;5;124madj_pval\u001b[39m\u001b[38;5;124m\"\u001b[39m, \u001b[38;5;124m\"\u001b[39m\u001b[38;5;124mOdds Ratio\u001b[39m\u001b[38;5;124m\"\u001b[39m: \u001b[38;5;124m\"\u001b[39m\u001b[38;5;124menrichment\u001b[39m\u001b[38;5;124m\"\u001b[39m, \u001b[38;5;124m\"\u001b[39m\u001b[38;5;124mGenes\u001b[39m\u001b[38;5;124m\"\u001b[39m: \u001b[38;5;124m\"\u001b[39m\u001b[38;5;124mgenes\u001b[39m\u001b[38;5;124m\"\u001b[39m})\n\u001b[1;32m     26\u001b[0m res \u001b[38;5;241m=\u001b[39m process_enrichment_data(\n\u001b[1;32m     27\u001b[0m     enrich_res\u001b[38;5;241m=\u001b[39mpre_res_trait,\n\u001b[1;32m     28\u001b[0m     metadata\u001b[38;5;241m=\u001b[39m\u001b[38;5;124m\"\u001b[39m\u001b[38;5;124m/cellar/users/aklie/opt/gene_program_evaluation/smk/resources/OpenTargets_L2G_Filtered.csv.gz\u001b[39m\u001b[38;5;124m\"\u001b[39m,\n\u001b[0;32m   (...)\u001b[0m\n\u001b[1;32m     34\u001b[0m     annotation_cols\u001b[38;5;241m=\u001b[39m[\u001b[38;5;124m\"\u001b[39m\u001b[38;5;124menrichment\u001b[39m\u001b[38;5;124m\"\u001b[39m, \u001b[38;5;124m\"\u001b[39m\u001b[38;5;124mtrait_reported\u001b[39m\u001b[38;5;124m\"\u001b[39m, \u001b[38;5;124m\"\u001b[39m\u001b[38;5;124mgenes\u001b[39m\u001b[38;5;124m\"\u001b[39m, \u001b[38;5;124m\"\u001b[39m\u001b[38;5;124mstudy_id\u001b[39m\u001b[38;5;124m\"\u001b[39m, \u001b[38;5;124m\"\u001b[39m\u001b[38;5;124mpmid\u001b[39m\u001b[38;5;124m\"\u001b[39m]\n\u001b[1;32m     35\u001b[0m )\n\u001b[0;32m---> 36\u001b[0m \u001b[43mres_trait\u001b[49m\u001b[38;5;241m.\u001b[39mto_csv(\u001b[38;5;124m'\u001b[39m\u001b[38;5;124m/cellar/users/aklie/opt/gene_program_evaluation/examples/evaluation/Endothelial/cNMF/cNMF_OT_GWAS_fisher_trait_enrichment.txt\u001b[39m\u001b[38;5;124m'\u001b[39m, sep\u001b[38;5;241m=\u001b[39m\u001b[38;5;124m'\u001b[39m\u001b[38;5;130;01m\\t\u001b[39;00m\u001b[38;5;124m'\u001b[39m, index\u001b[38;5;241m=\u001b[39m\u001b[38;5;28;01mFalse\u001b[39;00m)\n\u001b[1;32m     38\u001b[0m \u001b[38;5;66;03m# File format scheme {prog_key}_{library}_{test}_enrichment.txt\u001b[39;00m\n",
      "\u001b[0;31mNameError\u001b[0m: name 'res_trait' is not defined"
     ]
    }
   ],
   "source": [
    "# Redo enrichments\n",
    "\n",
    "# Gene-set enrichment\n",
    "pre_res = compute_geneset_enrichment(mdata, prog_key='cNMF', data_key='rna', prog_name=None,\n",
    "                                     organism='human', library='Reactome_2022', method=\"fisher\",\n",
    "                                     database='enrichr', n_top=300, n_jobs=-1, \n",
    "                                     inplace=False, user_geneset=None)\n",
    "pre_res = pre_res.rename(columns={\"Term\": \"term\", \"P-value\": \"pval\", \"Adjusted P-value\": \"adj_pval\", \"Odds Ratio\": \"enrichment\", \"Genes\": \"genes\"})\n",
    "pre_res.to_csv('/cellar/users/aklie/opt/gene_program_evaluation/examples/evaluation/Endothelial/cNMF/cNMF_Reactome_2022_fisher_geneset_enrichment.txt', sep='\\t', index=False)\n",
    "\n",
    "# GO Term enrichment\n",
    "pre_res = compute_geneset_enrichment(mdata, prog_key='cNMF', data_key='rna', prog_name=None,\n",
    "                                     organism='human', library='GO_Biological_Process_2023', method=\"fisher\",\n",
    "                                     database='enrichr', n_top=300, n_jobs=-1, \n",
    "                                     inplace=False, user_geneset=None)\n",
    "pre_res = pre_res.rename(columns={\"Term\": \"term\", \"P-value\": \"pval\", \"Adjusted P-value\": \"adj_pval\", \"Odds Ratio\": \"enrichment\", \"Genes\": \"genes\"})\n",
    "pre_res.to_csv('/cellar/users/aklie/opt/gene_program_evaluation/examples/evaluation/Endothelial/cNMF/cNMF_GO_Biological_Process_2023_fisher_geneset_enrichment.txt', sep='\\t', index=False)\n",
    "\n",
    "# Run trait enrichment\n",
    "pre_res_trait = compute_trait_enrichment(mdata, gwas_data='/cellar/users/aklie/opt/gene_program_evaluation/smk/resources/OpenTargets_L2G_Filtered.csv.gz', \n",
    "                                        prog_key='cNMF', prog_name=None, data_key='rna', \n",
    "                                        library='OT_GWAS', n_jobs=-1, inplace=False, \n",
    "                                        key_column='trait_efos', gene_column='gene_name', \n",
    "                                        method='fisher', n_top=300)\n",
    "pre_res_trait = pre_res_trait.rename(columns={\"Term\": \"term\", \"P-value\": \"pval\", \"Adjusted P-value\": \"adj_pval\", \"Odds Ratio\": \"enrichment\", \"Genes\": \"genes\"})\n",
    "res = process_enrichment_data(\n",
    "    enrich_res=pre_res_trait,\n",
    "    metadata=\"/cellar/users/aklie/opt/gene_program_evaluation/smk/resources/OpenTargets_L2G_Filtered.csv.gz\",\n",
    "    pval_col=\"adj_pval\",\n",
    "    enrich_geneset_id_col=\"term\",\n",
    "    metadata_geneset_id_col=\"trait_efos\",\n",
    "    color_category_col=\"trait_category\",\n",
    "    program_name_col=\"program_name\",\n",
    "    annotation_cols=[\"enrichment\", \"trait_reported\", \"genes\", \"study_id\", \"pmid\"]\n",
    ")\n",
    "res.to_csv('/cellar/users/aklie/opt/gene_program_evaluation/examples/evaluation/Endothelial/cNMF/cNMF_OT_GWAS_fisher_trait_enrichment.txt', sep='\\t', index=False)\n",
    "\n",
    "# File format scheme {prog_key}_{library}_{test}_enrichment.txt\n"
   ]
  },
  {
   "cell_type": "code",
   "execution_count": 27,
   "metadata": {},
   "outputs": [],
   "source": [
    "# Reformat perturbation outputs\n",
    "perturbation_results = pd.read_excel('/cellar/users/aklie/opt/gene_program_evaluation/examples/evaluation/Endothelial/cNMF/41586_2024_7022_MOESM3_ESM.xlsx', sheet_name='Suppl.Table.12')\n",
    "perturbation_results = perturbation_results.loc[:,['Perturbation', 'ProgramsRegulated', 'log2FC', 'p.value', 'AcrossProgramsFDR']]\n",
    "\n",
    "test_stats_df = []\n",
    "for idx in perturbation_results.index.values:\n",
    "    target_name = perturbation_results.loc[idx, 'Perturbation']\n",
    "    progs = perturbation_results.loc[idx, 'ProgramsRegulated'].split('|')\n",
    "    log2fcs = perturbation_results.loc[idx, 'log2FC'].split('|')\n",
    "    pvals = perturbation_results.loc[idx, 'p.value'].split('|')\n",
    "    adj_pvals = perturbation_results.loc[idx, 'AcrossProgramsFDR'].split('|')\n",
    "    for i in range(len(progs)):\n",
    "        test_stats_df.append([target_name, progs[i], log2fcs[i], log2fcs[i], pvals[i], adj_pvals[i]])\n",
    "\n",
    "test_stats_df = pd.DataFrame(test_stats_df, \n",
    "                             columns=['target_name', 'program_name', 'stat', 'log2FC', 'pval', 'adj_pval'])\n",
    "test_stats_df['program_name'] = test_stats_df['program_name'].apply(lambda x: x.replace('K60_', ''))\n",
    "\n",
    "# File format scheme {prog_key}_{level_key}_perturbation_association.txt\n",
    "test_stats_df.to_csv('/cellar/users/aklie/opt/gene_program_evaluation/examples/evaluation/Endothelial/cNMF/cNMF_gene_perturbation_association.txt', sep='\\t', index=False)"
   ]
  },
  {
   "cell_type": "code",
   "execution_count": 26,
   "metadata": {},
   "outputs": [],
   "source": [
    "# Reformat motif enrichment outputs\n",
    "motif_enrichment = pd.read_excel('/cellar/users/aklie/opt/gene_program_evaluation/examples/evaluation/Endothelial/cNMF/41586_2024_7022_MOESM4_ESM.xlsx', sheet_name='Suppl.Table.24')\n",
    "\n",
    "for typ in ['Promoter', 'Enhancer']:\n",
    "    motif_enrichment_df = motif_enrichment.loc[motif_enrichment.EPType==typ, \n",
    "                                                    ['ProgramID', 'TFMotif', 'Enrichment', 'PValue', 'FDR']]\n",
    "    motif_enrichment_df.columns = ['program_name', 'motif', 'stat', 'pval', 'adj_pval']\n",
    "    motif_enrichment_df['program_name'] = motif_enrichment_df['program_name'].apply(lambda x: x.replace('K60_', ''))\n",
    "\n",
    "    # File format scheme {prog_key}_{eptype}_{database}_{test}_enrichment.txt\n",
    "    motif_enrichment_df.to_csv('/cellar/users/aklie/opt/gene_program_evaluation/examples/evaluation/Endothelial/cNMF/cNMF_{}_hocomoco_ttest_motif_enrichment.txt'.format(typ.lower()), sep='\\t', index=False)\n"
   ]
  },
  {
   "cell_type": "code",
   "execution_count": 24,
   "metadata": {},
   "outputs": [],
   "source": [
    "# Reformat explained variance\n",
    "variance_explained = pd.read_csv('metrics.varianceExplained.df.txt', sep='\\t')\n",
    "variance_explained = variance_explained.loc[:,['ProgramID', 'VarianceExplained']]\n",
    "variance_explained.columns = ['program_name', 'variance_explained_ratio']\n",
    "variance_explained['program_name'] = variance_explained['program_name'].apply(lambda x: x.replace('K60_', ''))\n",
    "\n",
    "# File format key {prog_key}_variance_explained_ratio.txt\n",
    "variance_explained.to_csv('cNMF_variance_explained_ratio.txt', sep='\\t', index=False)"
   ]
  }
 ],
 "metadata": {
  "kernelspec": {
   "display_name": "Python 3.10 test_celloracle",
   "language": "python",
   "name": "test_scenicplus-py310"
  },
  "language_info": {
   "codemirror_mode": {
    "name": "ipython",
    "version": 3
   },
   "file_extension": ".py",
   "mimetype": "text/x-python",
   "name": "python",
   "nbconvert_exporter": "python",
   "pygments_lexer": "ipython3",
   "version": "3.10.8"
  },
  "orig_nbformat": 4
 },
 "nbformat": 4,
 "nbformat_minor": 2
}
