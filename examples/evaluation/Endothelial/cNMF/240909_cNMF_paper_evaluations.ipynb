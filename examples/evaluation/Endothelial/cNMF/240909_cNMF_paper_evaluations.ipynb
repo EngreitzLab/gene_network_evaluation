{
 "cells": [
  {
   "cell_type": "code",
   "execution_count": 1,
   "metadata": {},
   "outputs": [],
   "source": [
    "import os\n",
    "import sys\n",
    "# Change path to wherever you have repo locally\n",
    "sys.path.append('../../gene_network_evaluation/')\n",
    "\n",
    "from src.evaluation import *\n",
    "\n",
    "import mudata\n",
    "import pandas as pd\n",
    "\n",
    "from scipy import stats"
   ]
  },
  {
   "cell_type": "code",
   "execution_count": 2,
   "metadata": {},
   "outputs": [
    {
     "name": "stderr",
     "output_type": "stream",
     "text": [
      "/oak/stanford/groups/akundaje/regu/miniforge3/envs/evaluation/lib/python3.9/site-packages/anndata/_core/anndata.py:522: FutureWarning: The dtype argument is deprecated and will be removed in late 2024.\n",
      "  warnings.warn(\n",
      "/oak/stanford/groups/akundaje/regu/miniforge3/envs/evaluation/lib/python3.9/site-packages/anndata/_core/anndata.py:522: FutureWarning: The dtype argument is deprecated and will be removed in late 2024.\n",
      "  warnings.warn(\n"
     ]
    },
    {
     "data": {
      "text/html": [
       "<pre>MuData object with n_obs × n_vars = 214449 × 17532\n",
       "  2 modalities\n",
       "    rna:\t214449 x 17472\n",
       "      obs:\t&#x27;barcodes&#x27;, &#x27;n_genes&#x27;, &#x27;n_counts&#x27;, &#x27;sample&#x27;, &#x27;batch&#x27;\n",
       "      var:\t&#x27;n_cells&#x27;\n",
       "    cNMF:\t214449 x 60\n",
       "      obs:\t&#x27;sample&#x27;, &#x27;batch&#x27;\n",
       "      uns:\t&#x27;var_names&#x27;\n",
       "      varm:\t&#x27;loadings&#x27;, &#x27;loadings_zscore&#x27;</pre>"
      ],
      "text/plain": [
       "MuData object with n_obs × n_vars = 214449 × 17532\n",
       "  2 modalities\n",
       "    rna:\t214449 x 17472\n",
       "      obs:\t'barcodes', 'n_genes', 'n_counts', 'sample', 'batch'\n",
       "      var:\t'n_cells'\n",
       "    cNMF:\t214449 x 60\n",
       "      obs:\t'sample', 'batch'\n",
       "      uns:\t'var_names'\n",
       "      varm:\t'loadings', 'loadings_zscore'"
      ]
     },
     "execution_count": 2,
     "metadata": {},
     "output_type": "execute_result"
    }
   ],
   "source": [
    "# Read mudata with cNMF and RNA\n",
    "mdata = mudata.read('../../../../data/TeloHAEC_Perturb-seq_2kG/2kG.library_K60_kangh.h5mu')\n",
    "mdata"
   ]
  },
  {
   "cell_type": "code",
   "execution_count": 5,
   "metadata": {},
   "outputs": [
    {
     "data": {
      "text/html": [
       "<div>\n",
       "<style scoped>\n",
       "    .dataframe tbody tr th:only-of-type {\n",
       "        vertical-align: middle;\n",
       "    }\n",
       "\n",
       "    .dataframe tbody tr th {\n",
       "        vertical-align: top;\n",
       "    }\n",
       "\n",
       "    .dataframe thead th {\n",
       "        text-align: right;\n",
       "    }\n",
       "</style>\n",
       "<table border=\"1\" class=\"dataframe\">\n",
       "  <thead>\n",
       "    <tr style=\"text-align: right;\">\n",
       "      <th></th>\n",
       "      <th>topic</th>\n",
       "      <th>batch</th>\n",
       "      <th>r</th>\n",
       "      <th>pval</th>\n",
       "    </tr>\n",
       "  </thead>\n",
       "  <tbody>\n",
       "    <tr>\n",
       "      <th>0</th>\n",
       "      <td>1</td>\n",
       "      <td>11AMDox</td>\n",
       "      <td>0.170600</td>\n",
       "      <td>0.000000e+00</td>\n",
       "    </tr>\n",
       "    <tr>\n",
       "      <th>1</th>\n",
       "      <td>1</td>\n",
       "      <td>2PMDox1</td>\n",
       "      <td>-0.083032</td>\n",
       "      <td>0.000000e+00</td>\n",
       "    </tr>\n",
       "    <tr>\n",
       "      <th>2</th>\n",
       "      <td>1</td>\n",
       "      <td>2PMDox2</td>\n",
       "      <td>-0.070304</td>\n",
       "      <td>4.532597e-233</td>\n",
       "    </tr>\n",
       "    <tr>\n",
       "      <th>3</th>\n",
       "      <td>2</td>\n",
       "      <td>11AMDox</td>\n",
       "      <td>0.055254</td>\n",
       "      <td>1.277865e-144</td>\n",
       "    </tr>\n",
       "    <tr>\n",
       "      <th>4</th>\n",
       "      <td>2</td>\n",
       "      <td>2PMDox1</td>\n",
       "      <td>0.016959</td>\n",
       "      <td>4.024909e-15</td>\n",
       "    </tr>\n",
       "    <tr>\n",
       "      <th>...</th>\n",
       "      <td>...</td>\n",
       "      <td>...</td>\n",
       "      <td>...</td>\n",
       "      <td>...</td>\n",
       "    </tr>\n",
       "    <tr>\n",
       "      <th>175</th>\n",
       "      <td>59</td>\n",
       "      <td>2PMDox1</td>\n",
       "      <td>-0.268220</td>\n",
       "      <td>0.000000e+00</td>\n",
       "    </tr>\n",
       "    <tr>\n",
       "      <th>176</th>\n",
       "      <td>59</td>\n",
       "      <td>2PMDox2</td>\n",
       "      <td>0.023672</td>\n",
       "      <td>5.708263e-28</td>\n",
       "    </tr>\n",
       "    <tr>\n",
       "      <th>177</th>\n",
       "      <td>60</td>\n",
       "      <td>11AMDox</td>\n",
       "      <td>0.581869</td>\n",
       "      <td>0.000000e+00</td>\n",
       "    </tr>\n",
       "    <tr>\n",
       "      <th>178</th>\n",
       "      <td>60</td>\n",
       "      <td>2PMDox1</td>\n",
       "      <td>-0.237496</td>\n",
       "      <td>0.000000e+00</td>\n",
       "    </tr>\n",
       "    <tr>\n",
       "      <th>179</th>\n",
       "      <td>60</td>\n",
       "      <td>2PMDox2</td>\n",
       "      <td>-0.283491</td>\n",
       "      <td>0.000000e+00</td>\n",
       "    </tr>\n",
       "  </tbody>\n",
       "</table>\n",
       "<p>180 rows × 4 columns</p>\n",
       "</div>"
      ],
      "text/plain": [
       "    topic    batch         r           pval\n",
       "0       1  11AMDox  0.170600   0.000000e+00\n",
       "1       1  2PMDox1 -0.083032   0.000000e+00\n",
       "2       1  2PMDox2 -0.070304  4.532597e-233\n",
       "3       2  11AMDox  0.055254  1.277865e-144\n",
       "4       2  2PMDox1  0.016959   4.024909e-15\n",
       "..    ...      ...       ...            ...\n",
       "175    59  2PMDox1 -0.268220   0.000000e+00\n",
       "176    59  2PMDox2  0.023672   5.708263e-28\n",
       "177    60  11AMDox  0.581869   0.000000e+00\n",
       "178    60  2PMDox1 -0.237496   0.000000e+00\n",
       "179    60  2PMDox2 -0.283491   0.000000e+00\n",
       "\n",
       "[180 rows x 4 columns]"
      ]
     },
     "execution_count": 5,
     "metadata": {},
     "output_type": "execute_result"
    }
   ],
   "source": [
    "# Redo correlation tests\n",
    "correls_df = []\n",
    "for topic in mdata['cNMF'].var_names:\n",
    "    for batch_ in mdata['cNMF'].obs.batch.unique():\n",
    "        bool_ = mdata['cNMF'].obs.batch==batch_\n",
    "\n",
    "        r, pval = stats.pearsonr(mdata['cNMF'][:, topic].X.toarray().flatten(),\n",
    "                                 bool_)\n",
    "        correls_df.append([topic, batch_, r, pval])\n",
    "correls_df = pd.DataFrame(correls_df, columns=['topic', 'batch', 'r', 'pval'])\n",
    "correls_df"
   ]
  },
  {
   "cell_type": "code",
   "execution_count": 6,
   "metadata": {},
   "outputs": [],
   "source": [
    "# Create eval pipeline output for correlations\n",
    "results_df = pd.DataFrame(index=mdata['cNMF'].var_names, \n",
    "                          columns=['batch_max_pearsonr_stat', \n",
    "                                   'batch_max_pearsonr_pval'])\n",
    "\n",
    "for topic_ in results_df.index.values:\n",
    "    maxidx = correls_df.loc[correls_df.topic==topic_,'r'].idxmax()\n",
    "    results_df.loc[topic_] = correls_df.loc[maxidx, ['r', 'pval']].values\n",
    "results_df['batch_max_pearsonr_pval'] = results_df['batch_max_pearsonr_pval'].astype(float)\n",
    "results_df.index.name='program_name'\n",
    "\n",
    "# File name format scheme {prog_key}_{categorical_key}_association_results.txt\n",
    "# Column format scheme {categorical_key}_{test}_* \n",
    "results_df.to_csv('cNMF_batch_association_results.txt', sep='\\t', index=True)\n"
   ]
  },
  {
   "cell_type": "code",
   "execution_count": 8,
   "metadata": {},
   "outputs": [
    {
     "name": "stderr",
     "output_type": "stream",
     "text": [
      "INFO:root:Downloading and generating Enrichr library gene sets...\n",
      "INFO:root:0002 gene_sets have been filtered out when max_size=2000 and min_size=0\n"
     ]
    },
    {
     "data": {
      "application/vnd.jupyter.widget-view+json": {
       "model_id": "08fcafc2a76f4abcaf96c38230446964",
       "version_major": 2,
       "version_minor": 0
      },
      "text/plain": [
       "Running Fisher enrichment:   0%|          | 0/60 [00:00<?, ?programs/s]"
      ]
     },
     "metadata": {},
     "output_type": "display_data"
    },
    {
     "name": "stderr",
     "output_type": "stream",
     "text": [
      "INFO:root:Downloading and generating Enrichr library gene sets...\n",
      "INFO:root:0001 gene_sets have been filtered out when max_size=2000 and min_size=0\n"
     ]
    },
    {
     "data": {
      "application/vnd.jupyter.widget-view+json": {
       "model_id": "5d2097dd3bd24adbb11deeb0a5e1f304",
       "version_major": 2,
       "version_minor": 0
      },
      "text/plain": [
       "Running Fisher enrichment:   0%|          | 0/60 [00:00<?, ?programs/s]"
      ]
     },
     "metadata": {},
     "output_type": "display_data"
    },
    {
     "data": {
      "application/vnd.jupyter.widget-view+json": {
       "model_id": "f0b1296b7d59434f80f4400444bb4e1d",
       "version_major": 2,
       "version_minor": 0
      },
      "text/plain": [
       "Running Fisher enrichment:   0%|          | 0/60 [00:00<?, ?programs/s]"
      ]
     },
     "metadata": {},
     "output_type": "display_data"
    }
   ],
   "source": [
    "# Redo enrichments\n",
    "\n",
    "# Gene-set enrichment\n",
    "pre_res = compute_geneset_enrichment(mdata, prog_key='cNMF', data_key='rna', prog_nam=None,\n",
    "                                     organism='human', library='Reactome_2022', method=\"fisher\",\n",
    "                                     database='enrichr', loading_rank_thresh=300, n_jobs=-1, \n",
    "                                     inplace=False, user_geneset=None)\n",
    "pre_res.to_csv('cNMF_Reactome_2022_fisher_enrichment.txt', sep='\\t', index=False)\n",
    "\n",
    "# GO Term enrichment\n",
    "pre_res = compute_geneset_enrichment(mdata, prog_key='cNMF', data_key='rna', prog_nam=None,\n",
    "                                     organism='human', library='GO_Biological_Process_2023', method=\"fisher\",\n",
    "                                     database='enrichr', loading_rank_thresh=300, n_jobs=-1, \n",
    "                                     inplace=False, user_geneset=None)\n",
    "pre_res.to_csv('cNMF_GO_Biological_Process_2023_fisher_enrichment.txt', sep='\\t', index=False)\n",
    "\n",
    "# Run trait enrichment\n",
    "pre_res_trait = compute_trait_enrichment(mdata, gwas_data='../../../gene_program_evaluation/gene_network_evaluation/smk/resources/OpenTargets_L2G_Filtered.csv.gz', \n",
    "                                        prog_key='cNMF', prog_nam=None, data_key='rna', \n",
    "                                        library='OT_GWAS', n_jobs=-1, inplace=False, \n",
    "                                        key_column='trait_efos', gene_column='gene_name', \n",
    "                                        method='fisher', loading_rank_thresh=300)\n",
    "pre_res_trait.to_csv('cNMF_OT_GWAS_fisher_enrichment.txt', sep='\\t', index=False)\n",
    "\n",
    "# File format scheme {prog_key}_{library}_{test}_enrichment.txt\n"
   ]
  },
  {
   "cell_type": "code",
   "execution_count": 15,
   "metadata": {},
   "outputs": [],
   "source": [
    "# Reformat perturbation outputs\n",
    "perturbation_results = pd.read_excel('41586_2024_7022_MOESM3_ESM.xlsx', sheet_name='Suppl.Table.12')\n",
    "perturbation_results = perturbation_results.loc[:,['Perturbation', 'ProgramsRegulated', 'log2FC', 'p.value']]\n",
    "\n",
    "test_stats_df = []\n",
    "for idx in perturbation_results.index.values:\n",
    "    target_name = perturbation_results.loc[idx, 'Perturbation']\n",
    "    progs = perturbation_results.loc[idx, 'ProgramsRegulated'].split('|')\n",
    "    log2fcs = perturbation_results.loc[idx, 'log2FC'].split('|')\n",
    "    pvals = perturbation_results.loc[idx, 'p.value'].split('|')\n",
    "    for i in range(len(progs)):\n",
    "        test_stats_df.append([target_name, progs[i], log2fcs[i], pvals[i]])\n",
    "\n",
    "test_stats_df = pd.DataFrame(test_stats_df, \n",
    "                             columns=['target_name', 'program_name', 'stat', 'pval'])\n",
    "test_stats_df['program_name'] = test_stats_df['program_name'].apply(lambda x: x.replace('K60_', ''))\n",
    "\n",
    "# File format scheme {prog_key}_{level_key}_perturbation_association.txt\n",
    "test_stats_df.to_csv('cNMF_gene_perturbation_association.txt', sep='\\t', index=False)"
   ]
  },
  {
   "cell_type": "code",
   "execution_count": 17,
   "metadata": {},
   "outputs": [],
   "source": [
    "# Reformat motif enrichment outputs\n",
    "motif_enrichment = pd.read_excel('41586_2024_7022_MOESM4_ESM.xlsx', sheet_name='Suppl.Table.24')\n",
    "\n",
    "for typ in ['Promoter', 'Enhancer']:\n",
    "    motif_enrichment_df = motif_enrichment.loc[motif_enrichment.EPType==typ, \n",
    "                                                    ['ProgramID', 'TFMotif', 'Enrichment', 'PValue']]\n",
    "    motif_enrichment_df.columns = ['program_name', 'motif', 'stat', 'pval']\n",
    "    motif_enrichment_df['program_name'] = motif_enrichment_df['program_name'].apply(lambda x: x.replace('K60_', ''))\n",
    "\n",
    "    # File format scheme {prog_key}_{eptype}_{database}_{test}_enrichment.txt\n",
    "    motif_enrichment_df.to_csv('cNMF_{}_hocomoco_ttest_enrichment.txt'.format(typ.lower()), sep='\\t', index=False)\n"
   ]
  },
  {
   "cell_type": "code",
   "execution_count": 24,
   "metadata": {},
   "outputs": [],
   "source": [
    "# Reformat explained variance\n",
    "variance_explained = pd.read_csv('metrics.varianceExplained.df.txt', sep='\\t')\n",
    "variance_explained = variance_explained.loc[:,['ProgramID', 'VarianceExplained']]\n",
    "variance_explained.columns = ['program_name', 'variance_explained_ratio']\n",
    "variance_explained['program_name'] = variance_explained['program_name'].apply(lambda x: x.replace('K60_', ''))\n",
    "\n",
    "# File format key {prog_key}_variance_explained_ratio.txt\n",
    "variance_explained.to_csv('cNMF_variance_explained_ratio.txt', sep='\\t', index=False)"
   ]
  }
 ],
 "metadata": {
  "kernelspec": {
   "display_name": "evaluation",
   "language": "python",
   "name": "python3"
  },
  "language_info": {
   "codemirror_mode": {
    "name": "ipython",
    "version": 3
   },
   "file_extension": ".py",
   "mimetype": "text/x-python",
   "name": "python",
   "nbconvert_exporter": "python",
   "pygments_lexer": "ipython3",
   "version": "3.9.18"
  },
  "orig_nbformat": 4
 },
 "nbformat": 4,
 "nbformat_minor": 2
}
