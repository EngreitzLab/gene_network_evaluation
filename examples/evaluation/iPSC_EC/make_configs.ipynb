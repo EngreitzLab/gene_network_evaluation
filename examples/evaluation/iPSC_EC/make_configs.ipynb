{
 "cells": [
  {
   "cell_type": "code",
   "execution_count": 21,
   "metadata": {},
   "outputs": [],
   "source": [
    "import os\n",
    "import glob\n",
    "import yaml\n",
    "import tqdm.auto as tqdm"
   ]
  },
  {
   "cell_type": "markdown",
   "metadata": {},
   "source": [
    "# Load in template"
   ]
  },
  {
   "cell_type": "code",
   "execution_count": 22,
   "metadata": {},
   "outputs": [],
   "source": [
    "path_template_config = \"/cellar/users/aklie/opt/gene_program_evaluation/examples/evaluation/iPSC_EC/evaluation_pipeline.yml\""
   ]
  },
  {
   "cell_type": "code",
   "execution_count": 23,
   "metadata": {},
   "outputs": [
    {
     "data": {
      "text/plain": [
       "{'io': {'path_mdata': '/cellar/users/aklie/opt/gene_program_evaluation/examples/inference/iPSC_EC/cNMF/cNMF_30_0.2_gene_names.h5mu',\n",
       "  'path_out': '/cellar/users/aklie/opt/gene_program_evaluation/examples/evaluation/iPSC_EC/cNMF/cNMF_30',\n",
       "  'data_key': 'rna',\n",
       "  'prog_key': 'cNMF'},\n",
       " 'categorical_association': {'categorical_keys': ['sample'],\n",
       "  'pseudobulk_key': None,\n",
       "  'test': 'pearsonr',\n",
       "  'mode': 'one_vs_all',\n",
       "  'n_jobs': -1,\n",
       "  'inplace': False},\n",
       " 'perturbation_association': {'groupby_key': 'sample',\n",
       "  'collapse_targets': True,\n",
       "  'pseudobulk': False,\n",
       "  'reference_targets': ['non-targeting'],\n",
       "  'n_jobs': -1,\n",
       "  'inplace': False},\n",
       " 'gene_set_enrichment': {'prog_nam': None,\n",
       "  'organism': 'human',\n",
       "  'libraries': ['Reactome_2022', 'GO_Biological_Process_2023'],\n",
       "  'method': 'fisher',\n",
       "  'database': 'enrichr',\n",
       "  'n_top': 500,\n",
       "  'low_cutoff': 0.0,\n",
       "  'n_jobs': -1,\n",
       "  'inplace': False,\n",
       "  'user_geneset': None,\n",
       "  'max_size': 500,\n",
       "  'min_size': 5},\n",
       " 'trait_enrichment': {'gwas_data': '/cellar/users/aklie/opt/gene_program_evaluation/smk/resources/OpenTargets_L2G_Filtered.csv.gz',\n",
       "  'prog_nam': None,\n",
       "  'library': 'OT_GWAS',\n",
       "  'n_jobs': -1,\n",
       "  'inplace': False,\n",
       "  'key_column': 'trait_efos',\n",
       "  'gene_column': 'gene_name',\n",
       "  'method': 'fisher',\n",
       "  'loading_rank_thresh': 300,\n",
       "  'metadata': '/cellar/users/aklie/opt/gene_program_evaluation/smk/resources/OpenTargets_L2G_Filtered.csv.gz',\n",
       "  'pval_col': 'adj_pval',\n",
       "  'enrich_geneset_id_col': 'term',\n",
       "  'metadata_geneset_id_col': 'trait_efos',\n",
       "  'color_category_col': 'trait_category',\n",
       "  'program_name_col': 'program_name',\n",
       "  'annotation_cols': ['trait_reported', 'genes', 'study_id', 'pmid'],\n",
       "  'max_size': 1000,\n",
       "  'min_size': 5},\n",
       " 'motif_enrichment': {'motif_file': '/cellar/users/aklie/opt/gene_program_evaluation/src/tests/test_data/motifs.meme',\n",
       "  'seq_file': '/cellar/users/aklie/data/ref/genomes/hg38/hg38.fa',\n",
       "  'loci_files': ['/cellar/users/aklie/opt/gene_program_evaluation/examples/datasets/iPSC_EC/EnhancerPredictions_D0_2024_09_07.txt',\n",
       "   '/cellar/users/aklie/opt/gene_program_evaluation/examples/datasets/iPSC_EC/EnhancerPredictions_sample_D1_2024_09_07.txt',\n",
       "   '/cellar/users/aklie/opt/gene_program_evaluation/examples/datasets/iPSC_EC/EnhancerPredictions_sample_D2_2024_09_07.txt',\n",
       "   '/cellar/users/aklie/opt/gene_program_evaluation/examples/datasets/iPSC_EC/EnhancerPredictions_sample_D3_2024_09_07.txt'],\n",
       "  'names': ['D0', 'sample_D1', 'sample_D2', 'sample_D3'],\n",
       "  'output_loc': None,\n",
       "  'window': 1000,\n",
       "  'threshold': 0.001,\n",
       "  'eps': 0.001,\n",
       "  'reverse_complement': True,\n",
       "  'sig': 0.05,\n",
       "  'num_genes': None,\n",
       "  'correlation': 'pearsonr',\n",
       "  'n_jobs': -1,\n",
       "  'inplace': False},\n",
       " 'explained_variance': {'layer': 'X', 'n_jobs': 1, 'inplace': False}}"
      ]
     },
     "execution_count": 23,
     "metadata": {},
     "output_type": "execute_result"
    }
   ],
   "source": [
    "# load template config\n",
    "with open(path_template_config, 'r') as f:\n",
    "    template_config = yaml.safe_load(f)\n",
    "template_config"
   ]
  },
  {
   "cell_type": "markdown",
   "metadata": {},
   "source": [
    "# Identify all possible MuData's to be evaluated"
   ]
  },
  {
   "cell_type": "code",
   "execution_count": 24,
   "metadata": {},
   "outputs": [],
   "source": [
    "path_inference = \"/cellar/users/aklie/opt/gene_program_evaluation/examples/inference/iPSC_EC\"\n",
    "path_out = \"/cellar/users/aklie/opt/gene_program_evaluation/examples/evaluation/iPSC_EC\""
   ]
  },
  {
   "cell_type": "code",
   "execution_count": 25,
   "metadata": {},
   "outputs": [
    {
     "data": {
      "text/plain": [
       "['/cellar/users/aklie/opt/gene_program_evaluation/examples/inference/iPSC_EC/cNMF/cNMF_200_0.2_gene_names.h5mu',\n",
       " '/cellar/users/aklie/opt/gene_program_evaluation/examples/inference/iPSC_EC/cNMF/cNMF_80_0.2_gene_names.h5mu',\n",
       " '/cellar/users/aklie/opt/gene_program_evaluation/examples/inference/iPSC_EC/cNMF/cNMF_30_0.2_gene_names.h5mu',\n",
       " '/cellar/users/aklie/opt/gene_program_evaluation/examples/inference/iPSC_EC/cNMF/cNMF_300_0.2_gene_names.h5mu',\n",
       " '/cellar/users/aklie/opt/gene_program_evaluation/examples/inference/iPSC_EC/cNMF/cNMF_60_0.2_gene_names.h5mu',\n",
       " '/cellar/users/aklie/opt/gene_program_evaluation/examples/inference/iPSC_EC/cNMF/cNMF_100_0.2_gene_names.h5mu',\n",
       " '/cellar/users/aklie/opt/gene_program_evaluation/examples/inference/iPSC_EC/cNMF/cNMF_250_0.2_gene_names.h5mu',\n",
       " '/cellar/users/aklie/opt/gene_program_evaluation/examples/inference/iPSC_EC/Topyfic/Topyfic_iPSC_EC_13.h5mu',\n",
       " '/cellar/users/aklie/opt/gene_program_evaluation/examples/inference/iPSC_EC/Topyfic/Topyfic_iPSC_EC_40.h5mu',\n",
       " '/cellar/users/aklie/opt/gene_program_evaluation/examples/inference/iPSC_EC/Topyfic/Topyfic_iPSC_EC_17.h5mu',\n",
       " '/cellar/users/aklie/opt/gene_program_evaluation/examples/inference/iPSC_EC/Topyfic/Topyfic_iPSC_EC_50.h5mu',\n",
       " '/cellar/users/aklie/opt/gene_program_evaluation/examples/inference/iPSC_EC/Topyfic/Topyfic_iPSC_EC_12.h5mu',\n",
       " '/cellar/users/aklie/opt/gene_program_evaluation/examples/inference/iPSC_EC/Topyfic/Topyfic_iPSC_EC_16.h5mu',\n",
       " '/cellar/users/aklie/opt/gene_program_evaluation/examples/inference/iPSC_EC/Topyfic/Topyfic_iPSC_EC_45.h5mu',\n",
       " '/cellar/users/aklie/opt/gene_program_evaluation/examples/inference/iPSC_EC/Topyfic/Topyfic_iPSC_EC_18.h5mu',\n",
       " '/cellar/users/aklie/opt/gene_program_evaluation/examples/inference/iPSC_EC/Topyfic/Topyfic_iPSC_EC_35.h5mu',\n",
       " '/cellar/users/aklie/opt/gene_program_evaluation/examples/inference/iPSC_EC/Topyfic/Topyfic_iPSC_EC_10.h5mu',\n",
       " '/cellar/users/aklie/opt/gene_program_evaluation/examples/inference/iPSC_EC/Topyfic/Topyfic_iPSC_EC_14.h5mu',\n",
       " '/cellar/users/aklie/opt/gene_program_evaluation/examples/inference/iPSC_EC/Topyfic/Topyfic_iPSC_EC_25.h5mu',\n",
       " '/cellar/users/aklie/opt/gene_program_evaluation/examples/inference/iPSC_EC/Topyfic/Topyfic_iPSC_EC_20.h5mu',\n",
       " '/cellar/users/aklie/opt/gene_program_evaluation/examples/inference/iPSC_EC/Topyfic/Topyfic_iPSC_EC_11.h5mu',\n",
       " '/cellar/users/aklie/opt/gene_program_evaluation/examples/inference/iPSC_EC/Topyfic/Topyfic_iPSC_EC_15.h5mu',\n",
       " '/cellar/users/aklie/opt/gene_program_evaluation/examples/inference/iPSC_EC/Topyfic/Topyfic_iPSC_EC_30.h5mu',\n",
       " '/cellar/users/aklie/opt/gene_program_evaluation/examples/inference/iPSC_EC/Topyfic/Topyfic_iPSC_EC_19.h5mu',\n",
       " '/cellar/users/aklie/opt/gene_program_evaluation/examples/inference/iPSC_EC/Topyfic/Topyfic_iPSC_EC_5.h5mu',\n",
       " '/cellar/users/aklie/opt/gene_program_evaluation/examples/inference/iPSC_EC/factor_analysis/factor_analysis_100_0.2_gene_names.h5mu']"
      ]
     },
     "execution_count": 25,
     "metadata": {},
     "output_type": "execute_result"
    }
   ],
   "source": [
    "path_h5mus = glob.glob(os.path.join(path_inference, \"*\", \"*.h5mu\"))\n",
    "path_h5mus"
   ]
  },
  {
   "cell_type": "code",
   "execution_count": 32,
   "metadata": {},
   "outputs": [
    {
     "data": {
      "text/plain": [
       "(['200',\n",
       "  '80',\n",
       "  '30',\n",
       "  '300',\n",
       "  '60',\n",
       "  '100',\n",
       "  '250',\n",
       "  '13',\n",
       "  '40',\n",
       "  '17',\n",
       "  '50',\n",
       "  '12',\n",
       "  '16',\n",
       "  '45',\n",
       "  '18',\n",
       "  '35',\n",
       "  '10',\n",
       "  '14',\n",
       "  '25',\n",
       "  '20',\n",
       "  '11',\n",
       "  '15',\n",
       "  '30',\n",
       "  '19',\n",
       "  '5',\n",
       "  '100'],\n",
       " ['cNMF',\n",
       "  'cNMF',\n",
       "  'cNMF',\n",
       "  'cNMF',\n",
       "  'cNMF',\n",
       "  'cNMF',\n",
       "  'cNMF',\n",
       "  'Topyfic',\n",
       "  'Topyfic',\n",
       "  'Topyfic',\n",
       "  'Topyfic',\n",
       "  'Topyfic',\n",
       "  'Topyfic',\n",
       "  'Topyfic',\n",
       "  'Topyfic',\n",
       "  'Topyfic',\n",
       "  'Topyfic',\n",
       "  'Topyfic',\n",
       "  'Topyfic',\n",
       "  'Topyfic',\n",
       "  'Topyfic',\n",
       "  'Topyfic',\n",
       "  'Topyfic',\n",
       "  'Topyfic',\n",
       "  'Topyfic',\n",
       "  'factor_analysis'])"
      ]
     },
     "execution_count": 32,
     "metadata": {},
     "output_type": "execute_result"
    }
   ],
   "source": [
    "basenames = [os.path.basename(p) for p in path_h5mus]\n",
    "ks = [b.replace(\"_0.2_gene_names.h5mu\", \"\").replace(\"iPSC_EC_\", \"\").replace(\".h5mu\", \"\").split(\"_\")[1] for b in basenames]\n",
    "methods = [b.split(\"_\")[0] for b in basenames]\n",
    "ks[-1] = \"100\"\n",
    "methods[-1] = \"factor_analysis\"\n",
    "ks, methods"
   ]
  },
  {
   "cell_type": "code",
   "execution_count": 33,
   "metadata": {},
   "outputs": [
    {
     "data": {
      "text/plain": [
       "['/cellar/users/aklie/opt/gene_program_evaluation/examples/evaluation/iPSC_EC/cNMF/cNMF_200',\n",
       " '/cellar/users/aklie/opt/gene_program_evaluation/examples/evaluation/iPSC_EC/cNMF/cNMF_80',\n",
       " '/cellar/users/aklie/opt/gene_program_evaluation/examples/evaluation/iPSC_EC/cNMF/cNMF_30',\n",
       " '/cellar/users/aklie/opt/gene_program_evaluation/examples/evaluation/iPSC_EC/cNMF/cNMF_300',\n",
       " '/cellar/users/aklie/opt/gene_program_evaluation/examples/evaluation/iPSC_EC/cNMF/cNMF_60',\n",
       " '/cellar/users/aklie/opt/gene_program_evaluation/examples/evaluation/iPSC_EC/cNMF/cNMF_100',\n",
       " '/cellar/users/aklie/opt/gene_program_evaluation/examples/evaluation/iPSC_EC/cNMF/cNMF_250',\n",
       " '/cellar/users/aklie/opt/gene_program_evaluation/examples/evaluation/iPSC_EC/Topyfic/Topyfic_13',\n",
       " '/cellar/users/aklie/opt/gene_program_evaluation/examples/evaluation/iPSC_EC/Topyfic/Topyfic_40',\n",
       " '/cellar/users/aklie/opt/gene_program_evaluation/examples/evaluation/iPSC_EC/Topyfic/Topyfic_17',\n",
       " '/cellar/users/aklie/opt/gene_program_evaluation/examples/evaluation/iPSC_EC/Topyfic/Topyfic_50',\n",
       " '/cellar/users/aklie/opt/gene_program_evaluation/examples/evaluation/iPSC_EC/Topyfic/Topyfic_12',\n",
       " '/cellar/users/aklie/opt/gene_program_evaluation/examples/evaluation/iPSC_EC/Topyfic/Topyfic_16',\n",
       " '/cellar/users/aklie/opt/gene_program_evaluation/examples/evaluation/iPSC_EC/Topyfic/Topyfic_45',\n",
       " '/cellar/users/aklie/opt/gene_program_evaluation/examples/evaluation/iPSC_EC/Topyfic/Topyfic_18',\n",
       " '/cellar/users/aklie/opt/gene_program_evaluation/examples/evaluation/iPSC_EC/Topyfic/Topyfic_35',\n",
       " '/cellar/users/aklie/opt/gene_program_evaluation/examples/evaluation/iPSC_EC/Topyfic/Topyfic_10',\n",
       " '/cellar/users/aklie/opt/gene_program_evaluation/examples/evaluation/iPSC_EC/Topyfic/Topyfic_14',\n",
       " '/cellar/users/aklie/opt/gene_program_evaluation/examples/evaluation/iPSC_EC/Topyfic/Topyfic_25',\n",
       " '/cellar/users/aklie/opt/gene_program_evaluation/examples/evaluation/iPSC_EC/Topyfic/Topyfic_20',\n",
       " '/cellar/users/aklie/opt/gene_program_evaluation/examples/evaluation/iPSC_EC/Topyfic/Topyfic_11',\n",
       " '/cellar/users/aklie/opt/gene_program_evaluation/examples/evaluation/iPSC_EC/Topyfic/Topyfic_15',\n",
       " '/cellar/users/aklie/opt/gene_program_evaluation/examples/evaluation/iPSC_EC/Topyfic/Topyfic_30',\n",
       " '/cellar/users/aklie/opt/gene_program_evaluation/examples/evaluation/iPSC_EC/Topyfic/Topyfic_19',\n",
       " '/cellar/users/aklie/opt/gene_program_evaluation/examples/evaluation/iPSC_EC/Topyfic/Topyfic_5',\n",
       " '/cellar/users/aklie/opt/gene_program_evaluation/examples/evaluation/iPSC_EC/factor_analysis/factor_analysis_100']"
      ]
     },
     "execution_count": 33,
     "metadata": {},
     "output_type": "execute_result"
    }
   ],
   "source": [
    "# Create path_outs using path_out as base, then adding method dir and finall method_k dir\n",
    "path_outs = [os.path.join(path_out, method, f\"{method}_{k}\") for method, k in zip(methods, ks)]\n",
    "path_outs"
   ]
  },
  {
   "cell_type": "code",
   "execution_count": 34,
   "metadata": {},
   "outputs": [
    {
     "data": {
      "text/plain": [
       "['cNMF',\n",
       " 'cNMF',\n",
       " 'cNMF',\n",
       " 'cNMF',\n",
       " 'cNMF',\n",
       " 'cNMF',\n",
       " 'cNMF',\n",
       " 'Topyfic',\n",
       " 'Topyfic',\n",
       " 'Topyfic',\n",
       " 'Topyfic',\n",
       " 'Topyfic',\n",
       " 'Topyfic',\n",
       " 'Topyfic',\n",
       " 'Topyfic',\n",
       " 'Topyfic',\n",
       " 'Topyfic',\n",
       " 'Topyfic',\n",
       " 'Topyfic',\n",
       " 'Topyfic',\n",
       " 'Topyfic',\n",
       " 'Topyfic',\n",
       " 'Topyfic',\n",
       " 'Topyfic',\n",
       " 'Topyfic',\n",
       " 'factor_analysis_100']"
      ]
     },
     "execution_count": 34,
     "metadata": {},
     "output_type": "execute_result"
    }
   ],
   "source": [
    "# Grab prog_keys from path_outs as the basename of the path_outs\n",
    "prog_keys = [os.path.basename(path_out) for path_out in path_outs]\n",
    "prog_keys = [prog_key.split(\"_\")[0] if \"cNMF\" in prog_key else prog_key for prog_key in prog_keys]\n",
    "prog_keys = [prog_key.split(\"_\")[0] if \"Topyfic\" in prog_key else prog_key for prog_key in prog_keys]\n",
    "prog_keys"
   ]
  },
  {
   "cell_type": "code",
   "execution_count": 35,
   "metadata": {},
   "outputs": [
    {
     "name": "stderr",
     "output_type": "stream",
     "text": [
      "100%|██████████| 26/26 [00:00<00:00, 126.51it/s]"
     ]
    },
    {
     "name": "stdout",
     "output_type": "stream",
     "text": [
      "Wrote /cellar/users/aklie/opt/gene_program_evaluation/examples/evaluation/iPSC_EC/cNMF/cNMF_200/evaluation_pipeline.yml\n",
      "Wrote /cellar/users/aklie/opt/gene_program_evaluation/examples/evaluation/iPSC_EC/cNMF/cNMF_80/evaluation_pipeline.yml\n",
      "Wrote /cellar/users/aklie/opt/gene_program_evaluation/examples/evaluation/iPSC_EC/cNMF/cNMF_30/evaluation_pipeline.yml\n",
      "Wrote /cellar/users/aklie/opt/gene_program_evaluation/examples/evaluation/iPSC_EC/cNMF/cNMF_300/evaluation_pipeline.yml\n",
      "Wrote /cellar/users/aklie/opt/gene_program_evaluation/examples/evaluation/iPSC_EC/cNMF/cNMF_60/evaluation_pipeline.yml\n",
      "Wrote /cellar/users/aklie/opt/gene_program_evaluation/examples/evaluation/iPSC_EC/cNMF/cNMF_100/evaluation_pipeline.yml\n",
      "Wrote /cellar/users/aklie/opt/gene_program_evaluation/examples/evaluation/iPSC_EC/cNMF/cNMF_250/evaluation_pipeline.yml\n",
      "Wrote /cellar/users/aklie/opt/gene_program_evaluation/examples/evaluation/iPSC_EC/Topyfic/Topyfic_13/evaluation_pipeline.yml\n",
      "Wrote /cellar/users/aklie/opt/gene_program_evaluation/examples/evaluation/iPSC_EC/Topyfic/Topyfic_40/evaluation_pipeline.yml\n",
      "Wrote /cellar/users/aklie/opt/gene_program_evaluation/examples/evaluation/iPSC_EC/Topyfic/Topyfic_17/evaluation_pipeline.yml\n",
      "Wrote /cellar/users/aklie/opt/gene_program_evaluation/examples/evaluation/iPSC_EC/Topyfic/Topyfic_50/evaluation_pipeline.yml\n",
      "Wrote /cellar/users/aklie/opt/gene_program_evaluation/examples/evaluation/iPSC_EC/Topyfic/Topyfic_12/evaluation_pipeline.yml\n",
      "Wrote /cellar/users/aklie/opt/gene_program_evaluation/examples/evaluation/iPSC_EC/Topyfic/Topyfic_16/evaluation_pipeline.yml\n",
      "Wrote /cellar/users/aklie/opt/gene_program_evaluation/examples/evaluation/iPSC_EC/Topyfic/Topyfic_45/evaluation_pipeline.yml\n",
      "Wrote /cellar/users/aklie/opt/gene_program_evaluation/examples/evaluation/iPSC_EC/Topyfic/Topyfic_18/evaluation_pipeline.yml\n",
      "Wrote /cellar/users/aklie/opt/gene_program_evaluation/examples/evaluation/iPSC_EC/Topyfic/Topyfic_35/evaluation_pipeline.yml\n",
      "Wrote /cellar/users/aklie/opt/gene_program_evaluation/examples/evaluation/iPSC_EC/Topyfic/Topyfic_10/evaluation_pipeline.yml\n",
      "Wrote /cellar/users/aklie/opt/gene_program_evaluation/examples/evaluation/iPSC_EC/Topyfic/Topyfic_14/evaluation_pipeline.yml\n",
      "Wrote /cellar/users/aklie/opt/gene_program_evaluation/examples/evaluation/iPSC_EC/Topyfic/Topyfic_25/evaluation_pipeline.yml\n",
      "Wrote /cellar/users/aklie/opt/gene_program_evaluation/examples/evaluation/iPSC_EC/Topyfic/Topyfic_20/evaluation_pipeline.yml\n",
      "Wrote /cellar/users/aklie/opt/gene_program_evaluation/examples/evaluation/iPSC_EC/Topyfic/Topyfic_11/evaluation_pipeline.yml\n",
      "Wrote /cellar/users/aklie/opt/gene_program_evaluation/examples/evaluation/iPSC_EC/Topyfic/Topyfic_15/evaluation_pipeline.yml\n",
      "Wrote /cellar/users/aklie/opt/gene_program_evaluation/examples/evaluation/iPSC_EC/Topyfic/Topyfic_30/evaluation_pipeline.yml\n",
      "Wrote /cellar/users/aklie/opt/gene_program_evaluation/examples/evaluation/iPSC_EC/Topyfic/Topyfic_19/evaluation_pipeline.yml\n",
      "Wrote /cellar/users/aklie/opt/gene_program_evaluation/examples/evaluation/iPSC_EC/Topyfic/Topyfic_5/evaluation_pipeline.yml\n",
      "Wrote /cellar/users/aklie/opt/gene_program_evaluation/examples/evaluation/iPSC_EC/factor_analysis/factor_analysis_100/evaluation_pipeline.yml\n"
     ]
    },
    {
     "name": "stderr",
     "output_type": "stream",
     "text": [
      "\n"
     ]
    }
   ],
   "source": [
    "# Write out config files where each config file has a different path_mdata, path_out and prog_key\n",
    "path_configs = []\n",
    "for path_h5mu, path_out, prog_key in tqdm.tqdm(zip(path_h5mus, path_outs, prog_keys), total=len(path_h5mus)):\n",
    "    config = template_config.copy()\n",
    "    config[\"io\"][\"path_mdata\"] = path_h5mu\n",
    "    config[\"io\"][\"path_out\"] = path_out\n",
    "    config[\"io\"][\"prog_key\"] = prog_key\n",
    "\n",
    "    path_config = os.path.join(path_out, \"evaluation_pipeline.yml\")\n",
    "    os.makedirs(path_out, exist_ok=True)\n",
    "    with open(path_config, 'w') as f:\n",
    "        yaml.dump(config, f, sort_keys=False)\n",
    "    print(f\"Wrote {path_config}\")\n",
    "    path_configs.append(path_config)"
   ]
  },
  {
   "cell_type": "code",
   "execution_count": 36,
   "metadata": {},
   "outputs": [],
   "source": [
    "# Write a SLURM array script to run all the configs in parallel in the following format\n",
    "path_script = \"/cellar/users/aklie/opt/gene_program_evaluation/examples/evaluation/evaluation_pipeline.py\"\n",
    "path_env = \"/cellar/users/aklie/opt/miniconda3/envs/test_celloracle\"\n",
    "\n",
    "script_content = f\"\"\"#!/bin/bash\n",
    "#SBATCH --partition=carter-compute\n",
    "#SBATCH --job-name=evaluation_pipelines\n",
    "#SBATCH --output=logs/evaluation_pipelines_%A_%a.out\n",
    "#SBATCH --time=24:00:00\n",
    "#SBATCH --mem=16G\n",
    "#SBATCH --cpus-per-task=4\n",
    "#SBATCH --array=1-{len(path_configs)}\n",
    "\n",
    "#####\n",
    "# USAGE:\n",
    "# sbatch evaluation_pipelines.sh <config>\n",
    "#####\n",
    "\n",
    "# Date\n",
    "date\n",
    "echo -e \"Job ID: $SLURM_JOB_ID\"\n",
    "\n",
    "# Configuring env\n",
    "source activate {path_env}\n",
    "\n",
    "# Input configs should be one per line with tab indentation\n",
    "configs=(\n",
    "{os.linesep.join(path_configs)}\n",
    ")\n",
    "config=${{configs[$SLURM_ARRAY_TASK_ID-1]}}\n",
    "\n",
    "# Run the command\n",
    "echo \"Running command: python {path_script} --config $config\"\n",
    "python {path_script} --config $config\n",
    "\n",
    "# Date\n",
    "date\n",
    "\"\"\"\n",
    "\n",
    "path_slurm_out = \"/cellar/users/aklie/opt/gene_program_evaluation/examples/evaluation/iPSC_EC\"\n",
    "path_slurm_script = os.path.join(path_slurm_out, \"evaluation_pipelines.sh\")\n",
    "with open(path_slurm_script, 'w') as f:\n",
    "    f.write(script_content)"
   ]
  },
  {
   "cell_type": "markdown",
   "metadata": {},
   "source": [
    "# DONE!"
   ]
  },
  {
   "cell_type": "markdown",
   "metadata": {},
   "source": [
    "---"
   ]
  }
 ],
 "metadata": {
  "kernelspec": {
   "display_name": "Python 3.7 get_data",
   "language": "python",
   "name": "get_data"
  }
 },
 "nbformat": 4,
 "nbformat_minor": 2
}
