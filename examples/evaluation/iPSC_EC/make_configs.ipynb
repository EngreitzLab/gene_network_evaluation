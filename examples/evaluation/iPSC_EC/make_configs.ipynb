{
 "cells": [
  {
   "cell_type": "code",
   "execution_count": 8,
   "metadata": {},
   "outputs": [
    {
     "name": "stdout",
     "output_type": "stream",
     "text": [
      "\n",
      "Caching the list of root modules, please wait!\n",
      "(This will only be done once - type '%rehashx' to reset cache!)\n",
      "\n"
     ]
    }
   ],
   "source": [
    "import os\n",
    "import glob\n",
    "import yaml\n",
    "import tqdm.auto as tqdm"
   ]
  },
  {
   "cell_type": "markdown",
   "metadata": {},
   "source": [
    "# Load in template"
   ]
  },
  {
   "cell_type": "code",
   "execution_count": 46,
   "metadata": {},
   "outputs": [],
   "source": [
    "path_template_config = \"/cellar/users/aklie/opt/gene_program_evaluation/examples/evaluation/evaluation_pipeline.yml\""
   ]
  },
  {
   "cell_type": "code",
   "execution_count": 47,
   "metadata": {},
   "outputs": [
    {
     "data": {
      "text/plain": [
       "{'io': {'path_mdata': '/path/to/your/mdata/file.h5mu',\n",
       "  'path_out': '/path/to/output/directory',\n",
       "  'data_key': 'rna',\n",
       "  'prog_key': 'cNMF'},\n",
       " 'categorical_association': {'categorical_key': 'sample',\n",
       "  'pseudobulk_key': None,\n",
       "  'test': 'dunn',\n",
       "  'n_jobs': -1,\n",
       "  'inplace': False},\n",
       " 'perturbation_association': {'groupby_key': None,\n",
       "  'collapse_targets': True,\n",
       "  'pseudobulk': False,\n",
       "  'reference_targets': ['non-targeting'],\n",
       "  'n_jobs': -1,\n",
       "  'inplace': False},\n",
       " 'gene_set_enrichment': {'prog_nam': None,\n",
       "  'organism': 'human',\n",
       "  'libraries': ['Reactome_2022', 'GO_Biological_Process_2023'],\n",
       "  'method': 'fisher',\n",
       "  'database': 'enrichr',\n",
       "  'loading_rank_thresh': 300,\n",
       "  'n_jobs': -1,\n",
       "  'inplace': False,\n",
       "  'user_geneset': None,\n",
       "  'max_size': 500,\n",
       "  'min_size': 5},\n",
       " 'trait_enrichment': {'gwas_data': '/cellar/users/aklie/opt/gene_program_evaluation/smk/resources/OpenTargets_L2G_Filtered.csv.gz',\n",
       "  'prog_nam': None,\n",
       "  'library': 'OT_GWAS',\n",
       "  'n_jobs': -1,\n",
       "  'inplace': False,\n",
       "  'key_column': 'trait_efos',\n",
       "  'gene_column': 'gene_name',\n",
       "  'method': 'fisher',\n",
       "  'loading_rank_thresh': 300,\n",
       "  'metadata': '/cellar/users/aklie/opt/gene_program_evaluation/smk/resources/OpenTargets_L2G_Filtered.csv.gz',\n",
       "  'pval_col': 'adj_pval',\n",
       "  'enrich_geneset_id_col': 'term',\n",
       "  'metadata_geneset_id_col': 'trait_efos',\n",
       "  'color_category_col': 'trait_category',\n",
       "  'program_name_col': 'program_name',\n",
       "  'annotation_cols': ['trait_reported', 'genes', 'study_id', 'pmid'],\n",
       "  'max_size': 1000,\n",
       "  'min_size': 5},\n",
       " 'motif_enrichment': {'motif_file': '/cellar/users/aklie/opt/gene_program_evaluation/src/tests/test_data/motifs.meme',\n",
       "  'seq_file': '/cellar/users/aklie/data/ref/genomes/hg38/hg38.fa',\n",
       "  'coords_file': '/cellar/users/aklie/opt/gene_program_evaluation/src/tests/test_data/p2g_links_minimal.txt',\n",
       "  'output_loc': '/cellar/users/aklie/opt/gene_program_evaluation/app/examples/evaluation/iPSC_EC/cNMF_30/motif_counts',\n",
       "  'use_previous': False,\n",
       "  'sig': 0.05,\n",
       "  'num_genes': None,\n",
       "  'correlation': 'pearsonr',\n",
       "  'n_jobs': -1,\n",
       "  'inplace': False},\n",
       " 'explained_variance': {'layer': 'X', 'n_jobs': 1, 'inplace': False}}"
      ]
     },
     "execution_count": 47,
     "metadata": {},
     "output_type": "execute_result"
    }
   ],
   "source": [
    "# load template config\n",
    "with open(path_template_config, 'r') as f:\n",
    "    template_config = yaml.safe_load(f)\n",
    "template_config"
   ]
  },
  {
   "cell_type": "markdown",
   "metadata": {},
   "source": [
    "# Identify all possible MuData's to be evaluated"
   ]
  },
  {
   "cell_type": "code",
   "execution_count": 48,
   "metadata": {},
   "outputs": [],
   "source": [
    "path_inference = \"/cellar/users/aklie/opt/gene_program_evaluation/examples/inference/iPSC_EC\"\n",
    "path_out = \"/cellar/users/aklie/opt/gene_program_evaluation/examples/evaluation/iPSC_EC\""
   ]
  },
  {
   "cell_type": "code",
   "execution_count": 49,
   "metadata": {},
   "outputs": [],
   "source": [
    "path_h5mus = glob.glob(os.path.join(path_inference, \"*\", \"*.h5mu\"))"
   ]
  },
  {
   "cell_type": "code",
   "execution_count": 50,
   "metadata": {},
   "outputs": [
    {
     "data": {
      "text/plain": [
       "['/cellar/users/aklie/opt/gene_program_evaluation/examples/evaluation/iPSC_EC/factor_analysis_100',\n",
       " '/cellar/users/aklie/opt/gene_program_evaluation/examples/evaluation/iPSC_EC/cNMF_250',\n",
       " '/cellar/users/aklie/opt/gene_program_evaluation/examples/evaluation/iPSC_EC/cNMF_80',\n",
       " '/cellar/users/aklie/opt/gene_program_evaluation/examples/evaluation/iPSC_EC/cNMF_30',\n",
       " '/cellar/users/aklie/opt/gene_program_evaluation/examples/evaluation/iPSC_EC/cNMF_100',\n",
       " '/cellar/users/aklie/opt/gene_program_evaluation/examples/evaluation/iPSC_EC/cNMF_300',\n",
       " '/cellar/users/aklie/opt/gene_program_evaluation/examples/evaluation/iPSC_EC/cNMF_60',\n",
       " '/cellar/users/aklie/opt/gene_program_evaluation/examples/evaluation/iPSC_EC/cNMF_200']"
      ]
     },
     "execution_count": 50,
     "metadata": {},
     "output_type": "execute_result"
    }
   ],
   "source": [
    "# Create path_outs using basename of path_out + basename of path_h5mus\n",
    "path_outs = [os.path.join(path_out, os.path.basename(path_h5mu)).split(\"_0.2_gene_names.h5mu\")[0] for path_h5mu in path_h5mus]\n",
    "path_outs"
   ]
  },
  {
   "cell_type": "code",
   "execution_count": 56,
   "metadata": {},
   "outputs": [
    {
     "data": {
      "text/plain": [
       "['factor_analysis_100', 'cNMF', 'cNMF', 'cNMF', 'cNMF', 'cNMF', 'cNMF', 'cNMF']"
      ]
     },
     "execution_count": 56,
     "metadata": {},
     "output_type": "execute_result"
    }
   ],
   "source": [
    "# Grab prog_keys from path_outs as the basename of the path_outs\n",
    "prog_keys = [os.path.basename(path_out) for path_out in path_outs]\n",
    "prog_keys = [prog_key.split(\"_\")[0] if \"cNMF\" in prog_key else prog_key for prog_key in prog_keys]\n",
    "prog_keys"
   ]
  },
  {
   "cell_type": "code",
   "execution_count": 52,
   "metadata": {},
   "outputs": [
    {
     "name": "stderr",
     "output_type": "stream",
     "text": [
      "100%|██████████| 8/8 [00:00<00:00, 73.94it/s]"
     ]
    },
    {
     "name": "stdout",
     "output_type": "stream",
     "text": [
      "Wrote /cellar/users/aklie/opt/gene_program_evaluation/examples/evaluation/iPSC_EC/factor_analysis_100/evaluation_pipeline.yml\n",
      "Wrote /cellar/users/aklie/opt/gene_program_evaluation/examples/evaluation/iPSC_EC/cNMF_250/evaluation_pipeline.yml\n",
      "Wrote /cellar/users/aklie/opt/gene_program_evaluation/examples/evaluation/iPSC_EC/cNMF_80/evaluation_pipeline.yml\n",
      "Wrote /cellar/users/aklie/opt/gene_program_evaluation/examples/evaluation/iPSC_EC/cNMF_30/evaluation_pipeline.yml\n",
      "Wrote /cellar/users/aklie/opt/gene_program_evaluation/examples/evaluation/iPSC_EC/cNMF_100/evaluation_pipeline.yml\n",
      "Wrote /cellar/users/aklie/opt/gene_program_evaluation/examples/evaluation/iPSC_EC/cNMF_300/evaluation_pipeline.yml\n",
      "Wrote /cellar/users/aklie/opt/gene_program_evaluation/examples/evaluation/iPSC_EC/cNMF_60/evaluation_pipeline.yml\n",
      "Wrote /cellar/users/aklie/opt/gene_program_evaluation/examples/evaluation/iPSC_EC/cNMF_200/evaluation_pipeline.yml\n"
     ]
    },
    {
     "name": "stderr",
     "output_type": "stream",
     "text": [
      "\n"
     ]
    }
   ],
   "source": [
    "# Write out config files where each config file has a different path_mdata, path_out and prog_key\n",
    "path_configs = []\n",
    "for path_h5mu, path_out, prog_key in tqdm.tqdm(zip(path_h5mus, path_outs, prog_keys), total=len(path_h5mus)):\n",
    "    config = template_config.copy()\n",
    "    config[\"io\"][\"path_mdata\"] = path_h5mu\n",
    "    config[\"io\"][\"path_out\"] = path_out\n",
    "    config[\"io\"][\"prog_key\"] = prog_key\n",
    "\n",
    "    path_config = os.path.join(path_out, \"evaluation_pipeline.yml\")\n",
    "    os.makedirs(path_out, exist_ok=True)\n",
    "    with open(path_config, 'w') as f:\n",
    "        yaml.dump(config, f, sort_keys=False)\n",
    "    print(f\"Wrote {path_config}\")\n",
    "    path_configs.append(path_config)"
   ]
  },
  {
   "cell_type": "code",
   "execution_count": 53,
   "metadata": {},
   "outputs": [],
   "source": [
    "# Write a SLURM array script to run all the configs in parallel in the following format\n",
    "path_script = \"/cellar/users/aklie/opt/gene_program_evaluation/examples/evaluation/evaluation_pipeline.py\"\n",
    "path_env = \"/cellar/users/aklie/opt/miniconda3/envs/test_celloracle\"\n",
    "\n",
    "script_content = f\"\"\"#!/bin/bash\n",
    "#SBATCH --partition=carter-compute\n",
    "#SBATCH --job-name=evaluation_pipelines\n",
    "#SBATCH --output=logs/evaluation_pipelines_%A_%a.out\n",
    "#SBATCH --time=24:00:00\n",
    "#SBATCH --mem=16G\n",
    "#SBATCH --cpus-per-task=4\n",
    "#SBATCH --array=1-{len(path_configs)}\n",
    "\n",
    "#####\n",
    "# USAGE:\n",
    "# sbatch evaluation_pipelines.sh <config>\n",
    "#####\n",
    "\n",
    "# Date\n",
    "date\n",
    "echo -e \"Job ID: $SLURM_JOB_ID\"\n",
    "\n",
    "# Configuring env\n",
    "source activate {path_env}\n",
    "\n",
    "# Input configs should be one per line with tab indentation\n",
    "configs=(\n",
    "{os.linesep.join(path_configs)}\n",
    ")\n",
    "config=${{configs[$SLURM_ARRAY_TASK_ID-1]}}\n",
    "\n",
    "# Run the command\n",
    "echo \"Running command: python {path_script} --config $config\"\n",
    "python {path_script} --config $config\n",
    "\n",
    "# Date\n",
    "date\n",
    "\"\"\"\n",
    "\n",
    "path_slurm_out = \"/cellar/users/aklie/opt/gene_program_evaluation/examples/evaluation/iPSC_EC\"\n",
    "path_slurm_script = os.path.join(path_slurm_out, \"evaluation_pipelines.sh\")\n",
    "with open(path_slurm_script, 'w') as f:\n",
    "    f.write(script_content)"
   ]
  },
  {
   "cell_type": "markdown",
   "metadata": {},
   "source": [
    "# DONE!"
   ]
  },
  {
   "cell_type": "markdown",
   "metadata": {},
   "source": [
    "---"
   ]
  }
 ],
 "metadata": {
  "kernelspec": {
   "display_name": "Python 3.7 get_data",
   "language": "python",
   "name": "get_data"
  },
  "language_info": {
   "codemirror_mode": {
    "name": "ipython",
    "version": 3
   },
   "file_extension": ".py",
   "mimetype": "text/x-python",
   "name": "python",
   "nbconvert_exporter": "python",
   "pygments_lexer": "ipython3",
   "version": "3.7.12"
  }
 },
 "nbformat": 4,
 "nbformat_minor": 2
}
