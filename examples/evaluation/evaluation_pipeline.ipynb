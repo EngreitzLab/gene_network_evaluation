{
 "cells": [
  {
   "cell_type": "markdown",
   "metadata": {},
   "source": [
    "# Set-up"
   ]
  },
  {
   "cell_type": "code",
   "execution_count": 1,
   "metadata": {},
   "outputs": [
    {
     "name": "stdout",
     "output_type": "stream",
     "text": [
      "The history saving thread hit an unexpected error (DatabaseError('database disk image is malformed')).History will not be written to the database.\n"
     ]
    }
   ],
   "source": [
    "import os\n",
    "import sys\n",
    "import yaml\n",
    "import logging\n",
    "import mudata\n",
    "import pandas as pd\n",
    "\n",
    "# Change path to wherever you have repo locally\n",
    "sys.path.append('/cellar/users/aklie/opt/gene_program_evaluation')\n",
    "\n",
    "from src.evaluation import (\n",
    "    compute_categorical_association,\n",
    "    compute_geneset_enrichment,\n",
    "    compute_trait_enrichment,\n",
    "    compute_perturbation_association,\n",
    "    compute_explained_variance_ratio,\n",
    "    compute_motif_enrichment\n",
    ")\n",
    "from src.evaluation.enrichment_trait import process_enrichment_data"
   ]
  },
  {
   "cell_type": "code",
   "execution_count": 2,
   "metadata": {},
   "outputs": [],
   "source": [
    "# I/O paths\n",
    "path_config = \"/cellar/users/aklie/opt/gene_program_evaluation/examples/evaluation/iPSC_EC/evaluation_pipeline.yml\"\n",
    "config = yaml.safe_load(open(path_config))"
   ]
  },
  {
   "cell_type": "markdown",
   "metadata": {},
   "source": [
    "## I/O"
   ]
  },
  {
   "cell_type": "code",
   "execution_count": 3,
   "metadata": {},
   "outputs": [
    {
     "data": {
      "text/plain": [
       "{'path_mdata': '/cellar/users/aklie/opt/gene_program_evaluation/examples/inference/iPSC_EC/cNMF/cNMF_30_0.2_gene_names.h5mu',\n",
       " 'path_out': '/cellar/users/aklie/opt/gene_program_evaluation/examples/evaluation/iPSC_EC/cNMF/cNMF_30',\n",
       " 'data_key': 'rna',\n",
       " 'prog_key': 'cNMF'}"
      ]
     },
     "execution_count": 3,
     "metadata": {},
     "output_type": "execute_result"
    }
   ],
   "source": [
    "io_config = config['io']\n",
    "io_config"
   ]
  },
  {
   "cell_type": "code",
   "execution_count": 4,
   "metadata": {},
   "outputs": [
    {
     "name": "stderr",
     "output_type": "stream",
     "text": [
      "/cellar/users/aklie/opt/miniconda3/envs/test_celloracle/lib/python3.10/site-packages/anndata/_core/anndata.py:522: FutureWarning: The dtype argument is deprecated and will be removed in late 2024.\n",
      "  warnings.warn(\n",
      "/cellar/users/aklie/opt/miniconda3/envs/test_celloracle/lib/python3.10/site-packages/anndata/_core/anndata.py:522: FutureWarning: The dtype argument is deprecated and will be removed in late 2024.\n",
      "  warnings.warn(\n",
      "/cellar/users/aklie/opt/miniconda3/envs/test_celloracle/lib/python3.10/site-packages/anndata/_core/anndata.py:1899: UserWarning: Variable names are not unique. To make them unique, call `.var_names_make_unique`.\n",
      "  utils.warn_names_duplicates(\"var\")\n",
      "/cellar/users/aklie/opt/miniconda3/envs/test_celloracle/lib/python3.10/site-packages/mudata/_core/mudata.py:479: UserWarning: var_names are not unique. To make them unique, call `.var_names_make_unique`.\n",
      "  warnings.warn(\n"
     ]
    },
    {
     "data": {
      "text/html": [
       "<pre>MuData object with n_obs × n_vars = 92284 × 5481\n",
       "  2 modalities\n",
       "    rna:\t92284 x 5451\n",
       "      obs:\t&#x27;sample&#x27;, &#x27;species&#x27;, &#x27;gene_count&#x27;, &#x27;tscp_count&#x27;, &#x27;mread_count&#x27;, &#x27;leiden&#x27;, &#x27;n_counts&#x27;\n",
       "      uns:\t&#x27;guide_names&#x27;, &#x27;guide_targets&#x27;\n",
       "      obsm:\t&#x27;X_pca&#x27;, &#x27;X_umap&#x27;, &#x27;guide_assignment&#x27;\n",
       "      layers:\t&#x27;norm10k&#x27;\n",
       "    cNMF:\t92284 x 30\n",
       "      obs:\t&#x27;sample&#x27;, &#x27;species&#x27;, &#x27;gene_count&#x27;, &#x27;tscp_count&#x27;, &#x27;mread_count&#x27;, &#x27;leiden&#x27;, &#x27;n_counts&#x27;\n",
       "      uns:\t&#x27;guide_names&#x27;, &#x27;guide_targets&#x27;, &#x27;var_names&#x27;\n",
       "      obsm:\t&#x27;guide_assignment&#x27;\n",
       "      varm:\t&#x27;loadings&#x27;</pre>"
      ],
      "text/plain": [
       "MuData object with n_obs × n_vars = 92284 × 5481\n",
       "  2 modalities\n",
       "    rna:\t92284 x 5451\n",
       "      obs:\t'sample', 'species', 'gene_count', 'tscp_count', 'mread_count', 'leiden', 'n_counts'\n",
       "      uns:\t'guide_names', 'guide_targets'\n",
       "      obsm:\t'X_pca', 'X_umap', 'guide_assignment'\n",
       "      layers:\t'norm10k'\n",
       "    cNMF:\t92284 x 30\n",
       "      obs:\t'sample', 'species', 'gene_count', 'tscp_count', 'mread_count', 'leiden', 'n_counts'\n",
       "      uns:\t'guide_names', 'guide_targets', 'var_names'\n",
       "      obsm:\t'guide_assignment'\n",
       "      varm:\t'loadings'"
      ]
     },
     "execution_count": 4,
     "metadata": {},
     "output_type": "execute_result"
    }
   ],
   "source": [
    "# Load mdata\n",
    "path_mdata = io_config['path_mdata']\n",
    "mdata = mudata.read(path_mdata)\n",
    "mdata"
   ]
  },
  {
   "cell_type": "code",
   "execution_count": 5,
   "metadata": {},
   "outputs": [],
   "source": [
    "# Make path_out directory\n",
    "path_out = io_config['path_out']\n",
    "if not os.path.exists(path_out):\n",
    "    os.makedirs(path_out)"
   ]
  },
  {
   "cell_type": "code",
   "execution_count": 6,
   "metadata": {},
   "outputs": [
    {
     "name": "stderr",
     "output_type": "stream",
     "text": [
      "/cellar/users/aklie/opt/miniconda3/envs/test_celloracle/lib/python3.10/site-packages/mudata/_core/mudata.py:479: UserWarning: var_names are not unique. To make them unique, call `.var_names_make_unique`.\n",
      "  warnings.warn(\n"
     ]
    },
    {
     "name": "stderr",
     "output_type": "stream",
     "text": [
      "/cellar/users/aklie/opt/miniconda3/envs/test_celloracle/lib/python3.10/site-packages/mudata/_core/mudata.py:479: UserWarning: var_names are not unique. To make them unique, call `.var_names_make_unique`.\n",
      "  warnings.warn(\n"
     ]
    }
   ],
   "source": [
    "# Update cNMF key to cNMF_30 and save\n",
    "old_prog_key = io_config['prog_key']\n",
    "prog_key = os.path.basename(path_out)\n",
    "mdata.mod[prog_key] = mdata.mod.pop(old_prog_key)\n",
    "mdata.update()\n",
    "mdata.write(os.path.join(path_out, f'{prog_key}.h5mu'))"
   ]
  },
  {
   "cell_type": "code",
   "execution_count": 7,
   "metadata": {},
   "outputs": [
    {
     "data": {
      "text/plain": [
       "'rna'"
      ]
     },
     "execution_count": 7,
     "metadata": {},
     "output_type": "execute_result"
    }
   ],
   "source": [
    "# Get data key\n",
    "data_key= io_config['data_key']\n",
    "data_key"
   ]
  },
  {
   "cell_type": "markdown",
   "metadata": {},
   "source": [
    "## Run categorical association"
   ]
  },
  {
   "cell_type": "code",
   "execution_count": 8,
   "metadata": {},
   "outputs": [
    {
     "name": "stderr",
     "output_type": "stream",
     "text": [
      "INFO:root:Performing tests at single-cell level. Significance will likely be inflated\n"
     ]
    },
    {
     "data": {
      "application/vnd.jupyter.widget-view+json": {
       "model_id": "e07effc8210e482fa1ffe2ff99a6f095",
       "version_major": 2,
       "version_minor": 0
      },
      "text/plain": [
       "Testing sample association:   0%|          | 0/30 [00:00<?, ?programs/s]"
      ]
     },
     "metadata": {},
     "output_type": "display_data"
    },
    {
     "name": "stderr",
     "output_type": "stream",
     "text": [
      "/cellar/users/aklie/opt/miniconda3/envs/test_celloracle/lib/python3.10/site-packages/anndata/_core/anndata.py:1179: SettingWithCopyWarning: \n",
      "A value is trying to be set on a copy of a slice from a DataFrame.\n",
      "Try using .loc[row_indexer,col_indexer] = value instead\n",
      "\n",
      "See the caveats in the documentation: https://pandas.pydata.org/pandas-docs/stable/user_guide/indexing.html#returning-a-view-versus-a-copy\n",
      "  df_sub[k] = df_sub[k].cat.remove_unused_categories()\n",
      "INFO:root:Running jamboree specific version of posthoc with pearsonr, this is not yet integrated into the main pipeline\n"
     ]
    },
    {
     "data": {
      "application/vnd.jupyter.widget-view+json": {
       "model_id": "f28341f4b28e4ddea2d4193de686216a",
       "version_major": 2,
       "version_minor": 0
      },
      "text/plain": [
       "Identifying differential sample:   0%|          | 0/30 [00:00<?, ?programs/s]"
      ]
     },
     "metadata": {},
     "output_type": "display_data"
    }
   ],
   "source": [
    "# Run categorical association and save results\n",
    "categorical_assocation_config = config['categorical_association']\n",
    "categorical_keys = categorical_assocation_config['categorical_keys']\n",
    "for key in categorical_keys:\n",
    "    results_df, posthoc_df = compute_categorical_association(\n",
    "        mdata, \n",
    "        prog_key=prog_key,\n",
    "        categorical_key=key,\n",
    "        **categorical_assocation_config,\n",
    "    )\n",
    "    results_df.to_csv(os.path.join(path_out, f'{prog_key}_{key}_association_results.txt'), sep='\\t', index=False) \n",
    "    posthoc_df.to_csv(os.path.join(path_out, f'{prog_key}_{key}_association_posthoc.txt'), sep='\\t', index=False)"
   ]
  },
  {
   "cell_type": "markdown",
   "metadata": {},
   "source": [
    "## Run perturbation association"
   ]
  },
  {
   "cell_type": "code",
   "execution_count": 9,
   "metadata": {},
   "outputs": [
    {
     "data": {
      "text/plain": [
       "{'groupby_key': 'sample',\n",
       " 'collapse_targets': True,\n",
       " 'pseudobulk': False,\n",
       " 'reference_targets': ['non-targeting'],\n",
       " 'n_jobs': -1,\n",
       " 'inplace': False}"
      ]
     },
     "execution_count": 9,
     "metadata": {},
     "output_type": "execute_result"
    }
   ],
   "source": [
    "perturbation_assocation_config = config['perturbation_association']\n",
    "perturbation_assocation_config"
   ]
  },
  {
   "cell_type": "code",
   "execution_count": 10,
   "metadata": {},
   "outputs": [
    {
     "name": "stderr",
     "output_type": "stream",
     "text": [
      "INFO:root:groupby_key provided, running perturbation association on each group\n",
      "/cellar/users/aklie/opt/miniconda3/envs/test_celloracle/lib/python3.10/site-packages/anndata/_core/anndata.py:1899: UserWarning: Variable names are not unique. To make them unique, call `.var_names_make_unique`.\n",
      "  utils.warn_names_duplicates(\"var\")\n",
      "/cellar/users/aklie/opt/miniconda3/envs/test_celloracle/lib/python3.10/site-packages/mudata/_core/mudata.py:479: UserWarning: var_names are not unique. To make them unique, call `.var_names_make_unique`.\n",
      "  warnings.warn(\n"
     ]
    },
    {
     "data": {
      "application/vnd.jupyter.widget-view+json": {
       "model_id": "0134cad0ceca450c88f3ece3703ecea5",
       "version_major": 2,
       "version_minor": 0
      },
      "text/plain": [
       "Testing perturbation association:   0%|          | 0/298 [00:00<?, ?targets/s]"
      ]
     },
     "metadata": {},
     "output_type": "display_data"
    },
    {
     "name": "stderr",
     "output_type": "stream",
     "text": [
      "/cellar/users/aklie/opt/miniconda3/envs/test_celloracle/lib/python3.10/site-packages/anndata/_core/anndata.py:1899: UserWarning: Variable names are not unique. To make them unique, call `.var_names_make_unique`.\n",
      "  utils.warn_names_duplicates(\"var\")\n",
      "/cellar/users/aklie/opt/miniconda3/envs/test_celloracle/lib/python3.10/site-packages/mudata/_core/mudata.py:479: UserWarning: var_names are not unique. To make them unique, call `.var_names_make_unique`.\n",
      "  warnings.warn(\n"
     ]
    },
    {
     "data": {
      "application/vnd.jupyter.widget-view+json": {
       "model_id": "007479acb7ae47c8b7b56f35fa2c21ee",
       "version_major": 2,
       "version_minor": 0
      },
      "text/plain": [
       "Testing perturbation association:   0%|          | 0/298 [00:00<?, ?targets/s]"
      ]
     },
     "metadata": {},
     "output_type": "display_data"
    },
    {
     "name": "stderr",
     "output_type": "stream",
     "text": [
      "/cellar/users/aklie/opt/miniconda3/envs/test_celloracle/lib/python3.10/site-packages/anndata/_core/anndata.py:1899: UserWarning: Variable names are not unique. To make them unique, call `.var_names_make_unique`.\n",
      "  utils.warn_names_duplicates(\"var\")\n",
      "/cellar/users/aklie/opt/miniconda3/envs/test_celloracle/lib/python3.10/site-packages/mudata/_core/mudata.py:479: UserWarning: var_names are not unique. To make them unique, call `.var_names_make_unique`.\n",
      "  warnings.warn(\n"
     ]
    },
    {
     "data": {
      "application/vnd.jupyter.widget-view+json": {
       "model_id": "30421f3a24d74afca95253faac916501",
       "version_major": 2,
       "version_minor": 0
      },
      "text/plain": [
       "Testing perturbation association:   0%|          | 0/298 [00:00<?, ?targets/s]"
      ]
     },
     "metadata": {},
     "output_type": "display_data"
    },
    {
     "name": "stderr",
     "output_type": "stream",
     "text": [
      "/cellar/users/aklie/opt/miniconda3/envs/test_celloracle/lib/python3.10/site-packages/anndata/_core/anndata.py:1899: UserWarning: Variable names are not unique. To make them unique, call `.var_names_make_unique`.\n",
      "  utils.warn_names_duplicates(\"var\")\n",
      "/cellar/users/aklie/opt/miniconda3/envs/test_celloracle/lib/python3.10/site-packages/mudata/_core/mudata.py:479: UserWarning: var_names are not unique. To make them unique, call `.var_names_make_unique`.\n",
      "  warnings.warn(\n"
     ]
    },
    {
     "data": {
      "application/vnd.jupyter.widget-view+json": {
       "model_id": "d2494a8e9e544dbd9a72fd5c0ba42c9d",
       "version_major": 2,
       "version_minor": 0
      },
      "text/plain": [
       "Testing perturbation association:   0%|          | 0/298 [00:00<?, ?targets/s]"
      ]
     },
     "metadata": {},
     "output_type": "display_data"
    }
   ],
   "source": [
    "# Run perturbation association\n",
    "target_type = \"gene\" if perturbation_assocation_config[\"collapse_targets\"] else \"guide\"\n",
    "if perturbation_assocation_config[\"groupby_key\"] is not None:\n",
    "    logging.info(\"groupby_key provided, running perturbation association on each group\")\n",
    "    groupby_key = perturbation_assocation_config.pop(\"groupby_key\")\n",
    "    data_key = io_config[\"data_key\"]\n",
    "    perturbation_assocation_df = pd.DataFrame()\n",
    "    for group in mdata[data_key].obs[groupby_key].unique():\n",
    "        mdata_ = mdata[mdata[data_key].obs[groupby_key] == group]\n",
    "        test_stats_df = compute_perturbation_association(\n",
    "            mdata_, \n",
    "            prog_key=prog_key,\n",
    "            data_key=data_key,\n",
    "            **perturbation_assocation_config,\n",
    "        )\n",
    "        test_stats_df.to_csv(os.path.join(path_out, f'{prog_key}_{target_type}_{groupby_key}_{group}_perturbation_association.txt'), sep='\\t', index=False)\n",
    "else:\n",
    "    logging.info(\"No groupby_key provided, running perturbation association on full dataset\")\n",
    "    perturbation_assocation_config.pop(\"groupby_key\")\n",
    "    perturbation_assocation_df = compute_perturbation_association(\n",
    "        mdata, \n",
    "        prog_key=prog_key,\n",
    "        data_key=data_key,\n",
    "        **perturbation_assocation_config,\n",
    "    )\n",
    "    perturbation_assocation_df.to_csv(os.path.join(path_out, f'{prog_key}_{target_type}_perturbation_association.txt'), sep='\\t', index=False)"
   ]
  },
  {
   "cell_type": "markdown",
   "metadata": {},
   "source": [
    "## Run gene set enrichment analysis"
   ]
  },
  {
   "cell_type": "code",
   "execution_count": 11,
   "metadata": {},
   "outputs": [
    {
     "name": "stderr",
     "output_type": "stream",
     "text": [
      "INFO:root:Running gene-set enrichment analysis for Reactome_2022\n",
      "INFO:root:Downloading and generating Enrichr library gene sets...\n",
      "INFO:root:Library is already downloaded in: /cellar/users/aklie/.cache/gseapy/Enrichr.Reactome_2022.gmt, use local file\n",
      "INFO:root:0031 gene_sets have been filtered out when max_size=500 and min_size=5\n"
     ]
    },
    {
     "data": {
      "application/vnd.jupyter.widget-view+json": {
       "model_id": "30d92109ce2e4f278946783856f3b2c9",
       "version_major": 2,
       "version_minor": 0
      },
      "text/plain": [
       "Running Fisher enrichment:   0%|          | 0/30 [00:00<?, ?programs/s]"
      ]
     },
     "metadata": {},
     "output_type": "display_data"
    },
    {
     "name": "stderr",
     "output_type": "stream",
     "text": [
      "INFO:root:Running gene-set enrichment analysis for GO_Biological_Process_2023\n",
      "INFO:root:Downloading and generating Enrichr library gene sets...\n",
      "INFO:root:Library is already downloaded in: /cellar/users/aklie/.cache/gseapy/Enrichr.GO_Biological_Process_2023.gmt, use local file\n",
      "INFO:root:0014 gene_sets have been filtered out when max_size=500 and min_size=5\n"
     ]
    },
    {
     "data": {
      "application/vnd.jupyter.widget-view+json": {
       "model_id": "67cd9cff55fb48a383c404519cfde9b4",
       "version_major": 2,
       "version_minor": 0
      },
      "text/plain": [
       "Running Fisher enrichment:   0%|          | 0/30 [00:00<?, ?programs/s]"
      ]
     },
     "metadata": {},
     "output_type": "display_data"
    }
   ],
   "source": [
    "# Gene-set enrichment\n",
    "gene_set_enrichment_config = config['gene_set_enrichment']\n",
    "libraries = gene_set_enrichment_config.pop('libraries')\n",
    "gene_set_enrichment_df = pd.DataFrame()\n",
    "data_key = io_config['data_key']\n",
    "for library in libraries:\n",
    "    logging.info(f'Running gene-set enrichment analysis for {library}')\n",
    "    pre_res = compute_geneset_enrichment(\n",
    "        mdata, \n",
    "        prog_key=prog_key,\n",
    "        data_key=data_key,\n",
    "        library=library,\n",
    "        **gene_set_enrichment_config,\n",
    "    )\n",
    "\n",
    "    if gene_set_enrichment_config[\"method\"] == \"fisher\":\n",
    "        pre_res = pre_res.rename(columns={\"Term\": \"term\", \"P-value\": \"pval\", \"Adjusted P-value\": \"adj_pval\", \"Odds Ratio\": \"enrichment\", \"Genes\": \"genes\"})\n",
    "    elif gene_set_enrichment_config[\"method\"] == \"gsea\":\n",
    "        pre_res = pre_res.rename(columns={\"Term\": \"term\", \"NOM p-val\": \"pval\", \"FDR q-val\": \"adj_pval\", \"NES\": \"enrichment\", \"Lead_genes\": \"genes\"})\n",
    "    \n",
    "    # Save results\n",
    "    pre_res.to_csv(os.path.join(path_out, f'{prog_key}_{library}_{gene_set_enrichment_config[\"method\"]}_geneset_enrichment.txt'), sep='\\t', index=False)"
   ]
  },
  {
   "cell_type": "markdown",
   "metadata": {},
   "source": [
    "## Run trait enrichment analysis"
   ]
  },
  {
   "cell_type": "code",
   "execution_count": 12,
   "metadata": {},
   "outputs": [
    {
     "data": {
      "application/vnd.jupyter.widget-view+json": {
       "model_id": "0b9c93731ea648bbaa0d9d0dce925d5f",
       "version_major": 2,
       "version_minor": 0
      },
      "text/plain": [
       "Running Fisher enrichment:   0%|          | 0/30 [00:00<?, ?programs/s]"
      ]
     },
     "metadata": {},
     "output_type": "display_data"
    }
   ],
   "source": [
    "# Run trait enrichment, process and save results\n",
    "trait_enrichment_config = config['trait_enrichment']\n",
    "pre_res_trait = compute_trait_enrichment(\n",
    "    mdata, \n",
    "    prog_key=prog_key,\n",
    "    data_key=data_key,\n",
    "    gwas_data=trait_enrichment_config['gwas_data'],\n",
    "    prog_nam=trait_enrichment_config['prog_nam'],\n",
    "    library=trait_enrichment_config['library'],\n",
    "    n_jobs=trait_enrichment_config['n_jobs'],\n",
    "    inplace=trait_enrichment_config['inplace'],\n",
    "    key_column=trait_enrichment_config['key_column'],\n",
    "    gene_column=trait_enrichment_config['gene_column'],\n",
    "    method=trait_enrichment_config['method'],\n",
    "    loading_rank_thresh=trait_enrichment_config['loading_rank_thresh'],\n",
    ")\n",
    "if trait_enrichment_config[\"method\"] == \"fisher\":\n",
    "    pre_res_trait = pre_res_trait.rename(columns={\"Term\": \"term\", \"P-value\": \"pval\", \"Adjusted P-value\": \"adj_pval\", \"Odds Ratio\": \"enrichment\", \"Genes\": \"genes\"})\n",
    "elif trait_enrichment_config[\"method\"] == \"gsea\":\n",
    "    pre_res_trait = pre_res_trait.rename(columns={\"Term\": \"term\", \"NOM p-val\": \"pval\", \"FDR q-val\": \"adj_pval\", \"NES\": \"enrichment\", \"Lead_genes\": \"genes\"})\n",
    "data = process_enrichment_data(\n",
    "    enrich_res=pre_res_trait,\n",
    "    metadata=trait_enrichment_config['metadata'],\n",
    "    pval_col=trait_enrichment_config[\"pval_col\"],\n",
    "    enrich_geneset_id_col=trait_enrichment_config[\"enrich_geneset_id_col\"],\n",
    "    metadata_geneset_id_col=trait_enrichment_config[\"metadata_geneset_id_col\"],\n",
    "    color_category_col=trait_enrichment_config[\"color_category_col\"],\n",
    "    program_name_col=trait_enrichment_config[\"program_name_col\"],\n",
    "    annotation_cols=trait_enrichment_config[\"annotation_cols\"],\n",
    ")\n",
    "data.to_csv(os.path.join(path_out, f\"{prog_key}_{trait_enrichment_config['library']}_{trait_enrichment_config['method']}_trait_enrichment.txt\"), sep='\\t', index=False)"
   ]
  },
  {
   "cell_type": "markdown",
   "metadata": {},
   "source": [
    "## Run motif enrichment analysis"
   ]
  },
  {
   "cell_type": "code",
   "execution_count": 13,
   "metadata": {},
   "outputs": [
    {
     "data": {
      "text/plain": [
       "{'motif_file': '/cellar/users/aklie/opt/gene_program_evaluation/src/tests/test_data/motifs.meme',\n",
       " 'seq_file': '/cellar/users/aklie/data/ref/genomes/hg38/hg38.fa',\n",
       " 'loci_files': ['/cellar/users/aklie/opt/gene_program_evaluation/examples/datasets/iPSC_EC/EnhancerPredictions_D0_2024_09_07.txt',\n",
       "  '/cellar/users/aklie/opt/gene_program_evaluation/examples/datasets/iPSC_EC/EnhancerPredictions_sample_D1_2024_09_07.txt',\n",
       "  '/cellar/users/aklie/opt/gene_program_evaluation/examples/datasets/iPSC_EC/EnhancerPredictions_sample_D2_2024_09_07.txt',\n",
       "  '/cellar/users/aklie/opt/gene_program_evaluation/examples/datasets/iPSC_EC/EnhancerPredictions_sample_D3_2024_09_07.txt'],\n",
       " 'names': ['D0', 'sample_D1', 'sample_D2', 'sample_D3'],\n",
       " 'output_loc': None,\n",
       " 'window': 1000,\n",
       " 'threshold': 0.001,\n",
       " 'eps': 0.001,\n",
       " 'reverse_complement': True,\n",
       " 'sig': 0.05,\n",
       " 'num_genes': None,\n",
       " 'correlation': 'pearsonr',\n",
       " 'n_jobs': -1,\n",
       " 'inplace': False}"
      ]
     },
     "execution_count": 13,
     "metadata": {},
     "output_type": "execute_result"
    }
   ],
   "source": [
    "motif_enrichment_config = config['motif_enrichment']\n",
    "motif_enrichment_config"
   ]
  },
  {
   "cell_type": "code",
   "execution_count": 14,
   "metadata": {},
   "outputs": [
    {
     "name": "stderr",
     "output_type": "stream",
     "text": [
      "INFO:root:Running motif enrichment analysis for /cellar/users/aklie/opt/gene_program_evaluation/examples/datasets/iPSC_EC/EnhancerPredictions_D0_2024_09_07.txt\n"
     ]
    },
    {
     "name": "stderr",
     "output_type": "stream",
     "text": [
      "/cellar/users/aklie/opt/miniconda3/envs/test_celloracle/lib/python3.10/site-packages/anndata/_core/anndata.py:1899: UserWarning: Variable names are not unique. To make them unique, call `.var_names_make_unique`.\n",
      "  utils.warn_names_duplicates(\"var\")\n",
      "/cellar/users/aklie/opt/miniconda3/envs/test_celloracle/lib/python3.10/site-packages/mudata/_core/mudata.py:479: UserWarning: var_names are not unique. To make them unique, call `.var_names_make_unique`.\n",
      "  warnings.warn(\n"
     ]
    },
    {
     "name": "stdout",
     "output_type": "stream",
     "text": [
      "Number of matching genes: 4420\n",
      "Number of loci: 15692\n",
      "There are 54366 significant motif matches.\n"
     ]
    },
    {
     "data": {
      "application/vnd.jupyter.widget-view+json": {
       "model_id": "b8b9a59d4ed14de196617190ec76f810",
       "version_major": 2,
       "version_minor": 0
      },
      "text/plain": [
       "Computing motif enrichment:   0%|          | 0/8 [00:00<?, ?motifs/s]"
      ]
     },
     "metadata": {},
     "output_type": "display_data"
    },
    {
     "name": "stderr",
     "output_type": "stream",
     "text": [
      "INFO:root:Running motif enrichment analysis for /cellar/users/aklie/opt/gene_program_evaluation/examples/datasets/iPSC_EC/EnhancerPredictions_sample_D1_2024_09_07.txt\n",
      "/cellar/users/aklie/opt/miniconda3/envs/test_celloracle/lib/python3.10/site-packages/anndata/_core/anndata.py:1899: UserWarning: Variable names are not unique. To make them unique, call `.var_names_make_unique`.\n",
      "  utils.warn_names_duplicates(\"var\")\n",
      "/cellar/users/aklie/opt/miniconda3/envs/test_celloracle/lib/python3.10/site-packages/mudata/_core/mudata.py:479: UserWarning: var_names are not unique. To make them unique, call `.var_names_make_unique`.\n",
      "  warnings.warn(\n"
     ]
    },
    {
     "name": "stdout",
     "output_type": "stream",
     "text": [
      "Number of matching genes: 4420\n",
      "Number of loci: 15997\n",
      "There are 49357 significant motif matches.\n"
     ]
    },
    {
     "data": {
      "application/vnd.jupyter.widget-view+json": {
       "model_id": "903f85bbc78b49eeb332e7ba4a71c28f",
       "version_major": 2,
       "version_minor": 0
      },
      "text/plain": [
       "Computing motif enrichment:   0%|          | 0/8 [00:00<?, ?motifs/s]"
      ]
     },
     "metadata": {},
     "output_type": "display_data"
    },
    {
     "name": "stderr",
     "output_type": "stream",
     "text": [
      "INFO:root:Running motif enrichment analysis for /cellar/users/aklie/opt/gene_program_evaluation/examples/datasets/iPSC_EC/EnhancerPredictions_sample_D2_2024_09_07.txt\n",
      "/cellar/users/aklie/opt/miniconda3/envs/test_celloracle/lib/python3.10/site-packages/anndata/_core/anndata.py:1899: UserWarning: Variable names are not unique. To make them unique, call `.var_names_make_unique`.\n",
      "  utils.warn_names_duplicates(\"var\")\n",
      "/cellar/users/aklie/opt/miniconda3/envs/test_celloracle/lib/python3.10/site-packages/mudata/_core/mudata.py:479: UserWarning: var_names are not unique. To make them unique, call `.var_names_make_unique`.\n",
      "  warnings.warn(\n"
     ]
    },
    {
     "name": "stdout",
     "output_type": "stream",
     "text": [
      "Number of matching genes: 4420\n",
      "Number of loci: 16164\n",
      "There are 53283 significant motif matches.\n"
     ]
    },
    {
     "data": {
      "application/vnd.jupyter.widget-view+json": {
       "model_id": "4e3ab1673c2d4f35bdfdda030fd88d71",
       "version_major": 2,
       "version_minor": 0
      },
      "text/plain": [
       "Computing motif enrichment:   0%|          | 0/8 [00:00<?, ?motifs/s]"
      ]
     },
     "metadata": {},
     "output_type": "display_data"
    },
    {
     "name": "stderr",
     "output_type": "stream",
     "text": [
      "INFO:root:Running motif enrichment analysis for /cellar/users/aklie/opt/gene_program_evaluation/examples/datasets/iPSC_EC/EnhancerPredictions_sample_D3_2024_09_07.txt\n",
      "/cellar/users/aklie/opt/miniconda3/envs/test_celloracle/lib/python3.10/site-packages/anndata/_core/anndata.py:1899: UserWarning: Variable names are not unique. To make them unique, call `.var_names_make_unique`.\n",
      "  utils.warn_names_duplicates(\"var\")\n",
      "/cellar/users/aklie/opt/miniconda3/envs/test_celloracle/lib/python3.10/site-packages/mudata/_core/mudata.py:479: UserWarning: var_names are not unique. To make them unique, call `.var_names_make_unique`.\n",
      "  warnings.warn(\n"
     ]
    },
    {
     "name": "stdout",
     "output_type": "stream",
     "text": [
      "Number of matching genes: 4420\n",
      "Number of loci: 16263\n",
      "There are 50764 significant motif matches.\n"
     ]
    },
    {
     "data": {
      "application/vnd.jupyter.widget-view+json": {
       "model_id": "528d9e8d7219482a942345f842d2a9de",
       "version_major": 2,
       "version_minor": 0
      },
      "text/plain": [
       "Computing motif enrichment:   0%|          | 0/8 [00:00<?, ?motifs/s]"
      ]
     },
     "metadata": {},
     "output_type": "display_data"
    }
   ],
   "source": [
    "# Run motif enrichment and save results\n",
    "loci_files = motif_enrichment_config['loci_files']\n",
    "names = motif_enrichment_config['names']\n",
    "for loci_file, name in zip(loci_files, names):\n",
    "    logging.info(f'Running motif enrichment analysis for {loci_file}')\n",
    "    motif_match_df, motif_count_df, motif_enrichment_df = compute_motif_enrichment(\n",
    "        mdata, \n",
    "        prog_key=prog_key,\n",
    "        data_key=data_key,\n",
    "        loci_file=loci_file,\n",
    "        **motif_enrichment_config,\n",
    "    )\n",
    "    motif_match_df.to_csv(os.path.join(path_out, f'{prog_key}_enhancer_test_{motif_enrichment_config[\"correlation\"]}_sample_{name}_motif_match.txt'), sep='\\t', index=False)\n",
    "    motif_count_df.to_csv(os.path.join(path_out, f'{prog_key}_enhancer_test_{motif_enrichment_config[\"correlation\"]}_sample_{name}_motif_count.txt'), sep='\\t', index=False)\n",
    "    motif_enrichment_df.to_csv(os.path.join(path_out, f'{prog_key}_enhancer_test_{motif_enrichment_config[\"correlation\"]}_sample_{name}_motif_enrichment.txt'), sep='\\t', index=False)"
   ]
  },
  {
   "cell_type": "markdown",
   "metadata": {},
   "source": [
    "## Run explained variance"
   ]
  },
  {
   "cell_type": "code",
   "execution_count": 15,
   "metadata": {},
   "outputs": [
    {
     "name": "stderr",
     "output_type": "stream",
     "text": [
      "/cellar/users/aklie/opt/miniconda3/envs/test_celloracle/lib/python3.10/site-packages/anndata/_core/anndata.py:1899: UserWarning: Variable names are not unique. To make them unique, call `.var_names_make_unique`.\n",
      "  utils.warn_names_duplicates(\"var\")\n",
      "/cellar/users/aklie/opt/miniconda3/envs/test_celloracle/lib/python3.10/site-packages/mudata/_core/mudata.py:479: UserWarning: var_names are not unique. To make them unique, call `.var_names_make_unique`.\n",
      "  warnings.warn(\n"
     ]
    },
    {
     "data": {
      "application/vnd.jupyter.widget-view+json": {
       "model_id": "7850b62bbc6749d88cad01bb7b832696",
       "version_major": 2,
       "version_minor": 0
      },
      "text/plain": [
       "Computing explained variance:   0%|          | 0/30 [00:00<?, ?programs/s]"
      ]
     },
     "metadata": {},
     "output_type": "display_data"
    }
   ],
   "source": [
    "# Run explained variance\n",
    "explained_variance_config = config['explained_variance']\n",
    "explained_variance_ratio = compute_explained_variance_ratio(\n",
    "    mdata, \n",
    "    prog_key=prog_key,\n",
    "    data_key=data_key,\n",
    "    **explained_variance_config,\n",
    ")\n",
    "explained_variance_ratio.index = mdata.mod[prog_key].var.index\n",
    "explained_variance_ratio.index.name = 'program_name'\n",
    "explained_variance_ratio.columns = [\"variance_explained_ratio\"]\n",
    "explained_variance_ratio.to_csv(os.path.join(path_out, f'{prog_key}_variance_explained_ratio.txt'), sep='\\t', index=True)"
   ]
  },
  {
   "cell_type": "markdown",
   "metadata": {},
   "source": [
    "## Software versions"
   ]
  },
  {
   "cell_type": "code",
   "execution_count": 17,
   "metadata": {},
   "outputs": [],
   "source": [
    "# Save software versions\n",
    "import joblib\n",
    "import numpy as np\n",
    "import scipy\n",
    "import sklearn\n",
    "import statsmodels\n",
    "import scikit_posthocs as posthocs\n",
    "import gseapy\n",
    "import tangermeme\n",
    "\n",
    "versions = {\n",
    "    \"evaluation_pipeline_versions\": {\n",
    "        'gene_program_evaluation': '0.0.1',\n",
    "        'numpy': np.__version__,\n",
    "        'pandas': pd.__version__,\n",
    "        'mudata': mudata.__version__,\n",
    "        'scipy': scipy.__version__,\n",
    "        'scikit-learn': sklearn.__version__,\n",
    "        'scikit-posthocs': posthocs.__version__,\n",
    "        'statsmodels': statsmodels.__version__,\n",
    "        'gseapy': gseapy.__version__,  # gene set enrichment analysis\n",
    "        'tangermeme': tangermeme.__version__,  # motif enrichment analysis\n",
    "    }\n",
    "}\n",
    "\n",
    "with open(os.path.join(path_out, 'software_versions.yml'), 'w') as f:\n",
    "    yaml.dump(versions, f)"
   ]
  },
  {
   "cell_type": "markdown",
   "metadata": {},
   "source": [
    "# DONE!"
   ]
  },
  {
   "cell_type": "markdown",
   "metadata": {},
   "source": [
    "---"
   ]
  }
 ],
 "metadata": {
  "kernelspec": {
   "display_name": "Python 3.10 test_celloracle",
   "language": "python",
   "name": "test_scenicplus-py310"
  },
  "language_info": {
   "codemirror_mode": {
    "name": "ipython",
    "version": 3
   },
   "file_extension": ".py",
   "mimetype": "text/x-python",
   "name": "python",
   "nbconvert_exporter": "python",
   "pygments_lexer": "ipython3",
   "version": "3.10.8"
  },
  "orig_nbformat": 4
 },
 "nbformat": 4,
 "nbformat_minor": 2
}
