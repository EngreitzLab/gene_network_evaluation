{
 "cells": [
  {
   "cell_type": "markdown",
   "metadata": {},
   "source": [
    "# Set-up"
   ]
  },
  {
   "cell_type": "code",
   "execution_count": 1,
   "metadata": {},
   "outputs": [
    {
     "name": "stdout",
     "output_type": "stream",
     "text": [
      "The history saving thread hit an unexpected error (DatabaseError('database disk image is malformed')).History will not be written to the database.\n"
     ]
    }
   ],
   "source": [
    "import os\n",
    "import sys\n",
    "import yaml\n",
    "import logging\n",
    "import mudata\n",
    "import pandas as pd\n",
    "\n",
    "# Change path to wherever you have repo locally\n",
    "sys.path.append('/cellar/users/aklie/opt/gene_program_evaluation')\n",
    "\n",
    "from src.evaluation import (\n",
    "    compute_categorical_association,\n",
    "    compute_geneset_enrichment,\n",
    "    compute_trait_enrichment,\n",
    "    compute_perturbation_association,\n",
    "    compute_explained_variance_ratio,\n",
    "    compute_motif_enrichment\n",
    ")\n",
    "from src.evaluation.enrichment_trait import process_enrichment_data"
   ]
  },
  {
   "cell_type": "code",
   "execution_count": 2,
   "metadata": {},
   "outputs": [],
   "source": [
    "# I/O paths\n",
    "path_config = \"/cellar/users/aklie/opt/gene_program_evaluation/examples/evaluation/iPSC_EC/evaluation_pipeline.yml\"\n",
    "config = yaml.safe_load(open(path_config))"
   ]
  },
  {
   "cell_type": "markdown",
   "metadata": {},
   "source": [
    "## I/O"
   ]
  },
  {
   "cell_type": "code",
   "execution_count": 3,
   "metadata": {},
   "outputs": [
    {
     "data": {
      "text/plain": [
       "{'path_mdata': '/cellar/users/aklie/opt/gene_program_evaluation/examples/inference/iPSC_EC/cNMF/cNMF_30_0.2_gene_names.h5mu',\n",
       " 'path_out': '/cellar/users/aklie/opt/gene_program_evaluation/examples/evaluation/iPSC_EC/cNMF/cNMF_30',\n",
       " 'data_key': 'rna',\n",
       " 'prog_key': 'cNMF'}"
      ]
     },
     "execution_count": 3,
     "metadata": {},
     "output_type": "execute_result"
    }
   ],
   "source": [
    "io_config = config['io']\n",
    "io_config"
   ]
  },
  {
   "cell_type": "code",
   "execution_count": 4,
   "metadata": {},
   "outputs": [
    {
     "name": "stderr",
     "output_type": "stream",
     "text": [
      "/cellar/users/aklie/opt/miniconda3/envs/test_celloracle/lib/python3.10/site-packages/anndata/_core/anndata.py:522: FutureWarning: The dtype argument is deprecated and will be removed in late 2024.\n",
      "  warnings.warn(\n",
      "/cellar/users/aklie/opt/miniconda3/envs/test_celloracle/lib/python3.10/site-packages/anndata/_core/anndata.py:522: FutureWarning: The dtype argument is deprecated and will be removed in late 2024.\n",
      "  warnings.warn(\n",
      "/cellar/users/aklie/opt/miniconda3/envs/test_celloracle/lib/python3.10/site-packages/anndata/_core/anndata.py:1899: UserWarning: Variable names are not unique. To make them unique, call `.var_names_make_unique`.\n",
      "  utils.warn_names_duplicates(\"var\")\n",
      "/cellar/users/aklie/opt/miniconda3/envs/test_celloracle/lib/python3.10/site-packages/mudata/_core/mudata.py:479: UserWarning: var_names are not unique. To make them unique, call `.var_names_make_unique`.\n",
      "  warnings.warn(\n"
     ]
    },
    {
     "data": {
      "text/html": [
       "<pre>MuData object with n_obs × n_vars = 92284 × 5481\n",
       "  2 modalities\n",
       "    rna:\t92284 x 5451\n",
       "      obs:\t&#x27;sample&#x27;, &#x27;species&#x27;, &#x27;gene_count&#x27;, &#x27;tscp_count&#x27;, &#x27;mread_count&#x27;, &#x27;leiden&#x27;, &#x27;n_counts&#x27;\n",
       "      uns:\t&#x27;guide_names&#x27;, &#x27;guide_targets&#x27;\n",
       "      obsm:\t&#x27;X_pca&#x27;, &#x27;X_umap&#x27;, &#x27;guide_assignment&#x27;\n",
       "      layers:\t&#x27;norm10k&#x27;\n",
       "    cNMF:\t92284 x 30\n",
       "      obs:\t&#x27;sample&#x27;, &#x27;species&#x27;, &#x27;gene_count&#x27;, &#x27;tscp_count&#x27;, &#x27;mread_count&#x27;, &#x27;leiden&#x27;, &#x27;n_counts&#x27;\n",
       "      uns:\t&#x27;guide_names&#x27;, &#x27;guide_targets&#x27;, &#x27;var_names&#x27;\n",
       "      obsm:\t&#x27;guide_assignment&#x27;\n",
       "      varm:\t&#x27;loadings&#x27;</pre>"
      ],
      "text/plain": [
       "MuData object with n_obs × n_vars = 92284 × 5481\n",
       "  2 modalities\n",
       "    rna:\t92284 x 5451\n",
       "      obs:\t'sample', 'species', 'gene_count', 'tscp_count', 'mread_count', 'leiden', 'n_counts'\n",
       "      uns:\t'guide_names', 'guide_targets'\n",
       "      obsm:\t'X_pca', 'X_umap', 'guide_assignment'\n",
       "      layers:\t'norm10k'\n",
       "    cNMF:\t92284 x 30\n",
       "      obs:\t'sample', 'species', 'gene_count', 'tscp_count', 'mread_count', 'leiden', 'n_counts'\n",
       "      uns:\t'guide_names', 'guide_targets', 'var_names'\n",
       "      obsm:\t'guide_assignment'\n",
       "      varm:\t'loadings'"
      ]
     },
     "execution_count": 4,
     "metadata": {},
     "output_type": "execute_result"
    }
   ],
   "source": [
    "# Load mdata\n",
    "path_mdata = io_config['path_mdata']\n",
    "mdata = mudata.read(path_mdata)\n",
    "mdata"
   ]
  },
  {
   "cell_type": "code",
   "execution_count": 5,
   "metadata": {},
   "outputs": [],
   "source": [
    "# Make path_out directory\n",
    "path_out = io_config['path_out']\n",
    "if not os.path.exists(path_out):\n",
    "    os.makedirs(path_out)"
   ]
  },
  {
   "cell_type": "code",
   "execution_count": 6,
   "metadata": {},
   "outputs": [
    {
     "name": "stderr",
     "output_type": "stream",
     "text": [
      "/cellar/users/aklie/opt/miniconda3/envs/test_celloracle/lib/python3.10/site-packages/mudata/_core/mudata.py:479: UserWarning: var_names are not unique. To make them unique, call `.var_names_make_unique`.\n",
      "  warnings.warn(\n"
     ]
    },
    {
     "name": "stderr",
     "output_type": "stream",
     "text": [
      "/cellar/users/aklie/opt/miniconda3/envs/test_celloracle/lib/python3.10/site-packages/mudata/_core/mudata.py:479: UserWarning: var_names are not unique. To make them unique, call `.var_names_make_unique`.\n",
      "  warnings.warn(\n"
     ]
    }
   ],
   "source": [
    "# Update cNMF key to cNMF_30 and save\n",
    "old_prog_key = io_config['prog_key']\n",
    "prog_key = os.path.basename(path_out)\n",
    "mdata.mod[prog_key] = mdata.mod.pop(old_prog_key)\n",
    "mdata.update()\n",
    "mdata.write(os.path.join(path_out, f'{prog_key}.h5mu'))"
   ]
  },
  {
   "cell_type": "code",
   "execution_count": 7,
   "metadata": {},
   "outputs": [
    {
     "data": {
      "text/plain": [
       "'rna'"
      ]
     },
     "execution_count": 7,
     "metadata": {},
     "output_type": "execute_result"
    }
   ],
   "source": [
    "# Get data key\n",
    "data_key= io_config['data_key']\n",
    "data_key"
   ]
  },
  {
   "cell_type": "markdown",
   "metadata": {},
   "source": [
    "## Run categorical association"
   ]
  },
  {
   "cell_type": "code",
   "execution_count": 8,
   "metadata": {},
   "outputs": [
    {
     "name": "stderr",
     "output_type": "stream",
     "text": [
      "INFO:root:Performing tests at single-cell level. Significance will likely be inflated\n"
     ]
    },
    {
     "data": {
      "application/vnd.jupyter.widget-view+json": {
       "model_id": "e07effc8210e482fa1ffe2ff99a6f095",
       "version_major": 2,
       "version_minor": 0
      },
      "text/plain": [
       "Testing sample association:   0%|          | 0/30 [00:00<?, ?programs/s]"
      ]
     },
     "metadata": {},
     "output_type": "display_data"
    },
    {
     "name": "stderr",
     "output_type": "stream",
     "text": [
      "/cellar/users/aklie/opt/miniconda3/envs/test_celloracle/lib/python3.10/site-packages/anndata/_core/anndata.py:1179: SettingWithCopyWarning: \n",
      "A value is trying to be set on a copy of a slice from a DataFrame.\n",
      "Try using .loc[row_indexer,col_indexer] = value instead\n",
      "\n",
      "See the caveats in the documentation: https://pandas.pydata.org/pandas-docs/stable/user_guide/indexing.html#returning-a-view-versus-a-copy\n",
      "  df_sub[k] = df_sub[k].cat.remove_unused_categories()\n",
      "INFO:root:Running jamboree specific version of posthoc with pearsonr, this is not yet integrated into the main pipeline\n"
     ]
    },
    {
     "data": {
      "application/vnd.jupyter.widget-view+json": {
       "model_id": "f28341f4b28e4ddea2d4193de686216a",
       "version_major": 2,
       "version_minor": 0
      },
      "text/plain": [
       "Identifying differential sample:   0%|          | 0/30 [00:00<?, ?programs/s]"
      ]
     },
     "metadata": {},
     "output_type": "display_data"
    }
   ],
   "source": [
    "# Run categorical association and save results\n",
    "categorical_assocation_config = config['categorical_association']\n",
    "categorical_keys = categorical_assocation_config['categorical_keys']\n",
    "for key in categorical_keys:\n",
    "    results_df, posthoc_df = compute_categorical_association(\n",
    "        mdata, \n",
    "        prog_key=prog_key,\n",
    "        categorical_key=key,\n",
    "        **categorical_assocation_config,\n",
    "    )\n",
    "    results_df.to_csv(os.path.join(path_out, f'{prog_key}_{key}_association_results.txt'), sep='\\t', index=False) \n",
    "    posthoc_df.to_csv(os.path.join(path_out, f'{prog_key}_{key}_association_posthoc.txt'), sep='\\t', index=False)"
   ]
  },
  {
   "cell_type": "markdown",
   "metadata": {},
   "source": [
    "## Run perturbation association"
   ]
  },
  {
   "cell_type": "code",
   "execution_count": 9,
   "metadata": {},
   "outputs": [
    {
     "data": {
      "text/plain": [
       "{'groupby_key': 'sample',\n",
       " 'collapse_targets': True,\n",
       " 'pseudobulk': False,\n",
       " 'reference_targets': ['non-targeting'],\n",
       " 'n_jobs': -1,\n",
       " 'inplace': False}"
      ]
     },
     "execution_count": 9,
     "metadata": {},
     "output_type": "execute_result"
    }
   ],
   "source": [
    "perturbation_assocation_config = config['perturbation_association']\n",
    "perturbation_assocation_config"
   ]
  },
  {
   "cell_type": "code",
   "execution_count": 10,
   "metadata": {},
   "outputs": [
    {
     "name": "stderr",
     "output_type": "stream",
     "text": [
      "INFO:root:groupby_key provided, running perturbation association on each group\n",
      "/cellar/users/aklie/opt/miniconda3/envs/test_celloracle/lib/python3.10/site-packages/anndata/_core/anndata.py:1899: UserWarning: Variable names are not unique. To make them unique, call `.var_names_make_unique`.\n",
      "  utils.warn_names_duplicates(\"var\")\n",
      "/cellar/users/aklie/opt/miniconda3/envs/test_celloracle/lib/python3.10/site-packages/mudata/_core/mudata.py:479: UserWarning: var_names are not unique. To make them unique, call `.var_names_make_unique`.\n",
      "  warnings.warn(\n"
     ]
    },
    {
     "data": {
      "application/vnd.jupyter.widget-view+json": {
       "model_id": "0134cad0ceca450c88f3ece3703ecea5",
       "version_major": 2,
       "version_minor": 0
      },
      "text/plain": [
       "Testing perturbation association:   0%|          | 0/298 [00:00<?, ?targets/s]"
      ]
     },
     "metadata": {},
     "output_type": "display_data"
    },
    {
     "name": "stderr",
     "output_type": "stream",
     "text": [
      "/cellar/users/aklie/opt/miniconda3/envs/test_celloracle/lib/python3.10/site-packages/anndata/_core/anndata.py:1899: UserWarning: Variable names are not unique. To make them unique, call `.var_names_make_unique`.\n",
      "  utils.warn_names_duplicates(\"var\")\n",
      "/cellar/users/aklie/opt/miniconda3/envs/test_celloracle/lib/python3.10/site-packages/mudata/_core/mudata.py:479: UserWarning: var_names are not unique. To make them unique, call `.var_names_make_unique`.\n",
      "  warnings.warn(\n"
     ]
    },
    {
     "data": {
      "application/vnd.jupyter.widget-view+json": {
       "model_id": "007479acb7ae47c8b7b56f35fa2c21ee",
       "version_major": 2,
       "version_minor": 0
      },
      "text/plain": [
       "Testing perturbation association:   0%|          | 0/298 [00:00<?, ?targets/s]"
      ]
     },
     "metadata": {},
     "output_type": "display_data"
    },
    {
     "name": "stderr",
     "output_type": "stream",
     "text": [
      "/cellar/users/aklie/opt/miniconda3/envs/test_celloracle/lib/python3.10/site-packages/anndata/_core/anndata.py:1899: UserWarning: Variable names are not unique. To make them unique, call `.var_names_make_unique`.\n",
      "  utils.warn_names_duplicates(\"var\")\n",
      "/cellar/users/aklie/opt/miniconda3/envs/test_celloracle/lib/python3.10/site-packages/mudata/_core/mudata.py:479: UserWarning: var_names are not unique. To make them unique, call `.var_names_make_unique`.\n",
      "  warnings.warn(\n"
     ]
    },
    {
     "data": {
      "application/vnd.jupyter.widget-view+json": {
       "model_id": "30421f3a24d74afca95253faac916501",
       "version_major": 2,
       "version_minor": 0
      },
      "text/plain": [
       "Testing perturbation association:   0%|          | 0/298 [00:00<?, ?targets/s]"
      ]
     },
     "metadata": {},
     "output_type": "display_data"
    },
    {
     "name": "stderr",
     "output_type": "stream",
     "text": [
      "/cellar/users/aklie/opt/miniconda3/envs/test_celloracle/lib/python3.10/site-packages/anndata/_core/anndata.py:1899: UserWarning: Variable names are not unique. To make them unique, call `.var_names_make_unique`.\n",
      "  utils.warn_names_duplicates(\"var\")\n",
      "/cellar/users/aklie/opt/miniconda3/envs/test_celloracle/lib/python3.10/site-packages/mudata/_core/mudata.py:479: UserWarning: var_names are not unique. To make them unique, call `.var_names_make_unique`.\n",
      "  warnings.warn(\n"
     ]
    },
    {
     "data": {
      "application/vnd.jupyter.widget-view+json": {
       "model_id": "d2494a8e9e544dbd9a72fd5c0ba42c9d",
       "version_major": 2,
       "version_minor": 0
      },
      "text/plain": [
       "Testing perturbation association:   0%|          | 0/298 [00:00<?, ?targets/s]"
      ]
     },
     "metadata": {},
     "output_type": "display_data"
    }
   ],
   "source": [
    "# Run perturbation association\n",
    "target_type = \"gene\" if perturbation_assocation_config[\"collapse_targets\"] else \"guide\"\n",
    "if perturbation_assocation_config[\"groupby_key\"] is not None:\n",
    "    logging.info(\"groupby_key provided, running perturbation association on each group\")\n",
    "    groupby_key = perturbation_assocation_config.pop(\"groupby_key\")\n",
    "    data_key = io_config[\"data_key\"]\n",
    "    perturbation_assocation_df = pd.DataFrame()\n",
    "    for group in mdata[data_key].obs[groupby_key].unique():\n",
    "        mdata_ = mdata[mdata[data_key].obs[groupby_key] == group]\n",
    "        test_stats_df = compute_perturbation_association(\n",
    "            mdata_, \n",
    "            prog_key=prog_key,\n",
    "            data_key=data_key,\n",
    "            **perturbation_assocation_config,\n",
    "        )\n",
    "        test_stats_df.to_csv(os.path.join(path_out, f'{prog_key}_{target_type}_{groupby_key}_{group}_perturbation_association.txt'), sep='\\t', index=False)\n",
    "else:\n",
    "    logging.info(\"No groupby_key provided, running perturbation association on full dataset\")\n",
    "    perturbation_assocation_config.pop(\"groupby_key\")\n",
    "    perturbation_assocation_df = compute_perturbation_association(\n",
    "        mdata, \n",
    "        prog_key=prog_key,\n",
    "        data_key=data_key,\n",
    "        **perturbation_assocation_config,\n",
    "    )\n",
    "    perturbation_assocation_df.to_csv(os.path.join(path_out, f'{prog_key}_{target_type}_perturbation_association.txt'), sep='\\t', index=False)"
   ]
  },
  {
   "cell_type": "markdown",
   "metadata": {},
   "source": [
    "## Run gene set enrichment analysis"
   ]
  },
  {
   "cell_type": "code",
   "execution_count": 14,
   "metadata": {},
   "outputs": [
    {
     "name": "stderr",
     "output_type": "stream",
     "text": [
      "INFO:root:Running gene-set enrichment analysis for Reactome_2022\n",
      "INFO:root:Downloading and generating Enrichr library gene sets...\n",
      "INFO:root:Library is already downloaded in: /cellar/users/aklie/.cache/gseapy/Enrichr.Reactome_2022.gmt, use local file\n",
      "INFO:root:0031 gene_sets have been filtered out when max_size=500 and min_size=5\n"
     ]
    },
    {
     "data": {
      "application/vnd.jupyter.widget-view+json": {
       "model_id": "2f2ead766fdd40ee93b12fc55c7e5dd9",
       "version_major": 2,
       "version_minor": 0
      },
      "text/plain": [
       "Running Fisher enrichment:   0%|          | 0/30 [00:00<?, ?programs/s]"
      ]
     },
     "metadata": {},
     "output_type": "display_data"
    },
    {
     "name": "stderr",
     "output_type": "stream",
     "text": [
      "INFO:root:Running gene-set enrichment analysis for GO_Biological_Process_2023\n",
      "INFO:root:Downloading and generating Enrichr library gene sets...\n",
      "INFO:root:Library is already downloaded in: /cellar/users/aklie/.cache/gseapy/Enrichr.GO_Biological_Process_2023.gmt, use local file\n",
      "INFO:root:0014 gene_sets have been filtered out when max_size=500 and min_size=5\n"
     ]
    },
    {
     "data": {
      "application/vnd.jupyter.widget-view+json": {
       "model_id": "eae436aecf484fedb162dd9952e405dc",
       "version_major": 2,
       "version_minor": 0
      },
      "text/plain": [
       "Running Fisher enrichment:   0%|          | 0/30 [00:00<?, ?programs/s]"
      ]
     },
     "metadata": {},
     "output_type": "display_data"
    }
   ],
   "source": [
    "# Gene-set enrichment\n",
    "gene_set_enrichment_config = config['gene_set_enrichment']\n",
    "libraries = gene_set_enrichment_config.pop('libraries')\n",
    "gene_set_enrichment_df = pd.DataFrame()\n",
    "data_key = io_config['data_key']\n",
    "for library in libraries:\n",
    "    logging.info(f'Running gene-set enrichment analysis for {library}')\n",
    "    pre_res = compute_geneset_enrichment(\n",
    "        mdata, \n",
    "        prog_key=prog_key,\n",
    "        data_key=data_key,\n",
    "        library=library,\n",
    "        **gene_set_enrichment_config,\n",
    "    )\n",
    "\n",
    "    if gene_set_enrichment_config[\"method\"] == \"fisher\":\n",
    "        pre_res = pre_res.rename(columns={\"Term\": \"term\", \"P-value\": \"pval\", \"Adjusted P-value\": \"adj_pval\", \"Odds Ratio\": \"enrichment\", \"Genes\": \"genes\"})\n",
    "    elif gene_set_enrichment_config[\"method\"] == \"gsea\":\n",
    "        pre_res = pre_res.rename(columns={\"Term\": \"term\", \"NOM p-val\": \"pval\", \"FDR q-val\": \"adj_pval\", \"NES\": \"enrichment\", \"Lead_genes\": \"genes\"})\n",
    "    \n",
    "    # Save results\n",
    "    pre_res.to_csv(os.path.join(path_out, f'{prog_key}_{library}_{gene_set_enrichment_config[\"method\"]}_geneset_enrichment.txt'), sep='\\t', index=False)"
   ]
  },
  {
   "cell_type": "markdown",
   "metadata": {},
   "source": [
    "## Run trait enrichment analysis"
   ]
  },
  {
   "cell_type": "code",
   "execution_count": 9,
   "metadata": {},
   "outputs": [
    {
     "data": {
      "application/vnd.jupyter.widget-view+json": {
       "model_id": "df7d09538dd94ccb9c2405896a1f805e",
       "version_major": 2,
       "version_minor": 0
      },
      "text/plain": [
       "Running Fisher enrichment:   0%|          | 0/30 [00:00<?, ?programs/s]"
      ]
     },
     "metadata": {},
     "output_type": "display_data"
    }
   ],
   "source": [
    "# Run trait enrichment, process and save results\n",
    "trait_enrichment_config = config['trait_enrichment']\n",
    "pre_res_trait = compute_trait_enrichment(\n",
    "    mdata, \n",
    "    prog_key=prog_key,\n",
    "    data_key=data_key,\n",
    "    gwas_data=trait_enrichment_config['gwas_data'],\n",
    "    prog_nam=trait_enrichment_config['prog_nam'],\n",
    "    library=trait_enrichment_config['library'],\n",
    "    n_jobs=trait_enrichment_config['n_jobs'],\n",
    "    inplace=trait_enrichment_config['inplace'],\n",
    "    key_column=trait_enrichment_config['key_column'],\n",
    "    gene_column=trait_enrichment_config['gene_column'],\n",
    "    method=trait_enrichment_config['method'],\n",
    "    n_top=trait_enrichment_config['n_top'],\n",
    "    low_cutoff=trait_enrichment_config['low_cutoff'],\n",
    "    min_size=trait_enrichment_config['min_size'],\n",
    "    max_size=trait_enrichment_config['max_size'],\n",
    ")\n",
    "if trait_enrichment_config[\"method\"] == \"fisher\":\n",
    "    pre_res_trait = pre_res_trait.rename(columns={\"Term\": \"term\", \"P-value\": \"pval\", \"Adjusted P-value\": \"adj_pval\", \"Odds Ratio\": \"enrichment\", \"Genes\": \"genes\"})\n",
    "elif trait_enrichment_config[\"method\"] == \"gsea\":\n",
    "    pre_res_trait = pre_res_trait.rename(columns={\"Term\": \"term\", \"NOM p-val\": \"pval\", \"FDR q-val\": \"adj_pval\", \"NES\": \"enrichment\", \"Lead_genes\": \"genes\"})\n",
    "data = process_enrichment_data(\n",
    "    enrich_res=pre_res_trait,\n",
    "    metadata=trait_enrichment_config['metadata'],\n",
    "    pval_col=trait_enrichment_config[\"pval_col\"],\n",
    "    enrich_geneset_id_col=trait_enrichment_config[\"enrich_geneset_id_col\"],\n",
    "    metadata_geneset_id_col=trait_enrichment_config[\"metadata_geneset_id_col\"],\n",
    "    color_category_col=trait_enrichment_config[\"color_category_col\"],\n",
    "    program_name_col=trait_enrichment_config[\"program_name_col\"],\n",
    "    annotation_cols=trait_enrichment_config[\"annotation_cols\"],\n",
    ")\n",
    "data.to_csv(os.path.join(path_out, f\"{prog_key}_{trait_enrichment_config['library']}_{trait_enrichment_config['method']}_trait_enrichment.txt\"), sep='\\t', index=False)"
   ]
  },
  {
   "cell_type": "code",
   "execution_count": 10,
   "metadata": {},
   "outputs": [
    {
     "data": {
      "text/html": [
       "<div>\n",
       "<style scoped>\n",
       "    .dataframe tbody tr th:only-of-type {\n",
       "        vertical-align: middle;\n",
       "    }\n",
       "\n",
       "    .dataframe tbody tr th {\n",
       "        vertical-align: top;\n",
       "    }\n",
       "\n",
       "    .dataframe thead th {\n",
       "        text-align: right;\n",
       "    }\n",
       "</style>\n",
       "<table border=\"1\" class=\"dataframe\">\n",
       "  <thead>\n",
       "    <tr style=\"text-align: right;\">\n",
       "      <th></th>\n",
       "      <th>term</th>\n",
       "      <th>adj_pval</th>\n",
       "      <th>trait_efos</th>\n",
       "      <th>trait_category</th>\n",
       "      <th>program_name</th>\n",
       "      <th>enrichment</th>\n",
       "      <th>trait_reported</th>\n",
       "      <th>genes</th>\n",
       "      <th>study_id</th>\n",
       "      <th>pmid</th>\n",
       "      <th>-log10(adj_pval)</th>\n",
       "    </tr>\n",
       "  </thead>\n",
       "  <tbody>\n",
       "    <tr>\n",
       "      <th>0</th>\n",
       "      <td>EFO_0004875</td>\n",
       "      <td>8.188331e-09</td>\n",
       "      <td>EFO_0004875</td>\n",
       "      <td>biological process</td>\n",
       "      <td>11</td>\n",
       "      <td>3.001283</td>\n",
       "      <td>Highest math class taken (MTAG) [MTAG]</td>\n",
       "      <td>CRTAC1;AUTS2;DLG2;THSD7A;ZNF385D;WWOX;MAGI1;ZE...</td>\n",
       "      <td>GCST006568</td>\n",
       "      <td>PMID:30038396</td>\n",
       "      <td>8.086805</td>\n",
       "    </tr>\n",
       "    <tr>\n",
       "      <th>1</th>\n",
       "      <td>EFO_0004875</td>\n",
       "      <td>1.303755e-08</td>\n",
       "      <td>EFO_0004875</td>\n",
       "      <td>biological process</td>\n",
       "      <td>0</td>\n",
       "      <td>2.943445</td>\n",
       "      <td>Highest math class taken (MTAG) [MTAG]</td>\n",
       "      <td>LARGE1;LINGO1;SAMD12;ZNF385D;MAGI1;SDK1;ETV1;R...</td>\n",
       "      <td>GCST006568</td>\n",
       "      <td>PMID:30038396</td>\n",
       "      <td>7.884804</td>\n",
       "    </tr>\n",
       "    <tr>\n",
       "      <th>2</th>\n",
       "      <td>EFO_0004875</td>\n",
       "      <td>8.533990e-08</td>\n",
       "      <td>EFO_0004875</td>\n",
       "      <td>biological process</td>\n",
       "      <td>19</td>\n",
       "      <td>2.666981</td>\n",
       "      <td>Highest math class taken (MTAG) [MTAG]</td>\n",
       "      <td>GABRA4;AUTS2;NTRK2;AGAP1;THSD7A;KCNIP4;MAGI1;T...</td>\n",
       "      <td>GCST006568</td>\n",
       "      <td>PMID:30038396</td>\n",
       "      <td>7.068848</td>\n",
       "    </tr>\n",
       "    <tr>\n",
       "      <th>3</th>\n",
       "      <td>EFO_0004875</td>\n",
       "      <td>4.270760e-07</td>\n",
       "      <td>EFO_0004875</td>\n",
       "      <td>biological process</td>\n",
       "      <td>23</td>\n",
       "      <td>3.211885</td>\n",
       "      <td>Highest math class taken (MTAG) [MTAG]</td>\n",
       "      <td>LARGE1;POU6F2;CRTAC1;DIAPH3;AUTS2;INPP5D;AGAP1...</td>\n",
       "      <td>GCST006568</td>\n",
       "      <td>PMID:30038396</td>\n",
       "      <td>6.369495</td>\n",
       "    </tr>\n",
       "    <tr>\n",
       "      <th>4</th>\n",
       "      <td>EFO_0008579</td>\n",
       "      <td>4.879689e-07</td>\n",
       "      <td>EFO_0008579</td>\n",
       "      <td>biological process</td>\n",
       "      <td>11</td>\n",
       "      <td>4.710814</td>\n",
       "      <td>General risk tolerance (MTAG)</td>\n",
       "      <td>AUTS2;ATG10;ZEB2;CDK19;PRTG;RGS6;SEMA6D;STAG1;...</td>\n",
       "      <td>GCST007325</td>\n",
       "      <td>PMID:30643258</td>\n",
       "      <td>6.311608</td>\n",
       "    </tr>\n",
       "    <tr>\n",
       "      <th>...</th>\n",
       "      <td>...</td>\n",
       "      <td>...</td>\n",
       "      <td>...</td>\n",
       "      <td>...</td>\n",
       "      <td>...</td>\n",
       "      <td>...</td>\n",
       "      <td>...</td>\n",
       "      <td>...</td>\n",
       "      <td>...</td>\n",
       "      <td>...</td>\n",
       "      <td>...</td>\n",
       "    </tr>\n",
       "    <tr>\n",
       "      <th>14769</th>\n",
       "      <td>EFO_0002690</td>\n",
       "      <td>8.271777e-01</td>\n",
       "      <td>EFO_0002690</td>\n",
       "      <td>urinary system disease</td>\n",
       "      <td>21</td>\n",
       "      <td>0.785557</td>\n",
       "      <td>Systemic lupus erythematosus</td>\n",
       "      <td>ERBB4;SPRED2</td>\n",
       "      <td>GCST011956</td>\n",
       "      <td>PMID:33272962</td>\n",
       "      <td>0.082401</td>\n",
       "    </tr>\n",
       "    <tr>\n",
       "      <th>14770</th>\n",
       "      <td>EFO_0002690</td>\n",
       "      <td>8.698164e-01</td>\n",
       "      <td>EFO_0002690</td>\n",
       "      <td>urinary system disease</td>\n",
       "      <td>0</td>\n",
       "      <td>0.797644</td>\n",
       "      <td>Systemic lupus erythematosus</td>\n",
       "      <td>PRKCB;DSE</td>\n",
       "      <td>GCST011956</td>\n",
       "      <td>PMID:33272962</td>\n",
       "      <td>0.060572</td>\n",
       "    </tr>\n",
       "    <tr>\n",
       "      <th>14771</th>\n",
       "      <td>EFO_0002690</td>\n",
       "      <td>8.964184e-01</td>\n",
       "      <td>EFO_0002690</td>\n",
       "      <td>urinary system disease</td>\n",
       "      <td>17</td>\n",
       "      <td>0.747165</td>\n",
       "      <td>Systemic lupus erythematosus</td>\n",
       "      <td>MCM6</td>\n",
       "      <td>GCST011956</td>\n",
       "      <td>PMID:33272962</td>\n",
       "      <td>0.047489</td>\n",
       "    </tr>\n",
       "    <tr>\n",
       "      <th>14772</th>\n",
       "      <td>EFO_0002690</td>\n",
       "      <td>9.458745e-01</td>\n",
       "      <td>EFO_0002690</td>\n",
       "      <td>urinary system disease</td>\n",
       "      <td>11</td>\n",
       "      <td>0.505599</td>\n",
       "      <td>Systemic lupus erythematosus</td>\n",
       "      <td>RASGRP1</td>\n",
       "      <td>GCST011956</td>\n",
       "      <td>PMID:33272962</td>\n",
       "      <td>0.024166</td>\n",
       "    </tr>\n",
       "    <tr>\n",
       "      <th>14773</th>\n",
       "      <td>EFO_0002690</td>\n",
       "      <td>9.567569e-01</td>\n",
       "      <td>EFO_0002690</td>\n",
       "      <td>urinary system disease</td>\n",
       "      <td>2</td>\n",
       "      <td>0.515733</td>\n",
       "      <td>Systemic lupus erythematosus</td>\n",
       "      <td>FCHSD2</td>\n",
       "      <td>GCST011956</td>\n",
       "      <td>PMID:33272962</td>\n",
       "      <td>0.019198</td>\n",
       "    </tr>\n",
       "  </tbody>\n",
       "</table>\n",
       "<p>14774 rows × 11 columns</p>\n",
       "</div>"
      ],
      "text/plain": [
       "              term      adj_pval   trait_efos          trait_category  \\\n",
       "0      EFO_0004875  8.188331e-09  EFO_0004875      biological process   \n",
       "1      EFO_0004875  1.303755e-08  EFO_0004875      biological process   \n",
       "2      EFO_0004875  8.533990e-08  EFO_0004875      biological process   \n",
       "3      EFO_0004875  4.270760e-07  EFO_0004875      biological process   \n",
       "4      EFO_0008579  4.879689e-07  EFO_0008579      biological process   \n",
       "...            ...           ...          ...                     ...   \n",
       "14769  EFO_0002690  8.271777e-01  EFO_0002690  urinary system disease   \n",
       "14770  EFO_0002690  8.698164e-01  EFO_0002690  urinary system disease   \n",
       "14771  EFO_0002690  8.964184e-01  EFO_0002690  urinary system disease   \n",
       "14772  EFO_0002690  9.458745e-01  EFO_0002690  urinary system disease   \n",
       "14773  EFO_0002690  9.567569e-01  EFO_0002690  urinary system disease   \n",
       "\n",
       "      program_name  enrichment                          trait_reported  \\\n",
       "0               11    3.001283  Highest math class taken (MTAG) [MTAG]   \n",
       "1                0    2.943445  Highest math class taken (MTAG) [MTAG]   \n",
       "2               19    2.666981  Highest math class taken (MTAG) [MTAG]   \n",
       "3               23    3.211885  Highest math class taken (MTAG) [MTAG]   \n",
       "4               11    4.710814           General risk tolerance (MTAG)   \n",
       "...            ...         ...                                     ...   \n",
       "14769           21    0.785557            Systemic lupus erythematosus   \n",
       "14770            0    0.797644            Systemic lupus erythematosus   \n",
       "14771           17    0.747165            Systemic lupus erythematosus   \n",
       "14772           11    0.505599            Systemic lupus erythematosus   \n",
       "14773            2    0.515733            Systemic lupus erythematosus   \n",
       "\n",
       "                                                   genes    study_id  \\\n",
       "0      CRTAC1;AUTS2;DLG2;THSD7A;ZNF385D;WWOX;MAGI1;ZE...  GCST006568   \n",
       "1      LARGE1;LINGO1;SAMD12;ZNF385D;MAGI1;SDK1;ETV1;R...  GCST006568   \n",
       "2      GABRA4;AUTS2;NTRK2;AGAP1;THSD7A;KCNIP4;MAGI1;T...  GCST006568   \n",
       "3      LARGE1;POU6F2;CRTAC1;DIAPH3;AUTS2;INPP5D;AGAP1...  GCST006568   \n",
       "4      AUTS2;ATG10;ZEB2;CDK19;PRTG;RGS6;SEMA6D;STAG1;...  GCST007325   \n",
       "...                                                  ...         ...   \n",
       "14769                                       ERBB4;SPRED2  GCST011956   \n",
       "14770                                          PRKCB;DSE  GCST011956   \n",
       "14771                                               MCM6  GCST011956   \n",
       "14772                                            RASGRP1  GCST011956   \n",
       "14773                                             FCHSD2  GCST011956   \n",
       "\n",
       "                pmid  -log10(adj_pval)  \n",
       "0      PMID:30038396          8.086805  \n",
       "1      PMID:30038396          7.884804  \n",
       "2      PMID:30038396          7.068848  \n",
       "3      PMID:30038396          6.369495  \n",
       "4      PMID:30643258          6.311608  \n",
       "...              ...               ...  \n",
       "14769  PMID:33272962          0.082401  \n",
       "14770  PMID:33272962          0.060572  \n",
       "14771  PMID:33272962          0.047489  \n",
       "14772  PMID:33272962          0.024166  \n",
       "14773  PMID:33272962          0.019198  \n",
       "\n",
       "[14774 rows x 11 columns]"
      ]
     },
     "execution_count": 10,
     "metadata": {},
     "output_type": "execute_result"
    }
   ],
   "source": [
    "data"
   ]
  },
  {
   "cell_type": "code",
   "execution_count": 11,
   "metadata": {},
   "outputs": [
    {
     "data": {
      "text/html": [
       "<div>\n",
       "<style scoped>\n",
       "    .dataframe tbody tr th:only-of-type {\n",
       "        vertical-align: middle;\n",
       "    }\n",
       "\n",
       "    .dataframe tbody tr th {\n",
       "        vertical-align: top;\n",
       "    }\n",
       "\n",
       "    .dataframe thead th {\n",
       "        text-align: right;\n",
       "    }\n",
       "</style>\n",
       "<table border=\"1\" class=\"dataframe\">\n",
       "  <thead>\n",
       "    <tr style=\"text-align: right;\">\n",
       "      <th></th>\n",
       "      <th>program_name</th>\n",
       "      <th>term</th>\n",
       "      <th>pval</th>\n",
       "      <th>adj_pval</th>\n",
       "      <th>enrichment</th>\n",
       "      <th>Combined Score</th>\n",
       "      <th>genes</th>\n",
       "      <th>overlap_numerator</th>\n",
       "      <th>overlap_denominator</th>\n",
       "    </tr>\n",
       "  </thead>\n",
       "  <tbody>\n",
       "    <tr>\n",
       "      <th>110</th>\n",
       "      <td>0</td>\n",
       "      <td>EFO_0004464</td>\n",
       "      <td>2.834466e-07</td>\n",
       "      <td>1.484551e-05</td>\n",
       "      <td>2.364066</td>\n",
       "      <td>35.641224</td>\n",
       "      <td>TMEM108;TRIM24;CTTNBP2;PCSK5;MAGI1;ATP8A2;RORA...</td>\n",
       "      <td>54</td>\n",
       "      <td>593</td>\n",
       "    </tr>\n",
       "    <tr>\n",
       "      <th>541</th>\n",
       "      <td>1</td>\n",
       "      <td>EFO_0004464</td>\n",
       "      <td>3.575208e-14</td>\n",
       "      <td>1.644595e-11</td>\n",
       "      <td>3.269567</td>\n",
       "      <td>101.232893</td>\n",
       "      <td>PDE8A;SOX6;ELK3;RCSD1;AUTS2;CTTNBP2;PIP4K2A;NR...</td>\n",
       "      <td>70</td>\n",
       "      <td>593</td>\n",
       "    </tr>\n",
       "    <tr>\n",
       "      <th>3968</th>\n",
       "      <td>10</td>\n",
       "      <td>EFO_0004464</td>\n",
       "      <td>5.559396e-08</td>\n",
       "      <td>2.301590e-05</td>\n",
       "      <td>2.508804</td>\n",
       "      <td>41.910058</td>\n",
       "      <td>RCSD1;ELK3;AUTS2;CTTNBP2;NRP1;AGAP1;MAST4;PTPR...</td>\n",
       "      <td>54</td>\n",
       "      <td>593</td>\n",
       "    </tr>\n",
       "    <tr>\n",
       "      <th>4386</th>\n",
       "      <td>11</td>\n",
       "      <td>EFO_0004464</td>\n",
       "      <td>3.627397e-09</td>\n",
       "      <td>1.999603e-07</td>\n",
       "      <td>2.703303</td>\n",
       "      <td>52.538029</td>\n",
       "      <td>KAZN;ADAMTS3;AUTS2;SHROOM3;WWOX;MAGI1;IRS1;NCK...</td>\n",
       "      <td>56</td>\n",
       "      <td>593</td>\n",
       "    </tr>\n",
       "    <tr>\n",
       "      <th>4833</th>\n",
       "      <td>12</td>\n",
       "      <td>EFO_0004464</td>\n",
       "      <td>1.550235e-12</td>\n",
       "      <td>6.867539e-10</td>\n",
       "      <td>3.055442</td>\n",
       "      <td>83.085471</td>\n",
       "      <td>TRIM24;PDE8A;ELK3;B4GALT5;RCSD1;CTTNBP2;DIAPH3...</td>\n",
       "      <td>67</td>\n",
       "      <td>593</td>\n",
       "    </tr>\n",
       "    <tr>\n",
       "      <th>5272</th>\n",
       "      <td>13</td>\n",
       "      <td>EFO_0004464</td>\n",
       "      <td>3.426381e-12</td>\n",
       "      <td>1.565856e-09</td>\n",
       "      <td>2.964685</td>\n",
       "      <td>78.266243</td>\n",
       "      <td>TRIM24;SOX6;B4GALT5;PDE8A;RCSD1;AUTS2;PIP4K2A;...</td>\n",
       "      <td>68</td>\n",
       "      <td>593</td>\n",
       "    </tr>\n",
       "    <tr>\n",
       "      <th>5723</th>\n",
       "      <td>14</td>\n",
       "      <td>EFO_0004464</td>\n",
       "      <td>4.034797e-09</td>\n",
       "      <td>1.755137e-06</td>\n",
       "      <td>2.642369</td>\n",
       "      <td>51.072519</td>\n",
       "      <td>PDE8A;RCSD1;B4GALT5;DIAPH3;ADAMTS3;AUTS2;ZNF42...</td>\n",
       "      <td>58</td>\n",
       "      <td>593</td>\n",
       "    </tr>\n",
       "    <tr>\n",
       "      <th>6148</th>\n",
       "      <td>15</td>\n",
       "      <td>EFO_0004464</td>\n",
       "      <td>3.827539e-10</td>\n",
       "      <td>1.504223e-07</td>\n",
       "      <td>2.909216</td>\n",
       "      <td>63.082363</td>\n",
       "      <td>SMG6;TRIM24;ELK3;DIAPH3;AUTS2;CTTNBP2;B4GALT5;...</td>\n",
       "      <td>56</td>\n",
       "      <td>593</td>\n",
       "    </tr>\n",
       "    <tr>\n",
       "      <th>6564</th>\n",
       "      <td>16</td>\n",
       "      <td>EFO_0004464</td>\n",
       "      <td>1.024904e-07</td>\n",
       "      <td>7.259467e-06</td>\n",
       "      <td>2.477122</td>\n",
       "      <td>39.865555</td>\n",
       "      <td>GADD45G;KAZN;ZNF423;CDH11;WWOX;GDF6;SDK2;ROBO2...</td>\n",
       "      <td>53</td>\n",
       "      <td>593</td>\n",
       "    </tr>\n",
       "    <tr>\n",
       "      <th>6984</th>\n",
       "      <td>17</td>\n",
       "      <td>EFO_0004464</td>\n",
       "      <td>6.870902e-05</td>\n",
       "      <td>1.930842e-02</td>\n",
       "      <td>2.278510</td>\n",
       "      <td>21.840950</td>\n",
       "      <td>SMG6;KAZN;PDE8A;DIAPH3;AGAP1;WWOX;RORA;ROBO2;A...</td>\n",
       "      <td>34</td>\n",
       "      <td>593</td>\n",
       "    </tr>\n",
       "    <tr>\n",
       "      <th>7349</th>\n",
       "      <td>18</td>\n",
       "      <td>EFO_0004464</td>\n",
       "      <td>3.238360e-08</td>\n",
       "      <td>1.347158e-05</td>\n",
       "      <td>2.557586</td>\n",
       "      <td>44.107144</td>\n",
       "      <td>SMG6;TRIM24;ADAMTS3;WLS;NRP1;ADAMTS19;CDH11;WW...</td>\n",
       "      <td>54</td>\n",
       "      <td>593</td>\n",
       "    </tr>\n",
       "    <tr>\n",
       "      <th>7788</th>\n",
       "      <td>19</td>\n",
       "      <td>EFO_0004464</td>\n",
       "      <td>1.735166e-17</td>\n",
       "      <td>8.328795e-15</td>\n",
       "      <td>3.577259</td>\n",
       "      <td>138.056616</td>\n",
       "      <td>SOX6;GLI3;ANGPT1;FOXP1;BCL11B;ZNF608;EXT1;GLIS...</td>\n",
       "      <td>79</td>\n",
       "      <td>593</td>\n",
       "    </tr>\n",
       "    <tr>\n",
       "      <th>992</th>\n",
       "      <td>2</td>\n",
       "      <td>EFO_0004464</td>\n",
       "      <td>1.758475e-09</td>\n",
       "      <td>1.802437e-07</td>\n",
       "      <td>2.768742</td>\n",
       "      <td>55.814577</td>\n",
       "      <td>TMEM108;SMG6;KAZN;DIAPH3;AUTS2;AGAP1;ZNF423;AD...</td>\n",
       "      <td>56</td>\n",
       "      <td>593</td>\n",
       "    </tr>\n",
       "    <tr>\n",
       "      <th>8247</th>\n",
       "      <td>20</td>\n",
       "      <td>EFO_0004464</td>\n",
       "      <td>1.381506e-08</td>\n",
       "      <td>2.781205e-06</td>\n",
       "      <td>2.609351</td>\n",
       "      <td>47.222747</td>\n",
       "      <td>SMG6;WNT3A;GADD45G;KAZN;DIAPH3;WLS;ADAMTS3;NRP...</td>\n",
       "      <td>55</td>\n",
       "      <td>593</td>\n",
       "    </tr>\n",
       "    <tr>\n",
       "      <th>8703</th>\n",
       "      <td>21</td>\n",
       "      <td>EFO_0004464</td>\n",
       "      <td>3.145158e-12</td>\n",
       "      <td>7.847170e-10</td>\n",
       "      <td>3.026712</td>\n",
       "      <td>80.162943</td>\n",
       "      <td>SMG6;SOX6;AUTS2;AGAP1;MSRB3;PTPRM;CDH11;GAB2;C...</td>\n",
       "      <td>66</td>\n",
       "      <td>593</td>\n",
       "    </tr>\n",
       "    <tr>\n",
       "      <th>9190</th>\n",
       "      <td>22</td>\n",
       "      <td>EFO_0004464</td>\n",
       "      <td>1.259660e-10</td>\n",
       "      <td>5.756648e-08</td>\n",
       "      <td>2.948711</td>\n",
       "      <td>67.215896</td>\n",
       "      <td>WNT3A;ADAMTS3;AUTS2;AFAP1;ZNF423;CDH11;IRS1;WW...</td>\n",
       "      <td>58</td>\n",
       "      <td>593</td>\n",
       "    </tr>\n",
       "    <tr>\n",
       "      <th>9615</th>\n",
       "      <td>23</td>\n",
       "      <td>EFO_0004464</td>\n",
       "      <td>3.020765e-04</td>\n",
       "      <td>1.040544e-02</td>\n",
       "      <td>2.082051</td>\n",
       "      <td>16.874668</td>\n",
       "      <td>SMG6;KAZN;ITIH5;DIAPH3;AUTS2;AGAP1;WWOX;MAGI1;...</td>\n",
       "      <td>34</td>\n",
       "      <td>593</td>\n",
       "    </tr>\n",
       "    <tr>\n",
       "      <th>10013</th>\n",
       "      <td>24</td>\n",
       "      <td>EFO_0004464</td>\n",
       "      <td>3.001601e-14</td>\n",
       "      <td>1.380736e-11</td>\n",
       "      <td>3.316108</td>\n",
       "      <td>103.253799</td>\n",
       "      <td>SMG6;KAZN;DIO3;WLS;AFAP1;PTPRM;WWOX;MAGI1;IRS1...</td>\n",
       "      <td>69</td>\n",
       "      <td>593</td>\n",
       "    </tr>\n",
       "    <tr>\n",
       "      <th>10472</th>\n",
       "      <td>25</td>\n",
       "      <td>EFO_0004464</td>\n",
       "      <td>1.459951e-11</td>\n",
       "      <td>3.357888e-09</td>\n",
       "      <td>2.957410</td>\n",
       "      <td>73.787489</td>\n",
       "      <td>SOX6;ELK3;WLS;AUTS2;AFAP1;AGAP1;MSRB3;CDH11;IR...</td>\n",
       "      <td>64</td>\n",
       "      <td>593</td>\n",
       "    </tr>\n",
       "    <tr>\n",
       "      <th>10931</th>\n",
       "      <td>26</td>\n",
       "      <td>EFO_0004464</td>\n",
       "      <td>5.559396e-08</td>\n",
       "      <td>1.217508e-05</td>\n",
       "      <td>2.508804</td>\n",
       "      <td>41.910058</td>\n",
       "      <td>DIAPH3;WLS;AFAP1;AGAP1;MSRB3;SHROOM3;IRS1;SHB;...</td>\n",
       "      <td>54</td>\n",
       "      <td>593</td>\n",
       "    </tr>\n",
       "    <tr>\n",
       "      <th>11383</th>\n",
       "      <td>27</td>\n",
       "      <td>EFO_0004464</td>\n",
       "      <td>1.761522e-14</td>\n",
       "      <td>8.349616e-12</td>\n",
       "      <td>3.205137</td>\n",
       "      <td>101.506739</td>\n",
       "      <td>SOX6;WLS;AUTS2;AGAP1;MSRB3;PTPRM;CDH11;IRS1;WW...</td>\n",
       "      <td>74</td>\n",
       "      <td>593</td>\n",
       "    </tr>\n",
       "    <tr>\n",
       "      <th>11832</th>\n",
       "      <td>28</td>\n",
       "      <td>EFO_0004464</td>\n",
       "      <td>6.605786e-07</td>\n",
       "      <td>2.648920e-04</td>\n",
       "      <td>2.446805</td>\n",
       "      <td>34.818405</td>\n",
       "      <td>SMG6;TENM2;DIAPH3;WLS;AUTS2;AFAP1;PTPRM;PLXNA2...</td>\n",
       "      <td>47</td>\n",
       "      <td>593</td>\n",
       "    </tr>\n",
       "    <tr>\n",
       "      <th>12230</th>\n",
       "      <td>29</td>\n",
       "      <td>EFO_0004464</td>\n",
       "      <td>9.751160e-08</td>\n",
       "      <td>1.940481e-05</td>\n",
       "      <td>2.531055</td>\n",
       "      <td>40.859564</td>\n",
       "      <td>TENM2;DIAPH3;WLS;AUTS2;AFAP1;ZNF423;CDH11;PLXN...</td>\n",
       "      <td>51</td>\n",
       "      <td>593</td>\n",
       "    </tr>\n",
       "    <tr>\n",
       "      <th>1381</th>\n",
       "      <td>3</td>\n",
       "      <td>EFO_0004464</td>\n",
       "      <td>1.169547e-01</td>\n",
       "      <td>7.338141e-01</td>\n",
       "      <td>1.369958</td>\n",
       "      <td>2.939886</td>\n",
       "      <td>L3MBTL3;AKAP12;CTBP2;INSIG2;DUSP16;PLXDC2;CAMT...</td>\n",
       "      <td>23</td>\n",
       "      <td>593</td>\n",
       "    </tr>\n",
       "    <tr>\n",
       "      <th>1704</th>\n",
       "      <td>4</td>\n",
       "      <td>EFO_0004464</td>\n",
       "      <td>3.731283e-03</td>\n",
       "      <td>1.580394e-01</td>\n",
       "      <td>1.790101</td>\n",
       "      <td>10.008461</td>\n",
       "      <td>B4GALT5;ZNF423;IRS1;SDK2;HS6ST1;TCF7L2;LRP8;LA...</td>\n",
       "      <td>32</td>\n",
       "      <td>593</td>\n",
       "    </tr>\n",
       "    <tr>\n",
       "      <th>2072</th>\n",
       "      <td>5</td>\n",
       "      <td>EFO_0004464</td>\n",
       "      <td>2.571100e-07</td>\n",
       "      <td>2.654660e-05</td>\n",
       "      <td>2.372640</td>\n",
       "      <td>36.001870</td>\n",
       "      <td>SMG6;WNT3A;WLS;ADAMTS19;WWOX;MAGI1;IRS1;DOCK9;...</td>\n",
       "      <td>54</td>\n",
       "      <td>593</td>\n",
       "    </tr>\n",
       "    <tr>\n",
       "      <th>2460</th>\n",
       "      <td>6</td>\n",
       "      <td>EFO_0004464</td>\n",
       "      <td>3.761155e-05</td>\n",
       "      <td>6.450381e-03</td>\n",
       "      <td>2.213488</td>\n",
       "      <td>22.551460</td>\n",
       "      <td>TRIM24;DIAPH3;AGAP1;ADAMTS19;MAGI1;HDAC9;SEMA5...</td>\n",
       "      <td>39</td>\n",
       "      <td>593</td>\n",
       "    </tr>\n",
       "    <tr>\n",
       "      <th>2817</th>\n",
       "      <td>7</td>\n",
       "      <td>EFO_0004464</td>\n",
       "      <td>2.248192e-03</td>\n",
       "      <td>4.591045e-02</td>\n",
       "      <td>1.821643</td>\n",
       "      <td>11.107704</td>\n",
       "      <td>TENM2;SHROOM3;ATP8A2;MAGI1;SPATA16;HDAC9;ROBO2...</td>\n",
       "      <td>34</td>\n",
       "      <td>593</td>\n",
       "    </tr>\n",
       "    <tr>\n",
       "      <th>3194</th>\n",
       "      <td>8</td>\n",
       "      <td>EFO_0004464</td>\n",
       "      <td>9.076765e-03</td>\n",
       "      <td>5.352094e-01</td>\n",
       "      <td>1.754874</td>\n",
       "      <td>8.251481</td>\n",
       "      <td>SMG6;TRIM24;B4GALT5;AGAP1;ZNF423;SHROOM3;WWOX;...</td>\n",
       "      <td>27</td>\n",
       "      <td>593</td>\n",
       "    </tr>\n",
       "    <tr>\n",
       "      <th>3541</th>\n",
       "      <td>9</td>\n",
       "      <td>EFO_0004464</td>\n",
       "      <td>1.218906e-06</td>\n",
       "      <td>5.192541e-04</td>\n",
       "      <td>2.360880</td>\n",
       "      <td>32.149418</td>\n",
       "      <td>PDE8A;RCSD1;ELK3;CTTNBP2;NRP1;MAST4;PTPRM;PLXN...</td>\n",
       "      <td>48</td>\n",
       "      <td>593</td>\n",
       "    </tr>\n",
       "  </tbody>\n",
       "</table>\n",
       "</div>"
      ],
      "text/plain": [
       "      program_name         term          pval      adj_pval  enrichment  \\\n",
       "110              0  EFO_0004464  2.834466e-07  1.484551e-05    2.364066   \n",
       "541              1  EFO_0004464  3.575208e-14  1.644595e-11    3.269567   \n",
       "3968            10  EFO_0004464  5.559396e-08  2.301590e-05    2.508804   \n",
       "4386            11  EFO_0004464  3.627397e-09  1.999603e-07    2.703303   \n",
       "4833            12  EFO_0004464  1.550235e-12  6.867539e-10    3.055442   \n",
       "5272            13  EFO_0004464  3.426381e-12  1.565856e-09    2.964685   \n",
       "5723            14  EFO_0004464  4.034797e-09  1.755137e-06    2.642369   \n",
       "6148            15  EFO_0004464  3.827539e-10  1.504223e-07    2.909216   \n",
       "6564            16  EFO_0004464  1.024904e-07  7.259467e-06    2.477122   \n",
       "6984            17  EFO_0004464  6.870902e-05  1.930842e-02    2.278510   \n",
       "7349            18  EFO_0004464  3.238360e-08  1.347158e-05    2.557586   \n",
       "7788            19  EFO_0004464  1.735166e-17  8.328795e-15    3.577259   \n",
       "992              2  EFO_0004464  1.758475e-09  1.802437e-07    2.768742   \n",
       "8247            20  EFO_0004464  1.381506e-08  2.781205e-06    2.609351   \n",
       "8703            21  EFO_0004464  3.145158e-12  7.847170e-10    3.026712   \n",
       "9190            22  EFO_0004464  1.259660e-10  5.756648e-08    2.948711   \n",
       "9615            23  EFO_0004464  3.020765e-04  1.040544e-02    2.082051   \n",
       "10013           24  EFO_0004464  3.001601e-14  1.380736e-11    3.316108   \n",
       "10472           25  EFO_0004464  1.459951e-11  3.357888e-09    2.957410   \n",
       "10931           26  EFO_0004464  5.559396e-08  1.217508e-05    2.508804   \n",
       "11383           27  EFO_0004464  1.761522e-14  8.349616e-12    3.205137   \n",
       "11832           28  EFO_0004464  6.605786e-07  2.648920e-04    2.446805   \n",
       "12230           29  EFO_0004464  9.751160e-08  1.940481e-05    2.531055   \n",
       "1381             3  EFO_0004464  1.169547e-01  7.338141e-01    1.369958   \n",
       "1704             4  EFO_0004464  3.731283e-03  1.580394e-01    1.790101   \n",
       "2072             5  EFO_0004464  2.571100e-07  2.654660e-05    2.372640   \n",
       "2460             6  EFO_0004464  3.761155e-05  6.450381e-03    2.213488   \n",
       "2817             7  EFO_0004464  2.248192e-03  4.591045e-02    1.821643   \n",
       "3194             8  EFO_0004464  9.076765e-03  5.352094e-01    1.754874   \n",
       "3541             9  EFO_0004464  1.218906e-06  5.192541e-04    2.360880   \n",
       "\n",
       "       Combined Score                                              genes  \\\n",
       "110         35.641224  TMEM108;TRIM24;CTTNBP2;PCSK5;MAGI1;ATP8A2;RORA...   \n",
       "541        101.232893  PDE8A;SOX6;ELK3;RCSD1;AUTS2;CTTNBP2;PIP4K2A;NR...   \n",
       "3968        41.910058  RCSD1;ELK3;AUTS2;CTTNBP2;NRP1;AGAP1;MAST4;PTPR...   \n",
       "4386        52.538029  KAZN;ADAMTS3;AUTS2;SHROOM3;WWOX;MAGI1;IRS1;NCK...   \n",
       "4833        83.085471  TRIM24;PDE8A;ELK3;B4GALT5;RCSD1;CTTNBP2;DIAPH3...   \n",
       "5272        78.266243  TRIM24;SOX6;B4GALT5;PDE8A;RCSD1;AUTS2;PIP4K2A;...   \n",
       "5723        51.072519  PDE8A;RCSD1;B4GALT5;DIAPH3;ADAMTS3;AUTS2;ZNF42...   \n",
       "6148        63.082363  SMG6;TRIM24;ELK3;DIAPH3;AUTS2;CTTNBP2;B4GALT5;...   \n",
       "6564        39.865555  GADD45G;KAZN;ZNF423;CDH11;WWOX;GDF6;SDK2;ROBO2...   \n",
       "6984        21.840950  SMG6;KAZN;PDE8A;DIAPH3;AGAP1;WWOX;RORA;ROBO2;A...   \n",
       "7349        44.107144  SMG6;TRIM24;ADAMTS3;WLS;NRP1;ADAMTS19;CDH11;WW...   \n",
       "7788       138.056616  SOX6;GLI3;ANGPT1;FOXP1;BCL11B;ZNF608;EXT1;GLIS...   \n",
       "992         55.814577  TMEM108;SMG6;KAZN;DIAPH3;AUTS2;AGAP1;ZNF423;AD...   \n",
       "8247        47.222747  SMG6;WNT3A;GADD45G;KAZN;DIAPH3;WLS;ADAMTS3;NRP...   \n",
       "8703        80.162943  SMG6;SOX6;AUTS2;AGAP1;MSRB3;PTPRM;CDH11;GAB2;C...   \n",
       "9190        67.215896  WNT3A;ADAMTS3;AUTS2;AFAP1;ZNF423;CDH11;IRS1;WW...   \n",
       "9615        16.874668  SMG6;KAZN;ITIH5;DIAPH3;AUTS2;AGAP1;WWOX;MAGI1;...   \n",
       "10013      103.253799  SMG6;KAZN;DIO3;WLS;AFAP1;PTPRM;WWOX;MAGI1;IRS1...   \n",
       "10472       73.787489  SOX6;ELK3;WLS;AUTS2;AFAP1;AGAP1;MSRB3;CDH11;IR...   \n",
       "10931       41.910058  DIAPH3;WLS;AFAP1;AGAP1;MSRB3;SHROOM3;IRS1;SHB;...   \n",
       "11383      101.506739  SOX6;WLS;AUTS2;AGAP1;MSRB3;PTPRM;CDH11;IRS1;WW...   \n",
       "11832       34.818405  SMG6;TENM2;DIAPH3;WLS;AUTS2;AFAP1;PTPRM;PLXNA2...   \n",
       "12230       40.859564  TENM2;DIAPH3;WLS;AUTS2;AFAP1;ZNF423;CDH11;PLXN...   \n",
       "1381         2.939886  L3MBTL3;AKAP12;CTBP2;INSIG2;DUSP16;PLXDC2;CAMT...   \n",
       "1704        10.008461  B4GALT5;ZNF423;IRS1;SDK2;HS6ST1;TCF7L2;LRP8;LA...   \n",
       "2072        36.001870  SMG6;WNT3A;WLS;ADAMTS19;WWOX;MAGI1;IRS1;DOCK9;...   \n",
       "2460        22.551460  TRIM24;DIAPH3;AGAP1;ADAMTS19;MAGI1;HDAC9;SEMA5...   \n",
       "2817        11.107704  TENM2;SHROOM3;ATP8A2;MAGI1;SPATA16;HDAC9;ROBO2...   \n",
       "3194         8.251481  SMG6;TRIM24;B4GALT5;AGAP1;ZNF423;SHROOM3;WWOX;...   \n",
       "3541        32.149418  PDE8A;RCSD1;ELK3;CTTNBP2;NRP1;MAST4;PTPRM;PLXN...   \n",
       "\n",
       "       overlap_numerator  overlap_denominator  \n",
       "110                   54                  593  \n",
       "541                   70                  593  \n",
       "3968                  54                  593  \n",
       "4386                  56                  593  \n",
       "4833                  67                  593  \n",
       "5272                  68                  593  \n",
       "5723                  58                  593  \n",
       "6148                  56                  593  \n",
       "6564                  53                  593  \n",
       "6984                  34                  593  \n",
       "7349                  54                  593  \n",
       "7788                  79                  593  \n",
       "992                   56                  593  \n",
       "8247                  55                  593  \n",
       "8703                  66                  593  \n",
       "9190                  58                  593  \n",
       "9615                  34                  593  \n",
       "10013                 69                  593  \n",
       "10472                 64                  593  \n",
       "10931                 54                  593  \n",
       "11383                 74                  593  \n",
       "11832                 47                  593  \n",
       "12230                 51                  593  \n",
       "1381                  23                  593  \n",
       "1704                  32                  593  \n",
       "2072                  54                  593  \n",
       "2460                  39                  593  \n",
       "2817                  34                  593  \n",
       "3194                  27                  593  \n",
       "3541                  48                  593  "
      ]
     },
     "execution_count": 11,
     "metadata": {},
     "output_type": "execute_result"
    }
   ],
   "source": [
    "pre_res_trait[pre_res_trait[\"term\"] == \"EFO_0004464\"]"
   ]
  },
  {
   "cell_type": "code",
   "execution_count": null,
   "metadata": {},
   "outputs": [],
   "source": []
  },
  {
   "cell_type": "markdown",
   "metadata": {},
   "source": [
    "## Run motif enrichment analysis"
   ]
  },
  {
   "cell_type": "code",
   "execution_count": 13,
   "metadata": {},
   "outputs": [
    {
     "data": {
      "text/plain": [
       "{'motif_file': '/cellar/users/aklie/opt/gene_program_evaluation/src/tests/test_data/motifs.meme',\n",
       " 'seq_file': '/cellar/users/aklie/data/ref/genomes/hg38/hg38.fa',\n",
       " 'loci_files': ['/cellar/users/aklie/opt/gene_program_evaluation/examples/datasets/iPSC_EC/EnhancerPredictions_D0_2024_09_07.txt',\n",
       "  '/cellar/users/aklie/opt/gene_program_evaluation/examples/datasets/iPSC_EC/EnhancerPredictions_sample_D1_2024_09_07.txt',\n",
       "  '/cellar/users/aklie/opt/gene_program_evaluation/examples/datasets/iPSC_EC/EnhancerPredictions_sample_D2_2024_09_07.txt',\n",
       "  '/cellar/users/aklie/opt/gene_program_evaluation/examples/datasets/iPSC_EC/EnhancerPredictions_sample_D3_2024_09_07.txt'],\n",
       " 'names': ['D0', 'sample_D1', 'sample_D2', 'sample_D3'],\n",
       " 'output_loc': None,\n",
       " 'window': 1000,\n",
       " 'threshold': 0.001,\n",
       " 'eps': 0.001,\n",
       " 'reverse_complement': True,\n",
       " 'sig': 0.05,\n",
       " 'num_genes': None,\n",
       " 'correlation': 'pearsonr',\n",
       " 'n_jobs': -1,\n",
       " 'inplace': False}"
      ]
     },
     "execution_count": 13,
     "metadata": {},
     "output_type": "execute_result"
    }
   ],
   "source": [
    "motif_enrichment_config = config['motif_enrichment']\n",
    "motif_enrichment_config"
   ]
  },
  {
   "cell_type": "code",
   "execution_count": 14,
   "metadata": {},
   "outputs": [
    {
     "name": "stderr",
     "output_type": "stream",
     "text": [
      "INFO:root:Running motif enrichment analysis for /cellar/users/aklie/opt/gene_program_evaluation/examples/datasets/iPSC_EC/EnhancerPredictions_D0_2024_09_07.txt\n"
     ]
    },
    {
     "name": "stderr",
     "output_type": "stream",
     "text": [
      "/cellar/users/aklie/opt/miniconda3/envs/test_celloracle/lib/python3.10/site-packages/anndata/_core/anndata.py:1899: UserWarning: Variable names are not unique. To make them unique, call `.var_names_make_unique`.\n",
      "  utils.warn_names_duplicates(\"var\")\n",
      "/cellar/users/aklie/opt/miniconda3/envs/test_celloracle/lib/python3.10/site-packages/mudata/_core/mudata.py:479: UserWarning: var_names are not unique. To make them unique, call `.var_names_make_unique`.\n",
      "  warnings.warn(\n"
     ]
    },
    {
     "name": "stdout",
     "output_type": "stream",
     "text": [
      "Number of matching genes: 4420\n",
      "Number of loci: 15692\n",
      "There are 54366 significant motif matches.\n"
     ]
    },
    {
     "data": {
      "application/vnd.jupyter.widget-view+json": {
       "model_id": "b8b9a59d4ed14de196617190ec76f810",
       "version_major": 2,
       "version_minor": 0
      },
      "text/plain": [
       "Computing motif enrichment:   0%|          | 0/8 [00:00<?, ?motifs/s]"
      ]
     },
     "metadata": {},
     "output_type": "display_data"
    },
    {
     "name": "stderr",
     "output_type": "stream",
     "text": [
      "INFO:root:Running motif enrichment analysis for /cellar/users/aklie/opt/gene_program_evaluation/examples/datasets/iPSC_EC/EnhancerPredictions_sample_D1_2024_09_07.txt\n",
      "/cellar/users/aklie/opt/miniconda3/envs/test_celloracle/lib/python3.10/site-packages/anndata/_core/anndata.py:1899: UserWarning: Variable names are not unique. To make them unique, call `.var_names_make_unique`.\n",
      "  utils.warn_names_duplicates(\"var\")\n",
      "/cellar/users/aklie/opt/miniconda3/envs/test_celloracle/lib/python3.10/site-packages/mudata/_core/mudata.py:479: UserWarning: var_names are not unique. To make them unique, call `.var_names_make_unique`.\n",
      "  warnings.warn(\n"
     ]
    },
    {
     "name": "stdout",
     "output_type": "stream",
     "text": [
      "Number of matching genes: 4420\n",
      "Number of loci: 15997\n",
      "There are 49357 significant motif matches.\n"
     ]
    },
    {
     "data": {
      "application/vnd.jupyter.widget-view+json": {
       "model_id": "903f85bbc78b49eeb332e7ba4a71c28f",
       "version_major": 2,
       "version_minor": 0
      },
      "text/plain": [
       "Computing motif enrichment:   0%|          | 0/8 [00:00<?, ?motifs/s]"
      ]
     },
     "metadata": {},
     "output_type": "display_data"
    },
    {
     "name": "stderr",
     "output_type": "stream",
     "text": [
      "INFO:root:Running motif enrichment analysis for /cellar/users/aklie/opt/gene_program_evaluation/examples/datasets/iPSC_EC/EnhancerPredictions_sample_D2_2024_09_07.txt\n",
      "/cellar/users/aklie/opt/miniconda3/envs/test_celloracle/lib/python3.10/site-packages/anndata/_core/anndata.py:1899: UserWarning: Variable names are not unique. To make them unique, call `.var_names_make_unique`.\n",
      "  utils.warn_names_duplicates(\"var\")\n",
      "/cellar/users/aklie/opt/miniconda3/envs/test_celloracle/lib/python3.10/site-packages/mudata/_core/mudata.py:479: UserWarning: var_names are not unique. To make them unique, call `.var_names_make_unique`.\n",
      "  warnings.warn(\n"
     ]
    },
    {
     "name": "stdout",
     "output_type": "stream",
     "text": [
      "Number of matching genes: 4420\n",
      "Number of loci: 16164\n",
      "There are 53283 significant motif matches.\n"
     ]
    },
    {
     "data": {
      "application/vnd.jupyter.widget-view+json": {
       "model_id": "4e3ab1673c2d4f35bdfdda030fd88d71",
       "version_major": 2,
       "version_minor": 0
      },
      "text/plain": [
       "Computing motif enrichment:   0%|          | 0/8 [00:00<?, ?motifs/s]"
      ]
     },
     "metadata": {},
     "output_type": "display_data"
    },
    {
     "name": "stderr",
     "output_type": "stream",
     "text": [
      "INFO:root:Running motif enrichment analysis for /cellar/users/aklie/opt/gene_program_evaluation/examples/datasets/iPSC_EC/EnhancerPredictions_sample_D3_2024_09_07.txt\n",
      "/cellar/users/aklie/opt/miniconda3/envs/test_celloracle/lib/python3.10/site-packages/anndata/_core/anndata.py:1899: UserWarning: Variable names are not unique. To make them unique, call `.var_names_make_unique`.\n",
      "  utils.warn_names_duplicates(\"var\")\n",
      "/cellar/users/aklie/opt/miniconda3/envs/test_celloracle/lib/python3.10/site-packages/mudata/_core/mudata.py:479: UserWarning: var_names are not unique. To make them unique, call `.var_names_make_unique`.\n",
      "  warnings.warn(\n"
     ]
    },
    {
     "name": "stdout",
     "output_type": "stream",
     "text": [
      "Number of matching genes: 4420\n",
      "Number of loci: 16263\n",
      "There are 50764 significant motif matches.\n"
     ]
    },
    {
     "data": {
      "application/vnd.jupyter.widget-view+json": {
       "model_id": "528d9e8d7219482a942345f842d2a9de",
       "version_major": 2,
       "version_minor": 0
      },
      "text/plain": [
       "Computing motif enrichment:   0%|          | 0/8 [00:00<?, ?motifs/s]"
      ]
     },
     "metadata": {},
     "output_type": "display_data"
    }
   ],
   "source": [
    "# Run motif enrichment and save results\n",
    "loci_files = motif_enrichment_config['loci_files']\n",
    "names = motif_enrichment_config['names']\n",
    "for loci_file, name in zip(loci_files, names):\n",
    "    logging.info(f'Running motif enrichment analysis for {loci_file}')\n",
    "    motif_match_df, motif_count_df, motif_enrichment_df = compute_motif_enrichment(\n",
    "        mdata, \n",
    "        prog_key=prog_key,\n",
    "        data_key=data_key,\n",
    "        loci_file=loci_file,\n",
    "        **motif_enrichment_config,\n",
    "    )\n",
    "    motif_match_df.to_csv(os.path.join(path_out, f'{prog_key}_enhancer_test_{motif_enrichment_config[\"correlation\"]}_sample_{name}_motif_match.txt'), sep='\\t', index=False)\n",
    "    motif_count_df.to_csv(os.path.join(path_out, f'{prog_key}_enhancer_test_{motif_enrichment_config[\"correlation\"]}_sample_{name}_motif_count.txt'), sep='\\t', index=False)\n",
    "    motif_enrichment_df.to_csv(os.path.join(path_out, f'{prog_key}_enhancer_test_{motif_enrichment_config[\"correlation\"]}_sample_{name}_motif_enrichment.txt'), sep='\\t', index=False)"
   ]
  },
  {
   "cell_type": "markdown",
   "metadata": {},
   "source": [
    "## Run explained variance"
   ]
  },
  {
   "cell_type": "code",
   "execution_count": 15,
   "metadata": {},
   "outputs": [
    {
     "name": "stderr",
     "output_type": "stream",
     "text": [
      "/cellar/users/aklie/opt/miniconda3/envs/test_celloracle/lib/python3.10/site-packages/anndata/_core/anndata.py:1899: UserWarning: Variable names are not unique. To make them unique, call `.var_names_make_unique`.\n",
      "  utils.warn_names_duplicates(\"var\")\n",
      "/cellar/users/aklie/opt/miniconda3/envs/test_celloracle/lib/python3.10/site-packages/mudata/_core/mudata.py:479: UserWarning: var_names are not unique. To make them unique, call `.var_names_make_unique`.\n",
      "  warnings.warn(\n"
     ]
    },
    {
     "data": {
      "application/vnd.jupyter.widget-view+json": {
       "model_id": "7850b62bbc6749d88cad01bb7b832696",
       "version_major": 2,
       "version_minor": 0
      },
      "text/plain": [
       "Computing explained variance:   0%|          | 0/30 [00:00<?, ?programs/s]"
      ]
     },
     "metadata": {},
     "output_type": "display_data"
    }
   ],
   "source": [
    "# Run explained variance\n",
    "explained_variance_config = config['explained_variance']\n",
    "explained_variance_ratio = compute_explained_variance_ratio(\n",
    "    mdata, \n",
    "    prog_key=prog_key,\n",
    "    data_key=data_key,\n",
    "    **explained_variance_config,\n",
    ")\n",
    "explained_variance_ratio.index = mdata.mod[prog_key].var.index\n",
    "explained_variance_ratio.index.name = 'program_name'\n",
    "explained_variance_ratio.columns = [\"variance_explained_ratio\"]\n",
    "explained_variance_ratio.to_csv(os.path.join(path_out, f'{prog_key}_variance_explained_ratio.txt'), sep='\\t', index=True)"
   ]
  },
  {
   "cell_type": "markdown",
   "metadata": {},
   "source": [
    "## Software versions"
   ]
  },
  {
   "cell_type": "code",
   "execution_count": 17,
   "metadata": {},
   "outputs": [],
   "source": [
    "# Save software versions\n",
    "import joblib\n",
    "import numpy as np\n",
    "import scipy\n",
    "import sklearn\n",
    "import statsmodels\n",
    "import scikit_posthocs as posthocs\n",
    "import gseapy\n",
    "import tangermeme\n",
    "\n",
    "versions = {\n",
    "    \"evaluation_pipeline_versions\": {\n",
    "        'gene_program_evaluation': '0.0.1',\n",
    "        'numpy': np.__version__,\n",
    "        'pandas': pd.__version__,\n",
    "        'mudata': mudata.__version__,\n",
    "        'scipy': scipy.__version__,\n",
    "        'scikit-learn': sklearn.__version__,\n",
    "        'scikit-posthocs': posthocs.__version__,\n",
    "        'statsmodels': statsmodels.__version__,\n",
    "        'gseapy': gseapy.__version__,  # gene set enrichment analysis\n",
    "        'tangermeme': tangermeme.__version__,  # motif enrichment analysis\n",
    "    }\n",
    "}\n",
    "\n",
    "with open(os.path.join(path_out, 'software_versions.yml'), 'w') as f:\n",
    "    yaml.dump(versions, f)"
   ]
  },
  {
   "cell_type": "markdown",
   "metadata": {},
   "source": [
    "# DONE!"
   ]
  },
  {
   "cell_type": "markdown",
   "metadata": {},
   "source": [
    "---"
   ]
  }
 ],
 "metadata": {
  "kernelspec": {
   "display_name": "Python 3.10 test_celloracle",
   "language": "python",
   "name": "test_scenicplus-py310"
  },
  "language_info": {
   "codemirror_mode": {
    "name": "ipython",
    "version": 3
   },
   "file_extension": ".py",
   "mimetype": "text/x-python",
   "name": "python",
   "nbconvert_exporter": "python",
   "pygments_lexer": "ipython3",
   "version": "3.10.8"
  },
  "orig_nbformat": 4
 },
 "nbformat": 4,
 "nbformat_minor": 2
}
