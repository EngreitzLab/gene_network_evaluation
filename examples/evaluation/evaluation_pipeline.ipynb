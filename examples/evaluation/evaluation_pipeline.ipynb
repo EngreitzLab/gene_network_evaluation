{
 "cells": [
  {
   "cell_type": "markdown",
   "metadata": {},
   "source": [
    "# Set-up"
   ]
  },
  {
   "cell_type": "code",
   "execution_count": 31,
   "metadata": {},
   "outputs": [],
   "source": [
    "import os\n",
    "import sys\n",
    "import yaml\n",
    "import logging\n",
    "import mudata\n",
    "import pandas as pd\n",
    "\n",
    "# Change path to wherever you have repo locally\n",
    "sys.path.append('/cellar/users/aklie/opt/gene_program_evaluation')\n",
    "\n",
    "from src.evaluation import (\n",
    "    compute_categorical_association,\n",
    "    compute_geneset_enrichment,\n",
    "    compute_trait_enrichment,\n",
    "    compute_perturbation_association,\n",
    "    compute_explained_variance_ratio,\n",
    "    compute_motif_enrichment\n",
    ")\n",
    "from src.evaluation.enrichment_trait import process_enrichment_data"
   ]
  },
  {
   "cell_type": "code",
   "execution_count": 32,
   "metadata": {},
   "outputs": [],
   "source": [
    "# I/O paths\n",
    "path_config = \"/cellar/users/aklie/opt/gene_program_evaluation/examples/evaluation/iPSC_EC/cNMF_30/evaluation_pipeline.yml\"\n",
    "config = yaml.safe_load(open(path_config))"
   ]
  },
  {
   "cell_type": "markdown",
   "metadata": {},
   "source": [
    "## I/O"
   ]
  },
  {
   "cell_type": "code",
   "execution_count": 33,
   "metadata": {},
   "outputs": [
    {
     "data": {
      "text/plain": [
       "{'path_mdata': '/cellar/users/aklie/opt/gene_program_evaluation/examples/inference/iPSC_EC/cNMF/cNMF_30_0.2_gene_names.h5mu',\n",
       " 'path_out': '/cellar/users/aklie/opt/gene_program_evaluation/examples/evaluation/iPSC_EC/cNMF_30',\n",
       " 'data_key': 'rna',\n",
       " 'prog_key': 'cNMF'}"
      ]
     },
     "execution_count": 33,
     "metadata": {},
     "output_type": "execute_result"
    }
   ],
   "source": [
    "io_config = config['io']\n",
    "io_config"
   ]
  },
  {
   "cell_type": "code",
   "execution_count": 34,
   "metadata": {},
   "outputs": [
    {
     "name": "stderr",
     "output_type": "stream",
     "text": [
      "/cellar/users/aklie/opt/miniconda3/envs/test_celloracle/lib/python3.10/site-packages/anndata/_core/anndata.py:522: FutureWarning: The dtype argument is deprecated and will be removed in late 2024.\n",
      "  warnings.warn(\n",
      "/cellar/users/aklie/opt/miniconda3/envs/test_celloracle/lib/python3.10/site-packages/anndata/_core/anndata.py:522: FutureWarning: The dtype argument is deprecated and will be removed in late 2024.\n",
      "  warnings.warn(\n",
      "/cellar/users/aklie/opt/miniconda3/envs/test_celloracle/lib/python3.10/site-packages/anndata/_core/anndata.py:1899: UserWarning: Variable names are not unique. To make them unique, call `.var_names_make_unique`.\n",
      "  utils.warn_names_duplicates(\"var\")\n",
      "/cellar/users/aklie/opt/miniconda3/envs/test_celloracle/lib/python3.10/site-packages/mudata/_core/mudata.py:479: UserWarning: var_names are not unique. To make them unique, call `.var_names_make_unique`.\n",
      "  warnings.warn(\n"
     ]
    },
    {
     "data": {
      "text/html": [
       "<pre>MuData object with n_obs × n_vars = 92284 × 5481\n",
       "  2 modalities\n",
       "    rna:\t92284 x 5451\n",
       "      obs:\t&#x27;sample&#x27;, &#x27;species&#x27;, &#x27;gene_count&#x27;, &#x27;tscp_count&#x27;, &#x27;mread_count&#x27;, &#x27;leiden&#x27;, &#x27;n_counts&#x27;\n",
       "      obsm:\t&#x27;X_pca&#x27;, &#x27;X_umap&#x27;\n",
       "      layers:\t&#x27;norm10k&#x27;\n",
       "    cNMF:\t92284 x 30\n",
       "      obs:\t&#x27;sample&#x27;, &#x27;species&#x27;, &#x27;gene_count&#x27;, &#x27;tscp_count&#x27;, &#x27;mread_count&#x27;, &#x27;leiden&#x27;, &#x27;n_counts&#x27;\n",
       "      uns:\t&#x27;guide_names&#x27;, &#x27;guide_targets&#x27;, &#x27;var_names&#x27;\n",
       "      obsm:\t&#x27;guide_assignment&#x27;\n",
       "      varm:\t&#x27;loadings&#x27;</pre>"
      ],
      "text/plain": [
       "MuData object with n_obs × n_vars = 92284 × 5481\n",
       "  2 modalities\n",
       "    rna:\t92284 x 5451\n",
       "      obs:\t'sample', 'species', 'gene_count', 'tscp_count', 'mread_count', 'leiden', 'n_counts'\n",
       "      obsm:\t'X_pca', 'X_umap'\n",
       "      layers:\t'norm10k'\n",
       "    cNMF:\t92284 x 30\n",
       "      obs:\t'sample', 'species', 'gene_count', 'tscp_count', 'mread_count', 'leiden', 'n_counts'\n",
       "      uns:\t'guide_names', 'guide_targets', 'var_names'\n",
       "      obsm:\t'guide_assignment'\n",
       "      varm:\t'loadings'"
      ]
     },
     "execution_count": 34,
     "metadata": {},
     "output_type": "execute_result"
    }
   ],
   "source": [
    "# Load mdata\n",
    "path_mdata = io_config['path_mdata']\n",
    "mdata = mudata.read(path_mdata)\n",
    "mdata"
   ]
  },
  {
   "cell_type": "code",
   "execution_count": 35,
   "metadata": {},
   "outputs": [],
   "source": [
    "# Make path_out directory\n",
    "path_out = io_config['path_out']\n",
    "if not os.path.exists(path_out):\n",
    "    os.makedirs(path_out)"
   ]
  },
  {
   "cell_type": "code",
   "execution_count": 36,
   "metadata": {},
   "outputs": [
    {
     "name": "stderr",
     "output_type": "stream",
     "text": [
      "/cellar/users/aklie/opt/miniconda3/envs/test_celloracle/lib/python3.10/site-packages/mudata/_core/mudata.py:479: UserWarning: var_names are not unique. To make them unique, call `.var_names_make_unique`.\n",
      "  warnings.warn(\n",
      "/cellar/users/aklie/opt/miniconda3/envs/test_celloracle/lib/python3.10/site-packages/mudata/_core/mudata.py:479: UserWarning: var_names are not unique. To make them unique, call `.var_names_make_unique`.\n",
      "  warnings.warn(\n"
     ]
    }
   ],
   "source": [
    "# Update cNMF key to cNMF_30 and save\n",
    "old_prog_key = io_config['prog_key']\n",
    "prog_key = os.path.basename(path_out)\n",
    "mdata.mod[prog_key] = mdata.mod.pop(old_prog_key)\n",
    "mdata.update()\n",
    "mdata.write(os.path.join(path_out, 'eval.h5mu'))"
   ]
  },
  {
   "cell_type": "code",
   "execution_count": 37,
   "metadata": {},
   "outputs": [
    {
     "data": {
      "text/plain": [
       "'rna'"
      ]
     },
     "execution_count": 37,
     "metadata": {},
     "output_type": "execute_result"
    }
   ],
   "source": [
    "# Get data key\n",
    "data_key= io_config['data_key']\n",
    "data_key"
   ]
  },
  {
   "cell_type": "code",
   "execution_count": 38,
   "metadata": {},
   "outputs": [],
   "source": [
    "# Set up logging to print to console and also to file in path_out (evaluation_pipeline.log) with overwrite\n",
    "log_path = os.path.join(path_out, 'evaluation_pipeline.log')\n",
    "if os.path.exists(log_path):\n",
    "    os.remove(log_path)\n",
    "logging.basicConfig(level=logging.INFO, format='%(asctime)s - %(levelname)s - %(message)s', handlers=[\n",
    "    logging.FileHandler(log_path, mode='w'),\n",
    "    logging.StreamHandler()\n",
    "])"
   ]
  },
  {
   "cell_type": "markdown",
   "metadata": {},
   "source": [
    "## Run categorical association"
   ]
  },
  {
   "cell_type": "code",
   "execution_count": 39,
   "metadata": {},
   "outputs": [
    {
     "name": "stderr",
     "output_type": "stream",
     "text": [
      "INFO:root:Performing tests at single-cell level. Significance will likely be inflated\n"
     ]
    },
    {
     "data": {
      "application/vnd.jupyter.widget-view+json": {
       "model_id": "a33bb4c77d124ee6968d152608507258",
       "version_major": 2,
       "version_minor": 0
      },
      "text/plain": [
       "Testing sample association:   0%|          | 0/30 [00:00<?, ?programs/s]"
      ]
     },
     "metadata": {},
     "output_type": "display_data"
    },
    {
     "data": {
      "application/vnd.jupyter.widget-view+json": {
       "model_id": "ca1fd22951cc4f529bac79611fb277f7",
       "version_major": 2,
       "version_minor": 0
      },
      "text/plain": [
       "Identifying differential sample:   0%|          | 0/30 [00:00<?, ?programs/s]"
      ]
     },
     "metadata": {},
     "output_type": "display_data"
    }
   ],
   "source": [
    "# Run categorical association and save results\n",
    "categorical_assocation_config = config['categorical_association']\n",
    "results_df, posthoc_df = compute_categorical_association(\n",
    "    mdata, \n",
    "    prog_key=prog_key,\n",
    "    **categorical_assocation_config,\n",
    ")\n",
    "results_df.to_csv(os.path.join(path_out, 'categorical_association_results.txt'), sep='\\t', index=False) \n",
    "posthoc_df.to_csv(os.path.join(path_out, 'categorical_association_posthoc.txt'), sep='\\t', index=False)"
   ]
  },
  {
   "cell_type": "markdown",
   "metadata": {},
   "source": [
    "## Run perturbation association"
   ]
  },
  {
   "cell_type": "code",
   "execution_count": 40,
   "metadata": {},
   "outputs": [
    {
     "name": "stderr",
     "output_type": "stream",
     "text": [
      "INFO:root:No groupby_key provided, running perturbation association on full dataset\n"
     ]
    },
    {
     "data": {
      "application/vnd.jupyter.widget-view+json": {
       "model_id": "5f8788f210c1426da209145202aaae08",
       "version_major": 2,
       "version_minor": 0
      },
      "text/plain": [
       "  0%|          | 0/299 [00:00<?, ?targets/s]"
      ]
     },
     "metadata": {},
     "output_type": "display_data"
    }
   ],
   "source": [
    "# Run perturbation association\n",
    "perturbation_assocation_config = config['perturbation_association']\n",
    "if perturbation_assocation_config[\"groupby_key\"] is not None:\n",
    "    logging.info(\"groupby_key provided, running perturbation association on each group\")\n",
    "    groupby_key = perturbation_assocation_config.pop(\"groupby_key\")\n",
    "    data_key = io_config[\"data_key\"]\n",
    "    perturbation_assocation_df = pd.DataFrame()\n",
    "    for group in mdata[data_key].obs[groupby_key].unique():\n",
    "        mdata_ = mdata[mdata[data_key].obs[groupby_key] == group]\n",
    "        test_stats_df = compute_perturbation_association(\n",
    "            mdata_, \n",
    "            prog_key=prog_key,\n",
    "            **perturbation_assocation_config,\n",
    "        )\n",
    "        test_stats_df.to_csv(os.path.join(path_out, f'perturbation_association_results_{group}.txt'), sep='\\t', index=False)\n",
    "        perturbation_assocation_df = pd.concat([perturbation_assocation_df, test_stats_df])\n",
    "        perturbation_assocation_df[\"group\"] = group\n",
    "    \n",
    "    # Save combined results\n",
    "    perturbation_assocation_df.to_csv(os.path.join(path_out, 'perturbation_association_results.txt'), sep='\\t', index=False)\n",
    "else:\n",
    "    logging.info(\"No groupby_key provided, running perturbation association on full dataset\")\n",
    "    perturbation_assocation_config.pop(\"groupby_key\")\n",
    "    perturbation_assocation_df = compute_perturbation_association(\n",
    "        mdata, \n",
    "        prog_key=prog_key,\n",
    "        **perturbation_assocation_config,\n",
    "    )\n",
    "    perturbation_assocation_df.to_csv(os.path.join(path_out, 'perturbation_association_results.txt'), sep='\\t', index=False)"
   ]
  },
  {
   "cell_type": "markdown",
   "metadata": {},
   "source": [
    "## Run gene set enrichment analysis"
   ]
  },
  {
   "cell_type": "code",
   "execution_count": 41,
   "metadata": {},
   "outputs": [
    {
     "name": "stderr",
     "output_type": "stream",
     "text": [
      "INFO:root:Running gene-set enrichment analysis for Reactome_2022\n",
      "INFO:root:Downloading and generating Enrichr library gene sets...\n",
      "INFO:root:Library is already downloaded in: /cellar/users/aklie/.cache/gseapy/Enrichr.Reactome_2022.gmt, use local file\n",
      "INFO:root:0031 gene_sets have been filtered out when max_size=500 and min_size=5\n"
     ]
    },
    {
     "data": {
      "application/vnd.jupyter.widget-view+json": {
       "model_id": "c5e4418948974b9585d134e886e06cc6",
       "version_major": 2,
       "version_minor": 0
      },
      "text/plain": [
       "Running Fisher enrichment:   0%|          | 0/30 [00:00<?, ?programs/s]"
      ]
     },
     "metadata": {},
     "output_type": "display_data"
    },
    {
     "name": "stderr",
     "output_type": "stream",
     "text": [
      "INFO:root:Running gene-set enrichment analysis for GO_Biological_Process_2023\n",
      "INFO:root:Downloading and generating Enrichr library gene sets...\n",
      "INFO:root:Library is already downloaded in: /cellar/users/aklie/.cache/gseapy/Enrichr.GO_Biological_Process_2023.gmt, use local file\n",
      "INFO:root:0014 gene_sets have been filtered out when max_size=500 and min_size=5\n"
     ]
    },
    {
     "data": {
      "application/vnd.jupyter.widget-view+json": {
       "model_id": "ee1794d5b13d4954b6ed0a035d6dfbd5",
       "version_major": 2,
       "version_minor": 0
      },
      "text/plain": [
       "Running Fisher enrichment:   0%|          | 0/30 [00:00<?, ?programs/s]"
      ]
     },
     "metadata": {},
     "output_type": "display_data"
    }
   ],
   "source": [
    "# Gene-set enrichment\n",
    "gene_set_enrichment_config = config['gene_set_enrichment']\n",
    "libraries = gene_set_enrichment_config.pop('libraries')\n",
    "gene_set_enrichment_df = pd.DataFrame()\n",
    "data_key = io_config['data_key']\n",
    "for library in libraries:\n",
    "    logging.info(f'Running gene-set enrichment analysis for {library}')\n",
    "    pre_res = compute_geneset_enrichment(\n",
    "        mdata, \n",
    "        prog_key=prog_key,\n",
    "        data_key=data_key,\n",
    "        library=library,\n",
    "        **gene_set_enrichment_config,\n",
    "    )\n",
    "\n",
    "    if gene_set_enrichment_config[\"method\"] == \"fisher\":\n",
    "        pre_res = pre_res.rename(columns={\"Term\": \"term\", \"P-value\": \"pval\", \"Adjusted P-value\": \"adj_pval\", \"Odds Ratio\": \"effect_size\", \"Genes\": \"genes\"})\n",
    "    elif gene_set_enrichment_config[\"method\"] == \"gsea\":\n",
    "        pre_res = pre_res.rename(columns={\"Term\": \"term\", \"NOM p-val\": \"pval\", \"FDR q-val\": \"adj_pval\", \"NES\": \"effect_size\", \"Lead_genes\": \"genes\"})\n",
    "    \n",
    "    # Save results\n",
    "    pre_res['library'] = library\n",
    "    pre_res.to_csv(os.path.join(path_out, f'geneset_enrichment_{library}.txt'), sep='\\t', index=False)\n",
    "    gene_set_enrichment_df = pd.concat([gene_set_enrichment_df, pre_res])\n",
    "\n",
    "# Save combined results\n",
    "gene_set_enrichment_df.to_csv(os.path.join(path_out, 'geneset_enrichment.txt'), sep='\\t', index=False)"
   ]
  },
  {
   "cell_type": "code",
   "execution_count": 42,
   "metadata": {},
   "outputs": [
    {
     "data": {
      "text/plain": [
       "'/cellar/users/aklie/opt/gene_program_evaluation/examples/evaluation/iPSC_EC/cNMF_30/geneset_enrichment.txt'"
      ]
     },
     "execution_count": 42,
     "metadata": {},
     "output_type": "execute_result"
    }
   ],
   "source": [
    "os.path.join(path_out, 'geneset_enrichment.txt')"
   ]
  },
  {
   "cell_type": "markdown",
   "metadata": {},
   "source": [
    "## Run trait enrichment analysis"
   ]
  },
  {
   "cell_type": "code",
   "execution_count": 43,
   "metadata": {},
   "outputs": [
    {
     "data": {
      "application/vnd.jupyter.widget-view+json": {
       "model_id": "6aee1c0232e2475291a28585a34cee80",
       "version_major": 2,
       "version_minor": 0
      },
      "text/plain": [
       "Running Fisher enrichment:   0%|          | 0/30 [00:00<?, ?programs/s]"
      ]
     },
     "metadata": {},
     "output_type": "display_data"
    }
   ],
   "source": [
    "# Run trait enrichment, process and save results\n",
    "trait_enrichment_config = config['trait_enrichment']\n",
    "pre_res_trait = compute_trait_enrichment(\n",
    "    mdata, \n",
    "    prog_key=prog_key,\n",
    "    data_key=data_key,\n",
    "    gwas_data=trait_enrichment_config['gwas_data'],\n",
    "    prog_nam=trait_enrichment_config['prog_nam'],\n",
    "    library=trait_enrichment_config['library'],\n",
    "    n_jobs=trait_enrichment_config['n_jobs'],\n",
    "    inplace=trait_enrichment_config['inplace'],\n",
    "    key_column=trait_enrichment_config['key_column'],\n",
    "    gene_column=trait_enrichment_config['gene_column'],\n",
    "    method=trait_enrichment_config['method'],\n",
    "    loading_rank_thresh=trait_enrichment_config['loading_rank_thresh'],\n",
    ")\n",
    "if trait_enrichment_config[\"method\"] == \"fisher\":\n",
    "    pre_res_trait = pre_res_trait.rename(columns={\"Term\": \"term\", \"P-value\": \"pval\", \"Adjusted P-value\": \"adj_pval\", \"Odds Ratio\": \"effect_size\", \"Genes\": \"genes\"})\n",
    "elif trati_enrichment_config[\"method\"] == \"gsea\":\n",
    "    pre_res_trait = pre_res_trait.rename(columns={\"Term\": \"term\", \"NOM p-val\": \"pval\", \"FDR q-val\": \"adj_pval\", \"NES\": \"effect_size\", \"Lead_genes\": \"genes\"})\n",
    "pre_res_trait.to_csv(os.path.join(path_out, 'trait_enrichment.txt'), sep='\\t', index=False)\n",
    "data = process_enrichment_data(\n",
    "    enrich_res=pre_res_trait,\n",
    "    metadata=trait_enrichment_config['metadata'],\n",
    "    pval_col=trait_enrichment_config[\"pval_col\"],\n",
    "    enrich_geneset_id_col=trait_enrichment_config[\"enrich_geneset_id_col\"],\n",
    "    metadata_geneset_id_col=trait_enrichment_config[\"metadata_geneset_id_col\"],\n",
    "    color_category_col=trait_enrichment_config[\"color_category_col\"],\n",
    "    program_name_col=trait_enrichment_config[\"program_name_col\"],\n",
    "    annotation_cols=trait_enrichment_config[\"annotation_cols\"],\n",
    ")\n",
    "data.to_csv(os.path.join(path_out, \"trait_enrichment_processed.txt\"), sep='\\t', index=False)"
   ]
  },
  {
   "cell_type": "markdown",
   "metadata": {},
   "source": [
    "## Run motif enrichment analysis"
   ]
  },
  {
   "cell_type": "code",
   "execution_count": 44,
   "metadata": {},
   "outputs": [
    {
     "name": "stderr",
     "output_type": "stream",
     "text": [
      "/cellar/users/aklie/opt/miniconda3/envs/test_celloracle/lib/python3.10/site-packages/anndata/_core/anndata.py:1899: UserWarning: Variable names are not unique. To make them unique, call `.var_names_make_unique`.\n",
      "  utils.warn_names_duplicates(\"var\")\n",
      "/cellar/users/aklie/opt/miniconda3/envs/test_celloracle/lib/python3.10/site-packages/mudata/_core/mudata.py:479: UserWarning: var_names are not unique. To make them unique, call `.var_names_make_unique`.\n",
      "  warnings.warn(\n"
     ]
    },
    {
     "data": {
      "application/vnd.jupyter.widget-view+json": {
       "model_id": "e78dfae228e64442a6b912a6ce503a5f",
       "version_major": 2,
       "version_minor": 0
      },
      "text/plain": [
       "Matching motifs to sequences:   0%|          | 0/8 [00:00<?, ?motifs/s]"
      ]
     },
     "metadata": {},
     "output_type": "display_data"
    },
    {
     "data": {
      "application/vnd.jupyter.widget-view+json": {
       "model_id": "e785f882eb69429393aac3c227de9b2c",
       "version_major": 2,
       "version_minor": 0
      },
      "text/plain": [
       "Motif scanning:   0%|          | 0/3 [00:00<?, ?genes/s]"
      ]
     },
     "metadata": {},
     "output_type": "display_data"
    },
    {
     "data": {
      "application/vnd.jupyter.widget-view+json": {
       "model_id": "dc25503eaca94dc5b726161fbd81e326",
       "version_major": 2,
       "version_minor": 0
      },
      "text/plain": [
       "Motif scanning:   0%|          | 0/3 [00:00<?, ?genes/s]"
      ]
     },
     "metadata": {},
     "output_type": "display_data"
    },
    {
     "data": {
      "application/vnd.jupyter.widget-view+json": {
       "model_id": "9f314fe4a561459a947cb98ca61c8206",
       "version_major": 2,
       "version_minor": 0
      },
      "text/plain": [
       "Motif scanning:   0%|          | 0/3 [00:00<?, ?genes/s]"
      ]
     },
     "metadata": {},
     "output_type": "display_data"
    },
    {
     "data": {
      "application/vnd.jupyter.widget-view+json": {
       "model_id": "298406cf540e476c996bbfc0c69ce2d8",
       "version_major": 2,
       "version_minor": 0
      },
      "text/plain": [
       "Motif scanning:   0%|          | 0/3 [00:00<?, ?genes/s]"
      ]
     },
     "metadata": {},
     "output_type": "display_data"
    },
    {
     "data": {
      "application/vnd.jupyter.widget-view+json": {
       "model_id": "a593bb701ce241feb78fd68258223a89",
       "version_major": 2,
       "version_minor": 0
      },
      "text/plain": [
       "Motif scanning:   0%|          | 0/3 [00:00<?, ?genes/s]"
      ]
     },
     "metadata": {},
     "output_type": "display_data"
    },
    {
     "data": {
      "application/vnd.jupyter.widget-view+json": {
       "model_id": "7728d15abed64837890119cfe851c043",
       "version_major": 2,
       "version_minor": 0
      },
      "text/plain": [
       "Motif scanning:   0%|          | 0/3 [00:00<?, ?genes/s]"
      ]
     },
     "metadata": {},
     "output_type": "display_data"
    },
    {
     "data": {
      "application/vnd.jupyter.widget-view+json": {
       "model_id": "823289cad37446dca4d6d0f4ba0774fe",
       "version_major": 2,
       "version_minor": 0
      },
      "text/plain": [
       "Motif scanning:   0%|          | 0/3 [00:00<?, ?genes/s]"
      ]
     },
     "metadata": {},
     "output_type": "display_data"
    },
    {
     "data": {
      "application/vnd.jupyter.widget-view+json": {
       "model_id": "ad446c667d914ec7b2cb4fecb10859a3",
       "version_major": 2,
       "version_minor": 0
      },
      "text/plain": [
       "Motif scanning:   0%|          | 0/3 [00:00<?, ?genes/s]"
      ]
     },
     "metadata": {},
     "output_type": "display_data"
    },
    {
     "data": {
      "application/vnd.jupyter.widget-view+json": {
       "model_id": "7667a3e26ee54f36ac92d52d8235e44c",
       "version_major": 2,
       "version_minor": 0
      },
      "text/plain": [
       "Computing motif enrichment:   0%|          | 0/5 [00:00<?, ?motifs/s]"
      ]
     },
     "metadata": {},
     "output_type": "display_data"
    }
   ],
   "source": [
    "# Run motif enrichment and save results\n",
    "motif_enrichment_config = config['motif_enrichment']\n",
    "motif_match_df, motif_count_df, motif_enrichment_df = compute_motif_enrichment(\n",
    "    mdata, \n",
    "    prog_key=prog_key,\n",
    "    data_key=data_key,\n",
    "    **motif_enrichment_config,\n",
    ")\n",
    "motif_match_df.to_csv(os.path.join(path_out, 'motif_enrichment_matches.txt'), sep='\\t', index=False)\n",
    "motif_count_df.to_csv(os.path.join(path_out, 'motif_enrichment_counts.txt'), sep='\\t', index=False)\n",
    "motif_enrichment_df.to_csv(os.path.join(path_out, 'motif_enrichment.txt'), sep='\\t', index=False)"
   ]
  },
  {
   "cell_type": "markdown",
   "metadata": {},
   "source": [
    "## Run explained variance"
   ]
  },
  {
   "cell_type": "code",
   "execution_count": 45,
   "metadata": {},
   "outputs": [
    {
     "name": "stderr",
     "output_type": "stream",
     "text": [
      "/cellar/users/aklie/opt/miniconda3/envs/test_celloracle/lib/python3.10/site-packages/anndata/_core/anndata.py:1899: UserWarning: Variable names are not unique. To make them unique, call `.var_names_make_unique`.\n",
      "  utils.warn_names_duplicates(\"var\")\n",
      "/cellar/users/aklie/opt/miniconda3/envs/test_celloracle/lib/python3.10/site-packages/mudata/_core/mudata.py:479: UserWarning: var_names are not unique. To make them unique, call `.var_names_make_unique`.\n",
      "  warnings.warn(\n"
     ]
    },
    {
     "data": {
      "application/vnd.jupyter.widget-view+json": {
       "model_id": "acfd4a35711948778aa92b16e601124e",
       "version_major": 2,
       "version_minor": 0
      },
      "text/plain": [
       "Computing explained variance:   0%|          | 0/30 [00:00<?, ?programs/s]"
      ]
     },
     "metadata": {},
     "output_type": "display_data"
    }
   ],
   "source": [
    "# Run explained variance\n",
    "explained_variance_config = config['explained_variance']\n",
    "explained_variance_ratio = compute_explained_variance_ratio(\n",
    "    mdata, \n",
    "    prog_key=prog_key,\n",
    "    data_key=data_key,\n",
    "    **explained_variance_config,\n",
    ")\n",
    "explained_variance_ratio.to_csv(os.path.join(path_out, 'explained_variance_ratio.txt'), sep='\\t')"
   ]
  },
  {
   "cell_type": "markdown",
   "metadata": {},
   "source": [
    "## Software versions"
   ]
  },
  {
   "cell_type": "code",
   "execution_count": 46,
   "metadata": {},
   "outputs": [],
   "source": [
    "import joblib\n",
    "import numpy as np\n",
    "import pandas as pd\n",
    "import scipy\n",
    "import sklearn\n",
    "import scikit_posthocs as posthocs\n",
    "import gseapy\n",
    "import pymemesuite\n",
    "\n",
    "versions = {\n",
    "    \"evaluation_pipeline_versions\": {\n",
    "        'gene_program_evaluation': '0.0.1',\n",
    "        'mudata': mudata.__version__,\n",
    "        'joblib': joblib.__version__,\n",
    "        'scipy': scipy.__version__,\n",
    "        'numpy': np.__version__,\n",
    "        'pandas': pd.__version__,\n",
    "        'scikit-learn': sklearn.__version__,\n",
    "        'scikit-posthocs': posthocs.__version__,\n",
    "        'gseapy': gseapy.__version__,\n",
    "        'pymemesuite': pymemesuite.__version__,\n",
    "    }\n",
    "}\n",
    "\n",
    "with open(os.path.join(path_out, 'software_versions.yml'), 'w') as f:\n",
    "    yaml.dump(versions, f)"
   ]
  },
  {
   "cell_type": "markdown",
   "metadata": {},
   "source": [
    "## Run post-flight checks"
   ]
  },
  {
   "cell_type": "code",
   "execution_count": 47,
   "metadata": {},
   "outputs": [
    {
     "name": "stderr",
     "output_type": "stream",
     "text": [
      "Exception ignored in atexit callback: <bound method InteractiveShell.atexit_operations of <ipykernel.zmqshell.ZMQInteractiveShell object at 0x155551779e10>>\n",
      "Traceback (most recent call last):\n",
      "  File \"/cellar/users/aklie/opt/miniconda3/envs/test_celloracle/lib/python3.10/site-packages/IPython/core/interactiveshell.py\", line 3917, in atexit_operations\n",
      "    self._atexit_once()\n",
      "  File \"/cellar/users/aklie/opt/miniconda3/envs/test_celloracle/lib/python3.10/site-packages/IPython/core/interactiveshell.py\", line 3900, in _atexit_once\n",
      "    self.history_manager.end_session()\n",
      "  File \"/cellar/users/aklie/opt/miniconda3/envs/test_celloracle/lib/python3.10/site-packages/IPython/core/history.py\", line 583, in end_session\n",
      "    self.writeout_cache()\n",
      "  File \"/cellar/users/aklie/opt/miniconda3/envs/test_celloracle/lib/python3.10/site-packages/decorator.py\", line 232, in fun\n",
      "    return caller(func, *(extras + args), **kw)\n",
      "  File \"/cellar/users/aklie/opt/miniconda3/envs/test_celloracle/lib/python3.10/site-packages/IPython/core/history.py\", line 60, in only_when_enabled\n",
      "    return f(self, *a, **kw)\n",
      "  File \"/cellar/users/aklie/opt/miniconda3/envs/test_celloracle/lib/python3.10/site-packages/IPython/core/history.py\", line 844, in writeout_cache\n",
      "    self._writeout_input_cache(conn)\n",
      "  File \"/cellar/users/aklie/opt/miniconda3/envs/test_celloracle/lib/python3.10/site-packages/IPython/core/history.py\", line 827, in _writeout_input_cache\n",
      "    conn.execute(\"INSERT INTO history VALUES (?, ?, ?, ?)\",\n",
      "sqlite3.DatabaseError: database disk image is malformed\n"
     ]
    }
   ],
   "source": [
    "# Flag any missing files\n",
    "expected_files = [\n",
    "    \"trait_enrichment_processed.txt\",\n",
    "    \"software_versions.yml\",\n",
    "    \"trait_enrichment.txt\",\n",
    "    \"perturbation_association_results.txt\",\n",
    "    \"motif_enrichment_matches.txt\",\n",
    "    \"motif_enrichment_counts.txt\",\n",
    "    \"motif_enrichment.txt\",\n",
    "    \"geneset_enrichment.txt\",\n",
    "    \"explained_variance_ratio.txt\",\n",
    "    \"categorical_association_results.txt\",\n",
    "    \"categorical_association_posthoc.txt\"\n",
    "]\n",
    "for file in expected_files:\n",
    "    if not os.path.exists(os.path.join(path_out, file)):\n",
    "        logging.error(f\"Missing file: {file}\")"
   ]
  },
  {
   "cell_type": "markdown",
   "metadata": {},
   "source": [
    "# DONE!"
   ]
  },
  {
   "cell_type": "markdown",
   "metadata": {},
   "source": [
    "---"
   ]
  }
 ],
 "metadata": {
  "kernelspec": {
   "display_name": "Python 3.10 test_celloracle",
   "language": "python",
   "name": "test_scenicplus-py310"
  },
  "language_info": {
   "codemirror_mode": {
    "name": "ipython",
    "version": 3
   },
   "file_extension": ".py",
   "mimetype": "text/x-python",
   "name": "python",
   "nbconvert_exporter": "python",
   "pygments_lexer": "ipython3",
   "version": "3.10.8"
  },
  "orig_nbformat": 4
 },
 "nbformat": 4,
 "nbformat_minor": 2
}
