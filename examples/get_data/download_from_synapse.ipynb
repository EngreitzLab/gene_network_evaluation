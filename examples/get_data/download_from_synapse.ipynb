{
 "cells": [
  {
   "cell_type": "markdown",
   "metadata": {},
   "source": [
    "# Set-up"
   ]
  },
  {
   "cell_type": "code",
   "execution_count": 1,
   "metadata": {},
   "outputs": [
    {
     "name": "stdout",
     "output_type": "stream",
     "text": [
      "The history saving thread hit an unexpected error (DatabaseError('database disk image is malformed')).History will not be written to the database.\n"
     ]
    }
   ],
   "source": [
    "# Imports\n",
    "import os\n",
    "import synapseclient"
   ]
  },
  {
   "cell_type": "code",
   "execution_count": 2,
   "metadata": {},
   "outputs": [],
   "source": [
    "# Use \"os\" library to read your api keys, or you can hardcode it if that's easier\n",
    "AUTHID = os.environ.get('SYNAPSE_USERNAME')\n",
    "AUTHPW = os.environ.get('SYNAPSE_PASSWORD')"
   ]
  },
  {
   "cell_type": "code",
   "execution_count": 3,
   "metadata": {},
   "outputs": [
    {
     "name": "stderr",
     "output_type": "stream",
     "text": [
      "\n",
      "UPGRADE AVAILABLE\n",
      "\n",
      "A more recent version of the Synapse Client (4.4.1) is available. Your version (2.6.0) can be upgraded by typing:\n",
      "    pip install --upgrade synapseclient\n",
      "\n",
      "Python Synapse Client version 4.4.1 release notes\n",
      "\n",
      "https://python-docs.synapse.org/news/\n",
      "\n"
     ]
    },
    {
     "name": "stdout",
     "output_type": "stream",
     "text": [
      "Welcome, Adam Klie!\n",
      "\n"
     ]
    }
   ],
   "source": [
    "# Log-in\n",
    "syn = synapseclient.Synapse() \n",
    "syn.login(AUTHID, AUTHPW)"
   ]
  },
  {
   "cell_type": "markdown",
   "metadata": {},
   "source": [
    "# `iPSC_EC`"
   ]
  },
  {
   "cell_type": "markdown",
   "metadata": {},
   "source": [
    "## `datasets` folder"
   ]
  },
  {
   "cell_type": "code",
   "execution_count": 9,
   "metadata": {},
   "outputs": [],
   "source": [
    "synapse_id = \"syn61874622\"\n",
    "path_datasets = \"/cellar/users/aklie/opt/gene_program_evaluation/dashapp/examples/datasets/iPSC_EC\""
   ]
  },
  {
   "cell_type": "code",
   "execution_count": 5,
   "metadata": {},
   "outputs": [
    {
     "name": "stdout",
     "output_type": "stream",
     "text": [
      "Downloaded:  EnhancerPredictions_D0.txt\n",
      "Downloaded:  EnhancerPredictions_sample_D1.txt\n",
      "Downloaded:  EnhancerPredictions_sample_D2.txt\n",
      "Downloaded:  EnhancerPredictions_sample_D3.txt\n",
      "Downloaded:  cNMF_100_0.2_gene_names.h5mu\n",
      "Downloaded:  cNMF_200_0.2_gene_names.h5mu\n",
      "Downloaded:  cNMF_250_0.2_gene_names.h5mu\n",
      "Downloaded:  cNMF_300_0.2_gene_names.h5mu\n",
      "Downloaded:  cNMF_30_0.2_gene_names.h5mu\n",
      "Downloaded:  cNMF_60_0.2_gene_names.h5mu\n",
      "Downloaded:  cNMF_80_0.2_gene_names.h5mu\n",
      "Downloaded:  iPSC_EC.h5mu\n"
     ]
    }
   ],
   "source": [
    "# Download the each file in the synapse folder to the outdir_path\n",
    "files = syn.getChildren(synapse_id)\n",
    "for file in files:\n",
    "    syn.get(file['id'], downloadLocation=path_datasets)\n",
    "    print(\"Downloaded: \", file['name'])"
   ]
  },
  {
   "cell_type": "markdown",
   "metadata": {},
   "source": [
    "## `inference` folder"
   ]
  },
  {
   "cell_type": "code",
   "execution_count": 10,
   "metadata": {},
   "outputs": [],
   "source": [
    "# Mv all the cNMF* files to\n",
    "path_inference = \"/cellar/users/aklie/opt/gene_program_evaluation/dashapp/examples/inference/iPSC_EC\""
   ]
  },
  {
   "cell_type": "code",
   "execution_count": 16,
   "metadata": {},
   "outputs": [
    {
     "data": {
      "text/plain": [
       "'mv /cellar/users/aklie/opt/gene_program_evaluation/dashapp/examples/datasets/iPSC_EC/cNMF* /cellar/users/aklie/opt/gene_program_evaluation/dashapp/examples/inference/iPSC_EC'"
      ]
     },
     "execution_count": 16,
     "metadata": {},
     "output_type": "execute_result"
    }
   ],
   "source": [
    "# Mv all the cNMF* files to\n",
    "cmd = f\"mv \" + path_datasets + \"/cNMF* \" + path_inference\n",
    "cmd"
   ]
  },
  {
   "cell_type": "markdown",
   "metadata": {},
   "source": [
    "## `evaluation` folder"
   ]
  },
  {
   "cell_type": "code",
   "execution_count": 19,
   "metadata": {},
   "outputs": [],
   "source": [
    "synapse_id = \"syn62683374\"\n",
    "path_out = \"/cellar/users/aklie/opt/gene_program_evaluation/dashapp/examples/evaluation/iPSC_EC\""
   ]
  },
  {
   "cell_type": "code",
   "execution_count": 20,
   "metadata": {},
   "outputs": [
    {
     "name": "stdout",
     "output_type": "stream",
     "text": [
      "Downloaded:  240807_cNMF_eval_pipeline_analysis.ipynb\n",
      "Downloaded:  240807_cNMF_followup_analysis.ipynb\n",
      "Downloaded:  cNMF_k_selection.png\n",
      "Downloaded:  cNMF_k_selection_evaluations.png\n"
     ]
    }
   ],
   "source": [
    "# Download the each file in the synapse folder to the outdir_path\n",
    "files = syn.getChildren(synapse_id)\n",
    "for file in files:\n",
    "    syn.get(file['id'], downloadLocation=path_out)\n",
    "    print(\"Downloaded: \", file['name'])"
   ]
  },
  {
   "cell_type": "markdown",
   "metadata": {},
   "source": [
    "# `Bridge_Samples`"
   ]
  },
  {
   "cell_type": "markdown",
   "metadata": {},
   "source": [
    "## `datasets` folder"
   ]
  },
  {
   "cell_type": "code",
   "execution_count": 7,
   "metadata": {},
   "outputs": [],
   "source": [
    "synapse_id = \"syn62672808\"\n",
    "path_datasets = \"/cellar/users/aklie/opt/gene_program_evaluation/examples/datasets/Bridge_Samples\""
   ]
  },
  {
   "cell_type": "code",
   "execution_count": 8,
   "metadata": {},
   "outputs": [
    {
     "name": "stdout",
     "output_type": "stream",
     "text": [
      "Downloaded:  TSTDS36767099_IGVFB01_LeftCortex_Bridge_Parse.h5mu\n"
     ]
    }
   ],
   "source": [
    "# Download the each file in the synapse folder to the outdir_path\n",
    "files = syn.getChildren(synapse_id)\n",
    "for file in files:\n",
    "    syn.get(file['id'], downloadLocation=path_datasets)\n",
    "    print(\"Downloaded: \", file['name'])"
   ]
  },
  {
   "cell_type": "markdown",
   "metadata": {},
   "source": [
    "# DONE!"
   ]
  },
  {
   "cell_type": "markdown",
   "metadata": {},
   "source": [
    "---"
   ]
  }
 ],
 "metadata": {
  "kernelspec": {
   "display_name": "Python 3.7 get_data",
   "language": "python",
   "name": "get_data"
  },
  "language_info": {
   "codemirror_mode": {
    "name": "ipython",
    "version": 3
   },
   "file_extension": ".py",
   "mimetype": "text/x-python",
   "name": "python",
   "nbconvert_exporter": "python",
   "pygments_lexer": "ipython3",
   "version": "3.7.12"
  }
 },
 "nbformat": 4,
 "nbformat_minor": 2
}
