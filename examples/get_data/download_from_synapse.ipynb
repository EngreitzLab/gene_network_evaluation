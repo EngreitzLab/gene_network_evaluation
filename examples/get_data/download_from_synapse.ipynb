{
 "cells": [
  {
   "cell_type": "markdown",
   "metadata": {},
   "source": [
    "# Set-up"
   ]
  },
  {
   "cell_type": "code",
   "execution_count": 1,
   "metadata": {},
   "outputs": [
    {
     "name": "stdout",
     "output_type": "stream",
     "text": [
      "The history saving thread hit an unexpected error (DatabaseError('database disk image is malformed')).History will not be written to the database.\n"
     ]
    }
   ],
   "source": [
    "# Imports\n",
    "import os\n",
    "import synapseclient"
   ]
  },
  {
   "cell_type": "code",
   "execution_count": 2,
   "metadata": {},
   "outputs": [],
   "source": [
    "# Use \"os\" library to read your api keys, or you can hardcode it if that's easier\n",
    "AUTHID = os.environ.get('SYNAPSE_USERNAME')\n",
    "AUTHPW = os.environ.get('SYNAPSE_PASSWORD')"
   ]
  },
  {
   "cell_type": "code",
   "execution_count": 3,
   "metadata": {},
   "outputs": [
    {
     "name": "stderr",
     "output_type": "stream",
     "text": [
      "\n",
      "UPGRADE AVAILABLE\n",
      "\n",
      "A more recent version of the Synapse Client (4.5.0) is available. Your version (2.6.0) can be upgraded by typing:\n",
      "    pip install --upgrade synapseclient\n",
      "\n",
      "Python Synapse Client version 4.5.0 release notes\n",
      "\n",
      "https://python-docs.synapse.org/news/\n",
      "\n"
     ]
    },
    {
     "name": "stdout",
     "output_type": "stream",
     "text": [
      "Welcome, Adam Klie!\n",
      "\n"
     ]
    }
   ],
   "source": [
    "# Log-in\n",
    "syn = synapseclient.Synapse() \n",
    "syn.login(AUTHID, AUTHPW)"
   ]
  },
  {
   "cell_type": "markdown",
   "metadata": {},
   "source": [
    "# `iPSC_EC`"
   ]
  },
  {
   "cell_type": "markdown",
   "metadata": {},
   "source": [
    "## `inference` folder"
   ]
  },
  {
   "cell_type": "markdown",
   "metadata": {},
   "source": [
    "### `cNMF`"
   ]
  },
  {
   "cell_type": "code",
   "execution_count": 11,
   "metadata": {},
   "outputs": [],
   "source": [
    "synapse_id = \"syn61874622\"\n",
    "path_datasets = \"examples/inference/iPSC_EC/cNMF\""
   ]
  },
  {
   "cell_type": "code",
   "execution_count": 6,
   "metadata": {},
   "outputs": [
    {
     "name": "stdout",
     "output_type": "stream",
     "text": [
      "Downloaded:  EnhancerPredictions_D0.txt\n",
      "Downloaded:  EnhancerPredictions_sample_D1.txt\n",
      "Downloaded:  EnhancerPredictions_sample_D2.txt\n",
      "Downloaded:  EnhancerPredictions_sample_D3.txt\n",
      "Downloaded:  cNMF_100_0.2_gene_names.h5mu\n",
      "Downloaded:  cNMF_200_0.2_gene_names.h5mu\n",
      "Downloaded:  cNMF_250_0.2_gene_names.h5mu\n",
      "Downloaded:  cNMF_300_0.2_gene_names.h5mu\n",
      "Downloaded:  cNMF_30_0.2_gene_names.h5mu\n",
      "Downloaded:  cNMF_60_0.2_gene_names.h5mu\n",
      "Downloaded:  cNMF_80_0.2_gene_names.h5mu\n",
      "Downloaded:  iPSC_EC.h5mu\n"
     ]
    }
   ],
   "source": [
    "# Download the each file in the synapse folder to the outdir_path\n",
    "files = syn.getChildren(synapse_id)\n",
    "for file in files:\n",
    "    syn.get(file['id'], downloadLocation=path_datasets)\n",
    "    print(\"Downloaded: \", file['name'])"
   ]
  },
  {
   "cell_type": "markdown",
   "metadata": {},
   "source": [
    "### `Topyfic`"
   ]
  },
  {
   "cell_type": "code",
   "execution_count": 9,
   "metadata": {},
   "outputs": [],
   "source": [
    "synapse_id = \"syn63102218\"\n",
    "path_out = \"/cellar/users/aklie/opt/gene_program_evaluation/examples/inference/iPSC_EC/Topyfic\""
   ]
  },
  {
   "cell_type": "code",
   "execution_count": 10,
   "metadata": {},
   "outputs": [
    {
     "name": "stdout",
     "output_type": "stream",
     "text": [
      "Downloaded:  Topyfic_iPSC_EC_10.h5mu\n",
      "Downloaded:  Topyfic_iPSC_EC_11.h5mu\n",
      "Downloaded:  Topyfic_iPSC_EC_12.h5mu\n",
      "Downloaded:  Topyfic_iPSC_EC_13.h5mu\n",
      "Downloaded:  Topyfic_iPSC_EC_14.h5mu\n",
      "Downloaded:  Topyfic_iPSC_EC_15.h5mu\n",
      "Downloaded:  Topyfic_iPSC_EC_16.h5mu\n",
      "Downloaded:  Topyfic_iPSC_EC_17.h5mu\n",
      "Downloaded:  Topyfic_iPSC_EC_18.h5mu\n",
      "Downloaded:  Topyfic_iPSC_EC_19.h5mu\n",
      "Downloaded:  Topyfic_iPSC_EC_20.h5mu\n",
      "Downloaded:  Topyfic_iPSC_EC_25.h5mu\n",
      "Downloaded:  Topyfic_iPSC_EC_30.h5mu\n",
      "Downloaded:  Topyfic_iPSC_EC_35.h5mu\n",
      "Downloaded:  Topyfic_iPSC_EC_40.h5mu\n",
      "Downloaded:  Topyfic_iPSC_EC_45.h5mu\n",
      "Downloaded:  Topyfic_iPSC_EC_5.h5mu\n",
      "Downloaded:  Topyfic_iPSC_EC_50.h5mu\n",
      "Downloaded:  k_n_prediction.pdf\n",
      "Downloaded:  k_selection.ipynb\n"
     ]
    }
   ],
   "source": [
    "# Download the each file in the synapse folder to the outdir_path\n",
    "files = syn.getChildren(synapse_id)\n",
    "for file in files:\n",
    "    syn.get(file['id'], downloadLocation=path_out)\n",
    "    print(\"Downloaded: \", file['name'])"
   ]
  },
  {
   "cell_type": "markdown",
   "metadata": {},
   "source": [
    "## `evaluation` folder"
   ]
  },
  {
   "cell_type": "code",
   "execution_count": null,
   "metadata": {},
   "outputs": [],
   "source": [
    "synapse_id = \"ssyn58638837\"\n",
    "path_out = \"/cellar/users/aklie/opt/gene_program_evaluation/examples/inference/iPSC_EC/SCENIC\""
   ]
  },
  {
   "cell_type": "code",
   "execution_count": 13,
   "metadata": {},
   "outputs": [
    {
     "data": {
      "text/plain": [
       "File(cacheDir='/cellar/users/aklie/opt/gene_program_evaluation/examples/datasets/Endothelial', createdBy='3485224', parentId='syn58638837', versionLabel='1', modifiedOn='2024-04-25T18:44:53.911Z', createdOn='2024-03-15T03:04:28.593Z', isLatestVersion=True, name='2kG.library_K60_kangh.h5mu', concreteType='org.sagebionetworks.repo.model.FileEntity', etag='84066981-f9bd-40eb-905b-4eb0a3350710', modifiedBy='3485224', id='syn54082156', dataFileHandleId='134510704', path='/cellar/users/aklie/opt/gene_program_evaluation/examples/datasets/Endothelial/2kG.library_K60_kangh.h5mu', versionNumber=1, synapseStore=True, files=['2kG.library_K60_kangh.h5mu'], _file_handle={'id': '134510704', 'etag': 'd4276495-4c0f-465e-86b8-89e188a93b7b', 'createdBy': '3485224', 'createdOn': '2024-03-15T03:04:19.000Z', 'modifiedOn': '2024-03-15T03:04:19.000Z', 'concreteType': 'org.sagebionetworks.repo.model.file.S3FileHandle', 'contentType': 'application/octet-stream', 'contentMd5': 'c5f976d347f4b6354f1ff50cc755058f', 'fileName': '2kG.library_K60_kangh.h5mu', 'storageLocationId': 1, 'contentSize': 5333110234, 'status': 'AVAILABLE', 'bucketName': 'proddata.sagebase.org', 'key': '3485224/5b3061c1-ab7d-4ca7-b67a-5d5bfb7b65cb/2kG.library_K60_kangh.h5mu', 'isPreview': False, 'externalURL': None})"
      ]
     },
     "execution_count": 13,
     "metadata": {},
     "output_type": "execute_result"
    }
   ],
   "source": [
    "synapse_id = \"syn54082156\"\n",
    "path_out = \"/cellar/users/aklie/opt/gene_program_evaluation/examples/datasets/Endothelial\"\n",
    "\n",
    "# Download one file\n",
    "syn.get(synapse_id, downloadLocation=path_out)"
   ]
  },
  {
   "cell_type": "code",
   "execution_count": 8,
   "metadata": {},
   "outputs": [
    {
     "name": "stdout",
     "output_type": "stream",
     "text": [
      "Downloaded:  240807_cNMF_eval_pipeline_analysis.ipynb\n",
      "Downloaded:  240807_cNMF_followup_analysis.ipynb\n",
      "Downloaded:  Topyfic\n",
      "Downloaded:  cNMF_k_selection.png\n",
      "Downloaded:  cNMF_k_selection_evaluations.png\n"
     ]
    }
   ],
   "source": [
    "# Download the each file in the synapse folder to the outdir_path\n",
    "files = syn.getChildren(synapse_id)\n",
    "for file in files:\n",
    "    syn.get(file['id'], downloadLocation=path_out)\n",
    "    print(\"Downloaded: \", file['name'])"
   ]
  },
  {
   "cell_type": "markdown",
   "metadata": {},
   "source": [
    "# `Bridge_Samples`"
   ]
  },
  {
   "cell_type": "markdown",
   "metadata": {},
   "source": [
    "## `datasets` folder"
   ]
  },
  {
   "cell_type": "code",
   "execution_count": 7,
   "metadata": {},
   "outputs": [],
   "source": [
    "synapse_id = \"syn62672808\"\n",
    "path_datasets = \"/cellar/users/aklie/opt/gene_program_evaluation/examples/datasets/Bridge_Samples\""
   ]
  },
  {
   "cell_type": "code",
   "execution_count": 8,
   "metadata": {},
   "outputs": [
    {
     "name": "stdout",
     "output_type": "stream",
     "text": [
      "Downloaded:  TSTDS36767099_IGVFB01_LeftCortex_Bridge_Parse.h5mu\n"
     ]
    }
   ],
   "source": [
    "# Download the each file in the synapse folder to the outdir_path\n",
    "files = syn.getChildren(synapse_id)\n",
    "for file in files:\n",
    "    syn.get(file['id'], downloadLocation=path_datasets)\n",
    "    print(\"Downloaded: \", file['name'])"
   ]
  },
  {
   "cell_type": "markdown",
   "metadata": {},
   "source": [
    "# `Endothelial`"
   ]
  },
  {
   "cell_type": "markdown",
   "metadata": {},
   "source": [
    "## `evaluation` folder"
   ]
  },
  {
   "cell_type": "code",
   "execution_count": 4,
   "metadata": {},
   "outputs": [],
   "source": [
    "synapse_id = \"syn63096832\"\n",
    "path_datasets = \"/cellar/users/aklie/opt/gene_program_evaluation/examples/evaluation/Endothelial/cNMF_60\""
   ]
  },
  {
   "cell_type": "code",
   "execution_count": 5,
   "metadata": {},
   "outputs": [
    {
     "name": "stdout",
     "output_type": "stream",
     "text": [
      "Downloaded:  240909_cNMF_paper_evaluations.ipynb\n",
      "Downloaded:  41586_2024_7022_MOESM3_ESM.xlsx\n",
      "Downloaded:  41586_2024_7022_MOESM4_ESM.xlsx\n",
      "Downloaded:  cNMF_GO_Biological_Process_2023_fisher_enrichment.txt\n",
      "Downloaded:  cNMF_OT_GWAS_fisher_enrichment.txt\n",
      "Downloaded:  cNMF_Reactome_2022_fisher_enrichment.txt\n",
      "Downloaded:  cNMF_batch_association_results.txt\n",
      "Downloaded:  cNMF_enhancer_hocomoco_ttest_enrichment.txt\n",
      "Downloaded:  cNMF_gene_perturbation_association.txt\n",
      "Downloaded:  cNMF_promoter_hocomoco_ttest_enrichment.txt\n",
      "Downloaded:  cNMF_variance_explained_ratio.txt\n",
      "Downloaded:  metrics.varianceExplained.df.txt\n",
      "Downloaded:  var_names.txt\n"
     ]
    }
   ],
   "source": [
    "# Download the each file in the synapse folder to the outdir_path\n",
    "files = syn.getChildren(synapse_id)\n",
    "for file in files:\n",
    "    syn.get(file['id'], downloadLocation=path_datasets)\n",
    "    print(\"Downloaded: \", file['name'])"
   ]
  },
  {
   "cell_type": "markdown",
   "metadata": {},
   "source": [
    "# DONE!"
   ]
  },
  {
   "cell_type": "markdown",
   "metadata": {},
   "source": [
    "---"
   ]
  }
 ],
 "metadata": {
  "kernelspec": {
   "display_name": "Python 3.7 get_data",
   "language": "python",
   "name": "get_data"
  }
 },
 "nbformat": 4,
 "nbformat_minor": 2
}
