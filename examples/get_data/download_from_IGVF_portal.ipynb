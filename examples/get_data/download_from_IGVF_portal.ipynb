{
 "cells": [
  {
   "cell_type": "markdown",
   "metadata": {},
   "source": [
    "# Download data through the IGVF portal\n",
    "\n",
    "After creating your cart and add the datasets you want to work with, you should be able to download a manifest file named “files.txt” that contains a URL to a file containing all the experimental metadata, as well as links to download each of the relevant files.\n",
    "\n",
    "The manifest file can be copied to any server.\n",
    "\n",
    "With the current directory containing the downloaded manifest file, use the following command line to download all files listed in the manifest:\n",
    "\n",
    "`xargs -L 1 curl -O -J -L < files.txt`\n",
    "\n",
    "You can also download the h5ad file for each analysis set directly from the portal.\n",
    "\n",
    "For example this is the preprocessed h5ad file for [bridge samples](https://data.igvf.org/matrix-files/IGVFFI1577SBWN/)."
   ]
  },
  {
   "cell_type": "code",
   "execution_count": null,
   "metadata": {},
   "outputs": [],
   "source": [
    "# Create mudata\n",
    "import mudata as md\n",
    "import anndata\n",
    "\n",
    "data = anndata.read(f\"IGVFFI5345SNRS.h5ad\")\n",
    "\n",
    "mdata = md.MuData({\"rna\": data})\n",
    "\n",
    "mdata.write(\"IGVFFI5345SNRS_IGVFB01_LeftCortex_Bridge_Parse.h5mu\")"
   ]
  }
 ],
 "metadata": {
  "kernelspec": {
   "display_name": "Python 3 (ipykernel)",
   "language": "python",
   "name": "python3"
  },
  "language_info": {
   "codemirror_mode": {
    "name": "ipython",
    "version": 3
   },
   "file_extension": ".py",
   "mimetype": "text/x-python",
   "name": "python",
   "nbconvert_exporter": "python",
   "pygments_lexer": "ipython3",
   "version": "3.10.14"
  }
 },
 "nbformat": 4,
 "nbformat_minor": 4
}
