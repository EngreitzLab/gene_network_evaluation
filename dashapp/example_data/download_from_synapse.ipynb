{
 "cells": [
  {
   "cell_type": "code",
   "execution_count": 1,
   "metadata": {},
   "outputs": [
    {
     "name": "stdout",
     "output_type": "stream",
     "text": [
      "The history saving thread hit an unexpected error (DatabaseError('database disk image is malformed')).History will not be written to the database.\n"
     ]
    }
   ],
   "source": [
    "# Imports\n",
    "import synapseclient"
   ]
  },
  {
   "cell_type": "code",
   "execution_count": 2,
   "metadata": {},
   "outputs": [
    {
     "name": "stderr",
     "output_type": "stream",
     "text": [
      "\n",
      "UPGRADE AVAILABLE\n",
      "\n",
      "A more recent version of the Synapse Client (4.4.0) is available. Your version (2.6.0) can be upgraded by typing:\n",
      "    pip install --upgrade synapseclient\n",
      "\n",
      "Python Synapse Client version 4.4.0 release notes\n",
      "\n",
      "https://python-docs.synapse.org/news/\n",
      "\n"
     ]
    },
    {
     "name": "stdout",
     "output_type": "stream",
     "text": [
      "Welcome, Adam Klie!\n",
      "\n"
     ]
    }
   ],
   "source": [
    "# Log-in\n",
    "syn = synapseclient.Synapse() \n",
    "syn.login('adamklie', 'iArJ8qXdvXO%g81@') "
   ]
  },
  {
   "cell_type": "markdown",
   "metadata": {},
   "source": [
    "# iPSC_EC evaluation"
   ]
  },
  {
   "cell_type": "markdown",
   "metadata": {},
   "source": [
    "# Evaluation output txt files"
   ]
  },
  {
   "cell_type": "code",
   "execution_count": 9,
   "metadata": {},
   "outputs": [],
   "source": [
    "synapse_id = \"syn61874866\"\n",
    "outdir_path = \"/cellar/users/aklie/opt/gene_program_evaluation/dashapp/example_data/iPSC_EC_evaluations\""
   ]
  },
  {
   "cell_type": "code",
   "execution_count": 11,
   "metadata": {},
   "outputs": [
    {
     "name": "stdout",
     "output_type": "stream",
     "text": [
      "Downloaded:  categorical_association_posthoc.txt\n",
      "Downloaded:  categorical_association_results.txt\n",
      "Downloaded:  explained_variance_ratio.txt\n",
      "Downloaded:  geneset_enrichment.txt\n",
      "Downloaded:  motif_enrichment.txt\n",
      "Downloaded:  motif_enrichment_counts.txt\n",
      "Downloaded:  motif_enrichment_matches.txt\n",
      "Downloaded:  perturbation_association_results.txt\n",
      "Downloaded:  run_evaluation_scripts.ipynb\n",
      "Downloaded:  trait_enrichment.txt\n"
     ]
    }
   ],
   "source": [
    "# Download the each file in the synapse folder to the outdir_path\n",
    "files = syn.getChildren(synapse_id)\n",
    "for file in files:\n",
    "    syn.get(file['id'], downloadLocation=outdir_path)\n",
    "    print(\"Downloaded: \", file['name'])"
   ]
  },
  {
   "cell_type": "markdown",
   "metadata": {},
   "source": [
    "## Input MuData"
   ]
  },
  {
   "cell_type": "code",
   "execution_count": 14,
   "metadata": {},
   "outputs": [],
   "source": [
    "synapse_id = \"syn61874907\"\n",
    "outdir_path = \"/cellar/users/aklie/opt/gene_program_evaluation/dashapp/example_data/iPSC_EC_evaluations\""
   ]
  },
  {
   "cell_type": "code",
   "execution_count": 15,
   "metadata": {},
   "outputs": [
    {
     "data": {
      "text/plain": [
       "File(createdBy='3485224', _file_handle={'id': '145007596', 'etag': '17bef38e-b532-479b-96af-c53b48db57a7', 'createdBy': '3485224', 'createdOn': '2024-07-26T03:47:09.000Z', 'modifiedOn': '2024-07-26T03:47:09.000Z', 'concreteType': 'org.sagebionetworks.repo.model.file.S3FileHandle', 'contentType': 'application/octet-stream', 'contentMd5': 'e4c0913860ad51e2250664bf1fc8eea2', 'fileName': 'cNMF_60_0.2_gene_names.h5mu', 'storageLocationId': 1, 'contentSize': 2105393982, 'status': 'AVAILABLE', 'bucketName': 'proddata.sagebase.org', 'key': '3485224/5e255d42-5fe5-4acd-a68f-ff93ea78eddc/cNMF_60_0.2_gene_names.h5mu', 'isPreview': False, 'externalURL': None}, parentId='syn61874622', etag='d7986059-6af8-4385-84a7-930a3c8c6193', modifiedOn='2024-07-26T03:47:09.501Z', name='cNMF_60_0.2_gene_names.h5mu', cacheDir='/cellar/users/aklie/opt/gene_program_evaluation/dashapp/example_data/iPSC_EC_evaluations', path='/cellar/users/aklie/opt/gene_program_evaluation/dashapp/example_data/iPSC_EC_evaluations/cNMF_60_0.2_gene_names.h5mu', synapseStore=True, createdOn='2024-07-26T03:47:09.501Z', isLatestVersion=True, files=['cNMF_60_0.2_gene_names.h5mu'], modifiedBy='3485224', dataFileHandleId='145007596', id='syn61874907', versionLabel='1', concreteType='org.sagebionetworks.repo.model.FileEntity', versionNumber=1)"
      ]
     },
     "execution_count": 15,
     "metadata": {},
     "output_type": "execute_result"
    }
   ],
   "source": [
    "# Download the file in the synapse folder to the outdir_path\n",
    "syn.get(synapse_id, downloadLocation=outdir_path)"
   ]
  },
  {
   "cell_type": "markdown",
   "metadata": {},
   "source": [
    "# DONE!"
   ]
  },
  {
   "cell_type": "markdown",
   "metadata": {},
   "source": [
    "---"
   ]
  }
 ],
 "metadata": {
  "kernelspec": {
   "display_name": "Python 3.7 get_data",
   "language": "python",
   "name": "get_data"
  },
  "language_info": {
   "codemirror_mode": {
    "name": "ipython",
    "version": 3
   },
   "file_extension": ".py",
   "mimetype": "text/x-python",
   "name": "python",
   "nbconvert_exporter": "python",
   "pygments_lexer": "ipython3",
   "version": "3.7.12"
  }
 },
 "nbformat": 4,
 "nbformat_minor": 2
}
