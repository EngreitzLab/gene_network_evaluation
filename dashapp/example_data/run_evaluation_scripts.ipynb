{
 "cells": [
  {
   "cell_type": "code",
   "execution_count": 1,
   "metadata": {},
   "outputs": [
    {
     "name": "stdout",
     "output_type": "stream",
     "text": [
      "The history saving thread hit an unexpected error (DatabaseError('database disk image is malformed')).History will not be written to the database.\n"
     ]
    },
    {
     "ename": "ModuleNotFoundError",
     "evalue": "No module named 'src'",
     "output_type": "error",
     "traceback": [
      "\u001b[0;31m---------------------------------------------------------------------------\u001b[0m",
      "\u001b[0;31mModuleNotFoundError\u001b[0m                       Traceback (most recent call last)",
      "Cell \u001b[0;32mIn[1], line 6\u001b[0m\n\u001b[1;32m      3\u001b[0m \u001b[38;5;66;03m# Change path to wherever you have repo locally\u001b[39;00m\n\u001b[1;32m      4\u001b[0m sys\u001b[38;5;241m.\u001b[39mpath\u001b[38;5;241m.\u001b[39mappend(\u001b[38;5;124m'\u001b[39m\u001b[38;5;124m../gene_network_evaluation/\u001b[39m\u001b[38;5;124m'\u001b[39m)\n\u001b[0;32m----> 6\u001b[0m \u001b[38;5;28;01mfrom\u001b[39;00m \u001b[38;5;21;01msrc\u001b[39;00m\u001b[38;5;21;01m.\u001b[39;00m\u001b[38;5;21;01mevaluation\u001b[39;00m \u001b[38;5;28;01mimport\u001b[39;00m \u001b[38;5;241m*\u001b[39m\n\u001b[1;32m      8\u001b[0m \u001b[38;5;28;01mimport\u001b[39;00m \u001b[38;5;21;01mmudata\u001b[39;00m\n\u001b[1;32m      9\u001b[0m \u001b[38;5;28;01mimport\u001b[39;00m \u001b[38;5;21;01mpandas\u001b[39;00m \u001b[38;5;28;01mas\u001b[39;00m \u001b[38;5;21;01mpd\u001b[39;00m\n",
      "\u001b[0;31mModuleNotFoundError\u001b[0m: No module named 'src'"
     ]
    }
   ],
   "source": [
    "import os\n",
    "import sys\n",
    "# Change path to wherever you have repo locally\n",
    "sys.path.append('../gene_network_evaluation/')\n",
    "\n",
    "from src.evaluation import *\n",
    "\n",
    "import mudata\n",
    "import pandas as pd"
   ]
  },
  {
   "cell_type": "code",
   "execution_count": 2,
   "metadata": {},
   "outputs": [
    {
     "name": "stderr",
     "output_type": "stream",
     "text": [
      "/oak/stanford/groups/akundaje/regu/miniforge3/envs/evaluation/lib/python3.9/site-packages/anndata/_core/anndata.py:522: FutureWarning: The dtype argument is deprecated and will be removed in late 2024.\n",
      "  warnings.warn(\n",
      "/oak/stanford/groups/akundaje/regu/miniforge3/envs/evaluation/lib/python3.9/site-packages/anndata/_core/anndata.py:522: FutureWarning: The dtype argument is deprecated and will be removed in late 2024.\n",
      "  warnings.warn(\n",
      "/oak/stanford/groups/akundaje/regu/miniforge3/envs/evaluation/lib/python3.9/site-packages/anndata/_core/anndata.py:1899: UserWarning: Variable names are not unique. To make them unique, call `.var_names_make_unique`.\n",
      "  utils.warn_names_duplicates(\"var\")\n",
      "/oak/stanford/groups/akundaje/regu/miniforge3/envs/evaluation/lib/python3.9/site-packages/mudata/_core/mudata.py:479: UserWarning: var_names are not unique. To make them unique, call `.var_names_make_unique`.\n",
      "  warnings.warn(\n"
     ]
    },
    {
     "data": {
      "text/html": [
       "<div>\n",
       "<style scoped>\n",
       "    .dataframe tbody tr th:only-of-type {\n",
       "        vertical-align: middle;\n",
       "    }\n",
       "\n",
       "    .dataframe tbody tr th {\n",
       "        vertical-align: top;\n",
       "    }\n",
       "\n",
       "    .dataframe thead th {\n",
       "        text-align: right;\n",
       "    }\n",
       "</style>\n",
       "<table border=\"1\" class=\"dataframe\">\n",
       "  <thead>\n",
       "    <tr style=\"text-align: right;\">\n",
       "      <th></th>\n",
       "      <th>Target</th>\n",
       "      <th>OligoID</th>\n",
       "      <th>seq</th>\n",
       "      <th>LeftGA</th>\n",
       "      <th>RightGA</th>\n",
       "      <th>CoreOligo</th>\n",
       "      <th>pool</th>\n",
       "      <th>DesignFile</th>\n",
       "      <th>Vector (FYI, not used in script)</th>\n",
       "      <th>Type</th>\n",
       "    </tr>\n",
       "  </thead>\n",
       "  <tbody>\n",
       "    <tr>\n",
       "      <th>0</th>\n",
       "      <td>ACAA1</td>\n",
       "      <td>ACAA1_-_38178575.23-P1P2</td>\n",
       "      <td>CCAGTCCGGGAACTGACCG</td>\n",
       "      <td>TATCTTGTGGAAAGGACGAAACACCG</td>\n",
       "      <td>GTTTAAGAGCTATGCTGGAAACAGCATAG</td>\n",
       "      <td>TATCTTGTGGAAAGGACGAAACACCGCCAGTCCGGGAACTGACCGG...</td>\n",
       "      <td>230630_EC_Validation_Library</td>\n",
       "      <td>/oak/stanford/groups/engreitz/Projects/CRISPRD...</td>\n",
       "      <td>Crop-Opti</td>\n",
       "      <td>genome_wide_hit</td>\n",
       "    </tr>\n",
       "    <tr>\n",
       "      <th>1</th>\n",
       "      <td>ACAA1</td>\n",
       "      <td>ACAA1_+_38178488.23-P1P2</td>\n",
       "      <td>TAGTGCTGGGCCACCTGAG</td>\n",
       "      <td>TATCTTGTGGAAAGGACGAAACACCG</td>\n",
       "      <td>GTTTAAGAGCTATGCTGGAAACAGCATAG</td>\n",
       "      <td>TATCTTGTGGAAAGGACGAAACACCGTAGTGCTGGGCCACCTGAGG...</td>\n",
       "      <td>230630_EC_Validation_Library</td>\n",
       "      <td>/oak/stanford/groups/engreitz/Projects/CRISPRD...</td>\n",
       "      <td>Crop-Opti</td>\n",
       "      <td>genome_wide_hit</td>\n",
       "    </tr>\n",
       "    <tr>\n",
       "      <th>2</th>\n",
       "      <td>ACAA1</td>\n",
       "      <td>ACAA1_+_38178517.23-P1P2</td>\n",
       "      <td>GTTGACCTGCGCAATGCAG</td>\n",
       "      <td>TATCTTGTGGAAAGGACGAAACACCG</td>\n",
       "      <td>GTTTAAGAGCTATGCTGGAAACAGCATAG</td>\n",
       "      <td>TATCTTGTGGAAAGGACGAAACACCGGTTGACCTGCGCAATGCAGG...</td>\n",
       "      <td>230630_EC_Validation_Library</td>\n",
       "      <td>/oak/stanford/groups/engreitz/Projects/CRISPRD...</td>\n",
       "      <td>Crop-Opti</td>\n",
       "      <td>genome_wide_hit</td>\n",
       "    </tr>\n",
       "    <tr>\n",
       "      <th>3</th>\n",
       "      <td>ACAA1</td>\n",
       "      <td>ACAA1_+_38178559.23-P1P2</td>\n",
       "      <td>TAACTCCGCGGTCAGTTCC</td>\n",
       "      <td>TATCTTGTGGAAAGGACGAAACACCG</td>\n",
       "      <td>GTTTAAGAGCTATGCTGGAAACAGCATAG</td>\n",
       "      <td>TATCTTGTGGAAAGGACGAAACACCGTAACTCCGCGGTCAGTTCCG...</td>\n",
       "      <td>230630_EC_Validation_Library</td>\n",
       "      <td>/oak/stanford/groups/engreitz/Projects/CRISPRD...</td>\n",
       "      <td>Crop-Opti</td>\n",
       "      <td>genome_wide_hit</td>\n",
       "    </tr>\n",
       "    <tr>\n",
       "      <th>4</th>\n",
       "      <td>ACAA1</td>\n",
       "      <td>ACAA1_+_38178570.23-P1P2</td>\n",
       "      <td>CGGCTGTCTGTTAACTCCG</td>\n",
       "      <td>TATCTTGTGGAAAGGACGAAACACCG</td>\n",
       "      <td>GTTTAAGAGCTATGCTGGAAACAGCATAG</td>\n",
       "      <td>TATCTTGTGGAAAGGACGAAACACCGCGGCTGTCTGTTAACTCCGG...</td>\n",
       "      <td>230630_EC_Validation_Library</td>\n",
       "      <td>/oak/stanford/groups/engreitz/Projects/CRISPRD...</td>\n",
       "      <td>Crop-Opti</td>\n",
       "      <td>genome_wide_hit</td>\n",
       "    </tr>\n",
       "    <tr>\n",
       "      <th>...</th>\n",
       "      <td>...</td>\n",
       "      <td>...</td>\n",
       "      <td>...</td>\n",
       "      <td>...</td>\n",
       "      <td>...</td>\n",
       "      <td>...</td>\n",
       "      <td>...</td>\n",
       "      <td>...</td>\n",
       "      <td>...</td>\n",
       "      <td>...</td>\n",
       "    </tr>\n",
       "    <tr>\n",
       "      <th>1921</th>\n",
       "      <td>non-targeting</td>\n",
       "      <td>NON-TARGETING_00324</td>\n",
       "      <td>ACAAGTCTAGGGCCTCCCC</td>\n",
       "      <td>TATCTTGTGGAAAGGACGAAACACCG</td>\n",
       "      <td>GTTTAAGAGCTATGCTGGAAACAGCATAG</td>\n",
       "      <td>TATCTTGTGGAAAGGACGAAACACCGACAAGTCTAGGGCCTCCCCG...</td>\n",
       "      <td>230630_EC_Validation_Library</td>\n",
       "      <td>/oak/stanford/groups/engreitz/Projects/CRISPRD...</td>\n",
       "      <td>Crop-Opti</td>\n",
       "      <td>genome_wide_non_targeting</td>\n",
       "    </tr>\n",
       "    <tr>\n",
       "      <th>1922</th>\n",
       "      <td>non-targeting</td>\n",
       "      <td>NON-TARGETING_01858</td>\n",
       "      <td>GCGGCGCCATAGTAGTTAG</td>\n",
       "      <td>TATCTTGTGGAAAGGACGAAACACCG</td>\n",
       "      <td>GTTTAAGAGCTATGCTGGAAACAGCATAG</td>\n",
       "      <td>TATCTTGTGGAAAGGACGAAACACCGGCGGCGCCATAGTAGTTAGG...</td>\n",
       "      <td>230630_EC_Validation_Library</td>\n",
       "      <td>/oak/stanford/groups/engreitz/Projects/CRISPRD...</td>\n",
       "      <td>Crop-Opti</td>\n",
       "      <td>genome_wide_non_targeting</td>\n",
       "    </tr>\n",
       "    <tr>\n",
       "      <th>1923</th>\n",
       "      <td>non-targeting</td>\n",
       "      <td>NON-TARGETING_02288</td>\n",
       "      <td>TAGCACGAATCGCCGGCCG</td>\n",
       "      <td>TATCTTGTGGAAAGGACGAAACACCG</td>\n",
       "      <td>GTTTAAGAGCTATGCTGGAAACAGCATAG</td>\n",
       "      <td>TATCTTGTGGAAAGGACGAAACACCGTAGCACGAATCGCCGGCCGG...</td>\n",
       "      <td>230630_EC_Validation_Library</td>\n",
       "      <td>/oak/stanford/groups/engreitz/Projects/CRISPRD...</td>\n",
       "      <td>Crop-Opti</td>\n",
       "      <td>genome_wide_non_targeting</td>\n",
       "    </tr>\n",
       "    <tr>\n",
       "      <th>1924</th>\n",
       "      <td>non-targeting</td>\n",
       "      <td>NON-TARGETING_02543</td>\n",
       "      <td>CGGAGAGTCTTATCGACCG</td>\n",
       "      <td>TATCTTGTGGAAAGGACGAAACACCG</td>\n",
       "      <td>GTTTAAGAGCTATGCTGGAAACAGCATAG</td>\n",
       "      <td>TATCTTGTGGAAAGGACGAAACACCGCGGAGAGTCTTATCGACCGG...</td>\n",
       "      <td>230630_EC_Validation_Library</td>\n",
       "      <td>/oak/stanford/groups/engreitz/Projects/CRISPRD...</td>\n",
       "      <td>Crop-Opti</td>\n",
       "      <td>genome_wide_non_targeting</td>\n",
       "    </tr>\n",
       "    <tr>\n",
       "      <th>1925</th>\n",
       "      <td>non-targeting</td>\n",
       "      <td>NON-TARGETING_00355</td>\n",
       "      <td>GGCAGACTGATGAAGACGT</td>\n",
       "      <td>TATCTTGTGGAAAGGACGAAACACCG</td>\n",
       "      <td>GTTTAAGAGCTATGCTGGAAACAGCATAG</td>\n",
       "      <td>TATCTTGTGGAAAGGACGAAACACCGGGCAGACTGATGAAGACGTG...</td>\n",
       "      <td>230630_EC_Validation_Library</td>\n",
       "      <td>/oak/stanford/groups/engreitz/Projects/CRISPRD...</td>\n",
       "      <td>Crop-Opti</td>\n",
       "      <td>genome_wide_non_targeting</td>\n",
       "    </tr>\n",
       "  </tbody>\n",
       "</table>\n",
       "<p>1926 rows × 10 columns</p>\n",
       "</div>"
      ],
      "text/plain": [
       "             Target                   OligoID                  seq  \\\n",
       "0             ACAA1  ACAA1_-_38178575.23-P1P2  CCAGTCCGGGAACTGACCG   \n",
       "1             ACAA1  ACAA1_+_38178488.23-P1P2  TAGTGCTGGGCCACCTGAG   \n",
       "2             ACAA1  ACAA1_+_38178517.23-P1P2  GTTGACCTGCGCAATGCAG   \n",
       "3             ACAA1  ACAA1_+_38178559.23-P1P2  TAACTCCGCGGTCAGTTCC   \n",
       "4             ACAA1  ACAA1_+_38178570.23-P1P2  CGGCTGTCTGTTAACTCCG   \n",
       "...             ...                       ...                  ...   \n",
       "1921  non-targeting       NON-TARGETING_00324  ACAAGTCTAGGGCCTCCCC   \n",
       "1922  non-targeting       NON-TARGETING_01858  GCGGCGCCATAGTAGTTAG   \n",
       "1923  non-targeting       NON-TARGETING_02288  TAGCACGAATCGCCGGCCG   \n",
       "1924  non-targeting       NON-TARGETING_02543  CGGAGAGTCTTATCGACCG   \n",
       "1925  non-targeting       NON-TARGETING_00355  GGCAGACTGATGAAGACGT   \n",
       "\n",
       "                          LeftGA                        RightGA  \\\n",
       "0     TATCTTGTGGAAAGGACGAAACACCG  GTTTAAGAGCTATGCTGGAAACAGCATAG   \n",
       "1     TATCTTGTGGAAAGGACGAAACACCG  GTTTAAGAGCTATGCTGGAAACAGCATAG   \n",
       "2     TATCTTGTGGAAAGGACGAAACACCG  GTTTAAGAGCTATGCTGGAAACAGCATAG   \n",
       "3     TATCTTGTGGAAAGGACGAAACACCG  GTTTAAGAGCTATGCTGGAAACAGCATAG   \n",
       "4     TATCTTGTGGAAAGGACGAAACACCG  GTTTAAGAGCTATGCTGGAAACAGCATAG   \n",
       "...                          ...                            ...   \n",
       "1921  TATCTTGTGGAAAGGACGAAACACCG  GTTTAAGAGCTATGCTGGAAACAGCATAG   \n",
       "1922  TATCTTGTGGAAAGGACGAAACACCG  GTTTAAGAGCTATGCTGGAAACAGCATAG   \n",
       "1923  TATCTTGTGGAAAGGACGAAACACCG  GTTTAAGAGCTATGCTGGAAACAGCATAG   \n",
       "1924  TATCTTGTGGAAAGGACGAAACACCG  GTTTAAGAGCTATGCTGGAAACAGCATAG   \n",
       "1925  TATCTTGTGGAAAGGACGAAACACCG  GTTTAAGAGCTATGCTGGAAACAGCATAG   \n",
       "\n",
       "                                              CoreOligo  \\\n",
       "0     TATCTTGTGGAAAGGACGAAACACCGCCAGTCCGGGAACTGACCGG...   \n",
       "1     TATCTTGTGGAAAGGACGAAACACCGTAGTGCTGGGCCACCTGAGG...   \n",
       "2     TATCTTGTGGAAAGGACGAAACACCGGTTGACCTGCGCAATGCAGG...   \n",
       "3     TATCTTGTGGAAAGGACGAAACACCGTAACTCCGCGGTCAGTTCCG...   \n",
       "4     TATCTTGTGGAAAGGACGAAACACCGCGGCTGTCTGTTAACTCCGG...   \n",
       "...                                                 ...   \n",
       "1921  TATCTTGTGGAAAGGACGAAACACCGACAAGTCTAGGGCCTCCCCG...   \n",
       "1922  TATCTTGTGGAAAGGACGAAACACCGGCGGCGCCATAGTAGTTAGG...   \n",
       "1923  TATCTTGTGGAAAGGACGAAACACCGTAGCACGAATCGCCGGCCGG...   \n",
       "1924  TATCTTGTGGAAAGGACGAAACACCGCGGAGAGTCTTATCGACCGG...   \n",
       "1925  TATCTTGTGGAAAGGACGAAACACCGGGCAGACTGATGAAGACGTG...   \n",
       "\n",
       "                              pool  \\\n",
       "0     230630_EC_Validation_Library   \n",
       "1     230630_EC_Validation_Library   \n",
       "2     230630_EC_Validation_Library   \n",
       "3     230630_EC_Validation_Library   \n",
       "4     230630_EC_Validation_Library   \n",
       "...                            ...   \n",
       "1921  230630_EC_Validation_Library   \n",
       "1922  230630_EC_Validation_Library   \n",
       "1923  230630_EC_Validation_Library   \n",
       "1924  230630_EC_Validation_Library   \n",
       "1925  230630_EC_Validation_Library   \n",
       "\n",
       "                                             DesignFile  \\\n",
       "0     /oak/stanford/groups/engreitz/Projects/CRISPRD...   \n",
       "1     /oak/stanford/groups/engreitz/Projects/CRISPRD...   \n",
       "2     /oak/stanford/groups/engreitz/Projects/CRISPRD...   \n",
       "3     /oak/stanford/groups/engreitz/Projects/CRISPRD...   \n",
       "4     /oak/stanford/groups/engreitz/Projects/CRISPRD...   \n",
       "...                                                 ...   \n",
       "1921  /oak/stanford/groups/engreitz/Projects/CRISPRD...   \n",
       "1922  /oak/stanford/groups/engreitz/Projects/CRISPRD...   \n",
       "1923  /oak/stanford/groups/engreitz/Projects/CRISPRD...   \n",
       "1924  /oak/stanford/groups/engreitz/Projects/CRISPRD...   \n",
       "1925  /oak/stanford/groups/engreitz/Projects/CRISPRD...   \n",
       "\n",
       "     Vector (FYI, not used in script)                       Type  \n",
       "0                           Crop-Opti            genome_wide_hit  \n",
       "1                           Crop-Opti            genome_wide_hit  \n",
       "2                           Crop-Opti            genome_wide_hit  \n",
       "3                           Crop-Opti            genome_wide_hit  \n",
       "4                           Crop-Opti            genome_wide_hit  \n",
       "...                               ...                        ...  \n",
       "1921                        Crop-Opti  genome_wide_non_targeting  \n",
       "1922                        Crop-Opti  genome_wide_non_targeting  \n",
       "1923                        Crop-Opti  genome_wide_non_targeting  \n",
       "1924                        Crop-Opti  genome_wide_non_targeting  \n",
       "1925                        Crop-Opti  genome_wide_non_targeting  \n",
       "\n",
       "[1926 rows x 10 columns]"
      ]
     },
     "execution_count": 2,
     "metadata": {},
     "output_type": "execute_result"
    }
   ],
   "source": [
    "# Load mdata\n",
    "mdata = mudata.read('../../ipsc_ec_differentiation/analysis/240701_cNMF/cNMF_60_0.2_gene_names.h5mu')\n",
    "\n",
    "# Load guide target\n",
    "guide_target = pd.read_csv('../../ipsc_ec_differentiation/data/230630_Genome_Wide_Validation_Library.full.txt', sep='\\t')\n",
    "guide_target"
   ]
  },
  {
   "cell_type": "code",
   "execution_count": 3,
   "metadata": {},
   "outputs": [
    {
     "name": "stderr",
     "output_type": "stream",
     "text": [
      "INFO:root:Performing tests at single-cell level. Significance will likely be inflated\n"
     ]
    },
    {
     "data": {
      "application/vnd.jupyter.widget-view+json": {
       "model_id": "5acc7843f9a04ccdb24e67e5b3619b59",
       "version_major": 2,
       "version_minor": 0
      },
      "text/plain": [
       "Testing sample association:   0%|          | 0/60 [00:00<?, ?programs/s]"
      ]
     },
     "metadata": {},
     "output_type": "display_data"
    },
    {
     "name": "stderr",
     "output_type": "stream",
     "text": [
      "/oak/stanford/groups/akundaje/regu/miniforge3/envs/evaluation/lib/python3.9/site-packages/anndata/_core/anndata.py:1179: SettingWithCopyWarning: \n",
      "A value is trying to be set on a copy of a slice from a DataFrame.\n",
      "Try using .loc[row_indexer,col_indexer] = value instead\n",
      "\n",
      "See the caveats in the documentation: https://pandas.pydata.org/pandas-docs/stable/user_guide/indexing.html#returning-a-view-versus-a-copy\n",
      "  df_sub[k] = df_sub[k].cat.remove_unused_categories()\n"
     ]
    },
    {
     "data": {
      "application/vnd.jupyter.widget-view+json": {
       "model_id": "014dbf582705494f953efd4d0c49cd16",
       "version_major": 2,
       "version_minor": 0
      },
      "text/plain": [
       "Identifying differential sample:   0%|          | 0/60 [00:00<?, ?programs/s]"
      ]
     },
     "metadata": {},
     "output_type": "display_data"
    }
   ],
   "source": [
    "# Run categorical assocation\n",
    "results_df, posthoc_df = compute_categorical_association(mdata, prog_key='cNMF', categorical_key='sample', \n",
    "                                                         pseudobulk_key=None, test='dunn', n_jobs=-1, inplace=False)\n",
    "\n",
    "results_df.to_csv('categorical_association_results.txt', sep='\\t', index=False) # This was made wide form to insert into .var of the program anndata.\n",
    "posthoc_df.to_csv('categorical_association_posthoc.txt', sep='\\t', index=False)"
   ]
  },
  {
   "cell_type": "code",
   "execution_count": 4,
   "metadata": {},
   "outputs": [
    {
     "data": {
      "application/vnd.jupyter.widget-view+json": {
       "model_id": "bd3dee0254fd48b5975795b3e6e42e3f",
       "version_major": 2,
       "version_minor": 0
      },
      "text/plain": [
       "Testing perturbation association:   0%|          | 0/1866 [00:00<?, ?guides/s]"
      ]
     },
     "metadata": {},
     "output_type": "display_data"
    }
   ],
   "source": [
    "# Run perturbation assocation\n",
    "test_stats_df = compute_perturbation_association(mdata, prog_key='cNMF', pseudobulk=False,\n",
    "                                                 reference_targets=('non-targeting'),\n",
    "                                                 n_jobs=-1, inplace=False)\n",
    "\n",
    "test_stats_df.to_csv('perturbation_association_results.txt', sep='\\t', index=False)"
   ]
  },
  {
   "cell_type": "code",
   "execution_count": 5,
   "metadata": {},
   "outputs": [
    {
     "name": "stderr",
     "output_type": "stream",
     "text": [
      "INFO:root:Downloading and generating Enrichr library gene sets...\n",
      "INFO:root:0002 gene_sets have been filtered out when max_size=2000 and min_size=0\n"
     ]
    },
    {
     "data": {
      "application/vnd.jupyter.widget-view+json": {
       "model_id": "875169493d9b4b47971eaa79fadb4b85",
       "version_major": 2,
       "version_minor": 0
      },
      "text/plain": [
       "Running GSEA:   0%|          | 0/60 [00:00<?, ?programs/s]"
      ]
     },
     "metadata": {},
     "output_type": "display_data"
    },
    {
     "name": "stderr",
     "output_type": "stream",
     "text": [
      "2024-07-25 20:10:42,102 [WARNING] Duplicated values found in preranked stats: 53.00% of genes\n",
      "The order of those genes will be arbitrary, which may produce unexpected results.\n",
      "2024-07-25 20:10:54,373 [WARNING] Duplicated values found in preranked stats: 50.12% of genes\n",
      "The order of those genes will be arbitrary, which may produce unexpected results.\n",
      "2024-07-25 20:11:06,154 [WARNING] Duplicated values found in preranked stats: 63.77% of genes\n",
      "The order of those genes will be arbitrary, which may produce unexpected results.\n",
      "2024-07-25 20:11:17,853 [WARNING] Duplicated values found in preranked stats: 47.83% of genes\n",
      "The order of those genes will be arbitrary, which may produce unexpected results.\n",
      "2024-07-25 20:11:29,582 [WARNING] Duplicated values found in preranked stats: 68.41% of genes\n",
      "The order of those genes will be arbitrary, which may produce unexpected results.\n",
      "2024-07-25 20:11:41,495 [WARNING] Duplicated values found in preranked stats: 60.25% of genes\n",
      "The order of those genes will be arbitrary, which may produce unexpected results.\n",
      "2024-07-25 20:11:53,203 [WARNING] Duplicated values found in preranked stats: 53.31% of genes\n",
      "The order of those genes will be arbitrary, which may produce unexpected results.\n",
      "2024-07-25 20:12:04,911 [WARNING] Duplicated values found in preranked stats: 65.11% of genes\n",
      "The order of those genes will be arbitrary, which may produce unexpected results.\n",
      "2024-07-25 20:12:16,623 [WARNING] Duplicated values found in preranked stats: 66.21% of genes\n",
      "The order of those genes will be arbitrary, which may produce unexpected results.\n",
      "2024-07-25 20:12:28,338 [WARNING] Duplicated values found in preranked stats: 58.43% of genes\n",
      "The order of those genes will be arbitrary, which may produce unexpected results.\n",
      "2024-07-25 20:12:40,068 [WARNING] Duplicated values found in preranked stats: 55.68% of genes\n",
      "The order of those genes will be arbitrary, which may produce unexpected results.\n",
      "2024-07-25 20:12:51,807 [WARNING] Duplicated values found in preranked stats: 64.48% of genes\n",
      "The order of those genes will be arbitrary, which may produce unexpected results.\n",
      "2024-07-25 20:13:03,534 [WARNING] Duplicated values found in preranked stats: 65.47% of genes\n",
      "The order of those genes will be arbitrary, which may produce unexpected results.\n",
      "2024-07-25 20:13:15,236 [WARNING] Duplicated values found in preranked stats: 50.06% of genes\n",
      "The order of those genes will be arbitrary, which may produce unexpected results.\n",
      "2024-07-25 20:13:26,923 [WARNING] Duplicated values found in preranked stats: 51.53% of genes\n",
      "The order of those genes will be arbitrary, which may produce unexpected results.\n",
      "2024-07-25 20:13:38,622 [WARNING] Duplicated values found in preranked stats: 53.55% of genes\n",
      "The order of those genes will be arbitrary, which may produce unexpected results.\n",
      "2024-07-25 20:13:50,328 [WARNING] Duplicated values found in preranked stats: 68.46% of genes\n",
      "The order of those genes will be arbitrary, which may produce unexpected results.\n",
      "2024-07-25 20:14:02,033 [WARNING] Duplicated values found in preranked stats: 54.21% of genes\n",
      "The order of those genes will be arbitrary, which may produce unexpected results.\n",
      "2024-07-25 20:14:13,705 [WARNING] Duplicated values found in preranked stats: 51.00% of genes\n",
      "The order of those genes will be arbitrary, which may produce unexpected results.\n",
      "2024-07-25 20:14:25,418 [WARNING] Duplicated values found in preranked stats: 51.07% of genes\n",
      "The order of those genes will be arbitrary, which may produce unexpected results.\n",
      "2024-07-25 20:14:37,125 [WARNING] Duplicated values found in preranked stats: 61.93% of genes\n",
      "The order of those genes will be arbitrary, which may produce unexpected results.\n",
      "2024-07-25 20:14:48,806 [WARNING] Duplicated values found in preranked stats: 60.12% of genes\n",
      "The order of those genes will be arbitrary, which may produce unexpected results.\n",
      "2024-07-25 20:15:00,507 [WARNING] Duplicated values found in preranked stats: 61.27% of genes\n",
      "The order of those genes will be arbitrary, which may produce unexpected results.\n",
      "2024-07-25 20:15:12,227 [WARNING] Duplicated values found in preranked stats: 62.92% of genes\n",
      "The order of those genes will be arbitrary, which may produce unexpected results.\n",
      "2024-07-25 20:15:23,945 [WARNING] Duplicated values found in preranked stats: 51.90% of genes\n",
      "The order of those genes will be arbitrary, which may produce unexpected results.\n",
      "2024-07-25 20:15:35,659 [WARNING] Duplicated values found in preranked stats: 49.61% of genes\n",
      "The order of those genes will be arbitrary, which may produce unexpected results.\n",
      "2024-07-25 20:15:47,448 [WARNING] Duplicated values found in preranked stats: 50.14% of genes\n",
      "The order of those genes will be arbitrary, which may produce unexpected results.\n",
      "2024-07-25 20:15:59,224 [WARNING] Duplicated values found in preranked stats: 63.02% of genes\n",
      "The order of those genes will be arbitrary, which may produce unexpected results.\n",
      "2024-07-25 20:16:11,036 [WARNING] Duplicated values found in preranked stats: 71.33% of genes\n",
      "The order of those genes will be arbitrary, which may produce unexpected results.\n",
      "2024-07-25 20:16:22,782 [WARNING] Duplicated values found in preranked stats: 61.99% of genes\n",
      "The order of those genes will be arbitrary, which may produce unexpected results.\n",
      "2024-07-25 20:16:34,493 [WARNING] Duplicated values found in preranked stats: 63.33% of genes\n",
      "The order of those genes will be arbitrary, which may produce unexpected results.\n",
      "2024-07-25 20:16:46,289 [WARNING] Duplicated values found in preranked stats: 57.18% of genes\n",
      "The order of those genes will be arbitrary, which may produce unexpected results.\n",
      "2024-07-25 20:16:58,045 [WARNING] Duplicated values found in preranked stats: 60.67% of genes\n",
      "The order of those genes will be arbitrary, which may produce unexpected results.\n",
      "2024-07-25 20:17:09,845 [WARNING] Duplicated values found in preranked stats: 51.75% of genes\n",
      "The order of those genes will be arbitrary, which may produce unexpected results.\n",
      "2024-07-25 20:17:21,675 [WARNING] Duplicated values found in preranked stats: 55.13% of genes\n",
      "The order of those genes will be arbitrary, which may produce unexpected results.\n",
      "2024-07-25 20:17:33,500 [WARNING] Duplicated values found in preranked stats: 59.90% of genes\n",
      "The order of those genes will be arbitrary, which may produce unexpected results.\n",
      "2024-07-25 20:17:45,322 [WARNING] Duplicated values found in preranked stats: 51.29% of genes\n",
      "The order of those genes will be arbitrary, which may produce unexpected results.\n",
      "2024-07-25 20:17:57,137 [WARNING] Duplicated values found in preranked stats: 52.67% of genes\n",
      "The order of those genes will be arbitrary, which may produce unexpected results.\n",
      "2024-07-25 20:18:08,952 [WARNING] Duplicated values found in preranked stats: 56.94% of genes\n",
      "The order of those genes will be arbitrary, which may produce unexpected results.\n",
      "2024-07-25 20:18:20,794 [WARNING] Duplicated values found in preranked stats: 53.15% of genes\n",
      "The order of those genes will be arbitrary, which may produce unexpected results.\n",
      "2024-07-25 20:18:32,653 [WARNING] Duplicated values found in preranked stats: 71.64% of genes\n",
      "The order of those genes will be arbitrary, which may produce unexpected results.\n",
      "2024-07-25 20:18:44,509 [WARNING] Duplicated values found in preranked stats: 58.87% of genes\n",
      "The order of those genes will be arbitrary, which may produce unexpected results.\n",
      "2024-07-25 20:18:56,406 [WARNING] Duplicated values found in preranked stats: 61.07% of genes\n",
      "The order of those genes will be arbitrary, which may produce unexpected results.\n",
      "2024-07-25 20:19:08,281 [WARNING] Duplicated values found in preranked stats: 58.78% of genes\n",
      "The order of those genes will be arbitrary, which may produce unexpected results.\n",
      "2024-07-25 20:19:20,173 [WARNING] Duplicated values found in preranked stats: 55.93% of genes\n",
      "The order of those genes will be arbitrary, which may produce unexpected results.\n",
      "2024-07-25 20:19:32,070 [WARNING] Duplicated values found in preranked stats: 62.10% of genes\n",
      "The order of those genes will be arbitrary, which may produce unexpected results.\n",
      "2024-07-25 20:19:43,960 [WARNING] Duplicated values found in preranked stats: 56.21% of genes\n",
      "The order of those genes will be arbitrary, which may produce unexpected results.\n",
      "2024-07-25 20:19:55,768 [WARNING] Duplicated values found in preranked stats: 56.63% of genes\n",
      "The order of those genes will be arbitrary, which may produce unexpected results.\n",
      "2024-07-25 20:20:07,598 [WARNING] Duplicated values found in preranked stats: 59.51% of genes\n",
      "The order of those genes will be arbitrary, which may produce unexpected results.\n",
      "2024-07-25 20:20:19,491 [WARNING] Duplicated values found in preranked stats: 58.50% of genes\n",
      "The order of those genes will be arbitrary, which may produce unexpected results.\n",
      "2024-07-25 20:20:31,376 [WARNING] Duplicated values found in preranked stats: 58.39% of genes\n",
      "The order of those genes will be arbitrary, which may produce unexpected results.\n",
      "2024-07-25 20:20:43,261 [WARNING] Duplicated values found in preranked stats: 68.21% of genes\n",
      "The order of those genes will be arbitrary, which may produce unexpected results.\n",
      "2024-07-25 20:20:55,181 [WARNING] Duplicated values found in preranked stats: 63.25% of genes\n",
      "The order of those genes will be arbitrary, which may produce unexpected results.\n",
      "2024-07-25 20:21:07,082 [WARNING] Duplicated values found in preranked stats: 60.70% of genes\n",
      "The order of those genes will be arbitrary, which may produce unexpected results.\n",
      "2024-07-25 20:21:18,983 [WARNING] Duplicated values found in preranked stats: 67.13% of genes\n",
      "The order of those genes will be arbitrary, which may produce unexpected results.\n",
      "2024-07-25 20:21:30,906 [WARNING] Duplicated values found in preranked stats: 60.15% of genes\n",
      "The order of those genes will be arbitrary, which may produce unexpected results.\n",
      "2024-07-25 20:21:42,715 [WARNING] Duplicated values found in preranked stats: 67.46% of genes\n",
      "The order of those genes will be arbitrary, which may produce unexpected results.\n",
      "2024-07-25 20:21:54,550 [WARNING] Duplicated values found in preranked stats: 67.22% of genes\n",
      "The order of those genes will be arbitrary, which may produce unexpected results.\n",
      "2024-07-25 20:22:06,304 [WARNING] Duplicated values found in preranked stats: 60.47% of genes\n",
      "The order of those genes will be arbitrary, which may produce unexpected results.\n",
      "2024-07-25 20:22:18,063 [WARNING] Duplicated values found in preranked stats: 64.69% of genes\n",
      "The order of those genes will be arbitrary, which may produce unexpected results.\n"
     ]
    }
   ],
   "source": [
    "# Gene-set enrichment\n",
    "pre_res = compute_geneset_enrichment(mdata, prog_key='cNMF', data_key='rna', prog_nam=None,\n",
    "                                    organism='human', library='Reactome_2022', method=\"gsea\",\n",
    "                                    database='enrichr', n_jobs=-1, inplace=False, user_geneset=None)\n",
    "pre_res.to_csv('geneset_enrichment.txt', sep='\\t', index=False)"
   ]
  },
  {
   "cell_type": "code",
   "execution_count": 6,
   "metadata": {},
   "outputs": [
    {
     "name": "stderr",
     "output_type": "stream",
     "text": [
      "/oak/stanford/groups/akundaje/regu/miniforge3/envs/evaluation/lib/python3.9/site-packages/anndata/_core/anndata.py:1899: UserWarning: Variable names are not unique. To make them unique, call `.var_names_make_unique`.\n",
      "  utils.warn_names_duplicates(\"var\")\n",
      "/oak/stanford/groups/akundaje/regu/miniforge3/envs/evaluation/lib/python3.9/site-packages/mudata/_core/mudata.py:479: UserWarning: var_names are not unique. To make them unique, call `.var_names_make_unique`.\n",
      "  warnings.warn(\n"
     ]
    },
    {
     "data": {
      "application/vnd.jupyter.widget-view+json": {
       "model_id": "c109cfde46dd40608c4ea39eab247df2",
       "version_major": 2,
       "version_minor": 0
      },
      "text/plain": [
       "Matching motifs to sequences:   0%|          | 0/8 [00:00<?, ?motifs/s]"
      ]
     },
     "metadata": {},
     "output_type": "display_data"
    },
    {
     "data": {
      "application/vnd.jupyter.widget-view+json": {
       "model_id": "0bfc6ad8773d4ee184d6b5de3442d9f5",
       "version_major": 2,
       "version_minor": 0
      },
      "text/plain": [
       "Motif scanning:   0%|          | 0/3 [00:00<?, ?genes/s]"
      ]
     },
     "metadata": {},
     "output_type": "display_data"
    },
    {
     "data": {
      "application/vnd.jupyter.widget-view+json": {
       "model_id": "7603f95412a94c1cad8218f8b4ce2e74",
       "version_major": 2,
       "version_minor": 0
      },
      "text/plain": [
       "Motif scanning:   0%|          | 0/3 [00:00<?, ?genes/s]"
      ]
     },
     "metadata": {},
     "output_type": "display_data"
    },
    {
     "data": {
      "application/vnd.jupyter.widget-view+json": {
       "model_id": "34baf432611f46398000c6117b9efa78",
       "version_major": 2,
       "version_minor": 0
      },
      "text/plain": [
       "Motif scanning:   0%|          | 0/3 [00:00<?, ?genes/s]"
      ]
     },
     "metadata": {},
     "output_type": "display_data"
    },
    {
     "data": {
      "application/vnd.jupyter.widget-view+json": {
       "model_id": "ae18365ae2674540b387f14f878b390b",
       "version_major": 2,
       "version_minor": 0
      },
      "text/plain": [
       "Motif scanning:   0%|          | 0/3 [00:00<?, ?genes/s]"
      ]
     },
     "metadata": {},
     "output_type": "display_data"
    },
    {
     "data": {
      "application/vnd.jupyter.widget-view+json": {
       "model_id": "fada6aeb160d4685952ae2620f8f2577",
       "version_major": 2,
       "version_minor": 0
      },
      "text/plain": [
       "Motif scanning:   0%|          | 0/3 [00:00<?, ?genes/s]"
      ]
     },
     "metadata": {},
     "output_type": "display_data"
    },
    {
     "data": {
      "application/vnd.jupyter.widget-view+json": {
       "model_id": "e15511136d8d4b5e8f783cf64b773490",
       "version_major": 2,
       "version_minor": 0
      },
      "text/plain": [
       "Motif scanning:   0%|          | 0/3 [00:00<?, ?genes/s]"
      ]
     },
     "metadata": {},
     "output_type": "display_data"
    },
    {
     "data": {
      "application/vnd.jupyter.widget-view+json": {
       "model_id": "4816785d85b6400f9e24238a529bbe2f",
       "version_major": 2,
       "version_minor": 0
      },
      "text/plain": [
       "Motif scanning:   0%|          | 0/3 [00:00<?, ?genes/s]"
      ]
     },
     "metadata": {},
     "output_type": "display_data"
    },
    {
     "data": {
      "application/vnd.jupyter.widget-view+json": {
       "model_id": "4dcb15899be74844b6d2000106b3687d",
       "version_major": 2,
       "version_minor": 0
      },
      "text/plain": [
       "Motif scanning:   0%|          | 0/3 [00:00<?, ?genes/s]"
      ]
     },
     "metadata": {},
     "output_type": "display_data"
    },
    {
     "name": "stderr",
     "output_type": "stream",
     "text": [
      "/oak/stanford/groups/akundaje/regu/projects/gene_program_evaluation/iPSC_EC_analysis/../gene_network_evaluation/src/evaluation/enrichment_motif.py:409: FutureWarning: The behavior of DataFrame concatenation with empty or all-NA entries is deprecated. In a future version, this will no longer exclude empty or all-NA columns when determining the result dtypes. To retain the old behavior, exclude the relevant entries before the concat operation.\n",
      "  motif_match_df = pd.concat(motif_match_dfs)\n"
     ]
    },
    {
     "data": {
      "application/vnd.jupyter.widget-view+json": {
       "model_id": "eda6fbb0c07344daadce418c78b47158",
       "version_major": 2,
       "version_minor": 0
      },
      "text/plain": [
       "Computing motif enrichment:   0%|          | 0/5 [00:00<?, ?motifs/s]"
      ]
     },
     "metadata": {},
     "output_type": "display_data"
    }
   ],
   "source": [
    "# Motif enrichment\n",
    "# Change relevant paths\n",
    "motif_match_df, motif_count_df, motif_enrichment_df = compute_motif_enrichment(mdata, prog_key='cNMF', data_key='rna', \n",
    "                                                                               motif_file='../gene_network_evaluation/src/tests/test_data/motifs.meme', \n",
    "                                                                               seq_file='../../../data/hg38/hg38.fa',\n",
    "                                                                               coords_file='../gene_network_evaluation/src/tests/test_data/p2g_links_minimal.txt', \n",
    "                                                                               output_loc=None, sig=0.05, num_genes=None, \n",
    "                                                                               correlation='pearsonr', \n",
    "                                                                               n_jobs=-1, inplace=False)\n",
    "motif_match_df.to_csv('motif_enrichment_matches.txt', sep='\\t', index=False)\n",
    "motif_count_df.to_csv('motif_enrichment_counts.txt', sep='\\t', index=False)\n",
    "motif_enrichment_df.to_csv('motif_enrichment.txt', sep='\\t', index=False)\n"
   ]
  },
  {
   "cell_type": "code",
   "execution_count": 7,
   "metadata": {},
   "outputs": [
    {
     "data": {
      "application/vnd.jupyter.widget-view+json": {
       "model_id": "157d9f7a395d41eb8a2f5738e37124b5",
       "version_major": 2,
       "version_minor": 0
      },
      "text/plain": [
       "Running GSEA:   0%|          | 0/60 [00:00<?, ?programs/s]"
      ]
     },
     "metadata": {},
     "output_type": "display_data"
    },
    {
     "name": "stderr",
     "output_type": "stream",
     "text": [
      "2024-07-25 20:23:39,102 [WARNING] Duplicated values found in preranked stats: 53.00% of genes\n",
      "The order of those genes will be arbitrary, which may produce unexpected results.\n",
      "2024-07-25 20:23:45,123 [WARNING] Duplicated values found in preranked stats: 50.12% of genes\n",
      "The order of those genes will be arbitrary, which may produce unexpected results.\n",
      "2024-07-25 20:23:51,057 [WARNING] Duplicated values found in preranked stats: 63.77% of genes\n",
      "The order of those genes will be arbitrary, which may produce unexpected results.\n",
      "2024-07-25 20:23:57,052 [WARNING] Duplicated values found in preranked stats: 47.83% of genes\n",
      "The order of those genes will be arbitrary, which may produce unexpected results.\n",
      "2024-07-25 20:24:02,925 [WARNING] Duplicated values found in preranked stats: 68.41% of genes\n",
      "The order of those genes will be arbitrary, which may produce unexpected results.\n",
      "2024-07-25 20:24:08,754 [WARNING] Duplicated values found in preranked stats: 60.25% of genes\n",
      "The order of those genes will be arbitrary, which may produce unexpected results.\n",
      "2024-07-25 20:24:14,514 [WARNING] Duplicated values found in preranked stats: 53.31% of genes\n",
      "The order of those genes will be arbitrary, which may produce unexpected results.\n",
      "2024-07-25 20:24:20,432 [WARNING] Duplicated values found in preranked stats: 65.11% of genes\n",
      "The order of those genes will be arbitrary, which may produce unexpected results.\n",
      "2024-07-25 20:24:26,216 [WARNING] Duplicated values found in preranked stats: 66.21% of genes\n",
      "The order of those genes will be arbitrary, which may produce unexpected results.\n",
      "2024-07-25 20:24:32,040 [WARNING] Duplicated values found in preranked stats: 58.43% of genes\n",
      "The order of those genes will be arbitrary, which may produce unexpected results.\n",
      "2024-07-25 20:24:37,829 [WARNING] Duplicated values found in preranked stats: 55.68% of genes\n",
      "The order of those genes will be arbitrary, which may produce unexpected results.\n",
      "2024-07-25 20:24:43,629 [WARNING] Duplicated values found in preranked stats: 64.48% of genes\n",
      "The order of those genes will be arbitrary, which may produce unexpected results.\n",
      "2024-07-25 20:24:49,415 [WARNING] Duplicated values found in preranked stats: 65.47% of genes\n",
      "The order of those genes will be arbitrary, which may produce unexpected results.\n",
      "2024-07-25 20:24:55,182 [WARNING] Duplicated values found in preranked stats: 50.06% of genes\n",
      "The order of those genes will be arbitrary, which may produce unexpected results.\n",
      "2024-07-25 20:25:00,952 [WARNING] Duplicated values found in preranked stats: 51.53% of genes\n",
      "The order of those genes will be arbitrary, which may produce unexpected results.\n",
      "2024-07-25 20:25:06,734 [WARNING] Duplicated values found in preranked stats: 53.55% of genes\n",
      "The order of those genes will be arbitrary, which may produce unexpected results.\n",
      "2024-07-25 20:25:12,519 [WARNING] Duplicated values found in preranked stats: 68.46% of genes\n",
      "The order of those genes will be arbitrary, which may produce unexpected results.\n",
      "2024-07-25 20:25:18,252 [WARNING] Duplicated values found in preranked stats: 54.21% of genes\n",
      "The order of those genes will be arbitrary, which may produce unexpected results.\n",
      "2024-07-25 20:25:24,029 [WARNING] Duplicated values found in preranked stats: 51.00% of genes\n",
      "The order of those genes will be arbitrary, which may produce unexpected results.\n",
      "2024-07-25 20:25:29,778 [WARNING] Duplicated values found in preranked stats: 51.07% of genes\n",
      "The order of those genes will be arbitrary, which may produce unexpected results.\n",
      "2024-07-25 20:25:35,567 [WARNING] Duplicated values found in preranked stats: 61.93% of genes\n",
      "The order of those genes will be arbitrary, which may produce unexpected results.\n",
      "2024-07-25 20:25:41,354 [WARNING] Duplicated values found in preranked stats: 60.12% of genes\n",
      "The order of those genes will be arbitrary, which may produce unexpected results.\n",
      "2024-07-25 20:25:47,135 [WARNING] Duplicated values found in preranked stats: 61.27% of genes\n",
      "The order of those genes will be arbitrary, which may produce unexpected results.\n",
      "2024-07-25 20:25:52,892 [WARNING] Duplicated values found in preranked stats: 62.92% of genes\n",
      "The order of those genes will be arbitrary, which may produce unexpected results.\n",
      "2024-07-25 20:25:58,944 [WARNING] Duplicated values found in preranked stats: 51.90% of genes\n",
      "The order of those genes will be arbitrary, which may produce unexpected results.\n",
      "2024-07-25 20:26:04,989 [WARNING] Duplicated values found in preranked stats: 49.61% of genes\n",
      "The order of those genes will be arbitrary, which may produce unexpected results.\n",
      "2024-07-25 20:26:10,922 [WARNING] Duplicated values found in preranked stats: 50.14% of genes\n",
      "The order of those genes will be arbitrary, which may produce unexpected results.\n",
      "2024-07-25 20:26:16,867 [WARNING] Duplicated values found in preranked stats: 63.02% of genes\n",
      "The order of those genes will be arbitrary, which may produce unexpected results.\n",
      "2024-07-25 20:26:22,842 [WARNING] Duplicated values found in preranked stats: 71.33% of genes\n",
      "The order of those genes will be arbitrary, which may produce unexpected results.\n",
      "2024-07-25 20:26:28,867 [WARNING] Duplicated values found in preranked stats: 61.99% of genes\n",
      "The order of those genes will be arbitrary, which may produce unexpected results.\n",
      "2024-07-25 20:26:34,880 [WARNING] Duplicated values found in preranked stats: 63.33% of genes\n",
      "The order of those genes will be arbitrary, which may produce unexpected results.\n",
      "2024-07-25 20:26:40,844 [WARNING] Duplicated values found in preranked stats: 57.18% of genes\n",
      "The order of those genes will be arbitrary, which may produce unexpected results.\n",
      "2024-07-25 20:26:46,708 [WARNING] Duplicated values found in preranked stats: 60.67% of genes\n",
      "The order of those genes will be arbitrary, which may produce unexpected results.\n",
      "2024-07-25 20:26:52,552 [WARNING] Duplicated values found in preranked stats: 51.75% of genes\n",
      "The order of those genes will be arbitrary, which may produce unexpected results.\n",
      "2024-07-25 20:26:58,426 [WARNING] Duplicated values found in preranked stats: 55.13% of genes\n",
      "The order of those genes will be arbitrary, which may produce unexpected results.\n",
      "2024-07-25 20:27:04,295 [WARNING] Duplicated values found in preranked stats: 59.90% of genes\n",
      "The order of those genes will be arbitrary, which may produce unexpected results.\n",
      "2024-07-25 20:27:10,137 [WARNING] Duplicated values found in preranked stats: 51.29% of genes\n",
      "The order of those genes will be arbitrary, which may produce unexpected results.\n",
      "2024-07-25 20:27:15,973 [WARNING] Duplicated values found in preranked stats: 52.67% of genes\n",
      "The order of those genes will be arbitrary, which may produce unexpected results.\n",
      "2024-07-25 20:27:21,801 [WARNING] Duplicated values found in preranked stats: 56.94% of genes\n",
      "The order of those genes will be arbitrary, which may produce unexpected results.\n",
      "2024-07-25 20:27:27,622 [WARNING] Duplicated values found in preranked stats: 53.15% of genes\n",
      "The order of those genes will be arbitrary, which may produce unexpected results.\n",
      "2024-07-25 20:27:33,452 [WARNING] Duplicated values found in preranked stats: 71.64% of genes\n",
      "The order of those genes will be arbitrary, which may produce unexpected results.\n",
      "2024-07-25 20:27:39,285 [WARNING] Duplicated values found in preranked stats: 58.87% of genes\n",
      "The order of those genes will be arbitrary, which may produce unexpected results.\n",
      "2024-07-25 20:27:45,122 [WARNING] Duplicated values found in preranked stats: 61.07% of genes\n",
      "The order of those genes will be arbitrary, which may produce unexpected results.\n",
      "2024-07-25 20:27:50,962 [WARNING] Duplicated values found in preranked stats: 58.78% of genes\n",
      "The order of those genes will be arbitrary, which may produce unexpected results.\n",
      "2024-07-25 20:27:56,829 [WARNING] Duplicated values found in preranked stats: 55.93% of genes\n",
      "The order of those genes will be arbitrary, which may produce unexpected results.\n",
      "2024-07-25 20:28:02,667 [WARNING] Duplicated values found in preranked stats: 62.10% of genes\n",
      "The order of those genes will be arbitrary, which may produce unexpected results.\n",
      "2024-07-25 20:28:08,522 [WARNING] Duplicated values found in preranked stats: 56.21% of genes\n",
      "The order of those genes will be arbitrary, which may produce unexpected results.\n",
      "2024-07-25 20:28:14,345 [WARNING] Duplicated values found in preranked stats: 56.63% of genes\n",
      "The order of those genes will be arbitrary, which may produce unexpected results.\n",
      "2024-07-25 20:28:20,184 [WARNING] Duplicated values found in preranked stats: 59.51% of genes\n",
      "The order of those genes will be arbitrary, which may produce unexpected results.\n",
      "2024-07-25 20:28:26,008 [WARNING] Duplicated values found in preranked stats: 58.50% of genes\n",
      "The order of those genes will be arbitrary, which may produce unexpected results.\n",
      "2024-07-25 20:28:31,827 [WARNING] Duplicated values found in preranked stats: 58.39% of genes\n",
      "The order of those genes will be arbitrary, which may produce unexpected results.\n",
      "2024-07-25 20:28:37,670 [WARNING] Duplicated values found in preranked stats: 68.21% of genes\n",
      "The order of those genes will be arbitrary, which may produce unexpected results.\n",
      "2024-07-25 20:28:43,523 [WARNING] Duplicated values found in preranked stats: 63.25% of genes\n",
      "The order of those genes will be arbitrary, which may produce unexpected results.\n",
      "2024-07-25 20:28:49,361 [WARNING] Duplicated values found in preranked stats: 60.70% of genes\n",
      "The order of those genes will be arbitrary, which may produce unexpected results.\n",
      "2024-07-25 20:28:55,180 [WARNING] Duplicated values found in preranked stats: 67.13% of genes\n",
      "The order of those genes will be arbitrary, which may produce unexpected results.\n",
      "2024-07-25 20:29:01,033 [WARNING] Duplicated values found in preranked stats: 60.15% of genes\n",
      "The order of those genes will be arbitrary, which may produce unexpected results.\n",
      "2024-07-25 20:29:06,884 [WARNING] Duplicated values found in preranked stats: 67.46% of genes\n",
      "The order of those genes will be arbitrary, which may produce unexpected results.\n",
      "2024-07-25 20:29:12,730 [WARNING] Duplicated values found in preranked stats: 67.22% of genes\n",
      "The order of those genes will be arbitrary, which may produce unexpected results.\n",
      "2024-07-25 20:29:18,549 [WARNING] Duplicated values found in preranked stats: 60.47% of genes\n",
      "The order of those genes will be arbitrary, which may produce unexpected results.\n",
      "2024-07-25 20:29:24,402 [WARNING] Duplicated values found in preranked stats: 64.69% of genes\n",
      "The order of those genes will be arbitrary, which may produce unexpected results.\n"
     ]
    }
   ],
   "source": [
    "# Run trait enrichment\n",
    "pre_res_trait = compute_trait_enrichment(mdata, gwas_data='../gene_network_evaluation/smk/resources/OpenTargets_L2G_Filtered.csv.gz', \n",
    "                                         prog_key='cNMF', prog_nam=None, data_key='rna', \n",
    "                                         library='OT_GWAS', n_jobs=-1, inplace=False, \n",
    "                                         key_column='trait_efos', gene_column='gene_name', \n",
    "                                         method='gsea')\n",
    "pre_res_trait.to_csv('trait_enrichment.txt', sep='\\t', index=False)"
   ]
  },
  {
   "cell_type": "code",
   "execution_count": 8,
   "metadata": {},
   "outputs": [
    {
     "name": "stderr",
     "output_type": "stream",
     "text": [
      "/oak/stanford/groups/akundaje/regu/miniforge3/envs/evaluation/lib/python3.9/site-packages/anndata/_core/anndata.py:1899: UserWarning: Variable names are not unique. To make them unique, call `.var_names_make_unique`.\n",
      "  utils.warn_names_duplicates(\"var\")\n",
      "/oak/stanford/groups/akundaje/regu/miniforge3/envs/evaluation/lib/python3.9/site-packages/mudata/_core/mudata.py:479: UserWarning: var_names are not unique. To make them unique, call `.var_names_make_unique`.\n",
      "  warnings.warn(\n"
     ]
    },
    {
     "data": {
      "application/vnd.jupyter.widget-view+json": {
       "model_id": "f9ed94d3f9aa420f9b2d2f5d67a78105",
       "version_major": 2,
       "version_minor": 0
      },
      "text/plain": [
       "Computing explained variance:   0%|          | 0/60 [00:00<?, ?programs/s]"
      ]
     },
     "metadata": {},
     "output_type": "display_data"
    }
   ],
   "source": [
    "# Run explained variance\n",
    "\n",
    "explained_variance_ratio = compute_explained_variance_ratio(mdata, prog_key='cNMF', data_key='rna', \n",
    "                                                            layer='X', n_jobs=1, inplace=False)\n",
    "\n",
    "explained_variance_ratio.to_csv('explained_variance_ratio.txt', sep='\\t')                                          "
   ]
  },
  {
   "cell_type": "markdown",
   "metadata": {},
   "source": [
    "# Scratch"
   ]
  },
  {
   "cell_type": "markdown",
   "metadata": {},
   "source": []
  },
  {
   "cell_type": "code",
   "execution_count": 6,
   "metadata": {},
   "outputs": [],
   "source": [
    "import pandas as pd\n",
    "import numpy as np"
   ]
  },
  {
   "cell_type": "code",
   "execution_count": 7,
   "metadata": {},
   "outputs": [],
   "source": [
    "def process_enrichment_data(\n",
    "    enrich_res,\n",
    "    metadata,\n",
    "    pval_col=\"FDR q-val\",\n",
    "    enrich_geneset_id_col=\"Term\",\n",
    "    metadata_geneset_id_col=\"trait_efos\",\n",
    "    color_category_col=\"trait_category\",\n",
    "    program_name_col=\"program_name\",\n",
    "    annotation_cols=[\"trait_reported\", \"Lead_genes\", \"study_id\", \"pmid\"]\n",
    "):\n",
    "\n",
    "    # Read in enrichment results\n",
    "    if isinstance(enrich_res, str):\n",
    "        enrich_df = pd.read_csv(enrich_res)\n",
    "    elif isinstance(enrich_res, pd.DataFrame):\n",
    "        enrich_df = enrich_res\n",
    "    else:\n",
    "        raise ValueError(\"enrich_res must be either a pandas DataFrame or a file path to a CSV file.\")\n",
    "\n",
    "    if isinstance(metadata, str):\n",
    "        metadata_df = pd.read_csv(metadata, compression='gzip', low_memory=False)\n",
    "    elif isinstance(metadata, pd.DataFrame):\n",
    "        metadata_df = metadata\n",
    "    else:\n",
    "        raise ValueError(\"metadata must be either a pandas DataFrame or a file path to a CSV file.\")\n",
    "\n",
    "    # Join the enrichment results and the metadata\n",
    "    enrich_ps = enrich_df.merge(metadata_df, left_on=enrich_geneset_id_col, right_on=metadata_geneset_id_col, how=\"left\")\n",
    "\n",
    "    # Only keep the relevant columns\n",
    "    keep_cols = list([enrich_geneset_id_col, pval_col, metadata_geneset_id_col, color_category_col, program_name_col] + annotation_cols)\n",
    "    enrich_ps = enrich_ps[keep_cols]\n",
    "\n",
    "    # Sort by P-value\n",
    "    enrich_ps = enrich_ps.drop_duplicates().sort_values(by=[color_category_col, pval_col])\n",
    "\n",
    "    # If the input P-value == 0, then replace it with the lowest non-zero P-value in the dataframe\n",
    "    min_value = enrich_ps.query(f\"`{pval_col}` > 0\")[pval_col].min()\n",
    "\n",
    "    # Compute the -log(10) P-value and deal with edge-cases (e.g. P=0, P=1)\n",
    "    enrich_ps.loc[enrich_ps[pval_col] == 0, pval_col] = min_value  # Replace P=0 with min non-0 p-value\n",
    "    enrich_ps['-log10(p-value)'] = abs(-1 * np.log10(enrich_ps[pval_col]))\n",
    "\n",
    "    enrich_ps.reset_index(drop=True, inplace=True)\n",
    "\n",
    "    return enrich_ps"
   ]
  },
  {
   "cell_type": "code",
   "execution_count": 17,
   "metadata": {},
   "outputs": [
    {
     "data": {
      "text/html": [
       "<div>\n",
       "<style scoped>\n",
       "    .dataframe tbody tr th:only-of-type {\n",
       "        vertical-align: middle;\n",
       "    }\n",
       "\n",
       "    .dataframe tbody tr th {\n",
       "        vertical-align: top;\n",
       "    }\n",
       "\n",
       "    .dataframe thead th {\n",
       "        text-align: right;\n",
       "    }\n",
       "</style>\n",
       "<table border=\"1\" class=\"dataframe\">\n",
       "  <thead>\n",
       "    <tr style=\"text-align: right;\">\n",
       "      <th></th>\n",
       "      <th>trait_category</th>\n",
       "      <th>trait_efos</th>\n",
       "      <th>trait_reported</th>\n",
       "      <th>gene_name</th>\n",
       "      <th>L2G</th>\n",
       "      <th>chrom</th>\n",
       "      <th>pos</th>\n",
       "      <th>ref</th>\n",
       "      <th>alt</th>\n",
       "      <th>pval</th>\n",
       "      <th>source</th>\n",
       "      <th>study_id</th>\n",
       "      <th>pmid</th>\n",
       "      <th>pub_date</th>\n",
       "      <th>num_assoc_loci</th>\n",
       "    </tr>\n",
       "  </thead>\n",
       "  <tbody>\n",
       "    <tr>\n",
       "      <th>0</th>\n",
       "      <td>biological process</td>\n",
       "      <td>GO_0036273</td>\n",
       "      <td>Statin medication</td>\n",
       "      <td>LDLR</td>\n",
       "      <td>0.533313</td>\n",
       "      <td>19</td>\n",
       "      <td>11087826</td>\n",
       "      <td>T</td>\n",
       "      <td>C</td>\n",
       "      <td>3.920000e-188</td>\n",
       "      <td>FINNGEN</td>\n",
       "      <td>FINNGEN_R6_RX_STATIN</td>\n",
       "      <td>NaN</td>\n",
       "      <td>2022-01-24</td>\n",
       "      <td>77</td>\n",
       "    </tr>\n",
       "    <tr>\n",
       "      <th>1</th>\n",
       "      <td>biological process</td>\n",
       "      <td>GO_0036273</td>\n",
       "      <td>Statin medication</td>\n",
       "      <td>PCSK9</td>\n",
       "      <td>0.763768</td>\n",
       "      <td>1</td>\n",
       "      <td>55039974</td>\n",
       "      <td>G</td>\n",
       "      <td>T</td>\n",
       "      <td>7.940000e-166</td>\n",
       "      <td>FINNGEN</td>\n",
       "      <td>FINNGEN_R6_RX_STATIN</td>\n",
       "      <td>NaN</td>\n",
       "      <td>2022-01-24</td>\n",
       "      <td>77</td>\n",
       "    </tr>\n",
       "    <tr>\n",
       "      <th>2</th>\n",
       "      <td>biological process</td>\n",
       "      <td>GO_0036273</td>\n",
       "      <td>Statin medication</td>\n",
       "      <td>BCAM</td>\n",
       "      <td>0.745231</td>\n",
       "      <td>19</td>\n",
       "      <td>44816374</td>\n",
       "      <td>G</td>\n",
       "      <td>A</td>\n",
       "      <td>8.610000e-148</td>\n",
       "      <td>FINNGEN</td>\n",
       "      <td>FINNGEN_R6_RX_STATIN</td>\n",
       "      <td>NaN</td>\n",
       "      <td>2022-01-24</td>\n",
       "      <td>77</td>\n",
       "    </tr>\n",
       "    <tr>\n",
       "      <th>3</th>\n",
       "      <td>biological process</td>\n",
       "      <td>GO_0036273</td>\n",
       "      <td>Statin medication</td>\n",
       "      <td>USP24</td>\n",
       "      <td>0.547708</td>\n",
       "      <td>1</td>\n",
       "      <td>55293465</td>\n",
       "      <td>A</td>\n",
       "      <td>G</td>\n",
       "      <td>2.290000e-131</td>\n",
       "      <td>FINNGEN</td>\n",
       "      <td>FINNGEN_R6_RX_STATIN</td>\n",
       "      <td>NaN</td>\n",
       "      <td>2022-01-24</td>\n",
       "      <td>77</td>\n",
       "    </tr>\n",
       "    <tr>\n",
       "      <th>4</th>\n",
       "      <td>biological process</td>\n",
       "      <td>GO_0036273</td>\n",
       "      <td>Statin medication</td>\n",
       "      <td>ANKRD17</td>\n",
       "      <td>0.880390</td>\n",
       "      <td>4</td>\n",
       "      <td>73167847</td>\n",
       "      <td>G</td>\n",
       "      <td>C</td>\n",
       "      <td>7.700000e-108</td>\n",
       "      <td>FINNGEN</td>\n",
       "      <td>FINNGEN_R6_RX_STATIN</td>\n",
       "      <td>NaN</td>\n",
       "      <td>2022-01-24</td>\n",
       "      <td>77</td>\n",
       "    </tr>\n",
       "  </tbody>\n",
       "</table>\n",
       "</div>"
      ],
      "text/plain": [
       "       trait_category  trait_efos     trait_reported gene_name       L2G  \\\n",
       "0  biological process  GO_0036273  Statin medication      LDLR  0.533313   \n",
       "1  biological process  GO_0036273  Statin medication     PCSK9  0.763768   \n",
       "2  biological process  GO_0036273  Statin medication      BCAM  0.745231   \n",
       "3  biological process  GO_0036273  Statin medication     USP24  0.547708   \n",
       "4  biological process  GO_0036273  Statin medication   ANKRD17  0.880390   \n",
       "\n",
       "  chrom       pos ref alt           pval   source              study_id pmid  \\\n",
       "0    19  11087826   T   C  3.920000e-188  FINNGEN  FINNGEN_R6_RX_STATIN  NaN   \n",
       "1     1  55039974   G   T  7.940000e-166  FINNGEN  FINNGEN_R6_RX_STATIN  NaN   \n",
       "2    19  44816374   G   A  8.610000e-148  FINNGEN  FINNGEN_R6_RX_STATIN  NaN   \n",
       "3     1  55293465   A   G  2.290000e-131  FINNGEN  FINNGEN_R6_RX_STATIN  NaN   \n",
       "4     4  73167847   G   C  7.700000e-108  FINNGEN  FINNGEN_R6_RX_STATIN  NaN   \n",
       "\n",
       "     pub_date  num_assoc_loci  \n",
       "0  2022-01-24              77  \n",
       "1  2022-01-24              77  \n",
       "2  2022-01-24              77  \n",
       "3  2022-01-24              77  \n",
       "4  2022-01-24              77  "
      ]
     },
     "execution_count": 17,
     "metadata": {},
     "output_type": "execute_result"
    }
   ],
   "source": [
    "phewas_metadata = pd.read_csv(\"/cellar/users/aklie/opt/gene_program_evaluation/smk/resources/OpenTargets_L2G_Filtered.csv.gz\")\n",
    "phewas_metadata.head()"
   ]
  },
  {
   "cell_type": "code",
   "execution_count": 18,
   "metadata": {},
   "outputs": [
    {
     "data": {
      "text/html": [
       "<div>\n",
       "<style scoped>\n",
       "    .dataframe tbody tr th:only-of-type {\n",
       "        vertical-align: middle;\n",
       "    }\n",
       "\n",
       "    .dataframe tbody tr th {\n",
       "        vertical-align: top;\n",
       "    }\n",
       "\n",
       "    .dataframe thead th {\n",
       "        text-align: right;\n",
       "    }\n",
       "</style>\n",
       "<table border=\"1\" class=\"dataframe\">\n",
       "  <thead>\n",
       "    <tr style=\"text-align: right;\">\n",
       "      <th></th>\n",
       "      <th>program_name</th>\n",
       "      <th>Term</th>\n",
       "      <th>ES</th>\n",
       "      <th>NES</th>\n",
       "      <th>NOM p-val</th>\n",
       "      <th>FDR q-val</th>\n",
       "      <th>FWER p-val</th>\n",
       "      <th>Gene %</th>\n",
       "      <th>Lead_genes</th>\n",
       "      <th>tag_before</th>\n",
       "      <th>tag_after</th>\n",
       "    </tr>\n",
       "  </thead>\n",
       "  <tbody>\n",
       "    <tr>\n",
       "      <th>0</th>\n",
       "      <td>0</td>\n",
       "      <td>EFO_0010934</td>\n",
       "      <td>0.947881</td>\n",
       "      <td>1.291304</td>\n",
       "      <td>0.001</td>\n",
       "      <td>0.049000</td>\n",
       "      <td>0.048</td>\n",
       "      <td>2.62</td>\n",
       "      <td>RP1;MECOM;ARHGAP29;RGL1;AUTS2;ATP8B1</td>\n",
       "      <td>6</td>\n",
       "      <td>23</td>\n",
       "    </tr>\n",
       "    <tr>\n",
       "      <th>1</th>\n",
       "      <td>0</td>\n",
       "      <td>EFO_0005128</td>\n",
       "      <td>0.935521</td>\n",
       "      <td>1.265218</td>\n",
       "      <td>0.005</td>\n",
       "      <td>0.070000</td>\n",
       "      <td>0.124</td>\n",
       "      <td>4.84</td>\n",
       "      <td>RASGRP3;BMP2K;ETS1;BCL2;C9;CXCR4</td>\n",
       "      <td>6</td>\n",
       "      <td>16</td>\n",
       "    </tr>\n",
       "    <tr>\n",
       "      <th>2</th>\n",
       "      <td>0</td>\n",
       "      <td>EFO_0001645</td>\n",
       "      <td>0.913717</td>\n",
       "      <td>1.251630</td>\n",
       "      <td>0.001</td>\n",
       "      <td>0.081334</td>\n",
       "      <td>0.201</td>\n",
       "      <td>8.77</td>\n",
       "      <td>ARHGAP26;NCALD;PHACTR1;FARP1;COL4A1;CDH13;PLPP...</td>\n",
       "      <td>10</td>\n",
       "      <td>27</td>\n",
       "    </tr>\n",
       "    <tr>\n",
       "      <th>3</th>\n",
       "      <td>0</td>\n",
       "      <td>EFO_0003761, EFO_0004247</td>\n",
       "      <td>0.887342</td>\n",
       "      <td>1.201017</td>\n",
       "      <td>0.018</td>\n",
       "      <td>0.100000</td>\n",
       "      <td>0.658</td>\n",
       "      <td>7.85</td>\n",
       "      <td>MEF2C;DCC;PLCL2;STAG1;SOX6</td>\n",
       "      <td>5</td>\n",
       "      <td>20</td>\n",
       "    </tr>\n",
       "    <tr>\n",
       "      <th>4</th>\n",
       "      <td>0</td>\n",
       "      <td>EFO_0004337, EFO_0004784</td>\n",
       "      <td>0.881527</td>\n",
       "      <td>1.202918</td>\n",
       "      <td>0.012</td>\n",
       "      <td>0.101334</td>\n",
       "      <td>0.635</td>\n",
       "      <td>2.95</td>\n",
       "      <td>MEF2C;PLCL1;DCC;NPAS2;FOXP1;PLCL2</td>\n",
       "      <td>6</td>\n",
       "      <td>24</td>\n",
       "    </tr>\n",
       "  </tbody>\n",
       "</table>\n",
       "</div>"
      ],
      "text/plain": [
       "   program_name                      Term        ES       NES  NOM p-val  \\\n",
       "0             0               EFO_0010934  0.947881  1.291304      0.001   \n",
       "1             0               EFO_0005128  0.935521  1.265218      0.005   \n",
       "2             0               EFO_0001645  0.913717  1.251630      0.001   \n",
       "3             0  EFO_0003761, EFO_0004247  0.887342  1.201017      0.018   \n",
       "4             0  EFO_0004337, EFO_0004784  0.881527  1.202918      0.012   \n",
       "\n",
       "   FDR q-val  FWER p-val  Gene %  \\\n",
       "0   0.049000       0.048    2.62   \n",
       "1   0.070000       0.124    4.84   \n",
       "2   0.081334       0.201    8.77   \n",
       "3   0.100000       0.658    7.85   \n",
       "4   0.101334       0.635    2.95   \n",
       "\n",
       "                                          Lead_genes  tag_before  tag_after  \n",
       "0               RP1;MECOM;ARHGAP29;RGL1;AUTS2;ATP8B1           6         23  \n",
       "1                   RASGRP3;BMP2K;ETS1;BCL2;C9;CXCR4           6         16  \n",
       "2  ARHGAP26;NCALD;PHACTR1;FARP1;COL4A1;CDH13;PLPP...          10         27  \n",
       "3                         MEF2C;DCC;PLCL2;STAG1;SOX6           5         20  \n",
       "4                  MEF2C;PLCL1;DCC;NPAS2;FOXP1;PLCL2           6         24  "
      ]
     },
     "execution_count": 18,
     "metadata": {},
     "output_type": "execute_result"
    }
   ],
   "source": [
    "trait_enrichment = pd.read_csv(\"/cellar/users/aklie/opt/gene_program_evaluation/dashapp/example_data/iPSC_EC_evaluations/cNMF/trait_enrichment.txt\", sep='\\t')\n",
    "trait_enrichment.head()"
   ]
  },
  {
   "cell_type": "code",
   "execution_count": 22,
   "metadata": {},
   "outputs": [
    {
     "data": {
      "text/plain": [
       "(13080, 11)"
      ]
     },
     "execution_count": 22,
     "metadata": {},
     "output_type": "execute_result"
    }
   ],
   "source": [
    "trait_enrichment.shape"
   ]
  },
  {
   "cell_type": "code",
   "execution_count": 19,
   "metadata": {},
   "outputs": [],
   "source": [
    "data = process_enrichment_data(\n",
    "    enrich_res=trait_enrichment,\n",
    "    metadata=phewas_metadata,\n",
    ")"
   ]
  },
  {
   "cell_type": "code",
   "execution_count": 23,
   "metadata": {},
   "outputs": [],
   "source": [
    "data.to_csv(\"/cellar/users/aklie/opt/gene_program_evaluation/dashapp/example_data/iPSC_EC_evaluations/cNMF/trait_enrichment_processed.txt\", sep='\\t', index=False)"
   ]
  },
  {
   "cell_type": "code",
   "execution_count": null,
   "metadata": {},
   "outputs": [],
   "source": []
  }
 ],
 "metadata": {
  "kernelspec": {
   "display_name": "Python 3.10 test_celloracle",
   "language": "python",
   "name": "test_scenicplus-py310"
  },
  "language_info": {
   "codemirror_mode": {
    "name": "ipython",
    "version": 3
   },
   "file_extension": ".py",
   "mimetype": "text/x-python",
   "name": "python",
   "nbconvert_exporter": "python",
   "pygments_lexer": "ipython3",
   "version": "3.10.8"
  },
  "orig_nbformat": 4
 },
 "nbformat": 4,
 "nbformat_minor": 2
}
