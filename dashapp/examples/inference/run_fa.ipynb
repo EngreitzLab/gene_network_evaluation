{
 "cells": [
  {
   "attachments": {},
   "cell_type": "markdown",
   "metadata": {},
   "source": [
    "# Set-up"
   ]
  },
  {
   "cell_type": "code",
   "execution_count": null,
   "metadata": {},
   "outputs": [],
   "source": [
    "import os\n",
    "import sys\n",
    "import scanpy as sc\n",
    "import muon as mu\n",
    "\n",
    "sys.path.append(\"/cellar/users/aklie/opt/gene_program_evaluation/src/inference/program_models\")\n",
    "from factor_analysis import run_factor_analysis"
   ]
  },
  {
   "cell_type": "markdown",
   "metadata": {},
   "source": []
  },
  {
   "cell_type": "code",
   "execution_count": null,
   "metadata": {},
   "outputs": [],
   "source": [
    "path_data = \"/cellar/users/aklie/opt/gene_program_evaluation/dashapp/example_data/iPSC_EC/cNMF_60_0.2_gene_names.h5mu\"\n",
    "path_configs = \"/cellar/users/aklie/data/datasets/igvf_sc-islet_10X-Multiome/bin/data_analysis/factor_analysis/configs\"\n",
    "path_out = \"/cellar/users/aklie/data/datasets/igvf_sc-islet_10X-Multiome/analysis/condition/factor_analysis\""
   ]
  },
  {
   "attachments": {},
   "cell_type": "markdown",
   "metadata": {},
   "source": [
    "# Load data"
   ]
  },
  {
   "cell_type": "code",
   "execution_count": null,
   "metadata": {},
   "outputs": [],
   "source": [
    "# if filepath ends in .h5ad\n",
    "if path_data.endswith(\".h5ad\"):\n",
    "    data = sc.read_h5ad(path_data)\n",
    "elif path_data.endswith(\".h5mu\"):\n",
    "    data = mu.read_h5mu(path_data)\n",
    "data"
   ]
  },
  {
   "cell_type": "code",
   "execution_count": null,
   "metadata": {},
   "outputs": [],
   "source": [
    "del data.mod[\"cNMF\"]"
   ]
  },
  {
   "cell_type": "code",
   "execution_count": null,
   "metadata": {},
   "outputs": [],
   "source": [
    "data.write(\"/cellar/users/aklie/opt/gene_program_evaluation/dashapp/example_data/iPSC_EC/iPSC_EC.h5mu\")"
   ]
  },
  {
   "attachments": {},
   "cell_type": "markdown",
   "metadata": {},
   "source": [
    "# Preprocess"
   ]
  },
  {
   "cell_type": "code",
   "execution_count": null,
   "metadata": {},
   "outputs": [],
   "source": [
    "# Grab RNA\n",
    "rna = data.copy()\n",
    "rna.layers[\"counts\"] = rna.X.copy()\n",
    "rna"
   ]
  },
  {
   "cell_type": "code",
   "execution_count": null,
   "metadata": {},
   "outputs": [],
   "source": [
    "# Remove genes expressed in less than 50 cells\n",
    "sc.pp.filter_genes(rna, min_cells=50)\n",
    "rna"
   ]
  },
  {
   "cell_type": "code",
   "execution_count": null,
   "metadata": {},
   "outputs": [],
   "source": [
    "# Remove genes with names starting with ‘LINC’ and gene names with patterns starting with two letters and six digits\n",
    "rna = rna[:, ~rna.var.index.str.startswith(\"LINC\")].copy()\n",
    "rna = rna[:, ~rna.var.index.str.match(r'^[A-Z]{2}\\d{6}')].copy()\n",
    "rna"
   ]
  },
  {
   "cell_type": "code",
   "execution_count": null,
   "metadata": {},
   "outputs": [],
   "source": [
    "# Normalize the data\n",
    "sc.pp.normalize_total(rna, target_sum=1e4)\n",
    "sc.pp.log1p(rna)"
   ]
  },
  {
   "cell_type": "code",
   "execution_count": null,
   "metadata": {},
   "outputs": [],
   "source": [
    "# Set layers\n",
    "rna.layers[\"log1p_norm\"] = rna.X.copy()\n",
    "rna.X = rna.layers[\"counts\"].copy()"
   ]
  },
  {
   "cell_type": "code",
   "execution_count": null,
   "metadata": {},
   "outputs": [],
   "source": [
    "# if mudata\n",
    "if isinstance(rna, mu.MuData):\n",
    "    # Put back into rna\n",
    "    data.mod[\"rna\"] = rna\n",
    "else:\n",
    "    # Make mudata\n",
    "    data = mu.MuData({\"rna\": rna})"
   ]
  },
  {
   "cell_type": "code",
   "execution_count": null,
   "metadata": {},
   "outputs": [],
   "source": [
    "# Save \n",
    "data.write(os.path.join(path_out, \"fa.h5mu\"))"
   ]
  },
  {
   "cell_type": "markdown",
   "metadata": {},
   "source": [
    "# Make configs\n",
    "```yaml\n",
    "run_factor_analysis_:\n",
    "    n_components = 5\n",
    "    random_state = 1234\n",
    "```"
   ]
  },
  {
   "cell_type": "code",
   "execution_count": null,
   "metadata": {},
   "outputs": [],
   "source": [
    "# Configs look like above, make a separate one for 5, 10, 15, 20, 25, 30, 35, 40, 45, 50 n_components\n",
    "'''\n",
    "run_factor_analysis_:\n",
    "    n_components = 5\n",
    "    random_state = 1234\n",
    "'''\n",
    "n_components = [5, 10, 15, 20, 25, 30, 35, 40, 45, 50]\n",
    "for n in n_components:\n",
    "    path_config = os.path.join(path_configs, f\"K{n}.gin\")\n",
    "    config = '''run_factor_analysis_:\\n\\tn_components = {n}\\n\\trandom_state = 1234'''\n",
    "    config = config.format(n=n)\n",
    "    with open(path_config, \"w\") as f:\n",
    "        f.write(config)\n",
    "    print(f\"Saved config to {path_config}\")"
   ]
  },
  {
   "cell_type": "code",
   "execution_count": null,
   "metadata": {},
   "outputs": [],
   "source": [
    "# Run the factor analysis\n",
    "n_components = [2, 5, 10, 15, 20, 25, 30, 35, 40, 45, 50]\n",
    "for n in n_components:\n",
    "    path_config = os.path.join(path_configs, f\"K{n}.gin\")\n",
    "    run_factor_analysis(\n",
    "        mdata=data,\n",
    "        prog_key=f\"factor_analysis_k{n}\",\n",
    "        data_key=\"rna\",\n",
    "        layer=\"log1p_norm\",\n",
    "        config_path=path_config,\n",
    "        inplace=True\n",
    "    )\n",
    "    break"
   ]
  },
  {
   "attachments": {},
   "cell_type": "markdown",
   "metadata": {},
   "source": [
    "# Quick eval"
   ]
  },
  {
   "cell_type": "code",
   "execution_count": null,
   "metadata": {},
   "outputs": [],
   "source": [
    "import matplotlib.pyplot as plt\n",
    "import matplotlib as mpl"
   ]
  },
  {
   "cell_type": "code",
   "execution_count": null,
   "metadata": {},
   "outputs": [],
   "source": [
    "adata = data.mod[\"factor_analysis_k10\"].copy()\n",
    "adata.obsm[\"X_umap\"] = data.mod[\"rna\"].obsm[\"X_umap\"].copy()\n",
    "adata"
   ]
  },
  {
   "cell_type": "code",
   "execution_count": null,
   "metadata": {},
   "outputs": [],
   "source": [
    "# Create a divergent colormap from grey to the current color using matplotlib\n",
    "cmap = plt.cm.get_cmap(\"Reds\")\n",
    "sc.pl.umap(adata, color=adata.var_names.tolist() + [\"condition_annotation\"], ncols=2, cmap=cmap, show=False, vmax=\"p99.5\")"
   ]
  },
  {
   "attachments": {},
   "cell_type": "markdown",
   "metadata": {},
   "source": [
    "# DONE!"
   ]
  },
  {
   "attachments": {},
   "cell_type": "markdown",
   "metadata": {},
   "source": [
    "---"
   ]
  },
  {
   "cell_type": "code",
   "execution_count": null,
   "metadata": {},
   "outputs": [],
   "source": [
    "mload = mu.read_h5mu(\"/cellar/users/aklie/data/datasets/igvf_sc-islet_10X-Multiome/analysis/condition/factor_analysis/fa_K2.h5mu\")"
   ]
  },
  {
   "cell_type": "code",
   "execution_count": null,
   "metadata": {},
   "outputs": [],
   "source": [
    "mload"
   ]
  },
  {
   "cell_type": "code",
   "execution_count": null,
   "metadata": {},
   "outputs": [],
   "source": [
    "mload[\"\"]"
   ]
  }
 ],
 "metadata": {
  "kernelspec": {
   "display_name": "Python 3.9 scverse-lite",
   "language": "python",
   "name": "scverse-lite-py39"
  },
  "language_info": {
   "codemirror_mode": {
    "name": "ipython",
    "version": 3
   },
   "file_extension": ".py",
   "mimetype": "text/x-python",
   "name": "python",
   "nbconvert_exporter": "python",
   "pygments_lexer": "ipython3",
   "version": "3.9.18"
  },
  "orig_nbformat": 4
 },
 "nbformat": 4,
 "nbformat_minor": 2
}
