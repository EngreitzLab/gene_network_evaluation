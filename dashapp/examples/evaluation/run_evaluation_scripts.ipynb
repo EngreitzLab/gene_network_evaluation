{
 "cells": [
  {
   "cell_type": "markdown",
   "metadata": {},
   "source": [
    "# Set-up"
   ]
  },
  {
   "cell_type": "code",
   "execution_count": 40,
   "metadata": {},
   "outputs": [],
   "source": [
    "import os\n",
    "import sys\n",
    "\n",
    "# Change path to wherever you have repo locally\n",
    "sys.path.append(\"/cellar/users/aklie/opt/gene_program_evaluation\")\n",
    "\n",
    "from src.evaluation import *\n",
    "from src.plotting.plot_gwas_enrichment import process_enrichment_data\n",
    "\n",
    "import mudata\n",
    "import numpy as np\n",
    "import pandas as pd"
   ]
  },
  {
   "cell_type": "code",
   "execution_count": 8,
   "metadata": {},
   "outputs": [],
   "source": [
    "path_out = \"/cellar/users/aklie/opt/gene_program_evaluation/dashapp/examples/evaluation/iPSC_EC\""
   ]
  },
  {
   "cell_type": "code",
   "execution_count": 6,
   "metadata": {},
   "outputs": [],
   "source": [
    "prog_key = \"factor_analysis_K100\""
   ]
  },
  {
   "cell_type": "code",
   "execution_count": 10,
   "metadata": {},
   "outputs": [],
   "source": [
    "# Make a dir for the output in prog_key\n",
    "os.makedirs(os.path.join(path_out, prog_key), exist_ok=True)"
   ]
  },
  {
   "cell_type": "markdown",
   "metadata": {},
   "source": [
    "# Load data"
   ]
  },
  {
   "cell_type": "code",
   "execution_count": 3,
   "metadata": {},
   "outputs": [
    {
     "name": "stderr",
     "output_type": "stream",
     "text": [
      "/cellar/users/aklie/opt/miniconda3/envs/test_celloracle/lib/python3.10/site-packages/anndata/_core/anndata.py:522: FutureWarning: The dtype argument is deprecated and will be removed in late 2024.\n",
      "  warnings.warn(\n",
      "/cellar/users/aklie/opt/miniconda3/envs/test_celloracle/lib/python3.10/site-packages/anndata/_core/anndata.py:522: FutureWarning: The dtype argument is deprecated and will be removed in late 2024.\n",
      "  warnings.warn(\n",
      "/cellar/users/aklie/opt/miniconda3/envs/test_celloracle/lib/python3.10/site-packages/anndata/_core/anndata.py:1899: UserWarning: Variable names are not unique. To make them unique, call `.var_names_make_unique`.\n",
      "  utils.warn_names_duplicates(\"var\")\n",
      "/cellar/users/aklie/opt/miniconda3/envs/test_celloracle/lib/python3.10/site-packages/mudata/_core/mudata.py:479: UserWarning: var_names are not unique. To make them unique, call `.var_names_make_unique`.\n",
      "  warnings.warn(\n"
     ]
    },
    {
     "data": {
      "text/html": [
       "<pre>MuData object with n_obs × n_vars = 92284 × 5551\n",
       "  2 modalities\n",
       "    rna:\t92284 x 5451\n",
       "      obs:\t&#x27;sample&#x27;, &#x27;species&#x27;, &#x27;gene_count&#x27;, &#x27;tscp_count&#x27;, &#x27;mread_count&#x27;, &#x27;leiden&#x27;, &#x27;n_counts&#x27;\n",
       "      obsm:\t&#x27;X_pca&#x27;, &#x27;X_umap&#x27;\n",
       "      layers:\t&#x27;norm10k&#x27;\n",
       "    factor_analysis_K100:\t92284 x 100\n",
       "      obs:\t&#x27;sample&#x27;, &#x27;species&#x27;, &#x27;gene_count&#x27;, &#x27;tscp_count&#x27;, &#x27;mread_count&#x27;, &#x27;leiden&#x27;, &#x27;n_counts&#x27;\n",
       "      uns:\t&#x27;loadings_genes&#x27;\n",
       "      varm:\t&#x27;loadings&#x27;</pre>"
      ],
      "text/plain": [
       "MuData object with n_obs × n_vars = 92284 × 5551\n",
       "  2 modalities\n",
       "    rna:\t92284 x 5451\n",
       "      obs:\t'sample', 'species', 'gene_count', 'tscp_count', 'mread_count', 'leiden', 'n_counts'\n",
       "      obsm:\t'X_pca', 'X_umap'\n",
       "      layers:\t'norm10k'\n",
       "    factor_analysis_K100:\t92284 x 100\n",
       "      obs:\t'sample', 'species', 'gene_count', 'tscp_count', 'mread_count', 'leiden', 'n_counts'\n",
       "      uns:\t'loadings_genes'\n",
       "      varm:\t'loadings'"
      ]
     },
     "execution_count": 3,
     "metadata": {},
     "output_type": "execute_result"
    }
   ],
   "source": [
    "# Load mdata\n",
    "mdata = mudata.read('/cellar/users/aklie/opt/gene_program_evaluation/dashapp/examples/inference/iPSC_EC/factor_analysis_K100.h5mu')\n",
    "mdata"
   ]
  },
  {
   "cell_type": "code",
   "execution_count": 2,
   "metadata": {},
   "outputs": [
    {
     "name": "stderr",
     "output_type": "stream",
     "text": [
      "/oak/stanford/groups/akundaje/regu/miniforge3/envs/evaluation/lib/python3.9/site-packages/anndata/_core/anndata.py:522: FutureWarning: The dtype argument is deprecated and will be removed in late 2024.\n",
      "  warnings.warn(\n",
      "/oak/stanford/groups/akundaje/regu/miniforge3/envs/evaluation/lib/python3.9/site-packages/anndata/_core/anndata.py:522: FutureWarning: The dtype argument is deprecated and will be removed in late 2024.\n",
      "  warnings.warn(\n",
      "/oak/stanford/groups/akundaje/regu/miniforge3/envs/evaluation/lib/python3.9/site-packages/anndata/_core/anndata.py:1899: UserWarning: Variable names are not unique. To make them unique, call `.var_names_make_unique`.\n",
      "  utils.warn_names_duplicates(\"var\")\n",
      "/oak/stanford/groups/akundaje/regu/miniforge3/envs/evaluation/lib/python3.9/site-packages/mudata/_core/mudata.py:479: UserWarning: var_names are not unique. To make them unique, call `.var_names_make_unique`.\n",
      "  warnings.warn(\n"
     ]
    },
    {
     "data": {
      "text/html": [
       "<div>\n",
       "<style scoped>\n",
       "    .dataframe tbody tr th:only-of-type {\n",
       "        vertical-align: middle;\n",
       "    }\n",
       "\n",
       "    .dataframe tbody tr th {\n",
       "        vertical-align: top;\n",
       "    }\n",
       "\n",
       "    .dataframe thead th {\n",
       "        text-align: right;\n",
       "    }\n",
       "</style>\n",
       "<table border=\"1\" class=\"dataframe\">\n",
       "  <thead>\n",
       "    <tr style=\"text-align: right;\">\n",
       "      <th></th>\n",
       "      <th>Target</th>\n",
       "      <th>OligoID</th>\n",
       "      <th>seq</th>\n",
       "      <th>LeftGA</th>\n",
       "      <th>RightGA</th>\n",
       "      <th>CoreOligo</th>\n",
       "      <th>pool</th>\n",
       "      <th>DesignFile</th>\n",
       "      <th>Vector (FYI, not used in script)</th>\n",
       "      <th>Type</th>\n",
       "    </tr>\n",
       "  </thead>\n",
       "  <tbody>\n",
       "    <tr>\n",
       "      <th>0</th>\n",
       "      <td>ACAA1</td>\n",
       "      <td>ACAA1_-_38178575.23-P1P2</td>\n",
       "      <td>CCAGTCCGGGAACTGACCG</td>\n",
       "      <td>TATCTTGTGGAAAGGACGAAACACCG</td>\n",
       "      <td>GTTTAAGAGCTATGCTGGAAACAGCATAG</td>\n",
       "      <td>TATCTTGTGGAAAGGACGAAACACCGCCAGTCCGGGAACTGACCGG...</td>\n",
       "      <td>230630_EC_Validation_Library</td>\n",
       "      <td>/oak/stanford/groups/engreitz/Projects/CRISPRD...</td>\n",
       "      <td>Crop-Opti</td>\n",
       "      <td>genome_wide_hit</td>\n",
       "    </tr>\n",
       "    <tr>\n",
       "      <th>1</th>\n",
       "      <td>ACAA1</td>\n",
       "      <td>ACAA1_+_38178488.23-P1P2</td>\n",
       "      <td>TAGTGCTGGGCCACCTGAG</td>\n",
       "      <td>TATCTTGTGGAAAGGACGAAACACCG</td>\n",
       "      <td>GTTTAAGAGCTATGCTGGAAACAGCATAG</td>\n",
       "      <td>TATCTTGTGGAAAGGACGAAACACCGTAGTGCTGGGCCACCTGAGG...</td>\n",
       "      <td>230630_EC_Validation_Library</td>\n",
       "      <td>/oak/stanford/groups/engreitz/Projects/CRISPRD...</td>\n",
       "      <td>Crop-Opti</td>\n",
       "      <td>genome_wide_hit</td>\n",
       "    </tr>\n",
       "    <tr>\n",
       "      <th>2</th>\n",
       "      <td>ACAA1</td>\n",
       "      <td>ACAA1_+_38178517.23-P1P2</td>\n",
       "      <td>GTTGACCTGCGCAATGCAG</td>\n",
       "      <td>TATCTTGTGGAAAGGACGAAACACCG</td>\n",
       "      <td>GTTTAAGAGCTATGCTGGAAACAGCATAG</td>\n",
       "      <td>TATCTTGTGGAAAGGACGAAACACCGGTTGACCTGCGCAATGCAGG...</td>\n",
       "      <td>230630_EC_Validation_Library</td>\n",
       "      <td>/oak/stanford/groups/engreitz/Projects/CRISPRD...</td>\n",
       "      <td>Crop-Opti</td>\n",
       "      <td>genome_wide_hit</td>\n",
       "    </tr>\n",
       "    <tr>\n",
       "      <th>3</th>\n",
       "      <td>ACAA1</td>\n",
       "      <td>ACAA1_+_38178559.23-P1P2</td>\n",
       "      <td>TAACTCCGCGGTCAGTTCC</td>\n",
       "      <td>TATCTTGTGGAAAGGACGAAACACCG</td>\n",
       "      <td>GTTTAAGAGCTATGCTGGAAACAGCATAG</td>\n",
       "      <td>TATCTTGTGGAAAGGACGAAACACCGTAACTCCGCGGTCAGTTCCG...</td>\n",
       "      <td>230630_EC_Validation_Library</td>\n",
       "      <td>/oak/stanford/groups/engreitz/Projects/CRISPRD...</td>\n",
       "      <td>Crop-Opti</td>\n",
       "      <td>genome_wide_hit</td>\n",
       "    </tr>\n",
       "    <tr>\n",
       "      <th>4</th>\n",
       "      <td>ACAA1</td>\n",
       "      <td>ACAA1_+_38178570.23-P1P2</td>\n",
       "      <td>CGGCTGTCTGTTAACTCCG</td>\n",
       "      <td>TATCTTGTGGAAAGGACGAAACACCG</td>\n",
       "      <td>GTTTAAGAGCTATGCTGGAAACAGCATAG</td>\n",
       "      <td>TATCTTGTGGAAAGGACGAAACACCGCGGCTGTCTGTTAACTCCGG...</td>\n",
       "      <td>230630_EC_Validation_Library</td>\n",
       "      <td>/oak/stanford/groups/engreitz/Projects/CRISPRD...</td>\n",
       "      <td>Crop-Opti</td>\n",
       "      <td>genome_wide_hit</td>\n",
       "    </tr>\n",
       "    <tr>\n",
       "      <th>...</th>\n",
       "      <td>...</td>\n",
       "      <td>...</td>\n",
       "      <td>...</td>\n",
       "      <td>...</td>\n",
       "      <td>...</td>\n",
       "      <td>...</td>\n",
       "      <td>...</td>\n",
       "      <td>...</td>\n",
       "      <td>...</td>\n",
       "      <td>...</td>\n",
       "    </tr>\n",
       "    <tr>\n",
       "      <th>1921</th>\n",
       "      <td>non-targeting</td>\n",
       "      <td>NON-TARGETING_00324</td>\n",
       "      <td>ACAAGTCTAGGGCCTCCCC</td>\n",
       "      <td>TATCTTGTGGAAAGGACGAAACACCG</td>\n",
       "      <td>GTTTAAGAGCTATGCTGGAAACAGCATAG</td>\n",
       "      <td>TATCTTGTGGAAAGGACGAAACACCGACAAGTCTAGGGCCTCCCCG...</td>\n",
       "      <td>230630_EC_Validation_Library</td>\n",
       "      <td>/oak/stanford/groups/engreitz/Projects/CRISPRD...</td>\n",
       "      <td>Crop-Opti</td>\n",
       "      <td>genome_wide_non_targeting</td>\n",
       "    </tr>\n",
       "    <tr>\n",
       "      <th>1922</th>\n",
       "      <td>non-targeting</td>\n",
       "      <td>NON-TARGETING_01858</td>\n",
       "      <td>GCGGCGCCATAGTAGTTAG</td>\n",
       "      <td>TATCTTGTGGAAAGGACGAAACACCG</td>\n",
       "      <td>GTTTAAGAGCTATGCTGGAAACAGCATAG</td>\n",
       "      <td>TATCTTGTGGAAAGGACGAAACACCGGCGGCGCCATAGTAGTTAGG...</td>\n",
       "      <td>230630_EC_Validation_Library</td>\n",
       "      <td>/oak/stanford/groups/engreitz/Projects/CRISPRD...</td>\n",
       "      <td>Crop-Opti</td>\n",
       "      <td>genome_wide_non_targeting</td>\n",
       "    </tr>\n",
       "    <tr>\n",
       "      <th>1923</th>\n",
       "      <td>non-targeting</td>\n",
       "      <td>NON-TARGETING_02288</td>\n",
       "      <td>TAGCACGAATCGCCGGCCG</td>\n",
       "      <td>TATCTTGTGGAAAGGACGAAACACCG</td>\n",
       "      <td>GTTTAAGAGCTATGCTGGAAACAGCATAG</td>\n",
       "      <td>TATCTTGTGGAAAGGACGAAACACCGTAGCACGAATCGCCGGCCGG...</td>\n",
       "      <td>230630_EC_Validation_Library</td>\n",
       "      <td>/oak/stanford/groups/engreitz/Projects/CRISPRD...</td>\n",
       "      <td>Crop-Opti</td>\n",
       "      <td>genome_wide_non_targeting</td>\n",
       "    </tr>\n",
       "    <tr>\n",
       "      <th>1924</th>\n",
       "      <td>non-targeting</td>\n",
       "      <td>NON-TARGETING_02543</td>\n",
       "      <td>CGGAGAGTCTTATCGACCG</td>\n",
       "      <td>TATCTTGTGGAAAGGACGAAACACCG</td>\n",
       "      <td>GTTTAAGAGCTATGCTGGAAACAGCATAG</td>\n",
       "      <td>TATCTTGTGGAAAGGACGAAACACCGCGGAGAGTCTTATCGACCGG...</td>\n",
       "      <td>230630_EC_Validation_Library</td>\n",
       "      <td>/oak/stanford/groups/engreitz/Projects/CRISPRD...</td>\n",
       "      <td>Crop-Opti</td>\n",
       "      <td>genome_wide_non_targeting</td>\n",
       "    </tr>\n",
       "    <tr>\n",
       "      <th>1925</th>\n",
       "      <td>non-targeting</td>\n",
       "      <td>NON-TARGETING_00355</td>\n",
       "      <td>GGCAGACTGATGAAGACGT</td>\n",
       "      <td>TATCTTGTGGAAAGGACGAAACACCG</td>\n",
       "      <td>GTTTAAGAGCTATGCTGGAAACAGCATAG</td>\n",
       "      <td>TATCTTGTGGAAAGGACGAAACACCGGGCAGACTGATGAAGACGTG...</td>\n",
       "      <td>230630_EC_Validation_Library</td>\n",
       "      <td>/oak/stanford/groups/engreitz/Projects/CRISPRD...</td>\n",
       "      <td>Crop-Opti</td>\n",
       "      <td>genome_wide_non_targeting</td>\n",
       "    </tr>\n",
       "  </tbody>\n",
       "</table>\n",
       "<p>1926 rows × 10 columns</p>\n",
       "</div>"
      ],
      "text/plain": [
       "             Target                   OligoID                  seq  \\\n",
       "0             ACAA1  ACAA1_-_38178575.23-P1P2  CCAGTCCGGGAACTGACCG   \n",
       "1             ACAA1  ACAA1_+_38178488.23-P1P2  TAGTGCTGGGCCACCTGAG   \n",
       "2             ACAA1  ACAA1_+_38178517.23-P1P2  GTTGACCTGCGCAATGCAG   \n",
       "3             ACAA1  ACAA1_+_38178559.23-P1P2  TAACTCCGCGGTCAGTTCC   \n",
       "4             ACAA1  ACAA1_+_38178570.23-P1P2  CGGCTGTCTGTTAACTCCG   \n",
       "...             ...                       ...                  ...   \n",
       "1921  non-targeting       NON-TARGETING_00324  ACAAGTCTAGGGCCTCCCC   \n",
       "1922  non-targeting       NON-TARGETING_01858  GCGGCGCCATAGTAGTTAG   \n",
       "1923  non-targeting       NON-TARGETING_02288  TAGCACGAATCGCCGGCCG   \n",
       "1924  non-targeting       NON-TARGETING_02543  CGGAGAGTCTTATCGACCG   \n",
       "1925  non-targeting       NON-TARGETING_00355  GGCAGACTGATGAAGACGT   \n",
       "\n",
       "                          LeftGA                        RightGA  \\\n",
       "0     TATCTTGTGGAAAGGACGAAACACCG  GTTTAAGAGCTATGCTGGAAACAGCATAG   \n",
       "1     TATCTTGTGGAAAGGACGAAACACCG  GTTTAAGAGCTATGCTGGAAACAGCATAG   \n",
       "2     TATCTTGTGGAAAGGACGAAACACCG  GTTTAAGAGCTATGCTGGAAACAGCATAG   \n",
       "3     TATCTTGTGGAAAGGACGAAACACCG  GTTTAAGAGCTATGCTGGAAACAGCATAG   \n",
       "4     TATCTTGTGGAAAGGACGAAACACCG  GTTTAAGAGCTATGCTGGAAACAGCATAG   \n",
       "...                          ...                            ...   \n",
       "1921  TATCTTGTGGAAAGGACGAAACACCG  GTTTAAGAGCTATGCTGGAAACAGCATAG   \n",
       "1922  TATCTTGTGGAAAGGACGAAACACCG  GTTTAAGAGCTATGCTGGAAACAGCATAG   \n",
       "1923  TATCTTGTGGAAAGGACGAAACACCG  GTTTAAGAGCTATGCTGGAAACAGCATAG   \n",
       "1924  TATCTTGTGGAAAGGACGAAACACCG  GTTTAAGAGCTATGCTGGAAACAGCATAG   \n",
       "1925  TATCTTGTGGAAAGGACGAAACACCG  GTTTAAGAGCTATGCTGGAAACAGCATAG   \n",
       "\n",
       "                                              CoreOligo  \\\n",
       "0     TATCTTGTGGAAAGGACGAAACACCGCCAGTCCGGGAACTGACCGG...   \n",
       "1     TATCTTGTGGAAAGGACGAAACACCGTAGTGCTGGGCCACCTGAGG...   \n",
       "2     TATCTTGTGGAAAGGACGAAACACCGGTTGACCTGCGCAATGCAGG...   \n",
       "3     TATCTTGTGGAAAGGACGAAACACCGTAACTCCGCGGTCAGTTCCG...   \n",
       "4     TATCTTGTGGAAAGGACGAAACACCGCGGCTGTCTGTTAACTCCGG...   \n",
       "...                                                 ...   \n",
       "1921  TATCTTGTGGAAAGGACGAAACACCGACAAGTCTAGGGCCTCCCCG...   \n",
       "1922  TATCTTGTGGAAAGGACGAAACACCGGCGGCGCCATAGTAGTTAGG...   \n",
       "1923  TATCTTGTGGAAAGGACGAAACACCGTAGCACGAATCGCCGGCCGG...   \n",
       "1924  TATCTTGTGGAAAGGACGAAACACCGCGGAGAGTCTTATCGACCGG...   \n",
       "1925  TATCTTGTGGAAAGGACGAAACACCGGGCAGACTGATGAAGACGTG...   \n",
       "\n",
       "                              pool  \\\n",
       "0     230630_EC_Validation_Library   \n",
       "1     230630_EC_Validation_Library   \n",
       "2     230630_EC_Validation_Library   \n",
       "3     230630_EC_Validation_Library   \n",
       "4     230630_EC_Validation_Library   \n",
       "...                            ...   \n",
       "1921  230630_EC_Validation_Library   \n",
       "1922  230630_EC_Validation_Library   \n",
       "1923  230630_EC_Validation_Library   \n",
       "1924  230630_EC_Validation_Library   \n",
       "1925  230630_EC_Validation_Library   \n",
       "\n",
       "                                             DesignFile  \\\n",
       "0     /oak/stanford/groups/engreitz/Projects/CRISPRD...   \n",
       "1     /oak/stanford/groups/engreitz/Projects/CRISPRD...   \n",
       "2     /oak/stanford/groups/engreitz/Projects/CRISPRD...   \n",
       "3     /oak/stanford/groups/engreitz/Projects/CRISPRD...   \n",
       "4     /oak/stanford/groups/engreitz/Projects/CRISPRD...   \n",
       "...                                                 ...   \n",
       "1921  /oak/stanford/groups/engreitz/Projects/CRISPRD...   \n",
       "1922  /oak/stanford/groups/engreitz/Projects/CRISPRD...   \n",
       "1923  /oak/stanford/groups/engreitz/Projects/CRISPRD...   \n",
       "1924  /oak/stanford/groups/engreitz/Projects/CRISPRD...   \n",
       "1925  /oak/stanford/groups/engreitz/Projects/CRISPRD...   \n",
       "\n",
       "     Vector (FYI, not used in script)                       Type  \n",
       "0                           Crop-Opti            genome_wide_hit  \n",
       "1                           Crop-Opti            genome_wide_hit  \n",
       "2                           Crop-Opti            genome_wide_hit  \n",
       "3                           Crop-Opti            genome_wide_hit  \n",
       "4                           Crop-Opti            genome_wide_hit  \n",
       "...                               ...                        ...  \n",
       "1921                        Crop-Opti  genome_wide_non_targeting  \n",
       "1922                        Crop-Opti  genome_wide_non_targeting  \n",
       "1923                        Crop-Opti  genome_wide_non_targeting  \n",
       "1924                        Crop-Opti  genome_wide_non_targeting  \n",
       "1925                        Crop-Opti  genome_wide_non_targeting  \n",
       "\n",
       "[1926 rows x 10 columns]"
      ]
     },
     "execution_count": 2,
     "metadata": {},
     "output_type": "execute_result"
    }
   ],
   "source": [
    "# Load guide target\n",
    "guide_target = pd.read_csv(, sep='\\t')\n",
    "guide_target"
   ]
  },
  {
   "cell_type": "markdown",
   "metadata": {},
   "source": [
    "# Categorical association"
   ]
  },
  {
   "cell_type": "code",
   "execution_count": 7,
   "metadata": {},
   "outputs": [
    {
     "name": "stderr",
     "output_type": "stream",
     "text": [
      "INFO:root:Performing tests at single-cell level. Significance will likely be inflated\n"
     ]
    },
    {
     "data": {
      "application/vnd.jupyter.widget-view+json": {
       "model_id": "6c76cf2e026a4d96b82273aa38a6f7b1",
       "version_major": 2,
       "version_minor": 0
      },
      "text/plain": [
       "Testing sample association:   0%|          | 0/100 [00:00<?, ?programs/s]"
      ]
     },
     "metadata": {},
     "output_type": "display_data"
    },
    {
     "name": "stderr",
     "output_type": "stream",
     "text": [
      "/cellar/users/aklie/opt/miniconda3/envs/test_celloracle/lib/python3.10/site-packages/anndata/_core/anndata.py:1179: SettingWithCopyWarning: \n",
      "A value is trying to be set on a copy of a slice from a DataFrame.\n",
      "Try using .loc[row_indexer,col_indexer] = value instead\n",
      "\n",
      "See the caveats in the documentation: https://pandas.pydata.org/pandas-docs/stable/user_guide/indexing.html#returning-a-view-versus-a-copy\n",
      "  df_sub[k] = df_sub[k].cat.remove_unused_categories()\n"
     ]
    },
    {
     "data": {
      "application/vnd.jupyter.widget-view+json": {
       "model_id": "17ed7f4e42b54056a82a6881ebd4070d",
       "version_major": 2,
       "version_minor": 0
      },
      "text/plain": [
       "Identifying differential sample:   0%|          | 0/100 [00:00<?, ?programs/s]"
      ]
     },
     "metadata": {},
     "output_type": "display_data"
    }
   ],
   "source": [
    "# Run categorical assocation\n",
    "results_df, posthoc_df = compute_categorical_association(\n",
    "    mdata, \n",
    "    prog_key=prog_key,\n",
    "    categorical_key='sample', \n",
    "    pseudobulk_key=None, \n",
    "    test='dunn', \n",
    "    n_jobs=-1, \n",
    "    inplace=False\n",
    ")"
   ]
  },
  {
   "cell_type": "code",
   "execution_count": 11,
   "metadata": {},
   "outputs": [],
   "source": [
    "results_df.to_csv(os.path.join(path_out, prog_key, 'categorical_association_results.txt'), sep='\\t', index=False) # This was made wide form to insert into .var of the program anndata.\n",
    "posthoc_df.to_csv(os.path.join(path_out, prog_key, 'categorical_association_posthoc.txt'), sep='\\t', index=False)"
   ]
  },
  {
   "cell_type": "markdown",
   "metadata": {},
   "source": [
    "# Perturbation assocation"
   ]
  },
  {
   "cell_type": "code",
   "execution_count": 51,
   "metadata": {},
   "outputs": [
    {
     "data": {
      "text/plain": [
       "bc_wells\n",
       "01_01_06__s1           D0\n",
       "01_01_17__s1           D0\n",
       "01_01_29__s1           D0\n",
       "01_01_34__s1           D0\n",
       "01_01_55__s1           D0\n",
       "                  ...    \n",
       "48_95_94__s3    sample_D3\n",
       "48_96_21__s3    sample_D3\n",
       "48_96_35__s3    sample_D3\n",
       "48_96_42__s3    sample_D3\n",
       "48_96_81__s3    sample_D3\n",
       "Name: sample, Length: 92284, dtype: category\n",
       "Categories (4, object): ['D0', 'sample_D1', 'sample_D2', 'sample_D3']"
      ]
     },
     "execution_count": 51,
     "metadata": {},
     "output_type": "execute_result"
    }
   ],
   "source": [
    "mdata['rna'].obs['sample']"
   ]
  },
  {
   "cell_type": "code",
   "execution_count": null,
   "metadata": {},
   "outputs": [],
   "source": []
  },
  {
   "cell_type": "code",
   "execution_count": null,
   "metadata": {},
   "outputs": [],
   "source": [
    "# Run perturbation assocation\n",
    "for samp in mdata['rna'].obs['sample'].unique():\n",
    "    mdata_ = mdata[mdata['rna'].obs['sample'] == samp]\n",
    "    test_stats_df = compute_perturbation_association(\n",
    "        mdata_, \n",
    "        prog_key='cNMF', \n",
    "        collapse_targets=True,\n",
    "        pseudobulk=False,\n",
    "        reference_targets=('non-targeting'),\n",
    "        n_jobs=-1, \n",
    "        inplace=False\n",
    "    )\n",
    "\n",
    "    test_stats_df.to_csv('{}/{}_perturbation_association_results_{}.txt'.format(k, k, samp), sep='\\t', index=False)"
   ]
  },
  {
   "cell_type": "code",
   "execution_count": 4,
   "metadata": {},
   "outputs": [
    {
     "data": {
      "application/vnd.jupyter.widget-view+json": {
       "model_id": "bd3dee0254fd48b5975795b3e6e42e3f",
       "version_major": 2,
       "version_minor": 0
      },
      "text/plain": [
       "Testing perturbation association:   0%|          | 0/1866 [00:00<?, ?guides/s]"
      ]
     },
     "metadata": {},
     "output_type": "display_data"
    }
   ],
   "source": [
    "# Run perturbation assocation\n",
    "test_stats_df = compute_perturbation_association(\n",
    "    mdata, \n",
    "    prog_key=prog_key, \n",
    "    pseudobulk=False,\n",
    "    reference_targets=('non-targeting'),\n",
    "    n_jobs=-1, \n",
    "    inplace=False\n",
    ")"
   ]
  },
  {
   "cell_type": "code",
   "execution_count": null,
   "metadata": {},
   "outputs": [],
   "source": [
    "test_stats_df.to_csv('perturbation_association_results.txt', sep='\\t', index=False)"
   ]
  },
  {
   "cell_type": "markdown",
   "metadata": {},
   "source": [
    "# Geneset enrichment"
   ]
  },
  {
   "cell_type": "code",
   "execution_count": 12,
   "metadata": {},
   "outputs": [
    {
     "name": "stderr",
     "output_type": "stream",
     "text": [
      "INFO:root:Downloading and generating Enrichr library gene sets...\n",
      "INFO:root:0002 gene_sets have been filtered out when max_size=2000 and min_size=0\n"
     ]
    },
    {
     "data": {
      "application/vnd.jupyter.widget-view+json": {
       "model_id": "2cd5d5034fb54e19833a6770781791ac",
       "version_major": 2,
       "version_minor": 0
      },
      "text/plain": [
       "Running GSEA:   0%|          | 0/100 [00:00<?, ?programs/s]"
      ]
     },
     "metadata": {},
     "output_type": "display_data"
    }
   ],
   "source": [
    "# Gene-set enrichment\n",
    "pre_res = compute_geneset_enrichment(\n",
    "    mdata, \n",
    "    prog_key=prog_key, \n",
    "    data_key='rna', \n",
    "    prog_nam=None,\n",
    "    organism='human', \n",
    "    library='Reactome_2022', \n",
    "    method=\"gsea\",\n",
    "    database='enrichr', \n",
    "    n_jobs=-1, \n",
    "    inplace=False, \n",
    "    user_geneset=None\n",
    ")"
   ]
  },
  {
   "cell_type": "code",
   "execution_count": 13,
   "metadata": {},
   "outputs": [],
   "source": [
    "# Save results\n",
    "pre_res.to_csv(os.path.join(path_out, prog_key, 'geneset_enrichment.txt'), sep='\\t', index=False)"
   ]
  },
  {
   "cell_type": "markdown",
   "metadata": {},
   "source": [
    "# Motif enrichment"
   ]
  },
  {
   "cell_type": "code",
   "execution_count": 15,
   "metadata": {},
   "outputs": [
    {
     "name": "stderr",
     "output_type": "stream",
     "text": [
      "/cellar/users/aklie/opt/miniconda3/envs/test_celloracle/lib/python3.10/site-packages/anndata/_core/anndata.py:1899: UserWarning: Variable names are not unique. To make them unique, call `.var_names_make_unique`.\n",
      "  utils.warn_names_duplicates(\"var\")\n",
      "/cellar/users/aklie/opt/miniconda3/envs/test_celloracle/lib/python3.10/site-packages/mudata/_core/mudata.py:479: UserWarning: var_names are not unique. To make them unique, call `.var_names_make_unique`.\n",
      "  warnings.warn(\n"
     ]
    },
    {
     "data": {
      "application/vnd.jupyter.widget-view+json": {
       "model_id": "a815cf51630e425cbd428b3ec38f7f6e",
       "version_major": 2,
       "version_minor": 0
      },
      "text/plain": [
       "Matching motifs to sequences:   0%|          | 0/8 [00:00<?, ?motifs/s]"
      ]
     },
     "metadata": {},
     "output_type": "display_data"
    },
    {
     "data": {
      "application/vnd.jupyter.widget-view+json": {
       "model_id": "54deda77189046a0bc13b102790cd404",
       "version_major": 2,
       "version_minor": 0
      },
      "text/plain": [
       "Motif scanning:   0%|          | 0/3 [00:00<?, ?genes/s]"
      ]
     },
     "metadata": {},
     "output_type": "display_data"
    },
    {
     "data": {
      "application/vnd.jupyter.widget-view+json": {
       "model_id": "94ca9a13ac4d4b4ba5a698ca081afd53",
       "version_major": 2,
       "version_minor": 0
      },
      "text/plain": [
       "Motif scanning:   0%|          | 0/3 [00:00<?, ?genes/s]"
      ]
     },
     "metadata": {},
     "output_type": "display_data"
    },
    {
     "data": {
      "application/vnd.jupyter.widget-view+json": {
       "model_id": "5445062a46e84bfbb1fb1d3febf2c15d",
       "version_major": 2,
       "version_minor": 0
      },
      "text/plain": [
       "Motif scanning:   0%|          | 0/3 [00:00<?, ?genes/s]"
      ]
     },
     "metadata": {},
     "output_type": "display_data"
    },
    {
     "ename": "TypeError",
     "evalue": "expected str, bytes or os.PathLike object, not NoneType",
     "output_type": "error",
     "traceback": [
      "\u001b[0;31m---------------------------------------------------------------------------\u001b[0m",
      "\u001b[0;31m_RemoteTraceback\u001b[0m                          Traceback (most recent call last)",
      "\u001b[0;31m_RemoteTraceback\u001b[0m: \n\"\"\"\nTraceback (most recent call last):\n  File \"/cellar/users/aklie/opt/miniconda3/envs/test_celloracle/lib/python3.10/site-packages/joblib/_parallel_backends.py\", line 273, in _wrap_func_call\n    return func()\n  File \"/cellar/users/aklie/opt/miniconda3/envs/test_celloracle/lib/python3.10/site-packages/joblib/parallel.py\", line 589, in __call__\n    return [func(*args, **kwargs)\n  File \"/cellar/users/aklie/opt/miniconda3/envs/test_celloracle/lib/python3.10/site-packages/joblib/parallel.py\", line 589, in <listcomp>\n    return [func(*args, **kwargs)\n  File \"/cellar/users/aklie/opt/gene_program_evaluation/src/evaluation/enrichment_motif.py\", line 142, in perform_motif_match\n    path_exists = os.path.exists(os.path.join(output_loc, '_'.join((gene_name, motif.accession.decode(),'.txt'))))\n  File \"/cellar/users/aklie/opt/miniconda3/envs/test_celloracle/lib/python3.10/posixpath.py\", line 76, in join\n    a = os.fspath(a)\nTypeError: expected str, bytes or os.PathLike object, not NoneType\n\"\"\"",
      "\nThe above exception was the direct cause of the following exception:\n",
      "\u001b[0;31mTypeError\u001b[0m                                 Traceback (most recent call last)",
      "Cell \u001b[0;32mIn[15], line 3\u001b[0m\n\u001b[1;32m      1\u001b[0m \u001b[38;5;66;03m# Motif enrichment\u001b[39;00m\n\u001b[1;32m      2\u001b[0m \u001b[38;5;66;03m# Change relevant paths\u001b[39;00m\n\u001b[0;32m----> 3\u001b[0m motif_match_df, motif_count_df, motif_enrichment_df \u001b[38;5;241m=\u001b[39m \u001b[43mcompute_motif_enrichment\u001b[49m\u001b[43m(\u001b[49m\n\u001b[1;32m      4\u001b[0m \u001b[43m    \u001b[49m\u001b[43mmdata\u001b[49m\u001b[43m,\u001b[49m\u001b[43m \u001b[49m\n\u001b[1;32m      5\u001b[0m \u001b[43m    \u001b[49m\u001b[43mprog_key\u001b[49m\u001b[38;5;241;43m=\u001b[39;49m\u001b[43mprog_key\u001b[49m\u001b[43m,\u001b[49m\u001b[43m \u001b[49m\n\u001b[1;32m      6\u001b[0m \u001b[43m    \u001b[49m\u001b[43mdata_key\u001b[49m\u001b[38;5;241;43m=\u001b[39;49m\u001b[38;5;124;43m'\u001b[39;49m\u001b[38;5;124;43mrna\u001b[39;49m\u001b[38;5;124;43m'\u001b[39;49m\u001b[43m,\u001b[49m\u001b[43m \u001b[49m\n\u001b[1;32m      7\u001b[0m \u001b[43m    \u001b[49m\u001b[43mmotif_file\u001b[49m\u001b[38;5;241;43m=\u001b[39;49m\u001b[38;5;124;43m'\u001b[39;49m\u001b[38;5;124;43m/cellar/users/aklie/opt/gene_program_evaluation/src/tests/test_data/motifs.meme\u001b[39;49m\u001b[38;5;124;43m'\u001b[39;49m\u001b[43m,\u001b[49m\u001b[43m \u001b[49m\n\u001b[1;32m      8\u001b[0m \u001b[43m    \u001b[49m\u001b[43mseq_file\u001b[49m\u001b[38;5;241;43m=\u001b[39;49m\u001b[38;5;124;43m'\u001b[39;49m\u001b[38;5;124;43m/cellar/users/aklie/data/ref/genomes/hg38/hg38.fa\u001b[39;49m\u001b[38;5;124;43m'\u001b[39;49m\u001b[43m,\u001b[49m\n\u001b[1;32m      9\u001b[0m \u001b[43m    \u001b[49m\u001b[43mcoords_file\u001b[49m\u001b[38;5;241;43m=\u001b[39;49m\u001b[38;5;124;43m'\u001b[39;49m\u001b[38;5;124;43m/cellar/users/aklie/opt/gene_program_evaluation/src/tests/test_data/p2g_links_minimal.txt\u001b[39;49m\u001b[38;5;124;43m'\u001b[39;49m\u001b[43m,\u001b[49m\u001b[43m \u001b[49m\n\u001b[1;32m     10\u001b[0m \u001b[43m    \u001b[49m\u001b[43moutput_loc\u001b[49m\u001b[38;5;241;43m=\u001b[39;49m\u001b[38;5;28;43;01mNone\u001b[39;49;00m\u001b[43m,\u001b[49m\u001b[43m \u001b[49m\n\u001b[1;32m     11\u001b[0m \u001b[43m    \u001b[49m\u001b[43msig\u001b[49m\u001b[38;5;241;43m=\u001b[39;49m\u001b[38;5;241;43m0.05\u001b[39;49m\u001b[43m,\u001b[49m\u001b[43m \u001b[49m\n\u001b[1;32m     12\u001b[0m \u001b[43m    \u001b[49m\u001b[43mnum_genes\u001b[49m\u001b[38;5;241;43m=\u001b[39;49m\u001b[38;5;28;43;01mNone\u001b[39;49;00m\u001b[43m,\u001b[49m\u001b[43m \u001b[49m\n\u001b[1;32m     13\u001b[0m \u001b[43m    \u001b[49m\u001b[43mcorrelation\u001b[49m\u001b[38;5;241;43m=\u001b[39;49m\u001b[38;5;124;43m'\u001b[39;49m\u001b[38;5;124;43mpearsonr\u001b[39;49m\u001b[38;5;124;43m'\u001b[39;49m\u001b[43m,\u001b[49m\u001b[43m \u001b[49m\n\u001b[1;32m     14\u001b[0m \u001b[43m    \u001b[49m\u001b[43mn_jobs\u001b[49m\u001b[38;5;241;43m=\u001b[39;49m\u001b[38;5;241;43m-\u001b[39;49m\u001b[38;5;241;43m1\u001b[39;49m\u001b[43m,\u001b[49m\u001b[43m \u001b[49m\n\u001b[1;32m     15\u001b[0m \u001b[43m    \u001b[49m\u001b[43minplace\u001b[49m\u001b[38;5;241;43m=\u001b[39;49m\u001b[38;5;28;43;01mFalse\u001b[39;49;00m\n\u001b[1;32m     16\u001b[0m \u001b[43m)\u001b[49m\n",
      "File \u001b[0;32m~/opt/gene_program_evaluation/src/evaluation/enrichment_motif.py:395\u001b[0m, in \u001b[0;36mcompute_motif_enrichment\u001b[0;34m(mdata, prog_key, data_key, motif_file, seq_file, coords_file, output_loc, sig, num_genes, correlation, use_previous, n_jobs, inplace, **kwargs)\u001b[0m\n\u001b[1;32m    393\u001b[0m motif_match_dict \u001b[38;5;241m=\u001b[39m {}\n\u001b[1;32m    394\u001b[0m gene_seq_num \u001b[38;5;241m=\u001b[39m {}\n\u001b[0;32m--> 395\u001b[0m \u001b[43mParallel\u001b[49m\u001b[43m(\u001b[49m\u001b[43mn_jobs\u001b[49m\u001b[38;5;241;43m=\u001b[39;49m\u001b[43mn_jobs\u001b[49m\u001b[43m,\u001b[49m\u001b[43m \u001b[49m\n\u001b[1;32m    396\u001b[0m \u001b[43m         \u001b[49m\u001b[43mbackend\u001b[49m\u001b[38;5;241;43m=\u001b[39;49m\u001b[38;5;124;43m'\u001b[39;49m\u001b[38;5;124;43mthreading\u001b[39;49m\u001b[38;5;124;43m'\u001b[39;49m\u001b[43m)\u001b[49m\u001b[43m(\u001b[49m\u001b[43mdelayed\u001b[49m\u001b[43m(\u001b[49m\u001b[43mperform_motif_match\u001b[49m\u001b[43m)\u001b[49m\u001b[43m(\u001b[49m\u001b[43msequences_record\u001b[49m\u001b[43m,\u001b[49m\u001b[43m \u001b[49m\n\u001b[1;32m    397\u001b[0m \u001b[43m                                                           \u001b[49m\u001b[43mmotifs_record\u001b[49m\u001b[43m,\u001b[49m\u001b[43m \u001b[49m\n\u001b[1;32m    398\u001b[0m \u001b[43m                                                           \u001b[49m\u001b[43mcoords\u001b[49m\u001b[43m,\u001b[49m\n\u001b[1;32m    399\u001b[0m \u001b[43m                                                           \u001b[49m\u001b[43mmotif_match_dict\u001b[49m\u001b[43m,\u001b[49m\n\u001b[1;32m    400\u001b[0m \u001b[43m                                                           \u001b[49m\u001b[43mgene_seq_num\u001b[49m\u001b[43m,\u001b[49m\n\u001b[1;32m    401\u001b[0m \u001b[43m                                                           \u001b[49m\u001b[43moutput_loc\u001b[49m\u001b[43m,\u001b[49m\n\u001b[1;32m    402\u001b[0m \u001b[43m                                                           \u001b[49m\u001b[43mmotif_idx\u001b[49m\u001b[43m,\u001b[49m\u001b[43m \u001b[49m\n\u001b[1;32m    403\u001b[0m \u001b[43m                                                           \u001b[49m\u001b[43mgene_name\u001b[49m\u001b[43m,\u001b[49m\n\u001b[1;32m    404\u001b[0m \u001b[43m                                                           \u001b[49m\u001b[43muse_previous\u001b[49m\u001b[38;5;241;43m=\u001b[39;49m\u001b[43muse_previous\u001b[49m\u001b[43m)\u001b[49m\u001b[43m \u001b[49m\u001b[43m\\\u001b[49m\n\u001b[1;32m    405\u001b[0m \u001b[43m                                                           \u001b[49m\u001b[38;5;28;43;01mfor\u001b[39;49;00m\u001b[43m \u001b[49m\u001b[43mmotif_idx\u001b[49m\u001b[43m \u001b[49m\u001b[38;5;129;43;01min\u001b[39;49;00m\u001b[43m \u001b[49m\u001b[43mtqdm\u001b[49m\u001b[43m(\u001b[49m\u001b[38;5;28;43mrange\u001b[39;49m\u001b[43m(\u001b[49m\u001b[38;5;28;43mlen\u001b[39;49m\u001b[43m(\u001b[49m\u001b[43mmotifs_record\u001b[49m\u001b[43m)\u001b[49m\u001b[43m)\u001b[49m\u001b[43m,\u001b[49m\n\u001b[1;32m    406\u001b[0m \u001b[43m                                                                                 \u001b[49m\u001b[43mdesc\u001b[49m\u001b[38;5;241;43m=\u001b[39;49m\u001b[38;5;124;43m'\u001b[39;49m\u001b[38;5;124;43mMatching motifs to sequences\u001b[39;49m\u001b[38;5;124;43m'\u001b[39;49m\u001b[43m,\u001b[49m\n\u001b[1;32m    407\u001b[0m \u001b[43m                                                                                 \u001b[49m\u001b[43munit\u001b[49m\u001b[38;5;241;43m=\u001b[39;49m\u001b[38;5;124;43m'\u001b[39;49m\u001b[38;5;124;43mmotifs\u001b[39;49m\u001b[38;5;124;43m'\u001b[39;49m\u001b[43m)\u001b[49m\u001b[43m \u001b[49m\u001b[43m\\\u001b[49m\n\u001b[1;32m    408\u001b[0m \u001b[43m                                                           \u001b[49m\u001b[38;5;28;43;01mfor\u001b[39;49;00m\u001b[43m \u001b[49m\u001b[43mgene_name\u001b[49m\u001b[43m \u001b[49m\u001b[38;5;129;43;01min\u001b[39;49;00m\u001b[43m \u001b[49m\u001b[43mtqdm\u001b[49m\u001b[43m(\u001b[49m\u001b[43mmatching_gene_names\u001b[49m\u001b[43m,\u001b[49m\n\u001b[1;32m    409\u001b[0m \u001b[43m                                                                                 \u001b[49m\u001b[43mdesc\u001b[49m\u001b[38;5;241;43m=\u001b[39;49m\u001b[38;5;124;43m'\u001b[39;49m\u001b[38;5;124;43mMotif scanning\u001b[39;49m\u001b[38;5;124;43m'\u001b[39;49m\u001b[43m,\u001b[49m\n\u001b[1;32m    410\u001b[0m \u001b[43m                                                                                 \u001b[49m\u001b[43munit\u001b[49m\u001b[38;5;241;43m=\u001b[39;49m\u001b[38;5;124;43m'\u001b[39;49m\u001b[38;5;124;43mgenes\u001b[39;49m\u001b[38;5;124;43m'\u001b[39;49m\u001b[43m)\u001b[49m\u001b[43m)\u001b[49m\n\u001b[1;32m    412\u001b[0m \u001b[38;5;66;03m# Concatenate motif matches \u001b[39;00m\n\u001b[1;32m    413\u001b[0m motif_match_dfs \u001b[38;5;241m=\u001b[39m [] \n",
      "File \u001b[0;32m~/opt/miniconda3/envs/test_celloracle/lib/python3.10/site-packages/joblib/parallel.py:1952\u001b[0m, in \u001b[0;36mParallel.__call__\u001b[0;34m(self, iterable)\u001b[0m\n\u001b[1;32m   1946\u001b[0m \u001b[38;5;66;03m# The first item from the output is blank, but it makes the interpreter\u001b[39;00m\n\u001b[1;32m   1947\u001b[0m \u001b[38;5;66;03m# progress until it enters the Try/Except block of the generator and\u001b[39;00m\n\u001b[1;32m   1948\u001b[0m \u001b[38;5;66;03m# reach the first `yield` statement. This starts the aynchronous\u001b[39;00m\n\u001b[1;32m   1949\u001b[0m \u001b[38;5;66;03m# dispatch of the tasks to the workers.\u001b[39;00m\n\u001b[1;32m   1950\u001b[0m \u001b[38;5;28mnext\u001b[39m(output)\n\u001b[0;32m-> 1952\u001b[0m \u001b[38;5;28;01mreturn\u001b[39;00m output \u001b[38;5;28;01mif\u001b[39;00m \u001b[38;5;28mself\u001b[39m\u001b[38;5;241m.\u001b[39mreturn_generator \u001b[38;5;28;01melse\u001b[39;00m \u001b[38;5;28;43mlist\u001b[39;49m\u001b[43m(\u001b[49m\u001b[43moutput\u001b[49m\u001b[43m)\u001b[49m\n",
      "File \u001b[0;32m~/opt/miniconda3/envs/test_celloracle/lib/python3.10/site-packages/joblib/parallel.py:1595\u001b[0m, in \u001b[0;36mParallel._get_outputs\u001b[0;34m(self, iterator, pre_dispatch)\u001b[0m\n\u001b[1;32m   1592\u001b[0m     \u001b[38;5;28;01myield\u001b[39;00m\n\u001b[1;32m   1594\u001b[0m     \u001b[38;5;28;01mwith\u001b[39;00m \u001b[38;5;28mself\u001b[39m\u001b[38;5;241m.\u001b[39m_backend\u001b[38;5;241m.\u001b[39mretrieval_context():\n\u001b[0;32m-> 1595\u001b[0m         \u001b[38;5;28;01myield from\u001b[39;00m \u001b[38;5;28mself\u001b[39m\u001b[38;5;241m.\u001b[39m_retrieve()\n\u001b[1;32m   1597\u001b[0m \u001b[38;5;28;01mexcept\u001b[39;00m \u001b[38;5;167;01mGeneratorExit\u001b[39;00m:\n\u001b[1;32m   1598\u001b[0m     \u001b[38;5;66;03m# The generator has been garbage collected before being fully\u001b[39;00m\n\u001b[1;32m   1599\u001b[0m     \u001b[38;5;66;03m# consumed. This aborts the remaining tasks if possible and warn\u001b[39;00m\n\u001b[1;32m   1600\u001b[0m     \u001b[38;5;66;03m# the user if necessary.\u001b[39;00m\n\u001b[1;32m   1601\u001b[0m     \u001b[38;5;28mself\u001b[39m\u001b[38;5;241m.\u001b[39m_exception \u001b[38;5;241m=\u001b[39m \u001b[38;5;28;01mTrue\u001b[39;00m\n",
      "File \u001b[0;32m~/opt/miniconda3/envs/test_celloracle/lib/python3.10/site-packages/joblib/parallel.py:1699\u001b[0m, in \u001b[0;36mParallel._retrieve\u001b[0;34m(self)\u001b[0m\n\u001b[1;32m   1692\u001b[0m \u001b[38;5;28;01mwhile\u001b[39;00m \u001b[38;5;28mself\u001b[39m\u001b[38;5;241m.\u001b[39m_wait_retrieval():\n\u001b[1;32m   1693\u001b[0m \n\u001b[1;32m   1694\u001b[0m     \u001b[38;5;66;03m# If the callback thread of a worker has signaled that its task\u001b[39;00m\n\u001b[1;32m   1695\u001b[0m     \u001b[38;5;66;03m# triggered an exception, or if the retrieval loop has raised an\u001b[39;00m\n\u001b[1;32m   1696\u001b[0m     \u001b[38;5;66;03m# exception (e.g. `GeneratorExit`), exit the loop and surface the\u001b[39;00m\n\u001b[1;32m   1697\u001b[0m     \u001b[38;5;66;03m# worker traceback.\u001b[39;00m\n\u001b[1;32m   1698\u001b[0m     \u001b[38;5;28;01mif\u001b[39;00m \u001b[38;5;28mself\u001b[39m\u001b[38;5;241m.\u001b[39m_aborting:\n\u001b[0;32m-> 1699\u001b[0m         \u001b[38;5;28;43mself\u001b[39;49m\u001b[38;5;241;43m.\u001b[39;49m\u001b[43m_raise_error_fast\u001b[49m\u001b[43m(\u001b[49m\u001b[43m)\u001b[49m\n\u001b[1;32m   1700\u001b[0m         \u001b[38;5;28;01mbreak\u001b[39;00m\n\u001b[1;32m   1702\u001b[0m     \u001b[38;5;66;03m# If the next job is not ready for retrieval yet, we just wait for\u001b[39;00m\n\u001b[1;32m   1703\u001b[0m     \u001b[38;5;66;03m# async callbacks to progress.\u001b[39;00m\n",
      "File \u001b[0;32m~/opt/miniconda3/envs/test_celloracle/lib/python3.10/site-packages/joblib/parallel.py:1734\u001b[0m, in \u001b[0;36mParallel._raise_error_fast\u001b[0;34m(self)\u001b[0m\n\u001b[1;32m   1730\u001b[0m \u001b[38;5;66;03m# If this error job exists, immediatly raise the error by\u001b[39;00m\n\u001b[1;32m   1731\u001b[0m \u001b[38;5;66;03m# calling get_result. This job might not exists if abort has been\u001b[39;00m\n\u001b[1;32m   1732\u001b[0m \u001b[38;5;66;03m# called directly or if the generator is gc'ed.\u001b[39;00m\n\u001b[1;32m   1733\u001b[0m \u001b[38;5;28;01mif\u001b[39;00m error_job \u001b[38;5;129;01mis\u001b[39;00m \u001b[38;5;129;01mnot\u001b[39;00m \u001b[38;5;28;01mNone\u001b[39;00m:\n\u001b[0;32m-> 1734\u001b[0m     \u001b[43merror_job\u001b[49m\u001b[38;5;241;43m.\u001b[39;49m\u001b[43mget_result\u001b[49m\u001b[43m(\u001b[49m\u001b[38;5;28;43mself\u001b[39;49m\u001b[38;5;241;43m.\u001b[39;49m\u001b[43mtimeout\u001b[49m\u001b[43m)\u001b[49m\n",
      "File \u001b[0;32m~/opt/miniconda3/envs/test_celloracle/lib/python3.10/site-packages/joblib/parallel.py:736\u001b[0m, in \u001b[0;36mBatchCompletionCallBack.get_result\u001b[0;34m(self, timeout)\u001b[0m\n\u001b[1;32m    730\u001b[0m backend \u001b[38;5;241m=\u001b[39m \u001b[38;5;28mself\u001b[39m\u001b[38;5;241m.\u001b[39mparallel\u001b[38;5;241m.\u001b[39m_backend\n\u001b[1;32m    732\u001b[0m \u001b[38;5;28;01mif\u001b[39;00m backend\u001b[38;5;241m.\u001b[39msupports_retrieve_callback:\n\u001b[1;32m    733\u001b[0m     \u001b[38;5;66;03m# We assume that the result has already been retrieved by the\u001b[39;00m\n\u001b[1;32m    734\u001b[0m     \u001b[38;5;66;03m# callback thread, and is stored internally. It's just waiting to\u001b[39;00m\n\u001b[1;32m    735\u001b[0m     \u001b[38;5;66;03m# be returned.\u001b[39;00m\n\u001b[0;32m--> 736\u001b[0m     \u001b[38;5;28;01mreturn\u001b[39;00m \u001b[38;5;28;43mself\u001b[39;49m\u001b[38;5;241;43m.\u001b[39;49m\u001b[43m_return_or_raise\u001b[49m\u001b[43m(\u001b[49m\u001b[43m)\u001b[49m\n\u001b[1;32m    738\u001b[0m \u001b[38;5;66;03m# For other backends, the main thread needs to run the retrieval step.\u001b[39;00m\n\u001b[1;32m    739\u001b[0m \u001b[38;5;28;01mtry\u001b[39;00m:\n",
      "File \u001b[0;32m~/opt/miniconda3/envs/test_celloracle/lib/python3.10/site-packages/joblib/parallel.py:754\u001b[0m, in \u001b[0;36mBatchCompletionCallBack._return_or_raise\u001b[0;34m(self)\u001b[0m\n\u001b[1;32m    752\u001b[0m \u001b[38;5;28;01mtry\u001b[39;00m:\n\u001b[1;32m    753\u001b[0m     \u001b[38;5;28;01mif\u001b[39;00m \u001b[38;5;28mself\u001b[39m\u001b[38;5;241m.\u001b[39mstatus \u001b[38;5;241m==\u001b[39m TASK_ERROR:\n\u001b[0;32m--> 754\u001b[0m         \u001b[38;5;28;01mraise\u001b[39;00m \u001b[38;5;28mself\u001b[39m\u001b[38;5;241m.\u001b[39m_result\n\u001b[1;32m    755\u001b[0m     \u001b[38;5;28;01mreturn\u001b[39;00m \u001b[38;5;28mself\u001b[39m\u001b[38;5;241m.\u001b[39m_result\n\u001b[1;32m    756\u001b[0m \u001b[38;5;28;01mfinally\u001b[39;00m:\n",
      "\u001b[0;31mTypeError\u001b[0m: expected str, bytes or os.PathLike object, not NoneType"
     ]
    }
   ],
   "source": [
    "# Motif enrichment\n",
    "# Change relevant paths\n",
    "motif_match_df, motif_count_df, motif_enrichment_df = compute_motif_enrichment(\n",
    "    mdata, \n",
    "    prog_key=prog_key, \n",
    "    data_key='rna', \n",
    "    motif_file='/cellar/users/aklie/opt/gene_program_evaluation/src/tests/test_data/motifs.meme', \n",
    "    seq_file='/cellar/users/aklie/data/ref/genomes/hg38/hg38.fa',\n",
    "    coords_file='/cellar/users/aklie/opt/gene_program_evaluation/src/tests/test_data/p2g_links_minimal.txt', \n",
    "    output_loc=None, \n",
    "    sig=0.05, \n",
    "    num_genes=None, \n",
    "    correlation='pearsonr', \n",
    "    n_jobs=-1, \n",
    "    inplace=False\n",
    ")"
   ]
  },
  {
   "cell_type": "code",
   "execution_count": null,
   "metadata": {},
   "outputs": [],
   "source": [
    "motif_match_df.to_csv(os.path.join(path_out, prog_key, 'motif_enrichment_matches.txt'), sep='\\t', index=False)\n",
    "motif_count_df.to_csv(os.path.join(path_out, prog_key, 'motif_enrichment_counts.txt'), sep='\\t', index=False)\n",
    "motif_enrichment_df.to_csv(os.path.join(path_out, prog_key, 'motif_enrichment.txt'), sep='\\t', index=False)"
   ]
  },
  {
   "cell_type": "markdown",
   "metadata": {},
   "source": [
    "# Trait enrichment"
   ]
  },
  {
   "cell_type": "code",
   "execution_count": 16,
   "metadata": {},
   "outputs": [
    {
     "data": {
      "application/vnd.jupyter.widget-view+json": {
       "model_id": "1b6caf7cfdac49c0b14b3fab58cfc864",
       "version_major": 2,
       "version_minor": 0
      },
      "text/plain": [
       "Running GSEA:   0%|          | 0/100 [00:00<?, ?programs/s]"
      ]
     },
     "metadata": {},
     "output_type": "display_data"
    }
   ],
   "source": [
    "# Run trait enrichment\n",
    "pre_res_trait = compute_trait_enrichment(\n",
    "    mdata, \n",
    "    gwas_data='/cellar/users/aklie/opt/gene_program_evaluation/smk/resources/OpenTargets_L2G_Filtered.csv.gz', \n",
    "    prog_key=prog_key, \n",
    "    prog_nam=None, \n",
    "    data_key='rna', \n",
    "    library='OT_GWAS', \n",
    "    n_jobs=-1, \n",
    "    inplace=False, \n",
    "    key_column='trait_efos', \n",
    "    gene_column='gene_name', \n",
    "    method='gsea'\n",
    ")"
   ]
  },
  {
   "cell_type": "code",
   "execution_count": 17,
   "metadata": {},
   "outputs": [],
   "source": [
    "pre_res_trait.to_csv(os.path.join(path_out, prog_key, 'trait_enrichment.txt'), sep='\\t', index=False)"
   ]
  },
  {
   "cell_type": "code",
   "execution_count": 47,
   "metadata": {},
   "outputs": [],
   "source": [
    "pre_res_trait[\"FDR q-val\"] = pre_res_trait[\"FDR q-val\"].astype(float)"
   ]
  },
  {
   "cell_type": "code",
   "execution_count": 48,
   "metadata": {},
   "outputs": [],
   "source": [
    "data = process_enrichment_data(\n",
    "    enrich_res=pre_res_trait,\n",
    "    metadata='/cellar/users/aklie/opt/gene_program_evaluation/smk/resources/OpenTargets_L2G_Filtered.csv.gz', \n",
    "    pval_col=\"FDR q-val\",\n",
    "    enrich_geneset_id_col=\"Term\",\n",
    "    metadata_geneset_id_col=\"trait_efos\",\n",
    "    color_category_col=\"trait_category\",\n",
    "    program_name_col=\"program_name\",\n",
    "    annotation_cols=[\"trait_reported\", \"Lead_genes\", \"study_id\", \"pmid\"]\n",
    ")"
   ]
  },
  {
   "cell_type": "code",
   "execution_count": 49,
   "metadata": {},
   "outputs": [],
   "source": [
    "data.to_csv(os.path.join(path_out, prog_key, \"trait_enrichment_processed.txt\"), sep='\\t', index=False)"
   ]
  },
  {
   "cell_type": "markdown",
   "metadata": {},
   "source": [
    "# Explained variance"
   ]
  },
  {
   "cell_type": "code",
   "execution_count": 50,
   "metadata": {},
   "outputs": [
    {
     "name": "stderr",
     "output_type": "stream",
     "text": [
      "/cellar/users/aklie/opt/miniconda3/envs/test_celloracle/lib/python3.10/site-packages/anndata/_core/anndata.py:1899: UserWarning: Variable names are not unique. To make them unique, call `.var_names_make_unique`.\n",
      "  utils.warn_names_duplicates(\"var\")\n",
      "/cellar/users/aklie/opt/miniconda3/envs/test_celloracle/lib/python3.10/site-packages/mudata/_core/mudata.py:479: UserWarning: var_names are not unique. To make them unique, call `.var_names_make_unique`.\n",
      "  warnings.warn(\n"
     ]
    },
    {
     "data": {
      "application/vnd.jupyter.widget-view+json": {
       "model_id": "340219f0af454b58b2a5895b1ca02947",
       "version_major": 2,
       "version_minor": 0
      },
      "text/plain": [
       "Computing explained variance:   0%|          | 0/100 [00:00<?, ?programs/s]"
      ]
     },
     "metadata": {},
     "output_type": "display_data"
    }
   ],
   "source": [
    "# Run explained variance\n",
    "explained_variance_ratio = compute_explained_variance_ratio(\n",
    "    mdata, \n",
    "    prog_key=prog_key, \n",
    "    data_key='rna', \n",
    "    layer='X', \n",
    "    n_jobs=1, \n",
    "    inplace=False\n",
    ")"
   ]
  },
  {
   "cell_type": "code",
   "execution_count": 52,
   "metadata": {},
   "outputs": [],
   "source": [
    "explained_variance_ratio.to_csv(os.path.join(path_out, prog_key, 'explained_variance_ratio.txt'), sep='\\t')                                          "
   ]
  },
  {
   "cell_type": "markdown",
   "metadata": {},
   "source": [
    "# DONE!"
   ]
  },
  {
   "cell_type": "markdown",
   "metadata": {},
   "source": [
    "---"
   ]
  }
 ],
 "metadata": {
  "kernelspec": {
   "display_name": "Python 3.10 test_celloracle",
   "language": "python",
   "name": "test_scenicplus-py310"
  },
  "orig_nbformat": 4
 },
 "nbformat": 4,
 "nbformat_minor": 2
}
