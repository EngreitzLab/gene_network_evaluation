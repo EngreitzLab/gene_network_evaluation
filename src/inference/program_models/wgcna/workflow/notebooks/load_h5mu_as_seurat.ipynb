{
 "cells": [
  {
   "cell_type": "code",
   "execution_count": 1,
   "metadata": {
    "vscode": {
     "languageId": "r"
    }
   },
   "outputs": [
    {
     "name": "stderr",
     "output_type": "stream",
     "text": [
      "Warning message:\n",
      "“package ‘S4Vectors’ was built under R version 4.3.2”\n",
      "Warning message:\n",
      "“package ‘BiocGenerics’ was built under R version 4.3.2”\n",
      "Warning message:\n",
      "“package ‘SummarizedExperiment’ was built under R version 4.3.2”\n",
      "Warning message:\n",
      "“package ‘MatrixGenerics’ was built under R version 4.3.2”\n",
      "Warning message:\n",
      "“package ‘GenomicRanges’ was built under R version 4.3.2”\n",
      "Warning message:\n",
      "“package ‘IRanges’ was built under R version 4.3.2”\n",
      "Warning message:\n",
      "“package ‘GenomeInfoDb’ was built under R version 4.3.2”\n",
      "Warning message:\n",
      "“package ‘Biobase’ was built under R version 4.3.2”\n"
     ]
    }
   ],
   "source": [
    "suppressMessages(library(Seurat))\n",
    "suppressMessages(library(MuData))\n",
    "suppressMessages(library(MultiAssayExperiment))\n",
    "suppressMessages(library(WGCNA))\n",
    "suppressMessages(library(hdWGCNA))"
   ]
  },
  {
   "cell_type": "code",
   "execution_count": 2,
   "metadata": {
    "vscode": {
     "languageId": "r"
    }
   },
   "outputs": [],
   "source": [
    "path_data = \"/cellar/users/aklie/data/datasets/igvf_sc-islet_10X-Multiome/annotation/timecourse/A2_control/cellcommander/joint_integrate/joint_integrate.h5mu\""
   ]
  },
  {
   "cell_type": "code",
   "execution_count": 3,
   "metadata": {
    "vscode": {
     "languageId": "r"
    }
   },
   "outputs": [
    {
     "name": "stderr",
     "output_type": "stream",
     "text": [
      "Warning message:\n",
      "“sampleMap[['assay']] coerced with as.factor()”\n"
     ]
    },
    {
     "data": {
      "text/plain": [
       "A MultiAssayExperiment object of 2 listed\n",
       " experiments with user-defined names and respective classes.\n",
       " Containing an ExperimentList class object of length 2:\n",
       " [1] atac: SingleCellExperiment with 427234 rows and 15317 columns\n",
       " [2] rna: SingleCellExperiment with 36601 rows and 15317 columns\n",
       "Functionality:\n",
       " experiments() - obtain the ExperimentList instance\n",
       " colData() - the primary/phenotype DataFrame\n",
       " sampleMap() - the sample coordination DataFrame\n",
       " `$`, `[`, `[[` - extract colData columns, subset, or experiment\n",
       " *Format() - convert into a long or wide DataFrame\n",
       " assays() - convert ExperimentList to a SimpleList of matrices\n",
       " exportClass() - save data to flat files"
      ]
     },
     "metadata": {},
     "output_type": "display_data"
    }
   ],
   "source": [
    "mdata <- readH5MU(path_data)\n",
    "mdata"
   ]
  },
  {
   "cell_type": "code",
   "execution_count": 11,
   "metadata": {
    "vscode": {
     "languageId": "r"
    }
   },
   "outputs": [
    {
     "data": {
      "text/plain": [
       "An object of class Seurat \n",
       "36601 features across 6543 samples within 1 assay \n",
       "Active assay: RNA (36601 features, 0 variable features)"
      ]
     },
     "metadata": {},
     "output_type": "display_data"
    }
   ],
   "source": [
    "readRDS(\"/cellar/users/aklie/data/datasets/igvf_sc-islet_10X-Multiome/analysis/timecourse/A2_control/hdwgcna/metacells.rds\")"
   ]
  },
  {
   "cell_type": "code",
   "execution_count": 5,
   "metadata": {
    "vscode": {
     "languageId": "r"
    }
   },
   "outputs": [
    {
     "data": {
      "text/plain": [
       "class: SingleCellExperiment \n",
       "dim: 36601 15317 \n",
       "metadata(0):\n",
       "assays(3): '' log1p_norm soupx_counts\n",
       "rownames(36601): MIR1302-2HG FAM138A ... AC007325.4 AC007325.2\n",
       "rowData names(1): sctransform_genes\n",
       "colnames(15317): dm35a#TTTCACCCATGTGGGA-1 dm25a#GGCAATCGTTGTCCAT-1 ...\n",
       "  dm25a#CTAAGTCAGGATTGCT-1 dm45a#GTCCGTAAGGGCTAAA-1\n",
       "colData names(57): gex_barcode_cellranger atac_barcode_cellranger ...\n",
       "  leiden_1 sample\n",
       "reducedDimNames(3): X_seurat_default X_seurat_default_umap\n",
       "  sctransform_scale_data\n",
       "mainExpName: NULL\n",
       "altExpNames(0):"
      ]
     },
     "metadata": {},
     "output_type": "display_data"
    }
   ],
   "source": [
    "experiments(mdata)$rna"
   ]
  },
  {
   "cell_type": "code",
   "execution_count": 6,
   "metadata": {
    "vscode": {
     "languageId": "r"
    }
   },
   "outputs": [],
   "source": [
    "counts <- assays(experiments(mdata)$rna)$counts\n",
    "metadata <- as.data.frame(colData(mdata))"
   ]
  },
  {
   "cell_type": "code",
   "execution_count": 9,
   "metadata": {
    "vscode": {
     "languageId": "r"
    }
   },
   "outputs": [
    {
     "data": {
      "text/html": [
       "<table class=\"dataframe\">\n",
       "<caption>A data.frame: 6 × 3</caption>\n",
       "<thead>\n",
       "\t<tr><th></th><th scope=col>wnn_RNA_weight</th><th scope=col>wnn_ATAC_weight</th><th scope=col>wnn_leiden_1</th></tr>\n",
       "\t<tr><th></th><th scope=col>&lt;dbl&gt;</th><th scope=col>&lt;dbl&gt;</th><th scope=col>&lt;fct&gt;</th></tr>\n",
       "</thead>\n",
       "<tbody>\n",
       "\t<tr><th scope=row>dm35a#TTTCACCCATGTGGGA-1</th><td>0.5611538</td><td>0.43884623</td><td>4 </td></tr>\n",
       "\t<tr><th scope=row>dm25a#GGCAATCGTTGTCCAT-1</th><td>0.5026590</td><td>0.49734103</td><td>1 </td></tr>\n",
       "\t<tr><th scope=row>dm35a#GAGAACCAGAATCTCA-1</th><td>0.6935180</td><td>0.30648203</td><td>18</td></tr>\n",
       "\t<tr><th scope=row>dm35a#GCTAGCCAGCTCCTAC-1</th><td>0.9513198</td><td>0.04868018</td><td>3 </td></tr>\n",
       "\t<tr><th scope=row>dm35a#AGAAAGGCAGGACCTT-1</th><td>0.6444803</td><td>0.35551975</td><td>7 </td></tr>\n",
       "\t<tr><th scope=row>dm25a#CTACTTAGTACCCACC-1</th><td>0.4864626</td><td>0.51353736</td><td>3 </td></tr>\n",
       "</tbody>\n",
       "</table>\n"
      ],
      "text/latex": [
       "A data.frame: 6 × 3\n",
       "\\begin{tabular}{r|lll}\n",
       "  & wnn\\_RNA\\_weight & wnn\\_ATAC\\_weight & wnn\\_leiden\\_1\\\\\n",
       "  & <dbl> & <dbl> & <fct>\\\\\n",
       "\\hline\n",
       "\tdm35a\\#TTTCACCCATGTGGGA-1 & 0.5611538 & 0.43884623 & 4 \\\\\n",
       "\tdm25a\\#GGCAATCGTTGTCCAT-1 & 0.5026590 & 0.49734103 & 1 \\\\\n",
       "\tdm35a\\#GAGAACCAGAATCTCA-1 & 0.6935180 & 0.30648203 & 18\\\\\n",
       "\tdm35a\\#GCTAGCCAGCTCCTAC-1 & 0.9513198 & 0.04868018 & 3 \\\\\n",
       "\tdm35a\\#AGAAAGGCAGGACCTT-1 & 0.6444803 & 0.35551975 & 7 \\\\\n",
       "\tdm25a\\#CTACTTAGTACCCACC-1 & 0.4864626 & 0.51353736 & 3 \\\\\n",
       "\\end{tabular}\n"
      ],
      "text/markdown": [
       "\n",
       "A data.frame: 6 × 3\n",
       "\n",
       "| <!--/--> | wnn_RNA_weight &lt;dbl&gt; | wnn_ATAC_weight &lt;dbl&gt; | wnn_leiden_1 &lt;fct&gt; |\n",
       "|---|---|---|---|\n",
       "| dm35a#TTTCACCCATGTGGGA-1 | 0.5611538 | 0.43884623 | 4  |\n",
       "| dm25a#GGCAATCGTTGTCCAT-1 | 0.5026590 | 0.49734103 | 1  |\n",
       "| dm35a#GAGAACCAGAATCTCA-1 | 0.6935180 | 0.30648203 | 18 |\n",
       "| dm35a#GCTAGCCAGCTCCTAC-1 | 0.9513198 | 0.04868018 | 3  |\n",
       "| dm35a#AGAAAGGCAGGACCTT-1 | 0.6444803 | 0.35551975 | 7  |\n",
       "| dm25a#CTACTTAGTACCCACC-1 | 0.4864626 | 0.51353736 | 3  |\n",
       "\n"
      ],
      "text/plain": [
       "                         wnn_RNA_weight wnn_ATAC_weight wnn_leiden_1\n",
       "dm35a#TTTCACCCATGTGGGA-1 0.5611538      0.43884623      4           \n",
       "dm25a#GGCAATCGTTGTCCAT-1 0.5026590      0.49734103      1           \n",
       "dm35a#GAGAACCAGAATCTCA-1 0.6935180      0.30648203      18          \n",
       "dm35a#GCTAGCCAGCTCCTAC-1 0.9513198      0.04868018      3           \n",
       "dm35a#AGAAAGGCAGGACCTT-1 0.6444803      0.35551975      7           \n",
       "dm25a#CTACTTAGTACCCACC-1 0.4864626      0.51353736      3           "
      ]
     },
     "metadata": {},
     "output_type": "display_data"
    }
   ],
   "source": [
    "head(metadata)"
   ]
  },
  {
   "cell_type": "code",
   "execution_count": 10,
   "metadata": {
    "vscode": {
     "languageId": "r"
    }
   },
   "outputs": [
    {
     "data": {
      "text/plain": [
       "NULL"
      ]
     },
     "metadata": {},
     "output_type": "display_data"
    }
   ],
   "source": [
    "counts[1:5, 1:5]"
   ]
  },
  {
   "cell_type": "code",
   "execution_count": 7,
   "metadata": {
    "vscode": {
     "languageId": "r"
    }
   },
   "outputs": [
    {
     "name": "stderr",
     "output_type": "stream",
     "text": [
      "Warning message in CreateSeuratObject.default(counts = counts, meta.data = metadata):\n",
      "“Some cells in meta.data not present in provided counts matrix”\n"
     ]
    },
    {
     "ename": "ERROR",
     "evalue": "Error in CreateAssayObject(counts = counts, min.cells = min.cells, min.features = min.features, : No cell names (colnames) names present in the input matrix\n",
     "output_type": "error",
     "traceback": [
      "Error in CreateAssayObject(counts = counts, min.cells = min.cells, min.features = min.features, : No cell names (colnames) names present in the input matrix\nTraceback:\n",
      "1. Seurat::CreateSeuratObject(counts = counts, meta.data = metadata)",
      "2. CreateSeuratObject.default(counts = counts, meta.data = metadata)",
      "3. CreateAssayObject(counts = counts, min.cells = min.cells, min.features = min.features, \n .     row.names = row.names)",
      "4. stop(\"No cell names (colnames) names present in the input matrix\")"
     ]
    }
   ],
   "source": [
    "adata <- Seurat::CreateSeuratObject(\n",
    "    counts = counts, \n",
    "    meta.data = metadata\n",
    ")"
   ]
  },
  {
   "cell_type": "code",
   "execution_count": 23,
   "metadata": {
    "vscode": {
     "languageId": "r"
    }
   },
   "outputs": [
    {
     "data": {
      "text/html": [
       "<style>\n",
       ".list-inline {list-style: none; margin:0; padding: 0}\n",
       ".list-inline>li {display: inline-block}\n",
       ".list-inline>li:not(:last-child)::after {content: \"\\00b7\"; padding: 0 .5ex}\n",
       "</style>\n",
       "<ol class=list-inline><li>'orig.ident'</li><li>'nCount_RNA'</li><li>'nFeature_RNA'</li><li>'celltype'</li><li>'batch'</li><li>'Samplename'</li><li>'Site'</li><li>'DonorNumber'</li><li>'Modality'</li><li>'VendorLot'</li><li>'DonorID'</li><li>'DonorAge'</li><li>'DonorBMI'</li><li>'DonorBloodType'</li><li>'DonorRace'</li><li>'Ethnicity'</li><li>'DonorGender'</li><li>'QCMeds'</li><li>'DonorSmoker'</li></ol>\n"
      ],
      "text/latex": [
       "\\begin{enumerate*}\n",
       "\\item 'orig.ident'\n",
       "\\item 'nCount\\_RNA'\n",
       "\\item 'nFeature\\_RNA'\n",
       "\\item 'celltype'\n",
       "\\item 'batch'\n",
       "\\item 'Samplename'\n",
       "\\item 'Site'\n",
       "\\item 'DonorNumber'\n",
       "\\item 'Modality'\n",
       "\\item 'VendorLot'\n",
       "\\item 'DonorID'\n",
       "\\item 'DonorAge'\n",
       "\\item 'DonorBMI'\n",
       "\\item 'DonorBloodType'\n",
       "\\item 'DonorRace'\n",
       "\\item 'Ethnicity'\n",
       "\\item 'DonorGender'\n",
       "\\item 'QCMeds'\n",
       "\\item 'DonorSmoker'\n",
       "\\end{enumerate*}\n"
      ],
      "text/markdown": [
       "1. 'orig.ident'\n",
       "2. 'nCount_RNA'\n",
       "3. 'nFeature_RNA'\n",
       "4. 'celltype'\n",
       "5. 'batch'\n",
       "6. 'Samplename'\n",
       "7. 'Site'\n",
       "8. 'DonorNumber'\n",
       "9. 'Modality'\n",
       "10. 'VendorLot'\n",
       "11. 'DonorID'\n",
       "12. 'DonorAge'\n",
       "13. 'DonorBMI'\n",
       "14. 'DonorBloodType'\n",
       "15. 'DonorRace'\n",
       "16. 'Ethnicity'\n",
       "17. 'DonorGender'\n",
       "18. 'QCMeds'\n",
       "19. 'DonorSmoker'\n",
       "\n",
       "\n"
      ],
      "text/plain": [
       " [1] \"orig.ident\"     \"nCount_RNA\"     \"nFeature_RNA\"   \"celltype\"      \n",
       " [5] \"batch\"          \"Samplename\"     \"Site\"           \"DonorNumber\"   \n",
       " [9] \"Modality\"       \"VendorLot\"      \"DonorID\"        \"DonorAge\"      \n",
       "[13] \"DonorBMI\"       \"DonorBloodType\" \"DonorRace\"      \"Ethnicity\"     \n",
       "[17] \"DonorGender\"    \"QCMeds\"         \"DonorSmoker\"   "
      ]
     },
     "metadata": {},
     "output_type": "display_data"
    }
   ],
   "source": [
    "colnames(adata@meta.data)"
   ]
  },
  {
   "cell_type": "code",
   "execution_count": 28,
   "metadata": {
    "vscode": {
     "languageId": "r"
    }
   },
   "outputs": [
    {
     "name": "stderr",
     "output_type": "stream",
     "text": [
      "Centering and scaling data matrix\n",
      "\n",
      "PC_ 1 \n",
      "Positive:  ETV6, ELMO1, ERG, RNF220, AUTS2, AKT3, KCNQ5, NKAIN2, CELF2, MEIS1 \n",
      "\t   LRMDA, CALN1, VAV3, MED12L, FNBP1, ANGPT1, STXBP5, CHRM3, RNF130, ZNF385D \n",
      "\t   AFF3, DAPK1, AL589693.1, LRRFIP1, ZNF521, DACH1, SOX4, INPP4B, ATP8B4, ALCAM \n",
      "Negative:  SPTA1, TSPAN5, CR1L, SNCA, JAZF1, SPTB, ALAS2, TRAK2, CA2, RHCE \n",
      "\t   SLC22A23, EPB42, OSBP2, RHAG, BSG, FHDC1, GYPE, CA1, AHSP, TLN2 \n",
      "\t   HEMGN, HECTD4, SLC25A21, TLCD4, CPEB4, AC079804.3, MARCH3, DPF3, SELENBP1, NPL \n",
      "PC_ 2 \n",
      "Positive:  IL1R1, ACSL6, TMCC2, PREX2, UBE2H, XPO7, RBPMS, PLCG1-AS1, LINC01122, FHDC1 \n",
      "\t   TCP11L2, AJ009632.2, DANT2, COL24A1, CALN1, ATP8B4, CHRM3, FLACC1, DMTN, RGS6 \n",
      "\t   MAN1A1, IL12A-AS1, FRMD4A, CLK3, SWT1, MIR99AHG, ADGRG6, MMRN1, SLC7A5, AC100835.2 \n",
      "Negative:  LTBP1, MBOAT2, FAM13A, LINC01151, SLC25A21, ADAMTS3, DIAPH3, CENPF, RRM2, PTH2R \n",
      "\t   BLM, S100A6, ACSBG1, ASPM, OLA1, MFSD4B, LINC01572, ERVMER61-1, LYST, CCDC26 \n",
      "\t   MGST3, NME7, UBE2S, CSNK2A1, HIST1H4C, GNL3, MIR924HG, CDC45, WWOX, KNL1 \n",
      "PC_ 3 \n",
      "Positive:  PLCL2, NLRP1, XPO7, TCP11L2, UBE2H, PDE4B, BPGM, SELENBP1, RCSD1, LPIN2 \n",
      "\t   WDR26, FOXO3, KLF6, SORL1, SKAP1, FNBP1, MAN1A1, CD247, CD69, SP100 \n",
      "\t   AL589693.1, GAB2, SAMHD1, LBH, BNIP3L, DOCK10, TSPAN5, DIAPH2, RBM38, CPEB4 \n",
      "Negative:  PTH2R, RYR3, XACT, ZNF385D, TAFA2, LINC01151, CCDC26, HIST1H3B, CTNNBL1, SLC25A21 \n",
      "\t   OLA1, MIR924HG, GGCT, FAM13A, MBOAT2, CBLL1, AL450998.2, TRAPPC12, DISC1FP1, ITGA2B \n",
      "\t   ANKAR, GNL3, SSX2IP, ZNF280D, ERVMER61-1, GIHCG, ZNF713, WWOX, HMGA2, SELENOO \n",
      "PC_ 4 \n",
      "Positive:  RYR3, TMCC2, TBCEL, XACT, ITGA2B, TRIM58, CCDC26, XPO7, WDR12, TCP11L2 \n",
      "\t   NEDD4L, NCOA4, SPOPL, SLC14A1, HECTD4, CTNNBL1, HLCS, PLCL2, ASCC2, RNF130 \n",
      "\t   LPIN2, ARHGEF12, BNIP3L, CLIP1, GCLC, PTH2R, ACSL6, C20orf194, RASGRP3, FRMD4A \n",
      "Negative:  AJ009632.2, NUSAP1, PREX2, HIST1H4C, RBPMS, RRM2, HIST1H3B, ASPM, TUBA1A, MGST3 \n",
      "\t   KNL1, PLCB1, LINC01122, DIAPH3, IL12A-AS1, INPP4B, DANT2, KIF4A, DNM3, ADGRG6 \n",
      "\t   CENPF, KHDRBS2, COL24A1, CHRM3, GPC5, CR1L, CA2, MYL4, CA1, CALN1 \n",
      "PC_ 5 \n",
      "Positive:  NCOA4, MEIS1, ITGA2B, PHTF1, MED12L, HLA-DMA, PBX1, ZNF385D, CTNNBL1, TAFA2 \n",
      "\t   SOX4, ANGPT1, BSG, NKAIN2, MMRN1, ENO1, JTB, XACT, BPGM, AJ009632.2 \n",
      "\t   TNS1, GPD2, PRKG1, CHRM3, DNM3, FGFR1OP2, RRP12, NDUFS2, HDAC1, UBTF \n",
      "Negative:  BCL11B, NLRP1, PITPNC1, SAMHD1, PCED1B, CD247, PTPRE, SYNE1, DNAJC5, SFMBT2 \n",
      "\t   RESF1, VPS45, LINC00476, SNX19, CDC45, ERMP1, FBXO38, DOCK10, ATG4C, UHRF1 \n",
      "\t   XAF1, DISC1, WWOX, MARCH5, HLCS, ARHGAP27, RCSD1, AC009318.1, PPP3CB, SORL1 \n",
      "\n",
      "Warning message:\n",
      "“The default method for RunUMAP has changed from calling Python UMAP via reticulate to the R-native UWOT using the cosine metric\n",
      "To use Python UMAP via reticulate, set umap.method to 'umap-learn' and metric to 'correlation'\n",
      "This message will be shown once per session”\n",
      "08:53:44 UMAP embedding parameters a = 0.9922 b = 1.112\n",
      "\n",
      "08:53:44 Read 123 rows and found 30 numeric columns\n",
      "\n",
      "08:53:44 Using Annoy for neighbor search, n_neighbors = 30\n",
      "\n",
      "08:53:44 Building Annoy index with metric = cosine, n_trees = 50\n",
      "\n",
      "0%   10   20   30   40   50   60   70   80   90   100%\n",
      "\n",
      "[----|----|----|----|----|----|----|----|----|----|\n",
      "\n",
      "*\n",
      "*\n",
      "*\n",
      "*\n",
      "*\n",
      "*\n",
      "*\n",
      "*\n",
      "*\n",
      "*\n",
      "*\n",
      "*\n",
      "*\n",
      "*\n",
      "*\n",
      "*\n",
      "*\n",
      "*\n",
      "*\n",
      "*\n",
      "*\n",
      "*\n",
      "*\n",
      "*\n",
      "*\n",
      "*\n",
      "*\n",
      "*\n",
      "*\n",
      "*\n",
      "*\n",
      "*\n",
      "*\n",
      "*\n",
      "*\n",
      "*\n",
      "*\n",
      "*\n",
      "*\n",
      "*\n",
      "*\n",
      "*\n",
      "*\n",
      "*\n",
      "*\n",
      "*\n",
      "*\n",
      "*\n",
      "*\n",
      "*\n",
      "|\n",
      "\n",
      "08:53:44 Writing NN index file to temp file /tmp/Rtmp0XAI5L/file148fb111bc40e3\n",
      "\n",
      "08:53:44 Searching Annoy index using 1 thread, search_k = 3000\n",
      "\n",
      "08:53:44 Annoy recall = 100%\n",
      "\n",
      "08:53:45 Commencing smooth kNN distance calibration using 1 thread\n",
      " with target n_neighbors = 30\n",
      "\n",
      "08:53:46 Initializing from normalized Laplacian + noise (using irlba)\n",
      "\n",
      "08:53:46 Commencing optimization for 500 epochs, with 4036 positive edges\n",
      "\n",
      "08:53:47 Optimization finished\n",
      "\n",
      "Computing nearest neighbor graph\n",
      "\n",
      "Computing SNN\n",
      "\n"
     ]
    },
    {
     "name": "stdout",
     "output_type": "stream",
     "text": [
      "Modularity Optimizer version 1.3.0 by Ludo Waltman and Nees Jan van Eck\n",
      "\n",
      "Number of nodes: 123\n",
      "Number of edges: 3731\n",
      "\n",
      "Running Louvain algorithm...\n",
      "Maximum modularity in 10 random starts: 0.6928\n",
      "Number of communities: 2\n",
      "Elapsed time: 0 seconds\n"
     ]
    }
   ],
   "source": [
    "# Seurat guided clustering\n",
    "adata <- Seurat::NormalizeData(adata)\n",
    "adata <- Seurat::FindVariableFeatures(adata, selection.method = \"vst\", nfeatures = 2000)\n",
    "adata <- Seurat::ScaleData(adata)\n",
    "adata <- Seurat::RunPCA(adata, features = Seurat::VariableFeatures(adata))\n",
    "adata <- Seurat::RunUMAP(adata, reduction = \"pca\", dims = 1:30)\n",
    "adata <- Seurat::FindNeighbors(adata, dims = 1:30)\n",
    "adata <- Seurat::FindClusters(adata, resolution = 0.5)"
   ]
  },
  {
   "cell_type": "code",
   "execution_count": 44,
   "metadata": {
    "vscode": {
     "languageId": "r"
    }
   },
   "outputs": [
    {
     "data": {
      "image/png": "[encoded data removed]",
      "text/plain": [
       "plot without title"
      ]
     },
     "metadata": {
      "image/png": {
       "height": 420,
       "width": 420
      }
     },
     "output_type": "display_data"
    }
   ],
   "source": [
    "DimPlot(adata, group.by=\"celltype\", reduction=\"umap\", label=FALSE)"
   ]
  },
  {
   "cell_type": "code",
   "execution_count": 30,
   "metadata": {
    "vscode": {
     "languageId": "r"
    }
   },
   "outputs": [],
   "source": [
    "adata <- SetupForWGCNA(\n",
    "    adata,\n",
    "    gene_select = \"fraction\", # the gene selection approach\n",
    "    fraction = 0.05, # fraction of cells that a gene needs to be expressed in order to be included\n",
    "    wgcna_name = \"test\" # the name of the hdWGCNA experiment\n",
    ")"
   ]
  },
  {
   "cell_type": "code",
   "execution_count": 35,
   "metadata": {
    "vscode": {
     "languageId": "r"
    }
   },
   "outputs": [
    {
     "name": "stderr",
     "output_type": "stream",
     "text": [
      "Warning message in MetacellsByGroups(seurat_obj = adata, group.by = c(\"celltype\", :\n",
      "“Removing the following groups that did not meet min_cells: Normoblast#site2_donor5_multiome”\n"
     ]
    }
   ],
   "source": [
    "adata <- MetacellsByGroups(\n",
    "  seurat_obj = adata,\n",
    "  group.by = c(\"celltype\", \"Samplename\"), # specify the columns in adata@meta.data to group by\n",
    "  reduction = \"pca\", # select the dimensionality reduction to perform KNN on\n",
    "  k = 2, # nearest-neighbors parameter\n",
    "  max_shared = 10, # maximum number of shared cells between two metacells\n",
    "  min_cells = 2, # minimum number of cells in a metacell\n",
    "  ident.group = \"celltype\", # set the Idents of the metacell seurat object\n",
    "  assay=\"RNA\",  # default\n",
    "  slot=\"counts\",  # default\n",
    ")"
   ]
  },
  {
   "cell_type": "code",
   "execution_count": 36,
   "metadata": {
    "vscode": {
     "languageId": "r"
    }
   },
   "outputs": [],
   "source": [
    "adata <- NormalizeMetacells(adata)"
   ]
  },
  {
   "cell_type": "code",
   "execution_count": 41,
   "metadata": {
    "vscode": {
     "languageId": "r"
    }
   },
   "outputs": [
    {
     "data": {
      "text/plain": [
       "An object of class Seurat \n",
       "512 features across 122 samples within 1 assay \n",
       "Active assay: RNA (512 features, 0 variable features)"
      ]
     },
     "metadata": {},
     "output_type": "display_data"
    }
   ],
   "source": [
    "adata@misc$test$wgcna_metacell_obj"
   ]
  },
  {
   "cell_type": "code",
   "execution_count": null,
   "metadata": {
    "vscode": {
     "languageId": "r"
    }
   },
   "outputs": [],
   "source": []
  }
 ],
 "metadata": {
  "kernelspec": {
   "display_name": "R 4.3.3 scverse",
   "language": "R",
   "name": "scverse-r433"
  },
  "language_info": {
   "codemirror_mode": "r",
   "file_extension": ".r",
   "mimetype": "text/x-r-source",
   "name": "R",
   "pygments_lexer": "r",
   "version": "4.3.1"
  },
  "orig_nbformat": 4
 },
 "nbformat": 4,
 "nbformat_minor": 2
}
