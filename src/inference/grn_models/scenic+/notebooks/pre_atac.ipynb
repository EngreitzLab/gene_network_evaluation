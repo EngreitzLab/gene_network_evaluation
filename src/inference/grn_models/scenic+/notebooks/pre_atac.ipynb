{
 "cells": [
  {
   "cell_type": "code",
   "execution_count": 1,
   "metadata": {},
   "outputs": [
    {
     "name": "stdout",
     "output_type": "stream",
     "text": [
      "The history saving thread hit an unexpected error (DatabaseError('database disk image is malformed')).History will not be written to the database.\n"
     ]
    },
    {
     "name": "stderr",
     "output_type": "stream",
     "text": [
      "/cellar/users/aklie/opt/miniconda3/envs/test_scenicplus_dev/lib/python3.11/site-packages/tqdm/auto.py:21: TqdmWarning: IProgress not found. Please update jupyter and ipywidgets. See https://ipywidgets.readthedocs.io/en/stable/user_install.html\n",
      "  from .autonotebook import tqdm as notebook_tqdm\n",
      "2024-05-08 11:27:45,267\tINFO util.py:154 -- Missing packages: ['ipywidgets']. Run `pip install -U ipywidgets`, then restart the notebook server for rich notebook output.\n"
     ]
    }
   ],
   "source": [
    "import os\n",
    "import pickle\n",
    "import pandas as pd\n",
    "import mudata as mu\n",
    "from pycisTopic.cistopic_class import create_cistopic_object\n",
    "from pycisTopic.lda_models import run_cgs_models, evaluate_models\n",
    "from pycisTopic.topic_binarization import binarize_topics\n",
    "from pycisTopic.diff_features import impute_accessibility, normalize_scores, find_highly_variable_features, find_diff_features\n",
    "from pycisTopic.utils import region_names_to_coordinates"
   ]
  },
  {
   "cell_type": "code",
   "execution_count": 19,
   "metadata": {},
   "outputs": [],
   "source": [
    "path_data = \"/cellar/users/aklie/data/datasets/neurips2021_small/annotation/2023_12_05/mdata.h5mu\"\n",
    "cluster_key = \"celltype\"\n",
    "organism = \"human\"\n",
    "n_topics = '2;4;8;16'\n",
    "n_iter = 150\n",
    "alpha = 50\n",
    "alpha_by_topic = True\n",
    "eta = 0.1\n",
    "eta_by_topic = False\n",
    "n_cpu = 4\n",
    "ntop = 3000\n",
    "scale_factor_impute = 1000000\n",
    "scale_factor_normalize = 10000\n",
    "temp_dir = \"/cellar/users/aklie/tmp\"\n",
    "random_state = 1234\n",
    "path_out = \"/cellar/users/aklie/data/datasets/neurips2021_small/analysis/scenic+/2024_05_08\""
   ]
  },
  {
   "cell_type": "code",
   "execution_count": 25,
   "metadata": {},
   "outputs": [
    {
     "name": "stderr",
     "output_type": "stream",
     "text": [
      "/cellar/users/aklie/opt/miniconda3/envs/test_scenicplus_dev/lib/python3.11/site-packages/anndata/_core/anndata.py:522: FutureWarning: The dtype argument is deprecated and will be removed in late 2024.\n",
      "  warnings.warn(\n",
      "/cellar/users/aklie/opt/miniconda3/envs/test_scenicplus_dev/lib/python3.11/site-packages/anndata/_core/anndata.py:522: FutureWarning: The dtype argument is deprecated and will be removed in late 2024.\n",
      "  warnings.warn(\n"
     ]
    },
    {
     "data": {
      "text/plain": [
       "AnnData object with n_obs × n_vars = 123 × 8192\n",
       "    obs: 'atac:pseudotime_order', 'rna:pseudotime_order', 'celltype', 'batch', 'Samplename', 'Site', 'DonorNumber', 'Modality', 'VendorLot', 'DonorID', 'DonorAge', 'DonorBMI', 'DonorBloodType', 'DonorRace', 'Ethnicity', 'DonorGender', 'QCMeds', 'DonorSmoker'\n",
       "    obsm: 'X_lsi', 'X_umap'\n",
       "    layers: 'counts'"
      ]
     },
     "execution_count": 25,
     "metadata": {},
     "output_type": "execute_result"
    }
   ],
   "source": [
    "# Read atac adata\n",
    "adata = mu.read(path_data)\n",
    "del adata.mod['rna']\n",
    "obs = adata.obs.copy()\n",
    "adata = adata.mod['atac'].copy()\n",
    "adata.obs = obs\n",
    "adata"
   ]
  },
  {
   "cell_type": "code",
   "execution_count": 26,
   "metadata": {},
   "outputs": [],
   "source": [
    "# \n",
    "adata.obs[cluster_key] = adata.obs[cluster_key].str.replace(\"/\", \"_\").copy()"
   ]
  },
  {
   "cell_type": "code",
   "execution_count": 27,
   "metadata": {},
   "outputs": [],
   "source": [
    "# \n",
    "if organism == 'human':\n",
    "    path_blacklist = '/cellar/users/aklie/opt/gene_program_evaluation/src/inference/grn_models/scenic+/resources/blacklists/human.bed'\n",
    "elif organism == 'mouse':\n",
    "    path_blacklist = 'resources/blacklists/mouse.bed'"
   ]
  },
  {
   "cell_type": "code",
   "execution_count": 28,
   "metadata": {},
   "outputs": [],
   "source": [
    "# Make first occurences of \"-\" \":\" in var_names if multiple exist\n",
    "if sum(adata.var.index.str.contains(\"-\")) > 0:\n",
    "    adata.var.index = adata.var.index.str.replace(\"-\", \":\", 1)"
   ]
  },
  {
   "cell_type": "code",
   "execution_count": 29,
   "metadata": {},
   "outputs": [
    {
     "name": "stdout",
     "output_type": "stream",
     "text": [
      "2024-05-08 11:31:20,100 cisTopic     INFO     Converting fragment matrix to sparse matrix\n",
      "2024-05-08 11:31:20,116 cisTopic     INFO     Removing blacklisted regions\n",
      "2024-05-08 11:31:20,264 cisTopic     INFO     Creating CistopicObject\n",
      "2024-05-08 11:31:20,283 cisTopic     INFO     Done!\n"
     ]
    }
   ],
   "source": [
    "# Create cisTopic object\n",
    "cistopic_obj = create_cistopic_object(\n",
    "    fragment_matrix=adata.to_df().T,\n",
    "    cell_names=adata.obs.index.values,\n",
    "    region_names=adata.var.index.values,\n",
    "    path_to_blacklist=path_blacklist,\n",
    "    split_pattern=\"_\",\n",
    "    tag_cells=False,\n",
    ")"
   ]
  },
  {
   "cell_type": "code",
   "execution_count": 30,
   "metadata": {},
   "outputs": [],
   "source": [
    "# Add cell metadata\n",
    "cistopic_obj.add_cell_data(obs)"
   ]
  },
  {
   "cell_type": "code",
   "execution_count": 31,
   "metadata": {},
   "outputs": [],
   "source": [
    "# Process n_topics\n",
    "n_topics = n_topics.split(';')\n",
    "n_topics = [int(n) for n in n_topics]"
   ]
  },
  {
   "cell_type": "code",
   "execution_count": 32,
   "metadata": {},
   "outputs": [
    {
     "name": "stderr",
     "output_type": "stream",
     "text": [
      "2024-05-08 11:31:24,683\tINFO worker.py:1724 -- Started a local Ray instance.\n"
     ]
    },
    {
     "name": "stdout",
     "output_type": "stream",
     "text": [
      "\u001b[36m(run_cgs_model pid=3153991)\u001b[0m 2024-05-08 11:31:29,647 cisTopic     INFO     Running model with 4 topics\n",
      "\u001b[36m(run_cgs_model pid=3153989)\u001b[0m 2024-05-08 11:31:33,568 cisTopic     INFO     Model with 2 topics done!\n",
      "\u001b[36m(run_cgs_model pid=3153988)\u001b[0m 2024-05-08 11:31:29,647 cisTopic     INFO     Running model with 8 topics\u001b[32m [repeated 3x across cluster]\u001b[0m\n",
      "\u001b[36m(run_cgs_model pid=3153988)\u001b[0m 2024-05-08 11:31:35,583 cisTopic     INFO     Model with 8 topics done!\u001b[32m [repeated 2x across cluster]\u001b[0m\n"
     ]
    }
   ],
   "source": [
    "# Compute topic models\n",
    "models = run_cgs_models(\n",
    "    cistopic_obj,\n",
    "    n_topics=n_topics,\n",
    "    n_cpu=n_cpu,\n",
    "    n_iter=n_iter,\n",
    "    random_state=random_state,\n",
    "    alpha=alpha,\n",
    "    alpha_by_topic=alpha_by_topic,\n",
    "    eta=eta,\n",
    "    eta_by_topic=eta_by_topic,\n",
    "    save_path=None,\n",
    "    _temp_dir=temp_dir\n",
    ")"
   ]
  },
  {
   "cell_type": "code",
   "execution_count": 33,
   "metadata": {},
   "outputs": [],
   "source": [
    "# Save models object\n",
    "with open(os.path.join(path_out, \"models.pkl\"), 'wb') as f:\n",
    "    pickle.dump(models, f)"
   ]
  },
  {
   "cell_type": "code",
   "execution_count": 34,
   "metadata": {},
   "outputs": [
    {
     "data": {
      "image/png": "[encoded data removed]",
      "text/plain": [
       "<Figure size 640x480 with 1 Axes>"
      ]
     },
     "metadata": {},
     "output_type": "display_data"
    }
   ],
   "source": [
    "# Add model to cistopic object\n",
    "model = evaluate_models(\n",
    "    models,\n",
    "    select_model=None,\n",
    "    return_model=True,\n",
    "    metrics=['Arun_2010','Cao_Juan_2009', 'Minmo_2011', 'loglikelihood'],\n",
    "    plot_metrics=False\n",
    ")\n",
    "cistopic_obj.add_LDA_model(model)"
   ]
  },
  {
   "cell_type": "code",
   "execution_count": 35,
   "metadata": {},
   "outputs": [],
   "source": [
    "# Save the cistopic object\n",
    "pickle.dump(cistopic_obj, open(os.path.join(path_out, \"cistopic_obj.pkl\"), 'wb'))"
   ]
  },
  {
   "cell_type": "code",
   "execution_count": 36,
   "metadata": {},
   "outputs": [
    {
     "data": {
      "text/plain": [
       "<Figure size 640x480 with 0 Axes>"
      ]
     },
     "metadata": {},
     "output_type": "display_data"
    },
    {
     "data": {
      "text/plain": [
       "<Figure size 640x480 with 0 Axes>"
      ]
     },
     "metadata": {},
     "output_type": "display_data"
    }
   ],
   "source": [
    "# Binarize topics using otsu and top\n",
    "region_bin_topics_otsu = binarize_topics(\n",
    "    cistopic_obj, \n",
    "    method='otsu',\n",
    "    plot=False\n",
    ")\n",
    "region_bin_topics_top = binarize_topics(\n",
    "    cistopic_obj, \n",
    "    method='ntop', \n",
    "    ntop=ntop,\n",
    "    plot=False\n",
    ")"
   ]
  },
  {
   "cell_type": "code",
   "execution_count": 37,
   "metadata": {},
   "outputs": [
    {
     "name": "stdout",
     "output_type": "stream",
     "text": [
      "2024-05-08 11:31:54,531 cisTopic     INFO     Imputing region accessibility\n",
      "2024-05-08 11:31:54,532 cisTopic     INFO     Impute region accessibility for regions 0-20000\n",
      "2024-05-08 11:31:54,552 cisTopic     INFO     Done!\n"
     ]
    }
   ],
   "source": [
    "# Impute accessibility by matrix multiplication\n",
    "imputed_acc_obj = impute_accessibility(\n",
    "    cistopic_obj,  # cisTopic object\n",
    "    selected_cells=None,  # certain cells to use for imputation\n",
    "    selected_regions=None,  # certain regions to use for imputation\n",
    "    scale_factor=scale_factor_impute,  # A number to multiply the imputed values for.\n",
    "    project=cistopic_obj.project + \"impute\"  # A string to add to the name of the imputed object.\n",
    ")"
   ]
  },
  {
   "cell_type": "code",
   "execution_count": 38,
   "metadata": {},
   "outputs": [
    {
     "name": "stdout",
     "output_type": "stream",
     "text": [
      "2024-05-08 11:31:55,173 cisTopic     INFO     Normalizing imputed data\n",
      "2024-05-08 11:31:55,196 cisTopic     INFO     Done!\n"
     ]
    }
   ],
   "source": [
    "# Normalize accessibility scores\n",
    "normalized_imputed_acc_obj = normalize_scores(\n",
    "    imputed_acc_obj, \n",
    "    scale_factor=scale_factor_normalize  # Scale factor for cell-level normalization\n",
    ")"
   ]
  },
  {
   "cell_type": "code",
   "execution_count": 39,
   "metadata": {},
   "outputs": [
    {
     "name": "stdout",
     "output_type": "stream",
     "text": [
      "2024-05-08 11:31:55,630 cisTopic     INFO     Calculating mean\n",
      "2024-05-08 11:31:55,633 cisTopic     INFO     Calculating variance\n",
      "2024-05-08 11:31:55,752 cisTopic     INFO     Done!\n"
     ]
    },
    {
     "data": {
      "text/plain": [
       "<Figure size 640x480 with 0 Axes>"
      ]
     },
     "metadata": {},
     "output_type": "display_data"
    }
   ],
   "source": [
    "# Find highly variable regions\n",
    "variable_regions = find_highly_variable_features(\n",
    "    normalized_imputed_acc_obj, \n",
    "    plot=False\n",
    ")"
   ]
  },
  {
   "cell_type": "code",
   "execution_count": 40,
   "metadata": {},
   "outputs": [
    {
     "name": "stdout",
     "output_type": "stream",
     "text": [
      "2024-05-08 11:31:56,141 cisTopic     INFO     Subsetting data for Erythroblast (26 of 123)\n",
      "2024-05-08 11:32:02,053 cisTopic     INFO     Computing p-value for Erythroblast\n",
      "2024-05-08 11:32:05,050 cisTopic     INFO     Computing log2FC for Erythroblast\n",
      "2024-05-08 11:32:07,327 cisTopic     INFO     Erythroblast done!\n",
      "2024-05-08 11:32:07,329 cisTopic     INFO     Subsetting data for HSC (26 of 123)\n",
      "2024-05-08 11:32:07,332 cisTopic     INFO     Computing p-value for HSC\n",
      "2024-05-08 11:32:10,335 cisTopic     INFO     Computing log2FC for HSC\n",
      "2024-05-08 11:32:10,343 cisTopic     INFO     HSC done!\n",
      "2024-05-08 11:32:10,343 cisTopic     INFO     Subsetting data for MK_E prog (24 of 123)\n",
      "2024-05-08 11:32:10,345 cisTopic     INFO     Computing p-value for MK_E prog\n",
      "2024-05-08 11:32:13,338 cisTopic     INFO     Computing log2FC for MK_E prog\n",
      "2024-05-08 11:32:13,350 cisTopic     INFO     MK_E prog done!\n",
      "2024-05-08 11:32:13,351 cisTopic     INFO     Subsetting data for Normoblast (21 of 123)\n",
      "2024-05-08 11:32:13,355 cisTopic     INFO     Computing p-value for Normoblast\n",
      "2024-05-08 11:32:16,420 cisTopic     INFO     Computing log2FC for Normoblast\n",
      "2024-05-08 11:32:16,428 cisTopic     INFO     Normoblast done!\n",
      "2024-05-08 11:32:16,429 cisTopic     INFO     Subsetting data for Proerythroblast (26 of 123)\n",
      "2024-05-08 11:32:16,430 cisTopic     INFO     Computing p-value for Proerythroblast\n",
      "2024-05-08 11:32:19,497 cisTopic     INFO     Computing log2FC for Proerythroblast\n",
      "2024-05-08 11:32:19,509 cisTopic     INFO     Proerythroblast done!\n"
     ]
    }
   ],
   "source": [
    "# Find differentially accessible regions\n",
    "markers = find_diff_features(\n",
    "    cistopic_obj, \n",
    "    imputed_acc_obj, \n",
    "    variable=cluster_key,\n",
    "    var_features=variable_regions, \n",
    "    split_pattern=\"_\"\n",
    ")"
   ]
  },
  {
   "cell_type": "code",
   "execution_count": 41,
   "metadata": {},
   "outputs": [],
   "source": [
    "os.makedirs(os.path.join(path_out, \"region_sets\"), exist_ok = True)\n",
    "os.makedirs(os.path.join(path_out, \"region_sets\", \"Topics_otsu\"), exist_ok = True)\n",
    "os.makedirs(os.path.join(path_out, \"region_sets\", \"Topics_top\"), exist_ok = True)\n",
    "os.makedirs(os.path.join(path_out, \"region_sets\", \"DARs\"), exist_ok = True)"
   ]
  },
  {
   "cell_type": "code",
   "execution_count": 42,
   "metadata": {},
   "outputs": [],
   "source": [
    "for topic in region_bin_topics_otsu:\n",
    "    region_names_to_coordinates(\n",
    "        region_bin_topics_otsu[topic].index\n",
    "    ).sort_values(\n",
    "        [\"Chromosome\", \"Start\", \"End\"]\n",
    "    ).to_csv(\n",
    "        os.path.join(path_out, \"region_sets\", \"Topics_otsu\", f\"{topic}.bed\"),\n",
    "        sep = \"\\t\",\n",
    "        header = False, index = False\n",
    "    )"
   ]
  },
  {
   "cell_type": "code",
   "execution_count": 43,
   "metadata": {},
   "outputs": [],
   "source": [
    "for topic in region_bin_topics_top:\n",
    "    region_names_to_coordinates(\n",
    "        region_bin_topics_top[topic].index\n",
    "    ).sort_values(\n",
    "        [\"Chromosome\", \"Start\", \"End\"]\n",
    "    ).to_csv(\n",
    "        os.path.join(path_out, \"region_sets\", \"Topics_top\", f\"{topic}.bed\"),\n",
    "        sep = \"\\t\",\n",
    "        header = False, index = False\n",
    "    )"
   ]
  },
  {
   "cell_type": "code",
   "execution_count": 44,
   "metadata": {},
   "outputs": [],
   "source": [
    "for cluster in markers:\n",
    "    region_names_to_coordinates(\n",
    "        markers[cluster].index\n",
    "    ).sort_values(\n",
    "        [\"Chromosome\", \"Start\", \"End\"]\n",
    "    ).to_csv(\n",
    "        os.path.join(path_out, \"region_sets\", \"DARs\", f\"{cluster}.bed\"),\n",
    "        sep = \"\\t\",\n",
    "        header = False, index = False\n",
    "    )"
   ]
  },
  {
   "attachments": {},
   "cell_type": "markdown",
   "metadata": {},
   "source": [
    "# DONE!"
   ]
  },
  {
   "attachments": {},
   "cell_type": "markdown",
   "metadata": {},
   "source": [
    "---"
   ]
  }
 ],
 "metadata": {
  "kernelspec": {
   "display_name": "Python 3.11 test_scenicplus_dev",
   "language": "python",
   "name": "test_scenicplus_dev"
  },
  "orig_nbformat": 4
 },
 "nbformat": 4,
 "nbformat_minor": 2
}
