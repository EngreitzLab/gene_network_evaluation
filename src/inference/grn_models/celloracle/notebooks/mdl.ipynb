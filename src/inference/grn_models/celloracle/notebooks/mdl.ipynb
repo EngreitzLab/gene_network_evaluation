{
 "cells": [
  {
   "cell_type": "code",
   "execution_count": 25,
   "metadata": {},
   "outputs": [],
   "source": [
    "import numpy as np\n",
    "import pandas as pd\n",
    "import muon as mu\n",
    "import celloracle as co\n",
    "import os\n",
    "import argparse"
   ]
  },
  {
   "cell_type": "code",
   "execution_count": 33,
   "metadata": {},
   "outputs": [],
   "source": [
    "path_mdata = \"/cellar/users/aklie/data/datasets/neurips2021_small/annotation/2023_12_05/mdata.h5mu\"\n",
    "path_p2g = \"/cellar/users/aklie/data/datasets/neurips2021_small/analysis/celloracle/2024_05_01/processed_peak_file.csv\"\n",
    "path_tfb = \"/cellar/users/aklie/data/datasets/neurips2021_small/analysis/celloracle/2024_05_01/celloracle.tfb.csv\"\n",
    "alpha = 10\n",
    "pthr = 1\n",
    "top_n = None\n",
    "path_out = \"/cellar/users/aklie/data/datasets/neurips2021_small/analysis/celloracle/2024_05_01/grn.csv\""
   ]
  },
  {
   "cell_type": "code",
   "execution_count": null,
   "metadata": {},
   "outputs": [],
   "source": [
    "# Process base GRN\n",
    "p2g = pd.read_csv(path_p2g)\n",
    "tfb = pd.read_csv(path_tfb)\n",
    "if (p2g.shape[0] == 0) or (tfb.shape[0] == 0):\n",
    "    grn = pd.DataFrame(columns=['source', 'target', 'score', 'pval'])\n",
    "    grn.to_csv(path_out, index=False)\n",
    "    exit()\n",
    "tfb['score'] = 1\n",
    "p2g = p2g[['cre', 'gene']]\n",
    "base_grn = pd.merge(\n",
    "    p2g,\n",
    "    tfb\n",
    "    .pivot(index='cre', columns='tf')\n",
    "    .fillna(0)\n",
    "    .droplevel(0, axis=1)\n",
    "    .reset_index()\n",
    ")\n",
    "base_grn = base_grn.rename(columns={'cre': 'peak_id', 'gene': 'gene_short_name'})\n",
    "base_grn['peak_id'] = base_grn['peak_id'].str.replace('-', '_')"
   ]
  },
  {
   "cell_type": "code",
   "execution_count": null,
   "metadata": {},
   "outputs": [],
   "source": [
    "# Init oracle object\n",
    "oracle = co.Oracle()"
   ]
  },
  {
   "cell_type": "code",
   "execution_count": null,
   "metadata": {},
   "outputs": [
    {
     "data": {
      "text/plain": [
       "Oracle object\n",
       "\n",
       "Meta data\n",
       "    celloracle version used for instantiation: 0.16.0\n",
       "    n_cells: 123\n",
       "    n_genes: 512\n",
       "    cluster_name: None\n",
       "    dimensional_reduction_name: None\n",
       "    n_target_genes_in_TFdict: 0 genes\n",
       "    n_regulatory_in_TFdict: 0 genes\n",
       "    n_regulatory_in_both_TFdict_and_scRNA-seq: 0 genes\n",
       "    n_target_genes_both_TFdict_and_scRNA-seq: 0 genes\n",
       "    k_for_knn_imputation: NA\n",
       "Status\n",
       "    Gene expression matrix: Ready\n",
       "    BaseGRN: Not imported\n",
       "    PCA calculation: Not finished\n",
       "    Knn imputation: Not finished\n",
       "    GRN calculation for simulation: Not finished"
      ]
     },
     "execution_count": 6,
     "metadata": {},
     "output_type": "execute_result"
    }
   ],
   "source": [
    "oracle.adata = mu.read(path_mdata)['rna'].copy()\n",
    "oracle"
   ]
  },
  {
   "cell_type": "code",
   "execution_count": null,
   "metadata": {},
   "outputs": [
    {
     "data": {
      "text/plain": [
       "Oracle object\n",
       "\n",
       "Meta data\n",
       "    celloracle version used for instantiation: 0.16.0\n",
       "    n_cells: 123\n",
       "    n_genes: 512\n",
       "    cluster_name: None\n",
       "    dimensional_reduction_name: X_umap\n",
       "    n_target_genes_in_TFdict: 0 genes\n",
       "    n_regulatory_in_TFdict: 0 genes\n",
       "    n_regulatory_in_both_TFdict_and_scRNA-seq: 0 genes\n",
       "    n_target_genes_both_TFdict_and_scRNA-seq: 0 genes\n",
       "    k_for_knn_imputation: NA\n",
       "Status\n",
       "    Gene expression matrix: Ready\n",
       "    BaseGRN: Not imported\n",
       "    PCA calculation: Not finished\n",
       "    Knn imputation: Not finished\n",
       "    GRN calculation for simulation: Not finished"
      ]
     },
     "execution_count": 10,
     "metadata": {},
     "output_type": "execute_result"
    }
   ],
   "source": [
    "oracle.adata.obsm['X_umap'] = np.zeros((oracle.adata.shape[0], 2))\n",
    "oracle.embedding_name = 'X_umap'\n",
    "oracle"
   ]
  },
  {
   "cell_type": "code",
   "execution_count": null,
   "metadata": {},
   "outputs": [],
   "source": [
    "oracle.adata.layers['imputed_count'] = oracle.adata.X"
   ]
  },
  {
   "cell_type": "code",
   "execution_count": null,
   "metadata": {},
   "outputs": [
    {
     "data": {
      "text/plain": [
       "Oracle object\n",
       "\n",
       "Meta data\n",
       "    celloracle version used for instantiation: 0.16.0\n",
       "    n_cells: 123\n",
       "    n_genes: 512\n",
       "    cluster_name: cluster\n",
       "    dimensional_reduction_name: X_umap\n",
       "    n_target_genes_in_TFdict: 0 genes\n",
       "    n_regulatory_in_TFdict: 0 genes\n",
       "    n_regulatory_in_both_TFdict_and_scRNA-seq: 0 genes\n",
       "    n_target_genes_both_TFdict_and_scRNA-seq: 0 genes\n",
       "    k_for_knn_imputation: NA\n",
       "Status\n",
       "    Gene expression matrix: Ready\n",
       "    BaseGRN: Not imported\n",
       "    PCA calculation: Not finished\n",
       "    Knn imputation: Not finished\n",
       "    GRN calculation for simulation: Not finished"
      ]
     },
     "execution_count": 12,
     "metadata": {},
     "output_type": "execute_result"
    }
   ],
   "source": [
    "oracle.adata.obs['cluster'] = 'celltype'\n",
    "oracle.cluster_column_name = 'cluster'\n",
    "oracle"
   ]
  },
  {
   "cell_type": "code",
   "execution_count": null,
   "metadata": {},
   "outputs": [
    {
     "name": "stdout",
     "output_type": "stream",
     "text": [
      "Total number of TF was 25. Although we can go to the GRN calculation with this data, but the TF number is small.\n"
     ]
    }
   ],
   "source": [
    "oracle.pcs = np.zeros((oracle.adata.shape[0], 2))\n",
    "oracle.knn = True\n",
    "oracle.k_knn_imputation = True\n",
    "oracle"
   ]
  },
  {
   "cell_type": "code",
   "execution_count": null,
   "metadata": {},
   "outputs": [
    {
     "name": "stdout",
     "output_type": "stream",
     "text": [
      "TF dict already exists. The old TF dict data was deleted. \n",
      "\n",
      "Total number of TF was 25. Although we can go to the GRN calculation with this data, but the TF number is small.\n"
     ]
    },
    {
     "data": {
      "text/plain": [
       "Oracle object\n",
       "\n",
       "Meta data\n",
       "    celloracle version used for instantiation: 0.16.0\n",
       "    n_cells: 123\n",
       "    n_genes: 512\n",
       "    cluster_name: cluster\n",
       "    dimensional_reduction_name: X_umap\n",
       "    n_target_genes_in_TFdict: 58 genes\n",
       "    n_regulatory_in_TFdict: 25 genes\n",
       "    n_regulatory_in_both_TFdict_and_scRNA-seq: 25 genes\n",
       "    n_target_genes_both_TFdict_and_scRNA-seq: 58 genes\n",
       "    k_for_knn_imputation: True\n",
       "Status\n",
       "    Gene expression matrix: Ready\n",
       "    BaseGRN: Ready\n",
       "    PCA calculation: Done\n",
       "    Knn imputation: Done\n",
       "    GRN calculation for simulation: Not finished"
      ]
     },
     "execution_count": 14,
     "metadata": {},
     "output_type": "execute_result"
    }
   ],
   "source": [
    "oracle.import_TF_data(TF_info_matrix=base_grn)\n",
    "oracle"
   ]
  },
  {
   "cell_type": "code",
   "execution_count": null,
   "metadata": {},
   "outputs": [
    {
     "name": "stdout",
     "output_type": "stream",
     "text": [
      "Modeling GRN...\n"
     ]
    },
    {
     "data": {
      "application/vnd.jupyter.widget-view+json": {
       "model_id": "76be6a82a1a04db5be12b1d4b6a3a3d6",
       "version_major": 2,
       "version_minor": 0
      },
      "text/plain": [
       "  0%|          | 0/1 [00:00<?, ?it/s]"
      ]
     },
     "metadata": {},
     "output_type": "display_data"
    },
    {
     "name": "stdout",
     "output_type": "stream",
     "text": [
      "Modeling Done!\n"
     ]
    }
   ],
   "source": [
    "# Model TF ~ G\n",
    "print('Modeling GRN...')\n",
    "links = oracle.get_links(\n",
    "    cluster_name_for_GRN_unit=\"cluster\",\n",
    "    alpha=alpha,\n",
    "    n_jobs=os.cpu_count(),\n",
    ")\n",
    "print('Modeling Done!')"
   ]
  },
  {
   "cell_type": "code",
   "execution_count": 34,
   "metadata": {},
   "outputs": [
    {
     "ename": "AttributeError",
     "evalue": "'Links' object has no attribute 'shape'",
     "output_type": "error",
     "traceback": [
      "\u001b[0;31m---------------------------------------------------------------------------\u001b[0m",
      "\u001b[0;31mAttributeError\u001b[0m                            Traceback (most recent call last)",
      "Cell \u001b[0;32mIn[34], line 2\u001b[0m\n\u001b[1;32m      1\u001b[0m \u001b[39mif\u001b[39;00m top_n \u001b[39mis\u001b[39;00m \u001b[39mNone\u001b[39;00m:\n\u001b[0;32m----> 2\u001b[0m     top_n \u001b[39m=\u001b[39m links\u001b[39m.\u001b[39;49mshape[\u001b[39m0\u001b[39m]\n",
      "\u001b[0;31mAttributeError\u001b[0m: 'Links' object has no attribute 'shape'"
     ]
    }
   ],
   "source": [
    "if top_n is None:\n",
    "    top_n = links.shape[0]"
   ]
  },
  {
   "cell_type": "code",
   "execution_count": 35,
   "metadata": {},
   "outputs": [
    {
     "data": {
      "text/plain": [
       "<celloracle.network_analysis.links_object.Links at 0x1554ebfd1330>"
      ]
     },
     "execution_count": 35,
     "metadata": {},
     "output_type": "execute_result"
    }
   ],
   "source": [
    "links."
   ]
  },
  {
   "cell_type": "code",
   "execution_count": 36,
   "metadata": {},
   "outputs": [
    {
     "name": "stdout",
     "output_type": "stream",
     "text": [
      "Filtering links...\n",
      "Filtering done!\n"
     ]
    }
   ],
   "source": [
    "print('Filtering links...')\n",
    "links.filter_links(\n",
    "    p=pthr,\n",
    "    weight=\"coef_abs\",\n",
    "    threshold_number=top_n,\n",
    ")\n",
    "print('Filtering done!')"
   ]
  },
  {
   "cell_type": "code",
   "execution_count": 39,
   "metadata": {},
   "outputs": [],
   "source": [
    "# Extract grn\n",
    "grn = links.filtered_links['celltype'].dropna()[['source', 'target', 'coef_mean', 'p']]\n",
    "grn = grn.rename(columns={'coef_mean': 'score', 'p': 'pval'})"
   ]
  },
  {
   "cell_type": "code",
   "execution_count": 40,
   "metadata": {},
   "outputs": [],
   "source": [
    "# Write\n",
    "grn.to_csv(path_out, index=False)"
   ]
  },
  {
   "attachments": {},
   "cell_type": "markdown",
   "metadata": {},
   "source": [
    "# Write command to run"
   ]
  },
  {
   "attachments": {},
   "cell_type": "markdown",
   "metadata": {},
   "source": [
    "```bash\n",
    "python /cellar/users/aklie/opt/gene_program_evaluation/src/inference/grn_models/celloracle/workflow/scripts/mdl.py \\\n",
    "-m /cellar/users/aklie/data/datasets/neurips2021_small/analysis/celloracle/2024_05_01/celloracle.pre.h5mu \\\n",
    "-g /cellar/users/aklie/data/datasets/neurips2021_small/analysis/celloracle/2024_05_01/processed_peak_file.csv \\\n",
    "-t /cellar/users/aklie/data/datasets/neurips2021_small/analysis/celloracle/2024_05_01/celloracle.tfb.csv \\\n",
    "-a 10 \\\n",
    "-p 1 \\\n",
    "-n 10000 \\\n",
    "-o /cellar/users/aklie/data/datasets/neurips2021_small/analysis/celloracle/2024_05_01/grn.csv\n",
    "```"
   ]
  },
  {
   "attachments": {},
   "cell_type": "markdown",
   "metadata": {},
   "source": [
    "# DONE!"
   ]
  },
  {
   "attachments": {},
   "cell_type": "markdown",
   "metadata": {},
   "source": [
    "---"
   ]
  }
 ],
 "metadata": {
  "kernelspec": {
   "display_name": "Python 3.10 test_celloracle",
   "language": "python",
   "name": "test_scenicplus-py310"
  },
  "language_info": {
   "codemirror_mode": {
    "name": "ipython",
    "version": 3
   },
   "file_extension": ".py",
   "mimetype": "text/x-python",
   "name": "python",
   "nbconvert_exporter": "python",
   "pygments_lexer": "ipython3",
   "version": "3.10.8"
  },
  "orig_nbformat": 4
 },
 "nbformat": 4,
 "nbformat_minor": 2
}
