{
 "cells": [
  {
   "cell_type": "code",
   "execution_count": 1,
   "metadata": {},
   "outputs": [
    {
     "name": "stdout",
     "output_type": "stream",
     "text": [
      "The history saving thread hit an unexpected error (DatabaseError('database disk image is malformed')).History will not be written to the database.\n"
     ]
    },
    {
     "name": "stderr",
     "output_type": "stream",
     "text": [
      "/cellar/users/aklie/opt/miniconda3/envs/test_celloracle/lib/python3.10/site-packages/loompy/bus_file.py:68: NumbaDeprecationWarning: \u001b[1mThe 'nopython' keyword argument was not supplied to the 'numba.jit' decorator. The implicit default value for this argument is currently False, but it will be changed to True in Numba 0.59.0. See https://numba.readthedocs.io/en/stable/reference/deprecation.html#deprecation-of-object-mode-fall-back-behaviour-when-using-jit for details.\u001b[0m\n",
      "  def twobit_to_dna(twobit: int, size: int) -> str:\n",
      "/cellar/users/aklie/opt/miniconda3/envs/test_celloracle/lib/python3.10/site-packages/loompy/bus_file.py:85: NumbaDeprecationWarning: \u001b[1mThe 'nopython' keyword argument was not supplied to the 'numba.jit' decorator. The implicit default value for this argument is currently False, but it will be changed to True in Numba 0.59.0. See https://numba.readthedocs.io/en/stable/reference/deprecation.html#deprecation-of-object-mode-fall-back-behaviour-when-using-jit for details.\u001b[0m\n",
      "  def dna_to_twobit(dna: str) -> int:\n",
      "/cellar/users/aklie/opt/miniconda3/envs/test_celloracle/lib/python3.10/site-packages/loompy/bus_file.py:102: NumbaDeprecationWarning: \u001b[1mThe 'nopython' keyword argument was not supplied to the 'numba.jit' decorator. The implicit default value for this argument is currently False, but it will be changed to True in Numba 0.59.0. See https://numba.readthedocs.io/en/stable/reference/deprecation.html#deprecation-of-object-mode-fall-back-behaviour-when-using-jit for details.\u001b[0m\n",
      "  def twobit_1hamming(twobit: int, size: int) -> List[int]:\n",
      "which: no R in (/cellar/users/aklie/.cargo/bin:/cellar/users/aklie/opt/google-cloud-sdk/bin:/cellar/users/aklie/opt/miniconda3/bin:/cellar/users/aklie/opt/miniconda3/condabin:/cellar/users/aklie/opt/gdc-client:/cellar/users/aklie/opt/meme/bin:/cellar/users/aklie/opt/meme/libexec/meme-5.5.0:/cellar/users/aklie/opt/apache-ant-1.10.12/bin:/cellar/users/aklie/opt/deltasvm_script/deltasvm.pl:/cellar/users/aklie/opt/lsgkm-svr/bin:/cellar/users/aklie/opt/gatk-4.2.6.1:/cellar/users/mpagadal/Programs/PRSICE/PRSice.R:/cellar/users/aklie/opt/plink:/cellar/users/aklie/opt/plink2:/cellar/users/aklie/opt/confusion_matrix:/cellar/users/aklie/bin/motif_finding.sh:/cellar/users/aklie/opt/edirect:/cellar/users/aklie/opt/ucsc:/cellar/users/mpagadal/Programs/bcftools-1.11:/cellar/users/aklie/opt/homer/bin:/cellar/users/aklie/opt/Gene2vec/src:/cellar/users/aklie/opt:/cellar/users/aklie/.local/bin:/cellar/users/aklie/opt/cellranger-arc-2.0.2:/cellar/users/aklie/opt/cellranger-atac-2.1.0:/cellar/users/aklie/opt/cellranger-7.1.0:/cellar/users/aklie/opt/ml4gland/basenji/bin:/cm/local/apps/jupyter-submit:/cm/shared/apps/slurm/current/sbin:/cm/shared/apps/slurm/current/bin:/cm/local/apps/environment-modules/4.5.3/bin:/usr/local/bin:/usr/bin:/usr/local/sbin:/usr/sbin:/sbin:/usr/sbin:/cm/local/apps/environment-modules/4.5.3/bin:/opt/dell/srvadmin/bin:/cellar/users/aklie/opt/Mallet-202108/bin:/cellar/users/aklie/.pixi/bin)\n"
     ]
    }
   ],
   "source": [
    "import numpy as np\n",
    "import pandas as pd\n",
    "import muon as mu\n",
    "import scanpy as sc\n",
    "import celloracle as co\n",
    "import os\n",
    "import argparse"
   ]
  },
  {
   "cell_type": "code",
   "execution_count": 3,
   "metadata": {},
   "outputs": [],
   "source": [
    "path_mdata = \"/cellar/users/aklie/data/datasets/neurips2021_small/annotation/2023_12_05/mdata.h5mu\"\n",
    "path_r2g = \"/cellar/users/aklie/data/datasets/neurips2021_small/analysis/celloracle/2024_05_02/r2g.csv\"\n",
    "path_tf2r = \"/cellar/users/aklie/data/datasets/neurips2021_small/analysis/celloracle/2024_05_02/tf2r.csv\"\n",
    "cluster_key = \"celltype\"\n",
    "alpha = 10\n",
    "bagging_number = 20\n",
    "layer = None\n",
    "path_out = \"/cellar/users/aklie/data/datasets/neurips2021_small/analysis/celloracle/2024_05_02/grn.csv\""
   ]
  },
  {
   "cell_type": "code",
   "execution_count": 4,
   "metadata": {},
   "outputs": [],
   "source": [
    "# Process base GRN\n",
    "r2g = pd.read_csv(path_r2g)\n",
    "tfb = pd.read_csv(path_tf2r)\n",
    "if (r2g.shape[0] == 0) or (tfb.shape[0] == 0):\n",
    "    grn = pd.DataFrame(columns=['source', 'target', 'score', 'pval'])\n",
    "    grn.to_csv(path_out, index=False)\n",
    "    exit()\n",
    "tfb['score'] = 1\n",
    "r2g = r2g[['cre', 'gene']]\n",
    "base_grn = pd.merge(\n",
    "    r2g,\n",
    "    tfb\n",
    "    .pivot(index='cre', columns='tf')\n",
    "    .fillna(0)\n",
    "    .droplevel(0, axis=1)\n",
    "    .reset_index()\n",
    ")\n",
    "base_grn = base_grn.rename(columns={'cre': 'peak_id', 'gene': 'gene_short_name'})\n",
    "base_grn['peak_id'] = base_grn['peak_id'].str.replace('-', '_')"
   ]
  },
  {
   "cell_type": "code",
   "execution_count": 5,
   "metadata": {},
   "outputs": [],
   "source": [
    "mdata = mu.read(path_mdata)\n",
    "adata = mdata.mod[\"rna\"].copy()"
   ]
  },
  {
   "cell_type": "code",
   "execution_count": 6,
   "metadata": {},
   "outputs": [],
   "source": [
    "adata.obs[cluster_key] = mdata.obs[cluster_key].copy()"
   ]
  },
  {
   "cell_type": "code",
   "execution_count": 7,
   "metadata": {},
   "outputs": [
    {
     "name": "stdout",
     "output_type": "stream",
     "text": [
      "Could not find layer None. Using log normalized counts for regression.\n"
     ]
    }
   ],
   "source": [
    "if layer in adata.layers:\n",
    "    print(f\"Using data in layer {layer} for regression.\")\n",
    "    adata.X = adata.layers[layer].copy()\n",
    "else:\n",
    "    print(f\"Could not find layer {layer}. Using log normalized counts for regression.\")\n",
    "    adata.X = adata.layers[\"counts\"].copy()\n",
    "    sc.pp.normalize_total(adata, target_sum=1e4)\n",
    "    sc.pp.log1p(adata)"
   ]
  },
  {
   "cell_type": "code",
   "execution_count": 8,
   "metadata": {},
   "outputs": [
    {
     "name": "stdout",
     "output_type": "stream",
     "text": [
      "Building GRN for Erythroblast\n",
      "initiating Net object ...\n",
      "gem_shape: (26, 512)\n",
      "TF info shape: (110, 58)\n",
      "initiation completed.\n"
     ]
    },
    {
     "data": {
      "application/vnd.jupyter.widget-view+json": {
       "model_id": "e4aeabc297bf4cd3ae63ec472006a2e5",
       "version_major": 2,
       "version_minor": 0
      },
      "text/plain": [
       "  0%|          | 0/60 [00:00<?, ?it/s]"
      ]
     },
     "metadata": {},
     "output_type": "display_data"
    },
    {
     "data": {
      "application/vnd.jupyter.widget-view+json": {
       "model_id": "9ee3498173e94a5a98ea7e31696912e2",
       "version_major": 2,
       "version_minor": 0
      },
      "text/plain": [
       "  0%|          | 0/60 [00:00<?, ?it/s]"
      ]
     },
     "metadata": {},
     "output_type": "display_data"
    },
    {
     "name": "stdout",
     "output_type": "stream",
     "text": [
      "Finished building GRN for Erythroblast\n"
     ]
    }
   ],
   "source": [
    "# for every cluster\n",
    "cluster_grns = {}\n",
    "for cluster in adata.obs[cluster_key].cat.categories:\n",
    "    print(f\"Building GRN for {cluster}\")\n",
    "    adata_sub = adata[adata.obs[cluster_key] == cluster].copy()\n",
    "    net = co.Net(\n",
    "        gene_expression_matrix=adata_sub.to_df(), # Input gene expression matrix as data frame\n",
    "        TFinfo_matrix=base_grn, # Input base GRN\n",
    "        verbose=True\n",
    "    )\n",
    "    net.fit_All_genes(\n",
    "        bagging_number=bagging_number,\n",
    "        alpha=alpha,\n",
    "        verbose=True\n",
    "    )\n",
    "    net.updateLinkList(verbose=True)\n",
    "    inference_result = net.linkList.copy()\n",
    "    cluster_grns[cluster] = inference_result\n",
    "    print(f\"Finished building GRN for {cluster}\")\n",
    "    break"
   ]
  },
  {
   "cell_type": "code",
   "execution_count": 98,
   "metadata": {},
   "outputs": [
    {
     "data": {
      "text/html": [
       "<div>\n",
       "<style scoped>\n",
       "    .dataframe tbody tr th:only-of-type {\n",
       "        vertical-align: middle;\n",
       "    }\n",
       "\n",
       "    .dataframe tbody tr th {\n",
       "        vertical-align: top;\n",
       "    }\n",
       "\n",
       "    .dataframe thead th {\n",
       "        text-align: right;\n",
       "    }\n",
       "</style>\n",
       "<table border=\"1\" class=\"dataframe\">\n",
       "  <thead>\n",
       "    <tr style=\"text-align: right;\">\n",
       "      <th></th>\n",
       "      <th>source</th>\n",
       "      <th>target</th>\n",
       "      <th>coef_mean</th>\n",
       "      <th>coef_abs</th>\n",
       "      <th>p</th>\n",
       "      <th>-logp</th>\n",
       "      <th>cluster</th>\n",
       "    </tr>\n",
       "  </thead>\n",
       "  <tbody>\n",
       "    <tr>\n",
       "      <th>0</th>\n",
       "      <td>E2F2</td>\n",
       "      <td>ARID5B</td>\n",
       "      <td>-0.080554</td>\n",
       "      <td>0.080554</td>\n",
       "      <td>0.006691</td>\n",
       "      <td>2.174495</td>\n",
       "      <td>Erythroblast</td>\n",
       "    </tr>\n",
       "    <tr>\n",
       "      <th>1</th>\n",
       "      <td>MYEF2</td>\n",
       "      <td>ARID5B</td>\n",
       "      <td>0.000000</td>\n",
       "      <td>0.000000</td>\n",
       "      <td>NaN</td>\n",
       "      <td>-0.000000</td>\n",
       "      <td>Erythroblast</td>\n",
       "    </tr>\n",
       "    <tr>\n",
       "      <th>2</th>\n",
       "      <td>TCF7L2</td>\n",
       "      <td>ARID5B</td>\n",
       "      <td>-0.006850</td>\n",
       "      <td>0.006850</td>\n",
       "      <td>0.356905</td>\n",
       "      <td>0.447447</td>\n",
       "      <td>Erythroblast</td>\n",
       "    </tr>\n",
       "    <tr>\n",
       "      <th>3</th>\n",
       "      <td>KLF6</td>\n",
       "      <td>ARID5B</td>\n",
       "      <td>-0.043443</td>\n",
       "      <td>0.043443</td>\n",
       "      <td>0.014623</td>\n",
       "      <td>1.834968</td>\n",
       "      <td>Erythroblast</td>\n",
       "    </tr>\n",
       "    <tr>\n",
       "      <th>4</th>\n",
       "      <td>SP4</td>\n",
       "      <td>ARID5B</td>\n",
       "      <td>0.169180</td>\n",
       "      <td>0.169180</td>\n",
       "      <td>0.001314</td>\n",
       "      <td>2.881531</td>\n",
       "      <td>Erythroblast</td>\n",
       "    </tr>\n",
       "    <tr>\n",
       "      <th>...</th>\n",
       "      <td>...</td>\n",
       "      <td>...</td>\n",
       "      <td>...</td>\n",
       "      <td>...</td>\n",
       "      <td>...</td>\n",
       "      <td>...</td>\n",
       "      <td>...</td>\n",
       "    </tr>\n",
       "    <tr>\n",
       "      <th>350</th>\n",
       "      <td>TCF7L2</td>\n",
       "      <td>ZSWIM5</td>\n",
       "      <td>-0.031369</td>\n",
       "      <td>0.031369</td>\n",
       "      <td>0.005940</td>\n",
       "      <td>2.226237</td>\n",
       "      <td>Proerythroblast</td>\n",
       "    </tr>\n",
       "    <tr>\n",
       "      <th>351</th>\n",
       "      <td>BCL11B</td>\n",
       "      <td>ZSWIM5</td>\n",
       "      <td>-0.096584</td>\n",
       "      <td>0.096584</td>\n",
       "      <td>0.001089</td>\n",
       "      <td>2.962793</td>\n",
       "      <td>Proerythroblast</td>\n",
       "    </tr>\n",
       "    <tr>\n",
       "      <th>352</th>\n",
       "      <td>MAFG</td>\n",
       "      <td>ZSWIM5</td>\n",
       "      <td>-0.023792</td>\n",
       "      <td>0.023792</td>\n",
       "      <td>0.259280</td>\n",
       "      <td>0.586231</td>\n",
       "      <td>Proerythroblast</td>\n",
       "    </tr>\n",
       "    <tr>\n",
       "      <th>353</th>\n",
       "      <td>TAL1</td>\n",
       "      <td>ZSWIM5</td>\n",
       "      <td>0.223483</td>\n",
       "      <td>0.223483</td>\n",
       "      <td>0.000116</td>\n",
       "      <td>3.934154</td>\n",
       "      <td>Proerythroblast</td>\n",
       "    </tr>\n",
       "    <tr>\n",
       "      <th>354</th>\n",
       "      <td>ERG</td>\n",
       "      <td>ZSWIM5</td>\n",
       "      <td>-0.072933</td>\n",
       "      <td>0.072933</td>\n",
       "      <td>0.007612</td>\n",
       "      <td>2.118481</td>\n",
       "      <td>Proerythroblast</td>\n",
       "    </tr>\n",
       "  </tbody>\n",
       "</table>\n",
       "<p>1775 rows × 7 columns</p>\n",
       "</div>"
      ],
      "text/plain": [
       "     source  target  coef_mean  coef_abs         p     -logp          cluster\n",
       "0      E2F2  ARID5B  -0.080554  0.080554  0.006691  2.174495     Erythroblast\n",
       "1     MYEF2  ARID5B   0.000000  0.000000       NaN -0.000000     Erythroblast\n",
       "2    TCF7L2  ARID5B  -0.006850  0.006850  0.356905  0.447447     Erythroblast\n",
       "3      KLF6  ARID5B  -0.043443  0.043443  0.014623  1.834968     Erythroblast\n",
       "4       SP4  ARID5B   0.169180  0.169180  0.001314  2.881531     Erythroblast\n",
       "..      ...     ...        ...       ...       ...       ...              ...\n",
       "350  TCF7L2  ZSWIM5  -0.031369  0.031369  0.005940  2.226237  Proerythroblast\n",
       "351  BCL11B  ZSWIM5  -0.096584  0.096584  0.001089  2.962793  Proerythroblast\n",
       "352    MAFG  ZSWIM5  -0.023792  0.023792  0.259280  0.586231  Proerythroblast\n",
       "353    TAL1  ZSWIM5   0.223483  0.223483  0.000116  3.934154  Proerythroblast\n",
       "354     ERG  ZSWIM5  -0.072933  0.072933  0.007612  2.118481  Proerythroblast\n",
       "\n",
       "[1775 rows x 7 columns]"
      ]
     },
     "execution_count": 98,
     "metadata": {},
     "output_type": "execute_result"
    }
   ],
   "source": [
    "# Make a pandas dataframe with new column for cluster\n",
    "grn = pd.concat([v.assign(cluster=k) for k, v in cluster_grns.items()])\n",
    "grn"
   ]
  },
  {
   "cell_type": "code",
   "execution_count": null,
   "metadata": {},
   "outputs": [],
   "source": []
  },
  {
   "cell_type": "code",
   "execution_count": 100,
   "metadata": {},
   "outputs": [],
   "source": [
    "grn = grn.dropna()[['source', 'target', 'coef_mean', 'p']]\n",
    "grn = grn.rename(columns={'coef_mean': 'score', 'p': 'pval'})"
   ]
  },
  {
   "cell_type": "code",
   "execution_count": 102,
   "metadata": {},
   "outputs": [],
   "source": [
    "grn = grn.sort_values(['source', 'score'], ascending=[True, False])"
   ]
  },
  {
   "cell_type": "code",
   "execution_count": 104,
   "metadata": {},
   "outputs": [],
   "source": [
    "# Write\n",
    "grn.to_csv(path_out, index=False)"
   ]
  },
  {
   "attachments": {},
   "cell_type": "markdown",
   "metadata": {},
   "source": [
    "# Write command to run"
   ]
  },
  {
   "attachments": {},
   "cell_type": "markdown",
   "metadata": {},
   "source": [
    "```bash\n",
    "python /cellar/users/aklie/opt/gene_program_evaluation/src/inference/grn_models/celloracle/workflow/scripts/grn.py \\\n",
    "-d /cellar/users/aklie/data/datasets/neurips2021_small/annotation/2023_12_05/mdata.h5mu \\\n",
    "-r /cellar/users/aklie/data/datasets/neurips2021_small/analysis/celloracle/2024_05_01/r2g.csv \\\n",
    "-t /cellar/users/aklie/data/datasets/neurips2021_small/analysis/celloracle/2024_05_01/tf2r.csv \\\n",
    "-c celltype \\\n",
    "-a 10 \\\n",
    "-b 20 \\\n",
    "-o /cellar/users/aklie/data/datasets/neurips2021_small/analysis/celloracle/2024_05_01/grn.csv\n",
    "```"
   ]
  },
  {
   "attachments": {},
   "cell_type": "markdown",
   "metadata": {},
   "source": [
    "# DONE!"
   ]
  },
  {
   "attachments": {},
   "cell_type": "markdown",
   "metadata": {},
   "source": [
    "---"
   ]
  }
 ],
 "metadata": {
  "kernelspec": {
   "display_name": "Python 3.10 test_celloracle",
   "language": "python",
   "name": "test_scenicplus-py310"
  },
  "language_info": {
   "codemirror_mode": {
    "name": "ipython",
    "version": 3
   },
   "file_extension": ".py",
   "mimetype": "text/x-python",
   "name": "python",
   "nbconvert_exporter": "python",
   "pygments_lexer": "ipython3",
   "version": "3.10.8"
  },
  "orig_nbformat": 4
 },
 "nbformat": 4,
 "nbformat_minor": 2
}
