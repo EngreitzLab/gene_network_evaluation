{
 "cells": [
  {
   "cell_type": "code",
   "execution_count": 1,
   "metadata": {},
   "outputs": [
    {
     "name": "stdout",
     "output_type": "stream",
     "text": [
      "The history saving thread hit an unexpected error (DatabaseError('database disk image is malformed')).History will not be written to the database.\n"
     ]
    },
    {
     "name": "stderr",
     "output_type": "stream",
     "text": [
      "/cellar/users/aklie/opt/miniconda3/envs/test_celloracle/lib/python3.10/site-packages/loompy/bus_file.py:68: NumbaDeprecationWarning: \u001b[1mThe 'nopython' keyword argument was not supplied to the 'numba.jit' decorator. The implicit default value for this argument is currently False, but it will be changed to True in Numba 0.59.0. See https://numba.readthedocs.io/en/stable/reference/deprecation.html#deprecation-of-object-mode-fall-back-behaviour-when-using-jit for details.\u001b[0m\n",
      "  def twobit_to_dna(twobit: int, size: int) -> str:\n",
      "/cellar/users/aklie/opt/miniconda3/envs/test_celloracle/lib/python3.10/site-packages/loompy/bus_file.py:85: NumbaDeprecationWarning: \u001b[1mThe 'nopython' keyword argument was not supplied to the 'numba.jit' decorator. The implicit default value for this argument is currently False, but it will be changed to True in Numba 0.59.0. See https://numba.readthedocs.io/en/stable/reference/deprecation.html#deprecation-of-object-mode-fall-back-behaviour-when-using-jit for details.\u001b[0m\n",
      "  def dna_to_twobit(dna: str) -> int:\n",
      "/cellar/users/aklie/opt/miniconda3/envs/test_celloracle/lib/python3.10/site-packages/loompy/bus_file.py:102: NumbaDeprecationWarning: \u001b[1mThe 'nopython' keyword argument was not supplied to the 'numba.jit' decorator. The implicit default value for this argument is currently False, but it will be changed to True in Numba 0.59.0. See https://numba.readthedocs.io/en/stable/reference/deprecation.html#deprecation-of-object-mode-fall-back-behaviour-when-using-jit for details.\u001b[0m\n",
      "  def twobit_1hamming(twobit: int, size: int) -> List[int]:\n",
      "which: no R in (/cellar/users/aklie/.cargo/bin:/cellar/users/aklie/opt/google-cloud-sdk/bin:/cellar/users/aklie/opt/miniconda3/bin:/cellar/users/aklie/opt/miniconda3/condabin:/cellar/users/aklie/opt/gdc-client:/cellar/users/aklie/opt/meme/bin:/cellar/users/aklie/opt/meme/libexec/meme-5.5.0:/cellar/users/aklie/opt/apache-ant-1.10.12/bin:/cellar/users/aklie/opt/deltasvm_script/deltasvm.pl:/cellar/users/aklie/opt/lsgkm-svr/bin:/cellar/users/aklie/opt/gatk-4.2.6.1:/cellar/users/mpagadal/Programs/PRSICE/PRSice.R:/cellar/users/aklie/opt/plink:/cellar/users/aklie/opt/plink2:/cellar/users/aklie/opt/confusion_matrix:/cellar/users/aklie/bin/motif_finding.sh:/cellar/users/aklie/opt/edirect:/cellar/users/aklie/opt/ucsc:/cellar/users/mpagadal/Programs/bcftools-1.11:/cellar/users/aklie/opt/homer/bin:/cellar/users/aklie/opt/Gene2vec/src:/cellar/users/aklie/opt:/cellar/users/aklie/.local/bin:/cellar/users/aklie/opt/cellranger-arc-2.0.2:/cellar/users/aklie/opt/cellranger-atac-2.1.0:/cellar/users/aklie/opt/cellranger-7.1.0:/cellar/users/aklie/opt/ml4gland/basenji/bin:/cm/local/apps/jupyter-submit:/cm/shared/apps/slurm/current/sbin:/cm/shared/apps/slurm/current/bin:/cm/local/apps/environment-modules/4.5.3/bin:/usr/local/bin:/usr/bin:/usr/local/sbin:/usr/sbin:/sbin:/usr/sbin:/cm/local/apps/environment-modules/4.5.3/bin:/opt/dell/srvadmin/bin:/cellar/users/aklie/opt/Mallet-202108/bin:/cellar/users/aklie/.pixi/bin)\n"
     ]
    }
   ],
   "source": [
    "import pandas as pd\n",
    "import numpy as np\n",
    "import os\n",
    "import celloracle as co\n",
    "from celloracle import motif_analysis as ma\n",
    "from genomepy import Genome, install_genome, config\n",
    "from gimmemotifs.motif import default_motifs\n",
    "import mudata as mu\n",
    "import argparse"
   ]
  },
  {
   "cell_type": "code",
   "execution_count": null,
   "metadata": {},
   "outputs": [],
   "source": [
    "gdir = \"/cellar/users/aklie/opt/gene_program_evaluation/src/inference/grn_models/celloracle/resources/genomes\""
   ]
  },
  {
   "cell_type": "code",
   "execution_count": 2,
   "metadata": {},
   "outputs": [],
   "source": [
    "path_data = \"/cellar/users/aklie/data/datasets/neurips2021_small/annotation/2023_12_05/mdata.h5mu\"\n",
    "path_p2g = \"/cellar/users/aklie/data/datasets/neurips2021_small/analysis/celloracle/2024_05_01/processed_peak_file.csv\"\n",
    "organism = \"human\"\n",
    "fpr = 0.02\n",
    "blen = 200\n",
    "tfb_thr = 10\n",
    "path_out =  \"/cellar/users/aklie/data/datasets/neurips2021_small/analysis/celloracle/2024_05_01/celloracle.tfb.csv\""
   ]
  },
  {
   "cell_type": "code",
   "execution_count": 3,
   "metadata": {},
   "outputs": [],
   "source": [
    "# Determine genome\n",
    "if organism == 'human':\n",
    "    genome = 'hg38'\n",
    "elif organism == 'mouse':\n",
    "    genome = 'mm10'"
   ]
  },
  {
   "cell_type": "code",
   "execution_count": 8,
   "metadata": {},
   "outputs": [],
   "source": [
    "#install_genome(name=genome, genomes_dir=gdir, provider=\"UCSC\")"
   ]
  },
  {
   "cell_type": "code",
   "execution_count": 9,
   "metadata": {},
   "outputs": [],
   "source": [
    "# Load annotated peak data.\n",
    "peaks = pd.read_csv(path_p2g)\n",
    "if peaks.shape[0] == 0:\n",
    "    tfb = pd.DataFrame(columns=['cre', 'tf', 'score'])\n",
    "    tfb.to_csv(path_out, index=False)\n",
    "    exit()\n",
    "peaks['cre'] = peaks['cre'].str.replace('-', '_')"
   ]
  },
  {
   "cell_type": "code",
   "execution_count": 10,
   "metadata": {},
   "outputs": [],
   "source": [
    "def decompose_chrstr(peak_str):\n",
    "    \"\"\"\n",
    "    Args:\n",
    "        peak_str (str): peak_str. e.g. 'chr1_3094484_3095479'\n",
    "\n",
    "    Returns:\n",
    "        tuple: chromosome name, start position, end position\n",
    "    \"\"\"\n",
    "\n",
    "    *chr_, start, end = peak_str.split(\"_\")\n",
    "    chr_ = \"_\".join(chr_)\n",
    "    return chr_, start, end\n",
    "\n",
    "def check_peak_format(peaks_df, gname, gdir):\n",
    "    \"\"\"\n",
    "    Check peak format.\n",
    "     (1) Check chromosome name.\n",
    "     (2) Check peak size (length) and remove sort DNA sequences (<5bp)\n",
    "\n",
    "    \"\"\"\n",
    "\n",
    "    df = peaks_df.copy()\n",
    "    df = df.rename(columns={'cre': 'peak_id', 'gene': 'gene_short_name'})\n",
    "    n_peaks_before = df.shape[0]\n",
    "\n",
    "    # Decompose peaks and make df\n",
    "    decomposed = [decompose_chrstr(peak_str) for peak_str in df[\"peak_id\"]]\n",
    "    df_decomposed = pd.DataFrame(np.array(decomposed), index=peaks_df.index)\n",
    "    df_decomposed.columns = [\"chr\", \"start\", \"end\"]\n",
    "    df_decomposed[\"start\"] = df_decomposed[\"start\"].astype(int)\n",
    "    df_decomposed[\"end\"] = df_decomposed[\"end\"].astype(int)\n",
    "\n",
    "    # Load genome data\n",
    "    genome_data = Genome(gname, genomes_dir=gdir)\n",
    "    all_chr_list = list(genome_data.keys())\n",
    "\n",
    "    # DNA length check\n",
    "    lengths = np.abs(df_decomposed[\"end\"] - df_decomposed[\"start\"])\n",
    "\n",
    "    # Filter peaks with invalid chromosome name\n",
    "    n_threshold = 5\n",
    "    df = df[(lengths >= n_threshold) & df_decomposed.chr.isin(all_chr_list)]\n",
    "\n",
    "    # DNA length check\n",
    "    lengths = np.abs(df_decomposed[\"end\"] - df_decomposed[\"start\"])\n",
    "\n",
    "    # Data counting\n",
    "    n_invalid_length = len(lengths[lengths < n_threshold])\n",
    "    n_peaks_invalid_chr = n_peaks_before - df_decomposed.chr.isin(all_chr_list).sum()\n",
    "    n_peaks_after = df.shape[0]\n",
    "\n",
    "    # Print\n",
    "    print(\"Peaks before filtering: \", n_peaks_before)\n",
    "    print(\"Peaks with invalid chr_name: \", n_peaks_invalid_chr)\n",
    "    print(\"Peaks with invalid length: \", n_invalid_length)\n",
    "    print(\"Peaks after filtering: \", n_peaks_after)\n",
    "\n",
    "    return df"
   ]
  },
  {
   "cell_type": "code",
   "execution_count": 11,
   "metadata": {},
   "outputs": [
    {
     "name": "stdout",
     "output_type": "stream",
     "text": [
      "Peaks before filtering:  126\n",
      "Peaks with invalid chr_name:  0\n",
      "Peaks with invalid length:  0\n",
      "Peaks after filtering:  126\n"
     ]
    },
    {
     "data": {
      "text/html": [
       "<div>\n",
       "<style scoped>\n",
       "    .dataframe tbody tr th:only-of-type {\n",
       "        vertical-align: middle;\n",
       "    }\n",
       "\n",
       "    .dataframe tbody tr th {\n",
       "        vertical-align: top;\n",
       "    }\n",
       "\n",
       "    .dataframe thead th {\n",
       "        text-align: right;\n",
       "    }\n",
       "</style>\n",
       "<table border=\"1\" class=\"dataframe\">\n",
       "  <thead>\n",
       "    <tr style=\"text-align: right;\">\n",
       "      <th></th>\n",
       "      <th>peak_id</th>\n",
       "      <th>gene_short_name</th>\n",
       "      <th>score</th>\n",
       "    </tr>\n",
       "  </thead>\n",
       "  <tbody>\n",
       "    <tr>\n",
       "      <th>0</th>\n",
       "      <td>chr1_107964928_107965436</td>\n",
       "      <td>VAV3</td>\n",
       "      <td>1.000000</td>\n",
       "    </tr>\n",
       "    <tr>\n",
       "      <th>1</th>\n",
       "      <td>chr1_167630023_167630677</td>\n",
       "      <td>RCSD1</td>\n",
       "      <td>1.000000</td>\n",
       "    </tr>\n",
       "    <tr>\n",
       "      <th>2</th>\n",
       "      <td>chr1_224433432_224434024</td>\n",
       "      <td>WDR26</td>\n",
       "      <td>1.000000</td>\n",
       "    </tr>\n",
       "    <tr>\n",
       "      <th>3</th>\n",
       "      <td>chr1_231626280_231627069</td>\n",
       "      <td>DISC1</td>\n",
       "      <td>1.000000</td>\n",
       "    </tr>\n",
       "    <tr>\n",
       "      <th>4</th>\n",
       "      <td>chr1_44785971_44786863</td>\n",
       "      <td>ZSWIM5</td>\n",
       "      <td>0.629032</td>\n",
       "    </tr>\n",
       "    <tr>\n",
       "      <th>...</th>\n",
       "      <td>...</td>\n",
       "      <td>...</td>\n",
       "      <td>...</td>\n",
       "    </tr>\n",
       "    <tr>\n",
       "      <th>121</th>\n",
       "      <td>chr8_66712260_66713148</td>\n",
       "      <td>SGK3</td>\n",
       "      <td>1.000000</td>\n",
       "    </tr>\n",
       "    <tr>\n",
       "      <th>122</th>\n",
       "      <td>chr8_66774787_66775705</td>\n",
       "      <td>SGK3</td>\n",
       "      <td>1.000000</td>\n",
       "    </tr>\n",
       "    <tr>\n",
       "      <th>123</th>\n",
       "      <td>chrX_134796760_134797638</td>\n",
       "      <td>FAM122B</td>\n",
       "      <td>1.000000</td>\n",
       "    </tr>\n",
       "    <tr>\n",
       "      <th>124</th>\n",
       "      <td>chrX_134806776_134807626</td>\n",
       "      <td>FAM122B</td>\n",
       "      <td>0.460431</td>\n",
       "    </tr>\n",
       "    <tr>\n",
       "      <th>125</th>\n",
       "      <td>chrX_7147777_7148690</td>\n",
       "      <td>PUDP</td>\n",
       "      <td>1.000000</td>\n",
       "    </tr>\n",
       "  </tbody>\n",
       "</table>\n",
       "<p>126 rows × 3 columns</p>\n",
       "</div>"
      ],
      "text/plain": [
       "                      peak_id gene_short_name     score\n",
       "0    chr1_107964928_107965436            VAV3  1.000000\n",
       "1    chr1_167630023_167630677           RCSD1  1.000000\n",
       "2    chr1_224433432_224434024           WDR26  1.000000\n",
       "3    chr1_231626280_231627069           DISC1  1.000000\n",
       "4      chr1_44785971_44786863          ZSWIM5  0.629032\n",
       "..                        ...             ...       ...\n",
       "121    chr8_66712260_66713148            SGK3  1.000000\n",
       "122    chr8_66774787_66775705            SGK3  1.000000\n",
       "123  chrX_134796760_134797638         FAM122B  1.000000\n",
       "124  chrX_134806776_134807626         FAM122B  0.460431\n",
       "125      chrX_7147777_7148690            PUDP  1.000000\n",
       "\n",
       "[126 rows x 3 columns]"
      ]
     },
     "execution_count": 11,
     "metadata": {},
     "output_type": "execute_result"
    }
   ],
   "source": [
    "peaks = check_peak_format(peaks, gname=genome, gdir=gdir)\n",
    "peaks"
   ]
  },
  {
   "cell_type": "code",
   "execution_count": 12,
   "metadata": {},
   "outputs": [],
   "source": [
    "# Instantiate TFinfo object\n",
    "tfi = ma.TFinfo(\n",
    "    peak_data_frame=peaks,\n",
    "    ref_genome=genome,\n",
    "    genomes_dir=gdir,\n",
    ")"
   ]
  },
  {
   "cell_type": "code",
   "execution_count": 13,
   "metadata": {},
   "outputs": [],
   "source": [
    "# Filter motifs based on gene expression\n",
    "motifs = default_motifs()\n",
    "dic_motif2TFs = ma.tfinfo_core._get_dic_motif2TFs(\n",
    "    species='Human',\n",
    "    motifs=motifs,\n",
    "    TF_evidence_level='direct_and_indirect',\n",
    "    formatting='auto'\n",
    ")\n",
    "genes = mu.read(os.path.join(path_data, 'rna')).var.index.values.astype('U')\n",
    "m_keys = []\n",
    "for m in dic_motif2TFs:\n",
    "    tfs = np.unique(dic_motif2TFs[m]).astype('U')\n",
    "    if np.any(np.isin(tfs, genes)):\n",
    "        m_keys.append(m)\n",
    "motifs = [m for m in motifs if m.id in m_keys]"
   ]
  },
  {
   "cell_type": "code",
   "execution_count": 16,
   "metadata": {},
   "outputs": [],
   "source": [
    "# Update config\n",
    "config.config.config['genomes_dir'] = gdir"
   ]
  },
  {
   "cell_type": "code",
   "execution_count": 17,
   "metadata": {},
   "outputs": [
    {
     "name": "stdout",
     "output_type": "stream",
     "text": [
      "Checking your motifs... Motifs format looks good. \n",
      "\n",
      "Initiating scanner... \n",
      "\n",
      "Calculating FPR-based threshold. This step may take substantial time when you load a new ref-genome. It will be done quicker on the second time. \n",
      "\n",
      "Motif scan started .. It may take long time.\n",
      "\n"
     ]
    },
    {
     "data": {
      "application/vnd.jupyter.widget-view+json": {
       "model_id": "721fde181ad6415387514a5aa5d4e599",
       "version_major": 2,
       "version_minor": 0
      },
      "text/plain": [
       "scanning:   0%|          | 0/125 [00:00<?, ? sequences/s]"
      ]
     },
     "metadata": {},
     "output_type": "display_data"
    }
   ],
   "source": [
    "# Scan\n",
    "tfi.scan(\n",
    "    background_length=blen,\n",
    "    fpr=fpr,\n",
    "    motifs=motifs,  # Use filtered motifs\n",
    "    verbose=True,\n",
    "    n_cpus=os.cpu_count(),\n",
    ")"
   ]
  },
  {
   "cell_type": "code",
   "execution_count": 18,
   "metadata": {},
   "outputs": [
    {
     "name": "stdout",
     "output_type": "stream",
     "text": [
      "Filtering finished: 4410 -> 906\n"
     ]
    }
   ],
   "source": [
    "# Do filtering\n",
    "tfi.filter_motifs_by_score(threshold=tfb_thr)"
   ]
  },
  {
   "cell_type": "code",
   "execution_count": 19,
   "metadata": {},
   "outputs": [],
   "source": [
    "# Extract filtered TF predictions\n",
    "df = tfi.scanned_filtered[[\"seqname\", \"motif_id\", \"score\"]].copy()\n",
    "df['motif_values'] = df['motif_id'].map(tfi.dic_motif2TFs)\n",
    "df = df.explode('motif_values')\n",
    "df = df[df['motif_values'].isin(genes)]  # Filter TFs not in GEX\n",
    "df = df.groupby(['seqname', 'motif_values'])['score'].max().reset_index()\n",
    "df = df[['seqname', 'motif_values', 'score']].dropna()\n",
    "df = df.reset_index(drop=True).rename(columns={'seqname': 'cre', 'motif_values': 'tf'})\n",
    "df['cre'] = df['cre'].str.replace('_', '-')\n",
    "df = df.sort_values(['cre', 'score'], ascending=[True, False])"
   ]
  },
  {
   "cell_type": "code",
   "execution_count": 21,
   "metadata": {},
   "outputs": [],
   "source": [
    "df.to_csv(path_out, index=False)"
   ]
  },
  {
   "attachments": {},
   "cell_type": "markdown",
   "metadata": {},
   "source": [
    "# Write command to run"
   ]
  },
  {
   "attachments": {},
   "cell_type": "markdown",
   "metadata": {},
   "source": [
    "```bash\n",
    "python /cellar/users/aklie/opt/gene_program_evaluation/src/inference/grn_models/celloracle/workflow/scripts/TF2r.py \\\n",
    "-d /cellar/users/aklie/data/datasets/neurips2021_small/annotation/2023_12_05/mdata.h5mu \\\n",
    "-p /cellar/users/aklie/data/datasets/neurips2021_small/analysis/celloracle/2024_05_01/processed_peak_file.csv \\\n",
    "-o human \\\n",
    "-f 0.02 \\\n",
    "-b 200 \\\n",
    "-t 10 \\\n",
    "-q /cellar/users/aklie/data/datasets/neurips2021_small/analysis/celloracle/2024_05_01/celloracle.tfb.csv\n",
    "```"
   ]
  },
  {
   "attachments": {},
   "cell_type": "markdown",
   "metadata": {},
   "source": [
    "# DONE!"
   ]
  },
  {
   "attachments": {},
   "cell_type": "markdown",
   "metadata": {},
   "source": [
    "---"
   ]
  }
 ],
 "metadata": {
  "kernelspec": {
   "display_name": "Python 3.10 test_celloracle",
   "language": "python",
   "name": "test_scenicplus-py310"
  },
  "language_info": {
   "codemirror_mode": {
    "name": "ipython",
    "version": 3
   },
   "file_extension": ".py",
   "mimetype": "text/x-python",
   "name": "python",
   "nbconvert_exporter": "python",
   "pygments_lexer": "ipython3",
   "version": "3.10.8"
  },
  "orig_nbformat": 4
 },
 "nbformat": 4,
 "nbformat_minor": 2
}
