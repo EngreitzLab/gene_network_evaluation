{
 "cells": [
  {
   "cell_type": "code",
   "execution_count": 8,
   "metadata": {},
   "outputs": [],
   "source": [
    "import subprocess\n",
    "\n",
    "def capture_help_output(script_path):\n",
    "    \"\"\" Run the script with --help and capture the output. \"\"\"\n",
    "    result = subprocess.run(['/cellar/users/aklie/opt/miniconda3/envs/test_celloracle/bin/python', script_path, \"--help\"], stdout=subprocess.PIPE)\n",
    "    return result.stdout.decode(\"utf-8\")\n",
    "\n",
    "def format_as_markdown(help_text, script_name):\n",
    "    \"\"\" Convert help output to Markdown format. \"\"\"\n",
    "    script_name = script_name.split(\"/\")[-1]\n",
    "    md_content = f\"## Usage for {script_name}\\n\"\n",
    "    md_content += \"```\\n\"\n",
    "    md_content += help_text\n",
    "    md_content += \"```\\n\"\n",
    "    return md_content\n",
    "\n",
    "def write_to_readme(md_content, filename=\"README.md\"):\n",
    "    \"\"\" Write Markdown content to a README file. \"\"\"\n",
    "    with open(filename, \"w\") as file:\n",
    "        file.write(md_content)"
   ]
  },
  {
   "cell_type": "code",
   "execution_count": 9,
   "metadata": {},
   "outputs": [],
   "source": [
    "# Example usage:\n",
    "script_name = \"/cellar/users/aklie/opt/gene_program_evaluation/src/inference/grn_models/celloracle/workflow/scripts/download_genome.py\"\n",
    "help_text = capture_help_output(script_name)\n",
    "md_content = format_as_markdown(help_text, script_name)"
   ]
  },
  {
   "cell_type": "code",
   "execution_count": 10,
   "metadata": {},
   "outputs": [
    {
     "data": {
      "text/plain": [
       "'## Usage for download_genome.py\\n```\\nusage: python download_genomes.py [-h] -d GENOME_DIR -g GENOME\\n\\nDownload reference genomes for genomepy.\\n\\noptions:\\n  -h, --help            show this help message and exit\\n  -d GENOME_DIR, --genome_dir GENOME_DIR\\n                        where the reference genome genomepy uses will be saved\\n  -g GENOME, --genome GENOME\\n                        version of the genome to download, e.g. hg38, mm10\\n```\\n'"
      ]
     },
     "execution_count": 10,
     "metadata": {},
     "output_type": "execute_result"
    }
   ],
   "source": [
    "md_content"
   ]
  },
  {
   "cell_type": "code",
   "execution_count": null,
   "metadata": {},
   "outputs": [],
   "source": [
    "\n",
    "write_to_readme(md_content)"
   ]
  }
 ],
 "metadata": {
  "kernelspec": {
   "display_name": "Python 3.10 test_celloracle",
   "language": "python",
   "name": "test_scenicplus-py310"
  },
  "language_info": {
   "codemirror_mode": {
    "name": "ipython",
    "version": 3
   },
   "file_extension": ".py",
   "mimetype": "text/x-python",
   "name": "python",
   "nbconvert_exporter": "python",
   "pygments_lexer": "ipython3",
   "version": "3.10.8"
  },
  "orig_nbformat": 4
 },
 "nbformat": 4,
 "nbformat_minor": 2
}
