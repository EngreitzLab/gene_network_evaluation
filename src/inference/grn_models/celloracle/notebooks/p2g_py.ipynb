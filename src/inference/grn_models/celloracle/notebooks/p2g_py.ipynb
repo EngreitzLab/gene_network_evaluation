{
 "cells": [
  {
   "attachments": {},
   "cell_type": "markdown",
   "metadata": {},
   "source": [
    "# TSS annotation with CellOracle"
   ]
  },
  {
   "cell_type": "code",
   "execution_count": 1,
   "metadata": {},
   "outputs": [
    {
     "name": "stdout",
     "output_type": "stream",
     "text": [
      "The history saving thread hit an unexpected error (DatabaseError('database disk image is malformed')).History will not be written to the database.\n"
     ]
    },
    {
     "name": "stderr",
     "output_type": "stream",
     "text": [
      "/cellar/users/aklie/opt/miniconda3/envs/test_celloracle/lib/python3.10/site-packages/loompy/bus_file.py:68: NumbaDeprecationWarning: \u001b[1mThe 'nopython' keyword argument was not supplied to the 'numba.jit' decorator. The implicit default value for this argument is currently False, but it will be changed to True in Numba 0.59.0. See https://numba.readthedocs.io/en/stable/reference/deprecation.html#deprecation-of-object-mode-fall-back-behaviour-when-using-jit for details.\u001b[0m\n",
      "  def twobit_to_dna(twobit: int, size: int) -> str:\n",
      "/cellar/users/aklie/opt/miniconda3/envs/test_celloracle/lib/python3.10/site-packages/loompy/bus_file.py:85: NumbaDeprecationWarning: \u001b[1mThe 'nopython' keyword argument was not supplied to the 'numba.jit' decorator. The implicit default value for this argument is currently False, but it will be changed to True in Numba 0.59.0. See https://numba.readthedocs.io/en/stable/reference/deprecation.html#deprecation-of-object-mode-fall-back-behaviour-when-using-jit for details.\u001b[0m\n",
      "  def dna_to_twobit(dna: str) -> int:\n",
      "/cellar/users/aklie/opt/miniconda3/envs/test_celloracle/lib/python3.10/site-packages/loompy/bus_file.py:102: NumbaDeprecationWarning: \u001b[1mThe 'nopython' keyword argument was not supplied to the 'numba.jit' decorator. The implicit default value for this argument is currently False, but it will be changed to True in Numba 0.59.0. See https://numba.readthedocs.io/en/stable/reference/deprecation.html#deprecation-of-object-mode-fall-back-behaviour-when-using-jit for details.\u001b[0m\n",
      "  def twobit_1hamming(twobit: int, size: int) -> List[int]:\n",
      "which: no R in (/cellar/users/aklie/.cargo/bin:/cellar/users/aklie/opt/google-cloud-sdk/bin:/cellar/users/aklie/opt/miniconda3/bin:/cellar/users/aklie/opt/miniconda3/condabin:/cellar/users/aklie/opt/gdc-client:/cellar/users/aklie/opt/meme/bin:/cellar/users/aklie/opt/meme/libexec/meme-5.5.0:/cellar/users/aklie/opt/apache-ant-1.10.12/bin:/cellar/users/aklie/opt/deltasvm_script/deltasvm.pl:/cellar/users/aklie/opt/lsgkm-svr/bin:/cellar/users/aklie/opt/gatk-4.2.6.1:/cellar/users/mpagadal/Programs/PRSICE/PRSice.R:/cellar/users/aklie/opt/plink:/cellar/users/aklie/opt/plink2:/cellar/users/aklie/opt/confusion_matrix:/cellar/users/aklie/bin/motif_finding.sh:/cellar/users/aklie/opt/edirect:/cellar/users/aklie/opt/ucsc:/cellar/users/mpagadal/Programs/bcftools-1.11:/cellar/users/aklie/opt/homer/bin:/cellar/users/aklie/opt/Gene2vec/src:/cellar/users/aklie/opt:/cellar/users/aklie/.local/bin:/cellar/users/aklie/opt/cellranger-arc-2.0.2:/cellar/users/aklie/opt/cellranger-atac-2.1.0:/cellar/users/aklie/opt/cellranger-7.1.0:/cellar/users/aklie/opt/ml4gland/basenji/bin:/cm/local/apps/jupyter-submit:/cm/shared/apps/slurm/current/sbin:/cm/shared/apps/slurm/current/bin:/cm/local/apps/environment-modules/4.5.3/bin:/usr/local/bin:/usr/bin:/usr/local/sbin:/usr/sbin:/sbin:/usr/sbin:/cm/local/apps/environment-modules/4.5.3/bin:/opt/dell/srvadmin/bin:/cellar/users/aklie/opt/Mallet-202108/bin:/cellar/users/aklie/.pixi/bin)\n"
     ]
    }
   ],
   "source": [
    "import pandas as pd\n",
    "import numpy as np\n",
    "from celloracle import motif_analysis as ma\n",
    "import celloracle as co\n",
    "import mudata as mu\n",
    "import os\n",
    "import argparse"
   ]
  },
  {
   "cell_type": "code",
   "execution_count": 2,
   "metadata": {},
   "outputs": [],
   "source": [
    "path_data = \"/cellar/users/aklie/data/datasets/neurips2021_small/annotation/2023_12_05/mdata.h5mu\"\n",
    "path_all_peaks = \"/cellar/users/aklie/data/datasets/neurips2021_small/analysis/celloracle/2024_05_01/all_peaks.csv\"\n",
    "path_connections = \"/cellar/users/aklie/data/datasets/neurips2021_small/analysis/celloracle/2024_05_01/cicero_connections.csv\"\n",
    "organism = \"human\"\n",
    "thr_coaccess = 0.1\n",
    "path_out =  \"/cellar/users/aklie/data/datasets/neurips2021_small/analysis/celloracle/2024_05_01/processed_peak_file.csv\""
   ]
  },
  {
   "cell_type": "code",
   "execution_count": 3,
   "metadata": {},
   "outputs": [],
   "source": [
    "# Load scATAC-seq peak list\n",
    "peaks = pd.read_csv(path_all_peaks, index_col=0).x.values.astype('U')\n",
    "peaks = np.char.replace(peaks, '-', '_')"
   ]
  },
  {
   "cell_type": "code",
   "execution_count": 4,
   "metadata": {},
   "outputs": [],
   "source": [
    "# Load Cicero coaccessibility scores\n",
    "cicero_connections = pd.read_csv(path_connections, index_col=0)\n",
    "cicero_connections['Peak1'] = np.char.replace(cicero_connections['Peak1'].values.astype('U'), '-', '_')\n",
    "cicero_connections['Peak2'] = np.char.replace(cicero_connections['Peak2'].values.astype('U'), '-', '_')"
   ]
  },
  {
   "cell_type": "code",
   "execution_count": 5,
   "metadata": {},
   "outputs": [],
   "source": [
    "# Determine genome\n",
    "if organism == 'human':\n",
    "    genome = 'hg38'\n",
    "elif organism == 'mouse':\n",
    "    genome = 'mm10'"
   ]
  },
  {
   "cell_type": "code",
   "execution_count": 6,
   "metadata": {},
   "outputs": [
    {
     "name": "stdout",
     "output_type": "stream",
     "text": [
      "que bed peaks: 8192\n",
      "tss peaks in que: 2227\n"
     ]
    },
    {
     "name": "stderr",
     "output_type": "stream",
     "text": [
      "***** WARNING: File /tmp/pybedtools.8jjvno7q.tmp has inconsistent naming convention for record:\n",
      "GL000205.2\t63003\t63892\n",
      "\n",
      "***** WARNING: File /tmp/pybedtools.8jjvno7q.tmp has inconsistent naming convention for record:\n",
      "GL000205.2\t63003\t63892\n",
      "\n"
     ]
    }
   ],
   "source": [
    "# Extract tss information\n",
    "tss_annotated = ma.get_tss_info(peak_str_list=peaks, ref_genome=genome)"
   ]
  },
  {
   "cell_type": "code",
   "execution_count": 14,
   "metadata": {},
   "outputs": [],
   "source": [
    "# Integrate\n",
    "integrated = ma.integrate_tss_peak_with_cicero(tss_peak=tss_annotated,\n",
    "                                               cicero_connections=cicero_connections)"
   ]
  },
  {
   "cell_type": "code",
   "execution_count": 16,
   "metadata": {},
   "outputs": [],
   "source": [
    "# Process\n",
    "integrated = integrated[integrated['coaccess'] >= thr_coaccess]\n",
    "integrated['peak_id'] = integrated['peak_id'].str.replace('_', '-')\n",
    "integrated = integrated.rename(columns={'peak_id': 'cre', 'gene_short_name': 'gene', 'coaccess': 'score'})\n",
    "integrated = integrated.sort_values(['cre', 'score'], ascending=[True, False])"
   ]
  },
  {
   "cell_type": "code",
   "execution_count": 17,
   "metadata": {},
   "outputs": [],
   "source": [
    "# Remove unexpressed genes\n",
    "genes = mu.read(os.path.join(path_data, 'rna')).var.index.values.astype('U')\n",
    "integrated = integrated[integrated['gene'].isin(genes)]"
   ]
  },
  {
   "cell_type": "code",
   "execution_count": 23,
   "metadata": {},
   "outputs": [
    {
     "name": "stdout",
     "output_type": "stream",
     "text": [
      "Number of distal peaks: 63\n",
      "Number of proximal peaks: 63\n"
     ]
    }
   ],
   "source": [
    "# Log how many peaks are distal and proximal (score 1.0)\n",
    "print('Number of distal peaks:', integrated[integrated['score'] < 1.0].shape[0])\n",
    "print('Number of proximal peaks:', integrated[integrated['score'] == 1.0].shape[0])"
   ]
  },
  {
   "cell_type": "code",
   "execution_count": 25,
   "metadata": {},
   "outputs": [
    {
     "data": {
      "text/html": [
       "<div>\n",
       "<style scoped>\n",
       "    .dataframe tbody tr th:only-of-type {\n",
       "        vertical-align: middle;\n",
       "    }\n",
       "\n",
       "    .dataframe tbody tr th {\n",
       "        vertical-align: top;\n",
       "    }\n",
       "\n",
       "    .dataframe thead th {\n",
       "        text-align: right;\n",
       "    }\n",
       "</style>\n",
       "<table border=\"1\" class=\"dataframe\">\n",
       "  <thead>\n",
       "    <tr style=\"text-align: right;\">\n",
       "      <th></th>\n",
       "      <th>cre</th>\n",
       "      <th>gene</th>\n",
       "      <th>score</th>\n",
       "    </tr>\n",
       "  </thead>\n",
       "  <tbody>\n",
       "    <tr>\n",
       "      <th>3778</th>\n",
       "      <td>chr1-44785971-44786863</td>\n",
       "      <td>ZSWIM5</td>\n",
       "      <td>0.629032</td>\n",
       "    </tr>\n",
       "    <tr>\n",
       "      <th>3781</th>\n",
       "      <td>chr1-45018393-45019293</td>\n",
       "      <td>ZSWIM5</td>\n",
       "      <td>0.551528</td>\n",
       "    </tr>\n",
       "    <tr>\n",
       "      <th>3783</th>\n",
       "      <td>chr1-45035408-45036325</td>\n",
       "      <td>ZSWIM5</td>\n",
       "      <td>0.678244</td>\n",
       "    </tr>\n",
       "    <tr>\n",
       "      <th>3784</th>\n",
       "      <td>chr1-45037244-45038086</td>\n",
       "      <td>ZSWIM5</td>\n",
       "      <td>0.247496</td>\n",
       "    </tr>\n",
       "    <tr>\n",
       "      <th>3915</th>\n",
       "      <td>chr1-95043139-95044029</td>\n",
       "      <td>TLCD4</td>\n",
       "      <td>0.595952</td>\n",
       "    </tr>\n",
       "    <tr>\n",
       "      <th>...</th>\n",
       "      <td>...</td>\n",
       "      <td>...</td>\n",
       "      <td>...</td>\n",
       "    </tr>\n",
       "    <tr>\n",
       "      <th>4979</th>\n",
       "      <td>chr4-88592913-88593681</td>\n",
       "      <td>FAM13A</td>\n",
       "      <td>0.295680</td>\n",
       "    </tr>\n",
       "    <tr>\n",
       "      <th>5557</th>\n",
       "      <td>chr6-90479001-90479909</td>\n",
       "      <td>BACH2</td>\n",
       "      <td>0.519388</td>\n",
       "    </tr>\n",
       "    <tr>\n",
       "      <th>5847</th>\n",
       "      <td>chr8-21984926-21985818</td>\n",
       "      <td>DMTN</td>\n",
       "      <td>0.231040</td>\n",
       "    </tr>\n",
       "    <tr>\n",
       "      <th>5886</th>\n",
       "      <td>chr8-25171185-25172009</td>\n",
       "      <td>DOCK5</td>\n",
       "      <td>0.209174</td>\n",
       "    </tr>\n",
       "    <tr>\n",
       "      <th>6233</th>\n",
       "      <td>chrX-134806776-134807626</td>\n",
       "      <td>FAM122B</td>\n",
       "      <td>0.460431</td>\n",
       "    </tr>\n",
       "  </tbody>\n",
       "</table>\n",
       "<p>63 rows × 3 columns</p>\n",
       "</div>"
      ],
      "text/plain": [
       "                           cre     gene     score\n",
       "3778    chr1-44785971-44786863   ZSWIM5  0.629032\n",
       "3781    chr1-45018393-45019293   ZSWIM5  0.551528\n",
       "3783    chr1-45035408-45036325   ZSWIM5  0.678244\n",
       "3784    chr1-45037244-45038086   ZSWIM5  0.247496\n",
       "3915    chr1-95043139-95044029    TLCD4  0.595952\n",
       "...                        ...      ...       ...\n",
       "4979    chr4-88592913-88593681   FAM13A  0.295680\n",
       "5557    chr6-90479001-90479909    BACH2  0.519388\n",
       "5847    chr8-21984926-21985818     DMTN  0.231040\n",
       "5886    chr8-25171185-25172009    DOCK5  0.209174\n",
       "6233  chrX-134806776-134807626  FAM122B  0.460431\n",
       "\n",
       "[63 rows x 3 columns]"
      ]
     },
     "execution_count": 25,
     "metadata": {},
     "output_type": "execute_result"
    }
   ],
   "source": [
    "integrated[integrated['score'] < 1.0]"
   ]
  },
  {
   "cell_type": "code",
   "execution_count": 26,
   "metadata": {},
   "outputs": [
    {
     "data": {
      "text/html": [
       "<div>\n",
       "<style scoped>\n",
       "    .dataframe tbody tr th:only-of-type {\n",
       "        vertical-align: middle;\n",
       "    }\n",
       "\n",
       "    .dataframe tbody tr th {\n",
       "        vertical-align: top;\n",
       "    }\n",
       "\n",
       "    .dataframe thead th {\n",
       "        text-align: right;\n",
       "    }\n",
       "</style>\n",
       "<table border=\"1\" class=\"dataframe\">\n",
       "  <thead>\n",
       "    <tr style=\"text-align: right;\">\n",
       "      <th></th>\n",
       "      <th>cre</th>\n",
       "      <th>gene</th>\n",
       "      <th>score</th>\n",
       "    </tr>\n",
       "  </thead>\n",
       "  <tbody>\n",
       "    <tr>\n",
       "      <th>3109</th>\n",
       "      <td>chr1-107964928-107965436</td>\n",
       "      <td>VAV3</td>\n",
       "      <td>1.0</td>\n",
       "    </tr>\n",
       "    <tr>\n",
       "      <th>3467</th>\n",
       "      <td>chr1-167630023-167630677</td>\n",
       "      <td>RCSD1</td>\n",
       "      <td>1.0</td>\n",
       "    </tr>\n",
       "    <tr>\n",
       "      <th>3571</th>\n",
       "      <td>chr1-224433432-224434024</td>\n",
       "      <td>WDR26</td>\n",
       "      <td>1.0</td>\n",
       "    </tr>\n",
       "    <tr>\n",
       "      <th>3591</th>\n",
       "      <td>chr1-231626280-231627069</td>\n",
       "      <td>DISC1</td>\n",
       "      <td>1.0</td>\n",
       "    </tr>\n",
       "    <tr>\n",
       "      <th>3786</th>\n",
       "      <td>chr1-45206016-45206872</td>\n",
       "      <td>ZSWIM5</td>\n",
       "      <td>1.0</td>\n",
       "    </tr>\n",
       "    <tr>\n",
       "      <th>...</th>\n",
       "      <td>...</td>\n",
       "      <td>...</td>\n",
       "      <td>...</td>\n",
       "    </tr>\n",
       "    <tr>\n",
       "      <th>5887</th>\n",
       "      <td>chr8-25184219-25185134</td>\n",
       "      <td>DOCK5</td>\n",
       "      <td>1.0</td>\n",
       "    </tr>\n",
       "    <tr>\n",
       "      <th>5908</th>\n",
       "      <td>chr8-66712260-66713148</td>\n",
       "      <td>SGK3</td>\n",
       "      <td>1.0</td>\n",
       "    </tr>\n",
       "    <tr>\n",
       "      <th>5911</th>\n",
       "      <td>chr8-66774787-66775705</td>\n",
       "      <td>SGK3</td>\n",
       "      <td>1.0</td>\n",
       "    </tr>\n",
       "    <tr>\n",
       "      <th>6231</th>\n",
       "      <td>chrX-134796760-134797638</td>\n",
       "      <td>FAM122B</td>\n",
       "      <td>1.0</td>\n",
       "    </tr>\n",
       "    <tr>\n",
       "      <th>6341</th>\n",
       "      <td>chrX-7147777-7148690</td>\n",
       "      <td>PUDP</td>\n",
       "      <td>1.0</td>\n",
       "    </tr>\n",
       "  </tbody>\n",
       "</table>\n",
       "<p>63 rows × 3 columns</p>\n",
       "</div>"
      ],
      "text/plain": [
       "                           cre     gene  score\n",
       "3109  chr1-107964928-107965436     VAV3    1.0\n",
       "3467  chr1-167630023-167630677    RCSD1    1.0\n",
       "3571  chr1-224433432-224434024    WDR26    1.0\n",
       "3591  chr1-231626280-231627069    DISC1    1.0\n",
       "3786    chr1-45206016-45206872   ZSWIM5    1.0\n",
       "...                        ...      ...    ...\n",
       "5887    chr8-25184219-25185134    DOCK5    1.0\n",
       "5908    chr8-66712260-66713148     SGK3    1.0\n",
       "5911    chr8-66774787-66775705     SGK3    1.0\n",
       "6231  chrX-134796760-134797638  FAM122B    1.0\n",
       "6341      chrX-7147777-7148690     PUDP    1.0\n",
       "\n",
       "[63 rows x 3 columns]"
      ]
     },
     "execution_count": 26,
     "metadata": {},
     "output_type": "execute_result"
    },
    {
     "name": "stderr",
     "output_type": "stream",
     "text": [
      "Exception ignored in atexit callback: <bound method InteractiveShell.atexit_operations of <ipykernel.zmqshell.ZMQInteractiveShell object at 0x155551781c30>>\n",
      "Traceback (most recent call last):\n",
      "  File \"/cellar/users/aklie/opt/miniconda3/envs/test_celloracle/lib/python3.10/site-packages/IPython/core/interactiveshell.py\", line 3917, in atexit_operations\n",
      "    self._atexit_once()\n",
      "  File \"/cellar/users/aklie/opt/miniconda3/envs/test_celloracle/lib/python3.10/site-packages/IPython/core/interactiveshell.py\", line 3900, in _atexit_once\n",
      "    self.history_manager.end_session()\n",
      "  File \"/cellar/users/aklie/opt/miniconda3/envs/test_celloracle/lib/python3.10/site-packages/IPython/core/history.py\", line 583, in end_session\n",
      "    self.writeout_cache()\n",
      "  File \"/cellar/users/aklie/opt/miniconda3/envs/test_celloracle/lib/python3.10/site-packages/decorator.py\", line 232, in fun\n",
      "    return caller(func, *(extras + args), **kw)\n",
      "  File \"/cellar/users/aklie/opt/miniconda3/envs/test_celloracle/lib/python3.10/site-packages/IPython/core/history.py\", line 60, in only_when_enabled\n",
      "    return f(self, *a, **kw)\n",
      "  File \"/cellar/users/aklie/opt/miniconda3/envs/test_celloracle/lib/python3.10/site-packages/IPython/core/history.py\", line 844, in writeout_cache\n",
      "    self._writeout_input_cache(conn)\n",
      "  File \"/cellar/users/aklie/opt/miniconda3/envs/test_celloracle/lib/python3.10/site-packages/IPython/core/history.py\", line 827, in _writeout_input_cache\n",
      "    conn.execute(\"INSERT INTO history VALUES (?, ?, ?, ?)\",\n",
      "sqlite3.DatabaseError: database disk image is malformed\n"
     ]
    }
   ],
   "source": [
    "integrated[integrated['score'] == 1.0]"
   ]
  },
  {
   "cell_type": "code",
   "execution_count": 19,
   "metadata": {},
   "outputs": [],
   "source": [
    "# Write\n",
    "integrated.to_csv(path_out, index=False)"
   ]
  },
  {
   "attachments": {},
   "cell_type": "markdown",
   "metadata": {},
   "source": [
    "# Write command to run"
   ]
  },
  {
   "attachments": {},
   "cell_type": "markdown",
   "metadata": {},
   "source": [
    "```bash\n",
    "python /cellar/users/aklie/opt/gene_program_evaluation/src/inference/grn_models/celloracle/workflow/scripts/r2g.py \\\n",
    "-d /cellar/users/aklie/data/datasets/neurips2021_small/annotation/2023_12_05/mdata.h5mu \\\n",
    "-a /cellar/users/aklie/data/datasets/neurips2021_small/analysis/celloracle/2024_05_01/all_peaks.csv \\\n",
    "-c /cellar/users/aklie/data/datasets/neurips2021_small/analysis/celloracle/2024_05_01/cicero_connections.csv \\\n",
    "-o human \\\n",
    "-t 0.1 \\\n",
    "-p /cellar/users/aklie/data/datasets/neurips2021_small/analysis/celloracle/2024_05_01/processed_peak_file.csv\n",
    "```"
   ]
  },
  {
   "attachments": {},
   "cell_type": "markdown",
   "metadata": {},
   "source": [
    "# DONE!"
   ]
  },
  {
   "attachments": {},
   "cell_type": "markdown",
   "metadata": {},
   "source": [
    "---"
   ]
  }
 ],
 "metadata": {
  "kernelspec": {
   "display_name": "Python 3.10 test_celloracle",
   "language": "python",
   "name": "test_scenicplus-py310"
  },
  "language_info": {
   "codemirror_mode": {
    "name": "ipython",
    "version": 3
   },
   "file_extension": ".py",
   "mimetype": "text/x-python",
   "name": "python",
   "nbconvert_exporter": "python",
   "pygments_lexer": "ipython3",
   "version": "3.10.8"
  },
  "orig_nbformat": 4
 },
 "nbformat": 4,
 "nbformat_minor": 2
}
