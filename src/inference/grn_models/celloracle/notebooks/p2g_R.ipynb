{
 "cells": [
  {
   "attachments": {},
   "cell_type": "markdown",
   "metadata": {},
   "source": [
    "# Peak correlation with Cicero"
   ]
  },
  {
   "cell_type": "code",
   "execution_count": 1,
   "metadata": {
    "vscode": {
     "languageId": "r"
    }
   },
   "outputs": [
    {
     "name": "stderr",
     "output_type": "stream",
     "text": [
      "Loading required package: monocle3\n",
      "\n",
      "Warning message:\n",
      "“package ‘monocle3’ was built under R version 4.2.1”\n"
     ]
    },
    {
     "name": "stderr",
     "output_type": "stream",
     "text": [
      "Loading required package: Biobase\n",
      "\n",
      "Warning message:\n",
      "“package ‘Biobase’ was built under R version 4.2.3”\n",
      "Loading required package: BiocGenerics\n",
      "\n",
      "Warning message:\n",
      "“package ‘BiocGenerics’ was built under R version 4.2.1”\n",
      "\n",
      "Attaching package: ‘BiocGenerics’\n",
      "\n",
      "\n",
      "The following objects are masked from ‘package:stats’:\n",
      "\n",
      "    IQR, mad, sd, var, xtabs\n",
      "\n",
      "\n",
      "The following objects are masked from ‘package:base’:\n",
      "\n",
      "    anyDuplicated, aperm, append, as.data.frame, basename, cbind,\n",
      "    colnames, dirname, do.call, duplicated, eval, evalq, Filter, Find,\n",
      "    get, grep, grepl, intersect, is.unsorted, lapply, Map, mapply,\n",
      "    match, mget, order, paste, pmax, pmax.int, pmin, pmin.int,\n",
      "    Position, rank, rbind, Reduce, rownames, sapply, setdiff, sort,\n",
      "    table, tapply, union, unique, unsplit, which.max, which.min\n",
      "\n",
      "\n",
      "Welcome to Bioconductor\n",
      "\n",
      "    Vignettes contain introductory material; view with\n",
      "    'browseVignettes()'. To cite Bioconductor, see\n",
      "    'citation(\"Biobase\")', and for packages 'citation(\"pkgname\")'.\n",
      "\n",
      "\n",
      "Loading required package: SingleCellExperiment\n",
      "\n",
      "Warning message:\n",
      "“package ‘SingleCellExperiment’ was built under R version 4.2.2”\n",
      "Loading required package: SummarizedExperiment\n",
      "\n",
      "Warning message:\n",
      "“package ‘SummarizedExperiment’ was built under R version 4.2.2”\n",
      "Loading required package: MatrixGenerics\n",
      "\n",
      "Warning message:\n",
      "“package ‘MatrixGenerics’ was built under R version 4.2.1”\n",
      "Loading required package: matrixStats\n",
      "\n",
      "Warning message:\n",
      "“package ‘matrixStats’ was built under R version 4.2.3”\n",
      "\n",
      "Attaching package: ‘matrixStats’\n",
      "\n",
      "\n",
      "The following objects are masked from ‘package:Biobase’:\n",
      "\n",
      "    anyMissing, rowMedians\n",
      "\n",
      "\n",
      "\n",
      "Attaching package: ‘MatrixGenerics’\n",
      "\n",
      "\n",
      "The following objects are masked from ‘package:matrixStats’:\n",
      "\n",
      "    colAlls, colAnyNAs, colAnys, colAvgsPerRowSet, colCollapse,\n",
      "    colCounts, colCummaxs, colCummins, colCumprods, colCumsums,\n",
      "    colDiffs, colIQRDiffs, colIQRs, colLogSumExps, colMadDiffs,\n",
      "    colMads, colMaxs, colMeans2, colMedians, colMins, colOrderStats,\n",
      "    colProds, colQuantiles, colRanges, colRanks, colSdDiffs, colSds,\n",
      "    colSums2, colTabulates, colVarDiffs, colVars, colWeightedMads,\n",
      "    colWeightedMeans, colWeightedMedians, colWeightedSds,\n",
      "    colWeightedVars, rowAlls, rowAnyNAs, rowAnys, rowAvgsPerColSet,\n",
      "    rowCollapse, rowCounts, rowCummaxs, rowCummins, rowCumprods,\n",
      "    rowCumsums, rowDiffs, rowIQRDiffs, rowIQRs, rowLogSumExps,\n",
      "    rowMadDiffs, rowMads, rowMaxs, rowMeans2, rowMedians, rowMins,\n",
      "    rowOrderStats, rowProds, rowQuantiles, rowRanges, rowRanks,\n",
      "    rowSdDiffs, rowSds, rowSums2, rowTabulates, rowVarDiffs, rowVars,\n",
      "    rowWeightedMads, rowWeightedMeans, rowWeightedMedians,\n",
      "    rowWeightedSds, rowWeightedVars\n",
      "\n",
      "\n",
      "The following object is masked from ‘package:Biobase’:\n",
      "\n",
      "    rowMedians\n",
      "\n",
      "\n",
      "Loading required package: GenomicRanges\n",
      "\n",
      "Warning message:\n",
      "“package ‘GenomicRanges’ was built under R version 4.2.3”\n",
      "Loading required package: stats4\n",
      "\n",
      "Loading required package: S4Vectors\n",
      "\n",
      "Warning message:\n",
      "“package ‘S4Vectors’ was built under R version 4.2.3”\n",
      "\n",
      "Attaching package: ‘S4Vectors’\n",
      "\n",
      "\n",
      "The following objects are masked from ‘package:base’:\n",
      "\n",
      "    expand.grid, I, unname\n",
      "\n",
      "\n",
      "Loading required package: IRanges\n",
      "\n",
      "Warning message:\n",
      "“package ‘IRanges’ was built under R version 4.2.3”\n",
      "Loading required package: GenomeInfoDb\n",
      "\n",
      "Warning message:\n",
      "“package ‘GenomeInfoDb’ was built under R version 4.2.3”\n",
      "\n",
      "Attaching package: ‘monocle3’\n",
      "\n",
      "\n",
      "The following objects are masked from ‘package:Biobase’:\n",
      "\n",
      "    exprs, fData, fData<-, pData, pData<-\n",
      "\n",
      "\n",
      "Loading required package: Gviz\n",
      "\n",
      "Warning message:\n",
      "“package ‘Gviz’ was built under R version 4.2.2”\n",
      "Loading required package: grid\n",
      "\n",
      "Warning message:\n",
      "\"package 'rhdf5' was built under R version 4.2.2\"\n"
     ]
    }
   ],
   "source": [
    "library(cicero)\n",
    "library(monocle3)\n",
    "library(rhdf5)"
   ]
  },
  {
   "cell_type": "code",
   "execution_count": 2,
   "metadata": {
    "vscode": {
     "languageId": "r"
    }
   },
   "outputs": [
    {
     "data": {
      "text/plain": [
       "R version 4.2.0 (2022-04-22)\n",
       "Platform: x86_64-conda-linux-gnu (64-bit)\n",
       "Running under: Rocky Linux 8.9 (Green Obsidian)\n",
       "\n",
       "Matrix products: default\n",
       "BLAS/LAPACK: /cellar/users/aklie/opt/miniconda3/envs/test_celloracle/lib/libopenblasp-r0.3.25.so\n",
       "\n",
       "locale:\n",
       " [1] LC_CTYPE=en_US.UTF-8       LC_NUMERIC=C              \n",
       " [3] LC_TIME=en_US.UTF-8        LC_COLLATE=en_US.UTF-8    \n",
       " [5] LC_MONETARY=en_US.UTF-8    LC_MESSAGES=en_US.UTF-8   \n",
       " [7] LC_PAPER=en_US.UTF-8       LC_NAME=C                 \n",
       " [9] LC_ADDRESS=C               LC_TELEPHONE=C            \n",
       "[11] LC_MEASUREMENT=en_US.UTF-8 LC_IDENTIFICATION=C       \n",
       "\n",
       "attached base packages:\n",
       "[1] grid      stats4    stats     graphics  grDevices utils     datasets \n",
       "[8] methods   base     \n",
       "\n",
       "other attached packages:\n",
       " [1] rhdf5_2.42.0                cicero_1.3.9               \n",
       " [3] Gviz_1.42.0                 monocle3_1.0.0             \n",
       " [5] SingleCellExperiment_1.20.0 SummarizedExperiment_1.28.0\n",
       " [7] GenomicRanges_1.50.0        GenomeInfoDb_1.34.9        \n",
       " [9] IRanges_2.32.0              S4Vectors_0.36.0           \n",
       "[11] MatrixGenerics_1.10.0       matrixStats_1.1.0          \n",
       "[13] Biobase_2.58.0              BiocGenerics_0.44.0        \n",
       "\n",
       "loaded via a namespace (and not attached):\n",
       "  [1] VGAM_1.1-9               colorspace_2.1-0         deldir_2.0-2            \n",
       "  [4] rjson_0.2.21             biovizBase_1.46.0        IRdisplay_1.1           \n",
       "  [7] htmlTable_2.4.2          XVector_0.38.0           base64enc_0.1-3         \n",
       " [10] dichromat_2.0-0.1        rstudioapi_0.15.0        bit64_4.0.5             \n",
       " [13] AnnotationDbi_1.60.0     fansi_1.0.5              xml2_1.3.3              \n",
       " [16] splines_4.2.0            codetools_0.2-19         cachem_1.0.8            \n",
       " [19] knitr_1.45               IRkernel_1.3.2           Formula_1.2-5           \n",
       " [22] jsonlite_1.8.8           Rsamtools_2.14.0         cluster_2.1.6           \n",
       " [25] dbplyr_2.4.0             png_0.1-8                compiler_4.2.0          \n",
       " [28] httr_1.4.7               backports_1.4.1          Matrix_1.6-1            \n",
       " [31] fastmap_1.1.1            lazyeval_0.2.2           cli_3.6.1               \n",
       " [34] htmltools_0.5.7          prettyunits_1.2.0        tools_4.2.0             \n",
       " [37] gtable_0.3.4             glue_1.6.2               GenomeInfoDbData_1.2.9  \n",
       " [40] reshape2_1.4.4           dplyr_1.1.4              rappdirs_0.3.3          \n",
       " [43] Rcpp_1.0.11              rhdf5filters_1.10.0      vctrs_0.6.5             \n",
       " [46] Biostrings_2.66.0        rtracklayer_1.58.0       xfun_0.41               \n",
       " [49] stringr_1.5.1            lifecycle_1.0.4          restfulr_0.0.15         \n",
       " [52] ensembldb_2.22.0         XML_3.99-0.14            zlibbioc_1.44.0         \n",
       " [55] scales_1.3.0             BSgenome_1.66.3          VariantAnnotation_1.44.0\n",
       " [58] hms_1.1.3                ProtGenerics_1.30.0      parallel_4.2.0          \n",
       " [61] AnnotationFilter_1.22.0  RColorBrewer_1.1-3       yaml_2.3.7              \n",
       " [64] curl_4.3.3               memoise_2.0.1            gridExtra_2.3           \n",
       " [67] ggplot2_3.4.4            biomaRt_2.54.0           rpart_4.1.23            \n",
       " [70] latticeExtra_0.6-30      stringi_1.7.12           RSQLite_2.3.3           \n",
       " [73] BiocIO_1.8.0             checkmate_2.3.0          GenomicFeatures_1.50.2  \n",
       " [76] filelock_1.0.2           BiocParallel_1.32.5      repr_1.1.7              \n",
       " [79] rlang_1.1.2              pkgconfig_2.0.3          bitops_1.0-7            \n",
       " [82] evaluate_0.23            lattice_0.22-5           Rhdf5lib_1.20.0         \n",
       " [85] GenomicAlignments_1.34.0 htmlwidgets_1.6.4        bit_4.0.5               \n",
       " [88] tidyselect_1.2.0         plyr_1.8.9               magrittr_2.0.3          \n",
       " [91] R6_2.5.1                 generics_0.1.3           Hmisc_5.1-1             \n",
       " [94] pbdZMQ_0.3-11            DelayedArray_0.24.0      DBI_1.1.3               \n",
       " [97] pillar_1.9.0             foreign_0.8-86           KEGGREST_1.38.0         \n",
       "[100] RCurl_1.98-1.12          nnet_7.3-19              tibble_3.2.1            \n",
       "[103] crayon_1.5.2             interp_1.1-5             uuid_1.2-0              \n",
       "[106] utf8_1.2.4               BiocFileCache_2.6.0      rmarkdown_2.25          \n",
       "[109] viridis_0.6.4            jpeg_0.1-10              progress_1.2.3          \n",
       "[112] data.table_1.14.8        blob_1.2.4               digest_0.6.33           \n",
       "[115] munsell_0.5.0            viridisLite_0.4.2       "
      ]
     },
     "metadata": {},
     "output_type": "display_data"
    }
   ],
   "source": [
    "# Print session info\n",
    "sessionInfo()"
   ]
  },
  {
   "cell_type": "code",
   "execution_count": 130,
   "metadata": {
    "vscode": {
     "languageId": "r"
    }
   },
   "outputs": [],
   "source": [
    "# Parse args\n",
    "path_data <- \"/cellar/users/aklie/data/datasets/neurips2021_small/annotation/2023_12_05/mdata.h5mu\"\n",
    "organism <- \"human\"\n",
    "binarize <- FALSE\n",
    "dim_reduction_key <- \"X_lsi\"\n",
    "k <- 30\n",
    "window <- 500000\n",
    "path_all_peaks <- \"/cellar/users/aklie/data/datasets/neurips2021_small/analysis/celloracle/2024_05_01/all_peaks.csv\"\n",
    "path_connections <- \"/cellar/users/aklie/data/datasets/neurips2021_small/analysis/celloracle/2024_05_01/cicero_connections.csv\"\n",
    "path_cicero_out <- \"/cellar/users/aklie/data/datasets/neurips2021_small/analysis/celloracle/2024_05_01/cicero_output.rds\"\n",
    "seed <- 1234"
   ]
  },
  {
   "cell_type": "code",
   "execution_count": 57,
   "metadata": {
    "vscode": {
     "languageId": "r"
    }
   },
   "outputs": [],
   "source": [
    "# Read genome\n",
    "if (organism == 'human'){\n",
    "    genome <- read.table('/cellar/users/aklie/opt/gene_program_evaluation/src/inference/grn_models/celloracle/resources/genome_sizes/human.txt')\n",
    "} else {\n",
    "    genome <- read.table('resources/genome_sizes/mouse.txt')\n",
    "}"
   ]
  },
  {
   "attachments": {},
   "cell_type": "markdown",
   "metadata": {},
   "source": [
    "# Build CDS"
   ]
  },
  {
   "cell_type": "code",
   "execution_count": 98,
   "metadata": {
    "vscode": {
     "languageId": "r"
    }
   },
   "outputs": [],
   "source": [
    "# Process mudata\n",
    "indata <- H5Fopen(path_data)\n",
    "indices <- indata$mod$atac$layers$counts$indices\n",
    "indptr <- indata$mod$atac$layers$counts$indptr\n",
    "data <- as.numeric(indata$mod$atac$layers$counts$data)\n",
    "barcodes <- indata$mod$atac$obs$`_index`\n",
    "peaks <- indata$mod$atac$var$`_index`\n",
    "h5closeAll()"
   ]
  },
  {
   "cell_type": "code",
   "execution_count": 99,
   "metadata": {
    "vscode": {
     "languageId": "r"
    }
   },
   "outputs": [
    {
     "name": "stdout",
     "output_type": "stream",
     "text": [
      "[1] 123\n",
      "[1] 8192\n"
     ]
    }
   ],
   "source": [
    "print(length(barcodes))\n",
    "print(length(peaks))"
   ]
  },
  {
   "cell_type": "code",
   "execution_count": 100,
   "metadata": {
    "vscode": {
     "languageId": "r"
    }
   },
   "outputs": [],
   "source": [
    "# Build sparse matrix and binarize\n",
    "indata <- Matrix::sparseMatrix(i=indices, p=indptr, x=data, index1 = FALSE)\n",
    "if (binarize){\n",
    "    indata@x[indata@x > 0] <- 1\n",
    "}"
   ]
  },
  {
   "cell_type": "code",
   "execution_count": 101,
   "metadata": {
    "vscode": {
     "languageId": "r"
    }
   },
   "outputs": [
    {
     "data": {
      "text/plain": [
       "6 x 6 sparse Matrix of class \"dgCMatrix\"\n",
       "                \n",
       "[1,] . . . 2 . .\n",
       "[2,] . . . . . .\n",
       "[3,] . . 2 . . .\n",
       "[4,] 2 . . . . .\n",
       "[5,] . . . 2 . .\n",
       "[6,] . . . . 2 ."
      ]
     },
     "metadata": {},
     "output_type": "display_data"
    }
   ],
   "source": [
    "indata[1:6, 1:6]"
   ]
  },
  {
   "cell_type": "code",
   "execution_count": 102,
   "metadata": {
    "vscode": {
     "languageId": "r"
    }
   },
   "outputs": [
    {
     "data": {
      "text/html": [
       "<table class=\"dataframe\">\n",
       "<caption>A data.frame: 6 × 1</caption>\n",
       "<thead>\n",
       "\t<tr><th></th><th scope=col>cells</th></tr>\n",
       "\t<tr><th></th><th scope=col>&lt;chr&gt;</th></tr>\n",
       "</thead>\n",
       "<tbody>\n",
       "\t<tr><th scope=row>AGCGCCTAGATGGACA-1-s1d1</th><td>AGCGCCTAGATGGACA-1-s1d1</td></tr>\n",
       "\t<tr><th scope=row>CCTGAATAGCTTGCTC-1-s1d1</th><td>CCTGAATAGCTTGCTC-1-s1d1</td></tr>\n",
       "\t<tr><th scope=row>AGAGATTAGTGTTGCG-1-s1d1</th><td>AGAGATTAGTGTTGCG-1-s1d1</td></tr>\n",
       "\t<tr><th scope=row>GCTTGTTGTGCGCGTA-1-s1d1</th><td>GCTTGTTGTGCGCGTA-1-s1d1</td></tr>\n",
       "\t<tr><th scope=row>TTTGTCCCATGGAGGC-1-s1d1</th><td>TTTGTCCCATGGAGGC-1-s1d1</td></tr>\n",
       "\t<tr><th scope=row>GGTTGCGGTTGCTTCG-1-s1d1</th><td>GGTTGCGGTTGCTTCG-1-s1d1</td></tr>\n",
       "</tbody>\n",
       "</table>\n"
      ],
      "text/latex": [
       "A data.frame: 6 × 1\n",
       "\\begin{tabular}{r|l}\n",
       "  & cells\\\\\n",
       "  & <chr>\\\\\n",
       "\\hline\n",
       "\tAGCGCCTAGATGGACA-1-s1d1 & AGCGCCTAGATGGACA-1-s1d1\\\\\n",
       "\tCCTGAATAGCTTGCTC-1-s1d1 & CCTGAATAGCTTGCTC-1-s1d1\\\\\n",
       "\tAGAGATTAGTGTTGCG-1-s1d1 & AGAGATTAGTGTTGCG-1-s1d1\\\\\n",
       "\tGCTTGTTGTGCGCGTA-1-s1d1 & GCTTGTTGTGCGCGTA-1-s1d1\\\\\n",
       "\tTTTGTCCCATGGAGGC-1-s1d1 & TTTGTCCCATGGAGGC-1-s1d1\\\\\n",
       "\tGGTTGCGGTTGCTTCG-1-s1d1 & GGTTGCGGTTGCTTCG-1-s1d1\\\\\n",
       "\\end{tabular}\n"
      ],
      "text/markdown": [
       "\n",
       "A data.frame: 6 × 1\n",
       "\n",
       "| <!--/--> | cells &lt;chr&gt; |\n",
       "|---|---|\n",
       "| AGCGCCTAGATGGACA-1-s1d1 | AGCGCCTAGATGGACA-1-s1d1 |\n",
       "| CCTGAATAGCTTGCTC-1-s1d1 | CCTGAATAGCTTGCTC-1-s1d1 |\n",
       "| AGAGATTAGTGTTGCG-1-s1d1 | AGAGATTAGTGTTGCG-1-s1d1 |\n",
       "| GCTTGTTGTGCGCGTA-1-s1d1 | GCTTGTTGTGCGCGTA-1-s1d1 |\n",
       "| TTTGTCCCATGGAGGC-1-s1d1 | TTTGTCCCATGGAGGC-1-s1d1 |\n",
       "| GGTTGCGGTTGCTTCG-1-s1d1 | GGTTGCGGTTGCTTCG-1-s1d1 |\n",
       "\n"
      ],
      "text/plain": [
       "                        cells                  \n",
       "AGCGCCTAGATGGACA-1-s1d1 AGCGCCTAGATGGACA-1-s1d1\n",
       "CCTGAATAGCTTGCTC-1-s1d1 CCTGAATAGCTTGCTC-1-s1d1\n",
       "AGAGATTAGTGTTGCG-1-s1d1 AGAGATTAGTGTTGCG-1-s1d1\n",
       "GCTTGTTGTGCGCGTA-1-s1d1 GCTTGTTGTGCGCGTA-1-s1d1\n",
       "TTTGTCCCATGGAGGC-1-s1d1 TTTGTCCCATGGAGGC-1-s1d1\n",
       "GGTTGCGGTTGCTTCG-1-s1d1 GGTTGCGGTTGCTTCG-1-s1d1"
      ]
     },
     "metadata": {},
     "output_type": "display_data"
    }
   ],
   "source": [
    "# Format cell info\n",
    "cellinfo <- data.frame(row.names=barcodes, cells=barcodes)\n",
    "head(cellinfo)"
   ]
  },
  {
   "cell_type": "code",
   "execution_count": 103,
   "metadata": {
    "vscode": {
     "languageId": "r"
    }
   },
   "outputs": [
    {
     "data": {
      "text/html": [
       "<table class=\"dataframe\">\n",
       "<caption>A data.frame: 6 × 4</caption>\n",
       "<thead>\n",
       "\t<tr><th></th><th scope=col>site_name</th><th scope=col>chr</th><th scope=col>bp1</th><th scope=col>bp2</th></tr>\n",
       "\t<tr><th></th><th scope=col>&lt;chr&gt;</th><th scope=col>&lt;chr&gt;</th><th scope=col>&lt;chr&gt;</th><th scope=col>&lt;chr&gt;</th></tr>\n",
       "</thead>\n",
       "<tbody>\n",
       "\t<tr><th scope=row>chr9-101486622-101487347</th><td>chr9-101486622-101487347</td><td>chr9 </td><td>101486622</td><td>101487347</td></tr>\n",
       "\t<tr><th scope=row>chr15-72237155-72238047</th><td>chr15-72237155-72238047 </td><td>chr15</td><td>72237155 </td><td>72238047 </td></tr>\n",
       "\t<tr><th scope=row>chr6-2124074-2124931</th><td>chr6-2124074-2124931    </td><td>chr6 </td><td>2124074  </td><td>2124931  </td></tr>\n",
       "\t<tr><th scope=row>chr6-116668283-116669167</th><td>chr6-116668283-116669167</td><td>chr6 </td><td>116668283</td><td>116669167</td></tr>\n",
       "\t<tr><th scope=row>chr1-40315014-40315892</th><td>chr1-40315014-40315892  </td><td>chr1 </td><td>40315014 </td><td>40315892 </td></tr>\n",
       "\t<tr><th scope=row>chr6-3126139-3127040</th><td>chr6-3126139-3127040    </td><td>chr6 </td><td>3126139  </td><td>3127040  </td></tr>\n",
       "</tbody>\n",
       "</table>\n"
      ],
      "text/latex": [
       "A data.frame: 6 × 4\n",
       "\\begin{tabular}{r|llll}\n",
       "  & site\\_name & chr & bp1 & bp2\\\\\n",
       "  & <chr> & <chr> & <chr> & <chr>\\\\\n",
       "\\hline\n",
       "\tchr9-101486622-101487347 & chr9-101486622-101487347 & chr9  & 101486622 & 101487347\\\\\n",
       "\tchr15-72237155-72238047 & chr15-72237155-72238047  & chr15 & 72237155  & 72238047 \\\\\n",
       "\tchr6-2124074-2124931 & chr6-2124074-2124931     & chr6  & 2124074   & 2124931  \\\\\n",
       "\tchr6-116668283-116669167 & chr6-116668283-116669167 & chr6  & 116668283 & 116669167\\\\\n",
       "\tchr1-40315014-40315892 & chr1-40315014-40315892   & chr1  & 40315014  & 40315892 \\\\\n",
       "\tchr6-3126139-3127040 & chr6-3126139-3127040     & chr6  & 3126139   & 3127040  \\\\\n",
       "\\end{tabular}\n"
      ],
      "text/markdown": [
       "\n",
       "A data.frame: 6 × 4\n",
       "\n",
       "| <!--/--> | site_name &lt;chr&gt; | chr &lt;chr&gt; | bp1 &lt;chr&gt; | bp2 &lt;chr&gt; |\n",
       "|---|---|---|---|---|\n",
       "| chr9-101486622-101487347 | chr9-101486622-101487347 | chr9  | 101486622 | 101487347 |\n",
       "| chr15-72237155-72238047 | chr15-72237155-72238047  | chr15 | 72237155  | 72238047  |\n",
       "| chr6-2124074-2124931 | chr6-2124074-2124931     | chr6  | 2124074   | 2124931   |\n",
       "| chr6-116668283-116669167 | chr6-116668283-116669167 | chr6  | 116668283 | 116669167 |\n",
       "| chr1-40315014-40315892 | chr1-40315014-40315892   | chr1  | 40315014  | 40315892  |\n",
       "| chr6-3126139-3127040 | chr6-3126139-3127040     | chr6  | 3126139   | 3127040   |\n",
       "\n"
      ],
      "text/plain": [
       "                         site_name                chr   bp1       bp2      \n",
       "chr9-101486622-101487347 chr9-101486622-101487347 chr9  101486622 101487347\n",
       "chr15-72237155-72238047  chr15-72237155-72238047  chr15 72237155  72238047 \n",
       "chr6-2124074-2124931     chr6-2124074-2124931     chr6  2124074   2124931  \n",
       "chr6-116668283-116669167 chr6-116668283-116669167 chr6  116668283 116669167\n",
       "chr1-40315014-40315892   chr1-40315014-40315892   chr1  40315014  40315892 \n",
       "chr6-3126139-3127040     chr6-3126139-3127040     chr6  3126139   3127040  "
      ]
     },
     "metadata": {},
     "output_type": "display_data"
    }
   ],
   "source": [
    "# Format peak info\n",
    "peaks <- gsub(\":\", \"-\", peaks)\n",
    "peakinfo <- data.frame(row.names=peaks, site_name=peaks)\n",
    "peakinfo <- tidyr::separate(data = peakinfo, col = 'site_name', into = c(\"chr\", \"bp1\", \"bp2\"), sep = \"-\", remove=FALSE)\n",
    "head(peakinfo)"
   ]
  },
  {
   "cell_type": "code",
   "execution_count": 104,
   "metadata": {
    "vscode": {
     "languageId": "r"
    }
   },
   "outputs": [],
   "source": [
    "# Add names\n",
    "row.names(indata) <- row.names(peakinfo)\n",
    "colnames(indata) <- row.names(cellinfo)"
   ]
  },
  {
   "cell_type": "code",
   "execution_count": 105,
   "metadata": {
    "vscode": {
     "languageId": "r"
    }
   },
   "outputs": [],
   "source": [
    "# Make CDS\n",
    "input_cds <-  suppressWarnings(\n",
    "    new_cell_data_set(\n",
    "        indata,\n",
    "        cell_metadata = cellinfo,\n",
    "        gene_metadata = peakinfo\n",
    "    )\n",
    ")"
   ]
  },
  {
   "attachments": {},
   "cell_type": "markdown",
   "metadata": {},
   "source": [
    "# Preprocessing steps (optional)"
   ]
  },
  {
   "cell_type": "code",
   "execution_count": 106,
   "metadata": {
    "vscode": {
     "languageId": "r"
    }
   },
   "outputs": [],
   "source": [
    "set.seed(seed)"
   ]
  },
  {
   "cell_type": "code",
   "execution_count": 118,
   "metadata": {
    "vscode": {
     "languageId": "r"
    }
   },
   "outputs": [],
   "source": [
    "dim_reduction_key <- \"X_umap\""
   ]
  },
  {
   "cell_type": "code",
   "execution_count": 119,
   "metadata": {
    "vscode": {
     "languageId": "r"
    }
   },
   "outputs": [
    {
     "name": "stdout",
     "output_type": "stream",
     "text": [
      "[1] \"Aggregating into metacells\"\n",
      "[1] \"Getting precomputed X_umap coordinates from h5\"\n"
     ]
    },
    {
     "name": "stderr",
     "output_type": "stream",
     "text": [
      "Overlap QC metrics:\n",
      "Cells per bin: 50\n",
      "Maximum shared cells bin-bin: 44\n",
      "Mean shared cells bin-bin: 24.9010752688172\n",
      "Median shared cells bin-bin: 25\n",
      "\n",
      "Warning message in make_cicero_cds(input_cds, reduced_coordinates = coords):\n",
      "\"On average, more than 10% of cells are shared between paired bins.\"\n"
     ]
    }
   ],
   "source": [
    "# If dim_reduction_key \"umap\" or \"lsi\"\n",
    "if (!is.null(dim_reduction_key)){\n",
    "    print(\"Aggregating into metacells\")\n",
    "    if (dim_reduction_key == \"umap\" || dim_reduction_key == \"lsi\"){\n",
    "        print(sprintf(\"Running %s dimensionality reduction with Cicero\", dim_reduction_key))\n",
    "        input_cds <- monocle3::detect_genes(input_cds)\n",
    "        input_cds <- input_cds[Matrix::rowSums(exprs(input_cds)) != 0,]\n",
    "        input_cds <- estimate_size_factors(input_cds)\n",
    "        input_cds <- preprocess_cds(input_cds, method = \"LSI\")\n",
    "        if (dim_reduction_key == \"lsi\"){\n",
    "            coords <- reducedDims(input_cds)$LSI\n",
    "        } else if (dim_reduction_key == \"umap\"){\n",
    "            input_cds <- reduce_dimension(\n",
    "                input_cds, \n",
    "                reduction_method = 'UMAP', \n",
    "                preprocess_method = \"LSI\"\n",
    "            )\n",
    "            coords <- reducedDims(input_cds)$UMAP\n",
    "        }\n",
    "    } else {\n",
    "        print(sprintf(\"Getting precomputed %s coordinates from h5\", dim_reduction_key))\n",
    "        indata <- H5Fopen(path_data)\n",
    "        coords <- t(indata$mod$atac$obsm[[dim_reduction_key]])\n",
    "        rownames(coords) <- barcodes\n",
    "        h5closeAll()\n",
    "    }\n",
    "cicero_cds <- make_cicero_cds(input_cds, reduced_coordinates = coords, k=k)\n",
    "} else {\n",
    "    print(\"No dimensionality reduction specified, not using metacells\")\n",
    "    cicero_cds <- input_cds\n",
    "}"
   ]
  },
  {
   "cell_type": "code",
   "execution_count": 136,
   "metadata": {
    "vscode": {
     "languageId": "r"
    }
   },
   "outputs": [
    {
     "data": {
      "text/html": [
       "<table class=\"dataframe\">\n",
       "<caption>A matrix: 6 × 2 of type dbl</caption>\n",
       "<tbody>\n",
       "\t<tr><th scope=row>AGCGCCTAGATGGACA-1-s1d1</th><td>-2.22359896</td><td>3.570711</td></tr>\n",
       "\t<tr><th scope=row>CCTGAATAGCTTGCTC-1-s1d1</th><td>-2.08471870</td><td>6.477296</td></tr>\n",
       "\t<tr><th scope=row>AGAGATTAGTGTTGCG-1-s1d1</th><td>-0.83679533</td><td>6.805043</td></tr>\n",
       "\t<tr><th scope=row>GCTTGTTGTGCGCGTA-1-s1d1</th><td>-0.04806462</td><td>4.696098</td></tr>\n",
       "\t<tr><th scope=row>TTTGTCCCATGGAGGC-1-s1d1</th><td> 0.63036299</td><td>8.695004</td></tr>\n",
       "\t<tr><th scope=row>GGTTGCGGTTGCTTCG-1-s1d1</th><td>-0.69896770</td><td>6.535604</td></tr>\n",
       "</tbody>\n",
       "</table>\n"
      ],
      "text/latex": [
       "A matrix: 6 × 2 of type dbl\n",
       "\\begin{tabular}{r|ll}\n",
       "\tAGCGCCTAGATGGACA-1-s1d1 & -2.22359896 & 3.570711\\\\\n",
       "\tCCTGAATAGCTTGCTC-1-s1d1 & -2.08471870 & 6.477296\\\\\n",
       "\tAGAGATTAGTGTTGCG-1-s1d1 & -0.83679533 & 6.805043\\\\\n",
       "\tGCTTGTTGTGCGCGTA-1-s1d1 & -0.04806462 & 4.696098\\\\\n",
       "\tTTTGTCCCATGGAGGC-1-s1d1 &  0.63036299 & 8.695004\\\\\n",
       "\tGGTTGCGGTTGCTTCG-1-s1d1 & -0.69896770 & 6.535604\\\\\n",
       "\\end{tabular}\n"
      ],
      "text/markdown": [
       "\n",
       "A matrix: 6 × 2 of type dbl\n",
       "\n",
       "| AGCGCCTAGATGGACA-1-s1d1 | -2.22359896 | 3.570711 |\n",
       "| CCTGAATAGCTTGCTC-1-s1d1 | -2.08471870 | 6.477296 |\n",
       "| AGAGATTAGTGTTGCG-1-s1d1 | -0.83679533 | 6.805043 |\n",
       "| GCTTGTTGTGCGCGTA-1-s1d1 | -0.04806462 | 4.696098 |\n",
       "| TTTGTCCCATGGAGGC-1-s1d1 |  0.63036299 | 8.695004 |\n",
       "| GGTTGCGGTTGCTTCG-1-s1d1 | -0.69896770 | 6.535604 |\n",
       "\n"
      ],
      "text/plain": [
       "                        [,1]        [,2]    \n",
       "AGCGCCTAGATGGACA-1-s1d1 -2.22359896 3.570711\n",
       "CCTGAATAGCTTGCTC-1-s1d1 -2.08471870 6.477296\n",
       "AGAGATTAGTGTTGCG-1-s1d1 -0.83679533 6.805043\n",
       "GCTTGTTGTGCGCGTA-1-s1d1 -0.04806462 4.696098\n",
       "TTTGTCCCATGGAGGC-1-s1d1  0.63036299 8.695004\n",
       "GGTTGCGGTTGCTTCG-1-s1d1 -0.69896770 6.535604"
      ]
     },
     "metadata": {},
     "output_type": "display_data"
    }
   ],
   "source": [
    "head(coords)"
   ]
  },
  {
   "attachments": {},
   "cell_type": "markdown",
   "metadata": {},
   "source": [
    "# Run cicero pipeline"
   ]
  },
  {
   "cell_type": "code",
   "execution_count": 121,
   "metadata": {
    "vscode": {
     "languageId": "r"
    }
   },
   "outputs": [
    {
     "name": "stderr",
     "output_type": "stream",
     "text": [
      "Warning message in estimate_distance_parameter(cicero_cds, window = window, maxit = 100, :\n",
      "\"Could not calculate sample_num distance_parameters (71 were calculated) - see documentation details\"\n"
     ]
    }
   ],
   "source": [
    "distance_parameters <- estimate_distance_parameter(\n",
    "    cicero_cds,\n",
    "    window=window,\n",
    "    maxit=100,\n",
    "    sample_num=100,\n",
    "    distance_constraint = round(window/2),\n",
    "    distance_parameter_convergence=1e-22,\n",
    "    genomic_coords=genome\n",
    ")"
   ]
  },
  {
   "cell_type": "code",
   "execution_count": 122,
   "metadata": {
    "vscode": {
     "languageId": "r"
    }
   },
   "outputs": [
    {
     "data": {
      "text/html": [
       "1.77806677767133"
      ],
      "text/latex": [
       "1.77806677767133"
      ],
      "text/markdown": [
       "1.77806677767133"
      ],
      "text/plain": [
       "[1] 1.778067"
      ]
     },
     "metadata": {},
     "output_type": "display_data"
    }
   ],
   "source": [
    "mean_distance_parameter <- mean(unlist(distance_parameters))\n",
    "mean_distance_parameter"
   ]
  },
  {
   "cell_type": "code",
   "execution_count": 123,
   "metadata": {
    "vscode": {
     "languageId": "r"
    }
   },
   "outputs": [
    {
     "name": "stdout",
     "output_type": "stream",
     "text": [
      "[1] \"Running models\"\n"
     ]
    }
   ],
   "source": [
    "print(\"Running models\")\n",
    "cicero_out <- generate_cicero_models(\n",
    "    cicero_cds,\n",
    "    distance_parameter=mean_distance_parameter,\n",
    "    window=window,\n",
    "    genomic_coords=genome\n",
    ")"
   ]
  },
  {
   "cell_type": "code",
   "execution_count": 125,
   "metadata": {
    "vscode": {
     "languageId": "r"
    }
   },
   "outputs": [
    {
     "name": "stdout",
     "output_type": "stream",
     "text": [
      "[1] \"Assembling connections\"\n",
      "[1] \"Successful cicero models:  3582\"\n",
      "[1] \"Other models: \"\n",
      "\n",
      "Zero or one element in range \n",
      "                        9518 \n",
      "[1] \"Models with errors:  0\"\n"
     ]
    }
   ],
   "source": [
    "print(\"Assembling connections\")\n",
    "conns <- assemble_connections(cicero_out, silent=FALSE)"
   ]
  },
  {
   "cell_type": "code",
   "execution_count": 126,
   "metadata": {
    "vscode": {
     "languageId": "r"
    }
   },
   "outputs": [
    {
     "data": {
      "text/html": [
       "<table class=\"dataframe\">\n",
       "<caption>A data.frame: 45044 × 3</caption>\n",
       "<thead>\n",
       "\t<tr><th></th><th scope=col>Peak1</th><th scope=col>Peak2</th><th scope=col>coaccess</th></tr>\n",
       "\t<tr><th></th><th scope=col>&lt;chr&gt;</th><th scope=col>&lt;fct&gt;</th><th scope=col>&lt;dbl&gt;</th></tr>\n",
       "</thead>\n",
       "<tbody>\n",
       "\t<tr><th scope=row>1</th><td>chr1-101079070-101079955</td><td>chr1-101236220-101237098</td><td> 0.28632759</td></tr>\n",
       "\t<tr><th scope=row>4</th><td>chr1-101236220-101237098</td><td>chr1-101079070-101079955</td><td> 0.28632759</td></tr>\n",
       "\t<tr><th scope=row>5</th><td>chr1-10387846-10388777  </td><td>chr1-10494736-10495521  </td><td>-0.05856646</td></tr>\n",
       "\t<tr><th scope=row>6</th><td>chr1-10387846-10388777  </td><td>chr1-10427794-10428684  </td><td> 0.13906257</td></tr>\n",
       "\t<tr><th scope=row>8</th><td>chr1-10387846-10388777  </td><td>chr1-10414970-10415871  </td><td> 0.59299930</td></tr>\n",
       "\t<tr><th scope=row>9</th><td>chr1-10387846-10388777  </td><td>chr1-10458872-10459783  </td><td>-0.02961940</td></tr>\n",
       "\t<tr><th scope=row>10</th><td>chr1-1040409-1041296    </td><td>chr1-940004-940923      </td><td> 0.01096402</td></tr>\n",
       "\t<tr><th scope=row>11</th><td>chr1-1040409-1041296    </td><td>chr1-827067-827948      </td><td> 0.21964390</td></tr>\n",
       "\t<tr><th scope=row>12</th><td>chr1-1040409-1041296    </td><td>chr1-920754-921598      </td><td> 0.19335380</td></tr>\n",
       "\t<tr><th scope=row>13</th><td>chr1-1040409-1041296    </td><td>chr1-904343-905196      </td><td> 0.20268765</td></tr>\n",
       "\t<tr><th scope=row>14</th><td>chr1-1040409-1041296    </td><td>chr1-960362-961092      </td><td> 0.01485668</td></tr>\n",
       "\t<tr><th scope=row>15</th><td>chr1-1040409-1041296    </td><td>chr1-1207967-1208643    </td><td> 0.45632269</td></tr>\n",
       "\t<tr><th scope=row>16</th><td>chr1-1040409-1041296    </td><td>chr1-1079480-1080396    </td><td> 0.25918819</td></tr>\n",
       "\t<tr><th scope=row>17</th><td>chr1-1040409-1041296    </td><td>chr1-1063688-1064577    </td><td> 0.04256222</td></tr>\n",
       "\t<tr><th scope=row>18</th><td>chr1-1040409-1041296    </td><td>chr1-1143915-1144776    </td><td> 0.12528608</td></tr>\n",
       "\t<tr><th scope=row>20</th><td>chr1-1040409-1041296    </td><td>chr1-1206199-1207074    </td><td> 0.15650645</td></tr>\n",
       "\t<tr><th scope=row>21</th><td>chr1-1040409-1041296    </td><td>chr1-1208768-1209375    </td><td>-0.02529093</td></tr>\n",
       "\t<tr><th scope=row>22</th><td>chr1-1040409-1041296    </td><td>chr1-1059182-1060025    </td><td>-0.16350653</td></tr>\n",
       "\t<tr><th scope=row>23</th><td>chr1-1040409-1041296    </td><td>chr1-1136987-1137806    </td><td>-0.37555479</td></tr>\n",
       "\t<tr><th scope=row>24</th><td>chr1-1040409-1041296    </td><td>chr1-1261922-1262753    </td><td> 0.01792749</td></tr>\n",
       "\t<tr><th scope=row>25</th><td>chr1-1040409-1041296    </td><td>chr1-1305205-1306136    </td><td>-0.06505989</td></tr>\n",
       "\t<tr><th scope=row>26</th><td>chr1-1040409-1041296    </td><td>chr1-1293405-1294303    </td><td> 0.33051558</td></tr>\n",
       "\t<tr><th scope=row>27</th><td>chr1-1040409-1041296    </td><td>chr1-1291549-1292410    </td><td> 0.21106700</td></tr>\n",
       "\t<tr><th scope=row>28</th><td>chr1-1040409-1041296    </td><td>chr1-1380358-1381189    </td><td>-0.01258962</td></tr>\n",
       "\t<tr><th scope=row>29</th><td>chr1-10414970-10415871  </td><td>chr1-10494736-10495521  </td><td>-0.04204919</td></tr>\n",
       "\t<tr><th scope=row>30</th><td>chr1-10414970-10415871  </td><td>chr1-10427794-10428684  </td><td> 0.14885242</td></tr>\n",
       "\t<tr><th scope=row>31</th><td>chr1-10414970-10415871  </td><td>chr1-10387846-10388777  </td><td> 0.59299930</td></tr>\n",
       "\t<tr><th scope=row>33</th><td>chr1-10414970-10415871  </td><td>chr1-10458872-10459783  </td><td>-0.02687253</td></tr>\n",
       "\t<tr><th scope=row>34</th><td>chr1-10427794-10428684  </td><td>chr1-10494736-10495521  </td><td>-0.42315408</td></tr>\n",
       "\t<tr><th scope=row>36</th><td>chr1-10427794-10428684  </td><td>chr1-10387846-10388777  </td><td> 0.13906257</td></tr>\n",
       "\t<tr><th scope=row>⋮</th><td>⋮</td><td>⋮</td><td>⋮</td></tr>\n",
       "\t<tr><th scope=row>52572</th><td>chrX-65697850-65698687</td><td>chrX-65667165-65668086</td><td>-0.3414293</td></tr>\n",
       "\t<tr><th scope=row>52573</th><td>chrX-65697850-65698687</td><td>chrX-65926087-65926988</td><td> 0.0000000</td></tr>\n",
       "\t<tr><th scope=row>52574</th><td>chrX-65926087-65926988</td><td>chrX-65595176-65596060</td><td> 0.0000000</td></tr>\n",
       "\t<tr><th scope=row>52575</th><td>chrX-65926087-65926988</td><td>chrX-65697850-65698687</td><td> 0.0000000</td></tr>\n",
       "\t<tr><th scope=row>52576</th><td>chrX-65926087-65926988</td><td>chrX-65667165-65668086</td><td> 0.0000000</td></tr>\n",
       "\t<tr><th scope=row>52578</th><td>chrX-65926087-65926988</td><td>chrX-66005413-66006166</td><td> 0.0000000</td></tr>\n",
       "\t<tr><th scope=row>52579</th><td>chrX-66005413-66006166</td><td>chrX-65926087-65926988</td><td> 0.0000000</td></tr>\n",
       "\t<tr><th scope=row>52581</th><td>chrX-68894507-68895395</td><td>chrX-69232805-69233679</td><td>-0.2110570</td></tr>\n",
       "\t<tr><th scope=row>52584</th><td>chrX-69232805-69233679</td><td>chrX-68894507-68895395</td><td>-0.2110570</td></tr>\n",
       "\t<tr><th scope=row>52585</th><td>chrX-71859332-71860194</td><td>chrX-72100629-72101510</td><td> 0.1662504</td></tr>\n",
       "\t<tr><th scope=row>52586</th><td>chrX-71859332-71860194</td><td>chrX-72238616-72239521</td><td>-0.5635371</td></tr>\n",
       "\t<tr><th scope=row>52589</th><td>chrX-72100629-72101510</td><td>chrX-72238616-72239521</td><td>-0.2950120</td></tr>\n",
       "\t<tr><th scope=row>52590</th><td>chrX-72100629-72101510</td><td>chrX-71859332-71860194</td><td> 0.1662504</td></tr>\n",
       "\t<tr><th scope=row>52591</th><td>chrX-72100629-72101510</td><td>chrX-72276790-72277667</td><td>-0.2146588</td></tr>\n",
       "\t<tr><th scope=row>52592</th><td>chrX-72238616-72239521</td><td>chrX-72100629-72101510</td><td>-0.2950120</td></tr>\n",
       "\t<tr><th scope=row>52594</th><td>chrX-72238616-72239521</td><td>chrX-71859332-71860194</td><td>-0.5635371</td></tr>\n",
       "\t<tr><th scope=row>52595</th><td>chrX-72238616-72239521</td><td>chrX-72276790-72277667</td><td> 0.7276285</td></tr>\n",
       "\t<tr><th scope=row>52596</th><td>chrX-72276790-72277667</td><td>chrX-72100629-72101510</td><td>-0.2146588</td></tr>\n",
       "\t<tr><th scope=row>52597</th><td>chrX-72276790-72277667</td><td>chrX-72238616-72239521</td><td> 0.7276285</td></tr>\n",
       "\t<tr><th scope=row>52599</th><td>chrX-72276790-72277667</td><td>chrX-72572549-72573387</td><td> 0.5447808</td></tr>\n",
       "\t<tr><th scope=row>52600</th><td>chrX-72572549-72573387</td><td>chrX-72276790-72277667</td><td> 0.5447808</td></tr>\n",
       "\t<tr><th scope=row>52602</th><td>chrX-74292049-74292895</td><td>chrX-74293400-74294070</td><td>-0.1606837</td></tr>\n",
       "\t<tr><th scope=row>52605</th><td>chrX-74293400-74294070</td><td>chrX-74292049-74292895</td><td>-0.1606837</td></tr>\n",
       "\t<tr><th scope=row>52606</th><td>chrX-9351472-9352255  </td><td>chrX-9515754-9516626  </td><td> 0.0000000</td></tr>\n",
       "\t<tr><th scope=row>52609</th><td>chrX-9515754-9516626  </td><td>chrX-9351472-9352255  </td><td> 0.0000000</td></tr>\n",
       "\t<tr><th scope=row>52610</th><td>chrX-9515754-9516626  </td><td>chrX-9995510-9996414  </td><td>-0.2460344</td></tr>\n",
       "\t<tr><th scope=row>52611</th><td>chrX-9995510-9996414  </td><td>chrX-9515754-9516626  </td><td>-0.2460344</td></tr>\n",
       "\t<tr><th scope=row>52613</th><td>chrX-9995510-9996414  </td><td>chrX-10045138-10046004</td><td>-0.3185180</td></tr>\n",
       "\t<tr><th scope=row>52614</th><td>chrX-9995510-9996414  </td><td>chrX-10007369-10008285</td><td>-0.3255556</td></tr>\n",
       "\t<tr><th scope=row>52615</th><td>chrX-9995510-9996414  </td><td>chrX-10046919-10047837</td><td> 0.3826922</td></tr>\n",
       "</tbody>\n",
       "</table>\n"
      ],
      "text/latex": [
       "A data.frame: 45044 × 3\n",
       "\\begin{tabular}{r|lll}\n",
       "  & Peak1 & Peak2 & coaccess\\\\\n",
       "  & <chr> & <fct> & <dbl>\\\\\n",
       "\\hline\n",
       "\t1 & chr1-101079070-101079955 & chr1-101236220-101237098 &  0.28632759\\\\\n",
       "\t4 & chr1-101236220-101237098 & chr1-101079070-101079955 &  0.28632759\\\\\n",
       "\t5 & chr1-10387846-10388777   & chr1-10494736-10495521   & -0.05856646\\\\\n",
       "\t6 & chr1-10387846-10388777   & chr1-10427794-10428684   &  0.13906257\\\\\n",
       "\t8 & chr1-10387846-10388777   & chr1-10414970-10415871   &  0.59299930\\\\\n",
       "\t9 & chr1-10387846-10388777   & chr1-10458872-10459783   & -0.02961940\\\\\n",
       "\t10 & chr1-1040409-1041296     & chr1-940004-940923       &  0.01096402\\\\\n",
       "\t11 & chr1-1040409-1041296     & chr1-827067-827948       &  0.21964390\\\\\n",
       "\t12 & chr1-1040409-1041296     & chr1-920754-921598       &  0.19335380\\\\\n",
       "\t13 & chr1-1040409-1041296     & chr1-904343-905196       &  0.20268765\\\\\n",
       "\t14 & chr1-1040409-1041296     & chr1-960362-961092       &  0.01485668\\\\\n",
       "\t15 & chr1-1040409-1041296     & chr1-1207967-1208643     &  0.45632269\\\\\n",
       "\t16 & chr1-1040409-1041296     & chr1-1079480-1080396     &  0.25918819\\\\\n",
       "\t17 & chr1-1040409-1041296     & chr1-1063688-1064577     &  0.04256222\\\\\n",
       "\t18 & chr1-1040409-1041296     & chr1-1143915-1144776     &  0.12528608\\\\\n",
       "\t20 & chr1-1040409-1041296     & chr1-1206199-1207074     &  0.15650645\\\\\n",
       "\t21 & chr1-1040409-1041296     & chr1-1208768-1209375     & -0.02529093\\\\\n",
       "\t22 & chr1-1040409-1041296     & chr1-1059182-1060025     & -0.16350653\\\\\n",
       "\t23 & chr1-1040409-1041296     & chr1-1136987-1137806     & -0.37555479\\\\\n",
       "\t24 & chr1-1040409-1041296     & chr1-1261922-1262753     &  0.01792749\\\\\n",
       "\t25 & chr1-1040409-1041296     & chr1-1305205-1306136     & -0.06505989\\\\\n",
       "\t26 & chr1-1040409-1041296     & chr1-1293405-1294303     &  0.33051558\\\\\n",
       "\t27 & chr1-1040409-1041296     & chr1-1291549-1292410     &  0.21106700\\\\\n",
       "\t28 & chr1-1040409-1041296     & chr1-1380358-1381189     & -0.01258962\\\\\n",
       "\t29 & chr1-10414970-10415871   & chr1-10494736-10495521   & -0.04204919\\\\\n",
       "\t30 & chr1-10414970-10415871   & chr1-10427794-10428684   &  0.14885242\\\\\n",
       "\t31 & chr1-10414970-10415871   & chr1-10387846-10388777   &  0.59299930\\\\\n",
       "\t33 & chr1-10414970-10415871   & chr1-10458872-10459783   & -0.02687253\\\\\n",
       "\t34 & chr1-10427794-10428684   & chr1-10494736-10495521   & -0.42315408\\\\\n",
       "\t36 & chr1-10427794-10428684   & chr1-10387846-10388777   &  0.13906257\\\\\n",
       "\t⋮ & ⋮ & ⋮ & ⋮\\\\\n",
       "\t52572 & chrX-65697850-65698687 & chrX-65667165-65668086 & -0.3414293\\\\\n",
       "\t52573 & chrX-65697850-65698687 & chrX-65926087-65926988 &  0.0000000\\\\\n",
       "\t52574 & chrX-65926087-65926988 & chrX-65595176-65596060 &  0.0000000\\\\\n",
       "\t52575 & chrX-65926087-65926988 & chrX-65697850-65698687 &  0.0000000\\\\\n",
       "\t52576 & chrX-65926087-65926988 & chrX-65667165-65668086 &  0.0000000\\\\\n",
       "\t52578 & chrX-65926087-65926988 & chrX-66005413-66006166 &  0.0000000\\\\\n",
       "\t52579 & chrX-66005413-66006166 & chrX-65926087-65926988 &  0.0000000\\\\\n",
       "\t52581 & chrX-68894507-68895395 & chrX-69232805-69233679 & -0.2110570\\\\\n",
       "\t52584 & chrX-69232805-69233679 & chrX-68894507-68895395 & -0.2110570\\\\\n",
       "\t52585 & chrX-71859332-71860194 & chrX-72100629-72101510 &  0.1662504\\\\\n",
       "\t52586 & chrX-71859332-71860194 & chrX-72238616-72239521 & -0.5635371\\\\\n",
       "\t52589 & chrX-72100629-72101510 & chrX-72238616-72239521 & -0.2950120\\\\\n",
       "\t52590 & chrX-72100629-72101510 & chrX-71859332-71860194 &  0.1662504\\\\\n",
       "\t52591 & chrX-72100629-72101510 & chrX-72276790-72277667 & -0.2146588\\\\\n",
       "\t52592 & chrX-72238616-72239521 & chrX-72100629-72101510 & -0.2950120\\\\\n",
       "\t52594 & chrX-72238616-72239521 & chrX-71859332-71860194 & -0.5635371\\\\\n",
       "\t52595 & chrX-72238616-72239521 & chrX-72276790-72277667 &  0.7276285\\\\\n",
       "\t52596 & chrX-72276790-72277667 & chrX-72100629-72101510 & -0.2146588\\\\\n",
       "\t52597 & chrX-72276790-72277667 & chrX-72238616-72239521 &  0.7276285\\\\\n",
       "\t52599 & chrX-72276790-72277667 & chrX-72572549-72573387 &  0.5447808\\\\\n",
       "\t52600 & chrX-72572549-72573387 & chrX-72276790-72277667 &  0.5447808\\\\\n",
       "\t52602 & chrX-74292049-74292895 & chrX-74293400-74294070 & -0.1606837\\\\\n",
       "\t52605 & chrX-74293400-74294070 & chrX-74292049-74292895 & -0.1606837\\\\\n",
       "\t52606 & chrX-9351472-9352255   & chrX-9515754-9516626   &  0.0000000\\\\\n",
       "\t52609 & chrX-9515754-9516626   & chrX-9351472-9352255   &  0.0000000\\\\\n",
       "\t52610 & chrX-9515754-9516626   & chrX-9995510-9996414   & -0.2460344\\\\\n",
       "\t52611 & chrX-9995510-9996414   & chrX-9515754-9516626   & -0.2460344\\\\\n",
       "\t52613 & chrX-9995510-9996414   & chrX-10045138-10046004 & -0.3185180\\\\\n",
       "\t52614 & chrX-9995510-9996414   & chrX-10007369-10008285 & -0.3255556\\\\\n",
       "\t52615 & chrX-9995510-9996414   & chrX-10046919-10047837 &  0.3826922\\\\\n",
       "\\end{tabular}\n"
      ],
      "text/markdown": [
       "\n",
       "A data.frame: 45044 × 3\n",
       "\n",
       "| <!--/--> | Peak1 &lt;chr&gt; | Peak2 &lt;fct&gt; | coaccess &lt;dbl&gt; |\n",
       "|---|---|---|---|\n",
       "| 1 | chr1-101079070-101079955 | chr1-101236220-101237098 |  0.28632759 |\n",
       "| 4 | chr1-101236220-101237098 | chr1-101079070-101079955 |  0.28632759 |\n",
       "| 5 | chr1-10387846-10388777   | chr1-10494736-10495521   | -0.05856646 |\n",
       "| 6 | chr1-10387846-10388777   | chr1-10427794-10428684   |  0.13906257 |\n",
       "| 8 | chr1-10387846-10388777   | chr1-10414970-10415871   |  0.59299930 |\n",
       "| 9 | chr1-10387846-10388777   | chr1-10458872-10459783   | -0.02961940 |\n",
       "| 10 | chr1-1040409-1041296     | chr1-940004-940923       |  0.01096402 |\n",
       "| 11 | chr1-1040409-1041296     | chr1-827067-827948       |  0.21964390 |\n",
       "| 12 | chr1-1040409-1041296     | chr1-920754-921598       |  0.19335380 |\n",
       "| 13 | chr1-1040409-1041296     | chr1-904343-905196       |  0.20268765 |\n",
       "| 14 | chr1-1040409-1041296     | chr1-960362-961092       |  0.01485668 |\n",
       "| 15 | chr1-1040409-1041296     | chr1-1207967-1208643     |  0.45632269 |\n",
       "| 16 | chr1-1040409-1041296     | chr1-1079480-1080396     |  0.25918819 |\n",
       "| 17 | chr1-1040409-1041296     | chr1-1063688-1064577     |  0.04256222 |\n",
       "| 18 | chr1-1040409-1041296     | chr1-1143915-1144776     |  0.12528608 |\n",
       "| 20 | chr1-1040409-1041296     | chr1-1206199-1207074     |  0.15650645 |\n",
       "| 21 | chr1-1040409-1041296     | chr1-1208768-1209375     | -0.02529093 |\n",
       "| 22 | chr1-1040409-1041296     | chr1-1059182-1060025     | -0.16350653 |\n",
       "| 23 | chr1-1040409-1041296     | chr1-1136987-1137806     | -0.37555479 |\n",
       "| 24 | chr1-1040409-1041296     | chr1-1261922-1262753     |  0.01792749 |\n",
       "| 25 | chr1-1040409-1041296     | chr1-1305205-1306136     | -0.06505989 |\n",
       "| 26 | chr1-1040409-1041296     | chr1-1293405-1294303     |  0.33051558 |\n",
       "| 27 | chr1-1040409-1041296     | chr1-1291549-1292410     |  0.21106700 |\n",
       "| 28 | chr1-1040409-1041296     | chr1-1380358-1381189     | -0.01258962 |\n",
       "| 29 | chr1-10414970-10415871   | chr1-10494736-10495521   | -0.04204919 |\n",
       "| 30 | chr1-10414970-10415871   | chr1-10427794-10428684   |  0.14885242 |\n",
       "| 31 | chr1-10414970-10415871   | chr1-10387846-10388777   |  0.59299930 |\n",
       "| 33 | chr1-10414970-10415871   | chr1-10458872-10459783   | -0.02687253 |\n",
       "| 34 | chr1-10427794-10428684   | chr1-10494736-10495521   | -0.42315408 |\n",
       "| 36 | chr1-10427794-10428684   | chr1-10387846-10388777   |  0.13906257 |\n",
       "| ⋮ | ⋮ | ⋮ | ⋮ |\n",
       "| 52572 | chrX-65697850-65698687 | chrX-65667165-65668086 | -0.3414293 |\n",
       "| 52573 | chrX-65697850-65698687 | chrX-65926087-65926988 |  0.0000000 |\n",
       "| 52574 | chrX-65926087-65926988 | chrX-65595176-65596060 |  0.0000000 |\n",
       "| 52575 | chrX-65926087-65926988 | chrX-65697850-65698687 |  0.0000000 |\n",
       "| 52576 | chrX-65926087-65926988 | chrX-65667165-65668086 |  0.0000000 |\n",
       "| 52578 | chrX-65926087-65926988 | chrX-66005413-66006166 |  0.0000000 |\n",
       "| 52579 | chrX-66005413-66006166 | chrX-65926087-65926988 |  0.0000000 |\n",
       "| 52581 | chrX-68894507-68895395 | chrX-69232805-69233679 | -0.2110570 |\n",
       "| 52584 | chrX-69232805-69233679 | chrX-68894507-68895395 | -0.2110570 |\n",
       "| 52585 | chrX-71859332-71860194 | chrX-72100629-72101510 |  0.1662504 |\n",
       "| 52586 | chrX-71859332-71860194 | chrX-72238616-72239521 | -0.5635371 |\n",
       "| 52589 | chrX-72100629-72101510 | chrX-72238616-72239521 | -0.2950120 |\n",
       "| 52590 | chrX-72100629-72101510 | chrX-71859332-71860194 |  0.1662504 |\n",
       "| 52591 | chrX-72100629-72101510 | chrX-72276790-72277667 | -0.2146588 |\n",
       "| 52592 | chrX-72238616-72239521 | chrX-72100629-72101510 | -0.2950120 |\n",
       "| 52594 | chrX-72238616-72239521 | chrX-71859332-71860194 | -0.5635371 |\n",
       "| 52595 | chrX-72238616-72239521 | chrX-72276790-72277667 |  0.7276285 |\n",
       "| 52596 | chrX-72276790-72277667 | chrX-72100629-72101510 | -0.2146588 |\n",
       "| 52597 | chrX-72276790-72277667 | chrX-72238616-72239521 |  0.7276285 |\n",
       "| 52599 | chrX-72276790-72277667 | chrX-72572549-72573387 |  0.5447808 |\n",
       "| 52600 | chrX-72572549-72573387 | chrX-72276790-72277667 |  0.5447808 |\n",
       "| 52602 | chrX-74292049-74292895 | chrX-74293400-74294070 | -0.1606837 |\n",
       "| 52605 | chrX-74293400-74294070 | chrX-74292049-74292895 | -0.1606837 |\n",
       "| 52606 | chrX-9351472-9352255   | chrX-9515754-9516626   |  0.0000000 |\n",
       "| 52609 | chrX-9515754-9516626   | chrX-9351472-9352255   |  0.0000000 |\n",
       "| 52610 | chrX-9515754-9516626   | chrX-9995510-9996414   | -0.2460344 |\n",
       "| 52611 | chrX-9995510-9996414   | chrX-9515754-9516626   | -0.2460344 |\n",
       "| 52613 | chrX-9995510-9996414   | chrX-10045138-10046004 | -0.3185180 |\n",
       "| 52614 | chrX-9995510-9996414   | chrX-10007369-10008285 | -0.3255556 |\n",
       "| 52615 | chrX-9995510-9996414   | chrX-10046919-10047837 |  0.3826922 |\n",
       "\n"
      ],
      "text/plain": [
       "      Peak1                    Peak2                    coaccess   \n",
       "1     chr1-101079070-101079955 chr1-101236220-101237098  0.28632759\n",
       "4     chr1-101236220-101237098 chr1-101079070-101079955  0.28632759\n",
       "5     chr1-10387846-10388777   chr1-10494736-10495521   -0.05856646\n",
       "6     chr1-10387846-10388777   chr1-10427794-10428684    0.13906257\n",
       "8     chr1-10387846-10388777   chr1-10414970-10415871    0.59299930\n",
       "9     chr1-10387846-10388777   chr1-10458872-10459783   -0.02961940\n",
       "10    chr1-1040409-1041296     chr1-940004-940923        0.01096402\n",
       "11    chr1-1040409-1041296     chr1-827067-827948        0.21964390\n",
       "12    chr1-1040409-1041296     chr1-920754-921598        0.19335380\n",
       "13    chr1-1040409-1041296     chr1-904343-905196        0.20268765\n",
       "14    chr1-1040409-1041296     chr1-960362-961092        0.01485668\n",
       "15    chr1-1040409-1041296     chr1-1207967-1208643      0.45632269\n",
       "16    chr1-1040409-1041296     chr1-1079480-1080396      0.25918819\n",
       "17    chr1-1040409-1041296     chr1-1063688-1064577      0.04256222\n",
       "18    chr1-1040409-1041296     chr1-1143915-1144776      0.12528608\n",
       "20    chr1-1040409-1041296     chr1-1206199-1207074      0.15650645\n",
       "21    chr1-1040409-1041296     chr1-1208768-1209375     -0.02529093\n",
       "22    chr1-1040409-1041296     chr1-1059182-1060025     -0.16350653\n",
       "23    chr1-1040409-1041296     chr1-1136987-1137806     -0.37555479\n",
       "24    chr1-1040409-1041296     chr1-1261922-1262753      0.01792749\n",
       "25    chr1-1040409-1041296     chr1-1305205-1306136     -0.06505989\n",
       "26    chr1-1040409-1041296     chr1-1293405-1294303      0.33051558\n",
       "27    chr1-1040409-1041296     chr1-1291549-1292410      0.21106700\n",
       "28    chr1-1040409-1041296     chr1-1380358-1381189     -0.01258962\n",
       "29    chr1-10414970-10415871   chr1-10494736-10495521   -0.04204919\n",
       "30    chr1-10414970-10415871   chr1-10427794-10428684    0.14885242\n",
       "31    chr1-10414970-10415871   chr1-10387846-10388777    0.59299930\n",
       "33    chr1-10414970-10415871   chr1-10458872-10459783   -0.02687253\n",
       "34    chr1-10427794-10428684   chr1-10494736-10495521   -0.42315408\n",
       "36    chr1-10427794-10428684   chr1-10387846-10388777    0.13906257\n",
       "⋮     ⋮                        ⋮                        ⋮          \n",
       "52572 chrX-65697850-65698687   chrX-65667165-65668086   -0.3414293 \n",
       "52573 chrX-65697850-65698687   chrX-65926087-65926988    0.0000000 \n",
       "52574 chrX-65926087-65926988   chrX-65595176-65596060    0.0000000 \n",
       "52575 chrX-65926087-65926988   chrX-65697850-65698687    0.0000000 \n",
       "52576 chrX-65926087-65926988   chrX-65667165-65668086    0.0000000 \n",
       "52578 chrX-65926087-65926988   chrX-66005413-66006166    0.0000000 \n",
       "52579 chrX-66005413-66006166   chrX-65926087-65926988    0.0000000 \n",
       "52581 chrX-68894507-68895395   chrX-69232805-69233679   -0.2110570 \n",
       "52584 chrX-69232805-69233679   chrX-68894507-68895395   -0.2110570 \n",
       "52585 chrX-71859332-71860194   chrX-72100629-72101510    0.1662504 \n",
       "52586 chrX-71859332-71860194   chrX-72238616-72239521   -0.5635371 \n",
       "52589 chrX-72100629-72101510   chrX-72238616-72239521   -0.2950120 \n",
       "52590 chrX-72100629-72101510   chrX-71859332-71860194    0.1662504 \n",
       "52591 chrX-72100629-72101510   chrX-72276790-72277667   -0.2146588 \n",
       "52592 chrX-72238616-72239521   chrX-72100629-72101510   -0.2950120 \n",
       "52594 chrX-72238616-72239521   chrX-71859332-71860194   -0.5635371 \n",
       "52595 chrX-72238616-72239521   chrX-72276790-72277667    0.7276285 \n",
       "52596 chrX-72276790-72277667   chrX-72100629-72101510   -0.2146588 \n",
       "52597 chrX-72276790-72277667   chrX-72238616-72239521    0.7276285 \n",
       "52599 chrX-72276790-72277667   chrX-72572549-72573387    0.5447808 \n",
       "52600 chrX-72572549-72573387   chrX-72276790-72277667    0.5447808 \n",
       "52602 chrX-74292049-74292895   chrX-74293400-74294070   -0.1606837 \n",
       "52605 chrX-74293400-74294070   chrX-74292049-74292895   -0.1606837 \n",
       "52606 chrX-9351472-9352255     chrX-9515754-9516626      0.0000000 \n",
       "52609 chrX-9515754-9516626     chrX-9351472-9352255      0.0000000 \n",
       "52610 chrX-9515754-9516626     chrX-9995510-9996414     -0.2460344 \n",
       "52611 chrX-9995510-9996414     chrX-9515754-9516626     -0.2460344 \n",
       "52613 chrX-9995510-9996414     chrX-10045138-10046004   -0.3185180 \n",
       "52614 chrX-9995510-9996414     chrX-10007369-10008285   -0.3255556 \n",
       "52615 chrX-9995510-9996414     chrX-10046919-10047837    0.3826922 "
      ]
     },
     "metadata": {},
     "output_type": "display_data"
    }
   ],
   "source": [
    "conns"
   ]
  },
  {
   "cell_type": "code",
   "execution_count": 127,
   "metadata": {
    "vscode": {
     "languageId": "r"
    }
   },
   "outputs": [
    {
     "name": "stdout",
     "output_type": "stream",
     "text": [
      "[1] \"Saving\"\n"
     ]
    }
   ],
   "source": [
    "print(\"Saving\")\n",
    "all_peaks <- row.names(exprs(input_cds))\n",
    "write.csv(x = all_peaks, file = file.path(path_all_peaks))\n",
    "write.csv(x = conns, file = file.path(path_connections))\n",
    "saveRDS(object = cicero_out, file = file.path(path_cicero_out))"
   ]
  },
  {
   "attachments": {},
   "cell_type": "markdown",
   "metadata": {},
   "source": [
    "# Viz"
   ]
  },
  {
   "cell_type": "code",
   "execution_count": 138,
   "metadata": {
    "vscode": {
     "languageId": "r"
    }
   },
   "outputs": [],
   "source": [
    "# download and unzip\n",
    "temp <- tempfile()\n",
    "download.file(\"https://ftp.ensembl.org/pub/grch37/current/gtf/homo_sapiens/Homo_sapiens.GRCh37.87.gtf.gz\", temp)\n",
    "gene_anno <- rtracklayer::readGFF(temp)\n",
    "unlink(temp)"
   ]
  },
  {
   "cell_type": "code",
   "execution_count": 139,
   "metadata": {
    "vscode": {
     "languageId": "r"
    }
   },
   "outputs": [],
   "source": [
    "# rename some columns to match requirements\n",
    "gene_anno$chromosome <- paste0(\"chr\", gene_anno$seqid)\n",
    "gene_anno$gene <- gene_anno$gene_id\n",
    "gene_anno$transcript <- gene_anno$transcript_id\n",
    "gene_anno$symbol <- gene_anno$gene_name"
   ]
  },
  {
   "cell_type": "code",
   "execution_count": 141,
   "metadata": {
    "vscode": {
     "languageId": "r"
    }
   },
   "outputs": [
    {
     "data": {
      "text/html": [
       "<table class=\"dataframe\">\n",
       "<caption>A data.frame: 8192 × 4</caption>\n",
       "<thead>\n",
       "\t<tr><th></th><th scope=col>site_name</th><th scope=col>chr</th><th scope=col>bp1</th><th scope=col>bp2</th></tr>\n",
       "\t<tr><th></th><th scope=col>&lt;chr&gt;</th><th scope=col>&lt;chr&gt;</th><th scope=col>&lt;chr&gt;</th><th scope=col>&lt;chr&gt;</th></tr>\n",
       "</thead>\n",
       "<tbody>\n",
       "\t<tr><th scope=row>chr9-101486622-101487347</th><td>chr9-101486622-101487347</td><td>chr9 </td><td>101486622</td><td>101487347</td></tr>\n",
       "\t<tr><th scope=row>chr15-72237155-72238047</th><td>chr15-72237155-72238047 </td><td>chr15</td><td>72237155 </td><td>72238047 </td></tr>\n",
       "\t<tr><th scope=row>chr6-2124074-2124931</th><td>chr6-2124074-2124931    </td><td>chr6 </td><td>2124074  </td><td>2124931  </td></tr>\n",
       "\t<tr><th scope=row>chr6-116668283-116669167</th><td>chr6-116668283-116669167</td><td>chr6 </td><td>116668283</td><td>116669167</td></tr>\n",
       "\t<tr><th scope=row>chr1-40315014-40315892</th><td>chr1-40315014-40315892  </td><td>chr1 </td><td>40315014 </td><td>40315892 </td></tr>\n",
       "\t<tr><th scope=row>chr6-3126139-3127040</th><td>chr6-3126139-3127040    </td><td>chr6 </td><td>3126139  </td><td>3127040  </td></tr>\n",
       "\t<tr><th scope=row>chr19-3721149-3722057</th><td>chr19-3721149-3722057   </td><td>chr19</td><td>3721149  </td><td>3722057  </td></tr>\n",
       "\t<tr><th scope=row>chr1-230149847-230150765</th><td>chr1-230149847-230150765</td><td>chr1 </td><td>230149847</td><td>230150765</td></tr>\n",
       "\t<tr><th scope=row>chr3-107598889-107599782</th><td>chr3-107598889-107599782</td><td>chr3 </td><td>107598889</td><td>107599782</td></tr>\n",
       "\t<tr><th scope=row>chr22-30442071-30442994</th><td>chr22-30442071-30442994 </td><td>chr22</td><td>30442071 </td><td>30442994 </td></tr>\n",
       "\t<tr><th scope=row>chr5-126422856-126423779</th><td>chr5-126422856-126423779</td><td>chr5 </td><td>126422856</td><td>126423779</td></tr>\n",
       "\t<tr><th scope=row>chr22-30606624-30607565</th><td>chr22-30606624-30607565 </td><td>chr22</td><td>30606624 </td><td>30607565 </td></tr>\n",
       "\t<tr><th scope=row>chr19-55383515-55384430</th><td>chr19-55383515-55384430 </td><td>chr19</td><td>55383515 </td><td>55384430 </td></tr>\n",
       "\t<tr><th scope=row>chr19-18432955-18433746</th><td>chr19-18432955-18433746 </td><td>chr19</td><td>18432955 </td><td>18433746 </td></tr>\n",
       "\t<tr><th scope=row>chr17-3910990-3911900</th><td>chr17-3910990-3911900   </td><td>chr17</td><td>3910990  </td><td>3911900  </td></tr>\n",
       "\t<tr><th scope=row>chr11-95253994-95254892</th><td>chr11-95253994-95254892 </td><td>chr11</td><td>95253994 </td><td>95254892 </td></tr>\n",
       "\t<tr><th scope=row>chr9-126513909-126514773</th><td>chr9-126513909-126514773</td><td>chr9 </td><td>126513909</td><td>126514773</td></tr>\n",
       "\t<tr><th scope=row>chr2-101150983-101151834</th><td>chr2-101150983-101151834</td><td>chr2 </td><td>101150983</td><td>101151834</td></tr>\n",
       "\t<tr><th scope=row>chr9-113542563-113543457</th><td>chr9-113542563-113543457</td><td>chr9 </td><td>113542563</td><td>113543457</td></tr>\n",
       "\t<tr><th scope=row>chr19-12676082-12676983</th><td>chr19-12676082-12676983 </td><td>chr19</td><td>12676082 </td><td>12676983 </td></tr>\n",
       "\t<tr><th scope=row>chr1-203005295-203006055</th><td>chr1-203005295-203006055</td><td>chr1 </td><td>203005295</td><td>203006055</td></tr>\n",
       "\t<tr><th scope=row>chr9-135926604-135927499</th><td>chr9-135926604-135927499</td><td>chr9 </td><td>135926604</td><td>135927499</td></tr>\n",
       "\t<tr><th scope=row>chr11-47453961-47454856</th><td>chr11-47453961-47454856 </td><td>chr11</td><td>47453961 </td><td>47454856 </td></tr>\n",
       "\t<tr><th scope=row>chr19-18044658-18045574</th><td>chr19-18044658-18045574 </td><td>chr19</td><td>18044658 </td><td>18045574 </td></tr>\n",
       "\t<tr><th scope=row>chr7-27147456-27148360</th><td>chr7-27147456-27148360  </td><td>chr7 </td><td>27147456 </td><td>27148360 </td></tr>\n",
       "\t<tr><th scope=row>chr1-144546089-144547014</th><td>chr1-144546089-144547014</td><td>chr1 </td><td>144546089</td><td>144547014</td></tr>\n",
       "\t<tr><th scope=row>chr19-17791230-17792130</th><td>chr19-17791230-17792130 </td><td>chr19</td><td>17791230 </td><td>17792130 </td></tr>\n",
       "\t<tr><th scope=row>chr3-126523891-126524782</th><td>chr3-126523891-126524782</td><td>chr3 </td><td>126523891</td><td>126524782</td></tr>\n",
       "\t<tr><th scope=row>chrX-24479683-24480554</th><td>chrX-24479683-24480554  </td><td>chrX </td><td>24479683 </td><td>24480554 </td></tr>\n",
       "\t<tr><th scope=row>chr15-34178945-34179833</th><td>chr15-34178945-34179833 </td><td>chr15</td><td>34178945 </td><td>34179833 </td></tr>\n",
       "\t<tr><th scope=row>⋮</th><td>⋮</td><td>⋮</td><td>⋮</td><td>⋮</td></tr>\n",
       "\t<tr><th scope=row>chr21-35102719-35103592</th><td>chr21-35102719-35103592 </td><td>chr21</td><td>35102719 </td><td>35103592 </td></tr>\n",
       "\t<tr><th scope=row>chr14-72825797-72826611</th><td>chr14-72825797-72826611 </td><td>chr14</td><td>72825797 </td><td>72826611 </td></tr>\n",
       "\t<tr><th scope=row>chr20-53621440-53622202</th><td>chr20-53621440-53622202 </td><td>chr20</td><td>53621440 </td><td>53622202 </td></tr>\n",
       "\t<tr><th scope=row>chr9-96217871-96218762</th><td>chr9-96217871-96218762  </td><td>chr9 </td><td>96217871 </td><td>96218762 </td></tr>\n",
       "\t<tr><th scope=row>chr19-769967-770836</th><td>chr19-769967-770836     </td><td>chr19</td><td>769967   </td><td>770836   </td></tr>\n",
       "\t<tr><th scope=row>chr20-38731172-38731955</th><td>chr20-38731172-38731955 </td><td>chr20</td><td>38731172 </td><td>38731955 </td></tr>\n",
       "\t<tr><th scope=row>chr1-94634818-94635685</th><td>chr1-94634818-94635685  </td><td>chr1 </td><td>94634818 </td><td>94635685 </td></tr>\n",
       "\t<tr><th scope=row>chr10-47167113-47167949</th><td>chr10-47167113-47167949 </td><td>chr10</td><td>47167113 </td><td>47167949 </td></tr>\n",
       "\t<tr><th scope=row>chr8-41995016-41995912</th><td>chr8-41995016-41995912  </td><td>chr8 </td><td>41995016 </td><td>41995912 </td></tr>\n",
       "\t<tr><th scope=row>chr6-26382732-26383573</th><td>chr6-26382732-26383573  </td><td>chr6 </td><td>26382732 </td><td>26383573 </td></tr>\n",
       "\t<tr><th scope=row>chr8-127737372-127738252</th><td>chr8-127737372-127738252</td><td>chr8 </td><td>127737372</td><td>127738252</td></tr>\n",
       "\t<tr><th scope=row>chr2-218648271-218649146</th><td>chr2-218648271-218649146</td><td>chr2 </td><td>218648271</td><td>218649146</td></tr>\n",
       "\t<tr><th scope=row>chr6-26372371-26373260</th><td>chr6-26372371-26373260  </td><td>chr6 </td><td>26372371 </td><td>26373260 </td></tr>\n",
       "\t<tr><th scope=row>chr12-55681058-55681923</th><td>chr12-55681058-55681923 </td><td>chr12</td><td>55681058 </td><td>55681923 </td></tr>\n",
       "\t<tr><th scope=row>chr13-52022105-52022994</th><td>chr13-52022105-52022994 </td><td>chr13</td><td>52022105 </td><td>52022994 </td></tr>\n",
       "\t<tr><th scope=row>chrX-70133318-70134142</th><td>chrX-70133318-70134142  </td><td>chrX </td><td>70133318 </td><td>70134142 </td></tr>\n",
       "\t<tr><th scope=row>chr16-2026602-2027399</th><td>chr16-2026602-2027399   </td><td>chr16</td><td>2026602  </td><td>2027399  </td></tr>\n",
       "\t<tr><th scope=row>chr12-68405828-68406675</th><td>chr12-68405828-68406675 </td><td>chr12</td><td>68405828 </td><td>68406675 </td></tr>\n",
       "\t<tr><th scope=row>chr20-46022593-46023469</th><td>chr20-46022593-46023469 </td><td>chr20</td><td>46022593 </td><td>46023469 </td></tr>\n",
       "\t<tr><th scope=row>chr4-2267073-2268013</th><td>chr4-2267073-2268013    </td><td>chr4 </td><td>2267073  </td><td>2268013  </td></tr>\n",
       "\t<tr><th scope=row>chr21-34201750-34202512</th><td>chr21-34201750-34202512 </td><td>chr21</td><td>34201750 </td><td>34202512 </td></tr>\n",
       "\t<tr><th scope=row>chr12-1932013-1932926</th><td>chr12-1932013-1932926   </td><td>chr12</td><td>1932013  </td><td>1932926  </td></tr>\n",
       "\t<tr><th scope=row>chr16-2003561-2004463</th><td>chr16-2003561-2004463   </td><td>chr16</td><td>2003561  </td><td>2004463  </td></tr>\n",
       "\t<tr><th scope=row>chr4-56544314-56545210</th><td>chr4-56544314-56545210  </td><td>chr4 </td><td>56544314 </td><td>56545210 </td></tr>\n",
       "\t<tr><th scope=row>chr19-1087460-1088358</th><td>chr19-1087460-1088358   </td><td>chr19</td><td>1087460  </td><td>1088358  </td></tr>\n",
       "\t<tr><th scope=row>chr17-59440496-59441397</th><td>chr17-59440496-59441397 </td><td>chr17</td><td>59440496 </td><td>59441397 </td></tr>\n",
       "\t<tr><th scope=row>chr6-44096421-44097314</th><td>chr6-44096421-44097314  </td><td>chr6 </td><td>44096421 </td><td>44097314 </td></tr>\n",
       "\t<tr><th scope=row>chr2-218322752-218323595</th><td>chr2-218322752-218323595</td><td>chr2 </td><td>218322752</td><td>218323595</td></tr>\n",
       "\t<tr><th scope=row>chr18-79617538-79618409</th><td>chr18-79617538-79618409 </td><td>chr18</td><td>79617538 </td><td>79618409 </td></tr>\n",
       "\t<tr><th scope=row>chr12-68393077-68394014</th><td>chr12-68393077-68394014 </td><td>chr12</td><td>68393077 </td><td>68394014 </td></tr>\n",
       "</tbody>\n",
       "</table>\n"
      ],
      "text/latex": [
       "A data.frame: 8192 × 4\n",
       "\\begin{tabular}{r|llll}\n",
       "  & site\\_name & chr & bp1 & bp2\\\\\n",
       "  & <chr> & <chr> & <chr> & <chr>\\\\\n",
       "\\hline\n",
       "\tchr9-101486622-101487347 & chr9-101486622-101487347 & chr9  & 101486622 & 101487347\\\\\n",
       "\tchr15-72237155-72238047 & chr15-72237155-72238047  & chr15 & 72237155  & 72238047 \\\\\n",
       "\tchr6-2124074-2124931 & chr6-2124074-2124931     & chr6  & 2124074   & 2124931  \\\\\n",
       "\tchr6-116668283-116669167 & chr6-116668283-116669167 & chr6  & 116668283 & 116669167\\\\\n",
       "\tchr1-40315014-40315892 & chr1-40315014-40315892   & chr1  & 40315014  & 40315892 \\\\\n",
       "\tchr6-3126139-3127040 & chr6-3126139-3127040     & chr6  & 3126139   & 3127040  \\\\\n",
       "\tchr19-3721149-3722057 & chr19-3721149-3722057    & chr19 & 3721149   & 3722057  \\\\\n",
       "\tchr1-230149847-230150765 & chr1-230149847-230150765 & chr1  & 230149847 & 230150765\\\\\n",
       "\tchr3-107598889-107599782 & chr3-107598889-107599782 & chr3  & 107598889 & 107599782\\\\\n",
       "\tchr22-30442071-30442994 & chr22-30442071-30442994  & chr22 & 30442071  & 30442994 \\\\\n",
       "\tchr5-126422856-126423779 & chr5-126422856-126423779 & chr5  & 126422856 & 126423779\\\\\n",
       "\tchr22-30606624-30607565 & chr22-30606624-30607565  & chr22 & 30606624  & 30607565 \\\\\n",
       "\tchr19-55383515-55384430 & chr19-55383515-55384430  & chr19 & 55383515  & 55384430 \\\\\n",
       "\tchr19-18432955-18433746 & chr19-18432955-18433746  & chr19 & 18432955  & 18433746 \\\\\n",
       "\tchr17-3910990-3911900 & chr17-3910990-3911900    & chr17 & 3910990   & 3911900  \\\\\n",
       "\tchr11-95253994-95254892 & chr11-95253994-95254892  & chr11 & 95253994  & 95254892 \\\\\n",
       "\tchr9-126513909-126514773 & chr9-126513909-126514773 & chr9  & 126513909 & 126514773\\\\\n",
       "\tchr2-101150983-101151834 & chr2-101150983-101151834 & chr2  & 101150983 & 101151834\\\\\n",
       "\tchr9-113542563-113543457 & chr9-113542563-113543457 & chr9  & 113542563 & 113543457\\\\\n",
       "\tchr19-12676082-12676983 & chr19-12676082-12676983  & chr19 & 12676082  & 12676983 \\\\\n",
       "\tchr1-203005295-203006055 & chr1-203005295-203006055 & chr1  & 203005295 & 203006055\\\\\n",
       "\tchr9-135926604-135927499 & chr9-135926604-135927499 & chr9  & 135926604 & 135927499\\\\\n",
       "\tchr11-47453961-47454856 & chr11-47453961-47454856  & chr11 & 47453961  & 47454856 \\\\\n",
       "\tchr19-18044658-18045574 & chr19-18044658-18045574  & chr19 & 18044658  & 18045574 \\\\\n",
       "\tchr7-27147456-27148360 & chr7-27147456-27148360   & chr7  & 27147456  & 27148360 \\\\\n",
       "\tchr1-144546089-144547014 & chr1-144546089-144547014 & chr1  & 144546089 & 144547014\\\\\n",
       "\tchr19-17791230-17792130 & chr19-17791230-17792130  & chr19 & 17791230  & 17792130 \\\\\n",
       "\tchr3-126523891-126524782 & chr3-126523891-126524782 & chr3  & 126523891 & 126524782\\\\\n",
       "\tchrX-24479683-24480554 & chrX-24479683-24480554   & chrX  & 24479683  & 24480554 \\\\\n",
       "\tchr15-34178945-34179833 & chr15-34178945-34179833  & chr15 & 34178945  & 34179833 \\\\\n",
       "\t⋮ & ⋮ & ⋮ & ⋮ & ⋮\\\\\n",
       "\tchr21-35102719-35103592 & chr21-35102719-35103592  & chr21 & 35102719  & 35103592 \\\\\n",
       "\tchr14-72825797-72826611 & chr14-72825797-72826611  & chr14 & 72825797  & 72826611 \\\\\n",
       "\tchr20-53621440-53622202 & chr20-53621440-53622202  & chr20 & 53621440  & 53622202 \\\\\n",
       "\tchr9-96217871-96218762 & chr9-96217871-96218762   & chr9  & 96217871  & 96218762 \\\\\n",
       "\tchr19-769967-770836 & chr19-769967-770836      & chr19 & 769967    & 770836   \\\\\n",
       "\tchr20-38731172-38731955 & chr20-38731172-38731955  & chr20 & 38731172  & 38731955 \\\\\n",
       "\tchr1-94634818-94635685 & chr1-94634818-94635685   & chr1  & 94634818  & 94635685 \\\\\n",
       "\tchr10-47167113-47167949 & chr10-47167113-47167949  & chr10 & 47167113  & 47167949 \\\\\n",
       "\tchr8-41995016-41995912 & chr8-41995016-41995912   & chr8  & 41995016  & 41995912 \\\\\n",
       "\tchr6-26382732-26383573 & chr6-26382732-26383573   & chr6  & 26382732  & 26383573 \\\\\n",
       "\tchr8-127737372-127738252 & chr8-127737372-127738252 & chr8  & 127737372 & 127738252\\\\\n",
       "\tchr2-218648271-218649146 & chr2-218648271-218649146 & chr2  & 218648271 & 218649146\\\\\n",
       "\tchr6-26372371-26373260 & chr6-26372371-26373260   & chr6  & 26372371  & 26373260 \\\\\n",
       "\tchr12-55681058-55681923 & chr12-55681058-55681923  & chr12 & 55681058  & 55681923 \\\\\n",
       "\tchr13-52022105-52022994 & chr13-52022105-52022994  & chr13 & 52022105  & 52022994 \\\\\n",
       "\tchrX-70133318-70134142 & chrX-70133318-70134142   & chrX  & 70133318  & 70134142 \\\\\n",
       "\tchr16-2026602-2027399 & chr16-2026602-2027399    & chr16 & 2026602   & 2027399  \\\\\n",
       "\tchr12-68405828-68406675 & chr12-68405828-68406675  & chr12 & 68405828  & 68406675 \\\\\n",
       "\tchr20-46022593-46023469 & chr20-46022593-46023469  & chr20 & 46022593  & 46023469 \\\\\n",
       "\tchr4-2267073-2268013 & chr4-2267073-2268013     & chr4  & 2267073   & 2268013  \\\\\n",
       "\tchr21-34201750-34202512 & chr21-34201750-34202512  & chr21 & 34201750  & 34202512 \\\\\n",
       "\tchr12-1932013-1932926 & chr12-1932013-1932926    & chr12 & 1932013   & 1932926  \\\\\n",
       "\tchr16-2003561-2004463 & chr16-2003561-2004463    & chr16 & 2003561   & 2004463  \\\\\n",
       "\tchr4-56544314-56545210 & chr4-56544314-56545210   & chr4  & 56544314  & 56545210 \\\\\n",
       "\tchr19-1087460-1088358 & chr19-1087460-1088358    & chr19 & 1087460   & 1088358  \\\\\n",
       "\tchr17-59440496-59441397 & chr17-59440496-59441397  & chr17 & 59440496  & 59441397 \\\\\n",
       "\tchr6-44096421-44097314 & chr6-44096421-44097314   & chr6  & 44096421  & 44097314 \\\\\n",
       "\tchr2-218322752-218323595 & chr2-218322752-218323595 & chr2  & 218322752 & 218323595\\\\\n",
       "\tchr18-79617538-79618409 & chr18-79617538-79618409  & chr18 & 79617538  & 79618409 \\\\\n",
       "\tchr12-68393077-68394014 & chr12-68393077-68394014  & chr12 & 68393077  & 68394014 \\\\\n",
       "\\end{tabular}\n"
      ],
      "text/markdown": [
       "\n",
       "A data.frame: 8192 × 4\n",
       "\n",
       "| <!--/--> | site_name &lt;chr&gt; | chr &lt;chr&gt; | bp1 &lt;chr&gt; | bp2 &lt;chr&gt; |\n",
       "|---|---|---|---|---|\n",
       "| chr9-101486622-101487347 | chr9-101486622-101487347 | chr9  | 101486622 | 101487347 |\n",
       "| chr15-72237155-72238047 | chr15-72237155-72238047  | chr15 | 72237155  | 72238047  |\n",
       "| chr6-2124074-2124931 | chr6-2124074-2124931     | chr6  | 2124074   | 2124931   |\n",
       "| chr6-116668283-116669167 | chr6-116668283-116669167 | chr6  | 116668283 | 116669167 |\n",
       "| chr1-40315014-40315892 | chr1-40315014-40315892   | chr1  | 40315014  | 40315892  |\n",
       "| chr6-3126139-3127040 | chr6-3126139-3127040     | chr6  | 3126139   | 3127040   |\n",
       "| chr19-3721149-3722057 | chr19-3721149-3722057    | chr19 | 3721149   | 3722057   |\n",
       "| chr1-230149847-230150765 | chr1-230149847-230150765 | chr1  | 230149847 | 230150765 |\n",
       "| chr3-107598889-107599782 | chr3-107598889-107599782 | chr3  | 107598889 | 107599782 |\n",
       "| chr22-30442071-30442994 | chr22-30442071-30442994  | chr22 | 30442071  | 30442994  |\n",
       "| chr5-126422856-126423779 | chr5-126422856-126423779 | chr5  | 126422856 | 126423779 |\n",
       "| chr22-30606624-30607565 | chr22-30606624-30607565  | chr22 | 30606624  | 30607565  |\n",
       "| chr19-55383515-55384430 | chr19-55383515-55384430  | chr19 | 55383515  | 55384430  |\n",
       "| chr19-18432955-18433746 | chr19-18432955-18433746  | chr19 | 18432955  | 18433746  |\n",
       "| chr17-3910990-3911900 | chr17-3910990-3911900    | chr17 | 3910990   | 3911900   |\n",
       "| chr11-95253994-95254892 | chr11-95253994-95254892  | chr11 | 95253994  | 95254892  |\n",
       "| chr9-126513909-126514773 | chr9-126513909-126514773 | chr9  | 126513909 | 126514773 |\n",
       "| chr2-101150983-101151834 | chr2-101150983-101151834 | chr2  | 101150983 | 101151834 |\n",
       "| chr9-113542563-113543457 | chr9-113542563-113543457 | chr9  | 113542563 | 113543457 |\n",
       "| chr19-12676082-12676983 | chr19-12676082-12676983  | chr19 | 12676082  | 12676983  |\n",
       "| chr1-203005295-203006055 | chr1-203005295-203006055 | chr1  | 203005295 | 203006055 |\n",
       "| chr9-135926604-135927499 | chr9-135926604-135927499 | chr9  | 135926604 | 135927499 |\n",
       "| chr11-47453961-47454856 | chr11-47453961-47454856  | chr11 | 47453961  | 47454856  |\n",
       "| chr19-18044658-18045574 | chr19-18044658-18045574  | chr19 | 18044658  | 18045574  |\n",
       "| chr7-27147456-27148360 | chr7-27147456-27148360   | chr7  | 27147456  | 27148360  |\n",
       "| chr1-144546089-144547014 | chr1-144546089-144547014 | chr1  | 144546089 | 144547014 |\n",
       "| chr19-17791230-17792130 | chr19-17791230-17792130  | chr19 | 17791230  | 17792130  |\n",
       "| chr3-126523891-126524782 | chr3-126523891-126524782 | chr3  | 126523891 | 126524782 |\n",
       "| chrX-24479683-24480554 | chrX-24479683-24480554   | chrX  | 24479683  | 24480554  |\n",
       "| chr15-34178945-34179833 | chr15-34178945-34179833  | chr15 | 34178945  | 34179833  |\n",
       "| ⋮ | ⋮ | ⋮ | ⋮ | ⋮ |\n",
       "| chr21-35102719-35103592 | chr21-35102719-35103592  | chr21 | 35102719  | 35103592  |\n",
       "| chr14-72825797-72826611 | chr14-72825797-72826611  | chr14 | 72825797  | 72826611  |\n",
       "| chr20-53621440-53622202 | chr20-53621440-53622202  | chr20 | 53621440  | 53622202  |\n",
       "| chr9-96217871-96218762 | chr9-96217871-96218762   | chr9  | 96217871  | 96218762  |\n",
       "| chr19-769967-770836 | chr19-769967-770836      | chr19 | 769967    | 770836    |\n",
       "| chr20-38731172-38731955 | chr20-38731172-38731955  | chr20 | 38731172  | 38731955  |\n",
       "| chr1-94634818-94635685 | chr1-94634818-94635685   | chr1  | 94634818  | 94635685  |\n",
       "| chr10-47167113-47167949 | chr10-47167113-47167949  | chr10 | 47167113  | 47167949  |\n",
       "| chr8-41995016-41995912 | chr8-41995016-41995912   | chr8  | 41995016  | 41995912  |\n",
       "| chr6-26382732-26383573 | chr6-26382732-26383573   | chr6  | 26382732  | 26383573  |\n",
       "| chr8-127737372-127738252 | chr8-127737372-127738252 | chr8  | 127737372 | 127738252 |\n",
       "| chr2-218648271-218649146 | chr2-218648271-218649146 | chr2  | 218648271 | 218649146 |\n",
       "| chr6-26372371-26373260 | chr6-26372371-26373260   | chr6  | 26372371  | 26373260  |\n",
       "| chr12-55681058-55681923 | chr12-55681058-55681923  | chr12 | 55681058  | 55681923  |\n",
       "| chr13-52022105-52022994 | chr13-52022105-52022994  | chr13 | 52022105  | 52022994  |\n",
       "| chrX-70133318-70134142 | chrX-70133318-70134142   | chrX  | 70133318  | 70134142  |\n",
       "| chr16-2026602-2027399 | chr16-2026602-2027399    | chr16 | 2026602   | 2027399   |\n",
       "| chr12-68405828-68406675 | chr12-68405828-68406675  | chr12 | 68405828  | 68406675  |\n",
       "| chr20-46022593-46023469 | chr20-46022593-46023469  | chr20 | 46022593  | 46023469  |\n",
       "| chr4-2267073-2268013 | chr4-2267073-2268013     | chr4  | 2267073   | 2268013   |\n",
       "| chr21-34201750-34202512 | chr21-34201750-34202512  | chr21 | 34201750  | 34202512  |\n",
       "| chr12-1932013-1932926 | chr12-1932013-1932926    | chr12 | 1932013   | 1932926   |\n",
       "| chr16-2003561-2004463 | chr16-2003561-2004463    | chr16 | 2003561   | 2004463   |\n",
       "| chr4-56544314-56545210 | chr4-56544314-56545210   | chr4  | 56544314  | 56545210  |\n",
       "| chr19-1087460-1088358 | chr19-1087460-1088358    | chr19 | 1087460   | 1088358   |\n",
       "| chr17-59440496-59441397 | chr17-59440496-59441397  | chr17 | 59440496  | 59441397  |\n",
       "| chr6-44096421-44097314 | chr6-44096421-44097314   | chr6  | 44096421  | 44097314  |\n",
       "| chr2-218322752-218323595 | chr2-218322752-218323595 | chr2  | 218322752 | 218323595 |\n",
       "| chr18-79617538-79618409 | chr18-79617538-79618409  | chr18 | 79617538  | 79618409  |\n",
       "| chr12-68393077-68394014 | chr12-68393077-68394014  | chr12 | 68393077  | 68394014  |\n",
       "\n"
      ],
      "text/plain": [
       "                         site_name                chr   bp1       bp2      \n",
       "chr9-101486622-101487347 chr9-101486622-101487347 chr9  101486622 101487347\n",
       "chr15-72237155-72238047  chr15-72237155-72238047  chr15 72237155  72238047 \n",
       "chr6-2124074-2124931     chr6-2124074-2124931     chr6  2124074   2124931  \n",
       "chr6-116668283-116669167 chr6-116668283-116669167 chr6  116668283 116669167\n",
       "chr1-40315014-40315892   chr1-40315014-40315892   chr1  40315014  40315892 \n",
       "chr6-3126139-3127040     chr6-3126139-3127040     chr6  3126139   3127040  \n",
       "chr19-3721149-3722057    chr19-3721149-3722057    chr19 3721149   3722057  \n",
       "chr1-230149847-230150765 chr1-230149847-230150765 chr1  230149847 230150765\n",
       "chr3-107598889-107599782 chr3-107598889-107599782 chr3  107598889 107599782\n",
       "chr22-30442071-30442994  chr22-30442071-30442994  chr22 30442071  30442994 \n",
       "chr5-126422856-126423779 chr5-126422856-126423779 chr5  126422856 126423779\n",
       "chr22-30606624-30607565  chr22-30606624-30607565  chr22 30606624  30607565 \n",
       "chr19-55383515-55384430  chr19-55383515-55384430  chr19 55383515  55384430 \n",
       "chr19-18432955-18433746  chr19-18432955-18433746  chr19 18432955  18433746 \n",
       "chr17-3910990-3911900    chr17-3910990-3911900    chr17 3910990   3911900  \n",
       "chr11-95253994-95254892  chr11-95253994-95254892  chr11 95253994  95254892 \n",
       "chr9-126513909-126514773 chr9-126513909-126514773 chr9  126513909 126514773\n",
       "chr2-101150983-101151834 chr2-101150983-101151834 chr2  101150983 101151834\n",
       "chr9-113542563-113543457 chr9-113542563-113543457 chr9  113542563 113543457\n",
       "chr19-12676082-12676983  chr19-12676082-12676983  chr19 12676082  12676983 \n",
       "chr1-203005295-203006055 chr1-203005295-203006055 chr1  203005295 203006055\n",
       "chr9-135926604-135927499 chr9-135926604-135927499 chr9  135926604 135927499\n",
       "chr11-47453961-47454856  chr11-47453961-47454856  chr11 47453961  47454856 \n",
       "chr19-18044658-18045574  chr19-18044658-18045574  chr19 18044658  18045574 \n",
       "chr7-27147456-27148360   chr7-27147456-27148360   chr7  27147456  27148360 \n",
       "chr1-144546089-144547014 chr1-144546089-144547014 chr1  144546089 144547014\n",
       "chr19-17791230-17792130  chr19-17791230-17792130  chr19 17791230  17792130 \n",
       "chr3-126523891-126524782 chr3-126523891-126524782 chr3  126523891 126524782\n",
       "chrX-24479683-24480554   chrX-24479683-24480554   chrX  24479683  24480554 \n",
       "chr15-34178945-34179833  chr15-34178945-34179833  chr15 34178945  34179833 \n",
       "⋮                        ⋮                        ⋮     ⋮         ⋮        \n",
       "chr21-35102719-35103592  chr21-35102719-35103592  chr21 35102719  35103592 \n",
       "chr14-72825797-72826611  chr14-72825797-72826611  chr14 72825797  72826611 \n",
       "chr20-53621440-53622202  chr20-53621440-53622202  chr20 53621440  53622202 \n",
       "chr9-96217871-96218762   chr9-96217871-96218762   chr9  96217871  96218762 \n",
       "chr19-769967-770836      chr19-769967-770836      chr19 769967    770836   \n",
       "chr20-38731172-38731955  chr20-38731172-38731955  chr20 38731172  38731955 \n",
       "chr1-94634818-94635685   chr1-94634818-94635685   chr1  94634818  94635685 \n",
       "chr10-47167113-47167949  chr10-47167113-47167949  chr10 47167113  47167949 \n",
       "chr8-41995016-41995912   chr8-41995016-41995912   chr8  41995016  41995912 \n",
       "chr6-26382732-26383573   chr6-26382732-26383573   chr6  26382732  26383573 \n",
       "chr8-127737372-127738252 chr8-127737372-127738252 chr8  127737372 127738252\n",
       "chr2-218648271-218649146 chr2-218648271-218649146 chr2  218648271 218649146\n",
       "chr6-26372371-26373260   chr6-26372371-26373260   chr6  26372371  26373260 \n",
       "chr12-55681058-55681923  chr12-55681058-55681923  chr12 55681058  55681923 \n",
       "chr13-52022105-52022994  chr13-52022105-52022994  chr13 52022105  52022994 \n",
       "chrX-70133318-70134142   chrX-70133318-70134142   chrX  70133318  70134142 \n",
       "chr16-2026602-2027399    chr16-2026602-2027399    chr16 2026602   2027399  \n",
       "chr12-68405828-68406675  chr12-68405828-68406675  chr12 68405828  68406675 \n",
       "chr20-46022593-46023469  chr20-46022593-46023469  chr20 46022593  46023469 \n",
       "chr4-2267073-2268013     chr4-2267073-2268013     chr4  2267073   2268013  \n",
       "chr21-34201750-34202512  chr21-34201750-34202512  chr21 34201750  34202512 \n",
       "chr12-1932013-1932926    chr12-1932013-1932926    chr12 1932013   1932926  \n",
       "chr16-2003561-2004463    chr16-2003561-2004463    chr16 2003561   2004463  \n",
       "chr4-56544314-56545210   chr4-56544314-56545210   chr4  56544314  56545210 \n",
       "chr19-1087460-1088358    chr19-1087460-1088358    chr19 1087460   1088358  \n",
       "chr17-59440496-59441397  chr17-59440496-59441397  chr17 59440496  59441397 \n",
       "chr6-44096421-44097314   chr6-44096421-44097314   chr6  44096421  44097314 \n",
       "chr2-218322752-218323595 chr2-218322752-218323595 chr2  218322752 218323595\n",
       "chr18-79617538-79618409  chr18-79617538-79618409  chr18 79617538  79618409 \n",
       "chr12-68393077-68394014  chr12-68393077-68394014  chr12 68393077  68394014 "
      ]
     },
     "metadata": {},
     "output_type": "display_data"
    }
   ],
   "source": [
    "peakinfo"
   ]
  },
  {
   "cell_type": "code",
   "execution_count": 149,
   "metadata": {
    "vscode": {
     "languageId": "r"
    }
   },
   "outputs": [
    {
     "ename": "ERROR",
     "evalue": "Error in .local(GdObject, ...): Too many stacks to draw. Either increase the device size or limit the drawing to a smaller region.\n",
     "output_type": "error",
     "traceback": [
      "Error in .local(GdObject, ...): Too many stacks to draw. Either increase the device size or limit the drawing to a smaller region.\nTraceback:\n",
      "1. plot_connections(conns, \"chr6\", 1, 10148000, gene_model = gene_anno, \n .     coaccess_cutoff = 0.25, connection_width = 0.5, collapseTranscripts = \"longest\")",
      "2. plotTracks(component_list, title.width = 0.5, showTitle = TRUE, \n .     from = minbp, to = maxbp, chromosome = chr, sizes = size_track, \n .     transcriptAnnotation = \"symbol\", background.title = \"transparent\", \n .     col.border.title = \"transparent\", lwd.border.title = \"transparent\", \n .     col.axis = \"black\", fontsize.group = 6, fontcolor.legend = \"black\")",
      "3. drawGD(expandedTrackList[[i]], minBase = ranges[\"from\"], maxBase = ranges[\"to\"], \n .     subset = FALSE)",
      "4. drawGD(expandedTrackList[[i]], minBase = ranges[\"from\"], maxBase = ranges[\"to\"], \n .     subset = FALSE)",
      "5. callNextMethod()",
      "6. .nextMethod(GdObject = GdObject, ... = ...)",
      "7. .local(GdObject, ...)",
      "8. stop(\"Too many stacks to draw. Either increase the device size or limit the drawing to a smaller region.\")"
     ]
    },
    {
     "data": {
      "image/png": "[encoded data removed]",
      "text/plain": [
       "plot without title"
      ]
     },
     "metadata": {
      "image/png": {
       "height": 420,
       "width": 420
      }
     },
     "output_type": "display_data"
    }
   ],
   "source": [
    "plot_connections(conns, \"chr6\", 1, 10148000,\n",
    "                 gene_model = gene_anno, \n",
    "                 coaccess_cutoff = .25, \n",
    "                 connection_width = .5, \n",
    "                 collapseTranscripts = \"longest\")"
   ]
  },
  {
   "attachments": {},
   "cell_type": "markdown",
   "metadata": {},
   "source": [
    "# Write command to run"
   ]
  },
  {
   "attachments": {},
   "cell_type": "markdown",
   "metadata": {},
   "source": [
    "```bash\n",
    "Rscript /cellar/users/aklie/opt/gene_program_evaluation/src/inference/grn_models/celloracle/workflow/scripts/r2g.R \\\n",
    "/cellar/users/aklie/data/datasets/neurips2021_small/annotation/2023_12_05/mdata.h5mu \\\n",
    "human \\\n",
    "false \\\n",
    "X_umap \\\n",
    "30 \\\n",
    "500000 \\\n",
    "/cellar/users/aklie/data/datasets/neurips2021_small/analysis/celloracle/2024_05_01/all_peaks.csv \\\n",
    "/cellar/users/aklie/data/datasets/neurips2021_small/analysis/celloracle/2024_05_01/cicero_connections.csv \\\n",
    "/cellar/users/aklie/data/datasets/neurips2021_small/analysis/celloracle/2024_05_01/cicero_output.rds \\\n",
    "1234\n",
    "```"
   ]
  },
  {
   "attachments": {},
   "cell_type": "markdown",
   "metadata": {},
   "source": [
    "# DONE"
   ]
  },
  {
   "attachments": {},
   "cell_type": "markdown",
   "metadata": {},
   "source": [
    "---"
   ]
  }
 ],
 "metadata": {
  "kernelspec": {
   "display_name": "R 4.2.0 test_celloracle",
   "language": "R",
   "name": "test_celloracle"
  },
  "language_info": {
   "codemirror_mode": "r",
   "file_extension": ".r",
   "mimetype": "text/x-r-source",
   "name": "R",
   "pygments_lexer": "r",
   "version": "4.2.0"
  },
  "orig_nbformat": 4
 },
 "nbformat": 4,
 "nbformat_minor": 2
}
