{
 "cells": [
  {
   "cell_type": "code",
   "execution_count": 51,
   "metadata": {},
   "outputs": [],
   "source": [
    "import pandas as pd\n",
    "import numpy as np\n",
    "import scanpy as sc\n",
    "import celloracle as co\n",
    "import muon as mu\n",
    "import scipy\n",
    "import os\n",
    "import argparse"
   ]
  },
  {
   "cell_type": "code",
   "execution_count": 88,
   "metadata": {},
   "outputs": [],
   "source": [
    "path_input = \"/cellar/users/aklie/data/datasets/neurips2021_small/annotation/2023_12_05/mdata.h5mu\"\n",
    "k = 10\n",
    "dim_reduction_key = None\n",
    "path_out = \"/cellar/users/aklie/data/datasets/neurips2021_small/analysis/celloracle/2024_05_01/celloracle.pre.h5mu\""
   ]
  },
  {
   "cell_type": "code",
   "execution_count": 89,
   "metadata": {},
   "outputs": [
    {
     "data": {
      "text/html": [
       "<pre>MuData object with n_obs × n_vars = 123 × 8704\n",
       "  obs:\t&#x27;celltype&#x27;, &#x27;batch&#x27;, &#x27;Samplename&#x27;, &#x27;Site&#x27;, &#x27;DonorNumber&#x27;, &#x27;Modality&#x27;, &#x27;VendorLot&#x27;, &#x27;DonorID&#x27;, &#x27;DonorAge&#x27;, &#x27;DonorBMI&#x27;, &#x27;DonorBloodType&#x27;, &#x27;DonorRace&#x27;, &#x27;Ethnicity&#x27;, &#x27;DonorGender&#x27;, &#x27;QCMeds&#x27;, &#x27;DonorSmoker&#x27;\n",
       "  2 modalities\n",
       "    atac:\t123 x 8192\n",
       "      obs:\t&#x27;pseudotime_order&#x27;\n",
       "      obsm:\t&#x27;X_lsi&#x27;, &#x27;X_umap&#x27;\n",
       "      layers:\t&#x27;counts&#x27;\n",
       "    rna:\t123 x 512\n",
       "      obs:\t&#x27;pseudotime_order&#x27;\n",
       "      var:\t&#x27;gene_id&#x27;\n",
       "      obsm:\t&#x27;X_pca&#x27;, &#x27;X_umap&#x27;\n",
       "      layers:\t&#x27;counts&#x27;</pre>"
      ],
      "text/plain": [
       "MuData object with n_obs × n_vars = 123 × 8704\n",
       "  obs:\t'celltype', 'batch', 'Samplename', 'Site', 'DonorNumber', 'Modality', 'VendorLot', 'DonorID', 'DonorAge', 'DonorBMI', 'DonorBloodType', 'DonorRace', 'Ethnicity', 'DonorGender', 'QCMeds', 'DonorSmoker'\n",
       "  2 modalities\n",
       "    atac:\t123 x 8192\n",
       "      obs:\t'pseudotime_order'\n",
       "      obsm:\t'X_lsi', 'X_umap'\n",
       "      layers:\t'counts'\n",
       "    rna:\t123 x 512\n",
       "      obs:\t'pseudotime_order'\n",
       "      var:\t'gene_id'\n",
       "      obsm:\t'X_pca', 'X_umap'\n",
       "      layers:\t'counts'"
      ]
     },
     "execution_count": 89,
     "metadata": {},
     "output_type": "execute_result"
    }
   ],
   "source": [
    "# Read rna adata\n",
    "mdata = mu.read(path_input)\n",
    "mdata"
   ]
  },
  {
   "cell_type": "code",
   "execution_count": 90,
   "metadata": {},
   "outputs": [],
   "source": [
    "# Extract raw counts data and assign labels\n",
    "adata = mdata.mod['rna'].copy()"
   ]
  },
  {
   "cell_type": "code",
   "execution_count": 82,
   "metadata": {},
   "outputs": [],
   "source": [
    "adata.X = adata.layers['counts'].copy()\n",
    "adata.obs['celltype'] = mdata.obs['celltype']"
   ]
  },
  {
   "cell_type": "code",
   "execution_count": 83,
   "metadata": {},
   "outputs": [
    {
     "data": {
      "text/plain": [
       "array([[1., 0., 2., 5., 0.],\n",
       "       [0., 0., 6., 5., 1.],\n",
       "       [0., 3., 0., 0., 0.],\n",
       "       [0., 5., 0., 0., 1.],\n",
       "       [0., 5., 0., 1., 4.]], dtype=float32)"
      ]
     },
     "execution_count": 83,
     "metadata": {},
     "output_type": "execute_result"
    }
   ],
   "source": [
    "adata.X[:5, :5].A"
   ]
  },
  {
   "cell_type": "code",
   "execution_count": 84,
   "metadata": {},
   "outputs": [],
   "source": [
    "if dim_reduction_key is None:\n",
    "    adata_pp = adata.copy()\n",
    "    sc.pp.normalize_total(adata_pp, target_sum=1e4)\n",
    "    sc.pp.log1p(adata_pp)\n",
    "    sc.pp.scale(adata_pp, max_value=10)\n",
    "    sc.pp.pca(adata_pp, n_comps=50)\n",
    "    adata.obsm[\"X_pca\"] = adata_pp.obsm[\"X_pca\"]"
   ]
  },
  {
   "cell_type": "code",
   "execution_count": 85,
   "metadata": {},
   "outputs": [
    {
     "data": {
      "text/plain": [
       "array([[1., 0., 2., 5., 0.],\n",
       "       [0., 0., 6., 5., 1.],\n",
       "       [0., 3., 0., 0., 0.],\n",
       "       [0., 5., 0., 0., 1.],\n",
       "       [0., 5., 0., 1., 4.]], dtype=float32)"
      ]
     },
     "execution_count": 85,
     "metadata": {},
     "output_type": "execute_result"
    }
   ],
   "source": [
    "adata.X[:5, :5].A"
   ]
  },
  {
   "cell_type": "code",
   "execution_count": 86,
   "metadata": {},
   "outputs": [
    {
     "data": {
      "text/plain": [
       "AnnData object with n_obs × n_vars = 123 × 512\n",
       "    obs: 'pseudotime_order', 'celltype'\n",
       "    var: 'gene_id'\n",
       "    obsm: 'X_pca', 'X_umap'\n",
       "    layers: 'counts'"
      ]
     },
     "execution_count": 86,
     "metadata": {},
     "output_type": "execute_result"
    }
   ],
   "source": [
    "adata"
   ]
  },
  {
   "cell_type": "code",
   "execution_count": 91,
   "metadata": {},
   "outputs": [
    {
     "name": "stdout",
     "output_type": "stream",
     "text": [
      "512 genes were found in the adata. Note that Celloracle is intended to use around 1000-3000 genes, so the behavior with this number of genes may differ from what is expected.\n"
     ]
    },
    {
     "ename": "KeyError",
     "evalue": "None",
     "output_type": "error",
     "traceback": [
      "\u001b[0;31m---------------------------------------------------------------------------\u001b[0m",
      "\u001b[0;31mKeyError\u001b[0m                                  Traceback (most recent call last)",
      "Cell \u001b[0;32mIn[91], line 3\u001b[0m\n\u001b[1;32m      1\u001b[0m \u001b[39m# Instantiate Oracle object\u001b[39;00m\n\u001b[1;32m      2\u001b[0m oracle \u001b[39m=\u001b[39m co\u001b[39m.\u001b[39mOracle()\n\u001b[0;32m----> 3\u001b[0m oracle\u001b[39m.\u001b[39;49mimport_anndata_as_raw_count(\n\u001b[1;32m      4\u001b[0m     adata\u001b[39m=\u001b[39;49madata,\n\u001b[1;32m      5\u001b[0m     cluster_column_name\u001b[39m=\u001b[39;49m\u001b[39m\"\u001b[39;49m\u001b[39mcelltype\u001b[39;49m\u001b[39m\"\u001b[39;49m,\n\u001b[1;32m      6\u001b[0m     embedding_name\u001b[39m=\u001b[39;49m\u001b[39mNone\u001b[39;49;00m\n\u001b[1;32m      7\u001b[0m )\n",
      "File \u001b[0;32m~/opt/miniconda3/envs/test_celloracle/lib/python3.10/site-packages/celloracle/trajectory/oracle_core.py:375\u001b[0m, in \u001b[0;36mOracle.import_anndata_as_raw_count\u001b[0;34m(self, adata, cluster_column_name, embedding_name, transform)\u001b[0m\n\u001b[1;32m    373\u001b[0m \u001b[39mself\u001b[39m\u001b[39m.\u001b[39mcluster_column_name \u001b[39m=\u001b[39m cluster_column_name\n\u001b[1;32m    374\u001b[0m \u001b[39mself\u001b[39m\u001b[39m.\u001b[39membedding_name \u001b[39m=\u001b[39m embedding_name\n\u001b[0;32m--> 375\u001b[0m \u001b[39mself\u001b[39m\u001b[39m.\u001b[39membedding \u001b[39m=\u001b[39m \u001b[39mself\u001b[39;49m\u001b[39m.\u001b[39;49madata\u001b[39m.\u001b[39;49mobsm[embedding_name]\u001b[39m.\u001b[39mcopy()\n\u001b[1;32m    377\u001b[0m \u001b[39m#if hasattr(self.adata, \"raw\"):\u001b[39;00m\n\u001b[1;32m    378\u001b[0m \u001b[39m#    self.adata.X = self.adata.raw.X.copy()\u001b[39;00m\n\u001b[1;32m    379\u001b[0m \n\u001b[1;32m    380\u001b[0m \u001b[39m# store raw count data\u001b[39;00m\n\u001b[1;32m    381\u001b[0m \u001b[39mself\u001b[39m\u001b[39m.\u001b[39madata\u001b[39m.\u001b[39mlayers[\u001b[39m\"\u001b[39m\u001b[39mraw_count\u001b[39m\u001b[39m\"\u001b[39m] \u001b[39m=\u001b[39m \u001b[39mself\u001b[39m\u001b[39m.\u001b[39madata\u001b[39m.\u001b[39mX\u001b[39m.\u001b[39mcopy()\n",
      "File \u001b[0;32m~/opt/miniconda3/envs/test_celloracle/lib/python3.10/site-packages/anndata/_core/aligned_mapping.py:192\u001b[0m, in \u001b[0;36mAlignedActualMixin.__getitem__\u001b[0;34m(self, key)\u001b[0m\n\u001b[1;32m    191\u001b[0m \u001b[39mdef\u001b[39;00m \u001b[39m__getitem__\u001b[39m(\u001b[39mself\u001b[39m, key: \u001b[39mstr\u001b[39m) \u001b[39m-\u001b[39m\u001b[39m>\u001b[39m V:\n\u001b[0;32m--> 192\u001b[0m     \u001b[39mreturn\u001b[39;00m \u001b[39mself\u001b[39;49m\u001b[39m.\u001b[39;49m_data[key]\n",
      "\u001b[0;31mKeyError\u001b[0m: None"
     ]
    }
   ],
   "source": [
    "# Instantiate Oracle object\n",
    "oracle = co.Oracle()\n",
    "oracle.import_anndata_as_raw_count(\n",
    "    adata=adata,\n",
    "    cluster_column_name=\"celltype\",\n",
    "    embedding_name=\"X_pca\"  # as far as I can tell, this is just used for simulation, which isn't part of this pipelin\n",
    ")"
   ]
  },
  {
   "cell_type": "code",
   "execution_count": 26,
   "metadata": {},
   "outputs": [],
   "source": [
    "# Compute PCA and select top pcs\n",
    "oracle.perform_PCA()\n",
    "n_comps = np.where(np.diff(np.diff(np.cumsum(oracle.pca.explained_variance_ratio_))>0.002))[0][0]\n",
    "n_comps = min(n_comps, 50)"
   ]
  },
  {
   "cell_type": "code",
   "execution_count": 28,
   "metadata": {},
   "outputs": [],
   "source": [
    "# Run imputation\n",
    "oracle.knn_imputation(\n",
    "    n_pca_dims=n_comps,\n",
    "    k=k,\n",
    "    balanced=True,\n",
    "    b_sight=k*8,\n",
    "    b_maxl=k*4,\n",
    "    n_jobs=os.cpu_count(),\n",
    ")"
   ]
  },
  {
   "cell_type": "code",
   "execution_count": 29,
   "metadata": {},
   "outputs": [],
   "source": [
    "# Update object with imputet counts\n",
    "mdata['rna'].X = oracle.adata.layers['imputed_count']"
   ]
  },
  {
   "cell_type": "code",
   "execution_count": 31,
   "metadata": {},
   "outputs": [
    {
     "data": {
      "text/plain": [
       "array([[0.3150669 , 0.        , 1.3958067 , 0.98690159, 0.        ],\n",
       "       [0.25205352, 0.        , 1.68915616, 0.89146321, 0.06301338],\n",
       "       [0.        , 0.67770182, 0.        , 0.        , 0.12602676],\n",
       "       [0.        , 0.82844983, 0.        , 0.        , 0.61799459],\n",
       "       [0.        , 1.19392588, 0.        , 0.06301338, 1.17338074]])"
      ]
     },
     "execution_count": 31,
     "metadata": {},
     "output_type": "execute_result"
    }
   ],
   "source": [
    "mdata['rna'].X[:5, :5]"
   ]
  },
  {
   "cell_type": "code",
   "execution_count": 37,
   "metadata": {},
   "outputs": [],
   "source": [
    "# Write\n",
    "mdata.write(path_out)"
   ]
  },
  {
   "attachments": {},
   "cell_type": "markdown",
   "metadata": {},
   "source": [
    "# Write command to run"
   ]
  },
  {
   "attachments": {},
   "cell_type": "markdown",
   "metadata": {},
   "source": [
    "```bash\n",
    "python /cellar/users/aklie/opt/gene_program_evaluation/src/inference/grn_models/celloracle/workflow/scripts/pre.py \\\n",
    "-i /cellar/users/aklie/data/datasets/neurips2021_small/annotation/2023_12_05/mdata.h5mu \\\n",
    "-k 10 \\\n",
    "-d X_pca \\\n",
    "-o /cellar/users/aklie/data/datasets/neurips2021_small/analysis/celloracle/2024_05_01/celloracle.pre.h5mu\n",
    "```"
   ]
  },
  {
   "attachments": {},
   "cell_type": "markdown",
   "metadata": {},
   "source": [
    "# DONE!"
   ]
  },
  {
   "attachments": {},
   "cell_type": "markdown",
   "metadata": {},
   "source": [
    "---"
   ]
  }
 ],
 "metadata": {
  "kernelspec": {
   "display_name": "Python 3.10 test_celloracle",
   "language": "python",
   "name": "test_scenicplus-py310"
  },
  "orig_nbformat": 4
 },
 "nbformat": 4,
 "nbformat_minor": 2
}
