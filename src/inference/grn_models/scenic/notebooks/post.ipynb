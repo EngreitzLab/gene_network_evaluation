{
 "cells": [
  {
   "cell_type": "code",
   "execution_count": 33,
   "metadata": {},
   "outputs": [],
   "source": [
    "import os\n",
    "import glob\n",
    "import mudata as mu\n",
    "import scanpy as sc\n",
    "import loompy as lp\n",
    "import pandas as pd\n",
    "from pyscenic.cli.utils import load_signatures\n",
    "from scipy.stats import ttest_1samp\n",
    "from pyscenic.utils import add_correlation\n",
    "\n",
    "from tqdm import tqdm\n",
    "tqdm.pandas()\n",
    "import numpy as np\n",
    "TINY = np.finfo(np.float32).tiny"
   ]
  },
  {
   "cell_type": "code",
   "execution_count": 72,
   "metadata": {},
   "outputs": [],
   "source": [
    "def calc_p_value(importances):\n",
    "    _, p_value = ttest_1samp(importances, 0)\n",
    "    return p_value\n",
    "\n",
    "def regulon2sadj(\n",
    "    regulons,\n",
    "):\n",
    "    net_lst = []\n",
    "    for tf in regulons:\n",
    "        tf_name = tf.name.split(\"(\")[0]\n",
    "        tf_targets = tf.gene2weight\n",
    "        for target, weight in tf_targets.items():\n",
    "            net_lst.append([tf_name, target, weight])\n",
    "    net = pd.DataFrame(net_lst, columns=[\"TF\", \"target\", \"importance\"])\n",
    "    return net"
   ]
  },
  {
   "cell_type": "code",
   "execution_count": 73,
   "metadata": {},
   "outputs": [],
   "source": [
    "path_data = \"/cellar/users/aklie/data/datasets/igvf_sc-islet_10X-Multiome/analysis/timecourse/A2_control/celloracle/2024_05_02/A2_control.h5mu\"\n",
    "path_loom = \"/cellar/users/aklie/data/datasets/igvf_sc-islet_10X-Multiome/analysis/timecourse/A2_control/scenic/2024_05_02/rna.loom\"\n",
    "path_csvs = \"/cellar/users/aklie/data/datasets/igvf_sc-islet_10X-Multiome/analysis/timecourse/A2_control/scenic/2024_05_02\"\n",
    "path_output = \"/cellar/users/aklie/data/datasets/igvf_sc-islet_10X-Multiome/analysis/timecourse/A2_control/scenic/2024_05_02/scenic.h5mu\""
   ]
  },
  {
   "cell_type": "code",
   "execution_count": 60,
   "metadata": {},
   "outputs": [
    {
     "name": "stderr",
     "output_type": "stream",
     "text": [
      "/cellar/users/aklie/opt/miniconda3/envs/test_scenicplus_dev/lib/python3.11/site-packages/anndata/_core/anndata.py:522: FutureWarning: The dtype argument is deprecated and will be removed in late 2024.\n",
      "  warnings.warn(\n",
      "/cellar/users/aklie/opt/miniconda3/envs/test_scenicplus_dev/lib/python3.11/site-packages/anndata/_core/anndata.py:522: FutureWarning: The dtype argument is deprecated and will be removed in late 2024.\n",
      "  warnings.warn(\n"
     ]
    }
   ],
   "source": [
    "# Read mdata to add objects to\n",
    "data = mu.read(path_data)"
   ]
  },
  {
   "cell_type": "code",
   "execution_count": 61,
   "metadata": {},
   "outputs": [
    {
     "name": "stdout",
     "output_type": "stream",
     "text": [
      "Reading regulons...\n",
      "Create regulons from a dataframe of enriched features.\n",
      "Additional columns saved: []\n",
      "Create regulons from a dataframe of enriched features.\n",
      "Additional columns saved: []\n",
      "Create regulons from a dataframe of enriched features.\n",
      "Additional columns saved: []\n",
      "Create regulons from a dataframe of enriched features.\n",
      "Additional columns saved: []\n",
      "Create regulons from a dataframe of enriched features.\n",
      "Additional columns saved: []\n",
      "Total edges: 41593\n"
     ]
    }
   ],
   "source": [
    "print(\"Reading regulons...\")\n",
    "reg_csvs = sorted(glob.glob(os.path.join(path_csvs, \"*reg.csv\")))\n",
    "all_edges = pd.DataFrame()\n",
    "for reg_csv in reg_csvs:\n",
    "    regulons = load_signatures(reg_csv)\n",
    "    adj_df = regulon2sadj(regulons)\n",
    "    all_edges = pd.concat([all_edges, adj_df])\n",
    "all_edges.head()\n",
    "print(f\"Total edges: {len(all_edges)}\")"
   ]
  },
  {
   "cell_type": "code",
   "execution_count": 62,
   "metadata": {},
   "outputs": [
    {
     "name": "stdout",
     "output_type": "stream",
     "text": [
      "Grouping by source and target and filtering singlet edges...\n",
      "8849 edges dropped\n"
     ]
    }
   ],
   "source": [
    "print(\"Grouping by source and target and filtering singlet edges...\")\n",
    "grouped = all_edges.groupby(['TF', 'target'])\n",
    "filtered = grouped.filter(lambda x: len(x) > 1)\n",
    "print(f\"{len(all_edges) - len(filtered)} edges dropped\")"
   ]
  },
  {
   "cell_type": "code",
   "execution_count": 63,
   "metadata": {},
   "outputs": [
    {
     "name": "stdout",
     "output_type": "stream",
     "text": [
      "Calculating mean importance for each edge...\n",
      "Total unique edges: 9362\n"
     ]
    }
   ],
   "source": [
    "print(\"Calculating mean importance for each edge...\")\n",
    "mean_importance = filtered.groupby(['TF', 'target'])['importance'].mean()\n",
    "print(f\"Total unique edges: {len(mean_importance)}\")"
   ]
  },
  {
   "cell_type": "code",
   "execution_count": 64,
   "metadata": {},
   "outputs": [
    {
     "name": "stdout",
     "output_type": "stream",
     "text": [
      "Calculating empirical p-value...\n"
     ]
    },
    {
     "name": "stderr",
     "output_type": "stream",
     "text": [
      "  0%|          | 0/9362 [00:00<?, ?it/s]/cellar/users/aklie/opt/miniconda3/envs/test_scenicplus_dev/lib/python3.11/site-packages/scipy/stats/_axis_nan_policy.py:531: RuntimeWarning: Precision loss occurred in moment calculation due to catastrophic cancellation. This occurs when the data are nearly identical. Results may be unreliable.\n",
      "  res = hypotest_fun_out(*samples, **kwds)\n",
      "100%|██████████| 9362/9362 [00:03<00:00, 3001.59it/s]\n"
     ]
    }
   ],
   "source": [
    "print(\"Calculating empirical p-value...\")\n",
    "p_values_series = filtered.groupby(['TF', 'target'])['importance'].progress_apply(calc_p_value)\n",
    "p_values = p_values_series.values + TINY"
   ]
  },
  {
   "cell_type": "code",
   "execution_count": 65,
   "metadata": {},
   "outputs": [
    {
     "name": "stdout",
     "output_type": "stream",
     "text": [
      "Transforming values...\n"
     ]
    }
   ],
   "source": [
    "print(\"Transforming values...\")\n",
    "neg_log_p = -np.log10(p_values)\n",
    "normalized_importance = (mean_importance - mean_importance.min()) / (mean_importance.max() - mean_importance.min())"
   ]
  },
  {
   "cell_type": "code",
   "execution_count": 66,
   "metadata": {},
   "outputs": [
    {
     "name": "stdout",
     "output_type": "stream",
     "text": [
      "Adding correlation...\n"
     ]
    }
   ],
   "source": [
    "print(\"Adding correlation...\")\n",
    "adata = sc.read_loom(path_loom, sparse=True)\n",
    "filtered = add_correlation(filtered, adata.to_df())\n",
    "mean_corr = filtered.groupby(['TF', 'target'])['rho'].mean()"
   ]
  },
  {
   "cell_type": "code",
   "execution_count": 67,
   "metadata": {},
   "outputs": [],
   "source": [
    "consolidated = pd.DataFrame({\n",
    "    'tf': mean_importance.index.get_level_values('TF'),\n",
    "    'gene': mean_importance.index.get_level_values('target'),\n",
    "    'weight_signed': np.nan,\n",
    "    'weight_unsigned': mean_importance.values,\n",
    "    'weight_minmax_normalized': normalized_importance.values,\n",
    "    'pval': p_values,\n",
    "    '-logp': neg_log_p,\n",
    "    'description': np.nan,\n",
    "    'corr': mean_corr.values,\n",
    "    'cluster': 'global'\n",
    "}).reset_index(drop=True)"
   ]
  },
  {
   "cell_type": "code",
   "execution_count": 68,
   "metadata": {},
   "outputs": [
    {
     "name": "stdout",
     "output_type": "stream",
     "text": [
      "Removing self-loops...\n"
     ]
    }
   ],
   "source": [
    "# Remove self-loops\n",
    "print(\"Removing self-loops...\")\n",
    "consolidated = consolidated[consolidated[\"tf\"] != consolidated[\"gene\"]]"
   ]
  },
  {
   "cell_type": "code",
   "execution_count": 69,
   "metadata": {},
   "outputs": [],
   "source": [
    "consolidated.to_csv(os.path.join(path_csvs, \"full_grn.csv\"))"
   ]
  },
  {
   "cell_type": "code",
   "execution_count": 70,
   "metadata": {},
   "outputs": [
    {
     "data": {
      "text/html": [
       "<div>\n",
       "<style scoped>\n",
       "    .dataframe tbody tr th:only-of-type {\n",
       "        vertical-align: middle;\n",
       "    }\n",
       "\n",
       "    .dataframe tbody tr th {\n",
       "        vertical-align: top;\n",
       "    }\n",
       "\n",
       "    .dataframe thead th {\n",
       "        text-align: right;\n",
       "    }\n",
       "</style>\n",
       "<table border=\"1\" class=\"dataframe\">\n",
       "  <thead>\n",
       "    <tr style=\"text-align: right;\">\n",
       "      <th></th>\n",
       "      <th>tf</th>\n",
       "      <th>gene</th>\n",
       "      <th>score</th>\n",
       "      <th>pval</th>\n",
       "      <th>cluster</th>\n",
       "    </tr>\n",
       "  </thead>\n",
       "  <tbody>\n",
       "    <tr>\n",
       "      <th>0</th>\n",
       "      <td>ARID3A</td>\n",
       "      <td>AATK</td>\n",
       "      <td>1.001928</td>\n",
       "      <td>0.006029</td>\n",
       "      <td>global</td>\n",
       "    </tr>\n",
       "    <tr>\n",
       "      <th>1</th>\n",
       "      <td>ARID3A</td>\n",
       "      <td>ABCA3</td>\n",
       "      <td>0.552419</td>\n",
       "      <td>0.006068</td>\n",
       "      <td>global</td>\n",
       "    </tr>\n",
       "    <tr>\n",
       "      <th>2</th>\n",
       "      <td>ARID3A</td>\n",
       "      <td>ABCC8</td>\n",
       "      <td>0.062171</td>\n",
       "      <td>0.036842</td>\n",
       "      <td>global</td>\n",
       "    </tr>\n",
       "    <tr>\n",
       "      <th>3</th>\n",
       "      <td>ARID3A</td>\n",
       "      <td>ABCG1</td>\n",
       "      <td>0.201618</td>\n",
       "      <td>0.068889</td>\n",
       "      <td>global</td>\n",
       "    </tr>\n",
       "    <tr>\n",
       "      <th>4</th>\n",
       "      <td>ARID3A</td>\n",
       "      <td>ABLIM2</td>\n",
       "      <td>0.268125</td>\n",
       "      <td>0.066368</td>\n",
       "      <td>global</td>\n",
       "    </tr>\n",
       "    <tr>\n",
       "      <th>...</th>\n",
       "      <td>...</td>\n",
       "      <td>...</td>\n",
       "      <td>...</td>\n",
       "      <td>...</td>\n",
       "      <td>...</td>\n",
       "    </tr>\n",
       "    <tr>\n",
       "      <th>9357</th>\n",
       "      <td>ZNF782</td>\n",
       "      <td>GUCY1A2</td>\n",
       "      <td>0.822456</td>\n",
       "      <td>0.325448</td>\n",
       "      <td>global</td>\n",
       "    </tr>\n",
       "    <tr>\n",
       "      <th>9358</th>\n",
       "      <td>ZNF782</td>\n",
       "      <td>MYO1B</td>\n",
       "      <td>0.399926</td>\n",
       "      <td>0.202001</td>\n",
       "      <td>global</td>\n",
       "    </tr>\n",
       "    <tr>\n",
       "      <th>9359</th>\n",
       "      <td>ZNF782</td>\n",
       "      <td>NETO1</td>\n",
       "      <td>0.324993</td>\n",
       "      <td>0.110220</td>\n",
       "      <td>global</td>\n",
       "    </tr>\n",
       "    <tr>\n",
       "      <th>9360</th>\n",
       "      <td>ZNF782</td>\n",
       "      <td>PLEKHB2</td>\n",
       "      <td>0.266331</td>\n",
       "      <td>0.033623</td>\n",
       "      <td>global</td>\n",
       "    </tr>\n",
       "    <tr>\n",
       "      <th>9361</th>\n",
       "      <td>ZNF782</td>\n",
       "      <td>ZC3H7B</td>\n",
       "      <td>0.210313</td>\n",
       "      <td>0.015832</td>\n",
       "      <td>global</td>\n",
       "    </tr>\n",
       "  </tbody>\n",
       "</table>\n",
       "<p>9323 rows × 5 columns</p>\n",
       "</div>"
      ],
      "text/plain": [
       "          tf     gene     score      pval cluster\n",
       "0     ARID3A     AATK  1.001928  0.006029  global\n",
       "1     ARID3A    ABCA3  0.552419  0.006068  global\n",
       "2     ARID3A    ABCC8  0.062171  0.036842  global\n",
       "3     ARID3A    ABCG1  0.201618  0.068889  global\n",
       "4     ARID3A   ABLIM2  0.268125  0.066368  global\n",
       "...      ...      ...       ...       ...     ...\n",
       "9357  ZNF782  GUCY1A2  0.822456  0.325448  global\n",
       "9358  ZNF782    MYO1B  0.399926  0.202001  global\n",
       "9359  ZNF782    NETO1  0.324993  0.110220  global\n",
       "9360  ZNF782  PLEKHB2  0.266331  0.033623  global\n",
       "9361  ZNF782   ZC3H7B  0.210313  0.015832  global\n",
       "\n",
       "[9323 rows x 5 columns]"
      ]
     },
     "execution_count": 70,
     "metadata": {},
     "output_type": "execute_result"
    }
   ],
   "source": [
    "grn = consolidated[[\"tf\", \"gene\", \"weight_unsigned\", \"pval\", \"cluster\"]]\n",
    "grn = grn.rename({\"weight_unsigned\": \"score\"}, axis=1)\n",
    "grn.to_csv(os.path.join(path_csvs, \"grn.csv\"))\n",
    "grn"
   ]
  },
  {
   "cell_type": "code",
   "execution_count": 71,
   "metadata": {},
   "outputs": [],
   "source": [
    "data.uns[\"grn\"] = grn"
   ]
  },
  {
   "cell_type": "code",
   "execution_count": null,
   "metadata": {},
   "outputs": [],
   "source": [
    "# Save data\n",
    "data.write_h5mu(path_output)"
   ]
  },
  {
   "attachments": {},
   "cell_type": "markdown",
   "metadata": {},
   "source": [
    "# DONE!"
   ]
  },
  {
   "attachments": {},
   "cell_type": "markdown",
   "metadata": {},
   "source": [
    "---"
   ]
  }
 ],
 "metadata": {
  "kernelspec": {
   "display_name": "Python 3.11 test_scenicplus_dev",
   "language": "python",
   "name": "test_scenicplus_dev"
  },
  "language_info": {
   "codemirror_mode": {
    "name": "ipython",
    "version": 3
   },
   "file_extension": ".py",
   "mimetype": "text/x-python",
   "name": "python",
   "nbconvert_exporter": "python",
   "pygments_lexer": "ipython3",
   "version": "3.11.9"
  },
  "orig_nbformat": 4
 },
 "nbformat": 4,
 "nbformat_minor": 2
}
