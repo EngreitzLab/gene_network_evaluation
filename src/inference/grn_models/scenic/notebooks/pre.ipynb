{
 "cells": [
  {
   "attachments": {},
   "cell_type": "markdown",
   "metadata": {},
   "source": [
    "# Pre"
   ]
  },
  {
   "cell_type": "code",
   "execution_count": 14,
   "metadata": {},
   "outputs": [],
   "source": [
    "import numpy as np\n",
    "import mudata as mu\n",
    "import scipy.sparse as sp\n",
    "import loompy as lp"
   ]
  },
  {
   "cell_type": "code",
   "execution_count": 15,
   "metadata": {},
   "outputs": [],
   "source": [
    "def write_loom(adata, filename, layer=None, use_raw=False):\n",
    "    \"\"\"Write AnnData object as loom that is compatible with SCENIC\n",
    "\n",
    "    Parameters\n",
    "    ----------\n",
    "    adata : AnnData\n",
    "        The annotated data matrix of shape `n_obs` x `n_vars`.\n",
    "        Rows correspond to cells and columns to genes.\n",
    "    filename : str\n",
    "        Filename to save to\n",
    "    layer : str\n",
    "        Layer to save instead of `X`. If `None`, `X` is saved.\n",
    "\n",
    "    Returns\n",
    "    -------\n",
    "    None\n",
    "    \"\"\"\n",
    "    print(f\"Saving as loom to {filename}\")\n",
    "    if use_raw:\n",
    "        adata = adata.raw.to_adata()  #only if adata has RAW saved and thats what you want!!\n",
    "    row_attrs = dict(zip(adata.var.reset_index().columns, adata.var.reset_index().values.T))\n",
    "    col_attrs = dict(zip(adata.obs.reset_index().columns, adata.obs.reset_index().values.T))\n",
    "    row_attrs[\"Gene\"] = np.array(adata.var_names)\n",
    "    col_attrs[\"CellID\"] = np.array(adata.obs_names)\n",
    "    if layer is not None:\n",
    "        X = adata.layers[layer]\n",
    "    else:\n",
    "        X = adata.X\n",
    "    if sp.issparse(X):\n",
    "        X = X.toarray()\n",
    "    col_attrs[\"nGene\"] = np.array(np.sum(X.transpose() > 0, axis=0)).flatten()\n",
    "    col_attrs[\"nUMI\"] = np.array(np.sum(X.transpose(), axis=0)).flatten()\n",
    "    lp.create(filename, X.transpose(), row_attrs, col_attrs)"
   ]
  },
  {
   "cell_type": "code",
   "execution_count": 16,
   "metadata": {},
   "outputs": [],
   "source": [
    "path_data = \"/cellar/users/aklie/data/datasets/neurips2021_small/annotation/2023_12_05/mdata.h5mu\"\n",
    "path_out = \"/cellar/users/aklie/data/datasets/neurips2021_small/analysis/scenic/rna.loom\""
   ]
  },
  {
   "cell_type": "code",
   "execution_count": 17,
   "metadata": {},
   "outputs": [
    {
     "name": "stderr",
     "output_type": "stream",
     "text": [
      "/cellar/users/aklie/opt/miniconda3/envs/test_scenicplus_dev/lib/python3.11/site-packages/anndata/_core/anndata.py:522: FutureWarning: The dtype argument is deprecated and will be removed in late 2024.\n",
      "  warnings.warn(\n",
      "/cellar/users/aklie/opt/miniconda3/envs/test_scenicplus_dev/lib/python3.11/site-packages/anndata/_core/anndata.py:522: FutureWarning: The dtype argument is deprecated and will be removed in late 2024.\n",
      "  warnings.warn(\n"
     ]
    },
    {
     "data": {
      "text/html": [
       "<pre>MuData object with n_obs × n_vars = 123 × 8704\n",
       "  obs:\t&#x27;celltype&#x27;, &#x27;batch&#x27;, &#x27;Samplename&#x27;, &#x27;Site&#x27;, &#x27;DonorNumber&#x27;, &#x27;Modality&#x27;, &#x27;VendorLot&#x27;, &#x27;DonorID&#x27;, &#x27;DonorAge&#x27;, &#x27;DonorBMI&#x27;, &#x27;DonorBloodType&#x27;, &#x27;DonorRace&#x27;, &#x27;Ethnicity&#x27;, &#x27;DonorGender&#x27;, &#x27;QCMeds&#x27;, &#x27;DonorSmoker&#x27;\n",
       "  2 modalities\n",
       "    atac:\t123 x 8192\n",
       "      obs:\t&#x27;pseudotime_order&#x27;\n",
       "      obsm:\t&#x27;X_lsi&#x27;, &#x27;X_umap&#x27;\n",
       "      layers:\t&#x27;counts&#x27;\n",
       "    rna:\t123 x 512\n",
       "      obs:\t&#x27;pseudotime_order&#x27;\n",
       "      var:\t&#x27;gene_id&#x27;\n",
       "      obsm:\t&#x27;X_pca&#x27;, &#x27;X_umap&#x27;\n",
       "      layers:\t&#x27;counts&#x27;</pre>"
      ],
      "text/plain": [
       "MuData object with n_obs × n_vars = 123 × 8704\n",
       "  obs:\t'celltype', 'batch', 'Samplename', 'Site', 'DonorNumber', 'Modality', 'VendorLot', 'DonorID', 'DonorAge', 'DonorBMI', 'DonorBloodType', 'DonorRace', 'Ethnicity', 'DonorGender', 'QCMeds', 'DonorSmoker'\n",
       "  2 modalities\n",
       "    atac:\t123 x 8192\n",
       "      obs:\t'pseudotime_order'\n",
       "      obsm:\t'X_lsi', 'X_umap'\n",
       "      layers:\t'counts'\n",
       "    rna:\t123 x 512\n",
       "      obs:\t'pseudotime_order'\n",
       "      var:\t'gene_id'\n",
       "      obsm:\t'X_pca', 'X_umap'\n",
       "      layers:\t'counts'"
      ]
     },
     "execution_count": 17,
     "metadata": {},
     "output_type": "execute_result"
    }
   ],
   "source": [
    "mdata = mu.read_h5mu(path_data)\n",
    "mdata"
   ]
  },
  {
   "cell_type": "code",
   "execution_count": 18,
   "metadata": {},
   "outputs": [
    {
     "name": "stdout",
     "output_type": "stream",
     "text": [
      "Saving as loom to /cellar/users/aklie/data/datasets/neurips2021_small/analysis/scenic/rna.loom\n"
     ]
    }
   ],
   "source": [
    "write_loom(\n",
    "    mdata.mod[\"rna\"],\n",
    "    filename=path_out,\n",
    "    layer=\"counts\"\n",
    ")"
   ]
  },
  {
   "cell_type": "code",
   "execution_count": null,
   "metadata": {},
   "outputs": [],
   "source": []
  }
 ],
 "metadata": {
  "kernelspec": {
   "display_name": "Python 3.11 test_scenicplus_dev",
   "language": "python",
   "name": "test_scenicplus_dev"
  },
  "language_info": {
   "codemirror_mode": {
    "name": "ipython",
    "version": 3
   },
   "file_extension": ".py",
   "mimetype": "text/x-python",
   "name": "python",
   "nbconvert_exporter": "python",
   "pygments_lexer": "ipython3",
   "version": "3.11.9"
  },
  "orig_nbformat": 4
 },
 "nbformat": 4,
 "nbformat_minor": 2
}
