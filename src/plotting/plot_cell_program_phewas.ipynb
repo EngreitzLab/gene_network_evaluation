{
 "cells": [
  {
   "cell_type": "code",
   "execution_count": 1,
   "id": "68b70e4d",
   "metadata": {},
   "outputs": [],
   "source": [
    "import pandas as pd\n",
    "import numpy as np\n",
    "import mudata\n",
    "import plotly.express as px\n",
    "from ipywidgets import interact, Dropdown, Output, VBox\n",
    "\n",
    "def create_enrichment_plotting_df(mdata,\n",
    "                       l2g_dataframe_path,\n",
    "                       varm_key_name=\"FDR_GWAS\",\n",
    "                       uns_key_name='genesets_GWAS',\n",
    "                       prog_key=\"cNMF\"):\n",
    "    \n",
    "    # Load the GWAS dataframe\n",
    "    l2g = pd.read_csv(l2g_dataframe_path, compression='gzip', low_memory=False)\n",
    "    l2g_metadata = l2g[[\"trait_efos\", \"trait_reported\", \"trait_category\"]].drop_duplicates()\n",
    "\n",
    "    # Get P-values for each GWAS program\n",
    "    prog_nam = mdata[prog_key].var.index \n",
    "    enrich_ps = pd.DataFrame(index=mdata[prog_key].uns[uns_key_name])\n",
    "\n",
    "    for prog in prog_nam:\n",
    "        # Extract p-values for the current program\n",
    "        prog_p_values = mdata[prog_key][:, prog].varm[varm_key_name].flatten()\n",
    "        \n",
    "        # Add the p-values as a column in the DataFrame\n",
    "        enrich_ps[prog] = pd.Series(prog_p_values, index=mdata[prog_key].uns[uns_key_name])\n",
    "\n",
    "    #drop columns that are NA, meaning that enrichment could not be computed for that\n",
    "    # Program x GWAS pair\n",
    "    enrich_ps.dropna(axis=0, how='all', inplace=True)\n",
    "    \n",
    "    #merge with the L2G metadata to map trait_efos to trait_reported and trait_category\n",
    "    enrich_ps = enrich_ps.reset_index(names='trait_efos').merge(l2g_metadata, on=\"trait_efos\", how=\"left\")\n",
    "    \n",
    "    #make the dataframe in long format\n",
    "    enrich_ps = enrich_ps.melt(id_vars=[\"trait_efos\", \"trait_reported\", \"trait_category\"], \n",
    "                               var_name=\"Program_Name\", \n",
    "                               value_name=\"Enrichment_Pvals\").drop_duplicates().sort_values(by=[\"trait_category\", \"Enrichment_Pvals\"])\n",
    "    \n",
    "    #If the input P-value == 0, then replace it with the lowest non-zero P-value in the dataframe\n",
    "    min_value = (enrich_ps.query(\"Enrichment_Pvals > 0\")['Enrichment_Pvals']).min()\n",
    "    \n",
    "    #compute the -log(10) P-value and deal with edge-cases (e.g. P=0, P=1)\n",
    "    enrich_ps.loc[enrich_ps[\"Enrichment_Pvals\"] == 0, \"Enrichment_Pvals\"] = min_value #replace P=0 with min non-0 p-value\n",
    "    enrich_ps['-log10(p-value)'] = abs(-1*np.log10(enrich_ps['Enrichment_Pvals']))\n",
    "    \n",
    "    enrich_ps = enrich_ps.query('trait_category != \"measurement\"')\n",
    "    enrich_ps.reset_index(drop=True, inplace=True)\n",
    "    \n",
    "    return enrich_ps\n",
    "\n",
    "\n",
    "def plot_interactive_phewas(data, x_column='trait_reported', y_column='-log10(p-value)', color_column='trait_category', filter_column='Program_Name'):\n",
    "    # Get unique values for the filtering column\n",
    "    filter_values = ['All'] + list(data[filter_column].unique())\n",
    "\n",
    "    # Initialize output widget to display the plot\n",
    "    output = Output()\n",
    "\n",
    "    # Function to update plot based on dropdown selection\n",
    "    def update_plot(selected_value):\n",
    "        # Filter data based on selected value\n",
    "        if selected_value == \"All\":\n",
    "            filtered_data = data.copy()  # No selection, show all data\n",
    "        else:\n",
    "            filtered_data = data[data[filter_column] == selected_value]\n",
    "\n",
    "        # Create the plot\n",
    "        fig = px.scatter(filtered_data, x=x_column, y=y_column, color=color_column,\n",
    "                         title='Cell Program x OpenTargets GWAS L2G Enrichment',\n",
    "                         hover_data=[filter_column, 'trait_efos', x_column, color_column, 'Enrichment_Pvals'])\n",
    "\n",
    "        # Customize layout\n",
    "        fig.update_layout(\n",
    "            xaxis_title=x_column,\n",
    "            yaxis_title=y_column,\n",
    "            yaxis=dict(tickformat=\".1f\"),\n",
    "            width=1000,  # Adjust width as needed\n",
    "            height=500,  # Adjust height as needed\n",
    "            xaxis_tickfont=dict(size=4)\n",
    "        )\n",
    "\n",
    "        # Clear previous plot and display the new one\n",
    "        with output:\n",
    "            output.clear_output(wait=True)\n",
    "            fig.show()\n",
    "\n",
    "    # Create dropdown widget\n",
    "    dropdown = Dropdown(options=filter_values, description=f\"{filter_column}:\")\n",
    "\n",
    "    # Define function to handle dropdown value change\n",
    "    def on_change(change):\n",
    "        if change['type'] == 'change' and change['name'] == 'value':\n",
    "            update_plot(change['new'])\n",
    "\n",
    "    # Link dropdown change to function\n",
    "    dropdown.observe(on_change)\n",
    "\n",
    "    # Display dropdown widget and initial plot\n",
    "    display(VBox([dropdown, output]))"
   ]
  },
  {
   "cell_type": "code",
   "execution_count": 2,
   "id": "83dd43b7",
   "metadata": {},
   "outputs": [
    {
     "name": "stderr",
     "output_type": "stream",
     "text": [
      "/home/robertg1/miniconda3/envs/cell_programs/lib/python3.9/site-packages/anndata/_core/anndata.py:430: FutureWarning: The dtype argument is deprecated and will be removed in late 2024.\n",
      "  warnings.warn(\n",
      "/home/robertg1/miniconda3/envs/cell_programs/lib/python3.9/site-packages/anndata/_core/anndata.py:430: FutureWarning: The dtype argument is deprecated and will be removed in late 2024.\n",
      "  warnings.warn(\n"
     ]
    }
   ],
   "source": [
    "mu_path=\"/data/deyk/genevieve/cell_programs/test_gwas_gsea_mudata.h5mu\"\n",
    "mdata=mudata.read(mu_path)\n",
    "\n",
    "l2g_path = \"/home/robertg1/gene_program_evaluation/smk/workflow/rules/resources/OpenTargets_L2G_Filtered.csv.gz\""
   ]
  },
  {
   "cell_type": "code",
   "execution_count": 4,
   "id": "c06412c3",
   "metadata": {},
   "outputs": [
    {
     "data": {
      "application/vnd.jupyter.widget-view+json": {
       "model_id": "343900a46a51435bb8d25688e6c51603",
       "version_major": 2,
       "version_minor": 0
      },
      "text/plain": [
       "VBox(children=(Dropdown(description='Program_Name:', options=('All', '19', '47', '35', '8', '36', '39', '15', …"
      ]
     },
     "metadata": {},
     "output_type": "display_data"
    }
   ],
   "source": [
    "plot_interactive_phewas(data=create_enrichment_plotting_df(mdata,\n",
    "                                                           l2g_dataframe_path=l2g_path))"
   ]
  }
 ],
 "metadata": {
  "kernelspec": {
   "display_name": "cell_programs",
   "language": "python",
   "name": "cell_programs"
  },
  "language_info": {
   "codemirror_mode": {
    "name": "ipython",
    "version": 3
   },
   "file_extension": ".py",
   "mimetype": "text/x-python",
   "name": "python",
   "nbconvert_exporter": "python",
   "pygments_lexer": "ipython3",
   "version": "3.9.19"
  }
 },
 "nbformat": 4,
 "nbformat_minor": 5
}
