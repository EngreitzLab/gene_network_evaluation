{
 "cells": [
  {
   "cell_type": "code",
   "execution_count": 7,
   "id": "68b70e4d",
   "metadata": {},
   "outputs": [],
   "source": [
    "import pandas as pd\n",
    "import numpy as np\n",
    "import mudata\n",
    "import plotly.express as px\n",
    "from ipywidgets import interact, Dropdown, Output, VBox\n",
    "\n",
    "import pandas as pd\n",
    "import numpy as np\n",
    "\n",
    "def process_enrichment_data(enrich_res,\n",
    "                            metadata,\n",
    "                            pval_col=\"P-value\",\n",
    "                            enrich_geneset_id_col=\"Term\",\n",
    "                            metadata_geneset_id_col=\"trait_efos\",\n",
    "                            color_category_col=\"trait_category\",\n",
    "                            program_name_col=\"program_name\",\n",
    "                            annotation_cols=[\"trait_reported\", \"Genes\", \"study_id\", \"pmid\"]):\n",
    "\n",
    "    # Read in enrichment results\n",
    "    if isinstance(enrich_res, str):\n",
    "        enrich_df = pd.read_csv(enrich_res)\n",
    "    elif isinstance(enrich_res, pd.DataFrame):\n",
    "        enrich_df = enrich_res\n",
    "    else:\n",
    "        raise ValueError(\"enrich_res must be either a pandas DataFrame or a file path to a CSV file.\")\n",
    "\n",
    "    if isinstance(metadata, str):\n",
    "        metadata_df = pd.read_csv(metadata, compression='gzip', low_memory=False)\n",
    "    elif isinstance(metadata, pd.DataFrame):\n",
    "        metadata_df = metadata\n",
    "    else:\n",
    "        raise ValueError(\"metadata must be either a pandas DataFrame or a file path to a CSV file.\")\n",
    "\n",
    "    # Join the enrichment results and the metadata\n",
    "    enrich_ps = enrich_df.merge(metadata_df, left_on=enrich_geneset_id_col, right_on=metadata_geneset_id_col, how=\"left\")\n",
    "\n",
    "    # Only keep the relevant columns\n",
    "    keep_cols = list([enrich_geneset_id_col, pval_col, metadata_geneset_id_col, color_category_col, program_name_col] + annotation_cols)\n",
    "    enrich_ps = enrich_ps[keep_cols]\n",
    "\n",
    "    # Sort by P-value\n",
    "    enrich_ps = enrich_ps.drop_duplicates().sort_values(by=[color_category_col, pval_col])\n",
    "\n",
    "    # If the input P-value == 0, then replace it with the lowest non-zero P-value in the dataframe\n",
    "    min_value = enrich_ps.query(f\"`{pval_col}` > 0\")[pval_col].min()\n",
    "\n",
    "    # Compute the -log(10) P-value and deal with edge-cases (e.g. P=0, P=1)\n",
    "    enrich_ps.loc[enrich_ps[pval_col] == 0, pval_col] = min_value  # Replace P=0 with min non-0 p-value\n",
    "    enrich_ps['-log10(p-value)'] = abs(-1 * np.log10(enrich_ps[pval_col]))\n",
    "\n",
    "    enrich_ps.reset_index(drop=True, inplace=True)\n",
    "\n",
    "    return enrich_ps\n",
    "\n",
    "\n",
    "def plot_interactive_phewas(data, x_column='trait_reported',\n",
    "                            y_column='-log10(p-value)',\n",
    "                            color_column='trait_category',\n",
    "                            filter_column='program_name',\n",
    "                            significance_threshold=0.05,\n",
    "                            annotation_cols=[\"program_name\", \"trait_reported\",\n",
    "                                             \"trait_category\", \"P-value\",\n",
    "                                             \"Genes\", \"study_id\", \"pmid\"],\n",
    "                           query_string=\"trait_category != 'measurement'\",\n",
    "                           title=\"Cell Program x OpenTargets GWAS L2G Enrichment\"):\n",
    "    \n",
    "    # Get unique values for the filtering column\n",
    "    filter_values = ['All'] + list(data[filter_column].unique())\n",
    "\n",
    "    # Initialize output widget to display the plot\n",
    "    output = Output()\n",
    "    \n",
    "    if query_string:\n",
    "        data=data.query(query_string)\n",
    "\n",
    "    # Function to update plot based on dropdown selection\n",
    "    def update_plot(selected_value):\n",
    "        # Filter data based on selected value\n",
    "        if selected_value == \"All\":\n",
    "            filtered_data = data.copy()  # No selection, show all data\n",
    "        else:\n",
    "            filtered_data = data[data[filter_column] == selected_value]\n",
    "\n",
    "        # Create the plot\n",
    "        fig = px.scatter(filtered_data, x=x_column, y=y_column, color=color_column,\n",
    "                         title=title,\n",
    "                         hover_data=annotation_cols)\n",
    "\n",
    "        # Customize layout\n",
    "        fig.update_layout(\n",
    "            xaxis_title=x_column,\n",
    "            yaxis_title=y_column,\n",
    "            yaxis=dict(tickformat=\".1f\"),\n",
    "            width=1000,  # Adjust width as needed\n",
    "            height=800,  # Adjust height as needed,\n",
    "            xaxis_tickfont=dict(size=4)\n",
    "        )\n",
    "\n",
    "        # Add horizontal dashed line for significance threshold\n",
    "        fig.add_hline(y=-np.log10(significance_threshold), line_dash=\"dash\",\n",
    "                      annotation_text=f'Significance Threshold ({significance_threshold})', annotation_position=\"top right\")\n",
    "\n",
    "        # Clear previous plot and display the new one\n",
    "        with output:\n",
    "            output.clear_output(wait=True)\n",
    "            fig.show()\n",
    "\n",
    "    # Create dropdown widget\n",
    "    dropdown = Dropdown(options=filter_values, description=f\"{filter_column}:\")\n",
    "\n",
    "    # Define function to handle dropdown value change\n",
    "    def on_change(change):\n",
    "        if change['type'] == 'change' and change['name'] == 'value':\n",
    "            update_plot(change['new'])\n",
    "\n",
    "    # Link dropdown change to function\n",
    "    dropdown.observe(on_change)\n",
    "\n",
    "    # Display dropdown widget and initial plot\n",
    "    display(VBox([dropdown, output]))"
   ]
  },
  {
   "cell_type": "code",
   "execution_count": 2,
   "id": "cd63c378",
   "metadata": {},
   "outputs": [],
   "source": [
    "import os\n",
    "current_directory = os.getcwd()\n",
    "os.chdir(current_directory)\n",
    "\n",
    "enrich_res=\"dashapp/example_data/OpenTargets_L2G_Cell_Program_Enrichment_Results.csv\"\n",
    "metadata=\"../../smk/resources/OpenTargets_L2G_Filtered.csv.gz\"\n",
    "\n",
    "data=process_enrichment_data(\n",
    "    enrich_res=enrich_res,\n",
    "    metadata=metadata)\n",
    "\n",
    "data.to_csv('dashapp/example_data/cNMF_enrichment_trait_processed.txt', sep='\\t')"
   ]
  },
  {
   "cell_type": "markdown",
   "id": "a31fb60c",
   "metadata": {},
   "source": [
    "## Plot Binary GWAS Outcomes"
   ]
  },
  {
   "cell_type": "code",
   "execution_count": 8,
   "id": "5271013d",
   "metadata": {
    "scrolled": true
   },
   "outputs": [
    {
     "data": {
      "application/vnd.jupyter.widget-view+json": {
       "model_id": "50f7a9184807431f833fa9882e0edd63",
       "version_major": 2,
       "version_minor": 0
      },
      "text/plain": [
       "VBox(children=(Dropdown(description='program_name:', options=('All', 36, 19, 8, 28, 35, 21, 41, 1, 2, 47, 34, …"
      ]
     },
     "metadata": {},
     "output_type": "display_data"
    },
    {
     "data": {
      "application/vnd.plotly.v1+json": {
       "config": {
        "plotlyServerURL": "https://plot.ly"
       },
       "data": [
        {
         "customdata": [
          [
           19,
           "biological process",
           0.0017764883074341,
           "PIR;LDLR;IRF2BP2;HMGCR;PNPLA3;LIPG;VEGFA",
           "FINNGEN_R6_RX_STATIN",
           null
          ],
          [
           19,
           "biological process",
           0.1343400831032873,
           "EPAS1",
           "GCST006054",
           "PMID:28373541"
          ],
          [
           19,
           "biological process",
           0.3114186984457615,
           "PCYOX1;TFB1M;NR2F1;IRF2BP2;SYT1;MARCKS;PTPN1;CBX5;CACNB1;HABP4;BNIP3L;MNT;DUSP6;NFIB;LONRF1;PDIA6;MTFR1;PTPRN2",
           "GCST006568",
           "PMID:30038396"
          ],
          [
           19,
           "biological process",
           0.6364585961150973,
           "AKAP12",
           "NEALE2_1757",
           null
          ],
          [
           19,
           "biological process",
           0.7647169252273888,
           "LONRF1",
           "GCST007464",
           "PMID:30643251"
          ],
          [
           19,
           "biological process",
           0.7823644484645602,
           "LBR;FRY;RAB3C",
           "GCST006660",
           "PMID:30348214"
          ],
          [
           19,
           "biological process",
           0.8052074518987202,
           "YWHAZ;PLXNA2;LRP8",
           "GCST007325",
           "PMID:30643258"
          ],
          [
           19,
           "biological process",
           0.8958060820939588,
           "SYT1",
           "GCST006269",
           "PMID:29844566"
          ],
          [
           19,
           "biological process",
           0.9346715046595316,
           "PLXNA2",
           "GCST007327",
           "PMID:30643258"
          ]
         ],
         "hovertemplate": "trait_category=%{customdata[1]}<br>trait_reported=%{x}<br>-log10(p-value)=%{y}<br>program_name=%{customdata[0]}<br>P-value=%{customdata[2]}<br>Genes=%{customdata[3]}<br>study_id=%{customdata[4]}<br>pmid=%{customdata[5]}<extra></extra>",
         "legendgroup": "biological process",
         "marker": {
          "color": "#636efa",
          "symbol": "circle"
         },
         "mode": "markers",
         "name": "biological process",
         "orientation": "v",
         "showlegend": true,
         "type": "scatter",
         "x": [
          "Statin medication",
          "High altitude adaptation",
          "Highest math class taken (MTAG) [MTAG]",
          "Facial ageing",
          "Smoking cessation (MTAG)",
          "DNA methylation variation (age effect)",
          "General risk tolerance (MTAG)",
          "General cognitive ability",
          "Smoking status (ever vs never smokers)"
         ],
         "xaxis": "x",
         "y": [
          2.750437646623041,
          0.8717943873810217,
          0.5066553147350892,
          0.1962298434849674,
          0.11649929760822468,
          0.10659089261010384,
          0.09409221452913771,
          0.047785993229935854,
          0.029340997449113893
         ],
         "yaxis": "y"
        },
        {
         "customdata": [
          [
           19,
           "cardiovascular disease",
           0.0201244224746658,
           "CDKN1A;LIPA",
           "GCST011496",
           "PMID:32981348"
          ],
          [
           19,
           "cardiovascular disease",
           0.0440297257759461,
           "CDKN1A;SQLE",
           "GCST011202",
           "PMID:33495596"
          ],
          [
           19,
           "cardiovascular disease",
           0.1283084629236031,
           "DPYSL2;UBASH3B;CLCN6;CLIC4;GLI2;NPC1;HSD17B12;VEGFA",
           "GCST007072",
           "PMID:30595370"
          ],
          [
           19,
           "cardiovascular disease",
           0.1343400831032873,
           "CDKN1A",
           "GCST012099",
           "PMID:33495597"
          ],
          [
           19,
           "cardiovascular disease",
           0.1485496708304558,
           "GLCE;CLCN6;SYT1",
           "FINNGEN_R6_RX_ANTIHYP",
           null
          ],
          [
           19,
           "cardiovascular disease",
           0.1833951163905241,
           "SCARB1;LIPA;VEGFA",
           "GCST005195",
           "PMID:29212778"
          ],
          [
           19,
           "cardiovascular disease",
           0.1984024628911286,
           "NUCKS1;SMIM29;CDKN1A;SQLE",
           "GCST006061",
           "PMID:29892015"
          ],
          [
           19,
           "cardiovascular disease",
           0.2507048273189083,
           "CDKN1A",
           "GCST009541",
           "PMID:31919418"
          ],
          [
           19,
           "cardiovascular disease",
           0.4703169934611635,
           "CDKN1A",
           "FINNGEN_R6_CARDIAC_ARRHYTM",
           null
          ],
          [
           19,
           "cardiovascular disease",
           0.5143547315191779,
           "CLCN6",
           "FINNGEN_R6_I9_IHD",
           null
          ],
          [
           19,
           "cardiovascular disease",
           0.5547466477670275,
           "TGFBR2",
           "GCST003720",
           "PMID:27322543"
          ],
          [
           19,
           "cardiovascular disease",
           0.8188532174755944,
           "LIPA",
           "GCST011365",
           "PMID:33532862"
          ],
          [
           19,
           "cardiovascular disease",
           0.8522214423029417,
           "SRBD1",
           "GCST90014033",
           "PMID:33888516"
          ]
         ],
         "hovertemplate": "trait_category=%{customdata[1]}<br>trait_reported=%{x}<br>-log10(p-value)=%{y}<br>program_name=%{customdata[0]}<br>P-value=%{customdata[2]}<br>Genes=%{customdata[3]}<br>study_id=%{customdata[4]}<br>pmid=%{customdata[5]}<extra></extra>",
         "legendgroup": "cardiovascular disease",
         "marker": {
          "color": "#EF553B",
          "symbol": "circle"
         },
         "mode": "markers",
         "name": "cardiovascular disease",
         "orientation": "v",
         "showlegend": true,
         "type": "scatter",
         "x": [
          "Abdominal aortic aneurysm",
          "Dilated cardiomyopathy (MTAG)",
          "Cardiovascular disease",
          "Hypertrophic cardiomyopathy (sarcomere negative)",
          "Antihypertensive medication - note that there are other indications",
          "Coronary artery disease",
          "Atrial fibrillation",
          "Heart failure",
          "Cardiac arrhytmias",
          "Ischaemic heart disease, wide definition",
          "Migraine",
          "Myocardial infarction",
          "Haemorrhoidal disease"
         ],
         "xaxis": "x",
         "y": [
          1.6962765740490229,
          1.3562540193863586,
          0.8917446976405934,
          0.8717943873810217,
          0.8281283062075069,
          0.736612233294601,
          0.7024529409853294,
          0.600837303625428,
          0.3276093290721635,
          0.28873726076138856,
          0.25590531345049344,
          0.08679394018522071,
          0.06944754293925572
         ],
         "yaxis": "y"
        },
        {
         "customdata": [
          [
           19,
           "cell proliferation disorder",
           0.0153788714617108,
           "SCARB1;EPAS1",
           "GCST004710",
           "PMID:28598434"
          ],
          [
           19,
           "cell proliferation disorder",
           0.0234350473829585,
           "CDKN1A;LPIN1;DDR2",
           "SAIGE_728_71",
           null
          ],
          [
           19,
           "cell proliferation disorder",
           0.2061550439296068,
           "RNASET2",
           "GCST004748",
           "PMID:28604730"
          ],
          [
           19,
           "cell proliferation disorder",
           0.447500965440971,
           "CDKN1A;TOX2",
           "GCST007992",
           "PMID:31089142"
          ],
          [
           19,
           "cell proliferation disorder",
           0.4547717929717223,
           "GJC1",
           "FINNGEN_R6_C3_MALE_GENITAL",
           null
          ],
          [
           19,
           "cell proliferation disorder",
           0.4547717929717223,
           "GJC1",
           "FINNGEN_R6_C3_MALE_GENITAL_EXALLC",
           null
          ],
          [
           19,
           "cell proliferation disorder",
           0.5282084219701223,
           "RNASET2",
           "SAIGE_172",
           null
          ],
          [
           19,
           "cell proliferation disorder",
           0.5547466477670275,
           "ID3",
           "GCST004146",
           "PMID:28165464"
          ],
          [
           19,
           "cell proliferation disorder",
           0.5547466477670275,
           "IL21R",
           "GCST90061442",
           "PMID:34033851"
          ],
          [
           19,
           "cell proliferation disorder",
           0.6364585961150973,
           "RNASET2",
           "GCST90027058",
           "PMID:34290314"
          ],
          [
           19,
           "cell proliferation disorder",
           0.777992860371213,
           "RNASET2",
           "GCST008871",
           "PMID:31174203"
          ],
          [
           19,
           "cell proliferation disorder",
           0.9121531895652748,
           "GLI2;VEGFA",
           "GCST011049",
           "PMID:33398198"
          ],
          [
           19,
           "cell proliferation disorder",
           0.926577614570827,
           "TGFBR2",
           "GCST90090980",
           "PMID:32139696"
          ]
         ],
         "hovertemplate": "trait_category=%{customdata[1]}<br>trait_reported=%{x}<br>-log10(p-value)=%{y}<br>program_name=%{customdata[0]}<br>P-value=%{customdata[2]}<br>Genes=%{customdata[3]}<br>study_id=%{customdata[4]}<br>pmid=%{customdata[5]}<extra></extra>",
         "legendgroup": "cell proliferation disorder",
         "marker": {
          "color": "#00cc96",
          "symbol": "circle"
         },
         "mode": "markers",
         "name": "cell proliferation disorder",
         "orientation": "v",
         "showlegend": true,
         "type": "scatter",
         "x": [
          "Renal cell carcinoma",
          "Contracture of palmar fascia [dupuytren's disease]",
          "Lung cancer",
          "Colorectal cancer",
          "malignant neoplasm of male genital organs",
          "malignant neoplasm of male genital organs (controls excluding all cancers)",
          "Skin cancer",
          "Chronic lymphocytic leukemia",
          "Primary biliary cholangitis",
          "Non-melanoma skin cancer",
          "Basal cell carcinoma",
          "Prostate cancer",
          "Breast cancer"
         ],
         "xaxis": "x",
         "y": [
          1.8130755329308288,
          1.6301341640496123,
          0.6858060349882722,
          0.3492060233978256,
          0.3422064800806736,
          0.3422064800806736,
          0.27719467850586216,
          0.25590531345049344,
          0.25590531345049344,
          0.1962298434849674,
          0.10902438850595701,
          0.0399322189128057,
          0.03311819623927466
         ],
         "yaxis": "y"
        },
        {
         "customdata": [
          [
           19,
           "disease of visual system",
           0.1094421927674374,
           "MMAB;MVK",
           "GCST90018814",
           "PMID:34594039"
          ],
          [
           19,
           "disease of visual system",
           0.3514897829027668,
           "VEGFA",
           "GCST001884",
           "PMID:23455636"
          ],
          [
           19,
           "disease of visual system",
           0.3519476214627181,
           "PTPN1;NPC2;PCSK5",
           "GCST009722",
           "PMID:31959993"
          ],
          [
           19,
           "disease of visual system",
           0.3879164909650702,
           "MMAB",
           "FINNGEN_R6_H7_LENS",
           null
          ],
          [
           19,
           "disease of visual system",
           0.6901679744939967,
           "LIPG;NPC2;ETNK1",
           "GCST010378",
           "PMID:32352494"
          ],
          [
           19,
           "disease of visual system",
           0.7714508248878551,
           "LTBP2",
           "GCST90011770",
           "PMID:33627673"
          ]
         ],
         "hovertemplate": "trait_category=%{customdata[1]}<br>trait_reported=%{x}<br>-log10(p-value)=%{y}<br>program_name=%{customdata[0]}<br>P-value=%{customdata[2]}<br>Genes=%{customdata[3]}<br>study_id=%{customdata[4]}<br>pmid=%{customdata[5]}<extra></extra>",
         "legendgroup": "disease of visual system",
         "marker": {
          "color": "#ab63fa",
          "symbol": "circle"
         },
         "mode": "markers",
         "name": "disease of visual system",
         "orientation": "v",
         "showlegend": true,
         "type": "scatter",
         "x": [
          "Cataracts",
          "Age-related macular degeneration",
          "Glaucoma (multi-trait analysis)",
          "Disorders of lens",
          "Spherical equivalent",
          "Glaucoma (primary open-angle)"
         ],
         "xaxis": "x",
         "y": [
          0.9608152140773768,
          0.4540872945230746,
          0.45352196550578805,
          0.4112617574381072,
          0.1610451969182307,
          0.11269175224569011
         ],
         "yaxis": "y"
        },
        {
         "customdata": [
          [
           19,
           "endocrine system disease",
           0.1376238528655774,
           "BHLHE40;RAB2A;IFITM2;RNASET2",
           "GCST010571",
           "PMID:32581359"
          ],
          [
           19,
           "endocrine system disease",
           0.2061550439296068,
           "RNASET2",
           "GCST90018860",
           "PMID:34594039"
          ],
          [
           19,
           "endocrine system disease",
           0.5172427184455903,
           "BHLHE40;RAB2A;RNASET2",
           "GCST007073",
           "PMID:30595370"
          ],
          [
           19,
           "endocrine system disease",
           0.6569316374263021,
           "VEGFA",
           "FINNGEN_R6_E4_THYROID",
           null
          ],
          [
           19,
           "endocrine system disease",
           0.7843484737352562,
           "VEGFA",
           "FINNGEN_R6_E4_HYTHY_AI_STRICT_PURCH",
           null
          ]
         ],
         "hovertemplate": "trait_category=%{customdata[1]}<br>trait_reported=%{x}<br>-log10(p-value)=%{y}<br>program_name=%{customdata[0]}<br>P-value=%{customdata[2]}<br>Genes=%{customdata[3]}<br>study_id=%{customdata[4]}<br>pmid=%{customdata[5]}<extra></extra>",
         "legendgroup": "endocrine system disease",
         "marker": {
          "color": "#FFA15A",
          "symbol": "circle"
         },
         "mode": "markers",
         "name": "endocrine system disease",
         "orientation": "v",
         "showlegend": true,
         "type": "scatter",
         "x": [
          "Autoimmune thyroid disease",
          "Hyperthyroidism",
          "Hypothyroidism",
          "Disorders of the thyroid gland",
          "Hypothyroidism, strict autoimmune, 3 medication purchases required"
         ],
         "xaxis": "x",
         "y": [
          0.8613062879746043,
          0.6858060349882722,
          0.28630561445857156,
          0.1824798222716765,
          0.10549094420805395
         ],
         "yaxis": "y"
        },
        {
         "customdata": [
          [
           19,
           "gastrointestinal disease",
           0.2199576104207486,
           "SMIM29;VEGFA",
           "GCST90094908",
           "PMID:35047847"
          ],
          [
           19,
           "gastrointestinal disease",
           0.2287500538282526,
           "IL21R",
           "FINNGEN_R6_RX_CROHN_2NDLINE",
           null
          ],
          [
           19,
           "gastrointestinal disease",
           0.2287500538282526,
           "NAV3",
           "FINNGEN_R6_ABDOM_HERNIA",
           null
          ],
          [
           19,
           "gastrointestinal disease",
           0.3879164909650702,
           "ANPEP",
           "GCST007209",
           "PMID:30504769"
          ],
          [
           19,
           "gastrointestinal disease",
           0.5282084219701223,
           "PCSK5",
           "GCST006479",
           "PMID:30177863"
          ],
          [
           19,
           "gastrointestinal disease",
           0.5797985937087958,
           "PNPLA3",
           "GCST90018819",
           "PMID:34594039"
          ],
          [
           19,
           "gastrointestinal disease",
           0.6823013749557024,
           "TSPAN14;PDGFB",
           "GCST004131",
           "PMID:28067908"
          ]
         ],
         "hovertemplate": "trait_category=%{customdata[1]}<br>trait_reported=%{x}<br>-log10(p-value)=%{y}<br>program_name=%{customdata[0]}<br>P-value=%{customdata[2]}<br>Genes=%{customdata[3]}<br>study_id=%{customdata[4]}<br>pmid=%{customdata[5]}<extra></extra>",
         "legendgroup": "gastrointestinal disease",
         "marker": {
          "color": "#19d3f3",
          "symbol": "circle"
         },
         "mode": "markers",
         "name": "gastrointestinal disease",
         "orientation": "v",
         "showlegend": true,
         "type": "scatter",
         "x": [
          "Nonalcoholic fatty liver disease (imputed)",
          "Second line medication for Crohns disease",
          "Hernia of abodminal wall",
          "Gallstone disease",
          "Diverticular disease",
          "Cholelithiasis",
          "Inflammatory bowel disease"
         ],
         "xaxis": "x",
         "y": [
          0.6576610070603534,
          0.640638795065622,
          0.640638795065622,
          0.4112617574381072,
          0.27719467850586216,
          0.23672284235330593,
          0.16602375354044738
         ],
         "yaxis": "y"
        },
        {
         "customdata": [
          [
           19,
           "genetic, familial or congenital disease",
           0.056061017525612,
           "GNAS",
           "GCST007916",
           "PMID:29124443"
          ]
         ],
         "hovertemplate": "trait_category=%{customdata[1]}<br>trait_reported=%{x}<br>-log10(p-value)=%{y}<br>program_name=%{customdata[0]}<br>P-value=%{customdata[2]}<br>Genes=%{customdata[3]}<br>study_id=%{customdata[4]}<br>pmid=%{customdata[5]}<extra></extra>",
         "legendgroup": "genetic, familial or congenital disease",
         "marker": {
          "color": "#FF6692",
          "symbol": "circle"
         },
         "mode": "markers",
         "name": "genetic, familial or congenital disease",
         "orientation": "v",
         "showlegend": true,
         "type": "scatter",
         "x": [
          "Hyperuricemia"
         ],
         "xaxis": "x",
         "y": [
          1.251339023918792
         ],
         "yaxis": "y"
        },
        {
         "customdata": [
          [
           19,
           "immune system disease",
           0.1569286846215245,
           "SYPL1;UBASH3B;MTHFR;TOX2;RRAS2;BCL10",
           "GCST009597",
           "PMID:31604244"
          ],
          [
           19,
           "immune system disease",
           0.7647169252273888,
           "RNASET2",
           "GCST007071",
           "PMID:30595370"
          ]
         ],
         "hovertemplate": "trait_category=%{customdata[1]}<br>trait_reported=%{x}<br>-log10(p-value)=%{y}<br>program_name=%{customdata[0]}<br>P-value=%{customdata[2]}<br>Genes=%{customdata[3]}<br>study_id=%{customdata[4]}<br>pmid=%{customdata[5]}<extra></extra>",
         "legendgroup": "immune system disease",
         "marker": {
          "color": "#B6E880",
          "symbol": "circle"
         },
         "mode": "markers",
         "name": "immune system disease",
         "orientation": "v",
         "showlegend": true,
         "type": "scatter",
         "x": [
          "Multiple sclerosis",
          "Autoimmune traits"
         ],
         "xaxis": "x",
         "y": [
          0.8042976655001944,
          0.11649929760822468
         ],
         "yaxis": "y"
        },
        {
         "customdata": [
          [
           19,
           "integumentary system disease",
           0.2942593684198209,
           "PTPN1;RNASET2",
           "GCST004785",
           "PMID:27723757"
          ],
          [
           19,
           "integumentary system disease",
           0.5547466477670275,
           "CCDC80",
           "GCST90086149",
           "PMID:34116867"
          ],
          [
           19,
           "integumentary system disease",
           0.5917932931517309,
           "PNPLA3",
           "GCST90092000",
           "PMID:35132056"
          ]
         ],
         "hovertemplate": "trait_category=%{customdata[1]}<br>trait_reported=%{x}<br>-log10(p-value)=%{y}<br>program_name=%{customdata[0]}<br>P-value=%{customdata[2]}<br>Genes=%{customdata[3]}<br>study_id=%{customdata[4]}<br>pmid=%{customdata[5]}<extra></extra>",
         "legendgroup": "integumentary system disease",
         "marker": {
          "color": "#FF97FF",
          "symbol": "circle"
         },
         "mode": "markers",
         "name": "integumentary system disease",
         "orientation": "v",
         "showlegend": true,
         "type": "scatter",
         "x": [
          "Vitiligo",
          "Atopic dermatitis",
          "acne vulgaris"
         ],
         "xaxis": "x",
         "y": [
          0.5312697015065693,
          0.25590531345049344,
          0.22782996104713193
         ],
         "yaxis": "y"
        },
        {
         "customdata": [
          [
           19,
           "musculoskeletal or connective tissue disease",
           0.1380296513827923,
           "MLXIP;PNPLA3",
           "GCST012338",
           "PMID:33832965"
          ],
          [
           19,
           "musculoskeletal or connective tissue disease",
           0.2507048273189083,
           "PLXNA2",
           "GCST008789",
           "PMID:31417091"
          ],
          [
           19,
           "musculoskeletal or connective tissue disease",
           0.4223060168318421,
           "DDR2",
           "GCST004858",
           "PMID:28886342"
          ]
         ],
         "hovertemplate": "trait_category=%{customdata[1]}<br>trait_reported=%{x}<br>-log10(p-value)=%{y}<br>program_name=%{customdata[0]}<br>P-value=%{customdata[2]}<br>Genes=%{customdata[3]}<br>study_id=%{customdata[4]}<br>pmid=%{customdata[5]}<extra></extra>",
         "legendgroup": "musculoskeletal or connective tissue disease",
         "marker": {
          "color": "#FECB52",
          "symbol": "circle"
         },
         "mode": "markers",
         "name": "musculoskeletal or connective tissue disease",
         "orientation": "v",
         "showlegend": true,
         "type": "scatter",
         "x": [
          "Gout",
          "Adolescent idiopathic scoliosis",
          "Dupuytren's disease"
         ],
         "xaxis": "x",
         "y": [
          0.8600276088982539,
          0.600837303625428,
          0.3743727308927516
         ],
         "yaxis": "y"
        },
        {
         "customdata": [
          [
           19,
           "nervous system disease",
           0.2287500538282526,
           "ATP2C1",
           "GCST005042",
           "PMID:29029846"
          ],
          [
           19,
           "nervous system disease",
           0.2942593684198209,
           "NUCKS1;SNCA",
           "GCST004902",
           "PMID:28892059"
          ],
          [
           19,
           "nervous system disease",
           0.2942593684198209,
           "NUCKS1;SNCA",
           "GCST010991",
           "PMID:32201043"
          ],
          [
           19,
           "nervous system disease",
           0.5155063301890639,
           "NUCKS1;TCF20;LONRF1;PLXNA2;DUSP6;NFIB;HSD17B12;MTFR1;PTPRN2",
           "GCST90061435",
           "PMID:34446935"
          ],
          [
           19,
           "nervous system disease",
           0.5416686865549875,
           "DUSP6",
           "GCST90016618",
           "PMID:33686288"
          ],
          [
           19,
           "nervous system disease",
           0.6855089857015289,
           "SLC7A11",
           "GCST010017",
           "PMID:32231276"
          ],
          [
           19,
           "nervous system disease",
           0.6944979938815563,
           "NRDC",
           "GCST012090",
           "PMID:33479212"
          ]
         ],
         "hovertemplate": "trait_category=%{customdata[1]}<br>trait_reported=%{x}<br>-log10(p-value)=%{y}<br>program_name=%{customdata[0]}<br>P-value=%{customdata[2]}<br>Genes=%{customdata[3]}<br>study_id=%{customdata[4]}<br>pmid=%{customdata[5]}<extra></extra>",
         "legendgroup": "nervous system disease",
         "marker": {
          "color": "#636efa",
          "symbol": "circle"
         },
         "mode": "markers",
         "name": "nervous system disease",
         "orientation": "v",
         "showlegend": true,
         "type": "scatter",
         "x": [
          "Restless legs syndrome",
          "Parkinson's disease",
          "Parkinson's disease",
          "Externalizing behaviour (multivariate analysis)",
          "Schizophrenia vs ADHD (ordinary least squares (OLS))",
          "Neuroticism",
          "Major depressive disorder (MTAG)"
         ],
         "xaxis": "x",
         "y": [
          0.640638795065622,
          0.5312697015065693,
          0.5312697015065693,
          0.28776599740413,
          0.2662662699129855,
          0.16398684807357408,
          0.15832900442230294
         ],
         "yaxis": "y"
        },
        {
         "customdata": [
          [
           19,
           "pancreas disease",
           0.7506509700484338,
           "GLI2",
           "GCST007077",
           "PMID:30595370"
          ]
         ],
         "hovertemplate": "trait_category=%{customdata[1]}<br>trait_reported=%{x}<br>-log10(p-value)=%{y}<br>program_name=%{customdata[0]}<br>P-value=%{customdata[2]}<br>Genes=%{customdata[3]}<br>study_id=%{customdata[4]}<br>pmid=%{customdata[5]}<extra></extra>",
         "legendgroup": "pancreas disease",
         "marker": {
          "color": "#EF553B",
          "symbol": "circle"
         },
         "mode": "markers",
         "name": "pancreas disease",
         "orientation": "v",
         "showlegend": true,
         "type": "scatter",
         "x": [
          "Type 2 diabetes"
         ],
         "xaxis": "x",
         "y": [
          0.12456194983603248
         ],
         "yaxis": "y"
        },
        {
         "customdata": [
          [
           19,
           "phenotype",
           0.008688541686716,
           "LDLR;IRF2BP2;HMGCR;LIPG;SCARB1;VEGFA",
           "GCST90038690",
           "PMID:33959723"
          ],
          [
           19,
           "phenotype",
           0.1343400831032873,
           "DYSF",
           "FINNGEN_R6_M13_HALLUXVALGUS",
           null
          ],
          [
           19,
           "phenotype",
           0.1782415427636318,
           "NAV3;PTPRN2",
           "GCST001712",
           "PMID:23049088"
          ],
          [
           19,
           "phenotype",
           0.2061550439296068,
           "NUCKS1",
           "NEALE2_2257",
           null
          ],
          [
           19,
           "phenotype",
           0.3049145941394633,
           "UBC;SCD;RAB32",
           "NEALE2_1717",
           null
          ],
          [
           19,
           "phenotype",
           0.3514897829027668,
           "MMAB",
           "FINNGEN_R6_H7_CATARACTSENILE",
           null
          ],
          [
           19,
           "phenotype",
           0.4387725338878636,
           "LPIN1",
           "SAIGE_728_7",
           null
          ],
          [
           19,
           "phenotype",
           0.4387725338878636,
           "RAB3C",
           "FINNGEN_R6_K11_HERNIA",
           null
          ],
          [
           19,
           "phenotype",
           0.4854209635556349,
           "TUBA1A",
           "GCST90013421",
           "PMID:32989287"
          ],
          [
           19,
           "phenotype",
           0.5917932931517309,
           "HSD17B12",
           "GCST008512",
           "PMID:31194737"
          ],
          [
           19,
           "phenotype",
           0.5917932931517309,
           "HSD17B12",
           "GCST012332",
           "PMID:33830993"
          ],
          [
           19,
           "phenotype",
           0.6762567419240386,
           "CPNE3",
           "GCST90018939",
           "PMID:34594039"
          ],
          [
           19,
           "phenotype",
           0.7012900333459319,
           "AKAP12;CDC42BPA",
           "GCST006988",
           "PMID:30531825"
          ],
          [
           19,
           "phenotype",
           0.9414579808611644,
           "VEGFA;NPC2;TOX2;RRAS2;FRY",
           "GCST010002",
           "PMID:32231278"
          ]
         ],
         "hovertemplate": "trait_category=%{customdata[1]}<br>trait_reported=%{x}<br>-log10(p-value)=%{y}<br>program_name=%{customdata[0]}<br>P-value=%{customdata[2]}<br>Genes=%{customdata[3]}<br>study_id=%{customdata[4]}<br>pmid=%{customdata[5]}<extra></extra>",
         "legendgroup": "phenotype",
         "marker": {
          "color": "#00cc96",
          "symbol": "circle"
         },
         "mode": "markers",
         "name": "phenotype",
         "orientation": "v",
         "showlegend": true,
         "type": "scatter",
         "x": [
          "High cholesterol",
          "Hallux valgus (acquired)",
          "Myopia (pathological)",
          "Hearing difficulty/problems with background noise",
          "Skin colour",
          "Senile cataract",
          "Fasciitis",
          "Hernia",
          "Left-handedness",
          "Multisite chronic pain",
          "Multisite chronic pain",
          "Varicose veins",
          "Blond vs. brown/black hair color",
          "Refractive error"
         ],
         "xaxis": "x",
         "y": [
          2.0610531108424572,
          0.8717943873810217,
          0.7489910674689295,
          0.6858060349882722,
          0.5158217884829206,
          0.4540872945230746,
          0.3577605660432619,
          0.3577605660432619,
          0.313881472009155,
          0.22782996104713193,
          0.22782996104713193,
          0.16988839217622498,
          0.15410233320106417,
          0.026199058639734853
         ],
         "yaxis": "y"
        },
        {
         "customdata": [
          [
           19,
           "respiratory or thoracic disease",
           0.2927653966471928,
           "IL21R",
           "FINNGEN_R6_ILD_ENDPOINTS",
           null
          ],
          [
           19,
           "respiratory or thoracic disease",
           0.4945157231297057,
           "THSD4;PRSS23",
           "GCST007692",
           "PMID:30804561"
          ],
          [
           19,
           "respiratory or thoracic disease",
           0.8684627092415388,
           "FADS2",
           "GCST007076",
           "PMID:30595370"
          ]
         ],
         "hovertemplate": "trait_category=%{customdata[1]}<br>trait_reported=%{x}<br>-log10(p-value)=%{y}<br>program_name=%{customdata[0]}<br>P-value=%{customdata[2]}<br>Genes=%{customdata[3]}<br>study_id=%{customdata[4]}<br>pmid=%{customdata[5]}<extra></extra>",
         "legendgroup": "respiratory or thoracic disease",
         "marker": {
          "color": "#ab63fa",
          "symbol": "circle"
         },
         "mode": "markers",
         "name": "respiratory or thoracic disease",
         "orientation": "v",
         "showlegend": true,
         "type": "scatter",
         "x": [
          "Interstitial lung disease endpoints",
          "Chronic obstructive pulmonary disease",
          "Respiratory diseases"
         ],
         "xaxis": "x",
         "y": [
          0.5334802559376316,
          0.30581989545221594,
          0.06124882490637182
         ],
         "yaxis": "y"
        },
        {
         "customdata": [
          [
           19,
           "urinary system disease",
           0.3514897829027668,
           "VEGFA",
           "GCST000649_3",
           "PMID:20383146"
          ]
         ],
         "hovertemplate": "trait_category=%{customdata[1]}<br>trait_reported=%{x}<br>-log10(p-value)=%{y}<br>program_name=%{customdata[0]}<br>P-value=%{customdata[2]}<br>Genes=%{customdata[3]}<br>study_id=%{customdata[4]}<br>pmid=%{customdata[5]}<extra></extra>",
         "legendgroup": "urinary system disease",
         "marker": {
          "color": "#FFA15A",
          "symbol": "circle"
         },
         "mode": "markers",
         "name": "urinary system disease",
         "orientation": "v",
         "showlegend": true,
         "type": "scatter",
         "x": [
          "Chronic kidney disease [eGFRcrea]"
         ],
         "xaxis": "x",
         "y": [
          0.4540872945230746
         ],
         "yaxis": "y"
        }
       ],
       "layout": {
        "annotations": [
         {
          "showarrow": false,
          "text": "Significance Threshold (0.05)",
          "x": 1,
          "xanchor": "right",
          "xref": "x domain",
          "y": 1.3010299956639813,
          "yanchor": "bottom",
          "yref": "y"
         }
        ],
        "height": 800,
        "legend": {
         "title": {
          "text": "trait_category"
         },
         "tracegroupgap": 0
        },
        "shapes": [
         {
          "line": {
           "dash": "dash"
          },
          "type": "line",
          "x0": 0,
          "x1": 1,
          "xref": "x domain",
          "y0": 1.3010299956639813,
          "y1": 1.3010299956639813,
          "yref": "y"
         }
        ],
        "template": {
         "data": {
          "bar": [
           {
            "error_x": {
             "color": "#2a3f5f"
            },
            "error_y": {
             "color": "#2a3f5f"
            },
            "marker": {
             "line": {
              "color": "#E5ECF6",
              "width": 0.5
             },
             "pattern": {
              "fillmode": "overlay",
              "size": 10,
              "solidity": 0.2
             }
            },
            "type": "bar"
           }
          ],
          "barpolar": [
           {
            "marker": {
             "line": {
              "color": "#E5ECF6",
              "width": 0.5
             },
             "pattern": {
              "fillmode": "overlay",
              "size": 10,
              "solidity": 0.2
             }
            },
            "type": "barpolar"
           }
          ],
          "carpet": [
           {
            "aaxis": {
             "endlinecolor": "#2a3f5f",
             "gridcolor": "white",
             "linecolor": "white",
             "minorgridcolor": "white",
             "startlinecolor": "#2a3f5f"
            },
            "baxis": {
             "endlinecolor": "#2a3f5f",
             "gridcolor": "white",
             "linecolor": "white",
             "minorgridcolor": "white",
             "startlinecolor": "#2a3f5f"
            },
            "type": "carpet"
           }
          ],
          "choropleth": [
           {
            "colorbar": {
             "outlinewidth": 0,
             "ticks": ""
            },
            "type": "choropleth"
           }
          ],
          "contour": [
           {
            "colorbar": {
             "outlinewidth": 0,
             "ticks": ""
            },
            "colorscale": [
             [
              0,
              "#0d0887"
             ],
             [
              0.1111111111111111,
              "#46039f"
             ],
             [
              0.2222222222222222,
              "#7201a8"
             ],
             [
              0.3333333333333333,
              "#9c179e"
             ],
             [
              0.4444444444444444,
              "#bd3786"
             ],
             [
              0.5555555555555556,
              "#d8576b"
             ],
             [
              0.6666666666666666,
              "#ed7953"
             ],
             [
              0.7777777777777778,
              "#fb9f3a"
             ],
             [
              0.8888888888888888,
              "#fdca26"
             ],
             [
              1,
              "#f0f921"
             ]
            ],
            "type": "contour"
           }
          ],
          "contourcarpet": [
           {
            "colorbar": {
             "outlinewidth": 0,
             "ticks": ""
            },
            "type": "contourcarpet"
           }
          ],
          "heatmap": [
           {
            "colorbar": {
             "outlinewidth": 0,
             "ticks": ""
            },
            "colorscale": [
             [
              0,
              "#0d0887"
             ],
             [
              0.1111111111111111,
              "#46039f"
             ],
             [
              0.2222222222222222,
              "#7201a8"
             ],
             [
              0.3333333333333333,
              "#9c179e"
             ],
             [
              0.4444444444444444,
              "#bd3786"
             ],
             [
              0.5555555555555556,
              "#d8576b"
             ],
             [
              0.6666666666666666,
              "#ed7953"
             ],
             [
              0.7777777777777778,
              "#fb9f3a"
             ],
             [
              0.8888888888888888,
              "#fdca26"
             ],
             [
              1,
              "#f0f921"
             ]
            ],
            "type": "heatmap"
           }
          ],
          "heatmapgl": [
           {
            "colorbar": {
             "outlinewidth": 0,
             "ticks": ""
            },
            "colorscale": [
             [
              0,
              "#0d0887"
             ],
             [
              0.1111111111111111,
              "#46039f"
             ],
             [
              0.2222222222222222,
              "#7201a8"
             ],
             [
              0.3333333333333333,
              "#9c179e"
             ],
             [
              0.4444444444444444,
              "#bd3786"
             ],
             [
              0.5555555555555556,
              "#d8576b"
             ],
             [
              0.6666666666666666,
              "#ed7953"
             ],
             [
              0.7777777777777778,
              "#fb9f3a"
             ],
             [
              0.8888888888888888,
              "#fdca26"
             ],
             [
              1,
              "#f0f921"
             ]
            ],
            "type": "heatmapgl"
           }
          ],
          "histogram": [
           {
            "marker": {
             "pattern": {
              "fillmode": "overlay",
              "size": 10,
              "solidity": 0.2
             }
            },
            "type": "histogram"
           }
          ],
          "histogram2d": [
           {
            "colorbar": {
             "outlinewidth": 0,
             "ticks": ""
            },
            "colorscale": [
             [
              0,
              "#0d0887"
             ],
             [
              0.1111111111111111,
              "#46039f"
             ],
             [
              0.2222222222222222,
              "#7201a8"
             ],
             [
              0.3333333333333333,
              "#9c179e"
             ],
             [
              0.4444444444444444,
              "#bd3786"
             ],
             [
              0.5555555555555556,
              "#d8576b"
             ],
             [
              0.6666666666666666,
              "#ed7953"
             ],
             [
              0.7777777777777778,
              "#fb9f3a"
             ],
             [
              0.8888888888888888,
              "#fdca26"
             ],
             [
              1,
              "#f0f921"
             ]
            ],
            "type": "histogram2d"
           }
          ],
          "histogram2dcontour": [
           {
            "colorbar": {
             "outlinewidth": 0,
             "ticks": ""
            },
            "colorscale": [
             [
              0,
              "#0d0887"
             ],
             [
              0.1111111111111111,
              "#46039f"
             ],
             [
              0.2222222222222222,
              "#7201a8"
             ],
             [
              0.3333333333333333,
              "#9c179e"
             ],
             [
              0.4444444444444444,
              "#bd3786"
             ],
             [
              0.5555555555555556,
              "#d8576b"
             ],
             [
              0.6666666666666666,
              "#ed7953"
             ],
             [
              0.7777777777777778,
              "#fb9f3a"
             ],
             [
              0.8888888888888888,
              "#fdca26"
             ],
             [
              1,
              "#f0f921"
             ]
            ],
            "type": "histogram2dcontour"
           }
          ],
          "mesh3d": [
           {
            "colorbar": {
             "outlinewidth": 0,
             "ticks": ""
            },
            "type": "mesh3d"
           }
          ],
          "parcoords": [
           {
            "line": {
             "colorbar": {
              "outlinewidth": 0,
              "ticks": ""
             }
            },
            "type": "parcoords"
           }
          ],
          "pie": [
           {
            "automargin": true,
            "type": "pie"
           }
          ],
          "scatter": [
           {
            "fillpattern": {
             "fillmode": "overlay",
             "size": 10,
             "solidity": 0.2
            },
            "type": "scatter"
           }
          ],
          "scatter3d": [
           {
            "line": {
             "colorbar": {
              "outlinewidth": 0,
              "ticks": ""
             }
            },
            "marker": {
             "colorbar": {
              "outlinewidth": 0,
              "ticks": ""
             }
            },
            "type": "scatter3d"
           }
          ],
          "scattercarpet": [
           {
            "marker": {
             "colorbar": {
              "outlinewidth": 0,
              "ticks": ""
             }
            },
            "type": "scattercarpet"
           }
          ],
          "scattergeo": [
           {
            "marker": {
             "colorbar": {
              "outlinewidth": 0,
              "ticks": ""
             }
            },
            "type": "scattergeo"
           }
          ],
          "scattergl": [
           {
            "marker": {
             "colorbar": {
              "outlinewidth": 0,
              "ticks": ""
             }
            },
            "type": "scattergl"
           }
          ],
          "scattermapbox": [
           {
            "marker": {
             "colorbar": {
              "outlinewidth": 0,
              "ticks": ""
             }
            },
            "type": "scattermapbox"
           }
          ],
          "scatterpolar": [
           {
            "marker": {
             "colorbar": {
              "outlinewidth": 0,
              "ticks": ""
             }
            },
            "type": "scatterpolar"
           }
          ],
          "scatterpolargl": [
           {
            "marker": {
             "colorbar": {
              "outlinewidth": 0,
              "ticks": ""
             }
            },
            "type": "scatterpolargl"
           }
          ],
          "scatterternary": [
           {
            "marker": {
             "colorbar": {
              "outlinewidth": 0,
              "ticks": ""
             }
            },
            "type": "scatterternary"
           }
          ],
          "surface": [
           {
            "colorbar": {
             "outlinewidth": 0,
             "ticks": ""
            },
            "colorscale": [
             [
              0,
              "#0d0887"
             ],
             [
              0.1111111111111111,
              "#46039f"
             ],
             [
              0.2222222222222222,
              "#7201a8"
             ],
             [
              0.3333333333333333,
              "#9c179e"
             ],
             [
              0.4444444444444444,
              "#bd3786"
             ],
             [
              0.5555555555555556,
              "#d8576b"
             ],
             [
              0.6666666666666666,
              "#ed7953"
             ],
             [
              0.7777777777777778,
              "#fb9f3a"
             ],
             [
              0.8888888888888888,
              "#fdca26"
             ],
             [
              1,
              "#f0f921"
             ]
            ],
            "type": "surface"
           }
          ],
          "table": [
           {
            "cells": {
             "fill": {
              "color": "#EBF0F8"
             },
             "line": {
              "color": "white"
             }
            },
            "header": {
             "fill": {
              "color": "#C8D4E3"
             },
             "line": {
              "color": "white"
             }
            },
            "type": "table"
           }
          ]
         },
         "layout": {
          "annotationdefaults": {
           "arrowcolor": "#2a3f5f",
           "arrowhead": 0,
           "arrowwidth": 1
          },
          "autotypenumbers": "strict",
          "coloraxis": {
           "colorbar": {
            "outlinewidth": 0,
            "ticks": ""
           }
          },
          "colorscale": {
           "diverging": [
            [
             0,
             "#8e0152"
            ],
            [
             0.1,
             "#c51b7d"
            ],
            [
             0.2,
             "#de77ae"
            ],
            [
             0.3,
             "#f1b6da"
            ],
            [
             0.4,
             "#fde0ef"
            ],
            [
             0.5,
             "#f7f7f7"
            ],
            [
             0.6,
             "#e6f5d0"
            ],
            [
             0.7,
             "#b8e186"
            ],
            [
             0.8,
             "#7fbc41"
            ],
            [
             0.9,
             "#4d9221"
            ],
            [
             1,
             "#276419"
            ]
           ],
           "sequential": [
            [
             0,
             "#0d0887"
            ],
            [
             0.1111111111111111,
             "#46039f"
            ],
            [
             0.2222222222222222,
             "#7201a8"
            ],
            [
             0.3333333333333333,
             "#9c179e"
            ],
            [
             0.4444444444444444,
             "#bd3786"
            ],
            [
             0.5555555555555556,
             "#d8576b"
            ],
            [
             0.6666666666666666,
             "#ed7953"
            ],
            [
             0.7777777777777778,
             "#fb9f3a"
            ],
            [
             0.8888888888888888,
             "#fdca26"
            ],
            [
             1,
             "#f0f921"
            ]
           ],
           "sequentialminus": [
            [
             0,
             "#0d0887"
            ],
            [
             0.1111111111111111,
             "#46039f"
            ],
            [
             0.2222222222222222,
             "#7201a8"
            ],
            [
             0.3333333333333333,
             "#9c179e"
            ],
            [
             0.4444444444444444,
             "#bd3786"
            ],
            [
             0.5555555555555556,
             "#d8576b"
            ],
            [
             0.6666666666666666,
             "#ed7953"
            ],
            [
             0.7777777777777778,
             "#fb9f3a"
            ],
            [
             0.8888888888888888,
             "#fdca26"
            ],
            [
             1,
             "#f0f921"
            ]
           ]
          },
          "colorway": [
           "#636efa",
           "#EF553B",
           "#00cc96",
           "#ab63fa",
           "#FFA15A",
           "#19d3f3",
           "#FF6692",
           "#B6E880",
           "#FF97FF",
           "#FECB52"
          ],
          "font": {
           "color": "#2a3f5f"
          },
          "geo": {
           "bgcolor": "white",
           "lakecolor": "white",
           "landcolor": "#E5ECF6",
           "showlakes": true,
           "showland": true,
           "subunitcolor": "white"
          },
          "hoverlabel": {
           "align": "left"
          },
          "hovermode": "closest",
          "mapbox": {
           "style": "light"
          },
          "paper_bgcolor": "white",
          "plot_bgcolor": "#E5ECF6",
          "polar": {
           "angularaxis": {
            "gridcolor": "white",
            "linecolor": "white",
            "ticks": ""
           },
           "bgcolor": "#E5ECF6",
           "radialaxis": {
            "gridcolor": "white",
            "linecolor": "white",
            "ticks": ""
           }
          },
          "scene": {
           "xaxis": {
            "backgroundcolor": "#E5ECF6",
            "gridcolor": "white",
            "gridwidth": 2,
            "linecolor": "white",
            "showbackground": true,
            "ticks": "",
            "zerolinecolor": "white"
           },
           "yaxis": {
            "backgroundcolor": "#E5ECF6",
            "gridcolor": "white",
            "gridwidth": 2,
            "linecolor": "white",
            "showbackground": true,
            "ticks": "",
            "zerolinecolor": "white"
           },
           "zaxis": {
            "backgroundcolor": "#E5ECF6",
            "gridcolor": "white",
            "gridwidth": 2,
            "linecolor": "white",
            "showbackground": true,
            "ticks": "",
            "zerolinecolor": "white"
           }
          },
          "shapedefaults": {
           "line": {
            "color": "#2a3f5f"
           }
          },
          "ternary": {
           "aaxis": {
            "gridcolor": "white",
            "linecolor": "white",
            "ticks": ""
           },
           "baxis": {
            "gridcolor": "white",
            "linecolor": "white",
            "ticks": ""
           },
           "bgcolor": "#E5ECF6",
           "caxis": {
            "gridcolor": "white",
            "linecolor": "white",
            "ticks": ""
           }
          },
          "title": {
           "x": 0.05
          },
          "xaxis": {
           "automargin": true,
           "gridcolor": "white",
           "linecolor": "white",
           "ticks": "",
           "title": {
            "standoff": 15
           },
           "zerolinecolor": "white",
           "zerolinewidth": 2
          },
          "yaxis": {
           "automargin": true,
           "gridcolor": "white",
           "linecolor": "white",
           "ticks": "",
           "title": {
            "standoff": 15
           },
           "zerolinecolor": "white",
           "zerolinewidth": 2
          }
         }
        },
        "title": {
         "text": "Endothelial Cell Programs x GWAS Binary Outcome Enrichments"
        },
        "width": 1000,
        "xaxis": {
         "anchor": "y",
         "domain": [
          0,
          1
         ],
         "tickfont": {
          "size": 4
         },
         "title": {
          "text": "trait_reported"
         }
        },
        "yaxis": {
         "anchor": "x",
         "domain": [
          0,
          1
         ],
         "tickformat": ".1f",
         "title": {
          "text": "-log10(p-value)"
         }
        }
       }
      },
      "text/html": [
       "<div>                            <div id=\"6a34a136-ab6e-4e2a-b3ee-8f2cbb3c7dad\" class=\"plotly-graph-div\" style=\"height:800px; width:1000px;\"></div>            <script type=\"text/javascript\">                require([\"plotly\"], function(Plotly) {                    window.PLOTLYENV=window.PLOTLYENV || {};                                    if (document.getElementById(\"6a34a136-ab6e-4e2a-b3ee-8f2cbb3c7dad\")) {                    Plotly.newPlot(                        \"6a34a136-ab6e-4e2a-b3ee-8f2cbb3c7dad\",                        [{\"customdata\":[[19,\"biological process\",0.0017764883074341,\"PIR;LDLR;IRF2BP2;HMGCR;PNPLA3;LIPG;VEGFA\",\"FINNGEN_R6_RX_STATIN\",null],[19,\"biological process\",0.1343400831032873,\"EPAS1\",\"GCST006054\",\"PMID:28373541\"],[19,\"biological process\",0.3114186984457615,\"PCYOX1;TFB1M;NR2F1;IRF2BP2;SYT1;MARCKS;PTPN1;CBX5;CACNB1;HABP4;BNIP3L;MNT;DUSP6;NFIB;LONRF1;PDIA6;MTFR1;PTPRN2\",\"GCST006568\",\"PMID:30038396\"],[19,\"biological process\",0.6364585961150973,\"AKAP12\",\"NEALE2_1757\",null],[19,\"biological process\",0.7647169252273888,\"LONRF1\",\"GCST007464\",\"PMID:30643251\"],[19,\"biological process\",0.7823644484645602,\"LBR;FRY;RAB3C\",\"GCST006660\",\"PMID:30348214\"],[19,\"biological process\",0.8052074518987202,\"YWHAZ;PLXNA2;LRP8\",\"GCST007325\",\"PMID:30643258\"],[19,\"biological process\",0.8958060820939588,\"SYT1\",\"GCST006269\",\"PMID:29844566\"],[19,\"biological process\",0.9346715046595316,\"PLXNA2\",\"GCST007327\",\"PMID:30643258\"]],\"hovertemplate\":\"trait_category=%{customdata[1]}\\u003cbr\\u003etrait_reported=%{x}\\u003cbr\\u003e-log10(p-value)=%{y}\\u003cbr\\u003eprogram_name=%{customdata[0]}\\u003cbr\\u003eP-value=%{customdata[2]}\\u003cbr\\u003eGenes=%{customdata[3]}\\u003cbr\\u003estudy_id=%{customdata[4]}\\u003cbr\\u003epmid=%{customdata[5]}\\u003cextra\\u003e\\u003c\\u002fextra\\u003e\",\"legendgroup\":\"biological process\",\"marker\":{\"color\":\"#636efa\",\"symbol\":\"circle\"},\"mode\":\"markers\",\"name\":\"biological process\",\"orientation\":\"v\",\"showlegend\":true,\"x\":[\"Statin medication\",\"High altitude adaptation\",\"Highest math class taken (MTAG) [MTAG]\",\"Facial ageing\",\"Smoking cessation (MTAG)\",\"DNA methylation variation (age effect)\",\"General risk tolerance (MTAG)\",\"General cognitive ability\",\"Smoking status (ever vs never smokers)\"],\"xaxis\":\"x\",\"y\":[2.750437646623041,0.8717943873810217,0.5066553147350892,0.1962298434849674,0.11649929760822468,0.10659089261010384,0.09409221452913771,0.047785993229935854,0.029340997449113893],\"yaxis\":\"y\",\"type\":\"scatter\"},{\"customdata\":[[19,\"cardiovascular disease\",0.0201244224746658,\"CDKN1A;LIPA\",\"GCST011496\",\"PMID:32981348\"],[19,\"cardiovascular disease\",0.0440297257759461,\"CDKN1A;SQLE\",\"GCST011202\",\"PMID:33495596\"],[19,\"cardiovascular disease\",0.1283084629236031,\"DPYSL2;UBASH3B;CLCN6;CLIC4;GLI2;NPC1;HSD17B12;VEGFA\",\"GCST007072\",\"PMID:30595370\"],[19,\"cardiovascular disease\",0.1343400831032873,\"CDKN1A\",\"GCST012099\",\"PMID:33495597\"],[19,\"cardiovascular disease\",0.1485496708304558,\"GLCE;CLCN6;SYT1\",\"FINNGEN_R6_RX_ANTIHYP\",null],[19,\"cardiovascular disease\",0.1833951163905241,\"SCARB1;LIPA;VEGFA\",\"GCST005195\",\"PMID:29212778\"],[19,\"cardiovascular disease\",0.1984024628911286,\"NUCKS1;SMIM29;CDKN1A;SQLE\",\"GCST006061\",\"PMID:29892015\"],[19,\"cardiovascular disease\",0.2507048273189083,\"CDKN1A\",\"GCST009541\",\"PMID:31919418\"],[19,\"cardiovascular disease\",0.4703169934611635,\"CDKN1A\",\"FINNGEN_R6_CARDIAC_ARRHYTM\",null],[19,\"cardiovascular disease\",0.5143547315191779,\"CLCN6\",\"FINNGEN_R6_I9_IHD\",null],[19,\"cardiovascular disease\",0.5547466477670275,\"TGFBR2\",\"GCST003720\",\"PMID:27322543\"],[19,\"cardiovascular disease\",0.8188532174755944,\"LIPA\",\"GCST011365\",\"PMID:33532862\"],[19,\"cardiovascular disease\",0.8522214423029417,\"SRBD1\",\"GCST90014033\",\"PMID:33888516\"]],\"hovertemplate\":\"trait_category=%{customdata[1]}\\u003cbr\\u003etrait_reported=%{x}\\u003cbr\\u003e-log10(p-value)=%{y}\\u003cbr\\u003eprogram_name=%{customdata[0]}\\u003cbr\\u003eP-value=%{customdata[2]}\\u003cbr\\u003eGenes=%{customdata[3]}\\u003cbr\\u003estudy_id=%{customdata[4]}\\u003cbr\\u003epmid=%{customdata[5]}\\u003cextra\\u003e\\u003c\\u002fextra\\u003e\",\"legendgroup\":\"cardiovascular disease\",\"marker\":{\"color\":\"#EF553B\",\"symbol\":\"circle\"},\"mode\":\"markers\",\"name\":\"cardiovascular disease\",\"orientation\":\"v\",\"showlegend\":true,\"x\":[\"Abdominal aortic aneurysm\",\"Dilated cardiomyopathy (MTAG)\",\"Cardiovascular disease\",\"Hypertrophic cardiomyopathy (sarcomere negative)\",\"Antihypertensive medication - note that there are other indications\",\"Coronary artery disease\",\"Atrial fibrillation\",\"Heart failure\",\"Cardiac arrhytmias\",\"Ischaemic heart disease, wide definition\",\"Migraine\",\"Myocardial infarction\",\"Haemorrhoidal disease\"],\"xaxis\":\"x\",\"y\":[1.6962765740490229,1.3562540193863586,0.8917446976405934,0.8717943873810217,0.8281283062075069,0.736612233294601,0.7024529409853294,0.600837303625428,0.3276093290721635,0.28873726076138856,0.25590531345049344,0.08679394018522071,0.06944754293925572],\"yaxis\":\"y\",\"type\":\"scatter\"},{\"customdata\":[[19,\"cell proliferation disorder\",0.0153788714617108,\"SCARB1;EPAS1\",\"GCST004710\",\"PMID:28598434\"],[19,\"cell proliferation disorder\",0.0234350473829585,\"CDKN1A;LPIN1;DDR2\",\"SAIGE_728_71\",null],[19,\"cell proliferation disorder\",0.2061550439296068,\"RNASET2\",\"GCST004748\",\"PMID:28604730\"],[19,\"cell proliferation disorder\",0.447500965440971,\"CDKN1A;TOX2\",\"GCST007992\",\"PMID:31089142\"],[19,\"cell proliferation disorder\",0.4547717929717223,\"GJC1\",\"FINNGEN_R6_C3_MALE_GENITAL\",null],[19,\"cell proliferation disorder\",0.4547717929717223,\"GJC1\",\"FINNGEN_R6_C3_MALE_GENITAL_EXALLC\",null],[19,\"cell proliferation disorder\",0.5282084219701223,\"RNASET2\",\"SAIGE_172\",null],[19,\"cell proliferation disorder\",0.5547466477670275,\"ID3\",\"GCST004146\",\"PMID:28165464\"],[19,\"cell proliferation disorder\",0.5547466477670275,\"IL21R\",\"GCST90061442\",\"PMID:34033851\"],[19,\"cell proliferation disorder\",0.6364585961150973,\"RNASET2\",\"GCST90027058\",\"PMID:34290314\"],[19,\"cell proliferation disorder\",0.777992860371213,\"RNASET2\",\"GCST008871\",\"PMID:31174203\"],[19,\"cell proliferation disorder\",0.9121531895652748,\"GLI2;VEGFA\",\"GCST011049\",\"PMID:33398198\"],[19,\"cell proliferation disorder\",0.926577614570827,\"TGFBR2\",\"GCST90090980\",\"PMID:32139696\"]],\"hovertemplate\":\"trait_category=%{customdata[1]}\\u003cbr\\u003etrait_reported=%{x}\\u003cbr\\u003e-log10(p-value)=%{y}\\u003cbr\\u003eprogram_name=%{customdata[0]}\\u003cbr\\u003eP-value=%{customdata[2]}\\u003cbr\\u003eGenes=%{customdata[3]}\\u003cbr\\u003estudy_id=%{customdata[4]}\\u003cbr\\u003epmid=%{customdata[5]}\\u003cextra\\u003e\\u003c\\u002fextra\\u003e\",\"legendgroup\":\"cell proliferation disorder\",\"marker\":{\"color\":\"#00cc96\",\"symbol\":\"circle\"},\"mode\":\"markers\",\"name\":\"cell proliferation disorder\",\"orientation\":\"v\",\"showlegend\":true,\"x\":[\"Renal cell carcinoma\",\"Contracture of palmar fascia [dupuytren's disease]\",\"Lung cancer\",\"Colorectal cancer\",\"malignant neoplasm of male genital organs\",\"malignant neoplasm of male genital organs (controls excluding all cancers)\",\"Skin cancer\",\"Chronic lymphocytic leukemia\",\"Primary biliary cholangitis\",\"Non-melanoma skin cancer\",\"Basal cell carcinoma\",\"Prostate cancer\",\"Breast cancer\"],\"xaxis\":\"x\",\"y\":[1.8130755329308288,1.6301341640496123,0.6858060349882722,0.3492060233978256,0.3422064800806736,0.3422064800806736,0.27719467850586216,0.25590531345049344,0.25590531345049344,0.1962298434849674,0.10902438850595701,0.0399322189128057,0.03311819623927466],\"yaxis\":\"y\",\"type\":\"scatter\"},{\"customdata\":[[19,\"disease of visual system\",0.1094421927674374,\"MMAB;MVK\",\"GCST90018814\",\"PMID:34594039\"],[19,\"disease of visual system\",0.3514897829027668,\"VEGFA\",\"GCST001884\",\"PMID:23455636\"],[19,\"disease of visual system\",0.3519476214627181,\"PTPN1;NPC2;PCSK5\",\"GCST009722\",\"PMID:31959993\"],[19,\"disease of visual system\",0.3879164909650702,\"MMAB\",\"FINNGEN_R6_H7_LENS\",null],[19,\"disease of visual system\",0.6901679744939967,\"LIPG;NPC2;ETNK1\",\"GCST010378\",\"PMID:32352494\"],[19,\"disease of visual system\",0.7714508248878551,\"LTBP2\",\"GCST90011770\",\"PMID:33627673\"]],\"hovertemplate\":\"trait_category=%{customdata[1]}\\u003cbr\\u003etrait_reported=%{x}\\u003cbr\\u003e-log10(p-value)=%{y}\\u003cbr\\u003eprogram_name=%{customdata[0]}\\u003cbr\\u003eP-value=%{customdata[2]}\\u003cbr\\u003eGenes=%{customdata[3]}\\u003cbr\\u003estudy_id=%{customdata[4]}\\u003cbr\\u003epmid=%{customdata[5]}\\u003cextra\\u003e\\u003c\\u002fextra\\u003e\",\"legendgroup\":\"disease of visual system\",\"marker\":{\"color\":\"#ab63fa\",\"symbol\":\"circle\"},\"mode\":\"markers\",\"name\":\"disease of visual system\",\"orientation\":\"v\",\"showlegend\":true,\"x\":[\"Cataracts\",\"Age-related macular degeneration\",\"Glaucoma (multi-trait analysis)\",\"Disorders of lens\",\"Spherical equivalent\",\"Glaucoma (primary open-angle)\"],\"xaxis\":\"x\",\"y\":[0.9608152140773768,0.4540872945230746,0.45352196550578805,0.4112617574381072,0.1610451969182307,0.11269175224569011],\"yaxis\":\"y\",\"type\":\"scatter\"},{\"customdata\":[[19,\"endocrine system disease\",0.1376238528655774,\"BHLHE40;RAB2A;IFITM2;RNASET2\",\"GCST010571\",\"PMID:32581359\"],[19,\"endocrine system disease\",0.2061550439296068,\"RNASET2\",\"GCST90018860\",\"PMID:34594039\"],[19,\"endocrine system disease\",0.5172427184455903,\"BHLHE40;RAB2A;RNASET2\",\"GCST007073\",\"PMID:30595370\"],[19,\"endocrine system disease\",0.6569316374263021,\"VEGFA\",\"FINNGEN_R6_E4_THYROID\",null],[19,\"endocrine system disease\",0.7843484737352562,\"VEGFA\",\"FINNGEN_R6_E4_HYTHY_AI_STRICT_PURCH\",null]],\"hovertemplate\":\"trait_category=%{customdata[1]}\\u003cbr\\u003etrait_reported=%{x}\\u003cbr\\u003e-log10(p-value)=%{y}\\u003cbr\\u003eprogram_name=%{customdata[0]}\\u003cbr\\u003eP-value=%{customdata[2]}\\u003cbr\\u003eGenes=%{customdata[3]}\\u003cbr\\u003estudy_id=%{customdata[4]}\\u003cbr\\u003epmid=%{customdata[5]}\\u003cextra\\u003e\\u003c\\u002fextra\\u003e\",\"legendgroup\":\"endocrine system disease\",\"marker\":{\"color\":\"#FFA15A\",\"symbol\":\"circle\"},\"mode\":\"markers\",\"name\":\"endocrine system disease\",\"orientation\":\"v\",\"showlegend\":true,\"x\":[\"Autoimmune thyroid disease\",\"Hyperthyroidism\",\"Hypothyroidism\",\"Disorders of the thyroid gland\",\"Hypothyroidism, strict autoimmune, 3 medication purchases required\"],\"xaxis\":\"x\",\"y\":[0.8613062879746043,0.6858060349882722,0.28630561445857156,0.1824798222716765,0.10549094420805395],\"yaxis\":\"y\",\"type\":\"scatter\"},{\"customdata\":[[19,\"gastrointestinal disease\",0.2199576104207486,\"SMIM29;VEGFA\",\"GCST90094908\",\"PMID:35047847\"],[19,\"gastrointestinal disease\",0.2287500538282526,\"IL21R\",\"FINNGEN_R6_RX_CROHN_2NDLINE\",null],[19,\"gastrointestinal disease\",0.2287500538282526,\"NAV3\",\"FINNGEN_R6_ABDOM_HERNIA\",null],[19,\"gastrointestinal disease\",0.3879164909650702,\"ANPEP\",\"GCST007209\",\"PMID:30504769\"],[19,\"gastrointestinal disease\",0.5282084219701223,\"PCSK5\",\"GCST006479\",\"PMID:30177863\"],[19,\"gastrointestinal disease\",0.5797985937087958,\"PNPLA3\",\"GCST90018819\",\"PMID:34594039\"],[19,\"gastrointestinal disease\",0.6823013749557024,\"TSPAN14;PDGFB\",\"GCST004131\",\"PMID:28067908\"]],\"hovertemplate\":\"trait_category=%{customdata[1]}\\u003cbr\\u003etrait_reported=%{x}\\u003cbr\\u003e-log10(p-value)=%{y}\\u003cbr\\u003eprogram_name=%{customdata[0]}\\u003cbr\\u003eP-value=%{customdata[2]}\\u003cbr\\u003eGenes=%{customdata[3]}\\u003cbr\\u003estudy_id=%{customdata[4]}\\u003cbr\\u003epmid=%{customdata[5]}\\u003cextra\\u003e\\u003c\\u002fextra\\u003e\",\"legendgroup\":\"gastrointestinal disease\",\"marker\":{\"color\":\"#19d3f3\",\"symbol\":\"circle\"},\"mode\":\"markers\",\"name\":\"gastrointestinal disease\",\"orientation\":\"v\",\"showlegend\":true,\"x\":[\"Nonalcoholic fatty liver disease (imputed)\",\"Second line medication for Crohns disease\",\"Hernia of abodminal wall\",\"Gallstone disease\",\"Diverticular disease\",\"Cholelithiasis\",\"Inflammatory bowel disease\"],\"xaxis\":\"x\",\"y\":[0.6576610070603534,0.640638795065622,0.640638795065622,0.4112617574381072,0.27719467850586216,0.23672284235330593,0.16602375354044738],\"yaxis\":\"y\",\"type\":\"scatter\"},{\"customdata\":[[19,\"genetic, familial or congenital disease\",0.056061017525612,\"GNAS\",\"GCST007916\",\"PMID:29124443\"]],\"hovertemplate\":\"trait_category=%{customdata[1]}\\u003cbr\\u003etrait_reported=%{x}\\u003cbr\\u003e-log10(p-value)=%{y}\\u003cbr\\u003eprogram_name=%{customdata[0]}\\u003cbr\\u003eP-value=%{customdata[2]}\\u003cbr\\u003eGenes=%{customdata[3]}\\u003cbr\\u003estudy_id=%{customdata[4]}\\u003cbr\\u003epmid=%{customdata[5]}\\u003cextra\\u003e\\u003c\\u002fextra\\u003e\",\"legendgroup\":\"genetic, familial or congenital disease\",\"marker\":{\"color\":\"#FF6692\",\"symbol\":\"circle\"},\"mode\":\"markers\",\"name\":\"genetic, familial or congenital disease\",\"orientation\":\"v\",\"showlegend\":true,\"x\":[\"Hyperuricemia\"],\"xaxis\":\"x\",\"y\":[1.251339023918792],\"yaxis\":\"y\",\"type\":\"scatter\"},{\"customdata\":[[19,\"immune system disease\",0.1569286846215245,\"SYPL1;UBASH3B;MTHFR;TOX2;RRAS2;BCL10\",\"GCST009597\",\"PMID:31604244\"],[19,\"immune system disease\",0.7647169252273888,\"RNASET2\",\"GCST007071\",\"PMID:30595370\"]],\"hovertemplate\":\"trait_category=%{customdata[1]}\\u003cbr\\u003etrait_reported=%{x}\\u003cbr\\u003e-log10(p-value)=%{y}\\u003cbr\\u003eprogram_name=%{customdata[0]}\\u003cbr\\u003eP-value=%{customdata[2]}\\u003cbr\\u003eGenes=%{customdata[3]}\\u003cbr\\u003estudy_id=%{customdata[4]}\\u003cbr\\u003epmid=%{customdata[5]}\\u003cextra\\u003e\\u003c\\u002fextra\\u003e\",\"legendgroup\":\"immune system disease\",\"marker\":{\"color\":\"#B6E880\",\"symbol\":\"circle\"},\"mode\":\"markers\",\"name\":\"immune system disease\",\"orientation\":\"v\",\"showlegend\":true,\"x\":[\"Multiple sclerosis\",\"Autoimmune traits\"],\"xaxis\":\"x\",\"y\":[0.8042976655001944,0.11649929760822468],\"yaxis\":\"y\",\"type\":\"scatter\"},{\"customdata\":[[19,\"integumentary system disease\",0.2942593684198209,\"PTPN1;RNASET2\",\"GCST004785\",\"PMID:27723757\"],[19,\"integumentary system disease\",0.5547466477670275,\"CCDC80\",\"GCST90086149\",\"PMID:34116867\"],[19,\"integumentary system disease\",0.5917932931517309,\"PNPLA3\",\"GCST90092000\",\"PMID:35132056\"]],\"hovertemplate\":\"trait_category=%{customdata[1]}\\u003cbr\\u003etrait_reported=%{x}\\u003cbr\\u003e-log10(p-value)=%{y}\\u003cbr\\u003eprogram_name=%{customdata[0]}\\u003cbr\\u003eP-value=%{customdata[2]}\\u003cbr\\u003eGenes=%{customdata[3]}\\u003cbr\\u003estudy_id=%{customdata[4]}\\u003cbr\\u003epmid=%{customdata[5]}\\u003cextra\\u003e\\u003c\\u002fextra\\u003e\",\"legendgroup\":\"integumentary system disease\",\"marker\":{\"color\":\"#FF97FF\",\"symbol\":\"circle\"},\"mode\":\"markers\",\"name\":\"integumentary system disease\",\"orientation\":\"v\",\"showlegend\":true,\"x\":[\"Vitiligo\",\"Atopic dermatitis\",\"acne vulgaris\"],\"xaxis\":\"x\",\"y\":[0.5312697015065693,0.25590531345049344,0.22782996104713193],\"yaxis\":\"y\",\"type\":\"scatter\"},{\"customdata\":[[19,\"musculoskeletal or connective tissue disease\",0.1380296513827923,\"MLXIP;PNPLA3\",\"GCST012338\",\"PMID:33832965\"],[19,\"musculoskeletal or connective tissue disease\",0.2507048273189083,\"PLXNA2\",\"GCST008789\",\"PMID:31417091\"],[19,\"musculoskeletal or connective tissue disease\",0.4223060168318421,\"DDR2\",\"GCST004858\",\"PMID:28886342\"]],\"hovertemplate\":\"trait_category=%{customdata[1]}\\u003cbr\\u003etrait_reported=%{x}\\u003cbr\\u003e-log10(p-value)=%{y}\\u003cbr\\u003eprogram_name=%{customdata[0]}\\u003cbr\\u003eP-value=%{customdata[2]}\\u003cbr\\u003eGenes=%{customdata[3]}\\u003cbr\\u003estudy_id=%{customdata[4]}\\u003cbr\\u003epmid=%{customdata[5]}\\u003cextra\\u003e\\u003c\\u002fextra\\u003e\",\"legendgroup\":\"musculoskeletal or connective tissue disease\",\"marker\":{\"color\":\"#FECB52\",\"symbol\":\"circle\"},\"mode\":\"markers\",\"name\":\"musculoskeletal or connective tissue disease\",\"orientation\":\"v\",\"showlegend\":true,\"x\":[\"Gout\",\"Adolescent idiopathic scoliosis\",\"Dupuytren's disease\"],\"xaxis\":\"x\",\"y\":[0.8600276088982539,0.600837303625428,0.3743727308927516],\"yaxis\":\"y\",\"type\":\"scatter\"},{\"customdata\":[[19,\"nervous system disease\",0.2287500538282526,\"ATP2C1\",\"GCST005042\",\"PMID:29029846\"],[19,\"nervous system disease\",0.2942593684198209,\"NUCKS1;SNCA\",\"GCST004902\",\"PMID:28892059\"],[19,\"nervous system disease\",0.2942593684198209,\"NUCKS1;SNCA\",\"GCST010991\",\"PMID:32201043\"],[19,\"nervous system disease\",0.5155063301890639,\"NUCKS1;TCF20;LONRF1;PLXNA2;DUSP6;NFIB;HSD17B12;MTFR1;PTPRN2\",\"GCST90061435\",\"PMID:34446935\"],[19,\"nervous system disease\",0.5416686865549875,\"DUSP6\",\"GCST90016618\",\"PMID:33686288\"],[19,\"nervous system disease\",0.6855089857015289,\"SLC7A11\",\"GCST010017\",\"PMID:32231276\"],[19,\"nervous system disease\",0.6944979938815563,\"NRDC\",\"GCST012090\",\"PMID:33479212\"]],\"hovertemplate\":\"trait_category=%{customdata[1]}\\u003cbr\\u003etrait_reported=%{x}\\u003cbr\\u003e-log10(p-value)=%{y}\\u003cbr\\u003eprogram_name=%{customdata[0]}\\u003cbr\\u003eP-value=%{customdata[2]}\\u003cbr\\u003eGenes=%{customdata[3]}\\u003cbr\\u003estudy_id=%{customdata[4]}\\u003cbr\\u003epmid=%{customdata[5]}\\u003cextra\\u003e\\u003c\\u002fextra\\u003e\",\"legendgroup\":\"nervous system disease\",\"marker\":{\"color\":\"#636efa\",\"symbol\":\"circle\"},\"mode\":\"markers\",\"name\":\"nervous system disease\",\"orientation\":\"v\",\"showlegend\":true,\"x\":[\"Restless legs syndrome\",\"Parkinson's disease\",\"Parkinson's disease\",\"Externalizing behaviour (multivariate analysis)\",\"Schizophrenia vs ADHD (ordinary least squares (OLS))\",\"Neuroticism\",\"Major depressive disorder (MTAG)\"],\"xaxis\":\"x\",\"y\":[0.640638795065622,0.5312697015065693,0.5312697015065693,0.28776599740413,0.2662662699129855,0.16398684807357408,0.15832900442230294],\"yaxis\":\"y\",\"type\":\"scatter\"},{\"customdata\":[[19,\"pancreas disease\",0.7506509700484338,\"GLI2\",\"GCST007077\",\"PMID:30595370\"]],\"hovertemplate\":\"trait_category=%{customdata[1]}\\u003cbr\\u003etrait_reported=%{x}\\u003cbr\\u003e-log10(p-value)=%{y}\\u003cbr\\u003eprogram_name=%{customdata[0]}\\u003cbr\\u003eP-value=%{customdata[2]}\\u003cbr\\u003eGenes=%{customdata[3]}\\u003cbr\\u003estudy_id=%{customdata[4]}\\u003cbr\\u003epmid=%{customdata[5]}\\u003cextra\\u003e\\u003c\\u002fextra\\u003e\",\"legendgroup\":\"pancreas disease\",\"marker\":{\"color\":\"#EF553B\",\"symbol\":\"circle\"},\"mode\":\"markers\",\"name\":\"pancreas disease\",\"orientation\":\"v\",\"showlegend\":true,\"x\":[\"Type 2 diabetes\"],\"xaxis\":\"x\",\"y\":[0.12456194983603248],\"yaxis\":\"y\",\"type\":\"scatter\"},{\"customdata\":[[19,\"phenotype\",0.008688541686716,\"LDLR;IRF2BP2;HMGCR;LIPG;SCARB1;VEGFA\",\"GCST90038690\",\"PMID:33959723\"],[19,\"phenotype\",0.1343400831032873,\"DYSF\",\"FINNGEN_R6_M13_HALLUXVALGUS\",null],[19,\"phenotype\",0.1782415427636318,\"NAV3;PTPRN2\",\"GCST001712\",\"PMID:23049088\"],[19,\"phenotype\",0.2061550439296068,\"NUCKS1\",\"NEALE2_2257\",null],[19,\"phenotype\",0.3049145941394633,\"UBC;SCD;RAB32\",\"NEALE2_1717\",null],[19,\"phenotype\",0.3514897829027668,\"MMAB\",\"FINNGEN_R6_H7_CATARACTSENILE\",null],[19,\"phenotype\",0.4387725338878636,\"LPIN1\",\"SAIGE_728_7\",null],[19,\"phenotype\",0.4387725338878636,\"RAB3C\",\"FINNGEN_R6_K11_HERNIA\",null],[19,\"phenotype\",0.4854209635556349,\"TUBA1A\",\"GCST90013421\",\"PMID:32989287\"],[19,\"phenotype\",0.5917932931517309,\"HSD17B12\",\"GCST008512\",\"PMID:31194737\"],[19,\"phenotype\",0.5917932931517309,\"HSD17B12\",\"GCST012332\",\"PMID:33830993\"],[19,\"phenotype\",0.6762567419240386,\"CPNE3\",\"GCST90018939\",\"PMID:34594039\"],[19,\"phenotype\",0.7012900333459319,\"AKAP12;CDC42BPA\",\"GCST006988\",\"PMID:30531825\"],[19,\"phenotype\",0.9414579808611644,\"VEGFA;NPC2;TOX2;RRAS2;FRY\",\"GCST010002\",\"PMID:32231278\"]],\"hovertemplate\":\"trait_category=%{customdata[1]}\\u003cbr\\u003etrait_reported=%{x}\\u003cbr\\u003e-log10(p-value)=%{y}\\u003cbr\\u003eprogram_name=%{customdata[0]}\\u003cbr\\u003eP-value=%{customdata[2]}\\u003cbr\\u003eGenes=%{customdata[3]}\\u003cbr\\u003estudy_id=%{customdata[4]}\\u003cbr\\u003epmid=%{customdata[5]}\\u003cextra\\u003e\\u003c\\u002fextra\\u003e\",\"legendgroup\":\"phenotype\",\"marker\":{\"color\":\"#00cc96\",\"symbol\":\"circle\"},\"mode\":\"markers\",\"name\":\"phenotype\",\"orientation\":\"v\",\"showlegend\":true,\"x\":[\"High cholesterol\",\"Hallux valgus (acquired)\",\"Myopia (pathological)\",\"Hearing difficulty\\u002fproblems with background noise\",\"Skin colour\",\"Senile cataract\",\"Fasciitis\",\"Hernia\",\"Left-handedness\",\"Multisite chronic pain\",\"Multisite chronic pain\",\"Varicose veins\",\"Blond vs. brown\\u002fblack hair color\",\"Refractive error\"],\"xaxis\":\"x\",\"y\":[2.0610531108424572,0.8717943873810217,0.7489910674689295,0.6858060349882722,0.5158217884829206,0.4540872945230746,0.3577605660432619,0.3577605660432619,0.313881472009155,0.22782996104713193,0.22782996104713193,0.16988839217622498,0.15410233320106417,0.026199058639734853],\"yaxis\":\"y\",\"type\":\"scatter\"},{\"customdata\":[[19,\"respiratory or thoracic disease\",0.2927653966471928,\"IL21R\",\"FINNGEN_R6_ILD_ENDPOINTS\",null],[19,\"respiratory or thoracic disease\",0.4945157231297057,\"THSD4;PRSS23\",\"GCST007692\",\"PMID:30804561\"],[19,\"respiratory or thoracic disease\",0.8684627092415388,\"FADS2\",\"GCST007076\",\"PMID:30595370\"]],\"hovertemplate\":\"trait_category=%{customdata[1]}\\u003cbr\\u003etrait_reported=%{x}\\u003cbr\\u003e-log10(p-value)=%{y}\\u003cbr\\u003eprogram_name=%{customdata[0]}\\u003cbr\\u003eP-value=%{customdata[2]}\\u003cbr\\u003eGenes=%{customdata[3]}\\u003cbr\\u003estudy_id=%{customdata[4]}\\u003cbr\\u003epmid=%{customdata[5]}\\u003cextra\\u003e\\u003c\\u002fextra\\u003e\",\"legendgroup\":\"respiratory or thoracic disease\",\"marker\":{\"color\":\"#ab63fa\",\"symbol\":\"circle\"},\"mode\":\"markers\",\"name\":\"respiratory or thoracic disease\",\"orientation\":\"v\",\"showlegend\":true,\"x\":[\"Interstitial lung disease endpoints\",\"Chronic obstructive pulmonary disease\",\"Respiratory diseases\"],\"xaxis\":\"x\",\"y\":[0.5334802559376316,0.30581989545221594,0.06124882490637182],\"yaxis\":\"y\",\"type\":\"scatter\"},{\"customdata\":[[19,\"urinary system disease\",0.3514897829027668,\"VEGFA\",\"GCST000649_3\",\"PMID:20383146\"]],\"hovertemplate\":\"trait_category=%{customdata[1]}\\u003cbr\\u003etrait_reported=%{x}\\u003cbr\\u003e-log10(p-value)=%{y}\\u003cbr\\u003eprogram_name=%{customdata[0]}\\u003cbr\\u003eP-value=%{customdata[2]}\\u003cbr\\u003eGenes=%{customdata[3]}\\u003cbr\\u003estudy_id=%{customdata[4]}\\u003cbr\\u003epmid=%{customdata[5]}\\u003cextra\\u003e\\u003c\\u002fextra\\u003e\",\"legendgroup\":\"urinary system disease\",\"marker\":{\"color\":\"#FFA15A\",\"symbol\":\"circle\"},\"mode\":\"markers\",\"name\":\"urinary system disease\",\"orientation\":\"v\",\"showlegend\":true,\"x\":[\"Chronic kidney disease [eGFRcrea]\"],\"xaxis\":\"x\",\"y\":[0.4540872945230746],\"yaxis\":\"y\",\"type\":\"scatter\"}],                        {\"template\":{\"data\":{\"histogram2dcontour\":[{\"type\":\"histogram2dcontour\",\"colorbar\":{\"outlinewidth\":0,\"ticks\":\"\"},\"colorscale\":[[0.0,\"#0d0887\"],[0.1111111111111111,\"#46039f\"],[0.2222222222222222,\"#7201a8\"],[0.3333333333333333,\"#9c179e\"],[0.4444444444444444,\"#bd3786\"],[0.5555555555555556,\"#d8576b\"],[0.6666666666666666,\"#ed7953\"],[0.7777777777777778,\"#fb9f3a\"],[0.8888888888888888,\"#fdca26\"],[1.0,\"#f0f921\"]]}],\"choropleth\":[{\"type\":\"choropleth\",\"colorbar\":{\"outlinewidth\":0,\"ticks\":\"\"}}],\"histogram2d\":[{\"type\":\"histogram2d\",\"colorbar\":{\"outlinewidth\":0,\"ticks\":\"\"},\"colorscale\":[[0.0,\"#0d0887\"],[0.1111111111111111,\"#46039f\"],[0.2222222222222222,\"#7201a8\"],[0.3333333333333333,\"#9c179e\"],[0.4444444444444444,\"#bd3786\"],[0.5555555555555556,\"#d8576b\"],[0.6666666666666666,\"#ed7953\"],[0.7777777777777778,\"#fb9f3a\"],[0.8888888888888888,\"#fdca26\"],[1.0,\"#f0f921\"]]}],\"heatmap\":[{\"type\":\"heatmap\",\"colorbar\":{\"outlinewidth\":0,\"ticks\":\"\"},\"colorscale\":[[0.0,\"#0d0887\"],[0.1111111111111111,\"#46039f\"],[0.2222222222222222,\"#7201a8\"],[0.3333333333333333,\"#9c179e\"],[0.4444444444444444,\"#bd3786\"],[0.5555555555555556,\"#d8576b\"],[0.6666666666666666,\"#ed7953\"],[0.7777777777777778,\"#fb9f3a\"],[0.8888888888888888,\"#fdca26\"],[1.0,\"#f0f921\"]]}],\"heatmapgl\":[{\"type\":\"heatmapgl\",\"colorbar\":{\"outlinewidth\":0,\"ticks\":\"\"},\"colorscale\":[[0.0,\"#0d0887\"],[0.1111111111111111,\"#46039f\"],[0.2222222222222222,\"#7201a8\"],[0.3333333333333333,\"#9c179e\"],[0.4444444444444444,\"#bd3786\"],[0.5555555555555556,\"#d8576b\"],[0.6666666666666666,\"#ed7953\"],[0.7777777777777778,\"#fb9f3a\"],[0.8888888888888888,\"#fdca26\"],[1.0,\"#f0f921\"]]}],\"contourcarpet\":[{\"type\":\"contourcarpet\",\"colorbar\":{\"outlinewidth\":0,\"ticks\":\"\"}}],\"contour\":[{\"type\":\"contour\",\"colorbar\":{\"outlinewidth\":0,\"ticks\":\"\"},\"colorscale\":[[0.0,\"#0d0887\"],[0.1111111111111111,\"#46039f\"],[0.2222222222222222,\"#7201a8\"],[0.3333333333333333,\"#9c179e\"],[0.4444444444444444,\"#bd3786\"],[0.5555555555555556,\"#d8576b\"],[0.6666666666666666,\"#ed7953\"],[0.7777777777777778,\"#fb9f3a\"],[0.8888888888888888,\"#fdca26\"],[1.0,\"#f0f921\"]]}],\"surface\":[{\"type\":\"surface\",\"colorbar\":{\"outlinewidth\":0,\"ticks\":\"\"},\"colorscale\":[[0.0,\"#0d0887\"],[0.1111111111111111,\"#46039f\"],[0.2222222222222222,\"#7201a8\"],[0.3333333333333333,\"#9c179e\"],[0.4444444444444444,\"#bd3786\"],[0.5555555555555556,\"#d8576b\"],[0.6666666666666666,\"#ed7953\"],[0.7777777777777778,\"#fb9f3a\"],[0.8888888888888888,\"#fdca26\"],[1.0,\"#f0f921\"]]}],\"mesh3d\":[{\"type\":\"mesh3d\",\"colorbar\":{\"outlinewidth\":0,\"ticks\":\"\"}}],\"scatter\":[{\"fillpattern\":{\"fillmode\":\"overlay\",\"size\":10,\"solidity\":0.2},\"type\":\"scatter\"}],\"parcoords\":[{\"type\":\"parcoords\",\"line\":{\"colorbar\":{\"outlinewidth\":0,\"ticks\":\"\"}}}],\"scatterpolargl\":[{\"type\":\"scatterpolargl\",\"marker\":{\"colorbar\":{\"outlinewidth\":0,\"ticks\":\"\"}}}],\"bar\":[{\"error_x\":{\"color\":\"#2a3f5f\"},\"error_y\":{\"color\":\"#2a3f5f\"},\"marker\":{\"line\":{\"color\":\"#E5ECF6\",\"width\":0.5},\"pattern\":{\"fillmode\":\"overlay\",\"size\":10,\"solidity\":0.2}},\"type\":\"bar\"}],\"scattergeo\":[{\"type\":\"scattergeo\",\"marker\":{\"colorbar\":{\"outlinewidth\":0,\"ticks\":\"\"}}}],\"scatterpolar\":[{\"type\":\"scatterpolar\",\"marker\":{\"colorbar\":{\"outlinewidth\":0,\"ticks\":\"\"}}}],\"histogram\":[{\"marker\":{\"pattern\":{\"fillmode\":\"overlay\",\"size\":10,\"solidity\":0.2}},\"type\":\"histogram\"}],\"scattergl\":[{\"type\":\"scattergl\",\"marker\":{\"colorbar\":{\"outlinewidth\":0,\"ticks\":\"\"}}}],\"scatter3d\":[{\"type\":\"scatter3d\",\"line\":{\"colorbar\":{\"outlinewidth\":0,\"ticks\":\"\"}},\"marker\":{\"colorbar\":{\"outlinewidth\":0,\"ticks\":\"\"}}}],\"scattermapbox\":[{\"type\":\"scattermapbox\",\"marker\":{\"colorbar\":{\"outlinewidth\":0,\"ticks\":\"\"}}}],\"scatterternary\":[{\"type\":\"scatterternary\",\"marker\":{\"colorbar\":{\"outlinewidth\":0,\"ticks\":\"\"}}}],\"scattercarpet\":[{\"type\":\"scattercarpet\",\"marker\":{\"colorbar\":{\"outlinewidth\":0,\"ticks\":\"\"}}}],\"carpet\":[{\"aaxis\":{\"endlinecolor\":\"#2a3f5f\",\"gridcolor\":\"white\",\"linecolor\":\"white\",\"minorgridcolor\":\"white\",\"startlinecolor\":\"#2a3f5f\"},\"baxis\":{\"endlinecolor\":\"#2a3f5f\",\"gridcolor\":\"white\",\"linecolor\":\"white\",\"minorgridcolor\":\"white\",\"startlinecolor\":\"#2a3f5f\"},\"type\":\"carpet\"}],\"table\":[{\"cells\":{\"fill\":{\"color\":\"#EBF0F8\"},\"line\":{\"color\":\"white\"}},\"header\":{\"fill\":{\"color\":\"#C8D4E3\"},\"line\":{\"color\":\"white\"}},\"type\":\"table\"}],\"barpolar\":[{\"marker\":{\"line\":{\"color\":\"#E5ECF6\",\"width\":0.5},\"pattern\":{\"fillmode\":\"overlay\",\"size\":10,\"solidity\":0.2}},\"type\":\"barpolar\"}],\"pie\":[{\"automargin\":true,\"type\":\"pie\"}]},\"layout\":{\"autotypenumbers\":\"strict\",\"colorway\":[\"#636efa\",\"#EF553B\",\"#00cc96\",\"#ab63fa\",\"#FFA15A\",\"#19d3f3\",\"#FF6692\",\"#B6E880\",\"#FF97FF\",\"#FECB52\"],\"font\":{\"color\":\"#2a3f5f\"},\"hovermode\":\"closest\",\"hoverlabel\":{\"align\":\"left\"},\"paper_bgcolor\":\"white\",\"plot_bgcolor\":\"#E5ECF6\",\"polar\":{\"bgcolor\":\"#E5ECF6\",\"angularaxis\":{\"gridcolor\":\"white\",\"linecolor\":\"white\",\"ticks\":\"\"},\"radialaxis\":{\"gridcolor\":\"white\",\"linecolor\":\"white\",\"ticks\":\"\"}},\"ternary\":{\"bgcolor\":\"#E5ECF6\",\"aaxis\":{\"gridcolor\":\"white\",\"linecolor\":\"white\",\"ticks\":\"\"},\"baxis\":{\"gridcolor\":\"white\",\"linecolor\":\"white\",\"ticks\":\"\"},\"caxis\":{\"gridcolor\":\"white\",\"linecolor\":\"white\",\"ticks\":\"\"}},\"coloraxis\":{\"colorbar\":{\"outlinewidth\":0,\"ticks\":\"\"}},\"colorscale\":{\"sequential\":[[0.0,\"#0d0887\"],[0.1111111111111111,\"#46039f\"],[0.2222222222222222,\"#7201a8\"],[0.3333333333333333,\"#9c179e\"],[0.4444444444444444,\"#bd3786\"],[0.5555555555555556,\"#d8576b\"],[0.6666666666666666,\"#ed7953\"],[0.7777777777777778,\"#fb9f3a\"],[0.8888888888888888,\"#fdca26\"],[1.0,\"#f0f921\"]],\"sequentialminus\":[[0.0,\"#0d0887\"],[0.1111111111111111,\"#46039f\"],[0.2222222222222222,\"#7201a8\"],[0.3333333333333333,\"#9c179e\"],[0.4444444444444444,\"#bd3786\"],[0.5555555555555556,\"#d8576b\"],[0.6666666666666666,\"#ed7953\"],[0.7777777777777778,\"#fb9f3a\"],[0.8888888888888888,\"#fdca26\"],[1.0,\"#f0f921\"]],\"diverging\":[[0,\"#8e0152\"],[0.1,\"#c51b7d\"],[0.2,\"#de77ae\"],[0.3,\"#f1b6da\"],[0.4,\"#fde0ef\"],[0.5,\"#f7f7f7\"],[0.6,\"#e6f5d0\"],[0.7,\"#b8e186\"],[0.8,\"#7fbc41\"],[0.9,\"#4d9221\"],[1,\"#276419\"]]},\"xaxis\":{\"gridcolor\":\"white\",\"linecolor\":\"white\",\"ticks\":\"\",\"title\":{\"standoff\":15},\"zerolinecolor\":\"white\",\"automargin\":true,\"zerolinewidth\":2},\"yaxis\":{\"gridcolor\":\"white\",\"linecolor\":\"white\",\"ticks\":\"\",\"title\":{\"standoff\":15},\"zerolinecolor\":\"white\",\"automargin\":true,\"zerolinewidth\":2},\"scene\":{\"xaxis\":{\"backgroundcolor\":\"#E5ECF6\",\"gridcolor\":\"white\",\"linecolor\":\"white\",\"showbackground\":true,\"ticks\":\"\",\"zerolinecolor\":\"white\",\"gridwidth\":2},\"yaxis\":{\"backgroundcolor\":\"#E5ECF6\",\"gridcolor\":\"white\",\"linecolor\":\"white\",\"showbackground\":true,\"ticks\":\"\",\"zerolinecolor\":\"white\",\"gridwidth\":2},\"zaxis\":{\"backgroundcolor\":\"#E5ECF6\",\"gridcolor\":\"white\",\"linecolor\":\"white\",\"showbackground\":true,\"ticks\":\"\",\"zerolinecolor\":\"white\",\"gridwidth\":2}},\"shapedefaults\":{\"line\":{\"color\":\"#2a3f5f\"}},\"annotationdefaults\":{\"arrowcolor\":\"#2a3f5f\",\"arrowhead\":0,\"arrowwidth\":1},\"geo\":{\"bgcolor\":\"white\",\"landcolor\":\"#E5ECF6\",\"subunitcolor\":\"white\",\"showland\":true,\"showlakes\":true,\"lakecolor\":\"white\"},\"title\":{\"x\":0.05},\"mapbox\":{\"style\":\"light\"}}},\"xaxis\":{\"anchor\":\"y\",\"domain\":[0.0,1.0],\"title\":{\"text\":\"trait_reported\"},\"tickfont\":{\"size\":4}},\"yaxis\":{\"anchor\":\"x\",\"domain\":[0.0,1.0],\"title\":{\"text\":\"-log10(p-value)\"},\"tickformat\":\".1f\"},\"legend\":{\"title\":{\"text\":\"trait_category\"},\"tracegroupgap\":0},\"title\":{\"text\":\"Endothelial Cell Programs x GWAS Binary Outcome Enrichments\"},\"width\":1000,\"height\":800,\"shapes\":[{\"line\":{\"dash\":\"dash\"},\"type\":\"line\",\"x0\":0,\"x1\":1,\"xref\":\"x domain\",\"y0\":1.3010299956639813,\"y1\":1.3010299956639813,\"yref\":\"y\"}],\"annotations\":[{\"showarrow\":false,\"text\":\"Significance Threshold (0.05)\",\"x\":1,\"xanchor\":\"right\",\"xref\":\"x domain\",\"y\":1.3010299956639813,\"yanchor\":\"bottom\",\"yref\":\"y\"}]},                        {\"responsive\": true}                    ).then(function(){\n",
       "                            \n",
       "var gd = document.getElementById('6a34a136-ab6e-4e2a-b3ee-8f2cbb3c7dad');\n",
       "var x = new MutationObserver(function (mutations, observer) {{\n",
       "        var display = window.getComputedStyle(gd).display;\n",
       "        if (!display || display === 'none') {{\n",
       "            console.log([gd, 'removed!']);\n",
       "            Plotly.purge(gd);\n",
       "            observer.disconnect();\n",
       "        }}\n",
       "}});\n",
       "\n",
       "// Listen for the removal of the full notebook cells\n",
       "var notebookContainer = gd.closest('#notebook-container');\n",
       "if (notebookContainer) {{\n",
       "    x.observe(notebookContainer, {childList: true});\n",
       "}}\n",
       "\n",
       "// Listen for the clearing of the current output cell\n",
       "var outputEl = gd.closest('.output');\n",
       "if (outputEl) {{\n",
       "    x.observe(outputEl, {childList: true});\n",
       "}}\n",
       "\n",
       "                        })                };                });            </script>        </div>"
      ]
     },
     "metadata": {},
     "output_type": "display_data"
    },
    {
     "data": {
      "application/vnd.plotly.v1+json": {
       "config": {
        "plotlyServerURL": "https://plot.ly"
       },
       "data": [
        {
         "customdata": [
          [
           1,
           "biological process",
           0.0110939939429593,
           "ADK;HMGA2",
           "GCST002030",
           "PMID:23704328"
          ],
          [
           1,
           "biological process",
           0.0251763708215836,
           "ADK;HMGA2",
           "GCST002031",
           "PMID:23704328"
          ],
          [
           1,
           "biological process",
           0.2560177705080318,
           "ZPR1;PXK;VEGFA",
           "FINNGEN_R6_RX_STATIN",
           null
          ],
          [
           1,
           "biological process",
           0.3803455116589593,
           "DDX18;FOXP1;SYT1",
           "GCST006269",
           "PMID:29844566"
          ],
          [
           1,
           "biological process",
           0.4003921811003404,
           "SEC61G;NR2F1;SYT1;SORBS2;MAP3K20;STK24;FOXP1;KLF6;HMGA2;BNIP3;NPM1;CHD2;CELF2;NFIB;FBXL5;MBNL2;NDUFAF2",
           "GCST006568",
           "PMID:30038396"
          ],
          [
           1,
           "biological process",
           0.4999500647969271,
           "MAP3K20;OLA1;DNAJC1",
           "GCST007327",
           "PMID:30643258"
          ],
          [
           1,
           "biological process",
           0.5141166161169642,
           "ZBTB16;FOXP1;DNAJC1",
           "GCST007462",
           "PMID:30643251"
          ],
          [
           1,
           "biological process",
           0.7631198367480742,
           "FOXP1",
           "GCST007464",
           "PMID:30643251"
          ],
          [
           1,
           "biological process",
           0.9295294857386228,
           "FOXP1;STK24",
           "GCST007325",
           "PMID:30643258"
          ],
          [
           1,
           "biological process",
           0.9846102738557214,
           "MTHFD1L",
           "GCST006660",
           "PMID:30348214"
          ]
         ],
         "hovertemplate": "trait_category=%{customdata[1]}<br>trait_reported=%{x}<br>-log10(p-value)=%{y}<br>program_name=%{customdata[0]}<br>P-value=%{customdata[2]}<br>Genes=%{customdata[3]}<br>study_id=%{customdata[4]}<br>pmid=%{customdata[5]}<extra></extra>",
         "legendgroup": "biological process",
         "marker": {
          "color": "#636efa",
          "symbol": "circle"
         },
         "mode": "markers",
         "name": "biological process",
         "orientation": "v",
         "showlegend": true,
         "type": "scatter",
         "x": [
          "Primary tooth development (time to first tooth eruption)",
          "Primary tooth development (number of teeth)",
          "Statin medication",
          "General cognitive ability",
          "Highest math class taken (MTAG) [MTAG]",
          "Smoking status (ever vs never smokers)",
          "Age of smoking initiation (MTAG)",
          "Smoking cessation (MTAG)",
          "General risk tolerance (MTAG)",
          "DNA methylation variation (age effect)"
         ],
         "xaxis": "x",
         "y": [
          1.9549120755709448,
          1.599006873344697,
          0.5917298887282777,
          0.4198217043550594,
          0.39751441205718535,
          0.30107337099626785,
          0.2889383596200451,
          0.1174072571279543,
          0.0317368293558006,
          0.006735636920393971
         ],
         "yaxis": "y"
        },
        {
         "customdata": [
          [
           1,
           "cardiovascular disease",
           0.1162661533036286,
           "FEZ2;MAP3K20;FOXP1;RGMB",
           "GCST90014033",
           "PMID:33888516"
          ],
          [
           1,
           "cardiovascular disease",
           0.2052977599597684,
           "ZPR1",
           "GCST011496",
           "PMID:32981348"
          ],
          [
           1,
           "cardiovascular disease",
           0.3312126850284827,
           "NEBL",
           "GCST90013707",
           "PMID:32514122"
          ],
          [
           1,
           "cardiovascular disease",
           0.3312126850284827,
           "DNAJC1",
           "GCST010774",
           "PMID:32589924"
          ],
          [
           1,
           "cardiovascular disease",
           0.3858265991740238,
           "SLC7A1;SYT1",
           "FINNGEN_R6_RX_ANTIHYP",
           null
          ],
          [
           1,
           "cardiovascular disease",
           0.4354622051089938,
           "ZPR1;VEGFA",
           "GCST005195",
           "PMID:29212778"
          ],
          [
           1,
           "cardiovascular disease",
           0.4687409823516349,
           "NR3C1",
           "FINNGEN_R6_CARDIAC_ARRHYTM",
           null
          ],
          [
           1,
           "cardiovascular disease",
           0.5127120401767314,
           "FHL1",
           "FINNGEN_R6_I9_IHD",
           null
          ],
          [
           1,
           "cardiovascular disease",
           0.5530591689009583,
           "FHL1",
           "FINNGEN_R6_I9_CORATHER",
           null
          ],
          [
           1,
           "cardiovascular disease",
           0.6732738750053886,
           "NR3C1;MXD1",
           "GCST006061",
           "PMID:29892015"
          ],
          [
           1,
           "cardiovascular disease",
           0.8174004975939932,
           "N4BP2L2",
           "GCST011365",
           "PMID:33532862"
          ],
          [
           1,
           "cardiovascular disease",
           0.8802741296379786,
           "ZPR1;SLC7A1;VEGFA",
           "GCST007072",
           "PMID:30595370"
          ]
         ],
         "hovertemplate": "trait_category=%{customdata[1]}<br>trait_reported=%{x}<br>-log10(p-value)=%{y}<br>program_name=%{customdata[0]}<br>P-value=%{customdata[2]}<br>Genes=%{customdata[3]}<br>study_id=%{customdata[4]}<br>pmid=%{customdata[5]}<extra></extra>",
         "legendgroup": "cardiovascular disease",
         "marker": {
          "color": "#EF553B",
          "symbol": "circle"
         },
         "mode": "markers",
         "name": "cardiovascular disease",
         "orientation": "v",
         "showlegend": true,
         "type": "scatter",
         "x": [
          "Haemorrhoidal disease",
          "Abdominal aortic aneurysm",
          "Arrhythmia",
          "Essential hypertension (time to event)",
          "Antihypertensive medication - note that there are other indications",
          "Coronary artery disease",
          "Cardiac arrhytmias",
          "Ischaemic heart disease, wide definition",
          "Coronary atherosclerosis",
          "Atrial fibrillation",
          "Myocardial infarction",
          "Cardiovascular disease"
         ],
         "xaxis": "x",
         "y": [
          0.9345466960442261,
          0.6876157892675923,
          0.47989303863722726,
          0.47989303863722726,
          0.41360783507395094,
          0.3610495325619418,
          0.3290670741497619,
          0.29012648376709393,
          0.2572284033199701,
          0.17180823710063395,
          0.08756510224681373,
          0.05538206142960949
         ],
         "yaxis": "y"
        },
        {
         "customdata": [
          [
           1,
           "cell proliferation disorder",
           0.0370634706337747,
           "EIF2S3;DNAJC1",
           "FINNGEN_R6_N14_PROSTHYPERPLA",
           null
          ],
          [
           1,
           "cell proliferation disorder",
           0.0418000934263041,
           "CMSS1;FOXP1;CEBPB;KLF4;MYC;DNAJC1",
           "GCST90090980",
           "PMID:32139696"
          ],
          [
           1,
           "cell proliferation disorder",
           0.0754748288800289,
           "CELF2;FOXP1;JDP2",
           "GCST90027058",
           "PMID:34290314"
          ],
          [
           1,
           "cell proliferation disorder",
           0.1538363947447686,
           "CELF2;FOXP1;JDP2",
           "GCST008870",
           "PMID:31174203"
          ],
          [
           1,
           "cell proliferation disorder",
           0.1667997248033053,
           "FOXP1;FHL2",
           "SAIGE_172",
           null
          ],
          [
           1,
           "cell proliferation disorder",
           0.1769688010217511,
           "SYNE1;SLC38A2",
           "GCST90018934",
           "PMID:34594039"
          ],
          [
           1,
           "cell proliferation disorder",
           0.1872318382084419,
           "IL21R;ANP32B",
           "GCST90061442",
           "PMID:34033851"
          ],
          [
           1,
           "cell proliferation disorder",
           0.2289659775480002,
           "FOXP1;JDP2",
           "GCST90018921",
           "PMID:34594039"
          ],
          [
           1,
           "cell proliferation disorder",
           0.3312126850284827,
           "SYNE1",
           "FINNGEN_R6_CD2_BENIGN",
           null
          ],
          [
           1,
           "cell proliferation disorder",
           0.3312126850284827,
           "SYNE1",
           "FINNGEN_R6_CD2_BENIGN_EXALLC",
           null
          ],
          [
           1,
           "cell proliferation disorder",
           0.3501754127829912,
           "FOXP1",
           "GCST90018883",
           "PMID:34594039"
          ],
          [
           1,
           "cell proliferation disorder",
           0.3686028922156911,
           "FOXP1",
           "GCST010148",
           "PMID:32041948"
          ],
          [
           1,
           "cell proliferation disorder",
           0.3865101631297417,
           "WDR43",
           "GCST005076",
           "PMID:29058716"
          ],
          [
           1,
           "cell proliferation disorder",
           0.4354622051089938,
           "FOXP1;JDP2",
           "GCST008871",
           "PMID:31174203"
          ],
          [
           1,
           "cell proliferation disorder",
           0.4687409823516349,
           "DDR2",
           "SAIGE_728_71",
           null
          ],
          [
           1,
           "cell proliferation disorder",
           0.5399939070905111,
           "FOXP1",
           "SAIGE_172_2",
           null
          ],
          [
           1,
           "cell proliferation disorder",
           0.5657550157601632,
           "SSR3",
           "GCST004635",
           "PMID:28604728"
          ],
          [
           1,
           "cell proliferation disorder",
           0.7827961810703056,
           "TOX2",
           "GCST007992",
           "PMID:31089142"
          ],
          [
           1,
           "cell proliferation disorder",
           0.910805667068275,
           "ZNF827;VEGFA",
           "GCST011049",
           "PMID:33398198"
          ]
         ],
         "hovertemplate": "trait_category=%{customdata[1]}<br>trait_reported=%{x}<br>-log10(p-value)=%{y}<br>program_name=%{customdata[0]}<br>P-value=%{customdata[2]}<br>Genes=%{customdata[3]}<br>study_id=%{customdata[4]}<br>pmid=%{customdata[5]}<extra></extra>",
         "legendgroup": "cell proliferation disorder",
         "marker": {
          "color": "#00cc96",
          "symbol": "circle"
         },
         "mode": "markers",
         "name": "cell proliferation disorder",
         "orientation": "v",
         "showlegend": true,
         "type": "scatter",
         "x": [
          "Hyperplasia of prostate",
          "Breast cancer",
          "Non-melanoma skin cancer",
          "Keratinocyte cancer (MTAG)",
          "Skin cancer",
          "Uterine fibroids",
          "Primary biliary cholangitis",
          "Skin cancer",
          "Benign neoplasms",
          "Benign neoplasms (controls excluding all cancers)",
          "Nasal polyps",
          "Cutaneous squamous cell carcinoma",
          "Breast cancer (estrogen-receptor negative)",
          "Basal cell carcinoma",
          "Contracture of palmar fascia [dupuytren's disease]",
          "Other non-epithelial cancer of skin",
          "Testicular germ cell tumor",
          "Colorectal cancer",
          "Prostate cancer"
         ],
         "xaxis": "x",
         "y": [
          1.431053915655979,
          1.3788227475435535,
          1.1221978629559868,
          0.8129409066218893,
          0.7778046702240867,
          0.7521032914822208,
          0.7276202988535754,
          0.6402290454369159,
          0.47989303863722726,
          0.47989303863722726,
          0.4557143507355519,
          0.43344126144362094,
          0.41283908199627534,
          0.3610495325619418,
          0.3290670741497619,
          0.26761114042128736,
          0.24737158707309181,
          0.10635130174696786,
          0.04057427585133527
         ],
         "yaxis": "y"
        },
        {
         "customdata": [
          [
           1,
           "disease of visual system",
           0.0110939939429593,
           "PHGDH;SLC1A4",
           "GCST012252",
           "PMID:33654266"
          ],
          [
           1,
           "disease of visual system",
           0.0737632212924954,
           "PRDX6;PXK",
           "GCST009131",
           "PMID:31672989"
          ],
          [
           1,
           "disease of visual system",
           0.1086001701764142,
           "METRNL;IGFBP3",
           "GCST90018814",
           "PMID:34594039"
          ],
          [
           1,
           "disease of visual system",
           0.3501754127829912,
           "VEGFA",
           "GCST001884",
           "PMID:23455636"
          ],
          [
           1,
           "disease of visual system",
           0.3865101631297417,
           "IGFBP3",
           "FINNGEN_R6_H7_LENS",
           null
          ],
          [
           1,
           "disease of visual system",
           0.6871437345479188,
           "ANKRD28;SLC16A1;CD55",
           "GCST010378",
           "PMID:32352494"
          ],
          [
           1,
           "disease of visual system",
           0.7698682033086672,
           "CELF2",
           "GCST90011770",
           "PMID:33627673"
          ],
          [
           1,
           "disease of visual system",
           0.8817463489645347,
           "TES",
           "GCST009722",
           "PMID:31959993"
          ]
         ],
         "hovertemplate": "trait_category=%{customdata[1]}<br>trait_reported=%{x}<br>-log10(p-value)=%{y}<br>program_name=%{customdata[0]}<br>P-value=%{customdata[2]}<br>Genes=%{customdata[3]}<br>study_id=%{customdata[4]}<br>pmid=%{customdata[5]}<extra></extra>",
         "legendgroup": "disease of visual system",
         "marker": {
          "color": "#ab63fa",
          "symbol": "circle"
         },
         "mode": "markers",
         "name": "disease of visual system",
         "orientation": "v",
         "showlegend": true,
         "type": "scatter",
         "x": [
          "Macular telangiectasia type 2",
          "Systemic sclerosis",
          "Cataracts",
          "Age-related macular degeneration",
          "Disorders of lens",
          "Spherical equivalent",
          "Glaucoma (primary open-angle)",
          "Glaucoma (multi-trait analysis)"
         ],
         "xaxis": "x",
         "y": [
          1.9549120755709448,
          1.132160125590443,
          0.9641694942073953,
          0.4557143507355519,
          0.41283908199627534,
          0.16295240909499187,
          0.11358361700277143,
          0.054656329934176844
         ],
         "yaxis": "y"
        },
        {
         "customdata": [
          [
           1,
           "endocrine system disease",
           0.3116992364219924,
           "HMGA2",
           "GCST90018853",
           "PMID:34594039"
          ],
          [
           1,
           "endocrine system disease",
           0.4208221469278008,
           "HMGA2",
           "FINNGEN_R6_E4_GOITREMULTINOD",
           null
          ],
          [
           1,
           "endocrine system disease",
           0.5939282892401838,
           "MYC;INPP5B",
           "GCST010571",
           "PMID:32581359"
          ],
          [
           1,
           "endocrine system disease",
           0.6552114138980152,
           "VEGFA",
           "FINNGEN_R6_E4_THYROID",
           null
          ],
          [
           1,
           "endocrine system disease",
           0.76074613600093,
           "MYC;INPP5B",
           "GCST007073",
           "PMID:30595370"
          ],
          [
           1,
           "endocrine system disease",
           0.7827961810703056,
           "VEGFA",
           "FINNGEN_R6_E4_HYTHY_AI_STRICT_PURCH",
           null
          ]
         ],
         "hovertemplate": "trait_category=%{customdata[1]}<br>trait_reported=%{x}<br>-log10(p-value)=%{y}<br>program_name=%{customdata[0]}<br>P-value=%{customdata[2]}<br>Genes=%{customdata[3]}<br>study_id=%{customdata[4]}<br>pmid=%{customdata[5]}<extra></extra>",
         "legendgroup": "endocrine system disease",
         "marker": {
          "color": "#FFA15A",
          "symbol": "circle"
         },
         "mode": "markers",
         "name": "endocrine system disease",
         "orientation": "v",
         "showlegend": true,
         "type": "scatter",
         "x": [
          "Goiter",
          "Nontoxic multinodular goitre",
          "Autoimmune thyroid disease",
          "Disorders of the thyroid gland",
          "Hypothyroidism",
          "Hypothyroidism, strict autoimmune, 3 medication purchases required"
         ],
         "xaxis": "x",
         "y": [
          0.5062642616247367,
          0.37590141230622787,
          0.2262659884655072,
          0.1836185456955181,
          0.11876024484259967,
          0.10635130174696786
         ],
         "yaxis": "y"
        },
        {
         "customdata": [
          [
           1,
           "gastrointestinal disease",
           0.218454271045285,
           "ZNF827;VEGFA",
           "GCST90094908",
           "PMID:35047847"
          ],
          [
           1,
           "gastrointestinal disease",
           0.2278129336020415,
           "IL21R",
           "FINNGEN_R6_RX_CROHN_2NDLINE",
           null
          ],
          [
           1,
           "gastrointestinal disease",
           0.2496930866050533,
           "FOXP1",
           "GCST90000515",
           "PMID:34187846"
          ],
          [
           1,
           "gastrointestinal disease",
           0.4110906426297157,
           "FOXP1;CEBPB;ERRFI1",
           "GCST004131",
           "PMID:28067908"
          ],
          [
           1,
           "gastrointestinal disease",
           0.8174004975939932,
           "STK24",
           "GCST90000514",
           "PMID:34187846"
          ]
         ],
         "hovertemplate": "trait_category=%{customdata[1]}<br>trait_reported=%{x}<br>-log10(p-value)=%{y}<br>program_name=%{customdata[0]}<br>P-value=%{customdata[2]}<br>Genes=%{customdata[3]}<br>study_id=%{customdata[4]}<br>pmid=%{customdata[5]}<extra></extra>",
         "legendgroup": "gastrointestinal disease",
         "marker": {
          "color": "#19d3f3",
          "symbol": "circle"
         },
         "mode": "markers",
         "name": "gastrointestinal disease",
         "orientation": "v",
         "showlegend": true,
         "type": "scatter",
         "x": [
          "Nonalcoholic fatty liver disease (imputed)",
          "Second line medication for Crohns disease",
          "Barrett's esophagus",
          "Inflammatory bowel disease",
          "Gastroesophageal reflux disease"
         ],
         "xaxis": "x",
         "y": [
          0.6606394598888763,
          0.6424216233976197,
          0.6025934820412893,
          0.38606240865027686,
          0.08756510224681373
         ],
         "yaxis": "y"
        },
        {
         "customdata": [
          [
           1,
           "immune system disease",
           0.2961627729636756,
           "FOXP1;PHGDH;TOX2;MYC;RRAS2",
           "GCST009597",
           "PMID:31604244"
          ]
         ],
         "hovertemplate": "trait_category=%{customdata[1]}<br>trait_reported=%{x}<br>-log10(p-value)=%{y}<br>program_name=%{customdata[0]}<br>P-value=%{customdata[2]}<br>Genes=%{customdata[3]}<br>study_id=%{customdata[4]}<br>pmid=%{customdata[5]}<extra></extra>",
         "legendgroup": "immune system disease",
         "marker": {
          "color": "#FF6692",
          "symbol": "circle"
         },
         "mode": "markers",
         "name": "immune system disease",
         "orientation": "v",
         "showlegend": true,
         "type": "scatter",
         "x": [
          "Multiple sclerosis"
         ],
         "xaxis": "x",
         "y": [
          0.528469532285171
         ],
         "yaxis": "y"
        },
        {
         "customdata": [
          [
           1,
           "infectious disease",
           0.3501754127829912,
           "RIPK2",
           "GCST002772",
           "PMID:25642632"
          ]
         ],
         "hovertemplate": "trait_category=%{customdata[1]}<br>trait_reported=%{x}<br>-log10(p-value)=%{y}<br>program_name=%{customdata[0]}<br>P-value=%{customdata[2]}<br>Genes=%{customdata[3]}<br>study_id=%{customdata[4]}<br>pmid=%{customdata[5]}<extra></extra>",
         "legendgroup": "infectious disease",
         "marker": {
          "color": "#B6E880",
          "symbol": "circle"
         },
         "mode": "markers",
         "name": "infectious disease",
         "orientation": "v",
         "showlegend": true,
         "type": "scatter",
         "x": [
          "Leprosy"
         ],
         "xaxis": "x",
         "y": [
          0.4557143507355519
         ],
         "yaxis": "y"
        },
        {
         "customdata": [
          [
           1,
           "injury, poisoning or other complication",
           0.1089648346342678,
           "MYC;IGF2BP2;HMGA2",
           "FINNGEN_R6_E4_DM2NASCOMP",
           null
          ],
          [
           1,
           "injury, poisoning or other complication",
           0.1370007915677938,
           "RIPK2;CEBPB",
           "NEALE2_6149_1",
           null
          ]
         ],
         "hovertemplate": "trait_category=%{customdata[1]}<br>trait_reported=%{x}<br>-log10(p-value)=%{y}<br>program_name=%{customdata[0]}<br>P-value=%{customdata[2]}<br>Genes=%{customdata[3]}<br>study_id=%{customdata[4]}<br>pmid=%{customdata[5]}<extra></extra>",
         "legendgroup": "injury, poisoning or other complication",
         "marker": {
          "color": "#FF97FF",
          "symbol": "circle"
         },
         "mode": "markers",
         "name": "injury, poisoning or other complication",
         "orientation": "v",
         "showlegend": true,
         "type": "scatter",
         "x": [
          "Type 2 diabetes with other specified/multiple/unspecified complications",
          "Mouth ulcers | mouth/teeth dental problems"
         ],
         "xaxis": "x",
         "y": [
          0.9627136358974767,
          0.8632769235550403
         ],
         "yaxis": "y"
        },
        {
         "customdata": [
          [
           1,
           "integumentary system disease",
           0.218454271045285,
           "ERRFI1;FST",
           "GCST90092000",
           "PMID:35132056"
          ],
          [
           1,
           "integumentary system disease",
           0.334405899507643,
           "LURAP1L;ANKRD11",
           "GCST007086",
           "PMID:30595370"
          ],
          [
           1,
           "integumentary system disease",
           0.6650171195725421,
           "FOXP1",
           "GCST004785",
           "PMID:27723757"
          ]
         ],
         "hovertemplate": "trait_category=%{customdata[1]}<br>trait_reported=%{x}<br>-log10(p-value)=%{y}<br>program_name=%{customdata[0]}<br>P-value=%{customdata[2]}<br>Genes=%{customdata[3]}<br>study_id=%{customdata[4]}<br>pmid=%{customdata[5]}<extra></extra>",
         "legendgroup": "integumentary system disease",
         "marker": {
          "color": "#FECB52",
          "symbol": "circle"
         },
         "mode": "markers",
         "name": "integumentary system disease",
         "orientation": "v",
         "showlegend": true,
         "type": "scatter",
         "x": [
          "acne vulgaris",
          "Sunburns",
          "Vitiligo"
         ],
         "xaxis": "x",
         "y": [
          0.6606394598888763,
          0.47572606944768936,
          0.17716717448608674
         ],
         "yaxis": "y"
        },
        {
         "customdata": [
          [
           1,
           "musculoskeletal or connective tissue disease",
           0.003117943310157,
           "HMGA2;NEBL;CRADD",
           "FINNGEN_R6_KNEE_ARTHROSIS",
           null
          ],
          [
           1,
           "musculoskeletal or connective tissue disease",
           0.003117943310157,
           "HMGA2;NEBL;CRADD",
           "FINNGEN_R6_M13_ARTHROSIS_KNEE",
           null
          ],
          [
           1,
           "musculoskeletal or connective tissue disease",
           0.0046073139881875,
           "NEBL;CRADD",
           "FINNGEN_R6_RHEUMA_ENDPOINTS",
           null
          ],
          [
           1,
           "musculoskeletal or connective tissue disease",
           0.1086001701764142,
           "TSEN15;KLF4",
           "GCST90034524",
           "PMID:34450027"
          ],
          [
           1,
           "musculoskeletal or connective tissue disease",
           0.2052977599597684,
           "FOXP1",
           "GCST90010715",
           "PMID:33106285"
          ],
          [
           1,
           "musculoskeletal or connective tissue disease",
           0.4208221469278008,
           "DDR2",
           "GCST004858",
           "PMID:28886342"
          ]
         ],
         "hovertemplate": "trait_category=%{customdata[1]}<br>trait_reported=%{x}<br>-log10(p-value)=%{y}<br>program_name=%{customdata[0]}<br>P-value=%{customdata[2]}<br>Genes=%{customdata[3]}<br>study_id=%{customdata[4]}<br>pmid=%{customdata[5]}<extra></extra>",
         "legendgroup": "musculoskeletal or connective tissue disease",
         "marker": {
          "color": "#636efa",
          "symbol": "circle"
         },
         "mode": "markers",
         "name": "musculoskeletal or connective tissue disease",
         "orientation": "v",
         "showlegend": true,
         "type": "scatter",
         "x": [
          "Gonarthrosis [arthrosis of knee](FG)",
          "Gonarthrosis",
          "Finngen Rheumatological endpoints",
          "Osteoarthritis (with total hip replacement)",
          "Arthritis (juvenile idiopathic)",
          "Dupuytren's disease"
         ],
         "xaxis": "x",
         "y": [
          2.5061317853337752,
          2.5061317853337752,
          2.336552189594394,
          0.9641694942073953,
          0.6876157892675923,
          0.37590141230622787
         ],
         "yaxis": "y"
        },
        {
         "customdata": [
          [
           1,
           "nervous system disease",
           0.2924003039405349,
           "NDUFAF2;MAP4K4",
           "GCST004902",
           "PMID:28892059"
          ],
          [
           1,
           "nervous system disease",
           0.2924003039405349,
           "NDUFAF2;MAP4K4",
           "GCST010991",
           "PMID:32201043"
          ],
          [
           1,
           "nervous system disease",
           0.3134716967861861,
           "SLC7A11;ATF4",
           "GCST010017",
           "PMID:32231276"
          ],
          [
           1,
           "nervous system disease",
           0.6493918765723456,
           "DNAJC1;MAP3K20;FOXP1;NFIB;CELF2;ZBTB16;NDUFAF2;SLC1A5",
           "GCST90061435",
           "PMID:34446935"
          ]
         ],
         "hovertemplate": "trait_category=%{customdata[1]}<br>trait_reported=%{x}<br>-log10(p-value)=%{y}<br>program_name=%{customdata[0]}<br>P-value=%{customdata[2]}<br>Genes=%{customdata[3]}<br>study_id=%{customdata[4]}<br>pmid=%{customdata[5]}<extra></extra>",
         "legendgroup": "nervous system disease",
         "marker": {
          "color": "#EF553B",
          "symbol": "circle"
         },
         "mode": "markers",
         "name": "nervous system disease",
         "orientation": "v",
         "showlegend": true,
         "type": "scatter",
         "x": [
          "Parkinson's disease",
          "Parkinson's disease",
          "Neuroticism",
          "Externalizing behaviour (multivariate analysis)"
         ],
         "xaxis": "x",
         "y": [
          0.534022180279059,
          0.534022180279059,
          0.5038016653100721,
          0.18749314838921421
         ],
         "yaxis": "y"
        },
        {
         "customdata": [
          [
           1,
           "pancreas disease",
           0.1960852382481163,
           "CEBPB;IGF2BP2;HMGA2",
           "FINNGEN_R6_DIABETES_FG",
           null
          ],
          [
           1,
           "pancreas disease",
           0.3959131298013826,
           "IGF2BP2;HMGA2",
           "GCST007077",
           "PMID:30595370"
          ]
         ],
         "hovertemplate": "trait_category=%{customdata[1]}<br>trait_reported=%{x}<br>-log10(p-value)=%{y}<br>program_name=%{customdata[0]}<br>P-value=%{customdata[2]}<br>Genes=%{customdata[3]}<br>study_id=%{customdata[4]}<br>pmid=%{customdata[5]}<extra></extra>",
         "legendgroup": "pancreas disease",
         "marker": {
          "color": "#00cc96",
          "symbol": "circle"
         },
         "mode": "markers",
         "name": "pancreas disease",
         "orientation": "v",
         "showlegend": true,
         "type": "scatter",
         "x": [
          "Diabetes, varying definitions",
          "Type 2 diabetes"
         ],
         "xaxis": "x",
         "y": [
          0.7075550997982831,
          0.40240009535379206
         ],
         "yaxis": "y"
        },
        {
         "customdata": [
          [
           1,
           "phenotype",
           0.023664906825575,
           "SORBS2;ERRFI1;RPL22L1;SGK1",
           "GCST90018939",
           "PMID:34594039"
          ],
          [
           1,
           "phenotype",
           0.0274224709874537,
           "MTHFD1L;PXK;FOXP1;SGK1;CD55;SEMA3A;BOD1;SLC16A1;MAP1LC3B;NEBL;TOX2;EZR;ANKRD28;RRAS2;VEGFA",
           "GCST010002",
           "PMID:32231278"
          ],
          [
           1,
           "phenotype",
           0.1178829819419849,
           "ZPR1;SLC1A4",
           "GCST001639",
           "PMID:22916037"
          ],
          [
           1,
           "phenotype",
           0.12595794832767,
           "EZR;UBC;ERRFI1;SLC38A2",
           "NEALE2_1717",
           null
          ],
          [
           1,
           "phenotype",
           0.1582884563123087,
           "FOXP1",
           "SAIGE_550_2",
           null
          ],
          [
           1,
           "phenotype",
           0.1769688010217511,
           "RIPK2;CEBPB",
           "GCST007839",
           "PMID:30837455"
          ],
          [
           1,
           "phenotype",
           0.2636996974266772,
           "HMGA2;ZPR1;VEGFA",
           "GCST90038690",
           "PMID:33959723"
          ],
          [
           1,
           "phenotype",
           0.2916191493159891,
           "FOXP1",
           "GCST90018818",
           "PMID:34594039"
          ],
          [
           1,
           "phenotype",
           0.3501754127829912,
           "IGFBP3",
           "FINNGEN_R6_H7_CATARACTSENILE",
           null
          ],
          [
           1,
           "phenotype",
           0.4039118446483203,
           "CD55",
           "GCST012400",
           "PMID:33830181"
          ],
          [
           1,
           "phenotype",
           0.4208221469278008,
           "CELF2",
           "GCST002759",
           "PMID:25628336"
          ],
          [
           1,
           "phenotype",
           0.4208221469278008,
           "SYNE1",
           "FINNGEN_R6_CD2_BENIGN_LEIOMYOMA_UTERI_EXALLC",
           null
          ],
          [
           1,
           "phenotype",
           0.433843686239153,
           "EZR;SLC38A2;SGK1",
           "GCST006988",
           "PMID:30531825"
          ],
          [
           1,
           "phenotype",
           0.4372548825462947,
           "SRPX",
           "FINNGEN_R6_K11_HERNIA",
           null
          ],
          [
           1,
           "phenotype",
           0.4532234775765101,
           "SRPX",
           "FINNGEN_R6_K11_HERING",
           null
          ],
          [
           1,
           "phenotype",
           0.4687409823516349,
           "STK24",
           "NEALE2_1920",
           null
          ],
          [
           1,
           "phenotype",
           0.4838200819327186,
           "LMO4",
           "NEALE2_1210",
           null
          ],
          [
           1,
           "phenotype",
           0.5265485327916682,
           "NEBL",
           "GCST003992",
           "PMID:27182965"
          ],
          [
           1,
           "phenotype",
           0.9723872858833676,
           "MYC",
           "GCST007075",
           "PMID:30595370"
          ]
         ],
         "hovertemplate": "trait_category=%{customdata[1]}<br>trait_reported=%{x}<br>-log10(p-value)=%{y}<br>program_name=%{customdata[0]}<br>P-value=%{customdata[2]}<br>Genes=%{customdata[3]}<br>study_id=%{customdata[4]}<br>pmid=%{customdata[5]}<extra></extra>",
         "legendgroup": "phenotype",
         "marker": {
          "color": "#ab63fa",
          "symbol": "circle"
         },
         "mode": "markers",
         "name": "phenotype",
         "orientation": "v",
         "showlegend": true,
         "type": "scatter",
         "x": [
          "Varicose veins",
          "Refractive error",
          "Metabolite levels",
          "Skin colour",
          "Diaphragmatic hernia",
          "Mouth ulcers",
          "High cholesterol",
          "Cholecystitis",
          "Senile cataract",
          "Low myopia vs hyperopia",
          "Motion sickness",
          "Leiomyoma of uterus (controls excluding all cancers)",
          "Blond vs. brown/black hair color",
          "Hernia",
          "Inguinal hernia",
          "Mood swings",
          "Snoring",
          "Photic sneeze reflex",
          "Eczema"
         ],
         "xaxis": "x",
         "y": [
          1.62589520111436,
          1.5618934143216558,
          0.928548886865464,
          0.8997744220052328,
          0.8005507562852643,
          0.7521032914822208,
          0.5788903685228336,
          0.5351839612552679,
          0.4557143507355519,
          0.3937134110291194,
          0.37590141230622787,
          0.37590141230622787,
          0.3626667184874966,
          0.3592653323328206,
          0.34368760119647274,
          0.3290670741497619,
          0.3153161093276696,
          0.2785615930403008,
          0.012160728260205268
         ],
         "yaxis": "y"
        },
        {
         "customdata": [
          [
           1,
           "reproductive system or breast disease",
           0.2052977599597684,
           "SYNE1",
           "FINNGEN_R6_N14_ENDOMETRIOSIS_OVARY",
           null
          ],
          [
           1,
           "reproductive system or breast disease",
           0.2709560482021811,
           "SYNE1",
           "GCST004549",
           "PMID:28537267"
          ],
          [
           1,
           "reproductive system or breast disease",
           0.2916191493159891,
           "ZBTB16",
           "GCST007089",
           "PMID:30566500"
          ]
         ],
         "hovertemplate": "trait_category=%{customdata[1]}<br>trait_reported=%{x}<br>-log10(p-value)=%{y}<br>program_name=%{customdata[0]}<br>P-value=%{customdata[2]}<br>Genes=%{customdata[3]}<br>study_id=%{customdata[4]}<br>pmid=%{customdata[5]}<extra></extra>",
         "legendgroup": "reproductive system or breast disease",
         "marker": {
          "color": "#FFA15A",
          "symbol": "circle"
         },
         "mode": "markers",
         "name": "reproductive system or breast disease",
         "orientation": "v",
         "showlegend": true,
         "type": "scatter",
         "x": [
          "Endometriosis of ovary",
          "Endometriosis",
          "Polycystic ovary syndrome"
         ],
         "xaxis": "x",
         "y": [
          0.6876157892675923,
          0.5671011503481533,
          0.5351839612552679
         ],
         "yaxis": "y"
        },
        {
         "customdata": [
          [
           1,
           "respiratory or thoracic disease",
           0.2916191493159891,
           "IL21R",
           "FINNGEN_R6_ILD_ENDPOINTS",
           null
          ],
          [
           1,
           "respiratory or thoracic disease",
           0.4208221469278008,
           "MAP4K4",
           "GCST009842",
           "PMID:31669095"
          ],
          [
           1,
           "respiratory or thoracic disease",
           0.5657550157601632,
           "MYC",
           "GCST006409",
           "PMID:30013184"
          ],
          [
           1,
           "respiratory or thoracic disease",
           0.823405942018664,
           "MYC;FOXP1",
           "GCST010043",
           "PMID:32296059"
          ],
          [
           1,
           "respiratory or thoracic disease",
           0.9278042415350376,
           "MYC",
           "GCST009717",
           "PMID:31361310"
          ]
         ],
         "hovertemplate": "trait_category=%{customdata[1]}<br>trait_reported=%{x}<br>-log10(p-value)=%{y}<br>program_name=%{customdata[0]}<br>P-value=%{customdata[2]}<br>Genes=%{customdata[3]}<br>study_id=%{customdata[4]}<br>pmid=%{customdata[5]}<extra></extra>",
         "legendgroup": "respiratory or thoracic disease",
         "marker": {
          "color": "#19d3f3",
          "symbol": "circle"
         },
         "mode": "markers",
         "name": "respiratory or thoracic disease",
         "orientation": "v",
         "showlegend": true,
         "type": "scatter",
         "x": [
          "Interstitial lung disease endpoints",
          "Asthma (adult onset)",
          "Allergic rhinitis",
          "Asthma",
          "Hay fever and/or eczema"
         ],
         "xaxis": "x",
         "y": [
          0.5351839612552679,
          0.37590141230622787,
          0.24737158707309181,
          0.0843860032887321,
          0.03254364639901063
         ],
         "yaxis": "y"
        },
        {
         "customdata": [
          [
           1,
           "urinary system disease",
           0.3501754127829912,
           "VEGFA",
           "GCST000649_3",
           "PMID:20383146"
          ],
          [
           1,
           "urinary system disease",
           0.8592870322436971,
           "ELF1",
           "GCST011956",
           "PMID:33272962"
          ]
         ],
         "hovertemplate": "trait_category=%{customdata[1]}<br>trait_reported=%{x}<br>-log10(p-value)=%{y}<br>program_name=%{customdata[0]}<br>P-value=%{customdata[2]}<br>Genes=%{customdata[3]}<br>study_id=%{customdata[4]}<br>pmid=%{customdata[5]}<extra></extra>",
         "legendgroup": "urinary system disease",
         "marker": {
          "color": "#FF6692",
          "symbol": "circle"
         },
         "mode": "markers",
         "name": "urinary system disease",
         "orientation": "v",
         "showlegend": true,
         "type": "scatter",
         "x": [
          "Chronic kidney disease [eGFRcrea]",
          "Systemic lupus erythematosus"
         ],
         "xaxis": "x",
         "y": [
          0.4557143507355519,
          0.06586174222532887
         ],
         "yaxis": "y"
        }
       ],
       "layout": {
        "annotations": [
         {
          "showarrow": false,
          "text": "Significance Threshold (0.05)",
          "x": 1,
          "xanchor": "right",
          "xref": "x domain",
          "y": 1.3010299956639813,
          "yanchor": "bottom",
          "yref": "y"
         }
        ],
        "height": 800,
        "legend": {
         "title": {
          "text": "trait_category"
         },
         "tracegroupgap": 0
        },
        "shapes": [
         {
          "line": {
           "dash": "dash"
          },
          "type": "line",
          "x0": 0,
          "x1": 1,
          "xref": "x domain",
          "y0": 1.3010299956639813,
          "y1": 1.3010299956639813,
          "yref": "y"
         }
        ],
        "template": {
         "data": {
          "bar": [
           {
            "error_x": {
             "color": "#2a3f5f"
            },
            "error_y": {
             "color": "#2a3f5f"
            },
            "marker": {
             "line": {
              "color": "#E5ECF6",
              "width": 0.5
             },
             "pattern": {
              "fillmode": "overlay",
              "size": 10,
              "solidity": 0.2
             }
            },
            "type": "bar"
           }
          ],
          "barpolar": [
           {
            "marker": {
             "line": {
              "color": "#E5ECF6",
              "width": 0.5
             },
             "pattern": {
              "fillmode": "overlay",
              "size": 10,
              "solidity": 0.2
             }
            },
            "type": "barpolar"
           }
          ],
          "carpet": [
           {
            "aaxis": {
             "endlinecolor": "#2a3f5f",
             "gridcolor": "white",
             "linecolor": "white",
             "minorgridcolor": "white",
             "startlinecolor": "#2a3f5f"
            },
            "baxis": {
             "endlinecolor": "#2a3f5f",
             "gridcolor": "white",
             "linecolor": "white",
             "minorgridcolor": "white",
             "startlinecolor": "#2a3f5f"
            },
            "type": "carpet"
           }
          ],
          "choropleth": [
           {
            "colorbar": {
             "outlinewidth": 0,
             "ticks": ""
            },
            "type": "choropleth"
           }
          ],
          "contour": [
           {
            "colorbar": {
             "outlinewidth": 0,
             "ticks": ""
            },
            "colorscale": [
             [
              0,
              "#0d0887"
             ],
             [
              0.1111111111111111,
              "#46039f"
             ],
             [
              0.2222222222222222,
              "#7201a8"
             ],
             [
              0.3333333333333333,
              "#9c179e"
             ],
             [
              0.4444444444444444,
              "#bd3786"
             ],
             [
              0.5555555555555556,
              "#d8576b"
             ],
             [
              0.6666666666666666,
              "#ed7953"
             ],
             [
              0.7777777777777778,
              "#fb9f3a"
             ],
             [
              0.8888888888888888,
              "#fdca26"
             ],
             [
              1,
              "#f0f921"
             ]
            ],
            "type": "contour"
           }
          ],
          "contourcarpet": [
           {
            "colorbar": {
             "outlinewidth": 0,
             "ticks": ""
            },
            "type": "contourcarpet"
           }
          ],
          "heatmap": [
           {
            "colorbar": {
             "outlinewidth": 0,
             "ticks": ""
            },
            "colorscale": [
             [
              0,
              "#0d0887"
             ],
             [
              0.1111111111111111,
              "#46039f"
             ],
             [
              0.2222222222222222,
              "#7201a8"
             ],
             [
              0.3333333333333333,
              "#9c179e"
             ],
             [
              0.4444444444444444,
              "#bd3786"
             ],
             [
              0.5555555555555556,
              "#d8576b"
             ],
             [
              0.6666666666666666,
              "#ed7953"
             ],
             [
              0.7777777777777778,
              "#fb9f3a"
             ],
             [
              0.8888888888888888,
              "#fdca26"
             ],
             [
              1,
              "#f0f921"
             ]
            ],
            "type": "heatmap"
           }
          ],
          "heatmapgl": [
           {
            "colorbar": {
             "outlinewidth": 0,
             "ticks": ""
            },
            "colorscale": [
             [
              0,
              "#0d0887"
             ],
             [
              0.1111111111111111,
              "#46039f"
             ],
             [
              0.2222222222222222,
              "#7201a8"
             ],
             [
              0.3333333333333333,
              "#9c179e"
             ],
             [
              0.4444444444444444,
              "#bd3786"
             ],
             [
              0.5555555555555556,
              "#d8576b"
             ],
             [
              0.6666666666666666,
              "#ed7953"
             ],
             [
              0.7777777777777778,
              "#fb9f3a"
             ],
             [
              0.8888888888888888,
              "#fdca26"
             ],
             [
              1,
              "#f0f921"
             ]
            ],
            "type": "heatmapgl"
           }
          ],
          "histogram": [
           {
            "marker": {
             "pattern": {
              "fillmode": "overlay",
              "size": 10,
              "solidity": 0.2
             }
            },
            "type": "histogram"
           }
          ],
          "histogram2d": [
           {
            "colorbar": {
             "outlinewidth": 0,
             "ticks": ""
            },
            "colorscale": [
             [
              0,
              "#0d0887"
             ],
             [
              0.1111111111111111,
              "#46039f"
             ],
             [
              0.2222222222222222,
              "#7201a8"
             ],
             [
              0.3333333333333333,
              "#9c179e"
             ],
             [
              0.4444444444444444,
              "#bd3786"
             ],
             [
              0.5555555555555556,
              "#d8576b"
             ],
             [
              0.6666666666666666,
              "#ed7953"
             ],
             [
              0.7777777777777778,
              "#fb9f3a"
             ],
             [
              0.8888888888888888,
              "#fdca26"
             ],
             [
              1,
              "#f0f921"
             ]
            ],
            "type": "histogram2d"
           }
          ],
          "histogram2dcontour": [
           {
            "colorbar": {
             "outlinewidth": 0,
             "ticks": ""
            },
            "colorscale": [
             [
              0,
              "#0d0887"
             ],
             [
              0.1111111111111111,
              "#46039f"
             ],
             [
              0.2222222222222222,
              "#7201a8"
             ],
             [
              0.3333333333333333,
              "#9c179e"
             ],
             [
              0.4444444444444444,
              "#bd3786"
             ],
             [
              0.5555555555555556,
              "#d8576b"
             ],
             [
              0.6666666666666666,
              "#ed7953"
             ],
             [
              0.7777777777777778,
              "#fb9f3a"
             ],
             [
              0.8888888888888888,
              "#fdca26"
             ],
             [
              1,
              "#f0f921"
             ]
            ],
            "type": "histogram2dcontour"
           }
          ],
          "mesh3d": [
           {
            "colorbar": {
             "outlinewidth": 0,
             "ticks": ""
            },
            "type": "mesh3d"
           }
          ],
          "parcoords": [
           {
            "line": {
             "colorbar": {
              "outlinewidth": 0,
              "ticks": ""
             }
            },
            "type": "parcoords"
           }
          ],
          "pie": [
           {
            "automargin": true,
            "type": "pie"
           }
          ],
          "scatter": [
           {
            "fillpattern": {
             "fillmode": "overlay",
             "size": 10,
             "solidity": 0.2
            },
            "type": "scatter"
           }
          ],
          "scatter3d": [
           {
            "line": {
             "colorbar": {
              "outlinewidth": 0,
              "ticks": ""
             }
            },
            "marker": {
             "colorbar": {
              "outlinewidth": 0,
              "ticks": ""
             }
            },
            "type": "scatter3d"
           }
          ],
          "scattercarpet": [
           {
            "marker": {
             "colorbar": {
              "outlinewidth": 0,
              "ticks": ""
             }
            },
            "type": "scattercarpet"
           }
          ],
          "scattergeo": [
           {
            "marker": {
             "colorbar": {
              "outlinewidth": 0,
              "ticks": ""
             }
            },
            "type": "scattergeo"
           }
          ],
          "scattergl": [
           {
            "marker": {
             "colorbar": {
              "outlinewidth": 0,
              "ticks": ""
             }
            },
            "type": "scattergl"
           }
          ],
          "scattermapbox": [
           {
            "marker": {
             "colorbar": {
              "outlinewidth": 0,
              "ticks": ""
             }
            },
            "type": "scattermapbox"
           }
          ],
          "scatterpolar": [
           {
            "marker": {
             "colorbar": {
              "outlinewidth": 0,
              "ticks": ""
             }
            },
            "type": "scatterpolar"
           }
          ],
          "scatterpolargl": [
           {
            "marker": {
             "colorbar": {
              "outlinewidth": 0,
              "ticks": ""
             }
            },
            "type": "scatterpolargl"
           }
          ],
          "scatterternary": [
           {
            "marker": {
             "colorbar": {
              "outlinewidth": 0,
              "ticks": ""
             }
            },
            "type": "scatterternary"
           }
          ],
          "surface": [
           {
            "colorbar": {
             "outlinewidth": 0,
             "ticks": ""
            },
            "colorscale": [
             [
              0,
              "#0d0887"
             ],
             [
              0.1111111111111111,
              "#46039f"
             ],
             [
              0.2222222222222222,
              "#7201a8"
             ],
             [
              0.3333333333333333,
              "#9c179e"
             ],
             [
              0.4444444444444444,
              "#bd3786"
             ],
             [
              0.5555555555555556,
              "#d8576b"
             ],
             [
              0.6666666666666666,
              "#ed7953"
             ],
             [
              0.7777777777777778,
              "#fb9f3a"
             ],
             [
              0.8888888888888888,
              "#fdca26"
             ],
             [
              1,
              "#f0f921"
             ]
            ],
            "type": "surface"
           }
          ],
          "table": [
           {
            "cells": {
             "fill": {
              "color": "#EBF0F8"
             },
             "line": {
              "color": "white"
             }
            },
            "header": {
             "fill": {
              "color": "#C8D4E3"
             },
             "line": {
              "color": "white"
             }
            },
            "type": "table"
           }
          ]
         },
         "layout": {
          "annotationdefaults": {
           "arrowcolor": "#2a3f5f",
           "arrowhead": 0,
           "arrowwidth": 1
          },
          "autotypenumbers": "strict",
          "coloraxis": {
           "colorbar": {
            "outlinewidth": 0,
            "ticks": ""
           }
          },
          "colorscale": {
           "diverging": [
            [
             0,
             "#8e0152"
            ],
            [
             0.1,
             "#c51b7d"
            ],
            [
             0.2,
             "#de77ae"
            ],
            [
             0.3,
             "#f1b6da"
            ],
            [
             0.4,
             "#fde0ef"
            ],
            [
             0.5,
             "#f7f7f7"
            ],
            [
             0.6,
             "#e6f5d0"
            ],
            [
             0.7,
             "#b8e186"
            ],
            [
             0.8,
             "#7fbc41"
            ],
            [
             0.9,
             "#4d9221"
            ],
            [
             1,
             "#276419"
            ]
           ],
           "sequential": [
            [
             0,
             "#0d0887"
            ],
            [
             0.1111111111111111,
             "#46039f"
            ],
            [
             0.2222222222222222,
             "#7201a8"
            ],
            [
             0.3333333333333333,
             "#9c179e"
            ],
            [
             0.4444444444444444,
             "#bd3786"
            ],
            [
             0.5555555555555556,
             "#d8576b"
            ],
            [
             0.6666666666666666,
             "#ed7953"
            ],
            [
             0.7777777777777778,
             "#fb9f3a"
            ],
            [
             0.8888888888888888,
             "#fdca26"
            ],
            [
             1,
             "#f0f921"
            ]
           ],
           "sequentialminus": [
            [
             0,
             "#0d0887"
            ],
            [
             0.1111111111111111,
             "#46039f"
            ],
            [
             0.2222222222222222,
             "#7201a8"
            ],
            [
             0.3333333333333333,
             "#9c179e"
            ],
            [
             0.4444444444444444,
             "#bd3786"
            ],
            [
             0.5555555555555556,
             "#d8576b"
            ],
            [
             0.6666666666666666,
             "#ed7953"
            ],
            [
             0.7777777777777778,
             "#fb9f3a"
            ],
            [
             0.8888888888888888,
             "#fdca26"
            ],
            [
             1,
             "#f0f921"
            ]
           ]
          },
          "colorway": [
           "#636efa",
           "#EF553B",
           "#00cc96",
           "#ab63fa",
           "#FFA15A",
           "#19d3f3",
           "#FF6692",
           "#B6E880",
           "#FF97FF",
           "#FECB52"
          ],
          "font": {
           "color": "#2a3f5f"
          },
          "geo": {
           "bgcolor": "white",
           "lakecolor": "white",
           "landcolor": "#E5ECF6",
           "showlakes": true,
           "showland": true,
           "subunitcolor": "white"
          },
          "hoverlabel": {
           "align": "left"
          },
          "hovermode": "closest",
          "mapbox": {
           "style": "light"
          },
          "paper_bgcolor": "white",
          "plot_bgcolor": "#E5ECF6",
          "polar": {
           "angularaxis": {
            "gridcolor": "white",
            "linecolor": "white",
            "ticks": ""
           },
           "bgcolor": "#E5ECF6",
           "radialaxis": {
            "gridcolor": "white",
            "linecolor": "white",
            "ticks": ""
           }
          },
          "scene": {
           "xaxis": {
            "backgroundcolor": "#E5ECF6",
            "gridcolor": "white",
            "gridwidth": 2,
            "linecolor": "white",
            "showbackground": true,
            "ticks": "",
            "zerolinecolor": "white"
           },
           "yaxis": {
            "backgroundcolor": "#E5ECF6",
            "gridcolor": "white",
            "gridwidth": 2,
            "linecolor": "white",
            "showbackground": true,
            "ticks": "",
            "zerolinecolor": "white"
           },
           "zaxis": {
            "backgroundcolor": "#E5ECF6",
            "gridcolor": "white",
            "gridwidth": 2,
            "linecolor": "white",
            "showbackground": true,
            "ticks": "",
            "zerolinecolor": "white"
           }
          },
          "shapedefaults": {
           "line": {
            "color": "#2a3f5f"
           }
          },
          "ternary": {
           "aaxis": {
            "gridcolor": "white",
            "linecolor": "white",
            "ticks": ""
           },
           "baxis": {
            "gridcolor": "white",
            "linecolor": "white",
            "ticks": ""
           },
           "bgcolor": "#E5ECF6",
           "caxis": {
            "gridcolor": "white",
            "linecolor": "white",
            "ticks": ""
           }
          },
          "title": {
           "x": 0.05
          },
          "xaxis": {
           "automargin": true,
           "gridcolor": "white",
           "linecolor": "white",
           "ticks": "",
           "title": {
            "standoff": 15
           },
           "zerolinecolor": "white",
           "zerolinewidth": 2
          },
          "yaxis": {
           "automargin": true,
           "gridcolor": "white",
           "linecolor": "white",
           "ticks": "",
           "title": {
            "standoff": 15
           },
           "zerolinecolor": "white",
           "zerolinewidth": 2
          }
         }
        },
        "title": {
         "text": "Endothelial Cell Programs x GWAS Binary Outcome Enrichments"
        },
        "width": 1000,
        "xaxis": {
         "anchor": "y",
         "domain": [
          0,
          1
         ],
         "tickfont": {
          "size": 4
         },
         "title": {
          "text": "trait_reported"
         }
        },
        "yaxis": {
         "anchor": "x",
         "domain": [
          0,
          1
         ],
         "tickformat": ".1f",
         "title": {
          "text": "-log10(p-value)"
         }
        }
       }
      },
      "text/html": [
       "<div>                            <div id=\"37c52925-31f3-4639-b2fa-a373d1cec721\" class=\"plotly-graph-div\" style=\"height:800px; width:1000px;\"></div>            <script type=\"text/javascript\">                require([\"plotly\"], function(Plotly) {                    window.PLOTLYENV=window.PLOTLYENV || {};                                    if (document.getElementById(\"37c52925-31f3-4639-b2fa-a373d1cec721\")) {                    Plotly.newPlot(                        \"37c52925-31f3-4639-b2fa-a373d1cec721\",                        [{\"customdata\":[[1,\"biological process\",0.0110939939429593,\"ADK;HMGA2\",\"GCST002030\",\"PMID:23704328\"],[1,\"biological process\",0.0251763708215836,\"ADK;HMGA2\",\"GCST002031\",\"PMID:23704328\"],[1,\"biological process\",0.2560177705080318,\"ZPR1;PXK;VEGFA\",\"FINNGEN_R6_RX_STATIN\",null],[1,\"biological process\",0.3803455116589593,\"DDX18;FOXP1;SYT1\",\"GCST006269\",\"PMID:29844566\"],[1,\"biological process\",0.4003921811003404,\"SEC61G;NR2F1;SYT1;SORBS2;MAP3K20;STK24;FOXP1;KLF6;HMGA2;BNIP3;NPM1;CHD2;CELF2;NFIB;FBXL5;MBNL2;NDUFAF2\",\"GCST006568\",\"PMID:30038396\"],[1,\"biological process\",0.4999500647969271,\"MAP3K20;OLA1;DNAJC1\",\"GCST007327\",\"PMID:30643258\"],[1,\"biological process\",0.5141166161169642,\"ZBTB16;FOXP1;DNAJC1\",\"GCST007462\",\"PMID:30643251\"],[1,\"biological process\",0.7631198367480742,\"FOXP1\",\"GCST007464\",\"PMID:30643251\"],[1,\"biological process\",0.9295294857386228,\"FOXP1;STK24\",\"GCST007325\",\"PMID:30643258\"],[1,\"biological process\",0.9846102738557214,\"MTHFD1L\",\"GCST006660\",\"PMID:30348214\"]],\"hovertemplate\":\"trait_category=%{customdata[1]}\\u003cbr\\u003etrait_reported=%{x}\\u003cbr\\u003e-log10(p-value)=%{y}\\u003cbr\\u003eprogram_name=%{customdata[0]}\\u003cbr\\u003eP-value=%{customdata[2]}\\u003cbr\\u003eGenes=%{customdata[3]}\\u003cbr\\u003estudy_id=%{customdata[4]}\\u003cbr\\u003epmid=%{customdata[5]}\\u003cextra\\u003e\\u003c\\u002fextra\\u003e\",\"legendgroup\":\"biological process\",\"marker\":{\"color\":\"#636efa\",\"symbol\":\"circle\"},\"mode\":\"markers\",\"name\":\"biological process\",\"orientation\":\"v\",\"showlegend\":true,\"x\":[\"Primary tooth development (time to first tooth eruption)\",\"Primary tooth development (number of teeth)\",\"Statin medication\",\"General cognitive ability\",\"Highest math class taken (MTAG) [MTAG]\",\"Smoking status (ever vs never smokers)\",\"Age of smoking initiation (MTAG)\",\"Smoking cessation (MTAG)\",\"General risk tolerance (MTAG)\",\"DNA methylation variation (age effect)\"],\"xaxis\":\"x\",\"y\":[1.9549120755709448,1.599006873344697,0.5917298887282777,0.4198217043550594,0.39751441205718535,0.30107337099626785,0.2889383596200451,0.1174072571279543,0.0317368293558006,0.006735636920393971],\"yaxis\":\"y\",\"type\":\"scatter\"},{\"customdata\":[[1,\"cardiovascular disease\",0.1162661533036286,\"FEZ2;MAP3K20;FOXP1;RGMB\",\"GCST90014033\",\"PMID:33888516\"],[1,\"cardiovascular disease\",0.2052977599597684,\"ZPR1\",\"GCST011496\",\"PMID:32981348\"],[1,\"cardiovascular disease\",0.3312126850284827,\"NEBL\",\"GCST90013707\",\"PMID:32514122\"],[1,\"cardiovascular disease\",0.3312126850284827,\"DNAJC1\",\"GCST010774\",\"PMID:32589924\"],[1,\"cardiovascular disease\",0.3858265991740238,\"SLC7A1;SYT1\",\"FINNGEN_R6_RX_ANTIHYP\",null],[1,\"cardiovascular disease\",0.4354622051089938,\"ZPR1;VEGFA\",\"GCST005195\",\"PMID:29212778\"],[1,\"cardiovascular disease\",0.4687409823516349,\"NR3C1\",\"FINNGEN_R6_CARDIAC_ARRHYTM\",null],[1,\"cardiovascular disease\",0.5127120401767314,\"FHL1\",\"FINNGEN_R6_I9_IHD\",null],[1,\"cardiovascular disease\",0.5530591689009583,\"FHL1\",\"FINNGEN_R6_I9_CORATHER\",null],[1,\"cardiovascular disease\",0.6732738750053886,\"NR3C1;MXD1\",\"GCST006061\",\"PMID:29892015\"],[1,\"cardiovascular disease\",0.8174004975939932,\"N4BP2L2\",\"GCST011365\",\"PMID:33532862\"],[1,\"cardiovascular disease\",0.8802741296379786,\"ZPR1;SLC7A1;VEGFA\",\"GCST007072\",\"PMID:30595370\"]],\"hovertemplate\":\"trait_category=%{customdata[1]}\\u003cbr\\u003etrait_reported=%{x}\\u003cbr\\u003e-log10(p-value)=%{y}\\u003cbr\\u003eprogram_name=%{customdata[0]}\\u003cbr\\u003eP-value=%{customdata[2]}\\u003cbr\\u003eGenes=%{customdata[3]}\\u003cbr\\u003estudy_id=%{customdata[4]}\\u003cbr\\u003epmid=%{customdata[5]}\\u003cextra\\u003e\\u003c\\u002fextra\\u003e\",\"legendgroup\":\"cardiovascular disease\",\"marker\":{\"color\":\"#EF553B\",\"symbol\":\"circle\"},\"mode\":\"markers\",\"name\":\"cardiovascular disease\",\"orientation\":\"v\",\"showlegend\":true,\"x\":[\"Haemorrhoidal disease\",\"Abdominal aortic aneurysm\",\"Arrhythmia\",\"Essential hypertension (time to event)\",\"Antihypertensive medication - note that there are other indications\",\"Coronary artery disease\",\"Cardiac arrhytmias\",\"Ischaemic heart disease, wide definition\",\"Coronary atherosclerosis\",\"Atrial fibrillation\",\"Myocardial infarction\",\"Cardiovascular disease\"],\"xaxis\":\"x\",\"y\":[0.9345466960442261,0.6876157892675923,0.47989303863722726,0.47989303863722726,0.41360783507395094,0.3610495325619418,0.3290670741497619,0.29012648376709393,0.2572284033199701,0.17180823710063395,0.08756510224681373,0.05538206142960949],\"yaxis\":\"y\",\"type\":\"scatter\"},{\"customdata\":[[1,\"cell proliferation disorder\",0.0370634706337747,\"EIF2S3;DNAJC1\",\"FINNGEN_R6_N14_PROSTHYPERPLA\",null],[1,\"cell proliferation disorder\",0.0418000934263041,\"CMSS1;FOXP1;CEBPB;KLF4;MYC;DNAJC1\",\"GCST90090980\",\"PMID:32139696\"],[1,\"cell proliferation disorder\",0.0754748288800289,\"CELF2;FOXP1;JDP2\",\"GCST90027058\",\"PMID:34290314\"],[1,\"cell proliferation disorder\",0.1538363947447686,\"CELF2;FOXP1;JDP2\",\"GCST008870\",\"PMID:31174203\"],[1,\"cell proliferation disorder\",0.1667997248033053,\"FOXP1;FHL2\",\"SAIGE_172\",null],[1,\"cell proliferation disorder\",0.1769688010217511,\"SYNE1;SLC38A2\",\"GCST90018934\",\"PMID:34594039\"],[1,\"cell proliferation disorder\",0.1872318382084419,\"IL21R;ANP32B\",\"GCST90061442\",\"PMID:34033851\"],[1,\"cell proliferation disorder\",0.2289659775480002,\"FOXP1;JDP2\",\"GCST90018921\",\"PMID:34594039\"],[1,\"cell proliferation disorder\",0.3312126850284827,\"SYNE1\",\"FINNGEN_R6_CD2_BENIGN\",null],[1,\"cell proliferation disorder\",0.3312126850284827,\"SYNE1\",\"FINNGEN_R6_CD2_BENIGN_EXALLC\",null],[1,\"cell proliferation disorder\",0.3501754127829912,\"FOXP1\",\"GCST90018883\",\"PMID:34594039\"],[1,\"cell proliferation disorder\",0.3686028922156911,\"FOXP1\",\"GCST010148\",\"PMID:32041948\"],[1,\"cell proliferation disorder\",0.3865101631297417,\"WDR43\",\"GCST005076\",\"PMID:29058716\"],[1,\"cell proliferation disorder\",0.4354622051089938,\"FOXP1;JDP2\",\"GCST008871\",\"PMID:31174203\"],[1,\"cell proliferation disorder\",0.4687409823516349,\"DDR2\",\"SAIGE_728_71\",null],[1,\"cell proliferation disorder\",0.5399939070905111,\"FOXP1\",\"SAIGE_172_2\",null],[1,\"cell proliferation disorder\",0.5657550157601632,\"SSR3\",\"GCST004635\",\"PMID:28604728\"],[1,\"cell proliferation disorder\",0.7827961810703056,\"TOX2\",\"GCST007992\",\"PMID:31089142\"],[1,\"cell proliferation disorder\",0.910805667068275,\"ZNF827;VEGFA\",\"GCST011049\",\"PMID:33398198\"]],\"hovertemplate\":\"trait_category=%{customdata[1]}\\u003cbr\\u003etrait_reported=%{x}\\u003cbr\\u003e-log10(p-value)=%{y}\\u003cbr\\u003eprogram_name=%{customdata[0]}\\u003cbr\\u003eP-value=%{customdata[2]}\\u003cbr\\u003eGenes=%{customdata[3]}\\u003cbr\\u003estudy_id=%{customdata[4]}\\u003cbr\\u003epmid=%{customdata[5]}\\u003cextra\\u003e\\u003c\\u002fextra\\u003e\",\"legendgroup\":\"cell proliferation disorder\",\"marker\":{\"color\":\"#00cc96\",\"symbol\":\"circle\"},\"mode\":\"markers\",\"name\":\"cell proliferation disorder\",\"orientation\":\"v\",\"showlegend\":true,\"x\":[\"Hyperplasia of prostate\",\"Breast cancer\",\"Non-melanoma skin cancer\",\"Keratinocyte cancer (MTAG)\",\"Skin cancer\",\"Uterine fibroids\",\"Primary biliary cholangitis\",\"Skin cancer\",\"Benign neoplasms\",\"Benign neoplasms (controls excluding all cancers)\",\"Nasal polyps\",\"Cutaneous squamous cell carcinoma\",\"Breast cancer (estrogen-receptor negative)\",\"Basal cell carcinoma\",\"Contracture of palmar fascia [dupuytren's disease]\",\"Other non-epithelial cancer of skin\",\"Testicular germ cell tumor\",\"Colorectal cancer\",\"Prostate cancer\"],\"xaxis\":\"x\",\"y\":[1.431053915655979,1.3788227475435535,1.1221978629559868,0.8129409066218893,0.7778046702240867,0.7521032914822208,0.7276202988535754,0.6402290454369159,0.47989303863722726,0.47989303863722726,0.4557143507355519,0.43344126144362094,0.41283908199627534,0.3610495325619418,0.3290670741497619,0.26761114042128736,0.24737158707309181,0.10635130174696786,0.04057427585133527],\"yaxis\":\"y\",\"type\":\"scatter\"},{\"customdata\":[[1,\"disease of visual system\",0.0110939939429593,\"PHGDH;SLC1A4\",\"GCST012252\",\"PMID:33654266\"],[1,\"disease of visual system\",0.0737632212924954,\"PRDX6;PXK\",\"GCST009131\",\"PMID:31672989\"],[1,\"disease of visual system\",0.1086001701764142,\"METRNL;IGFBP3\",\"GCST90018814\",\"PMID:34594039\"],[1,\"disease of visual system\",0.3501754127829912,\"VEGFA\",\"GCST001884\",\"PMID:23455636\"],[1,\"disease of visual system\",0.3865101631297417,\"IGFBP3\",\"FINNGEN_R6_H7_LENS\",null],[1,\"disease of visual system\",0.6871437345479188,\"ANKRD28;SLC16A1;CD55\",\"GCST010378\",\"PMID:32352494\"],[1,\"disease of visual system\",0.7698682033086672,\"CELF2\",\"GCST90011770\",\"PMID:33627673\"],[1,\"disease of visual system\",0.8817463489645347,\"TES\",\"GCST009722\",\"PMID:31959993\"]],\"hovertemplate\":\"trait_category=%{customdata[1]}\\u003cbr\\u003etrait_reported=%{x}\\u003cbr\\u003e-log10(p-value)=%{y}\\u003cbr\\u003eprogram_name=%{customdata[0]}\\u003cbr\\u003eP-value=%{customdata[2]}\\u003cbr\\u003eGenes=%{customdata[3]}\\u003cbr\\u003estudy_id=%{customdata[4]}\\u003cbr\\u003epmid=%{customdata[5]}\\u003cextra\\u003e\\u003c\\u002fextra\\u003e\",\"legendgroup\":\"disease of visual system\",\"marker\":{\"color\":\"#ab63fa\",\"symbol\":\"circle\"},\"mode\":\"markers\",\"name\":\"disease of visual system\",\"orientation\":\"v\",\"showlegend\":true,\"x\":[\"Macular telangiectasia type 2\",\"Systemic sclerosis\",\"Cataracts\",\"Age-related macular degeneration\",\"Disorders of lens\",\"Spherical equivalent\",\"Glaucoma (primary open-angle)\",\"Glaucoma (multi-trait analysis)\"],\"xaxis\":\"x\",\"y\":[1.9549120755709448,1.132160125590443,0.9641694942073953,0.4557143507355519,0.41283908199627534,0.16295240909499187,0.11358361700277143,0.054656329934176844],\"yaxis\":\"y\",\"type\":\"scatter\"},{\"customdata\":[[1,\"endocrine system disease\",0.3116992364219924,\"HMGA2\",\"GCST90018853\",\"PMID:34594039\"],[1,\"endocrine system disease\",0.4208221469278008,\"HMGA2\",\"FINNGEN_R6_E4_GOITREMULTINOD\",null],[1,\"endocrine system disease\",0.5939282892401838,\"MYC;INPP5B\",\"GCST010571\",\"PMID:32581359\"],[1,\"endocrine system disease\",0.6552114138980152,\"VEGFA\",\"FINNGEN_R6_E4_THYROID\",null],[1,\"endocrine system disease\",0.76074613600093,\"MYC;INPP5B\",\"GCST007073\",\"PMID:30595370\"],[1,\"endocrine system disease\",0.7827961810703056,\"VEGFA\",\"FINNGEN_R6_E4_HYTHY_AI_STRICT_PURCH\",null]],\"hovertemplate\":\"trait_category=%{customdata[1]}\\u003cbr\\u003etrait_reported=%{x}\\u003cbr\\u003e-log10(p-value)=%{y}\\u003cbr\\u003eprogram_name=%{customdata[0]}\\u003cbr\\u003eP-value=%{customdata[2]}\\u003cbr\\u003eGenes=%{customdata[3]}\\u003cbr\\u003estudy_id=%{customdata[4]}\\u003cbr\\u003epmid=%{customdata[5]}\\u003cextra\\u003e\\u003c\\u002fextra\\u003e\",\"legendgroup\":\"endocrine system disease\",\"marker\":{\"color\":\"#FFA15A\",\"symbol\":\"circle\"},\"mode\":\"markers\",\"name\":\"endocrine system disease\",\"orientation\":\"v\",\"showlegend\":true,\"x\":[\"Goiter\",\"Nontoxic multinodular goitre\",\"Autoimmune thyroid disease\",\"Disorders of the thyroid gland\",\"Hypothyroidism\",\"Hypothyroidism, strict autoimmune, 3 medication purchases required\"],\"xaxis\":\"x\",\"y\":[0.5062642616247367,0.37590141230622787,0.2262659884655072,0.1836185456955181,0.11876024484259967,0.10635130174696786],\"yaxis\":\"y\",\"type\":\"scatter\"},{\"customdata\":[[1,\"gastrointestinal disease\",0.218454271045285,\"ZNF827;VEGFA\",\"GCST90094908\",\"PMID:35047847\"],[1,\"gastrointestinal disease\",0.2278129336020415,\"IL21R\",\"FINNGEN_R6_RX_CROHN_2NDLINE\",null],[1,\"gastrointestinal disease\",0.2496930866050533,\"FOXP1\",\"GCST90000515\",\"PMID:34187846\"],[1,\"gastrointestinal disease\",0.4110906426297157,\"FOXP1;CEBPB;ERRFI1\",\"GCST004131\",\"PMID:28067908\"],[1,\"gastrointestinal disease\",0.8174004975939932,\"STK24\",\"GCST90000514\",\"PMID:34187846\"]],\"hovertemplate\":\"trait_category=%{customdata[1]}\\u003cbr\\u003etrait_reported=%{x}\\u003cbr\\u003e-log10(p-value)=%{y}\\u003cbr\\u003eprogram_name=%{customdata[0]}\\u003cbr\\u003eP-value=%{customdata[2]}\\u003cbr\\u003eGenes=%{customdata[3]}\\u003cbr\\u003estudy_id=%{customdata[4]}\\u003cbr\\u003epmid=%{customdata[5]}\\u003cextra\\u003e\\u003c\\u002fextra\\u003e\",\"legendgroup\":\"gastrointestinal disease\",\"marker\":{\"color\":\"#19d3f3\",\"symbol\":\"circle\"},\"mode\":\"markers\",\"name\":\"gastrointestinal disease\",\"orientation\":\"v\",\"showlegend\":true,\"x\":[\"Nonalcoholic fatty liver disease (imputed)\",\"Second line medication for Crohns disease\",\"Barrett's esophagus\",\"Inflammatory bowel disease\",\"Gastroesophageal reflux disease\"],\"xaxis\":\"x\",\"y\":[0.6606394598888763,0.6424216233976197,0.6025934820412893,0.38606240865027686,0.08756510224681373],\"yaxis\":\"y\",\"type\":\"scatter\"},{\"customdata\":[[1,\"immune system disease\",0.2961627729636756,\"FOXP1;PHGDH;TOX2;MYC;RRAS2\",\"GCST009597\",\"PMID:31604244\"]],\"hovertemplate\":\"trait_category=%{customdata[1]}\\u003cbr\\u003etrait_reported=%{x}\\u003cbr\\u003e-log10(p-value)=%{y}\\u003cbr\\u003eprogram_name=%{customdata[0]}\\u003cbr\\u003eP-value=%{customdata[2]}\\u003cbr\\u003eGenes=%{customdata[3]}\\u003cbr\\u003estudy_id=%{customdata[4]}\\u003cbr\\u003epmid=%{customdata[5]}\\u003cextra\\u003e\\u003c\\u002fextra\\u003e\",\"legendgroup\":\"immune system disease\",\"marker\":{\"color\":\"#FF6692\",\"symbol\":\"circle\"},\"mode\":\"markers\",\"name\":\"immune system disease\",\"orientation\":\"v\",\"showlegend\":true,\"x\":[\"Multiple sclerosis\"],\"xaxis\":\"x\",\"y\":[0.528469532285171],\"yaxis\":\"y\",\"type\":\"scatter\"},{\"customdata\":[[1,\"infectious disease\",0.3501754127829912,\"RIPK2\",\"GCST002772\",\"PMID:25642632\"]],\"hovertemplate\":\"trait_category=%{customdata[1]}\\u003cbr\\u003etrait_reported=%{x}\\u003cbr\\u003e-log10(p-value)=%{y}\\u003cbr\\u003eprogram_name=%{customdata[0]}\\u003cbr\\u003eP-value=%{customdata[2]}\\u003cbr\\u003eGenes=%{customdata[3]}\\u003cbr\\u003estudy_id=%{customdata[4]}\\u003cbr\\u003epmid=%{customdata[5]}\\u003cextra\\u003e\\u003c\\u002fextra\\u003e\",\"legendgroup\":\"infectious disease\",\"marker\":{\"color\":\"#B6E880\",\"symbol\":\"circle\"},\"mode\":\"markers\",\"name\":\"infectious disease\",\"orientation\":\"v\",\"showlegend\":true,\"x\":[\"Leprosy\"],\"xaxis\":\"x\",\"y\":[0.4557143507355519],\"yaxis\":\"y\",\"type\":\"scatter\"},{\"customdata\":[[1,\"injury, poisoning or other complication\",0.1089648346342678,\"MYC;IGF2BP2;HMGA2\",\"FINNGEN_R6_E4_DM2NASCOMP\",null],[1,\"injury, poisoning or other complication\",0.1370007915677938,\"RIPK2;CEBPB\",\"NEALE2_6149_1\",null]],\"hovertemplate\":\"trait_category=%{customdata[1]}\\u003cbr\\u003etrait_reported=%{x}\\u003cbr\\u003e-log10(p-value)=%{y}\\u003cbr\\u003eprogram_name=%{customdata[0]}\\u003cbr\\u003eP-value=%{customdata[2]}\\u003cbr\\u003eGenes=%{customdata[3]}\\u003cbr\\u003estudy_id=%{customdata[4]}\\u003cbr\\u003epmid=%{customdata[5]}\\u003cextra\\u003e\\u003c\\u002fextra\\u003e\",\"legendgroup\":\"injury, poisoning or other complication\",\"marker\":{\"color\":\"#FF97FF\",\"symbol\":\"circle\"},\"mode\":\"markers\",\"name\":\"injury, poisoning or other complication\",\"orientation\":\"v\",\"showlegend\":true,\"x\":[\"Type 2 diabetes with other specified\\u002fmultiple\\u002funspecified complications\",\"Mouth ulcers | mouth\\u002fteeth dental problems\"],\"xaxis\":\"x\",\"y\":[0.9627136358974767,0.8632769235550403],\"yaxis\":\"y\",\"type\":\"scatter\"},{\"customdata\":[[1,\"integumentary system disease\",0.218454271045285,\"ERRFI1;FST\",\"GCST90092000\",\"PMID:35132056\"],[1,\"integumentary system disease\",0.334405899507643,\"LURAP1L;ANKRD11\",\"GCST007086\",\"PMID:30595370\"],[1,\"integumentary system disease\",0.6650171195725421,\"FOXP1\",\"GCST004785\",\"PMID:27723757\"]],\"hovertemplate\":\"trait_category=%{customdata[1]}\\u003cbr\\u003etrait_reported=%{x}\\u003cbr\\u003e-log10(p-value)=%{y}\\u003cbr\\u003eprogram_name=%{customdata[0]}\\u003cbr\\u003eP-value=%{customdata[2]}\\u003cbr\\u003eGenes=%{customdata[3]}\\u003cbr\\u003estudy_id=%{customdata[4]}\\u003cbr\\u003epmid=%{customdata[5]}\\u003cextra\\u003e\\u003c\\u002fextra\\u003e\",\"legendgroup\":\"integumentary system disease\",\"marker\":{\"color\":\"#FECB52\",\"symbol\":\"circle\"},\"mode\":\"markers\",\"name\":\"integumentary system disease\",\"orientation\":\"v\",\"showlegend\":true,\"x\":[\"acne vulgaris\",\"Sunburns\",\"Vitiligo\"],\"xaxis\":\"x\",\"y\":[0.6606394598888763,0.47572606944768936,0.17716717448608674],\"yaxis\":\"y\",\"type\":\"scatter\"},{\"customdata\":[[1,\"musculoskeletal or connective tissue disease\",0.003117943310157,\"HMGA2;NEBL;CRADD\",\"FINNGEN_R6_KNEE_ARTHROSIS\",null],[1,\"musculoskeletal or connective tissue disease\",0.003117943310157,\"HMGA2;NEBL;CRADD\",\"FINNGEN_R6_M13_ARTHROSIS_KNEE\",null],[1,\"musculoskeletal or connective tissue disease\",0.0046073139881875,\"NEBL;CRADD\",\"FINNGEN_R6_RHEUMA_ENDPOINTS\",null],[1,\"musculoskeletal or connective tissue disease\",0.1086001701764142,\"TSEN15;KLF4\",\"GCST90034524\",\"PMID:34450027\"],[1,\"musculoskeletal or connective tissue disease\",0.2052977599597684,\"FOXP1\",\"GCST90010715\",\"PMID:33106285\"],[1,\"musculoskeletal or connective tissue disease\",0.4208221469278008,\"DDR2\",\"GCST004858\",\"PMID:28886342\"]],\"hovertemplate\":\"trait_category=%{customdata[1]}\\u003cbr\\u003etrait_reported=%{x}\\u003cbr\\u003e-log10(p-value)=%{y}\\u003cbr\\u003eprogram_name=%{customdata[0]}\\u003cbr\\u003eP-value=%{customdata[2]}\\u003cbr\\u003eGenes=%{customdata[3]}\\u003cbr\\u003estudy_id=%{customdata[4]}\\u003cbr\\u003epmid=%{customdata[5]}\\u003cextra\\u003e\\u003c\\u002fextra\\u003e\",\"legendgroup\":\"musculoskeletal or connective tissue disease\",\"marker\":{\"color\":\"#636efa\",\"symbol\":\"circle\"},\"mode\":\"markers\",\"name\":\"musculoskeletal or connective tissue disease\",\"orientation\":\"v\",\"showlegend\":true,\"x\":[\"Gonarthrosis [arthrosis of knee](FG)\",\"Gonarthrosis\",\"Finngen Rheumatological endpoints\",\"Osteoarthritis (with total hip replacement)\",\"Arthritis (juvenile idiopathic)\",\"Dupuytren's disease\"],\"xaxis\":\"x\",\"y\":[2.5061317853337752,2.5061317853337752,2.336552189594394,0.9641694942073953,0.6876157892675923,0.37590141230622787],\"yaxis\":\"y\",\"type\":\"scatter\"},{\"customdata\":[[1,\"nervous system disease\",0.2924003039405349,\"NDUFAF2;MAP4K4\",\"GCST004902\",\"PMID:28892059\"],[1,\"nervous system disease\",0.2924003039405349,\"NDUFAF2;MAP4K4\",\"GCST010991\",\"PMID:32201043\"],[1,\"nervous system disease\",0.3134716967861861,\"SLC7A11;ATF4\",\"GCST010017\",\"PMID:32231276\"],[1,\"nervous system disease\",0.6493918765723456,\"DNAJC1;MAP3K20;FOXP1;NFIB;CELF2;ZBTB16;NDUFAF2;SLC1A5\",\"GCST90061435\",\"PMID:34446935\"]],\"hovertemplate\":\"trait_category=%{customdata[1]}\\u003cbr\\u003etrait_reported=%{x}\\u003cbr\\u003e-log10(p-value)=%{y}\\u003cbr\\u003eprogram_name=%{customdata[0]}\\u003cbr\\u003eP-value=%{customdata[2]}\\u003cbr\\u003eGenes=%{customdata[3]}\\u003cbr\\u003estudy_id=%{customdata[4]}\\u003cbr\\u003epmid=%{customdata[5]}\\u003cextra\\u003e\\u003c\\u002fextra\\u003e\",\"legendgroup\":\"nervous system disease\",\"marker\":{\"color\":\"#EF553B\",\"symbol\":\"circle\"},\"mode\":\"markers\",\"name\":\"nervous system disease\",\"orientation\":\"v\",\"showlegend\":true,\"x\":[\"Parkinson's disease\",\"Parkinson's disease\",\"Neuroticism\",\"Externalizing behaviour (multivariate analysis)\"],\"xaxis\":\"x\",\"y\":[0.534022180279059,0.534022180279059,0.5038016653100721,0.18749314838921421],\"yaxis\":\"y\",\"type\":\"scatter\"},{\"customdata\":[[1,\"pancreas disease\",0.1960852382481163,\"CEBPB;IGF2BP2;HMGA2\",\"FINNGEN_R6_DIABETES_FG\",null],[1,\"pancreas disease\",0.3959131298013826,\"IGF2BP2;HMGA2\",\"GCST007077\",\"PMID:30595370\"]],\"hovertemplate\":\"trait_category=%{customdata[1]}\\u003cbr\\u003etrait_reported=%{x}\\u003cbr\\u003e-log10(p-value)=%{y}\\u003cbr\\u003eprogram_name=%{customdata[0]}\\u003cbr\\u003eP-value=%{customdata[2]}\\u003cbr\\u003eGenes=%{customdata[3]}\\u003cbr\\u003estudy_id=%{customdata[4]}\\u003cbr\\u003epmid=%{customdata[5]}\\u003cextra\\u003e\\u003c\\u002fextra\\u003e\",\"legendgroup\":\"pancreas disease\",\"marker\":{\"color\":\"#00cc96\",\"symbol\":\"circle\"},\"mode\":\"markers\",\"name\":\"pancreas disease\",\"orientation\":\"v\",\"showlegend\":true,\"x\":[\"Diabetes, varying definitions\",\"Type 2 diabetes\"],\"xaxis\":\"x\",\"y\":[0.7075550997982831,0.40240009535379206],\"yaxis\":\"y\",\"type\":\"scatter\"},{\"customdata\":[[1,\"phenotype\",0.023664906825575,\"SORBS2;ERRFI1;RPL22L1;SGK1\",\"GCST90018939\",\"PMID:34594039\"],[1,\"phenotype\",0.0274224709874537,\"MTHFD1L;PXK;FOXP1;SGK1;CD55;SEMA3A;BOD1;SLC16A1;MAP1LC3B;NEBL;TOX2;EZR;ANKRD28;RRAS2;VEGFA\",\"GCST010002\",\"PMID:32231278\"],[1,\"phenotype\",0.1178829819419849,\"ZPR1;SLC1A4\",\"GCST001639\",\"PMID:22916037\"],[1,\"phenotype\",0.12595794832767,\"EZR;UBC;ERRFI1;SLC38A2\",\"NEALE2_1717\",null],[1,\"phenotype\",0.1582884563123087,\"FOXP1\",\"SAIGE_550_2\",null],[1,\"phenotype\",0.1769688010217511,\"RIPK2;CEBPB\",\"GCST007839\",\"PMID:30837455\"],[1,\"phenotype\",0.2636996974266772,\"HMGA2;ZPR1;VEGFA\",\"GCST90038690\",\"PMID:33959723\"],[1,\"phenotype\",0.2916191493159891,\"FOXP1\",\"GCST90018818\",\"PMID:34594039\"],[1,\"phenotype\",0.3501754127829912,\"IGFBP3\",\"FINNGEN_R6_H7_CATARACTSENILE\",null],[1,\"phenotype\",0.4039118446483203,\"CD55\",\"GCST012400\",\"PMID:33830181\"],[1,\"phenotype\",0.4208221469278008,\"CELF2\",\"GCST002759\",\"PMID:25628336\"],[1,\"phenotype\",0.4208221469278008,\"SYNE1\",\"FINNGEN_R6_CD2_BENIGN_LEIOMYOMA_UTERI_EXALLC\",null],[1,\"phenotype\",0.433843686239153,\"EZR;SLC38A2;SGK1\",\"GCST006988\",\"PMID:30531825\"],[1,\"phenotype\",0.4372548825462947,\"SRPX\",\"FINNGEN_R6_K11_HERNIA\",null],[1,\"phenotype\",0.4532234775765101,\"SRPX\",\"FINNGEN_R6_K11_HERING\",null],[1,\"phenotype\",0.4687409823516349,\"STK24\",\"NEALE2_1920\",null],[1,\"phenotype\",0.4838200819327186,\"LMO4\",\"NEALE2_1210\",null],[1,\"phenotype\",0.5265485327916682,\"NEBL\",\"GCST003992\",\"PMID:27182965\"],[1,\"phenotype\",0.9723872858833676,\"MYC\",\"GCST007075\",\"PMID:30595370\"]],\"hovertemplate\":\"trait_category=%{customdata[1]}\\u003cbr\\u003etrait_reported=%{x}\\u003cbr\\u003e-log10(p-value)=%{y}\\u003cbr\\u003eprogram_name=%{customdata[0]}\\u003cbr\\u003eP-value=%{customdata[2]}\\u003cbr\\u003eGenes=%{customdata[3]}\\u003cbr\\u003estudy_id=%{customdata[4]}\\u003cbr\\u003epmid=%{customdata[5]}\\u003cextra\\u003e\\u003c\\u002fextra\\u003e\",\"legendgroup\":\"phenotype\",\"marker\":{\"color\":\"#ab63fa\",\"symbol\":\"circle\"},\"mode\":\"markers\",\"name\":\"phenotype\",\"orientation\":\"v\",\"showlegend\":true,\"x\":[\"Varicose veins\",\"Refractive error\",\"Metabolite levels\",\"Skin colour\",\"Diaphragmatic hernia\",\"Mouth ulcers\",\"High cholesterol\",\"Cholecystitis\",\"Senile cataract\",\"Low myopia vs hyperopia\",\"Motion sickness\",\"Leiomyoma of uterus (controls excluding all cancers)\",\"Blond vs. brown\\u002fblack hair color\",\"Hernia\",\"Inguinal hernia\",\"Mood swings\",\"Snoring\",\"Photic sneeze reflex\",\"Eczema\"],\"xaxis\":\"x\",\"y\":[1.62589520111436,1.5618934143216558,0.928548886865464,0.8997744220052328,0.8005507562852643,0.7521032914822208,0.5788903685228336,0.5351839612552679,0.4557143507355519,0.3937134110291194,0.37590141230622787,0.37590141230622787,0.3626667184874966,0.3592653323328206,0.34368760119647274,0.3290670741497619,0.3153161093276696,0.2785615930403008,0.012160728260205268],\"yaxis\":\"y\",\"type\":\"scatter\"},{\"customdata\":[[1,\"reproductive system or breast disease\",0.2052977599597684,\"SYNE1\",\"FINNGEN_R6_N14_ENDOMETRIOSIS_OVARY\",null],[1,\"reproductive system or breast disease\",0.2709560482021811,\"SYNE1\",\"GCST004549\",\"PMID:28537267\"],[1,\"reproductive system or breast disease\",0.2916191493159891,\"ZBTB16\",\"GCST007089\",\"PMID:30566500\"]],\"hovertemplate\":\"trait_category=%{customdata[1]}\\u003cbr\\u003etrait_reported=%{x}\\u003cbr\\u003e-log10(p-value)=%{y}\\u003cbr\\u003eprogram_name=%{customdata[0]}\\u003cbr\\u003eP-value=%{customdata[2]}\\u003cbr\\u003eGenes=%{customdata[3]}\\u003cbr\\u003estudy_id=%{customdata[4]}\\u003cbr\\u003epmid=%{customdata[5]}\\u003cextra\\u003e\\u003c\\u002fextra\\u003e\",\"legendgroup\":\"reproductive system or breast disease\",\"marker\":{\"color\":\"#FFA15A\",\"symbol\":\"circle\"},\"mode\":\"markers\",\"name\":\"reproductive system or breast disease\",\"orientation\":\"v\",\"showlegend\":true,\"x\":[\"Endometriosis of ovary\",\"Endometriosis\",\"Polycystic ovary syndrome\"],\"xaxis\":\"x\",\"y\":[0.6876157892675923,0.5671011503481533,0.5351839612552679],\"yaxis\":\"y\",\"type\":\"scatter\"},{\"customdata\":[[1,\"respiratory or thoracic disease\",0.2916191493159891,\"IL21R\",\"FINNGEN_R6_ILD_ENDPOINTS\",null],[1,\"respiratory or thoracic disease\",0.4208221469278008,\"MAP4K4\",\"GCST009842\",\"PMID:31669095\"],[1,\"respiratory or thoracic disease\",0.5657550157601632,\"MYC\",\"GCST006409\",\"PMID:30013184\"],[1,\"respiratory or thoracic disease\",0.823405942018664,\"MYC;FOXP1\",\"GCST010043\",\"PMID:32296059\"],[1,\"respiratory or thoracic disease\",0.9278042415350376,\"MYC\",\"GCST009717\",\"PMID:31361310\"]],\"hovertemplate\":\"trait_category=%{customdata[1]}\\u003cbr\\u003etrait_reported=%{x}\\u003cbr\\u003e-log10(p-value)=%{y}\\u003cbr\\u003eprogram_name=%{customdata[0]}\\u003cbr\\u003eP-value=%{customdata[2]}\\u003cbr\\u003eGenes=%{customdata[3]}\\u003cbr\\u003estudy_id=%{customdata[4]}\\u003cbr\\u003epmid=%{customdata[5]}\\u003cextra\\u003e\\u003c\\u002fextra\\u003e\",\"legendgroup\":\"respiratory or thoracic disease\",\"marker\":{\"color\":\"#19d3f3\",\"symbol\":\"circle\"},\"mode\":\"markers\",\"name\":\"respiratory or thoracic disease\",\"orientation\":\"v\",\"showlegend\":true,\"x\":[\"Interstitial lung disease endpoints\",\"Asthma (adult onset)\",\"Allergic rhinitis\",\"Asthma\",\"Hay fever and\\u002for eczema\"],\"xaxis\":\"x\",\"y\":[0.5351839612552679,0.37590141230622787,0.24737158707309181,0.0843860032887321,0.03254364639901063],\"yaxis\":\"y\",\"type\":\"scatter\"},{\"customdata\":[[1,\"urinary system disease\",0.3501754127829912,\"VEGFA\",\"GCST000649_3\",\"PMID:20383146\"],[1,\"urinary system disease\",0.8592870322436971,\"ELF1\",\"GCST011956\",\"PMID:33272962\"]],\"hovertemplate\":\"trait_category=%{customdata[1]}\\u003cbr\\u003etrait_reported=%{x}\\u003cbr\\u003e-log10(p-value)=%{y}\\u003cbr\\u003eprogram_name=%{customdata[0]}\\u003cbr\\u003eP-value=%{customdata[2]}\\u003cbr\\u003eGenes=%{customdata[3]}\\u003cbr\\u003estudy_id=%{customdata[4]}\\u003cbr\\u003epmid=%{customdata[5]}\\u003cextra\\u003e\\u003c\\u002fextra\\u003e\",\"legendgroup\":\"urinary system disease\",\"marker\":{\"color\":\"#FF6692\",\"symbol\":\"circle\"},\"mode\":\"markers\",\"name\":\"urinary system disease\",\"orientation\":\"v\",\"showlegend\":true,\"x\":[\"Chronic kidney disease [eGFRcrea]\",\"Systemic lupus erythematosus\"],\"xaxis\":\"x\",\"y\":[0.4557143507355519,0.06586174222532887],\"yaxis\":\"y\",\"type\":\"scatter\"}],                        {\"template\":{\"data\":{\"histogram2dcontour\":[{\"type\":\"histogram2dcontour\",\"colorbar\":{\"outlinewidth\":0,\"ticks\":\"\"},\"colorscale\":[[0.0,\"#0d0887\"],[0.1111111111111111,\"#46039f\"],[0.2222222222222222,\"#7201a8\"],[0.3333333333333333,\"#9c179e\"],[0.4444444444444444,\"#bd3786\"],[0.5555555555555556,\"#d8576b\"],[0.6666666666666666,\"#ed7953\"],[0.7777777777777778,\"#fb9f3a\"],[0.8888888888888888,\"#fdca26\"],[1.0,\"#f0f921\"]]}],\"choropleth\":[{\"type\":\"choropleth\",\"colorbar\":{\"outlinewidth\":0,\"ticks\":\"\"}}],\"histogram2d\":[{\"type\":\"histogram2d\",\"colorbar\":{\"outlinewidth\":0,\"ticks\":\"\"},\"colorscale\":[[0.0,\"#0d0887\"],[0.1111111111111111,\"#46039f\"],[0.2222222222222222,\"#7201a8\"],[0.3333333333333333,\"#9c179e\"],[0.4444444444444444,\"#bd3786\"],[0.5555555555555556,\"#d8576b\"],[0.6666666666666666,\"#ed7953\"],[0.7777777777777778,\"#fb9f3a\"],[0.8888888888888888,\"#fdca26\"],[1.0,\"#f0f921\"]]}],\"heatmap\":[{\"type\":\"heatmap\",\"colorbar\":{\"outlinewidth\":0,\"ticks\":\"\"},\"colorscale\":[[0.0,\"#0d0887\"],[0.1111111111111111,\"#46039f\"],[0.2222222222222222,\"#7201a8\"],[0.3333333333333333,\"#9c179e\"],[0.4444444444444444,\"#bd3786\"],[0.5555555555555556,\"#d8576b\"],[0.6666666666666666,\"#ed7953\"],[0.7777777777777778,\"#fb9f3a\"],[0.8888888888888888,\"#fdca26\"],[1.0,\"#f0f921\"]]}],\"heatmapgl\":[{\"type\":\"heatmapgl\",\"colorbar\":{\"outlinewidth\":0,\"ticks\":\"\"},\"colorscale\":[[0.0,\"#0d0887\"],[0.1111111111111111,\"#46039f\"],[0.2222222222222222,\"#7201a8\"],[0.3333333333333333,\"#9c179e\"],[0.4444444444444444,\"#bd3786\"],[0.5555555555555556,\"#d8576b\"],[0.6666666666666666,\"#ed7953\"],[0.7777777777777778,\"#fb9f3a\"],[0.8888888888888888,\"#fdca26\"],[1.0,\"#f0f921\"]]}],\"contourcarpet\":[{\"type\":\"contourcarpet\",\"colorbar\":{\"outlinewidth\":0,\"ticks\":\"\"}}],\"contour\":[{\"type\":\"contour\",\"colorbar\":{\"outlinewidth\":0,\"ticks\":\"\"},\"colorscale\":[[0.0,\"#0d0887\"],[0.1111111111111111,\"#46039f\"],[0.2222222222222222,\"#7201a8\"],[0.3333333333333333,\"#9c179e\"],[0.4444444444444444,\"#bd3786\"],[0.5555555555555556,\"#d8576b\"],[0.6666666666666666,\"#ed7953\"],[0.7777777777777778,\"#fb9f3a\"],[0.8888888888888888,\"#fdca26\"],[1.0,\"#f0f921\"]]}],\"surface\":[{\"type\":\"surface\",\"colorbar\":{\"outlinewidth\":0,\"ticks\":\"\"},\"colorscale\":[[0.0,\"#0d0887\"],[0.1111111111111111,\"#46039f\"],[0.2222222222222222,\"#7201a8\"],[0.3333333333333333,\"#9c179e\"],[0.4444444444444444,\"#bd3786\"],[0.5555555555555556,\"#d8576b\"],[0.6666666666666666,\"#ed7953\"],[0.7777777777777778,\"#fb9f3a\"],[0.8888888888888888,\"#fdca26\"],[1.0,\"#f0f921\"]]}],\"mesh3d\":[{\"type\":\"mesh3d\",\"colorbar\":{\"outlinewidth\":0,\"ticks\":\"\"}}],\"scatter\":[{\"fillpattern\":{\"fillmode\":\"overlay\",\"size\":10,\"solidity\":0.2},\"type\":\"scatter\"}],\"parcoords\":[{\"type\":\"parcoords\",\"line\":{\"colorbar\":{\"outlinewidth\":0,\"ticks\":\"\"}}}],\"scatterpolargl\":[{\"type\":\"scatterpolargl\",\"marker\":{\"colorbar\":{\"outlinewidth\":0,\"ticks\":\"\"}}}],\"bar\":[{\"error_x\":{\"color\":\"#2a3f5f\"},\"error_y\":{\"color\":\"#2a3f5f\"},\"marker\":{\"line\":{\"color\":\"#E5ECF6\",\"width\":0.5},\"pattern\":{\"fillmode\":\"overlay\",\"size\":10,\"solidity\":0.2}},\"type\":\"bar\"}],\"scattergeo\":[{\"type\":\"scattergeo\",\"marker\":{\"colorbar\":{\"outlinewidth\":0,\"ticks\":\"\"}}}],\"scatterpolar\":[{\"type\":\"scatterpolar\",\"marker\":{\"colorbar\":{\"outlinewidth\":0,\"ticks\":\"\"}}}],\"histogram\":[{\"marker\":{\"pattern\":{\"fillmode\":\"overlay\",\"size\":10,\"solidity\":0.2}},\"type\":\"histogram\"}],\"scattergl\":[{\"type\":\"scattergl\",\"marker\":{\"colorbar\":{\"outlinewidth\":0,\"ticks\":\"\"}}}],\"scatter3d\":[{\"type\":\"scatter3d\",\"line\":{\"colorbar\":{\"outlinewidth\":0,\"ticks\":\"\"}},\"marker\":{\"colorbar\":{\"outlinewidth\":0,\"ticks\":\"\"}}}],\"scattermapbox\":[{\"type\":\"scattermapbox\",\"marker\":{\"colorbar\":{\"outlinewidth\":0,\"ticks\":\"\"}}}],\"scatterternary\":[{\"type\":\"scatterternary\",\"marker\":{\"colorbar\":{\"outlinewidth\":0,\"ticks\":\"\"}}}],\"scattercarpet\":[{\"type\":\"scattercarpet\",\"marker\":{\"colorbar\":{\"outlinewidth\":0,\"ticks\":\"\"}}}],\"carpet\":[{\"aaxis\":{\"endlinecolor\":\"#2a3f5f\",\"gridcolor\":\"white\",\"linecolor\":\"white\",\"minorgridcolor\":\"white\",\"startlinecolor\":\"#2a3f5f\"},\"baxis\":{\"endlinecolor\":\"#2a3f5f\",\"gridcolor\":\"white\",\"linecolor\":\"white\",\"minorgridcolor\":\"white\",\"startlinecolor\":\"#2a3f5f\"},\"type\":\"carpet\"}],\"table\":[{\"cells\":{\"fill\":{\"color\":\"#EBF0F8\"},\"line\":{\"color\":\"white\"}},\"header\":{\"fill\":{\"color\":\"#C8D4E3\"},\"line\":{\"color\":\"white\"}},\"type\":\"table\"}],\"barpolar\":[{\"marker\":{\"line\":{\"color\":\"#E5ECF6\",\"width\":0.5},\"pattern\":{\"fillmode\":\"overlay\",\"size\":10,\"solidity\":0.2}},\"type\":\"barpolar\"}],\"pie\":[{\"automargin\":true,\"type\":\"pie\"}]},\"layout\":{\"autotypenumbers\":\"strict\",\"colorway\":[\"#636efa\",\"#EF553B\",\"#00cc96\",\"#ab63fa\",\"#FFA15A\",\"#19d3f3\",\"#FF6692\",\"#B6E880\",\"#FF97FF\",\"#FECB52\"],\"font\":{\"color\":\"#2a3f5f\"},\"hovermode\":\"closest\",\"hoverlabel\":{\"align\":\"left\"},\"paper_bgcolor\":\"white\",\"plot_bgcolor\":\"#E5ECF6\",\"polar\":{\"bgcolor\":\"#E5ECF6\",\"angularaxis\":{\"gridcolor\":\"white\",\"linecolor\":\"white\",\"ticks\":\"\"},\"radialaxis\":{\"gridcolor\":\"white\",\"linecolor\":\"white\",\"ticks\":\"\"}},\"ternary\":{\"bgcolor\":\"#E5ECF6\",\"aaxis\":{\"gridcolor\":\"white\",\"linecolor\":\"white\",\"ticks\":\"\"},\"baxis\":{\"gridcolor\":\"white\",\"linecolor\":\"white\",\"ticks\":\"\"},\"caxis\":{\"gridcolor\":\"white\",\"linecolor\":\"white\",\"ticks\":\"\"}},\"coloraxis\":{\"colorbar\":{\"outlinewidth\":0,\"ticks\":\"\"}},\"colorscale\":{\"sequential\":[[0.0,\"#0d0887\"],[0.1111111111111111,\"#46039f\"],[0.2222222222222222,\"#7201a8\"],[0.3333333333333333,\"#9c179e\"],[0.4444444444444444,\"#bd3786\"],[0.5555555555555556,\"#d8576b\"],[0.6666666666666666,\"#ed7953\"],[0.7777777777777778,\"#fb9f3a\"],[0.8888888888888888,\"#fdca26\"],[1.0,\"#f0f921\"]],\"sequentialminus\":[[0.0,\"#0d0887\"],[0.1111111111111111,\"#46039f\"],[0.2222222222222222,\"#7201a8\"],[0.3333333333333333,\"#9c179e\"],[0.4444444444444444,\"#bd3786\"],[0.5555555555555556,\"#d8576b\"],[0.6666666666666666,\"#ed7953\"],[0.7777777777777778,\"#fb9f3a\"],[0.8888888888888888,\"#fdca26\"],[1.0,\"#f0f921\"]],\"diverging\":[[0,\"#8e0152\"],[0.1,\"#c51b7d\"],[0.2,\"#de77ae\"],[0.3,\"#f1b6da\"],[0.4,\"#fde0ef\"],[0.5,\"#f7f7f7\"],[0.6,\"#e6f5d0\"],[0.7,\"#b8e186\"],[0.8,\"#7fbc41\"],[0.9,\"#4d9221\"],[1,\"#276419\"]]},\"xaxis\":{\"gridcolor\":\"white\",\"linecolor\":\"white\",\"ticks\":\"\",\"title\":{\"standoff\":15},\"zerolinecolor\":\"white\",\"automargin\":true,\"zerolinewidth\":2},\"yaxis\":{\"gridcolor\":\"white\",\"linecolor\":\"white\",\"ticks\":\"\",\"title\":{\"standoff\":15},\"zerolinecolor\":\"white\",\"automargin\":true,\"zerolinewidth\":2},\"scene\":{\"xaxis\":{\"backgroundcolor\":\"#E5ECF6\",\"gridcolor\":\"white\",\"linecolor\":\"white\",\"showbackground\":true,\"ticks\":\"\",\"zerolinecolor\":\"white\",\"gridwidth\":2},\"yaxis\":{\"backgroundcolor\":\"#E5ECF6\",\"gridcolor\":\"white\",\"linecolor\":\"white\",\"showbackground\":true,\"ticks\":\"\",\"zerolinecolor\":\"white\",\"gridwidth\":2},\"zaxis\":{\"backgroundcolor\":\"#E5ECF6\",\"gridcolor\":\"white\",\"linecolor\":\"white\",\"showbackground\":true,\"ticks\":\"\",\"zerolinecolor\":\"white\",\"gridwidth\":2}},\"shapedefaults\":{\"line\":{\"color\":\"#2a3f5f\"}},\"annotationdefaults\":{\"arrowcolor\":\"#2a3f5f\",\"arrowhead\":0,\"arrowwidth\":1},\"geo\":{\"bgcolor\":\"white\",\"landcolor\":\"#E5ECF6\",\"subunitcolor\":\"white\",\"showland\":true,\"showlakes\":true,\"lakecolor\":\"white\"},\"title\":{\"x\":0.05},\"mapbox\":{\"style\":\"light\"}}},\"xaxis\":{\"anchor\":\"y\",\"domain\":[0.0,1.0],\"title\":{\"text\":\"trait_reported\"},\"tickfont\":{\"size\":4}},\"yaxis\":{\"anchor\":\"x\",\"domain\":[0.0,1.0],\"title\":{\"text\":\"-log10(p-value)\"},\"tickformat\":\".1f\"},\"legend\":{\"title\":{\"text\":\"trait_category\"},\"tracegroupgap\":0},\"title\":{\"text\":\"Endothelial Cell Programs x GWAS Binary Outcome Enrichments\"},\"width\":1000,\"height\":800,\"shapes\":[{\"line\":{\"dash\":\"dash\"},\"type\":\"line\",\"x0\":0,\"x1\":1,\"xref\":\"x domain\",\"y0\":1.3010299956639813,\"y1\":1.3010299956639813,\"yref\":\"y\"}],\"annotations\":[{\"showarrow\":false,\"text\":\"Significance Threshold (0.05)\",\"x\":1,\"xanchor\":\"right\",\"xref\":\"x domain\",\"y\":1.3010299956639813,\"yanchor\":\"bottom\",\"yref\":\"y\"}]},                        {\"responsive\": true}                    ).then(function(){\n",
       "                            \n",
       "var gd = document.getElementById('37c52925-31f3-4639-b2fa-a373d1cec721');\n",
       "var x = new MutationObserver(function (mutations, observer) {{\n",
       "        var display = window.getComputedStyle(gd).display;\n",
       "        if (!display || display === 'none') {{\n",
       "            console.log([gd, 'removed!']);\n",
       "            Plotly.purge(gd);\n",
       "            observer.disconnect();\n",
       "        }}\n",
       "}});\n",
       "\n",
       "// Listen for the removal of the full notebook cells\n",
       "var notebookContainer = gd.closest('#notebook-container');\n",
       "if (notebookContainer) {{\n",
       "    x.observe(notebookContainer, {childList: true});\n",
       "}}\n",
       "\n",
       "// Listen for the clearing of the current output cell\n",
       "var outputEl = gd.closest('.output');\n",
       "if (outputEl) {{\n",
       "    x.observe(outputEl, {childList: true});\n",
       "}}\n",
       "\n",
       "                        })                };                });            </script>        </div>"
      ]
     },
     "metadata": {},
     "output_type": "display_data"
    }
   ],
   "source": [
    "plot_interactive_phewas(data=data,\n",
    "                        title=\"Endothelial Cell Programs x GWAS Binary Outcome Enrichments\",\n",
    "                       query_string=\"trait_category != 'measurement'\")"
   ]
  },
  {
   "cell_type": "markdown",
   "id": "184601fb",
   "metadata": {},
   "source": [
    "## Plot Continuous Trait GWAS Outcomes"
   ]
  },
  {
   "cell_type": "code",
   "execution_count": 9,
   "id": "e9aacf93",
   "metadata": {},
   "outputs": [
    {
     "data": {
      "application/vnd.jupyter.widget-view+json": {
       "model_id": "8aff7229c0fb4e8c996ccbcdb7c086ee",
       "version_major": 2,
       "version_minor": 0
      },
      "text/plain": [
       "VBox(children=(Dropdown(description='program_name:', options=('All', 36, 19, 8, 28, 35, 21, 41, 1, 2, 47, 34, …"
      ]
     },
     "metadata": {},
     "output_type": "display_data"
    },
    {
     "data": {
      "application/vnd.plotly.v1+json": {
       "config": {
        "plotlyServerURL": "https://plot.ly"
       },
       "data": [
        {
         "customdata": [
          [
           19,
           "measurement",
           0.0001897899623212,
           "RNF145;UBASH3B;FNDC3A;CLIC4;PTTG1IP;NPC1;VEGFA;AZIN1;UBXN7;GLI2;LONRF1;SCARB1;HSD17B12;NFIC;IRF2BP2;LIPG;SMAD1;NUCKS1;PNPLA3;NFE2L2",
           "GCST010242",
           "PMID:32203549"
          ],
          [
           19,
           "measurement",
           0.0061870740076511,
           "TSPAN14;MXRA7;EHD4;CDKN1A;FLNB;UBASH3B;LIPA;IFITM2;PNPLA3;PDLIM1;NPC1;NUDT14;CEBPD;SCD5;VEGFA",
           "GCST90002355",
           "PMID:32888493"
          ],
          [
           19,
           "measurement",
           0.0090906378430656,
           "LDLR;IRF2BP2;PCSK5;UBASH3B;HMGCR;LIPG;GLI2;CMTM6;SCARB1",
           "GCST010245",
           "PMID:32203549"
          ],
          [
           19,
           "measurement",
           0.0110177402679144,
           "FADS1;EHD4;VCP;RNF145;UBASH3B;PCYOX1L;CLCN6;MMAB;MVK;FADS2;NID1;PNPLA3;NRDC;CD9;PDLIM1;ELOVL5",
           "GCST90002349",
           "PMID:32888493"
          ],
          [
           19,
           "measurement",
           0.0111932350853335,
           "FADS2;PNPLA3",
           "GCST90060200",
           "PMID:34503513"
          ],
          [
           19,
           "measurement",
           0.0149903487863079,
           "SLC27A5;RNF145;VEGFA;TMEM60;CLCN6;PXMP4;GLI2;EGR1;LONRF1;NFIC;CDKN1A;SOCS2;KLHL24;NR2F6;NUCKS1;SOBP;PNPLA3;MPC2;NFE2L2",
           "GCST90025958",
           "PMID:34226706"
          ],
          [
           19,
           "measurement",
           0.016957775643521,
           "MLXIP;IRF2BP2;UBASH3B;PNPLA3;RAI14;TANC1;CDC42BPA;GLI2;GNAS;VEGFA",
           "GCST90018977",
           "PMID:34594039"
          ],
          [
           19,
           "measurement",
           0.0181481041838942,
           "LDLR;IRF2BP2;RNF145;UBASH3B;UBC;FNDC3A;PNPLA3;DUSP6;CLIC4;LIPG;PTTG1IP;GLI2;SCARB1;VEGFA",
           "GCST90025955",
           "PMID:34226706"
          ],
          [
           19,
           "measurement",
           0.0182120684927123,
           "RAB2A;IRF2BP2;HMGCR;PNPLA3;GLI2;CMTM6;SCARB1",
           "GCST90018974",
           "PMID:34594039"
          ],
          [
           19,
           "measurement",
           0.020379227896221,
           "SH2D3C;GCNT1;PPIA;IRF2BP2;MARCKS;UBASH3B;IFITM2;S1PR1;PNPLA3;SERTAD1;MMAB;ZYX;ENSA;SCARB1;CEBPD;SCD5;NPC1",
           "GCST90002394",
           "PMID:32888494"
          ],
          [
           19,
           "measurement",
           0.0338500391764281,
           "EHD4;LIPA;VEGFA;AZIN1;IFITM2;SCD5;NPC1",
           "GCST004613",
           "PMID:27863252"
          ],
          [
           19,
           "measurement",
           0.0390763811211738,
           "IRF2BP2;HMGCR;LIPG;SCARB1;VEGFA",
           "GCST90018989",
           "PMID:34594039"
          ],
          [
           19,
           "measurement",
           0.0418606559013246,
           "YWHAZ;EHD4;ACTB;IRF2BP2;CCBE1;FLNB;UBASH3B;ENO1;FLVCR1;CBX5;BNIP3L;FDFT1;UBAP2;HSPA8;WBP2;SMIM29;SCD5;VEGFA",
           "GCST90025970",
           "PMID:34226706"
          ],
          [
           19,
           "measurement",
           0.0434090885564119,
           "MLXIP;NMT2;GPCPD1;GLI2;SCARB1;APOC1;VEGFA",
           "GCST90020026",
           "PMID:34021172"
          ],
          [
           19,
           "measurement",
           0.0442123248254086,
           "NFE2L2;RAI14;TANC1;CALR;TGFBR2;GLI2;SMIM29;GNAS;ABCC1;VEGFA",
           "GCST008058",
           "PMID:31152163"
          ],
          [
           19,
           "measurement",
           0.0508217351163794,
           "LDLR;IRF2BP2;PCSK5;HMGCR;GLI2;CMTM6;SCARB1;VEGFA",
           "GCST010243",
           "PMID:32203549"
          ],
          [
           19,
           "measurement",
           0.0539883803136624,
           "SCD5;SLC7A11;PTPN1;IFITM2;S1PR1;MIIP;ZRANB1;ENSA;JUND;BTG1;CEBPD;TOX2",
           "GCST90002302",
           "PMID:32888493"
          ],
          [
           19,
           "measurement",
           0.0566786261920362,
           "EHD4;UBASH3B;PTPN1;LIPA;IFITM2;AZIN1;PNPLA3;TGM2;DDR2;CD46;SCD5;VEGFA",
           "GCST90018978",
           "PMID:34594039"
          ],
          [
           19,
           "measurement",
           0.0581715954057249,
           "TSPAN14;EHD4;CDKN1A;ITGA10;FLNB;UBASH3B;PTPN1;IFITM2;PNPLA3;TGM2;NUDT14;RAI14;SCD5;NPC1",
           "GCST90002378",
           "PMID:32888493"
          ],
          [
           19,
           "measurement",
           0.0598686523759518,
           "CDKN1A;MLXIP;VEGFA;CLCN6;S1PR1;PNPLA3;GLI2;NPC1",
           "GCST90018943",
           "PMID:34594039"
          ],
          [
           19,
           "measurement",
           0.0603919844724791,
           "FADS1;VCP;IRF2BP2;CCBE1;RNF145;PTPN1;RTN4;PNPLA3;SQLE;TGM2;NAV3;PDIA5;FADS2;PIK3C2A;CD9;WBP2;RAI14",
           "GCST90002361",
           "PMID:32888493"
          ],
          [
           19,
           "measurement",
           0.0662418066506201,
           "SCARB1;S1PR1;IRF2BP2",
           "GCST90085816",
           "PMID:34469753"
          ],
          [
           19,
           "measurement",
           0.0673634132194936,
           "MLXIP;PNPLA3;LMNA;RAI14;GLI2;GNAS;VEGFA",
           "GCST008972",
           "PMID:31578528"
          ],
          [
           19,
           "measurement",
           0.0673634132194936,
           "MLXIP;PNPLA3;LMNA;RAI14;GLI2;GNAS;VEGFA",
           "GCST008972_2",
           "PMID:31578528"
          ],
          [
           19,
           "measurement",
           0.0673634132194936,
           "MLXIP;PNPLA3;LMNA;RAI14;GLI2;GNAS;VEGFA",
           "GCST008972_3",
           "PMID:31578528"
          ],
          [
           19,
           "measurement",
           0.0801643768034926,
           "MLXIP;PNPLA3;FAM114A1;GLI2;SCARB1",
           "GCST90018973",
           "PMID:34594039"
          ],
          [
           19,
           "measurement",
           0.0801643768034926,
           "RAB2A;GNAQ;S100A11;LIPG;RRAS2",
           "GCST90000618",
           "PMID:32242144"
          ],
          [
           19,
           "measurement",
           0.0812956978300935,
           "CDKN1A;ELOVL5;ITSN1;TKT;UBASH3B;FADS2;CLIC4;GLI2;HSPA8;CD46;SMIM29;RAI14;ABCC1;NFIC;SCD5;VEGFA",
           "GCST90025974",
           "PMID:34226706"
          ],
          [
           19,
           "measurement",
           0.0829069885868102,
           "TOX2",
           "GCST90012059",
           "PMID:33067605"
          ],
          [
           19,
           "measurement",
           0.0838740937961106,
           "YWHAZ;EHD4;PPIA;IRF2BP2;CCBE1;FLNB;UBASH3B;ENO1;AZIN1;SCD5;VEGFA",
           "GCST90025971",
           "PMID:34226706"
          ],
          [
           19,
           "measurement",
           0.086814728194195,
           "EHD4;LIPA;VEGFA;AZIN1;IFITM2;NPC1",
           "GCST004620",
           "PMID:27863252"
          ],
          [
           19,
           "measurement",
           0.0870176384907033,
           "PCYOX1;TFB1M;IRF2BP2;SYT1;TCF20;PTPN1;DUSP6;NFIB;CPNE3;GJC1;HABP4;PDIA6;MTFR1;PTPRN2",
           "GCST006570",
           "PMID:30038396"
          ],
          [
           19,
           "measurement",
           0.0882332442153908,
           "YWHAZ;EHD4;UBASH3B;NUDT14;VEGFA;AZIN1;BNIP3L;FDFT1;GLI2;HSPA8;SCARB1;IRF2BP2;CCBE1;ITSN1;SQLE;FLVCR1;ABCC1;SCD5;FLNB;RAI14",
           "GCST90002386",
           "PMID:32888494"
          ],
          [
           19,
           "measurement",
           0.0882332442153908,
           "YWHAZ;EHD4;UBASH3B;NUDT14;VEGFA;AZIN1;BNIP3L;FDFT1;GLI2;HSPA8;SCARB1;IRF2BP2;CCBE1;ITSN1;SQLE;FLVCR1;ABCC1;SCD5;FLNB;RAI14",
           "GCST90002387",
           "PMID:32888494"
          ],
          [
           19,
           "measurement",
           0.0882332442153908,
           "YWHAZ;EHD4;UBASH3B;NUDT14;VEGFA;AZIN1;BNIP3L;FDFT1;GLI2;HSPA8;SCARB1;IRF2BP2;CCBE1;ITSN1;SQLE;FLVCR1;ABCC1;SCD5;FLNB;RAI14",
           "GCST90002406",
           "PMID:32888494"
          ],
          [
           19,
           "measurement",
           0.0898135263762215,
           "SLC9A3R1;ABCC1;IFITM2;ZYX;CEBPD;SCD5",
           "GCST90002296",
           "PMID:32888493"
          ],
          [
           19,
           "measurement",
           0.0898135263762215,
           "EHD4;LIPA;IFITM2;AZIN1;SCD5;NPC1",
           "GCST004614",
           "PMID:27863252"
          ],
          [
           19,
           "measurement",
           0.0913996078620031,
           "CDKN1A;TKT",
           "GCST007104",
           "PMID:30012220"
          ],
          [
           19,
           "measurement",
           0.1011866024626775,
           "STARD4;FNDC3A;GGT7;GNAQ;DNAJC21;NFIB;BTG1;HSD17B12;PTPRN2",
           "GCST007078",
           "PMID:30595370"
          ],
          [
           19,
           "measurement",
           0.1156390146772262,
           "SYT1;CBX5;DNAJB9;NPC1;VASH2;BNIP3L;DUSP6;LONRF1;PLK2;NR2F1;IRF2BP2;MARCKS;PNPLA8;NFIB;GJC1;TFB1M;PTPN1;NAV3;PDIA6",
           "GCST006442",
           "PMID:30038396"
          ],
          [
           19,
           "measurement",
           0.1271408373891563,
           "FADS1;ITSN1;SPTLC2;PNPLA3;BNIP3L;FADS2;CSNK1G2;HSPA8;ABCC1;PTTG1IP",
           "GCST90002372",
           "PMID:32888493"
          ],
          [
           19,
           "measurement",
           0.1368459709529698,
           "TSPAN14;RAB2A;LRRC8B;EHD4;VCP;UBASH3B;ZYX;ENSA;CD46;PLK2;CEBPD;SCD5",
           "GCST90002344",
           "PMID:32888493"
          ],
          [
           19,
           "measurement",
           0.1428017404740746,
           "ARHGAP29;PXMP4;PNPLA3;ANPEP",
           "GCST90019498",
           "PMID:33462484"
          ],
          [
           19,
           "measurement",
           0.1456651650884171,
           "IRF2BP2;CCBE1;ITSN1;PTPN1;PNPLA3;BNIP3L;TOX2;ABCC1;SMAD1;PTTG1IP",
           "GCST90018964",
           "PMID:34594039"
          ],
          [
           19,
           "measurement",
           0.1460690736456073,
           "ARHGAP29;EHD4;IRF2BP2;CCBE1;UBASH3B;PTPN1;ENO1;PNPLA3;SQLE;HABP4;NAV3;CLIC4;PDIA5;DNAJB6;RAI14;TM4SF1;VEGFA",
           "GCST90002400",
           "PMID:32888494"
          ],
          [
           19,
           "measurement",
           0.1478912000001314,
           "PDIA5;LIPA",
           "GCST003194",
           "PMID:26561523"
          ],
          [
           19,
           "measurement",
           0.158969452706878,
           "EPAS1",
           "GCST009500",
           "PMID:31681408"
          ],
          [
           19,
           "measurement",
           0.158969452706878,
           "ARHGAP29",
           "GCST90032354",
           "PMID:35115689"
          ],
          [
           19,
           "measurement",
           0.158969452706878,
           "ARHGAP29",
           "GCST90032585",
           "PMID:35115689"
          ],
          [
           19,
           "measurement",
           0.158969452706878,
           "ARHGAP29",
           "GCST90032586",
           "PMID:35115689"
          ],
          [
           19,
           "measurement",
           0.158969452706878,
           "LTBP2",
           "GCST90095201",
           "PMID:34743558"
          ],
          [
           19,
           "measurement",
           0.1667868813477533,
           "ARHGAP29;CDKN1A;UBASH3B;PNPLA3;DUSP6;TM4SF1;VEGFA",
           "GCST90018944",
           "PMID:34594039"
          ],
          [
           19,
           "measurement",
           0.1697894700604497,
           "NPC1;SMIM29;HSD17B12;JUND",
           "GCST005830",
           "PMID:29691431"
          ],
          [
           19,
           "measurement",
           0.1762549090120402,
           "PMP22;APOC1;CD46",
           "GCST003818",
           "PMID:27798624"
          ],
          [
           19,
           "measurement",
           0.1990982922314336,
           "IFITM2;S1PR1;MIIP;BTG1;CEBPD;SCD5",
           "GCST004624",
           "PMID:27863252"
          ],
          [
           19,
           "measurement",
           0.2061550439296068,
           "NFIB",
           "GCST007445",
           "PMID:30586737"
          ],
          [
           19,
           "measurement",
           0.2061550439296068,
           "GNAS",
           "GCST001610",
           "PMID:22797727"
          ],
          [
           19,
           "measurement",
           0.2061550439296068,
           "PHTF1",
           "GCST009890",
           "PMID:30642433"
          ],
          [
           19,
           "measurement",
           0.2061550439296068,
           "IRF2BP2",
           "GCST90012023",
           "PMID:33067605"
          ],
          [
           19,
           "measurement",
           0.2061550439296068,
           "TSPAN14",
           "GCST90012054",
           "PMID:33067605"
          ],
          [
           19,
           "measurement",
           0.2061550439296068,
           "PNPLA3",
           "GCST90016673",
           "PMID:34128465"
          ],
          [
           19,
           "measurement",
           0.2126686371895756,
           "INSIG1;TGFBR2;CCBE1",
           "GCST008758",
           "PMID:31219150"
          ],
          [
           19,
           "measurement",
           0.2142982732767858,
           "MLXIP;IRF2BP2;CCBE1;ITSN1;LBR;PTPN1;CLCN6;PNPLA3;BNIP3L;TOX2;SCARB1;PTTG1IP",
           "GCST90002338",
           "PMID:32888493"
          ],
          [
           19,
           "measurement",
           0.2168226626342707,
           "CDKN1A;VEGFA;S1PR1;NFIB;MMP17;CDC42BPA;GLI2;PTTG1IP",
           "GCST90018954",
           "PMID:34594039"
          ],
          [
           19,
           "measurement",
           0.217787614798976,
           "MLXIP;SOCS2;GNAQ;NFIB;SMIM29;CLTC;CCN2",
           "GCST90025948",
           "PMID:34226706"
          ],
          [
           19,
           "measurement",
           0.2182686643282181,
           "SH2D3C;EHD4;UBASH3B;LIPA;IFITM2;AZIN1;BNIP3L;ELOVL5;CEBPD;SCD5;NPC1",
           "GCST90002399",
           "PMID:32888494"
          ],
          [
           19,
           "measurement",
           0.2216192912207304,
           "S1PR1;PNPLA3;LIPE;NR2F6;EGR1;NFE2L2",
           "GCST90012114",
           "PMID:32042192"
          ],
          [
           19,
           "measurement",
           0.2287500538282526,
           "MTHFR",
           "GCST002087",
           "PMID:23824729"
          ],
          [
           19,
           "measurement",
           0.2289265977227501,
           "SH2D3C;RAB2A;ABCC1;ZYX;CEBPD",
           "GCST90002380",
           "PMID:32888494"
          ],
          [
           19,
           "measurement",
           0.2459393785478721,
           "EHD4;SOBP;IRF2BP2;MSMO1;MARCKS;THSD4;UBASH3B;GPCPD1;TANC1;MAP1B;TGFBR2;CLIC4;NAV3;NFIB;BTG1;PRXL2A;NFIC;VEGFA",
           "GCST007066",
           "PMID:30595370"
          ],
          [
           19,
           "measurement",
           0.2507048273189083,
           "ABCC1",
           "GCST90019386",
           "PMID:33328453"
          ],
          [
           19,
           "measurement",
           0.2507048273189083,
           "ABCC1",
           "GCST90019430",
           "PMID:33328453"
          ],
          [
           19,
           "measurement",
           0.2507048273189083,
           "SMURF2",
           "GCST003998",
           "PMID:27182965"
          ],
          [
           19,
           "measurement",
           0.2533202811313329,
           "YWHAZ;UBASH3B;MMAB;GNAQ;ZRANB1;DUSP6;NFIB;CPNE3;UBXN7;CSNK1G2;NPC1;RTN4;HSD17B12;VEGFA",
           "GCST009004",
           "PMID:30239722"
          ],
          [
           19,
           "measurement",
           0.2668816838535806,
           "SH2D3C;SLC7A11;PTPN1;IFITM2;S1PR1;DUSP6;ENSA;TOX2;BTG1;CEBPD;NFIC;SCD5",
           "GCST90002382",
           "PMID:32888494"
          ],
          [
           19,
           "measurement",
           0.2720374240745888,
           "ID3",
           "GCST012006",
           "PMID:34006833"
          ],
          [
           19,
           "measurement",
           0.2720374240745888,
           "ID3",
           "GCST012008",
           "PMID:34006833"
          ],
          [
           19,
           "measurement",
           0.2720374240745888,
           "MARCKS",
           "GCST006097",
           "PMID:29899525"
          ],
          [
           19,
           "measurement",
           0.2720374240745888,
           "DTD1",
           "GCST006952",
           "PMID:29500382"
          ],
          [
           19,
           "measurement",
           0.2775692896514996,
           "IER2;UBASH3B;INO80C;LETM2;ODF2L;DIPK1B;ZRANB1;MNT;GLI2;GNAS;LTBP2;CCBE1;SOCS2;NFIB;VAMP5;DDR2;SMURF2;NUCKS1;FLNB;PTPN1;CPNE3;CCN1;NFE2L2",
           "GCST90000025",
           "PMID:33097823"
          ],
          [
           19,
           "measurement",
           0.2787192591076367,
           "ACTB;GLI2;NPC1;PLK2;APOC1;VEGFA",
           "GCST90018975",
           "PMID:34594039"
          ],
          [
           19,
           "measurement",
           0.2808694557435136,
           "EHD4;SLC9A3R1;UBASH3B;PTPN1;LIPA;IFITM2;AZIN1;S1PR1;BNIP3L;ELOVL5;CEBPD",
           "GCST90002389",
           "PMID:32888494"
          ],
          [
           19,
           "measurement",
           0.2927653966471928,
           "FLNB",
           "GCST009404",
           "PMID:31798171"
          ],
          [
           19,
           "measurement",
           0.2927653966471928,
           "LRP8",
           "NEALE2_1950",
           null
          ],
          [
           19,
           "measurement",
           0.2968678906533512,
           "TMEM60;FRY;EPAS1;GGT7;RAI14;GLI2;KRT18;GNAS;VEGFA",
           "GCST90018979",
           "PMID:34594039"
          ],
          [
           19,
           "measurement",
           0.3051467678839975,
           "MLXIP;GPCPD1;GLI2;SCARB1;RRAS2;APOC1;VEGFA",
           "GCST90020027",
           "PMID:34021172"
          ],
          [
           19,
           "measurement",
           0.3129058046429355,
           "PLXNA2",
           "GCST90026029",
           "PMID:33437055"
          ],
          [
           19,
           "measurement",
           0.3129058046429355,
           "PTPN1",
           "GCST009697",
           "PMID:31636452"
          ],
          [
           19,
           "measurement",
           0.3167002851483499,
           "CDKN1A;XPC;IRF2BP2;S1PR1;SOCS2;CLCN6;PNPLA3;PLXNA2;NR2F6;GLI2;CD46;HSD17B12;UBAP2;VEGFA",
           "GCST90025989",
           "PMID:34226706"
          ],
          [
           19,
           "measurement",
           0.3194091756726575,
           "MLXIP;ADIPOR2;ACSS2;EGFL7;MTHFR;IER5L;FDFT1;ELOVL5;ABCC1;SNCA;TOX2",
           "GCST90025975",
           "PMID:34226706"
          ],
          [
           19,
           "measurement",
           0.3199270355016073,
           "NUCKS1;TUBA1A;NR2F1;THSD4;ME1;LRP8;KLHL24;PLXNA2;NAV3;NFIB;DPYSL2;VEGFA",
           "GCST90091061",
           "PMID:34560273"
          ],
          [
           19,
           "measurement",
           0.3259486585004312,
           "FLNB;THSD4",
           "GCST90093370",
           "PMID:34968759"
          ],
          [
           19,
           "measurement",
           0.332475228503348,
           "CFAP54",
           "GCST001414",
           "PMID:22359512"
          ],
          [
           19,
           "measurement",
           0.332475228503348,
           "CFAP54",
           "GCST001414_2",
           "PMID:22359512"
          ],
          [
           19,
           "measurement",
           0.3438141145772319,
           "NUCKS1;IRF2BP2;PTPN1;FNDC3A;PLXNA2;GLI2;CD46;VEGFA",
           "GCST011520",
           "PMID:33587031"
          ],
          [
           19,
           "measurement",
           0.3466655775414268,
           "PCYOX1;IRF2BP2;UBASH3B;S1PR1;AZIN1;GLI2;ELOVL6",
           "GCST90018942",
           "PMID:34594039"
          ],
          [
           19,
           "measurement",
           0.3514897829027668,
           "VEGFA",
           "GCST001856_7",
           "PMID:23408906"
          ],
          [
           19,
           "measurement",
           0.3514897829027668,
           "KLHL24",
           "GCST011946",
           "PMID:33293549"
          ],
          [
           19,
           "measurement",
           0.3514897829027668,
           "THSD4",
           "GCST90007181",
           "PMID:33288918"
          ],
          [
           19,
           "measurement",
           0.3514897829027668,
           "THSD4",
           "GCST90007182",
           "PMID:33288918"
          ],
          [
           19,
           "measurement",
           0.3558828338950904,
           "BNIP3L;HSPA8;ABCC1;ITSN1",
           "GCST90002332",
           "PMID:32888493"
          ],
          [
           19,
           "measurement",
           0.3642468213732557,
           "TMEM60;RAI14;ZRANB1;GLI2;PRSS23;GNAS",
           "GCST90025991",
           "PMID:34226706"
          ],
          [
           19,
           "measurement",
           0.3672124119043087,
           "SH2D3C;IRF2BP2;UBASH3B;IFITM2;CEBPD",
           "GCST004608",
           "PMID:27863252"
          ],
          [
           19,
           "measurement",
           0.3699651297729389,
           "S1PR1",
           "GCST90085817",
           "PMID:34469753"
          ],
          [
           19,
           "measurement",
           0.3699651297729389,
           "LRP8",
           "GCST006951",
           "PMID:29500382"
          ],
          [
           19,
           "measurement",
           0.3778430112831962,
           "AKAP12;NFIC",
           "GCST011011",
           "PMID:32339537"
          ],
          [
           19,
           "measurement",
           0.3785881529517301,
           "MLXIP;GPCPD1;NFE2L2;SMIM29;VEGFA",
           "GCST90020024",
           "PMID:34021172"
          ],
          [
           19,
           "measurement",
           0.3879164909650702,
           "CD46",
           "GCST001969",
           "PMID:23583979"
          ],
          [
           19,
           "measurement",
           0.3879164909650702,
           "SNCA",
           "GCST006948",
           "PMID:29500382"
          ],
          [
           19,
           "measurement",
           0.3879164909650702,
           "GCSH",
           "GCST007638",
           "PMID:30837465"
          ],
          [
           19,
           "measurement",
           0.4013208522587543,
           "CDKN1A;SUB1;CCBE1;SQLE;EPAS1",
           "GCST010321",
           "PMID:32439900"
          ],
          [
           19,
           "measurement",
           0.4053586605593682,
           "EPAS1",
           "GCST009499",
           "PMID:31681408"
          ],
          [
           19,
           "measurement",
           0.418148725216143,
           "PTPRN2;SYT1",
           "GCST90011298",
           "PMID:32895543"
          ],
          [
           19,
           "measurement",
           0.4223060168318421,
           "AZIN1",
           "GCST010346",
           "PMID:32386560"
          ],
          [
           19,
           "measurement",
           0.4223060168318421,
           "AZIN1",
           "GCST010346_2",
           "PMID:32386560"
          ],
          [
           19,
           "measurement",
           0.4223060168318421,
           "AZIN1",
           "GCST010346_3",
           "PMID:32386560"
          ],
          [
           19,
           "measurement",
           0.4223060168318421,
           "PIK3C2A",
           "GCST90014267",
           "PMID:33979322"
          ],
          [
           19,
           "measurement",
           0.4280219422040659,
           "ZYX;ABCC1",
           "GCST004634",
           "PMID:27863252"
          ],
          [
           19,
           "measurement",
           0.4296079375240765,
           "SOCS2;NAV3;PNMA2;DPYSL2;CD46",
           "GCST010698",
           "PMID:32665545"
          ],
          [
           19,
           "measurement",
           0.4296079375240765,
           "SOCS2;NAV3;PNMA2;DPYSL2;CD46",
           "GCST010702",
           "PMID:32665545"
          ],
          [
           19,
           "measurement",
           0.4334836353565367,
           "BTG1;CEBPD;S1PR1;SCD5",
           "GCST004617",
           "PMID:27863252"
          ],
          [
           19,
           "measurement",
           0.4368096686319351,
           "BHLHE40;RAB2A;RNASET2",
           "GCST90018990",
           "PMID:34594039"
          ],
          [
           19,
           "measurement",
           0.4387725338878636,
           "SMIM29",
           "GCST007490",
           "PMID:30166351"
          ],
          [
           19,
           "measurement",
           0.4439816527134052,
           "PTPN1;PNPLA3;SQLE;CLIC4;CYP51A1;NFIB;RAI14;ACACA",
           "GCST90002308",
           "PMID:32888493"
          ],
          [
           19,
           "measurement",
           0.4459625274121073,
           "ARHGAP29;LRRC8B;CCBE1;UBASH3B;IFITM2;DUSP6",
           "GCST90018976",
           "PMID:34594039"
          ],
          [
           19,
           "measurement",
           0.447500965440971,
           "NR2F1;VEGFA",
           "GCST010696",
           "PMID:32665545"
          ],
          [
           19,
           "measurement",
           0.447500965440971,
           "NR2F1;VEGFA",
           "GCST010700",
           "PMID:32665545"
          ],
          [
           19,
           "measurement",
           0.4636903021542604,
           "LIPA;NFE2L2;LIPG;FDFT1;TM4SF19;GLI2;SCARB1",
           "GCST90025959",
           "PMID:34226706"
          ],
          [
           19,
           "measurement",
           0.465152707449157,
           "BTG1;CEBPD;S1PR1;SCD5",
           "GCST004623",
           "PMID:27863252"
          ],
          [
           19,
           "measurement",
           0.4699827852886225,
           "MLXIP;IRF2BP2;ITSN1;PTPN1;BNIP3L;CLIC4;NFIB;RAI14",
           "GCST90018971",
           "PMID:34594039"
          ],
          [
           19,
           "measurement",
           0.4760098066584078,
           "LRP8;PTPRN2",
           "GCST007326",
           "PMID:30643258"
          ],
          [
           19,
           "measurement",
           0.4805511540600514,
           "BAZ2A;RNF145;PTPN1;CLIC4;NRDC;PDIA5;CD9;GJC1;HABP4;CLTC;APOC1",
           "GCST90002401",
           "PMID:32888494"
          ],
          [
           19,
           "measurement",
           0.4854209635556349,
           "NPC1",
           "GCST008522",
           "PMID:31046077"
          ],
          [
           19,
           "measurement",
           0.488662354006874,
           "SRBD1;RAB32;NR2F1",
           "GCST90026052",
           "PMID:33437055"
          ],
          [
           19,
           "measurement",
           0.488662354006874,
           "SRBD1;RAB32;NR2F1",
           "GCST90026060",
           "PMID:33437055"
          ],
          [
           19,
           "measurement",
           0.488662354006874,
           "SRBD1;RAB32;NR2F1",
           "GCST90026062",
           "PMID:33437055"
          ],
          [
           19,
           "measurement",
           0.488662354006874,
           "SRBD1;RAB32;NR2F1",
           "GCST90026067",
           "PMID:33437055"
          ],
          [
           19,
           "measurement",
           0.488662354006874,
           "SRBD1;RAB32;NR2F1",
           "GCST90026126",
           "PMID:33437055"
          ],
          [
           19,
           "measurement",
           0.488662354006874,
           "SRBD1;RAB32;NR2F1",
           "GCST90026140",
           "PMID:33437055"
          ],
          [
           19,
           "measurement",
           0.488662354006874,
           "SRBD1;RAB32;NR2F1",
           "GCST90026156",
           "PMID:33437055"
          ],
          [
           19,
           "measurement",
           0.488662354006874,
           "SRBD1;RAB32;NR2F1",
           "GCST90026185",
           "PMID:33437055"
          ],
          [
           19,
           "measurement",
           0.488662354006874,
           "SRBD1;RAB32;NR2F1",
           "GCST90026200",
           "PMID:33437055"
          ],
          [
           19,
           "measurement",
           0.488662354006874,
           "SRBD1;RAB32;NR2F1",
           "GCST90026203",
           "PMID:33437055"
          ],
          [
           19,
           "measurement",
           0.488662354006874,
           "SRBD1;RAB32;NR2F1",
           "GCST90026212",
           "PMID:33437055"
          ],
          [
           19,
           "measurement",
           0.488662354006874,
           "SRBD1;RAB32;NR2F1",
           "GCST90026216",
           "PMID:33437055"
          ],
          [
           19,
           "measurement",
           0.488662354006874,
           "SRBD1;RAB32;NR2F1",
           "GCST90026243",
           "PMID:33437055"
          ],
          [
           19,
           "measurement",
           0.488662354006874,
           "SRBD1;RAB32;NR2F1",
           "GCST90026306",
           "PMID:33437055"
          ],
          [
           19,
           "measurement",
           0.488662354006874,
           "SRBD1;RAB32;NR2F1",
           "GCST90026310",
           "PMID:33437055"
          ],
          [
           19,
           "measurement",
           0.488662354006874,
           "SRBD1;RAB32;NR2F1",
           "GCST90026314",
           "PMID:33437055"
          ],
          [
           19,
           "measurement",
           0.5000961706667439,
           "VEGFA",
           "GCST90002238",
           "PMID:34059833"
          ],
          [
           19,
           "measurement",
           0.5022999104645244,
           "DUSP6;NFIB;CBX5;IRF2BP2",
           "GCST90000047",
           "PMID:34211149"
          ],
          [
           19,
           "measurement",
           0.5115295825864637,
           "RAB2A;UBASH3B;PTPN1;HDGFL3;FDFT1;ELOVL5;RTN4;PLK2;ACACA",
           "GCST90002320",
           "PMID:32888493"
          ],
          [
           19,
           "measurement",
           0.5143547315191779,
           "HSD17B12",
           "GCST007561",
           "PMID:30846698"
          ],
          [
           19,
           "measurement",
           0.5143547315191779,
           "SMIM29",
           "GCST90016667",
           "PMID:34128465"
          ],
          [
           19,
           "measurement",
           0.5204538292975093,
           "RNF145;PRSS23;GNAS;RAI14",
           "GCST90018948",
           "PMID:34594039"
          ],
          [
           19,
           "measurement",
           0.5233338457846393,
           "B4GALT5;VCL;TUBA1A;NR2F1;IRF2BP2;PCSK5;THSD4;ME1;LRP8;S1PR1;PLXNA2;AKAP12;NAV3;NFIB;CDC42BPA;DPYSL2;RRAS2",
           "GCST90095129",
           "PMID:34910505"
          ],
          [
           19,
           "measurement",
           0.530264315956697,
           "SOCS2;PCSK5",
           "GCST001956",
           "PMID:23563607"
          ],
          [
           19,
           "measurement",
           0.5382935818303047,
           "MNT;PIK3C2A;SNCA;NFIB",
           "GCST007988",
           "PMID:30804565"
          ],
          [
           19,
           "measurement",
           0.5382935818303047,
           "MNT;PIK3C2A;SNCA;NFIB",
           "GCST007988_2",
           "PMID:30804565"
          ],
          [
           19,
           "measurement",
           0.5382935818303047,
           "MNT;PIK3C2A;SNCA;NFIB",
           "GCST007988_3",
           "PMID:30804565"
          ],
          [
           19,
           "measurement",
           0.5469364599426958,
           "IRF2BP2;ITSN1;PTPN1;BNIP3L;ZRANB1;CLIC4;NFIB;RAI14;PTTG1IP",
           "GCST90002367",
           "PMID:32888493"
          ],
          [
           19,
           "measurement",
           0.5547466477670275,
           "ZRANB1",
           "GCST006014",
           "PMID:29403010"
          ],
          [
           19,
           "measurement",
           0.5627008272548027,
           "INSIG1;PDGFB;AKAP12;DUSP6;CDC42BPA;SCARB1;RAI14",
           "GCST007082",
           "PMID:30595370"
          ],
          [
           19,
           "measurement",
           0.564264367018959,
           "FLNB;THSD4",
           "GCST009724",
           "PMID:31959993"
          ],
          [
           19,
           "measurement",
           0.584737603881208,
           "INSIG1;UBC;ETNK1",
           "GCST011567",
           "PMID:32939015"
          ],
          [
           19,
           "measurement",
           0.584737603881208,
           "INSIG1;UBC;ETNK1",
           "GCST011568",
           "PMID:32939015"
          ],
          [
           19,
           "measurement",
           0.5897176239190327,
           "THSD4;PRSS23;DYSF;FRY",
           "GCST007430",
           "PMID:30804560"
          ],
          [
           19,
           "measurement",
           0.5911514694477766,
           "TCF20;PTPRN2;SYT1",
           "GCST90011875",
           "PMID:33414549"
          ],
          [
           19,
           "measurement",
           0.6034471354601211,
           "VEGFA",
           "GCST008790",
           "PMID:31511532"
          ],
          [
           19,
           "measurement",
           0.6037875810677646,
           "IL21R;ARHGAP29;RAB2A",
           "GCST90019515",
           "PMID:33462484"
          ],
          [
           19,
           "measurement",
           0.6090754937100225,
           "THSD4;LRP8;NAV3;PNMA2;DPYSL2;RRAS2;VEGFA",
           "GCST010699",
           "PMID:32665545"
          ],
          [
           19,
           "measurement",
           0.6090754937100225,
           "THSD4;LRP8;NAV3;PNMA2;DPYSL2;RRAS2;VEGFA",
           "GCST010703",
           "PMID:32665545"
          ],
          [
           19,
           "measurement",
           0.6145413567682156,
           "RRAS2;NUCKS1;ODF2L;PCSK5;SOCS2;ZRANB1;HSD17B12;NFIC;NPC1",
           "GCST90018949",
           "PMID:34594039"
          ],
          [
           19,
           "measurement",
           0.6172279538131711,
           "PTPN1;PNPLA3;CLIC4;NFIB;SMIM29;RAI14;SMAD1",
           "GCST90002314",
           "PMID:32888493"
          ],
          [
           19,
           "measurement",
           0.6257705477960311,
           "S1PR1",
           "GCST90085818",
           "PMID:34469753"
          ],
          [
           19,
           "measurement",
           0.6393856261257229,
           "PDGFB;PCSK5;CCSER2;THSD4;UBASH3B;IFITM2;SMURF2;PRSS23;RAI14;LTBP2",
           "GCST90025978",
           "PMID:34226706"
          ],
          [
           19,
           "measurement",
           0.6474407271065719,
           "YWHAZ;PCYOX1;TCF20;NAV3;ETNK1;NPC1",
           "GCST007576",
           "PMID:30696823"
          ],
          [
           19,
           "measurement",
           0.6528184545178594,
           "DUSP6;HSD17B12;NFIB;VEGFA",
           "GCST90020232",
           "PMID:33980691"
          ],
          [
           19,
           "measurement",
           0.6630384517720197,
           "DUSP6;HSD17B12;NPC1",
           "GCST008744",
           "PMID:31501611"
          ],
          [
           19,
           "measurement",
           0.6686762343132817,
           "MLXIP;LPIN1;UBASH3B;KLHL24;NFIB;PDLIM1;GLI2;KRT18;RAI14;VEGFA",
           "GCST90025945",
           "PMID:34226706"
          ],
          [
           19,
           "measurement",
           0.6757571864974095,
           "NUCKS1;NFE2L2",
           "GCST007472",
           "PMID:30643251"
          ],
          [
           19,
           "measurement",
           0.6776972076939256,
           "RAI14;ABCC1;NFIC;SCD5;VEGFA",
           "GCST90018958",
           "PMID:34594039"
          ],
          [
           19,
           "measurement",
           0.6855089857015289,
           "HSD17B12",
           "GCST007463",
           "PMID:30643251"
          ],
          [
           19,
           "measurement",
           0.6944979938815563,
           "HABP4",
           "GCST005141",
           "PMID:29186694"
          ],
          [
           19,
           "measurement",
           0.6950669659408967,
           "AACS;VEGFA",
           "GCST90018955",
           "PMID:34594039"
          ],
          [
           19,
           "measurement",
           0.7032312220896585,
           "DTD1",
           "GCST010544",
           "PMID:32451486"
          ],
          [
           19,
           "measurement",
           0.7117159157400594,
           "CDKN1A",
           "GCST011010",
           "PMID:32602732"
          ],
          [
           19,
           "measurement",
           0.7199591159356593,
           "NPC1",
           "GCST011122",
           "PMID:33128006"
          ],
          [
           19,
           "measurement",
           0.7251386263547017,
           "PTPN1;PCSK5",
           "GCST006412",
           "PMID:29785010"
          ],
          [
           19,
           "measurement",
           0.7301261421239565,
           "EPAS1;KLHL24;GLI2",
           "GCST008362",
           "PMID:31043758"
          ],
          [
           19,
           "measurement",
           0.7394627796843924,
           "UBASH3B;APOC1;CCBE1",
           "GCST90018945",
           "PMID:34594039"
          ],
          [
           19,
           "measurement",
           0.7577855612271639,
           "CD9",
           "GCST90026371",
           "PMID:35023831"
          ],
          [
           19,
           "measurement",
           0.7647169252273888,
           "CLCN6",
           "GCST90018986",
           "PMID:34594039"
          ],
          [
           19,
           "measurement",
           0.777992860371213,
           "ANXA2",
           "NEALE2_2375",
           null
          ],
          [
           19,
           "measurement",
           0.7926633044456417,
           "NR2F1;THSD4;LRP8;CBX5;S1PR1;PLXNA2;NAV3;NFIB;DPYSL2;RRAS2;VEGFA",
           "GCST90091060",
           "PMID:34560273"
          ],
          [
           19,
           "measurement",
           0.7940481386929774,
           "UBASH3B;PLK2;CLCN6",
           "GCST90018963",
           "PMID:34594039"
          ],
          [
           19,
           "measurement",
           0.7949052254592006,
           "NUCKS1;SOBP;IER2;PCSK5;NMT2;SOCS2;NFIB;VAMP5;GLI2;GNAS;DDR2",
           "GCST90018959",
           "PMID:34594039"
          ],
          [
           19,
           "measurement",
           0.7962940411489594,
           "SLC7A11;ETNK1",
           "GCST007340",
           "PMID:30643256"
          ],
          [
           19,
           "measurement",
           0.7979773239117613,
           "THSD4;HSD17B12;IER5L;PRSS23",
           "GCST007432",
           "PMID:30804560"
          ],
          [
           19,
           "measurement",
           0.8171997503379301,
           "UBASH3B;GPCPD1;GNAQ;CCBE1",
           "GCST90025990",
           "PMID:34226706"
          ],
          [
           19,
           "measurement",
           0.8292300388307603,
           "THSD4;NAV3",
           "GCST010697",
           "PMID:32665545"
          ],
          [
           19,
           "measurement",
           0.8292300388307603,
           "THSD4;NAV3",
           "GCST010701",
           "PMID:32665545"
          ],
          [
           19,
           "measurement",
           0.8329932047685966,
           "SLC7A11;ETNK1",
           "GCST007339",
           "PMID:30643256"
          ],
          [
           19,
           "measurement",
           0.8339851874060723,
           "IER5L",
           "GCST011494",
           "PMID:33568662"
          ],
          [
           19,
           "measurement",
           0.8478584563137905,
           "EPAS1",
           "GCST008363",
           "PMID:31043758"
          ],
          [
           19,
           "measurement",
           0.8522214423029417,
           "PCSK5",
           "GCST007293",
           "PMID:30664634"
          ],
          [
           19,
           "measurement",
           0.8522214423029417,
           "PCSK5",
           "GCST007293_2",
           "PMID:30664634"
          ],
          [
           19,
           "measurement",
           0.8522214423029417,
           "PCSK5",
           "GCST007293_3",
           "PMID:30664634"
          ],
          [
           19,
           "measurement",
           0.8522214423029417,
           "PCSK5",
           "GCST007294",
           "PMID:30664634"
          ],
          [
           19,
           "measurement",
           0.8522214423029417,
           "PCSK5",
           "GCST007294_2",
           "PMID:30664634"
          ],
          [
           19,
           "measurement",
           0.8522214423029417,
           "PCSK5",
           "GCST007295",
           "PMID:30664634"
          ],
          [
           19,
           "measurement",
           0.8522214423029417,
           "PCSK5",
           "GCST007295_2",
           "PMID:30664634"
          ],
          [
           19,
           "measurement",
           0.8522214423029417,
           "PCSK5",
           "GCST007295_3",
           "PMID:30664634"
          ],
          [
           19,
           "measurement",
           0.8540454176049468,
           "AZIN1;CLCN6",
           "GCST90018988",
           "PMID:34594039"
          ],
          [
           19,
           "measurement",
           0.8605090116855827,
           "SLC7A11;ETNK1",
           "GCST007341",
           "PMID:30643256"
          ],
          [
           19,
           "measurement",
           0.8636620780943707,
           "DUSP6;HSD17B12;GPCPD1;VEGFA",
           "GCST008996",
           "PMID:30239722"
          ],
          [
           19,
           "measurement",
           0.8764515925576719,
           "SHISA4;CLIC4;RRAS;B4GALT5;VEGFA",
           "GCST90000059",
           "PMID:33230300"
          ],
          [
           19,
           "measurement",
           0.8862876712140708,
           "NAV3",
           "GCST009462",
           "PMID:31809533"
          ],
          [
           19,
           "measurement",
           0.8927248501253555,
           "LRRC8B",
           "GCST90019522",
           "PMID:33462484"
          ],
          [
           19,
           "measurement",
           0.8940028498351168,
           "ACLY;CDKN1A;RRAS;IRF2BP2",
           "GCST90000061",
           "PMID:33230300"
          ],
          [
           19,
           "measurement",
           0.9037535683585566,
           "NR2F1;LPIN1;GLI2",
           "GCST007038",
           "PMID:30595370"
          ],
          [
           19,
           "measurement",
           0.9099397701834048,
           "SCD",
           "GCST006976",
           "PMID:30535121"
          ],
          [
           19,
           "measurement",
           0.9291751884201368,
           "NUCKS1;TCF20;UBXN7;SMURF2;HSD17B12;LTBP2",
           "GCST007081",
           "PMID:30595370"
          ],
          [
           19,
           "measurement",
           0.9337786486141324,
           "NUCKS1;TCF20;LONRF1;HSD17B12;MTFR1;PTPRN2",
           "GCST007468",
           "PMID:30643251"
          ],
          [
           19,
           "measurement",
           0.9383788931301958,
           "NPC1",
           "GCST010084",
           "PMID:32317632"
          ],
          [
           19,
           "measurement",
           0.9383788931301958,
           "NPC1",
           "GCST010085",
           "PMID:32317632"
          ],
          [
           19,
           "measurement",
           0.9614079463309868,
           "SOCS2",
           "GCST007063",
           "PMID:30593698"
          ],
          [
           19,
           "measurement",
           0.9614079463309868,
           "SOCS2",
           "GCST007063_2",
           "PMID:30593698"
          ],
          [
           19,
           "measurement",
           0.9614079463309868,
           "SOCS2",
           "GCST007063_3",
           "PMID:30593698"
          ],
          [
           19,
           "measurement",
           0.9743958724442392,
           "GLI2",
           "NEALE2_2395_1",
           null
          ]
         ],
         "hovertemplate": "trait_category=%{customdata[1]}<br>trait_reported=%{x}<br>-log10(p-value)=%{y}<br>program_name=%{customdata[0]}<br>P-value=%{customdata[2]}<br>Genes=%{customdata[3]}<br>study_id=%{customdata[4]}<br>pmid=%{customdata[5]}<extra></extra>",
         "legendgroup": "measurement",
         "marker": {
          "color": "#636efa",
          "symbol": "circle"
         },
         "mode": "markers",
         "name": "measurement",
         "orientation": "v",
         "showlegend": true,
         "type": "scatter",
         "x": [
          "HDL cholesterol levels",
          "Neutrophil count",
          "LDL cholesterol levels",
          "Mean platelet volume",
          "Diacylglycerol_38:5_[M+H-H2O]1+ levels",
          "Sex hormone-binding globulin levels",
          "Serum uric acid levels",
          "Apolipoprotein A1 levels",
          "Total cholesterol levels",
          "Monocyte percentage of white cells",
          "Sum neutrophil eosinophil counts",
          "Medication use (HMG CoA reductase inhibitors)",
          "High light scatter reticulocyte count",
          "Hip index",
          "Estimated glomerular filtration rate",
          "Apolipoprotein B levels",
          "Eosinophil counts",
          "White blood cell count",
          "White blood cell count",
          "Alanine aminotransferase levels",
          "Platelet count",
          "Lymphocyte-to-monocyte ratio",
          "Urate levels",
          "Urate levels [AA]",
          "Urate levels [East Asian]",
          "Total bilirubin levels",
          "Serum 25-Hydroxyvitamin D levels",
          "Hemoglobin A1c levels",
          "C-X-C motif chemokine 16 levels",
          "Immature fraction of reticulocytes",
          "Sum basophil neutrophil counts",
          "Cognitive performance (MTAG) [MTAG]",
          "High light scatter reticulocyte percentage of red cells",
          "Immature fraction of reticulocytes",
          "Reticulocyte fraction of red cells",
          "Basophil count",
          "Granulocyte count",
          "QRS duration",
          "Menarche (age at onset)",
          "Educational attainment (years of education)",
          "Red cell distribution width",
          "Monocyte count",
          "Aspartate aminotransferase to alanine aminotransferase ratio",
          "Mean corpuscular hemoglobin",
          "Plateletcrit",
          "Fibrinogen levels",
          "Infant head circumference (MTAG)",
          "Elusimicrobiota abundance in stool",
          "Treponema D abundance in stool",
          "Treponemataceae abundance in stool",
          "Retinal vascular fractal density",
          "Aspartate aminotransferase levels",
          "Hand grip strength",
          "Resting heart rate",
          "Sum eosinophil basophil counts",
          "Factor VIII levels",
          "Renal function-related traits (BUN)",
          "Parental lifespan",
          "Stem cell factor levels",
          "Receptor for advanced glycosylation end products levels",
          "Percent liver fat",
          "Pre-treatment viral load in HIV-1 infection",
          "Mean corpuscular volume",
          "Gamma glutamyl transpeptidase",
          "Serum phosphate levels",
          "Neutrophil percentage of white cells",
          "Total testosterone levels",
          "Homocysteine levels",
          "Basophil percentage of white cells",
          "Heel bone mineral density",
          "Coagulation Factor VIII measurement",
          "Coagulation factor Xa measurement",
          "Joint mobility (Beighton score)",
          "Body mass index",
          "Eosinophil percentage of white cells",
          "Intralaminar thalamic nuclei volume",
          "Lateral thalamic nuclei volume",
          "Moderate to vigorous physical activity levels",
          "Feeling tense",
          "Appendicular lean mass",
          "Triglycerides",
          "Lymphocyte percentage of white cells",
          "Optic cup area",
          "Sensitivity / hurt feelings",
          "Serum creatinine levels",
          "Waist-hip index",
          "Glucuronate levels",
          "Brainstem volume",
          "Insulin-like growth factor 1 levels",
          "Mean reticulocyte volume",
          "Cortical thickness",
          "Ascending aorta minimum area",
          "Phospholipid levels (plasma) [levels]",
          "Phospholipid levels (plasma) [proportions]",
          "Insulin-like growth factor 1 levels",
          "Serum alkaline phosphatase levels",
          "Thyroid hormone levels [TSH]",
          "White matter hyperintensity volume",
          "Facial morphology (segment 1)",
          "Facial morphology (segment 2)",
          "Mean corpuscular hemoglobin concentration",
          "Serum urea levels",
          "Granulocyte percentage of myeloid white cells",
          "Neutrophil-to-lymphocyte ratio",
          "Feeling hurt",
          "Youthful appearance (self-reported)",
          "A body shape index",
          "Heart rate",
          "Feeling nervous",
          "Glycine levels",
          "PR interval",
          "Birth length (MTAG)",
          "Verbal-numerical reasoning",
          "TPE interval (resting)",
          "TPE interval (resting) [men]",
          "TPE interval (resting) [women]",
          "Ganglion cell inner plexiform layer (GCIPL) thickness",
          "Basophil percentage of granulocytes",
          "Subcortical volume (min-P)",
          "Subcortical volume (MOSTest)",
          "Eosinophil percentage of granulocytes",
          "Medication use (thyroid preparations)",
          "Anthropometric traits (multi-trait analysis)",
          "Hematocrit",
          "Serum total protein level",
          "Cortical thickness (min-P)",
          "Cortical thickness (MOSTest)",
          "C-reactive protein levels",
          "Neutrophil percentage of granulocytes",
          "Red blood cell count",
          "Number of sexual partners",
          "Platelet distribution width",
          "Bitter alcoholic beverage consumption",
          "1-palmitoyl-2-arachidonoyl-gpc (16:0/20:4n6) levels",
          "1-stearoyl-2-arachidonoyl-gpc (18:0/20:4) levels",
          "1-stearoyl-2-linoleoyl-gpc (18:0/18:2) levels",
          "2,3-dihydroxy-2-methylbutyrate levels",
          "Ascorbate (vitamin c) levels",
          "Citramalate levels",
          "Erythritol levels",
          "Hydroxyasparagine levels",
          "Methylmalonate (mma) levels",
          "Myo-inositol levels",
          "N-acetylglucosamine/n-acetylgalactosamine levels",
          "N-acetylhistidine levels",
          "Oxalate (ethanedioate) levels",
          "N,n,n-trimethyl-alanylproline betaine (tmap) levels",
          "Butyrate (4:0) levels",
          "4-chlorobenzoic acid levels",
          "Fasting insulin",
          "Age at first sexual intercourse",
          "Lymphocyte counts",
          "Sleep duration",
          "Spleen volume",
          "Blood urea nitrogen levels",
          "Vertex-wise sulcal depth",
          "Height",
          "Insomnia",
          "Insomnia [Female]",
          "Insomnia [Male]",
          "Red blood cell count",
          "Creatine kinase levels",
          "Hair color",
          "Vertical cup-disc ratio (multi-trait analysis)",
          "Ebbinghaus illusion (underestimation)",
          "Ebbinghaus illusion (overestimation)",
          "Peak expiratory flow",
          "Cognitive aspects of educational attainment",
          "Urinary albumin-to-creatinine ratio",
          "Non-albumin protein levels",
          "Brain morphology (min-P)",
          "Brain morphology (MOSTest)",
          "Weight",
          "Hemoglobin concentration",
          "Platelet-to-lymphocyte ratio",
          "Lung function (FEV1/FVC)",
          "Chronotype",
          "Body fat percentage",
          "Predicted visceral adipose tissue",
          "Cystatin C levels",
          "Alcohol consumption (drinks per week) (MTAG)",
          "Hemoglobin A1c levels",
          "Cigarettes smoked per day (MTAG)",
          "Cognitive ability (MTAG)",
          "Glucose levels",
          "Problematic alcohol use (MTAG)",
          "Electrocardiographic traits (multivariate)",
          "Walking pace",
          "Intraocular pressure",
          "Birth weight",
          "Serum albumin levels",
          "Mitochondrial DNA copy number",
          "Medication use (beta blocking agents)",
          "Relative age of first facial hair",
          "Cortical surface area",
          "Mean arterial pressure",
          "Height",
          "Depressive symptoms",
          "FEV1",
          "Calcium levels",
          "Cortical surface area (min-P)",
          "Cortical surface area (MOSTest)",
          "Neuroticism",
          "Daytime nap",
          "Offspring birth weight",
          "Body fat distribution (arm fat ratio)",
          "Body fat distribution (arm fat ratio) [females]",
          "Body fat distribution (arm fat ratio) [males]",
          "Body fat distribution (trunk fat ratio)",
          "Body fat distribution (trunk fat ratio) [females]",
          "Body fat distribution (leg fat ratio)",
          "Body fat distribution (leg fat ratio) [females]",
          "Body fat distribution (leg fat ratio) [males]",
          "Medication use (agents acting on the renin-angiotensin system)",
          "Well-being spectrum (multivariate analysis)",
          "Waist-hip ratio",
          "Diastolic blood pressure",
          "Optic disc size",
          "Serum total protein level",
          "Pulse pressure",
          "Balding type 1",
          "Macular thickness",
          "Lung function (FVC)",
          "Smoking initiation (ever regular vs never regular) (MTAG)",
          "Leisure sedentary behaviour (television watching)",
          "Leisure sedentary behaviour (computer use)",
          "Fat-free mass",
          "Fat-free mass [female]",
          "Fat-free mass [male]",
          "Pattern 1 | hair/balding pattern"
         ],
         "xaxis": "x",
         "y": [
          3.7217267604218467,
          2.2085146890677216,
          2.041405643510129,
          1.9579074698952725,
          1.951044374896618,
          1.8241882621345995,
          1.770631114879941,
          1.7411687362188664,
          1.7396407250478436,
          1.690812274047095,
          1.4704408243467335,
          1.4080856632715508,
          1.3781939711216924,
          1.362419332776284,
          1.3544566479011757,
          1.293950511686175,
          1.2676997014487477,
          1.2465806849674252,
          1.235289025140926,
          1.2228005175729528,
          1.2190206992990031,
          1.1788678313002405,
          1.1715759157952723,
          1.1715759157952723,
          1.1715759157952723,
          1.0960185792798,
          1.0960185792798,
          1.089932436670235,
          1.081408859356079,
          1.0763721590611,
          1.0614065901361642,
          1.0603927068899206,
          1.0543677520671646,
          1.0543677520671646,
          1.0543677520671646,
          1.0466582514376923,
          1.0466582514376923,
          1.039055667545529,
          0.9948769861297059,
          0.9368956174689225,
          0.8957149324974121,
          0.8637679846524777,
          0.8452664993267902,
          0.8366442946177243,
          0.8354417249747166,
          0.830057667146352,
          0.7986863209335994,
          0.7986863209335994,
          0.7986863209335994,
          0.7986863209335994,
          0.7986863209335994,
          0.7778381118657756,
          0.7700892471688905,
          0.7538587782959907,
          0.7009324651239999,
          0.6858060349882722,
          0.6858060349882722,
          0.6858060349882722,
          0.6858060349882722,
          0.6858060349882722,
          0.6858060349882722,
          0.6722965519392787,
          0.6689813283020113,
          0.6638953266418268,
          0.6619668214461817,
          0.6610086091656856,
          0.654392438410845,
          0.640638795065622,
          0.6403037461058949,
          0.6091719286958492,
          0.600837303625428,
          0.600837303625428,
          0.600837303625428,
          0.5963300386704616,
          0.5736812309119169,
          0.5653713461456946,
          0.5653713461456946,
          0.5653713461456946,
          0.5653713461456946,
          0.5566285860294564,
          0.5548330211137795,
          0.5514954872964928,
          0.5334802559376316,
          0.5334802559376316,
          0.5274367733240749,
          0.515491225732224,
          0.5045863802829738,
          0.5045863802829738,
          0.49935154560093575,
          0.4956526120335892,
          0.49494905821834334,
          0.4868508020361554,
          0.47824070682724795,
          0.47824070682724795,
          0.4636762982214514,
          0.4600892798492229,
          0.4540872945230746,
          0.4540872945230746,
          0.4540872945230746,
          0.4540872945230746,
          0.4486929598029413,
          0.43860422944425476,
          0.43508264792163637,
          0.43183920744882176,
          0.43183920744882176,
          0.4226886062349129,
          0.42183298040970696,
          0.4112617574381072,
          0.4112617574381072,
          0.4112617574381072,
          0.3965082741419726,
          0.39216054376928067,
          0.37866922288358823,
          0.3743727308927516,
          0.3743727308927516,
          0.3743727308927516,
          0.3743727308927516,
          0.36853396665532223,
          0.36692770312074385,
          0.36692770312074385,
          0.3630272931324168,
          0.3597077572377868,
          0.3577605660432619,
          0.3526349764843956,
          0.350701631919816,
          0.3492060233978256,
          0.3492060233978256,
          0.3337719870563926,
          0.3324044468626262,
          0.32791804927934365,
          0.3223840999396732,
          0.3182603754386476,
          0.313881472009155,
          0.31099111723709444,
          0.31099111723709444,
          0.31099111723709444,
          0.31099111723709444,
          0.31099111723709444,
          0.31099111723709444,
          0.31099111723709444,
          0.31099111723709444,
          0.31099111723709444,
          0.31099111723709444,
          0.31099111723709444,
          0.31099111723709444,
          0.31099111723709444,
          0.31099111723709444,
          0.31099111723709444,
          0.31099111723709444,
          0.30094647091657867,
          0.2990368992538818,
          0.29112924527038014,
          0.28873726076138856,
          0.28873726076138856,
          0.283617791745582,
          0.28122117704673677,
          0.2755075976684138,
          0.2689807983234533,
          0.2689807983234533,
          0.2689807983234533,
          0.2620631246704594,
          0.25590531345049344,
          0.2497224463673653,
          0.24851737431910442,
          0.23303897622774877,
          0.23303897622774877,
          0.2293558929845921,
          0.22830122653499976,
          0.21936076994703263,
          0.21911582395486884,
          0.21532887408356802,
          0.21532887408356802,
          0.21144888509347357,
          0.20955441327659186,
          0.20358488099593702,
          0.19423713122424574,
          0.18879998488197744,
          0.18520757701463067,
          0.17846128470507308,
          0.17478411195789112,
          0.17020932699871788,
          0.16896430377360622,
          0.16398684807357408,
          0.15832900442230294,
          0.15797335147093647,
          0.15290185568138592,
          0.1476933221584665,
          0.1426921649960585,
          0.1395789604554925,
          0.13660210139221657,
          0.13108368101055365,
          0.12045367398727036,
          0.11649929760822468,
          0.10902438850595701,
          0.10091124656962411,
          0.10015316793185175,
          0.0996846480903241,
          0.09892653418685364,
          0.09800944980205051,
          0.08767177472054431,
          0.0813249739899602,
          0.0813249739899602,
          0.07935854138257471,
          0.07884166289335762,
          0.0716766439375091,
          0.06944754293925572,
          0.06944754293925572,
          0.06944754293925572,
          0.06944754293925572,
          0.06944754293925572,
          0.06944754293925572,
          0.06944754293925572,
          0.06944754293925572,
          0.06851903318601958,
          0.06524457716114158,
          0.0636561491019446,
          0.057272065497898976,
          0.052425291946877256,
          0.049282375921661604,
          0.048661096790555615,
          0.04394997493628287,
          0.04098735311041072,
          0.031902395595961704,
          0.029756060684797827,
          0.027621769328351052,
          0.027621769328351052,
          0.017092292615696322,
          0.017092292615696322,
          0.017092292615696322,
          0.011264564385345333
         ],
         "yaxis": "y"
        }
       ],
       "layout": {
        "annotations": [
         {
          "showarrow": false,
          "text": "Significance Threshold (0.05)",
          "x": 1,
          "xanchor": "right",
          "xref": "x domain",
          "y": 1.3010299956639813,
          "yanchor": "bottom",
          "yref": "y"
         }
        ],
        "height": 800,
        "legend": {
         "title": {
          "text": "trait_category"
         },
         "tracegroupgap": 0
        },
        "shapes": [
         {
          "line": {
           "dash": "dash"
          },
          "type": "line",
          "x0": 0,
          "x1": 1,
          "xref": "x domain",
          "y0": 1.3010299956639813,
          "y1": 1.3010299956639813,
          "yref": "y"
         }
        ],
        "template": {
         "data": {
          "bar": [
           {
            "error_x": {
             "color": "#2a3f5f"
            },
            "error_y": {
             "color": "#2a3f5f"
            },
            "marker": {
             "line": {
              "color": "#E5ECF6",
              "width": 0.5
             },
             "pattern": {
              "fillmode": "overlay",
              "size": 10,
              "solidity": 0.2
             }
            },
            "type": "bar"
           }
          ],
          "barpolar": [
           {
            "marker": {
             "line": {
              "color": "#E5ECF6",
              "width": 0.5
             },
             "pattern": {
              "fillmode": "overlay",
              "size": 10,
              "solidity": 0.2
             }
            },
            "type": "barpolar"
           }
          ],
          "carpet": [
           {
            "aaxis": {
             "endlinecolor": "#2a3f5f",
             "gridcolor": "white",
             "linecolor": "white",
             "minorgridcolor": "white",
             "startlinecolor": "#2a3f5f"
            },
            "baxis": {
             "endlinecolor": "#2a3f5f",
             "gridcolor": "white",
             "linecolor": "white",
             "minorgridcolor": "white",
             "startlinecolor": "#2a3f5f"
            },
            "type": "carpet"
           }
          ],
          "choropleth": [
           {
            "colorbar": {
             "outlinewidth": 0,
             "ticks": ""
            },
            "type": "choropleth"
           }
          ],
          "contour": [
           {
            "colorbar": {
             "outlinewidth": 0,
             "ticks": ""
            },
            "colorscale": [
             [
              0,
              "#0d0887"
             ],
             [
              0.1111111111111111,
              "#46039f"
             ],
             [
              0.2222222222222222,
              "#7201a8"
             ],
             [
              0.3333333333333333,
              "#9c179e"
             ],
             [
              0.4444444444444444,
              "#bd3786"
             ],
             [
              0.5555555555555556,
              "#d8576b"
             ],
             [
              0.6666666666666666,
              "#ed7953"
             ],
             [
              0.7777777777777778,
              "#fb9f3a"
             ],
             [
              0.8888888888888888,
              "#fdca26"
             ],
             [
              1,
              "#f0f921"
             ]
            ],
            "type": "contour"
           }
          ],
          "contourcarpet": [
           {
            "colorbar": {
             "outlinewidth": 0,
             "ticks": ""
            },
            "type": "contourcarpet"
           }
          ],
          "heatmap": [
           {
            "colorbar": {
             "outlinewidth": 0,
             "ticks": ""
            },
            "colorscale": [
             [
              0,
              "#0d0887"
             ],
             [
              0.1111111111111111,
              "#46039f"
             ],
             [
              0.2222222222222222,
              "#7201a8"
             ],
             [
              0.3333333333333333,
              "#9c179e"
             ],
             [
              0.4444444444444444,
              "#bd3786"
             ],
             [
              0.5555555555555556,
              "#d8576b"
             ],
             [
              0.6666666666666666,
              "#ed7953"
             ],
             [
              0.7777777777777778,
              "#fb9f3a"
             ],
             [
              0.8888888888888888,
              "#fdca26"
             ],
             [
              1,
              "#f0f921"
             ]
            ],
            "type": "heatmap"
           }
          ],
          "heatmapgl": [
           {
            "colorbar": {
             "outlinewidth": 0,
             "ticks": ""
            },
            "colorscale": [
             [
              0,
              "#0d0887"
             ],
             [
              0.1111111111111111,
              "#46039f"
             ],
             [
              0.2222222222222222,
              "#7201a8"
             ],
             [
              0.3333333333333333,
              "#9c179e"
             ],
             [
              0.4444444444444444,
              "#bd3786"
             ],
             [
              0.5555555555555556,
              "#d8576b"
             ],
             [
              0.6666666666666666,
              "#ed7953"
             ],
             [
              0.7777777777777778,
              "#fb9f3a"
             ],
             [
              0.8888888888888888,
              "#fdca26"
             ],
             [
              1,
              "#f0f921"
             ]
            ],
            "type": "heatmapgl"
           }
          ],
          "histogram": [
           {
            "marker": {
             "pattern": {
              "fillmode": "overlay",
              "size": 10,
              "solidity": 0.2
             }
            },
            "type": "histogram"
           }
          ],
          "histogram2d": [
           {
            "colorbar": {
             "outlinewidth": 0,
             "ticks": ""
            },
            "colorscale": [
             [
              0,
              "#0d0887"
             ],
             [
              0.1111111111111111,
              "#46039f"
             ],
             [
              0.2222222222222222,
              "#7201a8"
             ],
             [
              0.3333333333333333,
              "#9c179e"
             ],
             [
              0.4444444444444444,
              "#bd3786"
             ],
             [
              0.5555555555555556,
              "#d8576b"
             ],
             [
              0.6666666666666666,
              "#ed7953"
             ],
             [
              0.7777777777777778,
              "#fb9f3a"
             ],
             [
              0.8888888888888888,
              "#fdca26"
             ],
             [
              1,
              "#f0f921"
             ]
            ],
            "type": "histogram2d"
           }
          ],
          "histogram2dcontour": [
           {
            "colorbar": {
             "outlinewidth": 0,
             "ticks": ""
            },
            "colorscale": [
             [
              0,
              "#0d0887"
             ],
             [
              0.1111111111111111,
              "#46039f"
             ],
             [
              0.2222222222222222,
              "#7201a8"
             ],
             [
              0.3333333333333333,
              "#9c179e"
             ],
             [
              0.4444444444444444,
              "#bd3786"
             ],
             [
              0.5555555555555556,
              "#d8576b"
             ],
             [
              0.6666666666666666,
              "#ed7953"
             ],
             [
              0.7777777777777778,
              "#fb9f3a"
             ],
             [
              0.8888888888888888,
              "#fdca26"
             ],
             [
              1,
              "#f0f921"
             ]
            ],
            "type": "histogram2dcontour"
           }
          ],
          "mesh3d": [
           {
            "colorbar": {
             "outlinewidth": 0,
             "ticks": ""
            },
            "type": "mesh3d"
           }
          ],
          "parcoords": [
           {
            "line": {
             "colorbar": {
              "outlinewidth": 0,
              "ticks": ""
             }
            },
            "type": "parcoords"
           }
          ],
          "pie": [
           {
            "automargin": true,
            "type": "pie"
           }
          ],
          "scatter": [
           {
            "fillpattern": {
             "fillmode": "overlay",
             "size": 10,
             "solidity": 0.2
            },
            "type": "scatter"
           }
          ],
          "scatter3d": [
           {
            "line": {
             "colorbar": {
              "outlinewidth": 0,
              "ticks": ""
             }
            },
            "marker": {
             "colorbar": {
              "outlinewidth": 0,
              "ticks": ""
             }
            },
            "type": "scatter3d"
           }
          ],
          "scattercarpet": [
           {
            "marker": {
             "colorbar": {
              "outlinewidth": 0,
              "ticks": ""
             }
            },
            "type": "scattercarpet"
           }
          ],
          "scattergeo": [
           {
            "marker": {
             "colorbar": {
              "outlinewidth": 0,
              "ticks": ""
             }
            },
            "type": "scattergeo"
           }
          ],
          "scattergl": [
           {
            "marker": {
             "colorbar": {
              "outlinewidth": 0,
              "ticks": ""
             }
            },
            "type": "scattergl"
           }
          ],
          "scattermapbox": [
           {
            "marker": {
             "colorbar": {
              "outlinewidth": 0,
              "ticks": ""
             }
            },
            "type": "scattermapbox"
           }
          ],
          "scatterpolar": [
           {
            "marker": {
             "colorbar": {
              "outlinewidth": 0,
              "ticks": ""
             }
            },
            "type": "scatterpolar"
           }
          ],
          "scatterpolargl": [
           {
            "marker": {
             "colorbar": {
              "outlinewidth": 0,
              "ticks": ""
             }
            },
            "type": "scatterpolargl"
           }
          ],
          "scatterternary": [
           {
            "marker": {
             "colorbar": {
              "outlinewidth": 0,
              "ticks": ""
             }
            },
            "type": "scatterternary"
           }
          ],
          "surface": [
           {
            "colorbar": {
             "outlinewidth": 0,
             "ticks": ""
            },
            "colorscale": [
             [
              0,
              "#0d0887"
             ],
             [
              0.1111111111111111,
              "#46039f"
             ],
             [
              0.2222222222222222,
              "#7201a8"
             ],
             [
              0.3333333333333333,
              "#9c179e"
             ],
             [
              0.4444444444444444,
              "#bd3786"
             ],
             [
              0.5555555555555556,
              "#d8576b"
             ],
             [
              0.6666666666666666,
              "#ed7953"
             ],
             [
              0.7777777777777778,
              "#fb9f3a"
             ],
             [
              0.8888888888888888,
              "#fdca26"
             ],
             [
              1,
              "#f0f921"
             ]
            ],
            "type": "surface"
           }
          ],
          "table": [
           {
            "cells": {
             "fill": {
              "color": "#EBF0F8"
             },
             "line": {
              "color": "white"
             }
            },
            "header": {
             "fill": {
              "color": "#C8D4E3"
             },
             "line": {
              "color": "white"
             }
            },
            "type": "table"
           }
          ]
         },
         "layout": {
          "annotationdefaults": {
           "arrowcolor": "#2a3f5f",
           "arrowhead": 0,
           "arrowwidth": 1
          },
          "autotypenumbers": "strict",
          "coloraxis": {
           "colorbar": {
            "outlinewidth": 0,
            "ticks": ""
           }
          },
          "colorscale": {
           "diverging": [
            [
             0,
             "#8e0152"
            ],
            [
             0.1,
             "#c51b7d"
            ],
            [
             0.2,
             "#de77ae"
            ],
            [
             0.3,
             "#f1b6da"
            ],
            [
             0.4,
             "#fde0ef"
            ],
            [
             0.5,
             "#f7f7f7"
            ],
            [
             0.6,
             "#e6f5d0"
            ],
            [
             0.7,
             "#b8e186"
            ],
            [
             0.8,
             "#7fbc41"
            ],
            [
             0.9,
             "#4d9221"
            ],
            [
             1,
             "#276419"
            ]
           ],
           "sequential": [
            [
             0,
             "#0d0887"
            ],
            [
             0.1111111111111111,
             "#46039f"
            ],
            [
             0.2222222222222222,
             "#7201a8"
            ],
            [
             0.3333333333333333,
             "#9c179e"
            ],
            [
             0.4444444444444444,
             "#bd3786"
            ],
            [
             0.5555555555555556,
             "#d8576b"
            ],
            [
             0.6666666666666666,
             "#ed7953"
            ],
            [
             0.7777777777777778,
             "#fb9f3a"
            ],
            [
             0.8888888888888888,
             "#fdca26"
            ],
            [
             1,
             "#f0f921"
            ]
           ],
           "sequentialminus": [
            [
             0,
             "#0d0887"
            ],
            [
             0.1111111111111111,
             "#46039f"
            ],
            [
             0.2222222222222222,
             "#7201a8"
            ],
            [
             0.3333333333333333,
             "#9c179e"
            ],
            [
             0.4444444444444444,
             "#bd3786"
            ],
            [
             0.5555555555555556,
             "#d8576b"
            ],
            [
             0.6666666666666666,
             "#ed7953"
            ],
            [
             0.7777777777777778,
             "#fb9f3a"
            ],
            [
             0.8888888888888888,
             "#fdca26"
            ],
            [
             1,
             "#f0f921"
            ]
           ]
          },
          "colorway": [
           "#636efa",
           "#EF553B",
           "#00cc96",
           "#ab63fa",
           "#FFA15A",
           "#19d3f3",
           "#FF6692",
           "#B6E880",
           "#FF97FF",
           "#FECB52"
          ],
          "font": {
           "color": "#2a3f5f"
          },
          "geo": {
           "bgcolor": "white",
           "lakecolor": "white",
           "landcolor": "#E5ECF6",
           "showlakes": true,
           "showland": true,
           "subunitcolor": "white"
          },
          "hoverlabel": {
           "align": "left"
          },
          "hovermode": "closest",
          "mapbox": {
           "style": "light"
          },
          "paper_bgcolor": "white",
          "plot_bgcolor": "#E5ECF6",
          "polar": {
           "angularaxis": {
            "gridcolor": "white",
            "linecolor": "white",
            "ticks": ""
           },
           "bgcolor": "#E5ECF6",
           "radialaxis": {
            "gridcolor": "white",
            "linecolor": "white",
            "ticks": ""
           }
          },
          "scene": {
           "xaxis": {
            "backgroundcolor": "#E5ECF6",
            "gridcolor": "white",
            "gridwidth": 2,
            "linecolor": "white",
            "showbackground": true,
            "ticks": "",
            "zerolinecolor": "white"
           },
           "yaxis": {
            "backgroundcolor": "#E5ECF6",
            "gridcolor": "white",
            "gridwidth": 2,
            "linecolor": "white",
            "showbackground": true,
            "ticks": "",
            "zerolinecolor": "white"
           },
           "zaxis": {
            "backgroundcolor": "#E5ECF6",
            "gridcolor": "white",
            "gridwidth": 2,
            "linecolor": "white",
            "showbackground": true,
            "ticks": "",
            "zerolinecolor": "white"
           }
          },
          "shapedefaults": {
           "line": {
            "color": "#2a3f5f"
           }
          },
          "ternary": {
           "aaxis": {
            "gridcolor": "white",
            "linecolor": "white",
            "ticks": ""
           },
           "baxis": {
            "gridcolor": "white",
            "linecolor": "white",
            "ticks": ""
           },
           "bgcolor": "#E5ECF6",
           "caxis": {
            "gridcolor": "white",
            "linecolor": "white",
            "ticks": ""
           }
          },
          "title": {
           "x": 0.05
          },
          "xaxis": {
           "automargin": true,
           "gridcolor": "white",
           "linecolor": "white",
           "ticks": "",
           "title": {
            "standoff": 15
           },
           "zerolinecolor": "white",
           "zerolinewidth": 2
          },
          "yaxis": {
           "automargin": true,
           "gridcolor": "white",
           "linecolor": "white",
           "ticks": "",
           "title": {
            "standoff": 15
           },
           "zerolinecolor": "white",
           "zerolinewidth": 2
          }
         }
        },
        "title": {
         "text": "Endothelial Cell Programs x GWAS Continuous Outcome Enrichments"
        },
        "width": 1000,
        "xaxis": {
         "anchor": "y",
         "domain": [
          0,
          1
         ],
         "tickfont": {
          "size": 4
         },
         "title": {
          "text": "trait_reported"
         }
        },
        "yaxis": {
         "anchor": "x",
         "domain": [
          0,
          1
         ],
         "tickformat": ".1f",
         "title": {
          "text": "-log10(p-value)"
         }
        }
       }
      },
      "text/html": [
       "<div>                            <div id=\"396e4f2a-9fe3-44ba-9936-870a7a9fa7c6\" class=\"plotly-graph-div\" style=\"height:800px; width:1000px;\"></div>            <script type=\"text/javascript\">                require([\"plotly\"], function(Plotly) {                    window.PLOTLYENV=window.PLOTLYENV || {};                                    if (document.getElementById(\"396e4f2a-9fe3-44ba-9936-870a7a9fa7c6\")) {                    Plotly.newPlot(                        \"396e4f2a-9fe3-44ba-9936-870a7a9fa7c6\",                        [{\"customdata\":[[19,\"measurement\",0.0001897899623212,\"RNF145;UBASH3B;FNDC3A;CLIC4;PTTG1IP;NPC1;VEGFA;AZIN1;UBXN7;GLI2;LONRF1;SCARB1;HSD17B12;NFIC;IRF2BP2;LIPG;SMAD1;NUCKS1;PNPLA3;NFE2L2\",\"GCST010242\",\"PMID:32203549\"],[19,\"measurement\",0.0061870740076511,\"TSPAN14;MXRA7;EHD4;CDKN1A;FLNB;UBASH3B;LIPA;IFITM2;PNPLA3;PDLIM1;NPC1;NUDT14;CEBPD;SCD5;VEGFA\",\"GCST90002355\",\"PMID:32888493\"],[19,\"measurement\",0.0090906378430656,\"LDLR;IRF2BP2;PCSK5;UBASH3B;HMGCR;LIPG;GLI2;CMTM6;SCARB1\",\"GCST010245\",\"PMID:32203549\"],[19,\"measurement\",0.0110177402679144,\"FADS1;EHD4;VCP;RNF145;UBASH3B;PCYOX1L;CLCN6;MMAB;MVK;FADS2;NID1;PNPLA3;NRDC;CD9;PDLIM1;ELOVL5\",\"GCST90002349\",\"PMID:32888493\"],[19,\"measurement\",0.0111932350853335,\"FADS2;PNPLA3\",\"GCST90060200\",\"PMID:34503513\"],[19,\"measurement\",0.0149903487863079,\"SLC27A5;RNF145;VEGFA;TMEM60;CLCN6;PXMP4;GLI2;EGR1;LONRF1;NFIC;CDKN1A;SOCS2;KLHL24;NR2F6;NUCKS1;SOBP;PNPLA3;MPC2;NFE2L2\",\"GCST90025958\",\"PMID:34226706\"],[19,\"measurement\",0.016957775643521,\"MLXIP;IRF2BP2;UBASH3B;PNPLA3;RAI14;TANC1;CDC42BPA;GLI2;GNAS;VEGFA\",\"GCST90018977\",\"PMID:34594039\"],[19,\"measurement\",0.0181481041838942,\"LDLR;IRF2BP2;RNF145;UBASH3B;UBC;FNDC3A;PNPLA3;DUSP6;CLIC4;LIPG;PTTG1IP;GLI2;SCARB1;VEGFA\",\"GCST90025955\",\"PMID:34226706\"],[19,\"measurement\",0.0182120684927123,\"RAB2A;IRF2BP2;HMGCR;PNPLA3;GLI2;CMTM6;SCARB1\",\"GCST90018974\",\"PMID:34594039\"],[19,\"measurement\",0.020379227896221,\"SH2D3C;GCNT1;PPIA;IRF2BP2;MARCKS;UBASH3B;IFITM2;S1PR1;PNPLA3;SERTAD1;MMAB;ZYX;ENSA;SCARB1;CEBPD;SCD5;NPC1\",\"GCST90002394\",\"PMID:32888494\"],[19,\"measurement\",0.0338500391764281,\"EHD4;LIPA;VEGFA;AZIN1;IFITM2;SCD5;NPC1\",\"GCST004613\",\"PMID:27863252\"],[19,\"measurement\",0.0390763811211738,\"IRF2BP2;HMGCR;LIPG;SCARB1;VEGFA\",\"GCST90018989\",\"PMID:34594039\"],[19,\"measurement\",0.0418606559013246,\"YWHAZ;EHD4;ACTB;IRF2BP2;CCBE1;FLNB;UBASH3B;ENO1;FLVCR1;CBX5;BNIP3L;FDFT1;UBAP2;HSPA8;WBP2;SMIM29;SCD5;VEGFA\",\"GCST90025970\",\"PMID:34226706\"],[19,\"measurement\",0.0434090885564119,\"MLXIP;NMT2;GPCPD1;GLI2;SCARB1;APOC1;VEGFA\",\"GCST90020026\",\"PMID:34021172\"],[19,\"measurement\",0.0442123248254086,\"NFE2L2;RAI14;TANC1;CALR;TGFBR2;GLI2;SMIM29;GNAS;ABCC1;VEGFA\",\"GCST008058\",\"PMID:31152163\"],[19,\"measurement\",0.0508217351163794,\"LDLR;IRF2BP2;PCSK5;HMGCR;GLI2;CMTM6;SCARB1;VEGFA\",\"GCST010243\",\"PMID:32203549\"],[19,\"measurement\",0.0539883803136624,\"SCD5;SLC7A11;PTPN1;IFITM2;S1PR1;MIIP;ZRANB1;ENSA;JUND;BTG1;CEBPD;TOX2\",\"GCST90002302\",\"PMID:32888493\"],[19,\"measurement\",0.0566786261920362,\"EHD4;UBASH3B;PTPN1;LIPA;IFITM2;AZIN1;PNPLA3;TGM2;DDR2;CD46;SCD5;VEGFA\",\"GCST90018978\",\"PMID:34594039\"],[19,\"measurement\",0.0581715954057249,\"TSPAN14;EHD4;CDKN1A;ITGA10;FLNB;UBASH3B;PTPN1;IFITM2;PNPLA3;TGM2;NUDT14;RAI14;SCD5;NPC1\",\"GCST90002378\",\"PMID:32888493\"],[19,\"measurement\",0.0598686523759518,\"CDKN1A;MLXIP;VEGFA;CLCN6;S1PR1;PNPLA3;GLI2;NPC1\",\"GCST90018943\",\"PMID:34594039\"],[19,\"measurement\",0.0603919844724791,\"FADS1;VCP;IRF2BP2;CCBE1;RNF145;PTPN1;RTN4;PNPLA3;SQLE;TGM2;NAV3;PDIA5;FADS2;PIK3C2A;CD9;WBP2;RAI14\",\"GCST90002361\",\"PMID:32888493\"],[19,\"measurement\",0.0662418066506201,\"SCARB1;S1PR1;IRF2BP2\",\"GCST90085816\",\"PMID:34469753\"],[19,\"measurement\",0.0673634132194936,\"MLXIP;PNPLA3;LMNA;RAI14;GLI2;GNAS;VEGFA\",\"GCST008972\",\"PMID:31578528\"],[19,\"measurement\",0.0673634132194936,\"MLXIP;PNPLA3;LMNA;RAI14;GLI2;GNAS;VEGFA\",\"GCST008972_2\",\"PMID:31578528\"],[19,\"measurement\",0.0673634132194936,\"MLXIP;PNPLA3;LMNA;RAI14;GLI2;GNAS;VEGFA\",\"GCST008972_3\",\"PMID:31578528\"],[19,\"measurement\",0.0801643768034926,\"MLXIP;PNPLA3;FAM114A1;GLI2;SCARB1\",\"GCST90018973\",\"PMID:34594039\"],[19,\"measurement\",0.0801643768034926,\"RAB2A;GNAQ;S100A11;LIPG;RRAS2\",\"GCST90000618\",\"PMID:32242144\"],[19,\"measurement\",0.0812956978300935,\"CDKN1A;ELOVL5;ITSN1;TKT;UBASH3B;FADS2;CLIC4;GLI2;HSPA8;CD46;SMIM29;RAI14;ABCC1;NFIC;SCD5;VEGFA\",\"GCST90025974\",\"PMID:34226706\"],[19,\"measurement\",0.0829069885868102,\"TOX2\",\"GCST90012059\",\"PMID:33067605\"],[19,\"measurement\",0.0838740937961106,\"YWHAZ;EHD4;PPIA;IRF2BP2;CCBE1;FLNB;UBASH3B;ENO1;AZIN1;SCD5;VEGFA\",\"GCST90025971\",\"PMID:34226706\"],[19,\"measurement\",0.086814728194195,\"EHD4;LIPA;VEGFA;AZIN1;IFITM2;NPC1\",\"GCST004620\",\"PMID:27863252\"],[19,\"measurement\",0.0870176384907033,\"PCYOX1;TFB1M;IRF2BP2;SYT1;TCF20;PTPN1;DUSP6;NFIB;CPNE3;GJC1;HABP4;PDIA6;MTFR1;PTPRN2\",\"GCST006570\",\"PMID:30038396\"],[19,\"measurement\",0.0882332442153908,\"YWHAZ;EHD4;UBASH3B;NUDT14;VEGFA;AZIN1;BNIP3L;FDFT1;GLI2;HSPA8;SCARB1;IRF2BP2;CCBE1;ITSN1;SQLE;FLVCR1;ABCC1;SCD5;FLNB;RAI14\",\"GCST90002386\",\"PMID:32888494\"],[19,\"measurement\",0.0882332442153908,\"YWHAZ;EHD4;UBASH3B;NUDT14;VEGFA;AZIN1;BNIP3L;FDFT1;GLI2;HSPA8;SCARB1;IRF2BP2;CCBE1;ITSN1;SQLE;FLVCR1;ABCC1;SCD5;FLNB;RAI14\",\"GCST90002387\",\"PMID:32888494\"],[19,\"measurement\",0.0882332442153908,\"YWHAZ;EHD4;UBASH3B;NUDT14;VEGFA;AZIN1;BNIP3L;FDFT1;GLI2;HSPA8;SCARB1;IRF2BP2;CCBE1;ITSN1;SQLE;FLVCR1;ABCC1;SCD5;FLNB;RAI14\",\"GCST90002406\",\"PMID:32888494\"],[19,\"measurement\",0.0898135263762215,\"SLC9A3R1;ABCC1;IFITM2;ZYX;CEBPD;SCD5\",\"GCST90002296\",\"PMID:32888493\"],[19,\"measurement\",0.0898135263762215,\"EHD4;LIPA;IFITM2;AZIN1;SCD5;NPC1\",\"GCST004614\",\"PMID:27863252\"],[19,\"measurement\",0.0913996078620031,\"CDKN1A;TKT\",\"GCST007104\",\"PMID:30012220\"],[19,\"measurement\",0.1011866024626775,\"STARD4;FNDC3A;GGT7;GNAQ;DNAJC21;NFIB;BTG1;HSD17B12;PTPRN2\",\"GCST007078\",\"PMID:30595370\"],[19,\"measurement\",0.1156390146772262,\"SYT1;CBX5;DNAJB9;NPC1;VASH2;BNIP3L;DUSP6;LONRF1;PLK2;NR2F1;IRF2BP2;MARCKS;PNPLA8;NFIB;GJC1;TFB1M;PTPN1;NAV3;PDIA6\",\"GCST006442\",\"PMID:30038396\"],[19,\"measurement\",0.1271408373891563,\"FADS1;ITSN1;SPTLC2;PNPLA3;BNIP3L;FADS2;CSNK1G2;HSPA8;ABCC1;PTTG1IP\",\"GCST90002372\",\"PMID:32888493\"],[19,\"measurement\",0.1368459709529698,\"TSPAN14;RAB2A;LRRC8B;EHD4;VCP;UBASH3B;ZYX;ENSA;CD46;PLK2;CEBPD;SCD5\",\"GCST90002344\",\"PMID:32888493\"],[19,\"measurement\",0.1428017404740746,\"ARHGAP29;PXMP4;PNPLA3;ANPEP\",\"GCST90019498\",\"PMID:33462484\"],[19,\"measurement\",0.1456651650884171,\"IRF2BP2;CCBE1;ITSN1;PTPN1;PNPLA3;BNIP3L;TOX2;ABCC1;SMAD1;PTTG1IP\",\"GCST90018964\",\"PMID:34594039\"],[19,\"measurement\",0.1460690736456073,\"ARHGAP29;EHD4;IRF2BP2;CCBE1;UBASH3B;PTPN1;ENO1;PNPLA3;SQLE;HABP4;NAV3;CLIC4;PDIA5;DNAJB6;RAI14;TM4SF1;VEGFA\",\"GCST90002400\",\"PMID:32888494\"],[19,\"measurement\",0.1478912000001314,\"PDIA5;LIPA\",\"GCST003194\",\"PMID:26561523\"],[19,\"measurement\",0.158969452706878,\"EPAS1\",\"GCST009500\",\"PMID:31681408\"],[19,\"measurement\",0.158969452706878,\"ARHGAP29\",\"GCST90032354\",\"PMID:35115689\"],[19,\"measurement\",0.158969452706878,\"ARHGAP29\",\"GCST90032585\",\"PMID:35115689\"],[19,\"measurement\",0.158969452706878,\"ARHGAP29\",\"GCST90032586\",\"PMID:35115689\"],[19,\"measurement\",0.158969452706878,\"LTBP2\",\"GCST90095201\",\"PMID:34743558\"],[19,\"measurement\",0.1667868813477533,\"ARHGAP29;CDKN1A;UBASH3B;PNPLA3;DUSP6;TM4SF1;VEGFA\",\"GCST90018944\",\"PMID:34594039\"],[19,\"measurement\",0.1697894700604497,\"NPC1;SMIM29;HSD17B12;JUND\",\"GCST005830\",\"PMID:29691431\"],[19,\"measurement\",0.1762549090120402,\"PMP22;APOC1;CD46\",\"GCST003818\",\"PMID:27798624\"],[19,\"measurement\",0.1990982922314336,\"IFITM2;S1PR1;MIIP;BTG1;CEBPD;SCD5\",\"GCST004624\",\"PMID:27863252\"],[19,\"measurement\",0.2061550439296068,\"NFIB\",\"GCST007445\",\"PMID:30586737\"],[19,\"measurement\",0.2061550439296068,\"GNAS\",\"GCST001610\",\"PMID:22797727\"],[19,\"measurement\",0.2061550439296068,\"PHTF1\",\"GCST009890\",\"PMID:30642433\"],[19,\"measurement\",0.2061550439296068,\"IRF2BP2\",\"GCST90012023\",\"PMID:33067605\"],[19,\"measurement\",0.2061550439296068,\"TSPAN14\",\"GCST90012054\",\"PMID:33067605\"],[19,\"measurement\",0.2061550439296068,\"PNPLA3\",\"GCST90016673\",\"PMID:34128465\"],[19,\"measurement\",0.2126686371895756,\"INSIG1;TGFBR2;CCBE1\",\"GCST008758\",\"PMID:31219150\"],[19,\"measurement\",0.2142982732767858,\"MLXIP;IRF2BP2;CCBE1;ITSN1;LBR;PTPN1;CLCN6;PNPLA3;BNIP3L;TOX2;SCARB1;PTTG1IP\",\"GCST90002338\",\"PMID:32888493\"],[19,\"measurement\",0.2168226626342707,\"CDKN1A;VEGFA;S1PR1;NFIB;MMP17;CDC42BPA;GLI2;PTTG1IP\",\"GCST90018954\",\"PMID:34594039\"],[19,\"measurement\",0.217787614798976,\"MLXIP;SOCS2;GNAQ;NFIB;SMIM29;CLTC;CCN2\",\"GCST90025948\",\"PMID:34226706\"],[19,\"measurement\",0.2182686643282181,\"SH2D3C;EHD4;UBASH3B;LIPA;IFITM2;AZIN1;BNIP3L;ELOVL5;CEBPD;SCD5;NPC1\",\"GCST90002399\",\"PMID:32888494\"],[19,\"measurement\",0.2216192912207304,\"S1PR1;PNPLA3;LIPE;NR2F6;EGR1;NFE2L2\",\"GCST90012114\",\"PMID:32042192\"],[19,\"measurement\",0.2287500538282526,\"MTHFR\",\"GCST002087\",\"PMID:23824729\"],[19,\"measurement\",0.2289265977227501,\"SH2D3C;RAB2A;ABCC1;ZYX;CEBPD\",\"GCST90002380\",\"PMID:32888494\"],[19,\"measurement\",0.2459393785478721,\"EHD4;SOBP;IRF2BP2;MSMO1;MARCKS;THSD4;UBASH3B;GPCPD1;TANC1;MAP1B;TGFBR2;CLIC4;NAV3;NFIB;BTG1;PRXL2A;NFIC;VEGFA\",\"GCST007066\",\"PMID:30595370\"],[19,\"measurement\",0.2507048273189083,\"ABCC1\",\"GCST90019386\",\"PMID:33328453\"],[19,\"measurement\",0.2507048273189083,\"ABCC1\",\"GCST90019430\",\"PMID:33328453\"],[19,\"measurement\",0.2507048273189083,\"SMURF2\",\"GCST003998\",\"PMID:27182965\"],[19,\"measurement\",0.2533202811313329,\"YWHAZ;UBASH3B;MMAB;GNAQ;ZRANB1;DUSP6;NFIB;CPNE3;UBXN7;CSNK1G2;NPC1;RTN4;HSD17B12;VEGFA\",\"GCST009004\",\"PMID:30239722\"],[19,\"measurement\",0.2668816838535806,\"SH2D3C;SLC7A11;PTPN1;IFITM2;S1PR1;DUSP6;ENSA;TOX2;BTG1;CEBPD;NFIC;SCD5\",\"GCST90002382\",\"PMID:32888494\"],[19,\"measurement\",0.2720374240745888,\"ID3\",\"GCST012006\",\"PMID:34006833\"],[19,\"measurement\",0.2720374240745888,\"ID3\",\"GCST012008\",\"PMID:34006833\"],[19,\"measurement\",0.2720374240745888,\"MARCKS\",\"GCST006097\",\"PMID:29899525\"],[19,\"measurement\",0.2720374240745888,\"DTD1\",\"GCST006952\",\"PMID:29500382\"],[19,\"measurement\",0.2775692896514996,\"IER2;UBASH3B;INO80C;LETM2;ODF2L;DIPK1B;ZRANB1;MNT;GLI2;GNAS;LTBP2;CCBE1;SOCS2;NFIB;VAMP5;DDR2;SMURF2;NUCKS1;FLNB;PTPN1;CPNE3;CCN1;NFE2L2\",\"GCST90000025\",\"PMID:33097823\"],[19,\"measurement\",0.2787192591076367,\"ACTB;GLI2;NPC1;PLK2;APOC1;VEGFA\",\"GCST90018975\",\"PMID:34594039\"],[19,\"measurement\",0.2808694557435136,\"EHD4;SLC9A3R1;UBASH3B;PTPN1;LIPA;IFITM2;AZIN1;S1PR1;BNIP3L;ELOVL5;CEBPD\",\"GCST90002389\",\"PMID:32888494\"],[19,\"measurement\",0.2927653966471928,\"FLNB\",\"GCST009404\",\"PMID:31798171\"],[19,\"measurement\",0.2927653966471928,\"LRP8\",\"NEALE2_1950\",null],[19,\"measurement\",0.2968678906533512,\"TMEM60;FRY;EPAS1;GGT7;RAI14;GLI2;KRT18;GNAS;VEGFA\",\"GCST90018979\",\"PMID:34594039\"],[19,\"measurement\",0.3051467678839975,\"MLXIP;GPCPD1;GLI2;SCARB1;RRAS2;APOC1;VEGFA\",\"GCST90020027\",\"PMID:34021172\"],[19,\"measurement\",0.3129058046429355,\"PLXNA2\",\"GCST90026029\",\"PMID:33437055\"],[19,\"measurement\",0.3129058046429355,\"PTPN1\",\"GCST009697\",\"PMID:31636452\"],[19,\"measurement\",0.3167002851483499,\"CDKN1A;XPC;IRF2BP2;S1PR1;SOCS2;CLCN6;PNPLA3;PLXNA2;NR2F6;GLI2;CD46;HSD17B12;UBAP2;VEGFA\",\"GCST90025989\",\"PMID:34226706\"],[19,\"measurement\",0.3194091756726575,\"MLXIP;ADIPOR2;ACSS2;EGFL7;MTHFR;IER5L;FDFT1;ELOVL5;ABCC1;SNCA;TOX2\",\"GCST90025975\",\"PMID:34226706\"],[19,\"measurement\",0.3199270355016073,\"NUCKS1;TUBA1A;NR2F1;THSD4;ME1;LRP8;KLHL24;PLXNA2;NAV3;NFIB;DPYSL2;VEGFA\",\"GCST90091061\",\"PMID:34560273\"],[19,\"measurement\",0.3259486585004312,\"FLNB;THSD4\",\"GCST90093370\",\"PMID:34968759\"],[19,\"measurement\",0.332475228503348,\"CFAP54\",\"GCST001414\",\"PMID:22359512\"],[19,\"measurement\",0.332475228503348,\"CFAP54\",\"GCST001414_2\",\"PMID:22359512\"],[19,\"measurement\",0.3438141145772319,\"NUCKS1;IRF2BP2;PTPN1;FNDC3A;PLXNA2;GLI2;CD46;VEGFA\",\"GCST011520\",\"PMID:33587031\"],[19,\"measurement\",0.3466655775414268,\"PCYOX1;IRF2BP2;UBASH3B;S1PR1;AZIN1;GLI2;ELOVL6\",\"GCST90018942\",\"PMID:34594039\"],[19,\"measurement\",0.3514897829027668,\"VEGFA\",\"GCST001856_7\",\"PMID:23408906\"],[19,\"measurement\",0.3514897829027668,\"KLHL24\",\"GCST011946\",\"PMID:33293549\"],[19,\"measurement\",0.3514897829027668,\"THSD4\",\"GCST90007181\",\"PMID:33288918\"],[19,\"measurement\",0.3514897829027668,\"THSD4\",\"GCST90007182\",\"PMID:33288918\"],[19,\"measurement\",0.3558828338950904,\"BNIP3L;HSPA8;ABCC1;ITSN1\",\"GCST90002332\",\"PMID:32888493\"],[19,\"measurement\",0.3642468213732557,\"TMEM60;RAI14;ZRANB1;GLI2;PRSS23;GNAS\",\"GCST90025991\",\"PMID:34226706\"],[19,\"measurement\",0.3672124119043087,\"SH2D3C;IRF2BP2;UBASH3B;IFITM2;CEBPD\",\"GCST004608\",\"PMID:27863252\"],[19,\"measurement\",0.3699651297729389,\"S1PR1\",\"GCST90085817\",\"PMID:34469753\"],[19,\"measurement\",0.3699651297729389,\"LRP8\",\"GCST006951\",\"PMID:29500382\"],[19,\"measurement\",0.3778430112831962,\"AKAP12;NFIC\",\"GCST011011\",\"PMID:32339537\"],[19,\"measurement\",0.3785881529517301,\"MLXIP;GPCPD1;NFE2L2;SMIM29;VEGFA\",\"GCST90020024\",\"PMID:34021172\"],[19,\"measurement\",0.3879164909650702,\"CD46\",\"GCST001969\",\"PMID:23583979\"],[19,\"measurement\",0.3879164909650702,\"SNCA\",\"GCST006948\",\"PMID:29500382\"],[19,\"measurement\",0.3879164909650702,\"GCSH\",\"GCST007638\",\"PMID:30837465\"],[19,\"measurement\",0.4013208522587543,\"CDKN1A;SUB1;CCBE1;SQLE;EPAS1\",\"GCST010321\",\"PMID:32439900\"],[19,\"measurement\",0.4053586605593682,\"EPAS1\",\"GCST009499\",\"PMID:31681408\"],[19,\"measurement\",0.418148725216143,\"PTPRN2;SYT1\",\"GCST90011298\",\"PMID:32895543\"],[19,\"measurement\",0.4223060168318421,\"AZIN1\",\"GCST010346\",\"PMID:32386560\"],[19,\"measurement\",0.4223060168318421,\"AZIN1\",\"GCST010346_2\",\"PMID:32386560\"],[19,\"measurement\",0.4223060168318421,\"AZIN1\",\"GCST010346_3\",\"PMID:32386560\"],[19,\"measurement\",0.4223060168318421,\"PIK3C2A\",\"GCST90014267\",\"PMID:33979322\"],[19,\"measurement\",0.4280219422040659,\"ZYX;ABCC1\",\"GCST004634\",\"PMID:27863252\"],[19,\"measurement\",0.4296079375240765,\"SOCS2;NAV3;PNMA2;DPYSL2;CD46\",\"GCST010698\",\"PMID:32665545\"],[19,\"measurement\",0.4296079375240765,\"SOCS2;NAV3;PNMA2;DPYSL2;CD46\",\"GCST010702\",\"PMID:32665545\"],[19,\"measurement\",0.4334836353565367,\"BTG1;CEBPD;S1PR1;SCD5\",\"GCST004617\",\"PMID:27863252\"],[19,\"measurement\",0.4368096686319351,\"BHLHE40;RAB2A;RNASET2\",\"GCST90018990\",\"PMID:34594039\"],[19,\"measurement\",0.4387725338878636,\"SMIM29\",\"GCST007490\",\"PMID:30166351\"],[19,\"measurement\",0.4439816527134052,\"PTPN1;PNPLA3;SQLE;CLIC4;CYP51A1;NFIB;RAI14;ACACA\",\"GCST90002308\",\"PMID:32888493\"],[19,\"measurement\",0.4459625274121073,\"ARHGAP29;LRRC8B;CCBE1;UBASH3B;IFITM2;DUSP6\",\"GCST90018976\",\"PMID:34594039\"],[19,\"measurement\",0.447500965440971,\"NR2F1;VEGFA\",\"GCST010696\",\"PMID:32665545\"],[19,\"measurement\",0.447500965440971,\"NR2F1;VEGFA\",\"GCST010700\",\"PMID:32665545\"],[19,\"measurement\",0.4636903021542604,\"LIPA;NFE2L2;LIPG;FDFT1;TM4SF19;GLI2;SCARB1\",\"GCST90025959\",\"PMID:34226706\"],[19,\"measurement\",0.465152707449157,\"BTG1;CEBPD;S1PR1;SCD5\",\"GCST004623\",\"PMID:27863252\"],[19,\"measurement\",0.4699827852886225,\"MLXIP;IRF2BP2;ITSN1;PTPN1;BNIP3L;CLIC4;NFIB;RAI14\",\"GCST90018971\",\"PMID:34594039\"],[19,\"measurement\",0.4760098066584078,\"LRP8;PTPRN2\",\"GCST007326\",\"PMID:30643258\"],[19,\"measurement\",0.4805511540600514,\"BAZ2A;RNF145;PTPN1;CLIC4;NRDC;PDIA5;CD9;GJC1;HABP4;CLTC;APOC1\",\"GCST90002401\",\"PMID:32888494\"],[19,\"measurement\",0.4854209635556349,\"NPC1\",\"GCST008522\",\"PMID:31046077\"],[19,\"measurement\",0.488662354006874,\"SRBD1;RAB32;NR2F1\",\"GCST90026052\",\"PMID:33437055\"],[19,\"measurement\",0.488662354006874,\"SRBD1;RAB32;NR2F1\",\"GCST90026060\",\"PMID:33437055\"],[19,\"measurement\",0.488662354006874,\"SRBD1;RAB32;NR2F1\",\"GCST90026062\",\"PMID:33437055\"],[19,\"measurement\",0.488662354006874,\"SRBD1;RAB32;NR2F1\",\"GCST90026067\",\"PMID:33437055\"],[19,\"measurement\",0.488662354006874,\"SRBD1;RAB32;NR2F1\",\"GCST90026126\",\"PMID:33437055\"],[19,\"measurement\",0.488662354006874,\"SRBD1;RAB32;NR2F1\",\"GCST90026140\",\"PMID:33437055\"],[19,\"measurement\",0.488662354006874,\"SRBD1;RAB32;NR2F1\",\"GCST90026156\",\"PMID:33437055\"],[19,\"measurement\",0.488662354006874,\"SRBD1;RAB32;NR2F1\",\"GCST90026185\",\"PMID:33437055\"],[19,\"measurement\",0.488662354006874,\"SRBD1;RAB32;NR2F1\",\"GCST90026200\",\"PMID:33437055\"],[19,\"measurement\",0.488662354006874,\"SRBD1;RAB32;NR2F1\",\"GCST90026203\",\"PMID:33437055\"],[19,\"measurement\",0.488662354006874,\"SRBD1;RAB32;NR2F1\",\"GCST90026212\",\"PMID:33437055\"],[19,\"measurement\",0.488662354006874,\"SRBD1;RAB32;NR2F1\",\"GCST90026216\",\"PMID:33437055\"],[19,\"measurement\",0.488662354006874,\"SRBD1;RAB32;NR2F1\",\"GCST90026243\",\"PMID:33437055\"],[19,\"measurement\",0.488662354006874,\"SRBD1;RAB32;NR2F1\",\"GCST90026306\",\"PMID:33437055\"],[19,\"measurement\",0.488662354006874,\"SRBD1;RAB32;NR2F1\",\"GCST90026310\",\"PMID:33437055\"],[19,\"measurement\",0.488662354006874,\"SRBD1;RAB32;NR2F1\",\"GCST90026314\",\"PMID:33437055\"],[19,\"measurement\",0.5000961706667439,\"VEGFA\",\"GCST90002238\",\"PMID:34059833\"],[19,\"measurement\",0.5022999104645244,\"DUSP6;NFIB;CBX5;IRF2BP2\",\"GCST90000047\",\"PMID:34211149\"],[19,\"measurement\",0.5115295825864637,\"RAB2A;UBASH3B;PTPN1;HDGFL3;FDFT1;ELOVL5;RTN4;PLK2;ACACA\",\"GCST90002320\",\"PMID:32888493\"],[19,\"measurement\",0.5143547315191779,\"HSD17B12\",\"GCST007561\",\"PMID:30846698\"],[19,\"measurement\",0.5143547315191779,\"SMIM29\",\"GCST90016667\",\"PMID:34128465\"],[19,\"measurement\",0.5204538292975093,\"RNF145;PRSS23;GNAS;RAI14\",\"GCST90018948\",\"PMID:34594039\"],[19,\"measurement\",0.5233338457846393,\"B4GALT5;VCL;TUBA1A;NR2F1;IRF2BP2;PCSK5;THSD4;ME1;LRP8;S1PR1;PLXNA2;AKAP12;NAV3;NFIB;CDC42BPA;DPYSL2;RRAS2\",\"GCST90095129\",\"PMID:34910505\"],[19,\"measurement\",0.530264315956697,\"SOCS2;PCSK5\",\"GCST001956\",\"PMID:23563607\"],[19,\"measurement\",0.5382935818303047,\"MNT;PIK3C2A;SNCA;NFIB\",\"GCST007988\",\"PMID:30804565\"],[19,\"measurement\",0.5382935818303047,\"MNT;PIK3C2A;SNCA;NFIB\",\"GCST007988_2\",\"PMID:30804565\"],[19,\"measurement\",0.5382935818303047,\"MNT;PIK3C2A;SNCA;NFIB\",\"GCST007988_3\",\"PMID:30804565\"],[19,\"measurement\",0.5469364599426958,\"IRF2BP2;ITSN1;PTPN1;BNIP3L;ZRANB1;CLIC4;NFIB;RAI14;PTTG1IP\",\"GCST90002367\",\"PMID:32888493\"],[19,\"measurement\",0.5547466477670275,\"ZRANB1\",\"GCST006014\",\"PMID:29403010\"],[19,\"measurement\",0.5627008272548027,\"INSIG1;PDGFB;AKAP12;DUSP6;CDC42BPA;SCARB1;RAI14\",\"GCST007082\",\"PMID:30595370\"],[19,\"measurement\",0.564264367018959,\"FLNB;THSD4\",\"GCST009724\",\"PMID:31959993\"],[19,\"measurement\",0.584737603881208,\"INSIG1;UBC;ETNK1\",\"GCST011567\",\"PMID:32939015\"],[19,\"measurement\",0.584737603881208,\"INSIG1;UBC;ETNK1\",\"GCST011568\",\"PMID:32939015\"],[19,\"measurement\",0.5897176239190327,\"THSD4;PRSS23;DYSF;FRY\",\"GCST007430\",\"PMID:30804560\"],[19,\"measurement\",0.5911514694477766,\"TCF20;PTPRN2;SYT1\",\"GCST90011875\",\"PMID:33414549\"],[19,\"measurement\",0.6034471354601211,\"VEGFA\",\"GCST008790\",\"PMID:31511532\"],[19,\"measurement\",0.6037875810677646,\"IL21R;ARHGAP29;RAB2A\",\"GCST90019515\",\"PMID:33462484\"],[19,\"measurement\",0.6090754937100225,\"THSD4;LRP8;NAV3;PNMA2;DPYSL2;RRAS2;VEGFA\",\"GCST010699\",\"PMID:32665545\"],[19,\"measurement\",0.6090754937100225,\"THSD4;LRP8;NAV3;PNMA2;DPYSL2;RRAS2;VEGFA\",\"GCST010703\",\"PMID:32665545\"],[19,\"measurement\",0.6145413567682156,\"RRAS2;NUCKS1;ODF2L;PCSK5;SOCS2;ZRANB1;HSD17B12;NFIC;NPC1\",\"GCST90018949\",\"PMID:34594039\"],[19,\"measurement\",0.6172279538131711,\"PTPN1;PNPLA3;CLIC4;NFIB;SMIM29;RAI14;SMAD1\",\"GCST90002314\",\"PMID:32888493\"],[19,\"measurement\",0.6257705477960311,\"S1PR1\",\"GCST90085818\",\"PMID:34469753\"],[19,\"measurement\",0.6393856261257229,\"PDGFB;PCSK5;CCSER2;THSD4;UBASH3B;IFITM2;SMURF2;PRSS23;RAI14;LTBP2\",\"GCST90025978\",\"PMID:34226706\"],[19,\"measurement\",0.6474407271065719,\"YWHAZ;PCYOX1;TCF20;NAV3;ETNK1;NPC1\",\"GCST007576\",\"PMID:30696823\"],[19,\"measurement\",0.6528184545178594,\"DUSP6;HSD17B12;NFIB;VEGFA\",\"GCST90020232\",\"PMID:33980691\"],[19,\"measurement\",0.6630384517720197,\"DUSP6;HSD17B12;NPC1\",\"GCST008744\",\"PMID:31501611\"],[19,\"measurement\",0.6686762343132817,\"MLXIP;LPIN1;UBASH3B;KLHL24;NFIB;PDLIM1;GLI2;KRT18;RAI14;VEGFA\",\"GCST90025945\",\"PMID:34226706\"],[19,\"measurement\",0.6757571864974095,\"NUCKS1;NFE2L2\",\"GCST007472\",\"PMID:30643251\"],[19,\"measurement\",0.6776972076939256,\"RAI14;ABCC1;NFIC;SCD5;VEGFA\",\"GCST90018958\",\"PMID:34594039\"],[19,\"measurement\",0.6855089857015289,\"HSD17B12\",\"GCST007463\",\"PMID:30643251\"],[19,\"measurement\",0.6944979938815563,\"HABP4\",\"GCST005141\",\"PMID:29186694\"],[19,\"measurement\",0.6950669659408967,\"AACS;VEGFA\",\"GCST90018955\",\"PMID:34594039\"],[19,\"measurement\",0.7032312220896585,\"DTD1\",\"GCST010544\",\"PMID:32451486\"],[19,\"measurement\",0.7117159157400594,\"CDKN1A\",\"GCST011010\",\"PMID:32602732\"],[19,\"measurement\",0.7199591159356593,\"NPC1\",\"GCST011122\",\"PMID:33128006\"],[19,\"measurement\",0.7251386263547017,\"PTPN1;PCSK5\",\"GCST006412\",\"PMID:29785010\"],[19,\"measurement\",0.7301261421239565,\"EPAS1;KLHL24;GLI2\",\"GCST008362\",\"PMID:31043758\"],[19,\"measurement\",0.7394627796843924,\"UBASH3B;APOC1;CCBE1\",\"GCST90018945\",\"PMID:34594039\"],[19,\"measurement\",0.7577855612271639,\"CD9\",\"GCST90026371\",\"PMID:35023831\"],[19,\"measurement\",0.7647169252273888,\"CLCN6\",\"GCST90018986\",\"PMID:34594039\"],[19,\"measurement\",0.777992860371213,\"ANXA2\",\"NEALE2_2375\",null],[19,\"measurement\",0.7926633044456417,\"NR2F1;THSD4;LRP8;CBX5;S1PR1;PLXNA2;NAV3;NFIB;DPYSL2;RRAS2;VEGFA\",\"GCST90091060\",\"PMID:34560273\"],[19,\"measurement\",0.7940481386929774,\"UBASH3B;PLK2;CLCN6\",\"GCST90018963\",\"PMID:34594039\"],[19,\"measurement\",0.7949052254592006,\"NUCKS1;SOBP;IER2;PCSK5;NMT2;SOCS2;NFIB;VAMP5;GLI2;GNAS;DDR2\",\"GCST90018959\",\"PMID:34594039\"],[19,\"measurement\",0.7962940411489594,\"SLC7A11;ETNK1\",\"GCST007340\",\"PMID:30643256\"],[19,\"measurement\",0.7979773239117613,\"THSD4;HSD17B12;IER5L;PRSS23\",\"GCST007432\",\"PMID:30804560\"],[19,\"measurement\",0.8171997503379301,\"UBASH3B;GPCPD1;GNAQ;CCBE1\",\"GCST90025990\",\"PMID:34226706\"],[19,\"measurement\",0.8292300388307603,\"THSD4;NAV3\",\"GCST010697\",\"PMID:32665545\"],[19,\"measurement\",0.8292300388307603,\"THSD4;NAV3\",\"GCST010701\",\"PMID:32665545\"],[19,\"measurement\",0.8329932047685966,\"SLC7A11;ETNK1\",\"GCST007339\",\"PMID:30643256\"],[19,\"measurement\",0.8339851874060723,\"IER5L\",\"GCST011494\",\"PMID:33568662\"],[19,\"measurement\",0.8478584563137905,\"EPAS1\",\"GCST008363\",\"PMID:31043758\"],[19,\"measurement\",0.8522214423029417,\"PCSK5\",\"GCST007293\",\"PMID:30664634\"],[19,\"measurement\",0.8522214423029417,\"PCSK5\",\"GCST007293_2\",\"PMID:30664634\"],[19,\"measurement\",0.8522214423029417,\"PCSK5\",\"GCST007293_3\",\"PMID:30664634\"],[19,\"measurement\",0.8522214423029417,\"PCSK5\",\"GCST007294\",\"PMID:30664634\"],[19,\"measurement\",0.8522214423029417,\"PCSK5\",\"GCST007294_2\",\"PMID:30664634\"],[19,\"measurement\",0.8522214423029417,\"PCSK5\",\"GCST007295\",\"PMID:30664634\"],[19,\"measurement\",0.8522214423029417,\"PCSK5\",\"GCST007295_2\",\"PMID:30664634\"],[19,\"measurement\",0.8522214423029417,\"PCSK5\",\"GCST007295_3\",\"PMID:30664634\"],[19,\"measurement\",0.8540454176049468,\"AZIN1;CLCN6\",\"GCST90018988\",\"PMID:34594039\"],[19,\"measurement\",0.8605090116855827,\"SLC7A11;ETNK1\",\"GCST007341\",\"PMID:30643256\"],[19,\"measurement\",0.8636620780943707,\"DUSP6;HSD17B12;GPCPD1;VEGFA\",\"GCST008996\",\"PMID:30239722\"],[19,\"measurement\",0.8764515925576719,\"SHISA4;CLIC4;RRAS;B4GALT5;VEGFA\",\"GCST90000059\",\"PMID:33230300\"],[19,\"measurement\",0.8862876712140708,\"NAV3\",\"GCST009462\",\"PMID:31809533\"],[19,\"measurement\",0.8927248501253555,\"LRRC8B\",\"GCST90019522\",\"PMID:33462484\"],[19,\"measurement\",0.8940028498351168,\"ACLY;CDKN1A;RRAS;IRF2BP2\",\"GCST90000061\",\"PMID:33230300\"],[19,\"measurement\",0.9037535683585566,\"NR2F1;LPIN1;GLI2\",\"GCST007038\",\"PMID:30595370\"],[19,\"measurement\",0.9099397701834048,\"SCD\",\"GCST006976\",\"PMID:30535121\"],[19,\"measurement\",0.9291751884201368,\"NUCKS1;TCF20;UBXN7;SMURF2;HSD17B12;LTBP2\",\"GCST007081\",\"PMID:30595370\"],[19,\"measurement\",0.9337786486141324,\"NUCKS1;TCF20;LONRF1;HSD17B12;MTFR1;PTPRN2\",\"GCST007468\",\"PMID:30643251\"],[19,\"measurement\",0.9383788931301958,\"NPC1\",\"GCST010084\",\"PMID:32317632\"],[19,\"measurement\",0.9383788931301958,\"NPC1\",\"GCST010085\",\"PMID:32317632\"],[19,\"measurement\",0.9614079463309868,\"SOCS2\",\"GCST007063\",\"PMID:30593698\"],[19,\"measurement\",0.9614079463309868,\"SOCS2\",\"GCST007063_2\",\"PMID:30593698\"],[19,\"measurement\",0.9614079463309868,\"SOCS2\",\"GCST007063_3\",\"PMID:30593698\"],[19,\"measurement\",0.9743958724442392,\"GLI2\",\"NEALE2_2395_1\",null]],\"hovertemplate\":\"trait_category=%{customdata[1]}\\u003cbr\\u003etrait_reported=%{x}\\u003cbr\\u003e-log10(p-value)=%{y}\\u003cbr\\u003eprogram_name=%{customdata[0]}\\u003cbr\\u003eP-value=%{customdata[2]}\\u003cbr\\u003eGenes=%{customdata[3]}\\u003cbr\\u003estudy_id=%{customdata[4]}\\u003cbr\\u003epmid=%{customdata[5]}\\u003cextra\\u003e\\u003c\\u002fextra\\u003e\",\"legendgroup\":\"measurement\",\"marker\":{\"color\":\"#636efa\",\"symbol\":\"circle\"},\"mode\":\"markers\",\"name\":\"measurement\",\"orientation\":\"v\",\"showlegend\":true,\"x\":[\"HDL cholesterol levels\",\"Neutrophil count\",\"LDL cholesterol levels\",\"Mean platelet volume\",\"Diacylglycerol_38:5_[M+H-H2O]1+ levels\",\"Sex hormone-binding globulin levels\",\"Serum uric acid levels\",\"Apolipoprotein A1 levels\",\"Total cholesterol levels\",\"Monocyte percentage of white cells\",\"Sum neutrophil eosinophil counts\",\"Medication use (HMG CoA reductase inhibitors)\",\"High light scatter reticulocyte count\",\"Hip index\",\"Estimated glomerular filtration rate\",\"Apolipoprotein B levels\",\"Eosinophil counts\",\"White blood cell count\",\"White blood cell count\",\"Alanine aminotransferase levels\",\"Platelet count\",\"Lymphocyte-to-monocyte ratio\",\"Urate levels\",\"Urate levels [AA]\",\"Urate levels [East Asian]\",\"Total bilirubin levels\",\"Serum 25-Hydroxyvitamin D levels\",\"Hemoglobin A1c levels\",\"C-X-C motif chemokine 16 levels\",\"Immature fraction of reticulocytes\",\"Sum basophil neutrophil counts\",\"Cognitive performance (MTAG) [MTAG]\",\"High light scatter reticulocyte percentage of red cells\",\"Immature fraction of reticulocytes\",\"Reticulocyte fraction of red cells\",\"Basophil count\",\"Granulocyte count\",\"QRS duration\",\"Menarche (age at onset)\",\"Educational attainment (years of education)\",\"Red cell distribution width\",\"Monocyte count\",\"Aspartate aminotransferase to alanine aminotransferase ratio\",\"Mean corpuscular hemoglobin\",\"Plateletcrit\",\"Fibrinogen levels\",\"Infant head circumference (MTAG)\",\"Elusimicrobiota abundance in stool\",\"Treponema D abundance in stool\",\"Treponemataceae abundance in stool\",\"Retinal vascular fractal density\",\"Aspartate aminotransferase levels\",\"Hand grip strength\",\"Resting heart rate\",\"Sum eosinophil basophil counts\",\"Factor VIII levels\",\"Renal function-related traits (BUN)\",\"Parental lifespan\",\"Stem cell factor levels\",\"Receptor for advanced glycosylation end products levels\",\"Percent liver fat\",\"Pre-treatment viral load in HIV-1 infection\",\"Mean corpuscular volume\",\"Gamma glutamyl transpeptidase\",\"Serum phosphate levels\",\"Neutrophil percentage of white cells\",\"Total testosterone levels\",\"Homocysteine levels\",\"Basophil percentage of white cells\",\"Heel bone mineral density\",\"Coagulation Factor VIII measurement\",\"Coagulation factor Xa measurement\",\"Joint mobility (Beighton score)\",\"Body mass index\",\"Eosinophil percentage of white cells\",\"Intralaminar thalamic nuclei volume\",\"Lateral thalamic nuclei volume\",\"Moderate to vigorous physical activity levels\",\"Feeling tense\",\"Appendicular lean mass\",\"Triglycerides\",\"Lymphocyte percentage of white cells\",\"Optic cup area\",\"Sensitivity \\u002f hurt feelings\",\"Serum creatinine levels\",\"Waist-hip index\",\"Glucuronate levels\",\"Brainstem volume\",\"Insulin-like growth factor 1 levels\",\"Mean reticulocyte volume\",\"Cortical thickness\",\"Ascending aorta minimum area\",\"Phospholipid levels (plasma) [levels]\",\"Phospholipid levels (plasma) [proportions]\",\"Insulin-like growth factor 1 levels\",\"Serum alkaline phosphatase levels\",\"Thyroid hormone levels [TSH]\",\"White matter hyperintensity volume\",\"Facial morphology (segment 1)\",\"Facial morphology (segment 2)\",\"Mean corpuscular hemoglobin concentration\",\"Serum urea levels\",\"Granulocyte percentage of myeloid white cells\",\"Neutrophil-to-lymphocyte ratio\",\"Feeling hurt\",\"Youthful appearance (self-reported)\",\"A body shape index\",\"Heart rate\",\"Feeling nervous\",\"Glycine levels\",\"PR interval\",\"Birth length (MTAG)\",\"Verbal-numerical reasoning\",\"TPE interval (resting)\",\"TPE interval (resting) [men]\",\"TPE interval (resting) [women]\",\"Ganglion cell inner plexiform layer (GCIPL) thickness\",\"Basophil percentage of granulocytes\",\"Subcortical volume (min-P)\",\"Subcortical volume (MOSTest)\",\"Eosinophil percentage of granulocytes\",\"Medication use (thyroid preparations)\",\"Anthropometric traits (multi-trait analysis)\",\"Hematocrit\",\"Serum total protein level\",\"Cortical thickness (min-P)\",\"Cortical thickness (MOSTest)\",\"C-reactive protein levels\",\"Neutrophil percentage of granulocytes\",\"Red blood cell count\",\"Number of sexual partners\",\"Platelet distribution width\",\"Bitter alcoholic beverage consumption\",\"1-palmitoyl-2-arachidonoyl-gpc (16:0\\u002f20:4n6) levels\",\"1-stearoyl-2-arachidonoyl-gpc (18:0\\u002f20:4) levels\",\"1-stearoyl-2-linoleoyl-gpc (18:0\\u002f18:2) levels\",\"2,3-dihydroxy-2-methylbutyrate levels\",\"Ascorbate (vitamin c) levels\",\"Citramalate levels\",\"Erythritol levels\",\"Hydroxyasparagine levels\",\"Methylmalonate (mma) levels\",\"Myo-inositol levels\",\"N-acetylglucosamine\\u002fn-acetylgalactosamine levels\",\"N-acetylhistidine levels\",\"Oxalate (ethanedioate) levels\",\"N,n,n-trimethyl-alanylproline betaine (tmap) levels\",\"Butyrate (4:0) levels\",\"4-chlorobenzoic acid levels\",\"Fasting insulin\",\"Age at first sexual intercourse\",\"Lymphocyte counts\",\"Sleep duration\",\"Spleen volume\",\"Blood urea nitrogen levels\",\"Vertex-wise sulcal depth\",\"Height\",\"Insomnia\",\"Insomnia [Female]\",\"Insomnia [Male]\",\"Red blood cell count\",\"Creatine kinase levels\",\"Hair color\",\"Vertical cup-disc ratio (multi-trait analysis)\",\"Ebbinghaus illusion (underestimation)\",\"Ebbinghaus illusion (overestimation)\",\"Peak expiratory flow\",\"Cognitive aspects of educational attainment\",\"Urinary albumin-to-creatinine ratio\",\"Non-albumin protein levels\",\"Brain morphology (min-P)\",\"Brain morphology (MOSTest)\",\"Weight\",\"Hemoglobin concentration\",\"Platelet-to-lymphocyte ratio\",\"Lung function (FEV1\\u002fFVC)\",\"Chronotype\",\"Body fat percentage\",\"Predicted visceral adipose tissue\",\"Cystatin C levels\",\"Alcohol consumption (drinks per week) (MTAG)\",\"Hemoglobin A1c levels\",\"Cigarettes smoked per day (MTAG)\",\"Cognitive ability (MTAG)\",\"Glucose levels\",\"Problematic alcohol use (MTAG)\",\"Electrocardiographic traits (multivariate)\",\"Walking pace\",\"Intraocular pressure\",\"Birth weight\",\"Serum albumin levels\",\"Mitochondrial DNA copy number\",\"Medication use (beta blocking agents)\",\"Relative age of first facial hair\",\"Cortical surface area\",\"Mean arterial pressure\",\"Height\",\"Depressive symptoms\",\"FEV1\",\"Calcium levels\",\"Cortical surface area (min-P)\",\"Cortical surface area (MOSTest)\",\"Neuroticism\",\"Daytime nap\",\"Offspring birth weight\",\"Body fat distribution (arm fat ratio)\",\"Body fat distribution (arm fat ratio) [females]\",\"Body fat distribution (arm fat ratio) [males]\",\"Body fat distribution (trunk fat ratio)\",\"Body fat distribution (trunk fat ratio) [females]\",\"Body fat distribution (leg fat ratio)\",\"Body fat distribution (leg fat ratio) [females]\",\"Body fat distribution (leg fat ratio) [males]\",\"Medication use (agents acting on the renin-angiotensin system)\",\"Well-being spectrum (multivariate analysis)\",\"Waist-hip ratio\",\"Diastolic blood pressure\",\"Optic disc size\",\"Serum total protein level\",\"Pulse pressure\",\"Balding type 1\",\"Macular thickness\",\"Lung function (FVC)\",\"Smoking initiation (ever regular vs never regular) (MTAG)\",\"Leisure sedentary behaviour (television watching)\",\"Leisure sedentary behaviour (computer use)\",\"Fat-free mass\",\"Fat-free mass [female]\",\"Fat-free mass [male]\",\"Pattern 1 | hair\\u002fbalding pattern\"],\"xaxis\":\"x\",\"y\":[3.7217267604218467,2.2085146890677216,2.041405643510129,1.9579074698952725,1.951044374896618,1.8241882621345995,1.770631114879941,1.7411687362188664,1.7396407250478436,1.690812274047095,1.4704408243467335,1.4080856632715508,1.3781939711216924,1.362419332776284,1.3544566479011757,1.293950511686175,1.2676997014487477,1.2465806849674252,1.235289025140926,1.2228005175729528,1.2190206992990031,1.1788678313002405,1.1715759157952723,1.1715759157952723,1.1715759157952723,1.0960185792798,1.0960185792798,1.089932436670235,1.081408859356079,1.0763721590611,1.0614065901361642,1.0603927068899206,1.0543677520671646,1.0543677520671646,1.0543677520671646,1.0466582514376923,1.0466582514376923,1.039055667545529,0.9948769861297059,0.9368956174689225,0.8957149324974121,0.8637679846524777,0.8452664993267902,0.8366442946177243,0.8354417249747166,0.830057667146352,0.7986863209335994,0.7986863209335994,0.7986863209335994,0.7986863209335994,0.7986863209335994,0.7778381118657756,0.7700892471688905,0.7538587782959907,0.7009324651239999,0.6858060349882722,0.6858060349882722,0.6858060349882722,0.6858060349882722,0.6858060349882722,0.6858060349882722,0.6722965519392787,0.6689813283020113,0.6638953266418268,0.6619668214461817,0.6610086091656856,0.654392438410845,0.640638795065622,0.6403037461058949,0.6091719286958492,0.600837303625428,0.600837303625428,0.600837303625428,0.5963300386704616,0.5736812309119169,0.5653713461456946,0.5653713461456946,0.5653713461456946,0.5653713461456946,0.5566285860294564,0.5548330211137795,0.5514954872964928,0.5334802559376316,0.5334802559376316,0.5274367733240749,0.515491225732224,0.5045863802829738,0.5045863802829738,0.49935154560093575,0.4956526120335892,0.49494905821834334,0.4868508020361554,0.47824070682724795,0.47824070682724795,0.4636762982214514,0.4600892798492229,0.4540872945230746,0.4540872945230746,0.4540872945230746,0.4540872945230746,0.4486929598029413,0.43860422944425476,0.43508264792163637,0.43183920744882176,0.43183920744882176,0.4226886062349129,0.42183298040970696,0.4112617574381072,0.4112617574381072,0.4112617574381072,0.3965082741419726,0.39216054376928067,0.37866922288358823,0.3743727308927516,0.3743727308927516,0.3743727308927516,0.3743727308927516,0.36853396665532223,0.36692770312074385,0.36692770312074385,0.3630272931324168,0.3597077572377868,0.3577605660432619,0.3526349764843956,0.350701631919816,0.3492060233978256,0.3492060233978256,0.3337719870563926,0.3324044468626262,0.32791804927934365,0.3223840999396732,0.3182603754386476,0.313881472009155,0.31099111723709444,0.31099111723709444,0.31099111723709444,0.31099111723709444,0.31099111723709444,0.31099111723709444,0.31099111723709444,0.31099111723709444,0.31099111723709444,0.31099111723709444,0.31099111723709444,0.31099111723709444,0.31099111723709444,0.31099111723709444,0.31099111723709444,0.31099111723709444,0.30094647091657867,0.2990368992538818,0.29112924527038014,0.28873726076138856,0.28873726076138856,0.283617791745582,0.28122117704673677,0.2755075976684138,0.2689807983234533,0.2689807983234533,0.2689807983234533,0.2620631246704594,0.25590531345049344,0.2497224463673653,0.24851737431910442,0.23303897622774877,0.23303897622774877,0.2293558929845921,0.22830122653499976,0.21936076994703263,0.21911582395486884,0.21532887408356802,0.21532887408356802,0.21144888509347357,0.20955441327659186,0.20358488099593702,0.19423713122424574,0.18879998488197744,0.18520757701463067,0.17846128470507308,0.17478411195789112,0.17020932699871788,0.16896430377360622,0.16398684807357408,0.15832900442230294,0.15797335147093647,0.15290185568138592,0.1476933221584665,0.1426921649960585,0.1395789604554925,0.13660210139221657,0.13108368101055365,0.12045367398727036,0.11649929760822468,0.10902438850595701,0.10091124656962411,0.10015316793185175,0.0996846480903241,0.09892653418685364,0.09800944980205051,0.08767177472054431,0.0813249739899602,0.0813249739899602,0.07935854138257471,0.07884166289335762,0.0716766439375091,0.06944754293925572,0.06944754293925572,0.06944754293925572,0.06944754293925572,0.06944754293925572,0.06944754293925572,0.06944754293925572,0.06944754293925572,0.06851903318601958,0.06524457716114158,0.0636561491019446,0.057272065497898976,0.052425291946877256,0.049282375921661604,0.048661096790555615,0.04394997493628287,0.04098735311041072,0.031902395595961704,0.029756060684797827,0.027621769328351052,0.027621769328351052,0.017092292615696322,0.017092292615696322,0.017092292615696322,0.011264564385345333],\"yaxis\":\"y\",\"type\":\"scatter\"}],                        {\"template\":{\"data\":{\"histogram2dcontour\":[{\"type\":\"histogram2dcontour\",\"colorbar\":{\"outlinewidth\":0,\"ticks\":\"\"},\"colorscale\":[[0.0,\"#0d0887\"],[0.1111111111111111,\"#46039f\"],[0.2222222222222222,\"#7201a8\"],[0.3333333333333333,\"#9c179e\"],[0.4444444444444444,\"#bd3786\"],[0.5555555555555556,\"#d8576b\"],[0.6666666666666666,\"#ed7953\"],[0.7777777777777778,\"#fb9f3a\"],[0.8888888888888888,\"#fdca26\"],[1.0,\"#f0f921\"]]}],\"choropleth\":[{\"type\":\"choropleth\",\"colorbar\":{\"outlinewidth\":0,\"ticks\":\"\"}}],\"histogram2d\":[{\"type\":\"histogram2d\",\"colorbar\":{\"outlinewidth\":0,\"ticks\":\"\"},\"colorscale\":[[0.0,\"#0d0887\"],[0.1111111111111111,\"#46039f\"],[0.2222222222222222,\"#7201a8\"],[0.3333333333333333,\"#9c179e\"],[0.4444444444444444,\"#bd3786\"],[0.5555555555555556,\"#d8576b\"],[0.6666666666666666,\"#ed7953\"],[0.7777777777777778,\"#fb9f3a\"],[0.8888888888888888,\"#fdca26\"],[1.0,\"#f0f921\"]]}],\"heatmap\":[{\"type\":\"heatmap\",\"colorbar\":{\"outlinewidth\":0,\"ticks\":\"\"},\"colorscale\":[[0.0,\"#0d0887\"],[0.1111111111111111,\"#46039f\"],[0.2222222222222222,\"#7201a8\"],[0.3333333333333333,\"#9c179e\"],[0.4444444444444444,\"#bd3786\"],[0.5555555555555556,\"#d8576b\"],[0.6666666666666666,\"#ed7953\"],[0.7777777777777778,\"#fb9f3a\"],[0.8888888888888888,\"#fdca26\"],[1.0,\"#f0f921\"]]}],\"heatmapgl\":[{\"type\":\"heatmapgl\",\"colorbar\":{\"outlinewidth\":0,\"ticks\":\"\"},\"colorscale\":[[0.0,\"#0d0887\"],[0.1111111111111111,\"#46039f\"],[0.2222222222222222,\"#7201a8\"],[0.3333333333333333,\"#9c179e\"],[0.4444444444444444,\"#bd3786\"],[0.5555555555555556,\"#d8576b\"],[0.6666666666666666,\"#ed7953\"],[0.7777777777777778,\"#fb9f3a\"],[0.8888888888888888,\"#fdca26\"],[1.0,\"#f0f921\"]]}],\"contourcarpet\":[{\"type\":\"contourcarpet\",\"colorbar\":{\"outlinewidth\":0,\"ticks\":\"\"}}],\"contour\":[{\"type\":\"contour\",\"colorbar\":{\"outlinewidth\":0,\"ticks\":\"\"},\"colorscale\":[[0.0,\"#0d0887\"],[0.1111111111111111,\"#46039f\"],[0.2222222222222222,\"#7201a8\"],[0.3333333333333333,\"#9c179e\"],[0.4444444444444444,\"#bd3786\"],[0.5555555555555556,\"#d8576b\"],[0.6666666666666666,\"#ed7953\"],[0.7777777777777778,\"#fb9f3a\"],[0.8888888888888888,\"#fdca26\"],[1.0,\"#f0f921\"]]}],\"surface\":[{\"type\":\"surface\",\"colorbar\":{\"outlinewidth\":0,\"ticks\":\"\"},\"colorscale\":[[0.0,\"#0d0887\"],[0.1111111111111111,\"#46039f\"],[0.2222222222222222,\"#7201a8\"],[0.3333333333333333,\"#9c179e\"],[0.4444444444444444,\"#bd3786\"],[0.5555555555555556,\"#d8576b\"],[0.6666666666666666,\"#ed7953\"],[0.7777777777777778,\"#fb9f3a\"],[0.8888888888888888,\"#fdca26\"],[1.0,\"#f0f921\"]]}],\"mesh3d\":[{\"type\":\"mesh3d\",\"colorbar\":{\"outlinewidth\":0,\"ticks\":\"\"}}],\"scatter\":[{\"fillpattern\":{\"fillmode\":\"overlay\",\"size\":10,\"solidity\":0.2},\"type\":\"scatter\"}],\"parcoords\":[{\"type\":\"parcoords\",\"line\":{\"colorbar\":{\"outlinewidth\":0,\"ticks\":\"\"}}}],\"scatterpolargl\":[{\"type\":\"scatterpolargl\",\"marker\":{\"colorbar\":{\"outlinewidth\":0,\"ticks\":\"\"}}}],\"bar\":[{\"error_x\":{\"color\":\"#2a3f5f\"},\"error_y\":{\"color\":\"#2a3f5f\"},\"marker\":{\"line\":{\"color\":\"#E5ECF6\",\"width\":0.5},\"pattern\":{\"fillmode\":\"overlay\",\"size\":10,\"solidity\":0.2}},\"type\":\"bar\"}],\"scattergeo\":[{\"type\":\"scattergeo\",\"marker\":{\"colorbar\":{\"outlinewidth\":0,\"ticks\":\"\"}}}],\"scatterpolar\":[{\"type\":\"scatterpolar\",\"marker\":{\"colorbar\":{\"outlinewidth\":0,\"ticks\":\"\"}}}],\"histogram\":[{\"marker\":{\"pattern\":{\"fillmode\":\"overlay\",\"size\":10,\"solidity\":0.2}},\"type\":\"histogram\"}],\"scattergl\":[{\"type\":\"scattergl\",\"marker\":{\"colorbar\":{\"outlinewidth\":0,\"ticks\":\"\"}}}],\"scatter3d\":[{\"type\":\"scatter3d\",\"line\":{\"colorbar\":{\"outlinewidth\":0,\"ticks\":\"\"}},\"marker\":{\"colorbar\":{\"outlinewidth\":0,\"ticks\":\"\"}}}],\"scattermapbox\":[{\"type\":\"scattermapbox\",\"marker\":{\"colorbar\":{\"outlinewidth\":0,\"ticks\":\"\"}}}],\"scatterternary\":[{\"type\":\"scatterternary\",\"marker\":{\"colorbar\":{\"outlinewidth\":0,\"ticks\":\"\"}}}],\"scattercarpet\":[{\"type\":\"scattercarpet\",\"marker\":{\"colorbar\":{\"outlinewidth\":0,\"ticks\":\"\"}}}],\"carpet\":[{\"aaxis\":{\"endlinecolor\":\"#2a3f5f\",\"gridcolor\":\"white\",\"linecolor\":\"white\",\"minorgridcolor\":\"white\",\"startlinecolor\":\"#2a3f5f\"},\"baxis\":{\"endlinecolor\":\"#2a3f5f\",\"gridcolor\":\"white\",\"linecolor\":\"white\",\"minorgridcolor\":\"white\",\"startlinecolor\":\"#2a3f5f\"},\"type\":\"carpet\"}],\"table\":[{\"cells\":{\"fill\":{\"color\":\"#EBF0F8\"},\"line\":{\"color\":\"white\"}},\"header\":{\"fill\":{\"color\":\"#C8D4E3\"},\"line\":{\"color\":\"white\"}},\"type\":\"table\"}],\"barpolar\":[{\"marker\":{\"line\":{\"color\":\"#E5ECF6\",\"width\":0.5},\"pattern\":{\"fillmode\":\"overlay\",\"size\":10,\"solidity\":0.2}},\"type\":\"barpolar\"}],\"pie\":[{\"automargin\":true,\"type\":\"pie\"}]},\"layout\":{\"autotypenumbers\":\"strict\",\"colorway\":[\"#636efa\",\"#EF553B\",\"#00cc96\",\"#ab63fa\",\"#FFA15A\",\"#19d3f3\",\"#FF6692\",\"#B6E880\",\"#FF97FF\",\"#FECB52\"],\"font\":{\"color\":\"#2a3f5f\"},\"hovermode\":\"closest\",\"hoverlabel\":{\"align\":\"left\"},\"paper_bgcolor\":\"white\",\"plot_bgcolor\":\"#E5ECF6\",\"polar\":{\"bgcolor\":\"#E5ECF6\",\"angularaxis\":{\"gridcolor\":\"white\",\"linecolor\":\"white\",\"ticks\":\"\"},\"radialaxis\":{\"gridcolor\":\"white\",\"linecolor\":\"white\",\"ticks\":\"\"}},\"ternary\":{\"bgcolor\":\"#E5ECF6\",\"aaxis\":{\"gridcolor\":\"white\",\"linecolor\":\"white\",\"ticks\":\"\"},\"baxis\":{\"gridcolor\":\"white\",\"linecolor\":\"white\",\"ticks\":\"\"},\"caxis\":{\"gridcolor\":\"white\",\"linecolor\":\"white\",\"ticks\":\"\"}},\"coloraxis\":{\"colorbar\":{\"outlinewidth\":0,\"ticks\":\"\"}},\"colorscale\":{\"sequential\":[[0.0,\"#0d0887\"],[0.1111111111111111,\"#46039f\"],[0.2222222222222222,\"#7201a8\"],[0.3333333333333333,\"#9c179e\"],[0.4444444444444444,\"#bd3786\"],[0.5555555555555556,\"#d8576b\"],[0.6666666666666666,\"#ed7953\"],[0.7777777777777778,\"#fb9f3a\"],[0.8888888888888888,\"#fdca26\"],[1.0,\"#f0f921\"]],\"sequentialminus\":[[0.0,\"#0d0887\"],[0.1111111111111111,\"#46039f\"],[0.2222222222222222,\"#7201a8\"],[0.3333333333333333,\"#9c179e\"],[0.4444444444444444,\"#bd3786\"],[0.5555555555555556,\"#d8576b\"],[0.6666666666666666,\"#ed7953\"],[0.7777777777777778,\"#fb9f3a\"],[0.8888888888888888,\"#fdca26\"],[1.0,\"#f0f921\"]],\"diverging\":[[0,\"#8e0152\"],[0.1,\"#c51b7d\"],[0.2,\"#de77ae\"],[0.3,\"#f1b6da\"],[0.4,\"#fde0ef\"],[0.5,\"#f7f7f7\"],[0.6,\"#e6f5d0\"],[0.7,\"#b8e186\"],[0.8,\"#7fbc41\"],[0.9,\"#4d9221\"],[1,\"#276419\"]]},\"xaxis\":{\"gridcolor\":\"white\",\"linecolor\":\"white\",\"ticks\":\"\",\"title\":{\"standoff\":15},\"zerolinecolor\":\"white\",\"automargin\":true,\"zerolinewidth\":2},\"yaxis\":{\"gridcolor\":\"white\",\"linecolor\":\"white\",\"ticks\":\"\",\"title\":{\"standoff\":15},\"zerolinecolor\":\"white\",\"automargin\":true,\"zerolinewidth\":2},\"scene\":{\"xaxis\":{\"backgroundcolor\":\"#E5ECF6\",\"gridcolor\":\"white\",\"linecolor\":\"white\",\"showbackground\":true,\"ticks\":\"\",\"zerolinecolor\":\"white\",\"gridwidth\":2},\"yaxis\":{\"backgroundcolor\":\"#E5ECF6\",\"gridcolor\":\"white\",\"linecolor\":\"white\",\"showbackground\":true,\"ticks\":\"\",\"zerolinecolor\":\"white\",\"gridwidth\":2},\"zaxis\":{\"backgroundcolor\":\"#E5ECF6\",\"gridcolor\":\"white\",\"linecolor\":\"white\",\"showbackground\":true,\"ticks\":\"\",\"zerolinecolor\":\"white\",\"gridwidth\":2}},\"shapedefaults\":{\"line\":{\"color\":\"#2a3f5f\"}},\"annotationdefaults\":{\"arrowcolor\":\"#2a3f5f\",\"arrowhead\":0,\"arrowwidth\":1},\"geo\":{\"bgcolor\":\"white\",\"landcolor\":\"#E5ECF6\",\"subunitcolor\":\"white\",\"showland\":true,\"showlakes\":true,\"lakecolor\":\"white\"},\"title\":{\"x\":0.05},\"mapbox\":{\"style\":\"light\"}}},\"xaxis\":{\"anchor\":\"y\",\"domain\":[0.0,1.0],\"title\":{\"text\":\"trait_reported\"},\"tickfont\":{\"size\":4}},\"yaxis\":{\"anchor\":\"x\",\"domain\":[0.0,1.0],\"title\":{\"text\":\"-log10(p-value)\"},\"tickformat\":\".1f\"},\"legend\":{\"title\":{\"text\":\"trait_category\"},\"tracegroupgap\":0},\"title\":{\"text\":\"Endothelial Cell Programs x GWAS Continuous Outcome Enrichments\"},\"width\":1000,\"height\":800,\"shapes\":[{\"line\":{\"dash\":\"dash\"},\"type\":\"line\",\"x0\":0,\"x1\":1,\"xref\":\"x domain\",\"y0\":1.3010299956639813,\"y1\":1.3010299956639813,\"yref\":\"y\"}],\"annotations\":[{\"showarrow\":false,\"text\":\"Significance Threshold (0.05)\",\"x\":1,\"xanchor\":\"right\",\"xref\":\"x domain\",\"y\":1.3010299956639813,\"yanchor\":\"bottom\",\"yref\":\"y\"}]},                        {\"responsive\": true}                    ).then(function(){\n",
       "                            \n",
       "var gd = document.getElementById('396e4f2a-9fe3-44ba-9936-870a7a9fa7c6');\n",
       "var x = new MutationObserver(function (mutations, observer) {{\n",
       "        var display = window.getComputedStyle(gd).display;\n",
       "        if (!display || display === 'none') {{\n",
       "            console.log([gd, 'removed!']);\n",
       "            Plotly.purge(gd);\n",
       "            observer.disconnect();\n",
       "        }}\n",
       "}});\n",
       "\n",
       "// Listen for the removal of the full notebook cells\n",
       "var notebookContainer = gd.closest('#notebook-container');\n",
       "if (notebookContainer) {{\n",
       "    x.observe(notebookContainer, {childList: true});\n",
       "}}\n",
       "\n",
       "// Listen for the clearing of the current output cell\n",
       "var outputEl = gd.closest('.output');\n",
       "if (outputEl) {{\n",
       "    x.observe(outputEl, {childList: true});\n",
       "}}\n",
       "\n",
       "                        })                };                });            </script>        </div>"
      ]
     },
     "metadata": {},
     "output_type": "display_data"
    }
   ],
   "source": [
    "plot_interactive_phewas(data=data,\n",
    "                        title=\"Endothelial Cell Programs x GWAS Continuous Outcome Enrichments\",\n",
    "                       query_string=\"trait_category == 'measurement'\")"
   ]
  }
 ],
 "metadata": {
  "kernelspec": {
   "display_name": "evaluation",
   "language": "python",
   "name": "python3"
  },
  "language_info": {
   "codemirror_mode": {
    "name": "ipython",
    "version": 3
   },
   "file_extension": ".py",
   "mimetype": "text/x-python",
   "name": "python",
   "nbconvert_exporter": "python",
   "pygments_lexer": "ipython3",
   "version": "3.9.18"
  }
 },
 "nbformat": 4,
 "nbformat_minor": 5
}
