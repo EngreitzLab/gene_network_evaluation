{
 "cells": [
  {
   "cell_type": "code",
   "execution_count": 1,
   "id": "68b70e4d",
   "metadata": {},
   "outputs": [],
   "source": [
    "import pandas as pd\n",
    "import numpy as np\n",
    "import mudata\n",
    "import plotly.express as px\n",
    "from ipywidgets import interact, Dropdown, Output, VBox\n",
    "\n",
    "import pandas as pd\n",
    "import numpy as np\n",
    "\n",
    "def process_enrichment_data(enrich_res,\n",
    "                            metadata,\n",
    "                            pval_col=\"P-value\",\n",
    "                            enrich_geneset_id_col=\"Term\",\n",
    "                            metadata_geneset_id_col=\"trait_efos\",\n",
    "                            color_category_col=\"trait_category\",\n",
    "                            program_name_col=\"program_name\",\n",
    "                            annotation_cols=[\"trait_reported\", \"Genes\", \"study_id\", \"pmid\"]):\n",
    "\n",
    "    # Read in enrichment results\n",
    "    if isinstance(enrich_res, str):\n",
    "        enrich_df = pd.read_csv(enrich_res)\n",
    "    elif isinstance(enrich_res, pd.DataFrame):\n",
    "        enrich_df = enrich_res\n",
    "    else:\n",
    "        raise ValueError(\"enrich_res must be either a pandas DataFrame or a file path to a CSV file.\")\n",
    "\n",
    "    if isinstance(metadata, str):\n",
    "        metadata_df = pd.read_csv(metadata, compression='gzip', low_memory=False)\n",
    "    elif isinstance(metadata, pd.DataFrame):\n",
    "        metadata_df = metadata\n",
    "    else:\n",
    "        raise ValueError(\"metadata must be either a pandas DataFrame or a file path to a CSV file.\")\n",
    "\n",
    "    # Join the enrichment results and the metadata\n",
    "    enrich_ps = enrich_df.merge(metadata_df, left_on=enrich_geneset_id_col, right_on=metadata_geneset_id_col, how=\"left\")\n",
    "\n",
    "    # Only keep the relevant columns\n",
    "    keep_cols = list([enrich_geneset_id_col, pval_col, metadata_geneset_id_col, color_category_col, program_name_col] + annotation_cols)\n",
    "    enrich_ps = enrich_ps[keep_cols]\n",
    "\n",
    "    # Sort by P-value\n",
    "    enrich_ps = enrich_ps.drop_duplicates().sort_values(by=[color_category_col, pval_col])\n",
    "\n",
    "    # If the input P-value == 0, then replace it with the lowest non-zero P-value in the dataframe\n",
    "    min_value = enrich_ps.query(f\"`{pval_col}` > 0\")[pval_col].min()\n",
    "\n",
    "    # Compute the -log(10) P-value and deal with edge-cases (e.g. P=0, P=1)\n",
    "    enrich_ps.loc[enrich_ps[pval_col] == 0, pval_col] = min_value  # Replace P=0 with min non-0 p-value\n",
    "    enrich_ps['-log10(p-value)'] = abs(-1 * np.log10(enrich_ps[pval_col]))\n",
    "\n",
    "    enrich_ps.reset_index(drop=True, inplace=True)\n",
    "\n",
    "    return enrich_ps\n",
    "\n",
    "\n",
    "def plot_interactive_phewas(data, x_column='trait_reported',\n",
    "                            y_column='-log10(p-value)',\n",
    "                            color_column='trait_category',\n",
    "                            filter_column='program_name',\n",
    "                            significance_threshold=0.05,\n",
    "                            annotation_cols=[\"program_name\", \"trait_reported\",\n",
    "                                             \"trait_category\", \"P-value\",\n",
    "                                             \"Genes\", \"study_id\", \"pmid\"],\n",
    "                           query_string=\"trait_category != 'measurement'\",\n",
    "                           title=\"Cell Program x OpenTargets GWAS L2G Enrichment\"):\n",
    "    \n",
    "    # Get unique values for the filtering column\n",
    "    filter_values = ['All'] + list(data[filter_column].unique())\n",
    "\n",
    "    # Initialize output widget to display the plot\n",
    "    output = Output()\n",
    "    \n",
    "    if query_string:\n",
    "        data=data.query(query_string)\n",
    "\n",
    "    # Function to update plot based on dropdown selection\n",
    "    def update_plot(selected_value):\n",
    "        # Filter data based on selected value\n",
    "        if selected_value == \"All\":\n",
    "            filtered_data = data.copy()  # No selection, show all data\n",
    "        else:\n",
    "            filtered_data = data[data[filter_column] == selected_value]\n",
    "\n",
    "        # Create the plot\n",
    "        fig = px.scatter(filtered_data, x=x_column, y=y_column, color=color_column,\n",
    "                         title=title,\n",
    "                         hover_data=annotation_cols)\n",
    "\n",
    "        # Customize layout\n",
    "        fig.update_layout(\n",
    "            xaxis_title=x_column,\n",
    "            yaxis_title=y_column,\n",
    "            yaxis=dict(tickformat=\".1f\"),\n",
    "            width=1000,  # Adjust width as needed\n",
    "            height=800,  # Adjust height as needed,\n",
    "            xaxis_tickfont=dict(size=4)\n",
    "        )\n",
    "\n",
    "        # Add horizontal dashed line for significance threshold\n",
    "        fig.add_hline(y=-np.log10(significance_threshold), line_dash=\"dash\",\n",
    "                      annotation_text=f'Significance Threshold ({significance_threshold})', annotation_position=\"top right\")\n",
    "\n",
    "        # Clear previous plot and display the new one\n",
    "        with output:\n",
    "            output.clear_output(wait=True)\n",
    "            fig.show()\n",
    "\n",
    "    # Create dropdown widget\n",
    "    dropdown = Dropdown(options=filter_values, description=f\"{filter_column}:\")\n",
    "\n",
    "    # Define function to handle dropdown value change\n",
    "    def on_change(change):\n",
    "        if change['type'] == 'change' and change['name'] == 'value':\n",
    "            update_plot(change['new'])\n",
    "\n",
    "    # Link dropdown change to function\n",
    "    dropdown.observe(on_change)\n",
    "\n",
    "    # Display dropdown widget and initial plot\n",
    "    display(VBox([dropdown, output]))"
   ]
  },
  {
   "cell_type": "code",
   "execution_count": 2,
   "id": "cd63c378",
   "metadata": {},
   "outputs": [],
   "source": [
    "import os\n",
    "current_directory = os.getcwd()\n",
    "os.chdir(current_directory)\n",
    "\n",
    "enrich_res=\"dashapp/example_data/OpenTargets_L2G_Cell_Program_Enrichment_Results.csv\"\n",
    "metadata=\"../../smk/resources/OpenTargets_L2G_Filtered.csv.gz\"\n",
    "\n",
    "data=process_enrichment_data(\n",
    "    enrich_res=enrich_res,\n",
    "    metadata=metadata)\n",
    "\n",
    "data.to_csv('dashapp/example_data/cNMF_enrichment_trait_processed.txt', sep='\\t')"
   ]
  },
  {
   "cell_type": "markdown",
   "id": "a31fb60c",
   "metadata": {},
   "source": [
    "## Plot Binary GWAS Outcomes"
   ]
  },
  {
   "cell_type": "code",
   "execution_count": 3,
   "id": "5271013d",
   "metadata": {
    "scrolled": true
   },
   "outputs": [
    {
     "data": {
      "application/vnd.jupyter.widget-view+json": {
       "model_id": "afda9e831d134913aebc1528b6cc9a55",
       "version_major": 2,
       "version_minor": 0
      },
      "text/plain": [
       "VBox(children=(Dropdown(description='program_name:', options=('All', 36, 19, 8, 28, 35, 21, 41, 1, 2, 47, 34, …"
      ]
     },
     "metadata": {},
     "output_type": "display_data"
    },
    {
     "data": {
      "application/vnd.plotly.v1+json": {
       "config": {
        "plotlyServerURL": "https://plot.ly"
       },
       "data": [
        {
         "customdata": [
          [
           18,
           "biological process",
           0.0517002506856195,
           "MAFB;HHEX;CDKN2B;TRIB1;VEGFA",
           "FINNGEN_R6_RX_STATIN",
           null
          ],
          [
           18,
           "biological process",
           0.2520727709470829,
           "ADAMTS9;CYLD;KMT2E;CDH4",
           "GCST006269",
           "PMID:29844566"
          ],
          [
           18,
           "biological process",
           0.3708330307552693,
           "PDE4B;SORL1;IGFBPL1;KLF7",
           "GCST007327",
           "PMID:30643258"
          ],
          [
           18,
           "biological process",
           0.4912323207922931,
           "PDE4B;CHRNA3",
           "GCST007464",
           "PMID:30643251"
          ],
          [
           18,
           "biological process",
           0.8563981989189287,
           "NSUN2;PYY;DENND6A",
           "GCST006660",
           "PMID:30348214"
          ],
          [
           18,
           "biological process",
           0.9599537180657608,
           "PDE4B",
           "GCST007462",
           "PMID:30643251"
          ],
          [
           18,
           "biological process",
           0.9602043712249744,
           "CYLD;CD34",
           "GCST007325",
           "PMID:30643258"
          ],
          [
           18,
           "biological process",
           0.9953942207917552,
           "CYLD;MARCKS;CDH4;PTPN1;ZNF385D;CTTNBP2NL;PRRC2C;PDE4B;MEIS2",
           "GCST006568",
           "PMID:30038396"
          ]
         ],
         "hovertemplate": "trait_category=%{customdata[1]}<br>trait_reported=%{x}<br>-log10(p-value)=%{y}<br>program_name=%{customdata[0]}<br>P-value=%{customdata[2]}<br>Genes=%{customdata[3]}<br>study_id=%{customdata[4]}<br>pmid=%{customdata[5]}<extra></extra>",
         "legendgroup": "biological process",
         "marker": {
          "color": "#636efa",
          "symbol": "circle"
         },
         "mode": "markers",
         "name": "biological process",
         "orientation": "v",
         "showlegend": true,
         "type": "scatter",
         "x": [
          "Statin medication",
          "General cognitive ability",
          "Smoking status (ever vs never smokers)",
          "Smoking cessation (MTAG)",
          "DNA methylation variation (age effect)",
          "Age of smoking initiation (MTAG)",
          "General risk tolerance (MTAG)",
          "Highest math class taken (MTAG) [MTAG]"
         ],
         "xaxis": "x",
         "y": [
          1.2865073510817384,
          0.5984740645421232,
          0.43082158942544513,
          0.3087130663783759,
          0.0673242547363023,
          0.01774970495332866,
          0.01763632128440732,
          0.0020048850763603283
         ],
         "yaxis": "y"
        },
        {
         "customdata": [
          [
           18,
           "cardiovascular disease",
           0.000618417215264,
           "ATP2B1;SMAD3;PLPP3;LIPA;AHDC1;PHACTR1;CDKN2B;TRIB1",
           "GCST011365",
           "PMID:33532862"
          ],
          [
           18,
           "cardiovascular disease",
           0.0014120536942337,
           "FGD6;SMAD3;PLPP3;LIPA;PHACTR1;CDKN2B;VEGFA",
           "GCST005195",
           "PMID:29212778"
          ],
          [
           18,
           "cardiovascular disease",
           0.0077843699055717,
           "FGD6;CDKN2B;ATP2B1",
           "GCST011021",
           "PMID:33199917"
          ],
          [
           18,
           "cardiovascular disease",
           0.0196884964512251,
           "IL6;CDKN2B;CHRNA3",
           "GCST008474",
           "PMID:31285632"
          ],
          [
           18,
           "cardiovascular disease",
           0.026265204635174,
           "LIPA;TRIB1",
           "GCST011496",
           "PMID:32981348"
          ],
          [
           18,
           "cardiovascular disease",
           0.029585160555772,
           "HIVEP2;ATP2B1;PLPP3;NFKBIA;MAFB;IRF1;CMIP;ZFP91;SLC4A7;TRIB1;VEGFA",
           "GCST007072",
           "PMID:30595370"
          ],
          [
           18,
           "cardiovascular disease",
           0.0623134812013288,
           "PHACTR1;CDKN2B;TRIB1",
           "FINNGEN_R6_I9_CORATHER",
           null
          ],
          [
           18,
           "cardiovascular disease",
           0.196756731511739,
           "PHACTR1;CDKN2B",
           "FINNGEN_R6_I9_IHD",
           null
          ],
          [
           18,
           "cardiovascular disease",
           0.2834112308206127,
           "CDKN2B",
           "GCST009541",
           "PMID:31919418"
          ],
          [
           18,
           "cardiovascular disease",
           0.2834112308206127,
           "PHACTR1",
           "GCST011062",
           "PMID:32632093"
          ],
          [
           18,
           "cardiovascular disease",
           0.3516442816804437,
           "PHACTR1",
           "GCST011063",
           "PMID:32632093"
          ],
          [
           18,
           "cardiovascular disease",
           0.3934975251317255,
           "CDKN2B",
           "GCST005838",
           "PMID:29531354"
          ],
          [
           18,
           "cardiovascular disease",
           0.51989202325866,
           "NR3C1",
           "FINNGEN_R6_CARDIAC_ARRHYTM",
           null
          ],
          [
           18,
           "cardiovascular disease",
           0.6071119898858256,
           "PHACTR1",
           "GCST003720",
           "PMID:27322543"
          ],
          [
           18,
           "cardiovascular disease",
           0.6421088873740798,
           "CDKN2B;SMAD3",
           "GCST90014033",
           "PMID:33888516"
          ],
          [
           18,
           "cardiovascular disease",
           0.7494973136787136,
           "SORL1;NR3C1",
           "GCST006061",
           "PMID:29892015"
          ],
          [
           18,
           "cardiovascular disease",
           0.7919896026634753,
           "ATP2B1",
           "FINNGEN_R6_RX_ANTIHYP",
           null
          ]
         ],
         "hovertemplate": "trait_category=%{customdata[1]}<br>trait_reported=%{x}<br>-log10(p-value)=%{y}<br>program_name=%{customdata[0]}<br>P-value=%{customdata[2]}<br>Genes=%{customdata[3]}<br>study_id=%{customdata[4]}<br>pmid=%{customdata[5]}<extra></extra>",
         "legendgroup": "cardiovascular disease",
         "marker": {
          "color": "#EF553B",
          "symbol": "circle"
         },
         "mode": "markers",
         "name": "cardiovascular disease",
         "orientation": "v",
         "showlegend": true,
         "type": "scatter",
         "x": [
          "Myocardial infarction",
          "Coronary artery disease",
          "Intracranial aneurysm",
          "Peripheral artery disease",
          "Abdominal aortic aneurysm",
          "Cardiovascular disease",
          "Coronary atherosclerosis",
          "Ischaemic heart disease, wide definition",
          "Heart failure",
          "Migraine and/or pulse pressure",
          "Migraine and/or systolic blood pressure",
          "Stroke",
          "Cardiac arrhytmias",
          "Migraine",
          "Haemorrhoidal disease",
          "Atrial fibrillation",
          "Antihypertensive medication - note that there are other indications"
         ],
         "xaxis": "x",
         "y": [
          3.2087184291963053,
          2.8501487886482106,
          2.1087765350043965,
          1.7057874483041726,
          1.5806192112103619,
          1.528926069506908,
          1.2054179857971437,
          0.7060704004764284,
          0.5475829438317577,
          0.5475829438317577,
          0.45389644054211864,
          0.40505799475349363,
          0.2840868459273045,
          0.21673119013836004,
          0.19239131900920203,
          0.12522991939555767,
          0.10128051984424273
         ],
         "yaxis": "y"
        },
        {
         "customdata": [
          [
           18,
           "cell proliferation disorder",
           0.0742625671495737,
           "ARRDC3;NRIP1;FILIP1L;SLC4A7;MYC;CITED4",
           "GCST90090980",
           "PMID:32139696"
          ],
          [
           18,
           "cell proliferation disorder",
           0.0848134479389961,
           "SMAD3;BMP2",
           "SAIGE_208",
           null
          ],
          [
           18,
           "cell proliferation disorder",
           0.0884283074113421,
           "ATP2B1;RAB29;ZNF827;CDKN2B;SLC25A37;ETS2;KLF7;VEGFA",
           "GCST011049",
           "PMID:33398198"
          ],
          [
           18,
           "cell proliferation disorder",
           0.1247519532286911,
           "CHRNA3",
           "GCST004750",
           "PMID:28604730"
          ],
          [
           18,
           "cell proliferation disorder",
           0.1534373244521871,
           "SMAD3",
           "GCST004144",
           "PMID:28195142"
          ],
          [
           18,
           "cell proliferation disorder",
           0.1811861993554195,
           "CDKN2B",
           "GCST004349",
           "PMID:28346443"
          ],
          [
           18,
           "cell proliferation disorder",
           0.1811861993554195,
           "CDKN2B",
           "GCST004347",
           "PMID:28346443"
          ],
          [
           18,
           "cell proliferation disorder",
           0.2339952943130036,
           "ANKRD33B",
           "FINNGEN_R6_L12_ACTINKERA",
           null
          ],
          [
           18,
           "cell proliferation disorder",
           0.250853386071792,
           "CDKN2B;FOXC2;BMP2",
           "GCST007992",
           "PMID:31089142"
          ],
          [
           18,
           "cell proliferation disorder",
           0.2591134968866853,
           "ELL2",
           "GCST004483",
           "PMID:27363682"
          ],
          [
           18,
           "cell proliferation disorder",
           0.2591134968866853,
           "BAZ1A",
           "GCST008834",
           "PMID:31326317"
          ],
          [
           18,
           "cell proliferation disorder",
           0.2591134968866853,
           "BAZ1A",
           "GCST012199",
           "PMID:32889700"
          ],
          [
           18,
           "cell proliferation disorder",
           0.2591134968866853,
           "NRIP1",
           "FINNGEN_R6_C3_BREAST_HERPLUS",
           null
          ],
          [
           18,
           "cell proliferation disorder",
           0.2591134968866853,
           "NRIP1",
           "FINNGEN_R6_C3_BREAST_HERPLUS_EXALLC",
           null
          ],
          [
           18,
           "cell proliferation disorder",
           0.2591134968866853,
           "DMRTA1",
           "GCST006464",
           "PMID:30093612"
          ],
          [
           18,
           "cell proliferation disorder",
           0.282249604281732,
           "CDKN2B;TICAM1",
           "GCST90018921",
           "PMID:34594039"
          ],
          [
           18,
           "cell proliferation disorder",
           0.3189149066067657,
           "CDKN2B;TICAM1",
           "GCST90027058",
           "PMID:34290314"
          ],
          [
           18,
           "cell proliferation disorder",
           0.3296512111811371,
           "BAZ1A",
           "GCST008836_2",
           "PMID:31326317"
          ],
          [
           18,
           "cell proliferation disorder",
           0.3296512111811371,
           "BAZ1A",
           "GCST012201",
           "PMID:32889700"
          ],
          [
           18,
           "cell proliferation disorder",
           0.3729185866522101,
           "NRIP1",
           "FINNGEN_R6_C3_BREAST",
           null
          ],
          [
           18,
           "cell proliferation disorder",
           0.3934975251317255,
           "TSLP",
           "GCST90018883",
           "PMID:34594039"
          ],
          [
           18,
           "cell proliferation disorder",
           0.4326591294068168,
           "NRIP1",
           "FINNGEN_R6_C3_BREAST_HER2NEG",
           null
          ],
          [
           18,
           "cell proliferation disorder",
           0.4512848966620099,
           "CDKN2B",
           "GCST90027051",
           "PMID:34290314"
          ],
          [
           18,
           "cell proliferation disorder",
           0.4697585982199461,
           "CDKN2B;TICAM1",
           "GCST008870",
           "PMID:31174203"
          ],
          [
           18,
           "cell proliferation disorder",
           0.5035862232063116,
           "GJC1",
           "FINNGEN_R6_C3_MALE_GENITAL",
           null
          ],
          [
           18,
           "cell proliferation disorder",
           0.5035862232063116,
           "GJC1",
           "FINNGEN_R6_C3_MALE_GENITAL_EXALLC",
           null
          ],
          [
           18,
           "cell proliferation disorder",
           0.5121529233797599,
           "CDKN2B;TICAM1",
           "GCST008871",
           "PMID:31174203"
          ],
          [
           18,
           "cell proliferation disorder",
           0.51989202325866,
           "MAFB",
           "SAIGE_728_71",
           null
          ],
          [
           18,
           "cell proliferation disorder",
           0.5356642958191504,
           "SMAD3",
           "GCST90018827",
           "PMID:34594039"
          ],
          [
           18,
           "cell proliferation disorder",
           0.593757536788811,
           "ARL14EP",
           "GCST90018934",
           "PMID:34594039"
          ],
          [
           18,
           "cell proliferation disorder",
           0.593757536788811,
           "CDKN2B",
           "SAIGE_172_2",
           null
          ],
          [
           18,
           "cell proliferation disorder",
           0.6071119898858256,
           "CDKN2B",
           "GCST004146",
           "PMID:28165464"
          ],
          [
           18,
           "cell proliferation disorder",
           0.6071119898858256,
           "ETS1",
           "GCST90061442",
           "PMID:34033851"
          ],
          [
           18,
           "cell proliferation disorder",
           0.7370224307541164,
           "CDKN2B",
           "GCST010304",
           "PMID:32341527"
          ]
         ],
         "hovertemplate": "trait_category=%{customdata[1]}<br>trait_reported=%{x}<br>-log10(p-value)=%{y}<br>program_name=%{customdata[0]}<br>P-value=%{customdata[2]}<br>Genes=%{customdata[3]}<br>study_id=%{customdata[4]}<br>pmid=%{customdata[5]}<extra></extra>",
         "legendgroup": "cell proliferation disorder",
         "marker": {
          "color": "#00cc96",
          "symbol": "circle"
         },
         "mode": "markers",
         "name": "cell proliferation disorder",
         "orientation": "v",
         "showlegend": true,
         "type": "scatter",
         "x": [
          "Breast cancer",
          "Benign neoplasm of colon",
          "Prostate cancer",
          "Squamous cell lung carcinoma",
          "Thyroid cancer",
          "Glioblastoma",
          "Glioma",
          "Actinic keratosis",
          "Colorectal cancer",
          "Multiple myeloma",
          "Non-small cell lung cancer",
          "Non-small cell lung cancer",
          "Malignant neoplasm of breast, HER-positive",
          "Malignant neoplasm of breast, HER-positive (controls excluding all cancers)",
          "Endometrial cancer",
          "Skin cancer",
          "Non-melanoma skin cancer",
          "Lung adenocarcinoma [East Asian]",
          "Lung adenocarcinoma",
          "Malignant neoplasm of breast",
          "Nasal polyps",
          "Malignant neoplasm of breast, HER2-negative",
          "Cancer",
          "Keratinocyte cancer (MTAG)",
          "malignant neoplasm of male genital organs",
          "malignant neoplasm of male genital organs (controls excluding all cancers)",
          "Basal cell carcinoma",
          "Contracture of palmar fascia [dupuytren's disease]",
          "Colon polyp",
          "Uterine fibroids",
          "Other non-epithelial cancer of skin",
          "Chronic lymphocytic leukemia",
          "Primary biliary cholangitis",
          "Cutaneous malignant melanoma"
         ],
         "xaxis": "x",
         "y": [
          1.1292300419180523,
          1.0715352809667165,
          1.0534086876496784,
          0.9039526459466428,
          0.8140689830734511,
          0.7418748848713539,
          0.7418748848713539,
          0.630792876241332,
          0.6005800323983599,
          0.5865099645875235,
          0.5865099645875235,
          0.5865099645875235,
          0.5865099645875235,
          0.5865099645875235,
          0.5865099645875235,
          0.5493666582900827,
          0.4963251806449037,
          0.4819453242633147,
          0.4819453242633147,
          0.42838597040826076,
          0.40505799475349363,
          0.3638541279383794,
          0.34554920094940333,
          0.3281252620516997,
          0.2979261595556733,
          0.2979261595556733,
          0.2906003439777339,
          0.2840868459273045,
          0.2711073001372868,
          0.22639086466809943,
          0.22639086466809943,
          0.21673119013836004,
          0.21673119013836004,
          0.13251929449576863
         ],
         "yaxis": "y"
        },
        {
         "customdata": [
          [
           18,
           "disease of visual system",
           0.0483716187832906,
           "AFAP1;CDKN2B",
           "FINNGEN_R6_H7_GLAUCOMA_JOAG",
           null
          ],
          [
           18,
           "disease of visual system",
           0.0848134479389961,
           "ADAMTS9;VEGFA",
           "GCST001884",
           "PMID:23455636"
          ],
          [
           18,
           "disease of visual system",
           0.0945464972869757,
           "ZFP36L2;PTPN1;ETS1;AFAP1;CDKN2B",
           "GCST009722",
           "PMID:31959993"
          ],
          [
           18,
           "disease of visual system",
           0.094904341364359,
           "NFKB1;TNIP1",
           "GCST009131",
           "PMID:31672989"
          ],
          [
           18,
           "disease of visual system",
           0.1381814036283313,
           "CDKN2B;LRIG3",
           "GCST90018814",
           "PMID:34594039"
          ],
          [
           18,
           "disease of visual system",
           0.2332305027257699,
           "AFAP1;CDKN2B;ETS1",
           "GCST90011770",
           "PMID:33627673"
          ],
          [
           18,
           "disease of visual system",
           0.5835721151478896,
           "NRIP1;VIPR2;CD34;BMP2",
           "GCST010378",
           "PMID:32352494"
          ]
         ],
         "hovertemplate": "trait_category=%{customdata[1]}<br>trait_reported=%{x}<br>-log10(p-value)=%{y}<br>program_name=%{customdata[0]}<br>P-value=%{customdata[2]}<br>Genes=%{customdata[3]}<br>study_id=%{customdata[4]}<br>pmid=%{customdata[5]}<extra></extra>",
         "legendgroup": "disease of visual system",
         "marker": {
          "color": "#ab63fa",
          "symbol": "circle"
         },
         "mode": "markers",
         "name": "disease of visual system",
         "orientation": "v",
         "showlegend": true,
         "type": "scatter",
         "x": [
          "Juvenile Open Angle Glaucoma",
          "Age-related macular degeneration",
          "Glaucoma (multi-trait analysis)",
          "Systemic sclerosis",
          "Cataracts",
          "Glaucoma (primary open-angle)",
          "Spherical equivalent"
         ],
         "xaxis": "x",
         "y": [
          1.3154093784604852,
          1.0715352809667165,
          1.0243545560533815,
          1.0227139204761824,
          0.8595504001240976,
          0.6322146516008834,
          0.23390546819518573
         ],
         "yaxis": "y"
        },
        {
         "customdata": [
          [
           18,
           "endocrine system disease",
           0.0944632897841781,
           "TICAM1;BHLHE40;PANX1;MYC;SLC25A37;IFIH1",
           "GCST007073",
           "PMID:30595370"
          ],
          [
           18,
           "endocrine system disease",
           0.1197720364694692,
           "IFIH1;CD69;VEGFA",
           "FINNGEN_R6_E4_THYROID",
           null
          ],
          [
           18,
           "endocrine system disease",
           0.1960959604212289,
           "BHLHE40;MYC;IFIH1;PANX1",
           "GCST010571",
           "PMID:32581359"
          ],
          [
           18,
           "endocrine system disease",
           0.250853386071792,
           "IFIH1;CD69;VEGFA",
           "FINNGEN_R6_E4_HYTHY_AI_STRICT_PURCH",
           null
          ],
          [
           18,
           "endocrine system disease",
           0.3516442816804437,
           "BMP2",
           "GCST90018853",
           "PMID:34594039"
          ],
          [
           18,
           "endocrine system disease",
           0.4693015470211507,
           "BMP2",
           "FINNGEN_R6_E4_GOITREMULTINOD",
           null
          ]
         ],
         "hovertemplate": "trait_category=%{customdata[1]}<br>trait_reported=%{x}<br>-log10(p-value)=%{y}<br>program_name=%{customdata[0]}<br>P-value=%{customdata[2]}<br>Genes=%{customdata[3]}<br>study_id=%{customdata[4]}<br>pmid=%{customdata[5]}<extra></extra>",
         "legendgroup": "endocrine system disease",
         "marker": {
          "color": "#FFA15A",
          "symbol": "circle"
         },
         "mode": "markers",
         "name": "endocrine system disease",
         "orientation": "v",
         "showlegend": true,
         "type": "scatter",
         "x": [
          "Hypothyroidism",
          "Disorders of the thyroid gland",
          "Autoimmune thyroid disease",
          "Hypothyroidism, strict autoimmune, 3 medication purchases required",
          "Goiter",
          "Nontoxic multinodular goitre"
         ],
         "xaxis": "x",
         "y": [
          1.024736933730351,
          0.9216445661252467,
          0.707531352710795,
          0.6005800323983599,
          0.45389644054211864,
          0.328548014162443
         ],
         "yaxis": "y"
        },
        {
         "customdata": [
          [
           18,
           "gastrointestinal disease",
           0.000012651056779189714,
           "DUSP5;CCL2;ZFP36L1;SMAD3;DLD;ITGAV;ETS1;LRRC32;LACC1;MAP3K8;FOSL2;TRIB1",
           "GCST004131",
           "PMID:28067908"
          ],
          [
           18,
           "gastrointestinal disease",
           0.0176464071737207,
           "ZNF827;CDKN2B;TRIB1;VEGFA",
           "GCST90094908",
           "PMID:35047847"
          ],
          [
           18,
           "gastrointestinal disease",
           0.0736777307772495,
           "EPHA2;TRIB1;SYNJ2",
           "GCST90018819",
           "PMID:34594039"
          ],
          [
           18,
           "gastrointestinal disease",
           0.0750783170474788,
           "LRRC32;REL",
           "GCST90016610",
           "PMID:33686288"
          ],
          [
           18,
           "gastrointestinal disease",
           0.094904341364359,
           "NFKB1;DLD",
           "GCST001728",
           "PMID:23128233"
          ],
          [
           18,
           "gastrointestinal disease",
           0.2080290331032748,
           "SMAD3",
           "GCST90027899",
           "PMID:34506852"
          ],
          [
           18,
           "gastrointestinal disease",
           0.2209820301716921,
           "ZFP36L1;ETS1",
           "GCST005523",
           "PMID:22057235"
          ],
          [
           18,
           "gastrointestinal disease",
           0.5807981300334708,
           "HIVEP2;PDE4B",
           "GCST90000514",
           "PMID:34187846"
          ]
         ],
         "hovertemplate": "trait_category=%{customdata[1]}<br>trait_reported=%{x}<br>-log10(p-value)=%{y}<br>program_name=%{customdata[0]}<br>P-value=%{customdata[2]}<br>Genes=%{customdata[3]}<br>study_id=%{customdata[4]}<br>pmid=%{customdata[5]}<extra></extra>",
         "legendgroup": "gastrointestinal disease",
         "marker": {
          "color": "#19d3f3",
          "symbol": "circle"
         },
         "mode": "markers",
         "name": "gastrointestinal disease",
         "orientation": "v",
         "showlegend": true,
         "type": "scatter",
         "x": [
          "Inflammatory bowel disease",
          "Nonalcoholic fatty liver disease (imputed)",
          "Cholelithiasis",
          "Crohn's disease vs rheumatoid arthritis (ordinary least squares (OLS))",
          "Ulcerative colitis",
          "Eosinophilic esophagitis",
          "Celiac disease",
          "Gastroesophageal reflux disease"
         ],
         "xaxis": "x",
         "y": [
          4.897873195104661,
          1.7533437040699618,
          1.1326637585725419,
          1.1244854710691394,
          1.0227139204761824,
          0.6818760494764868,
          0.6556430408604881,
          0.23597479058181314
         ],
         "yaxis": "y"
        },
        {
         "customdata": [
          [
           18,
           "genetic, familial or congenital disease",
           0.0077843699055717,
           "CDKN2B;MAFB;TRIB1",
           "FINNGEN_R6_E4_HYPERCHOL",
           null
          ]
         ],
         "hovertemplate": "trait_category=%{customdata[1]}<br>trait_reported=%{x}<br>-log10(p-value)=%{y}<br>program_name=%{customdata[0]}<br>P-value=%{customdata[2]}<br>Genes=%{customdata[3]}<br>study_id=%{customdata[4]}<br>pmid=%{customdata[5]}<extra></extra>",
         "legendgroup": "genetic, familial or congenital disease",
         "marker": {
          "color": "#FF6692",
          "symbol": "circle"
         },
         "mode": "markers",
         "name": "genetic, familial or congenital disease",
         "orientation": "v",
         "showlegend": true,
         "type": "scatter",
         "x": [
          "Pure hypercholesterolaemia"
         ],
         "xaxis": "x",
         "y": [
          2.1087765350043965
         ],
         "yaxis": "y"
        },
        {
         "customdata": [
          [
           18,
           "immune system disease",
           0.0004299035409489,
           "SMAD3;TSLP;ETS1;LRRC32;NFKB1;FOSL2",
           "GCST010984",
           "PMID:32603359"
          ],
          [
           18,
           "immune system disease",
           0.0005147882293242,
           "SMAD3;TSLP;ETS1;LRRC32;NFKB1;FOSL2",
           "GCST010985",
           "PMID:32603359"
          ],
          [
           18,
           "immune system disease",
           0.0586789681253243,
           "ZFP36L1;ZFP36L2;VMP1;TNIP3;LCK;ETS1;HHEX;MYC",
           "GCST009597",
           "PMID:31604244"
          ],
          [
           18,
           "immune system disease",
           0.811889608650728,
           "TICAM1",
           "GCST007071",
           "PMID:30595370"
          ]
         ],
         "hovertemplate": "trait_category=%{customdata[1]}<br>trait_reported=%{x}<br>-log10(p-value)=%{y}<br>program_name=%{customdata[0]}<br>P-value=%{customdata[2]}<br>Genes=%{customdata[3]}<br>study_id=%{customdata[4]}<br>pmid=%{customdata[5]}<extra></extra>",
         "legendgroup": "immune system disease",
         "marker": {
          "color": "#B6E880",
          "symbol": "circle"
         },
         "mode": "markers",
         "name": "immune system disease",
         "orientation": "v",
         "showlegend": true,
         "type": "scatter",
         "x": [
          "Allergic disease (asthma, hay fever and/or eczema) (multivariate analysis)",
          "Allergic disease (asthma, hay fever and/or eczema) (age of onset)",
          "Multiple sclerosis",
          "Autoimmune traits"
         ],
         "xaxis": "x",
         "y": [
          3.366628977752882,
          3.288371391833677,
          1.2315175318672333,
          0.0905030170802706
         ],
         "yaxis": "y"
        },
        {
         "customdata": [
          [
           18,
           "infectious disease",
           0.0848134479389961,
           "LACC1;CYLD",
           "GCST002772",
           "PMID:25642632"
          ]
         ],
         "hovertemplate": "trait_category=%{customdata[1]}<br>trait_reported=%{x}<br>-log10(p-value)=%{y}<br>program_name=%{customdata[0]}<br>P-value=%{customdata[2]}<br>Genes=%{customdata[3]}<br>study_id=%{customdata[4]}<br>pmid=%{customdata[5]}<extra></extra>",
         "legendgroup": "infectious disease",
         "marker": {
          "color": "#FF97FF",
          "symbol": "circle"
         },
         "mode": "markers",
         "name": "infectious disease",
         "orientation": "v",
         "showlegend": true,
         "type": "scatter",
         "x": [
          "Leprosy"
         ],
         "xaxis": "x",
         "y": [
          1.0715352809667165
         ],
         "yaxis": "y"
        },
        {
         "customdata": [
          [
           18,
           "injury, poisoning or other complication",
           0.0441354248628998,
           "MYC;STARD10;CDKN2B;HHEX",
           "FINNGEN_R6_E4_DM2NASCOMP",
           null
          ],
          [
           18,
           "injury, poisoning or other complication",
           0.1729020269278623,
           "IFNGR1;TICAM1",
           "NEALE2_6149_1",
           null
          ],
          [
           18,
           "injury, poisoning or other complication",
           0.2591134968866853,
           "FOSL2",
           "FINNGEN_R6_E4_DM1NASCOMP",
           null
          ]
         ],
         "hovertemplate": "trait_category=%{customdata[1]}<br>trait_reported=%{x}<br>-log10(p-value)=%{y}<br>program_name=%{customdata[0]}<br>P-value=%{customdata[2]}<br>Genes=%{customdata[3]}<br>study_id=%{customdata[4]}<br>pmid=%{customdata[5]}<extra></extra>",
         "legendgroup": "injury, poisoning or other complication",
         "marker": {
          "color": "#FECB52",
          "symbol": "circle"
         },
         "mode": "markers",
         "name": "injury, poisoning or other complication",
         "orientation": "v",
         "showlegend": true,
         "type": "scatter",
         "x": [
          "Type 2 diabetes with other specified/multiple/unspecified complications",
          "Mouth ulcers | mouth/teeth dental problems",
          "Type 1 diabetes with other specified/multiple/unspecified complications"
         ],
         "xaxis": "x",
         "y": [
          1.3552126883872841,
          0.7621999154685528,
          0.5865099645875235
         ],
         "yaxis": "y"
        },
        {
         "customdata": [
          [
           18,
           "integumentary system disease",
           0.000002095236798858871,
           "DDX58;NFKBIZ;NFKBIA;ETS1;TNIP1;TRIM47;REL;TNFAIP3;IFIH1",
           "GCST004346",
           "PMID:28537254"
          ],
          [
           18,
           "integumentary system disease",
           0.00007093100161031686,
           "NFKBIZ;TNFAIP3;REL;TNIP1",
           "GCST90018907",
           "PMID:34594039"
          ],
          [
           18,
           "integumentary system disease",
           0.0123930243099237,
           "LRRC32;ETS1;SMAD3;ZNF217",
           "GCST90086149",
           "PMID:34116867"
          ],
          [
           18,
           "integumentary system disease",
           0.05681898129963,
           "LRRC32;ETS1",
           "GCST90038679",
           "PMID:33959723"
          ],
          [
           18,
           "integumentary system disease",
           0.2080290331032748,
           "LRRC32",
           "GCST004866",
           "PMID:25608926"
          ],
          [
           18,
           "integumentary system disease",
           0.2591134968866853,
           "ANKRD33B",
           "FINNGEN_R6_L12_NONIONRADISKIN",
           null
          ],
          [
           18,
           "integumentary system disease",
           0.294504581569949,
           "GORAB;FAR2",
           "GCST005116",
           "PMID:29146897"
          ],
          [
           18,
           "integumentary system disease",
           0.3551247366181809,
           "PTPN1;TICAM1",
           "GCST004785",
           "PMID:27723757"
          ],
          [
           18,
           "integumentary system disease",
           0.644608119480519,
           "IL1B",
           "GCST90092000",
           "PMID:35132056"
          ]
         ],
         "hovertemplate": "trait_category=%{customdata[1]}<br>trait_reported=%{x}<br>-log10(p-value)=%{y}<br>program_name=%{customdata[0]}<br>P-value=%{customdata[2]}<br>Genes=%{customdata[3]}<br>study_id=%{customdata[4]}<br>pmid=%{customdata[5]}<extra></extra>",
         "legendgroup": "integumentary system disease",
         "marker": {
          "color": "#636efa",
          "symbol": "circle"
         },
         "mode": "markers",
         "name": "integumentary system disease",
         "orientation": "v",
         "showlegend": true,
         "type": "scatter",
         "x": [
          "Psoriasis",
          "Psoriasis vulgaris",
          "Atopic dermatitis",
          "Dermatologic disease",
          "Alopecia areata",
          "Skin changes due to chronic exposure to nonionizing radiation",
          "Male-pattern baldness",
          "Vitiligo",
          "acne vulgaris"
         ],
         "xaxis": "x",
         "y": [
          5.678766886957297,
          4.149163907474712,
          1.9068226983990177,
          1.2455065569544308,
          0.6818760494764868,
          0.5865099645875235,
          0.5309079445608521,
          0.44961907536774226,
          0.19070422841819729
         ],
         "yaxis": "y"
        },
        {
         "customdata": [
          [
           18,
           "musculoskeletal or connective tissue disease",
           0.0003341275004062,
           "ZFP36L1;ETS1;CD83;NFKBIE;ICOSLG;REL;TRAF1;TNFAIP3",
           "GCST90013534",
           "PMID:33310728"
          ],
          [
           18,
           "musculoskeletal or connective tissue disease",
           0.05681898129963,
           "LRP5;ETS2",
           "GCST90018887",
           "PMID:34594039"
          ],
          [
           18,
           "musculoskeletal or connective tissue disease",
           0.1534373244521871,
           "SMAD3",
           "GCST90018922",
           "PMID:34594039"
          ],
          [
           18,
           "musculoskeletal or connective tissue disease",
           0.2339952943130036,
           "ZFP36L1",
           "GCST90010715",
           "PMID:33106285"
          ],
          [
           18,
           "musculoskeletal or connective tissue disease",
           0.3296512111811371,
           "ETS2",
           "GCST006980",
           "PMID:30598549"
          ],
          [
           18,
           "musculoskeletal or connective tissue disease",
           0.3296512111811371,
           "LRP5",
           "GCST90038652",
           "PMID:33959723"
          ],
          [
           18,
           "musculoskeletal or connective tissue disease",
           0.3516442816804437,
           "SMAD3",
           "GCST006926_2",
           "PMID:30374069"
          ],
          [
           18,
           "musculoskeletal or connective tissue disease",
           0.4693015470211507,
           "MAFB",
           "GCST004858",
           "PMID:28886342"
          ],
          [
           18,
           "musculoskeletal or connective tissue disease",
           0.486728922989194,
           "LRIG3",
           "GCST90034524",
           "PMID:34450027"
          ]
         ],
         "hovertemplate": "trait_category=%{customdata[1]}<br>trait_reported=%{x}<br>-log10(p-value)=%{y}<br>program_name=%{customdata[0]}<br>P-value=%{customdata[2]}<br>Genes=%{customdata[3]}<br>study_id=%{customdata[4]}<br>pmid=%{customdata[5]}<extra></extra>",
         "legendgroup": "musculoskeletal or connective tissue disease",
         "marker": {
          "color": "#EF553B",
          "symbol": "circle"
         },
         "mode": "markers",
         "name": "musculoskeletal or connective tissue disease",
         "orientation": "v",
         "showlegend": true,
         "type": "scatter",
         "x": [
          "Rheumatoid arthritis",
          "Osteoporosis",
          "Spinal canal stenosis",
          "Arthritis (juvenile idiopathic)",
          "Fractures",
          "Bone disorder",
          "Osteoarthritis (hip) [additive]",
          "Dupuytren's disease",
          "Osteoarthritis (with total hip replacement)"
         ],
         "xaxis": "x",
         "y": [
          3.476087778228517,
          1.2455065569544308,
          0.8140689830734511,
          0.630792876241332,
          0.4819453242633147,
          0.4819453242633147,
          0.45389644054211864,
          0.328548014162443,
          0.312712845822675
         ],
         "yaxis": "y"
        },
        {
         "customdata": [
          [
           18,
           "nervous system disease",
           0.1495829186468357,
           "SYNJ2;KLF7",
           "NEALE2_2247_1",
           null
          ],
          [
           18,
           "nervous system disease",
           0.1611644221069998,
           "DMTF1;ARL14EP",
           "GCST90016620",
           "PMID:33686288"
          ],
          [
           18,
           "nervous system disease",
           0.3069151920243448,
           "ADAMTS9",
           "GCST004138",
           "PMID:28256260"
          ],
          [
           18,
           "nervous system disease",
           0.5356642958191504,
           "SYNJ2",
           "GCST90012115",
           "PMID:32986727"
          ],
          [
           18,
           "nervous system disease",
           0.593757536788811,
           "SORL1",
           "GCST90044699",
           "PMID:34493870"
          ],
          [
           18,
           "nervous system disease",
           0.7456821241565759,
           "KLF7",
           "GCST012090",
           "PMID:33479212"
          ],
          [
           18,
           "nervous system disease",
           0.9762560096268644,
           "SORL1;CYLD;PDE4B;EPHB1;PHACTR1",
           "GCST90061435",
           "PMID:34446935"
          ]
         ],
         "hovertemplate": "trait_category=%{customdata[1]}<br>trait_reported=%{x}<br>-log10(p-value)=%{y}<br>program_name=%{customdata[0]}<br>P-value=%{customdata[2]}<br>Genes=%{customdata[3]}<br>study_id=%{customdata[4]}<br>pmid=%{customdata[5]}<extra></extra>",
         "legendgroup": "nervous system disease",
         "marker": {
          "color": "#00cc96",
          "symbol": "circle"
         },
         "mode": "markers",
         "name": "nervous system disease",
         "orientation": "v",
         "showlegend": true,
         "type": "scatter",
         "x": [
          "Yes | hearing difficulty/problems",
          "Schizophrenia vs autism spectrum disorder (ordinary least squares (OLS))",
          "Early-onset Parkinson's disease",
          "Age-related hearing impairment (MTAG)",
          "Late-onset Alzheimer's disease",
          "Major depressive disorder (MTAG)",
          "Externalizing behaviour (multivariate analysis)"
         ],
         "xaxis": "x",
         "y": [
          0.8251179971197422,
          0.7927308247391054,
          0.5129816138521581,
          0.2711073001372868,
          0.22639086466809943,
          0.12744626789662403,
          0.010436279680838028
         ],
         "yaxis": "y"
        },
        {
         "customdata": [
          [
           18,
           "pancreas disease",
           0.0311015508225137,
           "ZFP36L2;HHEX;HIVEP2;STARD10;CDKN2B",
           "FINNGEN_R6_DIABETES_FG",
           null
          ],
          [
           18,
           "pancreas disease",
           0.2072650755162208,
           "HIVEP2;CDKN2B;HHEX",
           "GCST007077",
           "PMID:30595370"
          ]
         ],
         "hovertemplate": "trait_category=%{customdata[1]}<br>trait_reported=%{x}<br>-log10(p-value)=%{y}<br>program_name=%{customdata[0]}<br>P-value=%{customdata[2]}<br>Genes=%{customdata[3]}<br>study_id=%{customdata[4]}<br>pmid=%{customdata[5]}<extra></extra>",
         "legendgroup": "pancreas disease",
         "marker": {
          "color": "#ab63fa",
          "symbol": "circle"
         },
         "mode": "markers",
         "name": "pancreas disease",
         "orientation": "v",
         "showlegend": true,
         "type": "scatter",
         "x": [
          "Diabetes, varying definitions",
          "Type 2 diabetes"
         ],
         "xaxis": "x",
         "y": [
          1.5072179551253149,
          0.6834738710291072
         ],
         "yaxis": "y"
        },
        {
         "customdata": [
          [
           18,
           "phenotype",
           0.00001155322266231403,
           "FOXO1;SMAD3;NFKBIA;TSLP;ETS1;IRF1;MSX1;ZNF217;LRRC32;NFKB1;TNFAIP3;TRAF1;REL;MYC;FOSL2",
           "GCST007075",
           "PMID:30595370"
          ],
          [
           18,
           "phenotype",
           0.0108967965825501,
           "NFKB1;IFNGR1;TICAM1;MAFB",
           "GCST007839",
           "PMID:30837455"
          ],
          [
           18,
           "phenotype",
           0.0196884964512251,
           "FRMD6;MAFB;MSX1",
           "GCST004166",
           "PMID:28232668"
          ],
          [
           18,
           "phenotype",
           0.0218146680043887,
           "FGD6;PHACTR1;CDKN2B;PLPP3",
           "GCST90018793",
           "PMID:34594039"
          ],
          [
           18,
           "phenotype",
           0.1508526983004153,
           "TRIB1;MAFB;ZFP91;VEGFA",
           "GCST90038690",
           "PMID:33959723"
          ],
          [
           18,
           "phenotype",
           0.182754279672259,
           "FOSL2;ZFP36L2;GORAB;VMP1",
           "NEALE2_1717",
           null
          ],
          [
           18,
           "phenotype",
           0.2339952943130036,
           "KLF7",
           "NEALE2_2257",
           null
          ],
          [
           18,
           "phenotype",
           0.2834112308206127,
           "MAFB",
           "GCST004051",
           "PMID:28054174"
          ],
          [
           18,
           "phenotype",
           0.2834112308206127,
           "TRIB1",
           "GCST008791",
           "PMID:31511532"
          ],
          [
           18,
           "phenotype",
           0.3516442816804437,
           "CDKN2B",
           "GCST005843",
           "PMID:29531354"
          ],
          [
           18,
           "phenotype",
           0.4693015470211507,
           "ZNF385D",
           "GCST002759",
           "PMID:25628336"
          ],
          [
           18,
           "phenotype",
           0.4693015470211507,
           "PHACTR1",
           "GCST005337",
           "PMID:29397368"
          ],
          [
           18,
           "phenotype",
           0.486728922989194,
           "ARL14EP",
           "NEALE2_2724",
           null
          ],
          [
           18,
           "phenotype",
           0.486728922989194,
           "MAFB",
           "SAIGE_728_7",
           null
          ],
          [
           18,
           "phenotype",
           0.486728922989194,
           "SMAD3",
           "FINNGEN_R6_K11_HERNIA",
           null
          ],
          [
           18,
           "phenotype",
           0.51989202325866,
           "EPHB1",
           "NEALE2_1920",
           null
          ],
          [
           18,
           "phenotype",
           0.55092043013972,
           "ZFP36L1",
           "GCST006586",
           "PMID:30220432"
          ],
          [
           18,
           "phenotype",
           0.553958434614523,
           "BMP2;ADD3;NRIP1;ADAMTS9;DDX5;VIPR2;RGS3;PPP4R2;TRAF1;VEGFA",
           "GCST010002",
           "PMID:32231278"
          ],
          [
           18,
           "phenotype",
           0.7730278310197776,
           "FOSL2;ZFP36L1",
           "GCST006988",
           "PMID:30531825"
          ],
          [
           18,
           "phenotype",
           0.8783917419742837,
           "NRIP1",
           "GCST006290",
           "PMID:29808027"
          ]
         ],
         "hovertemplate": "trait_category=%{customdata[1]}<br>trait_reported=%{x}<br>-log10(p-value)=%{y}<br>program_name=%{customdata[0]}<br>P-value=%{customdata[2]}<br>Genes=%{customdata[3]}<br>study_id=%{customdata[4]}<br>pmid=%{customdata[5]}<extra></extra>",
         "legendgroup": "phenotype",
         "marker": {
          "color": "#FFA15A",
          "symbol": "circle"
         },
         "mode": "markers",
         "name": "phenotype",
         "orientation": "v",
         "showlegend": true,
         "type": "scatter",
         "x": [
          "Eczema",
          "Mouth ulcers",
          "Nonsyndromic cleft lip with cleft palate",
          "Angina pectoris",
          "High cholesterol",
          "Skin colour",
          "Hearing difficulty/problems with background noise",
          "Orofacial clefts",
          "Microalbuminuria",
          "Ischemic stroke",
          "Motion sickness",
          "Headache",
          "Had menopause",
          "Fasciitis",
          "Hernia",
          "Mood swings",
          "Urinary albumin excretion",
          "Refractive error",
          "Blond vs. brown/black hair color",
          "Myopia (age of diagnosis)"
         ],
         "xaxis": "x",
         "y": [
          4.937296856530154,
          1.9627011562792496,
          1.7057874483041726,
          1.6612513921183327,
          0.8214469171992989,
          0.738132444103159,
          0.630792876241332,
          0.5475829438317577,
          0.5475829438317577,
          0.45389644054211864,
          0.328548014162443,
          0.328548014162443,
          0.312712845822675,
          0.312712845822675,
          0.312712845822675,
          0.2840868459273045,
          0.2589111221040304,
          0.25652282064119303,
          0.11180487006520251,
          0.05631175580821194
         ],
         "yaxis": "y"
        },
        {
         "customdata": [
          [
           18,
           "reproductive system or breast disease",
           0.0047141186225538,
           "IL1A;CDKN2B;ARL14EP",
           "GCST004549",
           "PMID:28537267"
          ],
          [
           18,
           "reproductive system or breast disease",
           0.026265204635174,
           "CDKN2B;ARL14EP",
           "FINNGEN_R6_N14_ENDOMETRIOSIS_OVARY",
           null
          ],
          [
           18,
           "reproductive system or breast disease",
           0.05681898129963,
           "ARL14EP;IRF1",
           "GCST007089",
           "PMID:30566500"
          ]
         ],
         "hovertemplate": "trait_category=%{customdata[1]}<br>trait_reported=%{x}<br>-log10(p-value)=%{y}<br>program_name=%{customdata[0]}<br>P-value=%{customdata[2]}<br>Genes=%{customdata[3]}<br>study_id=%{customdata[4]}<br>pmid=%{customdata[5]}<extra></extra>",
         "legendgroup": "reproductive system or breast disease",
         "marker": {
          "color": "#19d3f3",
          "symbol": "circle"
         },
         "mode": "markers",
         "name": "reproductive system or breast disease",
         "orientation": "v",
         "showlegend": true,
         "type": "scatter",
         "x": [
          "Endometriosis",
          "Endometriosis of ovary",
          "Polycystic ovary syndrome"
         ],
         "xaxis": "x",
         "y": [
          2.3265994934128047,
          1.5806192112103619,
          1.2455065569544308
         ],
         "yaxis": "y"
        },
        {
         "customdata": [
          [
           18,
           "respiratory or thoracic disease",
           0.0000012787603846918074,
           "IL1B;FOXO1;SMAD3;TSLP;ETS1;IRF1;MSX1;ZNF217;LRRC32;NFKB1;TNFAIP3;TRAF1;REL;MYC",
           "GCST009717",
           "PMID:31361310"
          ],
          [
           18,
           "respiratory or thoracic disease",
           0.00005720411410872855,
           "IL6;SMAD3;NFKBIA;TSLP;ITGAV;ETS1;ZNF217;SBNO2;LRRC32;TRAF1;HIVEP2;MYC;MAP3K8",
           "GCST010043",
           "PMID:32296059"
          ],
          [
           18,
           "respiratory or thoracic disease",
           0.0004263460121864,
           "ZFP36L1;SMAD3;NFKBIA;TSLP;IRF1;LRRC32;TNFAIP3;HHEX;BCL3",
           "GCST007076",
           "PMID:30595370"
          ],
          [
           18,
           "respiratory or thoracic disease",
           0.0019098333267005,
           "LRRC32;TSLP;SMAD3;MSX1",
           "NEALE2_20002_1387",
           null
          ],
          [
           18,
           "respiratory or thoracic disease",
           0.0022582655873952,
           "SMAD3;NFKB1;LRRC32;MYC;FOSL2",
           "GCST006409",
           "PMID:30013184"
          ],
          [
           18,
           "respiratory or thoracic disease",
           0.0096706540413381,
           "LRRC32;TSLP;SMAD3",
           "GCST007797",
           "PMID:30929738"
          ],
          [
           18,
           "respiratory or thoracic disease",
           0.0096706540413381,
           "TSLP;IRF1;SMAD3",
           "FINNGEN_R6_J10_LOWCHRON",
           null
          ],
          [
           18,
           "respiratory or thoracic disease",
           0.0166206058432783,
           "SMAD3;TSLP;ZNF217;LRRC32;TRAF1",
           "GCST009850",
           "PMID:31669095"
          ],
          [
           18,
           "respiratory or thoracic disease",
           0.0168059140974743,
           "TSLP;IRF1;SMAD3",
           "FINNGEN_R6_J10_ASTHMACOPDKELA",
           null
          ],
          [
           18,
           "respiratory or thoracic disease",
           0.0228262009725139,
           "LRRC32;TSLP;SMAD3",
           "GCST009842",
           "PMID:31669095"
          ],
          [
           18,
           "respiratory or thoracic disease",
           0.0750783170474788,
           "NFKB1;SMAD3",
           "FINNGEN_R6_J10_UPPERDIS",
           null
          ],
          [
           18,
           "respiratory or thoracic disease",
           0.1495829186468357,
           "LRRC32;SMAD3",
           "GCST90018895",
           "PMID:34594039"
          ]
         ],
         "hovertemplate": "trait_category=%{customdata[1]}<br>trait_reported=%{x}<br>-log10(p-value)=%{y}<br>program_name=%{customdata[0]}<br>P-value=%{customdata[2]}<br>Genes=%{customdata[3]}<br>study_id=%{customdata[4]}<br>pmid=%{customdata[5]}<extra></extra>",
         "legendgroup": "respiratory or thoracic disease",
         "marker": {
          "color": "#FF6692",
          "symbol": "circle"
         },
         "mode": "markers",
         "name": "respiratory or thoracic disease",
         "orientation": "v",
         "showlegend": true,
         "type": "scatter",
         "x": [
          "Hay fever and/or eczema",
          "Asthma",
          "Respiratory diseases",
          "Hayfever/allergic rhinitis | non-cancer illness code, self-reported",
          "Allergic rhinitis",
          "Asthma onset (childhood vs adult)",
          "Chronic lower respiratory diseases",
          "Atopic asthma",
          "Asthma/COPD (KELA code 203)",
          "Asthma (adult onset)",
          "Other diseases of upper respiratory tract",
          "Pediatric asthma"
         ],
         "xaxis": "x",
         "y": [
          5.893210826401163,
          4.242572735709311,
          3.3702377948210374,
          2.719004532465746,
          2.6462249834219618,
          2.0145441529140404,
          2.0145441529140404,
          1.779353149649551,
          1.7745378606599926,
          1.6415663633220565,
          1.1244854710691394,
          0.8251179971197422
         ],
         "yaxis": "y"
        },
        {
         "customdata": [
          [
           18,
           "urinary system disease",
           0.182754279672259,
           "ETS1;IRF1;TNFAIP3;TNIP1",
           "GCST011956",
           "PMID:33272962"
          ],
          [
           18,
           "urinary system disease",
           0.2454318122425826,
           "ZFP36L2;CLDN14",
           "GCST90018935",
           "PMID:34594039"
          ],
          [
           18,
           "urinary system disease",
           0.3934975251317255,
           "VEGFA",
           "GCST000649_3",
           "PMID:20383146"
          ],
          [
           18,
           "urinary system disease",
           0.4693015470211507,
           "C9",
           "GCST008064",
           "PMID:31152163"
          ],
          [
           18,
           "urinary system disease",
           0.4693015470211507,
           "CLDN14",
           "GCST009598",
           "PMID:31729369"
          ]
         ],
         "hovertemplate": "trait_category=%{customdata[1]}<br>trait_reported=%{x}<br>-log10(p-value)=%{y}<br>program_name=%{customdata[0]}<br>P-value=%{customdata[2]}<br>Genes=%{customdata[3]}<br>study_id=%{customdata[4]}<br>pmid=%{customdata[5]}<extra></extra>",
         "legendgroup": "urinary system disease",
         "marker": {
          "color": "#B6E880",
          "symbol": "circle"
         },
         "mode": "markers",
         "name": "urinary system disease",
         "orientation": "v",
         "showlegend": true,
         "type": "scatter",
         "x": [
          "Systemic lupus erythematosus",
          "Urolithiasis",
          "Chronic kidney disease [eGFRcrea]",
          "Chronic kidney disease",
          "Kidney stones"
         ],
         "xaxis": "x",
         "y": [
          0.738132444103159,
          0.6100691458226155,
          0.40505799475349363,
          0.328548014162443,
          0.328548014162443
         ],
         "yaxis": "y"
        }
       ],
       "layout": {
        "annotations": [
         {
          "showarrow": false,
          "text": "Significance Threshold (0.05)",
          "x": 1,
          "xanchor": "right",
          "xref": "x domain",
          "y": 1.3010299956639813,
          "yanchor": "bottom",
          "yref": "y"
         }
        ],
        "height": 800,
        "legend": {
         "title": {
          "text": "trait_category"
         },
         "tracegroupgap": 0
        },
        "shapes": [
         {
          "line": {
           "dash": "dash"
          },
          "type": "line",
          "x0": 0,
          "x1": 1,
          "xref": "x domain",
          "y0": 1.3010299956639813,
          "y1": 1.3010299956639813,
          "yref": "y"
         }
        ],
        "template": {
         "data": {
          "bar": [
           {
            "error_x": {
             "color": "#2a3f5f"
            },
            "error_y": {
             "color": "#2a3f5f"
            },
            "marker": {
             "line": {
              "color": "#E5ECF6",
              "width": 0.5
             },
             "pattern": {
              "fillmode": "overlay",
              "size": 10,
              "solidity": 0.2
             }
            },
            "type": "bar"
           }
          ],
          "barpolar": [
           {
            "marker": {
             "line": {
              "color": "#E5ECF6",
              "width": 0.5
             },
             "pattern": {
              "fillmode": "overlay",
              "size": 10,
              "solidity": 0.2
             }
            },
            "type": "barpolar"
           }
          ],
          "carpet": [
           {
            "aaxis": {
             "endlinecolor": "#2a3f5f",
             "gridcolor": "white",
             "linecolor": "white",
             "minorgridcolor": "white",
             "startlinecolor": "#2a3f5f"
            },
            "baxis": {
             "endlinecolor": "#2a3f5f",
             "gridcolor": "white",
             "linecolor": "white",
             "minorgridcolor": "white",
             "startlinecolor": "#2a3f5f"
            },
            "type": "carpet"
           }
          ],
          "choropleth": [
           {
            "colorbar": {
             "outlinewidth": 0,
             "ticks": ""
            },
            "type": "choropleth"
           }
          ],
          "contour": [
           {
            "colorbar": {
             "outlinewidth": 0,
             "ticks": ""
            },
            "colorscale": [
             [
              0,
              "#0d0887"
             ],
             [
              0.1111111111111111,
              "#46039f"
             ],
             [
              0.2222222222222222,
              "#7201a8"
             ],
             [
              0.3333333333333333,
              "#9c179e"
             ],
             [
              0.4444444444444444,
              "#bd3786"
             ],
             [
              0.5555555555555556,
              "#d8576b"
             ],
             [
              0.6666666666666666,
              "#ed7953"
             ],
             [
              0.7777777777777778,
              "#fb9f3a"
             ],
             [
              0.8888888888888888,
              "#fdca26"
             ],
             [
              1,
              "#f0f921"
             ]
            ],
            "type": "contour"
           }
          ],
          "contourcarpet": [
           {
            "colorbar": {
             "outlinewidth": 0,
             "ticks": ""
            },
            "type": "contourcarpet"
           }
          ],
          "heatmap": [
           {
            "colorbar": {
             "outlinewidth": 0,
             "ticks": ""
            },
            "colorscale": [
             [
              0,
              "#0d0887"
             ],
             [
              0.1111111111111111,
              "#46039f"
             ],
             [
              0.2222222222222222,
              "#7201a8"
             ],
             [
              0.3333333333333333,
              "#9c179e"
             ],
             [
              0.4444444444444444,
              "#bd3786"
             ],
             [
              0.5555555555555556,
              "#d8576b"
             ],
             [
              0.6666666666666666,
              "#ed7953"
             ],
             [
              0.7777777777777778,
              "#fb9f3a"
             ],
             [
              0.8888888888888888,
              "#fdca26"
             ],
             [
              1,
              "#f0f921"
             ]
            ],
            "type": "heatmap"
           }
          ],
          "heatmapgl": [
           {
            "colorbar": {
             "outlinewidth": 0,
             "ticks": ""
            },
            "colorscale": [
             [
              0,
              "#0d0887"
             ],
             [
              0.1111111111111111,
              "#46039f"
             ],
             [
              0.2222222222222222,
              "#7201a8"
             ],
             [
              0.3333333333333333,
              "#9c179e"
             ],
             [
              0.4444444444444444,
              "#bd3786"
             ],
             [
              0.5555555555555556,
              "#d8576b"
             ],
             [
              0.6666666666666666,
              "#ed7953"
             ],
             [
              0.7777777777777778,
              "#fb9f3a"
             ],
             [
              0.8888888888888888,
              "#fdca26"
             ],
             [
              1,
              "#f0f921"
             ]
            ],
            "type": "heatmapgl"
           }
          ],
          "histogram": [
           {
            "marker": {
             "pattern": {
              "fillmode": "overlay",
              "size": 10,
              "solidity": 0.2
             }
            },
            "type": "histogram"
           }
          ],
          "histogram2d": [
           {
            "colorbar": {
             "outlinewidth": 0,
             "ticks": ""
            },
            "colorscale": [
             [
              0,
              "#0d0887"
             ],
             [
              0.1111111111111111,
              "#46039f"
             ],
             [
              0.2222222222222222,
              "#7201a8"
             ],
             [
              0.3333333333333333,
              "#9c179e"
             ],
             [
              0.4444444444444444,
              "#bd3786"
             ],
             [
              0.5555555555555556,
              "#d8576b"
             ],
             [
              0.6666666666666666,
              "#ed7953"
             ],
             [
              0.7777777777777778,
              "#fb9f3a"
             ],
             [
              0.8888888888888888,
              "#fdca26"
             ],
             [
              1,
              "#f0f921"
             ]
            ],
            "type": "histogram2d"
           }
          ],
          "histogram2dcontour": [
           {
            "colorbar": {
             "outlinewidth": 0,
             "ticks": ""
            },
            "colorscale": [
             [
              0,
              "#0d0887"
             ],
             [
              0.1111111111111111,
              "#46039f"
             ],
             [
              0.2222222222222222,
              "#7201a8"
             ],
             [
              0.3333333333333333,
              "#9c179e"
             ],
             [
              0.4444444444444444,
              "#bd3786"
             ],
             [
              0.5555555555555556,
              "#d8576b"
             ],
             [
              0.6666666666666666,
              "#ed7953"
             ],
             [
              0.7777777777777778,
              "#fb9f3a"
             ],
             [
              0.8888888888888888,
              "#fdca26"
             ],
             [
              1,
              "#f0f921"
             ]
            ],
            "type": "histogram2dcontour"
           }
          ],
          "mesh3d": [
           {
            "colorbar": {
             "outlinewidth": 0,
             "ticks": ""
            },
            "type": "mesh3d"
           }
          ],
          "parcoords": [
           {
            "line": {
             "colorbar": {
              "outlinewidth": 0,
              "ticks": ""
             }
            },
            "type": "parcoords"
           }
          ],
          "pie": [
           {
            "automargin": true,
            "type": "pie"
           }
          ],
          "scatter": [
           {
            "fillpattern": {
             "fillmode": "overlay",
             "size": 10,
             "solidity": 0.2
            },
            "type": "scatter"
           }
          ],
          "scatter3d": [
           {
            "line": {
             "colorbar": {
              "outlinewidth": 0,
              "ticks": ""
             }
            },
            "marker": {
             "colorbar": {
              "outlinewidth": 0,
              "ticks": ""
             }
            },
            "type": "scatter3d"
           }
          ],
          "scattercarpet": [
           {
            "marker": {
             "colorbar": {
              "outlinewidth": 0,
              "ticks": ""
             }
            },
            "type": "scattercarpet"
           }
          ],
          "scattergeo": [
           {
            "marker": {
             "colorbar": {
              "outlinewidth": 0,
              "ticks": ""
             }
            },
            "type": "scattergeo"
           }
          ],
          "scattergl": [
           {
            "marker": {
             "colorbar": {
              "outlinewidth": 0,
              "ticks": ""
             }
            },
            "type": "scattergl"
           }
          ],
          "scattermapbox": [
           {
            "marker": {
             "colorbar": {
              "outlinewidth": 0,
              "ticks": ""
             }
            },
            "type": "scattermapbox"
           }
          ],
          "scatterpolar": [
           {
            "marker": {
             "colorbar": {
              "outlinewidth": 0,
              "ticks": ""
             }
            },
            "type": "scatterpolar"
           }
          ],
          "scatterpolargl": [
           {
            "marker": {
             "colorbar": {
              "outlinewidth": 0,
              "ticks": ""
             }
            },
            "type": "scatterpolargl"
           }
          ],
          "scatterternary": [
           {
            "marker": {
             "colorbar": {
              "outlinewidth": 0,
              "ticks": ""
             }
            },
            "type": "scatterternary"
           }
          ],
          "surface": [
           {
            "colorbar": {
             "outlinewidth": 0,
             "ticks": ""
            },
            "colorscale": [
             [
              0,
              "#0d0887"
             ],
             [
              0.1111111111111111,
              "#46039f"
             ],
             [
              0.2222222222222222,
              "#7201a8"
             ],
             [
              0.3333333333333333,
              "#9c179e"
             ],
             [
              0.4444444444444444,
              "#bd3786"
             ],
             [
              0.5555555555555556,
              "#d8576b"
             ],
             [
              0.6666666666666666,
              "#ed7953"
             ],
             [
              0.7777777777777778,
              "#fb9f3a"
             ],
             [
              0.8888888888888888,
              "#fdca26"
             ],
             [
              1,
              "#f0f921"
             ]
            ],
            "type": "surface"
           }
          ],
          "table": [
           {
            "cells": {
             "fill": {
              "color": "#EBF0F8"
             },
             "line": {
              "color": "white"
             }
            },
            "header": {
             "fill": {
              "color": "#C8D4E3"
             },
             "line": {
              "color": "white"
             }
            },
            "type": "table"
           }
          ]
         },
         "layout": {
          "annotationdefaults": {
           "arrowcolor": "#2a3f5f",
           "arrowhead": 0,
           "arrowwidth": 1
          },
          "autotypenumbers": "strict",
          "coloraxis": {
           "colorbar": {
            "outlinewidth": 0,
            "ticks": ""
           }
          },
          "colorscale": {
           "diverging": [
            [
             0,
             "#8e0152"
            ],
            [
             0.1,
             "#c51b7d"
            ],
            [
             0.2,
             "#de77ae"
            ],
            [
             0.3,
             "#f1b6da"
            ],
            [
             0.4,
             "#fde0ef"
            ],
            [
             0.5,
             "#f7f7f7"
            ],
            [
             0.6,
             "#e6f5d0"
            ],
            [
             0.7,
             "#b8e186"
            ],
            [
             0.8,
             "#7fbc41"
            ],
            [
             0.9,
             "#4d9221"
            ],
            [
             1,
             "#276419"
            ]
           ],
           "sequential": [
            [
             0,
             "#0d0887"
            ],
            [
             0.1111111111111111,
             "#46039f"
            ],
            [
             0.2222222222222222,
             "#7201a8"
            ],
            [
             0.3333333333333333,
             "#9c179e"
            ],
            [
             0.4444444444444444,
             "#bd3786"
            ],
            [
             0.5555555555555556,
             "#d8576b"
            ],
            [
             0.6666666666666666,
             "#ed7953"
            ],
            [
             0.7777777777777778,
             "#fb9f3a"
            ],
            [
             0.8888888888888888,
             "#fdca26"
            ],
            [
             1,
             "#f0f921"
            ]
           ],
           "sequentialminus": [
            [
             0,
             "#0d0887"
            ],
            [
             0.1111111111111111,
             "#46039f"
            ],
            [
             0.2222222222222222,
             "#7201a8"
            ],
            [
             0.3333333333333333,
             "#9c179e"
            ],
            [
             0.4444444444444444,
             "#bd3786"
            ],
            [
             0.5555555555555556,
             "#d8576b"
            ],
            [
             0.6666666666666666,
             "#ed7953"
            ],
            [
             0.7777777777777778,
             "#fb9f3a"
            ],
            [
             0.8888888888888888,
             "#fdca26"
            ],
            [
             1,
             "#f0f921"
            ]
           ]
          },
          "colorway": [
           "#636efa",
           "#EF553B",
           "#00cc96",
           "#ab63fa",
           "#FFA15A",
           "#19d3f3",
           "#FF6692",
           "#B6E880",
           "#FF97FF",
           "#FECB52"
          ],
          "font": {
           "color": "#2a3f5f"
          },
          "geo": {
           "bgcolor": "white",
           "lakecolor": "white",
           "landcolor": "#E5ECF6",
           "showlakes": true,
           "showland": true,
           "subunitcolor": "white"
          },
          "hoverlabel": {
           "align": "left"
          },
          "hovermode": "closest",
          "mapbox": {
           "style": "light"
          },
          "paper_bgcolor": "white",
          "plot_bgcolor": "#E5ECF6",
          "polar": {
           "angularaxis": {
            "gridcolor": "white",
            "linecolor": "white",
            "ticks": ""
           },
           "bgcolor": "#E5ECF6",
           "radialaxis": {
            "gridcolor": "white",
            "linecolor": "white",
            "ticks": ""
           }
          },
          "scene": {
           "xaxis": {
            "backgroundcolor": "#E5ECF6",
            "gridcolor": "white",
            "gridwidth": 2,
            "linecolor": "white",
            "showbackground": true,
            "ticks": "",
            "zerolinecolor": "white"
           },
           "yaxis": {
            "backgroundcolor": "#E5ECF6",
            "gridcolor": "white",
            "gridwidth": 2,
            "linecolor": "white",
            "showbackground": true,
            "ticks": "",
            "zerolinecolor": "white"
           },
           "zaxis": {
            "backgroundcolor": "#E5ECF6",
            "gridcolor": "white",
            "gridwidth": 2,
            "linecolor": "white",
            "showbackground": true,
            "ticks": "",
            "zerolinecolor": "white"
           }
          },
          "shapedefaults": {
           "line": {
            "color": "#2a3f5f"
           }
          },
          "ternary": {
           "aaxis": {
            "gridcolor": "white",
            "linecolor": "white",
            "ticks": ""
           },
           "baxis": {
            "gridcolor": "white",
            "linecolor": "white",
            "ticks": ""
           },
           "bgcolor": "#E5ECF6",
           "caxis": {
            "gridcolor": "white",
            "linecolor": "white",
            "ticks": ""
           }
          },
          "title": {
           "x": 0.05
          },
          "xaxis": {
           "automargin": true,
           "gridcolor": "white",
           "linecolor": "white",
           "ticks": "",
           "title": {
            "standoff": 15
           },
           "zerolinecolor": "white",
           "zerolinewidth": 2
          },
          "yaxis": {
           "automargin": true,
           "gridcolor": "white",
           "linecolor": "white",
           "ticks": "",
           "title": {
            "standoff": 15
           },
           "zerolinecolor": "white",
           "zerolinewidth": 2
          }
         }
        },
        "title": {
         "text": "Endothelial Cell Programs x GWAS Binary Outcome Enrichments"
        },
        "width": 1000,
        "xaxis": {
         "anchor": "y",
         "domain": [
          0,
          1
         ],
         "tickfont": {
          "size": 4
         },
         "title": {
          "text": "trait_reported"
         }
        },
        "yaxis": {
         "anchor": "x",
         "domain": [
          0,
          1
         ],
         "tickformat": ".1f",
         "title": {
          "text": "-log10(p-value)"
         }
        }
       }
      },
      "text/html": [
       "<div>                            <div id=\"f33a89d7-8ac8-411f-b245-0520f223982b\" class=\"plotly-graph-div\" style=\"height:800px; width:1000px;\"></div>            <script type=\"text/javascript\">                require([\"plotly\"], function(Plotly) {                    window.PLOTLYENV=window.PLOTLYENV || {};                                    if (document.getElementById(\"f33a89d7-8ac8-411f-b245-0520f223982b\")) {                    Plotly.newPlot(                        \"f33a89d7-8ac8-411f-b245-0520f223982b\",                        [{\"customdata\":[[18,\"biological process\",0.0517002506856195,\"MAFB;HHEX;CDKN2B;TRIB1;VEGFA\",\"FINNGEN_R6_RX_STATIN\",null],[18,\"biological process\",0.2520727709470829,\"ADAMTS9;CYLD;KMT2E;CDH4\",\"GCST006269\",\"PMID:29844566\"],[18,\"biological process\",0.3708330307552693,\"PDE4B;SORL1;IGFBPL1;KLF7\",\"GCST007327\",\"PMID:30643258\"],[18,\"biological process\",0.4912323207922931,\"PDE4B;CHRNA3\",\"GCST007464\",\"PMID:30643251\"],[18,\"biological process\",0.8563981989189287,\"NSUN2;PYY;DENND6A\",\"GCST006660\",\"PMID:30348214\"],[18,\"biological process\",0.9599537180657608,\"PDE4B\",\"GCST007462\",\"PMID:30643251\"],[18,\"biological process\",0.9602043712249744,\"CYLD;CD34\",\"GCST007325\",\"PMID:30643258\"],[18,\"biological process\",0.9953942207917552,\"CYLD;MARCKS;CDH4;PTPN1;ZNF385D;CTTNBP2NL;PRRC2C;PDE4B;MEIS2\",\"GCST006568\",\"PMID:30038396\"]],\"hovertemplate\":\"trait_category=%{customdata[1]}\\u003cbr\\u003etrait_reported=%{x}\\u003cbr\\u003e-log10(p-value)=%{y}\\u003cbr\\u003eprogram_name=%{customdata[0]}\\u003cbr\\u003eP-value=%{customdata[2]}\\u003cbr\\u003eGenes=%{customdata[3]}\\u003cbr\\u003estudy_id=%{customdata[4]}\\u003cbr\\u003epmid=%{customdata[5]}\\u003cextra\\u003e\\u003c\\u002fextra\\u003e\",\"legendgroup\":\"biological process\",\"marker\":{\"color\":\"#636efa\",\"symbol\":\"circle\"},\"mode\":\"markers\",\"name\":\"biological process\",\"orientation\":\"v\",\"showlegend\":true,\"x\":[\"Statin medication\",\"General cognitive ability\",\"Smoking status (ever vs never smokers)\",\"Smoking cessation (MTAG)\",\"DNA methylation variation (age effect)\",\"Age of smoking initiation (MTAG)\",\"General risk tolerance (MTAG)\",\"Highest math class taken (MTAG) [MTAG]\"],\"xaxis\":\"x\",\"y\":[1.2865073510817384,0.5984740645421232,0.43082158942544513,0.3087130663783759,0.0673242547363023,0.01774970495332866,0.01763632128440732,0.0020048850763603283],\"yaxis\":\"y\",\"type\":\"scatter\"},{\"customdata\":[[18,\"cardiovascular disease\",0.000618417215264,\"ATP2B1;SMAD3;PLPP3;LIPA;AHDC1;PHACTR1;CDKN2B;TRIB1\",\"GCST011365\",\"PMID:33532862\"],[18,\"cardiovascular disease\",0.0014120536942337,\"FGD6;SMAD3;PLPP3;LIPA;PHACTR1;CDKN2B;VEGFA\",\"GCST005195\",\"PMID:29212778\"],[18,\"cardiovascular disease\",0.0077843699055717,\"FGD6;CDKN2B;ATP2B1\",\"GCST011021\",\"PMID:33199917\"],[18,\"cardiovascular disease\",0.0196884964512251,\"IL6;CDKN2B;CHRNA3\",\"GCST008474\",\"PMID:31285632\"],[18,\"cardiovascular disease\",0.026265204635174,\"LIPA;TRIB1\",\"GCST011496\",\"PMID:32981348\"],[18,\"cardiovascular disease\",0.029585160555772,\"HIVEP2;ATP2B1;PLPP3;NFKBIA;MAFB;IRF1;CMIP;ZFP91;SLC4A7;TRIB1;VEGFA\",\"GCST007072\",\"PMID:30595370\"],[18,\"cardiovascular disease\",0.0623134812013288,\"PHACTR1;CDKN2B;TRIB1\",\"FINNGEN_R6_I9_CORATHER\",null],[18,\"cardiovascular disease\",0.196756731511739,\"PHACTR1;CDKN2B\",\"FINNGEN_R6_I9_IHD\",null],[18,\"cardiovascular disease\",0.2834112308206127,\"CDKN2B\",\"GCST009541\",\"PMID:31919418\"],[18,\"cardiovascular disease\",0.2834112308206127,\"PHACTR1\",\"GCST011062\",\"PMID:32632093\"],[18,\"cardiovascular disease\",0.3516442816804437,\"PHACTR1\",\"GCST011063\",\"PMID:32632093\"],[18,\"cardiovascular disease\",0.3934975251317255,\"CDKN2B\",\"GCST005838\",\"PMID:29531354\"],[18,\"cardiovascular disease\",0.51989202325866,\"NR3C1\",\"FINNGEN_R6_CARDIAC_ARRHYTM\",null],[18,\"cardiovascular disease\",0.6071119898858256,\"PHACTR1\",\"GCST003720\",\"PMID:27322543\"],[18,\"cardiovascular disease\",0.6421088873740798,\"CDKN2B;SMAD3\",\"GCST90014033\",\"PMID:33888516\"],[18,\"cardiovascular disease\",0.7494973136787136,\"SORL1;NR3C1\",\"GCST006061\",\"PMID:29892015\"],[18,\"cardiovascular disease\",0.7919896026634753,\"ATP2B1\",\"FINNGEN_R6_RX_ANTIHYP\",null]],\"hovertemplate\":\"trait_category=%{customdata[1]}\\u003cbr\\u003etrait_reported=%{x}\\u003cbr\\u003e-log10(p-value)=%{y}\\u003cbr\\u003eprogram_name=%{customdata[0]}\\u003cbr\\u003eP-value=%{customdata[2]}\\u003cbr\\u003eGenes=%{customdata[3]}\\u003cbr\\u003estudy_id=%{customdata[4]}\\u003cbr\\u003epmid=%{customdata[5]}\\u003cextra\\u003e\\u003c\\u002fextra\\u003e\",\"legendgroup\":\"cardiovascular disease\",\"marker\":{\"color\":\"#EF553B\",\"symbol\":\"circle\"},\"mode\":\"markers\",\"name\":\"cardiovascular disease\",\"orientation\":\"v\",\"showlegend\":true,\"x\":[\"Myocardial infarction\",\"Coronary artery disease\",\"Intracranial aneurysm\",\"Peripheral artery disease\",\"Abdominal aortic aneurysm\",\"Cardiovascular disease\",\"Coronary atherosclerosis\",\"Ischaemic heart disease, wide definition\",\"Heart failure\",\"Migraine and\\u002for pulse pressure\",\"Migraine and\\u002for systolic blood pressure\",\"Stroke\",\"Cardiac arrhytmias\",\"Migraine\",\"Haemorrhoidal disease\",\"Atrial fibrillation\",\"Antihypertensive medication - note that there are other indications\"],\"xaxis\":\"x\",\"y\":[3.2087184291963053,2.8501487886482106,2.1087765350043965,1.7057874483041726,1.5806192112103619,1.528926069506908,1.2054179857971437,0.7060704004764284,0.5475829438317577,0.5475829438317577,0.45389644054211864,0.40505799475349363,0.2840868459273045,0.21673119013836004,0.19239131900920203,0.12522991939555767,0.10128051984424273],\"yaxis\":\"y\",\"type\":\"scatter\"},{\"customdata\":[[18,\"cell proliferation disorder\",0.0742625671495737,\"ARRDC3;NRIP1;FILIP1L;SLC4A7;MYC;CITED4\",\"GCST90090980\",\"PMID:32139696\"],[18,\"cell proliferation disorder\",0.0848134479389961,\"SMAD3;BMP2\",\"SAIGE_208\",null],[18,\"cell proliferation disorder\",0.0884283074113421,\"ATP2B1;RAB29;ZNF827;CDKN2B;SLC25A37;ETS2;KLF7;VEGFA\",\"GCST011049\",\"PMID:33398198\"],[18,\"cell proliferation disorder\",0.1247519532286911,\"CHRNA3\",\"GCST004750\",\"PMID:28604730\"],[18,\"cell proliferation disorder\",0.1534373244521871,\"SMAD3\",\"GCST004144\",\"PMID:28195142\"],[18,\"cell proliferation disorder\",0.1811861993554195,\"CDKN2B\",\"GCST004349\",\"PMID:28346443\"],[18,\"cell proliferation disorder\",0.1811861993554195,\"CDKN2B\",\"GCST004347\",\"PMID:28346443\"],[18,\"cell proliferation disorder\",0.2339952943130036,\"ANKRD33B\",\"FINNGEN_R6_L12_ACTINKERA\",null],[18,\"cell proliferation disorder\",0.250853386071792,\"CDKN2B;FOXC2;BMP2\",\"GCST007992\",\"PMID:31089142\"],[18,\"cell proliferation disorder\",0.2591134968866853,\"ELL2\",\"GCST004483\",\"PMID:27363682\"],[18,\"cell proliferation disorder\",0.2591134968866853,\"BAZ1A\",\"GCST008834\",\"PMID:31326317\"],[18,\"cell proliferation disorder\",0.2591134968866853,\"BAZ1A\",\"GCST012199\",\"PMID:32889700\"],[18,\"cell proliferation disorder\",0.2591134968866853,\"NRIP1\",\"FINNGEN_R6_C3_BREAST_HERPLUS\",null],[18,\"cell proliferation disorder\",0.2591134968866853,\"NRIP1\",\"FINNGEN_R6_C3_BREAST_HERPLUS_EXALLC\",null],[18,\"cell proliferation disorder\",0.2591134968866853,\"DMRTA1\",\"GCST006464\",\"PMID:30093612\"],[18,\"cell proliferation disorder\",0.282249604281732,\"CDKN2B;TICAM1\",\"GCST90018921\",\"PMID:34594039\"],[18,\"cell proliferation disorder\",0.3189149066067657,\"CDKN2B;TICAM1\",\"GCST90027058\",\"PMID:34290314\"],[18,\"cell proliferation disorder\",0.3296512111811371,\"BAZ1A\",\"GCST008836_2\",\"PMID:31326317\"],[18,\"cell proliferation disorder\",0.3296512111811371,\"BAZ1A\",\"GCST012201\",\"PMID:32889700\"],[18,\"cell proliferation disorder\",0.3729185866522101,\"NRIP1\",\"FINNGEN_R6_C3_BREAST\",null],[18,\"cell proliferation disorder\",0.3934975251317255,\"TSLP\",\"GCST90018883\",\"PMID:34594039\"],[18,\"cell proliferation disorder\",0.4326591294068168,\"NRIP1\",\"FINNGEN_R6_C3_BREAST_HER2NEG\",null],[18,\"cell proliferation disorder\",0.4512848966620099,\"CDKN2B\",\"GCST90027051\",\"PMID:34290314\"],[18,\"cell proliferation disorder\",0.4697585982199461,\"CDKN2B;TICAM1\",\"GCST008870\",\"PMID:31174203\"],[18,\"cell proliferation disorder\",0.5035862232063116,\"GJC1\",\"FINNGEN_R6_C3_MALE_GENITAL\",null],[18,\"cell proliferation disorder\",0.5035862232063116,\"GJC1\",\"FINNGEN_R6_C3_MALE_GENITAL_EXALLC\",null],[18,\"cell proliferation disorder\",0.5121529233797599,\"CDKN2B;TICAM1\",\"GCST008871\",\"PMID:31174203\"],[18,\"cell proliferation disorder\",0.51989202325866,\"MAFB\",\"SAIGE_728_71\",null],[18,\"cell proliferation disorder\",0.5356642958191504,\"SMAD3\",\"GCST90018827\",\"PMID:34594039\"],[18,\"cell proliferation disorder\",0.593757536788811,\"ARL14EP\",\"GCST90018934\",\"PMID:34594039\"],[18,\"cell proliferation disorder\",0.593757536788811,\"CDKN2B\",\"SAIGE_172_2\",null],[18,\"cell proliferation disorder\",0.6071119898858256,\"CDKN2B\",\"GCST004146\",\"PMID:28165464\"],[18,\"cell proliferation disorder\",0.6071119898858256,\"ETS1\",\"GCST90061442\",\"PMID:34033851\"],[18,\"cell proliferation disorder\",0.7370224307541164,\"CDKN2B\",\"GCST010304\",\"PMID:32341527\"]],\"hovertemplate\":\"trait_category=%{customdata[1]}\\u003cbr\\u003etrait_reported=%{x}\\u003cbr\\u003e-log10(p-value)=%{y}\\u003cbr\\u003eprogram_name=%{customdata[0]}\\u003cbr\\u003eP-value=%{customdata[2]}\\u003cbr\\u003eGenes=%{customdata[3]}\\u003cbr\\u003estudy_id=%{customdata[4]}\\u003cbr\\u003epmid=%{customdata[5]}\\u003cextra\\u003e\\u003c\\u002fextra\\u003e\",\"legendgroup\":\"cell proliferation disorder\",\"marker\":{\"color\":\"#00cc96\",\"symbol\":\"circle\"},\"mode\":\"markers\",\"name\":\"cell proliferation disorder\",\"orientation\":\"v\",\"showlegend\":true,\"x\":[\"Breast cancer\",\"Benign neoplasm of colon\",\"Prostate cancer\",\"Squamous cell lung carcinoma\",\"Thyroid cancer\",\"Glioblastoma\",\"Glioma\",\"Actinic keratosis\",\"Colorectal cancer\",\"Multiple myeloma\",\"Non-small cell lung cancer\",\"Non-small cell lung cancer\",\"Malignant neoplasm of breast, HER-positive\",\"Malignant neoplasm of breast, HER-positive (controls excluding all cancers)\",\"Endometrial cancer\",\"Skin cancer\",\"Non-melanoma skin cancer\",\"Lung adenocarcinoma [East Asian]\",\"Lung adenocarcinoma\",\"Malignant neoplasm of breast\",\"Nasal polyps\",\"Malignant neoplasm of breast, HER2-negative\",\"Cancer\",\"Keratinocyte cancer (MTAG)\",\"malignant neoplasm of male genital organs\",\"malignant neoplasm of male genital organs (controls excluding all cancers)\",\"Basal cell carcinoma\",\"Contracture of palmar fascia [dupuytren's disease]\",\"Colon polyp\",\"Uterine fibroids\",\"Other non-epithelial cancer of skin\",\"Chronic lymphocytic leukemia\",\"Primary biliary cholangitis\",\"Cutaneous malignant melanoma\"],\"xaxis\":\"x\",\"y\":[1.1292300419180523,1.0715352809667165,1.0534086876496784,0.9039526459466428,0.8140689830734511,0.7418748848713539,0.7418748848713539,0.630792876241332,0.6005800323983599,0.5865099645875235,0.5865099645875235,0.5865099645875235,0.5865099645875235,0.5865099645875235,0.5865099645875235,0.5493666582900827,0.4963251806449037,0.4819453242633147,0.4819453242633147,0.42838597040826076,0.40505799475349363,0.3638541279383794,0.34554920094940333,0.3281252620516997,0.2979261595556733,0.2979261595556733,0.2906003439777339,0.2840868459273045,0.2711073001372868,0.22639086466809943,0.22639086466809943,0.21673119013836004,0.21673119013836004,0.13251929449576863],\"yaxis\":\"y\",\"type\":\"scatter\"},{\"customdata\":[[18,\"disease of visual system\",0.0483716187832906,\"AFAP1;CDKN2B\",\"FINNGEN_R6_H7_GLAUCOMA_JOAG\",null],[18,\"disease of visual system\",0.0848134479389961,\"ADAMTS9;VEGFA\",\"GCST001884\",\"PMID:23455636\"],[18,\"disease of visual system\",0.0945464972869757,\"ZFP36L2;PTPN1;ETS1;AFAP1;CDKN2B\",\"GCST009722\",\"PMID:31959993\"],[18,\"disease of visual system\",0.094904341364359,\"NFKB1;TNIP1\",\"GCST009131\",\"PMID:31672989\"],[18,\"disease of visual system\",0.1381814036283313,\"CDKN2B;LRIG3\",\"GCST90018814\",\"PMID:34594039\"],[18,\"disease of visual system\",0.2332305027257699,\"AFAP1;CDKN2B;ETS1\",\"GCST90011770\",\"PMID:33627673\"],[18,\"disease of visual system\",0.5835721151478896,\"NRIP1;VIPR2;CD34;BMP2\",\"GCST010378\",\"PMID:32352494\"]],\"hovertemplate\":\"trait_category=%{customdata[1]}\\u003cbr\\u003etrait_reported=%{x}\\u003cbr\\u003e-log10(p-value)=%{y}\\u003cbr\\u003eprogram_name=%{customdata[0]}\\u003cbr\\u003eP-value=%{customdata[2]}\\u003cbr\\u003eGenes=%{customdata[3]}\\u003cbr\\u003estudy_id=%{customdata[4]}\\u003cbr\\u003epmid=%{customdata[5]}\\u003cextra\\u003e\\u003c\\u002fextra\\u003e\",\"legendgroup\":\"disease of visual system\",\"marker\":{\"color\":\"#ab63fa\",\"symbol\":\"circle\"},\"mode\":\"markers\",\"name\":\"disease of visual system\",\"orientation\":\"v\",\"showlegend\":true,\"x\":[\"Juvenile Open Angle Glaucoma\",\"Age-related macular degeneration\",\"Glaucoma (multi-trait analysis)\",\"Systemic sclerosis\",\"Cataracts\",\"Glaucoma (primary open-angle)\",\"Spherical equivalent\"],\"xaxis\":\"x\",\"y\":[1.3154093784604852,1.0715352809667165,1.0243545560533815,1.0227139204761824,0.8595504001240976,0.6322146516008834,0.23390546819518573],\"yaxis\":\"y\",\"type\":\"scatter\"},{\"customdata\":[[18,\"endocrine system disease\",0.0944632897841781,\"TICAM1;BHLHE40;PANX1;MYC;SLC25A37;IFIH1\",\"GCST007073\",\"PMID:30595370\"],[18,\"endocrine system disease\",0.1197720364694692,\"IFIH1;CD69;VEGFA\",\"FINNGEN_R6_E4_THYROID\",null],[18,\"endocrine system disease\",0.1960959604212289,\"BHLHE40;MYC;IFIH1;PANX1\",\"GCST010571\",\"PMID:32581359\"],[18,\"endocrine system disease\",0.250853386071792,\"IFIH1;CD69;VEGFA\",\"FINNGEN_R6_E4_HYTHY_AI_STRICT_PURCH\",null],[18,\"endocrine system disease\",0.3516442816804437,\"BMP2\",\"GCST90018853\",\"PMID:34594039\"],[18,\"endocrine system disease\",0.4693015470211507,\"BMP2\",\"FINNGEN_R6_E4_GOITREMULTINOD\",null]],\"hovertemplate\":\"trait_category=%{customdata[1]}\\u003cbr\\u003etrait_reported=%{x}\\u003cbr\\u003e-log10(p-value)=%{y}\\u003cbr\\u003eprogram_name=%{customdata[0]}\\u003cbr\\u003eP-value=%{customdata[2]}\\u003cbr\\u003eGenes=%{customdata[3]}\\u003cbr\\u003estudy_id=%{customdata[4]}\\u003cbr\\u003epmid=%{customdata[5]}\\u003cextra\\u003e\\u003c\\u002fextra\\u003e\",\"legendgroup\":\"endocrine system disease\",\"marker\":{\"color\":\"#FFA15A\",\"symbol\":\"circle\"},\"mode\":\"markers\",\"name\":\"endocrine system disease\",\"orientation\":\"v\",\"showlegend\":true,\"x\":[\"Hypothyroidism\",\"Disorders of the thyroid gland\",\"Autoimmune thyroid disease\",\"Hypothyroidism, strict autoimmune, 3 medication purchases required\",\"Goiter\",\"Nontoxic multinodular goitre\"],\"xaxis\":\"x\",\"y\":[1.024736933730351,0.9216445661252467,0.707531352710795,0.6005800323983599,0.45389644054211864,0.328548014162443],\"yaxis\":\"y\",\"type\":\"scatter\"},{\"customdata\":[[18,\"gastrointestinal disease\",1.2651056779189714e-05,\"DUSP5;CCL2;ZFP36L1;SMAD3;DLD;ITGAV;ETS1;LRRC32;LACC1;MAP3K8;FOSL2;TRIB1\",\"GCST004131\",\"PMID:28067908\"],[18,\"gastrointestinal disease\",0.0176464071737207,\"ZNF827;CDKN2B;TRIB1;VEGFA\",\"GCST90094908\",\"PMID:35047847\"],[18,\"gastrointestinal disease\",0.0736777307772495,\"EPHA2;TRIB1;SYNJ2\",\"GCST90018819\",\"PMID:34594039\"],[18,\"gastrointestinal disease\",0.0750783170474788,\"LRRC32;REL\",\"GCST90016610\",\"PMID:33686288\"],[18,\"gastrointestinal disease\",0.094904341364359,\"NFKB1;DLD\",\"GCST001728\",\"PMID:23128233\"],[18,\"gastrointestinal disease\",0.2080290331032748,\"SMAD3\",\"GCST90027899\",\"PMID:34506852\"],[18,\"gastrointestinal disease\",0.2209820301716921,\"ZFP36L1;ETS1\",\"GCST005523\",\"PMID:22057235\"],[18,\"gastrointestinal disease\",0.5807981300334708,\"HIVEP2;PDE4B\",\"GCST90000514\",\"PMID:34187846\"]],\"hovertemplate\":\"trait_category=%{customdata[1]}\\u003cbr\\u003etrait_reported=%{x}\\u003cbr\\u003e-log10(p-value)=%{y}\\u003cbr\\u003eprogram_name=%{customdata[0]}\\u003cbr\\u003eP-value=%{customdata[2]}\\u003cbr\\u003eGenes=%{customdata[3]}\\u003cbr\\u003estudy_id=%{customdata[4]}\\u003cbr\\u003epmid=%{customdata[5]}\\u003cextra\\u003e\\u003c\\u002fextra\\u003e\",\"legendgroup\":\"gastrointestinal disease\",\"marker\":{\"color\":\"#19d3f3\",\"symbol\":\"circle\"},\"mode\":\"markers\",\"name\":\"gastrointestinal disease\",\"orientation\":\"v\",\"showlegend\":true,\"x\":[\"Inflammatory bowel disease\",\"Nonalcoholic fatty liver disease (imputed)\",\"Cholelithiasis\",\"Crohn's disease vs rheumatoid arthritis (ordinary least squares (OLS))\",\"Ulcerative colitis\",\"Eosinophilic esophagitis\",\"Celiac disease\",\"Gastroesophageal reflux disease\"],\"xaxis\":\"x\",\"y\":[4.897873195104661,1.7533437040699618,1.1326637585725419,1.1244854710691394,1.0227139204761824,0.6818760494764868,0.6556430408604881,0.23597479058181314],\"yaxis\":\"y\",\"type\":\"scatter\"},{\"customdata\":[[18,\"genetic, familial or congenital disease\",0.0077843699055717,\"CDKN2B;MAFB;TRIB1\",\"FINNGEN_R6_E4_HYPERCHOL\",null]],\"hovertemplate\":\"trait_category=%{customdata[1]}\\u003cbr\\u003etrait_reported=%{x}\\u003cbr\\u003e-log10(p-value)=%{y}\\u003cbr\\u003eprogram_name=%{customdata[0]}\\u003cbr\\u003eP-value=%{customdata[2]}\\u003cbr\\u003eGenes=%{customdata[3]}\\u003cbr\\u003estudy_id=%{customdata[4]}\\u003cbr\\u003epmid=%{customdata[5]}\\u003cextra\\u003e\\u003c\\u002fextra\\u003e\",\"legendgroup\":\"genetic, familial or congenital disease\",\"marker\":{\"color\":\"#FF6692\",\"symbol\":\"circle\"},\"mode\":\"markers\",\"name\":\"genetic, familial or congenital disease\",\"orientation\":\"v\",\"showlegend\":true,\"x\":[\"Pure hypercholesterolaemia\"],\"xaxis\":\"x\",\"y\":[2.1087765350043965],\"yaxis\":\"y\",\"type\":\"scatter\"},{\"customdata\":[[18,\"immune system disease\",0.0004299035409489,\"SMAD3;TSLP;ETS1;LRRC32;NFKB1;FOSL2\",\"GCST010984\",\"PMID:32603359\"],[18,\"immune system disease\",0.0005147882293242,\"SMAD3;TSLP;ETS1;LRRC32;NFKB1;FOSL2\",\"GCST010985\",\"PMID:32603359\"],[18,\"immune system disease\",0.0586789681253243,\"ZFP36L1;ZFP36L2;VMP1;TNIP3;LCK;ETS1;HHEX;MYC\",\"GCST009597\",\"PMID:31604244\"],[18,\"immune system disease\",0.811889608650728,\"TICAM1\",\"GCST007071\",\"PMID:30595370\"]],\"hovertemplate\":\"trait_category=%{customdata[1]}\\u003cbr\\u003etrait_reported=%{x}\\u003cbr\\u003e-log10(p-value)=%{y}\\u003cbr\\u003eprogram_name=%{customdata[0]}\\u003cbr\\u003eP-value=%{customdata[2]}\\u003cbr\\u003eGenes=%{customdata[3]}\\u003cbr\\u003estudy_id=%{customdata[4]}\\u003cbr\\u003epmid=%{customdata[5]}\\u003cextra\\u003e\\u003c\\u002fextra\\u003e\",\"legendgroup\":\"immune system disease\",\"marker\":{\"color\":\"#B6E880\",\"symbol\":\"circle\"},\"mode\":\"markers\",\"name\":\"immune system disease\",\"orientation\":\"v\",\"showlegend\":true,\"x\":[\"Allergic disease (asthma, hay fever and\\u002for eczema) (multivariate analysis)\",\"Allergic disease (asthma, hay fever and\\u002for eczema) (age of onset)\",\"Multiple sclerosis\",\"Autoimmune traits\"],\"xaxis\":\"x\",\"y\":[3.366628977752882,3.288371391833677,1.2315175318672333,0.0905030170802706],\"yaxis\":\"y\",\"type\":\"scatter\"},{\"customdata\":[[18,\"infectious disease\",0.0848134479389961,\"LACC1;CYLD\",\"GCST002772\",\"PMID:25642632\"]],\"hovertemplate\":\"trait_category=%{customdata[1]}\\u003cbr\\u003etrait_reported=%{x}\\u003cbr\\u003e-log10(p-value)=%{y}\\u003cbr\\u003eprogram_name=%{customdata[0]}\\u003cbr\\u003eP-value=%{customdata[2]}\\u003cbr\\u003eGenes=%{customdata[3]}\\u003cbr\\u003estudy_id=%{customdata[4]}\\u003cbr\\u003epmid=%{customdata[5]}\\u003cextra\\u003e\\u003c\\u002fextra\\u003e\",\"legendgroup\":\"infectious disease\",\"marker\":{\"color\":\"#FF97FF\",\"symbol\":\"circle\"},\"mode\":\"markers\",\"name\":\"infectious disease\",\"orientation\":\"v\",\"showlegend\":true,\"x\":[\"Leprosy\"],\"xaxis\":\"x\",\"y\":[1.0715352809667165],\"yaxis\":\"y\",\"type\":\"scatter\"},{\"customdata\":[[18,\"injury, poisoning or other complication\",0.0441354248628998,\"MYC;STARD10;CDKN2B;HHEX\",\"FINNGEN_R6_E4_DM2NASCOMP\",null],[18,\"injury, poisoning or other complication\",0.1729020269278623,\"IFNGR1;TICAM1\",\"NEALE2_6149_1\",null],[18,\"injury, poisoning or other complication\",0.2591134968866853,\"FOSL2\",\"FINNGEN_R6_E4_DM1NASCOMP\",null]],\"hovertemplate\":\"trait_category=%{customdata[1]}\\u003cbr\\u003etrait_reported=%{x}\\u003cbr\\u003e-log10(p-value)=%{y}\\u003cbr\\u003eprogram_name=%{customdata[0]}\\u003cbr\\u003eP-value=%{customdata[2]}\\u003cbr\\u003eGenes=%{customdata[3]}\\u003cbr\\u003estudy_id=%{customdata[4]}\\u003cbr\\u003epmid=%{customdata[5]}\\u003cextra\\u003e\\u003c\\u002fextra\\u003e\",\"legendgroup\":\"injury, poisoning or other complication\",\"marker\":{\"color\":\"#FECB52\",\"symbol\":\"circle\"},\"mode\":\"markers\",\"name\":\"injury, poisoning or other complication\",\"orientation\":\"v\",\"showlegend\":true,\"x\":[\"Type 2 diabetes with other specified\\u002fmultiple\\u002funspecified complications\",\"Mouth ulcers | mouth\\u002fteeth dental problems\",\"Type 1 diabetes with other specified\\u002fmultiple\\u002funspecified complications\"],\"xaxis\":\"x\",\"y\":[1.3552126883872841,0.7621999154685528,0.5865099645875235],\"yaxis\":\"y\",\"type\":\"scatter\"},{\"customdata\":[[18,\"integumentary system disease\",2.095236798858871e-06,\"DDX58;NFKBIZ;NFKBIA;ETS1;TNIP1;TRIM47;REL;TNFAIP3;IFIH1\",\"GCST004346\",\"PMID:28537254\"],[18,\"integumentary system disease\",7.093100161031686e-05,\"NFKBIZ;TNFAIP3;REL;TNIP1\",\"GCST90018907\",\"PMID:34594039\"],[18,\"integumentary system disease\",0.0123930243099237,\"LRRC32;ETS1;SMAD3;ZNF217\",\"GCST90086149\",\"PMID:34116867\"],[18,\"integumentary system disease\",0.05681898129963,\"LRRC32;ETS1\",\"GCST90038679\",\"PMID:33959723\"],[18,\"integumentary system disease\",0.2080290331032748,\"LRRC32\",\"GCST004866\",\"PMID:25608926\"],[18,\"integumentary system disease\",0.2591134968866853,\"ANKRD33B\",\"FINNGEN_R6_L12_NONIONRADISKIN\",null],[18,\"integumentary system disease\",0.294504581569949,\"GORAB;FAR2\",\"GCST005116\",\"PMID:29146897\"],[18,\"integumentary system disease\",0.3551247366181809,\"PTPN1;TICAM1\",\"GCST004785\",\"PMID:27723757\"],[18,\"integumentary system disease\",0.644608119480519,\"IL1B\",\"GCST90092000\",\"PMID:35132056\"]],\"hovertemplate\":\"trait_category=%{customdata[1]}\\u003cbr\\u003etrait_reported=%{x}\\u003cbr\\u003e-log10(p-value)=%{y}\\u003cbr\\u003eprogram_name=%{customdata[0]}\\u003cbr\\u003eP-value=%{customdata[2]}\\u003cbr\\u003eGenes=%{customdata[3]}\\u003cbr\\u003estudy_id=%{customdata[4]}\\u003cbr\\u003epmid=%{customdata[5]}\\u003cextra\\u003e\\u003c\\u002fextra\\u003e\",\"legendgroup\":\"integumentary system disease\",\"marker\":{\"color\":\"#636efa\",\"symbol\":\"circle\"},\"mode\":\"markers\",\"name\":\"integumentary system disease\",\"orientation\":\"v\",\"showlegend\":true,\"x\":[\"Psoriasis\",\"Psoriasis vulgaris\",\"Atopic dermatitis\",\"Dermatologic disease\",\"Alopecia areata\",\"Skin changes due to chronic exposure to nonionizing radiation\",\"Male-pattern baldness\",\"Vitiligo\",\"acne vulgaris\"],\"xaxis\":\"x\",\"y\":[5.678766886957297,4.149163907474712,1.9068226983990177,1.2455065569544308,0.6818760494764868,0.5865099645875235,0.5309079445608521,0.44961907536774226,0.19070422841819729],\"yaxis\":\"y\",\"type\":\"scatter\"},{\"customdata\":[[18,\"musculoskeletal or connective tissue disease\",0.0003341275004062,\"ZFP36L1;ETS1;CD83;NFKBIE;ICOSLG;REL;TRAF1;TNFAIP3\",\"GCST90013534\",\"PMID:33310728\"],[18,\"musculoskeletal or connective tissue disease\",0.05681898129963,\"LRP5;ETS2\",\"GCST90018887\",\"PMID:34594039\"],[18,\"musculoskeletal or connective tissue disease\",0.1534373244521871,\"SMAD3\",\"GCST90018922\",\"PMID:34594039\"],[18,\"musculoskeletal or connective tissue disease\",0.2339952943130036,\"ZFP36L1\",\"GCST90010715\",\"PMID:33106285\"],[18,\"musculoskeletal or connective tissue disease\",0.3296512111811371,\"ETS2\",\"GCST006980\",\"PMID:30598549\"],[18,\"musculoskeletal or connective tissue disease\",0.3296512111811371,\"LRP5\",\"GCST90038652\",\"PMID:33959723\"],[18,\"musculoskeletal or connective tissue disease\",0.3516442816804437,\"SMAD3\",\"GCST006926_2\",\"PMID:30374069\"],[18,\"musculoskeletal or connective tissue disease\",0.4693015470211507,\"MAFB\",\"GCST004858\",\"PMID:28886342\"],[18,\"musculoskeletal or connective tissue disease\",0.486728922989194,\"LRIG3\",\"GCST90034524\",\"PMID:34450027\"]],\"hovertemplate\":\"trait_category=%{customdata[1]}\\u003cbr\\u003etrait_reported=%{x}\\u003cbr\\u003e-log10(p-value)=%{y}\\u003cbr\\u003eprogram_name=%{customdata[0]}\\u003cbr\\u003eP-value=%{customdata[2]}\\u003cbr\\u003eGenes=%{customdata[3]}\\u003cbr\\u003estudy_id=%{customdata[4]}\\u003cbr\\u003epmid=%{customdata[5]}\\u003cextra\\u003e\\u003c\\u002fextra\\u003e\",\"legendgroup\":\"musculoskeletal or connective tissue disease\",\"marker\":{\"color\":\"#EF553B\",\"symbol\":\"circle\"},\"mode\":\"markers\",\"name\":\"musculoskeletal or connective tissue disease\",\"orientation\":\"v\",\"showlegend\":true,\"x\":[\"Rheumatoid arthritis\",\"Osteoporosis\",\"Spinal canal stenosis\",\"Arthritis (juvenile idiopathic)\",\"Fractures\",\"Bone disorder\",\"Osteoarthritis (hip) [additive]\",\"Dupuytren's disease\",\"Osteoarthritis (with total hip replacement)\"],\"xaxis\":\"x\",\"y\":[3.476087778228517,1.2455065569544308,0.8140689830734511,0.630792876241332,0.4819453242633147,0.4819453242633147,0.45389644054211864,0.328548014162443,0.312712845822675],\"yaxis\":\"y\",\"type\":\"scatter\"},{\"customdata\":[[18,\"nervous system disease\",0.1495829186468357,\"SYNJ2;KLF7\",\"NEALE2_2247_1\",null],[18,\"nervous system disease\",0.1611644221069998,\"DMTF1;ARL14EP\",\"GCST90016620\",\"PMID:33686288\"],[18,\"nervous system disease\",0.3069151920243448,\"ADAMTS9\",\"GCST004138\",\"PMID:28256260\"],[18,\"nervous system disease\",0.5356642958191504,\"SYNJ2\",\"GCST90012115\",\"PMID:32986727\"],[18,\"nervous system disease\",0.593757536788811,\"SORL1\",\"GCST90044699\",\"PMID:34493870\"],[18,\"nervous system disease\",0.7456821241565759,\"KLF7\",\"GCST012090\",\"PMID:33479212\"],[18,\"nervous system disease\",0.9762560096268644,\"SORL1;CYLD;PDE4B;EPHB1;PHACTR1\",\"GCST90061435\",\"PMID:34446935\"]],\"hovertemplate\":\"trait_category=%{customdata[1]}\\u003cbr\\u003etrait_reported=%{x}\\u003cbr\\u003e-log10(p-value)=%{y}\\u003cbr\\u003eprogram_name=%{customdata[0]}\\u003cbr\\u003eP-value=%{customdata[2]}\\u003cbr\\u003eGenes=%{customdata[3]}\\u003cbr\\u003estudy_id=%{customdata[4]}\\u003cbr\\u003epmid=%{customdata[5]}\\u003cextra\\u003e\\u003c\\u002fextra\\u003e\",\"legendgroup\":\"nervous system disease\",\"marker\":{\"color\":\"#00cc96\",\"symbol\":\"circle\"},\"mode\":\"markers\",\"name\":\"nervous system disease\",\"orientation\":\"v\",\"showlegend\":true,\"x\":[\"Yes | hearing difficulty\\u002fproblems\",\"Schizophrenia vs autism spectrum disorder (ordinary least squares (OLS))\",\"Early-onset Parkinson's disease\",\"Age-related hearing impairment (MTAG)\",\"Late-onset Alzheimer's disease\",\"Major depressive disorder (MTAG)\",\"Externalizing behaviour (multivariate analysis)\"],\"xaxis\":\"x\",\"y\":[0.8251179971197422,0.7927308247391054,0.5129816138521581,0.2711073001372868,0.22639086466809943,0.12744626789662403,0.010436279680838028],\"yaxis\":\"y\",\"type\":\"scatter\"},{\"customdata\":[[18,\"pancreas disease\",0.0311015508225137,\"ZFP36L2;HHEX;HIVEP2;STARD10;CDKN2B\",\"FINNGEN_R6_DIABETES_FG\",null],[18,\"pancreas disease\",0.2072650755162208,\"HIVEP2;CDKN2B;HHEX\",\"GCST007077\",\"PMID:30595370\"]],\"hovertemplate\":\"trait_category=%{customdata[1]}\\u003cbr\\u003etrait_reported=%{x}\\u003cbr\\u003e-log10(p-value)=%{y}\\u003cbr\\u003eprogram_name=%{customdata[0]}\\u003cbr\\u003eP-value=%{customdata[2]}\\u003cbr\\u003eGenes=%{customdata[3]}\\u003cbr\\u003estudy_id=%{customdata[4]}\\u003cbr\\u003epmid=%{customdata[5]}\\u003cextra\\u003e\\u003c\\u002fextra\\u003e\",\"legendgroup\":\"pancreas disease\",\"marker\":{\"color\":\"#ab63fa\",\"symbol\":\"circle\"},\"mode\":\"markers\",\"name\":\"pancreas disease\",\"orientation\":\"v\",\"showlegend\":true,\"x\":[\"Diabetes, varying definitions\",\"Type 2 diabetes\"],\"xaxis\":\"x\",\"y\":[1.5072179551253149,0.6834738710291072],\"yaxis\":\"y\",\"type\":\"scatter\"},{\"customdata\":[[18,\"phenotype\",1.155322266231403e-05,\"FOXO1;SMAD3;NFKBIA;TSLP;ETS1;IRF1;MSX1;ZNF217;LRRC32;NFKB1;TNFAIP3;TRAF1;REL;MYC;FOSL2\",\"GCST007075\",\"PMID:30595370\"],[18,\"phenotype\",0.0108967965825501,\"NFKB1;IFNGR1;TICAM1;MAFB\",\"GCST007839\",\"PMID:30837455\"],[18,\"phenotype\",0.0196884964512251,\"FRMD6;MAFB;MSX1\",\"GCST004166\",\"PMID:28232668\"],[18,\"phenotype\",0.0218146680043887,\"FGD6;PHACTR1;CDKN2B;PLPP3\",\"GCST90018793\",\"PMID:34594039\"],[18,\"phenotype\",0.1508526983004153,\"TRIB1;MAFB;ZFP91;VEGFA\",\"GCST90038690\",\"PMID:33959723\"],[18,\"phenotype\",0.182754279672259,\"FOSL2;ZFP36L2;GORAB;VMP1\",\"NEALE2_1717\",null],[18,\"phenotype\",0.2339952943130036,\"KLF7\",\"NEALE2_2257\",null],[18,\"phenotype\",0.2834112308206127,\"MAFB\",\"GCST004051\",\"PMID:28054174\"],[18,\"phenotype\",0.2834112308206127,\"TRIB1\",\"GCST008791\",\"PMID:31511532\"],[18,\"phenotype\",0.3516442816804437,\"CDKN2B\",\"GCST005843\",\"PMID:29531354\"],[18,\"phenotype\",0.4693015470211507,\"ZNF385D\",\"GCST002759\",\"PMID:25628336\"],[18,\"phenotype\",0.4693015470211507,\"PHACTR1\",\"GCST005337\",\"PMID:29397368\"],[18,\"phenotype\",0.486728922989194,\"ARL14EP\",\"NEALE2_2724\",null],[18,\"phenotype\",0.486728922989194,\"MAFB\",\"SAIGE_728_7\",null],[18,\"phenotype\",0.486728922989194,\"SMAD3\",\"FINNGEN_R6_K11_HERNIA\",null],[18,\"phenotype\",0.51989202325866,\"EPHB1\",\"NEALE2_1920\",null],[18,\"phenotype\",0.55092043013972,\"ZFP36L1\",\"GCST006586\",\"PMID:30220432\"],[18,\"phenotype\",0.553958434614523,\"BMP2;ADD3;NRIP1;ADAMTS9;DDX5;VIPR2;RGS3;PPP4R2;TRAF1;VEGFA\",\"GCST010002\",\"PMID:32231278\"],[18,\"phenotype\",0.7730278310197776,\"FOSL2;ZFP36L1\",\"GCST006988\",\"PMID:30531825\"],[18,\"phenotype\",0.8783917419742837,\"NRIP1\",\"GCST006290\",\"PMID:29808027\"]],\"hovertemplate\":\"trait_category=%{customdata[1]}\\u003cbr\\u003etrait_reported=%{x}\\u003cbr\\u003e-log10(p-value)=%{y}\\u003cbr\\u003eprogram_name=%{customdata[0]}\\u003cbr\\u003eP-value=%{customdata[2]}\\u003cbr\\u003eGenes=%{customdata[3]}\\u003cbr\\u003estudy_id=%{customdata[4]}\\u003cbr\\u003epmid=%{customdata[5]}\\u003cextra\\u003e\\u003c\\u002fextra\\u003e\",\"legendgroup\":\"phenotype\",\"marker\":{\"color\":\"#FFA15A\",\"symbol\":\"circle\"},\"mode\":\"markers\",\"name\":\"phenotype\",\"orientation\":\"v\",\"showlegend\":true,\"x\":[\"Eczema\",\"Mouth ulcers\",\"Nonsyndromic cleft lip with cleft palate\",\"Angina pectoris\",\"High cholesterol\",\"Skin colour\",\"Hearing difficulty\\u002fproblems with background noise\",\"Orofacial clefts\",\"Microalbuminuria\",\"Ischemic stroke\",\"Motion sickness\",\"Headache\",\"Had menopause\",\"Fasciitis\",\"Hernia\",\"Mood swings\",\"Urinary albumin excretion\",\"Refractive error\",\"Blond vs. brown\\u002fblack hair color\",\"Myopia (age of diagnosis)\"],\"xaxis\":\"x\",\"y\":[4.937296856530154,1.9627011562792496,1.7057874483041726,1.6612513921183327,0.8214469171992989,0.738132444103159,0.630792876241332,0.5475829438317577,0.5475829438317577,0.45389644054211864,0.328548014162443,0.328548014162443,0.312712845822675,0.312712845822675,0.312712845822675,0.2840868459273045,0.2589111221040304,0.25652282064119303,0.11180487006520251,0.05631175580821194],\"yaxis\":\"y\",\"type\":\"scatter\"},{\"customdata\":[[18,\"reproductive system or breast disease\",0.0047141186225538,\"IL1A;CDKN2B;ARL14EP\",\"GCST004549\",\"PMID:28537267\"],[18,\"reproductive system or breast disease\",0.026265204635174,\"CDKN2B;ARL14EP\",\"FINNGEN_R6_N14_ENDOMETRIOSIS_OVARY\",null],[18,\"reproductive system or breast disease\",0.05681898129963,\"ARL14EP;IRF1\",\"GCST007089\",\"PMID:30566500\"]],\"hovertemplate\":\"trait_category=%{customdata[1]}\\u003cbr\\u003etrait_reported=%{x}\\u003cbr\\u003e-log10(p-value)=%{y}\\u003cbr\\u003eprogram_name=%{customdata[0]}\\u003cbr\\u003eP-value=%{customdata[2]}\\u003cbr\\u003eGenes=%{customdata[3]}\\u003cbr\\u003estudy_id=%{customdata[4]}\\u003cbr\\u003epmid=%{customdata[5]}\\u003cextra\\u003e\\u003c\\u002fextra\\u003e\",\"legendgroup\":\"reproductive system or breast disease\",\"marker\":{\"color\":\"#19d3f3\",\"symbol\":\"circle\"},\"mode\":\"markers\",\"name\":\"reproductive system or breast disease\",\"orientation\":\"v\",\"showlegend\":true,\"x\":[\"Endometriosis\",\"Endometriosis of ovary\",\"Polycystic ovary syndrome\"],\"xaxis\":\"x\",\"y\":[2.3265994934128047,1.5806192112103619,1.2455065569544308],\"yaxis\":\"y\",\"type\":\"scatter\"},{\"customdata\":[[18,\"respiratory or thoracic disease\",1.2787603846918074e-06,\"IL1B;FOXO1;SMAD3;TSLP;ETS1;IRF1;MSX1;ZNF217;LRRC32;NFKB1;TNFAIP3;TRAF1;REL;MYC\",\"GCST009717\",\"PMID:31361310\"],[18,\"respiratory or thoracic disease\",5.720411410872855e-05,\"IL6;SMAD3;NFKBIA;TSLP;ITGAV;ETS1;ZNF217;SBNO2;LRRC32;TRAF1;HIVEP2;MYC;MAP3K8\",\"GCST010043\",\"PMID:32296059\"],[18,\"respiratory or thoracic disease\",0.0004263460121864,\"ZFP36L1;SMAD3;NFKBIA;TSLP;IRF1;LRRC32;TNFAIP3;HHEX;BCL3\",\"GCST007076\",\"PMID:30595370\"],[18,\"respiratory or thoracic disease\",0.0019098333267005,\"LRRC32;TSLP;SMAD3;MSX1\",\"NEALE2_20002_1387\",null],[18,\"respiratory or thoracic disease\",0.0022582655873952,\"SMAD3;NFKB1;LRRC32;MYC;FOSL2\",\"GCST006409\",\"PMID:30013184\"],[18,\"respiratory or thoracic disease\",0.0096706540413381,\"LRRC32;TSLP;SMAD3\",\"GCST007797\",\"PMID:30929738\"],[18,\"respiratory or thoracic disease\",0.0096706540413381,\"TSLP;IRF1;SMAD3\",\"FINNGEN_R6_J10_LOWCHRON\",null],[18,\"respiratory or thoracic disease\",0.0166206058432783,\"SMAD3;TSLP;ZNF217;LRRC32;TRAF1\",\"GCST009850\",\"PMID:31669095\"],[18,\"respiratory or thoracic disease\",0.0168059140974743,\"TSLP;IRF1;SMAD3\",\"FINNGEN_R6_J10_ASTHMACOPDKELA\",null],[18,\"respiratory or thoracic disease\",0.0228262009725139,\"LRRC32;TSLP;SMAD3\",\"GCST009842\",\"PMID:31669095\"],[18,\"respiratory or thoracic disease\",0.0750783170474788,\"NFKB1;SMAD3\",\"FINNGEN_R6_J10_UPPERDIS\",null],[18,\"respiratory or thoracic disease\",0.1495829186468357,\"LRRC32;SMAD3\",\"GCST90018895\",\"PMID:34594039\"]],\"hovertemplate\":\"trait_category=%{customdata[1]}\\u003cbr\\u003etrait_reported=%{x}\\u003cbr\\u003e-log10(p-value)=%{y}\\u003cbr\\u003eprogram_name=%{customdata[0]}\\u003cbr\\u003eP-value=%{customdata[2]}\\u003cbr\\u003eGenes=%{customdata[3]}\\u003cbr\\u003estudy_id=%{customdata[4]}\\u003cbr\\u003epmid=%{customdata[5]}\\u003cextra\\u003e\\u003c\\u002fextra\\u003e\",\"legendgroup\":\"respiratory or thoracic disease\",\"marker\":{\"color\":\"#FF6692\",\"symbol\":\"circle\"},\"mode\":\"markers\",\"name\":\"respiratory or thoracic disease\",\"orientation\":\"v\",\"showlegend\":true,\"x\":[\"Hay fever and\\u002for eczema\",\"Asthma\",\"Respiratory diseases\",\"Hayfever\\u002fallergic rhinitis | non-cancer illness code, self-reported\",\"Allergic rhinitis\",\"Asthma onset (childhood vs adult)\",\"Chronic lower respiratory diseases\",\"Atopic asthma\",\"Asthma\\u002fCOPD (KELA code 203)\",\"Asthma (adult onset)\",\"Other diseases of upper respiratory tract\",\"Pediatric asthma\"],\"xaxis\":\"x\",\"y\":[5.893210826401163,4.242572735709311,3.3702377948210374,2.719004532465746,2.6462249834219618,2.0145441529140404,2.0145441529140404,1.779353149649551,1.7745378606599926,1.6415663633220565,1.1244854710691394,0.8251179971197422],\"yaxis\":\"y\",\"type\":\"scatter\"},{\"customdata\":[[18,\"urinary system disease\",0.182754279672259,\"ETS1;IRF1;TNFAIP3;TNIP1\",\"GCST011956\",\"PMID:33272962\"],[18,\"urinary system disease\",0.2454318122425826,\"ZFP36L2;CLDN14\",\"GCST90018935\",\"PMID:34594039\"],[18,\"urinary system disease\",0.3934975251317255,\"VEGFA\",\"GCST000649_3\",\"PMID:20383146\"],[18,\"urinary system disease\",0.4693015470211507,\"C9\",\"GCST008064\",\"PMID:31152163\"],[18,\"urinary system disease\",0.4693015470211507,\"CLDN14\",\"GCST009598\",\"PMID:31729369\"]],\"hovertemplate\":\"trait_category=%{customdata[1]}\\u003cbr\\u003etrait_reported=%{x}\\u003cbr\\u003e-log10(p-value)=%{y}\\u003cbr\\u003eprogram_name=%{customdata[0]}\\u003cbr\\u003eP-value=%{customdata[2]}\\u003cbr\\u003eGenes=%{customdata[3]}\\u003cbr\\u003estudy_id=%{customdata[4]}\\u003cbr\\u003epmid=%{customdata[5]}\\u003cextra\\u003e\\u003c\\u002fextra\\u003e\",\"legendgroup\":\"urinary system disease\",\"marker\":{\"color\":\"#B6E880\",\"symbol\":\"circle\"},\"mode\":\"markers\",\"name\":\"urinary system disease\",\"orientation\":\"v\",\"showlegend\":true,\"x\":[\"Systemic lupus erythematosus\",\"Urolithiasis\",\"Chronic kidney disease [eGFRcrea]\",\"Chronic kidney disease\",\"Kidney stones\"],\"xaxis\":\"x\",\"y\":[0.738132444103159,0.6100691458226155,0.40505799475349363,0.328548014162443,0.328548014162443],\"yaxis\":\"y\",\"type\":\"scatter\"}],                        {\"template\":{\"data\":{\"histogram2dcontour\":[{\"type\":\"histogram2dcontour\",\"colorbar\":{\"outlinewidth\":0,\"ticks\":\"\"},\"colorscale\":[[0.0,\"#0d0887\"],[0.1111111111111111,\"#46039f\"],[0.2222222222222222,\"#7201a8\"],[0.3333333333333333,\"#9c179e\"],[0.4444444444444444,\"#bd3786\"],[0.5555555555555556,\"#d8576b\"],[0.6666666666666666,\"#ed7953\"],[0.7777777777777778,\"#fb9f3a\"],[0.8888888888888888,\"#fdca26\"],[1.0,\"#f0f921\"]]}],\"choropleth\":[{\"type\":\"choropleth\",\"colorbar\":{\"outlinewidth\":0,\"ticks\":\"\"}}],\"histogram2d\":[{\"type\":\"histogram2d\",\"colorbar\":{\"outlinewidth\":0,\"ticks\":\"\"},\"colorscale\":[[0.0,\"#0d0887\"],[0.1111111111111111,\"#46039f\"],[0.2222222222222222,\"#7201a8\"],[0.3333333333333333,\"#9c179e\"],[0.4444444444444444,\"#bd3786\"],[0.5555555555555556,\"#d8576b\"],[0.6666666666666666,\"#ed7953\"],[0.7777777777777778,\"#fb9f3a\"],[0.8888888888888888,\"#fdca26\"],[1.0,\"#f0f921\"]]}],\"heatmap\":[{\"type\":\"heatmap\",\"colorbar\":{\"outlinewidth\":0,\"ticks\":\"\"},\"colorscale\":[[0.0,\"#0d0887\"],[0.1111111111111111,\"#46039f\"],[0.2222222222222222,\"#7201a8\"],[0.3333333333333333,\"#9c179e\"],[0.4444444444444444,\"#bd3786\"],[0.5555555555555556,\"#d8576b\"],[0.6666666666666666,\"#ed7953\"],[0.7777777777777778,\"#fb9f3a\"],[0.8888888888888888,\"#fdca26\"],[1.0,\"#f0f921\"]]}],\"heatmapgl\":[{\"type\":\"heatmapgl\",\"colorbar\":{\"outlinewidth\":0,\"ticks\":\"\"},\"colorscale\":[[0.0,\"#0d0887\"],[0.1111111111111111,\"#46039f\"],[0.2222222222222222,\"#7201a8\"],[0.3333333333333333,\"#9c179e\"],[0.4444444444444444,\"#bd3786\"],[0.5555555555555556,\"#d8576b\"],[0.6666666666666666,\"#ed7953\"],[0.7777777777777778,\"#fb9f3a\"],[0.8888888888888888,\"#fdca26\"],[1.0,\"#f0f921\"]]}],\"contourcarpet\":[{\"type\":\"contourcarpet\",\"colorbar\":{\"outlinewidth\":0,\"ticks\":\"\"}}],\"contour\":[{\"type\":\"contour\",\"colorbar\":{\"outlinewidth\":0,\"ticks\":\"\"},\"colorscale\":[[0.0,\"#0d0887\"],[0.1111111111111111,\"#46039f\"],[0.2222222222222222,\"#7201a8\"],[0.3333333333333333,\"#9c179e\"],[0.4444444444444444,\"#bd3786\"],[0.5555555555555556,\"#d8576b\"],[0.6666666666666666,\"#ed7953\"],[0.7777777777777778,\"#fb9f3a\"],[0.8888888888888888,\"#fdca26\"],[1.0,\"#f0f921\"]]}],\"surface\":[{\"type\":\"surface\",\"colorbar\":{\"outlinewidth\":0,\"ticks\":\"\"},\"colorscale\":[[0.0,\"#0d0887\"],[0.1111111111111111,\"#46039f\"],[0.2222222222222222,\"#7201a8\"],[0.3333333333333333,\"#9c179e\"],[0.4444444444444444,\"#bd3786\"],[0.5555555555555556,\"#d8576b\"],[0.6666666666666666,\"#ed7953\"],[0.7777777777777778,\"#fb9f3a\"],[0.8888888888888888,\"#fdca26\"],[1.0,\"#f0f921\"]]}],\"mesh3d\":[{\"type\":\"mesh3d\",\"colorbar\":{\"outlinewidth\":0,\"ticks\":\"\"}}],\"scatter\":[{\"fillpattern\":{\"fillmode\":\"overlay\",\"size\":10,\"solidity\":0.2},\"type\":\"scatter\"}],\"parcoords\":[{\"type\":\"parcoords\",\"line\":{\"colorbar\":{\"outlinewidth\":0,\"ticks\":\"\"}}}],\"scatterpolargl\":[{\"type\":\"scatterpolargl\",\"marker\":{\"colorbar\":{\"outlinewidth\":0,\"ticks\":\"\"}}}],\"bar\":[{\"error_x\":{\"color\":\"#2a3f5f\"},\"error_y\":{\"color\":\"#2a3f5f\"},\"marker\":{\"line\":{\"color\":\"#E5ECF6\",\"width\":0.5},\"pattern\":{\"fillmode\":\"overlay\",\"size\":10,\"solidity\":0.2}},\"type\":\"bar\"}],\"scattergeo\":[{\"type\":\"scattergeo\",\"marker\":{\"colorbar\":{\"outlinewidth\":0,\"ticks\":\"\"}}}],\"scatterpolar\":[{\"type\":\"scatterpolar\",\"marker\":{\"colorbar\":{\"outlinewidth\":0,\"ticks\":\"\"}}}],\"histogram\":[{\"marker\":{\"pattern\":{\"fillmode\":\"overlay\",\"size\":10,\"solidity\":0.2}},\"type\":\"histogram\"}],\"scattergl\":[{\"type\":\"scattergl\",\"marker\":{\"colorbar\":{\"outlinewidth\":0,\"ticks\":\"\"}}}],\"scatter3d\":[{\"type\":\"scatter3d\",\"line\":{\"colorbar\":{\"outlinewidth\":0,\"ticks\":\"\"}},\"marker\":{\"colorbar\":{\"outlinewidth\":0,\"ticks\":\"\"}}}],\"scattermapbox\":[{\"type\":\"scattermapbox\",\"marker\":{\"colorbar\":{\"outlinewidth\":0,\"ticks\":\"\"}}}],\"scatterternary\":[{\"type\":\"scatterternary\",\"marker\":{\"colorbar\":{\"outlinewidth\":0,\"ticks\":\"\"}}}],\"scattercarpet\":[{\"type\":\"scattercarpet\",\"marker\":{\"colorbar\":{\"outlinewidth\":0,\"ticks\":\"\"}}}],\"carpet\":[{\"aaxis\":{\"endlinecolor\":\"#2a3f5f\",\"gridcolor\":\"white\",\"linecolor\":\"white\",\"minorgridcolor\":\"white\",\"startlinecolor\":\"#2a3f5f\"},\"baxis\":{\"endlinecolor\":\"#2a3f5f\",\"gridcolor\":\"white\",\"linecolor\":\"white\",\"minorgridcolor\":\"white\",\"startlinecolor\":\"#2a3f5f\"},\"type\":\"carpet\"}],\"table\":[{\"cells\":{\"fill\":{\"color\":\"#EBF0F8\"},\"line\":{\"color\":\"white\"}},\"header\":{\"fill\":{\"color\":\"#C8D4E3\"},\"line\":{\"color\":\"white\"}},\"type\":\"table\"}],\"barpolar\":[{\"marker\":{\"line\":{\"color\":\"#E5ECF6\",\"width\":0.5},\"pattern\":{\"fillmode\":\"overlay\",\"size\":10,\"solidity\":0.2}},\"type\":\"barpolar\"}],\"pie\":[{\"automargin\":true,\"type\":\"pie\"}]},\"layout\":{\"autotypenumbers\":\"strict\",\"colorway\":[\"#636efa\",\"#EF553B\",\"#00cc96\",\"#ab63fa\",\"#FFA15A\",\"#19d3f3\",\"#FF6692\",\"#B6E880\",\"#FF97FF\",\"#FECB52\"],\"font\":{\"color\":\"#2a3f5f\"},\"hovermode\":\"closest\",\"hoverlabel\":{\"align\":\"left\"},\"paper_bgcolor\":\"white\",\"plot_bgcolor\":\"#E5ECF6\",\"polar\":{\"bgcolor\":\"#E5ECF6\",\"angularaxis\":{\"gridcolor\":\"white\",\"linecolor\":\"white\",\"ticks\":\"\"},\"radialaxis\":{\"gridcolor\":\"white\",\"linecolor\":\"white\",\"ticks\":\"\"}},\"ternary\":{\"bgcolor\":\"#E5ECF6\",\"aaxis\":{\"gridcolor\":\"white\",\"linecolor\":\"white\",\"ticks\":\"\"},\"baxis\":{\"gridcolor\":\"white\",\"linecolor\":\"white\",\"ticks\":\"\"},\"caxis\":{\"gridcolor\":\"white\",\"linecolor\":\"white\",\"ticks\":\"\"}},\"coloraxis\":{\"colorbar\":{\"outlinewidth\":0,\"ticks\":\"\"}},\"colorscale\":{\"sequential\":[[0.0,\"#0d0887\"],[0.1111111111111111,\"#46039f\"],[0.2222222222222222,\"#7201a8\"],[0.3333333333333333,\"#9c179e\"],[0.4444444444444444,\"#bd3786\"],[0.5555555555555556,\"#d8576b\"],[0.6666666666666666,\"#ed7953\"],[0.7777777777777778,\"#fb9f3a\"],[0.8888888888888888,\"#fdca26\"],[1.0,\"#f0f921\"]],\"sequentialminus\":[[0.0,\"#0d0887\"],[0.1111111111111111,\"#46039f\"],[0.2222222222222222,\"#7201a8\"],[0.3333333333333333,\"#9c179e\"],[0.4444444444444444,\"#bd3786\"],[0.5555555555555556,\"#d8576b\"],[0.6666666666666666,\"#ed7953\"],[0.7777777777777778,\"#fb9f3a\"],[0.8888888888888888,\"#fdca26\"],[1.0,\"#f0f921\"]],\"diverging\":[[0,\"#8e0152\"],[0.1,\"#c51b7d\"],[0.2,\"#de77ae\"],[0.3,\"#f1b6da\"],[0.4,\"#fde0ef\"],[0.5,\"#f7f7f7\"],[0.6,\"#e6f5d0\"],[0.7,\"#b8e186\"],[0.8,\"#7fbc41\"],[0.9,\"#4d9221\"],[1,\"#276419\"]]},\"xaxis\":{\"gridcolor\":\"white\",\"linecolor\":\"white\",\"ticks\":\"\",\"title\":{\"standoff\":15},\"zerolinecolor\":\"white\",\"automargin\":true,\"zerolinewidth\":2},\"yaxis\":{\"gridcolor\":\"white\",\"linecolor\":\"white\",\"ticks\":\"\",\"title\":{\"standoff\":15},\"zerolinecolor\":\"white\",\"automargin\":true,\"zerolinewidth\":2},\"scene\":{\"xaxis\":{\"backgroundcolor\":\"#E5ECF6\",\"gridcolor\":\"white\",\"linecolor\":\"white\",\"showbackground\":true,\"ticks\":\"\",\"zerolinecolor\":\"white\",\"gridwidth\":2},\"yaxis\":{\"backgroundcolor\":\"#E5ECF6\",\"gridcolor\":\"white\",\"linecolor\":\"white\",\"showbackground\":true,\"ticks\":\"\",\"zerolinecolor\":\"white\",\"gridwidth\":2},\"zaxis\":{\"backgroundcolor\":\"#E5ECF6\",\"gridcolor\":\"white\",\"linecolor\":\"white\",\"showbackground\":true,\"ticks\":\"\",\"zerolinecolor\":\"white\",\"gridwidth\":2}},\"shapedefaults\":{\"line\":{\"color\":\"#2a3f5f\"}},\"annotationdefaults\":{\"arrowcolor\":\"#2a3f5f\",\"arrowhead\":0,\"arrowwidth\":1},\"geo\":{\"bgcolor\":\"white\",\"landcolor\":\"#E5ECF6\",\"subunitcolor\":\"white\",\"showland\":true,\"showlakes\":true,\"lakecolor\":\"white\"},\"title\":{\"x\":0.05},\"mapbox\":{\"style\":\"light\"}}},\"xaxis\":{\"anchor\":\"y\",\"domain\":[0.0,1.0],\"title\":{\"text\":\"trait_reported\"},\"tickfont\":{\"size\":4}},\"yaxis\":{\"anchor\":\"x\",\"domain\":[0.0,1.0],\"title\":{\"text\":\"-log10(p-value)\"},\"tickformat\":\".1f\"},\"legend\":{\"title\":{\"text\":\"trait_category\"},\"tracegroupgap\":0},\"title\":{\"text\":\"Endothelial Cell Programs x GWAS Binary Outcome Enrichments\"},\"width\":1000,\"height\":800,\"shapes\":[{\"line\":{\"dash\":\"dash\"},\"type\":\"line\",\"x0\":0,\"x1\":1,\"xref\":\"x domain\",\"y0\":1.3010299956639813,\"y1\":1.3010299956639813,\"yref\":\"y\"}],\"annotations\":[{\"showarrow\":false,\"text\":\"Significance Threshold (0.05)\",\"x\":1,\"xanchor\":\"right\",\"xref\":\"x domain\",\"y\":1.3010299956639813,\"yanchor\":\"bottom\",\"yref\":\"y\"}]},                        {\"responsive\": true}                    ).then(function(){\n",
       "                            \n",
       "var gd = document.getElementById('f33a89d7-8ac8-411f-b245-0520f223982b');\n",
       "var x = new MutationObserver(function (mutations, observer) {{\n",
       "        var display = window.getComputedStyle(gd).display;\n",
       "        if (!display || display === 'none') {{\n",
       "            console.log([gd, 'removed!']);\n",
       "            Plotly.purge(gd);\n",
       "            observer.disconnect();\n",
       "        }}\n",
       "}});\n",
       "\n",
       "// Listen for the removal of the full notebook cells\n",
       "var notebookContainer = gd.closest('#notebook-container');\n",
       "if (notebookContainer) {{\n",
       "    x.observe(notebookContainer, {childList: true});\n",
       "}}\n",
       "\n",
       "// Listen for the clearing of the current output cell\n",
       "var outputEl = gd.closest('.output');\n",
       "if (outputEl) {{\n",
       "    x.observe(outputEl, {childList: true});\n",
       "}}\n",
       "\n",
       "                        })                };                });            </script>        </div>"
      ]
     },
     "metadata": {},
     "output_type": "display_data"
    },
    {
     "data": {
      "application/vnd.plotly.v1+json": {
       "config": {
        "plotlyServerURL": "https://plot.ly"
       },
       "data": [
        {
         "customdata": [
          [
           19,
           "biological process",
           0.0017764883074341,
           "PIR;LDLR;IRF2BP2;HMGCR;PNPLA3;LIPG;VEGFA",
           "FINNGEN_R6_RX_STATIN",
           null
          ],
          [
           19,
           "biological process",
           0.1343400831032873,
           "EPAS1",
           "GCST006054",
           "PMID:28373541"
          ],
          [
           19,
           "biological process",
           0.3114186984457615,
           "PCYOX1;TFB1M;NR2F1;IRF2BP2;SYT1;MARCKS;PTPN1;CBX5;CACNB1;HABP4;BNIP3L;MNT;DUSP6;NFIB;LONRF1;PDIA6;MTFR1;PTPRN2",
           "GCST006568",
           "PMID:30038396"
          ],
          [
           19,
           "biological process",
           0.6364585961150973,
           "AKAP12",
           "NEALE2_1757",
           null
          ],
          [
           19,
           "biological process",
           0.7647169252273888,
           "LONRF1",
           "GCST007464",
           "PMID:30643251"
          ],
          [
           19,
           "biological process",
           0.7823644484645602,
           "LBR;FRY;RAB3C",
           "GCST006660",
           "PMID:30348214"
          ],
          [
           19,
           "biological process",
           0.8052074518987202,
           "YWHAZ;PLXNA2;LRP8",
           "GCST007325",
           "PMID:30643258"
          ],
          [
           19,
           "biological process",
           0.8958060820939588,
           "SYT1",
           "GCST006269",
           "PMID:29844566"
          ],
          [
           19,
           "biological process",
           0.9346715046595316,
           "PLXNA2",
           "GCST007327",
           "PMID:30643258"
          ]
         ],
         "hovertemplate": "trait_category=%{customdata[1]}<br>trait_reported=%{x}<br>-log10(p-value)=%{y}<br>program_name=%{customdata[0]}<br>P-value=%{customdata[2]}<br>Genes=%{customdata[3]}<br>study_id=%{customdata[4]}<br>pmid=%{customdata[5]}<extra></extra>",
         "legendgroup": "biological process",
         "marker": {
          "color": "#636efa",
          "symbol": "circle"
         },
         "mode": "markers",
         "name": "biological process",
         "orientation": "v",
         "showlegend": true,
         "type": "scatter",
         "x": [
          "Statin medication",
          "High altitude adaptation",
          "Highest math class taken (MTAG) [MTAG]",
          "Facial ageing",
          "Smoking cessation (MTAG)",
          "DNA methylation variation (age effect)",
          "General risk tolerance (MTAG)",
          "General cognitive ability",
          "Smoking status (ever vs never smokers)"
         ],
         "xaxis": "x",
         "y": [
          2.750437646623041,
          0.8717943873810217,
          0.5066553147350892,
          0.1962298434849674,
          0.11649929760822468,
          0.10659089261010384,
          0.09409221452913771,
          0.047785993229935854,
          0.029340997449113893
         ],
         "yaxis": "y"
        },
        {
         "customdata": [
          [
           19,
           "cardiovascular disease",
           0.0201244224746658,
           "CDKN1A;LIPA",
           "GCST011496",
           "PMID:32981348"
          ],
          [
           19,
           "cardiovascular disease",
           0.0440297257759461,
           "CDKN1A;SQLE",
           "GCST011202",
           "PMID:33495596"
          ],
          [
           19,
           "cardiovascular disease",
           0.1283084629236031,
           "DPYSL2;UBASH3B;CLCN6;CLIC4;GLI2;NPC1;HSD17B12;VEGFA",
           "GCST007072",
           "PMID:30595370"
          ],
          [
           19,
           "cardiovascular disease",
           0.1343400831032873,
           "CDKN1A",
           "GCST012099",
           "PMID:33495597"
          ],
          [
           19,
           "cardiovascular disease",
           0.1485496708304558,
           "GLCE;CLCN6;SYT1",
           "FINNGEN_R6_RX_ANTIHYP",
           null
          ],
          [
           19,
           "cardiovascular disease",
           0.1833951163905241,
           "SCARB1;LIPA;VEGFA",
           "GCST005195",
           "PMID:29212778"
          ],
          [
           19,
           "cardiovascular disease",
           0.1984024628911286,
           "NUCKS1;SMIM29;CDKN1A;SQLE",
           "GCST006061",
           "PMID:29892015"
          ],
          [
           19,
           "cardiovascular disease",
           0.2507048273189083,
           "CDKN1A",
           "GCST009541",
           "PMID:31919418"
          ],
          [
           19,
           "cardiovascular disease",
           0.4703169934611635,
           "CDKN1A",
           "FINNGEN_R6_CARDIAC_ARRHYTM",
           null
          ],
          [
           19,
           "cardiovascular disease",
           0.5143547315191779,
           "CLCN6",
           "FINNGEN_R6_I9_IHD",
           null
          ],
          [
           19,
           "cardiovascular disease",
           0.5547466477670275,
           "TGFBR2",
           "GCST003720",
           "PMID:27322543"
          ],
          [
           19,
           "cardiovascular disease",
           0.8188532174755944,
           "LIPA",
           "GCST011365",
           "PMID:33532862"
          ],
          [
           19,
           "cardiovascular disease",
           0.8522214423029417,
           "SRBD1",
           "GCST90014033",
           "PMID:33888516"
          ]
         ],
         "hovertemplate": "trait_category=%{customdata[1]}<br>trait_reported=%{x}<br>-log10(p-value)=%{y}<br>program_name=%{customdata[0]}<br>P-value=%{customdata[2]}<br>Genes=%{customdata[3]}<br>study_id=%{customdata[4]}<br>pmid=%{customdata[5]}<extra></extra>",
         "legendgroup": "cardiovascular disease",
         "marker": {
          "color": "#EF553B",
          "symbol": "circle"
         },
         "mode": "markers",
         "name": "cardiovascular disease",
         "orientation": "v",
         "showlegend": true,
         "type": "scatter",
         "x": [
          "Abdominal aortic aneurysm",
          "Dilated cardiomyopathy (MTAG)",
          "Cardiovascular disease",
          "Hypertrophic cardiomyopathy (sarcomere negative)",
          "Antihypertensive medication - note that there are other indications",
          "Coronary artery disease",
          "Atrial fibrillation",
          "Heart failure",
          "Cardiac arrhytmias",
          "Ischaemic heart disease, wide definition",
          "Migraine",
          "Myocardial infarction",
          "Haemorrhoidal disease"
         ],
         "xaxis": "x",
         "y": [
          1.6962765740490229,
          1.3562540193863586,
          0.8917446976405934,
          0.8717943873810217,
          0.8281283062075069,
          0.736612233294601,
          0.7024529409853294,
          0.600837303625428,
          0.3276093290721635,
          0.28873726076138856,
          0.25590531345049344,
          0.08679394018522071,
          0.06944754293925572
         ],
         "yaxis": "y"
        },
        {
         "customdata": [
          [
           19,
           "cell proliferation disorder",
           0.0153788714617108,
           "SCARB1;EPAS1",
           "GCST004710",
           "PMID:28598434"
          ],
          [
           19,
           "cell proliferation disorder",
           0.0234350473829585,
           "CDKN1A;LPIN1;DDR2",
           "SAIGE_728_71",
           null
          ],
          [
           19,
           "cell proliferation disorder",
           0.2061550439296068,
           "RNASET2",
           "GCST004748",
           "PMID:28604730"
          ],
          [
           19,
           "cell proliferation disorder",
           0.447500965440971,
           "CDKN1A;TOX2",
           "GCST007992",
           "PMID:31089142"
          ],
          [
           19,
           "cell proliferation disorder",
           0.4547717929717223,
           "GJC1",
           "FINNGEN_R6_C3_MALE_GENITAL",
           null
          ],
          [
           19,
           "cell proliferation disorder",
           0.4547717929717223,
           "GJC1",
           "FINNGEN_R6_C3_MALE_GENITAL_EXALLC",
           null
          ],
          [
           19,
           "cell proliferation disorder",
           0.5282084219701223,
           "RNASET2",
           "SAIGE_172",
           null
          ],
          [
           19,
           "cell proliferation disorder",
           0.5547466477670275,
           "ID3",
           "GCST004146",
           "PMID:28165464"
          ],
          [
           19,
           "cell proliferation disorder",
           0.5547466477670275,
           "IL21R",
           "GCST90061442",
           "PMID:34033851"
          ],
          [
           19,
           "cell proliferation disorder",
           0.6364585961150973,
           "RNASET2",
           "GCST90027058",
           "PMID:34290314"
          ],
          [
           19,
           "cell proliferation disorder",
           0.777992860371213,
           "RNASET2",
           "GCST008871",
           "PMID:31174203"
          ],
          [
           19,
           "cell proliferation disorder",
           0.9121531895652748,
           "GLI2;VEGFA",
           "GCST011049",
           "PMID:33398198"
          ],
          [
           19,
           "cell proliferation disorder",
           0.926577614570827,
           "TGFBR2",
           "GCST90090980",
           "PMID:32139696"
          ]
         ],
         "hovertemplate": "trait_category=%{customdata[1]}<br>trait_reported=%{x}<br>-log10(p-value)=%{y}<br>program_name=%{customdata[0]}<br>P-value=%{customdata[2]}<br>Genes=%{customdata[3]}<br>study_id=%{customdata[4]}<br>pmid=%{customdata[5]}<extra></extra>",
         "legendgroup": "cell proliferation disorder",
         "marker": {
          "color": "#00cc96",
          "symbol": "circle"
         },
         "mode": "markers",
         "name": "cell proliferation disorder",
         "orientation": "v",
         "showlegend": true,
         "type": "scatter",
         "x": [
          "Renal cell carcinoma",
          "Contracture of palmar fascia [dupuytren's disease]",
          "Lung cancer",
          "Colorectal cancer",
          "malignant neoplasm of male genital organs",
          "malignant neoplasm of male genital organs (controls excluding all cancers)",
          "Skin cancer",
          "Chronic lymphocytic leukemia",
          "Primary biliary cholangitis",
          "Non-melanoma skin cancer",
          "Basal cell carcinoma",
          "Prostate cancer",
          "Breast cancer"
         ],
         "xaxis": "x",
         "y": [
          1.8130755329308288,
          1.6301341640496123,
          0.6858060349882722,
          0.3492060233978256,
          0.3422064800806736,
          0.3422064800806736,
          0.27719467850586216,
          0.25590531345049344,
          0.25590531345049344,
          0.1962298434849674,
          0.10902438850595701,
          0.0399322189128057,
          0.03311819623927466
         ],
         "yaxis": "y"
        },
        {
         "customdata": [
          [
           19,
           "disease of visual system",
           0.1094421927674374,
           "MMAB;MVK",
           "GCST90018814",
           "PMID:34594039"
          ],
          [
           19,
           "disease of visual system",
           0.3514897829027668,
           "VEGFA",
           "GCST001884",
           "PMID:23455636"
          ],
          [
           19,
           "disease of visual system",
           0.3519476214627181,
           "PTPN1;NPC2;PCSK5",
           "GCST009722",
           "PMID:31959993"
          ],
          [
           19,
           "disease of visual system",
           0.3879164909650702,
           "MMAB",
           "FINNGEN_R6_H7_LENS",
           null
          ],
          [
           19,
           "disease of visual system",
           0.6901679744939967,
           "LIPG;NPC2;ETNK1",
           "GCST010378",
           "PMID:32352494"
          ],
          [
           19,
           "disease of visual system",
           0.7714508248878551,
           "LTBP2",
           "GCST90011770",
           "PMID:33627673"
          ]
         ],
         "hovertemplate": "trait_category=%{customdata[1]}<br>trait_reported=%{x}<br>-log10(p-value)=%{y}<br>program_name=%{customdata[0]}<br>P-value=%{customdata[2]}<br>Genes=%{customdata[3]}<br>study_id=%{customdata[4]}<br>pmid=%{customdata[5]}<extra></extra>",
         "legendgroup": "disease of visual system",
         "marker": {
          "color": "#ab63fa",
          "symbol": "circle"
         },
         "mode": "markers",
         "name": "disease of visual system",
         "orientation": "v",
         "showlegend": true,
         "type": "scatter",
         "x": [
          "Cataracts",
          "Age-related macular degeneration",
          "Glaucoma (multi-trait analysis)",
          "Disorders of lens",
          "Spherical equivalent",
          "Glaucoma (primary open-angle)"
         ],
         "xaxis": "x",
         "y": [
          0.9608152140773768,
          0.4540872945230746,
          0.45352196550578805,
          0.4112617574381072,
          0.1610451969182307,
          0.11269175224569011
         ],
         "yaxis": "y"
        },
        {
         "customdata": [
          [
           19,
           "endocrine system disease",
           0.1376238528655774,
           "BHLHE40;RAB2A;IFITM2;RNASET2",
           "GCST010571",
           "PMID:32581359"
          ],
          [
           19,
           "endocrine system disease",
           0.2061550439296068,
           "RNASET2",
           "GCST90018860",
           "PMID:34594039"
          ],
          [
           19,
           "endocrine system disease",
           0.5172427184455903,
           "BHLHE40;RAB2A;RNASET2",
           "GCST007073",
           "PMID:30595370"
          ],
          [
           19,
           "endocrine system disease",
           0.6569316374263021,
           "VEGFA",
           "FINNGEN_R6_E4_THYROID",
           null
          ],
          [
           19,
           "endocrine system disease",
           0.7843484737352562,
           "VEGFA",
           "FINNGEN_R6_E4_HYTHY_AI_STRICT_PURCH",
           null
          ]
         ],
         "hovertemplate": "trait_category=%{customdata[1]}<br>trait_reported=%{x}<br>-log10(p-value)=%{y}<br>program_name=%{customdata[0]}<br>P-value=%{customdata[2]}<br>Genes=%{customdata[3]}<br>study_id=%{customdata[4]}<br>pmid=%{customdata[5]}<extra></extra>",
         "legendgroup": "endocrine system disease",
         "marker": {
          "color": "#FFA15A",
          "symbol": "circle"
         },
         "mode": "markers",
         "name": "endocrine system disease",
         "orientation": "v",
         "showlegend": true,
         "type": "scatter",
         "x": [
          "Autoimmune thyroid disease",
          "Hyperthyroidism",
          "Hypothyroidism",
          "Disorders of the thyroid gland",
          "Hypothyroidism, strict autoimmune, 3 medication purchases required"
         ],
         "xaxis": "x",
         "y": [
          0.8613062879746043,
          0.6858060349882722,
          0.28630561445857156,
          0.1824798222716765,
          0.10549094420805395
         ],
         "yaxis": "y"
        },
        {
         "customdata": [
          [
           19,
           "gastrointestinal disease",
           0.2199576104207486,
           "SMIM29;VEGFA",
           "GCST90094908",
           "PMID:35047847"
          ],
          [
           19,
           "gastrointestinal disease",
           0.2287500538282526,
           "IL21R",
           "FINNGEN_R6_RX_CROHN_2NDLINE",
           null
          ],
          [
           19,
           "gastrointestinal disease",
           0.2287500538282526,
           "NAV3",
           "FINNGEN_R6_ABDOM_HERNIA",
           null
          ],
          [
           19,
           "gastrointestinal disease",
           0.3879164909650702,
           "ANPEP",
           "GCST007209",
           "PMID:30504769"
          ],
          [
           19,
           "gastrointestinal disease",
           0.5282084219701223,
           "PCSK5",
           "GCST006479",
           "PMID:30177863"
          ],
          [
           19,
           "gastrointestinal disease",
           0.5797985937087958,
           "PNPLA3",
           "GCST90018819",
           "PMID:34594039"
          ],
          [
           19,
           "gastrointestinal disease",
           0.6823013749557024,
           "TSPAN14;PDGFB",
           "GCST004131",
           "PMID:28067908"
          ]
         ],
         "hovertemplate": "trait_category=%{customdata[1]}<br>trait_reported=%{x}<br>-log10(p-value)=%{y}<br>program_name=%{customdata[0]}<br>P-value=%{customdata[2]}<br>Genes=%{customdata[3]}<br>study_id=%{customdata[4]}<br>pmid=%{customdata[5]}<extra></extra>",
         "legendgroup": "gastrointestinal disease",
         "marker": {
          "color": "#19d3f3",
          "symbol": "circle"
         },
         "mode": "markers",
         "name": "gastrointestinal disease",
         "orientation": "v",
         "showlegend": true,
         "type": "scatter",
         "x": [
          "Nonalcoholic fatty liver disease (imputed)",
          "Second line medication for Crohns disease",
          "Hernia of abodminal wall",
          "Gallstone disease",
          "Diverticular disease",
          "Cholelithiasis",
          "Inflammatory bowel disease"
         ],
         "xaxis": "x",
         "y": [
          0.6576610070603534,
          0.640638795065622,
          0.640638795065622,
          0.4112617574381072,
          0.27719467850586216,
          0.23672284235330593,
          0.16602375354044738
         ],
         "yaxis": "y"
        },
        {
         "customdata": [
          [
           19,
           "genetic, familial or congenital disease",
           0.056061017525612,
           "GNAS",
           "GCST007916",
           "PMID:29124443"
          ]
         ],
         "hovertemplate": "trait_category=%{customdata[1]}<br>trait_reported=%{x}<br>-log10(p-value)=%{y}<br>program_name=%{customdata[0]}<br>P-value=%{customdata[2]}<br>Genes=%{customdata[3]}<br>study_id=%{customdata[4]}<br>pmid=%{customdata[5]}<extra></extra>",
         "legendgroup": "genetic, familial or congenital disease",
         "marker": {
          "color": "#FF6692",
          "symbol": "circle"
         },
         "mode": "markers",
         "name": "genetic, familial or congenital disease",
         "orientation": "v",
         "showlegend": true,
         "type": "scatter",
         "x": [
          "Hyperuricemia"
         ],
         "xaxis": "x",
         "y": [
          1.251339023918792
         ],
         "yaxis": "y"
        },
        {
         "customdata": [
          [
           19,
           "immune system disease",
           0.1569286846215245,
           "SYPL1;UBASH3B;MTHFR;TOX2;RRAS2;BCL10",
           "GCST009597",
           "PMID:31604244"
          ],
          [
           19,
           "immune system disease",
           0.7647169252273888,
           "RNASET2",
           "GCST007071",
           "PMID:30595370"
          ]
         ],
         "hovertemplate": "trait_category=%{customdata[1]}<br>trait_reported=%{x}<br>-log10(p-value)=%{y}<br>program_name=%{customdata[0]}<br>P-value=%{customdata[2]}<br>Genes=%{customdata[3]}<br>study_id=%{customdata[4]}<br>pmid=%{customdata[5]}<extra></extra>",
         "legendgroup": "immune system disease",
         "marker": {
          "color": "#B6E880",
          "symbol": "circle"
         },
         "mode": "markers",
         "name": "immune system disease",
         "orientation": "v",
         "showlegend": true,
         "type": "scatter",
         "x": [
          "Multiple sclerosis",
          "Autoimmune traits"
         ],
         "xaxis": "x",
         "y": [
          0.8042976655001944,
          0.11649929760822468
         ],
         "yaxis": "y"
        },
        {
         "customdata": [
          [
           19,
           "integumentary system disease",
           0.2942593684198209,
           "PTPN1;RNASET2",
           "GCST004785",
           "PMID:27723757"
          ],
          [
           19,
           "integumentary system disease",
           0.5547466477670275,
           "CCDC80",
           "GCST90086149",
           "PMID:34116867"
          ],
          [
           19,
           "integumentary system disease",
           0.5917932931517309,
           "PNPLA3",
           "GCST90092000",
           "PMID:35132056"
          ]
         ],
         "hovertemplate": "trait_category=%{customdata[1]}<br>trait_reported=%{x}<br>-log10(p-value)=%{y}<br>program_name=%{customdata[0]}<br>P-value=%{customdata[2]}<br>Genes=%{customdata[3]}<br>study_id=%{customdata[4]}<br>pmid=%{customdata[5]}<extra></extra>",
         "legendgroup": "integumentary system disease",
         "marker": {
          "color": "#FF97FF",
          "symbol": "circle"
         },
         "mode": "markers",
         "name": "integumentary system disease",
         "orientation": "v",
         "showlegend": true,
         "type": "scatter",
         "x": [
          "Vitiligo",
          "Atopic dermatitis",
          "acne vulgaris"
         ],
         "xaxis": "x",
         "y": [
          0.5312697015065693,
          0.25590531345049344,
          0.22782996104713193
         ],
         "yaxis": "y"
        },
        {
         "customdata": [
          [
           19,
           "musculoskeletal or connective tissue disease",
           0.1380296513827923,
           "MLXIP;PNPLA3",
           "GCST012338",
           "PMID:33832965"
          ],
          [
           19,
           "musculoskeletal or connective tissue disease",
           0.2507048273189083,
           "PLXNA2",
           "GCST008789",
           "PMID:31417091"
          ],
          [
           19,
           "musculoskeletal or connective tissue disease",
           0.4223060168318421,
           "DDR2",
           "GCST004858",
           "PMID:28886342"
          ]
         ],
         "hovertemplate": "trait_category=%{customdata[1]}<br>trait_reported=%{x}<br>-log10(p-value)=%{y}<br>program_name=%{customdata[0]}<br>P-value=%{customdata[2]}<br>Genes=%{customdata[3]}<br>study_id=%{customdata[4]}<br>pmid=%{customdata[5]}<extra></extra>",
         "legendgroup": "musculoskeletal or connective tissue disease",
         "marker": {
          "color": "#FECB52",
          "symbol": "circle"
         },
         "mode": "markers",
         "name": "musculoskeletal or connective tissue disease",
         "orientation": "v",
         "showlegend": true,
         "type": "scatter",
         "x": [
          "Gout",
          "Adolescent idiopathic scoliosis",
          "Dupuytren's disease"
         ],
         "xaxis": "x",
         "y": [
          0.8600276088982539,
          0.600837303625428,
          0.3743727308927516
         ],
         "yaxis": "y"
        },
        {
         "customdata": [
          [
           19,
           "nervous system disease",
           0.2287500538282526,
           "ATP2C1",
           "GCST005042",
           "PMID:29029846"
          ],
          [
           19,
           "nervous system disease",
           0.2942593684198209,
           "NUCKS1;SNCA",
           "GCST004902",
           "PMID:28892059"
          ],
          [
           19,
           "nervous system disease",
           0.2942593684198209,
           "NUCKS1;SNCA",
           "GCST010991",
           "PMID:32201043"
          ],
          [
           19,
           "nervous system disease",
           0.5155063301890639,
           "NUCKS1;TCF20;LONRF1;PLXNA2;DUSP6;NFIB;HSD17B12;MTFR1;PTPRN2",
           "GCST90061435",
           "PMID:34446935"
          ],
          [
           19,
           "nervous system disease",
           0.5416686865549875,
           "DUSP6",
           "GCST90016618",
           "PMID:33686288"
          ],
          [
           19,
           "nervous system disease",
           0.6855089857015289,
           "SLC7A11",
           "GCST010017",
           "PMID:32231276"
          ],
          [
           19,
           "nervous system disease",
           0.6944979938815563,
           "NRDC",
           "GCST012090",
           "PMID:33479212"
          ]
         ],
         "hovertemplate": "trait_category=%{customdata[1]}<br>trait_reported=%{x}<br>-log10(p-value)=%{y}<br>program_name=%{customdata[0]}<br>P-value=%{customdata[2]}<br>Genes=%{customdata[3]}<br>study_id=%{customdata[4]}<br>pmid=%{customdata[5]}<extra></extra>",
         "legendgroup": "nervous system disease",
         "marker": {
          "color": "#636efa",
          "symbol": "circle"
         },
         "mode": "markers",
         "name": "nervous system disease",
         "orientation": "v",
         "showlegend": true,
         "type": "scatter",
         "x": [
          "Restless legs syndrome",
          "Parkinson's disease",
          "Parkinson's disease",
          "Externalizing behaviour (multivariate analysis)",
          "Schizophrenia vs ADHD (ordinary least squares (OLS))",
          "Neuroticism",
          "Major depressive disorder (MTAG)"
         ],
         "xaxis": "x",
         "y": [
          0.640638795065622,
          0.5312697015065693,
          0.5312697015065693,
          0.28776599740413,
          0.2662662699129855,
          0.16398684807357408,
          0.15832900442230294
         ],
         "yaxis": "y"
        },
        {
         "customdata": [
          [
           19,
           "pancreas disease",
           0.7506509700484338,
           "GLI2",
           "GCST007077",
           "PMID:30595370"
          ]
         ],
         "hovertemplate": "trait_category=%{customdata[1]}<br>trait_reported=%{x}<br>-log10(p-value)=%{y}<br>program_name=%{customdata[0]}<br>P-value=%{customdata[2]}<br>Genes=%{customdata[3]}<br>study_id=%{customdata[4]}<br>pmid=%{customdata[5]}<extra></extra>",
         "legendgroup": "pancreas disease",
         "marker": {
          "color": "#EF553B",
          "symbol": "circle"
         },
         "mode": "markers",
         "name": "pancreas disease",
         "orientation": "v",
         "showlegend": true,
         "type": "scatter",
         "x": [
          "Type 2 diabetes"
         ],
         "xaxis": "x",
         "y": [
          0.12456194983603248
         ],
         "yaxis": "y"
        },
        {
         "customdata": [
          [
           19,
           "phenotype",
           0.008688541686716,
           "LDLR;IRF2BP2;HMGCR;LIPG;SCARB1;VEGFA",
           "GCST90038690",
           "PMID:33959723"
          ],
          [
           19,
           "phenotype",
           0.1343400831032873,
           "DYSF",
           "FINNGEN_R6_M13_HALLUXVALGUS",
           null
          ],
          [
           19,
           "phenotype",
           0.1782415427636318,
           "NAV3;PTPRN2",
           "GCST001712",
           "PMID:23049088"
          ],
          [
           19,
           "phenotype",
           0.2061550439296068,
           "NUCKS1",
           "NEALE2_2257",
           null
          ],
          [
           19,
           "phenotype",
           0.3049145941394633,
           "UBC;SCD;RAB32",
           "NEALE2_1717",
           null
          ],
          [
           19,
           "phenotype",
           0.3514897829027668,
           "MMAB",
           "FINNGEN_R6_H7_CATARACTSENILE",
           null
          ],
          [
           19,
           "phenotype",
           0.4387725338878636,
           "LPIN1",
           "SAIGE_728_7",
           null
          ],
          [
           19,
           "phenotype",
           0.4387725338878636,
           "RAB3C",
           "FINNGEN_R6_K11_HERNIA",
           null
          ],
          [
           19,
           "phenotype",
           0.4854209635556349,
           "TUBA1A",
           "GCST90013421",
           "PMID:32989287"
          ],
          [
           19,
           "phenotype",
           0.5917932931517309,
           "HSD17B12",
           "GCST008512",
           "PMID:31194737"
          ],
          [
           19,
           "phenotype",
           0.5917932931517309,
           "HSD17B12",
           "GCST012332",
           "PMID:33830993"
          ],
          [
           19,
           "phenotype",
           0.6762567419240386,
           "CPNE3",
           "GCST90018939",
           "PMID:34594039"
          ],
          [
           19,
           "phenotype",
           0.7012900333459319,
           "AKAP12;CDC42BPA",
           "GCST006988",
           "PMID:30531825"
          ],
          [
           19,
           "phenotype",
           0.9414579808611644,
           "VEGFA;NPC2;TOX2;RRAS2;FRY",
           "GCST010002",
           "PMID:32231278"
          ]
         ],
         "hovertemplate": "trait_category=%{customdata[1]}<br>trait_reported=%{x}<br>-log10(p-value)=%{y}<br>program_name=%{customdata[0]}<br>P-value=%{customdata[2]}<br>Genes=%{customdata[3]}<br>study_id=%{customdata[4]}<br>pmid=%{customdata[5]}<extra></extra>",
         "legendgroup": "phenotype",
         "marker": {
          "color": "#00cc96",
          "symbol": "circle"
         },
         "mode": "markers",
         "name": "phenotype",
         "orientation": "v",
         "showlegend": true,
         "type": "scatter",
         "x": [
          "High cholesterol",
          "Hallux valgus (acquired)",
          "Myopia (pathological)",
          "Hearing difficulty/problems with background noise",
          "Skin colour",
          "Senile cataract",
          "Fasciitis",
          "Hernia",
          "Left-handedness",
          "Multisite chronic pain",
          "Multisite chronic pain",
          "Varicose veins",
          "Blond vs. brown/black hair color",
          "Refractive error"
         ],
         "xaxis": "x",
         "y": [
          2.0610531108424572,
          0.8717943873810217,
          0.7489910674689295,
          0.6858060349882722,
          0.5158217884829206,
          0.4540872945230746,
          0.3577605660432619,
          0.3577605660432619,
          0.313881472009155,
          0.22782996104713193,
          0.22782996104713193,
          0.16988839217622498,
          0.15410233320106417,
          0.026199058639734853
         ],
         "yaxis": "y"
        },
        {
         "customdata": [
          [
           19,
           "respiratory or thoracic disease",
           0.2927653966471928,
           "IL21R",
           "FINNGEN_R6_ILD_ENDPOINTS",
           null
          ],
          [
           19,
           "respiratory or thoracic disease",
           0.4945157231297057,
           "THSD4;PRSS23",
           "GCST007692",
           "PMID:30804561"
          ],
          [
           19,
           "respiratory or thoracic disease",
           0.8684627092415388,
           "FADS2",
           "GCST007076",
           "PMID:30595370"
          ]
         ],
         "hovertemplate": "trait_category=%{customdata[1]}<br>trait_reported=%{x}<br>-log10(p-value)=%{y}<br>program_name=%{customdata[0]}<br>P-value=%{customdata[2]}<br>Genes=%{customdata[3]}<br>study_id=%{customdata[4]}<br>pmid=%{customdata[5]}<extra></extra>",
         "legendgroup": "respiratory or thoracic disease",
         "marker": {
          "color": "#ab63fa",
          "symbol": "circle"
         },
         "mode": "markers",
         "name": "respiratory or thoracic disease",
         "orientation": "v",
         "showlegend": true,
         "type": "scatter",
         "x": [
          "Interstitial lung disease endpoints",
          "Chronic obstructive pulmonary disease",
          "Respiratory diseases"
         ],
         "xaxis": "x",
         "y": [
          0.5334802559376316,
          0.30581989545221594,
          0.06124882490637182
         ],
         "yaxis": "y"
        },
        {
         "customdata": [
          [
           19,
           "urinary system disease",
           0.3514897829027668,
           "VEGFA",
           "GCST000649_3",
           "PMID:20383146"
          ]
         ],
         "hovertemplate": "trait_category=%{customdata[1]}<br>trait_reported=%{x}<br>-log10(p-value)=%{y}<br>program_name=%{customdata[0]}<br>P-value=%{customdata[2]}<br>Genes=%{customdata[3]}<br>study_id=%{customdata[4]}<br>pmid=%{customdata[5]}<extra></extra>",
         "legendgroup": "urinary system disease",
         "marker": {
          "color": "#FFA15A",
          "symbol": "circle"
         },
         "mode": "markers",
         "name": "urinary system disease",
         "orientation": "v",
         "showlegend": true,
         "type": "scatter",
         "x": [
          "Chronic kidney disease [eGFRcrea]"
         ],
         "xaxis": "x",
         "y": [
          0.4540872945230746
         ],
         "yaxis": "y"
        }
       ],
       "layout": {
        "annotations": [
         {
          "showarrow": false,
          "text": "Significance Threshold (0.05)",
          "x": 1,
          "xanchor": "right",
          "xref": "x domain",
          "y": 1.3010299956639813,
          "yanchor": "bottom",
          "yref": "y"
         }
        ],
        "height": 800,
        "legend": {
         "title": {
          "text": "trait_category"
         },
         "tracegroupgap": 0
        },
        "shapes": [
         {
          "line": {
           "dash": "dash"
          },
          "type": "line",
          "x0": 0,
          "x1": 1,
          "xref": "x domain",
          "y0": 1.3010299956639813,
          "y1": 1.3010299956639813,
          "yref": "y"
         }
        ],
        "template": {
         "data": {
          "bar": [
           {
            "error_x": {
             "color": "#2a3f5f"
            },
            "error_y": {
             "color": "#2a3f5f"
            },
            "marker": {
             "line": {
              "color": "#E5ECF6",
              "width": 0.5
             },
             "pattern": {
              "fillmode": "overlay",
              "size": 10,
              "solidity": 0.2
             }
            },
            "type": "bar"
           }
          ],
          "barpolar": [
           {
            "marker": {
             "line": {
              "color": "#E5ECF6",
              "width": 0.5
             },
             "pattern": {
              "fillmode": "overlay",
              "size": 10,
              "solidity": 0.2
             }
            },
            "type": "barpolar"
           }
          ],
          "carpet": [
           {
            "aaxis": {
             "endlinecolor": "#2a3f5f",
             "gridcolor": "white",
             "linecolor": "white",
             "minorgridcolor": "white",
             "startlinecolor": "#2a3f5f"
            },
            "baxis": {
             "endlinecolor": "#2a3f5f",
             "gridcolor": "white",
             "linecolor": "white",
             "minorgridcolor": "white",
             "startlinecolor": "#2a3f5f"
            },
            "type": "carpet"
           }
          ],
          "choropleth": [
           {
            "colorbar": {
             "outlinewidth": 0,
             "ticks": ""
            },
            "type": "choropleth"
           }
          ],
          "contour": [
           {
            "colorbar": {
             "outlinewidth": 0,
             "ticks": ""
            },
            "colorscale": [
             [
              0,
              "#0d0887"
             ],
             [
              0.1111111111111111,
              "#46039f"
             ],
             [
              0.2222222222222222,
              "#7201a8"
             ],
             [
              0.3333333333333333,
              "#9c179e"
             ],
             [
              0.4444444444444444,
              "#bd3786"
             ],
             [
              0.5555555555555556,
              "#d8576b"
             ],
             [
              0.6666666666666666,
              "#ed7953"
             ],
             [
              0.7777777777777778,
              "#fb9f3a"
             ],
             [
              0.8888888888888888,
              "#fdca26"
             ],
             [
              1,
              "#f0f921"
             ]
            ],
            "type": "contour"
           }
          ],
          "contourcarpet": [
           {
            "colorbar": {
             "outlinewidth": 0,
             "ticks": ""
            },
            "type": "contourcarpet"
           }
          ],
          "heatmap": [
           {
            "colorbar": {
             "outlinewidth": 0,
             "ticks": ""
            },
            "colorscale": [
             [
              0,
              "#0d0887"
             ],
             [
              0.1111111111111111,
              "#46039f"
             ],
             [
              0.2222222222222222,
              "#7201a8"
             ],
             [
              0.3333333333333333,
              "#9c179e"
             ],
             [
              0.4444444444444444,
              "#bd3786"
             ],
             [
              0.5555555555555556,
              "#d8576b"
             ],
             [
              0.6666666666666666,
              "#ed7953"
             ],
             [
              0.7777777777777778,
              "#fb9f3a"
             ],
             [
              0.8888888888888888,
              "#fdca26"
             ],
             [
              1,
              "#f0f921"
             ]
            ],
            "type": "heatmap"
           }
          ],
          "heatmapgl": [
           {
            "colorbar": {
             "outlinewidth": 0,
             "ticks": ""
            },
            "colorscale": [
             [
              0,
              "#0d0887"
             ],
             [
              0.1111111111111111,
              "#46039f"
             ],
             [
              0.2222222222222222,
              "#7201a8"
             ],
             [
              0.3333333333333333,
              "#9c179e"
             ],
             [
              0.4444444444444444,
              "#bd3786"
             ],
             [
              0.5555555555555556,
              "#d8576b"
             ],
             [
              0.6666666666666666,
              "#ed7953"
             ],
             [
              0.7777777777777778,
              "#fb9f3a"
             ],
             [
              0.8888888888888888,
              "#fdca26"
             ],
             [
              1,
              "#f0f921"
             ]
            ],
            "type": "heatmapgl"
           }
          ],
          "histogram": [
           {
            "marker": {
             "pattern": {
              "fillmode": "overlay",
              "size": 10,
              "solidity": 0.2
             }
            },
            "type": "histogram"
           }
          ],
          "histogram2d": [
           {
            "colorbar": {
             "outlinewidth": 0,
             "ticks": ""
            },
            "colorscale": [
             [
              0,
              "#0d0887"
             ],
             [
              0.1111111111111111,
              "#46039f"
             ],
             [
              0.2222222222222222,
              "#7201a8"
             ],
             [
              0.3333333333333333,
              "#9c179e"
             ],
             [
              0.4444444444444444,
              "#bd3786"
             ],
             [
              0.5555555555555556,
              "#d8576b"
             ],
             [
              0.6666666666666666,
              "#ed7953"
             ],
             [
              0.7777777777777778,
              "#fb9f3a"
             ],
             [
              0.8888888888888888,
              "#fdca26"
             ],
             [
              1,
              "#f0f921"
             ]
            ],
            "type": "histogram2d"
           }
          ],
          "histogram2dcontour": [
           {
            "colorbar": {
             "outlinewidth": 0,
             "ticks": ""
            },
            "colorscale": [
             [
              0,
              "#0d0887"
             ],
             [
              0.1111111111111111,
              "#46039f"
             ],
             [
              0.2222222222222222,
              "#7201a8"
             ],
             [
              0.3333333333333333,
              "#9c179e"
             ],
             [
              0.4444444444444444,
              "#bd3786"
             ],
             [
              0.5555555555555556,
              "#d8576b"
             ],
             [
              0.6666666666666666,
              "#ed7953"
             ],
             [
              0.7777777777777778,
              "#fb9f3a"
             ],
             [
              0.8888888888888888,
              "#fdca26"
             ],
             [
              1,
              "#f0f921"
             ]
            ],
            "type": "histogram2dcontour"
           }
          ],
          "mesh3d": [
           {
            "colorbar": {
             "outlinewidth": 0,
             "ticks": ""
            },
            "type": "mesh3d"
           }
          ],
          "parcoords": [
           {
            "line": {
             "colorbar": {
              "outlinewidth": 0,
              "ticks": ""
             }
            },
            "type": "parcoords"
           }
          ],
          "pie": [
           {
            "automargin": true,
            "type": "pie"
           }
          ],
          "scatter": [
           {
            "fillpattern": {
             "fillmode": "overlay",
             "size": 10,
             "solidity": 0.2
            },
            "type": "scatter"
           }
          ],
          "scatter3d": [
           {
            "line": {
             "colorbar": {
              "outlinewidth": 0,
              "ticks": ""
             }
            },
            "marker": {
             "colorbar": {
              "outlinewidth": 0,
              "ticks": ""
             }
            },
            "type": "scatter3d"
           }
          ],
          "scattercarpet": [
           {
            "marker": {
             "colorbar": {
              "outlinewidth": 0,
              "ticks": ""
             }
            },
            "type": "scattercarpet"
           }
          ],
          "scattergeo": [
           {
            "marker": {
             "colorbar": {
              "outlinewidth": 0,
              "ticks": ""
             }
            },
            "type": "scattergeo"
           }
          ],
          "scattergl": [
           {
            "marker": {
             "colorbar": {
              "outlinewidth": 0,
              "ticks": ""
             }
            },
            "type": "scattergl"
           }
          ],
          "scattermapbox": [
           {
            "marker": {
             "colorbar": {
              "outlinewidth": 0,
              "ticks": ""
             }
            },
            "type": "scattermapbox"
           }
          ],
          "scatterpolar": [
           {
            "marker": {
             "colorbar": {
              "outlinewidth": 0,
              "ticks": ""
             }
            },
            "type": "scatterpolar"
           }
          ],
          "scatterpolargl": [
           {
            "marker": {
             "colorbar": {
              "outlinewidth": 0,
              "ticks": ""
             }
            },
            "type": "scatterpolargl"
           }
          ],
          "scatterternary": [
           {
            "marker": {
             "colorbar": {
              "outlinewidth": 0,
              "ticks": ""
             }
            },
            "type": "scatterternary"
           }
          ],
          "surface": [
           {
            "colorbar": {
             "outlinewidth": 0,
             "ticks": ""
            },
            "colorscale": [
             [
              0,
              "#0d0887"
             ],
             [
              0.1111111111111111,
              "#46039f"
             ],
             [
              0.2222222222222222,
              "#7201a8"
             ],
             [
              0.3333333333333333,
              "#9c179e"
             ],
             [
              0.4444444444444444,
              "#bd3786"
             ],
             [
              0.5555555555555556,
              "#d8576b"
             ],
             [
              0.6666666666666666,
              "#ed7953"
             ],
             [
              0.7777777777777778,
              "#fb9f3a"
             ],
             [
              0.8888888888888888,
              "#fdca26"
             ],
             [
              1,
              "#f0f921"
             ]
            ],
            "type": "surface"
           }
          ],
          "table": [
           {
            "cells": {
             "fill": {
              "color": "#EBF0F8"
             },
             "line": {
              "color": "white"
             }
            },
            "header": {
             "fill": {
              "color": "#C8D4E3"
             },
             "line": {
              "color": "white"
             }
            },
            "type": "table"
           }
          ]
         },
         "layout": {
          "annotationdefaults": {
           "arrowcolor": "#2a3f5f",
           "arrowhead": 0,
           "arrowwidth": 1
          },
          "autotypenumbers": "strict",
          "coloraxis": {
           "colorbar": {
            "outlinewidth": 0,
            "ticks": ""
           }
          },
          "colorscale": {
           "diverging": [
            [
             0,
             "#8e0152"
            ],
            [
             0.1,
             "#c51b7d"
            ],
            [
             0.2,
             "#de77ae"
            ],
            [
             0.3,
             "#f1b6da"
            ],
            [
             0.4,
             "#fde0ef"
            ],
            [
             0.5,
             "#f7f7f7"
            ],
            [
             0.6,
             "#e6f5d0"
            ],
            [
             0.7,
             "#b8e186"
            ],
            [
             0.8,
             "#7fbc41"
            ],
            [
             0.9,
             "#4d9221"
            ],
            [
             1,
             "#276419"
            ]
           ],
           "sequential": [
            [
             0,
             "#0d0887"
            ],
            [
             0.1111111111111111,
             "#46039f"
            ],
            [
             0.2222222222222222,
             "#7201a8"
            ],
            [
             0.3333333333333333,
             "#9c179e"
            ],
            [
             0.4444444444444444,
             "#bd3786"
            ],
            [
             0.5555555555555556,
             "#d8576b"
            ],
            [
             0.6666666666666666,
             "#ed7953"
            ],
            [
             0.7777777777777778,
             "#fb9f3a"
            ],
            [
             0.8888888888888888,
             "#fdca26"
            ],
            [
             1,
             "#f0f921"
            ]
           ],
           "sequentialminus": [
            [
             0,
             "#0d0887"
            ],
            [
             0.1111111111111111,
             "#46039f"
            ],
            [
             0.2222222222222222,
             "#7201a8"
            ],
            [
             0.3333333333333333,
             "#9c179e"
            ],
            [
             0.4444444444444444,
             "#bd3786"
            ],
            [
             0.5555555555555556,
             "#d8576b"
            ],
            [
             0.6666666666666666,
             "#ed7953"
            ],
            [
             0.7777777777777778,
             "#fb9f3a"
            ],
            [
             0.8888888888888888,
             "#fdca26"
            ],
            [
             1,
             "#f0f921"
            ]
           ]
          },
          "colorway": [
           "#636efa",
           "#EF553B",
           "#00cc96",
           "#ab63fa",
           "#FFA15A",
           "#19d3f3",
           "#FF6692",
           "#B6E880",
           "#FF97FF",
           "#FECB52"
          ],
          "font": {
           "color": "#2a3f5f"
          },
          "geo": {
           "bgcolor": "white",
           "lakecolor": "white",
           "landcolor": "#E5ECF6",
           "showlakes": true,
           "showland": true,
           "subunitcolor": "white"
          },
          "hoverlabel": {
           "align": "left"
          },
          "hovermode": "closest",
          "mapbox": {
           "style": "light"
          },
          "paper_bgcolor": "white",
          "plot_bgcolor": "#E5ECF6",
          "polar": {
           "angularaxis": {
            "gridcolor": "white",
            "linecolor": "white",
            "ticks": ""
           },
           "bgcolor": "#E5ECF6",
           "radialaxis": {
            "gridcolor": "white",
            "linecolor": "white",
            "ticks": ""
           }
          },
          "scene": {
           "xaxis": {
            "backgroundcolor": "#E5ECF6",
            "gridcolor": "white",
            "gridwidth": 2,
            "linecolor": "white",
            "showbackground": true,
            "ticks": "",
            "zerolinecolor": "white"
           },
           "yaxis": {
            "backgroundcolor": "#E5ECF6",
            "gridcolor": "white",
            "gridwidth": 2,
            "linecolor": "white",
            "showbackground": true,
            "ticks": "",
            "zerolinecolor": "white"
           },
           "zaxis": {
            "backgroundcolor": "#E5ECF6",
            "gridcolor": "white",
            "gridwidth": 2,
            "linecolor": "white",
            "showbackground": true,
            "ticks": "",
            "zerolinecolor": "white"
           }
          },
          "shapedefaults": {
           "line": {
            "color": "#2a3f5f"
           }
          },
          "ternary": {
           "aaxis": {
            "gridcolor": "white",
            "linecolor": "white",
            "ticks": ""
           },
           "baxis": {
            "gridcolor": "white",
            "linecolor": "white",
            "ticks": ""
           },
           "bgcolor": "#E5ECF6",
           "caxis": {
            "gridcolor": "white",
            "linecolor": "white",
            "ticks": ""
           }
          },
          "title": {
           "x": 0.05
          },
          "xaxis": {
           "automargin": true,
           "gridcolor": "white",
           "linecolor": "white",
           "ticks": "",
           "title": {
            "standoff": 15
           },
           "zerolinecolor": "white",
           "zerolinewidth": 2
          },
          "yaxis": {
           "automargin": true,
           "gridcolor": "white",
           "linecolor": "white",
           "ticks": "",
           "title": {
            "standoff": 15
           },
           "zerolinecolor": "white",
           "zerolinewidth": 2
          }
         }
        },
        "title": {
         "text": "Endothelial Cell Programs x GWAS Binary Outcome Enrichments"
        },
        "width": 1000,
        "xaxis": {
         "anchor": "y",
         "domain": [
          0,
          1
         ],
         "tickfont": {
          "size": 4
         },
         "title": {
          "text": "trait_reported"
         }
        },
        "yaxis": {
         "anchor": "x",
         "domain": [
          0,
          1
         ],
         "tickformat": ".1f",
         "title": {
          "text": "-log10(p-value)"
         }
        }
       }
      },
      "text/html": [
       "<div>                            <div id=\"0abb6af8-2247-4f09-9dec-bae203bf31c0\" class=\"plotly-graph-div\" style=\"height:800px; width:1000px;\"></div>            <script type=\"text/javascript\">                require([\"plotly\"], function(Plotly) {                    window.PLOTLYENV=window.PLOTLYENV || {};                                    if (document.getElementById(\"0abb6af8-2247-4f09-9dec-bae203bf31c0\")) {                    Plotly.newPlot(                        \"0abb6af8-2247-4f09-9dec-bae203bf31c0\",                        [{\"customdata\":[[19,\"biological process\",0.0017764883074341,\"PIR;LDLR;IRF2BP2;HMGCR;PNPLA3;LIPG;VEGFA\",\"FINNGEN_R6_RX_STATIN\",null],[19,\"biological process\",0.1343400831032873,\"EPAS1\",\"GCST006054\",\"PMID:28373541\"],[19,\"biological process\",0.3114186984457615,\"PCYOX1;TFB1M;NR2F1;IRF2BP2;SYT1;MARCKS;PTPN1;CBX5;CACNB1;HABP4;BNIP3L;MNT;DUSP6;NFIB;LONRF1;PDIA6;MTFR1;PTPRN2\",\"GCST006568\",\"PMID:30038396\"],[19,\"biological process\",0.6364585961150973,\"AKAP12\",\"NEALE2_1757\",null],[19,\"biological process\",0.7647169252273888,\"LONRF1\",\"GCST007464\",\"PMID:30643251\"],[19,\"biological process\",0.7823644484645602,\"LBR;FRY;RAB3C\",\"GCST006660\",\"PMID:30348214\"],[19,\"biological process\",0.8052074518987202,\"YWHAZ;PLXNA2;LRP8\",\"GCST007325\",\"PMID:30643258\"],[19,\"biological process\",0.8958060820939588,\"SYT1\",\"GCST006269\",\"PMID:29844566\"],[19,\"biological process\",0.9346715046595316,\"PLXNA2\",\"GCST007327\",\"PMID:30643258\"]],\"hovertemplate\":\"trait_category=%{customdata[1]}\\u003cbr\\u003etrait_reported=%{x}\\u003cbr\\u003e-log10(p-value)=%{y}\\u003cbr\\u003eprogram_name=%{customdata[0]}\\u003cbr\\u003eP-value=%{customdata[2]}\\u003cbr\\u003eGenes=%{customdata[3]}\\u003cbr\\u003estudy_id=%{customdata[4]}\\u003cbr\\u003epmid=%{customdata[5]}\\u003cextra\\u003e\\u003c\\u002fextra\\u003e\",\"legendgroup\":\"biological process\",\"marker\":{\"color\":\"#636efa\",\"symbol\":\"circle\"},\"mode\":\"markers\",\"name\":\"biological process\",\"orientation\":\"v\",\"showlegend\":true,\"x\":[\"Statin medication\",\"High altitude adaptation\",\"Highest math class taken (MTAG) [MTAG]\",\"Facial ageing\",\"Smoking cessation (MTAG)\",\"DNA methylation variation (age effect)\",\"General risk tolerance (MTAG)\",\"General cognitive ability\",\"Smoking status (ever vs never smokers)\"],\"xaxis\":\"x\",\"y\":[2.750437646623041,0.8717943873810217,0.5066553147350892,0.1962298434849674,0.11649929760822468,0.10659089261010384,0.09409221452913771,0.047785993229935854,0.029340997449113893],\"yaxis\":\"y\",\"type\":\"scatter\"},{\"customdata\":[[19,\"cardiovascular disease\",0.0201244224746658,\"CDKN1A;LIPA\",\"GCST011496\",\"PMID:32981348\"],[19,\"cardiovascular disease\",0.0440297257759461,\"CDKN1A;SQLE\",\"GCST011202\",\"PMID:33495596\"],[19,\"cardiovascular disease\",0.1283084629236031,\"DPYSL2;UBASH3B;CLCN6;CLIC4;GLI2;NPC1;HSD17B12;VEGFA\",\"GCST007072\",\"PMID:30595370\"],[19,\"cardiovascular disease\",0.1343400831032873,\"CDKN1A\",\"GCST012099\",\"PMID:33495597\"],[19,\"cardiovascular disease\",0.1485496708304558,\"GLCE;CLCN6;SYT1\",\"FINNGEN_R6_RX_ANTIHYP\",null],[19,\"cardiovascular disease\",0.1833951163905241,\"SCARB1;LIPA;VEGFA\",\"GCST005195\",\"PMID:29212778\"],[19,\"cardiovascular disease\",0.1984024628911286,\"NUCKS1;SMIM29;CDKN1A;SQLE\",\"GCST006061\",\"PMID:29892015\"],[19,\"cardiovascular disease\",0.2507048273189083,\"CDKN1A\",\"GCST009541\",\"PMID:31919418\"],[19,\"cardiovascular disease\",0.4703169934611635,\"CDKN1A\",\"FINNGEN_R6_CARDIAC_ARRHYTM\",null],[19,\"cardiovascular disease\",0.5143547315191779,\"CLCN6\",\"FINNGEN_R6_I9_IHD\",null],[19,\"cardiovascular disease\",0.5547466477670275,\"TGFBR2\",\"GCST003720\",\"PMID:27322543\"],[19,\"cardiovascular disease\",0.8188532174755944,\"LIPA\",\"GCST011365\",\"PMID:33532862\"],[19,\"cardiovascular disease\",0.8522214423029417,\"SRBD1\",\"GCST90014033\",\"PMID:33888516\"]],\"hovertemplate\":\"trait_category=%{customdata[1]}\\u003cbr\\u003etrait_reported=%{x}\\u003cbr\\u003e-log10(p-value)=%{y}\\u003cbr\\u003eprogram_name=%{customdata[0]}\\u003cbr\\u003eP-value=%{customdata[2]}\\u003cbr\\u003eGenes=%{customdata[3]}\\u003cbr\\u003estudy_id=%{customdata[4]}\\u003cbr\\u003epmid=%{customdata[5]}\\u003cextra\\u003e\\u003c\\u002fextra\\u003e\",\"legendgroup\":\"cardiovascular disease\",\"marker\":{\"color\":\"#EF553B\",\"symbol\":\"circle\"},\"mode\":\"markers\",\"name\":\"cardiovascular disease\",\"orientation\":\"v\",\"showlegend\":true,\"x\":[\"Abdominal aortic aneurysm\",\"Dilated cardiomyopathy (MTAG)\",\"Cardiovascular disease\",\"Hypertrophic cardiomyopathy (sarcomere negative)\",\"Antihypertensive medication - note that there are other indications\",\"Coronary artery disease\",\"Atrial fibrillation\",\"Heart failure\",\"Cardiac arrhytmias\",\"Ischaemic heart disease, wide definition\",\"Migraine\",\"Myocardial infarction\",\"Haemorrhoidal disease\"],\"xaxis\":\"x\",\"y\":[1.6962765740490229,1.3562540193863586,0.8917446976405934,0.8717943873810217,0.8281283062075069,0.736612233294601,0.7024529409853294,0.600837303625428,0.3276093290721635,0.28873726076138856,0.25590531345049344,0.08679394018522071,0.06944754293925572],\"yaxis\":\"y\",\"type\":\"scatter\"},{\"customdata\":[[19,\"cell proliferation disorder\",0.0153788714617108,\"SCARB1;EPAS1\",\"GCST004710\",\"PMID:28598434\"],[19,\"cell proliferation disorder\",0.0234350473829585,\"CDKN1A;LPIN1;DDR2\",\"SAIGE_728_71\",null],[19,\"cell proliferation disorder\",0.2061550439296068,\"RNASET2\",\"GCST004748\",\"PMID:28604730\"],[19,\"cell proliferation disorder\",0.447500965440971,\"CDKN1A;TOX2\",\"GCST007992\",\"PMID:31089142\"],[19,\"cell proliferation disorder\",0.4547717929717223,\"GJC1\",\"FINNGEN_R6_C3_MALE_GENITAL\",null],[19,\"cell proliferation disorder\",0.4547717929717223,\"GJC1\",\"FINNGEN_R6_C3_MALE_GENITAL_EXALLC\",null],[19,\"cell proliferation disorder\",0.5282084219701223,\"RNASET2\",\"SAIGE_172\",null],[19,\"cell proliferation disorder\",0.5547466477670275,\"ID3\",\"GCST004146\",\"PMID:28165464\"],[19,\"cell proliferation disorder\",0.5547466477670275,\"IL21R\",\"GCST90061442\",\"PMID:34033851\"],[19,\"cell proliferation disorder\",0.6364585961150973,\"RNASET2\",\"GCST90027058\",\"PMID:34290314\"],[19,\"cell proliferation disorder\",0.777992860371213,\"RNASET2\",\"GCST008871\",\"PMID:31174203\"],[19,\"cell proliferation disorder\",0.9121531895652748,\"GLI2;VEGFA\",\"GCST011049\",\"PMID:33398198\"],[19,\"cell proliferation disorder\",0.926577614570827,\"TGFBR2\",\"GCST90090980\",\"PMID:32139696\"]],\"hovertemplate\":\"trait_category=%{customdata[1]}\\u003cbr\\u003etrait_reported=%{x}\\u003cbr\\u003e-log10(p-value)=%{y}\\u003cbr\\u003eprogram_name=%{customdata[0]}\\u003cbr\\u003eP-value=%{customdata[2]}\\u003cbr\\u003eGenes=%{customdata[3]}\\u003cbr\\u003estudy_id=%{customdata[4]}\\u003cbr\\u003epmid=%{customdata[5]}\\u003cextra\\u003e\\u003c\\u002fextra\\u003e\",\"legendgroup\":\"cell proliferation disorder\",\"marker\":{\"color\":\"#00cc96\",\"symbol\":\"circle\"},\"mode\":\"markers\",\"name\":\"cell proliferation disorder\",\"orientation\":\"v\",\"showlegend\":true,\"x\":[\"Renal cell carcinoma\",\"Contracture of palmar fascia [dupuytren's disease]\",\"Lung cancer\",\"Colorectal cancer\",\"malignant neoplasm of male genital organs\",\"malignant neoplasm of male genital organs (controls excluding all cancers)\",\"Skin cancer\",\"Chronic lymphocytic leukemia\",\"Primary biliary cholangitis\",\"Non-melanoma skin cancer\",\"Basal cell carcinoma\",\"Prostate cancer\",\"Breast cancer\"],\"xaxis\":\"x\",\"y\":[1.8130755329308288,1.6301341640496123,0.6858060349882722,0.3492060233978256,0.3422064800806736,0.3422064800806736,0.27719467850586216,0.25590531345049344,0.25590531345049344,0.1962298434849674,0.10902438850595701,0.0399322189128057,0.03311819623927466],\"yaxis\":\"y\",\"type\":\"scatter\"},{\"customdata\":[[19,\"disease of visual system\",0.1094421927674374,\"MMAB;MVK\",\"GCST90018814\",\"PMID:34594039\"],[19,\"disease of visual system\",0.3514897829027668,\"VEGFA\",\"GCST001884\",\"PMID:23455636\"],[19,\"disease of visual system\",0.3519476214627181,\"PTPN1;NPC2;PCSK5\",\"GCST009722\",\"PMID:31959993\"],[19,\"disease of visual system\",0.3879164909650702,\"MMAB\",\"FINNGEN_R6_H7_LENS\",null],[19,\"disease of visual system\",0.6901679744939967,\"LIPG;NPC2;ETNK1\",\"GCST010378\",\"PMID:32352494\"],[19,\"disease of visual system\",0.7714508248878551,\"LTBP2\",\"GCST90011770\",\"PMID:33627673\"]],\"hovertemplate\":\"trait_category=%{customdata[1]}\\u003cbr\\u003etrait_reported=%{x}\\u003cbr\\u003e-log10(p-value)=%{y}\\u003cbr\\u003eprogram_name=%{customdata[0]}\\u003cbr\\u003eP-value=%{customdata[2]}\\u003cbr\\u003eGenes=%{customdata[3]}\\u003cbr\\u003estudy_id=%{customdata[4]}\\u003cbr\\u003epmid=%{customdata[5]}\\u003cextra\\u003e\\u003c\\u002fextra\\u003e\",\"legendgroup\":\"disease of visual system\",\"marker\":{\"color\":\"#ab63fa\",\"symbol\":\"circle\"},\"mode\":\"markers\",\"name\":\"disease of visual system\",\"orientation\":\"v\",\"showlegend\":true,\"x\":[\"Cataracts\",\"Age-related macular degeneration\",\"Glaucoma (multi-trait analysis)\",\"Disorders of lens\",\"Spherical equivalent\",\"Glaucoma (primary open-angle)\"],\"xaxis\":\"x\",\"y\":[0.9608152140773768,0.4540872945230746,0.45352196550578805,0.4112617574381072,0.1610451969182307,0.11269175224569011],\"yaxis\":\"y\",\"type\":\"scatter\"},{\"customdata\":[[19,\"endocrine system disease\",0.1376238528655774,\"BHLHE40;RAB2A;IFITM2;RNASET2\",\"GCST010571\",\"PMID:32581359\"],[19,\"endocrine system disease\",0.2061550439296068,\"RNASET2\",\"GCST90018860\",\"PMID:34594039\"],[19,\"endocrine system disease\",0.5172427184455903,\"BHLHE40;RAB2A;RNASET2\",\"GCST007073\",\"PMID:30595370\"],[19,\"endocrine system disease\",0.6569316374263021,\"VEGFA\",\"FINNGEN_R6_E4_THYROID\",null],[19,\"endocrine system disease\",0.7843484737352562,\"VEGFA\",\"FINNGEN_R6_E4_HYTHY_AI_STRICT_PURCH\",null]],\"hovertemplate\":\"trait_category=%{customdata[1]}\\u003cbr\\u003etrait_reported=%{x}\\u003cbr\\u003e-log10(p-value)=%{y}\\u003cbr\\u003eprogram_name=%{customdata[0]}\\u003cbr\\u003eP-value=%{customdata[2]}\\u003cbr\\u003eGenes=%{customdata[3]}\\u003cbr\\u003estudy_id=%{customdata[4]}\\u003cbr\\u003epmid=%{customdata[5]}\\u003cextra\\u003e\\u003c\\u002fextra\\u003e\",\"legendgroup\":\"endocrine system disease\",\"marker\":{\"color\":\"#FFA15A\",\"symbol\":\"circle\"},\"mode\":\"markers\",\"name\":\"endocrine system disease\",\"orientation\":\"v\",\"showlegend\":true,\"x\":[\"Autoimmune thyroid disease\",\"Hyperthyroidism\",\"Hypothyroidism\",\"Disorders of the thyroid gland\",\"Hypothyroidism, strict autoimmune, 3 medication purchases required\"],\"xaxis\":\"x\",\"y\":[0.8613062879746043,0.6858060349882722,0.28630561445857156,0.1824798222716765,0.10549094420805395],\"yaxis\":\"y\",\"type\":\"scatter\"},{\"customdata\":[[19,\"gastrointestinal disease\",0.2199576104207486,\"SMIM29;VEGFA\",\"GCST90094908\",\"PMID:35047847\"],[19,\"gastrointestinal disease\",0.2287500538282526,\"IL21R\",\"FINNGEN_R6_RX_CROHN_2NDLINE\",null],[19,\"gastrointestinal disease\",0.2287500538282526,\"NAV3\",\"FINNGEN_R6_ABDOM_HERNIA\",null],[19,\"gastrointestinal disease\",0.3879164909650702,\"ANPEP\",\"GCST007209\",\"PMID:30504769\"],[19,\"gastrointestinal disease\",0.5282084219701223,\"PCSK5\",\"GCST006479\",\"PMID:30177863\"],[19,\"gastrointestinal disease\",0.5797985937087958,\"PNPLA3\",\"GCST90018819\",\"PMID:34594039\"],[19,\"gastrointestinal disease\",0.6823013749557024,\"TSPAN14;PDGFB\",\"GCST004131\",\"PMID:28067908\"]],\"hovertemplate\":\"trait_category=%{customdata[1]}\\u003cbr\\u003etrait_reported=%{x}\\u003cbr\\u003e-log10(p-value)=%{y}\\u003cbr\\u003eprogram_name=%{customdata[0]}\\u003cbr\\u003eP-value=%{customdata[2]}\\u003cbr\\u003eGenes=%{customdata[3]}\\u003cbr\\u003estudy_id=%{customdata[4]}\\u003cbr\\u003epmid=%{customdata[5]}\\u003cextra\\u003e\\u003c\\u002fextra\\u003e\",\"legendgroup\":\"gastrointestinal disease\",\"marker\":{\"color\":\"#19d3f3\",\"symbol\":\"circle\"},\"mode\":\"markers\",\"name\":\"gastrointestinal disease\",\"orientation\":\"v\",\"showlegend\":true,\"x\":[\"Nonalcoholic fatty liver disease (imputed)\",\"Second line medication for Crohns disease\",\"Hernia of abodminal wall\",\"Gallstone disease\",\"Diverticular disease\",\"Cholelithiasis\",\"Inflammatory bowel disease\"],\"xaxis\":\"x\",\"y\":[0.6576610070603534,0.640638795065622,0.640638795065622,0.4112617574381072,0.27719467850586216,0.23672284235330593,0.16602375354044738],\"yaxis\":\"y\",\"type\":\"scatter\"},{\"customdata\":[[19,\"genetic, familial or congenital disease\",0.056061017525612,\"GNAS\",\"GCST007916\",\"PMID:29124443\"]],\"hovertemplate\":\"trait_category=%{customdata[1]}\\u003cbr\\u003etrait_reported=%{x}\\u003cbr\\u003e-log10(p-value)=%{y}\\u003cbr\\u003eprogram_name=%{customdata[0]}\\u003cbr\\u003eP-value=%{customdata[2]}\\u003cbr\\u003eGenes=%{customdata[3]}\\u003cbr\\u003estudy_id=%{customdata[4]}\\u003cbr\\u003epmid=%{customdata[5]}\\u003cextra\\u003e\\u003c\\u002fextra\\u003e\",\"legendgroup\":\"genetic, familial or congenital disease\",\"marker\":{\"color\":\"#FF6692\",\"symbol\":\"circle\"},\"mode\":\"markers\",\"name\":\"genetic, familial or congenital disease\",\"orientation\":\"v\",\"showlegend\":true,\"x\":[\"Hyperuricemia\"],\"xaxis\":\"x\",\"y\":[1.251339023918792],\"yaxis\":\"y\",\"type\":\"scatter\"},{\"customdata\":[[19,\"immune system disease\",0.1569286846215245,\"SYPL1;UBASH3B;MTHFR;TOX2;RRAS2;BCL10\",\"GCST009597\",\"PMID:31604244\"],[19,\"immune system disease\",0.7647169252273888,\"RNASET2\",\"GCST007071\",\"PMID:30595370\"]],\"hovertemplate\":\"trait_category=%{customdata[1]}\\u003cbr\\u003etrait_reported=%{x}\\u003cbr\\u003e-log10(p-value)=%{y}\\u003cbr\\u003eprogram_name=%{customdata[0]}\\u003cbr\\u003eP-value=%{customdata[2]}\\u003cbr\\u003eGenes=%{customdata[3]}\\u003cbr\\u003estudy_id=%{customdata[4]}\\u003cbr\\u003epmid=%{customdata[5]}\\u003cextra\\u003e\\u003c\\u002fextra\\u003e\",\"legendgroup\":\"immune system disease\",\"marker\":{\"color\":\"#B6E880\",\"symbol\":\"circle\"},\"mode\":\"markers\",\"name\":\"immune system disease\",\"orientation\":\"v\",\"showlegend\":true,\"x\":[\"Multiple sclerosis\",\"Autoimmune traits\"],\"xaxis\":\"x\",\"y\":[0.8042976655001944,0.11649929760822468],\"yaxis\":\"y\",\"type\":\"scatter\"},{\"customdata\":[[19,\"integumentary system disease\",0.2942593684198209,\"PTPN1;RNASET2\",\"GCST004785\",\"PMID:27723757\"],[19,\"integumentary system disease\",0.5547466477670275,\"CCDC80\",\"GCST90086149\",\"PMID:34116867\"],[19,\"integumentary system disease\",0.5917932931517309,\"PNPLA3\",\"GCST90092000\",\"PMID:35132056\"]],\"hovertemplate\":\"trait_category=%{customdata[1]}\\u003cbr\\u003etrait_reported=%{x}\\u003cbr\\u003e-log10(p-value)=%{y}\\u003cbr\\u003eprogram_name=%{customdata[0]}\\u003cbr\\u003eP-value=%{customdata[2]}\\u003cbr\\u003eGenes=%{customdata[3]}\\u003cbr\\u003estudy_id=%{customdata[4]}\\u003cbr\\u003epmid=%{customdata[5]}\\u003cextra\\u003e\\u003c\\u002fextra\\u003e\",\"legendgroup\":\"integumentary system disease\",\"marker\":{\"color\":\"#FF97FF\",\"symbol\":\"circle\"},\"mode\":\"markers\",\"name\":\"integumentary system disease\",\"orientation\":\"v\",\"showlegend\":true,\"x\":[\"Vitiligo\",\"Atopic dermatitis\",\"acne vulgaris\"],\"xaxis\":\"x\",\"y\":[0.5312697015065693,0.25590531345049344,0.22782996104713193],\"yaxis\":\"y\",\"type\":\"scatter\"},{\"customdata\":[[19,\"musculoskeletal or connective tissue disease\",0.1380296513827923,\"MLXIP;PNPLA3\",\"GCST012338\",\"PMID:33832965\"],[19,\"musculoskeletal or connective tissue disease\",0.2507048273189083,\"PLXNA2\",\"GCST008789\",\"PMID:31417091\"],[19,\"musculoskeletal or connective tissue disease\",0.4223060168318421,\"DDR2\",\"GCST004858\",\"PMID:28886342\"]],\"hovertemplate\":\"trait_category=%{customdata[1]}\\u003cbr\\u003etrait_reported=%{x}\\u003cbr\\u003e-log10(p-value)=%{y}\\u003cbr\\u003eprogram_name=%{customdata[0]}\\u003cbr\\u003eP-value=%{customdata[2]}\\u003cbr\\u003eGenes=%{customdata[3]}\\u003cbr\\u003estudy_id=%{customdata[4]}\\u003cbr\\u003epmid=%{customdata[5]}\\u003cextra\\u003e\\u003c\\u002fextra\\u003e\",\"legendgroup\":\"musculoskeletal or connective tissue disease\",\"marker\":{\"color\":\"#FECB52\",\"symbol\":\"circle\"},\"mode\":\"markers\",\"name\":\"musculoskeletal or connective tissue disease\",\"orientation\":\"v\",\"showlegend\":true,\"x\":[\"Gout\",\"Adolescent idiopathic scoliosis\",\"Dupuytren's disease\"],\"xaxis\":\"x\",\"y\":[0.8600276088982539,0.600837303625428,0.3743727308927516],\"yaxis\":\"y\",\"type\":\"scatter\"},{\"customdata\":[[19,\"nervous system disease\",0.2287500538282526,\"ATP2C1\",\"GCST005042\",\"PMID:29029846\"],[19,\"nervous system disease\",0.2942593684198209,\"NUCKS1;SNCA\",\"GCST004902\",\"PMID:28892059\"],[19,\"nervous system disease\",0.2942593684198209,\"NUCKS1;SNCA\",\"GCST010991\",\"PMID:32201043\"],[19,\"nervous system disease\",0.5155063301890639,\"NUCKS1;TCF20;LONRF1;PLXNA2;DUSP6;NFIB;HSD17B12;MTFR1;PTPRN2\",\"GCST90061435\",\"PMID:34446935\"],[19,\"nervous system disease\",0.5416686865549875,\"DUSP6\",\"GCST90016618\",\"PMID:33686288\"],[19,\"nervous system disease\",0.6855089857015289,\"SLC7A11\",\"GCST010017\",\"PMID:32231276\"],[19,\"nervous system disease\",0.6944979938815563,\"NRDC\",\"GCST012090\",\"PMID:33479212\"]],\"hovertemplate\":\"trait_category=%{customdata[1]}\\u003cbr\\u003etrait_reported=%{x}\\u003cbr\\u003e-log10(p-value)=%{y}\\u003cbr\\u003eprogram_name=%{customdata[0]}\\u003cbr\\u003eP-value=%{customdata[2]}\\u003cbr\\u003eGenes=%{customdata[3]}\\u003cbr\\u003estudy_id=%{customdata[4]}\\u003cbr\\u003epmid=%{customdata[5]}\\u003cextra\\u003e\\u003c\\u002fextra\\u003e\",\"legendgroup\":\"nervous system disease\",\"marker\":{\"color\":\"#636efa\",\"symbol\":\"circle\"},\"mode\":\"markers\",\"name\":\"nervous system disease\",\"orientation\":\"v\",\"showlegend\":true,\"x\":[\"Restless legs syndrome\",\"Parkinson's disease\",\"Parkinson's disease\",\"Externalizing behaviour (multivariate analysis)\",\"Schizophrenia vs ADHD (ordinary least squares (OLS))\",\"Neuroticism\",\"Major depressive disorder (MTAG)\"],\"xaxis\":\"x\",\"y\":[0.640638795065622,0.5312697015065693,0.5312697015065693,0.28776599740413,0.2662662699129855,0.16398684807357408,0.15832900442230294],\"yaxis\":\"y\",\"type\":\"scatter\"},{\"customdata\":[[19,\"pancreas disease\",0.7506509700484338,\"GLI2\",\"GCST007077\",\"PMID:30595370\"]],\"hovertemplate\":\"trait_category=%{customdata[1]}\\u003cbr\\u003etrait_reported=%{x}\\u003cbr\\u003e-log10(p-value)=%{y}\\u003cbr\\u003eprogram_name=%{customdata[0]}\\u003cbr\\u003eP-value=%{customdata[2]}\\u003cbr\\u003eGenes=%{customdata[3]}\\u003cbr\\u003estudy_id=%{customdata[4]}\\u003cbr\\u003epmid=%{customdata[5]}\\u003cextra\\u003e\\u003c\\u002fextra\\u003e\",\"legendgroup\":\"pancreas disease\",\"marker\":{\"color\":\"#EF553B\",\"symbol\":\"circle\"},\"mode\":\"markers\",\"name\":\"pancreas disease\",\"orientation\":\"v\",\"showlegend\":true,\"x\":[\"Type 2 diabetes\"],\"xaxis\":\"x\",\"y\":[0.12456194983603248],\"yaxis\":\"y\",\"type\":\"scatter\"},{\"customdata\":[[19,\"phenotype\",0.008688541686716,\"LDLR;IRF2BP2;HMGCR;LIPG;SCARB1;VEGFA\",\"GCST90038690\",\"PMID:33959723\"],[19,\"phenotype\",0.1343400831032873,\"DYSF\",\"FINNGEN_R6_M13_HALLUXVALGUS\",null],[19,\"phenotype\",0.1782415427636318,\"NAV3;PTPRN2\",\"GCST001712\",\"PMID:23049088\"],[19,\"phenotype\",0.2061550439296068,\"NUCKS1\",\"NEALE2_2257\",null],[19,\"phenotype\",0.3049145941394633,\"UBC;SCD;RAB32\",\"NEALE2_1717\",null],[19,\"phenotype\",0.3514897829027668,\"MMAB\",\"FINNGEN_R6_H7_CATARACTSENILE\",null],[19,\"phenotype\",0.4387725338878636,\"LPIN1\",\"SAIGE_728_7\",null],[19,\"phenotype\",0.4387725338878636,\"RAB3C\",\"FINNGEN_R6_K11_HERNIA\",null],[19,\"phenotype\",0.4854209635556349,\"TUBA1A\",\"GCST90013421\",\"PMID:32989287\"],[19,\"phenotype\",0.5917932931517309,\"HSD17B12\",\"GCST008512\",\"PMID:31194737\"],[19,\"phenotype\",0.5917932931517309,\"HSD17B12\",\"GCST012332\",\"PMID:33830993\"],[19,\"phenotype\",0.6762567419240386,\"CPNE3\",\"GCST90018939\",\"PMID:34594039\"],[19,\"phenotype\",0.7012900333459319,\"AKAP12;CDC42BPA\",\"GCST006988\",\"PMID:30531825\"],[19,\"phenotype\",0.9414579808611644,\"VEGFA;NPC2;TOX2;RRAS2;FRY\",\"GCST010002\",\"PMID:32231278\"]],\"hovertemplate\":\"trait_category=%{customdata[1]}\\u003cbr\\u003etrait_reported=%{x}\\u003cbr\\u003e-log10(p-value)=%{y}\\u003cbr\\u003eprogram_name=%{customdata[0]}\\u003cbr\\u003eP-value=%{customdata[2]}\\u003cbr\\u003eGenes=%{customdata[3]}\\u003cbr\\u003estudy_id=%{customdata[4]}\\u003cbr\\u003epmid=%{customdata[5]}\\u003cextra\\u003e\\u003c\\u002fextra\\u003e\",\"legendgroup\":\"phenotype\",\"marker\":{\"color\":\"#00cc96\",\"symbol\":\"circle\"},\"mode\":\"markers\",\"name\":\"phenotype\",\"orientation\":\"v\",\"showlegend\":true,\"x\":[\"High cholesterol\",\"Hallux valgus (acquired)\",\"Myopia (pathological)\",\"Hearing difficulty\\u002fproblems with background noise\",\"Skin colour\",\"Senile cataract\",\"Fasciitis\",\"Hernia\",\"Left-handedness\",\"Multisite chronic pain\",\"Multisite chronic pain\",\"Varicose veins\",\"Blond vs. brown\\u002fblack hair color\",\"Refractive error\"],\"xaxis\":\"x\",\"y\":[2.0610531108424572,0.8717943873810217,0.7489910674689295,0.6858060349882722,0.5158217884829206,0.4540872945230746,0.3577605660432619,0.3577605660432619,0.313881472009155,0.22782996104713193,0.22782996104713193,0.16988839217622498,0.15410233320106417,0.026199058639734853],\"yaxis\":\"y\",\"type\":\"scatter\"},{\"customdata\":[[19,\"respiratory or thoracic disease\",0.2927653966471928,\"IL21R\",\"FINNGEN_R6_ILD_ENDPOINTS\",null],[19,\"respiratory or thoracic disease\",0.4945157231297057,\"THSD4;PRSS23\",\"GCST007692\",\"PMID:30804561\"],[19,\"respiratory or thoracic disease\",0.8684627092415388,\"FADS2\",\"GCST007076\",\"PMID:30595370\"]],\"hovertemplate\":\"trait_category=%{customdata[1]}\\u003cbr\\u003etrait_reported=%{x}\\u003cbr\\u003e-log10(p-value)=%{y}\\u003cbr\\u003eprogram_name=%{customdata[0]}\\u003cbr\\u003eP-value=%{customdata[2]}\\u003cbr\\u003eGenes=%{customdata[3]}\\u003cbr\\u003estudy_id=%{customdata[4]}\\u003cbr\\u003epmid=%{customdata[5]}\\u003cextra\\u003e\\u003c\\u002fextra\\u003e\",\"legendgroup\":\"respiratory or thoracic disease\",\"marker\":{\"color\":\"#ab63fa\",\"symbol\":\"circle\"},\"mode\":\"markers\",\"name\":\"respiratory or thoracic disease\",\"orientation\":\"v\",\"showlegend\":true,\"x\":[\"Interstitial lung disease endpoints\",\"Chronic obstructive pulmonary disease\",\"Respiratory diseases\"],\"xaxis\":\"x\",\"y\":[0.5334802559376316,0.30581989545221594,0.06124882490637182],\"yaxis\":\"y\",\"type\":\"scatter\"},{\"customdata\":[[19,\"urinary system disease\",0.3514897829027668,\"VEGFA\",\"GCST000649_3\",\"PMID:20383146\"]],\"hovertemplate\":\"trait_category=%{customdata[1]}\\u003cbr\\u003etrait_reported=%{x}\\u003cbr\\u003e-log10(p-value)=%{y}\\u003cbr\\u003eprogram_name=%{customdata[0]}\\u003cbr\\u003eP-value=%{customdata[2]}\\u003cbr\\u003eGenes=%{customdata[3]}\\u003cbr\\u003estudy_id=%{customdata[4]}\\u003cbr\\u003epmid=%{customdata[5]}\\u003cextra\\u003e\\u003c\\u002fextra\\u003e\",\"legendgroup\":\"urinary system disease\",\"marker\":{\"color\":\"#FFA15A\",\"symbol\":\"circle\"},\"mode\":\"markers\",\"name\":\"urinary system disease\",\"orientation\":\"v\",\"showlegend\":true,\"x\":[\"Chronic kidney disease [eGFRcrea]\"],\"xaxis\":\"x\",\"y\":[0.4540872945230746],\"yaxis\":\"y\",\"type\":\"scatter\"}],                        {\"template\":{\"data\":{\"histogram2dcontour\":[{\"type\":\"histogram2dcontour\",\"colorbar\":{\"outlinewidth\":0,\"ticks\":\"\"},\"colorscale\":[[0.0,\"#0d0887\"],[0.1111111111111111,\"#46039f\"],[0.2222222222222222,\"#7201a8\"],[0.3333333333333333,\"#9c179e\"],[0.4444444444444444,\"#bd3786\"],[0.5555555555555556,\"#d8576b\"],[0.6666666666666666,\"#ed7953\"],[0.7777777777777778,\"#fb9f3a\"],[0.8888888888888888,\"#fdca26\"],[1.0,\"#f0f921\"]]}],\"choropleth\":[{\"type\":\"choropleth\",\"colorbar\":{\"outlinewidth\":0,\"ticks\":\"\"}}],\"histogram2d\":[{\"type\":\"histogram2d\",\"colorbar\":{\"outlinewidth\":0,\"ticks\":\"\"},\"colorscale\":[[0.0,\"#0d0887\"],[0.1111111111111111,\"#46039f\"],[0.2222222222222222,\"#7201a8\"],[0.3333333333333333,\"#9c179e\"],[0.4444444444444444,\"#bd3786\"],[0.5555555555555556,\"#d8576b\"],[0.6666666666666666,\"#ed7953\"],[0.7777777777777778,\"#fb9f3a\"],[0.8888888888888888,\"#fdca26\"],[1.0,\"#f0f921\"]]}],\"heatmap\":[{\"type\":\"heatmap\",\"colorbar\":{\"outlinewidth\":0,\"ticks\":\"\"},\"colorscale\":[[0.0,\"#0d0887\"],[0.1111111111111111,\"#46039f\"],[0.2222222222222222,\"#7201a8\"],[0.3333333333333333,\"#9c179e\"],[0.4444444444444444,\"#bd3786\"],[0.5555555555555556,\"#d8576b\"],[0.6666666666666666,\"#ed7953\"],[0.7777777777777778,\"#fb9f3a\"],[0.8888888888888888,\"#fdca26\"],[1.0,\"#f0f921\"]]}],\"heatmapgl\":[{\"type\":\"heatmapgl\",\"colorbar\":{\"outlinewidth\":0,\"ticks\":\"\"},\"colorscale\":[[0.0,\"#0d0887\"],[0.1111111111111111,\"#46039f\"],[0.2222222222222222,\"#7201a8\"],[0.3333333333333333,\"#9c179e\"],[0.4444444444444444,\"#bd3786\"],[0.5555555555555556,\"#d8576b\"],[0.6666666666666666,\"#ed7953\"],[0.7777777777777778,\"#fb9f3a\"],[0.8888888888888888,\"#fdca26\"],[1.0,\"#f0f921\"]]}],\"contourcarpet\":[{\"type\":\"contourcarpet\",\"colorbar\":{\"outlinewidth\":0,\"ticks\":\"\"}}],\"contour\":[{\"type\":\"contour\",\"colorbar\":{\"outlinewidth\":0,\"ticks\":\"\"},\"colorscale\":[[0.0,\"#0d0887\"],[0.1111111111111111,\"#46039f\"],[0.2222222222222222,\"#7201a8\"],[0.3333333333333333,\"#9c179e\"],[0.4444444444444444,\"#bd3786\"],[0.5555555555555556,\"#d8576b\"],[0.6666666666666666,\"#ed7953\"],[0.7777777777777778,\"#fb9f3a\"],[0.8888888888888888,\"#fdca26\"],[1.0,\"#f0f921\"]]}],\"surface\":[{\"type\":\"surface\",\"colorbar\":{\"outlinewidth\":0,\"ticks\":\"\"},\"colorscale\":[[0.0,\"#0d0887\"],[0.1111111111111111,\"#46039f\"],[0.2222222222222222,\"#7201a8\"],[0.3333333333333333,\"#9c179e\"],[0.4444444444444444,\"#bd3786\"],[0.5555555555555556,\"#d8576b\"],[0.6666666666666666,\"#ed7953\"],[0.7777777777777778,\"#fb9f3a\"],[0.8888888888888888,\"#fdca26\"],[1.0,\"#f0f921\"]]}],\"mesh3d\":[{\"type\":\"mesh3d\",\"colorbar\":{\"outlinewidth\":0,\"ticks\":\"\"}}],\"scatter\":[{\"fillpattern\":{\"fillmode\":\"overlay\",\"size\":10,\"solidity\":0.2},\"type\":\"scatter\"}],\"parcoords\":[{\"type\":\"parcoords\",\"line\":{\"colorbar\":{\"outlinewidth\":0,\"ticks\":\"\"}}}],\"scatterpolargl\":[{\"type\":\"scatterpolargl\",\"marker\":{\"colorbar\":{\"outlinewidth\":0,\"ticks\":\"\"}}}],\"bar\":[{\"error_x\":{\"color\":\"#2a3f5f\"},\"error_y\":{\"color\":\"#2a3f5f\"},\"marker\":{\"line\":{\"color\":\"#E5ECF6\",\"width\":0.5},\"pattern\":{\"fillmode\":\"overlay\",\"size\":10,\"solidity\":0.2}},\"type\":\"bar\"}],\"scattergeo\":[{\"type\":\"scattergeo\",\"marker\":{\"colorbar\":{\"outlinewidth\":0,\"ticks\":\"\"}}}],\"scatterpolar\":[{\"type\":\"scatterpolar\",\"marker\":{\"colorbar\":{\"outlinewidth\":0,\"ticks\":\"\"}}}],\"histogram\":[{\"marker\":{\"pattern\":{\"fillmode\":\"overlay\",\"size\":10,\"solidity\":0.2}},\"type\":\"histogram\"}],\"scattergl\":[{\"type\":\"scattergl\",\"marker\":{\"colorbar\":{\"outlinewidth\":0,\"ticks\":\"\"}}}],\"scatter3d\":[{\"type\":\"scatter3d\",\"line\":{\"colorbar\":{\"outlinewidth\":0,\"ticks\":\"\"}},\"marker\":{\"colorbar\":{\"outlinewidth\":0,\"ticks\":\"\"}}}],\"scattermapbox\":[{\"type\":\"scattermapbox\",\"marker\":{\"colorbar\":{\"outlinewidth\":0,\"ticks\":\"\"}}}],\"scatterternary\":[{\"type\":\"scatterternary\",\"marker\":{\"colorbar\":{\"outlinewidth\":0,\"ticks\":\"\"}}}],\"scattercarpet\":[{\"type\":\"scattercarpet\",\"marker\":{\"colorbar\":{\"outlinewidth\":0,\"ticks\":\"\"}}}],\"carpet\":[{\"aaxis\":{\"endlinecolor\":\"#2a3f5f\",\"gridcolor\":\"white\",\"linecolor\":\"white\",\"minorgridcolor\":\"white\",\"startlinecolor\":\"#2a3f5f\"},\"baxis\":{\"endlinecolor\":\"#2a3f5f\",\"gridcolor\":\"white\",\"linecolor\":\"white\",\"minorgridcolor\":\"white\",\"startlinecolor\":\"#2a3f5f\"},\"type\":\"carpet\"}],\"table\":[{\"cells\":{\"fill\":{\"color\":\"#EBF0F8\"},\"line\":{\"color\":\"white\"}},\"header\":{\"fill\":{\"color\":\"#C8D4E3\"},\"line\":{\"color\":\"white\"}},\"type\":\"table\"}],\"barpolar\":[{\"marker\":{\"line\":{\"color\":\"#E5ECF6\",\"width\":0.5},\"pattern\":{\"fillmode\":\"overlay\",\"size\":10,\"solidity\":0.2}},\"type\":\"barpolar\"}],\"pie\":[{\"automargin\":true,\"type\":\"pie\"}]},\"layout\":{\"autotypenumbers\":\"strict\",\"colorway\":[\"#636efa\",\"#EF553B\",\"#00cc96\",\"#ab63fa\",\"#FFA15A\",\"#19d3f3\",\"#FF6692\",\"#B6E880\",\"#FF97FF\",\"#FECB52\"],\"font\":{\"color\":\"#2a3f5f\"},\"hovermode\":\"closest\",\"hoverlabel\":{\"align\":\"left\"},\"paper_bgcolor\":\"white\",\"plot_bgcolor\":\"#E5ECF6\",\"polar\":{\"bgcolor\":\"#E5ECF6\",\"angularaxis\":{\"gridcolor\":\"white\",\"linecolor\":\"white\",\"ticks\":\"\"},\"radialaxis\":{\"gridcolor\":\"white\",\"linecolor\":\"white\",\"ticks\":\"\"}},\"ternary\":{\"bgcolor\":\"#E5ECF6\",\"aaxis\":{\"gridcolor\":\"white\",\"linecolor\":\"white\",\"ticks\":\"\"},\"baxis\":{\"gridcolor\":\"white\",\"linecolor\":\"white\",\"ticks\":\"\"},\"caxis\":{\"gridcolor\":\"white\",\"linecolor\":\"white\",\"ticks\":\"\"}},\"coloraxis\":{\"colorbar\":{\"outlinewidth\":0,\"ticks\":\"\"}},\"colorscale\":{\"sequential\":[[0.0,\"#0d0887\"],[0.1111111111111111,\"#46039f\"],[0.2222222222222222,\"#7201a8\"],[0.3333333333333333,\"#9c179e\"],[0.4444444444444444,\"#bd3786\"],[0.5555555555555556,\"#d8576b\"],[0.6666666666666666,\"#ed7953\"],[0.7777777777777778,\"#fb9f3a\"],[0.8888888888888888,\"#fdca26\"],[1.0,\"#f0f921\"]],\"sequentialminus\":[[0.0,\"#0d0887\"],[0.1111111111111111,\"#46039f\"],[0.2222222222222222,\"#7201a8\"],[0.3333333333333333,\"#9c179e\"],[0.4444444444444444,\"#bd3786\"],[0.5555555555555556,\"#d8576b\"],[0.6666666666666666,\"#ed7953\"],[0.7777777777777778,\"#fb9f3a\"],[0.8888888888888888,\"#fdca26\"],[1.0,\"#f0f921\"]],\"diverging\":[[0,\"#8e0152\"],[0.1,\"#c51b7d\"],[0.2,\"#de77ae\"],[0.3,\"#f1b6da\"],[0.4,\"#fde0ef\"],[0.5,\"#f7f7f7\"],[0.6,\"#e6f5d0\"],[0.7,\"#b8e186\"],[0.8,\"#7fbc41\"],[0.9,\"#4d9221\"],[1,\"#276419\"]]},\"xaxis\":{\"gridcolor\":\"white\",\"linecolor\":\"white\",\"ticks\":\"\",\"title\":{\"standoff\":15},\"zerolinecolor\":\"white\",\"automargin\":true,\"zerolinewidth\":2},\"yaxis\":{\"gridcolor\":\"white\",\"linecolor\":\"white\",\"ticks\":\"\",\"title\":{\"standoff\":15},\"zerolinecolor\":\"white\",\"automargin\":true,\"zerolinewidth\":2},\"scene\":{\"xaxis\":{\"backgroundcolor\":\"#E5ECF6\",\"gridcolor\":\"white\",\"linecolor\":\"white\",\"showbackground\":true,\"ticks\":\"\",\"zerolinecolor\":\"white\",\"gridwidth\":2},\"yaxis\":{\"backgroundcolor\":\"#E5ECF6\",\"gridcolor\":\"white\",\"linecolor\":\"white\",\"showbackground\":true,\"ticks\":\"\",\"zerolinecolor\":\"white\",\"gridwidth\":2},\"zaxis\":{\"backgroundcolor\":\"#E5ECF6\",\"gridcolor\":\"white\",\"linecolor\":\"white\",\"showbackground\":true,\"ticks\":\"\",\"zerolinecolor\":\"white\",\"gridwidth\":2}},\"shapedefaults\":{\"line\":{\"color\":\"#2a3f5f\"}},\"annotationdefaults\":{\"arrowcolor\":\"#2a3f5f\",\"arrowhead\":0,\"arrowwidth\":1},\"geo\":{\"bgcolor\":\"white\",\"landcolor\":\"#E5ECF6\",\"subunitcolor\":\"white\",\"showland\":true,\"showlakes\":true,\"lakecolor\":\"white\"},\"title\":{\"x\":0.05},\"mapbox\":{\"style\":\"light\"}}},\"xaxis\":{\"anchor\":\"y\",\"domain\":[0.0,1.0],\"title\":{\"text\":\"trait_reported\"},\"tickfont\":{\"size\":4}},\"yaxis\":{\"anchor\":\"x\",\"domain\":[0.0,1.0],\"title\":{\"text\":\"-log10(p-value)\"},\"tickformat\":\".1f\"},\"legend\":{\"title\":{\"text\":\"trait_category\"},\"tracegroupgap\":0},\"title\":{\"text\":\"Endothelial Cell Programs x GWAS Binary Outcome Enrichments\"},\"width\":1000,\"height\":800,\"shapes\":[{\"line\":{\"dash\":\"dash\"},\"type\":\"line\",\"x0\":0,\"x1\":1,\"xref\":\"x domain\",\"y0\":1.3010299956639813,\"y1\":1.3010299956639813,\"yref\":\"y\"}],\"annotations\":[{\"showarrow\":false,\"text\":\"Significance Threshold (0.05)\",\"x\":1,\"xanchor\":\"right\",\"xref\":\"x domain\",\"y\":1.3010299956639813,\"yanchor\":\"bottom\",\"yref\":\"y\"}]},                        {\"responsive\": true}                    ).then(function(){\n",
       "                            \n",
       "var gd = document.getElementById('0abb6af8-2247-4f09-9dec-bae203bf31c0');\n",
       "var x = new MutationObserver(function (mutations, observer) {{\n",
       "        var display = window.getComputedStyle(gd).display;\n",
       "        if (!display || display === 'none') {{\n",
       "            console.log([gd, 'removed!']);\n",
       "            Plotly.purge(gd);\n",
       "            observer.disconnect();\n",
       "        }}\n",
       "}});\n",
       "\n",
       "// Listen for the removal of the full notebook cells\n",
       "var notebookContainer = gd.closest('#notebook-container');\n",
       "if (notebookContainer) {{\n",
       "    x.observe(notebookContainer, {childList: true});\n",
       "}}\n",
       "\n",
       "// Listen for the clearing of the current output cell\n",
       "var outputEl = gd.closest('.output');\n",
       "if (outputEl) {{\n",
       "    x.observe(outputEl, {childList: true});\n",
       "}}\n",
       "\n",
       "                        })                };                });            </script>        </div>"
      ]
     },
     "metadata": {},
     "output_type": "display_data"
    },
    {
     "data": {
      "application/vnd.plotly.v1+json": {
       "config": {
        "plotlyServerURL": "https://plot.ly"
       },
       "data": [
        {
         "customdata": [
          [
           36,
           "biological process",
           0.0003044572769661,
           "BBX;NR2F2;PURA;RYBP;PHIP;KLF6;TEAD1;CUX1;ARID4A;SPRED1;PHF20L1;ZNF521;KLF9;TLK2;AGO2;STK24;BNIP3L;MNT;RBMS1;STK4;SMCHD1;ZSWIM6;FOXO3;NUFIP2;ETV1;JMJD1C;CTTNBP2NL;PRRC2C;CHD2;NR1D2;RORA;PTPN1;ATF7IP;ZBTB38;FOXP1;TCF7L2;GTF2I;MEIS2;FBXL5;TET2",
           "GCST006568",
           "PMID:30038396"
          ],
          [
           36,
           "biological process",
           0.0407661281696908,
           "FOXO3;JMJD1C;ATF7IP;FOXP1;RBMS1;NR1D2;TET2",
           "GCST006269",
           "PMID:29844566"
          ],
          [
           36,
           "biological process",
           0.0726268656341186,
           "JMJD1C;AHR",
           "NEALE2_1508_3",
           null
          ],
          [
           36,
           "biological process",
           0.1729361125676957,
           "SRPK2;ZBTB20;MKLN1",
           "NEALE2_1757",
           null
          ],
          [
           36,
           "biological process",
           0.2761773524400132,
           "AKT3;STK24;FOXP1;TET2;REST;SDCCAG8;ZBTB20;TNKS",
           "GCST007325",
           "PMID:30643258"
          ],
          [
           36,
           "biological process",
           0.3390852288315692,
           "RBMS1;FOXP1;SRPK2",
           "GCST007464",
           "PMID:30643251"
          ],
          [
           36,
           "biological process",
           0.3444811721735522,
           "FOXO3;REV3L;ZFHX3;TRIM8;ARID5B",
           "GCST007327",
           "PMID:30643258"
          ],
          [
           36,
           "biological process",
           0.3609783649397544,
           "NR2F2;FOXP1;SAMD8;ZBTB16;ARID5B",
           "GCST007462",
           "PMID:30643251"
          ],
          [
           36,
           "biological process",
           0.926867900271034,
           "TCF7L2",
           "FINNGEN_R6_RX_STATIN",
           null
          ],
          [
           36,
           "biological process",
           0.9837613008579872,
           "SERTAD2;EPB41L4A",
           "GCST006660",
           "PMID:30348214"
          ]
         ],
         "hovertemplate": "trait_category=%{customdata[1]}<br>trait_reported=%{x}<br>-log10(p-value)=%{y}<br>program_name=%{customdata[0]}<br>P-value=%{customdata[2]}<br>Genes=%{customdata[3]}<br>study_id=%{customdata[4]}<br>pmid=%{customdata[5]}<extra></extra>",
         "legendgroup": "biological process",
         "marker": {
          "color": "#636efa",
          "symbol": "circle"
         },
         "mode": "markers",
         "name": "biological process",
         "orientation": "v",
         "showlegend": true,
         "type": "scatter",
         "x": [
          "Highest math class taken (MTAG) [MTAG]",
          "General cognitive ability",
          "Ground coffee (include espresso, filter etc) | coffee type",
          "Facial ageing",
          "General risk tolerance (MTAG)",
          "Smoking cessation (MTAG)",
          "Smoking status (ever vs never smokers)",
          "Age of smoking initiation (MTAG)",
          "Statin medication",
          "DNA methylation variation (age effect)"
         ],
         "xaxis": "x",
         "y": [
          3.5164736412236692,
          1.3897005344244175,
          1.138902698330408,
          0.7621143077599217,
          0.5588119380441436,
          0.46969112846627836,
          0.46283450973482565,
          0.4425188265399006,
          0.03298215827344655,
          0.007110265690490213
         ],
         "yaxis": "y"
        },
        {
         "customdata": [
          [
           36,
           "cardiovascular disease",
           0.0178009525788011,
           "NR3C1;CAMK2D;ZFHX3;FBXO32;GTF2I;ATXN1;ZNF292;MTSS1",
           "GCST006061",
           "PMID:29892015"
          ],
          [
           36,
           "cardiovascular disease",
           0.0595756513062426,
           "NR3C1;ZFHX3;ATXN1",
           "FINNGEN_R6_CARDIAC_ARRHYTM",
           null
          ],
          [
           36,
           "cardiovascular disease",
           0.0976402936803847,
           "FGD6;ATP2B1",
           "GCST011021",
           "PMID:33199917"
          ],
          [
           36,
           "cardiovascular disease",
           0.1061187681137078,
           "TGFBR2;MEF2D;REST",
           "GCST003720",
           "PMID:27322543"
          ],
          [
           36,
           "cardiovascular disease",
           0.1265529437916419,
           "ATP2B1;NFAT5;KLF13;NR2F2",
           "FINNGEN_R6_RX_ANTIHYP",
           null
          ],
          [
           36,
           "cardiovascular disease",
           0.1344295888327668,
           "FOXP1;SERTAD2;BACH1;ZBTB20;TET2",
           "GCST90014033",
           "PMID:33888516"
          ],
          [
           36,
           "cardiovascular disease",
           0.1678786927634881,
           "ARID4A;MEF2D",
           "GCST011064",
           "PMID:32632093"
          ],
          [
           36,
           "cardiovascular disease",
           0.3962082049389296,
           "MTSS1",
           "GCST011202",
           "PMID:33495596"
          ],
          [
           36,
           "cardiovascular disease",
           0.4210888642104751,
           "MEF2D",
           "GCST011063",
           "PMID:32632093"
          ],
          [
           36,
           "cardiovascular disease",
           0.4401594527773614,
           "MIA3;ATP2B1;N4BP2L2",
           "GCST011365",
           "PMID:33532862"
          ],
          [
           36,
           "cardiovascular disease",
           0.4449473885099779,
           "ZFHX3",
           "GCST90013707",
           "PMID:32514122"
          ],
          [
           36,
           "cardiovascular disease",
           0.4449473885099779,
           "GTF2I",
           "GCST010774",
           "PMID:32589924"
          ],
          [
           36,
           "cardiovascular disease",
           0.4897637717041346,
           "ZFHX3",
           "SAIGE_427",
           null
          ],
          [
           36,
           "cardiovascular disease",
           0.5309721559381015,
           "TCF7L2",
           "GCST008474",
           "PMID:31285632"
          ],
          [
           36,
           "cardiovascular disease",
           0.6374044246355641,
           "FGD6;MIA3",
           "GCST005195",
           "PMID:29212778"
          ],
          [
           36,
           "cardiovascular disease",
           0.8564835902988203,
           "RORA;ATP2B1;PHIP;PGPEP1;HIPK2",
           "GCST007072",
           "PMID:30595370"
          ]
         ],
         "hovertemplate": "trait_category=%{customdata[1]}<br>trait_reported=%{x}<br>-log10(p-value)=%{y}<br>program_name=%{customdata[0]}<br>P-value=%{customdata[2]}<br>Genes=%{customdata[3]}<br>study_id=%{customdata[4]}<br>pmid=%{customdata[5]}<extra></extra>",
         "legendgroup": "cardiovascular disease",
         "marker": {
          "color": "#EF553B",
          "symbol": "circle"
         },
         "mode": "markers",
         "name": "cardiovascular disease",
         "orientation": "v",
         "showlegend": true,
         "type": "scatter",
         "x": [
          "Atrial fibrillation",
          "Cardiac arrhytmias",
          "Intracranial aneurysm",
          "Migraine",
          "Antihypertensive medication - note that there are other indications",
          "Haemorrhoidal disease",
          "Migraine and/or diastolic blood pressure",
          "Dilated cardiomyopathy (MTAG)",
          "Migraine and/or systolic blood pressure",
          "Myocardial infarction",
          "Arrhythmia",
          "Essential hypertension (time to event)",
          "Cardiac dysrhythmias",
          "Peripheral artery disease",
          "Coronary artery disease",
          "Cardiovascular disease"
         ],
         "xaxis": "x",
         "y": [
          1.7495567567558485,
          1.2249312010644098,
          1.0103709229912408,
          0.9742078001948378,
          0.8977277481146062,
          0.8715051297012496,
          0.775004421208308,
          0.4020765350498568,
          0.3756262434429244,
          0.35638996688514424,
          0.3516913378518712,
          0.3516913378518712,
          0.3100133432025032,
          0.27492825262756165,
          0.195584926133481,
          0.06728095343512297
         ],
         "yaxis": "y"
        },
        {
         "customdata": [
          [
           36,
           "cell proliferation disorder",
           0.0010919217656594,
           "NRIP1;FILIP1L;ATF7IP;FOXP1;FBXO32;TCF7L2;TGFBR2;KDM7A;AKAP9;CUX1;TET2",
           "GCST90090980",
           "PMID:32139696"
          ],
          [
           36,
           "cell proliferation disorder",
           0.0115064588254821,
           "BPTF;SECISBP2L;BAZ1A",
           "GCST008836_2",
           "PMID:31326317"
          ],
          [
           36,
           "cell proliferation disorder",
           0.0115064588254821,
           "BPTF;SECISBP2L;BAZ1A",
           "GCST012201",
           "PMID:32889700"
          ],
          [
           36,
           "cell proliferation disorder",
           0.0291395841082836,
           "BBX;ATP2B1;CDKN1B;MBNL1;ATF7IP;ZBTB38;SKIL;TCF7L2;ADNP;TNRC6B;TET2",
           "GCST011049",
           "PMID:33398198"
          ],
          [
           36,
           "cell proliferation disorder",
           0.0501661344618741,
           "ZKSCAN1;AKAP13",
           "GCST009758",
           "PMID:31710517"
          ],
          [
           36,
           "cell proliferation disorder",
           0.0501661344618741,
           "DMRTA1;SOX4",
           "GCST006464",
           "PMID:30093612"
          ],
          [
           36,
           "cell proliferation disorder",
           0.1547181976854636,
           "WNK1",
           "GCST004750",
           "PMID:28604730"
          ],
          [
           36,
           "cell proliferation disorder",
           0.1895134894954746,
           "MKLN1",
           "GCST90000032",
           "PMID:33057200"
          ],
          [
           36,
           "cell proliferation disorder",
           0.2228808376400165,
           "TIPARP",
           "GCST004415",
           "PMID:28346442"
          ],
          [
           36,
           "cell proliferation disorder",
           0.2262291764730011,
           "AHR;MED13L;MKLN1",
           "GCST010304",
           "PMID:32341527"
          ],
          [
           36,
           "cell proliferation disorder",
           0.285563004058537,
           "WNK1",
           "GCST004748",
           "PMID:28604730"
          ],
          [
           36,
           "cell proliferation disorder",
           0.285563004058537,
           "TIPARP",
           "GCST004478",
           "PMID:28346442"
          ],
          [
           36,
           "cell proliferation disorder",
           0.3057991260333816,
           "CUX1;FOXP1",
           "SAIGE_172_2",
           null
          ],
          [
           36,
           "cell proliferation disorder",
           0.3149876127581196,
           "MKLN1",
           "GCST005434",
           "PMID:29422604"
          ],
          [
           36,
           "cell proliferation disorder",
           0.3149876127581196,
           "BAZ1A",
           "GCST008834",
           "PMID:31326317"
          ],
          [
           36,
           "cell proliferation disorder",
           0.3149876127581196,
           "BAZ1A",
           "GCST012199",
           "PMID:32889700"
          ],
          [
           36,
           "cell proliferation disorder",
           0.3149876127581196,
           "NRIP1",
           "FINNGEN_R6_C3_BREAST_HERPLUS",
           null
          ],
          [
           36,
           "cell proliferation disorder",
           0.3149876127581196,
           "NRIP1",
           "FINNGEN_R6_C3_BREAST_HERPLUS_EXALLC",
           null
          ],
          [
           36,
           "cell proliferation disorder",
           0.3162710399159792,
           "ST3GAL6;FOXP1;STRN",
           "GCST008870",
           "PMID:31174203"
          ],
          [
           36,
           "cell proliferation disorder",
           0.3211591535656641,
           "ZBTB7A;CAMK2D",
           "GCST004146",
           "PMID:28165464"
          ],
          [
           36,
           "cell proliferation disorder",
           0.3364344910168658,
           "ATF7IP;RESF1",
           "GCST004635",
           "PMID:28604728"
          ],
          [
           36,
           "cell proliferation disorder",
           0.3618514462243932,
           "RBMS1;FOXP1;ST3GAL6",
           "GCST008871",
           "PMID:31174203"
          ],
          [
           36,
           "cell proliferation disorder",
           0.3815707894612491,
           "ST3GAL6;FOXP1",
           "GCST90018921",
           "PMID:34594039"
          ],
          [
           36,
           "cell proliferation disorder",
           0.3962082049389296,
           "ATF7IP",
           "GCST002022",
           "PMID:23666240"
          ],
          [
           36,
           "cell proliferation disorder",
           0.4253572447798924,
           "CUX1;FOXP1",
           "GCST90027058",
           "PMID:34290314"
          ],
          [
           36,
           "cell proliferation disorder",
           0.4449473885099779,
           "NRIP1",
           "FINNGEN_R6_C3_BREAST",
           null
          ],
          [
           36,
           "cell proliferation disorder",
           0.4449473885099779,
           "SKIL",
           "FINNGEN_R6_C3_PROSTATE_EXALLC",
           null
          ],
          [
           36,
           "cell proliferation disorder",
           0.467825640020593,
           "FOXP1",
           "GCST90018883",
           "PMID:34594039"
          ],
          [
           36,
           "cell proliferation disorder",
           0.4897637717041346,
           "FOXP1",
           "GCST010148",
           "PMID:32041948"
          ],
          [
           36,
           "cell proliferation disorder",
           0.510800296872845,
           "NRIP1",
           "FINNGEN_R6_C3_BREAST_HER2NEG",
           null
          ],
          [
           36,
           "cell proliferation disorder",
           0.510800296872845,
           "TCF7L2",
           "GCST005076",
           "PMID:29058716"
          ],
          [
           36,
           "cell proliferation disorder",
           0.5866468738605477,
           "SKIL",
           "FINNGEN_R6_C3_MALE_GENITAL",
           null
          ],
          [
           36,
           "cell proliferation disorder",
           0.5866468738605477,
           "SKIL",
           "FINNGEN_R6_C3_MALE_GENITAL_EXALLC",
           null
          ],
          [
           36,
           "cell proliferation disorder",
           0.6037002021495758,
           "PJA2",
           "SAIGE_728_71",
           null
          ],
          [
           36,
           "cell proliferation disorder",
           0.6651812398611223,
           "FOXP1",
           "SAIGE_172",
           null
          ],
          [
           36,
           "cell proliferation disorder",
           0.679003628854497,
           "SLC38A2",
           "GCST90018934",
           "PMID:34594039"
          ],
          [
           36,
           "cell proliferation disorder",
           0.6922571279392686,
           "TET2",
           "GCST90061442",
           "PMID:34033851"
          ],
          [
           36,
           "cell proliferation disorder",
           0.8929506914030486,
           "TET2",
           "GCST007992",
           "PMID:31089142"
          ]
         ],
         "hovertemplate": "trait_category=%{customdata[1]}<br>trait_reported=%{x}<br>-log10(p-value)=%{y}<br>program_name=%{customdata[0]}<br>P-value=%{customdata[2]}<br>Genes=%{customdata[3]}<br>study_id=%{customdata[4]}<br>pmid=%{customdata[5]}<extra></extra>",
         "legendgroup": "cell proliferation disorder",
         "marker": {
          "color": "#00cc96",
          "symbol": "circle"
         },
         "mode": "markers",
         "name": "cell proliferation disorder",
         "orientation": "v",
         "showlegend": true,
         "type": "scatter",
         "x": [
          "Breast cancer",
          "Lung adenocarcinoma [East Asian]",
          "Lung adenocarcinoma",
          "Prostate cancer",
          "Idiopathic pulmonary fibrosis",
          "Endometrial cancer",
          "Squamous cell lung carcinoma",
          "Myeloproliferative neoplasms",
          "Invasive epithelial ovarian cancer",
          "Cutaneous malignant melanoma",
          "Lung cancer",
          "Serous invasive ovarian cancer",
          "Other non-epithelial cancer of skin",
          "Pancreatic cancer",
          "Non-small cell lung cancer",
          "Non-small cell lung cancer",
          "Malignant neoplasm of breast, HER-positive",
          "Malignant neoplasm of breast, HER-positive (controls excluding all cancers)",
          "Keratinocyte cancer (MTAG)",
          "Chronic lymphocytic leukemia",
          "Testicular germ cell tumor",
          "Basal cell carcinoma",
          "Skin cancer",
          "Testicular germ cell tumor",
          "Non-melanoma skin cancer",
          "Malignant neoplasm of breast",
          "Malignant neoplasm of prostate (controls excluding all cancers)",
          "Nasal polyps",
          "Cutaneous squamous cell carcinoma",
          "Malignant neoplasm of breast, HER2-negative",
          "Breast cancer (estrogen-receptor negative)",
          "malignant neoplasm of male genital organs",
          "malignant neoplasm of male genital organs (controls excluding all cancers)",
          "Contracture of palmar fascia [dupuytren's disease]",
          "Skin cancer",
          "Uterine fibroids",
          "Primary biliary cholangitis",
          "Colorectal cancer"
         ],
         "xaxis": "x",
         "y": [
          2.9618084769788795,
          1.9390583122675784,
          1.9390583122675784,
          1.5355166509451101,
          1.2995893621286179,
          1.2995893621286179,
          0.8104586023343467,
          0.7223598716856526,
          0.6519272687334938,
          0.6454513854225086,
          0.5442980580092003,
          0.5442980580092003,
          0.5145637601252099,
          0.5017065249931768,
          0.5017065249931768,
          0.5017065249931768,
          0.5017065249931768,
          0.5017065249931768,
          0.4999405734352048,
          0.4932796953643279,
          0.4730994870404675,
          0.4414696872744389,
          0.4184248794117522,
          0.4020765350498568,
          0.3712461657951674,
          0.3516913378518712,
          0.3516913378518712,
          0.32991597958905405,
          0.3100133432025032,
          0.29174885900024145,
          0.29174885900024145,
          0.23162323926599895,
          0.23162323926599895,
          0.21917867872259036,
          0.1770600077082074,
          0.16812790467786012,
          0.15973256377486986,
          0.04917252212243546
         ],
         "yaxis": "y"
        },
        {
         "customdata": [
          [
           36,
           "disease of visual system",
           0.3629294336674807,
           "PTPN1;ZFP36L2;FBXO32;TES",
           "GCST009722",
           "PMID:31959993"
          ],
          [
           36,
           "disease of visual system",
           0.7571894171455614,
           "TCF7L2;NRIP1;ANTXR2;ZBTB38",
           "GCST010378",
           "PMID:32352494"
          ],
          [
           36,
           "disease of visual system",
           0.8834991711448278,
           "FBXO32",
           "GCST90011770",
           "PMID:33627673"
          ]
         ],
         "hovertemplate": "trait_category=%{customdata[1]}<br>trait_reported=%{x}<br>-log10(p-value)=%{y}<br>program_name=%{customdata[0]}<br>P-value=%{customdata[2]}<br>Genes=%{customdata[3]}<br>study_id=%{customdata[4]}<br>pmid=%{customdata[5]}<extra></extra>",
         "legendgroup": "disease of visual system",
         "marker": {
          "color": "#ab63fa",
          "symbol": "circle"
         },
         "mode": "markers",
         "name": "disease of visual system",
         "orientation": "v",
         "showlegend": true,
         "type": "scatter",
         "x": [
          "Glaucoma (multi-trait analysis)",
          "Spherical equivalent",
          "Glaucoma (primary open-angle)"
         ],
         "xaxis": "x",
         "y": [
          0.44017780898046394,
          0.12079546458067061,
          0.053793853590603014
         ],
         "yaxis": "y"
        },
        {
         "customdata": [
          [
           36,
           "endocrine system disease",
           0.1828049147195762,
           "ARID5B;ATRX",
           "GCST90018847",
           "PMID:34594039"
          ],
          [
           36,
           "endocrine system disease",
           0.5546181436664248,
           "ARID5B;PLEKHA1;BAZ2B",
           "GCST010571",
           "PMID:32581359"
          ],
          [
           36,
           "endocrine system disease",
           0.6477656385995166,
           "ARID5B;AGO2",
           "FINNGEN_R6_E4_HYTHY_AI_STRICT_PURCH",
           null
          ],
          [
           36,
           "endocrine system disease",
           0.7623974279607062,
           "ARID5B;PLEKHA1;AGO2",
           "GCST007073",
           "PMID:30595370"
          ],
          [
           36,
           "endocrine system disease",
           0.7894922184861299,
           "AGO2",
           "FINNGEN_R6_E4_THYROID",
           null
          ]
         ],
         "hovertemplate": "trait_category=%{customdata[1]}<br>trait_reported=%{x}<br>-log10(p-value)=%{y}<br>program_name=%{customdata[0]}<br>P-value=%{customdata[2]}<br>Genes=%{customdata[3]}<br>study_id=%{customdata[4]}<br>pmid=%{customdata[5]}<extra></extra>",
         "legendgroup": "endocrine system disease",
         "marker": {
          "color": "#FFA15A",
          "symbol": "circle"
         },
         "mode": "markers",
         "name": "endocrine system disease",
         "orientation": "v",
         "showlegend": true,
         "type": "scatter",
         "x": [
          "Graves' disease",
          "Autoimmune thyroid disease",
          "Hypothyroidism, strict autoimmune, 3 medication purchases required",
          "Hypothyroidism",
          "Disorders of the thyroid gland"
         ],
         "xaxis": "x",
         "y": [
          0.738012132415647,
          0.25600592710341313,
          0.18858209331629497,
          0.11781857751185584,
          0.10265214619424197
         ],
         "yaxis": "y"
        },
        {
         "customdata": [
          [
           36,
           "gastrointestinal disease",
           0.0308938848618617,
           "RORA;SOX4",
           "GCST90027899",
           "PMID:34506852"
          ],
          [
           36,
           "gastrointestinal disease",
           0.2228808376400165,
           "HDAC7",
           "GCST006670",
           "PMID:23603763"
          ],
          [
           36,
           "gastrointestinal disease",
           0.343204048491289,
           "FOXP1",
           "GCST90000515",
           "PMID:34187846"
          ],
          [
           36,
           "gastrointestinal disease",
           0.3516061435381669,
           "FCHO2;SYNJ2",
           "GCST90018819",
           "PMID:34594039"
          ],
          [
           36,
           "gastrointestinal disease",
           0.4210888642104751,
           "JMJD1C",
           "NEALE2_20002_1162",
           null
          ],
          [
           36,
           "gastrointestinal disease",
           0.4401594527773614,
           "PGPEP1;STK24;FNIP2",
           "GCST90000514",
           "PMID:34187846"
          ],
          [
           36,
           "gastrointestinal disease",
           0.510800296872845,
           "JMJD1C",
           "GCST007209",
           "PMID:30504769"
          ],
          [
           36,
           "gastrointestinal disease",
           0.8573008746589528,
           "FOXP1;ERRFI1",
           "GCST004131",
           "PMID:28067908"
          ]
         ],
         "hovertemplate": "trait_category=%{customdata[1]}<br>trait_reported=%{x}<br>-log10(p-value)=%{y}<br>program_name=%{customdata[0]}<br>P-value=%{customdata[2]}<br>Genes=%{customdata[3]}<br>study_id=%{customdata[4]}<br>pmid=%{customdata[5]}<extra></extra>",
         "legendgroup": "gastrointestinal disease",
         "marker": {
          "color": "#19d3f3",
          "symbol": "circle"
         },
         "mode": "markers",
         "name": "gastrointestinal disease",
         "orientation": "v",
         "showlegend": true,
         "type": "scatter",
         "x": [
          "Eosinophilic esophagitis",
          "Primary sclerosing cholangitis",
          "Barrett's esophagus",
          "Cholelithiasis",
          "Cholelithiasis/gall stones | non-cancer illness code, self-reported",
          "Gastroesophageal reflux disease",
          "Gallstone disease",
          "Inflammatory bowel disease"
         ],
         "xaxis": "x",
         "y": [
          1.5101274763542574,
          0.6519272687334938,
          0.46444759778412303,
          0.4539435451983354,
          0.3756262434429244,
          0.35638996688514424,
          0.29174885900024145,
          0.06686673318524174
         ],
         "yaxis": "y"
        },
        {
         "customdata": [
          [
           36,
           "hematologic disease",
           0.2228808376400165,
           "RORA",
           "GCST006917",
           "PMID:30134812"
          ]
         ],
         "hovertemplate": "trait_category=%{customdata[1]}<br>trait_reported=%{x}<br>-log10(p-value)=%{y}<br>program_name=%{customdata[0]}<br>P-value=%{customdata[2]}<br>Genes=%{customdata[3]}<br>study_id=%{customdata[4]}<br>pmid=%{customdata[5]}<extra></extra>",
         "legendgroup": "hematologic disease",
         "marker": {
          "color": "#FF6692",
          "symbol": "circle"
         },
         "mode": "markers",
         "name": "hematologic disease",
         "orientation": "v",
         "showlegend": true,
         "type": "scatter",
         "x": [
          "Monoclonal gammopathy of undetermined significance"
         ],
         "xaxis": "x",
         "y": [
          0.6519272687334938
         ],
         "yaxis": "y"
        },
        {
         "customdata": [
          [
           36,
           "immune system disease",
           0.4319468563585594,
           "ZFP36L2;FOXP1;ZBTB38;AFF1;ATXN1;TET2",
           "GCST009597",
           "PMID:31604244"
          ],
          [
           36,
           "immune system disease",
           0.6159698733290941,
           "PLEKHA1;ARID5B",
           "GCST007071",
           "PMID:30595370"
          ],
          [
           36,
           "immune system disease",
           0.7288329720620108,
           "RORA",
           "GCST010984",
           "PMID:32603359"
          ],
          [
           36,
           "immune system disease",
           0.7400349779523578,
           "RORA",
           "GCST010985",
           "PMID:32603359"
          ]
         ],
         "hovertemplate": "trait_category=%{customdata[1]}<br>trait_reported=%{x}<br>-log10(p-value)=%{y}<br>program_name=%{customdata[0]}<br>P-value=%{customdata[2]}<br>Genes=%{customdata[3]}<br>study_id=%{customdata[4]}<br>pmid=%{customdata[5]}<extra></extra>",
         "legendgroup": "immune system disease",
         "marker": {
          "color": "#B6E880",
          "symbol": "circle"
         },
         "mode": "markers",
         "name": "immune system disease",
         "orientation": "v",
         "showlegend": true,
         "type": "scatter",
         "x": [
          "Multiple sclerosis",
          "Autoimmune traits",
          "Allergic disease (asthma, hay fever and/or eczema) (multivariate analysis)",
          "Allergic disease (asthma, hay fever and/or eczema) (age of onset)"
         ],
         "xaxis": "x",
         "y": [
          0.3645696823748237,
          0.21044052836623747,
          0.13737198831184502,
          0.1307477527383554
         ],
         "yaxis": "y"
        },
        {
         "customdata": [
          [
           36,
           "injury, poisoning or other complication",
           0.620052125477438,
           "IFNGR1",
           "NEALE2_6149_1",
           null
          ],
          [
           36,
           "injury, poisoning or other complication",
           0.8222103950002939,
           "TCF7L2",
           "FINNGEN_R6_E4_DM2NASCOMP",
           null
          ]
         ],
         "hovertemplate": "trait_category=%{customdata[1]}<br>trait_reported=%{x}<br>-log10(p-value)=%{y}<br>program_name=%{customdata[0]}<br>P-value=%{customdata[2]}<br>Genes=%{customdata[3]}<br>study_id=%{customdata[4]}<br>pmid=%{customdata[5]}<extra></extra>",
         "legendgroup": "injury, poisoning or other complication",
         "marker": {
          "color": "#FF97FF",
          "symbol": "circle"
         },
         "mode": "markers",
         "name": "injury, poisoning or other complication",
         "orientation": "v",
         "showlegend": true,
         "type": "scatter",
         "x": [
          "Mouth ulcers | mouth/teeth dental problems",
          "Type 2 diabetes with other specified/multiple/unspecified complications"
         ],
         "xaxis": "x",
         "y": [
          0.20757179944424115,
          0.08501703684449279
         ],
         "yaxis": "y"
        },
        {
         "customdata": [
          [
           36,
           "integumentary system disease",
           0.2045026926601916,
           "PTPN1;FOXP1;ARID5B",
           "GCST004785",
           "PMID:27723757"
          ],
          [
           36,
           "integumentary system disease",
           0.3149876127581196,
           "TIPARP",
           "FINNGEN_R6_L12_NONIONRADISKIN",
           null
          ],
          [
           36,
           "integumentary system disease",
           0.3666568126289166,
           "FCHO2;ERRFI1",
           "GCST90092000",
           "PMID:35132056"
          ],
          [
           36,
           "integumentary system disease",
           0.3963338540662117,
           "SYF2;MKLN1",
           "GCST005116",
           "PMID:29146897"
          ],
          [
           36,
           "integumentary system disease",
           0.4536395124125036,
           "TSC22D1;KLF13",
           "GCST004346",
           "PMID:28537254"
          ],
          [
           36,
           "integumentary system disease",
           0.5206870944119367,
           "ANKRD11;SRPK2",
           "GCST007086",
           "PMID:30595370"
          ],
          [
           36,
           "integumentary system disease",
           0.6922571279392686,
           "ZBTB38",
           "GCST90086149",
           "PMID:34116867"
          ]
         ],
         "hovertemplate": "trait_category=%{customdata[1]}<br>trait_reported=%{x}<br>-log10(p-value)=%{y}<br>program_name=%{customdata[0]}<br>P-value=%{customdata[2]}<br>Genes=%{customdata[3]}<br>study_id=%{customdata[4]}<br>pmid=%{customdata[5]}<extra></extra>",
         "legendgroup": "integumentary system disease",
         "marker": {
          "color": "#FECB52",
          "symbol": "circle"
         },
         "mode": "markers",
         "name": "integumentary system disease",
         "orientation": "v",
         "showlegend": true,
         "type": "scatter",
         "x": [
          "Vitiligo",
          "Skin changes due to chronic exposure to nonionizing radiation",
          "acne vulgaris",
          "Male-pattern baldness",
          "Psoriasis",
          "Sunburns",
          "Atopic dermatitis"
         ],
         "xaxis": "x",
         "y": [
          0.6893009693203846,
          0.5017065249931768,
          0.4357402412297814,
          0.40193882949222304,
          0.34328912502483117,
          0.2834231864786014,
          0.15973256377486986
         ],
         "yaxis": "y"
        },
        {
         "customdata": [
          [
           36,
           "musculoskeletal or connective tissue disease",
           0.2548786631030424,
           "ARID5B",
           "FINNGEN_R6_RHEUMA_SEROPOS_WIDE",
           null
          ],
          [
           36,
           "musculoskeletal or connective tissue disease",
           0.285563004058537,
           "FOXP1",
           "GCST90010715",
           "PMID:33106285"
          ],
          [
           36,
           "musculoskeletal or connective tissue disease",
           0.3149876127581196,
           "INO80D",
           "FINNGEN_R6_M13_INTERVERTEB",
           null
          ],
          [
           36,
           "musculoskeletal or connective tissue disease",
           0.5688621545391193,
           "VGLL4",
           "GCST90034524",
           "PMID:34450027"
          ],
          [
           36,
           "musculoskeletal or connective tissue disease",
           0.8973857729308813,
           "ARID5B",
           "GCST90013534",
           "PMID:33310728"
          ]
         ],
         "hovertemplate": "trait_category=%{customdata[1]}<br>trait_reported=%{x}<br>-log10(p-value)=%{y}<br>program_name=%{customdata[0]}<br>P-value=%{customdata[2]}<br>Genes=%{customdata[3]}<br>study_id=%{customdata[4]}<br>pmid=%{customdata[5]}<extra></extra>",
         "legendgroup": "musculoskeletal or connective tissue disease",
         "marker": {
          "color": "#636efa",
          "symbol": "circle"
         },
         "mode": "markers",
         "name": "musculoskeletal or connective tissue disease",
         "orientation": "v",
         "showlegend": true,
         "type": "scatter",
         "x": [
          "Seropositive rheumatoid arthritis, wide",
          "Arthritis (juvenile idiopathic)",
          "Other intervertebral disc disorders",
          "Osteoarthritis (with total hip replacement)",
          "Rheumatoid arthritis"
         ],
         "xaxis": "x",
         "y": [
          0.5936665195109846,
          0.5442980580092003,
          0.5017065249931768,
          0.24499295816674407,
          0.047020820011982004
         ],
         "yaxis": "y"
        },
        {
         "customdata": [
          [
           36,
           "nervous system disease",
           0.0066726338586722,
           "SRPK2;ZSWIM6;FXR1;AKT3",
           "GCST90016619",
           "PMID:33686288"
          ],
          [
           36,
           "nervous system disease",
           0.0080505744986423,
           "TULP4;NR2F2;ARHGAP5;SNRK;TEAD1;PLEKHA5;ARID4A;REV3L;ZFHX3;CPEB4;BMPR2;REST;FOXO3;ABI1;ARID1B;NUFIP2;AKT3;HELZ;FOXP1;ZBTB16;BPTF;TET2",
           "GCST90061435",
           "PMID:34446935"
          ],
          [
           36,
           "nervous system disease",
           0.1895134894954746,
           "HEXIM1",
           "GCST010097",
           "PMID:32332799"
          ],
          [
           36,
           "nervous system disease",
           0.2131677681105417,
           "SYNJ2;ARID5B",
           "NEALE2_2247_1",
           null
          ],
          [
           36,
           "nervous system disease",
           0.2439578889366013,
           "SYNJ2;AGO2",
           "GCST90012115",
           "PMID:32986727"
          ],
          [
           36,
           "nervous system disease",
           0.2595655325190159,
           "SDCCAG8;ZSWIM6;SRPK2",
           "GCST90020095",
           "PMID:34159505"
          ],
          [
           36,
           "nervous system disease",
           0.343204048491289,
           "STK4",
           "GCST90016607",
           "PMID:33686288"
          ],
          [
           36,
           "nervous system disease",
           0.5688621545391193,
           "ZSWIM6",
           "GCST90020094",
           "PMID:34159505"
          ],
          [
           36,
           "nervous system disease",
           0.6037002021495758,
           "ZSWIM6",
           "GCST90016620",
           "PMID:33686288"
          ],
          [
           36,
           "nervous system disease",
           0.679003628854497,
           "ARID5B",
           "GCST90016618",
           "PMID:33686288"
          ],
          [
           36,
           "nervous system disease",
           0.6922571279392686,
           "STK4",
           "GCST012464",
           "PMID:34002096"
          ],
          [
           36,
           "nervous system disease",
           0.7400349779523578,
           "BBX",
           "GCST006475",
           "PMID:29942085"
          ],
          [
           36,
           "nervous system disease",
           0.7981952393413446,
           "CAMK2D",
           "GCST004902",
           "PMID:28892059"
          ],
          [
           36,
           "nervous system disease",
           0.7981952393413446,
           "CAMK2D",
           "GCST010991",
           "PMID:32201043"
          ],
          [
           36,
           "nervous system disease",
           0.8145398899206143,
           "BBX",
           "GCST010017",
           "PMID:32231276"
          ]
         ],
         "hovertemplate": "trait_category=%{customdata[1]}<br>trait_reported=%{x}<br>-log10(p-value)=%{y}<br>program_name=%{customdata[0]}<br>P-value=%{customdata[2]}<br>Genes=%{customdata[3]}<br>study_id=%{customdata[4]}<br>pmid=%{customdata[5]}<extra></extra>",
         "legendgroup": "nervous system disease",
         "marker": {
          "color": "#EF553B",
          "symbol": "circle"
         },
         "mode": "markers",
         "name": "nervous system disease",
         "orientation": "v",
         "showlegend": true,
         "type": "scatter",
         "x": [
          "Schizophrenia vs anorexia nervosa (ordinary least squares (OLS))",
          "Externalizing behaviour (multivariate analysis)",
          "Insomnia",
          "Yes | hearing difficulty/problems",
          "Age-related hearing impairment (MTAG)",
          "Schizophrenia (MTAG)",
          "Bipolar disorder vs major depressive disorder (ordinary least squares (OLS))",
          "Bipolar disorder (MTAG)",
          "Schizophrenia vs autism spectrum disorder (ordinary least squares (OLS))",
          "Schizophrenia vs ADHD (ordinary least squares (OLS))",
          "Bipolar I disorder",
          "Depressed affect",
          "Parkinson's disease",
          "Parkinson's disease",
          "Neuroticism"
         ],
         "xaxis": "x",
         "y": [
          2.1757027051388693,
          2.09417312675168,
          0.7223598716856526,
          0.6712784618873452,
          0.6126851334187463,
          0.5857529776290459,
          0.46444759778412303,
          0.24499295816674407,
          0.21917867872259036,
          0.16812790467786012,
          0.15973256377486986,
          0.1307477527383554,
          0.09789086679748528,
          0.09789086679748528,
          0.08908764241968085
         ],
         "yaxis": "y"
        },
        {
         "customdata": [
          [
           36,
           "pancreas disease",
           0.3844966110609043,
           "TCF7L2;RICTOR;ZFP36L2",
           "FINNGEN_R6_DIABETES_FG",
           null
          ],
          [
           36,
           "pancreas disease",
           0.8677401038829926,
           "TCF7L2",
           "GCST007077",
           "PMID:30595370"
          ]
         ],
         "hovertemplate": "trait_category=%{customdata[1]}<br>trait_reported=%{x}<br>-log10(p-value)=%{y}<br>program_name=%{customdata[0]}<br>P-value=%{customdata[2]}<br>Genes=%{customdata[3]}<br>study_id=%{customdata[4]}<br>pmid=%{customdata[5]}<extra></extra>",
         "legendgroup": "pancreas disease",
         "marker": {
          "color": "#00cc96",
          "symbol": "circle"
         },
         "mode": "markers",
         "name": "pancreas disease",
         "orientation": "v",
         "showlegend": true,
         "type": "scatter",
         "x": [
          "Diabetes, varying definitions",
          "Type 2 diabetes"
         ],
         "xaxis": "x",
         "y": [
          0.4151074837013926,
          0.06161033052721098
         ],
         "yaxis": "y"
        },
        {
         "customdata": [
          [
           36,
           "phenotype",
           0.0017454350432004,
           "ZFP36L2;MED13L;KIAA2026;UBC;AHR;ZBTB38;SLC38A2;ERRFI1;ZBTB20",
           "NEALE2_1717",
           null
          ],
          [
           36,
           "phenotype",
           0.0231525842378515,
           "ETV1;VGLL4;MBNL1;ZBTB38;PPM1A;SLC38A2;MKLN1;ARHGAP24",
           "GCST006988",
           "PMID:30531825"
          ],
          [
           36,
           "phenotype",
           0.0410058061367403,
           "NUFIP2;PLEKHA1;MEF2D",
           "GCST005337",
           "PMID:29397368"
          ],
          [
           36,
           "phenotype",
           0.0595756513062426,
           "STK24;EP300;AGO2",
           "NEALE2_1920",
           null
          ],
          [
           36,
           "phenotype",
           0.0748491883592782,
           "UBE2H;HDAC7;ERRFI1;ARID5B",
           "GCST90018939",
           "PMID:34594039"
          ],
          [
           36,
           "phenotype",
           0.0816160368804916,
           "TSC22D2;REV3L;RORA;ZFHX3;NRIP1;AHR;EPB41L4A;ZBTB38;FOXP1;TCF7L2;RBMS1;BACH1;PPP4R2;TCP11L2;AKAP13;AFF1;TSC22D1;ZSWIM6",
           "GCST010002",
           "PMID:32231278"
          ],
          [
           36,
           "phenotype",
           0.2228808376400165,
           "FOXP1",
           "SAIGE_550_2",
           null
          ],
          [
           36,
           "phenotype",
           0.2599224593227417,
           "TCF7L2;NRIP1;ANTXR2;ZBTB38",
           "GCST006290",
           "PMID:29808027"
          ],
          [
           36,
           "phenotype",
           0.285563004058537,
           "AGO2",
           "NEALE2_2257",
           null
          ],
          [
           36,
           "phenotype",
           0.343204048491289,
           "AHR",
           "GCST008791",
           "PMID:31511532"
          ],
          [
           36,
           "phenotype",
           0.3962082049389296,
           "FOXP1",
           "GCST90018818",
           "PMID:34594039"
          ],
          [
           36,
           "phenotype",
           0.3963338540662117,
           "TCF7L2;ZBTB38",
           "GCST003997",
           "PMID:27182965"
          ],
          [
           36,
           "phenotype",
           0.4023128854166403,
           "MIER1;RORA;RYBP;ZBTB38;SERTAD2;CALCRL",
           "GCST007075",
           "PMID:30595370"
          ],
          [
           36,
           "phenotype",
           0.467825640020593,
           "FNIP2",
           "GCST90012794",
           "PMID:33563987"
          ],
          [
           36,
           "phenotype",
           0.5309721559381015,
           "ZBTB38",
           "GCST012400",
           "PMID:33830181"
          ],
          [
           36,
           "phenotype",
           0.5503147804502417,
           "TNRC6B",
           "FINNGEN_R6_CD2_BENIGN_LEIOMYOMA_UTERI_EXALLC",
           null
          ],
          [
           36,
           "phenotype",
           0.5688621545391193,
           "PJA2",
           "SAIGE_728_7",
           null
          ],
          [
           36,
           "phenotype",
           0.6357314043051531,
           "AHR",
           "GCST006586",
           "PMID:30220432"
          ],
          [
           36,
           "phenotype",
           0.6651812398611223,
           "ZFHX3",
           "GCST003992",
           "PMID:27182965"
          ],
          [
           36,
           "phenotype",
           0.679003628854497,
           "IFNGR1",
           "GCST007839",
           "PMID:30837455"
          ],
          [
           36,
           "phenotype",
           0.7288329720620108,
           "BBX",
           "GCST008512",
           "PMID:31194737"
          ],
          [
           36,
           "phenotype",
           0.7288329720620108,
           "BBX",
           "GCST012332",
           "PMID:33830993"
          ],
          [
           36,
           "phenotype",
           0.7387918477580208,
           "DENND4C;TCF7L2",
           "GCST90038690",
           "PMID:33959723"
          ],
          [
           36,
           "phenotype",
           0.7507756380738,
           "FGD6",
           "GCST90018793",
           "PMID:34594039"
          ]
         ],
         "hovertemplate": "trait_category=%{customdata[1]}<br>trait_reported=%{x}<br>-log10(p-value)=%{y}<br>program_name=%{customdata[0]}<br>P-value=%{customdata[2]}<br>Genes=%{customdata[3]}<br>study_id=%{customdata[4]}<br>pmid=%{customdata[5]}<extra></extra>",
         "legendgroup": "phenotype",
         "marker": {
          "color": "#ab63fa",
          "symbol": "circle"
         },
         "mode": "markers",
         "name": "phenotype",
         "orientation": "v",
         "showlegend": true,
         "type": "scatter",
         "x": [
          "Skin colour",
          "Blond vs. brown/black hair color",
          "Headache",
          "Mood swings",
          "Varicose veins",
          "Refractive error",
          "Diaphragmatic hernia",
          "Myopia (age of diagnosis)",
          "Hearing difficulty/problems with background noise",
          "Microalbuminuria",
          "Cholecystitis",
          "Myopia",
          "Eczema",
          "Participation in an health questionnaire (not invited vs invited)",
          "Low myopia vs hyperopia",
          "Leiomyoma of uterus (controls excluding all cancers)",
          "Fasciitis",
          "Urinary albumin excretion",
          "Photic sneeze reflex",
          "Mouth ulcers",
          "Multisite chronic pain",
          "Multisite chronic pain",
          "High cholesterol",
          "Angina pectoris"
         ],
         "xaxis": "x",
         "y": [
          2.7580963089263135,
          1.6354005269958722,
          1.3871546458504973,
          1.2249312010644098,
          1.1258129046462182,
          1.0882244975647217,
          0.6519272687334938,
          0.5851561924554596,
          0.5442980580092003,
          0.46444759778412303,
          0.4020765350498568,
          0.40193882949222304,
          0.3954360574716753,
          0.32991597958905405,
          0.27492825262756165,
          0.25938882267534713,
          0.24499295816674407,
          0.19672633445665483,
          0.1770600077082074,
          0.16812790467786012,
          0.13737198831184502,
          0.13737198831184502,
          0.1314779054532911,
          0.124489828248047
         ],
         "yaxis": "y"
        },
        {
         "customdata": [
          [
           36,
           "reproductive system or breast disease",
           0.3962082049389296,
           "ZBTB16",
           "GCST007089",
           "PMID:30566500"
          ],
          [
           36,
           "reproductive system or breast disease",
           0.3962082049389296,
           "ZFHX3",
           "GCST002563",
           "PMID:25108383"
          ],
          [
           36,
           "reproductive system or breast disease",
           0.3962082049389296,
           "CPEB4",
           "FINNGEN_R6_N14_FEMGENPROL",
           null
          ]
         ],
         "hovertemplate": "trait_category=%{customdata[1]}<br>trait_reported=%{x}<br>-log10(p-value)=%{y}<br>program_name=%{customdata[0]}<br>P-value=%{customdata[2]}<br>Genes=%{customdata[3]}<br>study_id=%{customdata[4]}<br>pmid=%{customdata[5]}<extra></extra>",
         "legendgroup": "reproductive system or breast disease",
         "marker": {
          "color": "#FFA15A",
          "symbol": "circle"
         },
         "mode": "markers",
         "name": "reproductive system or breast disease",
         "orientation": "v",
         "showlegend": true,
         "type": "scatter",
         "x": [
          "Polycystic ovary syndrome",
          "Hypospadias",
          "Female genital prolapse"
         ],
         "xaxis": "x",
         "y": [
          0.4020765350498568,
          0.4020765350498568,
          0.4020765350498568
         ],
         "yaxis": "y"
        },
        {
         "customdata": [
          [
           36,
           "respiratory or thoracic disease",
           0.4291643042860373,
           "TNPO1;VGLL4;ZBTB38",
           "GCST007692",
           "PMID:30804561"
          ],
          [
           36,
           "respiratory or thoracic disease",
           0.4449473885099779,
           "RORA",
           "FINNGEN_R6_J10_LOWCHRON",
           null
          ],
          [
           36,
           "respiratory or thoracic disease",
           0.4449473885099779,
           "ZBTB7A",
           "FINNGEN_R6_J10_UPPERDIS",
           null
          ],
          [
           36,
           "respiratory or thoracic disease",
           0.510800296872845,
           "RORA",
           "NEALE2_20002_1387",
           null
          ],
          [
           36,
           "respiratory or thoracic disease",
           0.510800296872845,
           "RORA",
           "FINNGEN_R6_J10_ASTHMACOPDKELA",
           null
          ],
          [
           36,
           "respiratory or thoracic disease",
           0.5503147804502417,
           "RORA",
           "GCST009842",
           "PMID:31669095"
          ],
          [
           36,
           "respiratory or thoracic disease",
           0.6692183394446556,
           "RORA;FOXP1;ZBTB38;HDAC7",
           "GCST010043",
           "PMID:32296059"
          ],
          [
           36,
           "respiratory or thoracic disease",
           0.7049650792579261,
           "RORA",
           "GCST006409",
           "PMID:30013184"
          ],
          [
           36,
           "respiratory or thoracic disease",
           0.7297129316405006,
           "RYBP;RORA;ZBTB38",
           "GCST009717",
           "PMID:31361310"
          ],
          [
           36,
           "respiratory or thoracic disease",
           0.8560709079003145,
           "RORA",
           "GCST009850",
           "PMID:31669095"
          ],
          [
           36,
           "respiratory or thoracic disease",
           0.9478985707268716,
           "RORA",
           "GCST007076",
           "PMID:30595370"
          ]
         ],
         "hovertemplate": "trait_category=%{customdata[1]}<br>trait_reported=%{x}<br>-log10(p-value)=%{y}<br>program_name=%{customdata[0]}<br>P-value=%{customdata[2]}<br>Genes=%{customdata[3]}<br>study_id=%{customdata[4]}<br>pmid=%{customdata[5]}<extra></extra>",
         "legendgroup": "respiratory or thoracic disease",
         "marker": {
          "color": "#19d3f3",
          "symbol": "circle"
         },
         "mode": "markers",
         "name": "respiratory or thoracic disease",
         "orientation": "v",
         "showlegend": true,
         "type": "scatter",
         "x": [
          "Chronic obstructive pulmonary disease",
          "Chronic lower respiratory diseases",
          "Other diseases of upper respiratory tract",
          "Hayfever/allergic rhinitis | non-cancer illness code, self-reported",
          "Asthma/COPD (KELA code 203)",
          "Asthma (adult onset)",
          "Asthma",
          "Allergic rhinitis",
          "Hay fever and/or eczema",
          "Atopic asthma",
          "Respiratory diseases"
         ],
         "xaxis": "x",
         "y": [
          0.36737640762009266,
          0.3516913378518712,
          0.3516913378518712,
          0.29174885900024145,
          0.29174885900024145,
          0.25938882267534713,
          0.17443216602034184,
          0.15183239543584204,
          0.13684795730996416,
          0.06749026145084716,
          0.023238131575772605
         ],
         "yaxis": "y"
        },
        {
         "customdata": [
          [
           36,
           "urinary system disease",
           0.1471085126508464,
           "RYBP;ELF1;GTF2I;ARID5B;SHOC2",
           "GCST011956",
           "PMID:33272962"
          ],
          [
           36,
           "urinary system disease",
           0.3364344910168658,
           "DGKH;ZFP36L2",
           "GCST90018935",
           "PMID:34594039"
          ],
          [
           36,
           "urinary system disease",
           0.5503147804502417,
           "SDCCAG8",
           "GCST008064",
           "PMID:31152163"
          ],
          [
           36,
           "urinary system disease",
           0.5503147804502417,
           "DGKH",
           "GCST009598",
           "PMID:31729369"
          ]
         ],
         "hovertemplate": "trait_category=%{customdata[1]}<br>trait_reported=%{x}<br>-log10(p-value)=%{y}<br>program_name=%{customdata[0]}<br>P-value=%{customdata[2]}<br>Genes=%{customdata[3]}<br>study_id=%{customdata[4]}<br>pmid=%{customdata[5]}<extra></extra>",
         "legendgroup": "urinary system disease",
         "marker": {
          "color": "#FF6692",
          "symbol": "circle"
         },
         "mode": "markers",
         "name": "urinary system disease",
         "orientation": "v",
         "showlegend": true,
         "type": "scatter",
         "x": [
          "Systemic lupus erythematosus",
          "Urolithiasis",
          "Chronic kidney disease",
          "Kidney stones"
         ],
         "xaxis": "x",
         "y": [
          0.8323621954551973,
          0.4730994870404675,
          0.25938882267534713,
          0.25938882267534713
         ],
         "yaxis": "y"
        }
       ],
       "layout": {
        "annotations": [
         {
          "showarrow": false,
          "text": "Significance Threshold (0.05)",
          "x": 1,
          "xanchor": "right",
          "xref": "x domain",
          "y": 1.3010299956639813,
          "yanchor": "bottom",
          "yref": "y"
         }
        ],
        "height": 800,
        "legend": {
         "title": {
          "text": "trait_category"
         },
         "tracegroupgap": 0
        },
        "shapes": [
         {
          "line": {
           "dash": "dash"
          },
          "type": "line",
          "x0": 0,
          "x1": 1,
          "xref": "x domain",
          "y0": 1.3010299956639813,
          "y1": 1.3010299956639813,
          "yref": "y"
         }
        ],
        "template": {
         "data": {
          "bar": [
           {
            "error_x": {
             "color": "#2a3f5f"
            },
            "error_y": {
             "color": "#2a3f5f"
            },
            "marker": {
             "line": {
              "color": "#E5ECF6",
              "width": 0.5
             },
             "pattern": {
              "fillmode": "overlay",
              "size": 10,
              "solidity": 0.2
             }
            },
            "type": "bar"
           }
          ],
          "barpolar": [
           {
            "marker": {
             "line": {
              "color": "#E5ECF6",
              "width": 0.5
             },
             "pattern": {
              "fillmode": "overlay",
              "size": 10,
              "solidity": 0.2
             }
            },
            "type": "barpolar"
           }
          ],
          "carpet": [
           {
            "aaxis": {
             "endlinecolor": "#2a3f5f",
             "gridcolor": "white",
             "linecolor": "white",
             "minorgridcolor": "white",
             "startlinecolor": "#2a3f5f"
            },
            "baxis": {
             "endlinecolor": "#2a3f5f",
             "gridcolor": "white",
             "linecolor": "white",
             "minorgridcolor": "white",
             "startlinecolor": "#2a3f5f"
            },
            "type": "carpet"
           }
          ],
          "choropleth": [
           {
            "colorbar": {
             "outlinewidth": 0,
             "ticks": ""
            },
            "type": "choropleth"
           }
          ],
          "contour": [
           {
            "colorbar": {
             "outlinewidth": 0,
             "ticks": ""
            },
            "colorscale": [
             [
              0,
              "#0d0887"
             ],
             [
              0.1111111111111111,
              "#46039f"
             ],
             [
              0.2222222222222222,
              "#7201a8"
             ],
             [
              0.3333333333333333,
              "#9c179e"
             ],
             [
              0.4444444444444444,
              "#bd3786"
             ],
             [
              0.5555555555555556,
              "#d8576b"
             ],
             [
              0.6666666666666666,
              "#ed7953"
             ],
             [
              0.7777777777777778,
              "#fb9f3a"
             ],
             [
              0.8888888888888888,
              "#fdca26"
             ],
             [
              1,
              "#f0f921"
             ]
            ],
            "type": "contour"
           }
          ],
          "contourcarpet": [
           {
            "colorbar": {
             "outlinewidth": 0,
             "ticks": ""
            },
            "type": "contourcarpet"
           }
          ],
          "heatmap": [
           {
            "colorbar": {
             "outlinewidth": 0,
             "ticks": ""
            },
            "colorscale": [
             [
              0,
              "#0d0887"
             ],
             [
              0.1111111111111111,
              "#46039f"
             ],
             [
              0.2222222222222222,
              "#7201a8"
             ],
             [
              0.3333333333333333,
              "#9c179e"
             ],
             [
              0.4444444444444444,
              "#bd3786"
             ],
             [
              0.5555555555555556,
              "#d8576b"
             ],
             [
              0.6666666666666666,
              "#ed7953"
             ],
             [
              0.7777777777777778,
              "#fb9f3a"
             ],
             [
              0.8888888888888888,
              "#fdca26"
             ],
             [
              1,
              "#f0f921"
             ]
            ],
            "type": "heatmap"
           }
          ],
          "heatmapgl": [
           {
            "colorbar": {
             "outlinewidth": 0,
             "ticks": ""
            },
            "colorscale": [
             [
              0,
              "#0d0887"
             ],
             [
              0.1111111111111111,
              "#46039f"
             ],
             [
              0.2222222222222222,
              "#7201a8"
             ],
             [
              0.3333333333333333,
              "#9c179e"
             ],
             [
              0.4444444444444444,
              "#bd3786"
             ],
             [
              0.5555555555555556,
              "#d8576b"
             ],
             [
              0.6666666666666666,
              "#ed7953"
             ],
             [
              0.7777777777777778,
              "#fb9f3a"
             ],
             [
              0.8888888888888888,
              "#fdca26"
             ],
             [
              1,
              "#f0f921"
             ]
            ],
            "type": "heatmapgl"
           }
          ],
          "histogram": [
           {
            "marker": {
             "pattern": {
              "fillmode": "overlay",
              "size": 10,
              "solidity": 0.2
             }
            },
            "type": "histogram"
           }
          ],
          "histogram2d": [
           {
            "colorbar": {
             "outlinewidth": 0,
             "ticks": ""
            },
            "colorscale": [
             [
              0,
              "#0d0887"
             ],
             [
              0.1111111111111111,
              "#46039f"
             ],
             [
              0.2222222222222222,
              "#7201a8"
             ],
             [
              0.3333333333333333,
              "#9c179e"
             ],
             [
              0.4444444444444444,
              "#bd3786"
             ],
             [
              0.5555555555555556,
              "#d8576b"
             ],
             [
              0.6666666666666666,
              "#ed7953"
             ],
             [
              0.7777777777777778,
              "#fb9f3a"
             ],
             [
              0.8888888888888888,
              "#fdca26"
             ],
             [
              1,
              "#f0f921"
             ]
            ],
            "type": "histogram2d"
           }
          ],
          "histogram2dcontour": [
           {
            "colorbar": {
             "outlinewidth": 0,
             "ticks": ""
            },
            "colorscale": [
             [
              0,
              "#0d0887"
             ],
             [
              0.1111111111111111,
              "#46039f"
             ],
             [
              0.2222222222222222,
              "#7201a8"
             ],
             [
              0.3333333333333333,
              "#9c179e"
             ],
             [
              0.4444444444444444,
              "#bd3786"
             ],
             [
              0.5555555555555556,
              "#d8576b"
             ],
             [
              0.6666666666666666,
              "#ed7953"
             ],
             [
              0.7777777777777778,
              "#fb9f3a"
             ],
             [
              0.8888888888888888,
              "#fdca26"
             ],
             [
              1,
              "#f0f921"
             ]
            ],
            "type": "histogram2dcontour"
           }
          ],
          "mesh3d": [
           {
            "colorbar": {
             "outlinewidth": 0,
             "ticks": ""
            },
            "type": "mesh3d"
           }
          ],
          "parcoords": [
           {
            "line": {
             "colorbar": {
              "outlinewidth": 0,
              "ticks": ""
             }
            },
            "type": "parcoords"
           }
          ],
          "pie": [
           {
            "automargin": true,
            "type": "pie"
           }
          ],
          "scatter": [
           {
            "fillpattern": {
             "fillmode": "overlay",
             "size": 10,
             "solidity": 0.2
            },
            "type": "scatter"
           }
          ],
          "scatter3d": [
           {
            "line": {
             "colorbar": {
              "outlinewidth": 0,
              "ticks": ""
             }
            },
            "marker": {
             "colorbar": {
              "outlinewidth": 0,
              "ticks": ""
             }
            },
            "type": "scatter3d"
           }
          ],
          "scattercarpet": [
           {
            "marker": {
             "colorbar": {
              "outlinewidth": 0,
              "ticks": ""
             }
            },
            "type": "scattercarpet"
           }
          ],
          "scattergeo": [
           {
            "marker": {
             "colorbar": {
              "outlinewidth": 0,
              "ticks": ""
             }
            },
            "type": "scattergeo"
           }
          ],
          "scattergl": [
           {
            "marker": {
             "colorbar": {
              "outlinewidth": 0,
              "ticks": ""
             }
            },
            "type": "scattergl"
           }
          ],
          "scattermapbox": [
           {
            "marker": {
             "colorbar": {
              "outlinewidth": 0,
              "ticks": ""
             }
            },
            "type": "scattermapbox"
           }
          ],
          "scatterpolar": [
           {
            "marker": {
             "colorbar": {
              "outlinewidth": 0,
              "ticks": ""
             }
            },
            "type": "scatterpolar"
           }
          ],
          "scatterpolargl": [
           {
            "marker": {
             "colorbar": {
              "outlinewidth": 0,
              "ticks": ""
             }
            },
            "type": "scatterpolargl"
           }
          ],
          "scatterternary": [
           {
            "marker": {
             "colorbar": {
              "outlinewidth": 0,
              "ticks": ""
             }
            },
            "type": "scatterternary"
           }
          ],
          "surface": [
           {
            "colorbar": {
             "outlinewidth": 0,
             "ticks": ""
            },
            "colorscale": [
             [
              0,
              "#0d0887"
             ],
             [
              0.1111111111111111,
              "#46039f"
             ],
             [
              0.2222222222222222,
              "#7201a8"
             ],
             [
              0.3333333333333333,
              "#9c179e"
             ],
             [
              0.4444444444444444,
              "#bd3786"
             ],
             [
              0.5555555555555556,
              "#d8576b"
             ],
             [
              0.6666666666666666,
              "#ed7953"
             ],
             [
              0.7777777777777778,
              "#fb9f3a"
             ],
             [
              0.8888888888888888,
              "#fdca26"
             ],
             [
              1,
              "#f0f921"
             ]
            ],
            "type": "surface"
           }
          ],
          "table": [
           {
            "cells": {
             "fill": {
              "color": "#EBF0F8"
             },
             "line": {
              "color": "white"
             }
            },
            "header": {
             "fill": {
              "color": "#C8D4E3"
             },
             "line": {
              "color": "white"
             }
            },
            "type": "table"
           }
          ]
         },
         "layout": {
          "annotationdefaults": {
           "arrowcolor": "#2a3f5f",
           "arrowhead": 0,
           "arrowwidth": 1
          },
          "autotypenumbers": "strict",
          "coloraxis": {
           "colorbar": {
            "outlinewidth": 0,
            "ticks": ""
           }
          },
          "colorscale": {
           "diverging": [
            [
             0,
             "#8e0152"
            ],
            [
             0.1,
             "#c51b7d"
            ],
            [
             0.2,
             "#de77ae"
            ],
            [
             0.3,
             "#f1b6da"
            ],
            [
             0.4,
             "#fde0ef"
            ],
            [
             0.5,
             "#f7f7f7"
            ],
            [
             0.6,
             "#e6f5d0"
            ],
            [
             0.7,
             "#b8e186"
            ],
            [
             0.8,
             "#7fbc41"
            ],
            [
             0.9,
             "#4d9221"
            ],
            [
             1,
             "#276419"
            ]
           ],
           "sequential": [
            [
             0,
             "#0d0887"
            ],
            [
             0.1111111111111111,
             "#46039f"
            ],
            [
             0.2222222222222222,
             "#7201a8"
            ],
            [
             0.3333333333333333,
             "#9c179e"
            ],
            [
             0.4444444444444444,
             "#bd3786"
            ],
            [
             0.5555555555555556,
             "#d8576b"
            ],
            [
             0.6666666666666666,
             "#ed7953"
            ],
            [
             0.7777777777777778,
             "#fb9f3a"
            ],
            [
             0.8888888888888888,
             "#fdca26"
            ],
            [
             1,
             "#f0f921"
            ]
           ],
           "sequentialminus": [
            [
             0,
             "#0d0887"
            ],
            [
             0.1111111111111111,
             "#46039f"
            ],
            [
             0.2222222222222222,
             "#7201a8"
            ],
            [
             0.3333333333333333,
             "#9c179e"
            ],
            [
             0.4444444444444444,
             "#bd3786"
            ],
            [
             0.5555555555555556,
             "#d8576b"
            ],
            [
             0.6666666666666666,
             "#ed7953"
            ],
            [
             0.7777777777777778,
             "#fb9f3a"
            ],
            [
             0.8888888888888888,
             "#fdca26"
            ],
            [
             1,
             "#f0f921"
            ]
           ]
          },
          "colorway": [
           "#636efa",
           "#EF553B",
           "#00cc96",
           "#ab63fa",
           "#FFA15A",
           "#19d3f3",
           "#FF6692",
           "#B6E880",
           "#FF97FF",
           "#FECB52"
          ],
          "font": {
           "color": "#2a3f5f"
          },
          "geo": {
           "bgcolor": "white",
           "lakecolor": "white",
           "landcolor": "#E5ECF6",
           "showlakes": true,
           "showland": true,
           "subunitcolor": "white"
          },
          "hoverlabel": {
           "align": "left"
          },
          "hovermode": "closest",
          "mapbox": {
           "style": "light"
          },
          "paper_bgcolor": "white",
          "plot_bgcolor": "#E5ECF6",
          "polar": {
           "angularaxis": {
            "gridcolor": "white",
            "linecolor": "white",
            "ticks": ""
           },
           "bgcolor": "#E5ECF6",
           "radialaxis": {
            "gridcolor": "white",
            "linecolor": "white",
            "ticks": ""
           }
          },
          "scene": {
           "xaxis": {
            "backgroundcolor": "#E5ECF6",
            "gridcolor": "white",
            "gridwidth": 2,
            "linecolor": "white",
            "showbackground": true,
            "ticks": "",
            "zerolinecolor": "white"
           },
           "yaxis": {
            "backgroundcolor": "#E5ECF6",
            "gridcolor": "white",
            "gridwidth": 2,
            "linecolor": "white",
            "showbackground": true,
            "ticks": "",
            "zerolinecolor": "white"
           },
           "zaxis": {
            "backgroundcolor": "#E5ECF6",
            "gridcolor": "white",
            "gridwidth": 2,
            "linecolor": "white",
            "showbackground": true,
            "ticks": "",
            "zerolinecolor": "white"
           }
          },
          "shapedefaults": {
           "line": {
            "color": "#2a3f5f"
           }
          },
          "ternary": {
           "aaxis": {
            "gridcolor": "white",
            "linecolor": "white",
            "ticks": ""
           },
           "baxis": {
            "gridcolor": "white",
            "linecolor": "white",
            "ticks": ""
           },
           "bgcolor": "#E5ECF6",
           "caxis": {
            "gridcolor": "white",
            "linecolor": "white",
            "ticks": ""
           }
          },
          "title": {
           "x": 0.05
          },
          "xaxis": {
           "automargin": true,
           "gridcolor": "white",
           "linecolor": "white",
           "ticks": "",
           "title": {
            "standoff": 15
           },
           "zerolinecolor": "white",
           "zerolinewidth": 2
          },
          "yaxis": {
           "automargin": true,
           "gridcolor": "white",
           "linecolor": "white",
           "ticks": "",
           "title": {
            "standoff": 15
           },
           "zerolinecolor": "white",
           "zerolinewidth": 2
          }
         }
        },
        "title": {
         "text": "Endothelial Cell Programs x GWAS Binary Outcome Enrichments"
        },
        "width": 1000,
        "xaxis": {
         "anchor": "y",
         "domain": [
          0,
          1
         ],
         "tickfont": {
          "size": 4
         },
         "title": {
          "text": "trait_reported"
         }
        },
        "yaxis": {
         "anchor": "x",
         "domain": [
          0,
          1
         ],
         "tickformat": ".1f",
         "title": {
          "text": "-log10(p-value)"
         }
        }
       }
      },
      "text/html": [
       "<div>                            <div id=\"2ff0dd16-8690-446f-babc-e2ef0bde140d\" class=\"plotly-graph-div\" style=\"height:800px; width:1000px;\"></div>            <script type=\"text/javascript\">                require([\"plotly\"], function(Plotly) {                    window.PLOTLYENV=window.PLOTLYENV || {};                                    if (document.getElementById(\"2ff0dd16-8690-446f-babc-e2ef0bde140d\")) {                    Plotly.newPlot(                        \"2ff0dd16-8690-446f-babc-e2ef0bde140d\",                        [{\"customdata\":[[36,\"biological process\",0.0003044572769661,\"BBX;NR2F2;PURA;RYBP;PHIP;KLF6;TEAD1;CUX1;ARID4A;SPRED1;PHF20L1;ZNF521;KLF9;TLK2;AGO2;STK24;BNIP3L;MNT;RBMS1;STK4;SMCHD1;ZSWIM6;FOXO3;NUFIP2;ETV1;JMJD1C;CTTNBP2NL;PRRC2C;CHD2;NR1D2;RORA;PTPN1;ATF7IP;ZBTB38;FOXP1;TCF7L2;GTF2I;MEIS2;FBXL5;TET2\",\"GCST006568\",\"PMID:30038396\"],[36,\"biological process\",0.0407661281696908,\"FOXO3;JMJD1C;ATF7IP;FOXP1;RBMS1;NR1D2;TET2\",\"GCST006269\",\"PMID:29844566\"],[36,\"biological process\",0.0726268656341186,\"JMJD1C;AHR\",\"NEALE2_1508_3\",null],[36,\"biological process\",0.1729361125676957,\"SRPK2;ZBTB20;MKLN1\",\"NEALE2_1757\",null],[36,\"biological process\",0.2761773524400132,\"AKT3;STK24;FOXP1;TET2;REST;SDCCAG8;ZBTB20;TNKS\",\"GCST007325\",\"PMID:30643258\"],[36,\"biological process\",0.3390852288315692,\"RBMS1;FOXP1;SRPK2\",\"GCST007464\",\"PMID:30643251\"],[36,\"biological process\",0.3444811721735522,\"FOXO3;REV3L;ZFHX3;TRIM8;ARID5B\",\"GCST007327\",\"PMID:30643258\"],[36,\"biological process\",0.3609783649397544,\"NR2F2;FOXP1;SAMD8;ZBTB16;ARID5B\",\"GCST007462\",\"PMID:30643251\"],[36,\"biological process\",0.926867900271034,\"TCF7L2\",\"FINNGEN_R6_RX_STATIN\",null],[36,\"biological process\",0.9837613008579872,\"SERTAD2;EPB41L4A\",\"GCST006660\",\"PMID:30348214\"]],\"hovertemplate\":\"trait_category=%{customdata[1]}\\u003cbr\\u003etrait_reported=%{x}\\u003cbr\\u003e-log10(p-value)=%{y}\\u003cbr\\u003eprogram_name=%{customdata[0]}\\u003cbr\\u003eP-value=%{customdata[2]}\\u003cbr\\u003eGenes=%{customdata[3]}\\u003cbr\\u003estudy_id=%{customdata[4]}\\u003cbr\\u003epmid=%{customdata[5]}\\u003cextra\\u003e\\u003c\\u002fextra\\u003e\",\"legendgroup\":\"biological process\",\"marker\":{\"color\":\"#636efa\",\"symbol\":\"circle\"},\"mode\":\"markers\",\"name\":\"biological process\",\"orientation\":\"v\",\"showlegend\":true,\"x\":[\"Highest math class taken (MTAG) [MTAG]\",\"General cognitive ability\",\"Ground coffee (include espresso, filter etc) | coffee type\",\"Facial ageing\",\"General risk tolerance (MTAG)\",\"Smoking cessation (MTAG)\",\"Smoking status (ever vs never smokers)\",\"Age of smoking initiation (MTAG)\",\"Statin medication\",\"DNA methylation variation (age effect)\"],\"xaxis\":\"x\",\"y\":[3.5164736412236692,1.3897005344244175,1.138902698330408,0.7621143077599217,0.5588119380441436,0.46969112846627836,0.46283450973482565,0.4425188265399006,0.03298215827344655,0.007110265690490213],\"yaxis\":\"y\",\"type\":\"scatter\"},{\"customdata\":[[36,\"cardiovascular disease\",0.0178009525788011,\"NR3C1;CAMK2D;ZFHX3;FBXO32;GTF2I;ATXN1;ZNF292;MTSS1\",\"GCST006061\",\"PMID:29892015\"],[36,\"cardiovascular disease\",0.0595756513062426,\"NR3C1;ZFHX3;ATXN1\",\"FINNGEN_R6_CARDIAC_ARRHYTM\",null],[36,\"cardiovascular disease\",0.0976402936803847,\"FGD6;ATP2B1\",\"GCST011021\",\"PMID:33199917\"],[36,\"cardiovascular disease\",0.1061187681137078,\"TGFBR2;MEF2D;REST\",\"GCST003720\",\"PMID:27322543\"],[36,\"cardiovascular disease\",0.1265529437916419,\"ATP2B1;NFAT5;KLF13;NR2F2\",\"FINNGEN_R6_RX_ANTIHYP\",null],[36,\"cardiovascular disease\",0.1344295888327668,\"FOXP1;SERTAD2;BACH1;ZBTB20;TET2\",\"GCST90014033\",\"PMID:33888516\"],[36,\"cardiovascular disease\",0.1678786927634881,\"ARID4A;MEF2D\",\"GCST011064\",\"PMID:32632093\"],[36,\"cardiovascular disease\",0.3962082049389296,\"MTSS1\",\"GCST011202\",\"PMID:33495596\"],[36,\"cardiovascular disease\",0.4210888642104751,\"MEF2D\",\"GCST011063\",\"PMID:32632093\"],[36,\"cardiovascular disease\",0.4401594527773614,\"MIA3;ATP2B1;N4BP2L2\",\"GCST011365\",\"PMID:33532862\"],[36,\"cardiovascular disease\",0.4449473885099779,\"ZFHX3\",\"GCST90013707\",\"PMID:32514122\"],[36,\"cardiovascular disease\",0.4449473885099779,\"GTF2I\",\"GCST010774\",\"PMID:32589924\"],[36,\"cardiovascular disease\",0.4897637717041346,\"ZFHX3\",\"SAIGE_427\",null],[36,\"cardiovascular disease\",0.5309721559381015,\"TCF7L2\",\"GCST008474\",\"PMID:31285632\"],[36,\"cardiovascular disease\",0.6374044246355641,\"FGD6;MIA3\",\"GCST005195\",\"PMID:29212778\"],[36,\"cardiovascular disease\",0.8564835902988203,\"RORA;ATP2B1;PHIP;PGPEP1;HIPK2\",\"GCST007072\",\"PMID:30595370\"]],\"hovertemplate\":\"trait_category=%{customdata[1]}\\u003cbr\\u003etrait_reported=%{x}\\u003cbr\\u003e-log10(p-value)=%{y}\\u003cbr\\u003eprogram_name=%{customdata[0]}\\u003cbr\\u003eP-value=%{customdata[2]}\\u003cbr\\u003eGenes=%{customdata[3]}\\u003cbr\\u003estudy_id=%{customdata[4]}\\u003cbr\\u003epmid=%{customdata[5]}\\u003cextra\\u003e\\u003c\\u002fextra\\u003e\",\"legendgroup\":\"cardiovascular disease\",\"marker\":{\"color\":\"#EF553B\",\"symbol\":\"circle\"},\"mode\":\"markers\",\"name\":\"cardiovascular disease\",\"orientation\":\"v\",\"showlegend\":true,\"x\":[\"Atrial fibrillation\",\"Cardiac arrhytmias\",\"Intracranial aneurysm\",\"Migraine\",\"Antihypertensive medication - note that there are other indications\",\"Haemorrhoidal disease\",\"Migraine and\\u002for diastolic blood pressure\",\"Dilated cardiomyopathy (MTAG)\",\"Migraine and\\u002for systolic blood pressure\",\"Myocardial infarction\",\"Arrhythmia\",\"Essential hypertension (time to event)\",\"Cardiac dysrhythmias\",\"Peripheral artery disease\",\"Coronary artery disease\",\"Cardiovascular disease\"],\"xaxis\":\"x\",\"y\":[1.7495567567558485,1.2249312010644098,1.0103709229912408,0.9742078001948378,0.8977277481146062,0.8715051297012496,0.775004421208308,0.4020765350498568,0.3756262434429244,0.35638996688514424,0.3516913378518712,0.3516913378518712,0.3100133432025032,0.27492825262756165,0.195584926133481,0.06728095343512297],\"yaxis\":\"y\",\"type\":\"scatter\"},{\"customdata\":[[36,\"cell proliferation disorder\",0.0010919217656594,\"NRIP1;FILIP1L;ATF7IP;FOXP1;FBXO32;TCF7L2;TGFBR2;KDM7A;AKAP9;CUX1;TET2\",\"GCST90090980\",\"PMID:32139696\"],[36,\"cell proliferation disorder\",0.0115064588254821,\"BPTF;SECISBP2L;BAZ1A\",\"GCST008836_2\",\"PMID:31326317\"],[36,\"cell proliferation disorder\",0.0115064588254821,\"BPTF;SECISBP2L;BAZ1A\",\"GCST012201\",\"PMID:32889700\"],[36,\"cell proliferation disorder\",0.0291395841082836,\"BBX;ATP2B1;CDKN1B;MBNL1;ATF7IP;ZBTB38;SKIL;TCF7L2;ADNP;TNRC6B;TET2\",\"GCST011049\",\"PMID:33398198\"],[36,\"cell proliferation disorder\",0.0501661344618741,\"ZKSCAN1;AKAP13\",\"GCST009758\",\"PMID:31710517\"],[36,\"cell proliferation disorder\",0.0501661344618741,\"DMRTA1;SOX4\",\"GCST006464\",\"PMID:30093612\"],[36,\"cell proliferation disorder\",0.1547181976854636,\"WNK1\",\"GCST004750\",\"PMID:28604730\"],[36,\"cell proliferation disorder\",0.1895134894954746,\"MKLN1\",\"GCST90000032\",\"PMID:33057200\"],[36,\"cell proliferation disorder\",0.2228808376400165,\"TIPARP\",\"GCST004415\",\"PMID:28346442\"],[36,\"cell proliferation disorder\",0.2262291764730011,\"AHR;MED13L;MKLN1\",\"GCST010304\",\"PMID:32341527\"],[36,\"cell proliferation disorder\",0.285563004058537,\"WNK1\",\"GCST004748\",\"PMID:28604730\"],[36,\"cell proliferation disorder\",0.285563004058537,\"TIPARP\",\"GCST004478\",\"PMID:28346442\"],[36,\"cell proliferation disorder\",0.3057991260333816,\"CUX1;FOXP1\",\"SAIGE_172_2\",null],[36,\"cell proliferation disorder\",0.3149876127581196,\"MKLN1\",\"GCST005434\",\"PMID:29422604\"],[36,\"cell proliferation disorder\",0.3149876127581196,\"BAZ1A\",\"GCST008834\",\"PMID:31326317\"],[36,\"cell proliferation disorder\",0.3149876127581196,\"BAZ1A\",\"GCST012199\",\"PMID:32889700\"],[36,\"cell proliferation disorder\",0.3149876127581196,\"NRIP1\",\"FINNGEN_R6_C3_BREAST_HERPLUS\",null],[36,\"cell proliferation disorder\",0.3149876127581196,\"NRIP1\",\"FINNGEN_R6_C3_BREAST_HERPLUS_EXALLC\",null],[36,\"cell proliferation disorder\",0.3162710399159792,\"ST3GAL6;FOXP1;STRN\",\"GCST008870\",\"PMID:31174203\"],[36,\"cell proliferation disorder\",0.3211591535656641,\"ZBTB7A;CAMK2D\",\"GCST004146\",\"PMID:28165464\"],[36,\"cell proliferation disorder\",0.3364344910168658,\"ATF7IP;RESF1\",\"GCST004635\",\"PMID:28604728\"],[36,\"cell proliferation disorder\",0.3618514462243932,\"RBMS1;FOXP1;ST3GAL6\",\"GCST008871\",\"PMID:31174203\"],[36,\"cell proliferation disorder\",0.3815707894612491,\"ST3GAL6;FOXP1\",\"GCST90018921\",\"PMID:34594039\"],[36,\"cell proliferation disorder\",0.3962082049389296,\"ATF7IP\",\"GCST002022\",\"PMID:23666240\"],[36,\"cell proliferation disorder\",0.4253572447798924,\"CUX1;FOXP1\",\"GCST90027058\",\"PMID:34290314\"],[36,\"cell proliferation disorder\",0.4449473885099779,\"NRIP1\",\"FINNGEN_R6_C3_BREAST\",null],[36,\"cell proliferation disorder\",0.4449473885099779,\"SKIL\",\"FINNGEN_R6_C3_PROSTATE_EXALLC\",null],[36,\"cell proliferation disorder\",0.467825640020593,\"FOXP1\",\"GCST90018883\",\"PMID:34594039\"],[36,\"cell proliferation disorder\",0.4897637717041346,\"FOXP1\",\"GCST010148\",\"PMID:32041948\"],[36,\"cell proliferation disorder\",0.510800296872845,\"NRIP1\",\"FINNGEN_R6_C3_BREAST_HER2NEG\",null],[36,\"cell proliferation disorder\",0.510800296872845,\"TCF7L2\",\"GCST005076\",\"PMID:29058716\"],[36,\"cell proliferation disorder\",0.5866468738605477,\"SKIL\",\"FINNGEN_R6_C3_MALE_GENITAL\",null],[36,\"cell proliferation disorder\",0.5866468738605477,\"SKIL\",\"FINNGEN_R6_C3_MALE_GENITAL_EXALLC\",null],[36,\"cell proliferation disorder\",0.6037002021495758,\"PJA2\",\"SAIGE_728_71\",null],[36,\"cell proliferation disorder\",0.6651812398611223,\"FOXP1\",\"SAIGE_172\",null],[36,\"cell proliferation disorder\",0.679003628854497,\"SLC38A2\",\"GCST90018934\",\"PMID:34594039\"],[36,\"cell proliferation disorder\",0.6922571279392686,\"TET2\",\"GCST90061442\",\"PMID:34033851\"],[36,\"cell proliferation disorder\",0.8929506914030486,\"TET2\",\"GCST007992\",\"PMID:31089142\"]],\"hovertemplate\":\"trait_category=%{customdata[1]}\\u003cbr\\u003etrait_reported=%{x}\\u003cbr\\u003e-log10(p-value)=%{y}\\u003cbr\\u003eprogram_name=%{customdata[0]}\\u003cbr\\u003eP-value=%{customdata[2]}\\u003cbr\\u003eGenes=%{customdata[3]}\\u003cbr\\u003estudy_id=%{customdata[4]}\\u003cbr\\u003epmid=%{customdata[5]}\\u003cextra\\u003e\\u003c\\u002fextra\\u003e\",\"legendgroup\":\"cell proliferation disorder\",\"marker\":{\"color\":\"#00cc96\",\"symbol\":\"circle\"},\"mode\":\"markers\",\"name\":\"cell proliferation disorder\",\"orientation\":\"v\",\"showlegend\":true,\"x\":[\"Breast cancer\",\"Lung adenocarcinoma [East Asian]\",\"Lung adenocarcinoma\",\"Prostate cancer\",\"Idiopathic pulmonary fibrosis\",\"Endometrial cancer\",\"Squamous cell lung carcinoma\",\"Myeloproliferative neoplasms\",\"Invasive epithelial ovarian cancer\",\"Cutaneous malignant melanoma\",\"Lung cancer\",\"Serous invasive ovarian cancer\",\"Other non-epithelial cancer of skin\",\"Pancreatic cancer\",\"Non-small cell lung cancer\",\"Non-small cell lung cancer\",\"Malignant neoplasm of breast, HER-positive\",\"Malignant neoplasm of breast, HER-positive (controls excluding all cancers)\",\"Keratinocyte cancer (MTAG)\",\"Chronic lymphocytic leukemia\",\"Testicular germ cell tumor\",\"Basal cell carcinoma\",\"Skin cancer\",\"Testicular germ cell tumor\",\"Non-melanoma skin cancer\",\"Malignant neoplasm of breast\",\"Malignant neoplasm of prostate (controls excluding all cancers)\",\"Nasal polyps\",\"Cutaneous squamous cell carcinoma\",\"Malignant neoplasm of breast, HER2-negative\",\"Breast cancer (estrogen-receptor negative)\",\"malignant neoplasm of male genital organs\",\"malignant neoplasm of male genital organs (controls excluding all cancers)\",\"Contracture of palmar fascia [dupuytren's disease]\",\"Skin cancer\",\"Uterine fibroids\",\"Primary biliary cholangitis\",\"Colorectal cancer\"],\"xaxis\":\"x\",\"y\":[2.9618084769788795,1.9390583122675784,1.9390583122675784,1.5355166509451101,1.2995893621286179,1.2995893621286179,0.8104586023343467,0.7223598716856526,0.6519272687334938,0.6454513854225086,0.5442980580092003,0.5442980580092003,0.5145637601252099,0.5017065249931768,0.5017065249931768,0.5017065249931768,0.5017065249931768,0.5017065249931768,0.4999405734352048,0.4932796953643279,0.4730994870404675,0.4414696872744389,0.4184248794117522,0.4020765350498568,0.3712461657951674,0.3516913378518712,0.3516913378518712,0.32991597958905405,0.3100133432025032,0.29174885900024145,0.29174885900024145,0.23162323926599895,0.23162323926599895,0.21917867872259036,0.1770600077082074,0.16812790467786012,0.15973256377486986,0.04917252212243546],\"yaxis\":\"y\",\"type\":\"scatter\"},{\"customdata\":[[36,\"disease of visual system\",0.3629294336674807,\"PTPN1;ZFP36L2;FBXO32;TES\",\"GCST009722\",\"PMID:31959993\"],[36,\"disease of visual system\",0.7571894171455614,\"TCF7L2;NRIP1;ANTXR2;ZBTB38\",\"GCST010378\",\"PMID:32352494\"],[36,\"disease of visual system\",0.8834991711448278,\"FBXO32\",\"GCST90011770\",\"PMID:33627673\"]],\"hovertemplate\":\"trait_category=%{customdata[1]}\\u003cbr\\u003etrait_reported=%{x}\\u003cbr\\u003e-log10(p-value)=%{y}\\u003cbr\\u003eprogram_name=%{customdata[0]}\\u003cbr\\u003eP-value=%{customdata[2]}\\u003cbr\\u003eGenes=%{customdata[3]}\\u003cbr\\u003estudy_id=%{customdata[4]}\\u003cbr\\u003epmid=%{customdata[5]}\\u003cextra\\u003e\\u003c\\u002fextra\\u003e\",\"legendgroup\":\"disease of visual system\",\"marker\":{\"color\":\"#ab63fa\",\"symbol\":\"circle\"},\"mode\":\"markers\",\"name\":\"disease of visual system\",\"orientation\":\"v\",\"showlegend\":true,\"x\":[\"Glaucoma (multi-trait analysis)\",\"Spherical equivalent\",\"Glaucoma (primary open-angle)\"],\"xaxis\":\"x\",\"y\":[0.44017780898046394,0.12079546458067061,0.053793853590603014],\"yaxis\":\"y\",\"type\":\"scatter\"},{\"customdata\":[[36,\"endocrine system disease\",0.1828049147195762,\"ARID5B;ATRX\",\"GCST90018847\",\"PMID:34594039\"],[36,\"endocrine system disease\",0.5546181436664248,\"ARID5B;PLEKHA1;BAZ2B\",\"GCST010571\",\"PMID:32581359\"],[36,\"endocrine system disease\",0.6477656385995166,\"ARID5B;AGO2\",\"FINNGEN_R6_E4_HYTHY_AI_STRICT_PURCH\",null],[36,\"endocrine system disease\",0.7623974279607062,\"ARID5B;PLEKHA1;AGO2\",\"GCST007073\",\"PMID:30595370\"],[36,\"endocrine system disease\",0.7894922184861299,\"AGO2\",\"FINNGEN_R6_E4_THYROID\",null]],\"hovertemplate\":\"trait_category=%{customdata[1]}\\u003cbr\\u003etrait_reported=%{x}\\u003cbr\\u003e-log10(p-value)=%{y}\\u003cbr\\u003eprogram_name=%{customdata[0]}\\u003cbr\\u003eP-value=%{customdata[2]}\\u003cbr\\u003eGenes=%{customdata[3]}\\u003cbr\\u003estudy_id=%{customdata[4]}\\u003cbr\\u003epmid=%{customdata[5]}\\u003cextra\\u003e\\u003c\\u002fextra\\u003e\",\"legendgroup\":\"endocrine system disease\",\"marker\":{\"color\":\"#FFA15A\",\"symbol\":\"circle\"},\"mode\":\"markers\",\"name\":\"endocrine system disease\",\"orientation\":\"v\",\"showlegend\":true,\"x\":[\"Graves' disease\",\"Autoimmune thyroid disease\",\"Hypothyroidism, strict autoimmune, 3 medication purchases required\",\"Hypothyroidism\",\"Disorders of the thyroid gland\"],\"xaxis\":\"x\",\"y\":[0.738012132415647,0.25600592710341313,0.18858209331629497,0.11781857751185584,0.10265214619424197],\"yaxis\":\"y\",\"type\":\"scatter\"},{\"customdata\":[[36,\"gastrointestinal disease\",0.0308938848618617,\"RORA;SOX4\",\"GCST90027899\",\"PMID:34506852\"],[36,\"gastrointestinal disease\",0.2228808376400165,\"HDAC7\",\"GCST006670\",\"PMID:23603763\"],[36,\"gastrointestinal disease\",0.343204048491289,\"FOXP1\",\"GCST90000515\",\"PMID:34187846\"],[36,\"gastrointestinal disease\",0.3516061435381669,\"FCHO2;SYNJ2\",\"GCST90018819\",\"PMID:34594039\"],[36,\"gastrointestinal disease\",0.4210888642104751,\"JMJD1C\",\"NEALE2_20002_1162\",null],[36,\"gastrointestinal disease\",0.4401594527773614,\"PGPEP1;STK24;FNIP2\",\"GCST90000514\",\"PMID:34187846\"],[36,\"gastrointestinal disease\",0.510800296872845,\"JMJD1C\",\"GCST007209\",\"PMID:30504769\"],[36,\"gastrointestinal disease\",0.8573008746589528,\"FOXP1;ERRFI1\",\"GCST004131\",\"PMID:28067908\"]],\"hovertemplate\":\"trait_category=%{customdata[1]}\\u003cbr\\u003etrait_reported=%{x}\\u003cbr\\u003e-log10(p-value)=%{y}\\u003cbr\\u003eprogram_name=%{customdata[0]}\\u003cbr\\u003eP-value=%{customdata[2]}\\u003cbr\\u003eGenes=%{customdata[3]}\\u003cbr\\u003estudy_id=%{customdata[4]}\\u003cbr\\u003epmid=%{customdata[5]}\\u003cextra\\u003e\\u003c\\u002fextra\\u003e\",\"legendgroup\":\"gastrointestinal disease\",\"marker\":{\"color\":\"#19d3f3\",\"symbol\":\"circle\"},\"mode\":\"markers\",\"name\":\"gastrointestinal disease\",\"orientation\":\"v\",\"showlegend\":true,\"x\":[\"Eosinophilic esophagitis\",\"Primary sclerosing cholangitis\",\"Barrett's esophagus\",\"Cholelithiasis\",\"Cholelithiasis\\u002fgall stones | non-cancer illness code, self-reported\",\"Gastroesophageal reflux disease\",\"Gallstone disease\",\"Inflammatory bowel disease\"],\"xaxis\":\"x\",\"y\":[1.5101274763542574,0.6519272687334938,0.46444759778412303,0.4539435451983354,0.3756262434429244,0.35638996688514424,0.29174885900024145,0.06686673318524174],\"yaxis\":\"y\",\"type\":\"scatter\"},{\"customdata\":[[36,\"hematologic disease\",0.2228808376400165,\"RORA\",\"GCST006917\",\"PMID:30134812\"]],\"hovertemplate\":\"trait_category=%{customdata[1]}\\u003cbr\\u003etrait_reported=%{x}\\u003cbr\\u003e-log10(p-value)=%{y}\\u003cbr\\u003eprogram_name=%{customdata[0]}\\u003cbr\\u003eP-value=%{customdata[2]}\\u003cbr\\u003eGenes=%{customdata[3]}\\u003cbr\\u003estudy_id=%{customdata[4]}\\u003cbr\\u003epmid=%{customdata[5]}\\u003cextra\\u003e\\u003c\\u002fextra\\u003e\",\"legendgroup\":\"hematologic disease\",\"marker\":{\"color\":\"#FF6692\",\"symbol\":\"circle\"},\"mode\":\"markers\",\"name\":\"hematologic disease\",\"orientation\":\"v\",\"showlegend\":true,\"x\":[\"Monoclonal gammopathy of undetermined significance\"],\"xaxis\":\"x\",\"y\":[0.6519272687334938],\"yaxis\":\"y\",\"type\":\"scatter\"},{\"customdata\":[[36,\"immune system disease\",0.4319468563585594,\"ZFP36L2;FOXP1;ZBTB38;AFF1;ATXN1;TET2\",\"GCST009597\",\"PMID:31604244\"],[36,\"immune system disease\",0.6159698733290941,\"PLEKHA1;ARID5B\",\"GCST007071\",\"PMID:30595370\"],[36,\"immune system disease\",0.7288329720620108,\"RORA\",\"GCST010984\",\"PMID:32603359\"],[36,\"immune system disease\",0.7400349779523578,\"RORA\",\"GCST010985\",\"PMID:32603359\"]],\"hovertemplate\":\"trait_category=%{customdata[1]}\\u003cbr\\u003etrait_reported=%{x}\\u003cbr\\u003e-log10(p-value)=%{y}\\u003cbr\\u003eprogram_name=%{customdata[0]}\\u003cbr\\u003eP-value=%{customdata[2]}\\u003cbr\\u003eGenes=%{customdata[3]}\\u003cbr\\u003estudy_id=%{customdata[4]}\\u003cbr\\u003epmid=%{customdata[5]}\\u003cextra\\u003e\\u003c\\u002fextra\\u003e\",\"legendgroup\":\"immune system disease\",\"marker\":{\"color\":\"#B6E880\",\"symbol\":\"circle\"},\"mode\":\"markers\",\"name\":\"immune system disease\",\"orientation\":\"v\",\"showlegend\":true,\"x\":[\"Multiple sclerosis\",\"Autoimmune traits\",\"Allergic disease (asthma, hay fever and\\u002for eczema) (multivariate analysis)\",\"Allergic disease (asthma, hay fever and\\u002for eczema) (age of onset)\"],\"xaxis\":\"x\",\"y\":[0.3645696823748237,0.21044052836623747,0.13737198831184502,0.1307477527383554],\"yaxis\":\"y\",\"type\":\"scatter\"},{\"customdata\":[[36,\"injury, poisoning or other complication\",0.620052125477438,\"IFNGR1\",\"NEALE2_6149_1\",null],[36,\"injury, poisoning or other complication\",0.8222103950002939,\"TCF7L2\",\"FINNGEN_R6_E4_DM2NASCOMP\",null]],\"hovertemplate\":\"trait_category=%{customdata[1]}\\u003cbr\\u003etrait_reported=%{x}\\u003cbr\\u003e-log10(p-value)=%{y}\\u003cbr\\u003eprogram_name=%{customdata[0]}\\u003cbr\\u003eP-value=%{customdata[2]}\\u003cbr\\u003eGenes=%{customdata[3]}\\u003cbr\\u003estudy_id=%{customdata[4]}\\u003cbr\\u003epmid=%{customdata[5]}\\u003cextra\\u003e\\u003c\\u002fextra\\u003e\",\"legendgroup\":\"injury, poisoning or other complication\",\"marker\":{\"color\":\"#FF97FF\",\"symbol\":\"circle\"},\"mode\":\"markers\",\"name\":\"injury, poisoning or other complication\",\"orientation\":\"v\",\"showlegend\":true,\"x\":[\"Mouth ulcers | mouth\\u002fteeth dental problems\",\"Type 2 diabetes with other specified\\u002fmultiple\\u002funspecified complications\"],\"xaxis\":\"x\",\"y\":[0.20757179944424115,0.08501703684449279],\"yaxis\":\"y\",\"type\":\"scatter\"},{\"customdata\":[[36,\"integumentary system disease\",0.2045026926601916,\"PTPN1;FOXP1;ARID5B\",\"GCST004785\",\"PMID:27723757\"],[36,\"integumentary system disease\",0.3149876127581196,\"TIPARP\",\"FINNGEN_R6_L12_NONIONRADISKIN\",null],[36,\"integumentary system disease\",0.3666568126289166,\"FCHO2;ERRFI1\",\"GCST90092000\",\"PMID:35132056\"],[36,\"integumentary system disease\",0.3963338540662117,\"SYF2;MKLN1\",\"GCST005116\",\"PMID:29146897\"],[36,\"integumentary system disease\",0.4536395124125036,\"TSC22D1;KLF13\",\"GCST004346\",\"PMID:28537254\"],[36,\"integumentary system disease\",0.5206870944119367,\"ANKRD11;SRPK2\",\"GCST007086\",\"PMID:30595370\"],[36,\"integumentary system disease\",0.6922571279392686,\"ZBTB38\",\"GCST90086149\",\"PMID:34116867\"]],\"hovertemplate\":\"trait_category=%{customdata[1]}\\u003cbr\\u003etrait_reported=%{x}\\u003cbr\\u003e-log10(p-value)=%{y}\\u003cbr\\u003eprogram_name=%{customdata[0]}\\u003cbr\\u003eP-value=%{customdata[2]}\\u003cbr\\u003eGenes=%{customdata[3]}\\u003cbr\\u003estudy_id=%{customdata[4]}\\u003cbr\\u003epmid=%{customdata[5]}\\u003cextra\\u003e\\u003c\\u002fextra\\u003e\",\"legendgroup\":\"integumentary system disease\",\"marker\":{\"color\":\"#FECB52\",\"symbol\":\"circle\"},\"mode\":\"markers\",\"name\":\"integumentary system disease\",\"orientation\":\"v\",\"showlegend\":true,\"x\":[\"Vitiligo\",\"Skin changes due to chronic exposure to nonionizing radiation\",\"acne vulgaris\",\"Male-pattern baldness\",\"Psoriasis\",\"Sunburns\",\"Atopic dermatitis\"],\"xaxis\":\"x\",\"y\":[0.6893009693203846,0.5017065249931768,0.4357402412297814,0.40193882949222304,0.34328912502483117,0.2834231864786014,0.15973256377486986],\"yaxis\":\"y\",\"type\":\"scatter\"},{\"customdata\":[[36,\"musculoskeletal or connective tissue disease\",0.2548786631030424,\"ARID5B\",\"FINNGEN_R6_RHEUMA_SEROPOS_WIDE\",null],[36,\"musculoskeletal or connective tissue disease\",0.285563004058537,\"FOXP1\",\"GCST90010715\",\"PMID:33106285\"],[36,\"musculoskeletal or connective tissue disease\",0.3149876127581196,\"INO80D\",\"FINNGEN_R6_M13_INTERVERTEB\",null],[36,\"musculoskeletal or connective tissue disease\",0.5688621545391193,\"VGLL4\",\"GCST90034524\",\"PMID:34450027\"],[36,\"musculoskeletal or connective tissue disease\",0.8973857729308813,\"ARID5B\",\"GCST90013534\",\"PMID:33310728\"]],\"hovertemplate\":\"trait_category=%{customdata[1]}\\u003cbr\\u003etrait_reported=%{x}\\u003cbr\\u003e-log10(p-value)=%{y}\\u003cbr\\u003eprogram_name=%{customdata[0]}\\u003cbr\\u003eP-value=%{customdata[2]}\\u003cbr\\u003eGenes=%{customdata[3]}\\u003cbr\\u003estudy_id=%{customdata[4]}\\u003cbr\\u003epmid=%{customdata[5]}\\u003cextra\\u003e\\u003c\\u002fextra\\u003e\",\"legendgroup\":\"musculoskeletal or connective tissue disease\",\"marker\":{\"color\":\"#636efa\",\"symbol\":\"circle\"},\"mode\":\"markers\",\"name\":\"musculoskeletal or connective tissue disease\",\"orientation\":\"v\",\"showlegend\":true,\"x\":[\"Seropositive rheumatoid arthritis, wide\",\"Arthritis (juvenile idiopathic)\",\"Other intervertebral disc disorders\",\"Osteoarthritis (with total hip replacement)\",\"Rheumatoid arthritis\"],\"xaxis\":\"x\",\"y\":[0.5936665195109846,0.5442980580092003,0.5017065249931768,0.24499295816674407,0.047020820011982004],\"yaxis\":\"y\",\"type\":\"scatter\"},{\"customdata\":[[36,\"nervous system disease\",0.0066726338586722,\"SRPK2;ZSWIM6;FXR1;AKT3\",\"GCST90016619\",\"PMID:33686288\"],[36,\"nervous system disease\",0.0080505744986423,\"TULP4;NR2F2;ARHGAP5;SNRK;TEAD1;PLEKHA5;ARID4A;REV3L;ZFHX3;CPEB4;BMPR2;REST;FOXO3;ABI1;ARID1B;NUFIP2;AKT3;HELZ;FOXP1;ZBTB16;BPTF;TET2\",\"GCST90061435\",\"PMID:34446935\"],[36,\"nervous system disease\",0.1895134894954746,\"HEXIM1\",\"GCST010097\",\"PMID:32332799\"],[36,\"nervous system disease\",0.2131677681105417,\"SYNJ2;ARID5B\",\"NEALE2_2247_1\",null],[36,\"nervous system disease\",0.2439578889366013,\"SYNJ2;AGO2\",\"GCST90012115\",\"PMID:32986727\"],[36,\"nervous system disease\",0.2595655325190159,\"SDCCAG8;ZSWIM6;SRPK2\",\"GCST90020095\",\"PMID:34159505\"],[36,\"nervous system disease\",0.343204048491289,\"STK4\",\"GCST90016607\",\"PMID:33686288\"],[36,\"nervous system disease\",0.5688621545391193,\"ZSWIM6\",\"GCST90020094\",\"PMID:34159505\"],[36,\"nervous system disease\",0.6037002021495758,\"ZSWIM6\",\"GCST90016620\",\"PMID:33686288\"],[36,\"nervous system disease\",0.679003628854497,\"ARID5B\",\"GCST90016618\",\"PMID:33686288\"],[36,\"nervous system disease\",0.6922571279392686,\"STK4\",\"GCST012464\",\"PMID:34002096\"],[36,\"nervous system disease\",0.7400349779523578,\"BBX\",\"GCST006475\",\"PMID:29942085\"],[36,\"nervous system disease\",0.7981952393413446,\"CAMK2D\",\"GCST004902\",\"PMID:28892059\"],[36,\"nervous system disease\",0.7981952393413446,\"CAMK2D\",\"GCST010991\",\"PMID:32201043\"],[36,\"nervous system disease\",0.8145398899206143,\"BBX\",\"GCST010017\",\"PMID:32231276\"]],\"hovertemplate\":\"trait_category=%{customdata[1]}\\u003cbr\\u003etrait_reported=%{x}\\u003cbr\\u003e-log10(p-value)=%{y}\\u003cbr\\u003eprogram_name=%{customdata[0]}\\u003cbr\\u003eP-value=%{customdata[2]}\\u003cbr\\u003eGenes=%{customdata[3]}\\u003cbr\\u003estudy_id=%{customdata[4]}\\u003cbr\\u003epmid=%{customdata[5]}\\u003cextra\\u003e\\u003c\\u002fextra\\u003e\",\"legendgroup\":\"nervous system disease\",\"marker\":{\"color\":\"#EF553B\",\"symbol\":\"circle\"},\"mode\":\"markers\",\"name\":\"nervous system disease\",\"orientation\":\"v\",\"showlegend\":true,\"x\":[\"Schizophrenia vs anorexia nervosa (ordinary least squares (OLS))\",\"Externalizing behaviour (multivariate analysis)\",\"Insomnia\",\"Yes | hearing difficulty\\u002fproblems\",\"Age-related hearing impairment (MTAG)\",\"Schizophrenia (MTAG)\",\"Bipolar disorder vs major depressive disorder (ordinary least squares (OLS))\",\"Bipolar disorder (MTAG)\",\"Schizophrenia vs autism spectrum disorder (ordinary least squares (OLS))\",\"Schizophrenia vs ADHD (ordinary least squares (OLS))\",\"Bipolar I disorder\",\"Depressed affect\",\"Parkinson's disease\",\"Parkinson's disease\",\"Neuroticism\"],\"xaxis\":\"x\",\"y\":[2.1757027051388693,2.09417312675168,0.7223598716856526,0.6712784618873452,0.6126851334187463,0.5857529776290459,0.46444759778412303,0.24499295816674407,0.21917867872259036,0.16812790467786012,0.15973256377486986,0.1307477527383554,0.09789086679748528,0.09789086679748528,0.08908764241968085],\"yaxis\":\"y\",\"type\":\"scatter\"},{\"customdata\":[[36,\"pancreas disease\",0.3844966110609043,\"TCF7L2;RICTOR;ZFP36L2\",\"FINNGEN_R6_DIABETES_FG\",null],[36,\"pancreas disease\",0.8677401038829926,\"TCF7L2\",\"GCST007077\",\"PMID:30595370\"]],\"hovertemplate\":\"trait_category=%{customdata[1]}\\u003cbr\\u003etrait_reported=%{x}\\u003cbr\\u003e-log10(p-value)=%{y}\\u003cbr\\u003eprogram_name=%{customdata[0]}\\u003cbr\\u003eP-value=%{customdata[2]}\\u003cbr\\u003eGenes=%{customdata[3]}\\u003cbr\\u003estudy_id=%{customdata[4]}\\u003cbr\\u003epmid=%{customdata[5]}\\u003cextra\\u003e\\u003c\\u002fextra\\u003e\",\"legendgroup\":\"pancreas disease\",\"marker\":{\"color\":\"#00cc96\",\"symbol\":\"circle\"},\"mode\":\"markers\",\"name\":\"pancreas disease\",\"orientation\":\"v\",\"showlegend\":true,\"x\":[\"Diabetes, varying definitions\",\"Type 2 diabetes\"],\"xaxis\":\"x\",\"y\":[0.4151074837013926,0.06161033052721098],\"yaxis\":\"y\",\"type\":\"scatter\"},{\"customdata\":[[36,\"phenotype\",0.0017454350432004,\"ZFP36L2;MED13L;KIAA2026;UBC;AHR;ZBTB38;SLC38A2;ERRFI1;ZBTB20\",\"NEALE2_1717\",null],[36,\"phenotype\",0.0231525842378515,\"ETV1;VGLL4;MBNL1;ZBTB38;PPM1A;SLC38A2;MKLN1;ARHGAP24\",\"GCST006988\",\"PMID:30531825\"],[36,\"phenotype\",0.0410058061367403,\"NUFIP2;PLEKHA1;MEF2D\",\"GCST005337\",\"PMID:29397368\"],[36,\"phenotype\",0.0595756513062426,\"STK24;EP300;AGO2\",\"NEALE2_1920\",null],[36,\"phenotype\",0.0748491883592782,\"UBE2H;HDAC7;ERRFI1;ARID5B\",\"GCST90018939\",\"PMID:34594039\"],[36,\"phenotype\",0.0816160368804916,\"TSC22D2;REV3L;RORA;ZFHX3;NRIP1;AHR;EPB41L4A;ZBTB38;FOXP1;TCF7L2;RBMS1;BACH1;PPP4R2;TCP11L2;AKAP13;AFF1;TSC22D1;ZSWIM6\",\"GCST010002\",\"PMID:32231278\"],[36,\"phenotype\",0.2228808376400165,\"FOXP1\",\"SAIGE_550_2\",null],[36,\"phenotype\",0.2599224593227417,\"TCF7L2;NRIP1;ANTXR2;ZBTB38\",\"GCST006290\",\"PMID:29808027\"],[36,\"phenotype\",0.285563004058537,\"AGO2\",\"NEALE2_2257\",null],[36,\"phenotype\",0.343204048491289,\"AHR\",\"GCST008791\",\"PMID:31511532\"],[36,\"phenotype\",0.3962082049389296,\"FOXP1\",\"GCST90018818\",\"PMID:34594039\"],[36,\"phenotype\",0.3963338540662117,\"TCF7L2;ZBTB38\",\"GCST003997\",\"PMID:27182965\"],[36,\"phenotype\",0.4023128854166403,\"MIER1;RORA;RYBP;ZBTB38;SERTAD2;CALCRL\",\"GCST007075\",\"PMID:30595370\"],[36,\"phenotype\",0.467825640020593,\"FNIP2\",\"GCST90012794\",\"PMID:33563987\"],[36,\"phenotype\",0.5309721559381015,\"ZBTB38\",\"GCST012400\",\"PMID:33830181\"],[36,\"phenotype\",0.5503147804502417,\"TNRC6B\",\"FINNGEN_R6_CD2_BENIGN_LEIOMYOMA_UTERI_EXALLC\",null],[36,\"phenotype\",0.5688621545391193,\"PJA2\",\"SAIGE_728_7\",null],[36,\"phenotype\",0.6357314043051531,\"AHR\",\"GCST006586\",\"PMID:30220432\"],[36,\"phenotype\",0.6651812398611223,\"ZFHX3\",\"GCST003992\",\"PMID:27182965\"],[36,\"phenotype\",0.679003628854497,\"IFNGR1\",\"GCST007839\",\"PMID:30837455\"],[36,\"phenotype\",0.7288329720620108,\"BBX\",\"GCST008512\",\"PMID:31194737\"],[36,\"phenotype\",0.7288329720620108,\"BBX\",\"GCST012332\",\"PMID:33830993\"],[36,\"phenotype\",0.7387918477580208,\"DENND4C;TCF7L2\",\"GCST90038690\",\"PMID:33959723\"],[36,\"phenotype\",0.7507756380738,\"FGD6\",\"GCST90018793\",\"PMID:34594039\"]],\"hovertemplate\":\"trait_category=%{customdata[1]}\\u003cbr\\u003etrait_reported=%{x}\\u003cbr\\u003e-log10(p-value)=%{y}\\u003cbr\\u003eprogram_name=%{customdata[0]}\\u003cbr\\u003eP-value=%{customdata[2]}\\u003cbr\\u003eGenes=%{customdata[3]}\\u003cbr\\u003estudy_id=%{customdata[4]}\\u003cbr\\u003epmid=%{customdata[5]}\\u003cextra\\u003e\\u003c\\u002fextra\\u003e\",\"legendgroup\":\"phenotype\",\"marker\":{\"color\":\"#ab63fa\",\"symbol\":\"circle\"},\"mode\":\"markers\",\"name\":\"phenotype\",\"orientation\":\"v\",\"showlegend\":true,\"x\":[\"Skin colour\",\"Blond vs. brown\\u002fblack hair color\",\"Headache\",\"Mood swings\",\"Varicose veins\",\"Refractive error\",\"Diaphragmatic hernia\",\"Myopia (age of diagnosis)\",\"Hearing difficulty\\u002fproblems with background noise\",\"Microalbuminuria\",\"Cholecystitis\",\"Myopia\",\"Eczema\",\"Participation in an health questionnaire (not invited vs invited)\",\"Low myopia vs hyperopia\",\"Leiomyoma of uterus (controls excluding all cancers)\",\"Fasciitis\",\"Urinary albumin excretion\",\"Photic sneeze reflex\",\"Mouth ulcers\",\"Multisite chronic pain\",\"Multisite chronic pain\",\"High cholesterol\",\"Angina pectoris\"],\"xaxis\":\"x\",\"y\":[2.7580963089263135,1.6354005269958722,1.3871546458504973,1.2249312010644098,1.1258129046462182,1.0882244975647217,0.6519272687334938,0.5851561924554596,0.5442980580092003,0.46444759778412303,0.4020765350498568,0.40193882949222304,0.3954360574716753,0.32991597958905405,0.27492825262756165,0.25938882267534713,0.24499295816674407,0.19672633445665483,0.1770600077082074,0.16812790467786012,0.13737198831184502,0.13737198831184502,0.1314779054532911,0.124489828248047],\"yaxis\":\"y\",\"type\":\"scatter\"},{\"customdata\":[[36,\"reproductive system or breast disease\",0.3962082049389296,\"ZBTB16\",\"GCST007089\",\"PMID:30566500\"],[36,\"reproductive system or breast disease\",0.3962082049389296,\"ZFHX3\",\"GCST002563\",\"PMID:25108383\"],[36,\"reproductive system or breast disease\",0.3962082049389296,\"CPEB4\",\"FINNGEN_R6_N14_FEMGENPROL\",null]],\"hovertemplate\":\"trait_category=%{customdata[1]}\\u003cbr\\u003etrait_reported=%{x}\\u003cbr\\u003e-log10(p-value)=%{y}\\u003cbr\\u003eprogram_name=%{customdata[0]}\\u003cbr\\u003eP-value=%{customdata[2]}\\u003cbr\\u003eGenes=%{customdata[3]}\\u003cbr\\u003estudy_id=%{customdata[4]}\\u003cbr\\u003epmid=%{customdata[5]}\\u003cextra\\u003e\\u003c\\u002fextra\\u003e\",\"legendgroup\":\"reproductive system or breast disease\",\"marker\":{\"color\":\"#FFA15A\",\"symbol\":\"circle\"},\"mode\":\"markers\",\"name\":\"reproductive system or breast disease\",\"orientation\":\"v\",\"showlegend\":true,\"x\":[\"Polycystic ovary syndrome\",\"Hypospadias\",\"Female genital prolapse\"],\"xaxis\":\"x\",\"y\":[0.4020765350498568,0.4020765350498568,0.4020765350498568],\"yaxis\":\"y\",\"type\":\"scatter\"},{\"customdata\":[[36,\"respiratory or thoracic disease\",0.4291643042860373,\"TNPO1;VGLL4;ZBTB38\",\"GCST007692\",\"PMID:30804561\"],[36,\"respiratory or thoracic disease\",0.4449473885099779,\"RORA\",\"FINNGEN_R6_J10_LOWCHRON\",null],[36,\"respiratory or thoracic disease\",0.4449473885099779,\"ZBTB7A\",\"FINNGEN_R6_J10_UPPERDIS\",null],[36,\"respiratory or thoracic disease\",0.510800296872845,\"RORA\",\"NEALE2_20002_1387\",null],[36,\"respiratory or thoracic disease\",0.510800296872845,\"RORA\",\"FINNGEN_R6_J10_ASTHMACOPDKELA\",null],[36,\"respiratory or thoracic disease\",0.5503147804502417,\"RORA\",\"GCST009842\",\"PMID:31669095\"],[36,\"respiratory or thoracic disease\",0.6692183394446556,\"RORA;FOXP1;ZBTB38;HDAC7\",\"GCST010043\",\"PMID:32296059\"],[36,\"respiratory or thoracic disease\",0.7049650792579261,\"RORA\",\"GCST006409\",\"PMID:30013184\"],[36,\"respiratory or thoracic disease\",0.7297129316405006,\"RYBP;RORA;ZBTB38\",\"GCST009717\",\"PMID:31361310\"],[36,\"respiratory or thoracic disease\",0.8560709079003145,\"RORA\",\"GCST009850\",\"PMID:31669095\"],[36,\"respiratory or thoracic disease\",0.9478985707268716,\"RORA\",\"GCST007076\",\"PMID:30595370\"]],\"hovertemplate\":\"trait_category=%{customdata[1]}\\u003cbr\\u003etrait_reported=%{x}\\u003cbr\\u003e-log10(p-value)=%{y}\\u003cbr\\u003eprogram_name=%{customdata[0]}\\u003cbr\\u003eP-value=%{customdata[2]}\\u003cbr\\u003eGenes=%{customdata[3]}\\u003cbr\\u003estudy_id=%{customdata[4]}\\u003cbr\\u003epmid=%{customdata[5]}\\u003cextra\\u003e\\u003c\\u002fextra\\u003e\",\"legendgroup\":\"respiratory or thoracic disease\",\"marker\":{\"color\":\"#19d3f3\",\"symbol\":\"circle\"},\"mode\":\"markers\",\"name\":\"respiratory or thoracic disease\",\"orientation\":\"v\",\"showlegend\":true,\"x\":[\"Chronic obstructive pulmonary disease\",\"Chronic lower respiratory diseases\",\"Other diseases of upper respiratory tract\",\"Hayfever\\u002fallergic rhinitis | non-cancer illness code, self-reported\",\"Asthma\\u002fCOPD (KELA code 203)\",\"Asthma (adult onset)\",\"Asthma\",\"Allergic rhinitis\",\"Hay fever and\\u002for eczema\",\"Atopic asthma\",\"Respiratory diseases\"],\"xaxis\":\"x\",\"y\":[0.36737640762009266,0.3516913378518712,0.3516913378518712,0.29174885900024145,0.29174885900024145,0.25938882267534713,0.17443216602034184,0.15183239543584204,0.13684795730996416,0.06749026145084716,0.023238131575772605],\"yaxis\":\"y\",\"type\":\"scatter\"},{\"customdata\":[[36,\"urinary system disease\",0.1471085126508464,\"RYBP;ELF1;GTF2I;ARID5B;SHOC2\",\"GCST011956\",\"PMID:33272962\"],[36,\"urinary system disease\",0.3364344910168658,\"DGKH;ZFP36L2\",\"GCST90018935\",\"PMID:34594039\"],[36,\"urinary system disease\",0.5503147804502417,\"SDCCAG8\",\"GCST008064\",\"PMID:31152163\"],[36,\"urinary system disease\",0.5503147804502417,\"DGKH\",\"GCST009598\",\"PMID:31729369\"]],\"hovertemplate\":\"trait_category=%{customdata[1]}\\u003cbr\\u003etrait_reported=%{x}\\u003cbr\\u003e-log10(p-value)=%{y}\\u003cbr\\u003eprogram_name=%{customdata[0]}\\u003cbr\\u003eP-value=%{customdata[2]}\\u003cbr\\u003eGenes=%{customdata[3]}\\u003cbr\\u003estudy_id=%{customdata[4]}\\u003cbr\\u003epmid=%{customdata[5]}\\u003cextra\\u003e\\u003c\\u002fextra\\u003e\",\"legendgroup\":\"urinary system disease\",\"marker\":{\"color\":\"#FF6692\",\"symbol\":\"circle\"},\"mode\":\"markers\",\"name\":\"urinary system disease\",\"orientation\":\"v\",\"showlegend\":true,\"x\":[\"Systemic lupus erythematosus\",\"Urolithiasis\",\"Chronic kidney disease\",\"Kidney stones\"],\"xaxis\":\"x\",\"y\":[0.8323621954551973,0.4730994870404675,0.25938882267534713,0.25938882267534713],\"yaxis\":\"y\",\"type\":\"scatter\"}],                        {\"template\":{\"data\":{\"histogram2dcontour\":[{\"type\":\"histogram2dcontour\",\"colorbar\":{\"outlinewidth\":0,\"ticks\":\"\"},\"colorscale\":[[0.0,\"#0d0887\"],[0.1111111111111111,\"#46039f\"],[0.2222222222222222,\"#7201a8\"],[0.3333333333333333,\"#9c179e\"],[0.4444444444444444,\"#bd3786\"],[0.5555555555555556,\"#d8576b\"],[0.6666666666666666,\"#ed7953\"],[0.7777777777777778,\"#fb9f3a\"],[0.8888888888888888,\"#fdca26\"],[1.0,\"#f0f921\"]]}],\"choropleth\":[{\"type\":\"choropleth\",\"colorbar\":{\"outlinewidth\":0,\"ticks\":\"\"}}],\"histogram2d\":[{\"type\":\"histogram2d\",\"colorbar\":{\"outlinewidth\":0,\"ticks\":\"\"},\"colorscale\":[[0.0,\"#0d0887\"],[0.1111111111111111,\"#46039f\"],[0.2222222222222222,\"#7201a8\"],[0.3333333333333333,\"#9c179e\"],[0.4444444444444444,\"#bd3786\"],[0.5555555555555556,\"#d8576b\"],[0.6666666666666666,\"#ed7953\"],[0.7777777777777778,\"#fb9f3a\"],[0.8888888888888888,\"#fdca26\"],[1.0,\"#f0f921\"]]}],\"heatmap\":[{\"type\":\"heatmap\",\"colorbar\":{\"outlinewidth\":0,\"ticks\":\"\"},\"colorscale\":[[0.0,\"#0d0887\"],[0.1111111111111111,\"#46039f\"],[0.2222222222222222,\"#7201a8\"],[0.3333333333333333,\"#9c179e\"],[0.4444444444444444,\"#bd3786\"],[0.5555555555555556,\"#d8576b\"],[0.6666666666666666,\"#ed7953\"],[0.7777777777777778,\"#fb9f3a\"],[0.8888888888888888,\"#fdca26\"],[1.0,\"#f0f921\"]]}],\"heatmapgl\":[{\"type\":\"heatmapgl\",\"colorbar\":{\"outlinewidth\":0,\"ticks\":\"\"},\"colorscale\":[[0.0,\"#0d0887\"],[0.1111111111111111,\"#46039f\"],[0.2222222222222222,\"#7201a8\"],[0.3333333333333333,\"#9c179e\"],[0.4444444444444444,\"#bd3786\"],[0.5555555555555556,\"#d8576b\"],[0.6666666666666666,\"#ed7953\"],[0.7777777777777778,\"#fb9f3a\"],[0.8888888888888888,\"#fdca26\"],[1.0,\"#f0f921\"]]}],\"contourcarpet\":[{\"type\":\"contourcarpet\",\"colorbar\":{\"outlinewidth\":0,\"ticks\":\"\"}}],\"contour\":[{\"type\":\"contour\",\"colorbar\":{\"outlinewidth\":0,\"ticks\":\"\"},\"colorscale\":[[0.0,\"#0d0887\"],[0.1111111111111111,\"#46039f\"],[0.2222222222222222,\"#7201a8\"],[0.3333333333333333,\"#9c179e\"],[0.4444444444444444,\"#bd3786\"],[0.5555555555555556,\"#d8576b\"],[0.6666666666666666,\"#ed7953\"],[0.7777777777777778,\"#fb9f3a\"],[0.8888888888888888,\"#fdca26\"],[1.0,\"#f0f921\"]]}],\"surface\":[{\"type\":\"surface\",\"colorbar\":{\"outlinewidth\":0,\"ticks\":\"\"},\"colorscale\":[[0.0,\"#0d0887\"],[0.1111111111111111,\"#46039f\"],[0.2222222222222222,\"#7201a8\"],[0.3333333333333333,\"#9c179e\"],[0.4444444444444444,\"#bd3786\"],[0.5555555555555556,\"#d8576b\"],[0.6666666666666666,\"#ed7953\"],[0.7777777777777778,\"#fb9f3a\"],[0.8888888888888888,\"#fdca26\"],[1.0,\"#f0f921\"]]}],\"mesh3d\":[{\"type\":\"mesh3d\",\"colorbar\":{\"outlinewidth\":0,\"ticks\":\"\"}}],\"scatter\":[{\"fillpattern\":{\"fillmode\":\"overlay\",\"size\":10,\"solidity\":0.2},\"type\":\"scatter\"}],\"parcoords\":[{\"type\":\"parcoords\",\"line\":{\"colorbar\":{\"outlinewidth\":0,\"ticks\":\"\"}}}],\"scatterpolargl\":[{\"type\":\"scatterpolargl\",\"marker\":{\"colorbar\":{\"outlinewidth\":0,\"ticks\":\"\"}}}],\"bar\":[{\"error_x\":{\"color\":\"#2a3f5f\"},\"error_y\":{\"color\":\"#2a3f5f\"},\"marker\":{\"line\":{\"color\":\"#E5ECF6\",\"width\":0.5},\"pattern\":{\"fillmode\":\"overlay\",\"size\":10,\"solidity\":0.2}},\"type\":\"bar\"}],\"scattergeo\":[{\"type\":\"scattergeo\",\"marker\":{\"colorbar\":{\"outlinewidth\":0,\"ticks\":\"\"}}}],\"scatterpolar\":[{\"type\":\"scatterpolar\",\"marker\":{\"colorbar\":{\"outlinewidth\":0,\"ticks\":\"\"}}}],\"histogram\":[{\"marker\":{\"pattern\":{\"fillmode\":\"overlay\",\"size\":10,\"solidity\":0.2}},\"type\":\"histogram\"}],\"scattergl\":[{\"type\":\"scattergl\",\"marker\":{\"colorbar\":{\"outlinewidth\":0,\"ticks\":\"\"}}}],\"scatter3d\":[{\"type\":\"scatter3d\",\"line\":{\"colorbar\":{\"outlinewidth\":0,\"ticks\":\"\"}},\"marker\":{\"colorbar\":{\"outlinewidth\":0,\"ticks\":\"\"}}}],\"scattermapbox\":[{\"type\":\"scattermapbox\",\"marker\":{\"colorbar\":{\"outlinewidth\":0,\"ticks\":\"\"}}}],\"scatterternary\":[{\"type\":\"scatterternary\",\"marker\":{\"colorbar\":{\"outlinewidth\":0,\"ticks\":\"\"}}}],\"scattercarpet\":[{\"type\":\"scattercarpet\",\"marker\":{\"colorbar\":{\"outlinewidth\":0,\"ticks\":\"\"}}}],\"carpet\":[{\"aaxis\":{\"endlinecolor\":\"#2a3f5f\",\"gridcolor\":\"white\",\"linecolor\":\"white\",\"minorgridcolor\":\"white\",\"startlinecolor\":\"#2a3f5f\"},\"baxis\":{\"endlinecolor\":\"#2a3f5f\",\"gridcolor\":\"white\",\"linecolor\":\"white\",\"minorgridcolor\":\"white\",\"startlinecolor\":\"#2a3f5f\"},\"type\":\"carpet\"}],\"table\":[{\"cells\":{\"fill\":{\"color\":\"#EBF0F8\"},\"line\":{\"color\":\"white\"}},\"header\":{\"fill\":{\"color\":\"#C8D4E3\"},\"line\":{\"color\":\"white\"}},\"type\":\"table\"}],\"barpolar\":[{\"marker\":{\"line\":{\"color\":\"#E5ECF6\",\"width\":0.5},\"pattern\":{\"fillmode\":\"overlay\",\"size\":10,\"solidity\":0.2}},\"type\":\"barpolar\"}],\"pie\":[{\"automargin\":true,\"type\":\"pie\"}]},\"layout\":{\"autotypenumbers\":\"strict\",\"colorway\":[\"#636efa\",\"#EF553B\",\"#00cc96\",\"#ab63fa\",\"#FFA15A\",\"#19d3f3\",\"#FF6692\",\"#B6E880\",\"#FF97FF\",\"#FECB52\"],\"font\":{\"color\":\"#2a3f5f\"},\"hovermode\":\"closest\",\"hoverlabel\":{\"align\":\"left\"},\"paper_bgcolor\":\"white\",\"plot_bgcolor\":\"#E5ECF6\",\"polar\":{\"bgcolor\":\"#E5ECF6\",\"angularaxis\":{\"gridcolor\":\"white\",\"linecolor\":\"white\",\"ticks\":\"\"},\"radialaxis\":{\"gridcolor\":\"white\",\"linecolor\":\"white\",\"ticks\":\"\"}},\"ternary\":{\"bgcolor\":\"#E5ECF6\",\"aaxis\":{\"gridcolor\":\"white\",\"linecolor\":\"white\",\"ticks\":\"\"},\"baxis\":{\"gridcolor\":\"white\",\"linecolor\":\"white\",\"ticks\":\"\"},\"caxis\":{\"gridcolor\":\"white\",\"linecolor\":\"white\",\"ticks\":\"\"}},\"coloraxis\":{\"colorbar\":{\"outlinewidth\":0,\"ticks\":\"\"}},\"colorscale\":{\"sequential\":[[0.0,\"#0d0887\"],[0.1111111111111111,\"#46039f\"],[0.2222222222222222,\"#7201a8\"],[0.3333333333333333,\"#9c179e\"],[0.4444444444444444,\"#bd3786\"],[0.5555555555555556,\"#d8576b\"],[0.6666666666666666,\"#ed7953\"],[0.7777777777777778,\"#fb9f3a\"],[0.8888888888888888,\"#fdca26\"],[1.0,\"#f0f921\"]],\"sequentialminus\":[[0.0,\"#0d0887\"],[0.1111111111111111,\"#46039f\"],[0.2222222222222222,\"#7201a8\"],[0.3333333333333333,\"#9c179e\"],[0.4444444444444444,\"#bd3786\"],[0.5555555555555556,\"#d8576b\"],[0.6666666666666666,\"#ed7953\"],[0.7777777777777778,\"#fb9f3a\"],[0.8888888888888888,\"#fdca26\"],[1.0,\"#f0f921\"]],\"diverging\":[[0,\"#8e0152\"],[0.1,\"#c51b7d\"],[0.2,\"#de77ae\"],[0.3,\"#f1b6da\"],[0.4,\"#fde0ef\"],[0.5,\"#f7f7f7\"],[0.6,\"#e6f5d0\"],[0.7,\"#b8e186\"],[0.8,\"#7fbc41\"],[0.9,\"#4d9221\"],[1,\"#276419\"]]},\"xaxis\":{\"gridcolor\":\"white\",\"linecolor\":\"white\",\"ticks\":\"\",\"title\":{\"standoff\":15},\"zerolinecolor\":\"white\",\"automargin\":true,\"zerolinewidth\":2},\"yaxis\":{\"gridcolor\":\"white\",\"linecolor\":\"white\",\"ticks\":\"\",\"title\":{\"standoff\":15},\"zerolinecolor\":\"white\",\"automargin\":true,\"zerolinewidth\":2},\"scene\":{\"xaxis\":{\"backgroundcolor\":\"#E5ECF6\",\"gridcolor\":\"white\",\"linecolor\":\"white\",\"showbackground\":true,\"ticks\":\"\",\"zerolinecolor\":\"white\",\"gridwidth\":2},\"yaxis\":{\"backgroundcolor\":\"#E5ECF6\",\"gridcolor\":\"white\",\"linecolor\":\"white\",\"showbackground\":true,\"ticks\":\"\",\"zerolinecolor\":\"white\",\"gridwidth\":2},\"zaxis\":{\"backgroundcolor\":\"#E5ECF6\",\"gridcolor\":\"white\",\"linecolor\":\"white\",\"showbackground\":true,\"ticks\":\"\",\"zerolinecolor\":\"white\",\"gridwidth\":2}},\"shapedefaults\":{\"line\":{\"color\":\"#2a3f5f\"}},\"annotationdefaults\":{\"arrowcolor\":\"#2a3f5f\",\"arrowhead\":0,\"arrowwidth\":1},\"geo\":{\"bgcolor\":\"white\",\"landcolor\":\"#E5ECF6\",\"subunitcolor\":\"white\",\"showland\":true,\"showlakes\":true,\"lakecolor\":\"white\"},\"title\":{\"x\":0.05},\"mapbox\":{\"style\":\"light\"}}},\"xaxis\":{\"anchor\":\"y\",\"domain\":[0.0,1.0],\"title\":{\"text\":\"trait_reported\"},\"tickfont\":{\"size\":4}},\"yaxis\":{\"anchor\":\"x\",\"domain\":[0.0,1.0],\"title\":{\"text\":\"-log10(p-value)\"},\"tickformat\":\".1f\"},\"legend\":{\"title\":{\"text\":\"trait_category\"},\"tracegroupgap\":0},\"title\":{\"text\":\"Endothelial Cell Programs x GWAS Binary Outcome Enrichments\"},\"width\":1000,\"height\":800,\"shapes\":[{\"line\":{\"dash\":\"dash\"},\"type\":\"line\",\"x0\":0,\"x1\":1,\"xref\":\"x domain\",\"y0\":1.3010299956639813,\"y1\":1.3010299956639813,\"yref\":\"y\"}],\"annotations\":[{\"showarrow\":false,\"text\":\"Significance Threshold (0.05)\",\"x\":1,\"xanchor\":\"right\",\"xref\":\"x domain\",\"y\":1.3010299956639813,\"yanchor\":\"bottom\",\"yref\":\"y\"}]},                        {\"responsive\": true}                    ).then(function(){\n",
       "                            \n",
       "var gd = document.getElementById('2ff0dd16-8690-446f-babc-e2ef0bde140d');\n",
       "var x = new MutationObserver(function (mutations, observer) {{\n",
       "        var display = window.getComputedStyle(gd).display;\n",
       "        if (!display || display === 'none') {{\n",
       "            console.log([gd, 'removed!']);\n",
       "            Plotly.purge(gd);\n",
       "            observer.disconnect();\n",
       "        }}\n",
       "}});\n",
       "\n",
       "// Listen for the removal of the full notebook cells\n",
       "var notebookContainer = gd.closest('#notebook-container');\n",
       "if (notebookContainer) {{\n",
       "    x.observe(notebookContainer, {childList: true});\n",
       "}}\n",
       "\n",
       "// Listen for the clearing of the current output cell\n",
       "var outputEl = gd.closest('.output');\n",
       "if (outputEl) {{\n",
       "    x.observe(outputEl, {childList: true});\n",
       "}}\n",
       "\n",
       "                        })                };                });            </script>        </div>"
      ]
     },
     "metadata": {},
     "output_type": "display_data"
    },
    {
     "data": {
      "application/vnd.plotly.v1+json": {
       "config": {
        "plotlyServerURL": "https://plot.ly"
       },
       "data": [
        {
         "customdata": [
          [
           19,
           "biological process",
           0.0017764883074341,
           "PIR;LDLR;IRF2BP2;HMGCR;PNPLA3;LIPG;VEGFA",
           "FINNGEN_R6_RX_STATIN",
           null
          ],
          [
           19,
           "biological process",
           0.1343400831032873,
           "EPAS1",
           "GCST006054",
           "PMID:28373541"
          ],
          [
           19,
           "biological process",
           0.3114186984457615,
           "PCYOX1;TFB1M;NR2F1;IRF2BP2;SYT1;MARCKS;PTPN1;CBX5;CACNB1;HABP4;BNIP3L;MNT;DUSP6;NFIB;LONRF1;PDIA6;MTFR1;PTPRN2",
           "GCST006568",
           "PMID:30038396"
          ],
          [
           19,
           "biological process",
           0.6364585961150973,
           "AKAP12",
           "NEALE2_1757",
           null
          ],
          [
           19,
           "biological process",
           0.7647169252273888,
           "LONRF1",
           "GCST007464",
           "PMID:30643251"
          ],
          [
           19,
           "biological process",
           0.7823644484645602,
           "LBR;FRY;RAB3C",
           "GCST006660",
           "PMID:30348214"
          ],
          [
           19,
           "biological process",
           0.8052074518987202,
           "YWHAZ;PLXNA2;LRP8",
           "GCST007325",
           "PMID:30643258"
          ],
          [
           19,
           "biological process",
           0.8958060820939588,
           "SYT1",
           "GCST006269",
           "PMID:29844566"
          ],
          [
           19,
           "biological process",
           0.9346715046595316,
           "PLXNA2",
           "GCST007327",
           "PMID:30643258"
          ]
         ],
         "hovertemplate": "trait_category=%{customdata[1]}<br>trait_reported=%{x}<br>-log10(p-value)=%{y}<br>program_name=%{customdata[0]}<br>P-value=%{customdata[2]}<br>Genes=%{customdata[3]}<br>study_id=%{customdata[4]}<br>pmid=%{customdata[5]}<extra></extra>",
         "legendgroup": "biological process",
         "marker": {
          "color": "#636efa",
          "symbol": "circle"
         },
         "mode": "markers",
         "name": "biological process",
         "orientation": "v",
         "showlegend": true,
         "type": "scatter",
         "x": [
          "Statin medication",
          "High altitude adaptation",
          "Highest math class taken (MTAG) [MTAG]",
          "Facial ageing",
          "Smoking cessation (MTAG)",
          "DNA methylation variation (age effect)",
          "General risk tolerance (MTAG)",
          "General cognitive ability",
          "Smoking status (ever vs never smokers)"
         ],
         "xaxis": "x",
         "y": [
          2.750437646623041,
          0.8717943873810217,
          0.5066553147350892,
          0.1962298434849674,
          0.11649929760822468,
          0.10659089261010384,
          0.09409221452913771,
          0.047785993229935854,
          0.029340997449113893
         ],
         "yaxis": "y"
        },
        {
         "customdata": [
          [
           19,
           "cardiovascular disease",
           0.0201244224746658,
           "CDKN1A;LIPA",
           "GCST011496",
           "PMID:32981348"
          ],
          [
           19,
           "cardiovascular disease",
           0.0440297257759461,
           "CDKN1A;SQLE",
           "GCST011202",
           "PMID:33495596"
          ],
          [
           19,
           "cardiovascular disease",
           0.1283084629236031,
           "DPYSL2;UBASH3B;CLCN6;CLIC4;GLI2;NPC1;HSD17B12;VEGFA",
           "GCST007072",
           "PMID:30595370"
          ],
          [
           19,
           "cardiovascular disease",
           0.1343400831032873,
           "CDKN1A",
           "GCST012099",
           "PMID:33495597"
          ],
          [
           19,
           "cardiovascular disease",
           0.1485496708304558,
           "GLCE;CLCN6;SYT1",
           "FINNGEN_R6_RX_ANTIHYP",
           null
          ],
          [
           19,
           "cardiovascular disease",
           0.1833951163905241,
           "SCARB1;LIPA;VEGFA",
           "GCST005195",
           "PMID:29212778"
          ],
          [
           19,
           "cardiovascular disease",
           0.1984024628911286,
           "NUCKS1;SMIM29;CDKN1A;SQLE",
           "GCST006061",
           "PMID:29892015"
          ],
          [
           19,
           "cardiovascular disease",
           0.2507048273189083,
           "CDKN1A",
           "GCST009541",
           "PMID:31919418"
          ],
          [
           19,
           "cardiovascular disease",
           0.4703169934611635,
           "CDKN1A",
           "FINNGEN_R6_CARDIAC_ARRHYTM",
           null
          ],
          [
           19,
           "cardiovascular disease",
           0.5143547315191779,
           "CLCN6",
           "FINNGEN_R6_I9_IHD",
           null
          ],
          [
           19,
           "cardiovascular disease",
           0.5547466477670275,
           "TGFBR2",
           "GCST003720",
           "PMID:27322543"
          ],
          [
           19,
           "cardiovascular disease",
           0.8188532174755944,
           "LIPA",
           "GCST011365",
           "PMID:33532862"
          ],
          [
           19,
           "cardiovascular disease",
           0.8522214423029417,
           "SRBD1",
           "GCST90014033",
           "PMID:33888516"
          ]
         ],
         "hovertemplate": "trait_category=%{customdata[1]}<br>trait_reported=%{x}<br>-log10(p-value)=%{y}<br>program_name=%{customdata[0]}<br>P-value=%{customdata[2]}<br>Genes=%{customdata[3]}<br>study_id=%{customdata[4]}<br>pmid=%{customdata[5]}<extra></extra>",
         "legendgroup": "cardiovascular disease",
         "marker": {
          "color": "#EF553B",
          "symbol": "circle"
         },
         "mode": "markers",
         "name": "cardiovascular disease",
         "orientation": "v",
         "showlegend": true,
         "type": "scatter",
         "x": [
          "Abdominal aortic aneurysm",
          "Dilated cardiomyopathy (MTAG)",
          "Cardiovascular disease",
          "Hypertrophic cardiomyopathy (sarcomere negative)",
          "Antihypertensive medication - note that there are other indications",
          "Coronary artery disease",
          "Atrial fibrillation",
          "Heart failure",
          "Cardiac arrhytmias",
          "Ischaemic heart disease, wide definition",
          "Migraine",
          "Myocardial infarction",
          "Haemorrhoidal disease"
         ],
         "xaxis": "x",
         "y": [
          1.6962765740490229,
          1.3562540193863586,
          0.8917446976405934,
          0.8717943873810217,
          0.8281283062075069,
          0.736612233294601,
          0.7024529409853294,
          0.600837303625428,
          0.3276093290721635,
          0.28873726076138856,
          0.25590531345049344,
          0.08679394018522071,
          0.06944754293925572
         ],
         "yaxis": "y"
        },
        {
         "customdata": [
          [
           19,
           "cell proliferation disorder",
           0.0153788714617108,
           "SCARB1;EPAS1",
           "GCST004710",
           "PMID:28598434"
          ],
          [
           19,
           "cell proliferation disorder",
           0.0234350473829585,
           "CDKN1A;LPIN1;DDR2",
           "SAIGE_728_71",
           null
          ],
          [
           19,
           "cell proliferation disorder",
           0.2061550439296068,
           "RNASET2",
           "GCST004748",
           "PMID:28604730"
          ],
          [
           19,
           "cell proliferation disorder",
           0.447500965440971,
           "CDKN1A;TOX2",
           "GCST007992",
           "PMID:31089142"
          ],
          [
           19,
           "cell proliferation disorder",
           0.4547717929717223,
           "GJC1",
           "FINNGEN_R6_C3_MALE_GENITAL",
           null
          ],
          [
           19,
           "cell proliferation disorder",
           0.4547717929717223,
           "GJC1",
           "FINNGEN_R6_C3_MALE_GENITAL_EXALLC",
           null
          ],
          [
           19,
           "cell proliferation disorder",
           0.5282084219701223,
           "RNASET2",
           "SAIGE_172",
           null
          ],
          [
           19,
           "cell proliferation disorder",
           0.5547466477670275,
           "ID3",
           "GCST004146",
           "PMID:28165464"
          ],
          [
           19,
           "cell proliferation disorder",
           0.5547466477670275,
           "IL21R",
           "GCST90061442",
           "PMID:34033851"
          ],
          [
           19,
           "cell proliferation disorder",
           0.6364585961150973,
           "RNASET2",
           "GCST90027058",
           "PMID:34290314"
          ],
          [
           19,
           "cell proliferation disorder",
           0.777992860371213,
           "RNASET2",
           "GCST008871",
           "PMID:31174203"
          ],
          [
           19,
           "cell proliferation disorder",
           0.9121531895652748,
           "GLI2;VEGFA",
           "GCST011049",
           "PMID:33398198"
          ],
          [
           19,
           "cell proliferation disorder",
           0.926577614570827,
           "TGFBR2",
           "GCST90090980",
           "PMID:32139696"
          ]
         ],
         "hovertemplate": "trait_category=%{customdata[1]}<br>trait_reported=%{x}<br>-log10(p-value)=%{y}<br>program_name=%{customdata[0]}<br>P-value=%{customdata[2]}<br>Genes=%{customdata[3]}<br>study_id=%{customdata[4]}<br>pmid=%{customdata[5]}<extra></extra>",
         "legendgroup": "cell proliferation disorder",
         "marker": {
          "color": "#00cc96",
          "symbol": "circle"
         },
         "mode": "markers",
         "name": "cell proliferation disorder",
         "orientation": "v",
         "showlegend": true,
         "type": "scatter",
         "x": [
          "Renal cell carcinoma",
          "Contracture of palmar fascia [dupuytren's disease]",
          "Lung cancer",
          "Colorectal cancer",
          "malignant neoplasm of male genital organs",
          "malignant neoplasm of male genital organs (controls excluding all cancers)",
          "Skin cancer",
          "Chronic lymphocytic leukemia",
          "Primary biliary cholangitis",
          "Non-melanoma skin cancer",
          "Basal cell carcinoma",
          "Prostate cancer",
          "Breast cancer"
         ],
         "xaxis": "x",
         "y": [
          1.8130755329308288,
          1.6301341640496123,
          0.6858060349882722,
          0.3492060233978256,
          0.3422064800806736,
          0.3422064800806736,
          0.27719467850586216,
          0.25590531345049344,
          0.25590531345049344,
          0.1962298434849674,
          0.10902438850595701,
          0.0399322189128057,
          0.03311819623927466
         ],
         "yaxis": "y"
        },
        {
         "customdata": [
          [
           19,
           "disease of visual system",
           0.1094421927674374,
           "MMAB;MVK",
           "GCST90018814",
           "PMID:34594039"
          ],
          [
           19,
           "disease of visual system",
           0.3514897829027668,
           "VEGFA",
           "GCST001884",
           "PMID:23455636"
          ],
          [
           19,
           "disease of visual system",
           0.3519476214627181,
           "PTPN1;NPC2;PCSK5",
           "GCST009722",
           "PMID:31959993"
          ],
          [
           19,
           "disease of visual system",
           0.3879164909650702,
           "MMAB",
           "FINNGEN_R6_H7_LENS",
           null
          ],
          [
           19,
           "disease of visual system",
           0.6901679744939967,
           "LIPG;NPC2;ETNK1",
           "GCST010378",
           "PMID:32352494"
          ],
          [
           19,
           "disease of visual system",
           0.7714508248878551,
           "LTBP2",
           "GCST90011770",
           "PMID:33627673"
          ]
         ],
         "hovertemplate": "trait_category=%{customdata[1]}<br>trait_reported=%{x}<br>-log10(p-value)=%{y}<br>program_name=%{customdata[0]}<br>P-value=%{customdata[2]}<br>Genes=%{customdata[3]}<br>study_id=%{customdata[4]}<br>pmid=%{customdata[5]}<extra></extra>",
         "legendgroup": "disease of visual system",
         "marker": {
          "color": "#ab63fa",
          "symbol": "circle"
         },
         "mode": "markers",
         "name": "disease of visual system",
         "orientation": "v",
         "showlegend": true,
         "type": "scatter",
         "x": [
          "Cataracts",
          "Age-related macular degeneration",
          "Glaucoma (multi-trait analysis)",
          "Disorders of lens",
          "Spherical equivalent",
          "Glaucoma (primary open-angle)"
         ],
         "xaxis": "x",
         "y": [
          0.9608152140773768,
          0.4540872945230746,
          0.45352196550578805,
          0.4112617574381072,
          0.1610451969182307,
          0.11269175224569011
         ],
         "yaxis": "y"
        },
        {
         "customdata": [
          [
           19,
           "endocrine system disease",
           0.1376238528655774,
           "BHLHE40;RAB2A;IFITM2;RNASET2",
           "GCST010571",
           "PMID:32581359"
          ],
          [
           19,
           "endocrine system disease",
           0.2061550439296068,
           "RNASET2",
           "GCST90018860",
           "PMID:34594039"
          ],
          [
           19,
           "endocrine system disease",
           0.5172427184455903,
           "BHLHE40;RAB2A;RNASET2",
           "GCST007073",
           "PMID:30595370"
          ],
          [
           19,
           "endocrine system disease",
           0.6569316374263021,
           "VEGFA",
           "FINNGEN_R6_E4_THYROID",
           null
          ],
          [
           19,
           "endocrine system disease",
           0.7843484737352562,
           "VEGFA",
           "FINNGEN_R6_E4_HYTHY_AI_STRICT_PURCH",
           null
          ]
         ],
         "hovertemplate": "trait_category=%{customdata[1]}<br>trait_reported=%{x}<br>-log10(p-value)=%{y}<br>program_name=%{customdata[0]}<br>P-value=%{customdata[2]}<br>Genes=%{customdata[3]}<br>study_id=%{customdata[4]}<br>pmid=%{customdata[5]}<extra></extra>",
         "legendgroup": "endocrine system disease",
         "marker": {
          "color": "#FFA15A",
          "symbol": "circle"
         },
         "mode": "markers",
         "name": "endocrine system disease",
         "orientation": "v",
         "showlegend": true,
         "type": "scatter",
         "x": [
          "Autoimmune thyroid disease",
          "Hyperthyroidism",
          "Hypothyroidism",
          "Disorders of the thyroid gland",
          "Hypothyroidism, strict autoimmune, 3 medication purchases required"
         ],
         "xaxis": "x",
         "y": [
          0.8613062879746043,
          0.6858060349882722,
          0.28630561445857156,
          0.1824798222716765,
          0.10549094420805395
         ],
         "yaxis": "y"
        },
        {
         "customdata": [
          [
           19,
           "gastrointestinal disease",
           0.2199576104207486,
           "SMIM29;VEGFA",
           "GCST90094908",
           "PMID:35047847"
          ],
          [
           19,
           "gastrointestinal disease",
           0.2287500538282526,
           "IL21R",
           "FINNGEN_R6_RX_CROHN_2NDLINE",
           null
          ],
          [
           19,
           "gastrointestinal disease",
           0.2287500538282526,
           "NAV3",
           "FINNGEN_R6_ABDOM_HERNIA",
           null
          ],
          [
           19,
           "gastrointestinal disease",
           0.3879164909650702,
           "ANPEP",
           "GCST007209",
           "PMID:30504769"
          ],
          [
           19,
           "gastrointestinal disease",
           0.5282084219701223,
           "PCSK5",
           "GCST006479",
           "PMID:30177863"
          ],
          [
           19,
           "gastrointestinal disease",
           0.5797985937087958,
           "PNPLA3",
           "GCST90018819",
           "PMID:34594039"
          ],
          [
           19,
           "gastrointestinal disease",
           0.6823013749557024,
           "TSPAN14;PDGFB",
           "GCST004131",
           "PMID:28067908"
          ]
         ],
         "hovertemplate": "trait_category=%{customdata[1]}<br>trait_reported=%{x}<br>-log10(p-value)=%{y}<br>program_name=%{customdata[0]}<br>P-value=%{customdata[2]}<br>Genes=%{customdata[3]}<br>study_id=%{customdata[4]}<br>pmid=%{customdata[5]}<extra></extra>",
         "legendgroup": "gastrointestinal disease",
         "marker": {
          "color": "#19d3f3",
          "symbol": "circle"
         },
         "mode": "markers",
         "name": "gastrointestinal disease",
         "orientation": "v",
         "showlegend": true,
         "type": "scatter",
         "x": [
          "Nonalcoholic fatty liver disease (imputed)",
          "Second line medication for Crohns disease",
          "Hernia of abodminal wall",
          "Gallstone disease",
          "Diverticular disease",
          "Cholelithiasis",
          "Inflammatory bowel disease"
         ],
         "xaxis": "x",
         "y": [
          0.6576610070603534,
          0.640638795065622,
          0.640638795065622,
          0.4112617574381072,
          0.27719467850586216,
          0.23672284235330593,
          0.16602375354044738
         ],
         "yaxis": "y"
        },
        {
         "customdata": [
          [
           19,
           "genetic, familial or congenital disease",
           0.056061017525612,
           "GNAS",
           "GCST007916",
           "PMID:29124443"
          ]
         ],
         "hovertemplate": "trait_category=%{customdata[1]}<br>trait_reported=%{x}<br>-log10(p-value)=%{y}<br>program_name=%{customdata[0]}<br>P-value=%{customdata[2]}<br>Genes=%{customdata[3]}<br>study_id=%{customdata[4]}<br>pmid=%{customdata[5]}<extra></extra>",
         "legendgroup": "genetic, familial or congenital disease",
         "marker": {
          "color": "#FF6692",
          "symbol": "circle"
         },
         "mode": "markers",
         "name": "genetic, familial or congenital disease",
         "orientation": "v",
         "showlegend": true,
         "type": "scatter",
         "x": [
          "Hyperuricemia"
         ],
         "xaxis": "x",
         "y": [
          1.251339023918792
         ],
         "yaxis": "y"
        },
        {
         "customdata": [
          [
           19,
           "immune system disease",
           0.1569286846215245,
           "SYPL1;UBASH3B;MTHFR;TOX2;RRAS2;BCL10",
           "GCST009597",
           "PMID:31604244"
          ],
          [
           19,
           "immune system disease",
           0.7647169252273888,
           "RNASET2",
           "GCST007071",
           "PMID:30595370"
          ]
         ],
         "hovertemplate": "trait_category=%{customdata[1]}<br>trait_reported=%{x}<br>-log10(p-value)=%{y}<br>program_name=%{customdata[0]}<br>P-value=%{customdata[2]}<br>Genes=%{customdata[3]}<br>study_id=%{customdata[4]}<br>pmid=%{customdata[5]}<extra></extra>",
         "legendgroup": "immune system disease",
         "marker": {
          "color": "#B6E880",
          "symbol": "circle"
         },
         "mode": "markers",
         "name": "immune system disease",
         "orientation": "v",
         "showlegend": true,
         "type": "scatter",
         "x": [
          "Multiple sclerosis",
          "Autoimmune traits"
         ],
         "xaxis": "x",
         "y": [
          0.8042976655001944,
          0.11649929760822468
         ],
         "yaxis": "y"
        },
        {
         "customdata": [
          [
           19,
           "integumentary system disease",
           0.2942593684198209,
           "PTPN1;RNASET2",
           "GCST004785",
           "PMID:27723757"
          ],
          [
           19,
           "integumentary system disease",
           0.5547466477670275,
           "CCDC80",
           "GCST90086149",
           "PMID:34116867"
          ],
          [
           19,
           "integumentary system disease",
           0.5917932931517309,
           "PNPLA3",
           "GCST90092000",
           "PMID:35132056"
          ]
         ],
         "hovertemplate": "trait_category=%{customdata[1]}<br>trait_reported=%{x}<br>-log10(p-value)=%{y}<br>program_name=%{customdata[0]}<br>P-value=%{customdata[2]}<br>Genes=%{customdata[3]}<br>study_id=%{customdata[4]}<br>pmid=%{customdata[5]}<extra></extra>",
         "legendgroup": "integumentary system disease",
         "marker": {
          "color": "#FF97FF",
          "symbol": "circle"
         },
         "mode": "markers",
         "name": "integumentary system disease",
         "orientation": "v",
         "showlegend": true,
         "type": "scatter",
         "x": [
          "Vitiligo",
          "Atopic dermatitis",
          "acne vulgaris"
         ],
         "xaxis": "x",
         "y": [
          0.5312697015065693,
          0.25590531345049344,
          0.22782996104713193
         ],
         "yaxis": "y"
        },
        {
         "customdata": [
          [
           19,
           "musculoskeletal or connective tissue disease",
           0.1380296513827923,
           "MLXIP;PNPLA3",
           "GCST012338",
           "PMID:33832965"
          ],
          [
           19,
           "musculoskeletal or connective tissue disease",
           0.2507048273189083,
           "PLXNA2",
           "GCST008789",
           "PMID:31417091"
          ],
          [
           19,
           "musculoskeletal or connective tissue disease",
           0.4223060168318421,
           "DDR2",
           "GCST004858",
           "PMID:28886342"
          ]
         ],
         "hovertemplate": "trait_category=%{customdata[1]}<br>trait_reported=%{x}<br>-log10(p-value)=%{y}<br>program_name=%{customdata[0]}<br>P-value=%{customdata[2]}<br>Genes=%{customdata[3]}<br>study_id=%{customdata[4]}<br>pmid=%{customdata[5]}<extra></extra>",
         "legendgroup": "musculoskeletal or connective tissue disease",
         "marker": {
          "color": "#FECB52",
          "symbol": "circle"
         },
         "mode": "markers",
         "name": "musculoskeletal or connective tissue disease",
         "orientation": "v",
         "showlegend": true,
         "type": "scatter",
         "x": [
          "Gout",
          "Adolescent idiopathic scoliosis",
          "Dupuytren's disease"
         ],
         "xaxis": "x",
         "y": [
          0.8600276088982539,
          0.600837303625428,
          0.3743727308927516
         ],
         "yaxis": "y"
        },
        {
         "customdata": [
          [
           19,
           "nervous system disease",
           0.2287500538282526,
           "ATP2C1",
           "GCST005042",
           "PMID:29029846"
          ],
          [
           19,
           "nervous system disease",
           0.2942593684198209,
           "NUCKS1;SNCA",
           "GCST004902",
           "PMID:28892059"
          ],
          [
           19,
           "nervous system disease",
           0.2942593684198209,
           "NUCKS1;SNCA",
           "GCST010991",
           "PMID:32201043"
          ],
          [
           19,
           "nervous system disease",
           0.5155063301890639,
           "NUCKS1;TCF20;LONRF1;PLXNA2;DUSP6;NFIB;HSD17B12;MTFR1;PTPRN2",
           "GCST90061435",
           "PMID:34446935"
          ],
          [
           19,
           "nervous system disease",
           0.5416686865549875,
           "DUSP6",
           "GCST90016618",
           "PMID:33686288"
          ],
          [
           19,
           "nervous system disease",
           0.6855089857015289,
           "SLC7A11",
           "GCST010017",
           "PMID:32231276"
          ],
          [
           19,
           "nervous system disease",
           0.6944979938815563,
           "NRDC",
           "GCST012090",
           "PMID:33479212"
          ]
         ],
         "hovertemplate": "trait_category=%{customdata[1]}<br>trait_reported=%{x}<br>-log10(p-value)=%{y}<br>program_name=%{customdata[0]}<br>P-value=%{customdata[2]}<br>Genes=%{customdata[3]}<br>study_id=%{customdata[4]}<br>pmid=%{customdata[5]}<extra></extra>",
         "legendgroup": "nervous system disease",
         "marker": {
          "color": "#636efa",
          "symbol": "circle"
         },
         "mode": "markers",
         "name": "nervous system disease",
         "orientation": "v",
         "showlegend": true,
         "type": "scatter",
         "x": [
          "Restless legs syndrome",
          "Parkinson's disease",
          "Parkinson's disease",
          "Externalizing behaviour (multivariate analysis)",
          "Schizophrenia vs ADHD (ordinary least squares (OLS))",
          "Neuroticism",
          "Major depressive disorder (MTAG)"
         ],
         "xaxis": "x",
         "y": [
          0.640638795065622,
          0.5312697015065693,
          0.5312697015065693,
          0.28776599740413,
          0.2662662699129855,
          0.16398684807357408,
          0.15832900442230294
         ],
         "yaxis": "y"
        },
        {
         "customdata": [
          [
           19,
           "pancreas disease",
           0.7506509700484338,
           "GLI2",
           "GCST007077",
           "PMID:30595370"
          ]
         ],
         "hovertemplate": "trait_category=%{customdata[1]}<br>trait_reported=%{x}<br>-log10(p-value)=%{y}<br>program_name=%{customdata[0]}<br>P-value=%{customdata[2]}<br>Genes=%{customdata[3]}<br>study_id=%{customdata[4]}<br>pmid=%{customdata[5]}<extra></extra>",
         "legendgroup": "pancreas disease",
         "marker": {
          "color": "#EF553B",
          "symbol": "circle"
         },
         "mode": "markers",
         "name": "pancreas disease",
         "orientation": "v",
         "showlegend": true,
         "type": "scatter",
         "x": [
          "Type 2 diabetes"
         ],
         "xaxis": "x",
         "y": [
          0.12456194983603248
         ],
         "yaxis": "y"
        },
        {
         "customdata": [
          [
           19,
           "phenotype",
           0.008688541686716,
           "LDLR;IRF2BP2;HMGCR;LIPG;SCARB1;VEGFA",
           "GCST90038690",
           "PMID:33959723"
          ],
          [
           19,
           "phenotype",
           0.1343400831032873,
           "DYSF",
           "FINNGEN_R6_M13_HALLUXVALGUS",
           null
          ],
          [
           19,
           "phenotype",
           0.1782415427636318,
           "NAV3;PTPRN2",
           "GCST001712",
           "PMID:23049088"
          ],
          [
           19,
           "phenotype",
           0.2061550439296068,
           "NUCKS1",
           "NEALE2_2257",
           null
          ],
          [
           19,
           "phenotype",
           0.3049145941394633,
           "UBC;SCD;RAB32",
           "NEALE2_1717",
           null
          ],
          [
           19,
           "phenotype",
           0.3514897829027668,
           "MMAB",
           "FINNGEN_R6_H7_CATARACTSENILE",
           null
          ],
          [
           19,
           "phenotype",
           0.4387725338878636,
           "LPIN1",
           "SAIGE_728_7",
           null
          ],
          [
           19,
           "phenotype",
           0.4387725338878636,
           "RAB3C",
           "FINNGEN_R6_K11_HERNIA",
           null
          ],
          [
           19,
           "phenotype",
           0.4854209635556349,
           "TUBA1A",
           "GCST90013421",
           "PMID:32989287"
          ],
          [
           19,
           "phenotype",
           0.5917932931517309,
           "HSD17B12",
           "GCST008512",
           "PMID:31194737"
          ],
          [
           19,
           "phenotype",
           0.5917932931517309,
           "HSD17B12",
           "GCST012332",
           "PMID:33830993"
          ],
          [
           19,
           "phenotype",
           0.6762567419240386,
           "CPNE3",
           "GCST90018939",
           "PMID:34594039"
          ],
          [
           19,
           "phenotype",
           0.7012900333459319,
           "AKAP12;CDC42BPA",
           "GCST006988",
           "PMID:30531825"
          ],
          [
           19,
           "phenotype",
           0.9414579808611644,
           "VEGFA;NPC2;TOX2;RRAS2;FRY",
           "GCST010002",
           "PMID:32231278"
          ]
         ],
         "hovertemplate": "trait_category=%{customdata[1]}<br>trait_reported=%{x}<br>-log10(p-value)=%{y}<br>program_name=%{customdata[0]}<br>P-value=%{customdata[2]}<br>Genes=%{customdata[3]}<br>study_id=%{customdata[4]}<br>pmid=%{customdata[5]}<extra></extra>",
         "legendgroup": "phenotype",
         "marker": {
          "color": "#00cc96",
          "symbol": "circle"
         },
         "mode": "markers",
         "name": "phenotype",
         "orientation": "v",
         "showlegend": true,
         "type": "scatter",
         "x": [
          "High cholesterol",
          "Hallux valgus (acquired)",
          "Myopia (pathological)",
          "Hearing difficulty/problems with background noise",
          "Skin colour",
          "Senile cataract",
          "Fasciitis",
          "Hernia",
          "Left-handedness",
          "Multisite chronic pain",
          "Multisite chronic pain",
          "Varicose veins",
          "Blond vs. brown/black hair color",
          "Refractive error"
         ],
         "xaxis": "x",
         "y": [
          2.0610531108424572,
          0.8717943873810217,
          0.7489910674689295,
          0.6858060349882722,
          0.5158217884829206,
          0.4540872945230746,
          0.3577605660432619,
          0.3577605660432619,
          0.313881472009155,
          0.22782996104713193,
          0.22782996104713193,
          0.16988839217622498,
          0.15410233320106417,
          0.026199058639734853
         ],
         "yaxis": "y"
        },
        {
         "customdata": [
          [
           19,
           "respiratory or thoracic disease",
           0.2927653966471928,
           "IL21R",
           "FINNGEN_R6_ILD_ENDPOINTS",
           null
          ],
          [
           19,
           "respiratory or thoracic disease",
           0.4945157231297057,
           "THSD4;PRSS23",
           "GCST007692",
           "PMID:30804561"
          ],
          [
           19,
           "respiratory or thoracic disease",
           0.8684627092415388,
           "FADS2",
           "GCST007076",
           "PMID:30595370"
          ]
         ],
         "hovertemplate": "trait_category=%{customdata[1]}<br>trait_reported=%{x}<br>-log10(p-value)=%{y}<br>program_name=%{customdata[0]}<br>P-value=%{customdata[2]}<br>Genes=%{customdata[3]}<br>study_id=%{customdata[4]}<br>pmid=%{customdata[5]}<extra></extra>",
         "legendgroup": "respiratory or thoracic disease",
         "marker": {
          "color": "#ab63fa",
          "symbol": "circle"
         },
         "mode": "markers",
         "name": "respiratory or thoracic disease",
         "orientation": "v",
         "showlegend": true,
         "type": "scatter",
         "x": [
          "Interstitial lung disease endpoints",
          "Chronic obstructive pulmonary disease",
          "Respiratory diseases"
         ],
         "xaxis": "x",
         "y": [
          0.5334802559376316,
          0.30581989545221594,
          0.06124882490637182
         ],
         "yaxis": "y"
        },
        {
         "customdata": [
          [
           19,
           "urinary system disease",
           0.3514897829027668,
           "VEGFA",
           "GCST000649_3",
           "PMID:20383146"
          ]
         ],
         "hovertemplate": "trait_category=%{customdata[1]}<br>trait_reported=%{x}<br>-log10(p-value)=%{y}<br>program_name=%{customdata[0]}<br>P-value=%{customdata[2]}<br>Genes=%{customdata[3]}<br>study_id=%{customdata[4]}<br>pmid=%{customdata[5]}<extra></extra>",
         "legendgroup": "urinary system disease",
         "marker": {
          "color": "#FFA15A",
          "symbol": "circle"
         },
         "mode": "markers",
         "name": "urinary system disease",
         "orientation": "v",
         "showlegend": true,
         "type": "scatter",
         "x": [
          "Chronic kidney disease [eGFRcrea]"
         ],
         "xaxis": "x",
         "y": [
          0.4540872945230746
         ],
         "yaxis": "y"
        }
       ],
       "layout": {
        "annotations": [
         {
          "showarrow": false,
          "text": "Significance Threshold (0.05)",
          "x": 1,
          "xanchor": "right",
          "xref": "x domain",
          "y": 1.3010299956639813,
          "yanchor": "bottom",
          "yref": "y"
         }
        ],
        "height": 800,
        "legend": {
         "title": {
          "text": "trait_category"
         },
         "tracegroupgap": 0
        },
        "shapes": [
         {
          "line": {
           "dash": "dash"
          },
          "type": "line",
          "x0": 0,
          "x1": 1,
          "xref": "x domain",
          "y0": 1.3010299956639813,
          "y1": 1.3010299956639813,
          "yref": "y"
         }
        ],
        "template": {
         "data": {
          "bar": [
           {
            "error_x": {
             "color": "#2a3f5f"
            },
            "error_y": {
             "color": "#2a3f5f"
            },
            "marker": {
             "line": {
              "color": "#E5ECF6",
              "width": 0.5
             },
             "pattern": {
              "fillmode": "overlay",
              "size": 10,
              "solidity": 0.2
             }
            },
            "type": "bar"
           }
          ],
          "barpolar": [
           {
            "marker": {
             "line": {
              "color": "#E5ECF6",
              "width": 0.5
             },
             "pattern": {
              "fillmode": "overlay",
              "size": 10,
              "solidity": 0.2
             }
            },
            "type": "barpolar"
           }
          ],
          "carpet": [
           {
            "aaxis": {
             "endlinecolor": "#2a3f5f",
             "gridcolor": "white",
             "linecolor": "white",
             "minorgridcolor": "white",
             "startlinecolor": "#2a3f5f"
            },
            "baxis": {
             "endlinecolor": "#2a3f5f",
             "gridcolor": "white",
             "linecolor": "white",
             "minorgridcolor": "white",
             "startlinecolor": "#2a3f5f"
            },
            "type": "carpet"
           }
          ],
          "choropleth": [
           {
            "colorbar": {
             "outlinewidth": 0,
             "ticks": ""
            },
            "type": "choropleth"
           }
          ],
          "contour": [
           {
            "colorbar": {
             "outlinewidth": 0,
             "ticks": ""
            },
            "colorscale": [
             [
              0,
              "#0d0887"
             ],
             [
              0.1111111111111111,
              "#46039f"
             ],
             [
              0.2222222222222222,
              "#7201a8"
             ],
             [
              0.3333333333333333,
              "#9c179e"
             ],
             [
              0.4444444444444444,
              "#bd3786"
             ],
             [
              0.5555555555555556,
              "#d8576b"
             ],
             [
              0.6666666666666666,
              "#ed7953"
             ],
             [
              0.7777777777777778,
              "#fb9f3a"
             ],
             [
              0.8888888888888888,
              "#fdca26"
             ],
             [
              1,
              "#f0f921"
             ]
            ],
            "type": "contour"
           }
          ],
          "contourcarpet": [
           {
            "colorbar": {
             "outlinewidth": 0,
             "ticks": ""
            },
            "type": "contourcarpet"
           }
          ],
          "heatmap": [
           {
            "colorbar": {
             "outlinewidth": 0,
             "ticks": ""
            },
            "colorscale": [
             [
              0,
              "#0d0887"
             ],
             [
              0.1111111111111111,
              "#46039f"
             ],
             [
              0.2222222222222222,
              "#7201a8"
             ],
             [
              0.3333333333333333,
              "#9c179e"
             ],
             [
              0.4444444444444444,
              "#bd3786"
             ],
             [
              0.5555555555555556,
              "#d8576b"
             ],
             [
              0.6666666666666666,
              "#ed7953"
             ],
             [
              0.7777777777777778,
              "#fb9f3a"
             ],
             [
              0.8888888888888888,
              "#fdca26"
             ],
             [
              1,
              "#f0f921"
             ]
            ],
            "type": "heatmap"
           }
          ],
          "heatmapgl": [
           {
            "colorbar": {
             "outlinewidth": 0,
             "ticks": ""
            },
            "colorscale": [
             [
              0,
              "#0d0887"
             ],
             [
              0.1111111111111111,
              "#46039f"
             ],
             [
              0.2222222222222222,
              "#7201a8"
             ],
             [
              0.3333333333333333,
              "#9c179e"
             ],
             [
              0.4444444444444444,
              "#bd3786"
             ],
             [
              0.5555555555555556,
              "#d8576b"
             ],
             [
              0.6666666666666666,
              "#ed7953"
             ],
             [
              0.7777777777777778,
              "#fb9f3a"
             ],
             [
              0.8888888888888888,
              "#fdca26"
             ],
             [
              1,
              "#f0f921"
             ]
            ],
            "type": "heatmapgl"
           }
          ],
          "histogram": [
           {
            "marker": {
             "pattern": {
              "fillmode": "overlay",
              "size": 10,
              "solidity": 0.2
             }
            },
            "type": "histogram"
           }
          ],
          "histogram2d": [
           {
            "colorbar": {
             "outlinewidth": 0,
             "ticks": ""
            },
            "colorscale": [
             [
              0,
              "#0d0887"
             ],
             [
              0.1111111111111111,
              "#46039f"
             ],
             [
              0.2222222222222222,
              "#7201a8"
             ],
             [
              0.3333333333333333,
              "#9c179e"
             ],
             [
              0.4444444444444444,
              "#bd3786"
             ],
             [
              0.5555555555555556,
              "#d8576b"
             ],
             [
              0.6666666666666666,
              "#ed7953"
             ],
             [
              0.7777777777777778,
              "#fb9f3a"
             ],
             [
              0.8888888888888888,
              "#fdca26"
             ],
             [
              1,
              "#f0f921"
             ]
            ],
            "type": "histogram2d"
           }
          ],
          "histogram2dcontour": [
           {
            "colorbar": {
             "outlinewidth": 0,
             "ticks": ""
            },
            "colorscale": [
             [
              0,
              "#0d0887"
             ],
             [
              0.1111111111111111,
              "#46039f"
             ],
             [
              0.2222222222222222,
              "#7201a8"
             ],
             [
              0.3333333333333333,
              "#9c179e"
             ],
             [
              0.4444444444444444,
              "#bd3786"
             ],
             [
              0.5555555555555556,
              "#d8576b"
             ],
             [
              0.6666666666666666,
              "#ed7953"
             ],
             [
              0.7777777777777778,
              "#fb9f3a"
             ],
             [
              0.8888888888888888,
              "#fdca26"
             ],
             [
              1,
              "#f0f921"
             ]
            ],
            "type": "histogram2dcontour"
           }
          ],
          "mesh3d": [
           {
            "colorbar": {
             "outlinewidth": 0,
             "ticks": ""
            },
            "type": "mesh3d"
           }
          ],
          "parcoords": [
           {
            "line": {
             "colorbar": {
              "outlinewidth": 0,
              "ticks": ""
             }
            },
            "type": "parcoords"
           }
          ],
          "pie": [
           {
            "automargin": true,
            "type": "pie"
           }
          ],
          "scatter": [
           {
            "fillpattern": {
             "fillmode": "overlay",
             "size": 10,
             "solidity": 0.2
            },
            "type": "scatter"
           }
          ],
          "scatter3d": [
           {
            "line": {
             "colorbar": {
              "outlinewidth": 0,
              "ticks": ""
             }
            },
            "marker": {
             "colorbar": {
              "outlinewidth": 0,
              "ticks": ""
             }
            },
            "type": "scatter3d"
           }
          ],
          "scattercarpet": [
           {
            "marker": {
             "colorbar": {
              "outlinewidth": 0,
              "ticks": ""
             }
            },
            "type": "scattercarpet"
           }
          ],
          "scattergeo": [
           {
            "marker": {
             "colorbar": {
              "outlinewidth": 0,
              "ticks": ""
             }
            },
            "type": "scattergeo"
           }
          ],
          "scattergl": [
           {
            "marker": {
             "colorbar": {
              "outlinewidth": 0,
              "ticks": ""
             }
            },
            "type": "scattergl"
           }
          ],
          "scattermapbox": [
           {
            "marker": {
             "colorbar": {
              "outlinewidth": 0,
              "ticks": ""
             }
            },
            "type": "scattermapbox"
           }
          ],
          "scatterpolar": [
           {
            "marker": {
             "colorbar": {
              "outlinewidth": 0,
              "ticks": ""
             }
            },
            "type": "scatterpolar"
           }
          ],
          "scatterpolargl": [
           {
            "marker": {
             "colorbar": {
              "outlinewidth": 0,
              "ticks": ""
             }
            },
            "type": "scatterpolargl"
           }
          ],
          "scatterternary": [
           {
            "marker": {
             "colorbar": {
              "outlinewidth": 0,
              "ticks": ""
             }
            },
            "type": "scatterternary"
           }
          ],
          "surface": [
           {
            "colorbar": {
             "outlinewidth": 0,
             "ticks": ""
            },
            "colorscale": [
             [
              0,
              "#0d0887"
             ],
             [
              0.1111111111111111,
              "#46039f"
             ],
             [
              0.2222222222222222,
              "#7201a8"
             ],
             [
              0.3333333333333333,
              "#9c179e"
             ],
             [
              0.4444444444444444,
              "#bd3786"
             ],
             [
              0.5555555555555556,
              "#d8576b"
             ],
             [
              0.6666666666666666,
              "#ed7953"
             ],
             [
              0.7777777777777778,
              "#fb9f3a"
             ],
             [
              0.8888888888888888,
              "#fdca26"
             ],
             [
              1,
              "#f0f921"
             ]
            ],
            "type": "surface"
           }
          ],
          "table": [
           {
            "cells": {
             "fill": {
              "color": "#EBF0F8"
             },
             "line": {
              "color": "white"
             }
            },
            "header": {
             "fill": {
              "color": "#C8D4E3"
             },
             "line": {
              "color": "white"
             }
            },
            "type": "table"
           }
          ]
         },
         "layout": {
          "annotationdefaults": {
           "arrowcolor": "#2a3f5f",
           "arrowhead": 0,
           "arrowwidth": 1
          },
          "autotypenumbers": "strict",
          "coloraxis": {
           "colorbar": {
            "outlinewidth": 0,
            "ticks": ""
           }
          },
          "colorscale": {
           "diverging": [
            [
             0,
             "#8e0152"
            ],
            [
             0.1,
             "#c51b7d"
            ],
            [
             0.2,
             "#de77ae"
            ],
            [
             0.3,
             "#f1b6da"
            ],
            [
             0.4,
             "#fde0ef"
            ],
            [
             0.5,
             "#f7f7f7"
            ],
            [
             0.6,
             "#e6f5d0"
            ],
            [
             0.7,
             "#b8e186"
            ],
            [
             0.8,
             "#7fbc41"
            ],
            [
             0.9,
             "#4d9221"
            ],
            [
             1,
             "#276419"
            ]
           ],
           "sequential": [
            [
             0,
             "#0d0887"
            ],
            [
             0.1111111111111111,
             "#46039f"
            ],
            [
             0.2222222222222222,
             "#7201a8"
            ],
            [
             0.3333333333333333,
             "#9c179e"
            ],
            [
             0.4444444444444444,
             "#bd3786"
            ],
            [
             0.5555555555555556,
             "#d8576b"
            ],
            [
             0.6666666666666666,
             "#ed7953"
            ],
            [
             0.7777777777777778,
             "#fb9f3a"
            ],
            [
             0.8888888888888888,
             "#fdca26"
            ],
            [
             1,
             "#f0f921"
            ]
           ],
           "sequentialminus": [
            [
             0,
             "#0d0887"
            ],
            [
             0.1111111111111111,
             "#46039f"
            ],
            [
             0.2222222222222222,
             "#7201a8"
            ],
            [
             0.3333333333333333,
             "#9c179e"
            ],
            [
             0.4444444444444444,
             "#bd3786"
            ],
            [
             0.5555555555555556,
             "#d8576b"
            ],
            [
             0.6666666666666666,
             "#ed7953"
            ],
            [
             0.7777777777777778,
             "#fb9f3a"
            ],
            [
             0.8888888888888888,
             "#fdca26"
            ],
            [
             1,
             "#f0f921"
            ]
           ]
          },
          "colorway": [
           "#636efa",
           "#EF553B",
           "#00cc96",
           "#ab63fa",
           "#FFA15A",
           "#19d3f3",
           "#FF6692",
           "#B6E880",
           "#FF97FF",
           "#FECB52"
          ],
          "font": {
           "color": "#2a3f5f"
          },
          "geo": {
           "bgcolor": "white",
           "lakecolor": "white",
           "landcolor": "#E5ECF6",
           "showlakes": true,
           "showland": true,
           "subunitcolor": "white"
          },
          "hoverlabel": {
           "align": "left"
          },
          "hovermode": "closest",
          "mapbox": {
           "style": "light"
          },
          "paper_bgcolor": "white",
          "plot_bgcolor": "#E5ECF6",
          "polar": {
           "angularaxis": {
            "gridcolor": "white",
            "linecolor": "white",
            "ticks": ""
           },
           "bgcolor": "#E5ECF6",
           "radialaxis": {
            "gridcolor": "white",
            "linecolor": "white",
            "ticks": ""
           }
          },
          "scene": {
           "xaxis": {
            "backgroundcolor": "#E5ECF6",
            "gridcolor": "white",
            "gridwidth": 2,
            "linecolor": "white",
            "showbackground": true,
            "ticks": "",
            "zerolinecolor": "white"
           },
           "yaxis": {
            "backgroundcolor": "#E5ECF6",
            "gridcolor": "white",
            "gridwidth": 2,
            "linecolor": "white",
            "showbackground": true,
            "ticks": "",
            "zerolinecolor": "white"
           },
           "zaxis": {
            "backgroundcolor": "#E5ECF6",
            "gridcolor": "white",
            "gridwidth": 2,
            "linecolor": "white",
            "showbackground": true,
            "ticks": "",
            "zerolinecolor": "white"
           }
          },
          "shapedefaults": {
           "line": {
            "color": "#2a3f5f"
           }
          },
          "ternary": {
           "aaxis": {
            "gridcolor": "white",
            "linecolor": "white",
            "ticks": ""
           },
           "baxis": {
            "gridcolor": "white",
            "linecolor": "white",
            "ticks": ""
           },
           "bgcolor": "#E5ECF6",
           "caxis": {
            "gridcolor": "white",
            "linecolor": "white",
            "ticks": ""
           }
          },
          "title": {
           "x": 0.05
          },
          "xaxis": {
           "automargin": true,
           "gridcolor": "white",
           "linecolor": "white",
           "ticks": "",
           "title": {
            "standoff": 15
           },
           "zerolinecolor": "white",
           "zerolinewidth": 2
          },
          "yaxis": {
           "automargin": true,
           "gridcolor": "white",
           "linecolor": "white",
           "ticks": "",
           "title": {
            "standoff": 15
           },
           "zerolinecolor": "white",
           "zerolinewidth": 2
          }
         }
        },
        "title": {
         "text": "Endothelial Cell Programs x GWAS Binary Outcome Enrichments"
        },
        "width": 1000,
        "xaxis": {
         "anchor": "y",
         "domain": [
          0,
          1
         ],
         "tickfont": {
          "size": 4
         },
         "title": {
          "text": "trait_reported"
         }
        },
        "yaxis": {
         "anchor": "x",
         "domain": [
          0,
          1
         ],
         "tickformat": ".1f",
         "title": {
          "text": "-log10(p-value)"
         }
        }
       }
      },
      "text/html": [
       "<div>                            <div id=\"2aa751d0-25fa-40ac-89d5-38a8cc53817e\" class=\"plotly-graph-div\" style=\"height:800px; width:1000px;\"></div>            <script type=\"text/javascript\">                require([\"plotly\"], function(Plotly) {                    window.PLOTLYENV=window.PLOTLYENV || {};                                    if (document.getElementById(\"2aa751d0-25fa-40ac-89d5-38a8cc53817e\")) {                    Plotly.newPlot(                        \"2aa751d0-25fa-40ac-89d5-38a8cc53817e\",                        [{\"customdata\":[[19,\"biological process\",0.0017764883074341,\"PIR;LDLR;IRF2BP2;HMGCR;PNPLA3;LIPG;VEGFA\",\"FINNGEN_R6_RX_STATIN\",null],[19,\"biological process\",0.1343400831032873,\"EPAS1\",\"GCST006054\",\"PMID:28373541\"],[19,\"biological process\",0.3114186984457615,\"PCYOX1;TFB1M;NR2F1;IRF2BP2;SYT1;MARCKS;PTPN1;CBX5;CACNB1;HABP4;BNIP3L;MNT;DUSP6;NFIB;LONRF1;PDIA6;MTFR1;PTPRN2\",\"GCST006568\",\"PMID:30038396\"],[19,\"biological process\",0.6364585961150973,\"AKAP12\",\"NEALE2_1757\",null],[19,\"biological process\",0.7647169252273888,\"LONRF1\",\"GCST007464\",\"PMID:30643251\"],[19,\"biological process\",0.7823644484645602,\"LBR;FRY;RAB3C\",\"GCST006660\",\"PMID:30348214\"],[19,\"biological process\",0.8052074518987202,\"YWHAZ;PLXNA2;LRP8\",\"GCST007325\",\"PMID:30643258\"],[19,\"biological process\",0.8958060820939588,\"SYT1\",\"GCST006269\",\"PMID:29844566\"],[19,\"biological process\",0.9346715046595316,\"PLXNA2\",\"GCST007327\",\"PMID:30643258\"]],\"hovertemplate\":\"trait_category=%{customdata[1]}\\u003cbr\\u003etrait_reported=%{x}\\u003cbr\\u003e-log10(p-value)=%{y}\\u003cbr\\u003eprogram_name=%{customdata[0]}\\u003cbr\\u003eP-value=%{customdata[2]}\\u003cbr\\u003eGenes=%{customdata[3]}\\u003cbr\\u003estudy_id=%{customdata[4]}\\u003cbr\\u003epmid=%{customdata[5]}\\u003cextra\\u003e\\u003c\\u002fextra\\u003e\",\"legendgroup\":\"biological process\",\"marker\":{\"color\":\"#636efa\",\"symbol\":\"circle\"},\"mode\":\"markers\",\"name\":\"biological process\",\"orientation\":\"v\",\"showlegend\":true,\"x\":[\"Statin medication\",\"High altitude adaptation\",\"Highest math class taken (MTAG) [MTAG]\",\"Facial ageing\",\"Smoking cessation (MTAG)\",\"DNA methylation variation (age effect)\",\"General risk tolerance (MTAG)\",\"General cognitive ability\",\"Smoking status (ever vs never smokers)\"],\"xaxis\":\"x\",\"y\":[2.750437646623041,0.8717943873810217,0.5066553147350892,0.1962298434849674,0.11649929760822468,0.10659089261010384,0.09409221452913771,0.047785993229935854,0.029340997449113893],\"yaxis\":\"y\",\"type\":\"scatter\"},{\"customdata\":[[19,\"cardiovascular disease\",0.0201244224746658,\"CDKN1A;LIPA\",\"GCST011496\",\"PMID:32981348\"],[19,\"cardiovascular disease\",0.0440297257759461,\"CDKN1A;SQLE\",\"GCST011202\",\"PMID:33495596\"],[19,\"cardiovascular disease\",0.1283084629236031,\"DPYSL2;UBASH3B;CLCN6;CLIC4;GLI2;NPC1;HSD17B12;VEGFA\",\"GCST007072\",\"PMID:30595370\"],[19,\"cardiovascular disease\",0.1343400831032873,\"CDKN1A\",\"GCST012099\",\"PMID:33495597\"],[19,\"cardiovascular disease\",0.1485496708304558,\"GLCE;CLCN6;SYT1\",\"FINNGEN_R6_RX_ANTIHYP\",null],[19,\"cardiovascular disease\",0.1833951163905241,\"SCARB1;LIPA;VEGFA\",\"GCST005195\",\"PMID:29212778\"],[19,\"cardiovascular disease\",0.1984024628911286,\"NUCKS1;SMIM29;CDKN1A;SQLE\",\"GCST006061\",\"PMID:29892015\"],[19,\"cardiovascular disease\",0.2507048273189083,\"CDKN1A\",\"GCST009541\",\"PMID:31919418\"],[19,\"cardiovascular disease\",0.4703169934611635,\"CDKN1A\",\"FINNGEN_R6_CARDIAC_ARRHYTM\",null],[19,\"cardiovascular disease\",0.5143547315191779,\"CLCN6\",\"FINNGEN_R6_I9_IHD\",null],[19,\"cardiovascular disease\",0.5547466477670275,\"TGFBR2\",\"GCST003720\",\"PMID:27322543\"],[19,\"cardiovascular disease\",0.8188532174755944,\"LIPA\",\"GCST011365\",\"PMID:33532862\"],[19,\"cardiovascular disease\",0.8522214423029417,\"SRBD1\",\"GCST90014033\",\"PMID:33888516\"]],\"hovertemplate\":\"trait_category=%{customdata[1]}\\u003cbr\\u003etrait_reported=%{x}\\u003cbr\\u003e-log10(p-value)=%{y}\\u003cbr\\u003eprogram_name=%{customdata[0]}\\u003cbr\\u003eP-value=%{customdata[2]}\\u003cbr\\u003eGenes=%{customdata[3]}\\u003cbr\\u003estudy_id=%{customdata[4]}\\u003cbr\\u003epmid=%{customdata[5]}\\u003cextra\\u003e\\u003c\\u002fextra\\u003e\",\"legendgroup\":\"cardiovascular disease\",\"marker\":{\"color\":\"#EF553B\",\"symbol\":\"circle\"},\"mode\":\"markers\",\"name\":\"cardiovascular disease\",\"orientation\":\"v\",\"showlegend\":true,\"x\":[\"Abdominal aortic aneurysm\",\"Dilated cardiomyopathy (MTAG)\",\"Cardiovascular disease\",\"Hypertrophic cardiomyopathy (sarcomere negative)\",\"Antihypertensive medication - note that there are other indications\",\"Coronary artery disease\",\"Atrial fibrillation\",\"Heart failure\",\"Cardiac arrhytmias\",\"Ischaemic heart disease, wide definition\",\"Migraine\",\"Myocardial infarction\",\"Haemorrhoidal disease\"],\"xaxis\":\"x\",\"y\":[1.6962765740490229,1.3562540193863586,0.8917446976405934,0.8717943873810217,0.8281283062075069,0.736612233294601,0.7024529409853294,0.600837303625428,0.3276093290721635,0.28873726076138856,0.25590531345049344,0.08679394018522071,0.06944754293925572],\"yaxis\":\"y\",\"type\":\"scatter\"},{\"customdata\":[[19,\"cell proliferation disorder\",0.0153788714617108,\"SCARB1;EPAS1\",\"GCST004710\",\"PMID:28598434\"],[19,\"cell proliferation disorder\",0.0234350473829585,\"CDKN1A;LPIN1;DDR2\",\"SAIGE_728_71\",null],[19,\"cell proliferation disorder\",0.2061550439296068,\"RNASET2\",\"GCST004748\",\"PMID:28604730\"],[19,\"cell proliferation disorder\",0.447500965440971,\"CDKN1A;TOX2\",\"GCST007992\",\"PMID:31089142\"],[19,\"cell proliferation disorder\",0.4547717929717223,\"GJC1\",\"FINNGEN_R6_C3_MALE_GENITAL\",null],[19,\"cell proliferation disorder\",0.4547717929717223,\"GJC1\",\"FINNGEN_R6_C3_MALE_GENITAL_EXALLC\",null],[19,\"cell proliferation disorder\",0.5282084219701223,\"RNASET2\",\"SAIGE_172\",null],[19,\"cell proliferation disorder\",0.5547466477670275,\"ID3\",\"GCST004146\",\"PMID:28165464\"],[19,\"cell proliferation disorder\",0.5547466477670275,\"IL21R\",\"GCST90061442\",\"PMID:34033851\"],[19,\"cell proliferation disorder\",0.6364585961150973,\"RNASET2\",\"GCST90027058\",\"PMID:34290314\"],[19,\"cell proliferation disorder\",0.777992860371213,\"RNASET2\",\"GCST008871\",\"PMID:31174203\"],[19,\"cell proliferation disorder\",0.9121531895652748,\"GLI2;VEGFA\",\"GCST011049\",\"PMID:33398198\"],[19,\"cell proliferation disorder\",0.926577614570827,\"TGFBR2\",\"GCST90090980\",\"PMID:32139696\"]],\"hovertemplate\":\"trait_category=%{customdata[1]}\\u003cbr\\u003etrait_reported=%{x}\\u003cbr\\u003e-log10(p-value)=%{y}\\u003cbr\\u003eprogram_name=%{customdata[0]}\\u003cbr\\u003eP-value=%{customdata[2]}\\u003cbr\\u003eGenes=%{customdata[3]}\\u003cbr\\u003estudy_id=%{customdata[4]}\\u003cbr\\u003epmid=%{customdata[5]}\\u003cextra\\u003e\\u003c\\u002fextra\\u003e\",\"legendgroup\":\"cell proliferation disorder\",\"marker\":{\"color\":\"#00cc96\",\"symbol\":\"circle\"},\"mode\":\"markers\",\"name\":\"cell proliferation disorder\",\"orientation\":\"v\",\"showlegend\":true,\"x\":[\"Renal cell carcinoma\",\"Contracture of palmar fascia [dupuytren's disease]\",\"Lung cancer\",\"Colorectal cancer\",\"malignant neoplasm of male genital organs\",\"malignant neoplasm of male genital organs (controls excluding all cancers)\",\"Skin cancer\",\"Chronic lymphocytic leukemia\",\"Primary biliary cholangitis\",\"Non-melanoma skin cancer\",\"Basal cell carcinoma\",\"Prostate cancer\",\"Breast cancer\"],\"xaxis\":\"x\",\"y\":[1.8130755329308288,1.6301341640496123,0.6858060349882722,0.3492060233978256,0.3422064800806736,0.3422064800806736,0.27719467850586216,0.25590531345049344,0.25590531345049344,0.1962298434849674,0.10902438850595701,0.0399322189128057,0.03311819623927466],\"yaxis\":\"y\",\"type\":\"scatter\"},{\"customdata\":[[19,\"disease of visual system\",0.1094421927674374,\"MMAB;MVK\",\"GCST90018814\",\"PMID:34594039\"],[19,\"disease of visual system\",0.3514897829027668,\"VEGFA\",\"GCST001884\",\"PMID:23455636\"],[19,\"disease of visual system\",0.3519476214627181,\"PTPN1;NPC2;PCSK5\",\"GCST009722\",\"PMID:31959993\"],[19,\"disease of visual system\",0.3879164909650702,\"MMAB\",\"FINNGEN_R6_H7_LENS\",null],[19,\"disease of visual system\",0.6901679744939967,\"LIPG;NPC2;ETNK1\",\"GCST010378\",\"PMID:32352494\"],[19,\"disease of visual system\",0.7714508248878551,\"LTBP2\",\"GCST90011770\",\"PMID:33627673\"]],\"hovertemplate\":\"trait_category=%{customdata[1]}\\u003cbr\\u003etrait_reported=%{x}\\u003cbr\\u003e-log10(p-value)=%{y}\\u003cbr\\u003eprogram_name=%{customdata[0]}\\u003cbr\\u003eP-value=%{customdata[2]}\\u003cbr\\u003eGenes=%{customdata[3]}\\u003cbr\\u003estudy_id=%{customdata[4]}\\u003cbr\\u003epmid=%{customdata[5]}\\u003cextra\\u003e\\u003c\\u002fextra\\u003e\",\"legendgroup\":\"disease of visual system\",\"marker\":{\"color\":\"#ab63fa\",\"symbol\":\"circle\"},\"mode\":\"markers\",\"name\":\"disease of visual system\",\"orientation\":\"v\",\"showlegend\":true,\"x\":[\"Cataracts\",\"Age-related macular degeneration\",\"Glaucoma (multi-trait analysis)\",\"Disorders of lens\",\"Spherical equivalent\",\"Glaucoma (primary open-angle)\"],\"xaxis\":\"x\",\"y\":[0.9608152140773768,0.4540872945230746,0.45352196550578805,0.4112617574381072,0.1610451969182307,0.11269175224569011],\"yaxis\":\"y\",\"type\":\"scatter\"},{\"customdata\":[[19,\"endocrine system disease\",0.1376238528655774,\"BHLHE40;RAB2A;IFITM2;RNASET2\",\"GCST010571\",\"PMID:32581359\"],[19,\"endocrine system disease\",0.2061550439296068,\"RNASET2\",\"GCST90018860\",\"PMID:34594039\"],[19,\"endocrine system disease\",0.5172427184455903,\"BHLHE40;RAB2A;RNASET2\",\"GCST007073\",\"PMID:30595370\"],[19,\"endocrine system disease\",0.6569316374263021,\"VEGFA\",\"FINNGEN_R6_E4_THYROID\",null],[19,\"endocrine system disease\",0.7843484737352562,\"VEGFA\",\"FINNGEN_R6_E4_HYTHY_AI_STRICT_PURCH\",null]],\"hovertemplate\":\"trait_category=%{customdata[1]}\\u003cbr\\u003etrait_reported=%{x}\\u003cbr\\u003e-log10(p-value)=%{y}\\u003cbr\\u003eprogram_name=%{customdata[0]}\\u003cbr\\u003eP-value=%{customdata[2]}\\u003cbr\\u003eGenes=%{customdata[3]}\\u003cbr\\u003estudy_id=%{customdata[4]}\\u003cbr\\u003epmid=%{customdata[5]}\\u003cextra\\u003e\\u003c\\u002fextra\\u003e\",\"legendgroup\":\"endocrine system disease\",\"marker\":{\"color\":\"#FFA15A\",\"symbol\":\"circle\"},\"mode\":\"markers\",\"name\":\"endocrine system disease\",\"orientation\":\"v\",\"showlegend\":true,\"x\":[\"Autoimmune thyroid disease\",\"Hyperthyroidism\",\"Hypothyroidism\",\"Disorders of the thyroid gland\",\"Hypothyroidism, strict autoimmune, 3 medication purchases required\"],\"xaxis\":\"x\",\"y\":[0.8613062879746043,0.6858060349882722,0.28630561445857156,0.1824798222716765,0.10549094420805395],\"yaxis\":\"y\",\"type\":\"scatter\"},{\"customdata\":[[19,\"gastrointestinal disease\",0.2199576104207486,\"SMIM29;VEGFA\",\"GCST90094908\",\"PMID:35047847\"],[19,\"gastrointestinal disease\",0.2287500538282526,\"IL21R\",\"FINNGEN_R6_RX_CROHN_2NDLINE\",null],[19,\"gastrointestinal disease\",0.2287500538282526,\"NAV3\",\"FINNGEN_R6_ABDOM_HERNIA\",null],[19,\"gastrointestinal disease\",0.3879164909650702,\"ANPEP\",\"GCST007209\",\"PMID:30504769\"],[19,\"gastrointestinal disease\",0.5282084219701223,\"PCSK5\",\"GCST006479\",\"PMID:30177863\"],[19,\"gastrointestinal disease\",0.5797985937087958,\"PNPLA3\",\"GCST90018819\",\"PMID:34594039\"],[19,\"gastrointestinal disease\",0.6823013749557024,\"TSPAN14;PDGFB\",\"GCST004131\",\"PMID:28067908\"]],\"hovertemplate\":\"trait_category=%{customdata[1]}\\u003cbr\\u003etrait_reported=%{x}\\u003cbr\\u003e-log10(p-value)=%{y}\\u003cbr\\u003eprogram_name=%{customdata[0]}\\u003cbr\\u003eP-value=%{customdata[2]}\\u003cbr\\u003eGenes=%{customdata[3]}\\u003cbr\\u003estudy_id=%{customdata[4]}\\u003cbr\\u003epmid=%{customdata[5]}\\u003cextra\\u003e\\u003c\\u002fextra\\u003e\",\"legendgroup\":\"gastrointestinal disease\",\"marker\":{\"color\":\"#19d3f3\",\"symbol\":\"circle\"},\"mode\":\"markers\",\"name\":\"gastrointestinal disease\",\"orientation\":\"v\",\"showlegend\":true,\"x\":[\"Nonalcoholic fatty liver disease (imputed)\",\"Second line medication for Crohns disease\",\"Hernia of abodminal wall\",\"Gallstone disease\",\"Diverticular disease\",\"Cholelithiasis\",\"Inflammatory bowel disease\"],\"xaxis\":\"x\",\"y\":[0.6576610070603534,0.640638795065622,0.640638795065622,0.4112617574381072,0.27719467850586216,0.23672284235330593,0.16602375354044738],\"yaxis\":\"y\",\"type\":\"scatter\"},{\"customdata\":[[19,\"genetic, familial or congenital disease\",0.056061017525612,\"GNAS\",\"GCST007916\",\"PMID:29124443\"]],\"hovertemplate\":\"trait_category=%{customdata[1]}\\u003cbr\\u003etrait_reported=%{x}\\u003cbr\\u003e-log10(p-value)=%{y}\\u003cbr\\u003eprogram_name=%{customdata[0]}\\u003cbr\\u003eP-value=%{customdata[2]}\\u003cbr\\u003eGenes=%{customdata[3]}\\u003cbr\\u003estudy_id=%{customdata[4]}\\u003cbr\\u003epmid=%{customdata[5]}\\u003cextra\\u003e\\u003c\\u002fextra\\u003e\",\"legendgroup\":\"genetic, familial or congenital disease\",\"marker\":{\"color\":\"#FF6692\",\"symbol\":\"circle\"},\"mode\":\"markers\",\"name\":\"genetic, familial or congenital disease\",\"orientation\":\"v\",\"showlegend\":true,\"x\":[\"Hyperuricemia\"],\"xaxis\":\"x\",\"y\":[1.251339023918792],\"yaxis\":\"y\",\"type\":\"scatter\"},{\"customdata\":[[19,\"immune system disease\",0.1569286846215245,\"SYPL1;UBASH3B;MTHFR;TOX2;RRAS2;BCL10\",\"GCST009597\",\"PMID:31604244\"],[19,\"immune system disease\",0.7647169252273888,\"RNASET2\",\"GCST007071\",\"PMID:30595370\"]],\"hovertemplate\":\"trait_category=%{customdata[1]}\\u003cbr\\u003etrait_reported=%{x}\\u003cbr\\u003e-log10(p-value)=%{y}\\u003cbr\\u003eprogram_name=%{customdata[0]}\\u003cbr\\u003eP-value=%{customdata[2]}\\u003cbr\\u003eGenes=%{customdata[3]}\\u003cbr\\u003estudy_id=%{customdata[4]}\\u003cbr\\u003epmid=%{customdata[5]}\\u003cextra\\u003e\\u003c\\u002fextra\\u003e\",\"legendgroup\":\"immune system disease\",\"marker\":{\"color\":\"#B6E880\",\"symbol\":\"circle\"},\"mode\":\"markers\",\"name\":\"immune system disease\",\"orientation\":\"v\",\"showlegend\":true,\"x\":[\"Multiple sclerosis\",\"Autoimmune traits\"],\"xaxis\":\"x\",\"y\":[0.8042976655001944,0.11649929760822468],\"yaxis\":\"y\",\"type\":\"scatter\"},{\"customdata\":[[19,\"integumentary system disease\",0.2942593684198209,\"PTPN1;RNASET2\",\"GCST004785\",\"PMID:27723757\"],[19,\"integumentary system disease\",0.5547466477670275,\"CCDC80\",\"GCST90086149\",\"PMID:34116867\"],[19,\"integumentary system disease\",0.5917932931517309,\"PNPLA3\",\"GCST90092000\",\"PMID:35132056\"]],\"hovertemplate\":\"trait_category=%{customdata[1]}\\u003cbr\\u003etrait_reported=%{x}\\u003cbr\\u003e-log10(p-value)=%{y}\\u003cbr\\u003eprogram_name=%{customdata[0]}\\u003cbr\\u003eP-value=%{customdata[2]}\\u003cbr\\u003eGenes=%{customdata[3]}\\u003cbr\\u003estudy_id=%{customdata[4]}\\u003cbr\\u003epmid=%{customdata[5]}\\u003cextra\\u003e\\u003c\\u002fextra\\u003e\",\"legendgroup\":\"integumentary system disease\",\"marker\":{\"color\":\"#FF97FF\",\"symbol\":\"circle\"},\"mode\":\"markers\",\"name\":\"integumentary system disease\",\"orientation\":\"v\",\"showlegend\":true,\"x\":[\"Vitiligo\",\"Atopic dermatitis\",\"acne vulgaris\"],\"xaxis\":\"x\",\"y\":[0.5312697015065693,0.25590531345049344,0.22782996104713193],\"yaxis\":\"y\",\"type\":\"scatter\"},{\"customdata\":[[19,\"musculoskeletal or connective tissue disease\",0.1380296513827923,\"MLXIP;PNPLA3\",\"GCST012338\",\"PMID:33832965\"],[19,\"musculoskeletal or connective tissue disease\",0.2507048273189083,\"PLXNA2\",\"GCST008789\",\"PMID:31417091\"],[19,\"musculoskeletal or connective tissue disease\",0.4223060168318421,\"DDR2\",\"GCST004858\",\"PMID:28886342\"]],\"hovertemplate\":\"trait_category=%{customdata[1]}\\u003cbr\\u003etrait_reported=%{x}\\u003cbr\\u003e-log10(p-value)=%{y}\\u003cbr\\u003eprogram_name=%{customdata[0]}\\u003cbr\\u003eP-value=%{customdata[2]}\\u003cbr\\u003eGenes=%{customdata[3]}\\u003cbr\\u003estudy_id=%{customdata[4]}\\u003cbr\\u003epmid=%{customdata[5]}\\u003cextra\\u003e\\u003c\\u002fextra\\u003e\",\"legendgroup\":\"musculoskeletal or connective tissue disease\",\"marker\":{\"color\":\"#FECB52\",\"symbol\":\"circle\"},\"mode\":\"markers\",\"name\":\"musculoskeletal or connective tissue disease\",\"orientation\":\"v\",\"showlegend\":true,\"x\":[\"Gout\",\"Adolescent idiopathic scoliosis\",\"Dupuytren's disease\"],\"xaxis\":\"x\",\"y\":[0.8600276088982539,0.600837303625428,0.3743727308927516],\"yaxis\":\"y\",\"type\":\"scatter\"},{\"customdata\":[[19,\"nervous system disease\",0.2287500538282526,\"ATP2C1\",\"GCST005042\",\"PMID:29029846\"],[19,\"nervous system disease\",0.2942593684198209,\"NUCKS1;SNCA\",\"GCST004902\",\"PMID:28892059\"],[19,\"nervous system disease\",0.2942593684198209,\"NUCKS1;SNCA\",\"GCST010991\",\"PMID:32201043\"],[19,\"nervous system disease\",0.5155063301890639,\"NUCKS1;TCF20;LONRF1;PLXNA2;DUSP6;NFIB;HSD17B12;MTFR1;PTPRN2\",\"GCST90061435\",\"PMID:34446935\"],[19,\"nervous system disease\",0.5416686865549875,\"DUSP6\",\"GCST90016618\",\"PMID:33686288\"],[19,\"nervous system disease\",0.6855089857015289,\"SLC7A11\",\"GCST010017\",\"PMID:32231276\"],[19,\"nervous system disease\",0.6944979938815563,\"NRDC\",\"GCST012090\",\"PMID:33479212\"]],\"hovertemplate\":\"trait_category=%{customdata[1]}\\u003cbr\\u003etrait_reported=%{x}\\u003cbr\\u003e-log10(p-value)=%{y}\\u003cbr\\u003eprogram_name=%{customdata[0]}\\u003cbr\\u003eP-value=%{customdata[2]}\\u003cbr\\u003eGenes=%{customdata[3]}\\u003cbr\\u003estudy_id=%{customdata[4]}\\u003cbr\\u003epmid=%{customdata[5]}\\u003cextra\\u003e\\u003c\\u002fextra\\u003e\",\"legendgroup\":\"nervous system disease\",\"marker\":{\"color\":\"#636efa\",\"symbol\":\"circle\"},\"mode\":\"markers\",\"name\":\"nervous system disease\",\"orientation\":\"v\",\"showlegend\":true,\"x\":[\"Restless legs syndrome\",\"Parkinson's disease\",\"Parkinson's disease\",\"Externalizing behaviour (multivariate analysis)\",\"Schizophrenia vs ADHD (ordinary least squares (OLS))\",\"Neuroticism\",\"Major depressive disorder (MTAG)\"],\"xaxis\":\"x\",\"y\":[0.640638795065622,0.5312697015065693,0.5312697015065693,0.28776599740413,0.2662662699129855,0.16398684807357408,0.15832900442230294],\"yaxis\":\"y\",\"type\":\"scatter\"},{\"customdata\":[[19,\"pancreas disease\",0.7506509700484338,\"GLI2\",\"GCST007077\",\"PMID:30595370\"]],\"hovertemplate\":\"trait_category=%{customdata[1]}\\u003cbr\\u003etrait_reported=%{x}\\u003cbr\\u003e-log10(p-value)=%{y}\\u003cbr\\u003eprogram_name=%{customdata[0]}\\u003cbr\\u003eP-value=%{customdata[2]}\\u003cbr\\u003eGenes=%{customdata[3]}\\u003cbr\\u003estudy_id=%{customdata[4]}\\u003cbr\\u003epmid=%{customdata[5]}\\u003cextra\\u003e\\u003c\\u002fextra\\u003e\",\"legendgroup\":\"pancreas disease\",\"marker\":{\"color\":\"#EF553B\",\"symbol\":\"circle\"},\"mode\":\"markers\",\"name\":\"pancreas disease\",\"orientation\":\"v\",\"showlegend\":true,\"x\":[\"Type 2 diabetes\"],\"xaxis\":\"x\",\"y\":[0.12456194983603248],\"yaxis\":\"y\",\"type\":\"scatter\"},{\"customdata\":[[19,\"phenotype\",0.008688541686716,\"LDLR;IRF2BP2;HMGCR;LIPG;SCARB1;VEGFA\",\"GCST90038690\",\"PMID:33959723\"],[19,\"phenotype\",0.1343400831032873,\"DYSF\",\"FINNGEN_R6_M13_HALLUXVALGUS\",null],[19,\"phenotype\",0.1782415427636318,\"NAV3;PTPRN2\",\"GCST001712\",\"PMID:23049088\"],[19,\"phenotype\",0.2061550439296068,\"NUCKS1\",\"NEALE2_2257\",null],[19,\"phenotype\",0.3049145941394633,\"UBC;SCD;RAB32\",\"NEALE2_1717\",null],[19,\"phenotype\",0.3514897829027668,\"MMAB\",\"FINNGEN_R6_H7_CATARACTSENILE\",null],[19,\"phenotype\",0.4387725338878636,\"LPIN1\",\"SAIGE_728_7\",null],[19,\"phenotype\",0.4387725338878636,\"RAB3C\",\"FINNGEN_R6_K11_HERNIA\",null],[19,\"phenotype\",0.4854209635556349,\"TUBA1A\",\"GCST90013421\",\"PMID:32989287\"],[19,\"phenotype\",0.5917932931517309,\"HSD17B12\",\"GCST008512\",\"PMID:31194737\"],[19,\"phenotype\",0.5917932931517309,\"HSD17B12\",\"GCST012332\",\"PMID:33830993\"],[19,\"phenotype\",0.6762567419240386,\"CPNE3\",\"GCST90018939\",\"PMID:34594039\"],[19,\"phenotype\",0.7012900333459319,\"AKAP12;CDC42BPA\",\"GCST006988\",\"PMID:30531825\"],[19,\"phenotype\",0.9414579808611644,\"VEGFA;NPC2;TOX2;RRAS2;FRY\",\"GCST010002\",\"PMID:32231278\"]],\"hovertemplate\":\"trait_category=%{customdata[1]}\\u003cbr\\u003etrait_reported=%{x}\\u003cbr\\u003e-log10(p-value)=%{y}\\u003cbr\\u003eprogram_name=%{customdata[0]}\\u003cbr\\u003eP-value=%{customdata[2]}\\u003cbr\\u003eGenes=%{customdata[3]}\\u003cbr\\u003estudy_id=%{customdata[4]}\\u003cbr\\u003epmid=%{customdata[5]}\\u003cextra\\u003e\\u003c\\u002fextra\\u003e\",\"legendgroup\":\"phenotype\",\"marker\":{\"color\":\"#00cc96\",\"symbol\":\"circle\"},\"mode\":\"markers\",\"name\":\"phenotype\",\"orientation\":\"v\",\"showlegend\":true,\"x\":[\"High cholesterol\",\"Hallux valgus (acquired)\",\"Myopia (pathological)\",\"Hearing difficulty\\u002fproblems with background noise\",\"Skin colour\",\"Senile cataract\",\"Fasciitis\",\"Hernia\",\"Left-handedness\",\"Multisite chronic pain\",\"Multisite chronic pain\",\"Varicose veins\",\"Blond vs. brown\\u002fblack hair color\",\"Refractive error\"],\"xaxis\":\"x\",\"y\":[2.0610531108424572,0.8717943873810217,0.7489910674689295,0.6858060349882722,0.5158217884829206,0.4540872945230746,0.3577605660432619,0.3577605660432619,0.313881472009155,0.22782996104713193,0.22782996104713193,0.16988839217622498,0.15410233320106417,0.026199058639734853],\"yaxis\":\"y\",\"type\":\"scatter\"},{\"customdata\":[[19,\"respiratory or thoracic disease\",0.2927653966471928,\"IL21R\",\"FINNGEN_R6_ILD_ENDPOINTS\",null],[19,\"respiratory or thoracic disease\",0.4945157231297057,\"THSD4;PRSS23\",\"GCST007692\",\"PMID:30804561\"],[19,\"respiratory or thoracic disease\",0.8684627092415388,\"FADS2\",\"GCST007076\",\"PMID:30595370\"]],\"hovertemplate\":\"trait_category=%{customdata[1]}\\u003cbr\\u003etrait_reported=%{x}\\u003cbr\\u003e-log10(p-value)=%{y}\\u003cbr\\u003eprogram_name=%{customdata[0]}\\u003cbr\\u003eP-value=%{customdata[2]}\\u003cbr\\u003eGenes=%{customdata[3]}\\u003cbr\\u003estudy_id=%{customdata[4]}\\u003cbr\\u003epmid=%{customdata[5]}\\u003cextra\\u003e\\u003c\\u002fextra\\u003e\",\"legendgroup\":\"respiratory or thoracic disease\",\"marker\":{\"color\":\"#ab63fa\",\"symbol\":\"circle\"},\"mode\":\"markers\",\"name\":\"respiratory or thoracic disease\",\"orientation\":\"v\",\"showlegend\":true,\"x\":[\"Interstitial lung disease endpoints\",\"Chronic obstructive pulmonary disease\",\"Respiratory diseases\"],\"xaxis\":\"x\",\"y\":[0.5334802559376316,0.30581989545221594,0.06124882490637182],\"yaxis\":\"y\",\"type\":\"scatter\"},{\"customdata\":[[19,\"urinary system disease\",0.3514897829027668,\"VEGFA\",\"GCST000649_3\",\"PMID:20383146\"]],\"hovertemplate\":\"trait_category=%{customdata[1]}\\u003cbr\\u003etrait_reported=%{x}\\u003cbr\\u003e-log10(p-value)=%{y}\\u003cbr\\u003eprogram_name=%{customdata[0]}\\u003cbr\\u003eP-value=%{customdata[2]}\\u003cbr\\u003eGenes=%{customdata[3]}\\u003cbr\\u003estudy_id=%{customdata[4]}\\u003cbr\\u003epmid=%{customdata[5]}\\u003cextra\\u003e\\u003c\\u002fextra\\u003e\",\"legendgroup\":\"urinary system disease\",\"marker\":{\"color\":\"#FFA15A\",\"symbol\":\"circle\"},\"mode\":\"markers\",\"name\":\"urinary system disease\",\"orientation\":\"v\",\"showlegend\":true,\"x\":[\"Chronic kidney disease [eGFRcrea]\"],\"xaxis\":\"x\",\"y\":[0.4540872945230746],\"yaxis\":\"y\",\"type\":\"scatter\"}],                        {\"template\":{\"data\":{\"histogram2dcontour\":[{\"type\":\"histogram2dcontour\",\"colorbar\":{\"outlinewidth\":0,\"ticks\":\"\"},\"colorscale\":[[0.0,\"#0d0887\"],[0.1111111111111111,\"#46039f\"],[0.2222222222222222,\"#7201a8\"],[0.3333333333333333,\"#9c179e\"],[0.4444444444444444,\"#bd3786\"],[0.5555555555555556,\"#d8576b\"],[0.6666666666666666,\"#ed7953\"],[0.7777777777777778,\"#fb9f3a\"],[0.8888888888888888,\"#fdca26\"],[1.0,\"#f0f921\"]]}],\"choropleth\":[{\"type\":\"choropleth\",\"colorbar\":{\"outlinewidth\":0,\"ticks\":\"\"}}],\"histogram2d\":[{\"type\":\"histogram2d\",\"colorbar\":{\"outlinewidth\":0,\"ticks\":\"\"},\"colorscale\":[[0.0,\"#0d0887\"],[0.1111111111111111,\"#46039f\"],[0.2222222222222222,\"#7201a8\"],[0.3333333333333333,\"#9c179e\"],[0.4444444444444444,\"#bd3786\"],[0.5555555555555556,\"#d8576b\"],[0.6666666666666666,\"#ed7953\"],[0.7777777777777778,\"#fb9f3a\"],[0.8888888888888888,\"#fdca26\"],[1.0,\"#f0f921\"]]}],\"heatmap\":[{\"type\":\"heatmap\",\"colorbar\":{\"outlinewidth\":0,\"ticks\":\"\"},\"colorscale\":[[0.0,\"#0d0887\"],[0.1111111111111111,\"#46039f\"],[0.2222222222222222,\"#7201a8\"],[0.3333333333333333,\"#9c179e\"],[0.4444444444444444,\"#bd3786\"],[0.5555555555555556,\"#d8576b\"],[0.6666666666666666,\"#ed7953\"],[0.7777777777777778,\"#fb9f3a\"],[0.8888888888888888,\"#fdca26\"],[1.0,\"#f0f921\"]]}],\"heatmapgl\":[{\"type\":\"heatmapgl\",\"colorbar\":{\"outlinewidth\":0,\"ticks\":\"\"},\"colorscale\":[[0.0,\"#0d0887\"],[0.1111111111111111,\"#46039f\"],[0.2222222222222222,\"#7201a8\"],[0.3333333333333333,\"#9c179e\"],[0.4444444444444444,\"#bd3786\"],[0.5555555555555556,\"#d8576b\"],[0.6666666666666666,\"#ed7953\"],[0.7777777777777778,\"#fb9f3a\"],[0.8888888888888888,\"#fdca26\"],[1.0,\"#f0f921\"]]}],\"contourcarpet\":[{\"type\":\"contourcarpet\",\"colorbar\":{\"outlinewidth\":0,\"ticks\":\"\"}}],\"contour\":[{\"type\":\"contour\",\"colorbar\":{\"outlinewidth\":0,\"ticks\":\"\"},\"colorscale\":[[0.0,\"#0d0887\"],[0.1111111111111111,\"#46039f\"],[0.2222222222222222,\"#7201a8\"],[0.3333333333333333,\"#9c179e\"],[0.4444444444444444,\"#bd3786\"],[0.5555555555555556,\"#d8576b\"],[0.6666666666666666,\"#ed7953\"],[0.7777777777777778,\"#fb9f3a\"],[0.8888888888888888,\"#fdca26\"],[1.0,\"#f0f921\"]]}],\"surface\":[{\"type\":\"surface\",\"colorbar\":{\"outlinewidth\":0,\"ticks\":\"\"},\"colorscale\":[[0.0,\"#0d0887\"],[0.1111111111111111,\"#46039f\"],[0.2222222222222222,\"#7201a8\"],[0.3333333333333333,\"#9c179e\"],[0.4444444444444444,\"#bd3786\"],[0.5555555555555556,\"#d8576b\"],[0.6666666666666666,\"#ed7953\"],[0.7777777777777778,\"#fb9f3a\"],[0.8888888888888888,\"#fdca26\"],[1.0,\"#f0f921\"]]}],\"mesh3d\":[{\"type\":\"mesh3d\",\"colorbar\":{\"outlinewidth\":0,\"ticks\":\"\"}}],\"scatter\":[{\"fillpattern\":{\"fillmode\":\"overlay\",\"size\":10,\"solidity\":0.2},\"type\":\"scatter\"}],\"parcoords\":[{\"type\":\"parcoords\",\"line\":{\"colorbar\":{\"outlinewidth\":0,\"ticks\":\"\"}}}],\"scatterpolargl\":[{\"type\":\"scatterpolargl\",\"marker\":{\"colorbar\":{\"outlinewidth\":0,\"ticks\":\"\"}}}],\"bar\":[{\"error_x\":{\"color\":\"#2a3f5f\"},\"error_y\":{\"color\":\"#2a3f5f\"},\"marker\":{\"line\":{\"color\":\"#E5ECF6\",\"width\":0.5},\"pattern\":{\"fillmode\":\"overlay\",\"size\":10,\"solidity\":0.2}},\"type\":\"bar\"}],\"scattergeo\":[{\"type\":\"scattergeo\",\"marker\":{\"colorbar\":{\"outlinewidth\":0,\"ticks\":\"\"}}}],\"scatterpolar\":[{\"type\":\"scatterpolar\",\"marker\":{\"colorbar\":{\"outlinewidth\":0,\"ticks\":\"\"}}}],\"histogram\":[{\"marker\":{\"pattern\":{\"fillmode\":\"overlay\",\"size\":10,\"solidity\":0.2}},\"type\":\"histogram\"}],\"scattergl\":[{\"type\":\"scattergl\",\"marker\":{\"colorbar\":{\"outlinewidth\":0,\"ticks\":\"\"}}}],\"scatter3d\":[{\"type\":\"scatter3d\",\"line\":{\"colorbar\":{\"outlinewidth\":0,\"ticks\":\"\"}},\"marker\":{\"colorbar\":{\"outlinewidth\":0,\"ticks\":\"\"}}}],\"scattermapbox\":[{\"type\":\"scattermapbox\",\"marker\":{\"colorbar\":{\"outlinewidth\":0,\"ticks\":\"\"}}}],\"scatterternary\":[{\"type\":\"scatterternary\",\"marker\":{\"colorbar\":{\"outlinewidth\":0,\"ticks\":\"\"}}}],\"scattercarpet\":[{\"type\":\"scattercarpet\",\"marker\":{\"colorbar\":{\"outlinewidth\":0,\"ticks\":\"\"}}}],\"carpet\":[{\"aaxis\":{\"endlinecolor\":\"#2a3f5f\",\"gridcolor\":\"white\",\"linecolor\":\"white\",\"minorgridcolor\":\"white\",\"startlinecolor\":\"#2a3f5f\"},\"baxis\":{\"endlinecolor\":\"#2a3f5f\",\"gridcolor\":\"white\",\"linecolor\":\"white\",\"minorgridcolor\":\"white\",\"startlinecolor\":\"#2a3f5f\"},\"type\":\"carpet\"}],\"table\":[{\"cells\":{\"fill\":{\"color\":\"#EBF0F8\"},\"line\":{\"color\":\"white\"}},\"header\":{\"fill\":{\"color\":\"#C8D4E3\"},\"line\":{\"color\":\"white\"}},\"type\":\"table\"}],\"barpolar\":[{\"marker\":{\"line\":{\"color\":\"#E5ECF6\",\"width\":0.5},\"pattern\":{\"fillmode\":\"overlay\",\"size\":10,\"solidity\":0.2}},\"type\":\"barpolar\"}],\"pie\":[{\"automargin\":true,\"type\":\"pie\"}]},\"layout\":{\"autotypenumbers\":\"strict\",\"colorway\":[\"#636efa\",\"#EF553B\",\"#00cc96\",\"#ab63fa\",\"#FFA15A\",\"#19d3f3\",\"#FF6692\",\"#B6E880\",\"#FF97FF\",\"#FECB52\"],\"font\":{\"color\":\"#2a3f5f\"},\"hovermode\":\"closest\",\"hoverlabel\":{\"align\":\"left\"},\"paper_bgcolor\":\"white\",\"plot_bgcolor\":\"#E5ECF6\",\"polar\":{\"bgcolor\":\"#E5ECF6\",\"angularaxis\":{\"gridcolor\":\"white\",\"linecolor\":\"white\",\"ticks\":\"\"},\"radialaxis\":{\"gridcolor\":\"white\",\"linecolor\":\"white\",\"ticks\":\"\"}},\"ternary\":{\"bgcolor\":\"#E5ECF6\",\"aaxis\":{\"gridcolor\":\"white\",\"linecolor\":\"white\",\"ticks\":\"\"},\"baxis\":{\"gridcolor\":\"white\",\"linecolor\":\"white\",\"ticks\":\"\"},\"caxis\":{\"gridcolor\":\"white\",\"linecolor\":\"white\",\"ticks\":\"\"}},\"coloraxis\":{\"colorbar\":{\"outlinewidth\":0,\"ticks\":\"\"}},\"colorscale\":{\"sequential\":[[0.0,\"#0d0887\"],[0.1111111111111111,\"#46039f\"],[0.2222222222222222,\"#7201a8\"],[0.3333333333333333,\"#9c179e\"],[0.4444444444444444,\"#bd3786\"],[0.5555555555555556,\"#d8576b\"],[0.6666666666666666,\"#ed7953\"],[0.7777777777777778,\"#fb9f3a\"],[0.8888888888888888,\"#fdca26\"],[1.0,\"#f0f921\"]],\"sequentialminus\":[[0.0,\"#0d0887\"],[0.1111111111111111,\"#46039f\"],[0.2222222222222222,\"#7201a8\"],[0.3333333333333333,\"#9c179e\"],[0.4444444444444444,\"#bd3786\"],[0.5555555555555556,\"#d8576b\"],[0.6666666666666666,\"#ed7953\"],[0.7777777777777778,\"#fb9f3a\"],[0.8888888888888888,\"#fdca26\"],[1.0,\"#f0f921\"]],\"diverging\":[[0,\"#8e0152\"],[0.1,\"#c51b7d\"],[0.2,\"#de77ae\"],[0.3,\"#f1b6da\"],[0.4,\"#fde0ef\"],[0.5,\"#f7f7f7\"],[0.6,\"#e6f5d0\"],[0.7,\"#b8e186\"],[0.8,\"#7fbc41\"],[0.9,\"#4d9221\"],[1,\"#276419\"]]},\"xaxis\":{\"gridcolor\":\"white\",\"linecolor\":\"white\",\"ticks\":\"\",\"title\":{\"standoff\":15},\"zerolinecolor\":\"white\",\"automargin\":true,\"zerolinewidth\":2},\"yaxis\":{\"gridcolor\":\"white\",\"linecolor\":\"white\",\"ticks\":\"\",\"title\":{\"standoff\":15},\"zerolinecolor\":\"white\",\"automargin\":true,\"zerolinewidth\":2},\"scene\":{\"xaxis\":{\"backgroundcolor\":\"#E5ECF6\",\"gridcolor\":\"white\",\"linecolor\":\"white\",\"showbackground\":true,\"ticks\":\"\",\"zerolinecolor\":\"white\",\"gridwidth\":2},\"yaxis\":{\"backgroundcolor\":\"#E5ECF6\",\"gridcolor\":\"white\",\"linecolor\":\"white\",\"showbackground\":true,\"ticks\":\"\",\"zerolinecolor\":\"white\",\"gridwidth\":2},\"zaxis\":{\"backgroundcolor\":\"#E5ECF6\",\"gridcolor\":\"white\",\"linecolor\":\"white\",\"showbackground\":true,\"ticks\":\"\",\"zerolinecolor\":\"white\",\"gridwidth\":2}},\"shapedefaults\":{\"line\":{\"color\":\"#2a3f5f\"}},\"annotationdefaults\":{\"arrowcolor\":\"#2a3f5f\",\"arrowhead\":0,\"arrowwidth\":1},\"geo\":{\"bgcolor\":\"white\",\"landcolor\":\"#E5ECF6\",\"subunitcolor\":\"white\",\"showland\":true,\"showlakes\":true,\"lakecolor\":\"white\"},\"title\":{\"x\":0.05},\"mapbox\":{\"style\":\"light\"}}},\"xaxis\":{\"anchor\":\"y\",\"domain\":[0.0,1.0],\"title\":{\"text\":\"trait_reported\"},\"tickfont\":{\"size\":4}},\"yaxis\":{\"anchor\":\"x\",\"domain\":[0.0,1.0],\"title\":{\"text\":\"-log10(p-value)\"},\"tickformat\":\".1f\"},\"legend\":{\"title\":{\"text\":\"trait_category\"},\"tracegroupgap\":0},\"title\":{\"text\":\"Endothelial Cell Programs x GWAS Binary Outcome Enrichments\"},\"width\":1000,\"height\":800,\"shapes\":[{\"line\":{\"dash\":\"dash\"},\"type\":\"line\",\"x0\":0,\"x1\":1,\"xref\":\"x domain\",\"y0\":1.3010299956639813,\"y1\":1.3010299956639813,\"yref\":\"y\"}],\"annotations\":[{\"showarrow\":false,\"text\":\"Significance Threshold (0.05)\",\"x\":1,\"xanchor\":\"right\",\"xref\":\"x domain\",\"y\":1.3010299956639813,\"yanchor\":\"bottom\",\"yref\":\"y\"}]},                        {\"responsive\": true}                    ).then(function(){\n",
       "                            \n",
       "var gd = document.getElementById('2aa751d0-25fa-40ac-89d5-38a8cc53817e');\n",
       "var x = new MutationObserver(function (mutations, observer) {{\n",
       "        var display = window.getComputedStyle(gd).display;\n",
       "        if (!display || display === 'none') {{\n",
       "            console.log([gd, 'removed!']);\n",
       "            Plotly.purge(gd);\n",
       "            observer.disconnect();\n",
       "        }}\n",
       "}});\n",
       "\n",
       "// Listen for the removal of the full notebook cells\n",
       "var notebookContainer = gd.closest('#notebook-container');\n",
       "if (notebookContainer) {{\n",
       "    x.observe(notebookContainer, {childList: true});\n",
       "}}\n",
       "\n",
       "// Listen for the clearing of the current output cell\n",
       "var outputEl = gd.closest('.output');\n",
       "if (outputEl) {{\n",
       "    x.observe(outputEl, {childList: true});\n",
       "}}\n",
       "\n",
       "                        })                };                });            </script>        </div>"
      ]
     },
     "metadata": {},
     "output_type": "display_data"
    },
    {
     "data": {
      "application/vnd.plotly.v1+json": {
       "config": {
        "plotlyServerURL": "https://plot.ly"
       },
       "data": [
        {
         "customdata": [
          [
           28,
           "biological process",
           0.0035881882572167,
           "HMGA2;ADK;CALU",
           "GCST002031",
           "PMID:23704328"
          ],
          [
           28,
           "biological process",
           0.0186176051947435,
           "ADK;HMGA2",
           "GCST002030",
           "PMID:23704328"
          ],
          [
           28,
           "biological process",
           0.1388779462393679,
           "AKAP12;BNC2;GSDMC",
           "NEALE2_1757",
           null
          ],
          [
           28,
           "biological process",
           0.1721960268547123,
           "NEK7",
           "GCST006054",
           "PMID:28373541"
          ],
          [
           28,
           "biological process",
           0.1970848235453974,
           "HMGCR;LDLR;GCKR;HHEX",
           "FINNGEN_R6_RX_STATIN",
           null
          ],
          [
           28,
           "biological process",
           0.2836706500762038,
           "NTM;NR2F2;FGFR1;NLGN1;DNAJC1",
           "GCST007462",
           "PMID:30643251"
          ],
          [
           28,
           "biological process",
           0.4628449555952212,
           "PLXNA2;DNAJC1;NTM;KLF7",
           "GCST007327",
           "PMID:30643258"
          ],
          [
           28,
           "biological process",
           0.6589614798479975,
           "YWHAZ;GJA1;SPRY2;PLXNA2;CTSB",
           "GCST007325",
           "PMID:30643258"
          ],
          [
           28,
           "biological process",
           0.6745669315314686,
           "SEC61G;NTM;NR2F2;KLF6;CALU;HMGA2;NF2;CEP170;OSBPL3;CRIM1;PTPRN2;GSTO1;NR2F1;MARCKS;CDH2;ALCAM;SORBS2;PTPN1;ZBTB38",
           "GCST006568",
           "PMID:30038396"
          ],
          [
           28,
           "biological process",
           0.9726311760416948,
           "KCNMA1;ADGRL2",
           "GCST006660",
           "PMID:30348214"
          ]
         ],
         "hovertemplate": "trait_category=%{customdata[1]}<br>trait_reported=%{x}<br>-log10(p-value)=%{y}<br>program_name=%{customdata[0]}<br>P-value=%{customdata[2]}<br>Genes=%{customdata[3]}<br>study_id=%{customdata[4]}<br>pmid=%{customdata[5]}<extra></extra>",
         "legendgroup": "biological process",
         "marker": {
          "color": "#636efa",
          "symbol": "circle"
         },
         "mode": "markers",
         "name": "biological process",
         "orientation": "v",
         "showlegend": true,
         "type": "scatter",
         "x": [
          "Primary tooth development (number of teeth)",
          "Primary tooth development (time to first tooth eruption)",
          "Facial ageing",
          "High altitude adaptation",
          "Statin medication",
          "Age of smoking initiation (MTAG)",
          "Smoking status (ever vs never smokers)",
          "General risk tolerance (MTAG)",
          "Highest math class taken (MTAG) [MTAG]",
          "DNA methylation variation (age effect)"
         ],
         "xaxis": "x",
         "y": [
          2.445124779416804,
          1.730076183590807,
          0.8573667145718513,
          0.763976873410708,
          0.7053468171424397,
          0.5471855960664449,
          0.33456446515085336,
          0.18113997171616283,
          0.17097495251149922,
          0.012051813972160624
         ],
         "yaxis": "y"
        },
        {
         "customdata": [
          [
           28,
           "cardiovascular disease",
           0.0001404803087072,
           "PLEC;SMAD3;ATP1B1;CLMP;RGMB;HHIP;EGFR;MUC12;GSDMC;FEZ2",
           "GCST90014033",
           "PMID:33888516"
          ],
          [
           28,
           "cardiovascular disease",
           0.2525266358542291,
           "TENM3;FGF5;NR2F2",
           "FINNGEN_R6_RX_ANTIHYP",
           null
          ],
          [
           28,
           "cardiovascular disease",
           0.3288357469137777,
           "UBASH3B;C1GALT1;FGF5;MYEOV;NPC1;PRKAG2;CITED2;FBN2",
           "GCST007072",
           "PMID:30595370"
          ],
          [
           28,
           "cardiovascular disease",
           0.364765826894233,
           "SQLE",
           "GCST011202",
           "PMID:33495596"
          ],
          [
           28,
           "cardiovascular disease",
           0.3883578572077412,
           "STARD13",
           "GCST011021",
           "PMID:33199917"
          ],
          [
           28,
           "cardiovascular disease",
           0.4110766820417362,
           "DNAJC1",
           "GCST010774",
           "PMID:32589924"
          ],
          [
           28,
           "cardiovascular disease",
           0.4938466118420058,
           "STEAP1B",
           "GCST008474",
           "PMID:31285632"
          ],
          [
           28,
           "cardiovascular disease",
           0.4938466118420058,
           "GJA1",
           "GCST011064",
           "PMID:32632093"
          ],
          [
           28,
           "cardiovascular disease",
           0.579999229432164,
           "FGF5;SMAD3",
           "GCST005195",
           "PMID:29212778"
          ],
          [
           28,
           "cardiovascular disease",
           0.5830254661501347,
           "ARHGAP10;WDR1;SQLE",
           "GCST006061",
           "PMID:29892015"
          ],
          [
           28,
           "cardiovascular disease",
           0.6490532541861335,
           "FGF5;SMAD3",
           "GCST011365",
           "PMID:33532862"
          ],
          [
           28,
           "cardiovascular disease",
           0.6535133949779608,
           "GJA1",
           "GCST003720",
           "PMID:27322543"
          ]
         ],
         "hovertemplate": "trait_category=%{customdata[1]}<br>trait_reported=%{x}<br>-log10(p-value)=%{y}<br>program_name=%{customdata[0]}<br>P-value=%{customdata[2]}<br>Genes=%{customdata[3]}<br>study_id=%{customdata[4]}<br>pmid=%{customdata[5]}<extra></extra>",
         "legendgroup": "cardiovascular disease",
         "marker": {
          "color": "#EF553B",
          "symbol": "circle"
         },
         "mode": "markers",
         "name": "cardiovascular disease",
         "orientation": "v",
         "showlegend": true,
         "type": "scatter",
         "x": [
          "Haemorrhoidal disease",
          "Antihypertensive medication - note that there are other indications",
          "Cardiovascular disease",
          "Dilated cardiomyopathy (MTAG)",
          "Intracranial aneurysm",
          "Essential hypertension (time to event)",
          "Peripheral artery disease",
          "Migraine and/or diastolic blood pressure",
          "Coronary artery disease",
          "Atrial fibrillation",
          "Myocardial infarction",
          "Migraine"
         ],
         "xaxis": "x",
         "y": [
          3.8523845470694775,
          0.5976928068743494,
          0.4830209774959071,
          0.43798585533934864,
          0.4107679038287569,
          0.38607715748823784,
          0.3064079214708921,
          0.3064079214708921,
          0.23657258342599619,
          0.2343124751433308,
          0.1877196682992684,
          0.18474550631542724
         ],
         "yaxis": "y"
        },
        {
         "customdata": [
          [
           28,
           "cell proliferation disorder",
           0.0127211974468727,
           "SMAD3;NRG1",
           "GCST004144",
           "PMID:28195142"
          ],
          [
           28,
           "cell proliferation disorder",
           0.0146984864932231,
           "KRT8;CCND1;ZBTB38;ADGRG1;LAMC1;MYEOV;ADAMTSL1;ITGA6;ETS2;KLF7;NCEH1",
           "GCST011049",
           "PMID:33398198"
          ],
          [
           28,
           "cell proliferation disorder",
           0.0164824855222775,
           "LAMC1;SMAD3;BMP2",
           "SAIGE_208",
           null
          ],
          [
           28,
           "cell proliferation disorder",
           0.0766570865649164,
           "SYNE1;SLC38A2;CD44",
           "GCST90018934",
           "PMID:34594039"
          ],
          [
           28,
           "cell proliferation disorder",
           0.1294180205409564,
           "PTHLH;CCND1",
           "FINNGEN_R6_C3_BREAST_HER2NEG",
           null
          ],
          [
           28,
           "cell proliferation disorder",
           0.1324857132366977,
           "HHIP;KLF2;LAMC1;BMP2",
           "GCST007992",
           "PMID:31089142"
          ],
          [
           28,
           "cell proliferation disorder",
           0.1818776943690905,
           "PTHLH;CCND1",
           "SAIGE_174",
           null
          ],
          [
           28,
           "cell proliferation disorder",
           0.2029117111867061,
           "EGFR",
           "GCST004349",
           "PMID:28346443"
          ],
          [
           28,
           "cell proliferation disorder",
           0.2029117111867061,
           "GSDMC",
           "GCST004347",
           "PMID:28346443"
          ],
          [
           28,
           "cell proliferation disorder",
           0.2029117111867061,
           "BNC2",
           "GCST004415",
           "PMID:28346442"
          ],
          [
           28,
           "cell proliferation disorder",
           0.2091461784088327,
           "NTN4;SMAD3",
           "GCST90018827",
           "PMID:34594039"
          ],
          [
           28,
           "cell proliferation disorder",
           0.2324915676952509,
           "MYEOV",
           "GCST004710",
           "PMID:28598434"
          ],
          [
           28,
           "cell proliferation disorder",
           0.2506924396117208,
           "BNC2;FHL2",
           "SAIGE_172",
           null
          ],
          [
           28,
           "cell proliferation disorder",
           0.26097745442866,
           "BNC2",
           "FINNGEN_R6_L12_ACTINKERA",
           null
          ],
          [
           28,
           "cell proliferation disorder",
           0.26097745442866,
           "BNC2",
           "GCST004478",
           "PMID:28346442"
          ],
          [
           28,
           "cell proliferation disorder",
           0.2884096921512057,
           "DPP9",
           "GCST009758",
           "PMID:31710517"
          ],
          [
           28,
           "cell proliferation disorder",
           0.2884096921512057,
           "ELL2",
           "GCST004483",
           "PMID:27363682"
          ],
          [
           28,
           "cell proliferation disorder",
           0.2884096921512057,
           "NRG1",
           "GCST008834",
           "PMID:31326317"
          ],
          [
           28,
           "cell proliferation disorder",
           0.2884096921512057,
           "NRG1",
           "GCST012199",
           "PMID:32889700"
          ],
          [
           28,
           "cell proliferation disorder",
           0.2884096921512057,
           "CCND1",
           "FINNGEN_R6_C3_BREAST_HERPLUS",
           null
          ],
          [
           28,
           "cell proliferation disorder",
           0.2884096921512057,
           "CCND1",
           "FINNGEN_R6_C3_BREAST_HERPLUS_EXALLC",
           null
          ],
          [
           28,
           "cell proliferation disorder",
           0.3033898965078667,
           "PTPN22;BNC2;ST3GAL6",
           "GCST008871",
           "PMID:31174203"
          ],
          [
           28,
           "cell proliferation disorder",
           0.3338856735628603,
           "BNC2;ST3GAL6",
           "GCST90018921",
           "PMID:34594039"
          ],
          [
           28,
           "cell proliferation disorder",
           0.3402671527338443,
           "DNAJC1",
           "FINNGEN_R6_N14_PROSTHYPERPLA",
           null
          ],
          [
           28,
           "cell proliferation disorder",
           0.364765826894233,
           "NRG1",
           "GCST008836_2",
           "PMID:31326317"
          ],
          [
           28,
           "cell proliferation disorder",
           0.364765826894233,
           "NRG1",
           "GCST012201",
           "PMID:32889700"
          ],
          [
           28,
           "cell proliferation disorder",
           0.364765826894233,
           "BNC2",
           "GCST008872",
           "PMID:31174203"
          ],
          [
           28,
           "cell proliferation disorder",
           0.4110766820417362,
           "SYNE1",
           "FINNGEN_R6_CD2_BENIGN",
           null
          ],
          [
           28,
           "cell proliferation disorder",
           0.4110766820417362,
           "SYNE1",
           "FINNGEN_R6_CD2_BENIGN_EXALLC",
           null
          ],
          [
           28,
           "cell proliferation disorder",
           0.4110766820417362,
           "CCND1",
           "FINNGEN_R6_C3_BREAST",
           null
          ],
          [
           28,
           "cell proliferation disorder",
           0.4110766820417362,
           "MYEOV",
           "FINNGEN_R6_C3_PROSTATE_EXALLC",
           null
          ],
          [
           28,
           "cell proliferation disorder",
           0.432954510734594,
           "IL1RL1",
           "GCST90018883",
           "PMID:34594039"
          ],
          [
           28,
           "cell proliferation disorder",
           0.440015962724217,
           "GPRC5A;CCND1",
           "GCST010304",
           "PMID:32341527"
          ],
          [
           28,
           "cell proliferation disorder",
           0.4540223686133007,
           "BNC2",
           "GCST010148",
           "PMID:32041948"
          ],
          [
           28,
           "cell proliferation disorder",
           0.5362908613435536,
           "BNC2;ST3GAL6",
           "GCST008870",
           "PMID:31174203"
          ],
          [
           28,
           "cell proliferation disorder",
           0.5482204356563489,
           "MYEOV",
           "FINNGEN_R6_C3_MALE_GENITAL",
           null
          ],
          [
           28,
           "cell proliferation disorder",
           0.5482204356563489,
           "MYEOV",
           "FINNGEN_R6_C3_MALE_GENITAL_EXALLC",
           null
          ],
          [
           28,
           "cell proliferation disorder",
           0.5650189662974279,
           "KDR",
           "SAIGE_728_71",
           null
          ],
          [
           28,
           "cell proliferation disorder",
           0.6401214652837192,
           "BNC2",
           "SAIGE_172_2",
           null
          ],
          [
           28,
           "cell proliferation disorder",
           0.6545542277204894,
           "PTHLH;DNAJC1;CCND1",
           "GCST90090980",
           "PMID:32139696"
          ],
          [
           28,
           "cell proliferation disorder",
           0.6664086749912743,
           "SSR3",
           "GCST004635",
           "PMID:28604728"
          ],
          [
           28,
           "cell proliferation disorder",
           0.7343326708121283,
           "BNC2",
           "GCST90027058",
           "PMID:34290314"
          ]
         ],
         "hovertemplate": "trait_category=%{customdata[1]}<br>trait_reported=%{x}<br>-log10(p-value)=%{y}<br>program_name=%{customdata[0]}<br>P-value=%{customdata[2]}<br>Genes=%{customdata[3]}<br>study_id=%{customdata[4]}<br>pmid=%{customdata[5]}<extra></extra>",
         "legendgroup": "cell proliferation disorder",
         "marker": {
          "color": "#00cc96",
          "symbol": "circle"
         },
         "mode": "markers",
         "name": "cell proliferation disorder",
         "orientation": "v",
         "showlegend": true,
         "type": "scatter",
         "x": [
          "Thyroid cancer",
          "Prostate cancer",
          "Benign neoplasm of colon",
          "Uterine fibroids",
          "Malignant neoplasm of breast, HER2-negative",
          "Colorectal cancer",
          "Breast cancer",
          "Glioblastoma",
          "Glioma",
          "Invasive epithelial ovarian cancer",
          "Colon polyp",
          "Renal cell carcinoma",
          "Skin cancer",
          "Actinic keratosis",
          "Serous invasive ovarian cancer",
          "Idiopathic pulmonary fibrosis",
          "Multiple myeloma",
          "Non-small cell lung cancer",
          "Non-small cell lung cancer",
          "Malignant neoplasm of breast, HER-positive",
          "Malignant neoplasm of breast, HER-positive (controls excluding all cancers)",
          "Basal cell carcinoma",
          "Skin cancer",
          "Hyperplasia of prostate",
          "Lung adenocarcinoma [East Asian]",
          "Lung adenocarcinoma",
          "Squamous cell carcinoma",
          "Benign neoplasms",
          "Benign neoplasms (controls excluding all cancers)",
          "Malignant neoplasm of breast",
          "Malignant neoplasm of prostate (controls excluding all cancers)",
          "Nasal polyps",
          "Cutaneous malignant melanoma",
          "Cutaneous squamous cell carcinoma",
          "Keratinocyte cancer (MTAG)",
          "malignant neoplasm of male genital organs",
          "malignant neoplasm of male genital organs (controls excluding all cancers)",
          "Contracture of palmar fascia [dupuytren's disease]",
          "Other non-epithelial cancer of skin",
          "Breast cancer",
          "Testicular germ cell tumor",
          "Non-melanoma skin cancer"
         ],
         "xaxis": "x",
         "y": [
          1.8954720066048605,
          1.8327273823594386,
          1.7829772970553808,
          1.1154476905972448,
          0.8880052470320782,
          0.8778309518931976,
          0.7402205599052848,
          0.69269288664341,
          0.69269288664341,
          0.69269288664341,
          0.679550066589539,
          0.6335927940421237,
          0.6008587633071252,
          0.583397009290636,
          0.583397009290636,
          0.5399901490252206,
          0.5399901490252206,
          0.5399901490252206,
          0.5399901490252206,
          0.5399901490252206,
          0.5399901490252206,
          0.517998886185885,
          0.4764022153453847,
          0.4681799729581446,
          0.43798585533934864,
          0.43798585533934864,
          0.43798585533934864,
          0.38607715748823784,
          0.38607715748823784,
          0.38607715748823784,
          0.38607715748823784,
          0.3635577313019558,
          0.3565315680654162,
          0.3429227499490337,
          0.2705996035625373,
          0.261044779582057,
          0.261044779582057,
          0.24793697373796625,
          0.19373760930168227,
          0.18405436771644365,
          0.17625935812539978,
          0.13410714939290747
         ],
         "yaxis": "y"
        },
        {
         "customdata": [
          [
           28,
           "disease of ear",
           0.1403010609731445,
           "KDR",
           "FINNGEN_R6_H8_OTOSCLE",
           null
          ]
         ],
         "hovertemplate": "trait_category=%{customdata[1]}<br>trait_reported=%{x}<br>-log10(p-value)=%{y}<br>program_name=%{customdata[0]}<br>P-value=%{customdata[2]}<br>Genes=%{customdata[3]}<br>study_id=%{customdata[4]}<br>pmid=%{customdata[5]}<extra></extra>",
         "legendgroup": "disease of ear",
         "marker": {
          "color": "#ab63fa",
          "symbol": "circle"
         },
         "mode": "markers",
         "name": "disease of ear",
         "orientation": "v",
         "showlegend": true,
         "type": "scatter",
         "x": [
          "Otosclerosis"
         ],
         "xaxis": "x",
         "y": [
          0.852939044773209
         ],
         "yaxis": "y"
        },
        {
         "customdata": [
          [
           28,
           "disease of visual system",
           0.0165649323786507,
           "NTM;BMP2;FBN1;ZBTB38;CD55;C1GALT1;ADAMTSL1;CDH2;TJP2;KCNMA1",
           "GCST010378",
           "PMID:32352494"
          ],
          [
           28,
           "disease of visual system",
           0.2931518534952576,
           "PTHLH;LMO7;ALCAM",
           "GCST90011770",
           "PMID:33627673"
          ],
          [
           28,
           "disease of visual system",
           0.4540223686133007,
           "PRDX6",
           "GCST009131",
           "PMID:31672989"
          ],
          [
           28,
           "disease of visual system",
           0.5213412637283984,
           "PRKAG2;PTPN1;LMO7",
           "GCST009722",
           "PMID:31959993"
          ]
         ],
         "hovertemplate": "trait_category=%{customdata[1]}<br>trait_reported=%{x}<br>-log10(p-value)=%{y}<br>program_name=%{customdata[0]}<br>P-value=%{customdata[2]}<br>Genes=%{customdata[3]}<br>study_id=%{customdata[4]}<br>pmid=%{customdata[5]}<extra></extra>",
         "legendgroup": "disease of visual system",
         "marker": {
          "color": "#FFA15A",
          "symbol": "circle"
         },
         "mode": "markers",
         "name": "disease of visual system",
         "orientation": "v",
         "showlegend": true,
         "type": "scatter",
         "x": [
          "Spherical equivalent",
          "Glaucoma (primary open-angle)",
          "Systemic sclerosis",
          "Glaucoma (multi-trait analysis)"
         ],
         "xaxis": "x",
         "y": [
          1.7808103326548737,
          0.5329073555804363,
          0.3429227499490337,
          0.2828778996647193
         ],
         "yaxis": "y"
        },
        {
         "customdata": [
          [
           28,
           "endocrine system disease",
           0.0816614631321353,
           "BMP2;HMGA2",
           "GCST90018853",
           "PMID:34594039"
          ],
          [
           28,
           "endocrine system disease",
           0.1552144396228272,
           "BMP2;HMGA2",
           "FINNGEN_R6_E4_GOITREMULTINOD",
           null
          ],
          [
           28,
           "endocrine system disease",
           0.2324915676952509,
           "PTPN22",
           "GCST90011871",
           "PMID:33574239"
          ],
          [
           28,
           "endocrine system disease",
           0.26097745442866,
           "PTPN22",
           "GCST90018860",
           "PMID:34594039"
          ],
          [
           28,
           "endocrine system disease",
           0.3136441475041366,
           "PTPN22;IFNE;CD44",
           "FINNGEN_R6_E4_HYTHY_AI_STRICT_PURCH",
           null
          ],
          [
           28,
           "endocrine system disease",
           0.4011811361269655,
           "PTPN22;IFNE",
           "FINNGEN_R6_E4_THYROID",
           null
          ],
          [
           28,
           "endocrine system disease",
           0.4540223686133007,
           "NRG1",
           "FINNGEN_R6_THYROTOXICOSIS",
           null
          ],
          [
           28,
           "endocrine system disease",
           0.4791837178178418,
           "BHLHE40;PTPN22;LRRFIP2;CD274",
           "GCST007073",
           "PMID:30595370"
          ],
          [
           28,
           "endocrine system disease",
           0.4839639974484881,
           "BHLHE40;PTPN22;CD44",
           "GCST010571",
           "PMID:32581359"
          ],
          [
           28,
           "endocrine system disease",
           0.5126595102986269,
           "PTPN22",
           "GCST90018847",
           "PMID:34594039"
          ]
         ],
         "hovertemplate": "trait_category=%{customdata[1]}<br>trait_reported=%{x}<br>-log10(p-value)=%{y}<br>program_name=%{customdata[0]}<br>P-value=%{customdata[2]}<br>Genes=%{customdata[3]}<br>study_id=%{customdata[4]}<br>pmid=%{customdata[5]}<extra></extra>",
         "legendgroup": "endocrine system disease",
         "marker": {
          "color": "#19d3f3",
          "symbol": "circle"
         },
         "mode": "markers",
         "name": "endocrine system disease",
         "orientation": "v",
         "showlegend": true,
         "type": "scatter",
         "x": [
          "Goiter",
          "Nontoxic multinodular goitre",
          "Addison's disease",
          "Hyperthyroidism",
          "Hypothyroidism, strict autoimmune, 3 medication purchases required",
          "Disorders of the thyroid gland",
          "Thyrotoxicosis",
          "Hypothyroidism",
          "Autoimmune thyroid disease",
          "Graves' disease"
         ],
         "xaxis": "x",
         "y": [
          1.0879828430694005,
          0.8090678787169587,
          0.6335927940421237,
          0.583397009290636,
          0.5035628118421654,
          0.3966594960618182,
          0.3429227499490337,
          0.31949794725897973,
          0.3151869447419913,
          0.2901709816590147
         ],
         "yaxis": "y"
        },
        {
         "customdata": [
          [
           28,
           "gastrointestinal disease",
           0.0415195526482934,
           "CALD1;NAV3",
           "FINNGEN_R6_ABDOM_HERNIA",
           null
          ],
          [
           28,
           "gastrointestinal disease",
           0.0766570865649164,
           "TNFSF18;ZFP36L1;ITPR3",
           "GCST005523",
           "PMID:22057235"
          ],
          [
           28,
           "gastrointestinal disease",
           0.0930131343658039,
           "TNFSF18;PTPN22",
           "GCST90016610",
           "PMID:33686288"
          ],
          [
           28,
           "gastrointestinal disease",
           0.2324915676952509,
           "SMAD3",
           "GCST90027899",
           "PMID:34506852"
          ],
          [
           28,
           "gastrointestinal disease",
           0.3620170809151957,
           "TNFSF18;ZFP36L1;IL1RL1;SMAD3",
           "GCST004131",
           "PMID:28067908"
          ],
          [
           28,
           "gastrointestinal disease",
           0.4743101403678223,
           "ANPEP",
           "GCST007209",
           "PMID:30504769"
          ],
          [
           28,
           "gastrointestinal disease",
           0.6262138283419318,
           "PDGFC",
           "GCST006479",
           "PMID:30177863"
          ],
          [
           28,
           "gastrointestinal disease",
           0.6907820327807073,
           "HHIP",
           "GCST90094908",
           "PMID:35047847"
          ],
          [
           28,
           "gastrointestinal disease",
           0.8933319691625436,
           "ALCAM",
           "GCST90000514",
           "PMID:34187846"
          ]
         ],
         "hovertemplate": "trait_category=%{customdata[1]}<br>trait_reported=%{x}<br>-log10(p-value)=%{y}<br>program_name=%{customdata[0]}<br>P-value=%{customdata[2]}<br>Genes=%{customdata[3]}<br>study_id=%{customdata[4]}<br>pmid=%{customdata[5]}<extra></extra>",
         "legendgroup": "gastrointestinal disease",
         "marker": {
          "color": "#FF6692",
          "symbol": "circle"
         },
         "mode": "markers",
         "name": "gastrointestinal disease",
         "orientation": "v",
         "showlegend": true,
         "type": "scatter",
         "x": [
          "Hernia of abodminal wall",
          "Celiac disease",
          "Crohn's disease vs rheumatoid arthritis (ordinary least squares (OLS))",
          "Eosinophilic esophagitis",
          "Inflammatory bowel disease",
          "Gallstone disease",
          "Diverticular disease",
          "Nonalcoholic fatty liver disease (imputed)",
          "Gastroesophageal reflux disease"
         ],
         "xaxis": "x",
         "y": [
          1.3817473344328233,
          1.1154476905972448,
          1.0314557204801538,
          0.6335927940421237,
          0.44127093783089844,
          0.3239375903835209,
          0.20327734632260805,
          0.16065896694371,
          0.04898712388374528
         ],
         "yaxis": "y"
        },
        {
         "customdata": [
          [
           28,
           "immune system disease",
           0.0479168888702977,
           "ZFP36L1;PLEC;UBASH3B;PKIA;ZBTB38;HHEX;RND3;PVR;RRAS2",
           "GCST009597",
           "PMID:31604244"
          ],
          [
           28,
           "immune system disease",
           0.3201345090186011,
           "IL1RL1;SMAD3",
           "GCST010984",
           "PMID:32603359"
          ],
          [
           28,
           "immune system disease",
           0.3338856735628603,
           "IL1RL1;SMAD3",
           "GCST010985",
           "PMID:32603359"
          ],
          [
           28,
           "immune system disease",
           0.8497556884109032,
           "PTPN22",
           "GCST007071",
           "PMID:30595370"
          ]
         ],
         "hovertemplate": "trait_category=%{customdata[1]}<br>trait_reported=%{x}<br>-log10(p-value)=%{y}<br>program_name=%{customdata[0]}<br>P-value=%{customdata[2]}<br>Genes=%{customdata[3]}<br>study_id=%{customdata[4]}<br>pmid=%{customdata[5]}<extra></extra>",
         "legendgroup": "immune system disease",
         "marker": {
          "color": "#B6E880",
          "symbol": "circle"
         },
         "mode": "markers",
         "name": "immune system disease",
         "orientation": "v",
         "showlegend": true,
         "type": "scatter",
         "x": [
          "Multiple sclerosis",
          "Allergic disease (asthma, hay fever and/or eczema) (multivariate analysis)",
          "Allergic disease (asthma, hay fever and/or eczema) (age of onset)",
          "Autoimmune traits"
         ],
         "xaxis": "x",
         "y": [
          1.3195113874118296,
          0.49466750839708423,
          0.4764022153453847,
          0.070705919493126
         ],
         "yaxis": "y"
        },
        {
         "customdata": [
          [
           28,
           "infectious disease",
           0.2029117111867061,
           "DPP9",
           "GCST90095124",
           "PMID:34237774"
          ],
          [
           28,
           "infectious disease",
           0.432954510734594,
           "IL1RL1",
           "GCST002772",
           "PMID:25642632"
          ]
         ],
         "hovertemplate": "trait_category=%{customdata[1]}<br>trait_reported=%{x}<br>-log10(p-value)=%{y}<br>program_name=%{customdata[0]}<br>P-value=%{customdata[2]}<br>Genes=%{customdata[3]}<br>study_id=%{customdata[4]}<br>pmid=%{customdata[5]}<extra></extra>",
         "legendgroup": "infectious disease",
         "marker": {
          "color": "#FF97FF",
          "symbol": "circle"
         },
         "mode": "markers",
         "name": "infectious disease",
         "orientation": "v",
         "showlegend": true,
         "type": "scatter",
         "x": [
          "COVID-19 (hospitalized vs population)",
          "Leprosy"
         ],
         "xaxis": "x",
         "y": [
          0.69269288664341,
          0.3635577313019558
         ],
         "yaxis": "y"
        },
        {
         "customdata": [
          [
           28,
           "injury, poisoning or other complication",
           0.0641034746758852,
           "HMGA2;HHEX;IGF2BP2;SPRY2",
           "FINNGEN_R6_E4_DM2NASCOMP",
           null
          ],
          [
           28,
           "injury, poisoning or other complication",
           0.2884096921512057,
           "PTPN22",
           "FINNGEN_R6_E4_DM1NASCOMP",
           null
          ]
         ],
         "hovertemplate": "trait_category=%{customdata[1]}<br>trait_reported=%{x}<br>-log10(p-value)=%{y}<br>program_name=%{customdata[0]}<br>P-value=%{customdata[2]}<br>Genes=%{customdata[3]}<br>study_id=%{customdata[4]}<br>pmid=%{customdata[5]}<extra></extra>",
         "legendgroup": "injury, poisoning or other complication",
         "marker": {
          "color": "#FECB52",
          "symbol": "circle"
         },
         "mode": "markers",
         "name": "injury, poisoning or other complication",
         "orientation": "v",
         "showlegend": true,
         "type": "scatter",
         "x": [
          "Type 2 diabetes with other specified/multiple/unspecified complications",
          "Type 1 diabetes with other specified/multiple/unspecified complications"
         ],
         "xaxis": "x",
         "y": [
          1.1931184292695651,
          0.5399901490252206
         ],
         "yaxis": "y"
        },
        {
         "customdata": [
          [
           28,
           "integumentary system disease",
           0.0187826082144406,
           "ZBTB38;IL1RL1;SMAD3;ZNF217",
           "GCST90086149",
           "PMID:34116867"
          ],
          [
           28,
           "integumentary system disease",
           0.2031524573167717,
           "BNC2;NOTCH2;CTSC",
           "GCST007086",
           "PMID:30595370"
          ],
          [
           28,
           "integumentary system disease",
           0.2884096921512057,
           "BNC2",
           "FINNGEN_R6_L12_NONIONRADISKIN",
           null
          ],
          [
           28,
           "integumentary system disease",
           0.3201345090186011,
           "MYEOV;FST",
           "GCST90092000",
           "PMID:35132056"
          ],
          [
           28,
           "integumentary system disease",
           0.414272217215449,
           "PTPN22;PTPN1",
           "GCST004785",
           "PMID:27723757"
          ],
          [
           28,
           "integumentary system disease",
           0.7133804193970564,
           "FGF5",
           "GCST005116",
           "PMID:29146897"
          ]
         ],
         "hovertemplate": "trait_category=%{customdata[1]}<br>trait_reported=%{x}<br>-log10(p-value)=%{y}<br>program_name=%{customdata[0]}<br>P-value=%{customdata[2]}<br>Genes=%{customdata[3]}<br>study_id=%{customdata[4]}<br>pmid=%{customdata[5]}<extra></extra>",
         "legendgroup": "integumentary system disease",
         "marker": {
          "color": "#636efa",
          "symbol": "circle"
         },
         "mode": "markers",
         "name": "integumentary system disease",
         "orientation": "v",
         "showlegend": true,
         "type": "scatter",
         "x": [
          "Atopic dermatitis",
          "Sunburns",
          "Skin changes due to chronic exposure to nonionizing radiation",
          "acne vulgaris",
          "Vitiligo",
          "Male-pattern baldness"
         ],
         "xaxis": "x",
         "y": [
          1.7262441003293318,
          0.6921779201125643,
          0.5399901490252206,
          0.49466750839708423,
          0.382714191284395,
          0.146678815189021
         ],
         "yaxis": "y"
        },
        {
         "customdata": [
          [
           28,
           "musculoskeletal or connective tissue disease",
           0.0056039089751062,
           "PTHLH;HHIP;IL11;GSDMC",
           "GCST90034524",
           "PMID:34450027"
          ],
          [
           28,
           "musculoskeletal or connective tissue disease",
           0.0109432430754543,
           "IL11;SMAD3;GSDMC",
           "GCST006926_2",
           "PMID:30374069"
          ],
          [
           28,
           "musculoskeletal or connective tissue disease",
           0.0506528360458825,
           "PLXNA2;BNC2",
           "GCST008789",
           "PMID:31417091"
          ],
          [
           28,
           "musculoskeletal or connective tissue disease",
           0.0516549869346629,
           "PRKAG2;TMEM171;GCKR",
           "GCST012338",
           "PMID:33832965"
          ],
          [
           28,
           "musculoskeletal or connective tissue disease",
           0.0604267993424365,
           "HMGA2;CRADD",
           "FINNGEN_R6_KNEE_ARTHROSIS",
           null
          ],
          [
           28,
           "musculoskeletal or connective tissue disease",
           0.0604267993424365,
           "HMGA2;CRADD",
           "FINNGEN_R6_M13_ARTHROSIS_KNEE",
           null
          ],
          [
           28,
           "musculoskeletal or connective tissue disease",
           0.1403010609731445,
           "CRADD",
           "FINNGEN_R6_RHEUMA_ENDPOINTS",
           null
          ],
          [
           28,
           "musculoskeletal or connective tissue disease",
           0.1721960268547123,
           "SMAD3",
           "GCST90018922",
           "PMID:34594039"
          ],
          [
           28,
           "musculoskeletal or connective tissue disease",
           0.2324915676952509,
           "PTPN22",
           "FINNGEN_R6_RHEUMA_SEROPOS_WIDE",
           null
          ],
          [
           28,
           "musculoskeletal or connective tissue disease",
           0.26097745442866,
           "ZFP36L1",
           "GCST90010715",
           "PMID:33106285"
          ],
          [
           28,
           "musculoskeletal or connective tissue disease",
           0.26097745442866,
           "PTPN22",
           "FINNGEN_R6_M13_POLYARTHROPATHIES",
           null
          ],
          [
           28,
           "musculoskeletal or connective tissue disease",
           0.2884096921512057,
           "GSDMC",
           "FINNGEN_R6_M13_INTERVERTEB",
           null
          ],
          [
           28,
           "musculoskeletal or connective tissue disease",
           0.364765826894233,
           "ETS2",
           "GCST90018887",
           "PMID:34594039"
          ],
          [
           28,
           "musculoskeletal or connective tissue disease",
           0.364765826894233,
           "ETS2",
           "GCST006980",
           "PMID:30598549"
          ],
          [
           28,
           "musculoskeletal or connective tissue disease",
           0.8709663320144172,
           "ZFP36L1",
           "GCST90013534",
           "PMID:33310728"
          ]
         ],
         "hovertemplate": "trait_category=%{customdata[1]}<br>trait_reported=%{x}<br>-log10(p-value)=%{y}<br>program_name=%{customdata[0]}<br>P-value=%{customdata[2]}<br>Genes=%{customdata[3]}<br>study_id=%{customdata[4]}<br>pmid=%{customdata[5]}<extra></extra>",
         "legendgroup": "musculoskeletal or connective tissue disease",
         "marker": {
          "color": "#EF553B",
          "symbol": "circle"
         },
         "mode": "markers",
         "name": "musculoskeletal or connective tissue disease",
         "orientation": "v",
         "showlegend": true,
         "type": "scatter",
         "x": [
          "Osteoarthritis (with total hip replacement)",
          "Osteoarthritis (hip) [additive]",
          "Adolescent idiopathic scoliosis",
          "Gout",
          "Gonarthrosis [arthrosis of knee](FG)",
          "Gonarthrosis",
          "Finngen Rheumatological endpoints",
          "Spinal canal stenosis",
          "Seropositive rheumatoid arthritis, wide",
          "Arthritis (juvenile idiopathic)",
          "Polyarthropathies",
          "Other intervertebral disc disorders",
          "Osteoporosis",
          "Fractures",
          "Rheumatoid arthritis"
         ],
         "xaxis": "x",
         "y": [
          2.251508927620765,
          1.9608539539574679,
          1.2953962335298455,
          1.2868877439670932,
          1.2187704086430016,
          1.2187704086430016,
          0.852939044773209,
          0.763976873410708,
          0.6335927940421237,
          0.583397009290636,
          0.583397009290636,
          0.5399901490252206,
          0.43798585533934864,
          0.43798585533934864,
          0.059998632711006784
         ],
         "yaxis": "y"
        },
        {
         "customdata": [
          [
           28,
           "nervous system disease",
           0.1721960268547123,
           "PLEC",
           "GCST012182",
           "PMID:34099642"
          ],
          [
           28,
           "nervous system disease",
           0.414272217215449,
           "MAP4K4;CTSB",
           "GCST004902",
           "PMID:28892059"
          ],
          [
           28,
           "nervous system disease",
           0.414272217215449,
           "MAP4K4;CTSB",
           "GCST010991",
           "PMID:32201043"
          ],
          [
           28,
           "nervous system disease",
           0.5482204356563489,
           "KLF7",
           "NEALE2_2247_1",
           null
          ],
          [
           28,
           "nervous system disease",
           0.5956837714676328,
           "NTM;NR2F2;ADGRL2;FGFR1;PLXNA2;SPOCK1;PTPRN2;ANO4;BNC2;NLGN1;DNAJC1",
           "GCST90061435",
           "PMID:34446935"
          ],
          [
           28,
           "nervous system disease",
           0.6401214652837192,
           "CEP170",
           "GCST90016618",
           "PMID:33686288"
          ],
          [
           28,
           "nervous system disease",
           0.6535133949779608,
           "PLEC",
           "GCST012464",
           "PMID:34002096"
          ],
          [
           28,
           "nervous system disease",
           0.7802746477463247,
           "TENM3",
           "GCST010017",
           "PMID:32231276"
          ],
          [
           28,
           "nervous system disease",
           0.7884651475734836,
           "KLF7",
           "GCST012090",
           "PMID:33479212"
          ],
          [
           28,
           "nervous system disease",
           0.8039445991516982,
           "TENM3",
           "GCST90020095",
           "PMID:34159505"
          ]
         ],
         "hovertemplate": "trait_category=%{customdata[1]}<br>trait_reported=%{x}<br>-log10(p-value)=%{y}<br>program_name=%{customdata[0]}<br>P-value=%{customdata[2]}<br>Genes=%{customdata[3]}<br>study_id=%{customdata[4]}<br>pmid=%{customdata[5]}<extra></extra>",
         "legendgroup": "nervous system disease",
         "marker": {
          "color": "#00cc96",
          "symbol": "circle"
         },
         "mode": "markers",
         "name": "nervous system disease",
         "orientation": "v",
         "showlegend": true,
         "type": "scatter",
         "x": [
          "Alzheimer's disease",
          "Parkinson's disease",
          "Parkinson's disease",
          "Yes | hearing difficulty/problems",
          "Externalizing behaviour (multivariate analysis)",
          "Schizophrenia vs ADHD (ordinary least squares (OLS))",
          "Bipolar I disorder",
          "Neuroticism",
          "Major depressive disorder (MTAG)",
          "Schizophrenia (MTAG)"
         ],
         "xaxis": "x",
         "y": [
          0.763976873410708,
          0.382714191284395,
          0.382714191284395,
          0.261044779582057,
          0.2249842314574106,
          0.19373760930168227,
          0.18474550631542724,
          0.10775250371210043,
          0.10321749897559096,
          0.09477387800739893
         ],
         "yaxis": "y"
        },
        {
         "customdata": [
          [
           28,
           "pancreas disease",
           0.0142944769076859,
           "IGF2BP2;NOTCH2;SPRY2;HMGA2;HHEX;PTPN22",
           "FINNGEN_R6_DIABETES_FG",
           null
          ],
          [
           28,
           "pancreas disease",
           0.1011749952748766,
           "HMGA2;HHEX;IGF2BP2;SPRY2",
           "GCST007077",
           "PMID:30595370"
          ]
         ],
         "hovertemplate": "trait_category=%{customdata[1]}<br>trait_reported=%{x}<br>-log10(p-value)=%{y}<br>program_name=%{customdata[0]}<br>P-value=%{customdata[2]}<br>Genes=%{customdata[3]}<br>study_id=%{customdata[4]}<br>pmid=%{customdata[5]}<extra></extra>",
         "legendgroup": "pancreas disease",
         "marker": {
          "color": "#ab63fa",
          "symbol": "circle"
         },
         "mode": "markers",
         "name": "pancreas disease",
         "orientation": "v",
         "showlegend": true,
         "type": "scatter",
         "x": [
          "Diabetes, varying definitions",
          "Type 2 diabetes"
         ],
         "xaxis": "x",
         "y": [
          1.8448317325943542,
          0.9949268072190255
         ],
         "yaxis": "y"
        },
        {
         "customdata": [
          [
           28,
           "phenotype",
           0.0048490662544074,
           "ANKRD1;NTM;BMP2;FBN2;TSC22D2;LRRC38;ASAP1;CCND1;FBN1;SEMA3A;ADAMTSL1;CDH2;EZR;RRAS2;ZBTB38;SGK1;C1GALT1;CD55;TJP2;ADTRP;TENM3",
           "GCST010002",
           "PMID:32231278"
          ],
          [
           28,
           "phenotype",
           0.0068464374848499,
           "NTM;ZBTB38;ADAMTSL1;TJP2;KCNMA1",
           "GCST003997",
           "PMID:27182965"
          ],
          [
           28,
           "phenotype",
           0.012557868402829,
           "UBC;ZBTB38;SLC38A2;TUBB3;EZR;BNC2;PLAT",
           "NEALE2_1717",
           null
          ],
          [
           28,
           "phenotype",
           0.0131635387133963,
           "ZFP36L1;ZBTB38;SGK1;AKAP12;FGF5;SLC38A2;EZR;BNC2",
           "GCST006988",
           "PMID:30531825"
          ],
          [
           28,
           "phenotype",
           0.0138723231936714,
           "RPL22L1;SORBS2;SGK1;KLF2;ITGA6",
           "GCST90018939",
           "PMID:34594039"
          ],
          [
           28,
           "phenotype",
           0.027241182414967,
           "KCNMA1;ZBTB38;CD55",
           "GCST012400",
           "PMID:33830181"
          ],
          [
           28,
           "phenotype",
           0.0285793662741112,
           "LDLR;HMGCR;HMGA2;FGF5;CITED2;GCKR",
           "GCST90038690",
           "PMID:33959723"
          ],
          [
           28,
           "phenotype",
           0.0833954090350194,
           "NTM;ZBTB38;ADAMTSL1;TJP2;KCNMA1",
           "GCST006290",
           "PMID:29808027"
          ],
          [
           28,
           "phenotype",
           0.1421901253067051,
           "KRT8;FRMD6",
           "GCST004166",
           "PMID:28232668"
          ],
          [
           28,
           "phenotype",
           0.1552144396228272,
           "SULT1B1;SYNE1",
           "FINNGEN_R6_CD2_BENIGN_LEIOMYOMA_UTERI_EXALLC",
           null
          ],
          [
           28,
           "phenotype",
           0.1684548849046577,
           "SMAD3;SRPX",
           "FINNGEN_R6_K11_HERNIA",
           null
          ],
          [
           28,
           "phenotype",
           0.2029117111867061,
           "CALD1",
           "SAIGE_550_2",
           null
          ],
          [
           28,
           "phenotype",
           0.2091461784088327,
           "TUBA1A;TUBB3",
           "GCST90013421",
           "PMID:32989287"
          ],
          [
           28,
           "phenotype",
           0.26097745442866,
           "KLF7",
           "NEALE2_2257",
           null
          ],
          [
           28,
           "phenotype",
           0.264615267855465,
           "NAV3;PTPRN2",
           "GCST001712",
           "PMID:23049088"
          ],
          [
           28,
           "phenotype",
           0.3148271206073528,
           "SPRY2",
           "GCST004051",
           "PMID:28054174"
          ],
          [
           28,
           "phenotype",
           0.432954510734594,
           "ALCAM",
           "NEALE2_1940",
           null
          ],
          [
           28,
           "phenotype",
           0.4893888215916,
           "SMAD3;ZBTB38;ZNF217;IL1RL1;BNC2",
           "GCST007075",
           "PMID:30595370"
          ],
          [
           28,
           "phenotype",
           0.5126595102986269,
           "BNC2",
           "GCST005897",
           "PMID:29739929"
          ],
          [
           28,
           "phenotype",
           0.5126595102986269,
           "NLGN1",
           "GCST002759",
           "PMID:25628336"
          ],
          [
           28,
           "phenotype",
           0.5126595102986269,
           "GJA1",
           "GCST005337",
           "PMID:29397368"
          ],
          [
           28,
           "phenotype",
           0.5307755432140987,
           "GSPT1",
           "NEALE2_2724",
           null
          ],
          [
           28,
           "phenotype",
           0.5307755432140987,
           "KDR",
           "SAIGE_728_7",
           null
          ],
          [
           28,
           "phenotype",
           0.5482204356563489,
           "SRPX",
           "FINNGEN_R6_K11_HERING",
           null
          ],
          [
           28,
           "phenotype",
           0.5967715317994295,
           "ZFP36L1",
           "GCST006586",
           "PMID:30220432"
          ],
          [
           28,
           "phenotype",
           0.7133804193970564,
           "FGF5",
           "GCST90018793",
           "PMID:34594039"
          ]
         ],
         "hovertemplate": "trait_category=%{customdata[1]}<br>trait_reported=%{x}<br>-log10(p-value)=%{y}<br>program_name=%{customdata[0]}<br>P-value=%{customdata[2]}<br>Genes=%{customdata[3]}<br>study_id=%{customdata[4]}<br>pmid=%{customdata[5]}<extra></extra>",
         "legendgroup": "phenotype",
         "marker": {
          "color": "#FFA15A",
          "symbol": "circle"
         },
         "mode": "markers",
         "name": "phenotype",
         "orientation": "v",
         "showlegend": true,
         "type": "scatter",
         "x": [
          "Refractive error",
          "Myopia",
          "Skin colour",
          "Blond vs. brown/black hair color",
          "Varicose veins",
          "Low myopia vs hyperopia",
          "High cholesterol",
          "Myopia (age of diagnosis)",
          "Nonsyndromic cleft lip with cleft palate",
          "Leiomyoma of uterus (controls excluding all cancers)",
          "Hernia",
          "Diaphragmatic hernia",
          "Left-handedness",
          "Hearing difficulty/problems with background noise",
          "Myopia (pathological)",
          "Orofacial clefts",
          "Irritability",
          "Eczema",
          "Low tan response",
          "Motion sickness",
          "Headache",
          "Had menopause",
          "Fasciitis",
          "Inguinal hernia",
          "Urinary albumin excretion",
          "Angina pectoris"
         ],
         "xaxis": "x",
         "y": [
          2.3143418819337724,
          2.164535353052988,
          1.9010840723387188,
          1.8806273449842164,
          1.8578508016734436,
          1.5647740456156904,
          1.5439474055908136,
          1.0788578568639093,
          0.8471305630557451,
          0.8090678787169587,
          0.7735163907002108,
          0.69269288664341,
          0.679550066589539,
          0.583397009290636,
          0.5773851013651321,
          0.5019278626446574,
          0.3635577313019558,
          0.31034595483819133,
          0.2901709816590147,
          0.2901709816590147,
          0.2901709816590147,
          0.2750890965307801,
          0.2750890965307801,
          0.261044779582057,
          0.22419190248797974,
          0.146678815189021
         ],
         "yaxis": "y"
        },
        {
         "customdata": [
          [
           28,
           "reproductive system or breast disease",
           0.0330903605613875,
           "SYNE1;KDR",
           "FINNGEN_R6_N14_ENDOMETRIOSIS_OVARY",
           null
          ],
          [
           28,
           "reproductive system or breast disease",
           0.0604267993424365,
           "SYNE1;KDR",
           "GCST004549",
           "PMID:28537267"
          ],
          [
           28,
           "reproductive system or breast disease",
           0.070781736969569,
           "GSDMC;KCNMA1",
           "GCST002563",
           "PMID:25108383"
          ]
         ],
         "hovertemplate": "trait_category=%{customdata[1]}<br>trait_reported=%{x}<br>-log10(p-value)=%{y}<br>program_name=%{customdata[0]}<br>P-value=%{customdata[2]}<br>Genes=%{customdata[3]}<br>study_id=%{customdata[4]}<br>pmid=%{customdata[5]}<extra></extra>",
         "legendgroup": "reproductive system or breast disease",
         "marker": {
          "color": "#19d3f3",
          "symbol": "circle"
         },
         "mode": "markers",
         "name": "reproductive system or breast disease",
         "orientation": "v",
         "showlegend": true,
         "type": "scatter",
         "x": [
          "Endometriosis of ovary",
          "Endometriosis",
          "Hypospadias"
         ],
         "xaxis": "x",
         "y": [
          1.4802985006259477,
          1.2187704086430016,
          1.150078784068621
         ],
         "yaxis": "y"
        },
        {
         "customdata": [
          [
           28,
           "respiratory or thoracic disease",
           0.031483453619666,
           "IL1RL1;SMAD3;MAP4K4",
           "GCST009842",
           "PMID:31669095"
          ],
          [
           28,
           "respiratory or thoracic disease",
           0.0897353029899301,
           "IL1RL1;ZNF217;SMAD3;STEAP1B",
           "GCST009850",
           "PMID:31669095"
          ],
          [
           28,
           "respiratory or thoracic disease",
           0.0930131343658039,
           "IL1RL1;SMAD3",
           "GCST007797",
           "PMID:30929738"
          ],
          [
           28,
           "respiratory or thoracic disease",
           0.0930131343658039,
           "IL1RL1;SMAD3",
           "FINNGEN_R6_J10_LOWCHRON",
           null
          ],
          [
           28,
           "respiratory or thoracic disease",
           0.0930131343658039,
           "IL1RL1;SMAD3",
           "FINNGEN_R6_J10_UPPERDIS",
           null
          ],
          [
           28,
           "respiratory or thoracic disease",
           0.1135661736843901,
           "SMAD3;STEAP1B;CD70;ZBTB38;ZNF217;KLF2;IL1RL1",
           "GCST010043",
           "PMID:32296059"
          ],
          [
           28,
           "respiratory or thoracic disease",
           0.117245134805854,
           "ZFP36L1;SMAD3;GJA1;IL1RL1;HHEX",
           "GCST007076",
           "PMID:30595370"
          ],
          [
           28,
           "respiratory or thoracic disease",
           0.1294180205409564,
           "IL1RL1;SMAD3",
           "NEALE2_20002_1387",
           null
          ],
          [
           28,
           "respiratory or thoracic disease",
           0.1294180205409564,
           "IL1RL1;SMAD3",
           "FINNGEN_R6_J10_ASTHMACOPDKELA",
           null
          ],
          [
           28,
           "respiratory or thoracic disease",
           0.248080489700429,
           "SMAD3;ZBTB38;ZNF217;IL1RL1;BNC2",
           "GCST009717",
           "PMID:31361310"
          ],
          [
           28,
           "respiratory or thoracic disease",
           0.2924455546051778,
           "IL1RL1;SMAD3",
           "GCST006409",
           "PMID:30013184"
          ],
          [
           28,
           "respiratory or thoracic disease",
           0.3648960788707512,
           "HHIP;ASAP2;ZBTB38",
           "GCST007692",
           "PMID:30804561"
          ],
          [
           28,
           "respiratory or thoracic disease",
           0.5482204356563489,
           "SMAD3",
           "GCST90018895",
           "PMID:34594039"
          ]
         ],
         "hovertemplate": "trait_category=%{customdata[1]}<br>trait_reported=%{x}<br>-log10(p-value)=%{y}<br>program_name=%{customdata[0]}<br>P-value=%{customdata[2]}<br>Genes=%{customdata[3]}<br>study_id=%{customdata[4]}<br>pmid=%{customdata[5]}<extra></extra>",
         "legendgroup": "respiratory or thoracic disease",
         "marker": {
          "color": "#FF6692",
          "symbol": "circle"
         },
         "mode": "markers",
         "name": "respiratory or thoracic disease",
         "orientation": "v",
         "showlegend": true,
         "type": "scatter",
         "x": [
          "Asthma (adult onset)",
          "Atopic asthma",
          "Asthma onset (childhood vs adult)",
          "Chronic lower respiratory diseases",
          "Other diseases of upper respiratory tract",
          "Asthma",
          "Respiratory diseases",
          "Hayfever/allergic rhinitis | non-cancer illness code, self-reported",
          "Asthma/COPD (KELA code 203)",
          "Hay fever and/or eczema",
          "Allergic rhinitis",
          "Chronic obstructive pulmonary disease",
          "Pediatric asthma"
         ],
         "xaxis": "x",
         "y": [
          1.5019176331841797,
          1.047036666460407,
          1.0314557204801538,
          1.0314557204801538,
          1.0314557204801538,
          0.9447510063875973,
          0.9309051696858797,
          0.8880052470320782,
          0.8880052470320782,
          0.605407389490884,
          0.5339549758568718,
          0.4378308034863938,
          0.261044779582057
         ],
         "yaxis": "y"
        },
        {
         "customdata": [
          [
           28,
           "urinary system disease",
           0.1552144396228272,
           "PRKAG2;FGF5",
           "GCST008064",
           "PMID:31152163"
          ],
          [
           28,
           "urinary system disease",
           0.4647639506203323,
           "AHNAK2;USP18;CD44",
           "GCST011956",
           "PMID:33272962"
          ]
         ],
         "hovertemplate": "trait_category=%{customdata[1]}<br>trait_reported=%{x}<br>-log10(p-value)=%{y}<br>program_name=%{customdata[0]}<br>P-value=%{customdata[2]}<br>Genes=%{customdata[3]}<br>study_id=%{customdata[4]}<br>pmid=%{customdata[5]}<extra></extra>",
         "legendgroup": "urinary system disease",
         "marker": {
          "color": "#B6E880",
          "symbol": "circle"
         },
         "mode": "markers",
         "name": "urinary system disease",
         "orientation": "v",
         "showlegend": true,
         "type": "scatter",
         "x": [
          "Chronic kidney disease",
          "Systemic lupus erythematosus"
         ],
         "xaxis": "x",
         "y": [
          0.8090678787169587,
          0.33276756532906393
         ],
         "yaxis": "y"
        }
       ],
       "layout": {
        "annotations": [
         {
          "showarrow": false,
          "text": "Significance Threshold (0.05)",
          "x": 1,
          "xanchor": "right",
          "xref": "x domain",
          "y": 1.3010299956639813,
          "yanchor": "bottom",
          "yref": "y"
         }
        ],
        "height": 800,
        "legend": {
         "title": {
          "text": "trait_category"
         },
         "tracegroupgap": 0
        },
        "shapes": [
         {
          "line": {
           "dash": "dash"
          },
          "type": "line",
          "x0": 0,
          "x1": 1,
          "xref": "x domain",
          "y0": 1.3010299956639813,
          "y1": 1.3010299956639813,
          "yref": "y"
         }
        ],
        "template": {
         "data": {
          "bar": [
           {
            "error_x": {
             "color": "#2a3f5f"
            },
            "error_y": {
             "color": "#2a3f5f"
            },
            "marker": {
             "line": {
              "color": "#E5ECF6",
              "width": 0.5
             },
             "pattern": {
              "fillmode": "overlay",
              "size": 10,
              "solidity": 0.2
             }
            },
            "type": "bar"
           }
          ],
          "barpolar": [
           {
            "marker": {
             "line": {
              "color": "#E5ECF6",
              "width": 0.5
             },
             "pattern": {
              "fillmode": "overlay",
              "size": 10,
              "solidity": 0.2
             }
            },
            "type": "barpolar"
           }
          ],
          "carpet": [
           {
            "aaxis": {
             "endlinecolor": "#2a3f5f",
             "gridcolor": "white",
             "linecolor": "white",
             "minorgridcolor": "white",
             "startlinecolor": "#2a3f5f"
            },
            "baxis": {
             "endlinecolor": "#2a3f5f",
             "gridcolor": "white",
             "linecolor": "white",
             "minorgridcolor": "white",
             "startlinecolor": "#2a3f5f"
            },
            "type": "carpet"
           }
          ],
          "choropleth": [
           {
            "colorbar": {
             "outlinewidth": 0,
             "ticks": ""
            },
            "type": "choropleth"
           }
          ],
          "contour": [
           {
            "colorbar": {
             "outlinewidth": 0,
             "ticks": ""
            },
            "colorscale": [
             [
              0,
              "#0d0887"
             ],
             [
              0.1111111111111111,
              "#46039f"
             ],
             [
              0.2222222222222222,
              "#7201a8"
             ],
             [
              0.3333333333333333,
              "#9c179e"
             ],
             [
              0.4444444444444444,
              "#bd3786"
             ],
             [
              0.5555555555555556,
              "#d8576b"
             ],
             [
              0.6666666666666666,
              "#ed7953"
             ],
             [
              0.7777777777777778,
              "#fb9f3a"
             ],
             [
              0.8888888888888888,
              "#fdca26"
             ],
             [
              1,
              "#f0f921"
             ]
            ],
            "type": "contour"
           }
          ],
          "contourcarpet": [
           {
            "colorbar": {
             "outlinewidth": 0,
             "ticks": ""
            },
            "type": "contourcarpet"
           }
          ],
          "heatmap": [
           {
            "colorbar": {
             "outlinewidth": 0,
             "ticks": ""
            },
            "colorscale": [
             [
              0,
              "#0d0887"
             ],
             [
              0.1111111111111111,
              "#46039f"
             ],
             [
              0.2222222222222222,
              "#7201a8"
             ],
             [
              0.3333333333333333,
              "#9c179e"
             ],
             [
              0.4444444444444444,
              "#bd3786"
             ],
             [
              0.5555555555555556,
              "#d8576b"
             ],
             [
              0.6666666666666666,
              "#ed7953"
             ],
             [
              0.7777777777777778,
              "#fb9f3a"
             ],
             [
              0.8888888888888888,
              "#fdca26"
             ],
             [
              1,
              "#f0f921"
             ]
            ],
            "type": "heatmap"
           }
          ],
          "heatmapgl": [
           {
            "colorbar": {
             "outlinewidth": 0,
             "ticks": ""
            },
            "colorscale": [
             [
              0,
              "#0d0887"
             ],
             [
              0.1111111111111111,
              "#46039f"
             ],
             [
              0.2222222222222222,
              "#7201a8"
             ],
             [
              0.3333333333333333,
              "#9c179e"
             ],
             [
              0.4444444444444444,
              "#bd3786"
             ],
             [
              0.5555555555555556,
              "#d8576b"
             ],
             [
              0.6666666666666666,
              "#ed7953"
             ],
             [
              0.7777777777777778,
              "#fb9f3a"
             ],
             [
              0.8888888888888888,
              "#fdca26"
             ],
             [
              1,
              "#f0f921"
             ]
            ],
            "type": "heatmapgl"
           }
          ],
          "histogram": [
           {
            "marker": {
             "pattern": {
              "fillmode": "overlay",
              "size": 10,
              "solidity": 0.2
             }
            },
            "type": "histogram"
           }
          ],
          "histogram2d": [
           {
            "colorbar": {
             "outlinewidth": 0,
             "ticks": ""
            },
            "colorscale": [
             [
              0,
              "#0d0887"
             ],
             [
              0.1111111111111111,
              "#46039f"
             ],
             [
              0.2222222222222222,
              "#7201a8"
             ],
             [
              0.3333333333333333,
              "#9c179e"
             ],
             [
              0.4444444444444444,
              "#bd3786"
             ],
             [
              0.5555555555555556,
              "#d8576b"
             ],
             [
              0.6666666666666666,
              "#ed7953"
             ],
             [
              0.7777777777777778,
              "#fb9f3a"
             ],
             [
              0.8888888888888888,
              "#fdca26"
             ],
             [
              1,
              "#f0f921"
             ]
            ],
            "type": "histogram2d"
           }
          ],
          "histogram2dcontour": [
           {
            "colorbar": {
             "outlinewidth": 0,
             "ticks": ""
            },
            "colorscale": [
             [
              0,
              "#0d0887"
             ],
             [
              0.1111111111111111,
              "#46039f"
             ],
             [
              0.2222222222222222,
              "#7201a8"
             ],
             [
              0.3333333333333333,
              "#9c179e"
             ],
             [
              0.4444444444444444,
              "#bd3786"
             ],
             [
              0.5555555555555556,
              "#d8576b"
             ],
             [
              0.6666666666666666,
              "#ed7953"
             ],
             [
              0.7777777777777778,
              "#fb9f3a"
             ],
             [
              0.8888888888888888,
              "#fdca26"
             ],
             [
              1,
              "#f0f921"
             ]
            ],
            "type": "histogram2dcontour"
           }
          ],
          "mesh3d": [
           {
            "colorbar": {
             "outlinewidth": 0,
             "ticks": ""
            },
            "type": "mesh3d"
           }
          ],
          "parcoords": [
           {
            "line": {
             "colorbar": {
              "outlinewidth": 0,
              "ticks": ""
             }
            },
            "type": "parcoords"
           }
          ],
          "pie": [
           {
            "automargin": true,
            "type": "pie"
           }
          ],
          "scatter": [
           {
            "fillpattern": {
             "fillmode": "overlay",
             "size": 10,
             "solidity": 0.2
            },
            "type": "scatter"
           }
          ],
          "scatter3d": [
           {
            "line": {
             "colorbar": {
              "outlinewidth": 0,
              "ticks": ""
             }
            },
            "marker": {
             "colorbar": {
              "outlinewidth": 0,
              "ticks": ""
             }
            },
            "type": "scatter3d"
           }
          ],
          "scattercarpet": [
           {
            "marker": {
             "colorbar": {
              "outlinewidth": 0,
              "ticks": ""
             }
            },
            "type": "scattercarpet"
           }
          ],
          "scattergeo": [
           {
            "marker": {
             "colorbar": {
              "outlinewidth": 0,
              "ticks": ""
             }
            },
            "type": "scattergeo"
           }
          ],
          "scattergl": [
           {
            "marker": {
             "colorbar": {
              "outlinewidth": 0,
              "ticks": ""
             }
            },
            "type": "scattergl"
           }
          ],
          "scattermapbox": [
           {
            "marker": {
             "colorbar": {
              "outlinewidth": 0,
              "ticks": ""
             }
            },
            "type": "scattermapbox"
           }
          ],
          "scatterpolar": [
           {
            "marker": {
             "colorbar": {
              "outlinewidth": 0,
              "ticks": ""
             }
            },
            "type": "scatterpolar"
           }
          ],
          "scatterpolargl": [
           {
            "marker": {
             "colorbar": {
              "outlinewidth": 0,
              "ticks": ""
             }
            },
            "type": "scatterpolargl"
           }
          ],
          "scatterternary": [
           {
            "marker": {
             "colorbar": {
              "outlinewidth": 0,
              "ticks": ""
             }
            },
            "type": "scatterternary"
           }
          ],
          "surface": [
           {
            "colorbar": {
             "outlinewidth": 0,
             "ticks": ""
            },
            "colorscale": [
             [
              0,
              "#0d0887"
             ],
             [
              0.1111111111111111,
              "#46039f"
             ],
             [
              0.2222222222222222,
              "#7201a8"
             ],
             [
              0.3333333333333333,
              "#9c179e"
             ],
             [
              0.4444444444444444,
              "#bd3786"
             ],
             [
              0.5555555555555556,
              "#d8576b"
             ],
             [
              0.6666666666666666,
              "#ed7953"
             ],
             [
              0.7777777777777778,
              "#fb9f3a"
             ],
             [
              0.8888888888888888,
              "#fdca26"
             ],
             [
              1,
              "#f0f921"
             ]
            ],
            "type": "surface"
           }
          ],
          "table": [
           {
            "cells": {
             "fill": {
              "color": "#EBF0F8"
             },
             "line": {
              "color": "white"
             }
            },
            "header": {
             "fill": {
              "color": "#C8D4E3"
             },
             "line": {
              "color": "white"
             }
            },
            "type": "table"
           }
          ]
         },
         "layout": {
          "annotationdefaults": {
           "arrowcolor": "#2a3f5f",
           "arrowhead": 0,
           "arrowwidth": 1
          },
          "autotypenumbers": "strict",
          "coloraxis": {
           "colorbar": {
            "outlinewidth": 0,
            "ticks": ""
           }
          },
          "colorscale": {
           "diverging": [
            [
             0,
             "#8e0152"
            ],
            [
             0.1,
             "#c51b7d"
            ],
            [
             0.2,
             "#de77ae"
            ],
            [
             0.3,
             "#f1b6da"
            ],
            [
             0.4,
             "#fde0ef"
            ],
            [
             0.5,
             "#f7f7f7"
            ],
            [
             0.6,
             "#e6f5d0"
            ],
            [
             0.7,
             "#b8e186"
            ],
            [
             0.8,
             "#7fbc41"
            ],
            [
             0.9,
             "#4d9221"
            ],
            [
             1,
             "#276419"
            ]
           ],
           "sequential": [
            [
             0,
             "#0d0887"
            ],
            [
             0.1111111111111111,
             "#46039f"
            ],
            [
             0.2222222222222222,
             "#7201a8"
            ],
            [
             0.3333333333333333,
             "#9c179e"
            ],
            [
             0.4444444444444444,
             "#bd3786"
            ],
            [
             0.5555555555555556,
             "#d8576b"
            ],
            [
             0.6666666666666666,
             "#ed7953"
            ],
            [
             0.7777777777777778,
             "#fb9f3a"
            ],
            [
             0.8888888888888888,
             "#fdca26"
            ],
            [
             1,
             "#f0f921"
            ]
           ],
           "sequentialminus": [
            [
             0,
             "#0d0887"
            ],
            [
             0.1111111111111111,
             "#46039f"
            ],
            [
             0.2222222222222222,
             "#7201a8"
            ],
            [
             0.3333333333333333,
             "#9c179e"
            ],
            [
             0.4444444444444444,
             "#bd3786"
            ],
            [
             0.5555555555555556,
             "#d8576b"
            ],
            [
             0.6666666666666666,
             "#ed7953"
            ],
            [
             0.7777777777777778,
             "#fb9f3a"
            ],
            [
             0.8888888888888888,
             "#fdca26"
            ],
            [
             1,
             "#f0f921"
            ]
           ]
          },
          "colorway": [
           "#636efa",
           "#EF553B",
           "#00cc96",
           "#ab63fa",
           "#FFA15A",
           "#19d3f3",
           "#FF6692",
           "#B6E880",
           "#FF97FF",
           "#FECB52"
          ],
          "font": {
           "color": "#2a3f5f"
          },
          "geo": {
           "bgcolor": "white",
           "lakecolor": "white",
           "landcolor": "#E5ECF6",
           "showlakes": true,
           "showland": true,
           "subunitcolor": "white"
          },
          "hoverlabel": {
           "align": "left"
          },
          "hovermode": "closest",
          "mapbox": {
           "style": "light"
          },
          "paper_bgcolor": "white",
          "plot_bgcolor": "#E5ECF6",
          "polar": {
           "angularaxis": {
            "gridcolor": "white",
            "linecolor": "white",
            "ticks": ""
           },
           "bgcolor": "#E5ECF6",
           "radialaxis": {
            "gridcolor": "white",
            "linecolor": "white",
            "ticks": ""
           }
          },
          "scene": {
           "xaxis": {
            "backgroundcolor": "#E5ECF6",
            "gridcolor": "white",
            "gridwidth": 2,
            "linecolor": "white",
            "showbackground": true,
            "ticks": "",
            "zerolinecolor": "white"
           },
           "yaxis": {
            "backgroundcolor": "#E5ECF6",
            "gridcolor": "white",
            "gridwidth": 2,
            "linecolor": "white",
            "showbackground": true,
            "ticks": "",
            "zerolinecolor": "white"
           },
           "zaxis": {
            "backgroundcolor": "#E5ECF6",
            "gridcolor": "white",
            "gridwidth": 2,
            "linecolor": "white",
            "showbackground": true,
            "ticks": "",
            "zerolinecolor": "white"
           }
          },
          "shapedefaults": {
           "line": {
            "color": "#2a3f5f"
           }
          },
          "ternary": {
           "aaxis": {
            "gridcolor": "white",
            "linecolor": "white",
            "ticks": ""
           },
           "baxis": {
            "gridcolor": "white",
            "linecolor": "white",
            "ticks": ""
           },
           "bgcolor": "#E5ECF6",
           "caxis": {
            "gridcolor": "white",
            "linecolor": "white",
            "ticks": ""
           }
          },
          "title": {
           "x": 0.05
          },
          "xaxis": {
           "automargin": true,
           "gridcolor": "white",
           "linecolor": "white",
           "ticks": "",
           "title": {
            "standoff": 15
           },
           "zerolinecolor": "white",
           "zerolinewidth": 2
          },
          "yaxis": {
           "automargin": true,
           "gridcolor": "white",
           "linecolor": "white",
           "ticks": "",
           "title": {
            "standoff": 15
           },
           "zerolinecolor": "white",
           "zerolinewidth": 2
          }
         }
        },
        "title": {
         "text": "Endothelial Cell Programs x GWAS Binary Outcome Enrichments"
        },
        "width": 1000,
        "xaxis": {
         "anchor": "y",
         "domain": [
          0,
          1
         ],
         "tickfont": {
          "size": 4
         },
         "title": {
          "text": "trait_reported"
         }
        },
        "yaxis": {
         "anchor": "x",
         "domain": [
          0,
          1
         ],
         "tickformat": ".1f",
         "title": {
          "text": "-log10(p-value)"
         }
        }
       }
      },
      "text/html": [
       "<div>                            <div id=\"d777ec77-604f-4d94-808e-072d7ad9b412\" class=\"plotly-graph-div\" style=\"height:800px; width:1000px;\"></div>            <script type=\"text/javascript\">                require([\"plotly\"], function(Plotly) {                    window.PLOTLYENV=window.PLOTLYENV || {};                                    if (document.getElementById(\"d777ec77-604f-4d94-808e-072d7ad9b412\")) {                    Plotly.newPlot(                        \"d777ec77-604f-4d94-808e-072d7ad9b412\",                        [{\"customdata\":[[28,\"biological process\",0.0035881882572167,\"HMGA2;ADK;CALU\",\"GCST002031\",\"PMID:23704328\"],[28,\"biological process\",0.0186176051947435,\"ADK;HMGA2\",\"GCST002030\",\"PMID:23704328\"],[28,\"biological process\",0.1388779462393679,\"AKAP12;BNC2;GSDMC\",\"NEALE2_1757\",null],[28,\"biological process\",0.1721960268547123,\"NEK7\",\"GCST006054\",\"PMID:28373541\"],[28,\"biological process\",0.1970848235453974,\"HMGCR;LDLR;GCKR;HHEX\",\"FINNGEN_R6_RX_STATIN\",null],[28,\"biological process\",0.2836706500762038,\"NTM;NR2F2;FGFR1;NLGN1;DNAJC1\",\"GCST007462\",\"PMID:30643251\"],[28,\"biological process\",0.4628449555952212,\"PLXNA2;DNAJC1;NTM;KLF7\",\"GCST007327\",\"PMID:30643258\"],[28,\"biological process\",0.6589614798479975,\"YWHAZ;GJA1;SPRY2;PLXNA2;CTSB\",\"GCST007325\",\"PMID:30643258\"],[28,\"biological process\",0.6745669315314686,\"SEC61G;NTM;NR2F2;KLF6;CALU;HMGA2;NF2;CEP170;OSBPL3;CRIM1;PTPRN2;GSTO1;NR2F1;MARCKS;CDH2;ALCAM;SORBS2;PTPN1;ZBTB38\",\"GCST006568\",\"PMID:30038396\"],[28,\"biological process\",0.9726311760416948,\"KCNMA1;ADGRL2\",\"GCST006660\",\"PMID:30348214\"]],\"hovertemplate\":\"trait_category=%{customdata[1]}\\u003cbr\\u003etrait_reported=%{x}\\u003cbr\\u003e-log10(p-value)=%{y}\\u003cbr\\u003eprogram_name=%{customdata[0]}\\u003cbr\\u003eP-value=%{customdata[2]}\\u003cbr\\u003eGenes=%{customdata[3]}\\u003cbr\\u003estudy_id=%{customdata[4]}\\u003cbr\\u003epmid=%{customdata[5]}\\u003cextra\\u003e\\u003c\\u002fextra\\u003e\",\"legendgroup\":\"biological process\",\"marker\":{\"color\":\"#636efa\",\"symbol\":\"circle\"},\"mode\":\"markers\",\"name\":\"biological process\",\"orientation\":\"v\",\"showlegend\":true,\"x\":[\"Primary tooth development (number of teeth)\",\"Primary tooth development (time to first tooth eruption)\",\"Facial ageing\",\"High altitude adaptation\",\"Statin medication\",\"Age of smoking initiation (MTAG)\",\"Smoking status (ever vs never smokers)\",\"General risk tolerance (MTAG)\",\"Highest math class taken (MTAG) [MTAG]\",\"DNA methylation variation (age effect)\"],\"xaxis\":\"x\",\"y\":[2.445124779416804,1.730076183590807,0.8573667145718513,0.763976873410708,0.7053468171424397,0.5471855960664449,0.33456446515085336,0.18113997171616283,0.17097495251149922,0.012051813972160624],\"yaxis\":\"y\",\"type\":\"scatter\"},{\"customdata\":[[28,\"cardiovascular disease\",0.0001404803087072,\"PLEC;SMAD3;ATP1B1;CLMP;RGMB;HHIP;EGFR;MUC12;GSDMC;FEZ2\",\"GCST90014033\",\"PMID:33888516\"],[28,\"cardiovascular disease\",0.2525266358542291,\"TENM3;FGF5;NR2F2\",\"FINNGEN_R6_RX_ANTIHYP\",null],[28,\"cardiovascular disease\",0.3288357469137777,\"UBASH3B;C1GALT1;FGF5;MYEOV;NPC1;PRKAG2;CITED2;FBN2\",\"GCST007072\",\"PMID:30595370\"],[28,\"cardiovascular disease\",0.364765826894233,\"SQLE\",\"GCST011202\",\"PMID:33495596\"],[28,\"cardiovascular disease\",0.3883578572077412,\"STARD13\",\"GCST011021\",\"PMID:33199917\"],[28,\"cardiovascular disease\",0.4110766820417362,\"DNAJC1\",\"GCST010774\",\"PMID:32589924\"],[28,\"cardiovascular disease\",0.4938466118420058,\"STEAP1B\",\"GCST008474\",\"PMID:31285632\"],[28,\"cardiovascular disease\",0.4938466118420058,\"GJA1\",\"GCST011064\",\"PMID:32632093\"],[28,\"cardiovascular disease\",0.579999229432164,\"FGF5;SMAD3\",\"GCST005195\",\"PMID:29212778\"],[28,\"cardiovascular disease\",0.5830254661501347,\"ARHGAP10;WDR1;SQLE\",\"GCST006061\",\"PMID:29892015\"],[28,\"cardiovascular disease\",0.6490532541861335,\"FGF5;SMAD3\",\"GCST011365\",\"PMID:33532862\"],[28,\"cardiovascular disease\",0.6535133949779608,\"GJA1\",\"GCST003720\",\"PMID:27322543\"]],\"hovertemplate\":\"trait_category=%{customdata[1]}\\u003cbr\\u003etrait_reported=%{x}\\u003cbr\\u003e-log10(p-value)=%{y}\\u003cbr\\u003eprogram_name=%{customdata[0]}\\u003cbr\\u003eP-value=%{customdata[2]}\\u003cbr\\u003eGenes=%{customdata[3]}\\u003cbr\\u003estudy_id=%{customdata[4]}\\u003cbr\\u003epmid=%{customdata[5]}\\u003cextra\\u003e\\u003c\\u002fextra\\u003e\",\"legendgroup\":\"cardiovascular disease\",\"marker\":{\"color\":\"#EF553B\",\"symbol\":\"circle\"},\"mode\":\"markers\",\"name\":\"cardiovascular disease\",\"orientation\":\"v\",\"showlegend\":true,\"x\":[\"Haemorrhoidal disease\",\"Antihypertensive medication - note that there are other indications\",\"Cardiovascular disease\",\"Dilated cardiomyopathy (MTAG)\",\"Intracranial aneurysm\",\"Essential hypertension (time to event)\",\"Peripheral artery disease\",\"Migraine and\\u002for diastolic blood pressure\",\"Coronary artery disease\",\"Atrial fibrillation\",\"Myocardial infarction\",\"Migraine\"],\"xaxis\":\"x\",\"y\":[3.8523845470694775,0.5976928068743494,0.4830209774959071,0.43798585533934864,0.4107679038287569,0.38607715748823784,0.3064079214708921,0.3064079214708921,0.23657258342599619,0.2343124751433308,0.1877196682992684,0.18474550631542724],\"yaxis\":\"y\",\"type\":\"scatter\"},{\"customdata\":[[28,\"cell proliferation disorder\",0.0127211974468727,\"SMAD3;NRG1\",\"GCST004144\",\"PMID:28195142\"],[28,\"cell proliferation disorder\",0.0146984864932231,\"KRT8;CCND1;ZBTB38;ADGRG1;LAMC1;MYEOV;ADAMTSL1;ITGA6;ETS2;KLF7;NCEH1\",\"GCST011049\",\"PMID:33398198\"],[28,\"cell proliferation disorder\",0.0164824855222775,\"LAMC1;SMAD3;BMP2\",\"SAIGE_208\",null],[28,\"cell proliferation disorder\",0.0766570865649164,\"SYNE1;SLC38A2;CD44\",\"GCST90018934\",\"PMID:34594039\"],[28,\"cell proliferation disorder\",0.1294180205409564,\"PTHLH;CCND1\",\"FINNGEN_R6_C3_BREAST_HER2NEG\",null],[28,\"cell proliferation disorder\",0.1324857132366977,\"HHIP;KLF2;LAMC1;BMP2\",\"GCST007992\",\"PMID:31089142\"],[28,\"cell proliferation disorder\",0.1818776943690905,\"PTHLH;CCND1\",\"SAIGE_174\",null],[28,\"cell proliferation disorder\",0.2029117111867061,\"EGFR\",\"GCST004349\",\"PMID:28346443\"],[28,\"cell proliferation disorder\",0.2029117111867061,\"GSDMC\",\"GCST004347\",\"PMID:28346443\"],[28,\"cell proliferation disorder\",0.2029117111867061,\"BNC2\",\"GCST004415\",\"PMID:28346442\"],[28,\"cell proliferation disorder\",0.2091461784088327,\"NTN4;SMAD3\",\"GCST90018827\",\"PMID:34594039\"],[28,\"cell proliferation disorder\",0.2324915676952509,\"MYEOV\",\"GCST004710\",\"PMID:28598434\"],[28,\"cell proliferation disorder\",0.2506924396117208,\"BNC2;FHL2\",\"SAIGE_172\",null],[28,\"cell proliferation disorder\",0.26097745442866,\"BNC2\",\"FINNGEN_R6_L12_ACTINKERA\",null],[28,\"cell proliferation disorder\",0.26097745442866,\"BNC2\",\"GCST004478\",\"PMID:28346442\"],[28,\"cell proliferation disorder\",0.2884096921512057,\"DPP9\",\"GCST009758\",\"PMID:31710517\"],[28,\"cell proliferation disorder\",0.2884096921512057,\"ELL2\",\"GCST004483\",\"PMID:27363682\"],[28,\"cell proliferation disorder\",0.2884096921512057,\"NRG1\",\"GCST008834\",\"PMID:31326317\"],[28,\"cell proliferation disorder\",0.2884096921512057,\"NRG1\",\"GCST012199\",\"PMID:32889700\"],[28,\"cell proliferation disorder\",0.2884096921512057,\"CCND1\",\"FINNGEN_R6_C3_BREAST_HERPLUS\",null],[28,\"cell proliferation disorder\",0.2884096921512057,\"CCND1\",\"FINNGEN_R6_C3_BREAST_HERPLUS_EXALLC\",null],[28,\"cell proliferation disorder\",0.3033898965078667,\"PTPN22;BNC2;ST3GAL6\",\"GCST008871\",\"PMID:31174203\"],[28,\"cell proliferation disorder\",0.3338856735628603,\"BNC2;ST3GAL6\",\"GCST90018921\",\"PMID:34594039\"],[28,\"cell proliferation disorder\",0.3402671527338443,\"DNAJC1\",\"FINNGEN_R6_N14_PROSTHYPERPLA\",null],[28,\"cell proliferation disorder\",0.364765826894233,\"NRG1\",\"GCST008836_2\",\"PMID:31326317\"],[28,\"cell proliferation disorder\",0.364765826894233,\"NRG1\",\"GCST012201\",\"PMID:32889700\"],[28,\"cell proliferation disorder\",0.364765826894233,\"BNC2\",\"GCST008872\",\"PMID:31174203\"],[28,\"cell proliferation disorder\",0.4110766820417362,\"SYNE1\",\"FINNGEN_R6_CD2_BENIGN\",null],[28,\"cell proliferation disorder\",0.4110766820417362,\"SYNE1\",\"FINNGEN_R6_CD2_BENIGN_EXALLC\",null],[28,\"cell proliferation disorder\",0.4110766820417362,\"CCND1\",\"FINNGEN_R6_C3_BREAST\",null],[28,\"cell proliferation disorder\",0.4110766820417362,\"MYEOV\",\"FINNGEN_R6_C3_PROSTATE_EXALLC\",null],[28,\"cell proliferation disorder\",0.432954510734594,\"IL1RL1\",\"GCST90018883\",\"PMID:34594039\"],[28,\"cell proliferation disorder\",0.440015962724217,\"GPRC5A;CCND1\",\"GCST010304\",\"PMID:32341527\"],[28,\"cell proliferation disorder\",0.4540223686133007,\"BNC2\",\"GCST010148\",\"PMID:32041948\"],[28,\"cell proliferation disorder\",0.5362908613435536,\"BNC2;ST3GAL6\",\"GCST008870\",\"PMID:31174203\"],[28,\"cell proliferation disorder\",0.5482204356563489,\"MYEOV\",\"FINNGEN_R6_C3_MALE_GENITAL\",null],[28,\"cell proliferation disorder\",0.5482204356563489,\"MYEOV\",\"FINNGEN_R6_C3_MALE_GENITAL_EXALLC\",null],[28,\"cell proliferation disorder\",0.5650189662974279,\"KDR\",\"SAIGE_728_71\",null],[28,\"cell proliferation disorder\",0.6401214652837192,\"BNC2\",\"SAIGE_172_2\",null],[28,\"cell proliferation disorder\",0.6545542277204894,\"PTHLH;DNAJC1;CCND1\",\"GCST90090980\",\"PMID:32139696\"],[28,\"cell proliferation disorder\",0.6664086749912743,\"SSR3\",\"GCST004635\",\"PMID:28604728\"],[28,\"cell proliferation disorder\",0.7343326708121283,\"BNC2\",\"GCST90027058\",\"PMID:34290314\"]],\"hovertemplate\":\"trait_category=%{customdata[1]}\\u003cbr\\u003etrait_reported=%{x}\\u003cbr\\u003e-log10(p-value)=%{y}\\u003cbr\\u003eprogram_name=%{customdata[0]}\\u003cbr\\u003eP-value=%{customdata[2]}\\u003cbr\\u003eGenes=%{customdata[3]}\\u003cbr\\u003estudy_id=%{customdata[4]}\\u003cbr\\u003epmid=%{customdata[5]}\\u003cextra\\u003e\\u003c\\u002fextra\\u003e\",\"legendgroup\":\"cell proliferation disorder\",\"marker\":{\"color\":\"#00cc96\",\"symbol\":\"circle\"},\"mode\":\"markers\",\"name\":\"cell proliferation disorder\",\"orientation\":\"v\",\"showlegend\":true,\"x\":[\"Thyroid cancer\",\"Prostate cancer\",\"Benign neoplasm of colon\",\"Uterine fibroids\",\"Malignant neoplasm of breast, HER2-negative\",\"Colorectal cancer\",\"Breast cancer\",\"Glioblastoma\",\"Glioma\",\"Invasive epithelial ovarian cancer\",\"Colon polyp\",\"Renal cell carcinoma\",\"Skin cancer\",\"Actinic keratosis\",\"Serous invasive ovarian cancer\",\"Idiopathic pulmonary fibrosis\",\"Multiple myeloma\",\"Non-small cell lung cancer\",\"Non-small cell lung cancer\",\"Malignant neoplasm of breast, HER-positive\",\"Malignant neoplasm of breast, HER-positive (controls excluding all cancers)\",\"Basal cell carcinoma\",\"Skin cancer\",\"Hyperplasia of prostate\",\"Lung adenocarcinoma [East Asian]\",\"Lung adenocarcinoma\",\"Squamous cell carcinoma\",\"Benign neoplasms\",\"Benign neoplasms (controls excluding all cancers)\",\"Malignant neoplasm of breast\",\"Malignant neoplasm of prostate (controls excluding all cancers)\",\"Nasal polyps\",\"Cutaneous malignant melanoma\",\"Cutaneous squamous cell carcinoma\",\"Keratinocyte cancer (MTAG)\",\"malignant neoplasm of male genital organs\",\"malignant neoplasm of male genital organs (controls excluding all cancers)\",\"Contracture of palmar fascia [dupuytren's disease]\",\"Other non-epithelial cancer of skin\",\"Breast cancer\",\"Testicular germ cell tumor\",\"Non-melanoma skin cancer\"],\"xaxis\":\"x\",\"y\":[1.8954720066048605,1.8327273823594386,1.7829772970553808,1.1154476905972448,0.8880052470320782,0.8778309518931976,0.7402205599052848,0.69269288664341,0.69269288664341,0.69269288664341,0.679550066589539,0.6335927940421237,0.6008587633071252,0.583397009290636,0.583397009290636,0.5399901490252206,0.5399901490252206,0.5399901490252206,0.5399901490252206,0.5399901490252206,0.5399901490252206,0.517998886185885,0.4764022153453847,0.4681799729581446,0.43798585533934864,0.43798585533934864,0.43798585533934864,0.38607715748823784,0.38607715748823784,0.38607715748823784,0.38607715748823784,0.3635577313019558,0.3565315680654162,0.3429227499490337,0.2705996035625373,0.261044779582057,0.261044779582057,0.24793697373796625,0.19373760930168227,0.18405436771644365,0.17625935812539978,0.13410714939290747],\"yaxis\":\"y\",\"type\":\"scatter\"},{\"customdata\":[[28,\"disease of ear\",0.1403010609731445,\"KDR\",\"FINNGEN_R6_H8_OTOSCLE\",null]],\"hovertemplate\":\"trait_category=%{customdata[1]}\\u003cbr\\u003etrait_reported=%{x}\\u003cbr\\u003e-log10(p-value)=%{y}\\u003cbr\\u003eprogram_name=%{customdata[0]}\\u003cbr\\u003eP-value=%{customdata[2]}\\u003cbr\\u003eGenes=%{customdata[3]}\\u003cbr\\u003estudy_id=%{customdata[4]}\\u003cbr\\u003epmid=%{customdata[5]}\\u003cextra\\u003e\\u003c\\u002fextra\\u003e\",\"legendgroup\":\"disease of ear\",\"marker\":{\"color\":\"#ab63fa\",\"symbol\":\"circle\"},\"mode\":\"markers\",\"name\":\"disease of ear\",\"orientation\":\"v\",\"showlegend\":true,\"x\":[\"Otosclerosis\"],\"xaxis\":\"x\",\"y\":[0.852939044773209],\"yaxis\":\"y\",\"type\":\"scatter\"},{\"customdata\":[[28,\"disease of visual system\",0.0165649323786507,\"NTM;BMP2;FBN1;ZBTB38;CD55;C1GALT1;ADAMTSL1;CDH2;TJP2;KCNMA1\",\"GCST010378\",\"PMID:32352494\"],[28,\"disease of visual system\",0.2931518534952576,\"PTHLH;LMO7;ALCAM\",\"GCST90011770\",\"PMID:33627673\"],[28,\"disease of visual system\",0.4540223686133007,\"PRDX6\",\"GCST009131\",\"PMID:31672989\"],[28,\"disease of visual system\",0.5213412637283984,\"PRKAG2;PTPN1;LMO7\",\"GCST009722\",\"PMID:31959993\"]],\"hovertemplate\":\"trait_category=%{customdata[1]}\\u003cbr\\u003etrait_reported=%{x}\\u003cbr\\u003e-log10(p-value)=%{y}\\u003cbr\\u003eprogram_name=%{customdata[0]}\\u003cbr\\u003eP-value=%{customdata[2]}\\u003cbr\\u003eGenes=%{customdata[3]}\\u003cbr\\u003estudy_id=%{customdata[4]}\\u003cbr\\u003epmid=%{customdata[5]}\\u003cextra\\u003e\\u003c\\u002fextra\\u003e\",\"legendgroup\":\"disease of visual system\",\"marker\":{\"color\":\"#FFA15A\",\"symbol\":\"circle\"},\"mode\":\"markers\",\"name\":\"disease of visual system\",\"orientation\":\"v\",\"showlegend\":true,\"x\":[\"Spherical equivalent\",\"Glaucoma (primary open-angle)\",\"Systemic sclerosis\",\"Glaucoma (multi-trait analysis)\"],\"xaxis\":\"x\",\"y\":[1.7808103326548737,0.5329073555804363,0.3429227499490337,0.2828778996647193],\"yaxis\":\"y\",\"type\":\"scatter\"},{\"customdata\":[[28,\"endocrine system disease\",0.0816614631321353,\"BMP2;HMGA2\",\"GCST90018853\",\"PMID:34594039\"],[28,\"endocrine system disease\",0.1552144396228272,\"BMP2;HMGA2\",\"FINNGEN_R6_E4_GOITREMULTINOD\",null],[28,\"endocrine system disease\",0.2324915676952509,\"PTPN22\",\"GCST90011871\",\"PMID:33574239\"],[28,\"endocrine system disease\",0.26097745442866,\"PTPN22\",\"GCST90018860\",\"PMID:34594039\"],[28,\"endocrine system disease\",0.3136441475041366,\"PTPN22;IFNE;CD44\",\"FINNGEN_R6_E4_HYTHY_AI_STRICT_PURCH\",null],[28,\"endocrine system disease\",0.4011811361269655,\"PTPN22;IFNE\",\"FINNGEN_R6_E4_THYROID\",null],[28,\"endocrine system disease\",0.4540223686133007,\"NRG1\",\"FINNGEN_R6_THYROTOXICOSIS\",null],[28,\"endocrine system disease\",0.4791837178178418,\"BHLHE40;PTPN22;LRRFIP2;CD274\",\"GCST007073\",\"PMID:30595370\"],[28,\"endocrine system disease\",0.4839639974484881,\"BHLHE40;PTPN22;CD44\",\"GCST010571\",\"PMID:32581359\"],[28,\"endocrine system disease\",0.5126595102986269,\"PTPN22\",\"GCST90018847\",\"PMID:34594039\"]],\"hovertemplate\":\"trait_category=%{customdata[1]}\\u003cbr\\u003etrait_reported=%{x}\\u003cbr\\u003e-log10(p-value)=%{y}\\u003cbr\\u003eprogram_name=%{customdata[0]}\\u003cbr\\u003eP-value=%{customdata[2]}\\u003cbr\\u003eGenes=%{customdata[3]}\\u003cbr\\u003estudy_id=%{customdata[4]}\\u003cbr\\u003epmid=%{customdata[5]}\\u003cextra\\u003e\\u003c\\u002fextra\\u003e\",\"legendgroup\":\"endocrine system disease\",\"marker\":{\"color\":\"#19d3f3\",\"symbol\":\"circle\"},\"mode\":\"markers\",\"name\":\"endocrine system disease\",\"orientation\":\"v\",\"showlegend\":true,\"x\":[\"Goiter\",\"Nontoxic multinodular goitre\",\"Addison's disease\",\"Hyperthyroidism\",\"Hypothyroidism, strict autoimmune, 3 medication purchases required\",\"Disorders of the thyroid gland\",\"Thyrotoxicosis\",\"Hypothyroidism\",\"Autoimmune thyroid disease\",\"Graves' disease\"],\"xaxis\":\"x\",\"y\":[1.0879828430694005,0.8090678787169587,0.6335927940421237,0.583397009290636,0.5035628118421654,0.3966594960618182,0.3429227499490337,0.31949794725897973,0.3151869447419913,0.2901709816590147],\"yaxis\":\"y\",\"type\":\"scatter\"},{\"customdata\":[[28,\"gastrointestinal disease\",0.0415195526482934,\"CALD1;NAV3\",\"FINNGEN_R6_ABDOM_HERNIA\",null],[28,\"gastrointestinal disease\",0.0766570865649164,\"TNFSF18;ZFP36L1;ITPR3\",\"GCST005523\",\"PMID:22057235\"],[28,\"gastrointestinal disease\",0.0930131343658039,\"TNFSF18;PTPN22\",\"GCST90016610\",\"PMID:33686288\"],[28,\"gastrointestinal disease\",0.2324915676952509,\"SMAD3\",\"GCST90027899\",\"PMID:34506852\"],[28,\"gastrointestinal disease\",0.3620170809151957,\"TNFSF18;ZFP36L1;IL1RL1;SMAD3\",\"GCST004131\",\"PMID:28067908\"],[28,\"gastrointestinal disease\",0.4743101403678223,\"ANPEP\",\"GCST007209\",\"PMID:30504769\"],[28,\"gastrointestinal disease\",0.6262138283419318,\"PDGFC\",\"GCST006479\",\"PMID:30177863\"],[28,\"gastrointestinal disease\",0.6907820327807073,\"HHIP\",\"GCST90094908\",\"PMID:35047847\"],[28,\"gastrointestinal disease\",0.8933319691625436,\"ALCAM\",\"GCST90000514\",\"PMID:34187846\"]],\"hovertemplate\":\"trait_category=%{customdata[1]}\\u003cbr\\u003etrait_reported=%{x}\\u003cbr\\u003e-log10(p-value)=%{y}\\u003cbr\\u003eprogram_name=%{customdata[0]}\\u003cbr\\u003eP-value=%{customdata[2]}\\u003cbr\\u003eGenes=%{customdata[3]}\\u003cbr\\u003estudy_id=%{customdata[4]}\\u003cbr\\u003epmid=%{customdata[5]}\\u003cextra\\u003e\\u003c\\u002fextra\\u003e\",\"legendgroup\":\"gastrointestinal disease\",\"marker\":{\"color\":\"#FF6692\",\"symbol\":\"circle\"},\"mode\":\"markers\",\"name\":\"gastrointestinal disease\",\"orientation\":\"v\",\"showlegend\":true,\"x\":[\"Hernia of abodminal wall\",\"Celiac disease\",\"Crohn's disease vs rheumatoid arthritis (ordinary least squares (OLS))\",\"Eosinophilic esophagitis\",\"Inflammatory bowel disease\",\"Gallstone disease\",\"Diverticular disease\",\"Nonalcoholic fatty liver disease (imputed)\",\"Gastroesophageal reflux disease\"],\"xaxis\":\"x\",\"y\":[1.3817473344328233,1.1154476905972448,1.0314557204801538,0.6335927940421237,0.44127093783089844,0.3239375903835209,0.20327734632260805,0.16065896694371,0.04898712388374528],\"yaxis\":\"y\",\"type\":\"scatter\"},{\"customdata\":[[28,\"immune system disease\",0.0479168888702977,\"ZFP36L1;PLEC;UBASH3B;PKIA;ZBTB38;HHEX;RND3;PVR;RRAS2\",\"GCST009597\",\"PMID:31604244\"],[28,\"immune system disease\",0.3201345090186011,\"IL1RL1;SMAD3\",\"GCST010984\",\"PMID:32603359\"],[28,\"immune system disease\",0.3338856735628603,\"IL1RL1;SMAD3\",\"GCST010985\",\"PMID:32603359\"],[28,\"immune system disease\",0.8497556884109032,\"PTPN22\",\"GCST007071\",\"PMID:30595370\"]],\"hovertemplate\":\"trait_category=%{customdata[1]}\\u003cbr\\u003etrait_reported=%{x}\\u003cbr\\u003e-log10(p-value)=%{y}\\u003cbr\\u003eprogram_name=%{customdata[0]}\\u003cbr\\u003eP-value=%{customdata[2]}\\u003cbr\\u003eGenes=%{customdata[3]}\\u003cbr\\u003estudy_id=%{customdata[4]}\\u003cbr\\u003epmid=%{customdata[5]}\\u003cextra\\u003e\\u003c\\u002fextra\\u003e\",\"legendgroup\":\"immune system disease\",\"marker\":{\"color\":\"#B6E880\",\"symbol\":\"circle\"},\"mode\":\"markers\",\"name\":\"immune system disease\",\"orientation\":\"v\",\"showlegend\":true,\"x\":[\"Multiple sclerosis\",\"Allergic disease (asthma, hay fever and\\u002for eczema) (multivariate analysis)\",\"Allergic disease (asthma, hay fever and\\u002for eczema) (age of onset)\",\"Autoimmune traits\"],\"xaxis\":\"x\",\"y\":[1.3195113874118296,0.49466750839708423,0.4764022153453847,0.070705919493126],\"yaxis\":\"y\",\"type\":\"scatter\"},{\"customdata\":[[28,\"infectious disease\",0.2029117111867061,\"DPP9\",\"GCST90095124\",\"PMID:34237774\"],[28,\"infectious disease\",0.432954510734594,\"IL1RL1\",\"GCST002772\",\"PMID:25642632\"]],\"hovertemplate\":\"trait_category=%{customdata[1]}\\u003cbr\\u003etrait_reported=%{x}\\u003cbr\\u003e-log10(p-value)=%{y}\\u003cbr\\u003eprogram_name=%{customdata[0]}\\u003cbr\\u003eP-value=%{customdata[2]}\\u003cbr\\u003eGenes=%{customdata[3]}\\u003cbr\\u003estudy_id=%{customdata[4]}\\u003cbr\\u003epmid=%{customdata[5]}\\u003cextra\\u003e\\u003c\\u002fextra\\u003e\",\"legendgroup\":\"infectious disease\",\"marker\":{\"color\":\"#FF97FF\",\"symbol\":\"circle\"},\"mode\":\"markers\",\"name\":\"infectious disease\",\"orientation\":\"v\",\"showlegend\":true,\"x\":[\"COVID-19 (hospitalized vs population)\",\"Leprosy\"],\"xaxis\":\"x\",\"y\":[0.69269288664341,0.3635577313019558],\"yaxis\":\"y\",\"type\":\"scatter\"},{\"customdata\":[[28,\"injury, poisoning or other complication\",0.0641034746758852,\"HMGA2;HHEX;IGF2BP2;SPRY2\",\"FINNGEN_R6_E4_DM2NASCOMP\",null],[28,\"injury, poisoning or other complication\",0.2884096921512057,\"PTPN22\",\"FINNGEN_R6_E4_DM1NASCOMP\",null]],\"hovertemplate\":\"trait_category=%{customdata[1]}\\u003cbr\\u003etrait_reported=%{x}\\u003cbr\\u003e-log10(p-value)=%{y}\\u003cbr\\u003eprogram_name=%{customdata[0]}\\u003cbr\\u003eP-value=%{customdata[2]}\\u003cbr\\u003eGenes=%{customdata[3]}\\u003cbr\\u003estudy_id=%{customdata[4]}\\u003cbr\\u003epmid=%{customdata[5]}\\u003cextra\\u003e\\u003c\\u002fextra\\u003e\",\"legendgroup\":\"injury, poisoning or other complication\",\"marker\":{\"color\":\"#FECB52\",\"symbol\":\"circle\"},\"mode\":\"markers\",\"name\":\"injury, poisoning or other complication\",\"orientation\":\"v\",\"showlegend\":true,\"x\":[\"Type 2 diabetes with other specified\\u002fmultiple\\u002funspecified complications\",\"Type 1 diabetes with other specified\\u002fmultiple\\u002funspecified complications\"],\"xaxis\":\"x\",\"y\":[1.1931184292695651,0.5399901490252206],\"yaxis\":\"y\",\"type\":\"scatter\"},{\"customdata\":[[28,\"integumentary system disease\",0.0187826082144406,\"ZBTB38;IL1RL1;SMAD3;ZNF217\",\"GCST90086149\",\"PMID:34116867\"],[28,\"integumentary system disease\",0.2031524573167717,\"BNC2;NOTCH2;CTSC\",\"GCST007086\",\"PMID:30595370\"],[28,\"integumentary system disease\",0.2884096921512057,\"BNC2\",\"FINNGEN_R6_L12_NONIONRADISKIN\",null],[28,\"integumentary system disease\",0.3201345090186011,\"MYEOV;FST\",\"GCST90092000\",\"PMID:35132056\"],[28,\"integumentary system disease\",0.414272217215449,\"PTPN22;PTPN1\",\"GCST004785\",\"PMID:27723757\"],[28,\"integumentary system disease\",0.7133804193970564,\"FGF5\",\"GCST005116\",\"PMID:29146897\"]],\"hovertemplate\":\"trait_category=%{customdata[1]}\\u003cbr\\u003etrait_reported=%{x}\\u003cbr\\u003e-log10(p-value)=%{y}\\u003cbr\\u003eprogram_name=%{customdata[0]}\\u003cbr\\u003eP-value=%{customdata[2]}\\u003cbr\\u003eGenes=%{customdata[3]}\\u003cbr\\u003estudy_id=%{customdata[4]}\\u003cbr\\u003epmid=%{customdata[5]}\\u003cextra\\u003e\\u003c\\u002fextra\\u003e\",\"legendgroup\":\"integumentary system disease\",\"marker\":{\"color\":\"#636efa\",\"symbol\":\"circle\"},\"mode\":\"markers\",\"name\":\"integumentary system disease\",\"orientation\":\"v\",\"showlegend\":true,\"x\":[\"Atopic dermatitis\",\"Sunburns\",\"Skin changes due to chronic exposure to nonionizing radiation\",\"acne vulgaris\",\"Vitiligo\",\"Male-pattern baldness\"],\"xaxis\":\"x\",\"y\":[1.7262441003293318,0.6921779201125643,0.5399901490252206,0.49466750839708423,0.382714191284395,0.146678815189021],\"yaxis\":\"y\",\"type\":\"scatter\"},{\"customdata\":[[28,\"musculoskeletal or connective tissue disease\",0.0056039089751062,\"PTHLH;HHIP;IL11;GSDMC\",\"GCST90034524\",\"PMID:34450027\"],[28,\"musculoskeletal or connective tissue disease\",0.0109432430754543,\"IL11;SMAD3;GSDMC\",\"GCST006926_2\",\"PMID:30374069\"],[28,\"musculoskeletal or connective tissue disease\",0.0506528360458825,\"PLXNA2;BNC2\",\"GCST008789\",\"PMID:31417091\"],[28,\"musculoskeletal or connective tissue disease\",0.0516549869346629,\"PRKAG2;TMEM171;GCKR\",\"GCST012338\",\"PMID:33832965\"],[28,\"musculoskeletal or connective tissue disease\",0.0604267993424365,\"HMGA2;CRADD\",\"FINNGEN_R6_KNEE_ARTHROSIS\",null],[28,\"musculoskeletal or connective tissue disease\",0.0604267993424365,\"HMGA2;CRADD\",\"FINNGEN_R6_M13_ARTHROSIS_KNEE\",null],[28,\"musculoskeletal or connective tissue disease\",0.1403010609731445,\"CRADD\",\"FINNGEN_R6_RHEUMA_ENDPOINTS\",null],[28,\"musculoskeletal or connective tissue disease\",0.1721960268547123,\"SMAD3\",\"GCST90018922\",\"PMID:34594039\"],[28,\"musculoskeletal or connective tissue disease\",0.2324915676952509,\"PTPN22\",\"FINNGEN_R6_RHEUMA_SEROPOS_WIDE\",null],[28,\"musculoskeletal or connective tissue disease\",0.26097745442866,\"ZFP36L1\",\"GCST90010715\",\"PMID:33106285\"],[28,\"musculoskeletal or connective tissue disease\",0.26097745442866,\"PTPN22\",\"FINNGEN_R6_M13_POLYARTHROPATHIES\",null],[28,\"musculoskeletal or connective tissue disease\",0.2884096921512057,\"GSDMC\",\"FINNGEN_R6_M13_INTERVERTEB\",null],[28,\"musculoskeletal or connective tissue disease\",0.364765826894233,\"ETS2\",\"GCST90018887\",\"PMID:34594039\"],[28,\"musculoskeletal or connective tissue disease\",0.364765826894233,\"ETS2\",\"GCST006980\",\"PMID:30598549\"],[28,\"musculoskeletal or connective tissue disease\",0.8709663320144172,\"ZFP36L1\",\"GCST90013534\",\"PMID:33310728\"]],\"hovertemplate\":\"trait_category=%{customdata[1]}\\u003cbr\\u003etrait_reported=%{x}\\u003cbr\\u003e-log10(p-value)=%{y}\\u003cbr\\u003eprogram_name=%{customdata[0]}\\u003cbr\\u003eP-value=%{customdata[2]}\\u003cbr\\u003eGenes=%{customdata[3]}\\u003cbr\\u003estudy_id=%{customdata[4]}\\u003cbr\\u003epmid=%{customdata[5]}\\u003cextra\\u003e\\u003c\\u002fextra\\u003e\",\"legendgroup\":\"musculoskeletal or connective tissue disease\",\"marker\":{\"color\":\"#EF553B\",\"symbol\":\"circle\"},\"mode\":\"markers\",\"name\":\"musculoskeletal or connective tissue disease\",\"orientation\":\"v\",\"showlegend\":true,\"x\":[\"Osteoarthritis (with total hip replacement)\",\"Osteoarthritis (hip) [additive]\",\"Adolescent idiopathic scoliosis\",\"Gout\",\"Gonarthrosis [arthrosis of knee](FG)\",\"Gonarthrosis\",\"Finngen Rheumatological endpoints\",\"Spinal canal stenosis\",\"Seropositive rheumatoid arthritis, wide\",\"Arthritis (juvenile idiopathic)\",\"Polyarthropathies\",\"Other intervertebral disc disorders\",\"Osteoporosis\",\"Fractures\",\"Rheumatoid arthritis\"],\"xaxis\":\"x\",\"y\":[2.251508927620765,1.9608539539574679,1.2953962335298455,1.2868877439670932,1.2187704086430016,1.2187704086430016,0.852939044773209,0.763976873410708,0.6335927940421237,0.583397009290636,0.583397009290636,0.5399901490252206,0.43798585533934864,0.43798585533934864,0.059998632711006784],\"yaxis\":\"y\",\"type\":\"scatter\"},{\"customdata\":[[28,\"nervous system disease\",0.1721960268547123,\"PLEC\",\"GCST012182\",\"PMID:34099642\"],[28,\"nervous system disease\",0.414272217215449,\"MAP4K4;CTSB\",\"GCST004902\",\"PMID:28892059\"],[28,\"nervous system disease\",0.414272217215449,\"MAP4K4;CTSB\",\"GCST010991\",\"PMID:32201043\"],[28,\"nervous system disease\",0.5482204356563489,\"KLF7\",\"NEALE2_2247_1\",null],[28,\"nervous system disease\",0.5956837714676328,\"NTM;NR2F2;ADGRL2;FGFR1;PLXNA2;SPOCK1;PTPRN2;ANO4;BNC2;NLGN1;DNAJC1\",\"GCST90061435\",\"PMID:34446935\"],[28,\"nervous system disease\",0.6401214652837192,\"CEP170\",\"GCST90016618\",\"PMID:33686288\"],[28,\"nervous system disease\",0.6535133949779608,\"PLEC\",\"GCST012464\",\"PMID:34002096\"],[28,\"nervous system disease\",0.7802746477463247,\"TENM3\",\"GCST010017\",\"PMID:32231276\"],[28,\"nervous system disease\",0.7884651475734836,\"KLF7\",\"GCST012090\",\"PMID:33479212\"],[28,\"nervous system disease\",0.8039445991516982,\"TENM3\",\"GCST90020095\",\"PMID:34159505\"]],\"hovertemplate\":\"trait_category=%{customdata[1]}\\u003cbr\\u003etrait_reported=%{x}\\u003cbr\\u003e-log10(p-value)=%{y}\\u003cbr\\u003eprogram_name=%{customdata[0]}\\u003cbr\\u003eP-value=%{customdata[2]}\\u003cbr\\u003eGenes=%{customdata[3]}\\u003cbr\\u003estudy_id=%{customdata[4]}\\u003cbr\\u003epmid=%{customdata[5]}\\u003cextra\\u003e\\u003c\\u002fextra\\u003e\",\"legendgroup\":\"nervous system disease\",\"marker\":{\"color\":\"#00cc96\",\"symbol\":\"circle\"},\"mode\":\"markers\",\"name\":\"nervous system disease\",\"orientation\":\"v\",\"showlegend\":true,\"x\":[\"Alzheimer's disease\",\"Parkinson's disease\",\"Parkinson's disease\",\"Yes | hearing difficulty\\u002fproblems\",\"Externalizing behaviour (multivariate analysis)\",\"Schizophrenia vs ADHD (ordinary least squares (OLS))\",\"Bipolar I disorder\",\"Neuroticism\",\"Major depressive disorder (MTAG)\",\"Schizophrenia (MTAG)\"],\"xaxis\":\"x\",\"y\":[0.763976873410708,0.382714191284395,0.382714191284395,0.261044779582057,0.2249842314574106,0.19373760930168227,0.18474550631542724,0.10775250371210043,0.10321749897559096,0.09477387800739893],\"yaxis\":\"y\",\"type\":\"scatter\"},{\"customdata\":[[28,\"pancreas disease\",0.0142944769076859,\"IGF2BP2;NOTCH2;SPRY2;HMGA2;HHEX;PTPN22\",\"FINNGEN_R6_DIABETES_FG\",null],[28,\"pancreas disease\",0.1011749952748766,\"HMGA2;HHEX;IGF2BP2;SPRY2\",\"GCST007077\",\"PMID:30595370\"]],\"hovertemplate\":\"trait_category=%{customdata[1]}\\u003cbr\\u003etrait_reported=%{x}\\u003cbr\\u003e-log10(p-value)=%{y}\\u003cbr\\u003eprogram_name=%{customdata[0]}\\u003cbr\\u003eP-value=%{customdata[2]}\\u003cbr\\u003eGenes=%{customdata[3]}\\u003cbr\\u003estudy_id=%{customdata[4]}\\u003cbr\\u003epmid=%{customdata[5]}\\u003cextra\\u003e\\u003c\\u002fextra\\u003e\",\"legendgroup\":\"pancreas disease\",\"marker\":{\"color\":\"#ab63fa\",\"symbol\":\"circle\"},\"mode\":\"markers\",\"name\":\"pancreas disease\",\"orientation\":\"v\",\"showlegend\":true,\"x\":[\"Diabetes, varying definitions\",\"Type 2 diabetes\"],\"xaxis\":\"x\",\"y\":[1.8448317325943542,0.9949268072190255],\"yaxis\":\"y\",\"type\":\"scatter\"},{\"customdata\":[[28,\"phenotype\",0.0048490662544074,\"ANKRD1;NTM;BMP2;FBN2;TSC22D2;LRRC38;ASAP1;CCND1;FBN1;SEMA3A;ADAMTSL1;CDH2;EZR;RRAS2;ZBTB38;SGK1;C1GALT1;CD55;TJP2;ADTRP;TENM3\",\"GCST010002\",\"PMID:32231278\"],[28,\"phenotype\",0.0068464374848499,\"NTM;ZBTB38;ADAMTSL1;TJP2;KCNMA1\",\"GCST003997\",\"PMID:27182965\"],[28,\"phenotype\",0.012557868402829,\"UBC;ZBTB38;SLC38A2;TUBB3;EZR;BNC2;PLAT\",\"NEALE2_1717\",null],[28,\"phenotype\",0.0131635387133963,\"ZFP36L1;ZBTB38;SGK1;AKAP12;FGF5;SLC38A2;EZR;BNC2\",\"GCST006988\",\"PMID:30531825\"],[28,\"phenotype\",0.0138723231936714,\"RPL22L1;SORBS2;SGK1;KLF2;ITGA6\",\"GCST90018939\",\"PMID:34594039\"],[28,\"phenotype\",0.027241182414967,\"KCNMA1;ZBTB38;CD55\",\"GCST012400\",\"PMID:33830181\"],[28,\"phenotype\",0.0285793662741112,\"LDLR;HMGCR;HMGA2;FGF5;CITED2;GCKR\",\"GCST90038690\",\"PMID:33959723\"],[28,\"phenotype\",0.0833954090350194,\"NTM;ZBTB38;ADAMTSL1;TJP2;KCNMA1\",\"GCST006290\",\"PMID:29808027\"],[28,\"phenotype\",0.1421901253067051,\"KRT8;FRMD6\",\"GCST004166\",\"PMID:28232668\"],[28,\"phenotype\",0.1552144396228272,\"SULT1B1;SYNE1\",\"FINNGEN_R6_CD2_BENIGN_LEIOMYOMA_UTERI_EXALLC\",null],[28,\"phenotype\",0.1684548849046577,\"SMAD3;SRPX\",\"FINNGEN_R6_K11_HERNIA\",null],[28,\"phenotype\",0.2029117111867061,\"CALD1\",\"SAIGE_550_2\",null],[28,\"phenotype\",0.2091461784088327,\"TUBA1A;TUBB3\",\"GCST90013421\",\"PMID:32989287\"],[28,\"phenotype\",0.26097745442866,\"KLF7\",\"NEALE2_2257\",null],[28,\"phenotype\",0.264615267855465,\"NAV3;PTPRN2\",\"GCST001712\",\"PMID:23049088\"],[28,\"phenotype\",0.3148271206073528,\"SPRY2\",\"GCST004051\",\"PMID:28054174\"],[28,\"phenotype\",0.432954510734594,\"ALCAM\",\"NEALE2_1940\",null],[28,\"phenotype\",0.4893888215916,\"SMAD3;ZBTB38;ZNF217;IL1RL1;BNC2\",\"GCST007075\",\"PMID:30595370\"],[28,\"phenotype\",0.5126595102986269,\"BNC2\",\"GCST005897\",\"PMID:29739929\"],[28,\"phenotype\",0.5126595102986269,\"NLGN1\",\"GCST002759\",\"PMID:25628336\"],[28,\"phenotype\",0.5126595102986269,\"GJA1\",\"GCST005337\",\"PMID:29397368\"],[28,\"phenotype\",0.5307755432140987,\"GSPT1\",\"NEALE2_2724\",null],[28,\"phenotype\",0.5307755432140987,\"KDR\",\"SAIGE_728_7\",null],[28,\"phenotype\",0.5482204356563489,\"SRPX\",\"FINNGEN_R6_K11_HERING\",null],[28,\"phenotype\",0.5967715317994295,\"ZFP36L1\",\"GCST006586\",\"PMID:30220432\"],[28,\"phenotype\",0.7133804193970564,\"FGF5\",\"GCST90018793\",\"PMID:34594039\"]],\"hovertemplate\":\"trait_category=%{customdata[1]}\\u003cbr\\u003etrait_reported=%{x}\\u003cbr\\u003e-log10(p-value)=%{y}\\u003cbr\\u003eprogram_name=%{customdata[0]}\\u003cbr\\u003eP-value=%{customdata[2]}\\u003cbr\\u003eGenes=%{customdata[3]}\\u003cbr\\u003estudy_id=%{customdata[4]}\\u003cbr\\u003epmid=%{customdata[5]}\\u003cextra\\u003e\\u003c\\u002fextra\\u003e\",\"legendgroup\":\"phenotype\",\"marker\":{\"color\":\"#FFA15A\",\"symbol\":\"circle\"},\"mode\":\"markers\",\"name\":\"phenotype\",\"orientation\":\"v\",\"showlegend\":true,\"x\":[\"Refractive error\",\"Myopia\",\"Skin colour\",\"Blond vs. brown\\u002fblack hair color\",\"Varicose veins\",\"Low myopia vs hyperopia\",\"High cholesterol\",\"Myopia (age of diagnosis)\",\"Nonsyndromic cleft lip with cleft palate\",\"Leiomyoma of uterus (controls excluding all cancers)\",\"Hernia\",\"Diaphragmatic hernia\",\"Left-handedness\",\"Hearing difficulty\\u002fproblems with background noise\",\"Myopia (pathological)\",\"Orofacial clefts\",\"Irritability\",\"Eczema\",\"Low tan response\",\"Motion sickness\",\"Headache\",\"Had menopause\",\"Fasciitis\",\"Inguinal hernia\",\"Urinary albumin excretion\",\"Angina pectoris\"],\"xaxis\":\"x\",\"y\":[2.3143418819337724,2.164535353052988,1.9010840723387188,1.8806273449842164,1.8578508016734436,1.5647740456156904,1.5439474055908136,1.0788578568639093,0.8471305630557451,0.8090678787169587,0.7735163907002108,0.69269288664341,0.679550066589539,0.583397009290636,0.5773851013651321,0.5019278626446574,0.3635577313019558,0.31034595483819133,0.2901709816590147,0.2901709816590147,0.2901709816590147,0.2750890965307801,0.2750890965307801,0.261044779582057,0.22419190248797974,0.146678815189021],\"yaxis\":\"y\",\"type\":\"scatter\"},{\"customdata\":[[28,\"reproductive system or breast disease\",0.0330903605613875,\"SYNE1;KDR\",\"FINNGEN_R6_N14_ENDOMETRIOSIS_OVARY\",null],[28,\"reproductive system or breast disease\",0.0604267993424365,\"SYNE1;KDR\",\"GCST004549\",\"PMID:28537267\"],[28,\"reproductive system or breast disease\",0.070781736969569,\"GSDMC;KCNMA1\",\"GCST002563\",\"PMID:25108383\"]],\"hovertemplate\":\"trait_category=%{customdata[1]}\\u003cbr\\u003etrait_reported=%{x}\\u003cbr\\u003e-log10(p-value)=%{y}\\u003cbr\\u003eprogram_name=%{customdata[0]}\\u003cbr\\u003eP-value=%{customdata[2]}\\u003cbr\\u003eGenes=%{customdata[3]}\\u003cbr\\u003estudy_id=%{customdata[4]}\\u003cbr\\u003epmid=%{customdata[5]}\\u003cextra\\u003e\\u003c\\u002fextra\\u003e\",\"legendgroup\":\"reproductive system or breast disease\",\"marker\":{\"color\":\"#19d3f3\",\"symbol\":\"circle\"},\"mode\":\"markers\",\"name\":\"reproductive system or breast disease\",\"orientation\":\"v\",\"showlegend\":true,\"x\":[\"Endometriosis of ovary\",\"Endometriosis\",\"Hypospadias\"],\"xaxis\":\"x\",\"y\":[1.4802985006259477,1.2187704086430016,1.150078784068621],\"yaxis\":\"y\",\"type\":\"scatter\"},{\"customdata\":[[28,\"respiratory or thoracic disease\",0.031483453619666,\"IL1RL1;SMAD3;MAP4K4\",\"GCST009842\",\"PMID:31669095\"],[28,\"respiratory or thoracic disease\",0.0897353029899301,\"IL1RL1;ZNF217;SMAD3;STEAP1B\",\"GCST009850\",\"PMID:31669095\"],[28,\"respiratory or thoracic disease\",0.0930131343658039,\"IL1RL1;SMAD3\",\"GCST007797\",\"PMID:30929738\"],[28,\"respiratory or thoracic disease\",0.0930131343658039,\"IL1RL1;SMAD3\",\"FINNGEN_R6_J10_LOWCHRON\",null],[28,\"respiratory or thoracic disease\",0.0930131343658039,\"IL1RL1;SMAD3\",\"FINNGEN_R6_J10_UPPERDIS\",null],[28,\"respiratory or thoracic disease\",0.1135661736843901,\"SMAD3;STEAP1B;CD70;ZBTB38;ZNF217;KLF2;IL1RL1\",\"GCST010043\",\"PMID:32296059\"],[28,\"respiratory or thoracic disease\",0.117245134805854,\"ZFP36L1;SMAD3;GJA1;IL1RL1;HHEX\",\"GCST007076\",\"PMID:30595370\"],[28,\"respiratory or thoracic disease\",0.1294180205409564,\"IL1RL1;SMAD3\",\"NEALE2_20002_1387\",null],[28,\"respiratory or thoracic disease\",0.1294180205409564,\"IL1RL1;SMAD3\",\"FINNGEN_R6_J10_ASTHMACOPDKELA\",null],[28,\"respiratory or thoracic disease\",0.248080489700429,\"SMAD3;ZBTB38;ZNF217;IL1RL1;BNC2\",\"GCST009717\",\"PMID:31361310\"],[28,\"respiratory or thoracic disease\",0.2924455546051778,\"IL1RL1;SMAD3\",\"GCST006409\",\"PMID:30013184\"],[28,\"respiratory or thoracic disease\",0.3648960788707512,\"HHIP;ASAP2;ZBTB38\",\"GCST007692\",\"PMID:30804561\"],[28,\"respiratory or thoracic disease\",0.5482204356563489,\"SMAD3\",\"GCST90018895\",\"PMID:34594039\"]],\"hovertemplate\":\"trait_category=%{customdata[1]}\\u003cbr\\u003etrait_reported=%{x}\\u003cbr\\u003e-log10(p-value)=%{y}\\u003cbr\\u003eprogram_name=%{customdata[0]}\\u003cbr\\u003eP-value=%{customdata[2]}\\u003cbr\\u003eGenes=%{customdata[3]}\\u003cbr\\u003estudy_id=%{customdata[4]}\\u003cbr\\u003epmid=%{customdata[5]}\\u003cextra\\u003e\\u003c\\u002fextra\\u003e\",\"legendgroup\":\"respiratory or thoracic disease\",\"marker\":{\"color\":\"#FF6692\",\"symbol\":\"circle\"},\"mode\":\"markers\",\"name\":\"respiratory or thoracic disease\",\"orientation\":\"v\",\"showlegend\":true,\"x\":[\"Asthma (adult onset)\",\"Atopic asthma\",\"Asthma onset (childhood vs adult)\",\"Chronic lower respiratory diseases\",\"Other diseases of upper respiratory tract\",\"Asthma\",\"Respiratory diseases\",\"Hayfever\\u002fallergic rhinitis | non-cancer illness code, self-reported\",\"Asthma\\u002fCOPD (KELA code 203)\",\"Hay fever and\\u002for eczema\",\"Allergic rhinitis\",\"Chronic obstructive pulmonary disease\",\"Pediatric asthma\"],\"xaxis\":\"x\",\"y\":[1.5019176331841797,1.047036666460407,1.0314557204801538,1.0314557204801538,1.0314557204801538,0.9447510063875973,0.9309051696858797,0.8880052470320782,0.8880052470320782,0.605407389490884,0.5339549758568718,0.4378308034863938,0.261044779582057],\"yaxis\":\"y\",\"type\":\"scatter\"},{\"customdata\":[[28,\"urinary system disease\",0.1552144396228272,\"PRKAG2;FGF5\",\"GCST008064\",\"PMID:31152163\"],[28,\"urinary system disease\",0.4647639506203323,\"AHNAK2;USP18;CD44\",\"GCST011956\",\"PMID:33272962\"]],\"hovertemplate\":\"trait_category=%{customdata[1]}\\u003cbr\\u003etrait_reported=%{x}\\u003cbr\\u003e-log10(p-value)=%{y}\\u003cbr\\u003eprogram_name=%{customdata[0]}\\u003cbr\\u003eP-value=%{customdata[2]}\\u003cbr\\u003eGenes=%{customdata[3]}\\u003cbr\\u003estudy_id=%{customdata[4]}\\u003cbr\\u003epmid=%{customdata[5]}\\u003cextra\\u003e\\u003c\\u002fextra\\u003e\",\"legendgroup\":\"urinary system disease\",\"marker\":{\"color\":\"#B6E880\",\"symbol\":\"circle\"},\"mode\":\"markers\",\"name\":\"urinary system disease\",\"orientation\":\"v\",\"showlegend\":true,\"x\":[\"Chronic kidney disease\",\"Systemic lupus erythematosus\"],\"xaxis\":\"x\",\"y\":[0.8090678787169587,0.33276756532906393],\"yaxis\":\"y\",\"type\":\"scatter\"}],                        {\"template\":{\"data\":{\"histogram2dcontour\":[{\"type\":\"histogram2dcontour\",\"colorbar\":{\"outlinewidth\":0,\"ticks\":\"\"},\"colorscale\":[[0.0,\"#0d0887\"],[0.1111111111111111,\"#46039f\"],[0.2222222222222222,\"#7201a8\"],[0.3333333333333333,\"#9c179e\"],[0.4444444444444444,\"#bd3786\"],[0.5555555555555556,\"#d8576b\"],[0.6666666666666666,\"#ed7953\"],[0.7777777777777778,\"#fb9f3a\"],[0.8888888888888888,\"#fdca26\"],[1.0,\"#f0f921\"]]}],\"choropleth\":[{\"type\":\"choropleth\",\"colorbar\":{\"outlinewidth\":0,\"ticks\":\"\"}}],\"histogram2d\":[{\"type\":\"histogram2d\",\"colorbar\":{\"outlinewidth\":0,\"ticks\":\"\"},\"colorscale\":[[0.0,\"#0d0887\"],[0.1111111111111111,\"#46039f\"],[0.2222222222222222,\"#7201a8\"],[0.3333333333333333,\"#9c179e\"],[0.4444444444444444,\"#bd3786\"],[0.5555555555555556,\"#d8576b\"],[0.6666666666666666,\"#ed7953\"],[0.7777777777777778,\"#fb9f3a\"],[0.8888888888888888,\"#fdca26\"],[1.0,\"#f0f921\"]]}],\"heatmap\":[{\"type\":\"heatmap\",\"colorbar\":{\"outlinewidth\":0,\"ticks\":\"\"},\"colorscale\":[[0.0,\"#0d0887\"],[0.1111111111111111,\"#46039f\"],[0.2222222222222222,\"#7201a8\"],[0.3333333333333333,\"#9c179e\"],[0.4444444444444444,\"#bd3786\"],[0.5555555555555556,\"#d8576b\"],[0.6666666666666666,\"#ed7953\"],[0.7777777777777778,\"#fb9f3a\"],[0.8888888888888888,\"#fdca26\"],[1.0,\"#f0f921\"]]}],\"heatmapgl\":[{\"type\":\"heatmapgl\",\"colorbar\":{\"outlinewidth\":0,\"ticks\":\"\"},\"colorscale\":[[0.0,\"#0d0887\"],[0.1111111111111111,\"#46039f\"],[0.2222222222222222,\"#7201a8\"],[0.3333333333333333,\"#9c179e\"],[0.4444444444444444,\"#bd3786\"],[0.5555555555555556,\"#d8576b\"],[0.6666666666666666,\"#ed7953\"],[0.7777777777777778,\"#fb9f3a\"],[0.8888888888888888,\"#fdca26\"],[1.0,\"#f0f921\"]]}],\"contourcarpet\":[{\"type\":\"contourcarpet\",\"colorbar\":{\"outlinewidth\":0,\"ticks\":\"\"}}],\"contour\":[{\"type\":\"contour\",\"colorbar\":{\"outlinewidth\":0,\"ticks\":\"\"},\"colorscale\":[[0.0,\"#0d0887\"],[0.1111111111111111,\"#46039f\"],[0.2222222222222222,\"#7201a8\"],[0.3333333333333333,\"#9c179e\"],[0.4444444444444444,\"#bd3786\"],[0.5555555555555556,\"#d8576b\"],[0.6666666666666666,\"#ed7953\"],[0.7777777777777778,\"#fb9f3a\"],[0.8888888888888888,\"#fdca26\"],[1.0,\"#f0f921\"]]}],\"surface\":[{\"type\":\"surface\",\"colorbar\":{\"outlinewidth\":0,\"ticks\":\"\"},\"colorscale\":[[0.0,\"#0d0887\"],[0.1111111111111111,\"#46039f\"],[0.2222222222222222,\"#7201a8\"],[0.3333333333333333,\"#9c179e\"],[0.4444444444444444,\"#bd3786\"],[0.5555555555555556,\"#d8576b\"],[0.6666666666666666,\"#ed7953\"],[0.7777777777777778,\"#fb9f3a\"],[0.8888888888888888,\"#fdca26\"],[1.0,\"#f0f921\"]]}],\"mesh3d\":[{\"type\":\"mesh3d\",\"colorbar\":{\"outlinewidth\":0,\"ticks\":\"\"}}],\"scatter\":[{\"fillpattern\":{\"fillmode\":\"overlay\",\"size\":10,\"solidity\":0.2},\"type\":\"scatter\"}],\"parcoords\":[{\"type\":\"parcoords\",\"line\":{\"colorbar\":{\"outlinewidth\":0,\"ticks\":\"\"}}}],\"scatterpolargl\":[{\"type\":\"scatterpolargl\",\"marker\":{\"colorbar\":{\"outlinewidth\":0,\"ticks\":\"\"}}}],\"bar\":[{\"error_x\":{\"color\":\"#2a3f5f\"},\"error_y\":{\"color\":\"#2a3f5f\"},\"marker\":{\"line\":{\"color\":\"#E5ECF6\",\"width\":0.5},\"pattern\":{\"fillmode\":\"overlay\",\"size\":10,\"solidity\":0.2}},\"type\":\"bar\"}],\"scattergeo\":[{\"type\":\"scattergeo\",\"marker\":{\"colorbar\":{\"outlinewidth\":0,\"ticks\":\"\"}}}],\"scatterpolar\":[{\"type\":\"scatterpolar\",\"marker\":{\"colorbar\":{\"outlinewidth\":0,\"ticks\":\"\"}}}],\"histogram\":[{\"marker\":{\"pattern\":{\"fillmode\":\"overlay\",\"size\":10,\"solidity\":0.2}},\"type\":\"histogram\"}],\"scattergl\":[{\"type\":\"scattergl\",\"marker\":{\"colorbar\":{\"outlinewidth\":0,\"ticks\":\"\"}}}],\"scatter3d\":[{\"type\":\"scatter3d\",\"line\":{\"colorbar\":{\"outlinewidth\":0,\"ticks\":\"\"}},\"marker\":{\"colorbar\":{\"outlinewidth\":0,\"ticks\":\"\"}}}],\"scattermapbox\":[{\"type\":\"scattermapbox\",\"marker\":{\"colorbar\":{\"outlinewidth\":0,\"ticks\":\"\"}}}],\"scatterternary\":[{\"type\":\"scatterternary\",\"marker\":{\"colorbar\":{\"outlinewidth\":0,\"ticks\":\"\"}}}],\"scattercarpet\":[{\"type\":\"scattercarpet\",\"marker\":{\"colorbar\":{\"outlinewidth\":0,\"ticks\":\"\"}}}],\"carpet\":[{\"aaxis\":{\"endlinecolor\":\"#2a3f5f\",\"gridcolor\":\"white\",\"linecolor\":\"white\",\"minorgridcolor\":\"white\",\"startlinecolor\":\"#2a3f5f\"},\"baxis\":{\"endlinecolor\":\"#2a3f5f\",\"gridcolor\":\"white\",\"linecolor\":\"white\",\"minorgridcolor\":\"white\",\"startlinecolor\":\"#2a3f5f\"},\"type\":\"carpet\"}],\"table\":[{\"cells\":{\"fill\":{\"color\":\"#EBF0F8\"},\"line\":{\"color\":\"white\"}},\"header\":{\"fill\":{\"color\":\"#C8D4E3\"},\"line\":{\"color\":\"white\"}},\"type\":\"table\"}],\"barpolar\":[{\"marker\":{\"line\":{\"color\":\"#E5ECF6\",\"width\":0.5},\"pattern\":{\"fillmode\":\"overlay\",\"size\":10,\"solidity\":0.2}},\"type\":\"barpolar\"}],\"pie\":[{\"automargin\":true,\"type\":\"pie\"}]},\"layout\":{\"autotypenumbers\":\"strict\",\"colorway\":[\"#636efa\",\"#EF553B\",\"#00cc96\",\"#ab63fa\",\"#FFA15A\",\"#19d3f3\",\"#FF6692\",\"#B6E880\",\"#FF97FF\",\"#FECB52\"],\"font\":{\"color\":\"#2a3f5f\"},\"hovermode\":\"closest\",\"hoverlabel\":{\"align\":\"left\"},\"paper_bgcolor\":\"white\",\"plot_bgcolor\":\"#E5ECF6\",\"polar\":{\"bgcolor\":\"#E5ECF6\",\"angularaxis\":{\"gridcolor\":\"white\",\"linecolor\":\"white\",\"ticks\":\"\"},\"radialaxis\":{\"gridcolor\":\"white\",\"linecolor\":\"white\",\"ticks\":\"\"}},\"ternary\":{\"bgcolor\":\"#E5ECF6\",\"aaxis\":{\"gridcolor\":\"white\",\"linecolor\":\"white\",\"ticks\":\"\"},\"baxis\":{\"gridcolor\":\"white\",\"linecolor\":\"white\",\"ticks\":\"\"},\"caxis\":{\"gridcolor\":\"white\",\"linecolor\":\"white\",\"ticks\":\"\"}},\"coloraxis\":{\"colorbar\":{\"outlinewidth\":0,\"ticks\":\"\"}},\"colorscale\":{\"sequential\":[[0.0,\"#0d0887\"],[0.1111111111111111,\"#46039f\"],[0.2222222222222222,\"#7201a8\"],[0.3333333333333333,\"#9c179e\"],[0.4444444444444444,\"#bd3786\"],[0.5555555555555556,\"#d8576b\"],[0.6666666666666666,\"#ed7953\"],[0.7777777777777778,\"#fb9f3a\"],[0.8888888888888888,\"#fdca26\"],[1.0,\"#f0f921\"]],\"sequentialminus\":[[0.0,\"#0d0887\"],[0.1111111111111111,\"#46039f\"],[0.2222222222222222,\"#7201a8\"],[0.3333333333333333,\"#9c179e\"],[0.4444444444444444,\"#bd3786\"],[0.5555555555555556,\"#d8576b\"],[0.6666666666666666,\"#ed7953\"],[0.7777777777777778,\"#fb9f3a\"],[0.8888888888888888,\"#fdca26\"],[1.0,\"#f0f921\"]],\"diverging\":[[0,\"#8e0152\"],[0.1,\"#c51b7d\"],[0.2,\"#de77ae\"],[0.3,\"#f1b6da\"],[0.4,\"#fde0ef\"],[0.5,\"#f7f7f7\"],[0.6,\"#e6f5d0\"],[0.7,\"#b8e186\"],[0.8,\"#7fbc41\"],[0.9,\"#4d9221\"],[1,\"#276419\"]]},\"xaxis\":{\"gridcolor\":\"white\",\"linecolor\":\"white\",\"ticks\":\"\",\"title\":{\"standoff\":15},\"zerolinecolor\":\"white\",\"automargin\":true,\"zerolinewidth\":2},\"yaxis\":{\"gridcolor\":\"white\",\"linecolor\":\"white\",\"ticks\":\"\",\"title\":{\"standoff\":15},\"zerolinecolor\":\"white\",\"automargin\":true,\"zerolinewidth\":2},\"scene\":{\"xaxis\":{\"backgroundcolor\":\"#E5ECF6\",\"gridcolor\":\"white\",\"linecolor\":\"white\",\"showbackground\":true,\"ticks\":\"\",\"zerolinecolor\":\"white\",\"gridwidth\":2},\"yaxis\":{\"backgroundcolor\":\"#E5ECF6\",\"gridcolor\":\"white\",\"linecolor\":\"white\",\"showbackground\":true,\"ticks\":\"\",\"zerolinecolor\":\"white\",\"gridwidth\":2},\"zaxis\":{\"backgroundcolor\":\"#E5ECF6\",\"gridcolor\":\"white\",\"linecolor\":\"white\",\"showbackground\":true,\"ticks\":\"\",\"zerolinecolor\":\"white\",\"gridwidth\":2}},\"shapedefaults\":{\"line\":{\"color\":\"#2a3f5f\"}},\"annotationdefaults\":{\"arrowcolor\":\"#2a3f5f\",\"arrowhead\":0,\"arrowwidth\":1},\"geo\":{\"bgcolor\":\"white\",\"landcolor\":\"#E5ECF6\",\"subunitcolor\":\"white\",\"showland\":true,\"showlakes\":true,\"lakecolor\":\"white\"},\"title\":{\"x\":0.05},\"mapbox\":{\"style\":\"light\"}}},\"xaxis\":{\"anchor\":\"y\",\"domain\":[0.0,1.0],\"title\":{\"text\":\"trait_reported\"},\"tickfont\":{\"size\":4}},\"yaxis\":{\"anchor\":\"x\",\"domain\":[0.0,1.0],\"title\":{\"text\":\"-log10(p-value)\"},\"tickformat\":\".1f\"},\"legend\":{\"title\":{\"text\":\"trait_category\"},\"tracegroupgap\":0},\"title\":{\"text\":\"Endothelial Cell Programs x GWAS Binary Outcome Enrichments\"},\"width\":1000,\"height\":800,\"shapes\":[{\"line\":{\"dash\":\"dash\"},\"type\":\"line\",\"x0\":0,\"x1\":1,\"xref\":\"x domain\",\"y0\":1.3010299956639813,\"y1\":1.3010299956639813,\"yref\":\"y\"}],\"annotations\":[{\"showarrow\":false,\"text\":\"Significance Threshold (0.05)\",\"x\":1,\"xanchor\":\"right\",\"xref\":\"x domain\",\"y\":1.3010299956639813,\"yanchor\":\"bottom\",\"yref\":\"y\"}]},                        {\"responsive\": true}                    ).then(function(){\n",
       "                            \n",
       "var gd = document.getElementById('d777ec77-604f-4d94-808e-072d7ad9b412');\n",
       "var x = new MutationObserver(function (mutations, observer) {{\n",
       "        var display = window.getComputedStyle(gd).display;\n",
       "        if (!display || display === 'none') {{\n",
       "            console.log([gd, 'removed!']);\n",
       "            Plotly.purge(gd);\n",
       "            observer.disconnect();\n",
       "        }}\n",
       "}});\n",
       "\n",
       "// Listen for the removal of the full notebook cells\n",
       "var notebookContainer = gd.closest('#notebook-container');\n",
       "if (notebookContainer) {{\n",
       "    x.observe(notebookContainer, {childList: true});\n",
       "}}\n",
       "\n",
       "// Listen for the clearing of the current output cell\n",
       "var outputEl = gd.closest('.output');\n",
       "if (outputEl) {{\n",
       "    x.observe(outputEl, {childList: true});\n",
       "}}\n",
       "\n",
       "                        })                };                });            </script>        </div>"
      ]
     },
     "metadata": {},
     "output_type": "display_data"
    },
    {
     "data": {
      "application/vnd.plotly.v1+json": {
       "config": {
        "plotlyServerURL": "https://plot.ly"
       },
       "data": [
        {
         "customdata": [
          [
           35,
           "biological process",
           0.0056429697422936,
           "MEF2C;KMT2E;SYT1;JMJD1C;ADAMTS9;TANK;EXT1;NAV2;RBMS1",
           "GCST006269",
           "PMID:29844566"
          ],
          [
           35,
           "biological process",
           0.1011109402283948,
           "MEF2C;NTM;NR2F2;SYT1;PCDH9;KLF6;UTRN;CD47;PREX1;NOL4L;AGO2;RBMS1;CEP170;ZSWIM6;PTPRN2;MARCKS;JMJD1C;PLCB1;EXT1;NFIB;MBNL2;RORA;MAST4;RGS17;BACE2;PTK2;ZBTB38;ZNF385D;PDE4B;TCF4",
           "GCST006568",
           "PMID:30038396"
          ],
          [
           35,
           "biological process",
           0.1051027831894417,
           "NOL4L;NTM;TANK;PCDH9;PLXNA2;NAV2;PDE4B",
           "GCST007327",
           "PMID:30643258"
          ],
          [
           35,
           "biological process",
           0.2245699078667443,
           "NTM;NR2F2;FGFR1;PCDH9;PDE4B;NLGN1",
           "GCST007462",
           "PMID:30643251"
          ],
          [
           35,
           "biological process",
           0.2704419910386041,
           "CREB5;PLCB1;CD82;DACH1;SERTAD2;SVIL;ATP9A;FRY",
           "GCST006660",
           "PMID:30348214"
          ],
          [
           35,
           "biological process",
           0.307935309981509,
           "YWHAZ;RGS17;GJA1;SPRY2;PLXNA2;TCF4;SDCCAG8;PPP1R3B",
           "GCST007325",
           "PMID:30643258"
          ],
          [
           35,
           "biological process",
           0.3806033286647947,
           "JMJD1C",
           "NEALE2_1508_3",
           null
          ],
          [
           35,
           "biological process",
           0.44289869345144,
           "KLHL6;RALY",
           "NEALE2_1757",
           null
          ],
          [
           35,
           "biological process",
           0.4956985515996857,
           "CDKN2B;PPP1R3B;TRIB1",
           "FINNGEN_R6_RX_STATIN",
           null
          ],
          [
           35,
           "biological process",
           0.6349757084295646,
           "PDE4B;RBMS1",
           "GCST007464",
           "PMID:30643251"
          ]
         ],
         "hovertemplate": "trait_category=%{customdata[1]}<br>trait_reported=%{x}<br>-log10(p-value)=%{y}<br>program_name=%{customdata[0]}<br>P-value=%{customdata[2]}<br>Genes=%{customdata[3]}<br>study_id=%{customdata[4]}<br>pmid=%{customdata[5]}<extra></extra>",
         "legendgroup": "biological process",
         "marker": {
          "color": "#636efa",
          "symbol": "circle"
         },
         "mode": "markers",
         "name": "biological process",
         "orientation": "v",
         "showlegend": true,
         "type": "scatter",
         "x": [
          "General cognitive ability",
          "Highest math class taken (MTAG) [MTAG]",
          "Smoking status (ever vs never smokers)",
          "Age of smoking initiation (MTAG)",
          "DNA methylation variation (age effect)",
          "General risk tolerance (MTAG)",
          "Ground coffee (include espresso, filter etc) | coffee type",
          "Facial ageing",
          "Statin medication",
          "Smoking cessation (MTAG)"
         ],
         "xaxis": "x",
         "y": [
          2.248492278418627,
          0.995201851097738,
          0.9783857834216856,
          0.6486484391831474,
          0.5679258753764462,
          0.5115405090478005,
          0.41952741779773484,
          0.3536956008795377,
          0.30478235007443977,
          0.19724288871871462
         ],
         "yaxis": "y"
        },
        {
         "customdata": [
          [
           35,
           "cardiovascular disease",
           0.00331789233512,
           "CFDP1;FAM133B;RORA;ABHD17C;CPEB2;SLC7A1;PLCB1;NFATC2;SIPA1L2;HIPK2;MYEOV;SLC4A7;KANK2;PREX1;TRIB1;PLEKHG1",
           "GCST007072",
           "PMID:30595370"
          ],
          [
           35,
           "cardiovascular disease",
           0.003446888968619,
           "NR2F2;SYT1;SLC7A1;NFAT5;GLCE;SH2B3;PLEKHG1",
           "FINNGEN_R6_RX_ANTIHYP",
           null
          ],
          [
           35,
           "cardiovascular disease",
           0.0215131352966968,
           "SMAD3;ANGPT2;RGMB;SERTAD2;AMPD3;FEZ2;CDKN2B",
           "GCST90014033",
           "PMID:33888516"
          ],
          [
           35,
           "cardiovascular disease",
           0.0294799337083979,
           "HEY2;TGFBR2;GJA1;NRP1",
           "GCST003720",
           "PMID:27322543"
          ],
          [
           35,
           "cardiovascular disease",
           0.0388352174324807,
           "CFDP1;GJA1;KIAA0040",
           "GCST011064",
           "PMID:32632093"
          ],
          [
           35,
           "cardiovascular disease",
           0.1035228209042789,
           "CFDP1;CDKN2B",
           "GCST011021",
           "PMID:33199917"
          ],
          [
           35,
           "cardiovascular disease",
           0.1319233513393735,
           "CDKN2B;SH3PXD2A",
           "GCST005838",
           "PMID:29531354"
          ],
          [
           35,
           "cardiovascular disease",
           0.1772016518459501,
           "CDKN2B;PAWR",
           "GCST008474",
           "PMID:31285632"
          ],
          [
           35,
           "cardiovascular disease",
           0.1794611024734277,
           "SMAD3;CDKN2B;SLC5A3;ARHGAP26",
           "GCST005195",
           "PMID:29212778"
          ],
          [
           35,
           "cardiovascular disease",
           0.2423005011678632,
           "TRIB1;CDKN2B;SLC5A3;SMAD3",
           "GCST011365",
           "PMID:33532862"
          ],
          [
           35,
           "cardiovascular disease",
           0.2621073474217304,
           "CREB5;PTK2;NAV2;LRIG1;MTSS1",
           "GCST006061",
           "PMID:29892015"
          ],
          [
           35,
           "cardiovascular disease",
           0.2941132173943117,
           "MFHAS1",
           "GCST90000064",
           "PMID:33230300"
          ],
          [
           35,
           "cardiovascular disease",
           0.2941132173943117,
           "TRIB1",
           "GCST011496",
           "PMID:32981348"
          ],
          [
           35,
           "cardiovascular disease",
           0.3361891804443679,
           "CDKN2B;TRIB1",
           "FINNGEN_R6_I9_CORATHER",
           null
          ],
          [
           35,
           "cardiovascular disease",
           0.3530161122492894,
           "CDKN2B",
           "GCST009541",
           "PMID:31919418"
          ],
          [
           35,
           "cardiovascular disease",
           0.4070176992439764,
           "MTSS1",
           "GCST011202",
           "PMID:33495596"
          ],
          [
           35,
           "cardiovascular disease",
           0.4565246622701632,
           "MEF2C",
           "GCST010774",
           "PMID:32589924"
          ],
          [
           35,
           "cardiovascular disease",
           0.5019100365830542,
           "SH3PXD2A",
           "SAIGE_427",
           null
          ],
          [
           35,
           "cardiovascular disease",
           0.6636761395195891,
           "CDKN2B",
           "FINNGEN_R6_I9_IHD",
           null
          ]
         ],
         "hovertemplate": "trait_category=%{customdata[1]}<br>trait_reported=%{x}<br>-log10(p-value)=%{y}<br>program_name=%{customdata[0]}<br>P-value=%{customdata[2]}<br>Genes=%{customdata[3]}<br>study_id=%{customdata[4]}<br>pmid=%{customdata[5]}<extra></extra>",
         "legendgroup": "cardiovascular disease",
         "marker": {
          "color": "#EF553B",
          "symbol": "circle"
         },
         "mode": "markers",
         "name": "cardiovascular disease",
         "orientation": "v",
         "showlegend": true,
         "type": "scatter",
         "x": [
          "Cardiovascular disease",
          "Antihypertensive medication - note that there are other indications",
          "Haemorrhoidal disease",
          "Migraine",
          "Migraine and/or diastolic blood pressure",
          "Intracranial aneurysm",
          "Stroke",
          "Peripheral artery disease",
          "Coronary artery disease",
          "Myocardial infarction",
          "Atrial fibrillation",
          "Hypertension",
          "Abdominal aortic aneurysm",
          "Coronary atherosclerosis",
          "Heart failure",
          "Dilated cardiomyopathy (MTAG)",
          "Essential hypertension (time to event)",
          "Cardiac dysrhythmias",
          "Ischaemic heart disease, wide definition"
         ],
         "xaxis": "x",
         "y": [
          2.4791377108438817,
          2.4625727058849782,
          1.6672962914801457,
          1.530473497410997,
          1.4107742589538343,
          0.984963902377938,
          0.8796783245428159,
          0.7515322340051904,
          0.7460296685996632,
          0.6156456875784971,
          0.5815208046925111,
          0.5314854579396152,
          0.5314854579396152,
          0.47341626754413446,
          0.4522054722289846,
          0.39038670498396444,
          0.3405357561394682,
          0.2993741197412226,
          0.1780437958297842
         ],
         "yaxis": "y"
        },
        {
         "customdata": [
          [
           35,
           "cell proliferation disorder",
           0.0030335884821261,
           "PREX1;TNS3;SMAD3;BMP2",
           "SAIGE_208",
           null
          ],
          [
           35,
           "cell proliferation disorder",
           0.0053062999929258,
           "DMRTA1;HEY2;SH2B3",
           "GCST006464",
           "PMID:30093612"
          ],
          [
           35,
           "cell proliferation disorder",
           0.0065324465078167,
           "KRT8;ARHGAP6;FERMT2;TACC1;RGS17;ZBTB38;SLC25A37;ADGRG1;MYEOV;TNS3;ZNF827;CDKN2B;ITGA6",
           "GCST011049",
           "PMID:33398198"
          ],
          [
           35,
           "cell proliferation disorder",
           0.0261179852629695,
           "LPP;CDKN2B;TNS3;RALY",
           "SAIGE_172_2",
           null
          ],
          [
           35,
           "cell proliferation disorder",
           0.0329390943721437,
           "DPF3;MYEOV",
           "GCST004710",
           "PMID:28598434"
          ],
          [
           35,
           "cell proliferation disorder",
           0.0691208078644381,
           "LPP;RBMS1;TNS3;PTPN22;CDKN2B",
           "GCST008871",
           "PMID:31174203"
          ],
          [
           35,
           "cell proliferation disorder",
           0.0722052735626807,
           "PREX1;TNS3;SMAD3",
           "GCST90018827",
           "PMID:34594039"
          ],
          [
           35,
           "cell proliferation disorder",
           0.0900452522937988,
           "LPP;RALY",
           "GCST008872",
           "PMID:31174203"
          ],
          [
           35,
           "cell proliferation disorder",
           0.1538344687020897,
           "LPP;CDKN2B;RALY",
           "GCST90018921",
           "PMID:34594039"
          ],
          [
           35,
           "cell proliferation disorder",
           0.1855784481857479,
           "LPP;CDKN2B;RALY",
           "GCST90027058",
           "PMID:34290314"
          ],
          [
           35,
           "cell proliferation disorder",
           0.188087026748552,
           "CDKN2B;PREX1;TNS3;BMP2",
           "GCST007992",
           "PMID:31089142"
          ],
          [
           35,
           "cell proliferation disorder",
           0.1955882453753811,
           "SMAD3",
           "GCST004144",
           "PMID:28195142"
          ],
          [
           35,
           "cell proliferation disorder",
           0.2298656572349589,
           "CDKN2B",
           "GCST004349",
           "PMID:28346443"
          ],
          [
           35,
           "cell proliferation disorder",
           0.2298656572349589,
           "CDKN2B",
           "GCST004347",
           "PMID:28346443"
          ],
          [
           35,
           "cell proliferation disorder",
           0.2298656572349589,
           "TIPARP",
           "GCST004415",
           "PMID:28346442"
          ],
          [
           35,
           "cell proliferation disorder",
           0.2941132173943117,
           "TIPARP",
           "GCST004478",
           "PMID:28346442"
          ],
          [
           35,
           "cell proliferation disorder",
           0.3044502467361865,
           "LPP;TNS3",
           "SAIGE_172",
           null
          ],
          [
           35,
           "cell proliferation disorder",
           0.324204141364255,
           "AKAP13",
           "GCST009758",
           "PMID:31710517"
          ],
          [
           35,
           "cell proliferation disorder",
           0.324204141364255,
           "PREX1",
           "GCST004483",
           "PMID:27363682"
          ],
          [
           35,
           "cell proliferation disorder",
           0.324204141364255,
           "NRIP1",
           "FINNGEN_R6_C3_BREAST_HERPLUS",
           null
          ],
          [
           35,
           "cell proliferation disorder",
           0.324204141364255,
           "NRIP1",
           "FINNGEN_R6_C3_BREAST_HERPLUS_EXALLC",
           null
          ],
          [
           35,
           "cell proliferation disorder",
           0.3354586528991354,
           "LPP;CDKN2B;TNS3",
           "GCST008870",
           "PMID:31174203"
          ],
          [
           35,
           "cell proliferation disorder",
           0.4565246622701632,
           "NRIP1",
           "FINNGEN_R6_C3_BREAST",
           null
          ],
          [
           35,
           "cell proliferation disorder",
           0.4565246622701632,
           "MYEOV",
           "FINNGEN_R6_C3_PROSTATE_EXALLC",
           null
          ],
          [
           35,
           "cell proliferation disorder",
           0.4797104701937913,
           "TNFRSF11B",
           "GCST90018883",
           "PMID:34594039"
          ],
          [
           35,
           "cell proliferation disorder",
           0.5231651886458835,
           "NRIP1",
           "FINNGEN_R6_C3_BREAST_HER2NEG",
           null
          ],
          [
           35,
           "cell proliferation disorder",
           0.5378103941015597,
           "CREB5;NRIP1;SLC4A7;TGFBR2",
           "GCST90090980",
           "PMID:32139696"
          ],
          [
           35,
           "cell proliferation disorder",
           0.5435159849282323,
           "CDKN2B",
           "GCST90027051",
           "PMID:34290314"
          ],
          [
           35,
           "cell proliferation disorder",
           0.5995178386861355,
           "MYEOV",
           "FINNGEN_R6_C3_MALE_GENITAL",
           null
          ],
          [
           35,
           "cell proliferation disorder",
           0.5995178386861355,
           "MYEOV",
           "FINNGEN_R6_C3_MALE_GENITAL_EXALLC",
           null
          ],
          [
           35,
           "cell proliferation disorder",
           0.6166189689485199,
           "LPIN1",
           "SAIGE_728_71",
           null
          ],
          [
           35,
           "cell proliferation disorder",
           0.7049729690863856,
           "CDKN2B",
           "GCST004146",
           "PMID:28165464"
          ],
          [
           35,
           "cell proliferation disorder",
           0.8253982211852733,
           "CDKN2B",
           "GCST010304",
           "PMID:32341527"
          ]
         ],
         "hovertemplate": "trait_category=%{customdata[1]}<br>trait_reported=%{x}<br>-log10(p-value)=%{y}<br>program_name=%{customdata[0]}<br>P-value=%{customdata[2]}<br>Genes=%{customdata[3]}<br>study_id=%{customdata[4]}<br>pmid=%{customdata[5]}<extra></extra>",
         "legendgroup": "cell proliferation disorder",
         "marker": {
          "color": "#00cc96",
          "symbol": "circle"
         },
         "mode": "markers",
         "name": "cell proliferation disorder",
         "orientation": "v",
         "showlegend": true,
         "type": "scatter",
         "x": [
          "Benign neoplasm of colon",
          "Endometrial cancer",
          "Prostate cancer",
          "Other non-epithelial cancer of skin",
          "Renal cell carcinoma",
          "Basal cell carcinoma",
          "Colon polyp",
          "Squamous cell carcinoma",
          "Skin cancer",
          "Non-melanoma skin cancer",
          "Colorectal cancer",
          "Thyroid cancer",
          "Glioblastoma",
          "Glioma",
          "Invasive epithelial ovarian cancer",
          "Serous invasive ovarian cancer",
          "Skin cancer",
          "Idiopathic pulmonary fibrosis",
          "Multiple myeloma",
          "Malignant neoplasm of breast, HER-positive",
          "Malignant neoplasm of breast, HER-positive (controls excluding all cancers)",
          "Keratinocyte cancer (MTAG)",
          "Malignant neoplasm of breast",
          "Malignant neoplasm of prostate (controls excluding all cancers)",
          "Nasal polyps",
          "Malignant neoplasm of breast, HER2-negative",
          "Breast cancer",
          "Cancer",
          "malignant neoplasm of male genital organs",
          "malignant neoplasm of male genital organs (controls excluding all cancers)",
          "Contracture of palmar fascia [dupuytren's disease]",
          "Chronic lymphocytic leukemia",
          "Cutaneous malignant melanoma"
         ],
         "xaxis": "x",
         "y": [
          2.518043333260334,
          2.275208200718303,
          2.1849241378892166,
          1.5830603275088406,
          1.482288345499823,
          1.16039119458852,
          1.1414310822706089,
          1.0455391807562928,
          0.8129463440539425,
          0.731472461185461,
          0.7256411587602051,
          0.7086572493541795,
          0.6385259090589651,
          0.6385259090589651,
          0.6385259090589651,
          0.5314854579396152,
          0.5164836696432216,
          0.48918144180040934,
          0.48918144180040934,
          0.48918144180040934,
          0.48918144180040934,
          0.474361001349953,
          0.3405357561394682,
          0.3405357561394682,
          0.3190208024893572,
          0.28136116162946356,
          0.26937080855130013,
          0.26478767869077113,
          0.22219788991677206,
          0.22219788991677206,
          0.20998311927387223,
          0.15182753492588247,
          0.08333647140511674
         ],
         "yaxis": "y"
        },
        {
         "customdata": [
          [
           35,
           "disease of visual system",
           0.0237822510429903,
           "MCUB;TNFRSF10A;ADAMTS9",
           "GCST001884",
           "PMID:23455636"
          ],
          [
           35,
           "disease of visual system",
           0.0373700895637997,
           "FERMT2;LMO7;FMNL2;SMG6;LPP;KANK2;CDKN2B",
           "GCST009722",
           "PMID:31959993"
          ],
          [
           35,
           "disease of visual system",
           0.1581965546679331,
           "FLT1;NTM;BMP2;NRIP1;ZBTB38;ANK3;ANKRD28;ANTXR2",
           "GCST010378",
           "PMID:32352494"
          ],
          [
           35,
           "disease of visual system",
           0.1709733875035058,
           "LPP;CDKN2B;LMO7;FMNL2",
           "GCST90011770",
           "PMID:33627673"
          ],
          [
           35,
           "disease of visual system",
           0.2085452372070686,
           "TOP1;CDKN2B",
           "GCST90018814",
           "PMID:34594039"
          ],
          [
           35,
           "disease of visual system",
           0.3806033286647947,
           "CDKN2B",
           "FINNGEN_R6_H7_GLAUCOMA_JOAG",
           null
          ],
          [
           35,
           "disease of visual system",
           0.5231651886458835,
           "CREB5",
           "FINNGEN_R6_H7_LENS",
           null
          ]
         ],
         "hovertemplate": "trait_category=%{customdata[1]}<br>trait_reported=%{x}<br>-log10(p-value)=%{y}<br>program_name=%{customdata[0]}<br>P-value=%{customdata[2]}<br>Genes=%{customdata[3]}<br>study_id=%{customdata[4]}<br>pmid=%{customdata[5]}<extra></extra>",
         "legendgroup": "disease of visual system",
         "marker": {
          "color": "#ab63fa",
          "symbol": "circle"
         },
         "mode": "markers",
         "name": "disease of visual system",
         "orientation": "v",
         "showlegend": true,
         "type": "scatter",
         "x": [
          "Age-related macular degeneration",
          "Glaucoma (multi-trait analysis)",
          "Spherical equivalent",
          "Glaucoma (primary open-angle)",
          "Cataracts",
          "Juvenile Open Angle Glaucoma",
          "Disorders of lens"
         ],
         "xaxis": "x",
         "y": [
          1.6237470408325076,
          1.4274758612882437,
          0.8008029791505961,
          0.7670714835249332,
          0.6807997241989133,
          0.41952741779773484,
          0.28136116162946356
         ],
         "yaxis": "y"
        },
        {
         "customdata": [
          [
           35,
           "endocrine system disease",
           0.0007245660764551,
           "AGO2;TANK;TNFRSF11B;JAK1;BHLHE40;LPP;PFKFB3;SASH1;PTPN22;SH2B3;SLC25A37;PRAG1",
           "GCST007073",
           "PMID:30595370"
          ],
          [
           35,
           "endocrine system disease",
           0.0193202224321582,
           "AGO2;LPP;SASH1;PTPN22;SH2B3",
           "FINNGEN_R6_E4_THYROID",
           null
          ],
          [
           35,
           "endocrine system disease",
           0.0329390943721437,
           "LPP;PTPN22",
           "GCST90011871",
           "PMID:33574239"
          ],
          [
           35,
           "endocrine system disease",
           0.0737935301031566,
           "AGO2;LPP;SASH1;PTPN22;SH2B3",
           "FINNGEN_R6_E4_HYTHY_AI_STRICT_PURCH",
           null
          ],
          [
           35,
           "endocrine system disease",
           0.0766875165099084,
           "BHLHE40;LPP;PTPN22;SASH1;PRAG1;SH2B3",
           "GCST010571",
           "PMID:32581359"
          ],
          [
           35,
           "endocrine system disease",
           0.1927894958068983,
           "LPP;PTPN22",
           "GCST90018847",
           "PMID:34594039"
          ],
          [
           35,
           "endocrine system disease",
           0.2941132173943117,
           "PTPN22",
           "GCST90018860",
           "PMID:34594039"
          ],
          [
           35,
           "endocrine system disease",
           0.4323089391056177,
           "BMP2",
           "GCST90018853",
           "PMID:34594039"
          ],
          [
           35,
           "endocrine system disease",
           0.563000789879418,
           "BMP2",
           "FINNGEN_R6_E4_GOITREMULTINOD",
           null
          ]
         ],
         "hovertemplate": "trait_category=%{customdata[1]}<br>trait_reported=%{x}<br>-log10(p-value)=%{y}<br>program_name=%{customdata[0]}<br>P-value=%{customdata[2]}<br>Genes=%{customdata[3]}<br>study_id=%{customdata[4]}<br>pmid=%{customdata[5]}<extra></extra>",
         "legendgroup": "endocrine system disease",
         "marker": {
          "color": "#FFA15A",
          "symbol": "circle"
         },
         "mode": "markers",
         "name": "endocrine system disease",
         "orientation": "v",
         "showlegend": true,
         "type": "scatter",
         "x": [
          "Hypothyroidism",
          "Disorders of the thyroid gland",
          "Addison's disease",
          "Hypothyroidism, strict autoimmune, 3 medication purchases required",
          "Autoimmune thyroid disease",
          "Graves' disease",
          "Hyperthyroidism",
          "Goiter",
          "Nontoxic multinodular goitre"
         ],
         "xaxis": "x",
         "y": [
          3.139922003110259,
          1.7139878778944995,
          1.482288345499823,
          1.1319817135654582,
          1.115275326430484,
          0.7149166324527796,
          0.5314854579396152,
          0.36420578421165173,
          0.24949099584131454
         ],
         "yaxis": "y"
        },
        {
         "customdata": [
          [
           35,
           "gastrointestinal disease",
           0.0228950397573702,
           "TSPAN14;DUSP5;ZFP36L1;SMAD3;TRIB1;FOSL2;ERRFI1;MACF1",
           "GCST004131",
           "PMID:28067908"
          ],
          [
           35,
           "gastrointestinal disease",
           0.0261179852629695,
           "PFKFB3;LPP;ZFP36L1;SH2B3",
           "GCST005523",
           "PMID:22057235"
          ],
          [
           35,
           "gastrointestinal disease",
           0.0329390943721437,
           "RORA;SMAD3",
           "GCST90027899",
           "PMID:34506852"
          ],
          [
           35,
           "gastrointestinal disease",
           0.0369390831946624,
           "REEP3;PPP1R3B;TRIB1;SYNJ2",
           "GCST90018819",
           "PMID:34594039"
          ],
          [
           35,
           "gastrointestinal disease",
           0.0533858256347642,
           "ITPKB;SH2B3",
           "FINNGEN_R6_RX_CROHN_2NDLINE",
           null
          ],
          [
           35,
           "gastrointestinal disease",
           0.1035228209042789,
           "JMJD1C;REEP3",
           "NEALE2_20002_1162",
           null
          ],
          [
           35,
           "gastrointestinal disease",
           0.105295215990532,
           "TANK;BACE2;PCDH9;PDE4B;TCF4",
           "GCST90000514",
           "PMID:34187846"
          ],
          [
           35,
           "gastrointestinal disease",
           0.1224039854743536,
           "LPP",
           "SAIGE_557",
           null
          ],
          [
           35,
           "gastrointestinal disease",
           0.1436674955209433,
           "ZNF827;CDKN2B;TRIB1",
           "GCST90094908",
           "PMID:35047847"
          ],
          [
           35,
           "gastrointestinal disease",
           0.1618276035777869,
           "JMJD1C;ANPEP",
           "GCST007209",
           "PMID:30504769"
          ],
          [
           35,
           "gastrointestinal disease",
           0.2298656572349589,
           "LPP",
           "NEALE2_20002_1456",
           null
          ],
          [
           35,
           "gastrointestinal disease",
           0.324204141364255,
           "CALD1",
           "FINNGEN_R6_ABDOM_HERNIA",
           null
          ],
          [
           35,
           "gastrointestinal disease",
           0.3530161122492894,
           "FOXF1",
           "GCST90000515",
           "PMID:34187846"
          ],
          [
           35,
           "gastrointestinal disease",
           0.4565246622701632,
           "PTPN22",
           "GCST90016610",
           "PMID:33686288"
          ]
         ],
         "hovertemplate": "trait_category=%{customdata[1]}<br>trait_reported=%{x}<br>-log10(p-value)=%{y}<br>program_name=%{customdata[0]}<br>P-value=%{customdata[2]}<br>Genes=%{customdata[3]}<br>study_id=%{customdata[4]}<br>pmid=%{customdata[5]}<extra></extra>",
         "legendgroup": "gastrointestinal disease",
         "marker": {
          "color": "#19d3f3",
          "symbol": "circle"
         },
         "mode": "markers",
         "name": "gastrointestinal disease",
         "orientation": "v",
         "showlegend": true,
         "type": "scatter",
         "x": [
          "Inflammatory bowel disease",
          "Celiac disease",
          "Eosinophilic esophagitis",
          "Cholelithiasis",
          "Second line medication for Crohns disease",
          "Cholelithiasis/gall stones | non-cancer illness code, self-reported",
          "Gastroesophageal reflux disease",
          "Intestinal malabsorption (non-celiac)",
          "Nonalcoholic fatty liver disease (imputed)",
          "Gallstone disease",
          "Malabsorption/coeliac disease | non-cancer illness code, self-reported",
          "Hernia of abodminal wall",
          "Barrett's esophagus",
          "Crohn's disease vs rheumatoid arthritis (ordinary least squares (OLS))"
         ],
         "xaxis": "x",
         "y": [
          1.6402585979807258,
          1.5830603275088406,
          1.482288345499823,
          1.4325138876840866,
          1.272574036337505,
          0.984963902377938,
          0.9775913602115817,
          0.9122044413298313,
          0.842641478996516,
          0.7909473970684429,
          0.6385259090589651,
          0.48918144180040934,
          0.4522054722289846,
          0.3405357561394682
         ],
         "yaxis": "y"
        },
        {
         "customdata": [
          [
           35,
           "genetic, familial or congenital disease",
           0.1035228209042789,
           "CDKN2B;TRIB1",
           "FINNGEN_R6_E4_HYPERCHOL",
           null
          ]
         ],
         "hovertemplate": "trait_category=%{customdata[1]}<br>trait_reported=%{x}<br>-log10(p-value)=%{y}<br>program_name=%{customdata[0]}<br>P-value=%{customdata[2]}<br>Genes=%{customdata[3]}<br>study_id=%{customdata[4]}<br>pmid=%{customdata[5]}<extra></extra>",
         "legendgroup": "genetic, familial or congenital disease",
         "marker": {
          "color": "#FF6692",
          "symbol": "circle"
         },
         "mode": "markers",
         "name": "genetic, familial or congenital disease",
         "orientation": "v",
         "showlegend": true,
         "type": "scatter",
         "x": [
          "Pure hypercholesterolaemia"
         ],
         "xaxis": "x",
         "y": [
          0.984963902377938
         ],
         "yaxis": "y"
        },
        {
         "customdata": [
          [
           35,
           "hematologic disease",
           0.00004525237743588885,
           "PREX1;RORA;FRMD4A;CRYL1",
           "GCST006917",
           "PMID:30134812"
          ]
         ],
         "hovertemplate": "trait_category=%{customdata[1]}<br>trait_reported=%{x}<br>-log10(p-value)=%{y}<br>program_name=%{customdata[0]}<br>P-value=%{customdata[2]}<br>Genes=%{customdata[3]}<br>study_id=%{customdata[4]}<br>pmid=%{customdata[5]}<extra></extra>",
         "legendgroup": "hematologic disease",
         "marker": {
          "color": "#B6E880",
          "symbol": "circle"
         },
         "mode": "markers",
         "name": "hematologic disease",
         "orientation": "v",
         "showlegend": true,
         "type": "scatter",
         "x": [
          "Monoclonal gammopathy of undetermined significance"
         ],
         "xaxis": "x",
         "y": [
          4.344358599217571
         ],
         "yaxis": "y"
        },
        {
         "customdata": [
          [
           35,
           "immune system disease",
           0.0410391248039517,
           "LPP;FOSL2;RORA;SMAD3",
           "GCST010984",
           "PMID:32603359"
          ],
          [
           35,
           "immune system disease",
           0.0453867547698603,
           "LPP;FOSL2;RORA;SMAD3",
           "GCST010985",
           "PMID:32603359"
          ],
          [
           35,
           "immune system disease",
           0.0459635748168637,
           "ZFP36L1;BATF3;VMP1;PKIA;ZBTB38;JAK1;LPP;PHACTR2;RND3;BCL10",
           "GCST009597",
           "PMID:31604244"
          ],
          [
           35,
           "immune system disease",
           0.1626317421057445,
           "LPP;TNFRSF11B;PTPN22;SASH1",
           "GCST007071",
           "PMID:30595370"
          ]
         ],
         "hovertemplate": "trait_category=%{customdata[1]}<br>trait_reported=%{x}<br>-log10(p-value)=%{y}<br>program_name=%{customdata[0]}<br>P-value=%{customdata[2]}<br>Genes=%{customdata[3]}<br>study_id=%{customdata[4]}<br>pmid=%{customdata[5]}<extra></extra>",
         "legendgroup": "immune system disease",
         "marker": {
          "color": "#FF97FF",
          "symbol": "circle"
         },
         "mode": "markers",
         "name": "immune system disease",
         "orientation": "v",
         "showlegend": true,
         "type": "scatter",
         "x": [
          "Allergic disease (asthma, hay fever and/or eczema) (multivariate analysis)",
          "Allergic disease (asthma, hay fever and/or eczema) (age of onset)",
          "Multiple sclerosis",
          "Autoimmune traits"
         ],
         "xaxis": "x",
         "y": [
          1.3868019095158122,
          1.3430708689409514,
          1.3375862014184259,
          0.7887946858269619
         ],
         "yaxis": "y"
        },
        {
         "customdata": [
          [
           35,
           "infectious disease",
           0.2298656572349589,
           "TMEM65",
           "GCST90095124",
           "PMID:34237774"
          ],
          [
           35,
           "infectious disease",
           0.4797104701937913,
           "BATF3",
           "GCST002772",
           "PMID:25642632"
          ]
         ],
         "hovertemplate": "trait_category=%{customdata[1]}<br>trait_reported=%{x}<br>-log10(p-value)=%{y}<br>program_name=%{customdata[0]}<br>P-value=%{customdata[2]}<br>Genes=%{customdata[3]}<br>study_id=%{customdata[4]}<br>pmid=%{customdata[5]}<extra></extra>",
         "legendgroup": "infectious disease",
         "marker": {
          "color": "#FECB52",
          "symbol": "circle"
         },
         "mode": "markers",
         "name": "infectious disease",
         "orientation": "v",
         "showlegend": true,
         "type": "scatter",
         "x": [
          "COVID-19 (hospitalized vs population)",
          "Leprosy"
         ],
         "xaxis": "x",
         "y": [
          0.6385259090589651,
          0.3190208024893572
         ],
         "yaxis": "y"
        },
        {
         "customdata": [
          [
           35,
           "injury, poisoning or other complication",
           0.0053062999929258,
           "PTPN22;FOSL2;SH2B3",
           "FINNGEN_R6_E4_DM1NASCOMP",
           null
          ],
          [
           35,
           "injury, poisoning or other complication",
           0.2531979910262229,
           "CDKN2B;KLHL42;SPRY2",
           "FINNGEN_R6_E4_DM2NASCOMP",
           null
          ]
         ],
         "hovertemplate": "trait_category=%{customdata[1]}<br>trait_reported=%{x}<br>-log10(p-value)=%{y}<br>program_name=%{customdata[0]}<br>P-value=%{customdata[2]}<br>Genes=%{customdata[3]}<br>study_id=%{customdata[4]}<br>pmid=%{customdata[5]}<extra></extra>",
         "legendgroup": "injury, poisoning or other complication",
         "marker": {
          "color": "#636efa",
          "symbol": "circle"
         },
         "mode": "markers",
         "name": "injury, poisoning or other complication",
         "orientation": "v",
         "showlegend": true,
         "type": "scatter",
         "x": [
          "Type 1 diabetes with other specified/multiple/unspecified complications",
          "Type 2 diabetes with other specified/multiple/unspecified complications"
         ],
         "xaxis": "x",
         "y": [
          2.275208200718303,
          0.5965397445065268
         ],
         "yaxis": "y"
        },
        {
         "customdata": [
          [
           35,
           "integumentary system disease",
           0.0410391248039517,
           "NAV2;DLC1;MYEOV;ERRFI1",
           "GCST90092000",
           "PMID:35132056"
          ],
          [
           35,
           "integumentary system disease",
           0.1020624334272215,
           "ANKRD11;MEF2C;RALY;TANK",
           "GCST007086",
           "PMID:30595370"
          ],
          [
           35,
           "integumentary system disease",
           0.218841445562628,
           "LPP;PTPN22;SH2B3",
           "GCST004785",
           "PMID:27723757"
          ],
          [
           35,
           "integumentary system disease",
           0.324204141364255,
           "TIPARP",
           "FINNGEN_R6_L12_NONIONRADISKIN",
           null
          ],
          [
           35,
           "integumentary system disease",
           0.3361891804443679,
           "ZBTB38;SMAD3",
           "GCST90086149",
           "PMID:34116867"
          ],
          [
           35,
           "integumentary system disease",
           0.8009159640476471,
           "TRIM47",
           "GCST004346",
           "PMID:28537254"
          ]
         ],
         "hovertemplate": "trait_category=%{customdata[1]}<br>trait_reported=%{x}<br>-log10(p-value)=%{y}<br>program_name=%{customdata[0]}<br>P-value=%{customdata[2]}<br>Genes=%{customdata[3]}<br>study_id=%{customdata[4]}<br>pmid=%{customdata[5]}<extra></extra>",
         "legendgroup": "integumentary system disease",
         "marker": {
          "color": "#EF553B",
          "symbol": "circle"
         },
         "mode": "markers",
         "name": "integumentary system disease",
         "orientation": "v",
         "showlegend": true,
         "type": "scatter",
         "x": [
          "acne vulgaris",
          "Sunburns",
          "Vitiligo",
          "Skin changes due to chronic exposure to nonionizing radiation",
          "Atopic dermatitis",
          "Psoriasis"
         ],
         "xaxis": "x",
         "y": [
          1.3868019095158122,
          0.9911340811986176,
          0.6598704251420592,
          0.48918144180040934,
          0.47341626754413446,
          0.09641304978967949
         ],
         "yaxis": "y"
        },
        {
         "customdata": [
          [
           35,
           "musculoskeletal or connective tissue disease",
           0.0648964033989456,
           "CREB5;PLXNA2",
           "GCST008789",
           "PMID:31417091"
          ],
          [
           35,
           "musculoskeletal or connective tissue disease",
           0.1035228209042789,
           "KLHL42;SMAD3",
           "GCST006926_2",
           "PMID:30374069"
          ],
          [
           35,
           "musculoskeletal or connective tissue disease",
           0.1955882453753811,
           "SMAD3",
           "GCST90018922",
           "PMID:34594039"
          ],
          [
           35,
           "musculoskeletal or connective tissue disease",
           0.2298656572349589,
           "SMG6",
           "GCST90034520",
           "PMID:34450027"
          ],
          [
           35,
           "musculoskeletal or connective tissue disease",
           0.2626867510454282,
           "PTPN22",
           "FINNGEN_R6_RHEUMA_SEROPOS_WIDE",
           null
          ],
          [
           35,
           "musculoskeletal or connective tissue disease",
           0.2941132173943117,
           "ZFP36L1",
           "GCST90010715",
           "PMID:33106285"
          ],
          [
           35,
           "musculoskeletal or connective tissue disease",
           0.2941132173943117,
           "PTPN22",
           "FINNGEN_R6_M13_POLYARTHROPATHIES",
           null
          ],
          [
           35,
           "musculoskeletal or connective tissue disease",
           0.324204141364255,
           "ATP2B4",
           "FINNGEN_R6_M13_INTERVERTEB",
           null
          ],
          [
           35,
           "musculoskeletal or connective tissue disease",
           0.3806033286647947,
           "KLHL42",
           "FINNGEN_R6_M13_ARTHTROSIS_COX_PRIM_HIPSURG",
           null
          ],
          [
           35,
           "musculoskeletal or connective tissue disease",
           0.563000789879418,
           "MMP14",
           "GCST004858",
           "PMID:28886342"
          ],
          [
           35,
           "musculoskeletal or connective tissue disease",
           0.5816563452832254,
           "KLHL42",
           "GCST90034524",
           "PMID:34450027"
          ],
          [
           35,
           "musculoskeletal or connective tissue disease",
           0.6765961425286219,
           "DAP;ZFP36L1",
           "GCST90013534",
           "PMID:33310728"
          ]
         ],
         "hovertemplate": "trait_category=%{customdata[1]}<br>trait_reported=%{x}<br>-log10(p-value)=%{y}<br>program_name=%{customdata[0]}<br>P-value=%{customdata[2]}<br>Genes=%{customdata[3]}<br>study_id=%{customdata[4]}<br>pmid=%{customdata[5]}<extra></extra>",
         "legendgroup": "musculoskeletal or connective tissue disease",
         "marker": {
          "color": "#00cc96",
          "symbol": "circle"
         },
         "mode": "markers",
         "name": "musculoskeletal or connective tissue disease",
         "orientation": "v",
         "showlegend": true,
         "type": "scatter",
         "x": [
          "Adolescent idiopathic scoliosis",
          "Osteoarthritis (hip) [additive]",
          "Spinal canal stenosis",
          "Osteoarthritis",
          "Seropositive rheumatoid arthritis, wide",
          "Arthritis (juvenile idiopathic)",
          "Polyarthropathies",
          "Other intervertebral disc disorders",
          "Coxarthrosis, primary, with hip surgery",
          "Dupuytren's disease",
          "Osteoarthritis (with total hip replacement)",
          "Rheumatoid arthritis"
         ],
         "xaxis": "x",
         "y": [
          1.1877793714164846,
          0.984963902377938,
          0.7086572493541795,
          0.6385259090589651,
          0.5805618308795676,
          0.5314854579396152,
          0.5314854579396152,
          0.48918144180040934,
          0.41952741779773484,
          0.24949099584131454,
          0.23533352983072964,
          0.16967048258012402
         ],
         "yaxis": "y"
        },
        {
         "customdata": [
          [
           35,
           "nervous system disease",
           0.0050573444660314,
           "CREB5;SMIM15;TCF4;CEP170;NAB2",
           "GCST90016618",
           "PMID:33686288"
          ],
          [
           35,
           "nervous system disease",
           0.0097824522701341,
           "PPFIBP1;COL18A1;ADAMTS9",
           "GCST004138",
           "PMID:28256260"
          ],
          [
           35,
           "nervous system disease",
           0.0165975427511163,
           "PRKD3;APP",
           "GCST012182",
           "PMID:34099642"
          ],
          [
           35,
           "nervous system disease",
           0.0447049781778906,
           "CREB5;ANKRD44;ZSWIM6",
           "GCST90016619",
           "PMID:33686288"
          ],
          [
           35,
           "nervous system disease",
           0.0765993610993747,
           "ITPKB;SIPA1L2;SNCA;MAP4K4",
           "GCST004902",
           "PMID:28892059"
          ],
          [
           35,
           "nervous system disease",
           0.0765993610993747,
           "ITPKB;SIPA1L2;SNCA;MAP4K4",
           "GCST010991",
           "PMID:32201043"
          ],
          [
           35,
           "nervous system disease",
           0.0966980209496028,
           "MEF2C;PCDH9;TCF4",
           "GCST006477",
           "PMID:29942085"
          ],
          [
           35,
           "nervous system disease",
           0.1955882453753811,
           "CREB5",
           "GCST90016621",
           "PMID:33686288"
          ],
          [
           35,
           "nervous system disease",
           0.2244264772250237,
           "SYNJ2;MAPK6",
           "NEALE2_2247_1",
           null
          ],
          [
           35,
           "nervous system disease",
           0.2403941031760683,
           "TCF4;ZSWIM6",
           "GCST90016620",
           "PMID:33686288"
          ],
          [
           35,
           "nervous system disease",
           0.256412086948772,
           "SYNJ2;AGO2",
           "GCST90012115",
           "PMID:32986727"
          ],
          [
           35,
           "nervous system disease",
           0.2626867510454282,
           "MEF2C",
           "GCST010644",
           "PMID:32606422"
          ],
          [
           35,
           "nervous system disease",
           0.276513028792894,
           "SDCCAG8;TCF4;ZSWIM6",
           "GCST90020095",
           "PMID:34159505"
          ],
          [
           35,
           "nervous system disease",
           0.2941132173943117,
           "GPX3",
           "GCST90027164",
           "PMID:34873335"
          ],
          [
           35,
           "nervous system disease",
           0.3203646244422469,
           "FERMT2;APP",
           "GCST90044699",
           "PMID:34493870"
          ],
          [
           35,
           "nervous system disease",
           0.3326882549630167,
           "NOL4L;ABHD17C;NTM;NR2F2;TANK;FGFR1;PLXNA2;UTRN;DACH1;NFIB;SNRK;PDE4B;SIPA1L2;NLGN1;PTPRN2",
           "GCST90061435",
           "PMID:34446935"
          ],
          [
           35,
           "nervous system disease",
           0.3981943640577447,
           "MEF2C;TCF4",
           "GCST006475",
           "PMID:29942085"
          ],
          [
           35,
           "nervous system disease",
           0.5816563452832254,
           "ZSWIM6",
           "GCST90020094",
           "PMID:34159505"
          ],
          [
           35,
           "nervous system disease",
           0.7049729690863856,
           "ANK3",
           "GCST012464",
           "PMID:34002096"
          ],
          [
           35,
           "nervous system disease",
           0.8253982211852733,
           "SLC7A11",
           "GCST010017",
           "PMID:32231276"
          ],
          [
           35,
           "nervous system disease",
           0.8328726124016571,
           "TCF4",
           "GCST012090",
           "PMID:33479212"
          ]
         ],
         "hovertemplate": "trait_category=%{customdata[1]}<br>trait_reported=%{x}<br>-log10(p-value)=%{y}<br>program_name=%{customdata[0]}<br>P-value=%{customdata[2]}<br>Genes=%{customdata[3]}<br>study_id=%{customdata[4]}<br>pmid=%{customdata[5]}<extra></extra>",
         "legendgroup": "nervous system disease",
         "marker": {
          "color": "#ab63fa",
          "symbol": "circle"
         },
         "mode": "markers",
         "name": "nervous system disease",
         "orientation": "v",
         "showlegend": true,
         "type": "scatter",
         "x": [
          "Schizophrenia vs ADHD (ordinary least squares (OLS))",
          "Early-onset Parkinson's disease",
          "Alzheimer's disease",
          "Schizophrenia vs anorexia nervosa (ordinary least squares (OLS))",
          "Parkinson's disease",
          "Parkinson's disease",
          "Depression",
          "Schizophrenia vs bipolar disorder (ordinary least squares (OLS))",
          "Yes | hearing difficulty/problems",
          "Schizophrenia vs autism spectrum disorder (ordinary least squares (OLS))",
          "Age-related hearing impairment (MTAG)",
          "Attention deficit hyperactivity disorder (MTAG)",
          "Schizophrenia (MTAG)",
          "Amyotrophic lateral sclerosis",
          "Late-onset Alzheimer's disease",
          "Externalizing behaviour (multivariate analysis)",
          "Depressed affect",
          "Bipolar disorder (MTAG)",
          "Bipolar I disorder",
          "Neuroticism",
          "Major depressive disorder (MTAG)"
         ],
         "xaxis": "x",
         "y": [
          2.29607746467836,
          2.0095522624017725,
          1.7799562040457058,
          1.3496441127784096,
          1.1157748527195268,
          1.1157748527195268,
          1.0145824142258106,
          0.7086572493541795,
          0.6489259075121685,
          0.6190761897038404,
          0.5910615065657392,
          0.5805618308795676,
          0.5582844007080987,
          0.5314854579396152,
          0.4943554459515032,
          0.47796253094599117,
          0.39990489115929606,
          0.23533352983072964,
          0.15182753492588247,
          0.08333647140511674,
          0.07942141871527841
         ],
         "yaxis": "y"
        },
        {
         "customdata": [
          [
           35,
           "pancreas disease",
           0.0263539626474123,
           "ORAI2;SPRY2;TCF4;KLHL42;PTPN22;CDKN2B",
           "FINNGEN_R6_DIABETES_FG",
           null
          ],
          [
           35,
           "pancreas disease",
           0.0521314496291095,
           "SPRY2;LPP;ST6GAL1;CDKN2B;TLE1",
           "GCST007077",
           "PMID:30595370"
          ],
          [
           35,
           "pancreas disease",
           0.5995178386861355,
           "SH2B3",
           "GCST005536",
           "PMID:25751624"
          ]
         ],
         "hovertemplate": "trait_category=%{customdata[1]}<br>trait_reported=%{x}<br>-log10(p-value)=%{y}<br>program_name=%{customdata[0]}<br>P-value=%{customdata[2]}<br>Genes=%{customdata[3]}<br>study_id=%{customdata[4]}<br>pmid=%{customdata[5]}<extra></extra>",
         "legendgroup": "pancreas disease",
         "marker": {
          "color": "#FFA15A",
          "symbol": "circle"
         },
         "mode": "markers",
         "name": "pancreas disease",
         "orientation": "v",
         "showlegend": true,
         "type": "scatter",
         "x": [
          "Diabetes, varying definitions",
          "Type 2 diabetes",
          "Type 1 diabetes"
         ],
         "xaxis": "x",
         "y": [
          1.5791540739423342,
          1.2829001983960242,
          0.22219788991677206
         ],
         "yaxis": "y"
        },
        {
         "customdata": [
          [
           35,
           "phenotype",
           0.0028421511631379,
           "NTM;BMP2;CREB3L2;PCDH9;UTRN;CD47;ITPKB;PEAK1;RBMS1;ANK3;LRRC38;ZSWIM6;FRY;FLT1;NRIP1;RASSF2;RGS3;RORA;ADAMTS9;ZBTB38;SGK1;TCF4;AKAP13;ANKRD28",
           "GCST010002",
           "PMID:32231278"
          ],
          [
           35,
           "phenotype",
           0.0098352897859325,
           "CREB5;ZFP36L1;RALY;TACC1;CD82;SGK1;ZBTB38;ARHGAP24;FOSL2",
           "GCST006988",
           "PMID:30531825"
          ],
          [
           35,
           "phenotype",
           0.0163462555258918,
           "RORA;ACVRL1;BATF3;SMG6;SMAD3;NFATC2;ZBTB38;SERTAD2;CD47;FOSL2;CALCRL",
           "GCST007075",
           "PMID:30595370"
          ],
          [
           35,
           "phenotype",
           0.0826306952048748,
           "ITGA6;NFATC2;ERRFI1;SGK1",
           "GCST90018939",
           "PMID:34594039"
          ],
          [
           35,
           "phenotype",
           0.1294224960324538,
           "FLT1;NTM;NRIP1;ZBTB38;ANTXR2",
           "GCST006290",
           "PMID:29808027"
          ],
          [
           35,
           "phenotype",
           0.1772016518459501,
           "KRT8;FRMD6",
           "GCST004166",
           "PMID:28232668"
          ],
          [
           35,
           "phenotype",
           0.1927894958068983,
           "ZNF385D;NLGN1",
           "GCST002759",
           "PMID:25628336"
          ],
          [
           35,
           "phenotype",
           0.1927894958068983,
           "GJA1;MACF1",
           "GCST005337",
           "PMID:29397368"
          ],
          [
           35,
           "phenotype",
           0.1955882453753811,
           "DYSF",
           "FINNGEN_R6_M13_HALLUXVALGUS",
           null
          ],
          [
           35,
           "phenotype",
           0.2085452372070686,
           "MMP14;LPIN1",
           "SAIGE_728_7",
           null
          ],
          [
           35,
           "phenotype",
           0.2298656572349589,
           "CALD1",
           "SAIGE_550_2",
           null
          ],
          [
           35,
           "phenotype",
           0.2403941031760683,
           "TCF4;AGO2",
           "NEALE2_1920",
           null
          ],
          [
           35,
           "phenotype",
           0.2626867510454282,
           "FOXF1",
           "GCST009356",
           "PMID:31609978"
          ],
          [
           35,
           "phenotype",
           0.2724472945657215,
           "ZFP36L1;TCF4",
           "GCST006586",
           "PMID:30220432"
          ],
          [
           35,
           "phenotype",
           0.2941132173943117,
           "AGO2",
           "NEALE2_2257",
           null
          ],
          [
           35,
           "phenotype",
           0.3044502467361865,
           "MEF2C;PCDH9",
           "GCST003992",
           "PMID:27182965"
          ],
          [
           35,
           "phenotype",
           0.328713890332058,
           "FOSL2;ERRFI1;ZBTB38;VMP1",
           "NEALE2_1717",
           null
          ],
          [
           35,
           "phenotype",
           0.3530161122492894,
           "SPRY2",
           "GCST004051",
           "PMID:28054174"
          ],
          [
           35,
           "phenotype",
           0.3530161122492894,
           "TRIB1",
           "GCST008791",
           "PMID:31511532"
          ],
          [
           35,
           "phenotype",
           0.413289499528909,
           "CFDP1;CDKN2B",
           "GCST90018793",
           "PMID:34594039"
          ],
          [
           35,
           "phenotype",
           0.413289499528909,
           "NTM;ZBTB38",
           "GCST003997",
           "PMID:27182965"
          ],
          [
           35,
           "phenotype",
           0.4323089391056177,
           "CDKN2B",
           "GCST005843",
           "PMID:29531354"
          ],
          [
           35,
           "phenotype",
           0.4797104701937913,
           "MEF2C",
           "GCST90012794",
           "PMID:33563987"
          ],
          [
           35,
           "phenotype",
           0.4797104701937913,
           "MEF2C",
           "NEALE2_1940",
           null
          ],
          [
           35,
           "phenotype",
           0.4797104701937913,
           "CREB5",
           "FINNGEN_R6_H7_CATARACTSENILE",
           null
          ],
          [
           35,
           "phenotype",
           0.5064732131149716,
           "TRIB1;PPP1R3B;SLC4A8",
           "GCST90038690",
           "PMID:33959723"
          ],
          [
           35,
           "phenotype",
           0.5435159849282323,
           "ZBTB38",
           "GCST012400",
           "PMID:33830181"
          ],
          [
           35,
           "phenotype",
           0.563000789879418,
           "RALY",
           "GCST005897",
           "PMID:29739929"
          ],
          [
           35,
           "phenotype",
           0.5816563452832254,
           "SMAD3",
           "FINNGEN_R6_K11_HERNIA",
           null
          ],
          [
           35,
           "phenotype",
           0.5995178386861355,
           "PPP1R3B",
           "GCST001639",
           "PMID:22916037"
          ],
          [
           35,
           "phenotype",
           0.6329920090394177,
           "NDRG1",
           "GCST90013421",
           "PMID:32989287"
          ],
          [
           35,
           "phenotype",
           0.6918021194920279,
           "PTPRN2",
           "GCST001712",
           "PMID:23049088"
          ],
          [
           35,
           "phenotype",
           0.7412126816702265,
           "UTRN",
           "GCST008512",
           "PMID:31194737"
          ],
          [
           35,
           "phenotype",
           0.7412126816702265,
           "UTRN",
           "GCST012332",
           "PMID:33830993"
          ]
         ],
         "hovertemplate": "trait_category=%{customdata[1]}<br>trait_reported=%{x}<br>-log10(p-value)=%{y}<br>program_name=%{customdata[0]}<br>P-value=%{customdata[2]}<br>Genes=%{customdata[3]}<br>study_id=%{customdata[4]}<br>pmid=%{customdata[5]}<extra></extra>",
         "legendgroup": "phenotype",
         "marker": {
          "color": "#19d3f3",
          "symbol": "circle"
         },
         "mode": "markers",
         "name": "phenotype",
         "orientation": "v",
         "showlegend": true,
         "type": "scatter",
         "x": [
          "Refractive error",
          "Blond vs. brown/black hair color",
          "Eczema",
          "Varicose veins",
          "Myopia (age of diagnosis)",
          "Nonsyndromic cleft lip with cleft palate",
          "Motion sickness",
          "Headache",
          "Hallux valgus (acquired)",
          "Fasciitis",
          "Diaphragmatic hernia",
          "Mood swings",
          "Nonsyndromic cleft palate",
          "Urinary albumin excretion",
          "Hearing difficulty/problems with background noise",
          "Photic sneeze reflex",
          "Skin colour",
          "Orofacial clefts",
          "Microalbuminuria",
          "Angina pectoris",
          "Myopia",
          "Ischemic stroke",
          "Participation in an health questionnaire (not invited vs invited)",
          "Irritability",
          "Senile cataract",
          "High cholesterol",
          "Low myopia vs hyperopia",
          "Low tan response",
          "Hernia",
          "Metabolite levels",
          "Left-handedness",
          "Myopia (pathological)",
          "Multisite chronic pain",
          "Multisite chronic pain"
         ],
         "xaxis": "x",
         "y": [
          2.5463528273336693,
          2.007212839549693,
          1.7865817164402569,
          1.0828585933361272,
          0.887990228662566,
          0.7515322340051904,
          0.7149166324527796,
          0.7149166324527796,
          0.7086572493541795,
          0.6807997241989133,
          0.6385259090589651,
          0.6190761897038404,
          0.5805618308795676,
          0.5647175003347009,
          0.5314854579396152,
          0.5164836696432216,
          0.48318194372152,
          0.4522054722289846,
          0.4522054722289846,
          0.38374562872405904,
          0.38374562872405904,
          0.36420578421165173,
          0.3190208024893572,
          0.3190208024893572,
          0.3190208024893572,
          0.2954435191171053,
          0.26478767869077113,
          0.24949099584131454,
          0.23533352983072964,
          0.22219788991677206,
          0.1986017725292349,
          0.16001811176039385,
          0.1300571587915037,
          0.1300571587915037
         ],
         "yaxis": "y"
        },
        {
         "customdata": [
          [
           35,
           "reproductive system or breast disease",
           0.2941132173943117,
           "CDKN2B",
           "FINNGEN_R6_N14_ENDOMETRIOSIS_OVARY",
           null
          ],
          [
           35,
           "reproductive system or breast disease",
           0.3806033286647947,
           "CDKN2B",
           "GCST004549",
           "PMID:28537267"
          ]
         ],
         "hovertemplate": "trait_category=%{customdata[1]}<br>trait_reported=%{x}<br>-log10(p-value)=%{y}<br>program_name=%{customdata[0]}<br>P-value=%{customdata[2]}<br>Genes=%{customdata[3]}<br>study_id=%{customdata[4]}<br>pmid=%{customdata[5]}<extra></extra>",
         "legendgroup": "reproductive system or breast disease",
         "marker": {
          "color": "#FF6692",
          "symbol": "circle"
         },
         "mode": "markers",
         "name": "reproductive system or breast disease",
         "orientation": "v",
         "showlegend": true,
         "type": "scatter",
         "x": [
          "Endometriosis of ovary",
          "Endometriosis"
         ],
         "xaxis": "x",
         "y": [
          0.5314854579396152,
          0.41952741779773484
         ],
         "yaxis": "y"
        },
        {
         "customdata": [
          [
           35,
           "respiratory or thoracic disease",
           0.0069397583143442,
           "RORA;SMAD3;NFATC2;LPP;FOSL2",
           "GCST006409",
           "PMID:30013184"
          ],
          [
           35,
           "respiratory or thoracic disease",
           0.0110696979199798,
           "CFDP1;TNPO1;MFAP2;THSD4;MFHAS1;ZBTB38;PRSS23",
           "GCST007692",
           "PMID:30804561"
          ],
          [
           35,
           "respiratory or thoracic disease",
           0.0196325185308175,
           "DOCK4;RORA;SMAD3",
           "FINNGEN_R6_J10_LOWCHRON",
           null
          ],
          [
           35,
           "respiratory or thoracic disease",
           0.0447049781778906,
           "RORA;SMAD3;MAP4K4",
           "GCST009842",
           "PMID:31669095"
          ],
          [
           35,
           "respiratory or thoracic disease",
           0.0766875165099084,
           "ZFP36L1;RORA;SMAD3;ITPKB;GJA1;LPP",
           "GCST007076",
           "PMID:30595370"
          ],
          [
           35,
           "respiratory or thoracic disease",
           0.1175045379665225,
           "LPP;SMAD3",
           "GCST007797",
           "PMID:30929738"
          ],
          [
           35,
           "respiratory or thoracic disease",
           0.1618276035777869,
           "RORA;SMAD3",
           "NEALE2_20002_1387",
           null
          ],
          [
           35,
           "respiratory or thoracic disease",
           0.1618276035777869,
           "RORA;SMAD3",
           "FINNGEN_R6_J10_ASTHMACOPDKELA",
           null
          ],
          [
           35,
           "respiratory or thoracic disease",
           0.1879598571126494,
           "RORA;BATF3;SMAD3;ITPKB;CD70;ZBTB38;LPP",
           "GCST010043",
           "PMID:32296059"
          ],
          [
           35,
           "respiratory or thoracic disease",
           0.2244264772250237,
           "LPP;SMAD3",
           "GCST90018895",
           "PMID:34594039"
          ],
          [
           35,
           "respiratory or thoracic disease",
           0.3118297776860123,
           "LPP;RORA;SMAD3",
           "GCST009850",
           "PMID:31669095"
          ],
          [
           35,
           "respiratory or thoracic disease",
           0.4565246622701632,
           "SMAD3",
           "FINNGEN_R6_J10_UPPERDIS",
           null
          ],
          [
           35,
           "respiratory or thoracic disease",
           0.546628632002245,
           "SMAD3;ZBTB38;RORA;BATF3",
           "GCST009717",
           "PMID:31361310"
          ]
         ],
         "hovertemplate": "trait_category=%{customdata[1]}<br>trait_reported=%{x}<br>-log10(p-value)=%{y}<br>program_name=%{customdata[0]}<br>P-value=%{customdata[2]}<br>Genes=%{customdata[3]}<br>study_id=%{customdata[4]}<br>pmid=%{customdata[5]}<extra></extra>",
         "legendgroup": "respiratory or thoracic disease",
         "marker": {
          "color": "#B6E880",
          "symbol": "circle"
         },
         "mode": "markers",
         "name": "respiratory or thoracic disease",
         "orientation": "v",
         "showlegend": true,
         "type": "scatter",
         "x": [
          "Allergic rhinitis",
          "Chronic obstructive pulmonary disease",
          "Chronic lower respiratory diseases",
          "Asthma (adult onset)",
          "Respiratory diseases",
          "Asthma onset (childhood vs adult)",
          "Hayfever/allergic rhinitis | non-cancer illness code, self-reported",
          "Asthma/COPD (KELA code 203)",
          "Asthma",
          "Pediatric asthma",
          "Atopic asthma",
          "Other diseases of upper respiratory tract",
          "Hay fever and/or eczema"
         ],
         "xaxis": "x",
         "y": [
          2.1586556541235855,
          1.9558642303837783,
          1.7070239839518915,
          1.3496441127784096,
          1.115275326430484,
          0.9299453608325566,
          0.7909473970684429,
          0.7909473970684429,
          0.7259348938002429,
          0.6489259075121685,
          0.506082414909764,
          0.3405357561394682,
          0.26230762402478064
         ],
         "yaxis": "y"
        },
        {
         "customdata": [
          [
           35,
           "urinary system disease",
           0.4797104701937913,
           "DACH1",
           "GCST000649_3",
           "PMID:20383146"
          ],
          [
           35,
           "urinary system disease",
           0.563000789879418,
           "SDCCAG8",
           "GCST008064",
           "PMID:31152163"
          ],
          [
           35,
           "urinary system disease",
           0.9488259106248048,
           "ELF1",
           "GCST011956",
           "PMID:33272962"
          ]
         ],
         "hovertemplate": "trait_category=%{customdata[1]}<br>trait_reported=%{x}<br>-log10(p-value)=%{y}<br>program_name=%{customdata[0]}<br>P-value=%{customdata[2]}<br>Genes=%{customdata[3]}<br>study_id=%{customdata[4]}<br>pmid=%{customdata[5]}<extra></extra>",
         "legendgroup": "urinary system disease",
         "marker": {
          "color": "#FF97FF",
          "symbol": "circle"
         },
         "mode": "markers",
         "name": "urinary system disease",
         "orientation": "v",
         "showlegend": true,
         "type": "scatter",
         "x": [
          "Chronic kidney disease [eGFRcrea]",
          "Chronic kidney disease",
          "Systemic lupus erythematosus"
         ],
         "xaxis": "x",
         "y": [
          0.3190208024893572,
          0.24949099584131454,
          0.02281346406441718
         ],
         "yaxis": "y"
        }
       ],
       "layout": {
        "annotations": [
         {
          "showarrow": false,
          "text": "Significance Threshold (0.05)",
          "x": 1,
          "xanchor": "right",
          "xref": "x domain",
          "y": 1.3010299956639813,
          "yanchor": "bottom",
          "yref": "y"
         }
        ],
        "height": 800,
        "legend": {
         "title": {
          "text": "trait_category"
         },
         "tracegroupgap": 0
        },
        "shapes": [
         {
          "line": {
           "dash": "dash"
          },
          "type": "line",
          "x0": 0,
          "x1": 1,
          "xref": "x domain",
          "y0": 1.3010299956639813,
          "y1": 1.3010299956639813,
          "yref": "y"
         }
        ],
        "template": {
         "data": {
          "bar": [
           {
            "error_x": {
             "color": "#2a3f5f"
            },
            "error_y": {
             "color": "#2a3f5f"
            },
            "marker": {
             "line": {
              "color": "#E5ECF6",
              "width": 0.5
             },
             "pattern": {
              "fillmode": "overlay",
              "size": 10,
              "solidity": 0.2
             }
            },
            "type": "bar"
           }
          ],
          "barpolar": [
           {
            "marker": {
             "line": {
              "color": "#E5ECF6",
              "width": 0.5
             },
             "pattern": {
              "fillmode": "overlay",
              "size": 10,
              "solidity": 0.2
             }
            },
            "type": "barpolar"
           }
          ],
          "carpet": [
           {
            "aaxis": {
             "endlinecolor": "#2a3f5f",
             "gridcolor": "white",
             "linecolor": "white",
             "minorgridcolor": "white",
             "startlinecolor": "#2a3f5f"
            },
            "baxis": {
             "endlinecolor": "#2a3f5f",
             "gridcolor": "white",
             "linecolor": "white",
             "minorgridcolor": "white",
             "startlinecolor": "#2a3f5f"
            },
            "type": "carpet"
           }
          ],
          "choropleth": [
           {
            "colorbar": {
             "outlinewidth": 0,
             "ticks": ""
            },
            "type": "choropleth"
           }
          ],
          "contour": [
           {
            "colorbar": {
             "outlinewidth": 0,
             "ticks": ""
            },
            "colorscale": [
             [
              0,
              "#0d0887"
             ],
             [
              0.1111111111111111,
              "#46039f"
             ],
             [
              0.2222222222222222,
              "#7201a8"
             ],
             [
              0.3333333333333333,
              "#9c179e"
             ],
             [
              0.4444444444444444,
              "#bd3786"
             ],
             [
              0.5555555555555556,
              "#d8576b"
             ],
             [
              0.6666666666666666,
              "#ed7953"
             ],
             [
              0.7777777777777778,
              "#fb9f3a"
             ],
             [
              0.8888888888888888,
              "#fdca26"
             ],
             [
              1,
              "#f0f921"
             ]
            ],
            "type": "contour"
           }
          ],
          "contourcarpet": [
           {
            "colorbar": {
             "outlinewidth": 0,
             "ticks": ""
            },
            "type": "contourcarpet"
           }
          ],
          "heatmap": [
           {
            "colorbar": {
             "outlinewidth": 0,
             "ticks": ""
            },
            "colorscale": [
             [
              0,
              "#0d0887"
             ],
             [
              0.1111111111111111,
              "#46039f"
             ],
             [
              0.2222222222222222,
              "#7201a8"
             ],
             [
              0.3333333333333333,
              "#9c179e"
             ],
             [
              0.4444444444444444,
              "#bd3786"
             ],
             [
              0.5555555555555556,
              "#d8576b"
             ],
             [
              0.6666666666666666,
              "#ed7953"
             ],
             [
              0.7777777777777778,
              "#fb9f3a"
             ],
             [
              0.8888888888888888,
              "#fdca26"
             ],
             [
              1,
              "#f0f921"
             ]
            ],
            "type": "heatmap"
           }
          ],
          "heatmapgl": [
           {
            "colorbar": {
             "outlinewidth": 0,
             "ticks": ""
            },
            "colorscale": [
             [
              0,
              "#0d0887"
             ],
             [
              0.1111111111111111,
              "#46039f"
             ],
             [
              0.2222222222222222,
              "#7201a8"
             ],
             [
              0.3333333333333333,
              "#9c179e"
             ],
             [
              0.4444444444444444,
              "#bd3786"
             ],
             [
              0.5555555555555556,
              "#d8576b"
             ],
             [
              0.6666666666666666,
              "#ed7953"
             ],
             [
              0.7777777777777778,
              "#fb9f3a"
             ],
             [
              0.8888888888888888,
              "#fdca26"
             ],
             [
              1,
              "#f0f921"
             ]
            ],
            "type": "heatmapgl"
           }
          ],
          "histogram": [
           {
            "marker": {
             "pattern": {
              "fillmode": "overlay",
              "size": 10,
              "solidity": 0.2
             }
            },
            "type": "histogram"
           }
          ],
          "histogram2d": [
           {
            "colorbar": {
             "outlinewidth": 0,
             "ticks": ""
            },
            "colorscale": [
             [
              0,
              "#0d0887"
             ],
             [
              0.1111111111111111,
              "#46039f"
             ],
             [
              0.2222222222222222,
              "#7201a8"
             ],
             [
              0.3333333333333333,
              "#9c179e"
             ],
             [
              0.4444444444444444,
              "#bd3786"
             ],
             [
              0.5555555555555556,
              "#d8576b"
             ],
             [
              0.6666666666666666,
              "#ed7953"
             ],
             [
              0.7777777777777778,
              "#fb9f3a"
             ],
             [
              0.8888888888888888,
              "#fdca26"
             ],
             [
              1,
              "#f0f921"
             ]
            ],
            "type": "histogram2d"
           }
          ],
          "histogram2dcontour": [
           {
            "colorbar": {
             "outlinewidth": 0,
             "ticks": ""
            },
            "colorscale": [
             [
              0,
              "#0d0887"
             ],
             [
              0.1111111111111111,
              "#46039f"
             ],
             [
              0.2222222222222222,
              "#7201a8"
             ],
             [
              0.3333333333333333,
              "#9c179e"
             ],
             [
              0.4444444444444444,
              "#bd3786"
             ],
             [
              0.5555555555555556,
              "#d8576b"
             ],
             [
              0.6666666666666666,
              "#ed7953"
             ],
             [
              0.7777777777777778,
              "#fb9f3a"
             ],
             [
              0.8888888888888888,
              "#fdca26"
             ],
             [
              1,
              "#f0f921"
             ]
            ],
            "type": "histogram2dcontour"
           }
          ],
          "mesh3d": [
           {
            "colorbar": {
             "outlinewidth": 0,
             "ticks": ""
            },
            "type": "mesh3d"
           }
          ],
          "parcoords": [
           {
            "line": {
             "colorbar": {
              "outlinewidth": 0,
              "ticks": ""
             }
            },
            "type": "parcoords"
           }
          ],
          "pie": [
           {
            "automargin": true,
            "type": "pie"
           }
          ],
          "scatter": [
           {
            "fillpattern": {
             "fillmode": "overlay",
             "size": 10,
             "solidity": 0.2
            },
            "type": "scatter"
           }
          ],
          "scatter3d": [
           {
            "line": {
             "colorbar": {
              "outlinewidth": 0,
              "ticks": ""
             }
            },
            "marker": {
             "colorbar": {
              "outlinewidth": 0,
              "ticks": ""
             }
            },
            "type": "scatter3d"
           }
          ],
          "scattercarpet": [
           {
            "marker": {
             "colorbar": {
              "outlinewidth": 0,
              "ticks": ""
             }
            },
            "type": "scattercarpet"
           }
          ],
          "scattergeo": [
           {
            "marker": {
             "colorbar": {
              "outlinewidth": 0,
              "ticks": ""
             }
            },
            "type": "scattergeo"
           }
          ],
          "scattergl": [
           {
            "marker": {
             "colorbar": {
              "outlinewidth": 0,
              "ticks": ""
             }
            },
            "type": "scattergl"
           }
          ],
          "scattermapbox": [
           {
            "marker": {
             "colorbar": {
              "outlinewidth": 0,
              "ticks": ""
             }
            },
            "type": "scattermapbox"
           }
          ],
          "scatterpolar": [
           {
            "marker": {
             "colorbar": {
              "outlinewidth": 0,
              "ticks": ""
             }
            },
            "type": "scatterpolar"
           }
          ],
          "scatterpolargl": [
           {
            "marker": {
             "colorbar": {
              "outlinewidth": 0,
              "ticks": ""
             }
            },
            "type": "scatterpolargl"
           }
          ],
          "scatterternary": [
           {
            "marker": {
             "colorbar": {
              "outlinewidth": 0,
              "ticks": ""
             }
            },
            "type": "scatterternary"
           }
          ],
          "surface": [
           {
            "colorbar": {
             "outlinewidth": 0,
             "ticks": ""
            },
            "colorscale": [
             [
              0,
              "#0d0887"
             ],
             [
              0.1111111111111111,
              "#46039f"
             ],
             [
              0.2222222222222222,
              "#7201a8"
             ],
             [
              0.3333333333333333,
              "#9c179e"
             ],
             [
              0.4444444444444444,
              "#bd3786"
             ],
             [
              0.5555555555555556,
              "#d8576b"
             ],
             [
              0.6666666666666666,
              "#ed7953"
             ],
             [
              0.7777777777777778,
              "#fb9f3a"
             ],
             [
              0.8888888888888888,
              "#fdca26"
             ],
             [
              1,
              "#f0f921"
             ]
            ],
            "type": "surface"
           }
          ],
          "table": [
           {
            "cells": {
             "fill": {
              "color": "#EBF0F8"
             },
             "line": {
              "color": "white"
             }
            },
            "header": {
             "fill": {
              "color": "#C8D4E3"
             },
             "line": {
              "color": "white"
             }
            },
            "type": "table"
           }
          ]
         },
         "layout": {
          "annotationdefaults": {
           "arrowcolor": "#2a3f5f",
           "arrowhead": 0,
           "arrowwidth": 1
          },
          "autotypenumbers": "strict",
          "coloraxis": {
           "colorbar": {
            "outlinewidth": 0,
            "ticks": ""
           }
          },
          "colorscale": {
           "diverging": [
            [
             0,
             "#8e0152"
            ],
            [
             0.1,
             "#c51b7d"
            ],
            [
             0.2,
             "#de77ae"
            ],
            [
             0.3,
             "#f1b6da"
            ],
            [
             0.4,
             "#fde0ef"
            ],
            [
             0.5,
             "#f7f7f7"
            ],
            [
             0.6,
             "#e6f5d0"
            ],
            [
             0.7,
             "#b8e186"
            ],
            [
             0.8,
             "#7fbc41"
            ],
            [
             0.9,
             "#4d9221"
            ],
            [
             1,
             "#276419"
            ]
           ],
           "sequential": [
            [
             0,
             "#0d0887"
            ],
            [
             0.1111111111111111,
             "#46039f"
            ],
            [
             0.2222222222222222,
             "#7201a8"
            ],
            [
             0.3333333333333333,
             "#9c179e"
            ],
            [
             0.4444444444444444,
             "#bd3786"
            ],
            [
             0.5555555555555556,
             "#d8576b"
            ],
            [
             0.6666666666666666,
             "#ed7953"
            ],
            [
             0.7777777777777778,
             "#fb9f3a"
            ],
            [
             0.8888888888888888,
             "#fdca26"
            ],
            [
             1,
             "#f0f921"
            ]
           ],
           "sequentialminus": [
            [
             0,
             "#0d0887"
            ],
            [
             0.1111111111111111,
             "#46039f"
            ],
            [
             0.2222222222222222,
             "#7201a8"
            ],
            [
             0.3333333333333333,
             "#9c179e"
            ],
            [
             0.4444444444444444,
             "#bd3786"
            ],
            [
             0.5555555555555556,
             "#d8576b"
            ],
            [
             0.6666666666666666,
             "#ed7953"
            ],
            [
             0.7777777777777778,
             "#fb9f3a"
            ],
            [
             0.8888888888888888,
             "#fdca26"
            ],
            [
             1,
             "#f0f921"
            ]
           ]
          },
          "colorway": [
           "#636efa",
           "#EF553B",
           "#00cc96",
           "#ab63fa",
           "#FFA15A",
           "#19d3f3",
           "#FF6692",
           "#B6E880",
           "#FF97FF",
           "#FECB52"
          ],
          "font": {
           "color": "#2a3f5f"
          },
          "geo": {
           "bgcolor": "white",
           "lakecolor": "white",
           "landcolor": "#E5ECF6",
           "showlakes": true,
           "showland": true,
           "subunitcolor": "white"
          },
          "hoverlabel": {
           "align": "left"
          },
          "hovermode": "closest",
          "mapbox": {
           "style": "light"
          },
          "paper_bgcolor": "white",
          "plot_bgcolor": "#E5ECF6",
          "polar": {
           "angularaxis": {
            "gridcolor": "white",
            "linecolor": "white",
            "ticks": ""
           },
           "bgcolor": "#E5ECF6",
           "radialaxis": {
            "gridcolor": "white",
            "linecolor": "white",
            "ticks": ""
           }
          },
          "scene": {
           "xaxis": {
            "backgroundcolor": "#E5ECF6",
            "gridcolor": "white",
            "gridwidth": 2,
            "linecolor": "white",
            "showbackground": true,
            "ticks": "",
            "zerolinecolor": "white"
           },
           "yaxis": {
            "backgroundcolor": "#E5ECF6",
            "gridcolor": "white",
            "gridwidth": 2,
            "linecolor": "white",
            "showbackground": true,
            "ticks": "",
            "zerolinecolor": "white"
           },
           "zaxis": {
            "backgroundcolor": "#E5ECF6",
            "gridcolor": "white",
            "gridwidth": 2,
            "linecolor": "white",
            "showbackground": true,
            "ticks": "",
            "zerolinecolor": "white"
           }
          },
          "shapedefaults": {
           "line": {
            "color": "#2a3f5f"
           }
          },
          "ternary": {
           "aaxis": {
            "gridcolor": "white",
            "linecolor": "white",
            "ticks": ""
           },
           "baxis": {
            "gridcolor": "white",
            "linecolor": "white",
            "ticks": ""
           },
           "bgcolor": "#E5ECF6",
           "caxis": {
            "gridcolor": "white",
            "linecolor": "white",
            "ticks": ""
           }
          },
          "title": {
           "x": 0.05
          },
          "xaxis": {
           "automargin": true,
           "gridcolor": "white",
           "linecolor": "white",
           "ticks": "",
           "title": {
            "standoff": 15
           },
           "zerolinecolor": "white",
           "zerolinewidth": 2
          },
          "yaxis": {
           "automargin": true,
           "gridcolor": "white",
           "linecolor": "white",
           "ticks": "",
           "title": {
            "standoff": 15
           },
           "zerolinecolor": "white",
           "zerolinewidth": 2
          }
         }
        },
        "title": {
         "text": "Endothelial Cell Programs x GWAS Binary Outcome Enrichments"
        },
        "width": 1000,
        "xaxis": {
         "anchor": "y",
         "domain": [
          0,
          1
         ],
         "tickfont": {
          "size": 4
         },
         "title": {
          "text": "trait_reported"
         }
        },
        "yaxis": {
         "anchor": "x",
         "domain": [
          0,
          1
         ],
         "tickformat": ".1f",
         "title": {
          "text": "-log10(p-value)"
         }
        }
       }
      },
      "text/html": [
       "<div>                            <div id=\"51fdd0e6-5fbe-44a3-8753-a9a59ca282b7\" class=\"plotly-graph-div\" style=\"height:800px; width:1000px;\"></div>            <script type=\"text/javascript\">                require([\"plotly\"], function(Plotly) {                    window.PLOTLYENV=window.PLOTLYENV || {};                                    if (document.getElementById(\"51fdd0e6-5fbe-44a3-8753-a9a59ca282b7\")) {                    Plotly.newPlot(                        \"51fdd0e6-5fbe-44a3-8753-a9a59ca282b7\",                        [{\"customdata\":[[35,\"biological process\",0.0056429697422936,\"MEF2C;KMT2E;SYT1;JMJD1C;ADAMTS9;TANK;EXT1;NAV2;RBMS1\",\"GCST006269\",\"PMID:29844566\"],[35,\"biological process\",0.1011109402283948,\"MEF2C;NTM;NR2F2;SYT1;PCDH9;KLF6;UTRN;CD47;PREX1;NOL4L;AGO2;RBMS1;CEP170;ZSWIM6;PTPRN2;MARCKS;JMJD1C;PLCB1;EXT1;NFIB;MBNL2;RORA;MAST4;RGS17;BACE2;PTK2;ZBTB38;ZNF385D;PDE4B;TCF4\",\"GCST006568\",\"PMID:30038396\"],[35,\"biological process\",0.1051027831894417,\"NOL4L;NTM;TANK;PCDH9;PLXNA2;NAV2;PDE4B\",\"GCST007327\",\"PMID:30643258\"],[35,\"biological process\",0.2245699078667443,\"NTM;NR2F2;FGFR1;PCDH9;PDE4B;NLGN1\",\"GCST007462\",\"PMID:30643251\"],[35,\"biological process\",0.2704419910386041,\"CREB5;PLCB1;CD82;DACH1;SERTAD2;SVIL;ATP9A;FRY\",\"GCST006660\",\"PMID:30348214\"],[35,\"biological process\",0.307935309981509,\"YWHAZ;RGS17;GJA1;SPRY2;PLXNA2;TCF4;SDCCAG8;PPP1R3B\",\"GCST007325\",\"PMID:30643258\"],[35,\"biological process\",0.3806033286647947,\"JMJD1C\",\"NEALE2_1508_3\",null],[35,\"biological process\",0.44289869345144,\"KLHL6;RALY\",\"NEALE2_1757\",null],[35,\"biological process\",0.4956985515996857,\"CDKN2B;PPP1R3B;TRIB1\",\"FINNGEN_R6_RX_STATIN\",null],[35,\"biological process\",0.6349757084295646,\"PDE4B;RBMS1\",\"GCST007464\",\"PMID:30643251\"]],\"hovertemplate\":\"trait_category=%{customdata[1]}\\u003cbr\\u003etrait_reported=%{x}\\u003cbr\\u003e-log10(p-value)=%{y}\\u003cbr\\u003eprogram_name=%{customdata[0]}\\u003cbr\\u003eP-value=%{customdata[2]}\\u003cbr\\u003eGenes=%{customdata[3]}\\u003cbr\\u003estudy_id=%{customdata[4]}\\u003cbr\\u003epmid=%{customdata[5]}\\u003cextra\\u003e\\u003c\\u002fextra\\u003e\",\"legendgroup\":\"biological process\",\"marker\":{\"color\":\"#636efa\",\"symbol\":\"circle\"},\"mode\":\"markers\",\"name\":\"biological process\",\"orientation\":\"v\",\"showlegend\":true,\"x\":[\"General cognitive ability\",\"Highest math class taken (MTAG) [MTAG]\",\"Smoking status (ever vs never smokers)\",\"Age of smoking initiation (MTAG)\",\"DNA methylation variation (age effect)\",\"General risk tolerance (MTAG)\",\"Ground coffee (include espresso, filter etc) | coffee type\",\"Facial ageing\",\"Statin medication\",\"Smoking cessation (MTAG)\"],\"xaxis\":\"x\",\"y\":[2.248492278418627,0.995201851097738,0.9783857834216856,0.6486484391831474,0.5679258753764462,0.5115405090478005,0.41952741779773484,0.3536956008795377,0.30478235007443977,0.19724288871871462],\"yaxis\":\"y\",\"type\":\"scatter\"},{\"customdata\":[[35,\"cardiovascular disease\",0.00331789233512,\"CFDP1;FAM133B;RORA;ABHD17C;CPEB2;SLC7A1;PLCB1;NFATC2;SIPA1L2;HIPK2;MYEOV;SLC4A7;KANK2;PREX1;TRIB1;PLEKHG1\",\"GCST007072\",\"PMID:30595370\"],[35,\"cardiovascular disease\",0.003446888968619,\"NR2F2;SYT1;SLC7A1;NFAT5;GLCE;SH2B3;PLEKHG1\",\"FINNGEN_R6_RX_ANTIHYP\",null],[35,\"cardiovascular disease\",0.0215131352966968,\"SMAD3;ANGPT2;RGMB;SERTAD2;AMPD3;FEZ2;CDKN2B\",\"GCST90014033\",\"PMID:33888516\"],[35,\"cardiovascular disease\",0.0294799337083979,\"HEY2;TGFBR2;GJA1;NRP1\",\"GCST003720\",\"PMID:27322543\"],[35,\"cardiovascular disease\",0.0388352174324807,\"CFDP1;GJA1;KIAA0040\",\"GCST011064\",\"PMID:32632093\"],[35,\"cardiovascular disease\",0.1035228209042789,\"CFDP1;CDKN2B\",\"GCST011021\",\"PMID:33199917\"],[35,\"cardiovascular disease\",0.1319233513393735,\"CDKN2B;SH3PXD2A\",\"GCST005838\",\"PMID:29531354\"],[35,\"cardiovascular disease\",0.1772016518459501,\"CDKN2B;PAWR\",\"GCST008474\",\"PMID:31285632\"],[35,\"cardiovascular disease\",0.1794611024734277,\"SMAD3;CDKN2B;SLC5A3;ARHGAP26\",\"GCST005195\",\"PMID:29212778\"],[35,\"cardiovascular disease\",0.2423005011678632,\"TRIB1;CDKN2B;SLC5A3;SMAD3\",\"GCST011365\",\"PMID:33532862\"],[35,\"cardiovascular disease\",0.2621073474217304,\"CREB5;PTK2;NAV2;LRIG1;MTSS1\",\"GCST006061\",\"PMID:29892015\"],[35,\"cardiovascular disease\",0.2941132173943117,\"MFHAS1\",\"GCST90000064\",\"PMID:33230300\"],[35,\"cardiovascular disease\",0.2941132173943117,\"TRIB1\",\"GCST011496\",\"PMID:32981348\"],[35,\"cardiovascular disease\",0.3361891804443679,\"CDKN2B;TRIB1\",\"FINNGEN_R6_I9_CORATHER\",null],[35,\"cardiovascular disease\",0.3530161122492894,\"CDKN2B\",\"GCST009541\",\"PMID:31919418\"],[35,\"cardiovascular disease\",0.4070176992439764,\"MTSS1\",\"GCST011202\",\"PMID:33495596\"],[35,\"cardiovascular disease\",0.4565246622701632,\"MEF2C\",\"GCST010774\",\"PMID:32589924\"],[35,\"cardiovascular disease\",0.5019100365830542,\"SH3PXD2A\",\"SAIGE_427\",null],[35,\"cardiovascular disease\",0.6636761395195891,\"CDKN2B\",\"FINNGEN_R6_I9_IHD\",null]],\"hovertemplate\":\"trait_category=%{customdata[1]}\\u003cbr\\u003etrait_reported=%{x}\\u003cbr\\u003e-log10(p-value)=%{y}\\u003cbr\\u003eprogram_name=%{customdata[0]}\\u003cbr\\u003eP-value=%{customdata[2]}\\u003cbr\\u003eGenes=%{customdata[3]}\\u003cbr\\u003estudy_id=%{customdata[4]}\\u003cbr\\u003epmid=%{customdata[5]}\\u003cextra\\u003e\\u003c\\u002fextra\\u003e\",\"legendgroup\":\"cardiovascular disease\",\"marker\":{\"color\":\"#EF553B\",\"symbol\":\"circle\"},\"mode\":\"markers\",\"name\":\"cardiovascular disease\",\"orientation\":\"v\",\"showlegend\":true,\"x\":[\"Cardiovascular disease\",\"Antihypertensive medication - note that there are other indications\",\"Haemorrhoidal disease\",\"Migraine\",\"Migraine and\\u002for diastolic blood pressure\",\"Intracranial aneurysm\",\"Stroke\",\"Peripheral artery disease\",\"Coronary artery disease\",\"Myocardial infarction\",\"Atrial fibrillation\",\"Hypertension\",\"Abdominal aortic aneurysm\",\"Coronary atherosclerosis\",\"Heart failure\",\"Dilated cardiomyopathy (MTAG)\",\"Essential hypertension (time to event)\",\"Cardiac dysrhythmias\",\"Ischaemic heart disease, wide definition\"],\"xaxis\":\"x\",\"y\":[2.4791377108438817,2.4625727058849782,1.6672962914801457,1.530473497410997,1.4107742589538343,0.984963902377938,0.8796783245428159,0.7515322340051904,0.7460296685996632,0.6156456875784971,0.5815208046925111,0.5314854579396152,0.5314854579396152,0.47341626754413446,0.4522054722289846,0.39038670498396444,0.3405357561394682,0.2993741197412226,0.1780437958297842],\"yaxis\":\"y\",\"type\":\"scatter\"},{\"customdata\":[[35,\"cell proliferation disorder\",0.0030335884821261,\"PREX1;TNS3;SMAD3;BMP2\",\"SAIGE_208\",null],[35,\"cell proliferation disorder\",0.0053062999929258,\"DMRTA1;HEY2;SH2B3\",\"GCST006464\",\"PMID:30093612\"],[35,\"cell proliferation disorder\",0.0065324465078167,\"KRT8;ARHGAP6;FERMT2;TACC1;RGS17;ZBTB38;SLC25A37;ADGRG1;MYEOV;TNS3;ZNF827;CDKN2B;ITGA6\",\"GCST011049\",\"PMID:33398198\"],[35,\"cell proliferation disorder\",0.0261179852629695,\"LPP;CDKN2B;TNS3;RALY\",\"SAIGE_172_2\",null],[35,\"cell proliferation disorder\",0.0329390943721437,\"DPF3;MYEOV\",\"GCST004710\",\"PMID:28598434\"],[35,\"cell proliferation disorder\",0.0691208078644381,\"LPP;RBMS1;TNS3;PTPN22;CDKN2B\",\"GCST008871\",\"PMID:31174203\"],[35,\"cell proliferation disorder\",0.0722052735626807,\"PREX1;TNS3;SMAD3\",\"GCST90018827\",\"PMID:34594039\"],[35,\"cell proliferation disorder\",0.0900452522937988,\"LPP;RALY\",\"GCST008872\",\"PMID:31174203\"],[35,\"cell proliferation disorder\",0.1538344687020897,\"LPP;CDKN2B;RALY\",\"GCST90018921\",\"PMID:34594039\"],[35,\"cell proliferation disorder\",0.1855784481857479,\"LPP;CDKN2B;RALY\",\"GCST90027058\",\"PMID:34290314\"],[35,\"cell proliferation disorder\",0.188087026748552,\"CDKN2B;PREX1;TNS3;BMP2\",\"GCST007992\",\"PMID:31089142\"],[35,\"cell proliferation disorder\",0.1955882453753811,\"SMAD3\",\"GCST004144\",\"PMID:28195142\"],[35,\"cell proliferation disorder\",0.2298656572349589,\"CDKN2B\",\"GCST004349\",\"PMID:28346443\"],[35,\"cell proliferation disorder\",0.2298656572349589,\"CDKN2B\",\"GCST004347\",\"PMID:28346443\"],[35,\"cell proliferation disorder\",0.2298656572349589,\"TIPARP\",\"GCST004415\",\"PMID:28346442\"],[35,\"cell proliferation disorder\",0.2941132173943117,\"TIPARP\",\"GCST004478\",\"PMID:28346442\"],[35,\"cell proliferation disorder\",0.3044502467361865,\"LPP;TNS3\",\"SAIGE_172\",null],[35,\"cell proliferation disorder\",0.324204141364255,\"AKAP13\",\"GCST009758\",\"PMID:31710517\"],[35,\"cell proliferation disorder\",0.324204141364255,\"PREX1\",\"GCST004483\",\"PMID:27363682\"],[35,\"cell proliferation disorder\",0.324204141364255,\"NRIP1\",\"FINNGEN_R6_C3_BREAST_HERPLUS\",null],[35,\"cell proliferation disorder\",0.324204141364255,\"NRIP1\",\"FINNGEN_R6_C3_BREAST_HERPLUS_EXALLC\",null],[35,\"cell proliferation disorder\",0.3354586528991354,\"LPP;CDKN2B;TNS3\",\"GCST008870\",\"PMID:31174203\"],[35,\"cell proliferation disorder\",0.4565246622701632,\"NRIP1\",\"FINNGEN_R6_C3_BREAST\",null],[35,\"cell proliferation disorder\",0.4565246622701632,\"MYEOV\",\"FINNGEN_R6_C3_PROSTATE_EXALLC\",null],[35,\"cell proliferation disorder\",0.4797104701937913,\"TNFRSF11B\",\"GCST90018883\",\"PMID:34594039\"],[35,\"cell proliferation disorder\",0.5231651886458835,\"NRIP1\",\"FINNGEN_R6_C3_BREAST_HER2NEG\",null],[35,\"cell proliferation disorder\",0.5378103941015597,\"CREB5;NRIP1;SLC4A7;TGFBR2\",\"GCST90090980\",\"PMID:32139696\"],[35,\"cell proliferation disorder\",0.5435159849282323,\"CDKN2B\",\"GCST90027051\",\"PMID:34290314\"],[35,\"cell proliferation disorder\",0.5995178386861355,\"MYEOV\",\"FINNGEN_R6_C3_MALE_GENITAL\",null],[35,\"cell proliferation disorder\",0.5995178386861355,\"MYEOV\",\"FINNGEN_R6_C3_MALE_GENITAL_EXALLC\",null],[35,\"cell proliferation disorder\",0.6166189689485199,\"LPIN1\",\"SAIGE_728_71\",null],[35,\"cell proliferation disorder\",0.7049729690863856,\"CDKN2B\",\"GCST004146\",\"PMID:28165464\"],[35,\"cell proliferation disorder\",0.8253982211852733,\"CDKN2B\",\"GCST010304\",\"PMID:32341527\"]],\"hovertemplate\":\"trait_category=%{customdata[1]}\\u003cbr\\u003etrait_reported=%{x}\\u003cbr\\u003e-log10(p-value)=%{y}\\u003cbr\\u003eprogram_name=%{customdata[0]}\\u003cbr\\u003eP-value=%{customdata[2]}\\u003cbr\\u003eGenes=%{customdata[3]}\\u003cbr\\u003estudy_id=%{customdata[4]}\\u003cbr\\u003epmid=%{customdata[5]}\\u003cextra\\u003e\\u003c\\u002fextra\\u003e\",\"legendgroup\":\"cell proliferation disorder\",\"marker\":{\"color\":\"#00cc96\",\"symbol\":\"circle\"},\"mode\":\"markers\",\"name\":\"cell proliferation disorder\",\"orientation\":\"v\",\"showlegend\":true,\"x\":[\"Benign neoplasm of colon\",\"Endometrial cancer\",\"Prostate cancer\",\"Other non-epithelial cancer of skin\",\"Renal cell carcinoma\",\"Basal cell carcinoma\",\"Colon polyp\",\"Squamous cell carcinoma\",\"Skin cancer\",\"Non-melanoma skin cancer\",\"Colorectal cancer\",\"Thyroid cancer\",\"Glioblastoma\",\"Glioma\",\"Invasive epithelial ovarian cancer\",\"Serous invasive ovarian cancer\",\"Skin cancer\",\"Idiopathic pulmonary fibrosis\",\"Multiple myeloma\",\"Malignant neoplasm of breast, HER-positive\",\"Malignant neoplasm of breast, HER-positive (controls excluding all cancers)\",\"Keratinocyte cancer (MTAG)\",\"Malignant neoplasm of breast\",\"Malignant neoplasm of prostate (controls excluding all cancers)\",\"Nasal polyps\",\"Malignant neoplasm of breast, HER2-negative\",\"Breast cancer\",\"Cancer\",\"malignant neoplasm of male genital organs\",\"malignant neoplasm of male genital organs (controls excluding all cancers)\",\"Contracture of palmar fascia [dupuytren's disease]\",\"Chronic lymphocytic leukemia\",\"Cutaneous malignant melanoma\"],\"xaxis\":\"x\",\"y\":[2.518043333260334,2.275208200718303,2.1849241378892166,1.5830603275088406,1.482288345499823,1.16039119458852,1.1414310822706089,1.0455391807562928,0.8129463440539425,0.731472461185461,0.7256411587602051,0.7086572493541795,0.6385259090589651,0.6385259090589651,0.6385259090589651,0.5314854579396152,0.5164836696432216,0.48918144180040934,0.48918144180040934,0.48918144180040934,0.48918144180040934,0.474361001349953,0.3405357561394682,0.3405357561394682,0.3190208024893572,0.28136116162946356,0.26937080855130013,0.26478767869077113,0.22219788991677206,0.22219788991677206,0.20998311927387223,0.15182753492588247,0.08333647140511674],\"yaxis\":\"y\",\"type\":\"scatter\"},{\"customdata\":[[35,\"disease of visual system\",0.0237822510429903,\"MCUB;TNFRSF10A;ADAMTS9\",\"GCST001884\",\"PMID:23455636\"],[35,\"disease of visual system\",0.0373700895637997,\"FERMT2;LMO7;FMNL2;SMG6;LPP;KANK2;CDKN2B\",\"GCST009722\",\"PMID:31959993\"],[35,\"disease of visual system\",0.1581965546679331,\"FLT1;NTM;BMP2;NRIP1;ZBTB38;ANK3;ANKRD28;ANTXR2\",\"GCST010378\",\"PMID:32352494\"],[35,\"disease of visual system\",0.1709733875035058,\"LPP;CDKN2B;LMO7;FMNL2\",\"GCST90011770\",\"PMID:33627673\"],[35,\"disease of visual system\",0.2085452372070686,\"TOP1;CDKN2B\",\"GCST90018814\",\"PMID:34594039\"],[35,\"disease of visual system\",0.3806033286647947,\"CDKN2B\",\"FINNGEN_R6_H7_GLAUCOMA_JOAG\",null],[35,\"disease of visual system\",0.5231651886458835,\"CREB5\",\"FINNGEN_R6_H7_LENS\",null]],\"hovertemplate\":\"trait_category=%{customdata[1]}\\u003cbr\\u003etrait_reported=%{x}\\u003cbr\\u003e-log10(p-value)=%{y}\\u003cbr\\u003eprogram_name=%{customdata[0]}\\u003cbr\\u003eP-value=%{customdata[2]}\\u003cbr\\u003eGenes=%{customdata[3]}\\u003cbr\\u003estudy_id=%{customdata[4]}\\u003cbr\\u003epmid=%{customdata[5]}\\u003cextra\\u003e\\u003c\\u002fextra\\u003e\",\"legendgroup\":\"disease of visual system\",\"marker\":{\"color\":\"#ab63fa\",\"symbol\":\"circle\"},\"mode\":\"markers\",\"name\":\"disease of visual system\",\"orientation\":\"v\",\"showlegend\":true,\"x\":[\"Age-related macular degeneration\",\"Glaucoma (multi-trait analysis)\",\"Spherical equivalent\",\"Glaucoma (primary open-angle)\",\"Cataracts\",\"Juvenile Open Angle Glaucoma\",\"Disorders of lens\"],\"xaxis\":\"x\",\"y\":[1.6237470408325076,1.4274758612882437,0.8008029791505961,0.7670714835249332,0.6807997241989133,0.41952741779773484,0.28136116162946356],\"yaxis\":\"y\",\"type\":\"scatter\"},{\"customdata\":[[35,\"endocrine system disease\",0.0007245660764551,\"AGO2;TANK;TNFRSF11B;JAK1;BHLHE40;LPP;PFKFB3;SASH1;PTPN22;SH2B3;SLC25A37;PRAG1\",\"GCST007073\",\"PMID:30595370\"],[35,\"endocrine system disease\",0.0193202224321582,\"AGO2;LPP;SASH1;PTPN22;SH2B3\",\"FINNGEN_R6_E4_THYROID\",null],[35,\"endocrine system disease\",0.0329390943721437,\"LPP;PTPN22\",\"GCST90011871\",\"PMID:33574239\"],[35,\"endocrine system disease\",0.0737935301031566,\"AGO2;LPP;SASH1;PTPN22;SH2B3\",\"FINNGEN_R6_E4_HYTHY_AI_STRICT_PURCH\",null],[35,\"endocrine system disease\",0.0766875165099084,\"BHLHE40;LPP;PTPN22;SASH1;PRAG1;SH2B3\",\"GCST010571\",\"PMID:32581359\"],[35,\"endocrine system disease\",0.1927894958068983,\"LPP;PTPN22\",\"GCST90018847\",\"PMID:34594039\"],[35,\"endocrine system disease\",0.2941132173943117,\"PTPN22\",\"GCST90018860\",\"PMID:34594039\"],[35,\"endocrine system disease\",0.4323089391056177,\"BMP2\",\"GCST90018853\",\"PMID:34594039\"],[35,\"endocrine system disease\",0.563000789879418,\"BMP2\",\"FINNGEN_R6_E4_GOITREMULTINOD\",null]],\"hovertemplate\":\"trait_category=%{customdata[1]}\\u003cbr\\u003etrait_reported=%{x}\\u003cbr\\u003e-log10(p-value)=%{y}\\u003cbr\\u003eprogram_name=%{customdata[0]}\\u003cbr\\u003eP-value=%{customdata[2]}\\u003cbr\\u003eGenes=%{customdata[3]}\\u003cbr\\u003estudy_id=%{customdata[4]}\\u003cbr\\u003epmid=%{customdata[5]}\\u003cextra\\u003e\\u003c\\u002fextra\\u003e\",\"legendgroup\":\"endocrine system disease\",\"marker\":{\"color\":\"#FFA15A\",\"symbol\":\"circle\"},\"mode\":\"markers\",\"name\":\"endocrine system disease\",\"orientation\":\"v\",\"showlegend\":true,\"x\":[\"Hypothyroidism\",\"Disorders of the thyroid gland\",\"Addison's disease\",\"Hypothyroidism, strict autoimmune, 3 medication purchases required\",\"Autoimmune thyroid disease\",\"Graves' disease\",\"Hyperthyroidism\",\"Goiter\",\"Nontoxic multinodular goitre\"],\"xaxis\":\"x\",\"y\":[3.139922003110259,1.7139878778944995,1.482288345499823,1.1319817135654582,1.115275326430484,0.7149166324527796,0.5314854579396152,0.36420578421165173,0.24949099584131454],\"yaxis\":\"y\",\"type\":\"scatter\"},{\"customdata\":[[35,\"gastrointestinal disease\",0.0228950397573702,\"TSPAN14;DUSP5;ZFP36L1;SMAD3;TRIB1;FOSL2;ERRFI1;MACF1\",\"GCST004131\",\"PMID:28067908\"],[35,\"gastrointestinal disease\",0.0261179852629695,\"PFKFB3;LPP;ZFP36L1;SH2B3\",\"GCST005523\",\"PMID:22057235\"],[35,\"gastrointestinal disease\",0.0329390943721437,\"RORA;SMAD3\",\"GCST90027899\",\"PMID:34506852\"],[35,\"gastrointestinal disease\",0.0369390831946624,\"REEP3;PPP1R3B;TRIB1;SYNJ2\",\"GCST90018819\",\"PMID:34594039\"],[35,\"gastrointestinal disease\",0.0533858256347642,\"ITPKB;SH2B3\",\"FINNGEN_R6_RX_CROHN_2NDLINE\",null],[35,\"gastrointestinal disease\",0.1035228209042789,\"JMJD1C;REEP3\",\"NEALE2_20002_1162\",null],[35,\"gastrointestinal disease\",0.105295215990532,\"TANK;BACE2;PCDH9;PDE4B;TCF4\",\"GCST90000514\",\"PMID:34187846\"],[35,\"gastrointestinal disease\",0.1224039854743536,\"LPP\",\"SAIGE_557\",null],[35,\"gastrointestinal disease\",0.1436674955209433,\"ZNF827;CDKN2B;TRIB1\",\"GCST90094908\",\"PMID:35047847\"],[35,\"gastrointestinal disease\",0.1618276035777869,\"JMJD1C;ANPEP\",\"GCST007209\",\"PMID:30504769\"],[35,\"gastrointestinal disease\",0.2298656572349589,\"LPP\",\"NEALE2_20002_1456\",null],[35,\"gastrointestinal disease\",0.324204141364255,\"CALD1\",\"FINNGEN_R6_ABDOM_HERNIA\",null],[35,\"gastrointestinal disease\",0.3530161122492894,\"FOXF1\",\"GCST90000515\",\"PMID:34187846\"],[35,\"gastrointestinal disease\",0.4565246622701632,\"PTPN22\",\"GCST90016610\",\"PMID:33686288\"]],\"hovertemplate\":\"trait_category=%{customdata[1]}\\u003cbr\\u003etrait_reported=%{x}\\u003cbr\\u003e-log10(p-value)=%{y}\\u003cbr\\u003eprogram_name=%{customdata[0]}\\u003cbr\\u003eP-value=%{customdata[2]}\\u003cbr\\u003eGenes=%{customdata[3]}\\u003cbr\\u003estudy_id=%{customdata[4]}\\u003cbr\\u003epmid=%{customdata[5]}\\u003cextra\\u003e\\u003c\\u002fextra\\u003e\",\"legendgroup\":\"gastrointestinal disease\",\"marker\":{\"color\":\"#19d3f3\",\"symbol\":\"circle\"},\"mode\":\"markers\",\"name\":\"gastrointestinal disease\",\"orientation\":\"v\",\"showlegend\":true,\"x\":[\"Inflammatory bowel disease\",\"Celiac disease\",\"Eosinophilic esophagitis\",\"Cholelithiasis\",\"Second line medication for Crohns disease\",\"Cholelithiasis\\u002fgall stones | non-cancer illness code, self-reported\",\"Gastroesophageal reflux disease\",\"Intestinal malabsorption (non-celiac)\",\"Nonalcoholic fatty liver disease (imputed)\",\"Gallstone disease\",\"Malabsorption\\u002fcoeliac disease | non-cancer illness code, self-reported\",\"Hernia of abodminal wall\",\"Barrett's esophagus\",\"Crohn's disease vs rheumatoid arthritis (ordinary least squares (OLS))\"],\"xaxis\":\"x\",\"y\":[1.6402585979807258,1.5830603275088406,1.482288345499823,1.4325138876840866,1.272574036337505,0.984963902377938,0.9775913602115817,0.9122044413298313,0.842641478996516,0.7909473970684429,0.6385259090589651,0.48918144180040934,0.4522054722289846,0.3405357561394682],\"yaxis\":\"y\",\"type\":\"scatter\"},{\"customdata\":[[35,\"genetic, familial or congenital disease\",0.1035228209042789,\"CDKN2B;TRIB1\",\"FINNGEN_R6_E4_HYPERCHOL\",null]],\"hovertemplate\":\"trait_category=%{customdata[1]}\\u003cbr\\u003etrait_reported=%{x}\\u003cbr\\u003e-log10(p-value)=%{y}\\u003cbr\\u003eprogram_name=%{customdata[0]}\\u003cbr\\u003eP-value=%{customdata[2]}\\u003cbr\\u003eGenes=%{customdata[3]}\\u003cbr\\u003estudy_id=%{customdata[4]}\\u003cbr\\u003epmid=%{customdata[5]}\\u003cextra\\u003e\\u003c\\u002fextra\\u003e\",\"legendgroup\":\"genetic, familial or congenital disease\",\"marker\":{\"color\":\"#FF6692\",\"symbol\":\"circle\"},\"mode\":\"markers\",\"name\":\"genetic, familial or congenital disease\",\"orientation\":\"v\",\"showlegend\":true,\"x\":[\"Pure hypercholesterolaemia\"],\"xaxis\":\"x\",\"y\":[0.984963902377938],\"yaxis\":\"y\",\"type\":\"scatter\"},{\"customdata\":[[35,\"hematologic disease\",4.525237743588885e-05,\"PREX1;RORA;FRMD4A;CRYL1\",\"GCST006917\",\"PMID:30134812\"]],\"hovertemplate\":\"trait_category=%{customdata[1]}\\u003cbr\\u003etrait_reported=%{x}\\u003cbr\\u003e-log10(p-value)=%{y}\\u003cbr\\u003eprogram_name=%{customdata[0]}\\u003cbr\\u003eP-value=%{customdata[2]}\\u003cbr\\u003eGenes=%{customdata[3]}\\u003cbr\\u003estudy_id=%{customdata[4]}\\u003cbr\\u003epmid=%{customdata[5]}\\u003cextra\\u003e\\u003c\\u002fextra\\u003e\",\"legendgroup\":\"hematologic disease\",\"marker\":{\"color\":\"#B6E880\",\"symbol\":\"circle\"},\"mode\":\"markers\",\"name\":\"hematologic disease\",\"orientation\":\"v\",\"showlegend\":true,\"x\":[\"Monoclonal gammopathy of undetermined significance\"],\"xaxis\":\"x\",\"y\":[4.344358599217571],\"yaxis\":\"y\",\"type\":\"scatter\"},{\"customdata\":[[35,\"immune system disease\",0.0410391248039517,\"LPP;FOSL2;RORA;SMAD3\",\"GCST010984\",\"PMID:32603359\"],[35,\"immune system disease\",0.0453867547698603,\"LPP;FOSL2;RORA;SMAD3\",\"GCST010985\",\"PMID:32603359\"],[35,\"immune system disease\",0.0459635748168637,\"ZFP36L1;BATF3;VMP1;PKIA;ZBTB38;JAK1;LPP;PHACTR2;RND3;BCL10\",\"GCST009597\",\"PMID:31604244\"],[35,\"immune system disease\",0.1626317421057445,\"LPP;TNFRSF11B;PTPN22;SASH1\",\"GCST007071\",\"PMID:30595370\"]],\"hovertemplate\":\"trait_category=%{customdata[1]}\\u003cbr\\u003etrait_reported=%{x}\\u003cbr\\u003e-log10(p-value)=%{y}\\u003cbr\\u003eprogram_name=%{customdata[0]}\\u003cbr\\u003eP-value=%{customdata[2]}\\u003cbr\\u003eGenes=%{customdata[3]}\\u003cbr\\u003estudy_id=%{customdata[4]}\\u003cbr\\u003epmid=%{customdata[5]}\\u003cextra\\u003e\\u003c\\u002fextra\\u003e\",\"legendgroup\":\"immune system disease\",\"marker\":{\"color\":\"#FF97FF\",\"symbol\":\"circle\"},\"mode\":\"markers\",\"name\":\"immune system disease\",\"orientation\":\"v\",\"showlegend\":true,\"x\":[\"Allergic disease (asthma, hay fever and\\u002for eczema) (multivariate analysis)\",\"Allergic disease (asthma, hay fever and\\u002for eczema) (age of onset)\",\"Multiple sclerosis\",\"Autoimmune traits\"],\"xaxis\":\"x\",\"y\":[1.3868019095158122,1.3430708689409514,1.3375862014184259,0.7887946858269619],\"yaxis\":\"y\",\"type\":\"scatter\"},{\"customdata\":[[35,\"infectious disease\",0.2298656572349589,\"TMEM65\",\"GCST90095124\",\"PMID:34237774\"],[35,\"infectious disease\",0.4797104701937913,\"BATF3\",\"GCST002772\",\"PMID:25642632\"]],\"hovertemplate\":\"trait_category=%{customdata[1]}\\u003cbr\\u003etrait_reported=%{x}\\u003cbr\\u003e-log10(p-value)=%{y}\\u003cbr\\u003eprogram_name=%{customdata[0]}\\u003cbr\\u003eP-value=%{customdata[2]}\\u003cbr\\u003eGenes=%{customdata[3]}\\u003cbr\\u003estudy_id=%{customdata[4]}\\u003cbr\\u003epmid=%{customdata[5]}\\u003cextra\\u003e\\u003c\\u002fextra\\u003e\",\"legendgroup\":\"infectious disease\",\"marker\":{\"color\":\"#FECB52\",\"symbol\":\"circle\"},\"mode\":\"markers\",\"name\":\"infectious disease\",\"orientation\":\"v\",\"showlegend\":true,\"x\":[\"COVID-19 (hospitalized vs population)\",\"Leprosy\"],\"xaxis\":\"x\",\"y\":[0.6385259090589651,0.3190208024893572],\"yaxis\":\"y\",\"type\":\"scatter\"},{\"customdata\":[[35,\"injury, poisoning or other complication\",0.0053062999929258,\"PTPN22;FOSL2;SH2B3\",\"FINNGEN_R6_E4_DM1NASCOMP\",null],[35,\"injury, poisoning or other complication\",0.2531979910262229,\"CDKN2B;KLHL42;SPRY2\",\"FINNGEN_R6_E4_DM2NASCOMP\",null]],\"hovertemplate\":\"trait_category=%{customdata[1]}\\u003cbr\\u003etrait_reported=%{x}\\u003cbr\\u003e-log10(p-value)=%{y}\\u003cbr\\u003eprogram_name=%{customdata[0]}\\u003cbr\\u003eP-value=%{customdata[2]}\\u003cbr\\u003eGenes=%{customdata[3]}\\u003cbr\\u003estudy_id=%{customdata[4]}\\u003cbr\\u003epmid=%{customdata[5]}\\u003cextra\\u003e\\u003c\\u002fextra\\u003e\",\"legendgroup\":\"injury, poisoning or other complication\",\"marker\":{\"color\":\"#636efa\",\"symbol\":\"circle\"},\"mode\":\"markers\",\"name\":\"injury, poisoning or other complication\",\"orientation\":\"v\",\"showlegend\":true,\"x\":[\"Type 1 diabetes with other specified\\u002fmultiple\\u002funspecified complications\",\"Type 2 diabetes with other specified\\u002fmultiple\\u002funspecified complications\"],\"xaxis\":\"x\",\"y\":[2.275208200718303,0.5965397445065268],\"yaxis\":\"y\",\"type\":\"scatter\"},{\"customdata\":[[35,\"integumentary system disease\",0.0410391248039517,\"NAV2;DLC1;MYEOV;ERRFI1\",\"GCST90092000\",\"PMID:35132056\"],[35,\"integumentary system disease\",0.1020624334272215,\"ANKRD11;MEF2C;RALY;TANK\",\"GCST007086\",\"PMID:30595370\"],[35,\"integumentary system disease\",0.218841445562628,\"LPP;PTPN22;SH2B3\",\"GCST004785\",\"PMID:27723757\"],[35,\"integumentary system disease\",0.324204141364255,\"TIPARP\",\"FINNGEN_R6_L12_NONIONRADISKIN\",null],[35,\"integumentary system disease\",0.3361891804443679,\"ZBTB38;SMAD3\",\"GCST90086149\",\"PMID:34116867\"],[35,\"integumentary system disease\",0.8009159640476471,\"TRIM47\",\"GCST004346\",\"PMID:28537254\"]],\"hovertemplate\":\"trait_category=%{customdata[1]}\\u003cbr\\u003etrait_reported=%{x}\\u003cbr\\u003e-log10(p-value)=%{y}\\u003cbr\\u003eprogram_name=%{customdata[0]}\\u003cbr\\u003eP-value=%{customdata[2]}\\u003cbr\\u003eGenes=%{customdata[3]}\\u003cbr\\u003estudy_id=%{customdata[4]}\\u003cbr\\u003epmid=%{customdata[5]}\\u003cextra\\u003e\\u003c\\u002fextra\\u003e\",\"legendgroup\":\"integumentary system disease\",\"marker\":{\"color\":\"#EF553B\",\"symbol\":\"circle\"},\"mode\":\"markers\",\"name\":\"integumentary system disease\",\"orientation\":\"v\",\"showlegend\":true,\"x\":[\"acne vulgaris\",\"Sunburns\",\"Vitiligo\",\"Skin changes due to chronic exposure to nonionizing radiation\",\"Atopic dermatitis\",\"Psoriasis\"],\"xaxis\":\"x\",\"y\":[1.3868019095158122,0.9911340811986176,0.6598704251420592,0.48918144180040934,0.47341626754413446,0.09641304978967949],\"yaxis\":\"y\",\"type\":\"scatter\"},{\"customdata\":[[35,\"musculoskeletal or connective tissue disease\",0.0648964033989456,\"CREB5;PLXNA2\",\"GCST008789\",\"PMID:31417091\"],[35,\"musculoskeletal or connective tissue disease\",0.1035228209042789,\"KLHL42;SMAD3\",\"GCST006926_2\",\"PMID:30374069\"],[35,\"musculoskeletal or connective tissue disease\",0.1955882453753811,\"SMAD3\",\"GCST90018922\",\"PMID:34594039\"],[35,\"musculoskeletal or connective tissue disease\",0.2298656572349589,\"SMG6\",\"GCST90034520\",\"PMID:34450027\"],[35,\"musculoskeletal or connective tissue disease\",0.2626867510454282,\"PTPN22\",\"FINNGEN_R6_RHEUMA_SEROPOS_WIDE\",null],[35,\"musculoskeletal or connective tissue disease\",0.2941132173943117,\"ZFP36L1\",\"GCST90010715\",\"PMID:33106285\"],[35,\"musculoskeletal or connective tissue disease\",0.2941132173943117,\"PTPN22\",\"FINNGEN_R6_M13_POLYARTHROPATHIES\",null],[35,\"musculoskeletal or connective tissue disease\",0.324204141364255,\"ATP2B4\",\"FINNGEN_R6_M13_INTERVERTEB\",null],[35,\"musculoskeletal or connective tissue disease\",0.3806033286647947,\"KLHL42\",\"FINNGEN_R6_M13_ARTHTROSIS_COX_PRIM_HIPSURG\",null],[35,\"musculoskeletal or connective tissue disease\",0.563000789879418,\"MMP14\",\"GCST004858\",\"PMID:28886342\"],[35,\"musculoskeletal or connective tissue disease\",0.5816563452832254,\"KLHL42\",\"GCST90034524\",\"PMID:34450027\"],[35,\"musculoskeletal or connective tissue disease\",0.6765961425286219,\"DAP;ZFP36L1\",\"GCST90013534\",\"PMID:33310728\"]],\"hovertemplate\":\"trait_category=%{customdata[1]}\\u003cbr\\u003etrait_reported=%{x}\\u003cbr\\u003e-log10(p-value)=%{y}\\u003cbr\\u003eprogram_name=%{customdata[0]}\\u003cbr\\u003eP-value=%{customdata[2]}\\u003cbr\\u003eGenes=%{customdata[3]}\\u003cbr\\u003estudy_id=%{customdata[4]}\\u003cbr\\u003epmid=%{customdata[5]}\\u003cextra\\u003e\\u003c\\u002fextra\\u003e\",\"legendgroup\":\"musculoskeletal or connective tissue disease\",\"marker\":{\"color\":\"#00cc96\",\"symbol\":\"circle\"},\"mode\":\"markers\",\"name\":\"musculoskeletal or connective tissue disease\",\"orientation\":\"v\",\"showlegend\":true,\"x\":[\"Adolescent idiopathic scoliosis\",\"Osteoarthritis (hip) [additive]\",\"Spinal canal stenosis\",\"Osteoarthritis\",\"Seropositive rheumatoid arthritis, wide\",\"Arthritis (juvenile idiopathic)\",\"Polyarthropathies\",\"Other intervertebral disc disorders\",\"Coxarthrosis, primary, with hip surgery\",\"Dupuytren's disease\",\"Osteoarthritis (with total hip replacement)\",\"Rheumatoid arthritis\"],\"xaxis\":\"x\",\"y\":[1.1877793714164846,0.984963902377938,0.7086572493541795,0.6385259090589651,0.5805618308795676,0.5314854579396152,0.5314854579396152,0.48918144180040934,0.41952741779773484,0.24949099584131454,0.23533352983072964,0.16967048258012402],\"yaxis\":\"y\",\"type\":\"scatter\"},{\"customdata\":[[35,\"nervous system disease\",0.0050573444660314,\"CREB5;SMIM15;TCF4;CEP170;NAB2\",\"GCST90016618\",\"PMID:33686288\"],[35,\"nervous system disease\",0.0097824522701341,\"PPFIBP1;COL18A1;ADAMTS9\",\"GCST004138\",\"PMID:28256260\"],[35,\"nervous system disease\",0.0165975427511163,\"PRKD3;APP\",\"GCST012182\",\"PMID:34099642\"],[35,\"nervous system disease\",0.0447049781778906,\"CREB5;ANKRD44;ZSWIM6\",\"GCST90016619\",\"PMID:33686288\"],[35,\"nervous system disease\",0.0765993610993747,\"ITPKB;SIPA1L2;SNCA;MAP4K4\",\"GCST004902\",\"PMID:28892059\"],[35,\"nervous system disease\",0.0765993610993747,\"ITPKB;SIPA1L2;SNCA;MAP4K4\",\"GCST010991\",\"PMID:32201043\"],[35,\"nervous system disease\",0.0966980209496028,\"MEF2C;PCDH9;TCF4\",\"GCST006477\",\"PMID:29942085\"],[35,\"nervous system disease\",0.1955882453753811,\"CREB5\",\"GCST90016621\",\"PMID:33686288\"],[35,\"nervous system disease\",0.2244264772250237,\"SYNJ2;MAPK6\",\"NEALE2_2247_1\",null],[35,\"nervous system disease\",0.2403941031760683,\"TCF4;ZSWIM6\",\"GCST90016620\",\"PMID:33686288\"],[35,\"nervous system disease\",0.256412086948772,\"SYNJ2;AGO2\",\"GCST90012115\",\"PMID:32986727\"],[35,\"nervous system disease\",0.2626867510454282,\"MEF2C\",\"GCST010644\",\"PMID:32606422\"],[35,\"nervous system disease\",0.276513028792894,\"SDCCAG8;TCF4;ZSWIM6\",\"GCST90020095\",\"PMID:34159505\"],[35,\"nervous system disease\",0.2941132173943117,\"GPX3\",\"GCST90027164\",\"PMID:34873335\"],[35,\"nervous system disease\",0.3203646244422469,\"FERMT2;APP\",\"GCST90044699\",\"PMID:34493870\"],[35,\"nervous system disease\",0.3326882549630167,\"NOL4L;ABHD17C;NTM;NR2F2;TANK;FGFR1;PLXNA2;UTRN;DACH1;NFIB;SNRK;PDE4B;SIPA1L2;NLGN1;PTPRN2\",\"GCST90061435\",\"PMID:34446935\"],[35,\"nervous system disease\",0.3981943640577447,\"MEF2C;TCF4\",\"GCST006475\",\"PMID:29942085\"],[35,\"nervous system disease\",0.5816563452832254,\"ZSWIM6\",\"GCST90020094\",\"PMID:34159505\"],[35,\"nervous system disease\",0.7049729690863856,\"ANK3\",\"GCST012464\",\"PMID:34002096\"],[35,\"nervous system disease\",0.8253982211852733,\"SLC7A11\",\"GCST010017\",\"PMID:32231276\"],[35,\"nervous system disease\",0.8328726124016571,\"TCF4\",\"GCST012090\",\"PMID:33479212\"]],\"hovertemplate\":\"trait_category=%{customdata[1]}\\u003cbr\\u003etrait_reported=%{x}\\u003cbr\\u003e-log10(p-value)=%{y}\\u003cbr\\u003eprogram_name=%{customdata[0]}\\u003cbr\\u003eP-value=%{customdata[2]}\\u003cbr\\u003eGenes=%{customdata[3]}\\u003cbr\\u003estudy_id=%{customdata[4]}\\u003cbr\\u003epmid=%{customdata[5]}\\u003cextra\\u003e\\u003c\\u002fextra\\u003e\",\"legendgroup\":\"nervous system disease\",\"marker\":{\"color\":\"#ab63fa\",\"symbol\":\"circle\"},\"mode\":\"markers\",\"name\":\"nervous system disease\",\"orientation\":\"v\",\"showlegend\":true,\"x\":[\"Schizophrenia vs ADHD (ordinary least squares (OLS))\",\"Early-onset Parkinson's disease\",\"Alzheimer's disease\",\"Schizophrenia vs anorexia nervosa (ordinary least squares (OLS))\",\"Parkinson's disease\",\"Parkinson's disease\",\"Depression\",\"Schizophrenia vs bipolar disorder (ordinary least squares (OLS))\",\"Yes | hearing difficulty\\u002fproblems\",\"Schizophrenia vs autism spectrum disorder (ordinary least squares (OLS))\",\"Age-related hearing impairment (MTAG)\",\"Attention deficit hyperactivity disorder (MTAG)\",\"Schizophrenia (MTAG)\",\"Amyotrophic lateral sclerosis\",\"Late-onset Alzheimer's disease\",\"Externalizing behaviour (multivariate analysis)\",\"Depressed affect\",\"Bipolar disorder (MTAG)\",\"Bipolar I disorder\",\"Neuroticism\",\"Major depressive disorder (MTAG)\"],\"xaxis\":\"x\",\"y\":[2.29607746467836,2.0095522624017725,1.7799562040457058,1.3496441127784096,1.1157748527195268,1.1157748527195268,1.0145824142258106,0.7086572493541795,0.6489259075121685,0.6190761897038404,0.5910615065657392,0.5805618308795676,0.5582844007080987,0.5314854579396152,0.4943554459515032,0.47796253094599117,0.39990489115929606,0.23533352983072964,0.15182753492588247,0.08333647140511674,0.07942141871527841],\"yaxis\":\"y\",\"type\":\"scatter\"},{\"customdata\":[[35,\"pancreas disease\",0.0263539626474123,\"ORAI2;SPRY2;TCF4;KLHL42;PTPN22;CDKN2B\",\"FINNGEN_R6_DIABETES_FG\",null],[35,\"pancreas disease\",0.0521314496291095,\"SPRY2;LPP;ST6GAL1;CDKN2B;TLE1\",\"GCST007077\",\"PMID:30595370\"],[35,\"pancreas disease\",0.5995178386861355,\"SH2B3\",\"GCST005536\",\"PMID:25751624\"]],\"hovertemplate\":\"trait_category=%{customdata[1]}\\u003cbr\\u003etrait_reported=%{x}\\u003cbr\\u003e-log10(p-value)=%{y}\\u003cbr\\u003eprogram_name=%{customdata[0]}\\u003cbr\\u003eP-value=%{customdata[2]}\\u003cbr\\u003eGenes=%{customdata[3]}\\u003cbr\\u003estudy_id=%{customdata[4]}\\u003cbr\\u003epmid=%{customdata[5]}\\u003cextra\\u003e\\u003c\\u002fextra\\u003e\",\"legendgroup\":\"pancreas disease\",\"marker\":{\"color\":\"#FFA15A\",\"symbol\":\"circle\"},\"mode\":\"markers\",\"name\":\"pancreas disease\",\"orientation\":\"v\",\"showlegend\":true,\"x\":[\"Diabetes, varying definitions\",\"Type 2 diabetes\",\"Type 1 diabetes\"],\"xaxis\":\"x\",\"y\":[1.5791540739423342,1.2829001983960242,0.22219788991677206],\"yaxis\":\"y\",\"type\":\"scatter\"},{\"customdata\":[[35,\"phenotype\",0.0028421511631379,\"NTM;BMP2;CREB3L2;PCDH9;UTRN;CD47;ITPKB;PEAK1;RBMS1;ANK3;LRRC38;ZSWIM6;FRY;FLT1;NRIP1;RASSF2;RGS3;RORA;ADAMTS9;ZBTB38;SGK1;TCF4;AKAP13;ANKRD28\",\"GCST010002\",\"PMID:32231278\"],[35,\"phenotype\",0.0098352897859325,\"CREB5;ZFP36L1;RALY;TACC1;CD82;SGK1;ZBTB38;ARHGAP24;FOSL2\",\"GCST006988\",\"PMID:30531825\"],[35,\"phenotype\",0.0163462555258918,\"RORA;ACVRL1;BATF3;SMG6;SMAD3;NFATC2;ZBTB38;SERTAD2;CD47;FOSL2;CALCRL\",\"GCST007075\",\"PMID:30595370\"],[35,\"phenotype\",0.0826306952048748,\"ITGA6;NFATC2;ERRFI1;SGK1\",\"GCST90018939\",\"PMID:34594039\"],[35,\"phenotype\",0.1294224960324538,\"FLT1;NTM;NRIP1;ZBTB38;ANTXR2\",\"GCST006290\",\"PMID:29808027\"],[35,\"phenotype\",0.1772016518459501,\"KRT8;FRMD6\",\"GCST004166\",\"PMID:28232668\"],[35,\"phenotype\",0.1927894958068983,\"ZNF385D;NLGN1\",\"GCST002759\",\"PMID:25628336\"],[35,\"phenotype\",0.1927894958068983,\"GJA1;MACF1\",\"GCST005337\",\"PMID:29397368\"],[35,\"phenotype\",0.1955882453753811,\"DYSF\",\"FINNGEN_R6_M13_HALLUXVALGUS\",null],[35,\"phenotype\",0.2085452372070686,\"MMP14;LPIN1\",\"SAIGE_728_7\",null],[35,\"phenotype\",0.2298656572349589,\"CALD1\",\"SAIGE_550_2\",null],[35,\"phenotype\",0.2403941031760683,\"TCF4;AGO2\",\"NEALE2_1920\",null],[35,\"phenotype\",0.2626867510454282,\"FOXF1\",\"GCST009356\",\"PMID:31609978\"],[35,\"phenotype\",0.2724472945657215,\"ZFP36L1;TCF4\",\"GCST006586\",\"PMID:30220432\"],[35,\"phenotype\",0.2941132173943117,\"AGO2\",\"NEALE2_2257\",null],[35,\"phenotype\",0.3044502467361865,\"MEF2C;PCDH9\",\"GCST003992\",\"PMID:27182965\"],[35,\"phenotype\",0.328713890332058,\"FOSL2;ERRFI1;ZBTB38;VMP1\",\"NEALE2_1717\",null],[35,\"phenotype\",0.3530161122492894,\"SPRY2\",\"GCST004051\",\"PMID:28054174\"],[35,\"phenotype\",0.3530161122492894,\"TRIB1\",\"GCST008791\",\"PMID:31511532\"],[35,\"phenotype\",0.413289499528909,\"CFDP1;CDKN2B\",\"GCST90018793\",\"PMID:34594039\"],[35,\"phenotype\",0.413289499528909,\"NTM;ZBTB38\",\"GCST003997\",\"PMID:27182965\"],[35,\"phenotype\",0.4323089391056177,\"CDKN2B\",\"GCST005843\",\"PMID:29531354\"],[35,\"phenotype\",0.4797104701937913,\"MEF2C\",\"GCST90012794\",\"PMID:33563987\"],[35,\"phenotype\",0.4797104701937913,\"MEF2C\",\"NEALE2_1940\",null],[35,\"phenotype\",0.4797104701937913,\"CREB5\",\"FINNGEN_R6_H7_CATARACTSENILE\",null],[35,\"phenotype\",0.5064732131149716,\"TRIB1;PPP1R3B;SLC4A8\",\"GCST90038690\",\"PMID:33959723\"],[35,\"phenotype\",0.5435159849282323,\"ZBTB38\",\"GCST012400\",\"PMID:33830181\"],[35,\"phenotype\",0.563000789879418,\"RALY\",\"GCST005897\",\"PMID:29739929\"],[35,\"phenotype\",0.5816563452832254,\"SMAD3\",\"FINNGEN_R6_K11_HERNIA\",null],[35,\"phenotype\",0.5995178386861355,\"PPP1R3B\",\"GCST001639\",\"PMID:22916037\"],[35,\"phenotype\",0.6329920090394177,\"NDRG1\",\"GCST90013421\",\"PMID:32989287\"],[35,\"phenotype\",0.6918021194920279,\"PTPRN2\",\"GCST001712\",\"PMID:23049088\"],[35,\"phenotype\",0.7412126816702265,\"UTRN\",\"GCST008512\",\"PMID:31194737\"],[35,\"phenotype\",0.7412126816702265,\"UTRN\",\"GCST012332\",\"PMID:33830993\"]],\"hovertemplate\":\"trait_category=%{customdata[1]}\\u003cbr\\u003etrait_reported=%{x}\\u003cbr\\u003e-log10(p-value)=%{y}\\u003cbr\\u003eprogram_name=%{customdata[0]}\\u003cbr\\u003eP-value=%{customdata[2]}\\u003cbr\\u003eGenes=%{customdata[3]}\\u003cbr\\u003estudy_id=%{customdata[4]}\\u003cbr\\u003epmid=%{customdata[5]}\\u003cextra\\u003e\\u003c\\u002fextra\\u003e\",\"legendgroup\":\"phenotype\",\"marker\":{\"color\":\"#19d3f3\",\"symbol\":\"circle\"},\"mode\":\"markers\",\"name\":\"phenotype\",\"orientation\":\"v\",\"showlegend\":true,\"x\":[\"Refractive error\",\"Blond vs. brown\\u002fblack hair color\",\"Eczema\",\"Varicose veins\",\"Myopia (age of diagnosis)\",\"Nonsyndromic cleft lip with cleft palate\",\"Motion sickness\",\"Headache\",\"Hallux valgus (acquired)\",\"Fasciitis\",\"Diaphragmatic hernia\",\"Mood swings\",\"Nonsyndromic cleft palate\",\"Urinary albumin excretion\",\"Hearing difficulty\\u002fproblems with background noise\",\"Photic sneeze reflex\",\"Skin colour\",\"Orofacial clefts\",\"Microalbuminuria\",\"Angina pectoris\",\"Myopia\",\"Ischemic stroke\",\"Participation in an health questionnaire (not invited vs invited)\",\"Irritability\",\"Senile cataract\",\"High cholesterol\",\"Low myopia vs hyperopia\",\"Low tan response\",\"Hernia\",\"Metabolite levels\",\"Left-handedness\",\"Myopia (pathological)\",\"Multisite chronic pain\",\"Multisite chronic pain\"],\"xaxis\":\"x\",\"y\":[2.5463528273336693,2.007212839549693,1.7865817164402569,1.0828585933361272,0.887990228662566,0.7515322340051904,0.7149166324527796,0.7149166324527796,0.7086572493541795,0.6807997241989133,0.6385259090589651,0.6190761897038404,0.5805618308795676,0.5647175003347009,0.5314854579396152,0.5164836696432216,0.48318194372152,0.4522054722289846,0.4522054722289846,0.38374562872405904,0.38374562872405904,0.36420578421165173,0.3190208024893572,0.3190208024893572,0.3190208024893572,0.2954435191171053,0.26478767869077113,0.24949099584131454,0.23533352983072964,0.22219788991677206,0.1986017725292349,0.16001811176039385,0.1300571587915037,0.1300571587915037],\"yaxis\":\"y\",\"type\":\"scatter\"},{\"customdata\":[[35,\"reproductive system or breast disease\",0.2941132173943117,\"CDKN2B\",\"FINNGEN_R6_N14_ENDOMETRIOSIS_OVARY\",null],[35,\"reproductive system or breast disease\",0.3806033286647947,\"CDKN2B\",\"GCST004549\",\"PMID:28537267\"]],\"hovertemplate\":\"trait_category=%{customdata[1]}\\u003cbr\\u003etrait_reported=%{x}\\u003cbr\\u003e-log10(p-value)=%{y}\\u003cbr\\u003eprogram_name=%{customdata[0]}\\u003cbr\\u003eP-value=%{customdata[2]}\\u003cbr\\u003eGenes=%{customdata[3]}\\u003cbr\\u003estudy_id=%{customdata[4]}\\u003cbr\\u003epmid=%{customdata[5]}\\u003cextra\\u003e\\u003c\\u002fextra\\u003e\",\"legendgroup\":\"reproductive system or breast disease\",\"marker\":{\"color\":\"#FF6692\",\"symbol\":\"circle\"},\"mode\":\"markers\",\"name\":\"reproductive system or breast disease\",\"orientation\":\"v\",\"showlegend\":true,\"x\":[\"Endometriosis of ovary\",\"Endometriosis\"],\"xaxis\":\"x\",\"y\":[0.5314854579396152,0.41952741779773484],\"yaxis\":\"y\",\"type\":\"scatter\"},{\"customdata\":[[35,\"respiratory or thoracic disease\",0.0069397583143442,\"RORA;SMAD3;NFATC2;LPP;FOSL2\",\"GCST006409\",\"PMID:30013184\"],[35,\"respiratory or thoracic disease\",0.0110696979199798,\"CFDP1;TNPO1;MFAP2;THSD4;MFHAS1;ZBTB38;PRSS23\",\"GCST007692\",\"PMID:30804561\"],[35,\"respiratory or thoracic disease\",0.0196325185308175,\"DOCK4;RORA;SMAD3\",\"FINNGEN_R6_J10_LOWCHRON\",null],[35,\"respiratory or thoracic disease\",0.0447049781778906,\"RORA;SMAD3;MAP4K4\",\"GCST009842\",\"PMID:31669095\"],[35,\"respiratory or thoracic disease\",0.0766875165099084,\"ZFP36L1;RORA;SMAD3;ITPKB;GJA1;LPP\",\"GCST007076\",\"PMID:30595370\"],[35,\"respiratory or thoracic disease\",0.1175045379665225,\"LPP;SMAD3\",\"GCST007797\",\"PMID:30929738\"],[35,\"respiratory or thoracic disease\",0.1618276035777869,\"RORA;SMAD3\",\"NEALE2_20002_1387\",null],[35,\"respiratory or thoracic disease\",0.1618276035777869,\"RORA;SMAD3\",\"FINNGEN_R6_J10_ASTHMACOPDKELA\",null],[35,\"respiratory or thoracic disease\",0.1879598571126494,\"RORA;BATF3;SMAD3;ITPKB;CD70;ZBTB38;LPP\",\"GCST010043\",\"PMID:32296059\"],[35,\"respiratory or thoracic disease\",0.2244264772250237,\"LPP;SMAD3\",\"GCST90018895\",\"PMID:34594039\"],[35,\"respiratory or thoracic disease\",0.3118297776860123,\"LPP;RORA;SMAD3\",\"GCST009850\",\"PMID:31669095\"],[35,\"respiratory or thoracic disease\",0.4565246622701632,\"SMAD3\",\"FINNGEN_R6_J10_UPPERDIS\",null],[35,\"respiratory or thoracic disease\",0.546628632002245,\"SMAD3;ZBTB38;RORA;BATF3\",\"GCST009717\",\"PMID:31361310\"]],\"hovertemplate\":\"trait_category=%{customdata[1]}\\u003cbr\\u003etrait_reported=%{x}\\u003cbr\\u003e-log10(p-value)=%{y}\\u003cbr\\u003eprogram_name=%{customdata[0]}\\u003cbr\\u003eP-value=%{customdata[2]}\\u003cbr\\u003eGenes=%{customdata[3]}\\u003cbr\\u003estudy_id=%{customdata[4]}\\u003cbr\\u003epmid=%{customdata[5]}\\u003cextra\\u003e\\u003c\\u002fextra\\u003e\",\"legendgroup\":\"respiratory or thoracic disease\",\"marker\":{\"color\":\"#B6E880\",\"symbol\":\"circle\"},\"mode\":\"markers\",\"name\":\"respiratory or thoracic disease\",\"orientation\":\"v\",\"showlegend\":true,\"x\":[\"Allergic rhinitis\",\"Chronic obstructive pulmonary disease\",\"Chronic lower respiratory diseases\",\"Asthma (adult onset)\",\"Respiratory diseases\",\"Asthma onset (childhood vs adult)\",\"Hayfever\\u002fallergic rhinitis | non-cancer illness code, self-reported\",\"Asthma\\u002fCOPD (KELA code 203)\",\"Asthma\",\"Pediatric asthma\",\"Atopic asthma\",\"Other diseases of upper respiratory tract\",\"Hay fever and\\u002for eczema\"],\"xaxis\":\"x\",\"y\":[2.1586556541235855,1.9558642303837783,1.7070239839518915,1.3496441127784096,1.115275326430484,0.9299453608325566,0.7909473970684429,0.7909473970684429,0.7259348938002429,0.6489259075121685,0.506082414909764,0.3405357561394682,0.26230762402478064],\"yaxis\":\"y\",\"type\":\"scatter\"},{\"customdata\":[[35,\"urinary system disease\",0.4797104701937913,\"DACH1\",\"GCST000649_3\",\"PMID:20383146\"],[35,\"urinary system disease\",0.563000789879418,\"SDCCAG8\",\"GCST008064\",\"PMID:31152163\"],[35,\"urinary system disease\",0.9488259106248048,\"ELF1\",\"GCST011956\",\"PMID:33272962\"]],\"hovertemplate\":\"trait_category=%{customdata[1]}\\u003cbr\\u003etrait_reported=%{x}\\u003cbr\\u003e-log10(p-value)=%{y}\\u003cbr\\u003eprogram_name=%{customdata[0]}\\u003cbr\\u003eP-value=%{customdata[2]}\\u003cbr\\u003eGenes=%{customdata[3]}\\u003cbr\\u003estudy_id=%{customdata[4]}\\u003cbr\\u003epmid=%{customdata[5]}\\u003cextra\\u003e\\u003c\\u002fextra\\u003e\",\"legendgroup\":\"urinary system disease\",\"marker\":{\"color\":\"#FF97FF\",\"symbol\":\"circle\"},\"mode\":\"markers\",\"name\":\"urinary system disease\",\"orientation\":\"v\",\"showlegend\":true,\"x\":[\"Chronic kidney disease [eGFRcrea]\",\"Chronic kidney disease\",\"Systemic lupus erythematosus\"],\"xaxis\":\"x\",\"y\":[0.3190208024893572,0.24949099584131454,0.02281346406441718],\"yaxis\":\"y\",\"type\":\"scatter\"}],                        {\"template\":{\"data\":{\"histogram2dcontour\":[{\"type\":\"histogram2dcontour\",\"colorbar\":{\"outlinewidth\":0,\"ticks\":\"\"},\"colorscale\":[[0.0,\"#0d0887\"],[0.1111111111111111,\"#46039f\"],[0.2222222222222222,\"#7201a8\"],[0.3333333333333333,\"#9c179e\"],[0.4444444444444444,\"#bd3786\"],[0.5555555555555556,\"#d8576b\"],[0.6666666666666666,\"#ed7953\"],[0.7777777777777778,\"#fb9f3a\"],[0.8888888888888888,\"#fdca26\"],[1.0,\"#f0f921\"]]}],\"choropleth\":[{\"type\":\"choropleth\",\"colorbar\":{\"outlinewidth\":0,\"ticks\":\"\"}}],\"histogram2d\":[{\"type\":\"histogram2d\",\"colorbar\":{\"outlinewidth\":0,\"ticks\":\"\"},\"colorscale\":[[0.0,\"#0d0887\"],[0.1111111111111111,\"#46039f\"],[0.2222222222222222,\"#7201a8\"],[0.3333333333333333,\"#9c179e\"],[0.4444444444444444,\"#bd3786\"],[0.5555555555555556,\"#d8576b\"],[0.6666666666666666,\"#ed7953\"],[0.7777777777777778,\"#fb9f3a\"],[0.8888888888888888,\"#fdca26\"],[1.0,\"#f0f921\"]]}],\"heatmap\":[{\"type\":\"heatmap\",\"colorbar\":{\"outlinewidth\":0,\"ticks\":\"\"},\"colorscale\":[[0.0,\"#0d0887\"],[0.1111111111111111,\"#46039f\"],[0.2222222222222222,\"#7201a8\"],[0.3333333333333333,\"#9c179e\"],[0.4444444444444444,\"#bd3786\"],[0.5555555555555556,\"#d8576b\"],[0.6666666666666666,\"#ed7953\"],[0.7777777777777778,\"#fb9f3a\"],[0.8888888888888888,\"#fdca26\"],[1.0,\"#f0f921\"]]}],\"heatmapgl\":[{\"type\":\"heatmapgl\",\"colorbar\":{\"outlinewidth\":0,\"ticks\":\"\"},\"colorscale\":[[0.0,\"#0d0887\"],[0.1111111111111111,\"#46039f\"],[0.2222222222222222,\"#7201a8\"],[0.3333333333333333,\"#9c179e\"],[0.4444444444444444,\"#bd3786\"],[0.5555555555555556,\"#d8576b\"],[0.6666666666666666,\"#ed7953\"],[0.7777777777777778,\"#fb9f3a\"],[0.8888888888888888,\"#fdca26\"],[1.0,\"#f0f921\"]]}],\"contourcarpet\":[{\"type\":\"contourcarpet\",\"colorbar\":{\"outlinewidth\":0,\"ticks\":\"\"}}],\"contour\":[{\"type\":\"contour\",\"colorbar\":{\"outlinewidth\":0,\"ticks\":\"\"},\"colorscale\":[[0.0,\"#0d0887\"],[0.1111111111111111,\"#46039f\"],[0.2222222222222222,\"#7201a8\"],[0.3333333333333333,\"#9c179e\"],[0.4444444444444444,\"#bd3786\"],[0.5555555555555556,\"#d8576b\"],[0.6666666666666666,\"#ed7953\"],[0.7777777777777778,\"#fb9f3a\"],[0.8888888888888888,\"#fdca26\"],[1.0,\"#f0f921\"]]}],\"surface\":[{\"type\":\"surface\",\"colorbar\":{\"outlinewidth\":0,\"ticks\":\"\"},\"colorscale\":[[0.0,\"#0d0887\"],[0.1111111111111111,\"#46039f\"],[0.2222222222222222,\"#7201a8\"],[0.3333333333333333,\"#9c179e\"],[0.4444444444444444,\"#bd3786\"],[0.5555555555555556,\"#d8576b\"],[0.6666666666666666,\"#ed7953\"],[0.7777777777777778,\"#fb9f3a\"],[0.8888888888888888,\"#fdca26\"],[1.0,\"#f0f921\"]]}],\"mesh3d\":[{\"type\":\"mesh3d\",\"colorbar\":{\"outlinewidth\":0,\"ticks\":\"\"}}],\"scatter\":[{\"fillpattern\":{\"fillmode\":\"overlay\",\"size\":10,\"solidity\":0.2},\"type\":\"scatter\"}],\"parcoords\":[{\"type\":\"parcoords\",\"line\":{\"colorbar\":{\"outlinewidth\":0,\"ticks\":\"\"}}}],\"scatterpolargl\":[{\"type\":\"scatterpolargl\",\"marker\":{\"colorbar\":{\"outlinewidth\":0,\"ticks\":\"\"}}}],\"bar\":[{\"error_x\":{\"color\":\"#2a3f5f\"},\"error_y\":{\"color\":\"#2a3f5f\"},\"marker\":{\"line\":{\"color\":\"#E5ECF6\",\"width\":0.5},\"pattern\":{\"fillmode\":\"overlay\",\"size\":10,\"solidity\":0.2}},\"type\":\"bar\"}],\"scattergeo\":[{\"type\":\"scattergeo\",\"marker\":{\"colorbar\":{\"outlinewidth\":0,\"ticks\":\"\"}}}],\"scatterpolar\":[{\"type\":\"scatterpolar\",\"marker\":{\"colorbar\":{\"outlinewidth\":0,\"ticks\":\"\"}}}],\"histogram\":[{\"marker\":{\"pattern\":{\"fillmode\":\"overlay\",\"size\":10,\"solidity\":0.2}},\"type\":\"histogram\"}],\"scattergl\":[{\"type\":\"scattergl\",\"marker\":{\"colorbar\":{\"outlinewidth\":0,\"ticks\":\"\"}}}],\"scatter3d\":[{\"type\":\"scatter3d\",\"line\":{\"colorbar\":{\"outlinewidth\":0,\"ticks\":\"\"}},\"marker\":{\"colorbar\":{\"outlinewidth\":0,\"ticks\":\"\"}}}],\"scattermapbox\":[{\"type\":\"scattermapbox\",\"marker\":{\"colorbar\":{\"outlinewidth\":0,\"ticks\":\"\"}}}],\"scatterternary\":[{\"type\":\"scatterternary\",\"marker\":{\"colorbar\":{\"outlinewidth\":0,\"ticks\":\"\"}}}],\"scattercarpet\":[{\"type\":\"scattercarpet\",\"marker\":{\"colorbar\":{\"outlinewidth\":0,\"ticks\":\"\"}}}],\"carpet\":[{\"aaxis\":{\"endlinecolor\":\"#2a3f5f\",\"gridcolor\":\"white\",\"linecolor\":\"white\",\"minorgridcolor\":\"white\",\"startlinecolor\":\"#2a3f5f\"},\"baxis\":{\"endlinecolor\":\"#2a3f5f\",\"gridcolor\":\"white\",\"linecolor\":\"white\",\"minorgridcolor\":\"white\",\"startlinecolor\":\"#2a3f5f\"},\"type\":\"carpet\"}],\"table\":[{\"cells\":{\"fill\":{\"color\":\"#EBF0F8\"},\"line\":{\"color\":\"white\"}},\"header\":{\"fill\":{\"color\":\"#C8D4E3\"},\"line\":{\"color\":\"white\"}},\"type\":\"table\"}],\"barpolar\":[{\"marker\":{\"line\":{\"color\":\"#E5ECF6\",\"width\":0.5},\"pattern\":{\"fillmode\":\"overlay\",\"size\":10,\"solidity\":0.2}},\"type\":\"barpolar\"}],\"pie\":[{\"automargin\":true,\"type\":\"pie\"}]},\"layout\":{\"autotypenumbers\":\"strict\",\"colorway\":[\"#636efa\",\"#EF553B\",\"#00cc96\",\"#ab63fa\",\"#FFA15A\",\"#19d3f3\",\"#FF6692\",\"#B6E880\",\"#FF97FF\",\"#FECB52\"],\"font\":{\"color\":\"#2a3f5f\"},\"hovermode\":\"closest\",\"hoverlabel\":{\"align\":\"left\"},\"paper_bgcolor\":\"white\",\"plot_bgcolor\":\"#E5ECF6\",\"polar\":{\"bgcolor\":\"#E5ECF6\",\"angularaxis\":{\"gridcolor\":\"white\",\"linecolor\":\"white\",\"ticks\":\"\"},\"radialaxis\":{\"gridcolor\":\"white\",\"linecolor\":\"white\",\"ticks\":\"\"}},\"ternary\":{\"bgcolor\":\"#E5ECF6\",\"aaxis\":{\"gridcolor\":\"white\",\"linecolor\":\"white\",\"ticks\":\"\"},\"baxis\":{\"gridcolor\":\"white\",\"linecolor\":\"white\",\"ticks\":\"\"},\"caxis\":{\"gridcolor\":\"white\",\"linecolor\":\"white\",\"ticks\":\"\"}},\"coloraxis\":{\"colorbar\":{\"outlinewidth\":0,\"ticks\":\"\"}},\"colorscale\":{\"sequential\":[[0.0,\"#0d0887\"],[0.1111111111111111,\"#46039f\"],[0.2222222222222222,\"#7201a8\"],[0.3333333333333333,\"#9c179e\"],[0.4444444444444444,\"#bd3786\"],[0.5555555555555556,\"#d8576b\"],[0.6666666666666666,\"#ed7953\"],[0.7777777777777778,\"#fb9f3a\"],[0.8888888888888888,\"#fdca26\"],[1.0,\"#f0f921\"]],\"sequentialminus\":[[0.0,\"#0d0887\"],[0.1111111111111111,\"#46039f\"],[0.2222222222222222,\"#7201a8\"],[0.3333333333333333,\"#9c179e\"],[0.4444444444444444,\"#bd3786\"],[0.5555555555555556,\"#d8576b\"],[0.6666666666666666,\"#ed7953\"],[0.7777777777777778,\"#fb9f3a\"],[0.8888888888888888,\"#fdca26\"],[1.0,\"#f0f921\"]],\"diverging\":[[0,\"#8e0152\"],[0.1,\"#c51b7d\"],[0.2,\"#de77ae\"],[0.3,\"#f1b6da\"],[0.4,\"#fde0ef\"],[0.5,\"#f7f7f7\"],[0.6,\"#e6f5d0\"],[0.7,\"#b8e186\"],[0.8,\"#7fbc41\"],[0.9,\"#4d9221\"],[1,\"#276419\"]]},\"xaxis\":{\"gridcolor\":\"white\",\"linecolor\":\"white\",\"ticks\":\"\",\"title\":{\"standoff\":15},\"zerolinecolor\":\"white\",\"automargin\":true,\"zerolinewidth\":2},\"yaxis\":{\"gridcolor\":\"white\",\"linecolor\":\"white\",\"ticks\":\"\",\"title\":{\"standoff\":15},\"zerolinecolor\":\"white\",\"automargin\":true,\"zerolinewidth\":2},\"scene\":{\"xaxis\":{\"backgroundcolor\":\"#E5ECF6\",\"gridcolor\":\"white\",\"linecolor\":\"white\",\"showbackground\":true,\"ticks\":\"\",\"zerolinecolor\":\"white\",\"gridwidth\":2},\"yaxis\":{\"backgroundcolor\":\"#E5ECF6\",\"gridcolor\":\"white\",\"linecolor\":\"white\",\"showbackground\":true,\"ticks\":\"\",\"zerolinecolor\":\"white\",\"gridwidth\":2},\"zaxis\":{\"backgroundcolor\":\"#E5ECF6\",\"gridcolor\":\"white\",\"linecolor\":\"white\",\"showbackground\":true,\"ticks\":\"\",\"zerolinecolor\":\"white\",\"gridwidth\":2}},\"shapedefaults\":{\"line\":{\"color\":\"#2a3f5f\"}},\"annotationdefaults\":{\"arrowcolor\":\"#2a3f5f\",\"arrowhead\":0,\"arrowwidth\":1},\"geo\":{\"bgcolor\":\"white\",\"landcolor\":\"#E5ECF6\",\"subunitcolor\":\"white\",\"showland\":true,\"showlakes\":true,\"lakecolor\":\"white\"},\"title\":{\"x\":0.05},\"mapbox\":{\"style\":\"light\"}}},\"xaxis\":{\"anchor\":\"y\",\"domain\":[0.0,1.0],\"title\":{\"text\":\"trait_reported\"},\"tickfont\":{\"size\":4}},\"yaxis\":{\"anchor\":\"x\",\"domain\":[0.0,1.0],\"title\":{\"text\":\"-log10(p-value)\"},\"tickformat\":\".1f\"},\"legend\":{\"title\":{\"text\":\"trait_category\"},\"tracegroupgap\":0},\"title\":{\"text\":\"Endothelial Cell Programs x GWAS Binary Outcome Enrichments\"},\"width\":1000,\"height\":800,\"shapes\":[{\"line\":{\"dash\":\"dash\"},\"type\":\"line\",\"x0\":0,\"x1\":1,\"xref\":\"x domain\",\"y0\":1.3010299956639813,\"y1\":1.3010299956639813,\"yref\":\"y\"}],\"annotations\":[{\"showarrow\":false,\"text\":\"Significance Threshold (0.05)\",\"x\":1,\"xanchor\":\"right\",\"xref\":\"x domain\",\"y\":1.3010299956639813,\"yanchor\":\"bottom\",\"yref\":\"y\"}]},                        {\"responsive\": true}                    ).then(function(){\n",
       "                            \n",
       "var gd = document.getElementById('51fdd0e6-5fbe-44a3-8753-a9a59ca282b7');\n",
       "var x = new MutationObserver(function (mutations, observer) {{\n",
       "        var display = window.getComputedStyle(gd).display;\n",
       "        if (!display || display === 'none') {{\n",
       "            console.log([gd, 'removed!']);\n",
       "            Plotly.purge(gd);\n",
       "            observer.disconnect();\n",
       "        }}\n",
       "}});\n",
       "\n",
       "// Listen for the removal of the full notebook cells\n",
       "var notebookContainer = gd.closest('#notebook-container');\n",
       "if (notebookContainer) {{\n",
       "    x.observe(notebookContainer, {childList: true});\n",
       "}}\n",
       "\n",
       "// Listen for the clearing of the current output cell\n",
       "var outputEl = gd.closest('.output');\n",
       "if (outputEl) {{\n",
       "    x.observe(outputEl, {childList: true});\n",
       "}}\n",
       "\n",
       "                        })                };                });            </script>        </div>"
      ]
     },
     "metadata": {},
     "output_type": "display_data"
    },
    {
     "data": {
      "application/vnd.plotly.v1+json": {
       "config": {
        "plotlyServerURL": "https://plot.ly"
       },
       "data": [
        {
         "customdata": [
          [
           19,
           "biological process",
           0.0017764883074341,
           "PIR;LDLR;IRF2BP2;HMGCR;PNPLA3;LIPG;VEGFA",
           "FINNGEN_R6_RX_STATIN",
           null
          ],
          [
           19,
           "biological process",
           0.1343400831032873,
           "EPAS1",
           "GCST006054",
           "PMID:28373541"
          ],
          [
           19,
           "biological process",
           0.3114186984457615,
           "PCYOX1;TFB1M;NR2F1;IRF2BP2;SYT1;MARCKS;PTPN1;CBX5;CACNB1;HABP4;BNIP3L;MNT;DUSP6;NFIB;LONRF1;PDIA6;MTFR1;PTPRN2",
           "GCST006568",
           "PMID:30038396"
          ],
          [
           19,
           "biological process",
           0.6364585961150973,
           "AKAP12",
           "NEALE2_1757",
           null
          ],
          [
           19,
           "biological process",
           0.7647169252273888,
           "LONRF1",
           "GCST007464",
           "PMID:30643251"
          ],
          [
           19,
           "biological process",
           0.7823644484645602,
           "LBR;FRY;RAB3C",
           "GCST006660",
           "PMID:30348214"
          ],
          [
           19,
           "biological process",
           0.8052074518987202,
           "YWHAZ;PLXNA2;LRP8",
           "GCST007325",
           "PMID:30643258"
          ],
          [
           19,
           "biological process",
           0.8958060820939588,
           "SYT1",
           "GCST006269",
           "PMID:29844566"
          ],
          [
           19,
           "biological process",
           0.9346715046595316,
           "PLXNA2",
           "GCST007327",
           "PMID:30643258"
          ]
         ],
         "hovertemplate": "trait_category=%{customdata[1]}<br>trait_reported=%{x}<br>-log10(p-value)=%{y}<br>program_name=%{customdata[0]}<br>P-value=%{customdata[2]}<br>Genes=%{customdata[3]}<br>study_id=%{customdata[4]}<br>pmid=%{customdata[5]}<extra></extra>",
         "legendgroup": "biological process",
         "marker": {
          "color": "#636efa",
          "symbol": "circle"
         },
         "mode": "markers",
         "name": "biological process",
         "orientation": "v",
         "showlegend": true,
         "type": "scatter",
         "x": [
          "Statin medication",
          "High altitude adaptation",
          "Highest math class taken (MTAG) [MTAG]",
          "Facial ageing",
          "Smoking cessation (MTAG)",
          "DNA methylation variation (age effect)",
          "General risk tolerance (MTAG)",
          "General cognitive ability",
          "Smoking status (ever vs never smokers)"
         ],
         "xaxis": "x",
         "y": [
          2.750437646623041,
          0.8717943873810217,
          0.5066553147350892,
          0.1962298434849674,
          0.11649929760822468,
          0.10659089261010384,
          0.09409221452913771,
          0.047785993229935854,
          0.029340997449113893
         ],
         "yaxis": "y"
        },
        {
         "customdata": [
          [
           19,
           "cardiovascular disease",
           0.0201244224746658,
           "CDKN1A;LIPA",
           "GCST011496",
           "PMID:32981348"
          ],
          [
           19,
           "cardiovascular disease",
           0.0440297257759461,
           "CDKN1A;SQLE",
           "GCST011202",
           "PMID:33495596"
          ],
          [
           19,
           "cardiovascular disease",
           0.1283084629236031,
           "DPYSL2;UBASH3B;CLCN6;CLIC4;GLI2;NPC1;HSD17B12;VEGFA",
           "GCST007072",
           "PMID:30595370"
          ],
          [
           19,
           "cardiovascular disease",
           0.1343400831032873,
           "CDKN1A",
           "GCST012099",
           "PMID:33495597"
          ],
          [
           19,
           "cardiovascular disease",
           0.1485496708304558,
           "GLCE;CLCN6;SYT1",
           "FINNGEN_R6_RX_ANTIHYP",
           null
          ],
          [
           19,
           "cardiovascular disease",
           0.1833951163905241,
           "SCARB1;LIPA;VEGFA",
           "GCST005195",
           "PMID:29212778"
          ],
          [
           19,
           "cardiovascular disease",
           0.1984024628911286,
           "NUCKS1;SMIM29;CDKN1A;SQLE",
           "GCST006061",
           "PMID:29892015"
          ],
          [
           19,
           "cardiovascular disease",
           0.2507048273189083,
           "CDKN1A",
           "GCST009541",
           "PMID:31919418"
          ],
          [
           19,
           "cardiovascular disease",
           0.4703169934611635,
           "CDKN1A",
           "FINNGEN_R6_CARDIAC_ARRHYTM",
           null
          ],
          [
           19,
           "cardiovascular disease",
           0.5143547315191779,
           "CLCN6",
           "FINNGEN_R6_I9_IHD",
           null
          ],
          [
           19,
           "cardiovascular disease",
           0.5547466477670275,
           "TGFBR2",
           "GCST003720",
           "PMID:27322543"
          ],
          [
           19,
           "cardiovascular disease",
           0.8188532174755944,
           "LIPA",
           "GCST011365",
           "PMID:33532862"
          ],
          [
           19,
           "cardiovascular disease",
           0.8522214423029417,
           "SRBD1",
           "GCST90014033",
           "PMID:33888516"
          ]
         ],
         "hovertemplate": "trait_category=%{customdata[1]}<br>trait_reported=%{x}<br>-log10(p-value)=%{y}<br>program_name=%{customdata[0]}<br>P-value=%{customdata[2]}<br>Genes=%{customdata[3]}<br>study_id=%{customdata[4]}<br>pmid=%{customdata[5]}<extra></extra>",
         "legendgroup": "cardiovascular disease",
         "marker": {
          "color": "#EF553B",
          "symbol": "circle"
         },
         "mode": "markers",
         "name": "cardiovascular disease",
         "orientation": "v",
         "showlegend": true,
         "type": "scatter",
         "x": [
          "Abdominal aortic aneurysm",
          "Dilated cardiomyopathy (MTAG)",
          "Cardiovascular disease",
          "Hypertrophic cardiomyopathy (sarcomere negative)",
          "Antihypertensive medication - note that there are other indications",
          "Coronary artery disease",
          "Atrial fibrillation",
          "Heart failure",
          "Cardiac arrhytmias",
          "Ischaemic heart disease, wide definition",
          "Migraine",
          "Myocardial infarction",
          "Haemorrhoidal disease"
         ],
         "xaxis": "x",
         "y": [
          1.6962765740490229,
          1.3562540193863586,
          0.8917446976405934,
          0.8717943873810217,
          0.8281283062075069,
          0.736612233294601,
          0.7024529409853294,
          0.600837303625428,
          0.3276093290721635,
          0.28873726076138856,
          0.25590531345049344,
          0.08679394018522071,
          0.06944754293925572
         ],
         "yaxis": "y"
        },
        {
         "customdata": [
          [
           19,
           "cell proliferation disorder",
           0.0153788714617108,
           "SCARB1;EPAS1",
           "GCST004710",
           "PMID:28598434"
          ],
          [
           19,
           "cell proliferation disorder",
           0.0234350473829585,
           "CDKN1A;LPIN1;DDR2",
           "SAIGE_728_71",
           null
          ],
          [
           19,
           "cell proliferation disorder",
           0.2061550439296068,
           "RNASET2",
           "GCST004748",
           "PMID:28604730"
          ],
          [
           19,
           "cell proliferation disorder",
           0.447500965440971,
           "CDKN1A;TOX2",
           "GCST007992",
           "PMID:31089142"
          ],
          [
           19,
           "cell proliferation disorder",
           0.4547717929717223,
           "GJC1",
           "FINNGEN_R6_C3_MALE_GENITAL",
           null
          ],
          [
           19,
           "cell proliferation disorder",
           0.4547717929717223,
           "GJC1",
           "FINNGEN_R6_C3_MALE_GENITAL_EXALLC",
           null
          ],
          [
           19,
           "cell proliferation disorder",
           0.5282084219701223,
           "RNASET2",
           "SAIGE_172",
           null
          ],
          [
           19,
           "cell proliferation disorder",
           0.5547466477670275,
           "ID3",
           "GCST004146",
           "PMID:28165464"
          ],
          [
           19,
           "cell proliferation disorder",
           0.5547466477670275,
           "IL21R",
           "GCST90061442",
           "PMID:34033851"
          ],
          [
           19,
           "cell proliferation disorder",
           0.6364585961150973,
           "RNASET2",
           "GCST90027058",
           "PMID:34290314"
          ],
          [
           19,
           "cell proliferation disorder",
           0.777992860371213,
           "RNASET2",
           "GCST008871",
           "PMID:31174203"
          ],
          [
           19,
           "cell proliferation disorder",
           0.9121531895652748,
           "GLI2;VEGFA",
           "GCST011049",
           "PMID:33398198"
          ],
          [
           19,
           "cell proliferation disorder",
           0.926577614570827,
           "TGFBR2",
           "GCST90090980",
           "PMID:32139696"
          ]
         ],
         "hovertemplate": "trait_category=%{customdata[1]}<br>trait_reported=%{x}<br>-log10(p-value)=%{y}<br>program_name=%{customdata[0]}<br>P-value=%{customdata[2]}<br>Genes=%{customdata[3]}<br>study_id=%{customdata[4]}<br>pmid=%{customdata[5]}<extra></extra>",
         "legendgroup": "cell proliferation disorder",
         "marker": {
          "color": "#00cc96",
          "symbol": "circle"
         },
         "mode": "markers",
         "name": "cell proliferation disorder",
         "orientation": "v",
         "showlegend": true,
         "type": "scatter",
         "x": [
          "Renal cell carcinoma",
          "Contracture of palmar fascia [dupuytren's disease]",
          "Lung cancer",
          "Colorectal cancer",
          "malignant neoplasm of male genital organs",
          "malignant neoplasm of male genital organs (controls excluding all cancers)",
          "Skin cancer",
          "Chronic lymphocytic leukemia",
          "Primary biliary cholangitis",
          "Non-melanoma skin cancer",
          "Basal cell carcinoma",
          "Prostate cancer",
          "Breast cancer"
         ],
         "xaxis": "x",
         "y": [
          1.8130755329308288,
          1.6301341640496123,
          0.6858060349882722,
          0.3492060233978256,
          0.3422064800806736,
          0.3422064800806736,
          0.27719467850586216,
          0.25590531345049344,
          0.25590531345049344,
          0.1962298434849674,
          0.10902438850595701,
          0.0399322189128057,
          0.03311819623927466
         ],
         "yaxis": "y"
        },
        {
         "customdata": [
          [
           19,
           "disease of visual system",
           0.1094421927674374,
           "MMAB;MVK",
           "GCST90018814",
           "PMID:34594039"
          ],
          [
           19,
           "disease of visual system",
           0.3514897829027668,
           "VEGFA",
           "GCST001884",
           "PMID:23455636"
          ],
          [
           19,
           "disease of visual system",
           0.3519476214627181,
           "PTPN1;NPC2;PCSK5",
           "GCST009722",
           "PMID:31959993"
          ],
          [
           19,
           "disease of visual system",
           0.3879164909650702,
           "MMAB",
           "FINNGEN_R6_H7_LENS",
           null
          ],
          [
           19,
           "disease of visual system",
           0.6901679744939967,
           "LIPG;NPC2;ETNK1",
           "GCST010378",
           "PMID:32352494"
          ],
          [
           19,
           "disease of visual system",
           0.7714508248878551,
           "LTBP2",
           "GCST90011770",
           "PMID:33627673"
          ]
         ],
         "hovertemplate": "trait_category=%{customdata[1]}<br>trait_reported=%{x}<br>-log10(p-value)=%{y}<br>program_name=%{customdata[0]}<br>P-value=%{customdata[2]}<br>Genes=%{customdata[3]}<br>study_id=%{customdata[4]}<br>pmid=%{customdata[5]}<extra></extra>",
         "legendgroup": "disease of visual system",
         "marker": {
          "color": "#ab63fa",
          "symbol": "circle"
         },
         "mode": "markers",
         "name": "disease of visual system",
         "orientation": "v",
         "showlegend": true,
         "type": "scatter",
         "x": [
          "Cataracts",
          "Age-related macular degeneration",
          "Glaucoma (multi-trait analysis)",
          "Disorders of lens",
          "Spherical equivalent",
          "Glaucoma (primary open-angle)"
         ],
         "xaxis": "x",
         "y": [
          0.9608152140773768,
          0.4540872945230746,
          0.45352196550578805,
          0.4112617574381072,
          0.1610451969182307,
          0.11269175224569011
         ],
         "yaxis": "y"
        },
        {
         "customdata": [
          [
           19,
           "endocrine system disease",
           0.1376238528655774,
           "BHLHE40;RAB2A;IFITM2;RNASET2",
           "GCST010571",
           "PMID:32581359"
          ],
          [
           19,
           "endocrine system disease",
           0.2061550439296068,
           "RNASET2",
           "GCST90018860",
           "PMID:34594039"
          ],
          [
           19,
           "endocrine system disease",
           0.5172427184455903,
           "BHLHE40;RAB2A;RNASET2",
           "GCST007073",
           "PMID:30595370"
          ],
          [
           19,
           "endocrine system disease",
           0.6569316374263021,
           "VEGFA",
           "FINNGEN_R6_E4_THYROID",
           null
          ],
          [
           19,
           "endocrine system disease",
           0.7843484737352562,
           "VEGFA",
           "FINNGEN_R6_E4_HYTHY_AI_STRICT_PURCH",
           null
          ]
         ],
         "hovertemplate": "trait_category=%{customdata[1]}<br>trait_reported=%{x}<br>-log10(p-value)=%{y}<br>program_name=%{customdata[0]}<br>P-value=%{customdata[2]}<br>Genes=%{customdata[3]}<br>study_id=%{customdata[4]}<br>pmid=%{customdata[5]}<extra></extra>",
         "legendgroup": "endocrine system disease",
         "marker": {
          "color": "#FFA15A",
          "symbol": "circle"
         },
         "mode": "markers",
         "name": "endocrine system disease",
         "orientation": "v",
         "showlegend": true,
         "type": "scatter",
         "x": [
          "Autoimmune thyroid disease",
          "Hyperthyroidism",
          "Hypothyroidism",
          "Disorders of the thyroid gland",
          "Hypothyroidism, strict autoimmune, 3 medication purchases required"
         ],
         "xaxis": "x",
         "y": [
          0.8613062879746043,
          0.6858060349882722,
          0.28630561445857156,
          0.1824798222716765,
          0.10549094420805395
         ],
         "yaxis": "y"
        },
        {
         "customdata": [
          [
           19,
           "gastrointestinal disease",
           0.2199576104207486,
           "SMIM29;VEGFA",
           "GCST90094908",
           "PMID:35047847"
          ],
          [
           19,
           "gastrointestinal disease",
           0.2287500538282526,
           "IL21R",
           "FINNGEN_R6_RX_CROHN_2NDLINE",
           null
          ],
          [
           19,
           "gastrointestinal disease",
           0.2287500538282526,
           "NAV3",
           "FINNGEN_R6_ABDOM_HERNIA",
           null
          ],
          [
           19,
           "gastrointestinal disease",
           0.3879164909650702,
           "ANPEP",
           "GCST007209",
           "PMID:30504769"
          ],
          [
           19,
           "gastrointestinal disease",
           0.5282084219701223,
           "PCSK5",
           "GCST006479",
           "PMID:30177863"
          ],
          [
           19,
           "gastrointestinal disease",
           0.5797985937087958,
           "PNPLA3",
           "GCST90018819",
           "PMID:34594039"
          ],
          [
           19,
           "gastrointestinal disease",
           0.6823013749557024,
           "TSPAN14;PDGFB",
           "GCST004131",
           "PMID:28067908"
          ]
         ],
         "hovertemplate": "trait_category=%{customdata[1]}<br>trait_reported=%{x}<br>-log10(p-value)=%{y}<br>program_name=%{customdata[0]}<br>P-value=%{customdata[2]}<br>Genes=%{customdata[3]}<br>study_id=%{customdata[4]}<br>pmid=%{customdata[5]}<extra></extra>",
         "legendgroup": "gastrointestinal disease",
         "marker": {
          "color": "#19d3f3",
          "symbol": "circle"
         },
         "mode": "markers",
         "name": "gastrointestinal disease",
         "orientation": "v",
         "showlegend": true,
         "type": "scatter",
         "x": [
          "Nonalcoholic fatty liver disease (imputed)",
          "Second line medication for Crohns disease",
          "Hernia of abodminal wall",
          "Gallstone disease",
          "Diverticular disease",
          "Cholelithiasis",
          "Inflammatory bowel disease"
         ],
         "xaxis": "x",
         "y": [
          0.6576610070603534,
          0.640638795065622,
          0.640638795065622,
          0.4112617574381072,
          0.27719467850586216,
          0.23672284235330593,
          0.16602375354044738
         ],
         "yaxis": "y"
        },
        {
         "customdata": [
          [
           19,
           "genetic, familial or congenital disease",
           0.056061017525612,
           "GNAS",
           "GCST007916",
           "PMID:29124443"
          ]
         ],
         "hovertemplate": "trait_category=%{customdata[1]}<br>trait_reported=%{x}<br>-log10(p-value)=%{y}<br>program_name=%{customdata[0]}<br>P-value=%{customdata[2]}<br>Genes=%{customdata[3]}<br>study_id=%{customdata[4]}<br>pmid=%{customdata[5]}<extra></extra>",
         "legendgroup": "genetic, familial or congenital disease",
         "marker": {
          "color": "#FF6692",
          "symbol": "circle"
         },
         "mode": "markers",
         "name": "genetic, familial or congenital disease",
         "orientation": "v",
         "showlegend": true,
         "type": "scatter",
         "x": [
          "Hyperuricemia"
         ],
         "xaxis": "x",
         "y": [
          1.251339023918792
         ],
         "yaxis": "y"
        },
        {
         "customdata": [
          [
           19,
           "immune system disease",
           0.1569286846215245,
           "SYPL1;UBASH3B;MTHFR;TOX2;RRAS2;BCL10",
           "GCST009597",
           "PMID:31604244"
          ],
          [
           19,
           "immune system disease",
           0.7647169252273888,
           "RNASET2",
           "GCST007071",
           "PMID:30595370"
          ]
         ],
         "hovertemplate": "trait_category=%{customdata[1]}<br>trait_reported=%{x}<br>-log10(p-value)=%{y}<br>program_name=%{customdata[0]}<br>P-value=%{customdata[2]}<br>Genes=%{customdata[3]}<br>study_id=%{customdata[4]}<br>pmid=%{customdata[5]}<extra></extra>",
         "legendgroup": "immune system disease",
         "marker": {
          "color": "#B6E880",
          "symbol": "circle"
         },
         "mode": "markers",
         "name": "immune system disease",
         "orientation": "v",
         "showlegend": true,
         "type": "scatter",
         "x": [
          "Multiple sclerosis",
          "Autoimmune traits"
         ],
         "xaxis": "x",
         "y": [
          0.8042976655001944,
          0.11649929760822468
         ],
         "yaxis": "y"
        },
        {
         "customdata": [
          [
           19,
           "integumentary system disease",
           0.2942593684198209,
           "PTPN1;RNASET2",
           "GCST004785",
           "PMID:27723757"
          ],
          [
           19,
           "integumentary system disease",
           0.5547466477670275,
           "CCDC80",
           "GCST90086149",
           "PMID:34116867"
          ],
          [
           19,
           "integumentary system disease",
           0.5917932931517309,
           "PNPLA3",
           "GCST90092000",
           "PMID:35132056"
          ]
         ],
         "hovertemplate": "trait_category=%{customdata[1]}<br>trait_reported=%{x}<br>-log10(p-value)=%{y}<br>program_name=%{customdata[0]}<br>P-value=%{customdata[2]}<br>Genes=%{customdata[3]}<br>study_id=%{customdata[4]}<br>pmid=%{customdata[5]}<extra></extra>",
         "legendgroup": "integumentary system disease",
         "marker": {
          "color": "#FF97FF",
          "symbol": "circle"
         },
         "mode": "markers",
         "name": "integumentary system disease",
         "orientation": "v",
         "showlegend": true,
         "type": "scatter",
         "x": [
          "Vitiligo",
          "Atopic dermatitis",
          "acne vulgaris"
         ],
         "xaxis": "x",
         "y": [
          0.5312697015065693,
          0.25590531345049344,
          0.22782996104713193
         ],
         "yaxis": "y"
        },
        {
         "customdata": [
          [
           19,
           "musculoskeletal or connective tissue disease",
           0.1380296513827923,
           "MLXIP;PNPLA3",
           "GCST012338",
           "PMID:33832965"
          ],
          [
           19,
           "musculoskeletal or connective tissue disease",
           0.2507048273189083,
           "PLXNA2",
           "GCST008789",
           "PMID:31417091"
          ],
          [
           19,
           "musculoskeletal or connective tissue disease",
           0.4223060168318421,
           "DDR2",
           "GCST004858",
           "PMID:28886342"
          ]
         ],
         "hovertemplate": "trait_category=%{customdata[1]}<br>trait_reported=%{x}<br>-log10(p-value)=%{y}<br>program_name=%{customdata[0]}<br>P-value=%{customdata[2]}<br>Genes=%{customdata[3]}<br>study_id=%{customdata[4]}<br>pmid=%{customdata[5]}<extra></extra>",
         "legendgroup": "musculoskeletal or connective tissue disease",
         "marker": {
          "color": "#FECB52",
          "symbol": "circle"
         },
         "mode": "markers",
         "name": "musculoskeletal or connective tissue disease",
         "orientation": "v",
         "showlegend": true,
         "type": "scatter",
         "x": [
          "Gout",
          "Adolescent idiopathic scoliosis",
          "Dupuytren's disease"
         ],
         "xaxis": "x",
         "y": [
          0.8600276088982539,
          0.600837303625428,
          0.3743727308927516
         ],
         "yaxis": "y"
        },
        {
         "customdata": [
          [
           19,
           "nervous system disease",
           0.2287500538282526,
           "ATP2C1",
           "GCST005042",
           "PMID:29029846"
          ],
          [
           19,
           "nervous system disease",
           0.2942593684198209,
           "NUCKS1;SNCA",
           "GCST004902",
           "PMID:28892059"
          ],
          [
           19,
           "nervous system disease",
           0.2942593684198209,
           "NUCKS1;SNCA",
           "GCST010991",
           "PMID:32201043"
          ],
          [
           19,
           "nervous system disease",
           0.5155063301890639,
           "NUCKS1;TCF20;LONRF1;PLXNA2;DUSP6;NFIB;HSD17B12;MTFR1;PTPRN2",
           "GCST90061435",
           "PMID:34446935"
          ],
          [
           19,
           "nervous system disease",
           0.5416686865549875,
           "DUSP6",
           "GCST90016618",
           "PMID:33686288"
          ],
          [
           19,
           "nervous system disease",
           0.6855089857015289,
           "SLC7A11",
           "GCST010017",
           "PMID:32231276"
          ],
          [
           19,
           "nervous system disease",
           0.6944979938815563,
           "NRDC",
           "GCST012090",
           "PMID:33479212"
          ]
         ],
         "hovertemplate": "trait_category=%{customdata[1]}<br>trait_reported=%{x}<br>-log10(p-value)=%{y}<br>program_name=%{customdata[0]}<br>P-value=%{customdata[2]}<br>Genes=%{customdata[3]}<br>study_id=%{customdata[4]}<br>pmid=%{customdata[5]}<extra></extra>",
         "legendgroup": "nervous system disease",
         "marker": {
          "color": "#636efa",
          "symbol": "circle"
         },
         "mode": "markers",
         "name": "nervous system disease",
         "orientation": "v",
         "showlegend": true,
         "type": "scatter",
         "x": [
          "Restless legs syndrome",
          "Parkinson's disease",
          "Parkinson's disease",
          "Externalizing behaviour (multivariate analysis)",
          "Schizophrenia vs ADHD (ordinary least squares (OLS))",
          "Neuroticism",
          "Major depressive disorder (MTAG)"
         ],
         "xaxis": "x",
         "y": [
          0.640638795065622,
          0.5312697015065693,
          0.5312697015065693,
          0.28776599740413,
          0.2662662699129855,
          0.16398684807357408,
          0.15832900442230294
         ],
         "yaxis": "y"
        },
        {
         "customdata": [
          [
           19,
           "pancreas disease",
           0.7506509700484338,
           "GLI2",
           "GCST007077",
           "PMID:30595370"
          ]
         ],
         "hovertemplate": "trait_category=%{customdata[1]}<br>trait_reported=%{x}<br>-log10(p-value)=%{y}<br>program_name=%{customdata[0]}<br>P-value=%{customdata[2]}<br>Genes=%{customdata[3]}<br>study_id=%{customdata[4]}<br>pmid=%{customdata[5]}<extra></extra>",
         "legendgroup": "pancreas disease",
         "marker": {
          "color": "#EF553B",
          "symbol": "circle"
         },
         "mode": "markers",
         "name": "pancreas disease",
         "orientation": "v",
         "showlegend": true,
         "type": "scatter",
         "x": [
          "Type 2 diabetes"
         ],
         "xaxis": "x",
         "y": [
          0.12456194983603248
         ],
         "yaxis": "y"
        },
        {
         "customdata": [
          [
           19,
           "phenotype",
           0.008688541686716,
           "LDLR;IRF2BP2;HMGCR;LIPG;SCARB1;VEGFA",
           "GCST90038690",
           "PMID:33959723"
          ],
          [
           19,
           "phenotype",
           0.1343400831032873,
           "DYSF",
           "FINNGEN_R6_M13_HALLUXVALGUS",
           null
          ],
          [
           19,
           "phenotype",
           0.1782415427636318,
           "NAV3;PTPRN2",
           "GCST001712",
           "PMID:23049088"
          ],
          [
           19,
           "phenotype",
           0.2061550439296068,
           "NUCKS1",
           "NEALE2_2257",
           null
          ],
          [
           19,
           "phenotype",
           0.3049145941394633,
           "UBC;SCD;RAB32",
           "NEALE2_1717",
           null
          ],
          [
           19,
           "phenotype",
           0.3514897829027668,
           "MMAB",
           "FINNGEN_R6_H7_CATARACTSENILE",
           null
          ],
          [
           19,
           "phenotype",
           0.4387725338878636,
           "LPIN1",
           "SAIGE_728_7",
           null
          ],
          [
           19,
           "phenotype",
           0.4387725338878636,
           "RAB3C",
           "FINNGEN_R6_K11_HERNIA",
           null
          ],
          [
           19,
           "phenotype",
           0.4854209635556349,
           "TUBA1A",
           "GCST90013421",
           "PMID:32989287"
          ],
          [
           19,
           "phenotype",
           0.5917932931517309,
           "HSD17B12",
           "GCST008512",
           "PMID:31194737"
          ],
          [
           19,
           "phenotype",
           0.5917932931517309,
           "HSD17B12",
           "GCST012332",
           "PMID:33830993"
          ],
          [
           19,
           "phenotype",
           0.6762567419240386,
           "CPNE3",
           "GCST90018939",
           "PMID:34594039"
          ],
          [
           19,
           "phenotype",
           0.7012900333459319,
           "AKAP12;CDC42BPA",
           "GCST006988",
           "PMID:30531825"
          ],
          [
           19,
           "phenotype",
           0.9414579808611644,
           "VEGFA;NPC2;TOX2;RRAS2;FRY",
           "GCST010002",
           "PMID:32231278"
          ]
         ],
         "hovertemplate": "trait_category=%{customdata[1]}<br>trait_reported=%{x}<br>-log10(p-value)=%{y}<br>program_name=%{customdata[0]}<br>P-value=%{customdata[2]}<br>Genes=%{customdata[3]}<br>study_id=%{customdata[4]}<br>pmid=%{customdata[5]}<extra></extra>",
         "legendgroup": "phenotype",
         "marker": {
          "color": "#00cc96",
          "symbol": "circle"
         },
         "mode": "markers",
         "name": "phenotype",
         "orientation": "v",
         "showlegend": true,
         "type": "scatter",
         "x": [
          "High cholesterol",
          "Hallux valgus (acquired)",
          "Myopia (pathological)",
          "Hearing difficulty/problems with background noise",
          "Skin colour",
          "Senile cataract",
          "Fasciitis",
          "Hernia",
          "Left-handedness",
          "Multisite chronic pain",
          "Multisite chronic pain",
          "Varicose veins",
          "Blond vs. brown/black hair color",
          "Refractive error"
         ],
         "xaxis": "x",
         "y": [
          2.0610531108424572,
          0.8717943873810217,
          0.7489910674689295,
          0.6858060349882722,
          0.5158217884829206,
          0.4540872945230746,
          0.3577605660432619,
          0.3577605660432619,
          0.313881472009155,
          0.22782996104713193,
          0.22782996104713193,
          0.16988839217622498,
          0.15410233320106417,
          0.026199058639734853
         ],
         "yaxis": "y"
        },
        {
         "customdata": [
          [
           19,
           "respiratory or thoracic disease",
           0.2927653966471928,
           "IL21R",
           "FINNGEN_R6_ILD_ENDPOINTS",
           null
          ],
          [
           19,
           "respiratory or thoracic disease",
           0.4945157231297057,
           "THSD4;PRSS23",
           "GCST007692",
           "PMID:30804561"
          ],
          [
           19,
           "respiratory or thoracic disease",
           0.8684627092415388,
           "FADS2",
           "GCST007076",
           "PMID:30595370"
          ]
         ],
         "hovertemplate": "trait_category=%{customdata[1]}<br>trait_reported=%{x}<br>-log10(p-value)=%{y}<br>program_name=%{customdata[0]}<br>P-value=%{customdata[2]}<br>Genes=%{customdata[3]}<br>study_id=%{customdata[4]}<br>pmid=%{customdata[5]}<extra></extra>",
         "legendgroup": "respiratory or thoracic disease",
         "marker": {
          "color": "#ab63fa",
          "symbol": "circle"
         },
         "mode": "markers",
         "name": "respiratory or thoracic disease",
         "orientation": "v",
         "showlegend": true,
         "type": "scatter",
         "x": [
          "Interstitial lung disease endpoints",
          "Chronic obstructive pulmonary disease",
          "Respiratory diseases"
         ],
         "xaxis": "x",
         "y": [
          0.5334802559376316,
          0.30581989545221594,
          0.06124882490637182
         ],
         "yaxis": "y"
        },
        {
         "customdata": [
          [
           19,
           "urinary system disease",
           0.3514897829027668,
           "VEGFA",
           "GCST000649_3",
           "PMID:20383146"
          ]
         ],
         "hovertemplate": "trait_category=%{customdata[1]}<br>trait_reported=%{x}<br>-log10(p-value)=%{y}<br>program_name=%{customdata[0]}<br>P-value=%{customdata[2]}<br>Genes=%{customdata[3]}<br>study_id=%{customdata[4]}<br>pmid=%{customdata[5]}<extra></extra>",
         "legendgroup": "urinary system disease",
         "marker": {
          "color": "#FFA15A",
          "symbol": "circle"
         },
         "mode": "markers",
         "name": "urinary system disease",
         "orientation": "v",
         "showlegend": true,
         "type": "scatter",
         "x": [
          "Chronic kidney disease [eGFRcrea]"
         ],
         "xaxis": "x",
         "y": [
          0.4540872945230746
         ],
         "yaxis": "y"
        }
       ],
       "layout": {
        "annotations": [
         {
          "showarrow": false,
          "text": "Significance Threshold (0.05)",
          "x": 1,
          "xanchor": "right",
          "xref": "x domain",
          "y": 1.3010299956639813,
          "yanchor": "bottom",
          "yref": "y"
         }
        ],
        "height": 800,
        "legend": {
         "title": {
          "text": "trait_category"
         },
         "tracegroupgap": 0
        },
        "shapes": [
         {
          "line": {
           "dash": "dash"
          },
          "type": "line",
          "x0": 0,
          "x1": 1,
          "xref": "x domain",
          "y0": 1.3010299956639813,
          "y1": 1.3010299956639813,
          "yref": "y"
         }
        ],
        "template": {
         "data": {
          "bar": [
           {
            "error_x": {
             "color": "#2a3f5f"
            },
            "error_y": {
             "color": "#2a3f5f"
            },
            "marker": {
             "line": {
              "color": "#E5ECF6",
              "width": 0.5
             },
             "pattern": {
              "fillmode": "overlay",
              "size": 10,
              "solidity": 0.2
             }
            },
            "type": "bar"
           }
          ],
          "barpolar": [
           {
            "marker": {
             "line": {
              "color": "#E5ECF6",
              "width": 0.5
             },
             "pattern": {
              "fillmode": "overlay",
              "size": 10,
              "solidity": 0.2
             }
            },
            "type": "barpolar"
           }
          ],
          "carpet": [
           {
            "aaxis": {
             "endlinecolor": "#2a3f5f",
             "gridcolor": "white",
             "linecolor": "white",
             "minorgridcolor": "white",
             "startlinecolor": "#2a3f5f"
            },
            "baxis": {
             "endlinecolor": "#2a3f5f",
             "gridcolor": "white",
             "linecolor": "white",
             "minorgridcolor": "white",
             "startlinecolor": "#2a3f5f"
            },
            "type": "carpet"
           }
          ],
          "choropleth": [
           {
            "colorbar": {
             "outlinewidth": 0,
             "ticks": ""
            },
            "type": "choropleth"
           }
          ],
          "contour": [
           {
            "colorbar": {
             "outlinewidth": 0,
             "ticks": ""
            },
            "colorscale": [
             [
              0,
              "#0d0887"
             ],
             [
              0.1111111111111111,
              "#46039f"
             ],
             [
              0.2222222222222222,
              "#7201a8"
             ],
             [
              0.3333333333333333,
              "#9c179e"
             ],
             [
              0.4444444444444444,
              "#bd3786"
             ],
             [
              0.5555555555555556,
              "#d8576b"
             ],
             [
              0.6666666666666666,
              "#ed7953"
             ],
             [
              0.7777777777777778,
              "#fb9f3a"
             ],
             [
              0.8888888888888888,
              "#fdca26"
             ],
             [
              1,
              "#f0f921"
             ]
            ],
            "type": "contour"
           }
          ],
          "contourcarpet": [
           {
            "colorbar": {
             "outlinewidth": 0,
             "ticks": ""
            },
            "type": "contourcarpet"
           }
          ],
          "heatmap": [
           {
            "colorbar": {
             "outlinewidth": 0,
             "ticks": ""
            },
            "colorscale": [
             [
              0,
              "#0d0887"
             ],
             [
              0.1111111111111111,
              "#46039f"
             ],
             [
              0.2222222222222222,
              "#7201a8"
             ],
             [
              0.3333333333333333,
              "#9c179e"
             ],
             [
              0.4444444444444444,
              "#bd3786"
             ],
             [
              0.5555555555555556,
              "#d8576b"
             ],
             [
              0.6666666666666666,
              "#ed7953"
             ],
             [
              0.7777777777777778,
              "#fb9f3a"
             ],
             [
              0.8888888888888888,
              "#fdca26"
             ],
             [
              1,
              "#f0f921"
             ]
            ],
            "type": "heatmap"
           }
          ],
          "heatmapgl": [
           {
            "colorbar": {
             "outlinewidth": 0,
             "ticks": ""
            },
            "colorscale": [
             [
              0,
              "#0d0887"
             ],
             [
              0.1111111111111111,
              "#46039f"
             ],
             [
              0.2222222222222222,
              "#7201a8"
             ],
             [
              0.3333333333333333,
              "#9c179e"
             ],
             [
              0.4444444444444444,
              "#bd3786"
             ],
             [
              0.5555555555555556,
              "#d8576b"
             ],
             [
              0.6666666666666666,
              "#ed7953"
             ],
             [
              0.7777777777777778,
              "#fb9f3a"
             ],
             [
              0.8888888888888888,
              "#fdca26"
             ],
             [
              1,
              "#f0f921"
             ]
            ],
            "type": "heatmapgl"
           }
          ],
          "histogram": [
           {
            "marker": {
             "pattern": {
              "fillmode": "overlay",
              "size": 10,
              "solidity": 0.2
             }
            },
            "type": "histogram"
           }
          ],
          "histogram2d": [
           {
            "colorbar": {
             "outlinewidth": 0,
             "ticks": ""
            },
            "colorscale": [
             [
              0,
              "#0d0887"
             ],
             [
              0.1111111111111111,
              "#46039f"
             ],
             [
              0.2222222222222222,
              "#7201a8"
             ],
             [
              0.3333333333333333,
              "#9c179e"
             ],
             [
              0.4444444444444444,
              "#bd3786"
             ],
             [
              0.5555555555555556,
              "#d8576b"
             ],
             [
              0.6666666666666666,
              "#ed7953"
             ],
             [
              0.7777777777777778,
              "#fb9f3a"
             ],
             [
              0.8888888888888888,
              "#fdca26"
             ],
             [
              1,
              "#f0f921"
             ]
            ],
            "type": "histogram2d"
           }
          ],
          "histogram2dcontour": [
           {
            "colorbar": {
             "outlinewidth": 0,
             "ticks": ""
            },
            "colorscale": [
             [
              0,
              "#0d0887"
             ],
             [
              0.1111111111111111,
              "#46039f"
             ],
             [
              0.2222222222222222,
              "#7201a8"
             ],
             [
              0.3333333333333333,
              "#9c179e"
             ],
             [
              0.4444444444444444,
              "#bd3786"
             ],
             [
              0.5555555555555556,
              "#d8576b"
             ],
             [
              0.6666666666666666,
              "#ed7953"
             ],
             [
              0.7777777777777778,
              "#fb9f3a"
             ],
             [
              0.8888888888888888,
              "#fdca26"
             ],
             [
              1,
              "#f0f921"
             ]
            ],
            "type": "histogram2dcontour"
           }
          ],
          "mesh3d": [
           {
            "colorbar": {
             "outlinewidth": 0,
             "ticks": ""
            },
            "type": "mesh3d"
           }
          ],
          "parcoords": [
           {
            "line": {
             "colorbar": {
              "outlinewidth": 0,
              "ticks": ""
             }
            },
            "type": "parcoords"
           }
          ],
          "pie": [
           {
            "automargin": true,
            "type": "pie"
           }
          ],
          "scatter": [
           {
            "fillpattern": {
             "fillmode": "overlay",
             "size": 10,
             "solidity": 0.2
            },
            "type": "scatter"
           }
          ],
          "scatter3d": [
           {
            "line": {
             "colorbar": {
              "outlinewidth": 0,
              "ticks": ""
             }
            },
            "marker": {
             "colorbar": {
              "outlinewidth": 0,
              "ticks": ""
             }
            },
            "type": "scatter3d"
           }
          ],
          "scattercarpet": [
           {
            "marker": {
             "colorbar": {
              "outlinewidth": 0,
              "ticks": ""
             }
            },
            "type": "scattercarpet"
           }
          ],
          "scattergeo": [
           {
            "marker": {
             "colorbar": {
              "outlinewidth": 0,
              "ticks": ""
             }
            },
            "type": "scattergeo"
           }
          ],
          "scattergl": [
           {
            "marker": {
             "colorbar": {
              "outlinewidth": 0,
              "ticks": ""
             }
            },
            "type": "scattergl"
           }
          ],
          "scattermapbox": [
           {
            "marker": {
             "colorbar": {
              "outlinewidth": 0,
              "ticks": ""
             }
            },
            "type": "scattermapbox"
           }
          ],
          "scatterpolar": [
           {
            "marker": {
             "colorbar": {
              "outlinewidth": 0,
              "ticks": ""
             }
            },
            "type": "scatterpolar"
           }
          ],
          "scatterpolargl": [
           {
            "marker": {
             "colorbar": {
              "outlinewidth": 0,
              "ticks": ""
             }
            },
            "type": "scatterpolargl"
           }
          ],
          "scatterternary": [
           {
            "marker": {
             "colorbar": {
              "outlinewidth": 0,
              "ticks": ""
             }
            },
            "type": "scatterternary"
           }
          ],
          "surface": [
           {
            "colorbar": {
             "outlinewidth": 0,
             "ticks": ""
            },
            "colorscale": [
             [
              0,
              "#0d0887"
             ],
             [
              0.1111111111111111,
              "#46039f"
             ],
             [
              0.2222222222222222,
              "#7201a8"
             ],
             [
              0.3333333333333333,
              "#9c179e"
             ],
             [
              0.4444444444444444,
              "#bd3786"
             ],
             [
              0.5555555555555556,
              "#d8576b"
             ],
             [
              0.6666666666666666,
              "#ed7953"
             ],
             [
              0.7777777777777778,
              "#fb9f3a"
             ],
             [
              0.8888888888888888,
              "#fdca26"
             ],
             [
              1,
              "#f0f921"
             ]
            ],
            "type": "surface"
           }
          ],
          "table": [
           {
            "cells": {
             "fill": {
              "color": "#EBF0F8"
             },
             "line": {
              "color": "white"
             }
            },
            "header": {
             "fill": {
              "color": "#C8D4E3"
             },
             "line": {
              "color": "white"
             }
            },
            "type": "table"
           }
          ]
         },
         "layout": {
          "annotationdefaults": {
           "arrowcolor": "#2a3f5f",
           "arrowhead": 0,
           "arrowwidth": 1
          },
          "autotypenumbers": "strict",
          "coloraxis": {
           "colorbar": {
            "outlinewidth": 0,
            "ticks": ""
           }
          },
          "colorscale": {
           "diverging": [
            [
             0,
             "#8e0152"
            ],
            [
             0.1,
             "#c51b7d"
            ],
            [
             0.2,
             "#de77ae"
            ],
            [
             0.3,
             "#f1b6da"
            ],
            [
             0.4,
             "#fde0ef"
            ],
            [
             0.5,
             "#f7f7f7"
            ],
            [
             0.6,
             "#e6f5d0"
            ],
            [
             0.7,
             "#b8e186"
            ],
            [
             0.8,
             "#7fbc41"
            ],
            [
             0.9,
             "#4d9221"
            ],
            [
             1,
             "#276419"
            ]
           ],
           "sequential": [
            [
             0,
             "#0d0887"
            ],
            [
             0.1111111111111111,
             "#46039f"
            ],
            [
             0.2222222222222222,
             "#7201a8"
            ],
            [
             0.3333333333333333,
             "#9c179e"
            ],
            [
             0.4444444444444444,
             "#bd3786"
            ],
            [
             0.5555555555555556,
             "#d8576b"
            ],
            [
             0.6666666666666666,
             "#ed7953"
            ],
            [
             0.7777777777777778,
             "#fb9f3a"
            ],
            [
             0.8888888888888888,
             "#fdca26"
            ],
            [
             1,
             "#f0f921"
            ]
           ],
           "sequentialminus": [
            [
             0,
             "#0d0887"
            ],
            [
             0.1111111111111111,
             "#46039f"
            ],
            [
             0.2222222222222222,
             "#7201a8"
            ],
            [
             0.3333333333333333,
             "#9c179e"
            ],
            [
             0.4444444444444444,
             "#bd3786"
            ],
            [
             0.5555555555555556,
             "#d8576b"
            ],
            [
             0.6666666666666666,
             "#ed7953"
            ],
            [
             0.7777777777777778,
             "#fb9f3a"
            ],
            [
             0.8888888888888888,
             "#fdca26"
            ],
            [
             1,
             "#f0f921"
            ]
           ]
          },
          "colorway": [
           "#636efa",
           "#EF553B",
           "#00cc96",
           "#ab63fa",
           "#FFA15A",
           "#19d3f3",
           "#FF6692",
           "#B6E880",
           "#FF97FF",
           "#FECB52"
          ],
          "font": {
           "color": "#2a3f5f"
          },
          "geo": {
           "bgcolor": "white",
           "lakecolor": "white",
           "landcolor": "#E5ECF6",
           "showlakes": true,
           "showland": true,
           "subunitcolor": "white"
          },
          "hoverlabel": {
           "align": "left"
          },
          "hovermode": "closest",
          "mapbox": {
           "style": "light"
          },
          "paper_bgcolor": "white",
          "plot_bgcolor": "#E5ECF6",
          "polar": {
           "angularaxis": {
            "gridcolor": "white",
            "linecolor": "white",
            "ticks": ""
           },
           "bgcolor": "#E5ECF6",
           "radialaxis": {
            "gridcolor": "white",
            "linecolor": "white",
            "ticks": ""
           }
          },
          "scene": {
           "xaxis": {
            "backgroundcolor": "#E5ECF6",
            "gridcolor": "white",
            "gridwidth": 2,
            "linecolor": "white",
            "showbackground": true,
            "ticks": "",
            "zerolinecolor": "white"
           },
           "yaxis": {
            "backgroundcolor": "#E5ECF6",
            "gridcolor": "white",
            "gridwidth": 2,
            "linecolor": "white",
            "showbackground": true,
            "ticks": "",
            "zerolinecolor": "white"
           },
           "zaxis": {
            "backgroundcolor": "#E5ECF6",
            "gridcolor": "white",
            "gridwidth": 2,
            "linecolor": "white",
            "showbackground": true,
            "ticks": "",
            "zerolinecolor": "white"
           }
          },
          "shapedefaults": {
           "line": {
            "color": "#2a3f5f"
           }
          },
          "ternary": {
           "aaxis": {
            "gridcolor": "white",
            "linecolor": "white",
            "ticks": ""
           },
           "baxis": {
            "gridcolor": "white",
            "linecolor": "white",
            "ticks": ""
           },
           "bgcolor": "#E5ECF6",
           "caxis": {
            "gridcolor": "white",
            "linecolor": "white",
            "ticks": ""
           }
          },
          "title": {
           "x": 0.05
          },
          "xaxis": {
           "automargin": true,
           "gridcolor": "white",
           "linecolor": "white",
           "ticks": "",
           "title": {
            "standoff": 15
           },
           "zerolinecolor": "white",
           "zerolinewidth": 2
          },
          "yaxis": {
           "automargin": true,
           "gridcolor": "white",
           "linecolor": "white",
           "ticks": "",
           "title": {
            "standoff": 15
           },
           "zerolinecolor": "white",
           "zerolinewidth": 2
          }
         }
        },
        "title": {
         "text": "Endothelial Cell Programs x GWAS Binary Outcome Enrichments"
        },
        "width": 1000,
        "xaxis": {
         "anchor": "y",
         "domain": [
          0,
          1
         ],
         "tickfont": {
          "size": 4
         },
         "title": {
          "text": "trait_reported"
         }
        },
        "yaxis": {
         "anchor": "x",
         "domain": [
          0,
          1
         ],
         "tickformat": ".1f",
         "title": {
          "text": "-log10(p-value)"
         }
        }
       }
      },
      "text/html": [
       "<div>                            <div id=\"893cfb88-faa7-4527-8da4-40af99f81195\" class=\"plotly-graph-div\" style=\"height:800px; width:1000px;\"></div>            <script type=\"text/javascript\">                require([\"plotly\"], function(Plotly) {                    window.PLOTLYENV=window.PLOTLYENV || {};                                    if (document.getElementById(\"893cfb88-faa7-4527-8da4-40af99f81195\")) {                    Plotly.newPlot(                        \"893cfb88-faa7-4527-8da4-40af99f81195\",                        [{\"customdata\":[[19,\"biological process\",0.0017764883074341,\"PIR;LDLR;IRF2BP2;HMGCR;PNPLA3;LIPG;VEGFA\",\"FINNGEN_R6_RX_STATIN\",null],[19,\"biological process\",0.1343400831032873,\"EPAS1\",\"GCST006054\",\"PMID:28373541\"],[19,\"biological process\",0.3114186984457615,\"PCYOX1;TFB1M;NR2F1;IRF2BP2;SYT1;MARCKS;PTPN1;CBX5;CACNB1;HABP4;BNIP3L;MNT;DUSP6;NFIB;LONRF1;PDIA6;MTFR1;PTPRN2\",\"GCST006568\",\"PMID:30038396\"],[19,\"biological process\",0.6364585961150973,\"AKAP12\",\"NEALE2_1757\",null],[19,\"biological process\",0.7647169252273888,\"LONRF1\",\"GCST007464\",\"PMID:30643251\"],[19,\"biological process\",0.7823644484645602,\"LBR;FRY;RAB3C\",\"GCST006660\",\"PMID:30348214\"],[19,\"biological process\",0.8052074518987202,\"YWHAZ;PLXNA2;LRP8\",\"GCST007325\",\"PMID:30643258\"],[19,\"biological process\",0.8958060820939588,\"SYT1\",\"GCST006269\",\"PMID:29844566\"],[19,\"biological process\",0.9346715046595316,\"PLXNA2\",\"GCST007327\",\"PMID:30643258\"]],\"hovertemplate\":\"trait_category=%{customdata[1]}\\u003cbr\\u003etrait_reported=%{x}\\u003cbr\\u003e-log10(p-value)=%{y}\\u003cbr\\u003eprogram_name=%{customdata[0]}\\u003cbr\\u003eP-value=%{customdata[2]}\\u003cbr\\u003eGenes=%{customdata[3]}\\u003cbr\\u003estudy_id=%{customdata[4]}\\u003cbr\\u003epmid=%{customdata[5]}\\u003cextra\\u003e\\u003c\\u002fextra\\u003e\",\"legendgroup\":\"biological process\",\"marker\":{\"color\":\"#636efa\",\"symbol\":\"circle\"},\"mode\":\"markers\",\"name\":\"biological process\",\"orientation\":\"v\",\"showlegend\":true,\"x\":[\"Statin medication\",\"High altitude adaptation\",\"Highest math class taken (MTAG) [MTAG]\",\"Facial ageing\",\"Smoking cessation (MTAG)\",\"DNA methylation variation (age effect)\",\"General risk tolerance (MTAG)\",\"General cognitive ability\",\"Smoking status (ever vs never smokers)\"],\"xaxis\":\"x\",\"y\":[2.750437646623041,0.8717943873810217,0.5066553147350892,0.1962298434849674,0.11649929760822468,0.10659089261010384,0.09409221452913771,0.047785993229935854,0.029340997449113893],\"yaxis\":\"y\",\"type\":\"scatter\"},{\"customdata\":[[19,\"cardiovascular disease\",0.0201244224746658,\"CDKN1A;LIPA\",\"GCST011496\",\"PMID:32981348\"],[19,\"cardiovascular disease\",0.0440297257759461,\"CDKN1A;SQLE\",\"GCST011202\",\"PMID:33495596\"],[19,\"cardiovascular disease\",0.1283084629236031,\"DPYSL2;UBASH3B;CLCN6;CLIC4;GLI2;NPC1;HSD17B12;VEGFA\",\"GCST007072\",\"PMID:30595370\"],[19,\"cardiovascular disease\",0.1343400831032873,\"CDKN1A\",\"GCST012099\",\"PMID:33495597\"],[19,\"cardiovascular disease\",0.1485496708304558,\"GLCE;CLCN6;SYT1\",\"FINNGEN_R6_RX_ANTIHYP\",null],[19,\"cardiovascular disease\",0.1833951163905241,\"SCARB1;LIPA;VEGFA\",\"GCST005195\",\"PMID:29212778\"],[19,\"cardiovascular disease\",0.1984024628911286,\"NUCKS1;SMIM29;CDKN1A;SQLE\",\"GCST006061\",\"PMID:29892015\"],[19,\"cardiovascular disease\",0.2507048273189083,\"CDKN1A\",\"GCST009541\",\"PMID:31919418\"],[19,\"cardiovascular disease\",0.4703169934611635,\"CDKN1A\",\"FINNGEN_R6_CARDIAC_ARRHYTM\",null],[19,\"cardiovascular disease\",0.5143547315191779,\"CLCN6\",\"FINNGEN_R6_I9_IHD\",null],[19,\"cardiovascular disease\",0.5547466477670275,\"TGFBR2\",\"GCST003720\",\"PMID:27322543\"],[19,\"cardiovascular disease\",0.8188532174755944,\"LIPA\",\"GCST011365\",\"PMID:33532862\"],[19,\"cardiovascular disease\",0.8522214423029417,\"SRBD1\",\"GCST90014033\",\"PMID:33888516\"]],\"hovertemplate\":\"trait_category=%{customdata[1]}\\u003cbr\\u003etrait_reported=%{x}\\u003cbr\\u003e-log10(p-value)=%{y}\\u003cbr\\u003eprogram_name=%{customdata[0]}\\u003cbr\\u003eP-value=%{customdata[2]}\\u003cbr\\u003eGenes=%{customdata[3]}\\u003cbr\\u003estudy_id=%{customdata[4]}\\u003cbr\\u003epmid=%{customdata[5]}\\u003cextra\\u003e\\u003c\\u002fextra\\u003e\",\"legendgroup\":\"cardiovascular disease\",\"marker\":{\"color\":\"#EF553B\",\"symbol\":\"circle\"},\"mode\":\"markers\",\"name\":\"cardiovascular disease\",\"orientation\":\"v\",\"showlegend\":true,\"x\":[\"Abdominal aortic aneurysm\",\"Dilated cardiomyopathy (MTAG)\",\"Cardiovascular disease\",\"Hypertrophic cardiomyopathy (sarcomere negative)\",\"Antihypertensive medication - note that there are other indications\",\"Coronary artery disease\",\"Atrial fibrillation\",\"Heart failure\",\"Cardiac arrhytmias\",\"Ischaemic heart disease, wide definition\",\"Migraine\",\"Myocardial infarction\",\"Haemorrhoidal disease\"],\"xaxis\":\"x\",\"y\":[1.6962765740490229,1.3562540193863586,0.8917446976405934,0.8717943873810217,0.8281283062075069,0.736612233294601,0.7024529409853294,0.600837303625428,0.3276093290721635,0.28873726076138856,0.25590531345049344,0.08679394018522071,0.06944754293925572],\"yaxis\":\"y\",\"type\":\"scatter\"},{\"customdata\":[[19,\"cell proliferation disorder\",0.0153788714617108,\"SCARB1;EPAS1\",\"GCST004710\",\"PMID:28598434\"],[19,\"cell proliferation disorder\",0.0234350473829585,\"CDKN1A;LPIN1;DDR2\",\"SAIGE_728_71\",null],[19,\"cell proliferation disorder\",0.2061550439296068,\"RNASET2\",\"GCST004748\",\"PMID:28604730\"],[19,\"cell proliferation disorder\",0.447500965440971,\"CDKN1A;TOX2\",\"GCST007992\",\"PMID:31089142\"],[19,\"cell proliferation disorder\",0.4547717929717223,\"GJC1\",\"FINNGEN_R6_C3_MALE_GENITAL\",null],[19,\"cell proliferation disorder\",0.4547717929717223,\"GJC1\",\"FINNGEN_R6_C3_MALE_GENITAL_EXALLC\",null],[19,\"cell proliferation disorder\",0.5282084219701223,\"RNASET2\",\"SAIGE_172\",null],[19,\"cell proliferation disorder\",0.5547466477670275,\"ID3\",\"GCST004146\",\"PMID:28165464\"],[19,\"cell proliferation disorder\",0.5547466477670275,\"IL21R\",\"GCST90061442\",\"PMID:34033851\"],[19,\"cell proliferation disorder\",0.6364585961150973,\"RNASET2\",\"GCST90027058\",\"PMID:34290314\"],[19,\"cell proliferation disorder\",0.777992860371213,\"RNASET2\",\"GCST008871\",\"PMID:31174203\"],[19,\"cell proliferation disorder\",0.9121531895652748,\"GLI2;VEGFA\",\"GCST011049\",\"PMID:33398198\"],[19,\"cell proliferation disorder\",0.926577614570827,\"TGFBR2\",\"GCST90090980\",\"PMID:32139696\"]],\"hovertemplate\":\"trait_category=%{customdata[1]}\\u003cbr\\u003etrait_reported=%{x}\\u003cbr\\u003e-log10(p-value)=%{y}\\u003cbr\\u003eprogram_name=%{customdata[0]}\\u003cbr\\u003eP-value=%{customdata[2]}\\u003cbr\\u003eGenes=%{customdata[3]}\\u003cbr\\u003estudy_id=%{customdata[4]}\\u003cbr\\u003epmid=%{customdata[5]}\\u003cextra\\u003e\\u003c\\u002fextra\\u003e\",\"legendgroup\":\"cell proliferation disorder\",\"marker\":{\"color\":\"#00cc96\",\"symbol\":\"circle\"},\"mode\":\"markers\",\"name\":\"cell proliferation disorder\",\"orientation\":\"v\",\"showlegend\":true,\"x\":[\"Renal cell carcinoma\",\"Contracture of palmar fascia [dupuytren's disease]\",\"Lung cancer\",\"Colorectal cancer\",\"malignant neoplasm of male genital organs\",\"malignant neoplasm of male genital organs (controls excluding all cancers)\",\"Skin cancer\",\"Chronic lymphocytic leukemia\",\"Primary biliary cholangitis\",\"Non-melanoma skin cancer\",\"Basal cell carcinoma\",\"Prostate cancer\",\"Breast cancer\"],\"xaxis\":\"x\",\"y\":[1.8130755329308288,1.6301341640496123,0.6858060349882722,0.3492060233978256,0.3422064800806736,0.3422064800806736,0.27719467850586216,0.25590531345049344,0.25590531345049344,0.1962298434849674,0.10902438850595701,0.0399322189128057,0.03311819623927466],\"yaxis\":\"y\",\"type\":\"scatter\"},{\"customdata\":[[19,\"disease of visual system\",0.1094421927674374,\"MMAB;MVK\",\"GCST90018814\",\"PMID:34594039\"],[19,\"disease of visual system\",0.3514897829027668,\"VEGFA\",\"GCST001884\",\"PMID:23455636\"],[19,\"disease of visual system\",0.3519476214627181,\"PTPN1;NPC2;PCSK5\",\"GCST009722\",\"PMID:31959993\"],[19,\"disease of visual system\",0.3879164909650702,\"MMAB\",\"FINNGEN_R6_H7_LENS\",null],[19,\"disease of visual system\",0.6901679744939967,\"LIPG;NPC2;ETNK1\",\"GCST010378\",\"PMID:32352494\"],[19,\"disease of visual system\",0.7714508248878551,\"LTBP2\",\"GCST90011770\",\"PMID:33627673\"]],\"hovertemplate\":\"trait_category=%{customdata[1]}\\u003cbr\\u003etrait_reported=%{x}\\u003cbr\\u003e-log10(p-value)=%{y}\\u003cbr\\u003eprogram_name=%{customdata[0]}\\u003cbr\\u003eP-value=%{customdata[2]}\\u003cbr\\u003eGenes=%{customdata[3]}\\u003cbr\\u003estudy_id=%{customdata[4]}\\u003cbr\\u003epmid=%{customdata[5]}\\u003cextra\\u003e\\u003c\\u002fextra\\u003e\",\"legendgroup\":\"disease of visual system\",\"marker\":{\"color\":\"#ab63fa\",\"symbol\":\"circle\"},\"mode\":\"markers\",\"name\":\"disease of visual system\",\"orientation\":\"v\",\"showlegend\":true,\"x\":[\"Cataracts\",\"Age-related macular degeneration\",\"Glaucoma (multi-trait analysis)\",\"Disorders of lens\",\"Spherical equivalent\",\"Glaucoma (primary open-angle)\"],\"xaxis\":\"x\",\"y\":[0.9608152140773768,0.4540872945230746,0.45352196550578805,0.4112617574381072,0.1610451969182307,0.11269175224569011],\"yaxis\":\"y\",\"type\":\"scatter\"},{\"customdata\":[[19,\"endocrine system disease\",0.1376238528655774,\"BHLHE40;RAB2A;IFITM2;RNASET2\",\"GCST010571\",\"PMID:32581359\"],[19,\"endocrine system disease\",0.2061550439296068,\"RNASET2\",\"GCST90018860\",\"PMID:34594039\"],[19,\"endocrine system disease\",0.5172427184455903,\"BHLHE40;RAB2A;RNASET2\",\"GCST007073\",\"PMID:30595370\"],[19,\"endocrine system disease\",0.6569316374263021,\"VEGFA\",\"FINNGEN_R6_E4_THYROID\",null],[19,\"endocrine system disease\",0.7843484737352562,\"VEGFA\",\"FINNGEN_R6_E4_HYTHY_AI_STRICT_PURCH\",null]],\"hovertemplate\":\"trait_category=%{customdata[1]}\\u003cbr\\u003etrait_reported=%{x}\\u003cbr\\u003e-log10(p-value)=%{y}\\u003cbr\\u003eprogram_name=%{customdata[0]}\\u003cbr\\u003eP-value=%{customdata[2]}\\u003cbr\\u003eGenes=%{customdata[3]}\\u003cbr\\u003estudy_id=%{customdata[4]}\\u003cbr\\u003epmid=%{customdata[5]}\\u003cextra\\u003e\\u003c\\u002fextra\\u003e\",\"legendgroup\":\"endocrine system disease\",\"marker\":{\"color\":\"#FFA15A\",\"symbol\":\"circle\"},\"mode\":\"markers\",\"name\":\"endocrine system disease\",\"orientation\":\"v\",\"showlegend\":true,\"x\":[\"Autoimmune thyroid disease\",\"Hyperthyroidism\",\"Hypothyroidism\",\"Disorders of the thyroid gland\",\"Hypothyroidism, strict autoimmune, 3 medication purchases required\"],\"xaxis\":\"x\",\"y\":[0.8613062879746043,0.6858060349882722,0.28630561445857156,0.1824798222716765,0.10549094420805395],\"yaxis\":\"y\",\"type\":\"scatter\"},{\"customdata\":[[19,\"gastrointestinal disease\",0.2199576104207486,\"SMIM29;VEGFA\",\"GCST90094908\",\"PMID:35047847\"],[19,\"gastrointestinal disease\",0.2287500538282526,\"IL21R\",\"FINNGEN_R6_RX_CROHN_2NDLINE\",null],[19,\"gastrointestinal disease\",0.2287500538282526,\"NAV3\",\"FINNGEN_R6_ABDOM_HERNIA\",null],[19,\"gastrointestinal disease\",0.3879164909650702,\"ANPEP\",\"GCST007209\",\"PMID:30504769\"],[19,\"gastrointestinal disease\",0.5282084219701223,\"PCSK5\",\"GCST006479\",\"PMID:30177863\"],[19,\"gastrointestinal disease\",0.5797985937087958,\"PNPLA3\",\"GCST90018819\",\"PMID:34594039\"],[19,\"gastrointestinal disease\",0.6823013749557024,\"TSPAN14;PDGFB\",\"GCST004131\",\"PMID:28067908\"]],\"hovertemplate\":\"trait_category=%{customdata[1]}\\u003cbr\\u003etrait_reported=%{x}\\u003cbr\\u003e-log10(p-value)=%{y}\\u003cbr\\u003eprogram_name=%{customdata[0]}\\u003cbr\\u003eP-value=%{customdata[2]}\\u003cbr\\u003eGenes=%{customdata[3]}\\u003cbr\\u003estudy_id=%{customdata[4]}\\u003cbr\\u003epmid=%{customdata[5]}\\u003cextra\\u003e\\u003c\\u002fextra\\u003e\",\"legendgroup\":\"gastrointestinal disease\",\"marker\":{\"color\":\"#19d3f3\",\"symbol\":\"circle\"},\"mode\":\"markers\",\"name\":\"gastrointestinal disease\",\"orientation\":\"v\",\"showlegend\":true,\"x\":[\"Nonalcoholic fatty liver disease (imputed)\",\"Second line medication for Crohns disease\",\"Hernia of abodminal wall\",\"Gallstone disease\",\"Diverticular disease\",\"Cholelithiasis\",\"Inflammatory bowel disease\"],\"xaxis\":\"x\",\"y\":[0.6576610070603534,0.640638795065622,0.640638795065622,0.4112617574381072,0.27719467850586216,0.23672284235330593,0.16602375354044738],\"yaxis\":\"y\",\"type\":\"scatter\"},{\"customdata\":[[19,\"genetic, familial or congenital disease\",0.056061017525612,\"GNAS\",\"GCST007916\",\"PMID:29124443\"]],\"hovertemplate\":\"trait_category=%{customdata[1]}\\u003cbr\\u003etrait_reported=%{x}\\u003cbr\\u003e-log10(p-value)=%{y}\\u003cbr\\u003eprogram_name=%{customdata[0]}\\u003cbr\\u003eP-value=%{customdata[2]}\\u003cbr\\u003eGenes=%{customdata[3]}\\u003cbr\\u003estudy_id=%{customdata[4]}\\u003cbr\\u003epmid=%{customdata[5]}\\u003cextra\\u003e\\u003c\\u002fextra\\u003e\",\"legendgroup\":\"genetic, familial or congenital disease\",\"marker\":{\"color\":\"#FF6692\",\"symbol\":\"circle\"},\"mode\":\"markers\",\"name\":\"genetic, familial or congenital disease\",\"orientation\":\"v\",\"showlegend\":true,\"x\":[\"Hyperuricemia\"],\"xaxis\":\"x\",\"y\":[1.251339023918792],\"yaxis\":\"y\",\"type\":\"scatter\"},{\"customdata\":[[19,\"immune system disease\",0.1569286846215245,\"SYPL1;UBASH3B;MTHFR;TOX2;RRAS2;BCL10\",\"GCST009597\",\"PMID:31604244\"],[19,\"immune system disease\",0.7647169252273888,\"RNASET2\",\"GCST007071\",\"PMID:30595370\"]],\"hovertemplate\":\"trait_category=%{customdata[1]}\\u003cbr\\u003etrait_reported=%{x}\\u003cbr\\u003e-log10(p-value)=%{y}\\u003cbr\\u003eprogram_name=%{customdata[0]}\\u003cbr\\u003eP-value=%{customdata[2]}\\u003cbr\\u003eGenes=%{customdata[3]}\\u003cbr\\u003estudy_id=%{customdata[4]}\\u003cbr\\u003epmid=%{customdata[5]}\\u003cextra\\u003e\\u003c\\u002fextra\\u003e\",\"legendgroup\":\"immune system disease\",\"marker\":{\"color\":\"#B6E880\",\"symbol\":\"circle\"},\"mode\":\"markers\",\"name\":\"immune system disease\",\"orientation\":\"v\",\"showlegend\":true,\"x\":[\"Multiple sclerosis\",\"Autoimmune traits\"],\"xaxis\":\"x\",\"y\":[0.8042976655001944,0.11649929760822468],\"yaxis\":\"y\",\"type\":\"scatter\"},{\"customdata\":[[19,\"integumentary system disease\",0.2942593684198209,\"PTPN1;RNASET2\",\"GCST004785\",\"PMID:27723757\"],[19,\"integumentary system disease\",0.5547466477670275,\"CCDC80\",\"GCST90086149\",\"PMID:34116867\"],[19,\"integumentary system disease\",0.5917932931517309,\"PNPLA3\",\"GCST90092000\",\"PMID:35132056\"]],\"hovertemplate\":\"trait_category=%{customdata[1]}\\u003cbr\\u003etrait_reported=%{x}\\u003cbr\\u003e-log10(p-value)=%{y}\\u003cbr\\u003eprogram_name=%{customdata[0]}\\u003cbr\\u003eP-value=%{customdata[2]}\\u003cbr\\u003eGenes=%{customdata[3]}\\u003cbr\\u003estudy_id=%{customdata[4]}\\u003cbr\\u003epmid=%{customdata[5]}\\u003cextra\\u003e\\u003c\\u002fextra\\u003e\",\"legendgroup\":\"integumentary system disease\",\"marker\":{\"color\":\"#FF97FF\",\"symbol\":\"circle\"},\"mode\":\"markers\",\"name\":\"integumentary system disease\",\"orientation\":\"v\",\"showlegend\":true,\"x\":[\"Vitiligo\",\"Atopic dermatitis\",\"acne vulgaris\"],\"xaxis\":\"x\",\"y\":[0.5312697015065693,0.25590531345049344,0.22782996104713193],\"yaxis\":\"y\",\"type\":\"scatter\"},{\"customdata\":[[19,\"musculoskeletal or connective tissue disease\",0.1380296513827923,\"MLXIP;PNPLA3\",\"GCST012338\",\"PMID:33832965\"],[19,\"musculoskeletal or connective tissue disease\",0.2507048273189083,\"PLXNA2\",\"GCST008789\",\"PMID:31417091\"],[19,\"musculoskeletal or connective tissue disease\",0.4223060168318421,\"DDR2\",\"GCST004858\",\"PMID:28886342\"]],\"hovertemplate\":\"trait_category=%{customdata[1]}\\u003cbr\\u003etrait_reported=%{x}\\u003cbr\\u003e-log10(p-value)=%{y}\\u003cbr\\u003eprogram_name=%{customdata[0]}\\u003cbr\\u003eP-value=%{customdata[2]}\\u003cbr\\u003eGenes=%{customdata[3]}\\u003cbr\\u003estudy_id=%{customdata[4]}\\u003cbr\\u003epmid=%{customdata[5]}\\u003cextra\\u003e\\u003c\\u002fextra\\u003e\",\"legendgroup\":\"musculoskeletal or connective tissue disease\",\"marker\":{\"color\":\"#FECB52\",\"symbol\":\"circle\"},\"mode\":\"markers\",\"name\":\"musculoskeletal or connective tissue disease\",\"orientation\":\"v\",\"showlegend\":true,\"x\":[\"Gout\",\"Adolescent idiopathic scoliosis\",\"Dupuytren's disease\"],\"xaxis\":\"x\",\"y\":[0.8600276088982539,0.600837303625428,0.3743727308927516],\"yaxis\":\"y\",\"type\":\"scatter\"},{\"customdata\":[[19,\"nervous system disease\",0.2287500538282526,\"ATP2C1\",\"GCST005042\",\"PMID:29029846\"],[19,\"nervous system disease\",0.2942593684198209,\"NUCKS1;SNCA\",\"GCST004902\",\"PMID:28892059\"],[19,\"nervous system disease\",0.2942593684198209,\"NUCKS1;SNCA\",\"GCST010991\",\"PMID:32201043\"],[19,\"nervous system disease\",0.5155063301890639,\"NUCKS1;TCF20;LONRF1;PLXNA2;DUSP6;NFIB;HSD17B12;MTFR1;PTPRN2\",\"GCST90061435\",\"PMID:34446935\"],[19,\"nervous system disease\",0.5416686865549875,\"DUSP6\",\"GCST90016618\",\"PMID:33686288\"],[19,\"nervous system disease\",0.6855089857015289,\"SLC7A11\",\"GCST010017\",\"PMID:32231276\"],[19,\"nervous system disease\",0.6944979938815563,\"NRDC\",\"GCST012090\",\"PMID:33479212\"]],\"hovertemplate\":\"trait_category=%{customdata[1]}\\u003cbr\\u003etrait_reported=%{x}\\u003cbr\\u003e-log10(p-value)=%{y}\\u003cbr\\u003eprogram_name=%{customdata[0]}\\u003cbr\\u003eP-value=%{customdata[2]}\\u003cbr\\u003eGenes=%{customdata[3]}\\u003cbr\\u003estudy_id=%{customdata[4]}\\u003cbr\\u003epmid=%{customdata[5]}\\u003cextra\\u003e\\u003c\\u002fextra\\u003e\",\"legendgroup\":\"nervous system disease\",\"marker\":{\"color\":\"#636efa\",\"symbol\":\"circle\"},\"mode\":\"markers\",\"name\":\"nervous system disease\",\"orientation\":\"v\",\"showlegend\":true,\"x\":[\"Restless legs syndrome\",\"Parkinson's disease\",\"Parkinson's disease\",\"Externalizing behaviour (multivariate analysis)\",\"Schizophrenia vs ADHD (ordinary least squares (OLS))\",\"Neuroticism\",\"Major depressive disorder (MTAG)\"],\"xaxis\":\"x\",\"y\":[0.640638795065622,0.5312697015065693,0.5312697015065693,0.28776599740413,0.2662662699129855,0.16398684807357408,0.15832900442230294],\"yaxis\":\"y\",\"type\":\"scatter\"},{\"customdata\":[[19,\"pancreas disease\",0.7506509700484338,\"GLI2\",\"GCST007077\",\"PMID:30595370\"]],\"hovertemplate\":\"trait_category=%{customdata[1]}\\u003cbr\\u003etrait_reported=%{x}\\u003cbr\\u003e-log10(p-value)=%{y}\\u003cbr\\u003eprogram_name=%{customdata[0]}\\u003cbr\\u003eP-value=%{customdata[2]}\\u003cbr\\u003eGenes=%{customdata[3]}\\u003cbr\\u003estudy_id=%{customdata[4]}\\u003cbr\\u003epmid=%{customdata[5]}\\u003cextra\\u003e\\u003c\\u002fextra\\u003e\",\"legendgroup\":\"pancreas disease\",\"marker\":{\"color\":\"#EF553B\",\"symbol\":\"circle\"},\"mode\":\"markers\",\"name\":\"pancreas disease\",\"orientation\":\"v\",\"showlegend\":true,\"x\":[\"Type 2 diabetes\"],\"xaxis\":\"x\",\"y\":[0.12456194983603248],\"yaxis\":\"y\",\"type\":\"scatter\"},{\"customdata\":[[19,\"phenotype\",0.008688541686716,\"LDLR;IRF2BP2;HMGCR;LIPG;SCARB1;VEGFA\",\"GCST90038690\",\"PMID:33959723\"],[19,\"phenotype\",0.1343400831032873,\"DYSF\",\"FINNGEN_R6_M13_HALLUXVALGUS\",null],[19,\"phenotype\",0.1782415427636318,\"NAV3;PTPRN2\",\"GCST001712\",\"PMID:23049088\"],[19,\"phenotype\",0.2061550439296068,\"NUCKS1\",\"NEALE2_2257\",null],[19,\"phenotype\",0.3049145941394633,\"UBC;SCD;RAB32\",\"NEALE2_1717\",null],[19,\"phenotype\",0.3514897829027668,\"MMAB\",\"FINNGEN_R6_H7_CATARACTSENILE\",null],[19,\"phenotype\",0.4387725338878636,\"LPIN1\",\"SAIGE_728_7\",null],[19,\"phenotype\",0.4387725338878636,\"RAB3C\",\"FINNGEN_R6_K11_HERNIA\",null],[19,\"phenotype\",0.4854209635556349,\"TUBA1A\",\"GCST90013421\",\"PMID:32989287\"],[19,\"phenotype\",0.5917932931517309,\"HSD17B12\",\"GCST008512\",\"PMID:31194737\"],[19,\"phenotype\",0.5917932931517309,\"HSD17B12\",\"GCST012332\",\"PMID:33830993\"],[19,\"phenotype\",0.6762567419240386,\"CPNE3\",\"GCST90018939\",\"PMID:34594039\"],[19,\"phenotype\",0.7012900333459319,\"AKAP12;CDC42BPA\",\"GCST006988\",\"PMID:30531825\"],[19,\"phenotype\",0.9414579808611644,\"VEGFA;NPC2;TOX2;RRAS2;FRY\",\"GCST010002\",\"PMID:32231278\"]],\"hovertemplate\":\"trait_category=%{customdata[1]}\\u003cbr\\u003etrait_reported=%{x}\\u003cbr\\u003e-log10(p-value)=%{y}\\u003cbr\\u003eprogram_name=%{customdata[0]}\\u003cbr\\u003eP-value=%{customdata[2]}\\u003cbr\\u003eGenes=%{customdata[3]}\\u003cbr\\u003estudy_id=%{customdata[4]}\\u003cbr\\u003epmid=%{customdata[5]}\\u003cextra\\u003e\\u003c\\u002fextra\\u003e\",\"legendgroup\":\"phenotype\",\"marker\":{\"color\":\"#00cc96\",\"symbol\":\"circle\"},\"mode\":\"markers\",\"name\":\"phenotype\",\"orientation\":\"v\",\"showlegend\":true,\"x\":[\"High cholesterol\",\"Hallux valgus (acquired)\",\"Myopia (pathological)\",\"Hearing difficulty\\u002fproblems with background noise\",\"Skin colour\",\"Senile cataract\",\"Fasciitis\",\"Hernia\",\"Left-handedness\",\"Multisite chronic pain\",\"Multisite chronic pain\",\"Varicose veins\",\"Blond vs. brown\\u002fblack hair color\",\"Refractive error\"],\"xaxis\":\"x\",\"y\":[2.0610531108424572,0.8717943873810217,0.7489910674689295,0.6858060349882722,0.5158217884829206,0.4540872945230746,0.3577605660432619,0.3577605660432619,0.313881472009155,0.22782996104713193,0.22782996104713193,0.16988839217622498,0.15410233320106417,0.026199058639734853],\"yaxis\":\"y\",\"type\":\"scatter\"},{\"customdata\":[[19,\"respiratory or thoracic disease\",0.2927653966471928,\"IL21R\",\"FINNGEN_R6_ILD_ENDPOINTS\",null],[19,\"respiratory or thoracic disease\",0.4945157231297057,\"THSD4;PRSS23\",\"GCST007692\",\"PMID:30804561\"],[19,\"respiratory or thoracic disease\",0.8684627092415388,\"FADS2\",\"GCST007076\",\"PMID:30595370\"]],\"hovertemplate\":\"trait_category=%{customdata[1]}\\u003cbr\\u003etrait_reported=%{x}\\u003cbr\\u003e-log10(p-value)=%{y}\\u003cbr\\u003eprogram_name=%{customdata[0]}\\u003cbr\\u003eP-value=%{customdata[2]}\\u003cbr\\u003eGenes=%{customdata[3]}\\u003cbr\\u003estudy_id=%{customdata[4]}\\u003cbr\\u003epmid=%{customdata[5]}\\u003cextra\\u003e\\u003c\\u002fextra\\u003e\",\"legendgroup\":\"respiratory or thoracic disease\",\"marker\":{\"color\":\"#ab63fa\",\"symbol\":\"circle\"},\"mode\":\"markers\",\"name\":\"respiratory or thoracic disease\",\"orientation\":\"v\",\"showlegend\":true,\"x\":[\"Interstitial lung disease endpoints\",\"Chronic obstructive pulmonary disease\",\"Respiratory diseases\"],\"xaxis\":\"x\",\"y\":[0.5334802559376316,0.30581989545221594,0.06124882490637182],\"yaxis\":\"y\",\"type\":\"scatter\"},{\"customdata\":[[19,\"urinary system disease\",0.3514897829027668,\"VEGFA\",\"GCST000649_3\",\"PMID:20383146\"]],\"hovertemplate\":\"trait_category=%{customdata[1]}\\u003cbr\\u003etrait_reported=%{x}\\u003cbr\\u003e-log10(p-value)=%{y}\\u003cbr\\u003eprogram_name=%{customdata[0]}\\u003cbr\\u003eP-value=%{customdata[2]}\\u003cbr\\u003eGenes=%{customdata[3]}\\u003cbr\\u003estudy_id=%{customdata[4]}\\u003cbr\\u003epmid=%{customdata[5]}\\u003cextra\\u003e\\u003c\\u002fextra\\u003e\",\"legendgroup\":\"urinary system disease\",\"marker\":{\"color\":\"#FFA15A\",\"symbol\":\"circle\"},\"mode\":\"markers\",\"name\":\"urinary system disease\",\"orientation\":\"v\",\"showlegend\":true,\"x\":[\"Chronic kidney disease [eGFRcrea]\"],\"xaxis\":\"x\",\"y\":[0.4540872945230746],\"yaxis\":\"y\",\"type\":\"scatter\"}],                        {\"template\":{\"data\":{\"histogram2dcontour\":[{\"type\":\"histogram2dcontour\",\"colorbar\":{\"outlinewidth\":0,\"ticks\":\"\"},\"colorscale\":[[0.0,\"#0d0887\"],[0.1111111111111111,\"#46039f\"],[0.2222222222222222,\"#7201a8\"],[0.3333333333333333,\"#9c179e\"],[0.4444444444444444,\"#bd3786\"],[0.5555555555555556,\"#d8576b\"],[0.6666666666666666,\"#ed7953\"],[0.7777777777777778,\"#fb9f3a\"],[0.8888888888888888,\"#fdca26\"],[1.0,\"#f0f921\"]]}],\"choropleth\":[{\"type\":\"choropleth\",\"colorbar\":{\"outlinewidth\":0,\"ticks\":\"\"}}],\"histogram2d\":[{\"type\":\"histogram2d\",\"colorbar\":{\"outlinewidth\":0,\"ticks\":\"\"},\"colorscale\":[[0.0,\"#0d0887\"],[0.1111111111111111,\"#46039f\"],[0.2222222222222222,\"#7201a8\"],[0.3333333333333333,\"#9c179e\"],[0.4444444444444444,\"#bd3786\"],[0.5555555555555556,\"#d8576b\"],[0.6666666666666666,\"#ed7953\"],[0.7777777777777778,\"#fb9f3a\"],[0.8888888888888888,\"#fdca26\"],[1.0,\"#f0f921\"]]}],\"heatmap\":[{\"type\":\"heatmap\",\"colorbar\":{\"outlinewidth\":0,\"ticks\":\"\"},\"colorscale\":[[0.0,\"#0d0887\"],[0.1111111111111111,\"#46039f\"],[0.2222222222222222,\"#7201a8\"],[0.3333333333333333,\"#9c179e\"],[0.4444444444444444,\"#bd3786\"],[0.5555555555555556,\"#d8576b\"],[0.6666666666666666,\"#ed7953\"],[0.7777777777777778,\"#fb9f3a\"],[0.8888888888888888,\"#fdca26\"],[1.0,\"#f0f921\"]]}],\"heatmapgl\":[{\"type\":\"heatmapgl\",\"colorbar\":{\"outlinewidth\":0,\"ticks\":\"\"},\"colorscale\":[[0.0,\"#0d0887\"],[0.1111111111111111,\"#46039f\"],[0.2222222222222222,\"#7201a8\"],[0.3333333333333333,\"#9c179e\"],[0.4444444444444444,\"#bd3786\"],[0.5555555555555556,\"#d8576b\"],[0.6666666666666666,\"#ed7953\"],[0.7777777777777778,\"#fb9f3a\"],[0.8888888888888888,\"#fdca26\"],[1.0,\"#f0f921\"]]}],\"contourcarpet\":[{\"type\":\"contourcarpet\",\"colorbar\":{\"outlinewidth\":0,\"ticks\":\"\"}}],\"contour\":[{\"type\":\"contour\",\"colorbar\":{\"outlinewidth\":0,\"ticks\":\"\"},\"colorscale\":[[0.0,\"#0d0887\"],[0.1111111111111111,\"#46039f\"],[0.2222222222222222,\"#7201a8\"],[0.3333333333333333,\"#9c179e\"],[0.4444444444444444,\"#bd3786\"],[0.5555555555555556,\"#d8576b\"],[0.6666666666666666,\"#ed7953\"],[0.7777777777777778,\"#fb9f3a\"],[0.8888888888888888,\"#fdca26\"],[1.0,\"#f0f921\"]]}],\"surface\":[{\"type\":\"surface\",\"colorbar\":{\"outlinewidth\":0,\"ticks\":\"\"},\"colorscale\":[[0.0,\"#0d0887\"],[0.1111111111111111,\"#46039f\"],[0.2222222222222222,\"#7201a8\"],[0.3333333333333333,\"#9c179e\"],[0.4444444444444444,\"#bd3786\"],[0.5555555555555556,\"#d8576b\"],[0.6666666666666666,\"#ed7953\"],[0.7777777777777778,\"#fb9f3a\"],[0.8888888888888888,\"#fdca26\"],[1.0,\"#f0f921\"]]}],\"mesh3d\":[{\"type\":\"mesh3d\",\"colorbar\":{\"outlinewidth\":0,\"ticks\":\"\"}}],\"scatter\":[{\"fillpattern\":{\"fillmode\":\"overlay\",\"size\":10,\"solidity\":0.2},\"type\":\"scatter\"}],\"parcoords\":[{\"type\":\"parcoords\",\"line\":{\"colorbar\":{\"outlinewidth\":0,\"ticks\":\"\"}}}],\"scatterpolargl\":[{\"type\":\"scatterpolargl\",\"marker\":{\"colorbar\":{\"outlinewidth\":0,\"ticks\":\"\"}}}],\"bar\":[{\"error_x\":{\"color\":\"#2a3f5f\"},\"error_y\":{\"color\":\"#2a3f5f\"},\"marker\":{\"line\":{\"color\":\"#E5ECF6\",\"width\":0.5},\"pattern\":{\"fillmode\":\"overlay\",\"size\":10,\"solidity\":0.2}},\"type\":\"bar\"}],\"scattergeo\":[{\"type\":\"scattergeo\",\"marker\":{\"colorbar\":{\"outlinewidth\":0,\"ticks\":\"\"}}}],\"scatterpolar\":[{\"type\":\"scatterpolar\",\"marker\":{\"colorbar\":{\"outlinewidth\":0,\"ticks\":\"\"}}}],\"histogram\":[{\"marker\":{\"pattern\":{\"fillmode\":\"overlay\",\"size\":10,\"solidity\":0.2}},\"type\":\"histogram\"}],\"scattergl\":[{\"type\":\"scattergl\",\"marker\":{\"colorbar\":{\"outlinewidth\":0,\"ticks\":\"\"}}}],\"scatter3d\":[{\"type\":\"scatter3d\",\"line\":{\"colorbar\":{\"outlinewidth\":0,\"ticks\":\"\"}},\"marker\":{\"colorbar\":{\"outlinewidth\":0,\"ticks\":\"\"}}}],\"scattermapbox\":[{\"type\":\"scattermapbox\",\"marker\":{\"colorbar\":{\"outlinewidth\":0,\"ticks\":\"\"}}}],\"scatterternary\":[{\"type\":\"scatterternary\",\"marker\":{\"colorbar\":{\"outlinewidth\":0,\"ticks\":\"\"}}}],\"scattercarpet\":[{\"type\":\"scattercarpet\",\"marker\":{\"colorbar\":{\"outlinewidth\":0,\"ticks\":\"\"}}}],\"carpet\":[{\"aaxis\":{\"endlinecolor\":\"#2a3f5f\",\"gridcolor\":\"white\",\"linecolor\":\"white\",\"minorgridcolor\":\"white\",\"startlinecolor\":\"#2a3f5f\"},\"baxis\":{\"endlinecolor\":\"#2a3f5f\",\"gridcolor\":\"white\",\"linecolor\":\"white\",\"minorgridcolor\":\"white\",\"startlinecolor\":\"#2a3f5f\"},\"type\":\"carpet\"}],\"table\":[{\"cells\":{\"fill\":{\"color\":\"#EBF0F8\"},\"line\":{\"color\":\"white\"}},\"header\":{\"fill\":{\"color\":\"#C8D4E3\"},\"line\":{\"color\":\"white\"}},\"type\":\"table\"}],\"barpolar\":[{\"marker\":{\"line\":{\"color\":\"#E5ECF6\",\"width\":0.5},\"pattern\":{\"fillmode\":\"overlay\",\"size\":10,\"solidity\":0.2}},\"type\":\"barpolar\"}],\"pie\":[{\"automargin\":true,\"type\":\"pie\"}]},\"layout\":{\"autotypenumbers\":\"strict\",\"colorway\":[\"#636efa\",\"#EF553B\",\"#00cc96\",\"#ab63fa\",\"#FFA15A\",\"#19d3f3\",\"#FF6692\",\"#B6E880\",\"#FF97FF\",\"#FECB52\"],\"font\":{\"color\":\"#2a3f5f\"},\"hovermode\":\"closest\",\"hoverlabel\":{\"align\":\"left\"},\"paper_bgcolor\":\"white\",\"plot_bgcolor\":\"#E5ECF6\",\"polar\":{\"bgcolor\":\"#E5ECF6\",\"angularaxis\":{\"gridcolor\":\"white\",\"linecolor\":\"white\",\"ticks\":\"\"},\"radialaxis\":{\"gridcolor\":\"white\",\"linecolor\":\"white\",\"ticks\":\"\"}},\"ternary\":{\"bgcolor\":\"#E5ECF6\",\"aaxis\":{\"gridcolor\":\"white\",\"linecolor\":\"white\",\"ticks\":\"\"},\"baxis\":{\"gridcolor\":\"white\",\"linecolor\":\"white\",\"ticks\":\"\"},\"caxis\":{\"gridcolor\":\"white\",\"linecolor\":\"white\",\"ticks\":\"\"}},\"coloraxis\":{\"colorbar\":{\"outlinewidth\":0,\"ticks\":\"\"}},\"colorscale\":{\"sequential\":[[0.0,\"#0d0887\"],[0.1111111111111111,\"#46039f\"],[0.2222222222222222,\"#7201a8\"],[0.3333333333333333,\"#9c179e\"],[0.4444444444444444,\"#bd3786\"],[0.5555555555555556,\"#d8576b\"],[0.6666666666666666,\"#ed7953\"],[0.7777777777777778,\"#fb9f3a\"],[0.8888888888888888,\"#fdca26\"],[1.0,\"#f0f921\"]],\"sequentialminus\":[[0.0,\"#0d0887\"],[0.1111111111111111,\"#46039f\"],[0.2222222222222222,\"#7201a8\"],[0.3333333333333333,\"#9c179e\"],[0.4444444444444444,\"#bd3786\"],[0.5555555555555556,\"#d8576b\"],[0.6666666666666666,\"#ed7953\"],[0.7777777777777778,\"#fb9f3a\"],[0.8888888888888888,\"#fdca26\"],[1.0,\"#f0f921\"]],\"diverging\":[[0,\"#8e0152\"],[0.1,\"#c51b7d\"],[0.2,\"#de77ae\"],[0.3,\"#f1b6da\"],[0.4,\"#fde0ef\"],[0.5,\"#f7f7f7\"],[0.6,\"#e6f5d0\"],[0.7,\"#b8e186\"],[0.8,\"#7fbc41\"],[0.9,\"#4d9221\"],[1,\"#276419\"]]},\"xaxis\":{\"gridcolor\":\"white\",\"linecolor\":\"white\",\"ticks\":\"\",\"title\":{\"standoff\":15},\"zerolinecolor\":\"white\",\"automargin\":true,\"zerolinewidth\":2},\"yaxis\":{\"gridcolor\":\"white\",\"linecolor\":\"white\",\"ticks\":\"\",\"title\":{\"standoff\":15},\"zerolinecolor\":\"white\",\"automargin\":true,\"zerolinewidth\":2},\"scene\":{\"xaxis\":{\"backgroundcolor\":\"#E5ECF6\",\"gridcolor\":\"white\",\"linecolor\":\"white\",\"showbackground\":true,\"ticks\":\"\",\"zerolinecolor\":\"white\",\"gridwidth\":2},\"yaxis\":{\"backgroundcolor\":\"#E5ECF6\",\"gridcolor\":\"white\",\"linecolor\":\"white\",\"showbackground\":true,\"ticks\":\"\",\"zerolinecolor\":\"white\",\"gridwidth\":2},\"zaxis\":{\"backgroundcolor\":\"#E5ECF6\",\"gridcolor\":\"white\",\"linecolor\":\"white\",\"showbackground\":true,\"ticks\":\"\",\"zerolinecolor\":\"white\",\"gridwidth\":2}},\"shapedefaults\":{\"line\":{\"color\":\"#2a3f5f\"}},\"annotationdefaults\":{\"arrowcolor\":\"#2a3f5f\",\"arrowhead\":0,\"arrowwidth\":1},\"geo\":{\"bgcolor\":\"white\",\"landcolor\":\"#E5ECF6\",\"subunitcolor\":\"white\",\"showland\":true,\"showlakes\":true,\"lakecolor\":\"white\"},\"title\":{\"x\":0.05},\"mapbox\":{\"style\":\"light\"}}},\"xaxis\":{\"anchor\":\"y\",\"domain\":[0.0,1.0],\"title\":{\"text\":\"trait_reported\"},\"tickfont\":{\"size\":4}},\"yaxis\":{\"anchor\":\"x\",\"domain\":[0.0,1.0],\"title\":{\"text\":\"-log10(p-value)\"},\"tickformat\":\".1f\"},\"legend\":{\"title\":{\"text\":\"trait_category\"},\"tracegroupgap\":0},\"title\":{\"text\":\"Endothelial Cell Programs x GWAS Binary Outcome Enrichments\"},\"width\":1000,\"height\":800,\"shapes\":[{\"line\":{\"dash\":\"dash\"},\"type\":\"line\",\"x0\":0,\"x1\":1,\"xref\":\"x domain\",\"y0\":1.3010299956639813,\"y1\":1.3010299956639813,\"yref\":\"y\"}],\"annotations\":[{\"showarrow\":false,\"text\":\"Significance Threshold (0.05)\",\"x\":1,\"xanchor\":\"right\",\"xref\":\"x domain\",\"y\":1.3010299956639813,\"yanchor\":\"bottom\",\"yref\":\"y\"}]},                        {\"responsive\": true}                    ).then(function(){\n",
       "                            \n",
       "var gd = document.getElementById('893cfb88-faa7-4527-8da4-40af99f81195');\n",
       "var x = new MutationObserver(function (mutations, observer) {{\n",
       "        var display = window.getComputedStyle(gd).display;\n",
       "        if (!display || display === 'none') {{\n",
       "            console.log([gd, 'removed!']);\n",
       "            Plotly.purge(gd);\n",
       "            observer.disconnect();\n",
       "        }}\n",
       "}});\n",
       "\n",
       "// Listen for the removal of the full notebook cells\n",
       "var notebookContainer = gd.closest('#notebook-container');\n",
       "if (notebookContainer) {{\n",
       "    x.observe(notebookContainer, {childList: true});\n",
       "}}\n",
       "\n",
       "// Listen for the clearing of the current output cell\n",
       "var outputEl = gd.closest('.output');\n",
       "if (outputEl) {{\n",
       "    x.observe(outputEl, {childList: true});\n",
       "}}\n",
       "\n",
       "                        })                };                });            </script>        </div>"
      ]
     },
     "metadata": {},
     "output_type": "display_data"
    }
   ],
   "source": [
    "plot_interactive_phewas(data=data,\n",
    "                        title=\"Endothelial Cell Programs x GWAS Binary Outcome Enrichments\",\n",
    "                       query_string=\"trait_category != 'measurement'\")"
   ]
  },
  {
   "cell_type": "markdown",
   "id": "184601fb",
   "metadata": {},
   "source": [
    "## Plot Continuous Trait GWAS Outcomes"
   ]
  },
  {
   "cell_type": "code",
   "execution_count": 4,
   "id": "e9aacf93",
   "metadata": {},
   "outputs": [
    {
     "data": {
      "application/vnd.jupyter.widget-view+json": {
       "model_id": "00dee46d5b594272bea4d8d1ce53ff6f",
       "version_major": 2,
       "version_minor": 0
      },
      "text/plain": [
       "VBox(children=(Dropdown(description='program_name:', options=('All', 36, 19, 8, 28, 35, 21, 41, 1, 2, 47, 34, …"
      ]
     },
     "metadata": {},
     "output_type": "display_data"
    },
    {
     "data": {
      "application/vnd.plotly.v1+json": {
       "config": {
        "plotlyServerURL": "https://plot.ly"
       },
       "data": [
        {
         "customdata": [
          [
           19,
           "measurement",
           0.0001897899623212,
           "RNF145;UBASH3B;FNDC3A;CLIC4;PTTG1IP;NPC1;VEGFA;AZIN1;UBXN7;GLI2;LONRF1;SCARB1;HSD17B12;NFIC;IRF2BP2;LIPG;SMAD1;NUCKS1;PNPLA3;NFE2L2",
           "GCST010242",
           "PMID:32203549"
          ],
          [
           19,
           "measurement",
           0.0061870740076511,
           "TSPAN14;MXRA7;EHD4;CDKN1A;FLNB;UBASH3B;LIPA;IFITM2;PNPLA3;PDLIM1;NPC1;NUDT14;CEBPD;SCD5;VEGFA",
           "GCST90002355",
           "PMID:32888493"
          ],
          [
           19,
           "measurement",
           0.0090906378430656,
           "LDLR;IRF2BP2;PCSK5;UBASH3B;HMGCR;LIPG;GLI2;CMTM6;SCARB1",
           "GCST010245",
           "PMID:32203549"
          ],
          [
           19,
           "measurement",
           0.0110177402679144,
           "FADS1;EHD4;VCP;RNF145;UBASH3B;PCYOX1L;CLCN6;MMAB;MVK;FADS2;NID1;PNPLA3;NRDC;CD9;PDLIM1;ELOVL5",
           "GCST90002349",
           "PMID:32888493"
          ],
          [
           19,
           "measurement",
           0.0111932350853335,
           "FADS2;PNPLA3",
           "GCST90060200",
           "PMID:34503513"
          ],
          [
           19,
           "measurement",
           0.0149903487863079,
           "SLC27A5;RNF145;VEGFA;TMEM60;CLCN6;PXMP4;GLI2;EGR1;LONRF1;NFIC;CDKN1A;SOCS2;KLHL24;NR2F6;NUCKS1;SOBP;PNPLA3;MPC2;NFE2L2",
           "GCST90025958",
           "PMID:34226706"
          ],
          [
           19,
           "measurement",
           0.016957775643521,
           "MLXIP;IRF2BP2;UBASH3B;PNPLA3;RAI14;TANC1;CDC42BPA;GLI2;GNAS;VEGFA",
           "GCST90018977",
           "PMID:34594039"
          ],
          [
           19,
           "measurement",
           0.0181481041838942,
           "LDLR;IRF2BP2;RNF145;UBASH3B;UBC;FNDC3A;PNPLA3;DUSP6;CLIC4;LIPG;PTTG1IP;GLI2;SCARB1;VEGFA",
           "GCST90025955",
           "PMID:34226706"
          ],
          [
           19,
           "measurement",
           0.0182120684927123,
           "RAB2A;IRF2BP2;HMGCR;PNPLA3;GLI2;CMTM6;SCARB1",
           "GCST90018974",
           "PMID:34594039"
          ],
          [
           19,
           "measurement",
           0.020379227896221,
           "SH2D3C;GCNT1;PPIA;IRF2BP2;MARCKS;UBASH3B;IFITM2;S1PR1;PNPLA3;SERTAD1;MMAB;ZYX;ENSA;SCARB1;CEBPD;SCD5;NPC1",
           "GCST90002394",
           "PMID:32888494"
          ],
          [
           19,
           "measurement",
           0.0338500391764281,
           "EHD4;LIPA;VEGFA;AZIN1;IFITM2;SCD5;NPC1",
           "GCST004613",
           "PMID:27863252"
          ],
          [
           19,
           "measurement",
           0.0390763811211738,
           "IRF2BP2;HMGCR;LIPG;SCARB1;VEGFA",
           "GCST90018989",
           "PMID:34594039"
          ],
          [
           19,
           "measurement",
           0.0418606559013246,
           "YWHAZ;EHD4;ACTB;IRF2BP2;CCBE1;FLNB;UBASH3B;ENO1;FLVCR1;CBX5;BNIP3L;FDFT1;UBAP2;HSPA8;WBP2;SMIM29;SCD5;VEGFA",
           "GCST90025970",
           "PMID:34226706"
          ],
          [
           19,
           "measurement",
           0.0434090885564119,
           "MLXIP;NMT2;GPCPD1;GLI2;SCARB1;APOC1;VEGFA",
           "GCST90020026",
           "PMID:34021172"
          ],
          [
           19,
           "measurement",
           0.0442123248254086,
           "NFE2L2;RAI14;TANC1;CALR;TGFBR2;GLI2;SMIM29;GNAS;ABCC1;VEGFA",
           "GCST008058",
           "PMID:31152163"
          ],
          [
           19,
           "measurement",
           0.0508217351163794,
           "LDLR;IRF2BP2;PCSK5;HMGCR;GLI2;CMTM6;SCARB1;VEGFA",
           "GCST010243",
           "PMID:32203549"
          ],
          [
           19,
           "measurement",
           0.0539883803136624,
           "SCD5;SLC7A11;PTPN1;IFITM2;S1PR1;MIIP;ZRANB1;ENSA;JUND;BTG1;CEBPD;TOX2",
           "GCST90002302",
           "PMID:32888493"
          ],
          [
           19,
           "measurement",
           0.0566786261920362,
           "EHD4;UBASH3B;PTPN1;LIPA;IFITM2;AZIN1;PNPLA3;TGM2;DDR2;CD46;SCD5;VEGFA",
           "GCST90018978",
           "PMID:34594039"
          ],
          [
           19,
           "measurement",
           0.0581715954057249,
           "TSPAN14;EHD4;CDKN1A;ITGA10;FLNB;UBASH3B;PTPN1;IFITM2;PNPLA3;TGM2;NUDT14;RAI14;SCD5;NPC1",
           "GCST90002378",
           "PMID:32888493"
          ],
          [
           19,
           "measurement",
           0.0598686523759518,
           "CDKN1A;MLXIP;VEGFA;CLCN6;S1PR1;PNPLA3;GLI2;NPC1",
           "GCST90018943",
           "PMID:34594039"
          ],
          [
           19,
           "measurement",
           0.0603919844724791,
           "FADS1;VCP;IRF2BP2;CCBE1;RNF145;PTPN1;RTN4;PNPLA3;SQLE;TGM2;NAV3;PDIA5;FADS2;PIK3C2A;CD9;WBP2;RAI14",
           "GCST90002361",
           "PMID:32888493"
          ],
          [
           19,
           "measurement",
           0.0662418066506201,
           "SCARB1;S1PR1;IRF2BP2",
           "GCST90085816",
           "PMID:34469753"
          ],
          [
           19,
           "measurement",
           0.0673634132194936,
           "MLXIP;PNPLA3;LMNA;RAI14;GLI2;GNAS;VEGFA",
           "GCST008972",
           "PMID:31578528"
          ],
          [
           19,
           "measurement",
           0.0673634132194936,
           "MLXIP;PNPLA3;LMNA;RAI14;GLI2;GNAS;VEGFA",
           "GCST008972_2",
           "PMID:31578528"
          ],
          [
           19,
           "measurement",
           0.0673634132194936,
           "MLXIP;PNPLA3;LMNA;RAI14;GLI2;GNAS;VEGFA",
           "GCST008972_3",
           "PMID:31578528"
          ],
          [
           19,
           "measurement",
           0.0801643768034926,
           "MLXIP;PNPLA3;FAM114A1;GLI2;SCARB1",
           "GCST90018973",
           "PMID:34594039"
          ],
          [
           19,
           "measurement",
           0.0801643768034926,
           "RAB2A;GNAQ;S100A11;LIPG;RRAS2",
           "GCST90000618",
           "PMID:32242144"
          ],
          [
           19,
           "measurement",
           0.0812956978300935,
           "CDKN1A;ELOVL5;ITSN1;TKT;UBASH3B;FADS2;CLIC4;GLI2;HSPA8;CD46;SMIM29;RAI14;ABCC1;NFIC;SCD5;VEGFA",
           "GCST90025974",
           "PMID:34226706"
          ],
          [
           19,
           "measurement",
           0.0829069885868102,
           "TOX2",
           "GCST90012059",
           "PMID:33067605"
          ],
          [
           19,
           "measurement",
           0.0838740937961106,
           "YWHAZ;EHD4;PPIA;IRF2BP2;CCBE1;FLNB;UBASH3B;ENO1;AZIN1;SCD5;VEGFA",
           "GCST90025971",
           "PMID:34226706"
          ],
          [
           19,
           "measurement",
           0.086814728194195,
           "EHD4;LIPA;VEGFA;AZIN1;IFITM2;NPC1",
           "GCST004620",
           "PMID:27863252"
          ],
          [
           19,
           "measurement",
           0.0870176384907033,
           "PCYOX1;TFB1M;IRF2BP2;SYT1;TCF20;PTPN1;DUSP6;NFIB;CPNE3;GJC1;HABP4;PDIA6;MTFR1;PTPRN2",
           "GCST006570",
           "PMID:30038396"
          ],
          [
           19,
           "measurement",
           0.0882332442153908,
           "YWHAZ;EHD4;UBASH3B;NUDT14;VEGFA;AZIN1;BNIP3L;FDFT1;GLI2;HSPA8;SCARB1;IRF2BP2;CCBE1;ITSN1;SQLE;FLVCR1;ABCC1;SCD5;FLNB;RAI14",
           "GCST90002386",
           "PMID:32888494"
          ],
          [
           19,
           "measurement",
           0.0882332442153908,
           "YWHAZ;EHD4;UBASH3B;NUDT14;VEGFA;AZIN1;BNIP3L;FDFT1;GLI2;HSPA8;SCARB1;IRF2BP2;CCBE1;ITSN1;SQLE;FLVCR1;ABCC1;SCD5;FLNB;RAI14",
           "GCST90002387",
           "PMID:32888494"
          ],
          [
           19,
           "measurement",
           0.0882332442153908,
           "YWHAZ;EHD4;UBASH3B;NUDT14;VEGFA;AZIN1;BNIP3L;FDFT1;GLI2;HSPA8;SCARB1;IRF2BP2;CCBE1;ITSN1;SQLE;FLVCR1;ABCC1;SCD5;FLNB;RAI14",
           "GCST90002406",
           "PMID:32888494"
          ],
          [
           19,
           "measurement",
           0.0898135263762215,
           "SLC9A3R1;ABCC1;IFITM2;ZYX;CEBPD;SCD5",
           "GCST90002296",
           "PMID:32888493"
          ],
          [
           19,
           "measurement",
           0.0898135263762215,
           "EHD4;LIPA;IFITM2;AZIN1;SCD5;NPC1",
           "GCST004614",
           "PMID:27863252"
          ],
          [
           19,
           "measurement",
           0.0913996078620031,
           "CDKN1A;TKT",
           "GCST007104",
           "PMID:30012220"
          ],
          [
           19,
           "measurement",
           0.1011866024626775,
           "STARD4;FNDC3A;GGT7;GNAQ;DNAJC21;NFIB;BTG1;HSD17B12;PTPRN2",
           "GCST007078",
           "PMID:30595370"
          ],
          [
           19,
           "measurement",
           0.1156390146772262,
           "SYT1;CBX5;DNAJB9;NPC1;VASH2;BNIP3L;DUSP6;LONRF1;PLK2;NR2F1;IRF2BP2;MARCKS;PNPLA8;NFIB;GJC1;TFB1M;PTPN1;NAV3;PDIA6",
           "GCST006442",
           "PMID:30038396"
          ],
          [
           19,
           "measurement",
           0.1271408373891563,
           "FADS1;ITSN1;SPTLC2;PNPLA3;BNIP3L;FADS2;CSNK1G2;HSPA8;ABCC1;PTTG1IP",
           "GCST90002372",
           "PMID:32888493"
          ],
          [
           19,
           "measurement",
           0.1368459709529698,
           "TSPAN14;RAB2A;LRRC8B;EHD4;VCP;UBASH3B;ZYX;ENSA;CD46;PLK2;CEBPD;SCD5",
           "GCST90002344",
           "PMID:32888493"
          ],
          [
           19,
           "measurement",
           0.1428017404740746,
           "ARHGAP29;PXMP4;PNPLA3;ANPEP",
           "GCST90019498",
           "PMID:33462484"
          ],
          [
           19,
           "measurement",
           0.1456651650884171,
           "IRF2BP2;CCBE1;ITSN1;PTPN1;PNPLA3;BNIP3L;TOX2;ABCC1;SMAD1;PTTG1IP",
           "GCST90018964",
           "PMID:34594039"
          ],
          [
           19,
           "measurement",
           0.1460690736456073,
           "ARHGAP29;EHD4;IRF2BP2;CCBE1;UBASH3B;PTPN1;ENO1;PNPLA3;SQLE;HABP4;NAV3;CLIC4;PDIA5;DNAJB6;RAI14;TM4SF1;VEGFA",
           "GCST90002400",
           "PMID:32888494"
          ],
          [
           19,
           "measurement",
           0.1478912000001314,
           "PDIA5;LIPA",
           "GCST003194",
           "PMID:26561523"
          ],
          [
           19,
           "measurement",
           0.158969452706878,
           "EPAS1",
           "GCST009500",
           "PMID:31681408"
          ],
          [
           19,
           "measurement",
           0.158969452706878,
           "ARHGAP29",
           "GCST90032354",
           "PMID:35115689"
          ],
          [
           19,
           "measurement",
           0.158969452706878,
           "ARHGAP29",
           "GCST90032585",
           "PMID:35115689"
          ],
          [
           19,
           "measurement",
           0.158969452706878,
           "ARHGAP29",
           "GCST90032586",
           "PMID:35115689"
          ],
          [
           19,
           "measurement",
           0.158969452706878,
           "LTBP2",
           "GCST90095201",
           "PMID:34743558"
          ],
          [
           19,
           "measurement",
           0.1667868813477533,
           "ARHGAP29;CDKN1A;UBASH3B;PNPLA3;DUSP6;TM4SF1;VEGFA",
           "GCST90018944",
           "PMID:34594039"
          ],
          [
           19,
           "measurement",
           0.1697894700604497,
           "NPC1;SMIM29;HSD17B12;JUND",
           "GCST005830",
           "PMID:29691431"
          ],
          [
           19,
           "measurement",
           0.1762549090120402,
           "PMP22;APOC1;CD46",
           "GCST003818",
           "PMID:27798624"
          ],
          [
           19,
           "measurement",
           0.1990982922314336,
           "IFITM2;S1PR1;MIIP;BTG1;CEBPD;SCD5",
           "GCST004624",
           "PMID:27863252"
          ],
          [
           19,
           "measurement",
           0.2061550439296068,
           "NFIB",
           "GCST007445",
           "PMID:30586737"
          ],
          [
           19,
           "measurement",
           0.2061550439296068,
           "GNAS",
           "GCST001610",
           "PMID:22797727"
          ],
          [
           19,
           "measurement",
           0.2061550439296068,
           "PHTF1",
           "GCST009890",
           "PMID:30642433"
          ],
          [
           19,
           "measurement",
           0.2061550439296068,
           "IRF2BP2",
           "GCST90012023",
           "PMID:33067605"
          ],
          [
           19,
           "measurement",
           0.2061550439296068,
           "TSPAN14",
           "GCST90012054",
           "PMID:33067605"
          ],
          [
           19,
           "measurement",
           0.2061550439296068,
           "PNPLA3",
           "GCST90016673",
           "PMID:34128465"
          ],
          [
           19,
           "measurement",
           0.2126686371895756,
           "INSIG1;TGFBR2;CCBE1",
           "GCST008758",
           "PMID:31219150"
          ],
          [
           19,
           "measurement",
           0.2142982732767858,
           "MLXIP;IRF2BP2;CCBE1;ITSN1;LBR;PTPN1;CLCN6;PNPLA3;BNIP3L;TOX2;SCARB1;PTTG1IP",
           "GCST90002338",
           "PMID:32888493"
          ],
          [
           19,
           "measurement",
           0.2168226626342707,
           "CDKN1A;VEGFA;S1PR1;NFIB;MMP17;CDC42BPA;GLI2;PTTG1IP",
           "GCST90018954",
           "PMID:34594039"
          ],
          [
           19,
           "measurement",
           0.217787614798976,
           "MLXIP;SOCS2;GNAQ;NFIB;SMIM29;CLTC;CCN2",
           "GCST90025948",
           "PMID:34226706"
          ],
          [
           19,
           "measurement",
           0.2182686643282181,
           "SH2D3C;EHD4;UBASH3B;LIPA;IFITM2;AZIN1;BNIP3L;ELOVL5;CEBPD;SCD5;NPC1",
           "GCST90002399",
           "PMID:32888494"
          ],
          [
           19,
           "measurement",
           0.2216192912207304,
           "S1PR1;PNPLA3;LIPE;NR2F6;EGR1;NFE2L2",
           "GCST90012114",
           "PMID:32042192"
          ],
          [
           19,
           "measurement",
           0.2287500538282526,
           "MTHFR",
           "GCST002087",
           "PMID:23824729"
          ],
          [
           19,
           "measurement",
           0.2289265977227501,
           "SH2D3C;RAB2A;ABCC1;ZYX;CEBPD",
           "GCST90002380",
           "PMID:32888494"
          ],
          [
           19,
           "measurement",
           0.2459393785478721,
           "EHD4;SOBP;IRF2BP2;MSMO1;MARCKS;THSD4;UBASH3B;GPCPD1;TANC1;MAP1B;TGFBR2;CLIC4;NAV3;NFIB;BTG1;PRXL2A;NFIC;VEGFA",
           "GCST007066",
           "PMID:30595370"
          ],
          [
           19,
           "measurement",
           0.2507048273189083,
           "ABCC1",
           "GCST90019386",
           "PMID:33328453"
          ],
          [
           19,
           "measurement",
           0.2507048273189083,
           "ABCC1",
           "GCST90019430",
           "PMID:33328453"
          ],
          [
           19,
           "measurement",
           0.2507048273189083,
           "SMURF2",
           "GCST003998",
           "PMID:27182965"
          ],
          [
           19,
           "measurement",
           0.2533202811313329,
           "YWHAZ;UBASH3B;MMAB;GNAQ;ZRANB1;DUSP6;NFIB;CPNE3;UBXN7;CSNK1G2;NPC1;RTN4;HSD17B12;VEGFA",
           "GCST009004",
           "PMID:30239722"
          ],
          [
           19,
           "measurement",
           0.2668816838535806,
           "SH2D3C;SLC7A11;PTPN1;IFITM2;S1PR1;DUSP6;ENSA;TOX2;BTG1;CEBPD;NFIC;SCD5",
           "GCST90002382",
           "PMID:32888494"
          ],
          [
           19,
           "measurement",
           0.2720374240745888,
           "ID3",
           "GCST012006",
           "PMID:34006833"
          ],
          [
           19,
           "measurement",
           0.2720374240745888,
           "ID3",
           "GCST012008",
           "PMID:34006833"
          ],
          [
           19,
           "measurement",
           0.2720374240745888,
           "MARCKS",
           "GCST006097",
           "PMID:29899525"
          ],
          [
           19,
           "measurement",
           0.2720374240745888,
           "DTD1",
           "GCST006952",
           "PMID:29500382"
          ],
          [
           19,
           "measurement",
           0.2775692896514996,
           "IER2;UBASH3B;INO80C;LETM2;ODF2L;DIPK1B;ZRANB1;MNT;GLI2;GNAS;LTBP2;CCBE1;SOCS2;NFIB;VAMP5;DDR2;SMURF2;NUCKS1;FLNB;PTPN1;CPNE3;CCN1;NFE2L2",
           "GCST90000025",
           "PMID:33097823"
          ],
          [
           19,
           "measurement",
           0.2787192591076367,
           "ACTB;GLI2;NPC1;PLK2;APOC1;VEGFA",
           "GCST90018975",
           "PMID:34594039"
          ],
          [
           19,
           "measurement",
           0.2808694557435136,
           "EHD4;SLC9A3R1;UBASH3B;PTPN1;LIPA;IFITM2;AZIN1;S1PR1;BNIP3L;ELOVL5;CEBPD",
           "GCST90002389",
           "PMID:32888494"
          ],
          [
           19,
           "measurement",
           0.2927653966471928,
           "FLNB",
           "GCST009404",
           "PMID:31798171"
          ],
          [
           19,
           "measurement",
           0.2927653966471928,
           "LRP8",
           "NEALE2_1950",
           null
          ],
          [
           19,
           "measurement",
           0.2968678906533512,
           "TMEM60;FRY;EPAS1;GGT7;RAI14;GLI2;KRT18;GNAS;VEGFA",
           "GCST90018979",
           "PMID:34594039"
          ],
          [
           19,
           "measurement",
           0.3051467678839975,
           "MLXIP;GPCPD1;GLI2;SCARB1;RRAS2;APOC1;VEGFA",
           "GCST90020027",
           "PMID:34021172"
          ],
          [
           19,
           "measurement",
           0.3129058046429355,
           "PLXNA2",
           "GCST90026029",
           "PMID:33437055"
          ],
          [
           19,
           "measurement",
           0.3129058046429355,
           "PTPN1",
           "GCST009697",
           "PMID:31636452"
          ],
          [
           19,
           "measurement",
           0.3167002851483499,
           "CDKN1A;XPC;IRF2BP2;S1PR1;SOCS2;CLCN6;PNPLA3;PLXNA2;NR2F6;GLI2;CD46;HSD17B12;UBAP2;VEGFA",
           "GCST90025989",
           "PMID:34226706"
          ],
          [
           19,
           "measurement",
           0.3194091756726575,
           "MLXIP;ADIPOR2;ACSS2;EGFL7;MTHFR;IER5L;FDFT1;ELOVL5;ABCC1;SNCA;TOX2",
           "GCST90025975",
           "PMID:34226706"
          ],
          [
           19,
           "measurement",
           0.3199270355016073,
           "NUCKS1;TUBA1A;NR2F1;THSD4;ME1;LRP8;KLHL24;PLXNA2;NAV3;NFIB;DPYSL2;VEGFA",
           "GCST90091061",
           "PMID:34560273"
          ],
          [
           19,
           "measurement",
           0.3259486585004312,
           "FLNB;THSD4",
           "GCST90093370",
           "PMID:34968759"
          ],
          [
           19,
           "measurement",
           0.332475228503348,
           "CFAP54",
           "GCST001414",
           "PMID:22359512"
          ],
          [
           19,
           "measurement",
           0.332475228503348,
           "CFAP54",
           "GCST001414_2",
           "PMID:22359512"
          ],
          [
           19,
           "measurement",
           0.3438141145772319,
           "NUCKS1;IRF2BP2;PTPN1;FNDC3A;PLXNA2;GLI2;CD46;VEGFA",
           "GCST011520",
           "PMID:33587031"
          ],
          [
           19,
           "measurement",
           0.3466655775414268,
           "PCYOX1;IRF2BP2;UBASH3B;S1PR1;AZIN1;GLI2;ELOVL6",
           "GCST90018942",
           "PMID:34594039"
          ],
          [
           19,
           "measurement",
           0.3514897829027668,
           "VEGFA",
           "GCST001856_7",
           "PMID:23408906"
          ],
          [
           19,
           "measurement",
           0.3514897829027668,
           "KLHL24",
           "GCST011946",
           "PMID:33293549"
          ],
          [
           19,
           "measurement",
           0.3514897829027668,
           "THSD4",
           "GCST90007181",
           "PMID:33288918"
          ],
          [
           19,
           "measurement",
           0.3514897829027668,
           "THSD4",
           "GCST90007182",
           "PMID:33288918"
          ],
          [
           19,
           "measurement",
           0.3558828338950904,
           "BNIP3L;HSPA8;ABCC1;ITSN1",
           "GCST90002332",
           "PMID:32888493"
          ],
          [
           19,
           "measurement",
           0.3642468213732557,
           "TMEM60;RAI14;ZRANB1;GLI2;PRSS23;GNAS",
           "GCST90025991",
           "PMID:34226706"
          ],
          [
           19,
           "measurement",
           0.3672124119043087,
           "SH2D3C;IRF2BP2;UBASH3B;IFITM2;CEBPD",
           "GCST004608",
           "PMID:27863252"
          ],
          [
           19,
           "measurement",
           0.3699651297729389,
           "S1PR1",
           "GCST90085817",
           "PMID:34469753"
          ],
          [
           19,
           "measurement",
           0.3699651297729389,
           "LRP8",
           "GCST006951",
           "PMID:29500382"
          ],
          [
           19,
           "measurement",
           0.3778430112831962,
           "AKAP12;NFIC",
           "GCST011011",
           "PMID:32339537"
          ],
          [
           19,
           "measurement",
           0.3785881529517301,
           "MLXIP;GPCPD1;NFE2L2;SMIM29;VEGFA",
           "GCST90020024",
           "PMID:34021172"
          ],
          [
           19,
           "measurement",
           0.3879164909650702,
           "CD46",
           "GCST001969",
           "PMID:23583979"
          ],
          [
           19,
           "measurement",
           0.3879164909650702,
           "SNCA",
           "GCST006948",
           "PMID:29500382"
          ],
          [
           19,
           "measurement",
           0.3879164909650702,
           "GCSH",
           "GCST007638",
           "PMID:30837465"
          ],
          [
           19,
           "measurement",
           0.4013208522587543,
           "CDKN1A;SUB1;CCBE1;SQLE;EPAS1",
           "GCST010321",
           "PMID:32439900"
          ],
          [
           19,
           "measurement",
           0.4053586605593682,
           "EPAS1",
           "GCST009499",
           "PMID:31681408"
          ],
          [
           19,
           "measurement",
           0.418148725216143,
           "PTPRN2;SYT1",
           "GCST90011298",
           "PMID:32895543"
          ],
          [
           19,
           "measurement",
           0.4223060168318421,
           "AZIN1",
           "GCST010346",
           "PMID:32386560"
          ],
          [
           19,
           "measurement",
           0.4223060168318421,
           "AZIN1",
           "GCST010346_2",
           "PMID:32386560"
          ],
          [
           19,
           "measurement",
           0.4223060168318421,
           "AZIN1",
           "GCST010346_3",
           "PMID:32386560"
          ],
          [
           19,
           "measurement",
           0.4223060168318421,
           "PIK3C2A",
           "GCST90014267",
           "PMID:33979322"
          ],
          [
           19,
           "measurement",
           0.4280219422040659,
           "ZYX;ABCC1",
           "GCST004634",
           "PMID:27863252"
          ],
          [
           19,
           "measurement",
           0.4296079375240765,
           "SOCS2;NAV3;PNMA2;DPYSL2;CD46",
           "GCST010698",
           "PMID:32665545"
          ],
          [
           19,
           "measurement",
           0.4296079375240765,
           "SOCS2;NAV3;PNMA2;DPYSL2;CD46",
           "GCST010702",
           "PMID:32665545"
          ],
          [
           19,
           "measurement",
           0.4334836353565367,
           "BTG1;CEBPD;S1PR1;SCD5",
           "GCST004617",
           "PMID:27863252"
          ],
          [
           19,
           "measurement",
           0.4368096686319351,
           "BHLHE40;RAB2A;RNASET2",
           "GCST90018990",
           "PMID:34594039"
          ],
          [
           19,
           "measurement",
           0.4387725338878636,
           "SMIM29",
           "GCST007490",
           "PMID:30166351"
          ],
          [
           19,
           "measurement",
           0.4439816527134052,
           "PTPN1;PNPLA3;SQLE;CLIC4;CYP51A1;NFIB;RAI14;ACACA",
           "GCST90002308",
           "PMID:32888493"
          ],
          [
           19,
           "measurement",
           0.4459625274121073,
           "ARHGAP29;LRRC8B;CCBE1;UBASH3B;IFITM2;DUSP6",
           "GCST90018976",
           "PMID:34594039"
          ],
          [
           19,
           "measurement",
           0.447500965440971,
           "NR2F1;VEGFA",
           "GCST010696",
           "PMID:32665545"
          ],
          [
           19,
           "measurement",
           0.447500965440971,
           "NR2F1;VEGFA",
           "GCST010700",
           "PMID:32665545"
          ],
          [
           19,
           "measurement",
           0.4636903021542604,
           "LIPA;NFE2L2;LIPG;FDFT1;TM4SF19;GLI2;SCARB1",
           "GCST90025959",
           "PMID:34226706"
          ],
          [
           19,
           "measurement",
           0.465152707449157,
           "BTG1;CEBPD;S1PR1;SCD5",
           "GCST004623",
           "PMID:27863252"
          ],
          [
           19,
           "measurement",
           0.4699827852886225,
           "MLXIP;IRF2BP2;ITSN1;PTPN1;BNIP3L;CLIC4;NFIB;RAI14",
           "GCST90018971",
           "PMID:34594039"
          ],
          [
           19,
           "measurement",
           0.4760098066584078,
           "LRP8;PTPRN2",
           "GCST007326",
           "PMID:30643258"
          ],
          [
           19,
           "measurement",
           0.4805511540600514,
           "BAZ2A;RNF145;PTPN1;CLIC4;NRDC;PDIA5;CD9;GJC1;HABP4;CLTC;APOC1",
           "GCST90002401",
           "PMID:32888494"
          ],
          [
           19,
           "measurement",
           0.4854209635556349,
           "NPC1",
           "GCST008522",
           "PMID:31046077"
          ],
          [
           19,
           "measurement",
           0.488662354006874,
           "SRBD1;RAB32;NR2F1",
           "GCST90026052",
           "PMID:33437055"
          ],
          [
           19,
           "measurement",
           0.488662354006874,
           "SRBD1;RAB32;NR2F1",
           "GCST90026060",
           "PMID:33437055"
          ],
          [
           19,
           "measurement",
           0.488662354006874,
           "SRBD1;RAB32;NR2F1",
           "GCST90026062",
           "PMID:33437055"
          ],
          [
           19,
           "measurement",
           0.488662354006874,
           "SRBD1;RAB32;NR2F1",
           "GCST90026067",
           "PMID:33437055"
          ],
          [
           19,
           "measurement",
           0.488662354006874,
           "SRBD1;RAB32;NR2F1",
           "GCST90026126",
           "PMID:33437055"
          ],
          [
           19,
           "measurement",
           0.488662354006874,
           "SRBD1;RAB32;NR2F1",
           "GCST90026140",
           "PMID:33437055"
          ],
          [
           19,
           "measurement",
           0.488662354006874,
           "SRBD1;RAB32;NR2F1",
           "GCST90026156",
           "PMID:33437055"
          ],
          [
           19,
           "measurement",
           0.488662354006874,
           "SRBD1;RAB32;NR2F1",
           "GCST90026185",
           "PMID:33437055"
          ],
          [
           19,
           "measurement",
           0.488662354006874,
           "SRBD1;RAB32;NR2F1",
           "GCST90026200",
           "PMID:33437055"
          ],
          [
           19,
           "measurement",
           0.488662354006874,
           "SRBD1;RAB32;NR2F1",
           "GCST90026203",
           "PMID:33437055"
          ],
          [
           19,
           "measurement",
           0.488662354006874,
           "SRBD1;RAB32;NR2F1",
           "GCST90026212",
           "PMID:33437055"
          ],
          [
           19,
           "measurement",
           0.488662354006874,
           "SRBD1;RAB32;NR2F1",
           "GCST90026216",
           "PMID:33437055"
          ],
          [
           19,
           "measurement",
           0.488662354006874,
           "SRBD1;RAB32;NR2F1",
           "GCST90026243",
           "PMID:33437055"
          ],
          [
           19,
           "measurement",
           0.488662354006874,
           "SRBD1;RAB32;NR2F1",
           "GCST90026306",
           "PMID:33437055"
          ],
          [
           19,
           "measurement",
           0.488662354006874,
           "SRBD1;RAB32;NR2F1",
           "GCST90026310",
           "PMID:33437055"
          ],
          [
           19,
           "measurement",
           0.488662354006874,
           "SRBD1;RAB32;NR2F1",
           "GCST90026314",
           "PMID:33437055"
          ],
          [
           19,
           "measurement",
           0.5000961706667439,
           "VEGFA",
           "GCST90002238",
           "PMID:34059833"
          ],
          [
           19,
           "measurement",
           0.5022999104645244,
           "DUSP6;NFIB;CBX5;IRF2BP2",
           "GCST90000047",
           "PMID:34211149"
          ],
          [
           19,
           "measurement",
           0.5115295825864637,
           "RAB2A;UBASH3B;PTPN1;HDGFL3;FDFT1;ELOVL5;RTN4;PLK2;ACACA",
           "GCST90002320",
           "PMID:32888493"
          ],
          [
           19,
           "measurement",
           0.5143547315191779,
           "HSD17B12",
           "GCST007561",
           "PMID:30846698"
          ],
          [
           19,
           "measurement",
           0.5143547315191779,
           "SMIM29",
           "GCST90016667",
           "PMID:34128465"
          ],
          [
           19,
           "measurement",
           0.5204538292975093,
           "RNF145;PRSS23;GNAS;RAI14",
           "GCST90018948",
           "PMID:34594039"
          ],
          [
           19,
           "measurement",
           0.5233338457846393,
           "B4GALT5;VCL;TUBA1A;NR2F1;IRF2BP2;PCSK5;THSD4;ME1;LRP8;S1PR1;PLXNA2;AKAP12;NAV3;NFIB;CDC42BPA;DPYSL2;RRAS2",
           "GCST90095129",
           "PMID:34910505"
          ],
          [
           19,
           "measurement",
           0.530264315956697,
           "SOCS2;PCSK5",
           "GCST001956",
           "PMID:23563607"
          ],
          [
           19,
           "measurement",
           0.5382935818303047,
           "MNT;PIK3C2A;SNCA;NFIB",
           "GCST007988",
           "PMID:30804565"
          ],
          [
           19,
           "measurement",
           0.5382935818303047,
           "MNT;PIK3C2A;SNCA;NFIB",
           "GCST007988_2",
           "PMID:30804565"
          ],
          [
           19,
           "measurement",
           0.5382935818303047,
           "MNT;PIK3C2A;SNCA;NFIB",
           "GCST007988_3",
           "PMID:30804565"
          ],
          [
           19,
           "measurement",
           0.5469364599426958,
           "IRF2BP2;ITSN1;PTPN1;BNIP3L;ZRANB1;CLIC4;NFIB;RAI14;PTTG1IP",
           "GCST90002367",
           "PMID:32888493"
          ],
          [
           19,
           "measurement",
           0.5547466477670275,
           "ZRANB1",
           "GCST006014",
           "PMID:29403010"
          ],
          [
           19,
           "measurement",
           0.5627008272548027,
           "INSIG1;PDGFB;AKAP12;DUSP6;CDC42BPA;SCARB1;RAI14",
           "GCST007082",
           "PMID:30595370"
          ],
          [
           19,
           "measurement",
           0.564264367018959,
           "FLNB;THSD4",
           "GCST009724",
           "PMID:31959993"
          ],
          [
           19,
           "measurement",
           0.584737603881208,
           "INSIG1;UBC;ETNK1",
           "GCST011567",
           "PMID:32939015"
          ],
          [
           19,
           "measurement",
           0.584737603881208,
           "INSIG1;UBC;ETNK1",
           "GCST011568",
           "PMID:32939015"
          ],
          [
           19,
           "measurement",
           0.5897176239190327,
           "THSD4;PRSS23;DYSF;FRY",
           "GCST007430",
           "PMID:30804560"
          ],
          [
           19,
           "measurement",
           0.5911514694477766,
           "TCF20;PTPRN2;SYT1",
           "GCST90011875",
           "PMID:33414549"
          ],
          [
           19,
           "measurement",
           0.6034471354601211,
           "VEGFA",
           "GCST008790",
           "PMID:31511532"
          ],
          [
           19,
           "measurement",
           0.6037875810677646,
           "IL21R;ARHGAP29;RAB2A",
           "GCST90019515",
           "PMID:33462484"
          ],
          [
           19,
           "measurement",
           0.6090754937100225,
           "THSD4;LRP8;NAV3;PNMA2;DPYSL2;RRAS2;VEGFA",
           "GCST010699",
           "PMID:32665545"
          ],
          [
           19,
           "measurement",
           0.6090754937100225,
           "THSD4;LRP8;NAV3;PNMA2;DPYSL2;RRAS2;VEGFA",
           "GCST010703",
           "PMID:32665545"
          ],
          [
           19,
           "measurement",
           0.6145413567682156,
           "RRAS2;NUCKS1;ODF2L;PCSK5;SOCS2;ZRANB1;HSD17B12;NFIC;NPC1",
           "GCST90018949",
           "PMID:34594039"
          ],
          [
           19,
           "measurement",
           0.6172279538131711,
           "PTPN1;PNPLA3;CLIC4;NFIB;SMIM29;RAI14;SMAD1",
           "GCST90002314",
           "PMID:32888493"
          ],
          [
           19,
           "measurement",
           0.6257705477960311,
           "S1PR1",
           "GCST90085818",
           "PMID:34469753"
          ],
          [
           19,
           "measurement",
           0.6393856261257229,
           "PDGFB;PCSK5;CCSER2;THSD4;UBASH3B;IFITM2;SMURF2;PRSS23;RAI14;LTBP2",
           "GCST90025978",
           "PMID:34226706"
          ],
          [
           19,
           "measurement",
           0.6474407271065719,
           "YWHAZ;PCYOX1;TCF20;NAV3;ETNK1;NPC1",
           "GCST007576",
           "PMID:30696823"
          ],
          [
           19,
           "measurement",
           0.6528184545178594,
           "DUSP6;HSD17B12;NFIB;VEGFA",
           "GCST90020232",
           "PMID:33980691"
          ],
          [
           19,
           "measurement",
           0.6630384517720197,
           "DUSP6;HSD17B12;NPC1",
           "GCST008744",
           "PMID:31501611"
          ],
          [
           19,
           "measurement",
           0.6686762343132817,
           "MLXIP;LPIN1;UBASH3B;KLHL24;NFIB;PDLIM1;GLI2;KRT18;RAI14;VEGFA",
           "GCST90025945",
           "PMID:34226706"
          ],
          [
           19,
           "measurement",
           0.6757571864974095,
           "NUCKS1;NFE2L2",
           "GCST007472",
           "PMID:30643251"
          ],
          [
           19,
           "measurement",
           0.6776972076939256,
           "RAI14;ABCC1;NFIC;SCD5;VEGFA",
           "GCST90018958",
           "PMID:34594039"
          ],
          [
           19,
           "measurement",
           0.6855089857015289,
           "HSD17B12",
           "GCST007463",
           "PMID:30643251"
          ],
          [
           19,
           "measurement",
           0.6944979938815563,
           "HABP4",
           "GCST005141",
           "PMID:29186694"
          ],
          [
           19,
           "measurement",
           0.6950669659408967,
           "AACS;VEGFA",
           "GCST90018955",
           "PMID:34594039"
          ],
          [
           19,
           "measurement",
           0.7032312220896585,
           "DTD1",
           "GCST010544",
           "PMID:32451486"
          ],
          [
           19,
           "measurement",
           0.7117159157400594,
           "CDKN1A",
           "GCST011010",
           "PMID:32602732"
          ],
          [
           19,
           "measurement",
           0.7199591159356593,
           "NPC1",
           "GCST011122",
           "PMID:33128006"
          ],
          [
           19,
           "measurement",
           0.7251386263547017,
           "PTPN1;PCSK5",
           "GCST006412",
           "PMID:29785010"
          ],
          [
           19,
           "measurement",
           0.7301261421239565,
           "EPAS1;KLHL24;GLI2",
           "GCST008362",
           "PMID:31043758"
          ],
          [
           19,
           "measurement",
           0.7394627796843924,
           "UBASH3B;APOC1;CCBE1",
           "GCST90018945",
           "PMID:34594039"
          ],
          [
           19,
           "measurement",
           0.7577855612271639,
           "CD9",
           "GCST90026371",
           "PMID:35023831"
          ],
          [
           19,
           "measurement",
           0.7647169252273888,
           "CLCN6",
           "GCST90018986",
           "PMID:34594039"
          ],
          [
           19,
           "measurement",
           0.777992860371213,
           "ANXA2",
           "NEALE2_2375",
           null
          ],
          [
           19,
           "measurement",
           0.7926633044456417,
           "NR2F1;THSD4;LRP8;CBX5;S1PR1;PLXNA2;NAV3;NFIB;DPYSL2;RRAS2;VEGFA",
           "GCST90091060",
           "PMID:34560273"
          ],
          [
           19,
           "measurement",
           0.7940481386929774,
           "UBASH3B;PLK2;CLCN6",
           "GCST90018963",
           "PMID:34594039"
          ],
          [
           19,
           "measurement",
           0.7949052254592006,
           "NUCKS1;SOBP;IER2;PCSK5;NMT2;SOCS2;NFIB;VAMP5;GLI2;GNAS;DDR2",
           "GCST90018959",
           "PMID:34594039"
          ],
          [
           19,
           "measurement",
           0.7962940411489594,
           "SLC7A11;ETNK1",
           "GCST007340",
           "PMID:30643256"
          ],
          [
           19,
           "measurement",
           0.7979773239117613,
           "THSD4;HSD17B12;IER5L;PRSS23",
           "GCST007432",
           "PMID:30804560"
          ],
          [
           19,
           "measurement",
           0.8171997503379301,
           "UBASH3B;GPCPD1;GNAQ;CCBE1",
           "GCST90025990",
           "PMID:34226706"
          ],
          [
           19,
           "measurement",
           0.8292300388307603,
           "THSD4;NAV3",
           "GCST010697",
           "PMID:32665545"
          ],
          [
           19,
           "measurement",
           0.8292300388307603,
           "THSD4;NAV3",
           "GCST010701",
           "PMID:32665545"
          ],
          [
           19,
           "measurement",
           0.8329932047685966,
           "SLC7A11;ETNK1",
           "GCST007339",
           "PMID:30643256"
          ],
          [
           19,
           "measurement",
           0.8339851874060723,
           "IER5L",
           "GCST011494",
           "PMID:33568662"
          ],
          [
           19,
           "measurement",
           0.8478584563137905,
           "EPAS1",
           "GCST008363",
           "PMID:31043758"
          ],
          [
           19,
           "measurement",
           0.8522214423029417,
           "PCSK5",
           "GCST007293",
           "PMID:30664634"
          ],
          [
           19,
           "measurement",
           0.8522214423029417,
           "PCSK5",
           "GCST007293_2",
           "PMID:30664634"
          ],
          [
           19,
           "measurement",
           0.8522214423029417,
           "PCSK5",
           "GCST007293_3",
           "PMID:30664634"
          ],
          [
           19,
           "measurement",
           0.8522214423029417,
           "PCSK5",
           "GCST007294",
           "PMID:30664634"
          ],
          [
           19,
           "measurement",
           0.8522214423029417,
           "PCSK5",
           "GCST007294_2",
           "PMID:30664634"
          ],
          [
           19,
           "measurement",
           0.8522214423029417,
           "PCSK5",
           "GCST007295",
           "PMID:30664634"
          ],
          [
           19,
           "measurement",
           0.8522214423029417,
           "PCSK5",
           "GCST007295_2",
           "PMID:30664634"
          ],
          [
           19,
           "measurement",
           0.8522214423029417,
           "PCSK5",
           "GCST007295_3",
           "PMID:30664634"
          ],
          [
           19,
           "measurement",
           0.8540454176049468,
           "AZIN1;CLCN6",
           "GCST90018988",
           "PMID:34594039"
          ],
          [
           19,
           "measurement",
           0.8605090116855827,
           "SLC7A11;ETNK1",
           "GCST007341",
           "PMID:30643256"
          ],
          [
           19,
           "measurement",
           0.8636620780943707,
           "DUSP6;HSD17B12;GPCPD1;VEGFA",
           "GCST008996",
           "PMID:30239722"
          ],
          [
           19,
           "measurement",
           0.8764515925576719,
           "SHISA4;CLIC4;RRAS;B4GALT5;VEGFA",
           "GCST90000059",
           "PMID:33230300"
          ],
          [
           19,
           "measurement",
           0.8862876712140708,
           "NAV3",
           "GCST009462",
           "PMID:31809533"
          ],
          [
           19,
           "measurement",
           0.8927248501253555,
           "LRRC8B",
           "GCST90019522",
           "PMID:33462484"
          ],
          [
           19,
           "measurement",
           0.8940028498351168,
           "ACLY;CDKN1A;RRAS;IRF2BP2",
           "GCST90000061",
           "PMID:33230300"
          ],
          [
           19,
           "measurement",
           0.9037535683585566,
           "NR2F1;LPIN1;GLI2",
           "GCST007038",
           "PMID:30595370"
          ],
          [
           19,
           "measurement",
           0.9099397701834048,
           "SCD",
           "GCST006976",
           "PMID:30535121"
          ],
          [
           19,
           "measurement",
           0.9291751884201368,
           "NUCKS1;TCF20;UBXN7;SMURF2;HSD17B12;LTBP2",
           "GCST007081",
           "PMID:30595370"
          ],
          [
           19,
           "measurement",
           0.9337786486141324,
           "NUCKS1;TCF20;LONRF1;HSD17B12;MTFR1;PTPRN2",
           "GCST007468",
           "PMID:30643251"
          ],
          [
           19,
           "measurement",
           0.9383788931301958,
           "NPC1",
           "GCST010084",
           "PMID:32317632"
          ],
          [
           19,
           "measurement",
           0.9383788931301958,
           "NPC1",
           "GCST010085",
           "PMID:32317632"
          ],
          [
           19,
           "measurement",
           0.9614079463309868,
           "SOCS2",
           "GCST007063",
           "PMID:30593698"
          ],
          [
           19,
           "measurement",
           0.9614079463309868,
           "SOCS2",
           "GCST007063_2",
           "PMID:30593698"
          ],
          [
           19,
           "measurement",
           0.9614079463309868,
           "SOCS2",
           "GCST007063_3",
           "PMID:30593698"
          ],
          [
           19,
           "measurement",
           0.9743958724442392,
           "GLI2",
           "NEALE2_2395_1",
           null
          ]
         ],
         "hovertemplate": "trait_category=%{customdata[1]}<br>trait_reported=%{x}<br>-log10(p-value)=%{y}<br>program_name=%{customdata[0]}<br>P-value=%{customdata[2]}<br>Genes=%{customdata[3]}<br>study_id=%{customdata[4]}<br>pmid=%{customdata[5]}<extra></extra>",
         "legendgroup": "measurement",
         "marker": {
          "color": "#636efa",
          "symbol": "circle"
         },
         "mode": "markers",
         "name": "measurement",
         "orientation": "v",
         "showlegend": true,
         "type": "scatter",
         "x": [
          "HDL cholesterol levels",
          "Neutrophil count",
          "LDL cholesterol levels",
          "Mean platelet volume",
          "Diacylglycerol_38:5_[M+H-H2O]1+ levels",
          "Sex hormone-binding globulin levels",
          "Serum uric acid levels",
          "Apolipoprotein A1 levels",
          "Total cholesterol levels",
          "Monocyte percentage of white cells",
          "Sum neutrophil eosinophil counts",
          "Medication use (HMG CoA reductase inhibitors)",
          "High light scatter reticulocyte count",
          "Hip index",
          "Estimated glomerular filtration rate",
          "Apolipoprotein B levels",
          "Eosinophil counts",
          "White blood cell count",
          "White blood cell count",
          "Alanine aminotransferase levels",
          "Platelet count",
          "Lymphocyte-to-monocyte ratio",
          "Urate levels",
          "Urate levels [AA]",
          "Urate levels [East Asian]",
          "Total bilirubin levels",
          "Serum 25-Hydroxyvitamin D levels",
          "Hemoglobin A1c levels",
          "C-X-C motif chemokine 16 levels",
          "Immature fraction of reticulocytes",
          "Sum basophil neutrophil counts",
          "Cognitive performance (MTAG) [MTAG]",
          "High light scatter reticulocyte percentage of red cells",
          "Immature fraction of reticulocytes",
          "Reticulocyte fraction of red cells",
          "Basophil count",
          "Granulocyte count",
          "QRS duration",
          "Menarche (age at onset)",
          "Educational attainment (years of education)",
          "Red cell distribution width",
          "Monocyte count",
          "Aspartate aminotransferase to alanine aminotransferase ratio",
          "Mean corpuscular hemoglobin",
          "Plateletcrit",
          "Fibrinogen levels",
          "Infant head circumference (MTAG)",
          "Elusimicrobiota abundance in stool",
          "Treponema D abundance in stool",
          "Treponemataceae abundance in stool",
          "Retinal vascular fractal density",
          "Aspartate aminotransferase levels",
          "Hand grip strength",
          "Resting heart rate",
          "Sum eosinophil basophil counts",
          "Factor VIII levels",
          "Renal function-related traits (BUN)",
          "Parental lifespan",
          "Stem cell factor levels",
          "Receptor for advanced glycosylation end products levels",
          "Percent liver fat",
          "Pre-treatment viral load in HIV-1 infection",
          "Mean corpuscular volume",
          "Gamma glutamyl transpeptidase",
          "Serum phosphate levels",
          "Neutrophil percentage of white cells",
          "Total testosterone levels",
          "Homocysteine levels",
          "Basophil percentage of white cells",
          "Heel bone mineral density",
          "Coagulation Factor VIII measurement",
          "Coagulation factor Xa measurement",
          "Joint mobility (Beighton score)",
          "Body mass index",
          "Eosinophil percentage of white cells",
          "Intralaminar thalamic nuclei volume",
          "Lateral thalamic nuclei volume",
          "Moderate to vigorous physical activity levels",
          "Feeling tense",
          "Appendicular lean mass",
          "Triglycerides",
          "Lymphocyte percentage of white cells",
          "Optic cup area",
          "Sensitivity / hurt feelings",
          "Serum creatinine levels",
          "Waist-hip index",
          "Glucuronate levels",
          "Brainstem volume",
          "Insulin-like growth factor 1 levels",
          "Mean reticulocyte volume",
          "Cortical thickness",
          "Ascending aorta minimum area",
          "Phospholipid levels (plasma) [levels]",
          "Phospholipid levels (plasma) [proportions]",
          "Insulin-like growth factor 1 levels",
          "Serum alkaline phosphatase levels",
          "Thyroid hormone levels [TSH]",
          "White matter hyperintensity volume",
          "Facial morphology (segment 1)",
          "Facial morphology (segment 2)",
          "Mean corpuscular hemoglobin concentration",
          "Serum urea levels",
          "Granulocyte percentage of myeloid white cells",
          "Neutrophil-to-lymphocyte ratio",
          "Feeling hurt",
          "Youthful appearance (self-reported)",
          "A body shape index",
          "Heart rate",
          "Feeling nervous",
          "Glycine levels",
          "PR interval",
          "Birth length (MTAG)",
          "Verbal-numerical reasoning",
          "TPE interval (resting)",
          "TPE interval (resting) [men]",
          "TPE interval (resting) [women]",
          "Ganglion cell inner plexiform layer (GCIPL) thickness",
          "Basophil percentage of granulocytes",
          "Subcortical volume (min-P)",
          "Subcortical volume (MOSTest)",
          "Eosinophil percentage of granulocytes",
          "Medication use (thyroid preparations)",
          "Anthropometric traits (multi-trait analysis)",
          "Hematocrit",
          "Serum total protein level",
          "Cortical thickness (min-P)",
          "Cortical thickness (MOSTest)",
          "C-reactive protein levels",
          "Neutrophil percentage of granulocytes",
          "Red blood cell count",
          "Number of sexual partners",
          "Platelet distribution width",
          "Bitter alcoholic beverage consumption",
          "1-palmitoyl-2-arachidonoyl-gpc (16:0/20:4n6) levels",
          "1-stearoyl-2-arachidonoyl-gpc (18:0/20:4) levels",
          "1-stearoyl-2-linoleoyl-gpc (18:0/18:2) levels",
          "2,3-dihydroxy-2-methylbutyrate levels",
          "Ascorbate (vitamin c) levels",
          "Citramalate levels",
          "Erythritol levels",
          "Hydroxyasparagine levels",
          "Methylmalonate (mma) levels",
          "Myo-inositol levels",
          "N-acetylglucosamine/n-acetylgalactosamine levels",
          "N-acetylhistidine levels",
          "Oxalate (ethanedioate) levels",
          "N,n,n-trimethyl-alanylproline betaine (tmap) levels",
          "Butyrate (4:0) levels",
          "4-chlorobenzoic acid levels",
          "Fasting insulin",
          "Age at first sexual intercourse",
          "Lymphocyte counts",
          "Sleep duration",
          "Spleen volume",
          "Blood urea nitrogen levels",
          "Vertex-wise sulcal depth",
          "Height",
          "Insomnia",
          "Insomnia [Female]",
          "Insomnia [Male]",
          "Red blood cell count",
          "Creatine kinase levels",
          "Hair color",
          "Vertical cup-disc ratio (multi-trait analysis)",
          "Ebbinghaus illusion (underestimation)",
          "Ebbinghaus illusion (overestimation)",
          "Peak expiratory flow",
          "Cognitive aspects of educational attainment",
          "Urinary albumin-to-creatinine ratio",
          "Non-albumin protein levels",
          "Brain morphology (min-P)",
          "Brain morphology (MOSTest)",
          "Weight",
          "Hemoglobin concentration",
          "Platelet-to-lymphocyte ratio",
          "Lung function (FEV1/FVC)",
          "Chronotype",
          "Body fat percentage",
          "Predicted visceral adipose tissue",
          "Cystatin C levels",
          "Alcohol consumption (drinks per week) (MTAG)",
          "Hemoglobin A1c levels",
          "Cigarettes smoked per day (MTAG)",
          "Cognitive ability (MTAG)",
          "Glucose levels",
          "Problematic alcohol use (MTAG)",
          "Electrocardiographic traits (multivariate)",
          "Walking pace",
          "Intraocular pressure",
          "Birth weight",
          "Serum albumin levels",
          "Mitochondrial DNA copy number",
          "Medication use (beta blocking agents)",
          "Relative age of first facial hair",
          "Cortical surface area",
          "Mean arterial pressure",
          "Height",
          "Depressive symptoms",
          "FEV1",
          "Calcium levels",
          "Cortical surface area (min-P)",
          "Cortical surface area (MOSTest)",
          "Neuroticism",
          "Daytime nap",
          "Offspring birth weight",
          "Body fat distribution (arm fat ratio)",
          "Body fat distribution (arm fat ratio) [females]",
          "Body fat distribution (arm fat ratio) [males]",
          "Body fat distribution (trunk fat ratio)",
          "Body fat distribution (trunk fat ratio) [females]",
          "Body fat distribution (leg fat ratio)",
          "Body fat distribution (leg fat ratio) [females]",
          "Body fat distribution (leg fat ratio) [males]",
          "Medication use (agents acting on the renin-angiotensin system)",
          "Well-being spectrum (multivariate analysis)",
          "Waist-hip ratio",
          "Diastolic blood pressure",
          "Optic disc size",
          "Serum total protein level",
          "Pulse pressure",
          "Balding type 1",
          "Macular thickness",
          "Lung function (FVC)",
          "Smoking initiation (ever regular vs never regular) (MTAG)",
          "Leisure sedentary behaviour (television watching)",
          "Leisure sedentary behaviour (computer use)",
          "Fat-free mass",
          "Fat-free mass [female]",
          "Fat-free mass [male]",
          "Pattern 1 | hair/balding pattern"
         ],
         "xaxis": "x",
         "y": [
          3.7217267604218467,
          2.2085146890677216,
          2.041405643510129,
          1.9579074698952725,
          1.951044374896618,
          1.8241882621345995,
          1.770631114879941,
          1.7411687362188664,
          1.7396407250478436,
          1.690812274047095,
          1.4704408243467335,
          1.4080856632715508,
          1.3781939711216924,
          1.362419332776284,
          1.3544566479011757,
          1.293950511686175,
          1.2676997014487477,
          1.2465806849674252,
          1.235289025140926,
          1.2228005175729528,
          1.2190206992990031,
          1.1788678313002405,
          1.1715759157952723,
          1.1715759157952723,
          1.1715759157952723,
          1.0960185792798,
          1.0960185792798,
          1.089932436670235,
          1.081408859356079,
          1.0763721590611,
          1.0614065901361642,
          1.0603927068899206,
          1.0543677520671646,
          1.0543677520671646,
          1.0543677520671646,
          1.0466582514376923,
          1.0466582514376923,
          1.039055667545529,
          0.9948769861297059,
          0.9368956174689225,
          0.8957149324974121,
          0.8637679846524777,
          0.8452664993267902,
          0.8366442946177243,
          0.8354417249747166,
          0.830057667146352,
          0.7986863209335994,
          0.7986863209335994,
          0.7986863209335994,
          0.7986863209335994,
          0.7986863209335994,
          0.7778381118657756,
          0.7700892471688905,
          0.7538587782959907,
          0.7009324651239999,
          0.6858060349882722,
          0.6858060349882722,
          0.6858060349882722,
          0.6858060349882722,
          0.6858060349882722,
          0.6858060349882722,
          0.6722965519392787,
          0.6689813283020113,
          0.6638953266418268,
          0.6619668214461817,
          0.6610086091656856,
          0.654392438410845,
          0.640638795065622,
          0.6403037461058949,
          0.6091719286958492,
          0.600837303625428,
          0.600837303625428,
          0.600837303625428,
          0.5963300386704616,
          0.5736812309119169,
          0.5653713461456946,
          0.5653713461456946,
          0.5653713461456946,
          0.5653713461456946,
          0.5566285860294564,
          0.5548330211137795,
          0.5514954872964928,
          0.5334802559376316,
          0.5334802559376316,
          0.5274367733240749,
          0.515491225732224,
          0.5045863802829738,
          0.5045863802829738,
          0.49935154560093575,
          0.4956526120335892,
          0.49494905821834334,
          0.4868508020361554,
          0.47824070682724795,
          0.47824070682724795,
          0.4636762982214514,
          0.4600892798492229,
          0.4540872945230746,
          0.4540872945230746,
          0.4540872945230746,
          0.4540872945230746,
          0.4486929598029413,
          0.43860422944425476,
          0.43508264792163637,
          0.43183920744882176,
          0.43183920744882176,
          0.4226886062349129,
          0.42183298040970696,
          0.4112617574381072,
          0.4112617574381072,
          0.4112617574381072,
          0.3965082741419726,
          0.39216054376928067,
          0.37866922288358823,
          0.3743727308927516,
          0.3743727308927516,
          0.3743727308927516,
          0.3743727308927516,
          0.36853396665532223,
          0.36692770312074385,
          0.36692770312074385,
          0.3630272931324168,
          0.3597077572377868,
          0.3577605660432619,
          0.3526349764843956,
          0.350701631919816,
          0.3492060233978256,
          0.3492060233978256,
          0.3337719870563926,
          0.3324044468626262,
          0.32791804927934365,
          0.3223840999396732,
          0.3182603754386476,
          0.313881472009155,
          0.31099111723709444,
          0.31099111723709444,
          0.31099111723709444,
          0.31099111723709444,
          0.31099111723709444,
          0.31099111723709444,
          0.31099111723709444,
          0.31099111723709444,
          0.31099111723709444,
          0.31099111723709444,
          0.31099111723709444,
          0.31099111723709444,
          0.31099111723709444,
          0.31099111723709444,
          0.31099111723709444,
          0.31099111723709444,
          0.30094647091657867,
          0.2990368992538818,
          0.29112924527038014,
          0.28873726076138856,
          0.28873726076138856,
          0.283617791745582,
          0.28122117704673677,
          0.2755075976684138,
          0.2689807983234533,
          0.2689807983234533,
          0.2689807983234533,
          0.2620631246704594,
          0.25590531345049344,
          0.2497224463673653,
          0.24851737431910442,
          0.23303897622774877,
          0.23303897622774877,
          0.2293558929845921,
          0.22830122653499976,
          0.21936076994703263,
          0.21911582395486884,
          0.21532887408356802,
          0.21532887408356802,
          0.21144888509347357,
          0.20955441327659186,
          0.20358488099593702,
          0.19423713122424574,
          0.18879998488197744,
          0.18520757701463067,
          0.17846128470507308,
          0.17478411195789112,
          0.17020932699871788,
          0.16896430377360622,
          0.16398684807357408,
          0.15832900442230294,
          0.15797335147093647,
          0.15290185568138592,
          0.1476933221584665,
          0.1426921649960585,
          0.1395789604554925,
          0.13660210139221657,
          0.13108368101055365,
          0.12045367398727036,
          0.11649929760822468,
          0.10902438850595701,
          0.10091124656962411,
          0.10015316793185175,
          0.0996846480903241,
          0.09892653418685364,
          0.09800944980205051,
          0.08767177472054431,
          0.0813249739899602,
          0.0813249739899602,
          0.07935854138257471,
          0.07884166289335762,
          0.0716766439375091,
          0.06944754293925572,
          0.06944754293925572,
          0.06944754293925572,
          0.06944754293925572,
          0.06944754293925572,
          0.06944754293925572,
          0.06944754293925572,
          0.06944754293925572,
          0.06851903318601958,
          0.06524457716114158,
          0.0636561491019446,
          0.057272065497898976,
          0.052425291946877256,
          0.049282375921661604,
          0.048661096790555615,
          0.04394997493628287,
          0.04098735311041072,
          0.031902395595961704,
          0.029756060684797827,
          0.027621769328351052,
          0.027621769328351052,
          0.017092292615696322,
          0.017092292615696322,
          0.017092292615696322,
          0.011264564385345333
         ],
         "yaxis": "y"
        }
       ],
       "layout": {
        "annotations": [
         {
          "showarrow": false,
          "text": "Significance Threshold (0.05)",
          "x": 1,
          "xanchor": "right",
          "xref": "x domain",
          "y": 1.3010299956639813,
          "yanchor": "bottom",
          "yref": "y"
         }
        ],
        "height": 800,
        "legend": {
         "title": {
          "text": "trait_category"
         },
         "tracegroupgap": 0
        },
        "shapes": [
         {
          "line": {
           "dash": "dash"
          },
          "type": "line",
          "x0": 0,
          "x1": 1,
          "xref": "x domain",
          "y0": 1.3010299956639813,
          "y1": 1.3010299956639813,
          "yref": "y"
         }
        ],
        "template": {
         "data": {
          "bar": [
           {
            "error_x": {
             "color": "#2a3f5f"
            },
            "error_y": {
             "color": "#2a3f5f"
            },
            "marker": {
             "line": {
              "color": "#E5ECF6",
              "width": 0.5
             },
             "pattern": {
              "fillmode": "overlay",
              "size": 10,
              "solidity": 0.2
             }
            },
            "type": "bar"
           }
          ],
          "barpolar": [
           {
            "marker": {
             "line": {
              "color": "#E5ECF6",
              "width": 0.5
             },
             "pattern": {
              "fillmode": "overlay",
              "size": 10,
              "solidity": 0.2
             }
            },
            "type": "barpolar"
           }
          ],
          "carpet": [
           {
            "aaxis": {
             "endlinecolor": "#2a3f5f",
             "gridcolor": "white",
             "linecolor": "white",
             "minorgridcolor": "white",
             "startlinecolor": "#2a3f5f"
            },
            "baxis": {
             "endlinecolor": "#2a3f5f",
             "gridcolor": "white",
             "linecolor": "white",
             "minorgridcolor": "white",
             "startlinecolor": "#2a3f5f"
            },
            "type": "carpet"
           }
          ],
          "choropleth": [
           {
            "colorbar": {
             "outlinewidth": 0,
             "ticks": ""
            },
            "type": "choropleth"
           }
          ],
          "contour": [
           {
            "colorbar": {
             "outlinewidth": 0,
             "ticks": ""
            },
            "colorscale": [
             [
              0,
              "#0d0887"
             ],
             [
              0.1111111111111111,
              "#46039f"
             ],
             [
              0.2222222222222222,
              "#7201a8"
             ],
             [
              0.3333333333333333,
              "#9c179e"
             ],
             [
              0.4444444444444444,
              "#bd3786"
             ],
             [
              0.5555555555555556,
              "#d8576b"
             ],
             [
              0.6666666666666666,
              "#ed7953"
             ],
             [
              0.7777777777777778,
              "#fb9f3a"
             ],
             [
              0.8888888888888888,
              "#fdca26"
             ],
             [
              1,
              "#f0f921"
             ]
            ],
            "type": "contour"
           }
          ],
          "contourcarpet": [
           {
            "colorbar": {
             "outlinewidth": 0,
             "ticks": ""
            },
            "type": "contourcarpet"
           }
          ],
          "heatmap": [
           {
            "colorbar": {
             "outlinewidth": 0,
             "ticks": ""
            },
            "colorscale": [
             [
              0,
              "#0d0887"
             ],
             [
              0.1111111111111111,
              "#46039f"
             ],
             [
              0.2222222222222222,
              "#7201a8"
             ],
             [
              0.3333333333333333,
              "#9c179e"
             ],
             [
              0.4444444444444444,
              "#bd3786"
             ],
             [
              0.5555555555555556,
              "#d8576b"
             ],
             [
              0.6666666666666666,
              "#ed7953"
             ],
             [
              0.7777777777777778,
              "#fb9f3a"
             ],
             [
              0.8888888888888888,
              "#fdca26"
             ],
             [
              1,
              "#f0f921"
             ]
            ],
            "type": "heatmap"
           }
          ],
          "heatmapgl": [
           {
            "colorbar": {
             "outlinewidth": 0,
             "ticks": ""
            },
            "colorscale": [
             [
              0,
              "#0d0887"
             ],
             [
              0.1111111111111111,
              "#46039f"
             ],
             [
              0.2222222222222222,
              "#7201a8"
             ],
             [
              0.3333333333333333,
              "#9c179e"
             ],
             [
              0.4444444444444444,
              "#bd3786"
             ],
             [
              0.5555555555555556,
              "#d8576b"
             ],
             [
              0.6666666666666666,
              "#ed7953"
             ],
             [
              0.7777777777777778,
              "#fb9f3a"
             ],
             [
              0.8888888888888888,
              "#fdca26"
             ],
             [
              1,
              "#f0f921"
             ]
            ],
            "type": "heatmapgl"
           }
          ],
          "histogram": [
           {
            "marker": {
             "pattern": {
              "fillmode": "overlay",
              "size": 10,
              "solidity": 0.2
             }
            },
            "type": "histogram"
           }
          ],
          "histogram2d": [
           {
            "colorbar": {
             "outlinewidth": 0,
             "ticks": ""
            },
            "colorscale": [
             [
              0,
              "#0d0887"
             ],
             [
              0.1111111111111111,
              "#46039f"
             ],
             [
              0.2222222222222222,
              "#7201a8"
             ],
             [
              0.3333333333333333,
              "#9c179e"
             ],
             [
              0.4444444444444444,
              "#bd3786"
             ],
             [
              0.5555555555555556,
              "#d8576b"
             ],
             [
              0.6666666666666666,
              "#ed7953"
             ],
             [
              0.7777777777777778,
              "#fb9f3a"
             ],
             [
              0.8888888888888888,
              "#fdca26"
             ],
             [
              1,
              "#f0f921"
             ]
            ],
            "type": "histogram2d"
           }
          ],
          "histogram2dcontour": [
           {
            "colorbar": {
             "outlinewidth": 0,
             "ticks": ""
            },
            "colorscale": [
             [
              0,
              "#0d0887"
             ],
             [
              0.1111111111111111,
              "#46039f"
             ],
             [
              0.2222222222222222,
              "#7201a8"
             ],
             [
              0.3333333333333333,
              "#9c179e"
             ],
             [
              0.4444444444444444,
              "#bd3786"
             ],
             [
              0.5555555555555556,
              "#d8576b"
             ],
             [
              0.6666666666666666,
              "#ed7953"
             ],
             [
              0.7777777777777778,
              "#fb9f3a"
             ],
             [
              0.8888888888888888,
              "#fdca26"
             ],
             [
              1,
              "#f0f921"
             ]
            ],
            "type": "histogram2dcontour"
           }
          ],
          "mesh3d": [
           {
            "colorbar": {
             "outlinewidth": 0,
             "ticks": ""
            },
            "type": "mesh3d"
           }
          ],
          "parcoords": [
           {
            "line": {
             "colorbar": {
              "outlinewidth": 0,
              "ticks": ""
             }
            },
            "type": "parcoords"
           }
          ],
          "pie": [
           {
            "automargin": true,
            "type": "pie"
           }
          ],
          "scatter": [
           {
            "fillpattern": {
             "fillmode": "overlay",
             "size": 10,
             "solidity": 0.2
            },
            "type": "scatter"
           }
          ],
          "scatter3d": [
           {
            "line": {
             "colorbar": {
              "outlinewidth": 0,
              "ticks": ""
             }
            },
            "marker": {
             "colorbar": {
              "outlinewidth": 0,
              "ticks": ""
             }
            },
            "type": "scatter3d"
           }
          ],
          "scattercarpet": [
           {
            "marker": {
             "colorbar": {
              "outlinewidth": 0,
              "ticks": ""
             }
            },
            "type": "scattercarpet"
           }
          ],
          "scattergeo": [
           {
            "marker": {
             "colorbar": {
              "outlinewidth": 0,
              "ticks": ""
             }
            },
            "type": "scattergeo"
           }
          ],
          "scattergl": [
           {
            "marker": {
             "colorbar": {
              "outlinewidth": 0,
              "ticks": ""
             }
            },
            "type": "scattergl"
           }
          ],
          "scattermapbox": [
           {
            "marker": {
             "colorbar": {
              "outlinewidth": 0,
              "ticks": ""
             }
            },
            "type": "scattermapbox"
           }
          ],
          "scatterpolar": [
           {
            "marker": {
             "colorbar": {
              "outlinewidth": 0,
              "ticks": ""
             }
            },
            "type": "scatterpolar"
           }
          ],
          "scatterpolargl": [
           {
            "marker": {
             "colorbar": {
              "outlinewidth": 0,
              "ticks": ""
             }
            },
            "type": "scatterpolargl"
           }
          ],
          "scatterternary": [
           {
            "marker": {
             "colorbar": {
              "outlinewidth": 0,
              "ticks": ""
             }
            },
            "type": "scatterternary"
           }
          ],
          "surface": [
           {
            "colorbar": {
             "outlinewidth": 0,
             "ticks": ""
            },
            "colorscale": [
             [
              0,
              "#0d0887"
             ],
             [
              0.1111111111111111,
              "#46039f"
             ],
             [
              0.2222222222222222,
              "#7201a8"
             ],
             [
              0.3333333333333333,
              "#9c179e"
             ],
             [
              0.4444444444444444,
              "#bd3786"
             ],
             [
              0.5555555555555556,
              "#d8576b"
             ],
             [
              0.6666666666666666,
              "#ed7953"
             ],
             [
              0.7777777777777778,
              "#fb9f3a"
             ],
             [
              0.8888888888888888,
              "#fdca26"
             ],
             [
              1,
              "#f0f921"
             ]
            ],
            "type": "surface"
           }
          ],
          "table": [
           {
            "cells": {
             "fill": {
              "color": "#EBF0F8"
             },
             "line": {
              "color": "white"
             }
            },
            "header": {
             "fill": {
              "color": "#C8D4E3"
             },
             "line": {
              "color": "white"
             }
            },
            "type": "table"
           }
          ]
         },
         "layout": {
          "annotationdefaults": {
           "arrowcolor": "#2a3f5f",
           "arrowhead": 0,
           "arrowwidth": 1
          },
          "autotypenumbers": "strict",
          "coloraxis": {
           "colorbar": {
            "outlinewidth": 0,
            "ticks": ""
           }
          },
          "colorscale": {
           "diverging": [
            [
             0,
             "#8e0152"
            ],
            [
             0.1,
             "#c51b7d"
            ],
            [
             0.2,
             "#de77ae"
            ],
            [
             0.3,
             "#f1b6da"
            ],
            [
             0.4,
             "#fde0ef"
            ],
            [
             0.5,
             "#f7f7f7"
            ],
            [
             0.6,
             "#e6f5d0"
            ],
            [
             0.7,
             "#b8e186"
            ],
            [
             0.8,
             "#7fbc41"
            ],
            [
             0.9,
             "#4d9221"
            ],
            [
             1,
             "#276419"
            ]
           ],
           "sequential": [
            [
             0,
             "#0d0887"
            ],
            [
             0.1111111111111111,
             "#46039f"
            ],
            [
             0.2222222222222222,
             "#7201a8"
            ],
            [
             0.3333333333333333,
             "#9c179e"
            ],
            [
             0.4444444444444444,
             "#bd3786"
            ],
            [
             0.5555555555555556,
             "#d8576b"
            ],
            [
             0.6666666666666666,
             "#ed7953"
            ],
            [
             0.7777777777777778,
             "#fb9f3a"
            ],
            [
             0.8888888888888888,
             "#fdca26"
            ],
            [
             1,
             "#f0f921"
            ]
           ],
           "sequentialminus": [
            [
             0,
             "#0d0887"
            ],
            [
             0.1111111111111111,
             "#46039f"
            ],
            [
             0.2222222222222222,
             "#7201a8"
            ],
            [
             0.3333333333333333,
             "#9c179e"
            ],
            [
             0.4444444444444444,
             "#bd3786"
            ],
            [
             0.5555555555555556,
             "#d8576b"
            ],
            [
             0.6666666666666666,
             "#ed7953"
            ],
            [
             0.7777777777777778,
             "#fb9f3a"
            ],
            [
             0.8888888888888888,
             "#fdca26"
            ],
            [
             1,
             "#f0f921"
            ]
           ]
          },
          "colorway": [
           "#636efa",
           "#EF553B",
           "#00cc96",
           "#ab63fa",
           "#FFA15A",
           "#19d3f3",
           "#FF6692",
           "#B6E880",
           "#FF97FF",
           "#FECB52"
          ],
          "font": {
           "color": "#2a3f5f"
          },
          "geo": {
           "bgcolor": "white",
           "lakecolor": "white",
           "landcolor": "#E5ECF6",
           "showlakes": true,
           "showland": true,
           "subunitcolor": "white"
          },
          "hoverlabel": {
           "align": "left"
          },
          "hovermode": "closest",
          "mapbox": {
           "style": "light"
          },
          "paper_bgcolor": "white",
          "plot_bgcolor": "#E5ECF6",
          "polar": {
           "angularaxis": {
            "gridcolor": "white",
            "linecolor": "white",
            "ticks": ""
           },
           "bgcolor": "#E5ECF6",
           "radialaxis": {
            "gridcolor": "white",
            "linecolor": "white",
            "ticks": ""
           }
          },
          "scene": {
           "xaxis": {
            "backgroundcolor": "#E5ECF6",
            "gridcolor": "white",
            "gridwidth": 2,
            "linecolor": "white",
            "showbackground": true,
            "ticks": "",
            "zerolinecolor": "white"
           },
           "yaxis": {
            "backgroundcolor": "#E5ECF6",
            "gridcolor": "white",
            "gridwidth": 2,
            "linecolor": "white",
            "showbackground": true,
            "ticks": "",
            "zerolinecolor": "white"
           },
           "zaxis": {
            "backgroundcolor": "#E5ECF6",
            "gridcolor": "white",
            "gridwidth": 2,
            "linecolor": "white",
            "showbackground": true,
            "ticks": "",
            "zerolinecolor": "white"
           }
          },
          "shapedefaults": {
           "line": {
            "color": "#2a3f5f"
           }
          },
          "ternary": {
           "aaxis": {
            "gridcolor": "white",
            "linecolor": "white",
            "ticks": ""
           },
           "baxis": {
            "gridcolor": "white",
            "linecolor": "white",
            "ticks": ""
           },
           "bgcolor": "#E5ECF6",
           "caxis": {
            "gridcolor": "white",
            "linecolor": "white",
            "ticks": ""
           }
          },
          "title": {
           "x": 0.05
          },
          "xaxis": {
           "automargin": true,
           "gridcolor": "white",
           "linecolor": "white",
           "ticks": "",
           "title": {
            "standoff": 15
           },
           "zerolinecolor": "white",
           "zerolinewidth": 2
          },
          "yaxis": {
           "automargin": true,
           "gridcolor": "white",
           "linecolor": "white",
           "ticks": "",
           "title": {
            "standoff": 15
           },
           "zerolinecolor": "white",
           "zerolinewidth": 2
          }
         }
        },
        "title": {
         "text": "Endothelial Cell Programs x GWAS Continuous Outcome Enrichments"
        },
        "width": 1000,
        "xaxis": {
         "anchor": "y",
         "domain": [
          0,
          1
         ],
         "tickfont": {
          "size": 4
         },
         "title": {
          "text": "trait_reported"
         }
        },
        "yaxis": {
         "anchor": "x",
         "domain": [
          0,
          1
         ],
         "tickformat": ".1f",
         "title": {
          "text": "-log10(p-value)"
         }
        }
       }
      },
      "text/html": [
       "<div>                            <div id=\"3e9fe6d2-a6f0-49b8-a7d9-9152b8b62ba2\" class=\"plotly-graph-div\" style=\"height:800px; width:1000px;\"></div>            <script type=\"text/javascript\">                require([\"plotly\"], function(Plotly) {                    window.PLOTLYENV=window.PLOTLYENV || {};                                    if (document.getElementById(\"3e9fe6d2-a6f0-49b8-a7d9-9152b8b62ba2\")) {                    Plotly.newPlot(                        \"3e9fe6d2-a6f0-49b8-a7d9-9152b8b62ba2\",                        [{\"customdata\":[[19,\"measurement\",0.0001897899623212,\"RNF145;UBASH3B;FNDC3A;CLIC4;PTTG1IP;NPC1;VEGFA;AZIN1;UBXN7;GLI2;LONRF1;SCARB1;HSD17B12;NFIC;IRF2BP2;LIPG;SMAD1;NUCKS1;PNPLA3;NFE2L2\",\"GCST010242\",\"PMID:32203549\"],[19,\"measurement\",0.0061870740076511,\"TSPAN14;MXRA7;EHD4;CDKN1A;FLNB;UBASH3B;LIPA;IFITM2;PNPLA3;PDLIM1;NPC1;NUDT14;CEBPD;SCD5;VEGFA\",\"GCST90002355\",\"PMID:32888493\"],[19,\"measurement\",0.0090906378430656,\"LDLR;IRF2BP2;PCSK5;UBASH3B;HMGCR;LIPG;GLI2;CMTM6;SCARB1\",\"GCST010245\",\"PMID:32203549\"],[19,\"measurement\",0.0110177402679144,\"FADS1;EHD4;VCP;RNF145;UBASH3B;PCYOX1L;CLCN6;MMAB;MVK;FADS2;NID1;PNPLA3;NRDC;CD9;PDLIM1;ELOVL5\",\"GCST90002349\",\"PMID:32888493\"],[19,\"measurement\",0.0111932350853335,\"FADS2;PNPLA3\",\"GCST90060200\",\"PMID:34503513\"],[19,\"measurement\",0.0149903487863079,\"SLC27A5;RNF145;VEGFA;TMEM60;CLCN6;PXMP4;GLI2;EGR1;LONRF1;NFIC;CDKN1A;SOCS2;KLHL24;NR2F6;NUCKS1;SOBP;PNPLA3;MPC2;NFE2L2\",\"GCST90025958\",\"PMID:34226706\"],[19,\"measurement\",0.016957775643521,\"MLXIP;IRF2BP2;UBASH3B;PNPLA3;RAI14;TANC1;CDC42BPA;GLI2;GNAS;VEGFA\",\"GCST90018977\",\"PMID:34594039\"],[19,\"measurement\",0.0181481041838942,\"LDLR;IRF2BP2;RNF145;UBASH3B;UBC;FNDC3A;PNPLA3;DUSP6;CLIC4;LIPG;PTTG1IP;GLI2;SCARB1;VEGFA\",\"GCST90025955\",\"PMID:34226706\"],[19,\"measurement\",0.0182120684927123,\"RAB2A;IRF2BP2;HMGCR;PNPLA3;GLI2;CMTM6;SCARB1\",\"GCST90018974\",\"PMID:34594039\"],[19,\"measurement\",0.020379227896221,\"SH2D3C;GCNT1;PPIA;IRF2BP2;MARCKS;UBASH3B;IFITM2;S1PR1;PNPLA3;SERTAD1;MMAB;ZYX;ENSA;SCARB1;CEBPD;SCD5;NPC1\",\"GCST90002394\",\"PMID:32888494\"],[19,\"measurement\",0.0338500391764281,\"EHD4;LIPA;VEGFA;AZIN1;IFITM2;SCD5;NPC1\",\"GCST004613\",\"PMID:27863252\"],[19,\"measurement\",0.0390763811211738,\"IRF2BP2;HMGCR;LIPG;SCARB1;VEGFA\",\"GCST90018989\",\"PMID:34594039\"],[19,\"measurement\",0.0418606559013246,\"YWHAZ;EHD4;ACTB;IRF2BP2;CCBE1;FLNB;UBASH3B;ENO1;FLVCR1;CBX5;BNIP3L;FDFT1;UBAP2;HSPA8;WBP2;SMIM29;SCD5;VEGFA\",\"GCST90025970\",\"PMID:34226706\"],[19,\"measurement\",0.0434090885564119,\"MLXIP;NMT2;GPCPD1;GLI2;SCARB1;APOC1;VEGFA\",\"GCST90020026\",\"PMID:34021172\"],[19,\"measurement\",0.0442123248254086,\"NFE2L2;RAI14;TANC1;CALR;TGFBR2;GLI2;SMIM29;GNAS;ABCC1;VEGFA\",\"GCST008058\",\"PMID:31152163\"],[19,\"measurement\",0.0508217351163794,\"LDLR;IRF2BP2;PCSK5;HMGCR;GLI2;CMTM6;SCARB1;VEGFA\",\"GCST010243\",\"PMID:32203549\"],[19,\"measurement\",0.0539883803136624,\"SCD5;SLC7A11;PTPN1;IFITM2;S1PR1;MIIP;ZRANB1;ENSA;JUND;BTG1;CEBPD;TOX2\",\"GCST90002302\",\"PMID:32888493\"],[19,\"measurement\",0.0566786261920362,\"EHD4;UBASH3B;PTPN1;LIPA;IFITM2;AZIN1;PNPLA3;TGM2;DDR2;CD46;SCD5;VEGFA\",\"GCST90018978\",\"PMID:34594039\"],[19,\"measurement\",0.0581715954057249,\"TSPAN14;EHD4;CDKN1A;ITGA10;FLNB;UBASH3B;PTPN1;IFITM2;PNPLA3;TGM2;NUDT14;RAI14;SCD5;NPC1\",\"GCST90002378\",\"PMID:32888493\"],[19,\"measurement\",0.0598686523759518,\"CDKN1A;MLXIP;VEGFA;CLCN6;S1PR1;PNPLA3;GLI2;NPC1\",\"GCST90018943\",\"PMID:34594039\"],[19,\"measurement\",0.0603919844724791,\"FADS1;VCP;IRF2BP2;CCBE1;RNF145;PTPN1;RTN4;PNPLA3;SQLE;TGM2;NAV3;PDIA5;FADS2;PIK3C2A;CD9;WBP2;RAI14\",\"GCST90002361\",\"PMID:32888493\"],[19,\"measurement\",0.0662418066506201,\"SCARB1;S1PR1;IRF2BP2\",\"GCST90085816\",\"PMID:34469753\"],[19,\"measurement\",0.0673634132194936,\"MLXIP;PNPLA3;LMNA;RAI14;GLI2;GNAS;VEGFA\",\"GCST008972\",\"PMID:31578528\"],[19,\"measurement\",0.0673634132194936,\"MLXIP;PNPLA3;LMNA;RAI14;GLI2;GNAS;VEGFA\",\"GCST008972_2\",\"PMID:31578528\"],[19,\"measurement\",0.0673634132194936,\"MLXIP;PNPLA3;LMNA;RAI14;GLI2;GNAS;VEGFA\",\"GCST008972_3\",\"PMID:31578528\"],[19,\"measurement\",0.0801643768034926,\"MLXIP;PNPLA3;FAM114A1;GLI2;SCARB1\",\"GCST90018973\",\"PMID:34594039\"],[19,\"measurement\",0.0801643768034926,\"RAB2A;GNAQ;S100A11;LIPG;RRAS2\",\"GCST90000618\",\"PMID:32242144\"],[19,\"measurement\",0.0812956978300935,\"CDKN1A;ELOVL5;ITSN1;TKT;UBASH3B;FADS2;CLIC4;GLI2;HSPA8;CD46;SMIM29;RAI14;ABCC1;NFIC;SCD5;VEGFA\",\"GCST90025974\",\"PMID:34226706\"],[19,\"measurement\",0.0829069885868102,\"TOX2\",\"GCST90012059\",\"PMID:33067605\"],[19,\"measurement\",0.0838740937961106,\"YWHAZ;EHD4;PPIA;IRF2BP2;CCBE1;FLNB;UBASH3B;ENO1;AZIN1;SCD5;VEGFA\",\"GCST90025971\",\"PMID:34226706\"],[19,\"measurement\",0.086814728194195,\"EHD4;LIPA;VEGFA;AZIN1;IFITM2;NPC1\",\"GCST004620\",\"PMID:27863252\"],[19,\"measurement\",0.0870176384907033,\"PCYOX1;TFB1M;IRF2BP2;SYT1;TCF20;PTPN1;DUSP6;NFIB;CPNE3;GJC1;HABP4;PDIA6;MTFR1;PTPRN2\",\"GCST006570\",\"PMID:30038396\"],[19,\"measurement\",0.0882332442153908,\"YWHAZ;EHD4;UBASH3B;NUDT14;VEGFA;AZIN1;BNIP3L;FDFT1;GLI2;HSPA8;SCARB1;IRF2BP2;CCBE1;ITSN1;SQLE;FLVCR1;ABCC1;SCD5;FLNB;RAI14\",\"GCST90002386\",\"PMID:32888494\"],[19,\"measurement\",0.0882332442153908,\"YWHAZ;EHD4;UBASH3B;NUDT14;VEGFA;AZIN1;BNIP3L;FDFT1;GLI2;HSPA8;SCARB1;IRF2BP2;CCBE1;ITSN1;SQLE;FLVCR1;ABCC1;SCD5;FLNB;RAI14\",\"GCST90002387\",\"PMID:32888494\"],[19,\"measurement\",0.0882332442153908,\"YWHAZ;EHD4;UBASH3B;NUDT14;VEGFA;AZIN1;BNIP3L;FDFT1;GLI2;HSPA8;SCARB1;IRF2BP2;CCBE1;ITSN1;SQLE;FLVCR1;ABCC1;SCD5;FLNB;RAI14\",\"GCST90002406\",\"PMID:32888494\"],[19,\"measurement\",0.0898135263762215,\"SLC9A3R1;ABCC1;IFITM2;ZYX;CEBPD;SCD5\",\"GCST90002296\",\"PMID:32888493\"],[19,\"measurement\",0.0898135263762215,\"EHD4;LIPA;IFITM2;AZIN1;SCD5;NPC1\",\"GCST004614\",\"PMID:27863252\"],[19,\"measurement\",0.0913996078620031,\"CDKN1A;TKT\",\"GCST007104\",\"PMID:30012220\"],[19,\"measurement\",0.1011866024626775,\"STARD4;FNDC3A;GGT7;GNAQ;DNAJC21;NFIB;BTG1;HSD17B12;PTPRN2\",\"GCST007078\",\"PMID:30595370\"],[19,\"measurement\",0.1156390146772262,\"SYT1;CBX5;DNAJB9;NPC1;VASH2;BNIP3L;DUSP6;LONRF1;PLK2;NR2F1;IRF2BP2;MARCKS;PNPLA8;NFIB;GJC1;TFB1M;PTPN1;NAV3;PDIA6\",\"GCST006442\",\"PMID:30038396\"],[19,\"measurement\",0.1271408373891563,\"FADS1;ITSN1;SPTLC2;PNPLA3;BNIP3L;FADS2;CSNK1G2;HSPA8;ABCC1;PTTG1IP\",\"GCST90002372\",\"PMID:32888493\"],[19,\"measurement\",0.1368459709529698,\"TSPAN14;RAB2A;LRRC8B;EHD4;VCP;UBASH3B;ZYX;ENSA;CD46;PLK2;CEBPD;SCD5\",\"GCST90002344\",\"PMID:32888493\"],[19,\"measurement\",0.1428017404740746,\"ARHGAP29;PXMP4;PNPLA3;ANPEP\",\"GCST90019498\",\"PMID:33462484\"],[19,\"measurement\",0.1456651650884171,\"IRF2BP2;CCBE1;ITSN1;PTPN1;PNPLA3;BNIP3L;TOX2;ABCC1;SMAD1;PTTG1IP\",\"GCST90018964\",\"PMID:34594039\"],[19,\"measurement\",0.1460690736456073,\"ARHGAP29;EHD4;IRF2BP2;CCBE1;UBASH3B;PTPN1;ENO1;PNPLA3;SQLE;HABP4;NAV3;CLIC4;PDIA5;DNAJB6;RAI14;TM4SF1;VEGFA\",\"GCST90002400\",\"PMID:32888494\"],[19,\"measurement\",0.1478912000001314,\"PDIA5;LIPA\",\"GCST003194\",\"PMID:26561523\"],[19,\"measurement\",0.158969452706878,\"EPAS1\",\"GCST009500\",\"PMID:31681408\"],[19,\"measurement\",0.158969452706878,\"ARHGAP29\",\"GCST90032354\",\"PMID:35115689\"],[19,\"measurement\",0.158969452706878,\"ARHGAP29\",\"GCST90032585\",\"PMID:35115689\"],[19,\"measurement\",0.158969452706878,\"ARHGAP29\",\"GCST90032586\",\"PMID:35115689\"],[19,\"measurement\",0.158969452706878,\"LTBP2\",\"GCST90095201\",\"PMID:34743558\"],[19,\"measurement\",0.1667868813477533,\"ARHGAP29;CDKN1A;UBASH3B;PNPLA3;DUSP6;TM4SF1;VEGFA\",\"GCST90018944\",\"PMID:34594039\"],[19,\"measurement\",0.1697894700604497,\"NPC1;SMIM29;HSD17B12;JUND\",\"GCST005830\",\"PMID:29691431\"],[19,\"measurement\",0.1762549090120402,\"PMP22;APOC1;CD46\",\"GCST003818\",\"PMID:27798624\"],[19,\"measurement\",0.1990982922314336,\"IFITM2;S1PR1;MIIP;BTG1;CEBPD;SCD5\",\"GCST004624\",\"PMID:27863252\"],[19,\"measurement\",0.2061550439296068,\"NFIB\",\"GCST007445\",\"PMID:30586737\"],[19,\"measurement\",0.2061550439296068,\"GNAS\",\"GCST001610\",\"PMID:22797727\"],[19,\"measurement\",0.2061550439296068,\"PHTF1\",\"GCST009890\",\"PMID:30642433\"],[19,\"measurement\",0.2061550439296068,\"IRF2BP2\",\"GCST90012023\",\"PMID:33067605\"],[19,\"measurement\",0.2061550439296068,\"TSPAN14\",\"GCST90012054\",\"PMID:33067605\"],[19,\"measurement\",0.2061550439296068,\"PNPLA3\",\"GCST90016673\",\"PMID:34128465\"],[19,\"measurement\",0.2126686371895756,\"INSIG1;TGFBR2;CCBE1\",\"GCST008758\",\"PMID:31219150\"],[19,\"measurement\",0.2142982732767858,\"MLXIP;IRF2BP2;CCBE1;ITSN1;LBR;PTPN1;CLCN6;PNPLA3;BNIP3L;TOX2;SCARB1;PTTG1IP\",\"GCST90002338\",\"PMID:32888493\"],[19,\"measurement\",0.2168226626342707,\"CDKN1A;VEGFA;S1PR1;NFIB;MMP17;CDC42BPA;GLI2;PTTG1IP\",\"GCST90018954\",\"PMID:34594039\"],[19,\"measurement\",0.217787614798976,\"MLXIP;SOCS2;GNAQ;NFIB;SMIM29;CLTC;CCN2\",\"GCST90025948\",\"PMID:34226706\"],[19,\"measurement\",0.2182686643282181,\"SH2D3C;EHD4;UBASH3B;LIPA;IFITM2;AZIN1;BNIP3L;ELOVL5;CEBPD;SCD5;NPC1\",\"GCST90002399\",\"PMID:32888494\"],[19,\"measurement\",0.2216192912207304,\"S1PR1;PNPLA3;LIPE;NR2F6;EGR1;NFE2L2\",\"GCST90012114\",\"PMID:32042192\"],[19,\"measurement\",0.2287500538282526,\"MTHFR\",\"GCST002087\",\"PMID:23824729\"],[19,\"measurement\",0.2289265977227501,\"SH2D3C;RAB2A;ABCC1;ZYX;CEBPD\",\"GCST90002380\",\"PMID:32888494\"],[19,\"measurement\",0.2459393785478721,\"EHD4;SOBP;IRF2BP2;MSMO1;MARCKS;THSD4;UBASH3B;GPCPD1;TANC1;MAP1B;TGFBR2;CLIC4;NAV3;NFIB;BTG1;PRXL2A;NFIC;VEGFA\",\"GCST007066\",\"PMID:30595370\"],[19,\"measurement\",0.2507048273189083,\"ABCC1\",\"GCST90019386\",\"PMID:33328453\"],[19,\"measurement\",0.2507048273189083,\"ABCC1\",\"GCST90019430\",\"PMID:33328453\"],[19,\"measurement\",0.2507048273189083,\"SMURF2\",\"GCST003998\",\"PMID:27182965\"],[19,\"measurement\",0.2533202811313329,\"YWHAZ;UBASH3B;MMAB;GNAQ;ZRANB1;DUSP6;NFIB;CPNE3;UBXN7;CSNK1G2;NPC1;RTN4;HSD17B12;VEGFA\",\"GCST009004\",\"PMID:30239722\"],[19,\"measurement\",0.2668816838535806,\"SH2D3C;SLC7A11;PTPN1;IFITM2;S1PR1;DUSP6;ENSA;TOX2;BTG1;CEBPD;NFIC;SCD5\",\"GCST90002382\",\"PMID:32888494\"],[19,\"measurement\",0.2720374240745888,\"ID3\",\"GCST012006\",\"PMID:34006833\"],[19,\"measurement\",0.2720374240745888,\"ID3\",\"GCST012008\",\"PMID:34006833\"],[19,\"measurement\",0.2720374240745888,\"MARCKS\",\"GCST006097\",\"PMID:29899525\"],[19,\"measurement\",0.2720374240745888,\"DTD1\",\"GCST006952\",\"PMID:29500382\"],[19,\"measurement\",0.2775692896514996,\"IER2;UBASH3B;INO80C;LETM2;ODF2L;DIPK1B;ZRANB1;MNT;GLI2;GNAS;LTBP2;CCBE1;SOCS2;NFIB;VAMP5;DDR2;SMURF2;NUCKS1;FLNB;PTPN1;CPNE3;CCN1;NFE2L2\",\"GCST90000025\",\"PMID:33097823\"],[19,\"measurement\",0.2787192591076367,\"ACTB;GLI2;NPC1;PLK2;APOC1;VEGFA\",\"GCST90018975\",\"PMID:34594039\"],[19,\"measurement\",0.2808694557435136,\"EHD4;SLC9A3R1;UBASH3B;PTPN1;LIPA;IFITM2;AZIN1;S1PR1;BNIP3L;ELOVL5;CEBPD\",\"GCST90002389\",\"PMID:32888494\"],[19,\"measurement\",0.2927653966471928,\"FLNB\",\"GCST009404\",\"PMID:31798171\"],[19,\"measurement\",0.2927653966471928,\"LRP8\",\"NEALE2_1950\",null],[19,\"measurement\",0.2968678906533512,\"TMEM60;FRY;EPAS1;GGT7;RAI14;GLI2;KRT18;GNAS;VEGFA\",\"GCST90018979\",\"PMID:34594039\"],[19,\"measurement\",0.3051467678839975,\"MLXIP;GPCPD1;GLI2;SCARB1;RRAS2;APOC1;VEGFA\",\"GCST90020027\",\"PMID:34021172\"],[19,\"measurement\",0.3129058046429355,\"PLXNA2\",\"GCST90026029\",\"PMID:33437055\"],[19,\"measurement\",0.3129058046429355,\"PTPN1\",\"GCST009697\",\"PMID:31636452\"],[19,\"measurement\",0.3167002851483499,\"CDKN1A;XPC;IRF2BP2;S1PR1;SOCS2;CLCN6;PNPLA3;PLXNA2;NR2F6;GLI2;CD46;HSD17B12;UBAP2;VEGFA\",\"GCST90025989\",\"PMID:34226706\"],[19,\"measurement\",0.3194091756726575,\"MLXIP;ADIPOR2;ACSS2;EGFL7;MTHFR;IER5L;FDFT1;ELOVL5;ABCC1;SNCA;TOX2\",\"GCST90025975\",\"PMID:34226706\"],[19,\"measurement\",0.3199270355016073,\"NUCKS1;TUBA1A;NR2F1;THSD4;ME1;LRP8;KLHL24;PLXNA2;NAV3;NFIB;DPYSL2;VEGFA\",\"GCST90091061\",\"PMID:34560273\"],[19,\"measurement\",0.3259486585004312,\"FLNB;THSD4\",\"GCST90093370\",\"PMID:34968759\"],[19,\"measurement\",0.332475228503348,\"CFAP54\",\"GCST001414\",\"PMID:22359512\"],[19,\"measurement\",0.332475228503348,\"CFAP54\",\"GCST001414_2\",\"PMID:22359512\"],[19,\"measurement\",0.3438141145772319,\"NUCKS1;IRF2BP2;PTPN1;FNDC3A;PLXNA2;GLI2;CD46;VEGFA\",\"GCST011520\",\"PMID:33587031\"],[19,\"measurement\",0.3466655775414268,\"PCYOX1;IRF2BP2;UBASH3B;S1PR1;AZIN1;GLI2;ELOVL6\",\"GCST90018942\",\"PMID:34594039\"],[19,\"measurement\",0.3514897829027668,\"VEGFA\",\"GCST001856_7\",\"PMID:23408906\"],[19,\"measurement\",0.3514897829027668,\"KLHL24\",\"GCST011946\",\"PMID:33293549\"],[19,\"measurement\",0.3514897829027668,\"THSD4\",\"GCST90007181\",\"PMID:33288918\"],[19,\"measurement\",0.3514897829027668,\"THSD4\",\"GCST90007182\",\"PMID:33288918\"],[19,\"measurement\",0.3558828338950904,\"BNIP3L;HSPA8;ABCC1;ITSN1\",\"GCST90002332\",\"PMID:32888493\"],[19,\"measurement\",0.3642468213732557,\"TMEM60;RAI14;ZRANB1;GLI2;PRSS23;GNAS\",\"GCST90025991\",\"PMID:34226706\"],[19,\"measurement\",0.3672124119043087,\"SH2D3C;IRF2BP2;UBASH3B;IFITM2;CEBPD\",\"GCST004608\",\"PMID:27863252\"],[19,\"measurement\",0.3699651297729389,\"S1PR1\",\"GCST90085817\",\"PMID:34469753\"],[19,\"measurement\",0.3699651297729389,\"LRP8\",\"GCST006951\",\"PMID:29500382\"],[19,\"measurement\",0.3778430112831962,\"AKAP12;NFIC\",\"GCST011011\",\"PMID:32339537\"],[19,\"measurement\",0.3785881529517301,\"MLXIP;GPCPD1;NFE2L2;SMIM29;VEGFA\",\"GCST90020024\",\"PMID:34021172\"],[19,\"measurement\",0.3879164909650702,\"CD46\",\"GCST001969\",\"PMID:23583979\"],[19,\"measurement\",0.3879164909650702,\"SNCA\",\"GCST006948\",\"PMID:29500382\"],[19,\"measurement\",0.3879164909650702,\"GCSH\",\"GCST007638\",\"PMID:30837465\"],[19,\"measurement\",0.4013208522587543,\"CDKN1A;SUB1;CCBE1;SQLE;EPAS1\",\"GCST010321\",\"PMID:32439900\"],[19,\"measurement\",0.4053586605593682,\"EPAS1\",\"GCST009499\",\"PMID:31681408\"],[19,\"measurement\",0.418148725216143,\"PTPRN2;SYT1\",\"GCST90011298\",\"PMID:32895543\"],[19,\"measurement\",0.4223060168318421,\"AZIN1\",\"GCST010346\",\"PMID:32386560\"],[19,\"measurement\",0.4223060168318421,\"AZIN1\",\"GCST010346_2\",\"PMID:32386560\"],[19,\"measurement\",0.4223060168318421,\"AZIN1\",\"GCST010346_3\",\"PMID:32386560\"],[19,\"measurement\",0.4223060168318421,\"PIK3C2A\",\"GCST90014267\",\"PMID:33979322\"],[19,\"measurement\",0.4280219422040659,\"ZYX;ABCC1\",\"GCST004634\",\"PMID:27863252\"],[19,\"measurement\",0.4296079375240765,\"SOCS2;NAV3;PNMA2;DPYSL2;CD46\",\"GCST010698\",\"PMID:32665545\"],[19,\"measurement\",0.4296079375240765,\"SOCS2;NAV3;PNMA2;DPYSL2;CD46\",\"GCST010702\",\"PMID:32665545\"],[19,\"measurement\",0.4334836353565367,\"BTG1;CEBPD;S1PR1;SCD5\",\"GCST004617\",\"PMID:27863252\"],[19,\"measurement\",0.4368096686319351,\"BHLHE40;RAB2A;RNASET2\",\"GCST90018990\",\"PMID:34594039\"],[19,\"measurement\",0.4387725338878636,\"SMIM29\",\"GCST007490\",\"PMID:30166351\"],[19,\"measurement\",0.4439816527134052,\"PTPN1;PNPLA3;SQLE;CLIC4;CYP51A1;NFIB;RAI14;ACACA\",\"GCST90002308\",\"PMID:32888493\"],[19,\"measurement\",0.4459625274121073,\"ARHGAP29;LRRC8B;CCBE1;UBASH3B;IFITM2;DUSP6\",\"GCST90018976\",\"PMID:34594039\"],[19,\"measurement\",0.447500965440971,\"NR2F1;VEGFA\",\"GCST010696\",\"PMID:32665545\"],[19,\"measurement\",0.447500965440971,\"NR2F1;VEGFA\",\"GCST010700\",\"PMID:32665545\"],[19,\"measurement\",0.4636903021542604,\"LIPA;NFE2L2;LIPG;FDFT1;TM4SF19;GLI2;SCARB1\",\"GCST90025959\",\"PMID:34226706\"],[19,\"measurement\",0.465152707449157,\"BTG1;CEBPD;S1PR1;SCD5\",\"GCST004623\",\"PMID:27863252\"],[19,\"measurement\",0.4699827852886225,\"MLXIP;IRF2BP2;ITSN1;PTPN1;BNIP3L;CLIC4;NFIB;RAI14\",\"GCST90018971\",\"PMID:34594039\"],[19,\"measurement\",0.4760098066584078,\"LRP8;PTPRN2\",\"GCST007326\",\"PMID:30643258\"],[19,\"measurement\",0.4805511540600514,\"BAZ2A;RNF145;PTPN1;CLIC4;NRDC;PDIA5;CD9;GJC1;HABP4;CLTC;APOC1\",\"GCST90002401\",\"PMID:32888494\"],[19,\"measurement\",0.4854209635556349,\"NPC1\",\"GCST008522\",\"PMID:31046077\"],[19,\"measurement\",0.488662354006874,\"SRBD1;RAB32;NR2F1\",\"GCST90026052\",\"PMID:33437055\"],[19,\"measurement\",0.488662354006874,\"SRBD1;RAB32;NR2F1\",\"GCST90026060\",\"PMID:33437055\"],[19,\"measurement\",0.488662354006874,\"SRBD1;RAB32;NR2F1\",\"GCST90026062\",\"PMID:33437055\"],[19,\"measurement\",0.488662354006874,\"SRBD1;RAB32;NR2F1\",\"GCST90026067\",\"PMID:33437055\"],[19,\"measurement\",0.488662354006874,\"SRBD1;RAB32;NR2F1\",\"GCST90026126\",\"PMID:33437055\"],[19,\"measurement\",0.488662354006874,\"SRBD1;RAB32;NR2F1\",\"GCST90026140\",\"PMID:33437055\"],[19,\"measurement\",0.488662354006874,\"SRBD1;RAB32;NR2F1\",\"GCST90026156\",\"PMID:33437055\"],[19,\"measurement\",0.488662354006874,\"SRBD1;RAB32;NR2F1\",\"GCST90026185\",\"PMID:33437055\"],[19,\"measurement\",0.488662354006874,\"SRBD1;RAB32;NR2F1\",\"GCST90026200\",\"PMID:33437055\"],[19,\"measurement\",0.488662354006874,\"SRBD1;RAB32;NR2F1\",\"GCST90026203\",\"PMID:33437055\"],[19,\"measurement\",0.488662354006874,\"SRBD1;RAB32;NR2F1\",\"GCST90026212\",\"PMID:33437055\"],[19,\"measurement\",0.488662354006874,\"SRBD1;RAB32;NR2F1\",\"GCST90026216\",\"PMID:33437055\"],[19,\"measurement\",0.488662354006874,\"SRBD1;RAB32;NR2F1\",\"GCST90026243\",\"PMID:33437055\"],[19,\"measurement\",0.488662354006874,\"SRBD1;RAB32;NR2F1\",\"GCST90026306\",\"PMID:33437055\"],[19,\"measurement\",0.488662354006874,\"SRBD1;RAB32;NR2F1\",\"GCST90026310\",\"PMID:33437055\"],[19,\"measurement\",0.488662354006874,\"SRBD1;RAB32;NR2F1\",\"GCST90026314\",\"PMID:33437055\"],[19,\"measurement\",0.5000961706667439,\"VEGFA\",\"GCST90002238\",\"PMID:34059833\"],[19,\"measurement\",0.5022999104645244,\"DUSP6;NFIB;CBX5;IRF2BP2\",\"GCST90000047\",\"PMID:34211149\"],[19,\"measurement\",0.5115295825864637,\"RAB2A;UBASH3B;PTPN1;HDGFL3;FDFT1;ELOVL5;RTN4;PLK2;ACACA\",\"GCST90002320\",\"PMID:32888493\"],[19,\"measurement\",0.5143547315191779,\"HSD17B12\",\"GCST007561\",\"PMID:30846698\"],[19,\"measurement\",0.5143547315191779,\"SMIM29\",\"GCST90016667\",\"PMID:34128465\"],[19,\"measurement\",0.5204538292975093,\"RNF145;PRSS23;GNAS;RAI14\",\"GCST90018948\",\"PMID:34594039\"],[19,\"measurement\",0.5233338457846393,\"B4GALT5;VCL;TUBA1A;NR2F1;IRF2BP2;PCSK5;THSD4;ME1;LRP8;S1PR1;PLXNA2;AKAP12;NAV3;NFIB;CDC42BPA;DPYSL2;RRAS2\",\"GCST90095129\",\"PMID:34910505\"],[19,\"measurement\",0.530264315956697,\"SOCS2;PCSK5\",\"GCST001956\",\"PMID:23563607\"],[19,\"measurement\",0.5382935818303047,\"MNT;PIK3C2A;SNCA;NFIB\",\"GCST007988\",\"PMID:30804565\"],[19,\"measurement\",0.5382935818303047,\"MNT;PIK3C2A;SNCA;NFIB\",\"GCST007988_2\",\"PMID:30804565\"],[19,\"measurement\",0.5382935818303047,\"MNT;PIK3C2A;SNCA;NFIB\",\"GCST007988_3\",\"PMID:30804565\"],[19,\"measurement\",0.5469364599426958,\"IRF2BP2;ITSN1;PTPN1;BNIP3L;ZRANB1;CLIC4;NFIB;RAI14;PTTG1IP\",\"GCST90002367\",\"PMID:32888493\"],[19,\"measurement\",0.5547466477670275,\"ZRANB1\",\"GCST006014\",\"PMID:29403010\"],[19,\"measurement\",0.5627008272548027,\"INSIG1;PDGFB;AKAP12;DUSP6;CDC42BPA;SCARB1;RAI14\",\"GCST007082\",\"PMID:30595370\"],[19,\"measurement\",0.564264367018959,\"FLNB;THSD4\",\"GCST009724\",\"PMID:31959993\"],[19,\"measurement\",0.584737603881208,\"INSIG1;UBC;ETNK1\",\"GCST011567\",\"PMID:32939015\"],[19,\"measurement\",0.584737603881208,\"INSIG1;UBC;ETNK1\",\"GCST011568\",\"PMID:32939015\"],[19,\"measurement\",0.5897176239190327,\"THSD4;PRSS23;DYSF;FRY\",\"GCST007430\",\"PMID:30804560\"],[19,\"measurement\",0.5911514694477766,\"TCF20;PTPRN2;SYT1\",\"GCST90011875\",\"PMID:33414549\"],[19,\"measurement\",0.6034471354601211,\"VEGFA\",\"GCST008790\",\"PMID:31511532\"],[19,\"measurement\",0.6037875810677646,\"IL21R;ARHGAP29;RAB2A\",\"GCST90019515\",\"PMID:33462484\"],[19,\"measurement\",0.6090754937100225,\"THSD4;LRP8;NAV3;PNMA2;DPYSL2;RRAS2;VEGFA\",\"GCST010699\",\"PMID:32665545\"],[19,\"measurement\",0.6090754937100225,\"THSD4;LRP8;NAV3;PNMA2;DPYSL2;RRAS2;VEGFA\",\"GCST010703\",\"PMID:32665545\"],[19,\"measurement\",0.6145413567682156,\"RRAS2;NUCKS1;ODF2L;PCSK5;SOCS2;ZRANB1;HSD17B12;NFIC;NPC1\",\"GCST90018949\",\"PMID:34594039\"],[19,\"measurement\",0.6172279538131711,\"PTPN1;PNPLA3;CLIC4;NFIB;SMIM29;RAI14;SMAD1\",\"GCST90002314\",\"PMID:32888493\"],[19,\"measurement\",0.6257705477960311,\"S1PR1\",\"GCST90085818\",\"PMID:34469753\"],[19,\"measurement\",0.6393856261257229,\"PDGFB;PCSK5;CCSER2;THSD4;UBASH3B;IFITM2;SMURF2;PRSS23;RAI14;LTBP2\",\"GCST90025978\",\"PMID:34226706\"],[19,\"measurement\",0.6474407271065719,\"YWHAZ;PCYOX1;TCF20;NAV3;ETNK1;NPC1\",\"GCST007576\",\"PMID:30696823\"],[19,\"measurement\",0.6528184545178594,\"DUSP6;HSD17B12;NFIB;VEGFA\",\"GCST90020232\",\"PMID:33980691\"],[19,\"measurement\",0.6630384517720197,\"DUSP6;HSD17B12;NPC1\",\"GCST008744\",\"PMID:31501611\"],[19,\"measurement\",0.6686762343132817,\"MLXIP;LPIN1;UBASH3B;KLHL24;NFIB;PDLIM1;GLI2;KRT18;RAI14;VEGFA\",\"GCST90025945\",\"PMID:34226706\"],[19,\"measurement\",0.6757571864974095,\"NUCKS1;NFE2L2\",\"GCST007472\",\"PMID:30643251\"],[19,\"measurement\",0.6776972076939256,\"RAI14;ABCC1;NFIC;SCD5;VEGFA\",\"GCST90018958\",\"PMID:34594039\"],[19,\"measurement\",0.6855089857015289,\"HSD17B12\",\"GCST007463\",\"PMID:30643251\"],[19,\"measurement\",0.6944979938815563,\"HABP4\",\"GCST005141\",\"PMID:29186694\"],[19,\"measurement\",0.6950669659408967,\"AACS;VEGFA\",\"GCST90018955\",\"PMID:34594039\"],[19,\"measurement\",0.7032312220896585,\"DTD1\",\"GCST010544\",\"PMID:32451486\"],[19,\"measurement\",0.7117159157400594,\"CDKN1A\",\"GCST011010\",\"PMID:32602732\"],[19,\"measurement\",0.7199591159356593,\"NPC1\",\"GCST011122\",\"PMID:33128006\"],[19,\"measurement\",0.7251386263547017,\"PTPN1;PCSK5\",\"GCST006412\",\"PMID:29785010\"],[19,\"measurement\",0.7301261421239565,\"EPAS1;KLHL24;GLI2\",\"GCST008362\",\"PMID:31043758\"],[19,\"measurement\",0.7394627796843924,\"UBASH3B;APOC1;CCBE1\",\"GCST90018945\",\"PMID:34594039\"],[19,\"measurement\",0.7577855612271639,\"CD9\",\"GCST90026371\",\"PMID:35023831\"],[19,\"measurement\",0.7647169252273888,\"CLCN6\",\"GCST90018986\",\"PMID:34594039\"],[19,\"measurement\",0.777992860371213,\"ANXA2\",\"NEALE2_2375\",null],[19,\"measurement\",0.7926633044456417,\"NR2F1;THSD4;LRP8;CBX5;S1PR1;PLXNA2;NAV3;NFIB;DPYSL2;RRAS2;VEGFA\",\"GCST90091060\",\"PMID:34560273\"],[19,\"measurement\",0.7940481386929774,\"UBASH3B;PLK2;CLCN6\",\"GCST90018963\",\"PMID:34594039\"],[19,\"measurement\",0.7949052254592006,\"NUCKS1;SOBP;IER2;PCSK5;NMT2;SOCS2;NFIB;VAMP5;GLI2;GNAS;DDR2\",\"GCST90018959\",\"PMID:34594039\"],[19,\"measurement\",0.7962940411489594,\"SLC7A11;ETNK1\",\"GCST007340\",\"PMID:30643256\"],[19,\"measurement\",0.7979773239117613,\"THSD4;HSD17B12;IER5L;PRSS23\",\"GCST007432\",\"PMID:30804560\"],[19,\"measurement\",0.8171997503379301,\"UBASH3B;GPCPD1;GNAQ;CCBE1\",\"GCST90025990\",\"PMID:34226706\"],[19,\"measurement\",0.8292300388307603,\"THSD4;NAV3\",\"GCST010697\",\"PMID:32665545\"],[19,\"measurement\",0.8292300388307603,\"THSD4;NAV3\",\"GCST010701\",\"PMID:32665545\"],[19,\"measurement\",0.8329932047685966,\"SLC7A11;ETNK1\",\"GCST007339\",\"PMID:30643256\"],[19,\"measurement\",0.8339851874060723,\"IER5L\",\"GCST011494\",\"PMID:33568662\"],[19,\"measurement\",0.8478584563137905,\"EPAS1\",\"GCST008363\",\"PMID:31043758\"],[19,\"measurement\",0.8522214423029417,\"PCSK5\",\"GCST007293\",\"PMID:30664634\"],[19,\"measurement\",0.8522214423029417,\"PCSK5\",\"GCST007293_2\",\"PMID:30664634\"],[19,\"measurement\",0.8522214423029417,\"PCSK5\",\"GCST007293_3\",\"PMID:30664634\"],[19,\"measurement\",0.8522214423029417,\"PCSK5\",\"GCST007294\",\"PMID:30664634\"],[19,\"measurement\",0.8522214423029417,\"PCSK5\",\"GCST007294_2\",\"PMID:30664634\"],[19,\"measurement\",0.8522214423029417,\"PCSK5\",\"GCST007295\",\"PMID:30664634\"],[19,\"measurement\",0.8522214423029417,\"PCSK5\",\"GCST007295_2\",\"PMID:30664634\"],[19,\"measurement\",0.8522214423029417,\"PCSK5\",\"GCST007295_3\",\"PMID:30664634\"],[19,\"measurement\",0.8540454176049468,\"AZIN1;CLCN6\",\"GCST90018988\",\"PMID:34594039\"],[19,\"measurement\",0.8605090116855827,\"SLC7A11;ETNK1\",\"GCST007341\",\"PMID:30643256\"],[19,\"measurement\",0.8636620780943707,\"DUSP6;HSD17B12;GPCPD1;VEGFA\",\"GCST008996\",\"PMID:30239722\"],[19,\"measurement\",0.8764515925576719,\"SHISA4;CLIC4;RRAS;B4GALT5;VEGFA\",\"GCST90000059\",\"PMID:33230300\"],[19,\"measurement\",0.8862876712140708,\"NAV3\",\"GCST009462\",\"PMID:31809533\"],[19,\"measurement\",0.8927248501253555,\"LRRC8B\",\"GCST90019522\",\"PMID:33462484\"],[19,\"measurement\",0.8940028498351168,\"ACLY;CDKN1A;RRAS;IRF2BP2\",\"GCST90000061\",\"PMID:33230300\"],[19,\"measurement\",0.9037535683585566,\"NR2F1;LPIN1;GLI2\",\"GCST007038\",\"PMID:30595370\"],[19,\"measurement\",0.9099397701834048,\"SCD\",\"GCST006976\",\"PMID:30535121\"],[19,\"measurement\",0.9291751884201368,\"NUCKS1;TCF20;UBXN7;SMURF2;HSD17B12;LTBP2\",\"GCST007081\",\"PMID:30595370\"],[19,\"measurement\",0.9337786486141324,\"NUCKS1;TCF20;LONRF1;HSD17B12;MTFR1;PTPRN2\",\"GCST007468\",\"PMID:30643251\"],[19,\"measurement\",0.9383788931301958,\"NPC1\",\"GCST010084\",\"PMID:32317632\"],[19,\"measurement\",0.9383788931301958,\"NPC1\",\"GCST010085\",\"PMID:32317632\"],[19,\"measurement\",0.9614079463309868,\"SOCS2\",\"GCST007063\",\"PMID:30593698\"],[19,\"measurement\",0.9614079463309868,\"SOCS2\",\"GCST007063_2\",\"PMID:30593698\"],[19,\"measurement\",0.9614079463309868,\"SOCS2\",\"GCST007063_3\",\"PMID:30593698\"],[19,\"measurement\",0.9743958724442392,\"GLI2\",\"NEALE2_2395_1\",null]],\"hovertemplate\":\"trait_category=%{customdata[1]}\\u003cbr\\u003etrait_reported=%{x}\\u003cbr\\u003e-log10(p-value)=%{y}\\u003cbr\\u003eprogram_name=%{customdata[0]}\\u003cbr\\u003eP-value=%{customdata[2]}\\u003cbr\\u003eGenes=%{customdata[3]}\\u003cbr\\u003estudy_id=%{customdata[4]}\\u003cbr\\u003epmid=%{customdata[5]}\\u003cextra\\u003e\\u003c\\u002fextra\\u003e\",\"legendgroup\":\"measurement\",\"marker\":{\"color\":\"#636efa\",\"symbol\":\"circle\"},\"mode\":\"markers\",\"name\":\"measurement\",\"orientation\":\"v\",\"showlegend\":true,\"x\":[\"HDL cholesterol levels\",\"Neutrophil count\",\"LDL cholesterol levels\",\"Mean platelet volume\",\"Diacylglycerol_38:5_[M+H-H2O]1+ levels\",\"Sex hormone-binding globulin levels\",\"Serum uric acid levels\",\"Apolipoprotein A1 levels\",\"Total cholesterol levels\",\"Monocyte percentage of white cells\",\"Sum neutrophil eosinophil counts\",\"Medication use (HMG CoA reductase inhibitors)\",\"High light scatter reticulocyte count\",\"Hip index\",\"Estimated glomerular filtration rate\",\"Apolipoprotein B levels\",\"Eosinophil counts\",\"White blood cell count\",\"White blood cell count\",\"Alanine aminotransferase levels\",\"Platelet count\",\"Lymphocyte-to-monocyte ratio\",\"Urate levels\",\"Urate levels [AA]\",\"Urate levels [East Asian]\",\"Total bilirubin levels\",\"Serum 25-Hydroxyvitamin D levels\",\"Hemoglobin A1c levels\",\"C-X-C motif chemokine 16 levels\",\"Immature fraction of reticulocytes\",\"Sum basophil neutrophil counts\",\"Cognitive performance (MTAG) [MTAG]\",\"High light scatter reticulocyte percentage of red cells\",\"Immature fraction of reticulocytes\",\"Reticulocyte fraction of red cells\",\"Basophil count\",\"Granulocyte count\",\"QRS duration\",\"Menarche (age at onset)\",\"Educational attainment (years of education)\",\"Red cell distribution width\",\"Monocyte count\",\"Aspartate aminotransferase to alanine aminotransferase ratio\",\"Mean corpuscular hemoglobin\",\"Plateletcrit\",\"Fibrinogen levels\",\"Infant head circumference (MTAG)\",\"Elusimicrobiota abundance in stool\",\"Treponema D abundance in stool\",\"Treponemataceae abundance in stool\",\"Retinal vascular fractal density\",\"Aspartate aminotransferase levels\",\"Hand grip strength\",\"Resting heart rate\",\"Sum eosinophil basophil counts\",\"Factor VIII levels\",\"Renal function-related traits (BUN)\",\"Parental lifespan\",\"Stem cell factor levels\",\"Receptor for advanced glycosylation end products levels\",\"Percent liver fat\",\"Pre-treatment viral load in HIV-1 infection\",\"Mean corpuscular volume\",\"Gamma glutamyl transpeptidase\",\"Serum phosphate levels\",\"Neutrophil percentage of white cells\",\"Total testosterone levels\",\"Homocysteine levels\",\"Basophil percentage of white cells\",\"Heel bone mineral density\",\"Coagulation Factor VIII measurement\",\"Coagulation factor Xa measurement\",\"Joint mobility (Beighton score)\",\"Body mass index\",\"Eosinophil percentage of white cells\",\"Intralaminar thalamic nuclei volume\",\"Lateral thalamic nuclei volume\",\"Moderate to vigorous physical activity levels\",\"Feeling tense\",\"Appendicular lean mass\",\"Triglycerides\",\"Lymphocyte percentage of white cells\",\"Optic cup area\",\"Sensitivity \\u002f hurt feelings\",\"Serum creatinine levels\",\"Waist-hip index\",\"Glucuronate levels\",\"Brainstem volume\",\"Insulin-like growth factor 1 levels\",\"Mean reticulocyte volume\",\"Cortical thickness\",\"Ascending aorta minimum area\",\"Phospholipid levels (plasma) [levels]\",\"Phospholipid levels (plasma) [proportions]\",\"Insulin-like growth factor 1 levels\",\"Serum alkaline phosphatase levels\",\"Thyroid hormone levels [TSH]\",\"White matter hyperintensity volume\",\"Facial morphology (segment 1)\",\"Facial morphology (segment 2)\",\"Mean corpuscular hemoglobin concentration\",\"Serum urea levels\",\"Granulocyte percentage of myeloid white cells\",\"Neutrophil-to-lymphocyte ratio\",\"Feeling hurt\",\"Youthful appearance (self-reported)\",\"A body shape index\",\"Heart rate\",\"Feeling nervous\",\"Glycine levels\",\"PR interval\",\"Birth length (MTAG)\",\"Verbal-numerical reasoning\",\"TPE interval (resting)\",\"TPE interval (resting) [men]\",\"TPE interval (resting) [women]\",\"Ganglion cell inner plexiform layer (GCIPL) thickness\",\"Basophil percentage of granulocytes\",\"Subcortical volume (min-P)\",\"Subcortical volume (MOSTest)\",\"Eosinophil percentage of granulocytes\",\"Medication use (thyroid preparations)\",\"Anthropometric traits (multi-trait analysis)\",\"Hematocrit\",\"Serum total protein level\",\"Cortical thickness (min-P)\",\"Cortical thickness (MOSTest)\",\"C-reactive protein levels\",\"Neutrophil percentage of granulocytes\",\"Red blood cell count\",\"Number of sexual partners\",\"Platelet distribution width\",\"Bitter alcoholic beverage consumption\",\"1-palmitoyl-2-arachidonoyl-gpc (16:0\\u002f20:4n6) levels\",\"1-stearoyl-2-arachidonoyl-gpc (18:0\\u002f20:4) levels\",\"1-stearoyl-2-linoleoyl-gpc (18:0\\u002f18:2) levels\",\"2,3-dihydroxy-2-methylbutyrate levels\",\"Ascorbate (vitamin c) levels\",\"Citramalate levels\",\"Erythritol levels\",\"Hydroxyasparagine levels\",\"Methylmalonate (mma) levels\",\"Myo-inositol levels\",\"N-acetylglucosamine\\u002fn-acetylgalactosamine levels\",\"N-acetylhistidine levels\",\"Oxalate (ethanedioate) levels\",\"N,n,n-trimethyl-alanylproline betaine (tmap) levels\",\"Butyrate (4:0) levels\",\"4-chlorobenzoic acid levels\",\"Fasting insulin\",\"Age at first sexual intercourse\",\"Lymphocyte counts\",\"Sleep duration\",\"Spleen volume\",\"Blood urea nitrogen levels\",\"Vertex-wise sulcal depth\",\"Height\",\"Insomnia\",\"Insomnia [Female]\",\"Insomnia [Male]\",\"Red blood cell count\",\"Creatine kinase levels\",\"Hair color\",\"Vertical cup-disc ratio (multi-trait analysis)\",\"Ebbinghaus illusion (underestimation)\",\"Ebbinghaus illusion (overestimation)\",\"Peak expiratory flow\",\"Cognitive aspects of educational attainment\",\"Urinary albumin-to-creatinine ratio\",\"Non-albumin protein levels\",\"Brain morphology (min-P)\",\"Brain morphology (MOSTest)\",\"Weight\",\"Hemoglobin concentration\",\"Platelet-to-lymphocyte ratio\",\"Lung function (FEV1\\u002fFVC)\",\"Chronotype\",\"Body fat percentage\",\"Predicted visceral adipose tissue\",\"Cystatin C levels\",\"Alcohol consumption (drinks per week) (MTAG)\",\"Hemoglobin A1c levels\",\"Cigarettes smoked per day (MTAG)\",\"Cognitive ability (MTAG)\",\"Glucose levels\",\"Problematic alcohol use (MTAG)\",\"Electrocardiographic traits (multivariate)\",\"Walking pace\",\"Intraocular pressure\",\"Birth weight\",\"Serum albumin levels\",\"Mitochondrial DNA copy number\",\"Medication use (beta blocking agents)\",\"Relative age of first facial hair\",\"Cortical surface area\",\"Mean arterial pressure\",\"Height\",\"Depressive symptoms\",\"FEV1\",\"Calcium levels\",\"Cortical surface area (min-P)\",\"Cortical surface area (MOSTest)\",\"Neuroticism\",\"Daytime nap\",\"Offspring birth weight\",\"Body fat distribution (arm fat ratio)\",\"Body fat distribution (arm fat ratio) [females]\",\"Body fat distribution (arm fat ratio) [males]\",\"Body fat distribution (trunk fat ratio)\",\"Body fat distribution (trunk fat ratio) [females]\",\"Body fat distribution (leg fat ratio)\",\"Body fat distribution (leg fat ratio) [females]\",\"Body fat distribution (leg fat ratio) [males]\",\"Medication use (agents acting on the renin-angiotensin system)\",\"Well-being spectrum (multivariate analysis)\",\"Waist-hip ratio\",\"Diastolic blood pressure\",\"Optic disc size\",\"Serum total protein level\",\"Pulse pressure\",\"Balding type 1\",\"Macular thickness\",\"Lung function (FVC)\",\"Smoking initiation (ever regular vs never regular) (MTAG)\",\"Leisure sedentary behaviour (television watching)\",\"Leisure sedentary behaviour (computer use)\",\"Fat-free mass\",\"Fat-free mass [female]\",\"Fat-free mass [male]\",\"Pattern 1 | hair\\u002fbalding pattern\"],\"xaxis\":\"x\",\"y\":[3.7217267604218467,2.2085146890677216,2.041405643510129,1.9579074698952725,1.951044374896618,1.8241882621345995,1.770631114879941,1.7411687362188664,1.7396407250478436,1.690812274047095,1.4704408243467335,1.4080856632715508,1.3781939711216924,1.362419332776284,1.3544566479011757,1.293950511686175,1.2676997014487477,1.2465806849674252,1.235289025140926,1.2228005175729528,1.2190206992990031,1.1788678313002405,1.1715759157952723,1.1715759157952723,1.1715759157952723,1.0960185792798,1.0960185792798,1.089932436670235,1.081408859356079,1.0763721590611,1.0614065901361642,1.0603927068899206,1.0543677520671646,1.0543677520671646,1.0543677520671646,1.0466582514376923,1.0466582514376923,1.039055667545529,0.9948769861297059,0.9368956174689225,0.8957149324974121,0.8637679846524777,0.8452664993267902,0.8366442946177243,0.8354417249747166,0.830057667146352,0.7986863209335994,0.7986863209335994,0.7986863209335994,0.7986863209335994,0.7986863209335994,0.7778381118657756,0.7700892471688905,0.7538587782959907,0.7009324651239999,0.6858060349882722,0.6858060349882722,0.6858060349882722,0.6858060349882722,0.6858060349882722,0.6858060349882722,0.6722965519392787,0.6689813283020113,0.6638953266418268,0.6619668214461817,0.6610086091656856,0.654392438410845,0.640638795065622,0.6403037461058949,0.6091719286958492,0.600837303625428,0.600837303625428,0.600837303625428,0.5963300386704616,0.5736812309119169,0.5653713461456946,0.5653713461456946,0.5653713461456946,0.5653713461456946,0.5566285860294564,0.5548330211137795,0.5514954872964928,0.5334802559376316,0.5334802559376316,0.5274367733240749,0.515491225732224,0.5045863802829738,0.5045863802829738,0.49935154560093575,0.4956526120335892,0.49494905821834334,0.4868508020361554,0.47824070682724795,0.47824070682724795,0.4636762982214514,0.4600892798492229,0.4540872945230746,0.4540872945230746,0.4540872945230746,0.4540872945230746,0.4486929598029413,0.43860422944425476,0.43508264792163637,0.43183920744882176,0.43183920744882176,0.4226886062349129,0.42183298040970696,0.4112617574381072,0.4112617574381072,0.4112617574381072,0.3965082741419726,0.39216054376928067,0.37866922288358823,0.3743727308927516,0.3743727308927516,0.3743727308927516,0.3743727308927516,0.36853396665532223,0.36692770312074385,0.36692770312074385,0.3630272931324168,0.3597077572377868,0.3577605660432619,0.3526349764843956,0.350701631919816,0.3492060233978256,0.3492060233978256,0.3337719870563926,0.3324044468626262,0.32791804927934365,0.3223840999396732,0.3182603754386476,0.313881472009155,0.31099111723709444,0.31099111723709444,0.31099111723709444,0.31099111723709444,0.31099111723709444,0.31099111723709444,0.31099111723709444,0.31099111723709444,0.31099111723709444,0.31099111723709444,0.31099111723709444,0.31099111723709444,0.31099111723709444,0.31099111723709444,0.31099111723709444,0.31099111723709444,0.30094647091657867,0.2990368992538818,0.29112924527038014,0.28873726076138856,0.28873726076138856,0.283617791745582,0.28122117704673677,0.2755075976684138,0.2689807983234533,0.2689807983234533,0.2689807983234533,0.2620631246704594,0.25590531345049344,0.2497224463673653,0.24851737431910442,0.23303897622774877,0.23303897622774877,0.2293558929845921,0.22830122653499976,0.21936076994703263,0.21911582395486884,0.21532887408356802,0.21532887408356802,0.21144888509347357,0.20955441327659186,0.20358488099593702,0.19423713122424574,0.18879998488197744,0.18520757701463067,0.17846128470507308,0.17478411195789112,0.17020932699871788,0.16896430377360622,0.16398684807357408,0.15832900442230294,0.15797335147093647,0.15290185568138592,0.1476933221584665,0.1426921649960585,0.1395789604554925,0.13660210139221657,0.13108368101055365,0.12045367398727036,0.11649929760822468,0.10902438850595701,0.10091124656962411,0.10015316793185175,0.0996846480903241,0.09892653418685364,0.09800944980205051,0.08767177472054431,0.0813249739899602,0.0813249739899602,0.07935854138257471,0.07884166289335762,0.0716766439375091,0.06944754293925572,0.06944754293925572,0.06944754293925572,0.06944754293925572,0.06944754293925572,0.06944754293925572,0.06944754293925572,0.06944754293925572,0.06851903318601958,0.06524457716114158,0.0636561491019446,0.057272065497898976,0.052425291946877256,0.049282375921661604,0.048661096790555615,0.04394997493628287,0.04098735311041072,0.031902395595961704,0.029756060684797827,0.027621769328351052,0.027621769328351052,0.017092292615696322,0.017092292615696322,0.017092292615696322,0.011264564385345333],\"yaxis\":\"y\",\"type\":\"scatter\"}],                        {\"template\":{\"data\":{\"histogram2dcontour\":[{\"type\":\"histogram2dcontour\",\"colorbar\":{\"outlinewidth\":0,\"ticks\":\"\"},\"colorscale\":[[0.0,\"#0d0887\"],[0.1111111111111111,\"#46039f\"],[0.2222222222222222,\"#7201a8\"],[0.3333333333333333,\"#9c179e\"],[0.4444444444444444,\"#bd3786\"],[0.5555555555555556,\"#d8576b\"],[0.6666666666666666,\"#ed7953\"],[0.7777777777777778,\"#fb9f3a\"],[0.8888888888888888,\"#fdca26\"],[1.0,\"#f0f921\"]]}],\"choropleth\":[{\"type\":\"choropleth\",\"colorbar\":{\"outlinewidth\":0,\"ticks\":\"\"}}],\"histogram2d\":[{\"type\":\"histogram2d\",\"colorbar\":{\"outlinewidth\":0,\"ticks\":\"\"},\"colorscale\":[[0.0,\"#0d0887\"],[0.1111111111111111,\"#46039f\"],[0.2222222222222222,\"#7201a8\"],[0.3333333333333333,\"#9c179e\"],[0.4444444444444444,\"#bd3786\"],[0.5555555555555556,\"#d8576b\"],[0.6666666666666666,\"#ed7953\"],[0.7777777777777778,\"#fb9f3a\"],[0.8888888888888888,\"#fdca26\"],[1.0,\"#f0f921\"]]}],\"heatmap\":[{\"type\":\"heatmap\",\"colorbar\":{\"outlinewidth\":0,\"ticks\":\"\"},\"colorscale\":[[0.0,\"#0d0887\"],[0.1111111111111111,\"#46039f\"],[0.2222222222222222,\"#7201a8\"],[0.3333333333333333,\"#9c179e\"],[0.4444444444444444,\"#bd3786\"],[0.5555555555555556,\"#d8576b\"],[0.6666666666666666,\"#ed7953\"],[0.7777777777777778,\"#fb9f3a\"],[0.8888888888888888,\"#fdca26\"],[1.0,\"#f0f921\"]]}],\"heatmapgl\":[{\"type\":\"heatmapgl\",\"colorbar\":{\"outlinewidth\":0,\"ticks\":\"\"},\"colorscale\":[[0.0,\"#0d0887\"],[0.1111111111111111,\"#46039f\"],[0.2222222222222222,\"#7201a8\"],[0.3333333333333333,\"#9c179e\"],[0.4444444444444444,\"#bd3786\"],[0.5555555555555556,\"#d8576b\"],[0.6666666666666666,\"#ed7953\"],[0.7777777777777778,\"#fb9f3a\"],[0.8888888888888888,\"#fdca26\"],[1.0,\"#f0f921\"]]}],\"contourcarpet\":[{\"type\":\"contourcarpet\",\"colorbar\":{\"outlinewidth\":0,\"ticks\":\"\"}}],\"contour\":[{\"type\":\"contour\",\"colorbar\":{\"outlinewidth\":0,\"ticks\":\"\"},\"colorscale\":[[0.0,\"#0d0887\"],[0.1111111111111111,\"#46039f\"],[0.2222222222222222,\"#7201a8\"],[0.3333333333333333,\"#9c179e\"],[0.4444444444444444,\"#bd3786\"],[0.5555555555555556,\"#d8576b\"],[0.6666666666666666,\"#ed7953\"],[0.7777777777777778,\"#fb9f3a\"],[0.8888888888888888,\"#fdca26\"],[1.0,\"#f0f921\"]]}],\"surface\":[{\"type\":\"surface\",\"colorbar\":{\"outlinewidth\":0,\"ticks\":\"\"},\"colorscale\":[[0.0,\"#0d0887\"],[0.1111111111111111,\"#46039f\"],[0.2222222222222222,\"#7201a8\"],[0.3333333333333333,\"#9c179e\"],[0.4444444444444444,\"#bd3786\"],[0.5555555555555556,\"#d8576b\"],[0.6666666666666666,\"#ed7953\"],[0.7777777777777778,\"#fb9f3a\"],[0.8888888888888888,\"#fdca26\"],[1.0,\"#f0f921\"]]}],\"mesh3d\":[{\"type\":\"mesh3d\",\"colorbar\":{\"outlinewidth\":0,\"ticks\":\"\"}}],\"scatter\":[{\"fillpattern\":{\"fillmode\":\"overlay\",\"size\":10,\"solidity\":0.2},\"type\":\"scatter\"}],\"parcoords\":[{\"type\":\"parcoords\",\"line\":{\"colorbar\":{\"outlinewidth\":0,\"ticks\":\"\"}}}],\"scatterpolargl\":[{\"type\":\"scatterpolargl\",\"marker\":{\"colorbar\":{\"outlinewidth\":0,\"ticks\":\"\"}}}],\"bar\":[{\"error_x\":{\"color\":\"#2a3f5f\"},\"error_y\":{\"color\":\"#2a3f5f\"},\"marker\":{\"line\":{\"color\":\"#E5ECF6\",\"width\":0.5},\"pattern\":{\"fillmode\":\"overlay\",\"size\":10,\"solidity\":0.2}},\"type\":\"bar\"}],\"scattergeo\":[{\"type\":\"scattergeo\",\"marker\":{\"colorbar\":{\"outlinewidth\":0,\"ticks\":\"\"}}}],\"scatterpolar\":[{\"type\":\"scatterpolar\",\"marker\":{\"colorbar\":{\"outlinewidth\":0,\"ticks\":\"\"}}}],\"histogram\":[{\"marker\":{\"pattern\":{\"fillmode\":\"overlay\",\"size\":10,\"solidity\":0.2}},\"type\":\"histogram\"}],\"scattergl\":[{\"type\":\"scattergl\",\"marker\":{\"colorbar\":{\"outlinewidth\":0,\"ticks\":\"\"}}}],\"scatter3d\":[{\"type\":\"scatter3d\",\"line\":{\"colorbar\":{\"outlinewidth\":0,\"ticks\":\"\"}},\"marker\":{\"colorbar\":{\"outlinewidth\":0,\"ticks\":\"\"}}}],\"scattermapbox\":[{\"type\":\"scattermapbox\",\"marker\":{\"colorbar\":{\"outlinewidth\":0,\"ticks\":\"\"}}}],\"scatterternary\":[{\"type\":\"scatterternary\",\"marker\":{\"colorbar\":{\"outlinewidth\":0,\"ticks\":\"\"}}}],\"scattercarpet\":[{\"type\":\"scattercarpet\",\"marker\":{\"colorbar\":{\"outlinewidth\":0,\"ticks\":\"\"}}}],\"carpet\":[{\"aaxis\":{\"endlinecolor\":\"#2a3f5f\",\"gridcolor\":\"white\",\"linecolor\":\"white\",\"minorgridcolor\":\"white\",\"startlinecolor\":\"#2a3f5f\"},\"baxis\":{\"endlinecolor\":\"#2a3f5f\",\"gridcolor\":\"white\",\"linecolor\":\"white\",\"minorgridcolor\":\"white\",\"startlinecolor\":\"#2a3f5f\"},\"type\":\"carpet\"}],\"table\":[{\"cells\":{\"fill\":{\"color\":\"#EBF0F8\"},\"line\":{\"color\":\"white\"}},\"header\":{\"fill\":{\"color\":\"#C8D4E3\"},\"line\":{\"color\":\"white\"}},\"type\":\"table\"}],\"barpolar\":[{\"marker\":{\"line\":{\"color\":\"#E5ECF6\",\"width\":0.5},\"pattern\":{\"fillmode\":\"overlay\",\"size\":10,\"solidity\":0.2}},\"type\":\"barpolar\"}],\"pie\":[{\"automargin\":true,\"type\":\"pie\"}]},\"layout\":{\"autotypenumbers\":\"strict\",\"colorway\":[\"#636efa\",\"#EF553B\",\"#00cc96\",\"#ab63fa\",\"#FFA15A\",\"#19d3f3\",\"#FF6692\",\"#B6E880\",\"#FF97FF\",\"#FECB52\"],\"font\":{\"color\":\"#2a3f5f\"},\"hovermode\":\"closest\",\"hoverlabel\":{\"align\":\"left\"},\"paper_bgcolor\":\"white\",\"plot_bgcolor\":\"#E5ECF6\",\"polar\":{\"bgcolor\":\"#E5ECF6\",\"angularaxis\":{\"gridcolor\":\"white\",\"linecolor\":\"white\",\"ticks\":\"\"},\"radialaxis\":{\"gridcolor\":\"white\",\"linecolor\":\"white\",\"ticks\":\"\"}},\"ternary\":{\"bgcolor\":\"#E5ECF6\",\"aaxis\":{\"gridcolor\":\"white\",\"linecolor\":\"white\",\"ticks\":\"\"},\"baxis\":{\"gridcolor\":\"white\",\"linecolor\":\"white\",\"ticks\":\"\"},\"caxis\":{\"gridcolor\":\"white\",\"linecolor\":\"white\",\"ticks\":\"\"}},\"coloraxis\":{\"colorbar\":{\"outlinewidth\":0,\"ticks\":\"\"}},\"colorscale\":{\"sequential\":[[0.0,\"#0d0887\"],[0.1111111111111111,\"#46039f\"],[0.2222222222222222,\"#7201a8\"],[0.3333333333333333,\"#9c179e\"],[0.4444444444444444,\"#bd3786\"],[0.5555555555555556,\"#d8576b\"],[0.6666666666666666,\"#ed7953\"],[0.7777777777777778,\"#fb9f3a\"],[0.8888888888888888,\"#fdca26\"],[1.0,\"#f0f921\"]],\"sequentialminus\":[[0.0,\"#0d0887\"],[0.1111111111111111,\"#46039f\"],[0.2222222222222222,\"#7201a8\"],[0.3333333333333333,\"#9c179e\"],[0.4444444444444444,\"#bd3786\"],[0.5555555555555556,\"#d8576b\"],[0.6666666666666666,\"#ed7953\"],[0.7777777777777778,\"#fb9f3a\"],[0.8888888888888888,\"#fdca26\"],[1.0,\"#f0f921\"]],\"diverging\":[[0,\"#8e0152\"],[0.1,\"#c51b7d\"],[0.2,\"#de77ae\"],[0.3,\"#f1b6da\"],[0.4,\"#fde0ef\"],[0.5,\"#f7f7f7\"],[0.6,\"#e6f5d0\"],[0.7,\"#b8e186\"],[0.8,\"#7fbc41\"],[0.9,\"#4d9221\"],[1,\"#276419\"]]},\"xaxis\":{\"gridcolor\":\"white\",\"linecolor\":\"white\",\"ticks\":\"\",\"title\":{\"standoff\":15},\"zerolinecolor\":\"white\",\"automargin\":true,\"zerolinewidth\":2},\"yaxis\":{\"gridcolor\":\"white\",\"linecolor\":\"white\",\"ticks\":\"\",\"title\":{\"standoff\":15},\"zerolinecolor\":\"white\",\"automargin\":true,\"zerolinewidth\":2},\"scene\":{\"xaxis\":{\"backgroundcolor\":\"#E5ECF6\",\"gridcolor\":\"white\",\"linecolor\":\"white\",\"showbackground\":true,\"ticks\":\"\",\"zerolinecolor\":\"white\",\"gridwidth\":2},\"yaxis\":{\"backgroundcolor\":\"#E5ECF6\",\"gridcolor\":\"white\",\"linecolor\":\"white\",\"showbackground\":true,\"ticks\":\"\",\"zerolinecolor\":\"white\",\"gridwidth\":2},\"zaxis\":{\"backgroundcolor\":\"#E5ECF6\",\"gridcolor\":\"white\",\"linecolor\":\"white\",\"showbackground\":true,\"ticks\":\"\",\"zerolinecolor\":\"white\",\"gridwidth\":2}},\"shapedefaults\":{\"line\":{\"color\":\"#2a3f5f\"}},\"annotationdefaults\":{\"arrowcolor\":\"#2a3f5f\",\"arrowhead\":0,\"arrowwidth\":1},\"geo\":{\"bgcolor\":\"white\",\"landcolor\":\"#E5ECF6\",\"subunitcolor\":\"white\",\"showland\":true,\"showlakes\":true,\"lakecolor\":\"white\"},\"title\":{\"x\":0.05},\"mapbox\":{\"style\":\"light\"}}},\"xaxis\":{\"anchor\":\"y\",\"domain\":[0.0,1.0],\"title\":{\"text\":\"trait_reported\"},\"tickfont\":{\"size\":4}},\"yaxis\":{\"anchor\":\"x\",\"domain\":[0.0,1.0],\"title\":{\"text\":\"-log10(p-value)\"},\"tickformat\":\".1f\"},\"legend\":{\"title\":{\"text\":\"trait_category\"},\"tracegroupgap\":0},\"title\":{\"text\":\"Endothelial Cell Programs x GWAS Continuous Outcome Enrichments\"},\"width\":1000,\"height\":800,\"shapes\":[{\"line\":{\"dash\":\"dash\"},\"type\":\"line\",\"x0\":0,\"x1\":1,\"xref\":\"x domain\",\"y0\":1.3010299956639813,\"y1\":1.3010299956639813,\"yref\":\"y\"}],\"annotations\":[{\"showarrow\":false,\"text\":\"Significance Threshold (0.05)\",\"x\":1,\"xanchor\":\"right\",\"xref\":\"x domain\",\"y\":1.3010299956639813,\"yanchor\":\"bottom\",\"yref\":\"y\"}]},                        {\"responsive\": true}                    ).then(function(){\n",
       "                            \n",
       "var gd = document.getElementById('3e9fe6d2-a6f0-49b8-a7d9-9152b8b62ba2');\n",
       "var x = new MutationObserver(function (mutations, observer) {{\n",
       "        var display = window.getComputedStyle(gd).display;\n",
       "        if (!display || display === 'none') {{\n",
       "            console.log([gd, 'removed!']);\n",
       "            Plotly.purge(gd);\n",
       "            observer.disconnect();\n",
       "        }}\n",
       "}});\n",
       "\n",
       "// Listen for the removal of the full notebook cells\n",
       "var notebookContainer = gd.closest('#notebook-container');\n",
       "if (notebookContainer) {{\n",
       "    x.observe(notebookContainer, {childList: true});\n",
       "}}\n",
       "\n",
       "// Listen for the clearing of the current output cell\n",
       "var outputEl = gd.closest('.output');\n",
       "if (outputEl) {{\n",
       "    x.observe(outputEl, {childList: true});\n",
       "}}\n",
       "\n",
       "                        })                };                });            </script>        </div>"
      ]
     },
     "metadata": {},
     "output_type": "display_data"
    }
   ],
   "source": [
    "plot_interactive_phewas(data=data,\n",
    "                        title=\"Endothelial Cell Programs x GWAS Continuous Outcome Enrichments\",\n",
    "                       query_string=\"trait_category == 'measurement'\")"
   ]
  }
 ],
 "metadata": {
  "kernelspec": {
   "display_name": "evaluation",
   "language": "python",
   "name": "python3"
  },
  "language_info": {
   "codemirror_mode": {
    "name": "ipython",
    "version": 3
   },
   "file_extension": ".py",
   "mimetype": "text/x-python",
   "name": "python",
   "nbconvert_exporter": "python",
   "pygments_lexer": "ipython3",
   "version": "3.9.18"
  }
 },
 "nbformat": 4,
 "nbformat_minor": 5
}
