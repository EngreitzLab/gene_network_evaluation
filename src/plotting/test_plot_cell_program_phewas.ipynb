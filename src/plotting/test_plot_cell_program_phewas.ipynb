{
 "cells": [
  {
   "cell_type": "code",
   "execution_count": 4,
   "id": "68b70e4d",
   "metadata": {},
   "outputs": [],
   "source": [
    "import pandas as pd\n",
    "import numpy as np\n",
    "import mudata\n",
    "import plotly.express as px\n",
    "from ipywidgets import interact, Dropdown, Output, VBox\n",
    "\n",
    "import pandas as pd\n",
    "import numpy as np\n",
    "\n",
    "def process_enrichment_data(enrich_res,\n",
    "                            metadata,\n",
    "                            pval_col=\"P-value\",\n",
    "                            enrich_geneset_id_col=\"Term\",\n",
    "                            metadata_geneset_id_col=\"trait_efos\",\n",
    "                            color_category_col=\"trait_category\",\n",
    "                            program_name_col=\"program_name\",\n",
    "                            annotation_cols=[\"trait_reported\", \"Genes\", \"study_id\", \"pmid\"]):\n",
    "\n",
    "    # Read in enrichment results\n",
    "    if isinstance(enrich_res, str):\n",
    "        enrich_df = pd.read_csv(enrich_res)\n",
    "    elif isinstance(enrich_res, pd.DataFrame):\n",
    "        enrich_df = enrich_res\n",
    "    else:\n",
    "        raise ValueError(\"enrich_res must be either a pandas DataFrame or a file path to a CSV file.\")\n",
    "\n",
    "    if isinstance(metadata, str):\n",
    "        metadata_df = pd.read_csv(metadata, compression='gzip', low_memory=False)\n",
    "    elif isinstance(metadata, pd.DataFrame):\n",
    "        metadata_df = metadata\n",
    "    else:\n",
    "        raise ValueError(\"metadata must be either a pandas DataFrame or a file path to a CSV file.\")\n",
    "\n",
    "    # Join the enrichment results and the metadata\n",
    "    enrich_ps = enrich_df.merge(metadata_df, left_on=enrich_geneset_id_col, right_on=metadata_geneset_id_col, how=\"left\")\n",
    "\n",
    "    # Only keep the relevant columns\n",
    "    keep_cols = list([enrich_geneset_id_col, pval_col, metadata_geneset_id_col, color_category_col, program_name_col] + annotation_cols)\n",
    "    enrich_ps = enrich_ps[keep_cols]\n",
    "\n",
    "    # Sort by P-value\n",
    "    enrich_ps = enrich_ps.drop_duplicates().sort_values(by=[color_category_col, pval_col])\n",
    "\n",
    "    # If the input P-value == 0, then replace it with the lowest non-zero P-value in the dataframe\n",
    "    min_value = enrich_ps.query(f\"`{pval_col}` > 0\")[pval_col].min()\n",
    "\n",
    "    # Compute the -log(10) P-value and deal with edge-cases (e.g. P=0, P=1)\n",
    "    enrich_ps.loc[enrich_ps[pval_col] == 0, pval_col] = min_value  # Replace P=0 with min non-0 p-value\n",
    "    enrich_ps['-log10(p-value)'] = abs(-1 * np.log10(enrich_ps[pval_col]))\n",
    "\n",
    "    enrich_ps.reset_index(drop=True, inplace=True)\n",
    "\n",
    "    return enrich_ps\n",
    "\n",
    "\n",
    "def plot_interactive_phewas(data, x_column='trait_reported',\n",
    "                            y_column='-log10(p-value)',\n",
    "                            color_column='trait_category',\n",
    "                            filter_column='program_name',\n",
    "                            significance_threshold=0.05,\n",
    "                            annotation_cols=[\"program_name\", \"trait_reported\",\n",
    "                                             \"trait_category\", \"P-value\",\n",
    "                                             \"Genes\", \"study_id\", \"pmid\"],\n",
    "                           query_string=\"trait_category != 'measurement'\",\n",
    "                           title=\"Cell Program x OpenTargets GWAS L2G Enrichment\"):\n",
    "    \n",
    "    # Get unique values for the filtering column\n",
    "    filter_values = ['All'] + list(data[filter_column].unique())\n",
    "\n",
    "    # Initialize output widget to display the plot\n",
    "    output = Output()\n",
    "    \n",
    "    if query_string:\n",
    "        data=data.query(query_string)\n",
    "\n",
    "    # Function to update plot based on dropdown selection\n",
    "    def update_plot(selected_value):\n",
    "        # Filter data based on selected value\n",
    "        if selected_value == \"All\":\n",
    "            filtered_data = data.copy()  # No selection, show all data\n",
    "        else:\n",
    "            filtered_data = data[data[filter_column] == selected_value]\n",
    "\n",
    "        # Create the plot\n",
    "        fig = px.scatter(filtered_data, x=x_column, y=y_column, color=color_column,\n",
    "                         title=title,\n",
    "                         hover_data=annotation_cols)\n",
    "\n",
    "        # Customize layout\n",
    "        fig.update_layout(\n",
    "            xaxis_title=x_column,\n",
    "            yaxis_title=y_column,\n",
    "            yaxis=dict(tickformat=\".1f\"),\n",
    "            width=1000,  # Adjust width as needed\n",
    "            height=800,  # Adjust height as needed,\n",
    "            xaxis_tickfont=dict(size=4)\n",
    "        )\n",
    "\n",
    "        # Add horizontal dashed line for significance threshold\n",
    "        fig.add_hline(y=-np.log10(significance_threshold), line_dash=\"dash\",\n",
    "                      annotation_text=f'Significance Threshold ({significance_threshold})', annotation_position=\"top right\")\n",
    "\n",
    "        # Clear previous plot and display the new one\n",
    "        with output:\n",
    "            output.clear_output(wait=True)\n",
    "            fig.show()\n",
    "\n",
    "    # Create dropdown widget\n",
    "    dropdown = Dropdown(options=filter_values, description=f\"{filter_column}:\")\n",
    "\n",
    "    # Define function to handle dropdown value change\n",
    "    def on_change(change):\n",
    "        if change['type'] == 'change' and change['name'] == 'value':\n",
    "            update_plot(change['new'])\n",
    "\n",
    "    # Link dropdown change to function\n",
    "    dropdown.observe(on_change)\n",
    "\n",
    "    # Display dropdown widget and initial plot\n",
    "    display(VBox([dropdown, output]))"
   ]
  },
  {
   "cell_type": "code",
   "execution_count": 2,
   "id": "cd63c378",
   "metadata": {},
   "outputs": [],
   "source": [
    "import os\n",
    "current_directory = os.getcwd()\n",
    "os.chdir(current_directory)\n",
    "\n",
    "enrich_res=\"dashapp/example_data/OpenTargets_L2G_Cell_Program_Enrichment_Results.csv\"\n",
    "metadata=\"../../smk/resources/OpenTargets_L2G_Filtered.csv.gz\"\n",
    "\n",
    "data=process_enrichment_data(\n",
    "    enrich_res=enrich_res,\n",
    "    metadata=metadata)\n",
    "\n",
    "data.to_csv('dashapp/example_data/cNMF_enrichment_trait_processed.txt', sep='\\t')"
   ]
  },
  {
   "cell_type": "markdown",
   "id": "a31fb60c",
   "metadata": {},
   "source": [
    "## Plot Binary GWAS Outcomes"
   ]
  },
  {
   "cell_type": "code",
   "execution_count": 6,
   "id": "c91a69b9",
   "metadata": {},
   "outputs": [],
   "source": [
    "data = pd.read_csv(\"/cellar/users/aklie/opt/gene_program_evaluation/src/plotting/dashapp/example_data/cNMF_enrichment_trait_processed.txt\", sep='\\t')"
   ]
  },
  {
   "cell_type": "code",
   "execution_count": 7,
   "id": "5271013d",
   "metadata": {
    "scrolled": true
   },
   "outputs": [
    {
     "data": {
      "application/vnd.jupyter.widget-view+json": {
       "model_id": "6b8d2f080e984fb98215b07701dcf9ad",
       "version_major": 2,
       "version_minor": 0
      },
      "text/plain": [
       "VBox(children=(Dropdown(description='program_name:', options=('All', 36, 19, 8, 28, 35, 21, 41, 1, 2, 47, 34, …"
      ]
     },
     "metadata": {},
     "output_type": "display_data"
    }
   ],
   "source": [
    "plot_interactive_phewas(data=data,\n",
    "                        title=\"Endothelial Cell Programs x GWAS Binary Outcome Enrichments\",\n",
    "                       query_string=\"trait_category != 'measurement'\")"
   ]
  },
  {
   "cell_type": "markdown",
   "id": "184601fb",
   "metadata": {},
   "source": [
    "## Plot Continuous Trait GWAS Outcomes"
   ]
  },
  {
   "cell_type": "code",
   "execution_count": 4,
   "id": "e9aacf93",
   "metadata": {},
   "outputs": [
    {
     "data": {
      "application/vnd.jupyter.widget-view+json": {
       "model_id": "00dee46d5b594272bea4d8d1ce53ff6f",
       "version_major": 2,
       "version_minor": 0
      },
      "text/plain": [
       "VBox(children=(Dropdown(description='program_name:', options=('All', 36, 19, 8, 28, 35, 21, 41, 1, 2, 47, 34, …"
      ]
     },
     "metadata": {},
     "output_type": "display_data"
    },
    {
     "data": {
      "application/vnd.plotly.v1+json": {
       "config": {
        "plotlyServerURL": "https://plot.ly"
       },
       "data": [
        {
         "customdata": [
          [
           19,
           "measurement",
           0.0001897899623212,
           "RNF145;UBASH3B;FNDC3A;CLIC4;PTTG1IP;NPC1;VEGFA;AZIN1;UBXN7;GLI2;LONRF1;SCARB1;HSD17B12;NFIC;IRF2BP2;LIPG;SMAD1;NUCKS1;PNPLA3;NFE2L2",
           "GCST010242",
           "PMID:32203549"
          ],
          [
           19,
           "measurement",
           0.0061870740076511,
           "TSPAN14;MXRA7;EHD4;CDKN1A;FLNB;UBASH3B;LIPA;IFITM2;PNPLA3;PDLIM1;NPC1;NUDT14;CEBPD;SCD5;VEGFA",
           "GCST90002355",
           "PMID:32888493"
          ],
          [
           19,
           "measurement",
           0.0090906378430656,
           "LDLR;IRF2BP2;PCSK5;UBASH3B;HMGCR;LIPG;GLI2;CMTM6;SCARB1",
           "GCST010245",
           "PMID:32203549"
          ],
          [
           19,
           "measurement",
           0.0110177402679144,
           "FADS1;EHD4;VCP;RNF145;UBASH3B;PCYOX1L;CLCN6;MMAB;MVK;FADS2;NID1;PNPLA3;NRDC;CD9;PDLIM1;ELOVL5",
           "GCST90002349",
           "PMID:32888493"
          ],
          [
           19,
           "measurement",
           0.0111932350853335,
           "FADS2;PNPLA3",
           "GCST90060200",
           "PMID:34503513"
          ],
          [
           19,
           "measurement",
           0.0149903487863079,
           "SLC27A5;RNF145;VEGFA;TMEM60;CLCN6;PXMP4;GLI2;EGR1;LONRF1;NFIC;CDKN1A;SOCS2;KLHL24;NR2F6;NUCKS1;SOBP;PNPLA3;MPC2;NFE2L2",
           "GCST90025958",
           "PMID:34226706"
          ],
          [
           19,
           "measurement",
           0.016957775643521,
           "MLXIP;IRF2BP2;UBASH3B;PNPLA3;RAI14;TANC1;CDC42BPA;GLI2;GNAS;VEGFA",
           "GCST90018977",
           "PMID:34594039"
          ],
          [
           19,
           "measurement",
           0.0181481041838942,
           "LDLR;IRF2BP2;RNF145;UBASH3B;UBC;FNDC3A;PNPLA3;DUSP6;CLIC4;LIPG;PTTG1IP;GLI2;SCARB1;VEGFA",
           "GCST90025955",
           "PMID:34226706"
          ],
          [
           19,
           "measurement",
           0.0182120684927123,
           "RAB2A;IRF2BP2;HMGCR;PNPLA3;GLI2;CMTM6;SCARB1",
           "GCST90018974",
           "PMID:34594039"
          ],
          [
           19,
           "measurement",
           0.020379227896221,
           "SH2D3C;GCNT1;PPIA;IRF2BP2;MARCKS;UBASH3B;IFITM2;S1PR1;PNPLA3;SERTAD1;MMAB;ZYX;ENSA;SCARB1;CEBPD;SCD5;NPC1",
           "GCST90002394",
           "PMID:32888494"
          ],
          [
           19,
           "measurement",
           0.0338500391764281,
           "EHD4;LIPA;VEGFA;AZIN1;IFITM2;SCD5;NPC1",
           "GCST004613",
           "PMID:27863252"
          ],
          [
           19,
           "measurement",
           0.0390763811211738,
           "IRF2BP2;HMGCR;LIPG;SCARB1;VEGFA",
           "GCST90018989",
           "PMID:34594039"
          ],
          [
           19,
           "measurement",
           0.0418606559013246,
           "YWHAZ;EHD4;ACTB;IRF2BP2;CCBE1;FLNB;UBASH3B;ENO1;FLVCR1;CBX5;BNIP3L;FDFT1;UBAP2;HSPA8;WBP2;SMIM29;SCD5;VEGFA",
           "GCST90025970",
           "PMID:34226706"
          ],
          [
           19,
           "measurement",
           0.0434090885564119,
           "MLXIP;NMT2;GPCPD1;GLI2;SCARB1;APOC1;VEGFA",
           "GCST90020026",
           "PMID:34021172"
          ],
          [
           19,
           "measurement",
           0.0442123248254086,
           "NFE2L2;RAI14;TANC1;CALR;TGFBR2;GLI2;SMIM29;GNAS;ABCC1;VEGFA",
           "GCST008058",
           "PMID:31152163"
          ],
          [
           19,
           "measurement",
           0.0508217351163794,
           "LDLR;IRF2BP2;PCSK5;HMGCR;GLI2;CMTM6;SCARB1;VEGFA",
           "GCST010243",
           "PMID:32203549"
          ],
          [
           19,
           "measurement",
           0.0539883803136624,
           "SCD5;SLC7A11;PTPN1;IFITM2;S1PR1;MIIP;ZRANB1;ENSA;JUND;BTG1;CEBPD;TOX2",
           "GCST90002302",
           "PMID:32888493"
          ],
          [
           19,
           "measurement",
           0.0566786261920362,
           "EHD4;UBASH3B;PTPN1;LIPA;IFITM2;AZIN1;PNPLA3;TGM2;DDR2;CD46;SCD5;VEGFA",
           "GCST90018978",
           "PMID:34594039"
          ],
          [
           19,
           "measurement",
           0.0581715954057249,
           "TSPAN14;EHD4;CDKN1A;ITGA10;FLNB;UBASH3B;PTPN1;IFITM2;PNPLA3;TGM2;NUDT14;RAI14;SCD5;NPC1",
           "GCST90002378",
           "PMID:32888493"
          ],
          [
           19,
           "measurement",
           0.0598686523759518,
           "CDKN1A;MLXIP;VEGFA;CLCN6;S1PR1;PNPLA3;GLI2;NPC1",
           "GCST90018943",
           "PMID:34594039"
          ],
          [
           19,
           "measurement",
           0.0603919844724791,
           "FADS1;VCP;IRF2BP2;CCBE1;RNF145;PTPN1;RTN4;PNPLA3;SQLE;TGM2;NAV3;PDIA5;FADS2;PIK3C2A;CD9;WBP2;RAI14",
           "GCST90002361",
           "PMID:32888493"
          ],
          [
           19,
           "measurement",
           0.0662418066506201,
           "SCARB1;S1PR1;IRF2BP2",
           "GCST90085816",
           "PMID:34469753"
          ],
          [
           19,
           "measurement",
           0.0673634132194936,
           "MLXIP;PNPLA3;LMNA;RAI14;GLI2;GNAS;VEGFA",
           "GCST008972",
           "PMID:31578528"
          ],
          [
           19,
           "measurement",
           0.0673634132194936,
           "MLXIP;PNPLA3;LMNA;RAI14;GLI2;GNAS;VEGFA",
           "GCST008972_2",
           "PMID:31578528"
          ],
          [
           19,
           "measurement",
           0.0673634132194936,
           "MLXIP;PNPLA3;LMNA;RAI14;GLI2;GNAS;VEGFA",
           "GCST008972_3",
           "PMID:31578528"
          ],
          [
           19,
           "measurement",
           0.0801643768034926,
           "MLXIP;PNPLA3;FAM114A1;GLI2;SCARB1",
           "GCST90018973",
           "PMID:34594039"
          ],
          [
           19,
           "measurement",
           0.0801643768034926,
           "RAB2A;GNAQ;S100A11;LIPG;RRAS2",
           "GCST90000618",
           "PMID:32242144"
          ],
          [
           19,
           "measurement",
           0.0812956978300935,
           "CDKN1A;ELOVL5;ITSN1;TKT;UBASH3B;FADS2;CLIC4;GLI2;HSPA8;CD46;SMIM29;RAI14;ABCC1;NFIC;SCD5;VEGFA",
           "GCST90025974",
           "PMID:34226706"
          ],
          [
           19,
           "measurement",
           0.0829069885868102,
           "TOX2",
           "GCST90012059",
           "PMID:33067605"
          ],
          [
           19,
           "measurement",
           0.0838740937961106,
           "YWHAZ;EHD4;PPIA;IRF2BP2;CCBE1;FLNB;UBASH3B;ENO1;AZIN1;SCD5;VEGFA",
           "GCST90025971",
           "PMID:34226706"
          ],
          [
           19,
           "measurement",
           0.086814728194195,
           "EHD4;LIPA;VEGFA;AZIN1;IFITM2;NPC1",
           "GCST004620",
           "PMID:27863252"
          ],
          [
           19,
           "measurement",
           0.0870176384907033,
           "PCYOX1;TFB1M;IRF2BP2;SYT1;TCF20;PTPN1;DUSP6;NFIB;CPNE3;GJC1;HABP4;PDIA6;MTFR1;PTPRN2",
           "GCST006570",
           "PMID:30038396"
          ],
          [
           19,
           "measurement",
           0.0882332442153908,
           "YWHAZ;EHD4;UBASH3B;NUDT14;VEGFA;AZIN1;BNIP3L;FDFT1;GLI2;HSPA8;SCARB1;IRF2BP2;CCBE1;ITSN1;SQLE;FLVCR1;ABCC1;SCD5;FLNB;RAI14",
           "GCST90002386",
           "PMID:32888494"
          ],
          [
           19,
           "measurement",
           0.0882332442153908,
           "YWHAZ;EHD4;UBASH3B;NUDT14;VEGFA;AZIN1;BNIP3L;FDFT1;GLI2;HSPA8;SCARB1;IRF2BP2;CCBE1;ITSN1;SQLE;FLVCR1;ABCC1;SCD5;FLNB;RAI14",
           "GCST90002387",
           "PMID:32888494"
          ],
          [
           19,
           "measurement",
           0.0882332442153908,
           "YWHAZ;EHD4;UBASH3B;NUDT14;VEGFA;AZIN1;BNIP3L;FDFT1;GLI2;HSPA8;SCARB1;IRF2BP2;CCBE1;ITSN1;SQLE;FLVCR1;ABCC1;SCD5;FLNB;RAI14",
           "GCST90002406",
           "PMID:32888494"
          ],
          [
           19,
           "measurement",
           0.0898135263762215,
           "SLC9A3R1;ABCC1;IFITM2;ZYX;CEBPD;SCD5",
           "GCST90002296",
           "PMID:32888493"
          ],
          [
           19,
           "measurement",
           0.0898135263762215,
           "EHD4;LIPA;IFITM2;AZIN1;SCD5;NPC1",
           "GCST004614",
           "PMID:27863252"
          ],
          [
           19,
           "measurement",
           0.0913996078620031,
           "CDKN1A;TKT",
           "GCST007104",
           "PMID:30012220"
          ],
          [
           19,
           "measurement",
           0.1011866024626775,
           "STARD4;FNDC3A;GGT7;GNAQ;DNAJC21;NFIB;BTG1;HSD17B12;PTPRN2",
           "GCST007078",
           "PMID:30595370"
          ],
          [
           19,
           "measurement",
           0.1156390146772262,
           "SYT1;CBX5;DNAJB9;NPC1;VASH2;BNIP3L;DUSP6;LONRF1;PLK2;NR2F1;IRF2BP2;MARCKS;PNPLA8;NFIB;GJC1;TFB1M;PTPN1;NAV3;PDIA6",
           "GCST006442",
           "PMID:30038396"
          ],
          [
           19,
           "measurement",
           0.1271408373891563,
           "FADS1;ITSN1;SPTLC2;PNPLA3;BNIP3L;FADS2;CSNK1G2;HSPA8;ABCC1;PTTG1IP",
           "GCST90002372",
           "PMID:32888493"
          ],
          [
           19,
           "measurement",
           0.1368459709529698,
           "TSPAN14;RAB2A;LRRC8B;EHD4;VCP;UBASH3B;ZYX;ENSA;CD46;PLK2;CEBPD;SCD5",
           "GCST90002344",
           "PMID:32888493"
          ],
          [
           19,
           "measurement",
           0.1428017404740746,
           "ARHGAP29;PXMP4;PNPLA3;ANPEP",
           "GCST90019498",
           "PMID:33462484"
          ],
          [
           19,
           "measurement",
           0.1456651650884171,
           "IRF2BP2;CCBE1;ITSN1;PTPN1;PNPLA3;BNIP3L;TOX2;ABCC1;SMAD1;PTTG1IP",
           "GCST90018964",
           "PMID:34594039"
          ],
          [
           19,
           "measurement",
           0.1460690736456073,
           "ARHGAP29;EHD4;IRF2BP2;CCBE1;UBASH3B;PTPN1;ENO1;PNPLA3;SQLE;HABP4;NAV3;CLIC4;PDIA5;DNAJB6;RAI14;TM4SF1;VEGFA",
           "GCST90002400",
           "PMID:32888494"
          ],
          [
           19,
           "measurement",
           0.1478912000001314,
           "PDIA5;LIPA",
           "GCST003194",
           "PMID:26561523"
          ],
          [
           19,
           "measurement",
           0.158969452706878,
           "EPAS1",
           "GCST009500",
           "PMID:31681408"
          ],
          [
           19,
           "measurement",
           0.158969452706878,
           "ARHGAP29",
           "GCST90032354",
           "PMID:35115689"
          ],
          [
           19,
           "measurement",
           0.158969452706878,
           "ARHGAP29",
           "GCST90032585",
           "PMID:35115689"
          ],
          [
           19,
           "measurement",
           0.158969452706878,
           "ARHGAP29",
           "GCST90032586",
           "PMID:35115689"
          ],
          [
           19,
           "measurement",
           0.158969452706878,
           "LTBP2",
           "GCST90095201",
           "PMID:34743558"
          ],
          [
           19,
           "measurement",
           0.1667868813477533,
           "ARHGAP29;CDKN1A;UBASH3B;PNPLA3;DUSP6;TM4SF1;VEGFA",
           "GCST90018944",
           "PMID:34594039"
          ],
          [
           19,
           "measurement",
           0.1697894700604497,
           "NPC1;SMIM29;HSD17B12;JUND",
           "GCST005830",
           "PMID:29691431"
          ],
          [
           19,
           "measurement",
           0.1762549090120402,
           "PMP22;APOC1;CD46",
           "GCST003818",
           "PMID:27798624"
          ],
          [
           19,
           "measurement",
           0.1990982922314336,
           "IFITM2;S1PR1;MIIP;BTG1;CEBPD;SCD5",
           "GCST004624",
           "PMID:27863252"
          ],
          [
           19,
           "measurement",
           0.2061550439296068,
           "NFIB",
           "GCST007445",
           "PMID:30586737"
          ],
          [
           19,
           "measurement",
           0.2061550439296068,
           "GNAS",
           "GCST001610",
           "PMID:22797727"
          ],
          [
           19,
           "measurement",
           0.2061550439296068,
           "PHTF1",
           "GCST009890",
           "PMID:30642433"
          ],
          [
           19,
           "measurement",
           0.2061550439296068,
           "IRF2BP2",
           "GCST90012023",
           "PMID:33067605"
          ],
          [
           19,
           "measurement",
           0.2061550439296068,
           "TSPAN14",
           "GCST90012054",
           "PMID:33067605"
          ],
          [
           19,
           "measurement",
           0.2061550439296068,
           "PNPLA3",
           "GCST90016673",
           "PMID:34128465"
          ],
          [
           19,
           "measurement",
           0.2126686371895756,
           "INSIG1;TGFBR2;CCBE1",
           "GCST008758",
           "PMID:31219150"
          ],
          [
           19,
           "measurement",
           0.2142982732767858,
           "MLXIP;IRF2BP2;CCBE1;ITSN1;LBR;PTPN1;CLCN6;PNPLA3;BNIP3L;TOX2;SCARB1;PTTG1IP",
           "GCST90002338",
           "PMID:32888493"
          ],
          [
           19,
           "measurement",
           0.2168226626342707,
           "CDKN1A;VEGFA;S1PR1;NFIB;MMP17;CDC42BPA;GLI2;PTTG1IP",
           "GCST90018954",
           "PMID:34594039"
          ],
          [
           19,
           "measurement",
           0.217787614798976,
           "MLXIP;SOCS2;GNAQ;NFIB;SMIM29;CLTC;CCN2",
           "GCST90025948",
           "PMID:34226706"
          ],
          [
           19,
           "measurement",
           0.2182686643282181,
           "SH2D3C;EHD4;UBASH3B;LIPA;IFITM2;AZIN1;BNIP3L;ELOVL5;CEBPD;SCD5;NPC1",
           "GCST90002399",
           "PMID:32888494"
          ],
          [
           19,
           "measurement",
           0.2216192912207304,
           "S1PR1;PNPLA3;LIPE;NR2F6;EGR1;NFE2L2",
           "GCST90012114",
           "PMID:32042192"
          ],
          [
           19,
           "measurement",
           0.2287500538282526,
           "MTHFR",
           "GCST002087",
           "PMID:23824729"
          ],
          [
           19,
           "measurement",
           0.2289265977227501,
           "SH2D3C;RAB2A;ABCC1;ZYX;CEBPD",
           "GCST90002380",
           "PMID:32888494"
          ],
          [
           19,
           "measurement",
           0.2459393785478721,
           "EHD4;SOBP;IRF2BP2;MSMO1;MARCKS;THSD4;UBASH3B;GPCPD1;TANC1;MAP1B;TGFBR2;CLIC4;NAV3;NFIB;BTG1;PRXL2A;NFIC;VEGFA",
           "GCST007066",
           "PMID:30595370"
          ],
          [
           19,
           "measurement",
           0.2507048273189083,
           "ABCC1",
           "GCST90019386",
           "PMID:33328453"
          ],
          [
           19,
           "measurement",
           0.2507048273189083,
           "ABCC1",
           "GCST90019430",
           "PMID:33328453"
          ],
          [
           19,
           "measurement",
           0.2507048273189083,
           "SMURF2",
           "GCST003998",
           "PMID:27182965"
          ],
          [
           19,
           "measurement",
           0.2533202811313329,
           "YWHAZ;UBASH3B;MMAB;GNAQ;ZRANB1;DUSP6;NFIB;CPNE3;UBXN7;CSNK1G2;NPC1;RTN4;HSD17B12;VEGFA",
           "GCST009004",
           "PMID:30239722"
          ],
          [
           19,
           "measurement",
           0.2668816838535806,
           "SH2D3C;SLC7A11;PTPN1;IFITM2;S1PR1;DUSP6;ENSA;TOX2;BTG1;CEBPD;NFIC;SCD5",
           "GCST90002382",
           "PMID:32888494"
          ],
          [
           19,
           "measurement",
           0.2720374240745888,
           "ID3",
           "GCST012006",
           "PMID:34006833"
          ],
          [
           19,
           "measurement",
           0.2720374240745888,
           "ID3",
           "GCST012008",
           "PMID:34006833"
          ],
          [
           19,
           "measurement",
           0.2720374240745888,
           "MARCKS",
           "GCST006097",
           "PMID:29899525"
          ],
          [
           19,
           "measurement",
           0.2720374240745888,
           "DTD1",
           "GCST006952",
           "PMID:29500382"
          ],
          [
           19,
           "measurement",
           0.2775692896514996,
           "IER2;UBASH3B;INO80C;LETM2;ODF2L;DIPK1B;ZRANB1;MNT;GLI2;GNAS;LTBP2;CCBE1;SOCS2;NFIB;VAMP5;DDR2;SMURF2;NUCKS1;FLNB;PTPN1;CPNE3;CCN1;NFE2L2",
           "GCST90000025",
           "PMID:33097823"
          ],
          [
           19,
           "measurement",
           0.2787192591076367,
           "ACTB;GLI2;NPC1;PLK2;APOC1;VEGFA",
           "GCST90018975",
           "PMID:34594039"
          ],
          [
           19,
           "measurement",
           0.2808694557435136,
           "EHD4;SLC9A3R1;UBASH3B;PTPN1;LIPA;IFITM2;AZIN1;S1PR1;BNIP3L;ELOVL5;CEBPD",
           "GCST90002389",
           "PMID:32888494"
          ],
          [
           19,
           "measurement",
           0.2927653966471928,
           "FLNB",
           "GCST009404",
           "PMID:31798171"
          ],
          [
           19,
           "measurement",
           0.2927653966471928,
           "LRP8",
           "NEALE2_1950",
           null
          ],
          [
           19,
           "measurement",
           0.2968678906533512,
           "TMEM60;FRY;EPAS1;GGT7;RAI14;GLI2;KRT18;GNAS;VEGFA",
           "GCST90018979",
           "PMID:34594039"
          ],
          [
           19,
           "measurement",
           0.3051467678839975,
           "MLXIP;GPCPD1;GLI2;SCARB1;RRAS2;APOC1;VEGFA",
           "GCST90020027",
           "PMID:34021172"
          ],
          [
           19,
           "measurement",
           0.3129058046429355,
           "PLXNA2",
           "GCST90026029",
           "PMID:33437055"
          ],
          [
           19,
           "measurement",
           0.3129058046429355,
           "PTPN1",
           "GCST009697",
           "PMID:31636452"
          ],
          [
           19,
           "measurement",
           0.3167002851483499,
           "CDKN1A;XPC;IRF2BP2;S1PR1;SOCS2;CLCN6;PNPLA3;PLXNA2;NR2F6;GLI2;CD46;HSD17B12;UBAP2;VEGFA",
           "GCST90025989",
           "PMID:34226706"
          ],
          [
           19,
           "measurement",
           0.3194091756726575,
           "MLXIP;ADIPOR2;ACSS2;EGFL7;MTHFR;IER5L;FDFT1;ELOVL5;ABCC1;SNCA;TOX2",
           "GCST90025975",
           "PMID:34226706"
          ],
          [
           19,
           "measurement",
           0.3199270355016073,
           "NUCKS1;TUBA1A;NR2F1;THSD4;ME1;LRP8;KLHL24;PLXNA2;NAV3;NFIB;DPYSL2;VEGFA",
           "GCST90091061",
           "PMID:34560273"
          ],
          [
           19,
           "measurement",
           0.3259486585004312,
           "FLNB;THSD4",
           "GCST90093370",
           "PMID:34968759"
          ],
          [
           19,
           "measurement",
           0.332475228503348,
           "CFAP54",
           "GCST001414",
           "PMID:22359512"
          ],
          [
           19,
           "measurement",
           0.332475228503348,
           "CFAP54",
           "GCST001414_2",
           "PMID:22359512"
          ],
          [
           19,
           "measurement",
           0.3438141145772319,
           "NUCKS1;IRF2BP2;PTPN1;FNDC3A;PLXNA2;GLI2;CD46;VEGFA",
           "GCST011520",
           "PMID:33587031"
          ],
          [
           19,
           "measurement",
           0.3466655775414268,
           "PCYOX1;IRF2BP2;UBASH3B;S1PR1;AZIN1;GLI2;ELOVL6",
           "GCST90018942",
           "PMID:34594039"
          ],
          [
           19,
           "measurement",
           0.3514897829027668,
           "VEGFA",
           "GCST001856_7",
           "PMID:23408906"
          ],
          [
           19,
           "measurement",
           0.3514897829027668,
           "KLHL24",
           "GCST011946",
           "PMID:33293549"
          ],
          [
           19,
           "measurement",
           0.3514897829027668,
           "THSD4",
           "GCST90007181",
           "PMID:33288918"
          ],
          [
           19,
           "measurement",
           0.3514897829027668,
           "THSD4",
           "GCST90007182",
           "PMID:33288918"
          ],
          [
           19,
           "measurement",
           0.3558828338950904,
           "BNIP3L;HSPA8;ABCC1;ITSN1",
           "GCST90002332",
           "PMID:32888493"
          ],
          [
           19,
           "measurement",
           0.3642468213732557,
           "TMEM60;RAI14;ZRANB1;GLI2;PRSS23;GNAS",
           "GCST90025991",
           "PMID:34226706"
          ],
          [
           19,
           "measurement",
           0.3672124119043087,
           "SH2D3C;IRF2BP2;UBASH3B;IFITM2;CEBPD",
           "GCST004608",
           "PMID:27863252"
          ],
          [
           19,
           "measurement",
           0.3699651297729389,
           "S1PR1",
           "GCST90085817",
           "PMID:34469753"
          ],
          [
           19,
           "measurement",
           0.3699651297729389,
           "LRP8",
           "GCST006951",
           "PMID:29500382"
          ],
          [
           19,
           "measurement",
           0.3778430112831962,
           "AKAP12;NFIC",
           "GCST011011",
           "PMID:32339537"
          ],
          [
           19,
           "measurement",
           0.3785881529517301,
           "MLXIP;GPCPD1;NFE2L2;SMIM29;VEGFA",
           "GCST90020024",
           "PMID:34021172"
          ],
          [
           19,
           "measurement",
           0.3879164909650702,
           "CD46",
           "GCST001969",
           "PMID:23583979"
          ],
          [
           19,
           "measurement",
           0.3879164909650702,
           "SNCA",
           "GCST006948",
           "PMID:29500382"
          ],
          [
           19,
           "measurement",
           0.3879164909650702,
           "GCSH",
           "GCST007638",
           "PMID:30837465"
          ],
          [
           19,
           "measurement",
           0.4013208522587543,
           "CDKN1A;SUB1;CCBE1;SQLE;EPAS1",
           "GCST010321",
           "PMID:32439900"
          ],
          [
           19,
           "measurement",
           0.4053586605593682,
           "EPAS1",
           "GCST009499",
           "PMID:31681408"
          ],
          [
           19,
           "measurement",
           0.418148725216143,
           "PTPRN2;SYT1",
           "GCST90011298",
           "PMID:32895543"
          ],
          [
           19,
           "measurement",
           0.4223060168318421,
           "AZIN1",
           "GCST010346",
           "PMID:32386560"
          ],
          [
           19,
           "measurement",
           0.4223060168318421,
           "AZIN1",
           "GCST010346_2",
           "PMID:32386560"
          ],
          [
           19,
           "measurement",
           0.4223060168318421,
           "AZIN1",
           "GCST010346_3",
           "PMID:32386560"
          ],
          [
           19,
           "measurement",
           0.4223060168318421,
           "PIK3C2A",
           "GCST90014267",
           "PMID:33979322"
          ],
          [
           19,
           "measurement",
           0.4280219422040659,
           "ZYX;ABCC1",
           "GCST004634",
           "PMID:27863252"
          ],
          [
           19,
           "measurement",
           0.4296079375240765,
           "SOCS2;NAV3;PNMA2;DPYSL2;CD46",
           "GCST010698",
           "PMID:32665545"
          ],
          [
           19,
           "measurement",
           0.4296079375240765,
           "SOCS2;NAV3;PNMA2;DPYSL2;CD46",
           "GCST010702",
           "PMID:32665545"
          ],
          [
           19,
           "measurement",
           0.4334836353565367,
           "BTG1;CEBPD;S1PR1;SCD5",
           "GCST004617",
           "PMID:27863252"
          ],
          [
           19,
           "measurement",
           0.4368096686319351,
           "BHLHE40;RAB2A;RNASET2",
           "GCST90018990",
           "PMID:34594039"
          ],
          [
           19,
           "measurement",
           0.4387725338878636,
           "SMIM29",
           "GCST007490",
           "PMID:30166351"
          ],
          [
           19,
           "measurement",
           0.4439816527134052,
           "PTPN1;PNPLA3;SQLE;CLIC4;CYP51A1;NFIB;RAI14;ACACA",
           "GCST90002308",
           "PMID:32888493"
          ],
          [
           19,
           "measurement",
           0.4459625274121073,
           "ARHGAP29;LRRC8B;CCBE1;UBASH3B;IFITM2;DUSP6",
           "GCST90018976",
           "PMID:34594039"
          ],
          [
           19,
           "measurement",
           0.447500965440971,
           "NR2F1;VEGFA",
           "GCST010696",
           "PMID:32665545"
          ],
          [
           19,
           "measurement",
           0.447500965440971,
           "NR2F1;VEGFA",
           "GCST010700",
           "PMID:32665545"
          ],
          [
           19,
           "measurement",
           0.4636903021542604,
           "LIPA;NFE2L2;LIPG;FDFT1;TM4SF19;GLI2;SCARB1",
           "GCST90025959",
           "PMID:34226706"
          ],
          [
           19,
           "measurement",
           0.465152707449157,
           "BTG1;CEBPD;S1PR1;SCD5",
           "GCST004623",
           "PMID:27863252"
          ],
          [
           19,
           "measurement",
           0.4699827852886225,
           "MLXIP;IRF2BP2;ITSN1;PTPN1;BNIP3L;CLIC4;NFIB;RAI14",
           "GCST90018971",
           "PMID:34594039"
          ],
          [
           19,
           "measurement",
           0.4760098066584078,
           "LRP8;PTPRN2",
           "GCST007326",
           "PMID:30643258"
          ],
          [
           19,
           "measurement",
           0.4805511540600514,
           "BAZ2A;RNF145;PTPN1;CLIC4;NRDC;PDIA5;CD9;GJC1;HABP4;CLTC;APOC1",
           "GCST90002401",
           "PMID:32888494"
          ],
          [
           19,
           "measurement",
           0.4854209635556349,
           "NPC1",
           "GCST008522",
           "PMID:31046077"
          ],
          [
           19,
           "measurement",
           0.488662354006874,
           "SRBD1;RAB32;NR2F1",
           "GCST90026052",
           "PMID:33437055"
          ],
          [
           19,
           "measurement",
           0.488662354006874,
           "SRBD1;RAB32;NR2F1",
           "GCST90026060",
           "PMID:33437055"
          ],
          [
           19,
           "measurement",
           0.488662354006874,
           "SRBD1;RAB32;NR2F1",
           "GCST90026062",
           "PMID:33437055"
          ],
          [
           19,
           "measurement",
           0.488662354006874,
           "SRBD1;RAB32;NR2F1",
           "GCST90026067",
           "PMID:33437055"
          ],
          [
           19,
           "measurement",
           0.488662354006874,
           "SRBD1;RAB32;NR2F1",
           "GCST90026126",
           "PMID:33437055"
          ],
          [
           19,
           "measurement",
           0.488662354006874,
           "SRBD1;RAB32;NR2F1",
           "GCST90026140",
           "PMID:33437055"
          ],
          [
           19,
           "measurement",
           0.488662354006874,
           "SRBD1;RAB32;NR2F1",
           "GCST90026156",
           "PMID:33437055"
          ],
          [
           19,
           "measurement",
           0.488662354006874,
           "SRBD1;RAB32;NR2F1",
           "GCST90026185",
           "PMID:33437055"
          ],
          [
           19,
           "measurement",
           0.488662354006874,
           "SRBD1;RAB32;NR2F1",
           "GCST90026200",
           "PMID:33437055"
          ],
          [
           19,
           "measurement",
           0.488662354006874,
           "SRBD1;RAB32;NR2F1",
           "GCST90026203",
           "PMID:33437055"
          ],
          [
           19,
           "measurement",
           0.488662354006874,
           "SRBD1;RAB32;NR2F1",
           "GCST90026212",
           "PMID:33437055"
          ],
          [
           19,
           "measurement",
           0.488662354006874,
           "SRBD1;RAB32;NR2F1",
           "GCST90026216",
           "PMID:33437055"
          ],
          [
           19,
           "measurement",
           0.488662354006874,
           "SRBD1;RAB32;NR2F1",
           "GCST90026243",
           "PMID:33437055"
          ],
          [
           19,
           "measurement",
           0.488662354006874,
           "SRBD1;RAB32;NR2F1",
           "GCST90026306",
           "PMID:33437055"
          ],
          [
           19,
           "measurement",
           0.488662354006874,
           "SRBD1;RAB32;NR2F1",
           "GCST90026310",
           "PMID:33437055"
          ],
          [
           19,
           "measurement",
           0.488662354006874,
           "SRBD1;RAB32;NR2F1",
           "GCST90026314",
           "PMID:33437055"
          ],
          [
           19,
           "measurement",
           0.5000961706667439,
           "VEGFA",
           "GCST90002238",
           "PMID:34059833"
          ],
          [
           19,
           "measurement",
           0.5022999104645244,
           "DUSP6;NFIB;CBX5;IRF2BP2",
           "GCST90000047",
           "PMID:34211149"
          ],
          [
           19,
           "measurement",
           0.5115295825864637,
           "RAB2A;UBASH3B;PTPN1;HDGFL3;FDFT1;ELOVL5;RTN4;PLK2;ACACA",
           "GCST90002320",
           "PMID:32888493"
          ],
          [
           19,
           "measurement",
           0.5143547315191779,
           "HSD17B12",
           "GCST007561",
           "PMID:30846698"
          ],
          [
           19,
           "measurement",
           0.5143547315191779,
           "SMIM29",
           "GCST90016667",
           "PMID:34128465"
          ],
          [
           19,
           "measurement",
           0.5204538292975093,
           "RNF145;PRSS23;GNAS;RAI14",
           "GCST90018948",
           "PMID:34594039"
          ],
          [
           19,
           "measurement",
           0.5233338457846393,
           "B4GALT5;VCL;TUBA1A;NR2F1;IRF2BP2;PCSK5;THSD4;ME1;LRP8;S1PR1;PLXNA2;AKAP12;NAV3;NFIB;CDC42BPA;DPYSL2;RRAS2",
           "GCST90095129",
           "PMID:34910505"
          ],
          [
           19,
           "measurement",
           0.530264315956697,
           "SOCS2;PCSK5",
           "GCST001956",
           "PMID:23563607"
          ],
          [
           19,
           "measurement",
           0.5382935818303047,
           "MNT;PIK3C2A;SNCA;NFIB",
           "GCST007988",
           "PMID:30804565"
          ],
          [
           19,
           "measurement",
           0.5382935818303047,
           "MNT;PIK3C2A;SNCA;NFIB",
           "GCST007988_2",
           "PMID:30804565"
          ],
          [
           19,
           "measurement",
           0.5382935818303047,
           "MNT;PIK3C2A;SNCA;NFIB",
           "GCST007988_3",
           "PMID:30804565"
          ],
          [
           19,
           "measurement",
           0.5469364599426958,
           "IRF2BP2;ITSN1;PTPN1;BNIP3L;ZRANB1;CLIC4;NFIB;RAI14;PTTG1IP",
           "GCST90002367",
           "PMID:32888493"
          ],
          [
           19,
           "measurement",
           0.5547466477670275,
           "ZRANB1",
           "GCST006014",
           "PMID:29403010"
          ],
          [
           19,
           "measurement",
           0.5627008272548027,
           "INSIG1;PDGFB;AKAP12;DUSP6;CDC42BPA;SCARB1;RAI14",
           "GCST007082",
           "PMID:30595370"
          ],
          [
           19,
           "measurement",
           0.564264367018959,
           "FLNB;THSD4",
           "GCST009724",
           "PMID:31959993"
          ],
          [
           19,
           "measurement",
           0.584737603881208,
           "INSIG1;UBC;ETNK1",
           "GCST011567",
           "PMID:32939015"
          ],
          [
           19,
           "measurement",
           0.584737603881208,
           "INSIG1;UBC;ETNK1",
           "GCST011568",
           "PMID:32939015"
          ],
          [
           19,
           "measurement",
           0.5897176239190327,
           "THSD4;PRSS23;DYSF;FRY",
           "GCST007430",
           "PMID:30804560"
          ],
          [
           19,
           "measurement",
           0.5911514694477766,
           "TCF20;PTPRN2;SYT1",
           "GCST90011875",
           "PMID:33414549"
          ],
          [
           19,
           "measurement",
           0.6034471354601211,
           "VEGFA",
           "GCST008790",
           "PMID:31511532"
          ],
          [
           19,
           "measurement",
           0.6037875810677646,
           "IL21R;ARHGAP29;RAB2A",
           "GCST90019515",
           "PMID:33462484"
          ],
          [
           19,
           "measurement",
           0.6090754937100225,
           "THSD4;LRP8;NAV3;PNMA2;DPYSL2;RRAS2;VEGFA",
           "GCST010699",
           "PMID:32665545"
          ],
          [
           19,
           "measurement",
           0.6090754937100225,
           "THSD4;LRP8;NAV3;PNMA2;DPYSL2;RRAS2;VEGFA",
           "GCST010703",
           "PMID:32665545"
          ],
          [
           19,
           "measurement",
           0.6145413567682156,
           "RRAS2;NUCKS1;ODF2L;PCSK5;SOCS2;ZRANB1;HSD17B12;NFIC;NPC1",
           "GCST90018949",
           "PMID:34594039"
          ],
          [
           19,
           "measurement",
           0.6172279538131711,
           "PTPN1;PNPLA3;CLIC4;NFIB;SMIM29;RAI14;SMAD1",
           "GCST90002314",
           "PMID:32888493"
          ],
          [
           19,
           "measurement",
           0.6257705477960311,
           "S1PR1",
           "GCST90085818",
           "PMID:34469753"
          ],
          [
           19,
           "measurement",
           0.6393856261257229,
           "PDGFB;PCSK5;CCSER2;THSD4;UBASH3B;IFITM2;SMURF2;PRSS23;RAI14;LTBP2",
           "GCST90025978",
           "PMID:34226706"
          ],
          [
           19,
           "measurement",
           0.6474407271065719,
           "YWHAZ;PCYOX1;TCF20;NAV3;ETNK1;NPC1",
           "GCST007576",
           "PMID:30696823"
          ],
          [
           19,
           "measurement",
           0.6528184545178594,
           "DUSP6;HSD17B12;NFIB;VEGFA",
           "GCST90020232",
           "PMID:33980691"
          ],
          [
           19,
           "measurement",
           0.6630384517720197,
           "DUSP6;HSD17B12;NPC1",
           "GCST008744",
           "PMID:31501611"
          ],
          [
           19,
           "measurement",
           0.6686762343132817,
           "MLXIP;LPIN1;UBASH3B;KLHL24;NFIB;PDLIM1;GLI2;KRT18;RAI14;VEGFA",
           "GCST90025945",
           "PMID:34226706"
          ],
          [
           19,
           "measurement",
           0.6757571864974095,
           "NUCKS1;NFE2L2",
           "GCST007472",
           "PMID:30643251"
          ],
          [
           19,
           "measurement",
           0.6776972076939256,
           "RAI14;ABCC1;NFIC;SCD5;VEGFA",
           "GCST90018958",
           "PMID:34594039"
          ],
          [
           19,
           "measurement",
           0.6855089857015289,
           "HSD17B12",
           "GCST007463",
           "PMID:30643251"
          ],
          [
           19,
           "measurement",
           0.6944979938815563,
           "HABP4",
           "GCST005141",
           "PMID:29186694"
          ],
          [
           19,
           "measurement",
           0.6950669659408967,
           "AACS;VEGFA",
           "GCST90018955",
           "PMID:34594039"
          ],
          [
           19,
           "measurement",
           0.7032312220896585,
           "DTD1",
           "GCST010544",
           "PMID:32451486"
          ],
          [
           19,
           "measurement",
           0.7117159157400594,
           "CDKN1A",
           "GCST011010",
           "PMID:32602732"
          ],
          [
           19,
           "measurement",
           0.7199591159356593,
           "NPC1",
           "GCST011122",
           "PMID:33128006"
          ],
          [
           19,
           "measurement",
           0.7251386263547017,
           "PTPN1;PCSK5",
           "GCST006412",
           "PMID:29785010"
          ],
          [
           19,
           "measurement",
           0.7301261421239565,
           "EPAS1;KLHL24;GLI2",
           "GCST008362",
           "PMID:31043758"
          ],
          [
           19,
           "measurement",
           0.7394627796843924,
           "UBASH3B;APOC1;CCBE1",
           "GCST90018945",
           "PMID:34594039"
          ],
          [
           19,
           "measurement",
           0.7577855612271639,
           "CD9",
           "GCST90026371",
           "PMID:35023831"
          ],
          [
           19,
           "measurement",
           0.7647169252273888,
           "CLCN6",
           "GCST90018986",
           "PMID:34594039"
          ],
          [
           19,
           "measurement",
           0.777992860371213,
           "ANXA2",
           "NEALE2_2375",
           null
          ],
          [
           19,
           "measurement",
           0.7926633044456417,
           "NR2F1;THSD4;LRP8;CBX5;S1PR1;PLXNA2;NAV3;NFIB;DPYSL2;RRAS2;VEGFA",
           "GCST90091060",
           "PMID:34560273"
          ],
          [
           19,
           "measurement",
           0.7940481386929774,
           "UBASH3B;PLK2;CLCN6",
           "GCST90018963",
           "PMID:34594039"
          ],
          [
           19,
           "measurement",
           0.7949052254592006,
           "NUCKS1;SOBP;IER2;PCSK5;NMT2;SOCS2;NFIB;VAMP5;GLI2;GNAS;DDR2",
           "GCST90018959",
           "PMID:34594039"
          ],
          [
           19,
           "measurement",
           0.7962940411489594,
           "SLC7A11;ETNK1",
           "GCST007340",
           "PMID:30643256"
          ],
          [
           19,
           "measurement",
           0.7979773239117613,
           "THSD4;HSD17B12;IER5L;PRSS23",
           "GCST007432",
           "PMID:30804560"
          ],
          [
           19,
           "measurement",
           0.8171997503379301,
           "UBASH3B;GPCPD1;GNAQ;CCBE1",
           "GCST90025990",
           "PMID:34226706"
          ],
          [
           19,
           "measurement",
           0.8292300388307603,
           "THSD4;NAV3",
           "GCST010697",
           "PMID:32665545"
          ],
          [
           19,
           "measurement",
           0.8292300388307603,
           "THSD4;NAV3",
           "GCST010701",
           "PMID:32665545"
          ],
          [
           19,
           "measurement",
           0.8329932047685966,
           "SLC7A11;ETNK1",
           "GCST007339",
           "PMID:30643256"
          ],
          [
           19,
           "measurement",
           0.8339851874060723,
           "IER5L",
           "GCST011494",
           "PMID:33568662"
          ],
          [
           19,
           "measurement",
           0.8478584563137905,
           "EPAS1",
           "GCST008363",
           "PMID:31043758"
          ],
          [
           19,
           "measurement",
           0.8522214423029417,
           "PCSK5",
           "GCST007293",
           "PMID:30664634"
          ],
          [
           19,
           "measurement",
           0.8522214423029417,
           "PCSK5",
           "GCST007293_2",
           "PMID:30664634"
          ],
          [
           19,
           "measurement",
           0.8522214423029417,
           "PCSK5",
           "GCST007293_3",
           "PMID:30664634"
          ],
          [
           19,
           "measurement",
           0.8522214423029417,
           "PCSK5",
           "GCST007294",
           "PMID:30664634"
          ],
          [
           19,
           "measurement",
           0.8522214423029417,
           "PCSK5",
           "GCST007294_2",
           "PMID:30664634"
          ],
          [
           19,
           "measurement",
           0.8522214423029417,
           "PCSK5",
           "GCST007295",
           "PMID:30664634"
          ],
          [
           19,
           "measurement",
           0.8522214423029417,
           "PCSK5",
           "GCST007295_2",
           "PMID:30664634"
          ],
          [
           19,
           "measurement",
           0.8522214423029417,
           "PCSK5",
           "GCST007295_3",
           "PMID:30664634"
          ],
          [
           19,
           "measurement",
           0.8540454176049468,
           "AZIN1;CLCN6",
           "GCST90018988",
           "PMID:34594039"
          ],
          [
           19,
           "measurement",
           0.8605090116855827,
           "SLC7A11;ETNK1",
           "GCST007341",
           "PMID:30643256"
          ],
          [
           19,
           "measurement",
           0.8636620780943707,
           "DUSP6;HSD17B12;GPCPD1;VEGFA",
           "GCST008996",
           "PMID:30239722"
          ],
          [
           19,
           "measurement",
           0.8764515925576719,
           "SHISA4;CLIC4;RRAS;B4GALT5;VEGFA",
           "GCST90000059",
           "PMID:33230300"
          ],
          [
           19,
           "measurement",
           0.8862876712140708,
           "NAV3",
           "GCST009462",
           "PMID:31809533"
          ],
          [
           19,
           "measurement",
           0.8927248501253555,
           "LRRC8B",
           "GCST90019522",
           "PMID:33462484"
          ],
          [
           19,
           "measurement",
           0.8940028498351168,
           "ACLY;CDKN1A;RRAS;IRF2BP2",
           "GCST90000061",
           "PMID:33230300"
          ],
          [
           19,
           "measurement",
           0.9037535683585566,
           "NR2F1;LPIN1;GLI2",
           "GCST007038",
           "PMID:30595370"
          ],
          [
           19,
           "measurement",
           0.9099397701834048,
           "SCD",
           "GCST006976",
           "PMID:30535121"
          ],
          [
           19,
           "measurement",
           0.9291751884201368,
           "NUCKS1;TCF20;UBXN7;SMURF2;HSD17B12;LTBP2",
           "GCST007081",
           "PMID:30595370"
          ],
          [
           19,
           "measurement",
           0.9337786486141324,
           "NUCKS1;TCF20;LONRF1;HSD17B12;MTFR1;PTPRN2",
           "GCST007468",
           "PMID:30643251"
          ],
          [
           19,
           "measurement",
           0.9383788931301958,
           "NPC1",
           "GCST010084",
           "PMID:32317632"
          ],
          [
           19,
           "measurement",
           0.9383788931301958,
           "NPC1",
           "GCST010085",
           "PMID:32317632"
          ],
          [
           19,
           "measurement",
           0.9614079463309868,
           "SOCS2",
           "GCST007063",
           "PMID:30593698"
          ],
          [
           19,
           "measurement",
           0.9614079463309868,
           "SOCS2",
           "GCST007063_2",
           "PMID:30593698"
          ],
          [
           19,
           "measurement",
           0.9614079463309868,
           "SOCS2",
           "GCST007063_3",
           "PMID:30593698"
          ],
          [
           19,
           "measurement",
           0.9743958724442392,
           "GLI2",
           "NEALE2_2395_1",
           null
          ]
         ],
         "hovertemplate": "trait_category=%{customdata[1]}<br>trait_reported=%{x}<br>-log10(p-value)=%{y}<br>program_name=%{customdata[0]}<br>P-value=%{customdata[2]}<br>Genes=%{customdata[3]}<br>study_id=%{customdata[4]}<br>pmid=%{customdata[5]}<extra></extra>",
         "legendgroup": "measurement",
         "marker": {
          "color": "#636efa",
          "symbol": "circle"
         },
         "mode": "markers",
         "name": "measurement",
         "orientation": "v",
         "showlegend": true,
         "type": "scatter",
         "x": [
          "HDL cholesterol levels",
          "Neutrophil count",
          "LDL cholesterol levels",
          "Mean platelet volume",
          "Diacylglycerol_38:5_[M+H-H2O]1+ levels",
          "Sex hormone-binding globulin levels",
          "Serum uric acid levels",
          "Apolipoprotein A1 levels",
          "Total cholesterol levels",
          "Monocyte percentage of white cells",
          "Sum neutrophil eosinophil counts",
          "Medication use (HMG CoA reductase inhibitors)",
          "High light scatter reticulocyte count",
          "Hip index",
          "Estimated glomerular filtration rate",
          "Apolipoprotein B levels",
          "Eosinophil counts",
          "White blood cell count",
          "White blood cell count",
          "Alanine aminotransferase levels",
          "Platelet count",
          "Lymphocyte-to-monocyte ratio",
          "Urate levels",
          "Urate levels [AA]",
          "Urate levels [East Asian]",
          "Total bilirubin levels",
          "Serum 25-Hydroxyvitamin D levels",
          "Hemoglobin A1c levels",
          "C-X-C motif chemokine 16 levels",
          "Immature fraction of reticulocytes",
          "Sum basophil neutrophil counts",
          "Cognitive performance (MTAG) [MTAG]",
          "High light scatter reticulocyte percentage of red cells",
          "Immature fraction of reticulocytes",
          "Reticulocyte fraction of red cells",
          "Basophil count",
          "Granulocyte count",
          "QRS duration",
          "Menarche (age at onset)",
          "Educational attainment (years of education)",
          "Red cell distribution width",
          "Monocyte count",
          "Aspartate aminotransferase to alanine aminotransferase ratio",
          "Mean corpuscular hemoglobin",
          "Plateletcrit",
          "Fibrinogen levels",
          "Infant head circumference (MTAG)",
          "Elusimicrobiota abundance in stool",
          "Treponema D abundance in stool",
          "Treponemataceae abundance in stool",
          "Retinal vascular fractal density",
          "Aspartate aminotransferase levels",
          "Hand grip strength",
          "Resting heart rate",
          "Sum eosinophil basophil counts",
          "Factor VIII levels",
          "Renal function-related traits (BUN)",
          "Parental lifespan",
          "Stem cell factor levels",
          "Receptor for advanced glycosylation end products levels",
          "Percent liver fat",
          "Pre-treatment viral load in HIV-1 infection",
          "Mean corpuscular volume",
          "Gamma glutamyl transpeptidase",
          "Serum phosphate levels",
          "Neutrophil percentage of white cells",
          "Total testosterone levels",
          "Homocysteine levels",
          "Basophil percentage of white cells",
          "Heel bone mineral density",
          "Coagulation Factor VIII measurement",
          "Coagulation factor Xa measurement",
          "Joint mobility (Beighton score)",
          "Body mass index",
          "Eosinophil percentage of white cells",
          "Intralaminar thalamic nuclei volume",
          "Lateral thalamic nuclei volume",
          "Moderate to vigorous physical activity levels",
          "Feeling tense",
          "Appendicular lean mass",
          "Triglycerides",
          "Lymphocyte percentage of white cells",
          "Optic cup area",
          "Sensitivity / hurt feelings",
          "Serum creatinine levels",
          "Waist-hip index",
          "Glucuronate levels",
          "Brainstem volume",
          "Insulin-like growth factor 1 levels",
          "Mean reticulocyte volume",
          "Cortical thickness",
          "Ascending aorta minimum area",
          "Phospholipid levels (plasma) [levels]",
          "Phospholipid levels (plasma) [proportions]",
          "Insulin-like growth factor 1 levels",
          "Serum alkaline phosphatase levels",
          "Thyroid hormone levels [TSH]",
          "White matter hyperintensity volume",
          "Facial morphology (segment 1)",
          "Facial morphology (segment 2)",
          "Mean corpuscular hemoglobin concentration",
          "Serum urea levels",
          "Granulocyte percentage of myeloid white cells",
          "Neutrophil-to-lymphocyte ratio",
          "Feeling hurt",
          "Youthful appearance (self-reported)",
          "A body shape index",
          "Heart rate",
          "Feeling nervous",
          "Glycine levels",
          "PR interval",
          "Birth length (MTAG)",
          "Verbal-numerical reasoning",
          "TPE interval (resting)",
          "TPE interval (resting) [men]",
          "TPE interval (resting) [women]",
          "Ganglion cell inner plexiform layer (GCIPL) thickness",
          "Basophil percentage of granulocytes",
          "Subcortical volume (min-P)",
          "Subcortical volume (MOSTest)",
          "Eosinophil percentage of granulocytes",
          "Medication use (thyroid preparations)",
          "Anthropometric traits (multi-trait analysis)",
          "Hematocrit",
          "Serum total protein level",
          "Cortical thickness (min-P)",
          "Cortical thickness (MOSTest)",
          "C-reactive protein levels",
          "Neutrophil percentage of granulocytes",
          "Red blood cell count",
          "Number of sexual partners",
          "Platelet distribution width",
          "Bitter alcoholic beverage consumption",
          "1-palmitoyl-2-arachidonoyl-gpc (16:0/20:4n6) levels",
          "1-stearoyl-2-arachidonoyl-gpc (18:0/20:4) levels",
          "1-stearoyl-2-linoleoyl-gpc (18:0/18:2) levels",
          "2,3-dihydroxy-2-methylbutyrate levels",
          "Ascorbate (vitamin c) levels",
          "Citramalate levels",
          "Erythritol levels",
          "Hydroxyasparagine levels",
          "Methylmalonate (mma) levels",
          "Myo-inositol levels",
          "N-acetylglucosamine/n-acetylgalactosamine levels",
          "N-acetylhistidine levels",
          "Oxalate (ethanedioate) levels",
          "N,n,n-trimethyl-alanylproline betaine (tmap) levels",
          "Butyrate (4:0) levels",
          "4-chlorobenzoic acid levels",
          "Fasting insulin",
          "Age at first sexual intercourse",
          "Lymphocyte counts",
          "Sleep duration",
          "Spleen volume",
          "Blood urea nitrogen levels",
          "Vertex-wise sulcal depth",
          "Height",
          "Insomnia",
          "Insomnia [Female]",
          "Insomnia [Male]",
          "Red blood cell count",
          "Creatine kinase levels",
          "Hair color",
          "Vertical cup-disc ratio (multi-trait analysis)",
          "Ebbinghaus illusion (underestimation)",
          "Ebbinghaus illusion (overestimation)",
          "Peak expiratory flow",
          "Cognitive aspects of educational attainment",
          "Urinary albumin-to-creatinine ratio",
          "Non-albumin protein levels",
          "Brain morphology (min-P)",
          "Brain morphology (MOSTest)",
          "Weight",
          "Hemoglobin concentration",
          "Platelet-to-lymphocyte ratio",
          "Lung function (FEV1/FVC)",
          "Chronotype",
          "Body fat percentage",
          "Predicted visceral adipose tissue",
          "Cystatin C levels",
          "Alcohol consumption (drinks per week) (MTAG)",
          "Hemoglobin A1c levels",
          "Cigarettes smoked per day (MTAG)",
          "Cognitive ability (MTAG)",
          "Glucose levels",
          "Problematic alcohol use (MTAG)",
          "Electrocardiographic traits (multivariate)",
          "Walking pace",
          "Intraocular pressure",
          "Birth weight",
          "Serum albumin levels",
          "Mitochondrial DNA copy number",
          "Medication use (beta blocking agents)",
          "Relative age of first facial hair",
          "Cortical surface area",
          "Mean arterial pressure",
          "Height",
          "Depressive symptoms",
          "FEV1",
          "Calcium levels",
          "Cortical surface area (min-P)",
          "Cortical surface area (MOSTest)",
          "Neuroticism",
          "Daytime nap",
          "Offspring birth weight",
          "Body fat distribution (arm fat ratio)",
          "Body fat distribution (arm fat ratio) [females]",
          "Body fat distribution (arm fat ratio) [males]",
          "Body fat distribution (trunk fat ratio)",
          "Body fat distribution (trunk fat ratio) [females]",
          "Body fat distribution (leg fat ratio)",
          "Body fat distribution (leg fat ratio) [females]",
          "Body fat distribution (leg fat ratio) [males]",
          "Medication use (agents acting on the renin-angiotensin system)",
          "Well-being spectrum (multivariate analysis)",
          "Waist-hip ratio",
          "Diastolic blood pressure",
          "Optic disc size",
          "Serum total protein level",
          "Pulse pressure",
          "Balding type 1",
          "Macular thickness",
          "Lung function (FVC)",
          "Smoking initiation (ever regular vs never regular) (MTAG)",
          "Leisure sedentary behaviour (television watching)",
          "Leisure sedentary behaviour (computer use)",
          "Fat-free mass",
          "Fat-free mass [female]",
          "Fat-free mass [male]",
          "Pattern 1 | hair/balding pattern"
         ],
         "xaxis": "x",
         "y": [
          3.7217267604218467,
          2.2085146890677216,
          2.041405643510129,
          1.9579074698952725,
          1.951044374896618,
          1.8241882621345995,
          1.770631114879941,
          1.7411687362188664,
          1.7396407250478436,
          1.690812274047095,
          1.4704408243467335,
          1.4080856632715508,
          1.3781939711216924,
          1.362419332776284,
          1.3544566479011757,
          1.293950511686175,
          1.2676997014487477,
          1.2465806849674252,
          1.235289025140926,
          1.2228005175729528,
          1.2190206992990031,
          1.1788678313002405,
          1.1715759157952723,
          1.1715759157952723,
          1.1715759157952723,
          1.0960185792798,
          1.0960185792798,
          1.089932436670235,
          1.081408859356079,
          1.0763721590611,
          1.0614065901361642,
          1.0603927068899206,
          1.0543677520671646,
          1.0543677520671646,
          1.0543677520671646,
          1.0466582514376923,
          1.0466582514376923,
          1.039055667545529,
          0.9948769861297059,
          0.9368956174689225,
          0.8957149324974121,
          0.8637679846524777,
          0.8452664993267902,
          0.8366442946177243,
          0.8354417249747166,
          0.830057667146352,
          0.7986863209335994,
          0.7986863209335994,
          0.7986863209335994,
          0.7986863209335994,
          0.7986863209335994,
          0.7778381118657756,
          0.7700892471688905,
          0.7538587782959907,
          0.7009324651239999,
          0.6858060349882722,
          0.6858060349882722,
          0.6858060349882722,
          0.6858060349882722,
          0.6858060349882722,
          0.6858060349882722,
          0.6722965519392787,
          0.6689813283020113,
          0.6638953266418268,
          0.6619668214461817,
          0.6610086091656856,
          0.654392438410845,
          0.640638795065622,
          0.6403037461058949,
          0.6091719286958492,
          0.600837303625428,
          0.600837303625428,
          0.600837303625428,
          0.5963300386704616,
          0.5736812309119169,
          0.5653713461456946,
          0.5653713461456946,
          0.5653713461456946,
          0.5653713461456946,
          0.5566285860294564,
          0.5548330211137795,
          0.5514954872964928,
          0.5334802559376316,
          0.5334802559376316,
          0.5274367733240749,
          0.515491225732224,
          0.5045863802829738,
          0.5045863802829738,
          0.49935154560093575,
          0.4956526120335892,
          0.49494905821834334,
          0.4868508020361554,
          0.47824070682724795,
          0.47824070682724795,
          0.4636762982214514,
          0.4600892798492229,
          0.4540872945230746,
          0.4540872945230746,
          0.4540872945230746,
          0.4540872945230746,
          0.4486929598029413,
          0.43860422944425476,
          0.43508264792163637,
          0.43183920744882176,
          0.43183920744882176,
          0.4226886062349129,
          0.42183298040970696,
          0.4112617574381072,
          0.4112617574381072,
          0.4112617574381072,
          0.3965082741419726,
          0.39216054376928067,
          0.37866922288358823,
          0.3743727308927516,
          0.3743727308927516,
          0.3743727308927516,
          0.3743727308927516,
          0.36853396665532223,
          0.36692770312074385,
          0.36692770312074385,
          0.3630272931324168,
          0.3597077572377868,
          0.3577605660432619,
          0.3526349764843956,
          0.350701631919816,
          0.3492060233978256,
          0.3492060233978256,
          0.3337719870563926,
          0.3324044468626262,
          0.32791804927934365,
          0.3223840999396732,
          0.3182603754386476,
          0.313881472009155,
          0.31099111723709444,
          0.31099111723709444,
          0.31099111723709444,
          0.31099111723709444,
          0.31099111723709444,
          0.31099111723709444,
          0.31099111723709444,
          0.31099111723709444,
          0.31099111723709444,
          0.31099111723709444,
          0.31099111723709444,
          0.31099111723709444,
          0.31099111723709444,
          0.31099111723709444,
          0.31099111723709444,
          0.31099111723709444,
          0.30094647091657867,
          0.2990368992538818,
          0.29112924527038014,
          0.28873726076138856,
          0.28873726076138856,
          0.283617791745582,
          0.28122117704673677,
          0.2755075976684138,
          0.2689807983234533,
          0.2689807983234533,
          0.2689807983234533,
          0.2620631246704594,
          0.25590531345049344,
          0.2497224463673653,
          0.24851737431910442,
          0.23303897622774877,
          0.23303897622774877,
          0.2293558929845921,
          0.22830122653499976,
          0.21936076994703263,
          0.21911582395486884,
          0.21532887408356802,
          0.21532887408356802,
          0.21144888509347357,
          0.20955441327659186,
          0.20358488099593702,
          0.19423713122424574,
          0.18879998488197744,
          0.18520757701463067,
          0.17846128470507308,
          0.17478411195789112,
          0.17020932699871788,
          0.16896430377360622,
          0.16398684807357408,
          0.15832900442230294,
          0.15797335147093647,
          0.15290185568138592,
          0.1476933221584665,
          0.1426921649960585,
          0.1395789604554925,
          0.13660210139221657,
          0.13108368101055365,
          0.12045367398727036,
          0.11649929760822468,
          0.10902438850595701,
          0.10091124656962411,
          0.10015316793185175,
          0.0996846480903241,
          0.09892653418685364,
          0.09800944980205051,
          0.08767177472054431,
          0.0813249739899602,
          0.0813249739899602,
          0.07935854138257471,
          0.07884166289335762,
          0.0716766439375091,
          0.06944754293925572,
          0.06944754293925572,
          0.06944754293925572,
          0.06944754293925572,
          0.06944754293925572,
          0.06944754293925572,
          0.06944754293925572,
          0.06944754293925572,
          0.06851903318601958,
          0.06524457716114158,
          0.0636561491019446,
          0.057272065497898976,
          0.052425291946877256,
          0.049282375921661604,
          0.048661096790555615,
          0.04394997493628287,
          0.04098735311041072,
          0.031902395595961704,
          0.029756060684797827,
          0.027621769328351052,
          0.027621769328351052,
          0.017092292615696322,
          0.017092292615696322,
          0.017092292615696322,
          0.011264564385345333
         ],
         "yaxis": "y"
        }
       ],
       "layout": {
        "annotations": [
         {
          "showarrow": false,
          "text": "Significance Threshold (0.05)",
          "x": 1,
          "xanchor": "right",
          "xref": "x domain",
          "y": 1.3010299956639813,
          "yanchor": "bottom",
          "yref": "y"
         }
        ],
        "height": 800,
        "legend": {
         "title": {
          "text": "trait_category"
         },
         "tracegroupgap": 0
        },
        "shapes": [
         {
          "line": {
           "dash": "dash"
          },
          "type": "line",
          "x0": 0,
          "x1": 1,
          "xref": "x domain",
          "y0": 1.3010299956639813,
          "y1": 1.3010299956639813,
          "yref": "y"
         }
        ],
        "template": {
         "data": {
          "bar": [
           {
            "error_x": {
             "color": "#2a3f5f"
            },
            "error_y": {
             "color": "#2a3f5f"
            },
            "marker": {
             "line": {
              "color": "#E5ECF6",
              "width": 0.5
             },
             "pattern": {
              "fillmode": "overlay",
              "size": 10,
              "solidity": 0.2
             }
            },
            "type": "bar"
           }
          ],
          "barpolar": [
           {
            "marker": {
             "line": {
              "color": "#E5ECF6",
              "width": 0.5
             },
             "pattern": {
              "fillmode": "overlay",
              "size": 10,
              "solidity": 0.2
             }
            },
            "type": "barpolar"
           }
          ],
          "carpet": [
           {
            "aaxis": {
             "endlinecolor": "#2a3f5f",
             "gridcolor": "white",
             "linecolor": "white",
             "minorgridcolor": "white",
             "startlinecolor": "#2a3f5f"
            },
            "baxis": {
             "endlinecolor": "#2a3f5f",
             "gridcolor": "white",
             "linecolor": "white",
             "minorgridcolor": "white",
             "startlinecolor": "#2a3f5f"
            },
            "type": "carpet"
           }
          ],
          "choropleth": [
           {
            "colorbar": {
             "outlinewidth": 0,
             "ticks": ""
            },
            "type": "choropleth"
           }
          ],
          "contour": [
           {
            "colorbar": {
             "outlinewidth": 0,
             "ticks": ""
            },
            "colorscale": [
             [
              0,
              "#0d0887"
             ],
             [
              0.1111111111111111,
              "#46039f"
             ],
             [
              0.2222222222222222,
              "#7201a8"
             ],
             [
              0.3333333333333333,
              "#9c179e"
             ],
             [
              0.4444444444444444,
              "#bd3786"
             ],
             [
              0.5555555555555556,
              "#d8576b"
             ],
             [
              0.6666666666666666,
              "#ed7953"
             ],
             [
              0.7777777777777778,
              "#fb9f3a"
             ],
             [
              0.8888888888888888,
              "#fdca26"
             ],
             [
              1,
              "#f0f921"
             ]
            ],
            "type": "contour"
           }
          ],
          "contourcarpet": [
           {
            "colorbar": {
             "outlinewidth": 0,
             "ticks": ""
            },
            "type": "contourcarpet"
           }
          ],
          "heatmap": [
           {
            "colorbar": {
             "outlinewidth": 0,
             "ticks": ""
            },
            "colorscale": [
             [
              0,
              "#0d0887"
             ],
             [
              0.1111111111111111,
              "#46039f"
             ],
             [
              0.2222222222222222,
              "#7201a8"
             ],
             [
              0.3333333333333333,
              "#9c179e"
             ],
             [
              0.4444444444444444,
              "#bd3786"
             ],
             [
              0.5555555555555556,
              "#d8576b"
             ],
             [
              0.6666666666666666,
              "#ed7953"
             ],
             [
              0.7777777777777778,
              "#fb9f3a"
             ],
             [
              0.8888888888888888,
              "#fdca26"
             ],
             [
              1,
              "#f0f921"
             ]
            ],
            "type": "heatmap"
           }
          ],
          "heatmapgl": [
           {
            "colorbar": {
             "outlinewidth": 0,
             "ticks": ""
            },
            "colorscale": [
             [
              0,
              "#0d0887"
             ],
             [
              0.1111111111111111,
              "#46039f"
             ],
             [
              0.2222222222222222,
              "#7201a8"
             ],
             [
              0.3333333333333333,
              "#9c179e"
             ],
             [
              0.4444444444444444,
              "#bd3786"
             ],
             [
              0.5555555555555556,
              "#d8576b"
             ],
             [
              0.6666666666666666,
              "#ed7953"
             ],
             [
              0.7777777777777778,
              "#fb9f3a"
             ],
             [
              0.8888888888888888,
              "#fdca26"
             ],
             [
              1,
              "#f0f921"
             ]
            ],
            "type": "heatmapgl"
           }
          ],
          "histogram": [
           {
            "marker": {
             "pattern": {
              "fillmode": "overlay",
              "size": 10,
              "solidity": 0.2
             }
            },
            "type": "histogram"
           }
          ],
          "histogram2d": [
           {
            "colorbar": {
             "outlinewidth": 0,
             "ticks": ""
            },
            "colorscale": [
             [
              0,
              "#0d0887"
             ],
             [
              0.1111111111111111,
              "#46039f"
             ],
             [
              0.2222222222222222,
              "#7201a8"
             ],
             [
              0.3333333333333333,
              "#9c179e"
             ],
             [
              0.4444444444444444,
              "#bd3786"
             ],
             [
              0.5555555555555556,
              "#d8576b"
             ],
             [
              0.6666666666666666,
              "#ed7953"
             ],
             [
              0.7777777777777778,
              "#fb9f3a"
             ],
             [
              0.8888888888888888,
              "#fdca26"
             ],
             [
              1,
              "#f0f921"
             ]
            ],
            "type": "histogram2d"
           }
          ],
          "histogram2dcontour": [
           {
            "colorbar": {
             "outlinewidth": 0,
             "ticks": ""
            },
            "colorscale": [
             [
              0,
              "#0d0887"
             ],
             [
              0.1111111111111111,
              "#46039f"
             ],
             [
              0.2222222222222222,
              "#7201a8"
             ],
             [
              0.3333333333333333,
              "#9c179e"
             ],
             [
              0.4444444444444444,
              "#bd3786"
             ],
             [
              0.5555555555555556,
              "#d8576b"
             ],
             [
              0.6666666666666666,
              "#ed7953"
             ],
             [
              0.7777777777777778,
              "#fb9f3a"
             ],
             [
              0.8888888888888888,
              "#fdca26"
             ],
             [
              1,
              "#f0f921"
             ]
            ],
            "type": "histogram2dcontour"
           }
          ],
          "mesh3d": [
           {
            "colorbar": {
             "outlinewidth": 0,
             "ticks": ""
            },
            "type": "mesh3d"
           }
          ],
          "parcoords": [
           {
            "line": {
             "colorbar": {
              "outlinewidth": 0,
              "ticks": ""
             }
            },
            "type": "parcoords"
           }
          ],
          "pie": [
           {
            "automargin": true,
            "type": "pie"
           }
          ],
          "scatter": [
           {
            "fillpattern": {
             "fillmode": "overlay",
             "size": 10,
             "solidity": 0.2
            },
            "type": "scatter"
           }
          ],
          "scatter3d": [
           {
            "line": {
             "colorbar": {
              "outlinewidth": 0,
              "ticks": ""
             }
            },
            "marker": {
             "colorbar": {
              "outlinewidth": 0,
              "ticks": ""
             }
            },
            "type": "scatter3d"
           }
          ],
          "scattercarpet": [
           {
            "marker": {
             "colorbar": {
              "outlinewidth": 0,
              "ticks": ""
             }
            },
            "type": "scattercarpet"
           }
          ],
          "scattergeo": [
           {
            "marker": {
             "colorbar": {
              "outlinewidth": 0,
              "ticks": ""
             }
            },
            "type": "scattergeo"
           }
          ],
          "scattergl": [
           {
            "marker": {
             "colorbar": {
              "outlinewidth": 0,
              "ticks": ""
             }
            },
            "type": "scattergl"
           }
          ],
          "scattermapbox": [
           {
            "marker": {
             "colorbar": {
              "outlinewidth": 0,
              "ticks": ""
             }
            },
            "type": "scattermapbox"
           }
          ],
          "scatterpolar": [
           {
            "marker": {
             "colorbar": {
              "outlinewidth": 0,
              "ticks": ""
             }
            },
            "type": "scatterpolar"
           }
          ],
          "scatterpolargl": [
           {
            "marker": {
             "colorbar": {
              "outlinewidth": 0,
              "ticks": ""
             }
            },
            "type": "scatterpolargl"
           }
          ],
          "scatterternary": [
           {
            "marker": {
             "colorbar": {
              "outlinewidth": 0,
              "ticks": ""
             }
            },
            "type": "scatterternary"
           }
          ],
          "surface": [
           {
            "colorbar": {
             "outlinewidth": 0,
             "ticks": ""
            },
            "colorscale": [
             [
              0,
              "#0d0887"
             ],
             [
              0.1111111111111111,
              "#46039f"
             ],
             [
              0.2222222222222222,
              "#7201a8"
             ],
             [
              0.3333333333333333,
              "#9c179e"
             ],
             [
              0.4444444444444444,
              "#bd3786"
             ],
             [
              0.5555555555555556,
              "#d8576b"
             ],
             [
              0.6666666666666666,
              "#ed7953"
             ],
             [
              0.7777777777777778,
              "#fb9f3a"
             ],
             [
              0.8888888888888888,
              "#fdca26"
             ],
             [
              1,
              "#f0f921"
             ]
            ],
            "type": "surface"
           }
          ],
          "table": [
           {
            "cells": {
             "fill": {
              "color": "#EBF0F8"
             },
             "line": {
              "color": "white"
             }
            },
            "header": {
             "fill": {
              "color": "#C8D4E3"
             },
             "line": {
              "color": "white"
             }
            },
            "type": "table"
           }
          ]
         },
         "layout": {
          "annotationdefaults": {
           "arrowcolor": "#2a3f5f",
           "arrowhead": 0,
           "arrowwidth": 1
          },
          "autotypenumbers": "strict",
          "coloraxis": {
           "colorbar": {
            "outlinewidth": 0,
            "ticks": ""
           }
          },
          "colorscale": {
           "diverging": [
            [
             0,
             "#8e0152"
            ],
            [
             0.1,
             "#c51b7d"
            ],
            [
             0.2,
             "#de77ae"
            ],
            [
             0.3,
             "#f1b6da"
            ],
            [
             0.4,
             "#fde0ef"
            ],
            [
             0.5,
             "#f7f7f7"
            ],
            [
             0.6,
             "#e6f5d0"
            ],
            [
             0.7,
             "#b8e186"
            ],
            [
             0.8,
             "#7fbc41"
            ],
            [
             0.9,
             "#4d9221"
            ],
            [
             1,
             "#276419"
            ]
           ],
           "sequential": [
            [
             0,
             "#0d0887"
            ],
            [
             0.1111111111111111,
             "#46039f"
            ],
            [
             0.2222222222222222,
             "#7201a8"
            ],
            [
             0.3333333333333333,
             "#9c179e"
            ],
            [
             0.4444444444444444,
             "#bd3786"
            ],
            [
             0.5555555555555556,
             "#d8576b"
            ],
            [
             0.6666666666666666,
             "#ed7953"
            ],
            [
             0.7777777777777778,
             "#fb9f3a"
            ],
            [
             0.8888888888888888,
             "#fdca26"
            ],
            [
             1,
             "#f0f921"
            ]
           ],
           "sequentialminus": [
            [
             0,
             "#0d0887"
            ],
            [
             0.1111111111111111,
             "#46039f"
            ],
            [
             0.2222222222222222,
             "#7201a8"
            ],
            [
             0.3333333333333333,
             "#9c179e"
            ],
            [
             0.4444444444444444,
             "#bd3786"
            ],
            [
             0.5555555555555556,
             "#d8576b"
            ],
            [
             0.6666666666666666,
             "#ed7953"
            ],
            [
             0.7777777777777778,
             "#fb9f3a"
            ],
            [
             0.8888888888888888,
             "#fdca26"
            ],
            [
             1,
             "#f0f921"
            ]
           ]
          },
          "colorway": [
           "#636efa",
           "#EF553B",
           "#00cc96",
           "#ab63fa",
           "#FFA15A",
           "#19d3f3",
           "#FF6692",
           "#B6E880",
           "#FF97FF",
           "#FECB52"
          ],
          "font": {
           "color": "#2a3f5f"
          },
          "geo": {
           "bgcolor": "white",
           "lakecolor": "white",
           "landcolor": "#E5ECF6",
           "showlakes": true,
           "showland": true,
           "subunitcolor": "white"
          },
          "hoverlabel": {
           "align": "left"
          },
          "hovermode": "closest",
          "mapbox": {
           "style": "light"
          },
          "paper_bgcolor": "white",
          "plot_bgcolor": "#E5ECF6",
          "polar": {
           "angularaxis": {
            "gridcolor": "white",
            "linecolor": "white",
            "ticks": ""
           },
           "bgcolor": "#E5ECF6",
           "radialaxis": {
            "gridcolor": "white",
            "linecolor": "white",
            "ticks": ""
           }
          },
          "scene": {
           "xaxis": {
            "backgroundcolor": "#E5ECF6",
            "gridcolor": "white",
            "gridwidth": 2,
            "linecolor": "white",
            "showbackground": true,
            "ticks": "",
            "zerolinecolor": "white"
           },
           "yaxis": {
            "backgroundcolor": "#E5ECF6",
            "gridcolor": "white",
            "gridwidth": 2,
            "linecolor": "white",
            "showbackground": true,
            "ticks": "",
            "zerolinecolor": "white"
           },
           "zaxis": {
            "backgroundcolor": "#E5ECF6",
            "gridcolor": "white",
            "gridwidth": 2,
            "linecolor": "white",
            "showbackground": true,
            "ticks": "",
            "zerolinecolor": "white"
           }
          },
          "shapedefaults": {
           "line": {
            "color": "#2a3f5f"
           }
          },
          "ternary": {
           "aaxis": {
            "gridcolor": "white",
            "linecolor": "white",
            "ticks": ""
           },
           "baxis": {
            "gridcolor": "white",
            "linecolor": "white",
            "ticks": ""
           },
           "bgcolor": "#E5ECF6",
           "caxis": {
            "gridcolor": "white",
            "linecolor": "white",
            "ticks": ""
           }
          },
          "title": {
           "x": 0.05
          },
          "xaxis": {
           "automargin": true,
           "gridcolor": "white",
           "linecolor": "white",
           "ticks": "",
           "title": {
            "standoff": 15
           },
           "zerolinecolor": "white",
           "zerolinewidth": 2
          },
          "yaxis": {
           "automargin": true,
           "gridcolor": "white",
           "linecolor": "white",
           "ticks": "",
           "title": {
            "standoff": 15
           },
           "zerolinecolor": "white",
           "zerolinewidth": 2
          }
         }
        },
        "title": {
         "text": "Endothelial Cell Programs x GWAS Continuous Outcome Enrichments"
        },
        "width": 1000,
        "xaxis": {
         "anchor": "y",
         "domain": [
          0,
          1
         ],
         "tickfont": {
          "size": 4
         },
         "title": {
          "text": "trait_reported"
         }
        },
        "yaxis": {
         "anchor": "x",
         "domain": [
          0,
          1
         ],
         "tickformat": ".1f",
         "title": {
          "text": "-log10(p-value)"
         }
        }
       }
      },
      "text/html": [
       "<div>                            <div id=\"3e9fe6d2-a6f0-49b8-a7d9-9152b8b62ba2\" class=\"plotly-graph-div\" style=\"height:800px; width:1000px;\"></div>            <script type=\"text/javascript\">                require([\"plotly\"], function(Plotly) {                    window.PLOTLYENV=window.PLOTLYENV || {};                                    if (document.getElementById(\"3e9fe6d2-a6f0-49b8-a7d9-9152b8b62ba2\")) {                    Plotly.newPlot(                        \"3e9fe6d2-a6f0-49b8-a7d9-9152b8b62ba2\",                        [{\"customdata\":[[19,\"measurement\",0.0001897899623212,\"RNF145;UBASH3B;FNDC3A;CLIC4;PTTG1IP;NPC1;VEGFA;AZIN1;UBXN7;GLI2;LONRF1;SCARB1;HSD17B12;NFIC;IRF2BP2;LIPG;SMAD1;NUCKS1;PNPLA3;NFE2L2\",\"GCST010242\",\"PMID:32203549\"],[19,\"measurement\",0.0061870740076511,\"TSPAN14;MXRA7;EHD4;CDKN1A;FLNB;UBASH3B;LIPA;IFITM2;PNPLA3;PDLIM1;NPC1;NUDT14;CEBPD;SCD5;VEGFA\",\"GCST90002355\",\"PMID:32888493\"],[19,\"measurement\",0.0090906378430656,\"LDLR;IRF2BP2;PCSK5;UBASH3B;HMGCR;LIPG;GLI2;CMTM6;SCARB1\",\"GCST010245\",\"PMID:32203549\"],[19,\"measurement\",0.0110177402679144,\"FADS1;EHD4;VCP;RNF145;UBASH3B;PCYOX1L;CLCN6;MMAB;MVK;FADS2;NID1;PNPLA3;NRDC;CD9;PDLIM1;ELOVL5\",\"GCST90002349\",\"PMID:32888493\"],[19,\"measurement\",0.0111932350853335,\"FADS2;PNPLA3\",\"GCST90060200\",\"PMID:34503513\"],[19,\"measurement\",0.0149903487863079,\"SLC27A5;RNF145;VEGFA;TMEM60;CLCN6;PXMP4;GLI2;EGR1;LONRF1;NFIC;CDKN1A;SOCS2;KLHL24;NR2F6;NUCKS1;SOBP;PNPLA3;MPC2;NFE2L2\",\"GCST90025958\",\"PMID:34226706\"],[19,\"measurement\",0.016957775643521,\"MLXIP;IRF2BP2;UBASH3B;PNPLA3;RAI14;TANC1;CDC42BPA;GLI2;GNAS;VEGFA\",\"GCST90018977\",\"PMID:34594039\"],[19,\"measurement\",0.0181481041838942,\"LDLR;IRF2BP2;RNF145;UBASH3B;UBC;FNDC3A;PNPLA3;DUSP6;CLIC4;LIPG;PTTG1IP;GLI2;SCARB1;VEGFA\",\"GCST90025955\",\"PMID:34226706\"],[19,\"measurement\",0.0182120684927123,\"RAB2A;IRF2BP2;HMGCR;PNPLA3;GLI2;CMTM6;SCARB1\",\"GCST90018974\",\"PMID:34594039\"],[19,\"measurement\",0.020379227896221,\"SH2D3C;GCNT1;PPIA;IRF2BP2;MARCKS;UBASH3B;IFITM2;S1PR1;PNPLA3;SERTAD1;MMAB;ZYX;ENSA;SCARB1;CEBPD;SCD5;NPC1\",\"GCST90002394\",\"PMID:32888494\"],[19,\"measurement\",0.0338500391764281,\"EHD4;LIPA;VEGFA;AZIN1;IFITM2;SCD5;NPC1\",\"GCST004613\",\"PMID:27863252\"],[19,\"measurement\",0.0390763811211738,\"IRF2BP2;HMGCR;LIPG;SCARB1;VEGFA\",\"GCST90018989\",\"PMID:34594039\"],[19,\"measurement\",0.0418606559013246,\"YWHAZ;EHD4;ACTB;IRF2BP2;CCBE1;FLNB;UBASH3B;ENO1;FLVCR1;CBX5;BNIP3L;FDFT1;UBAP2;HSPA8;WBP2;SMIM29;SCD5;VEGFA\",\"GCST90025970\",\"PMID:34226706\"],[19,\"measurement\",0.0434090885564119,\"MLXIP;NMT2;GPCPD1;GLI2;SCARB1;APOC1;VEGFA\",\"GCST90020026\",\"PMID:34021172\"],[19,\"measurement\",0.0442123248254086,\"NFE2L2;RAI14;TANC1;CALR;TGFBR2;GLI2;SMIM29;GNAS;ABCC1;VEGFA\",\"GCST008058\",\"PMID:31152163\"],[19,\"measurement\",0.0508217351163794,\"LDLR;IRF2BP2;PCSK5;HMGCR;GLI2;CMTM6;SCARB1;VEGFA\",\"GCST010243\",\"PMID:32203549\"],[19,\"measurement\",0.0539883803136624,\"SCD5;SLC7A11;PTPN1;IFITM2;S1PR1;MIIP;ZRANB1;ENSA;JUND;BTG1;CEBPD;TOX2\",\"GCST90002302\",\"PMID:32888493\"],[19,\"measurement\",0.0566786261920362,\"EHD4;UBASH3B;PTPN1;LIPA;IFITM2;AZIN1;PNPLA3;TGM2;DDR2;CD46;SCD5;VEGFA\",\"GCST90018978\",\"PMID:34594039\"],[19,\"measurement\",0.0581715954057249,\"TSPAN14;EHD4;CDKN1A;ITGA10;FLNB;UBASH3B;PTPN1;IFITM2;PNPLA3;TGM2;NUDT14;RAI14;SCD5;NPC1\",\"GCST90002378\",\"PMID:32888493\"],[19,\"measurement\",0.0598686523759518,\"CDKN1A;MLXIP;VEGFA;CLCN6;S1PR1;PNPLA3;GLI2;NPC1\",\"GCST90018943\",\"PMID:34594039\"],[19,\"measurement\",0.0603919844724791,\"FADS1;VCP;IRF2BP2;CCBE1;RNF145;PTPN1;RTN4;PNPLA3;SQLE;TGM2;NAV3;PDIA5;FADS2;PIK3C2A;CD9;WBP2;RAI14\",\"GCST90002361\",\"PMID:32888493\"],[19,\"measurement\",0.0662418066506201,\"SCARB1;S1PR1;IRF2BP2\",\"GCST90085816\",\"PMID:34469753\"],[19,\"measurement\",0.0673634132194936,\"MLXIP;PNPLA3;LMNA;RAI14;GLI2;GNAS;VEGFA\",\"GCST008972\",\"PMID:31578528\"],[19,\"measurement\",0.0673634132194936,\"MLXIP;PNPLA3;LMNA;RAI14;GLI2;GNAS;VEGFA\",\"GCST008972_2\",\"PMID:31578528\"],[19,\"measurement\",0.0673634132194936,\"MLXIP;PNPLA3;LMNA;RAI14;GLI2;GNAS;VEGFA\",\"GCST008972_3\",\"PMID:31578528\"],[19,\"measurement\",0.0801643768034926,\"MLXIP;PNPLA3;FAM114A1;GLI2;SCARB1\",\"GCST90018973\",\"PMID:34594039\"],[19,\"measurement\",0.0801643768034926,\"RAB2A;GNAQ;S100A11;LIPG;RRAS2\",\"GCST90000618\",\"PMID:32242144\"],[19,\"measurement\",0.0812956978300935,\"CDKN1A;ELOVL5;ITSN1;TKT;UBASH3B;FADS2;CLIC4;GLI2;HSPA8;CD46;SMIM29;RAI14;ABCC1;NFIC;SCD5;VEGFA\",\"GCST90025974\",\"PMID:34226706\"],[19,\"measurement\",0.0829069885868102,\"TOX2\",\"GCST90012059\",\"PMID:33067605\"],[19,\"measurement\",0.0838740937961106,\"YWHAZ;EHD4;PPIA;IRF2BP2;CCBE1;FLNB;UBASH3B;ENO1;AZIN1;SCD5;VEGFA\",\"GCST90025971\",\"PMID:34226706\"],[19,\"measurement\",0.086814728194195,\"EHD4;LIPA;VEGFA;AZIN1;IFITM2;NPC1\",\"GCST004620\",\"PMID:27863252\"],[19,\"measurement\",0.0870176384907033,\"PCYOX1;TFB1M;IRF2BP2;SYT1;TCF20;PTPN1;DUSP6;NFIB;CPNE3;GJC1;HABP4;PDIA6;MTFR1;PTPRN2\",\"GCST006570\",\"PMID:30038396\"],[19,\"measurement\",0.0882332442153908,\"YWHAZ;EHD4;UBASH3B;NUDT14;VEGFA;AZIN1;BNIP3L;FDFT1;GLI2;HSPA8;SCARB1;IRF2BP2;CCBE1;ITSN1;SQLE;FLVCR1;ABCC1;SCD5;FLNB;RAI14\",\"GCST90002386\",\"PMID:32888494\"],[19,\"measurement\",0.0882332442153908,\"YWHAZ;EHD4;UBASH3B;NUDT14;VEGFA;AZIN1;BNIP3L;FDFT1;GLI2;HSPA8;SCARB1;IRF2BP2;CCBE1;ITSN1;SQLE;FLVCR1;ABCC1;SCD5;FLNB;RAI14\",\"GCST90002387\",\"PMID:32888494\"],[19,\"measurement\",0.0882332442153908,\"YWHAZ;EHD4;UBASH3B;NUDT14;VEGFA;AZIN1;BNIP3L;FDFT1;GLI2;HSPA8;SCARB1;IRF2BP2;CCBE1;ITSN1;SQLE;FLVCR1;ABCC1;SCD5;FLNB;RAI14\",\"GCST90002406\",\"PMID:32888494\"],[19,\"measurement\",0.0898135263762215,\"SLC9A3R1;ABCC1;IFITM2;ZYX;CEBPD;SCD5\",\"GCST90002296\",\"PMID:32888493\"],[19,\"measurement\",0.0898135263762215,\"EHD4;LIPA;IFITM2;AZIN1;SCD5;NPC1\",\"GCST004614\",\"PMID:27863252\"],[19,\"measurement\",0.0913996078620031,\"CDKN1A;TKT\",\"GCST007104\",\"PMID:30012220\"],[19,\"measurement\",0.1011866024626775,\"STARD4;FNDC3A;GGT7;GNAQ;DNAJC21;NFIB;BTG1;HSD17B12;PTPRN2\",\"GCST007078\",\"PMID:30595370\"],[19,\"measurement\",0.1156390146772262,\"SYT1;CBX5;DNAJB9;NPC1;VASH2;BNIP3L;DUSP6;LONRF1;PLK2;NR2F1;IRF2BP2;MARCKS;PNPLA8;NFIB;GJC1;TFB1M;PTPN1;NAV3;PDIA6\",\"GCST006442\",\"PMID:30038396\"],[19,\"measurement\",0.1271408373891563,\"FADS1;ITSN1;SPTLC2;PNPLA3;BNIP3L;FADS2;CSNK1G2;HSPA8;ABCC1;PTTG1IP\",\"GCST90002372\",\"PMID:32888493\"],[19,\"measurement\",0.1368459709529698,\"TSPAN14;RAB2A;LRRC8B;EHD4;VCP;UBASH3B;ZYX;ENSA;CD46;PLK2;CEBPD;SCD5\",\"GCST90002344\",\"PMID:32888493\"],[19,\"measurement\",0.1428017404740746,\"ARHGAP29;PXMP4;PNPLA3;ANPEP\",\"GCST90019498\",\"PMID:33462484\"],[19,\"measurement\",0.1456651650884171,\"IRF2BP2;CCBE1;ITSN1;PTPN1;PNPLA3;BNIP3L;TOX2;ABCC1;SMAD1;PTTG1IP\",\"GCST90018964\",\"PMID:34594039\"],[19,\"measurement\",0.1460690736456073,\"ARHGAP29;EHD4;IRF2BP2;CCBE1;UBASH3B;PTPN1;ENO1;PNPLA3;SQLE;HABP4;NAV3;CLIC4;PDIA5;DNAJB6;RAI14;TM4SF1;VEGFA\",\"GCST90002400\",\"PMID:32888494\"],[19,\"measurement\",0.1478912000001314,\"PDIA5;LIPA\",\"GCST003194\",\"PMID:26561523\"],[19,\"measurement\",0.158969452706878,\"EPAS1\",\"GCST009500\",\"PMID:31681408\"],[19,\"measurement\",0.158969452706878,\"ARHGAP29\",\"GCST90032354\",\"PMID:35115689\"],[19,\"measurement\",0.158969452706878,\"ARHGAP29\",\"GCST90032585\",\"PMID:35115689\"],[19,\"measurement\",0.158969452706878,\"ARHGAP29\",\"GCST90032586\",\"PMID:35115689\"],[19,\"measurement\",0.158969452706878,\"LTBP2\",\"GCST90095201\",\"PMID:34743558\"],[19,\"measurement\",0.1667868813477533,\"ARHGAP29;CDKN1A;UBASH3B;PNPLA3;DUSP6;TM4SF1;VEGFA\",\"GCST90018944\",\"PMID:34594039\"],[19,\"measurement\",0.1697894700604497,\"NPC1;SMIM29;HSD17B12;JUND\",\"GCST005830\",\"PMID:29691431\"],[19,\"measurement\",0.1762549090120402,\"PMP22;APOC1;CD46\",\"GCST003818\",\"PMID:27798624\"],[19,\"measurement\",0.1990982922314336,\"IFITM2;S1PR1;MIIP;BTG1;CEBPD;SCD5\",\"GCST004624\",\"PMID:27863252\"],[19,\"measurement\",0.2061550439296068,\"NFIB\",\"GCST007445\",\"PMID:30586737\"],[19,\"measurement\",0.2061550439296068,\"GNAS\",\"GCST001610\",\"PMID:22797727\"],[19,\"measurement\",0.2061550439296068,\"PHTF1\",\"GCST009890\",\"PMID:30642433\"],[19,\"measurement\",0.2061550439296068,\"IRF2BP2\",\"GCST90012023\",\"PMID:33067605\"],[19,\"measurement\",0.2061550439296068,\"TSPAN14\",\"GCST90012054\",\"PMID:33067605\"],[19,\"measurement\",0.2061550439296068,\"PNPLA3\",\"GCST90016673\",\"PMID:34128465\"],[19,\"measurement\",0.2126686371895756,\"INSIG1;TGFBR2;CCBE1\",\"GCST008758\",\"PMID:31219150\"],[19,\"measurement\",0.2142982732767858,\"MLXIP;IRF2BP2;CCBE1;ITSN1;LBR;PTPN1;CLCN6;PNPLA3;BNIP3L;TOX2;SCARB1;PTTG1IP\",\"GCST90002338\",\"PMID:32888493\"],[19,\"measurement\",0.2168226626342707,\"CDKN1A;VEGFA;S1PR1;NFIB;MMP17;CDC42BPA;GLI2;PTTG1IP\",\"GCST90018954\",\"PMID:34594039\"],[19,\"measurement\",0.217787614798976,\"MLXIP;SOCS2;GNAQ;NFIB;SMIM29;CLTC;CCN2\",\"GCST90025948\",\"PMID:34226706\"],[19,\"measurement\",0.2182686643282181,\"SH2D3C;EHD4;UBASH3B;LIPA;IFITM2;AZIN1;BNIP3L;ELOVL5;CEBPD;SCD5;NPC1\",\"GCST90002399\",\"PMID:32888494\"],[19,\"measurement\",0.2216192912207304,\"S1PR1;PNPLA3;LIPE;NR2F6;EGR1;NFE2L2\",\"GCST90012114\",\"PMID:32042192\"],[19,\"measurement\",0.2287500538282526,\"MTHFR\",\"GCST002087\",\"PMID:23824729\"],[19,\"measurement\",0.2289265977227501,\"SH2D3C;RAB2A;ABCC1;ZYX;CEBPD\",\"GCST90002380\",\"PMID:32888494\"],[19,\"measurement\",0.2459393785478721,\"EHD4;SOBP;IRF2BP2;MSMO1;MARCKS;THSD4;UBASH3B;GPCPD1;TANC1;MAP1B;TGFBR2;CLIC4;NAV3;NFIB;BTG1;PRXL2A;NFIC;VEGFA\",\"GCST007066\",\"PMID:30595370\"],[19,\"measurement\",0.2507048273189083,\"ABCC1\",\"GCST90019386\",\"PMID:33328453\"],[19,\"measurement\",0.2507048273189083,\"ABCC1\",\"GCST90019430\",\"PMID:33328453\"],[19,\"measurement\",0.2507048273189083,\"SMURF2\",\"GCST003998\",\"PMID:27182965\"],[19,\"measurement\",0.2533202811313329,\"YWHAZ;UBASH3B;MMAB;GNAQ;ZRANB1;DUSP6;NFIB;CPNE3;UBXN7;CSNK1G2;NPC1;RTN4;HSD17B12;VEGFA\",\"GCST009004\",\"PMID:30239722\"],[19,\"measurement\",0.2668816838535806,\"SH2D3C;SLC7A11;PTPN1;IFITM2;S1PR1;DUSP6;ENSA;TOX2;BTG1;CEBPD;NFIC;SCD5\",\"GCST90002382\",\"PMID:32888494\"],[19,\"measurement\",0.2720374240745888,\"ID3\",\"GCST012006\",\"PMID:34006833\"],[19,\"measurement\",0.2720374240745888,\"ID3\",\"GCST012008\",\"PMID:34006833\"],[19,\"measurement\",0.2720374240745888,\"MARCKS\",\"GCST006097\",\"PMID:29899525\"],[19,\"measurement\",0.2720374240745888,\"DTD1\",\"GCST006952\",\"PMID:29500382\"],[19,\"measurement\",0.2775692896514996,\"IER2;UBASH3B;INO80C;LETM2;ODF2L;DIPK1B;ZRANB1;MNT;GLI2;GNAS;LTBP2;CCBE1;SOCS2;NFIB;VAMP5;DDR2;SMURF2;NUCKS1;FLNB;PTPN1;CPNE3;CCN1;NFE2L2\",\"GCST90000025\",\"PMID:33097823\"],[19,\"measurement\",0.2787192591076367,\"ACTB;GLI2;NPC1;PLK2;APOC1;VEGFA\",\"GCST90018975\",\"PMID:34594039\"],[19,\"measurement\",0.2808694557435136,\"EHD4;SLC9A3R1;UBASH3B;PTPN1;LIPA;IFITM2;AZIN1;S1PR1;BNIP3L;ELOVL5;CEBPD\",\"GCST90002389\",\"PMID:32888494\"],[19,\"measurement\",0.2927653966471928,\"FLNB\",\"GCST009404\",\"PMID:31798171\"],[19,\"measurement\",0.2927653966471928,\"LRP8\",\"NEALE2_1950\",null],[19,\"measurement\",0.2968678906533512,\"TMEM60;FRY;EPAS1;GGT7;RAI14;GLI2;KRT18;GNAS;VEGFA\",\"GCST90018979\",\"PMID:34594039\"],[19,\"measurement\",0.3051467678839975,\"MLXIP;GPCPD1;GLI2;SCARB1;RRAS2;APOC1;VEGFA\",\"GCST90020027\",\"PMID:34021172\"],[19,\"measurement\",0.3129058046429355,\"PLXNA2\",\"GCST90026029\",\"PMID:33437055\"],[19,\"measurement\",0.3129058046429355,\"PTPN1\",\"GCST009697\",\"PMID:31636452\"],[19,\"measurement\",0.3167002851483499,\"CDKN1A;XPC;IRF2BP2;S1PR1;SOCS2;CLCN6;PNPLA3;PLXNA2;NR2F6;GLI2;CD46;HSD17B12;UBAP2;VEGFA\",\"GCST90025989\",\"PMID:34226706\"],[19,\"measurement\",0.3194091756726575,\"MLXIP;ADIPOR2;ACSS2;EGFL7;MTHFR;IER5L;FDFT1;ELOVL5;ABCC1;SNCA;TOX2\",\"GCST90025975\",\"PMID:34226706\"],[19,\"measurement\",0.3199270355016073,\"NUCKS1;TUBA1A;NR2F1;THSD4;ME1;LRP8;KLHL24;PLXNA2;NAV3;NFIB;DPYSL2;VEGFA\",\"GCST90091061\",\"PMID:34560273\"],[19,\"measurement\",0.3259486585004312,\"FLNB;THSD4\",\"GCST90093370\",\"PMID:34968759\"],[19,\"measurement\",0.332475228503348,\"CFAP54\",\"GCST001414\",\"PMID:22359512\"],[19,\"measurement\",0.332475228503348,\"CFAP54\",\"GCST001414_2\",\"PMID:22359512\"],[19,\"measurement\",0.3438141145772319,\"NUCKS1;IRF2BP2;PTPN1;FNDC3A;PLXNA2;GLI2;CD46;VEGFA\",\"GCST011520\",\"PMID:33587031\"],[19,\"measurement\",0.3466655775414268,\"PCYOX1;IRF2BP2;UBASH3B;S1PR1;AZIN1;GLI2;ELOVL6\",\"GCST90018942\",\"PMID:34594039\"],[19,\"measurement\",0.3514897829027668,\"VEGFA\",\"GCST001856_7\",\"PMID:23408906\"],[19,\"measurement\",0.3514897829027668,\"KLHL24\",\"GCST011946\",\"PMID:33293549\"],[19,\"measurement\",0.3514897829027668,\"THSD4\",\"GCST90007181\",\"PMID:33288918\"],[19,\"measurement\",0.3514897829027668,\"THSD4\",\"GCST90007182\",\"PMID:33288918\"],[19,\"measurement\",0.3558828338950904,\"BNIP3L;HSPA8;ABCC1;ITSN1\",\"GCST90002332\",\"PMID:32888493\"],[19,\"measurement\",0.3642468213732557,\"TMEM60;RAI14;ZRANB1;GLI2;PRSS23;GNAS\",\"GCST90025991\",\"PMID:34226706\"],[19,\"measurement\",0.3672124119043087,\"SH2D3C;IRF2BP2;UBASH3B;IFITM2;CEBPD\",\"GCST004608\",\"PMID:27863252\"],[19,\"measurement\",0.3699651297729389,\"S1PR1\",\"GCST90085817\",\"PMID:34469753\"],[19,\"measurement\",0.3699651297729389,\"LRP8\",\"GCST006951\",\"PMID:29500382\"],[19,\"measurement\",0.3778430112831962,\"AKAP12;NFIC\",\"GCST011011\",\"PMID:32339537\"],[19,\"measurement\",0.3785881529517301,\"MLXIP;GPCPD1;NFE2L2;SMIM29;VEGFA\",\"GCST90020024\",\"PMID:34021172\"],[19,\"measurement\",0.3879164909650702,\"CD46\",\"GCST001969\",\"PMID:23583979\"],[19,\"measurement\",0.3879164909650702,\"SNCA\",\"GCST006948\",\"PMID:29500382\"],[19,\"measurement\",0.3879164909650702,\"GCSH\",\"GCST007638\",\"PMID:30837465\"],[19,\"measurement\",0.4013208522587543,\"CDKN1A;SUB1;CCBE1;SQLE;EPAS1\",\"GCST010321\",\"PMID:32439900\"],[19,\"measurement\",0.4053586605593682,\"EPAS1\",\"GCST009499\",\"PMID:31681408\"],[19,\"measurement\",0.418148725216143,\"PTPRN2;SYT1\",\"GCST90011298\",\"PMID:32895543\"],[19,\"measurement\",0.4223060168318421,\"AZIN1\",\"GCST010346\",\"PMID:32386560\"],[19,\"measurement\",0.4223060168318421,\"AZIN1\",\"GCST010346_2\",\"PMID:32386560\"],[19,\"measurement\",0.4223060168318421,\"AZIN1\",\"GCST010346_3\",\"PMID:32386560\"],[19,\"measurement\",0.4223060168318421,\"PIK3C2A\",\"GCST90014267\",\"PMID:33979322\"],[19,\"measurement\",0.4280219422040659,\"ZYX;ABCC1\",\"GCST004634\",\"PMID:27863252\"],[19,\"measurement\",0.4296079375240765,\"SOCS2;NAV3;PNMA2;DPYSL2;CD46\",\"GCST010698\",\"PMID:32665545\"],[19,\"measurement\",0.4296079375240765,\"SOCS2;NAV3;PNMA2;DPYSL2;CD46\",\"GCST010702\",\"PMID:32665545\"],[19,\"measurement\",0.4334836353565367,\"BTG1;CEBPD;S1PR1;SCD5\",\"GCST004617\",\"PMID:27863252\"],[19,\"measurement\",0.4368096686319351,\"BHLHE40;RAB2A;RNASET2\",\"GCST90018990\",\"PMID:34594039\"],[19,\"measurement\",0.4387725338878636,\"SMIM29\",\"GCST007490\",\"PMID:30166351\"],[19,\"measurement\",0.4439816527134052,\"PTPN1;PNPLA3;SQLE;CLIC4;CYP51A1;NFIB;RAI14;ACACA\",\"GCST90002308\",\"PMID:32888493\"],[19,\"measurement\",0.4459625274121073,\"ARHGAP29;LRRC8B;CCBE1;UBASH3B;IFITM2;DUSP6\",\"GCST90018976\",\"PMID:34594039\"],[19,\"measurement\",0.447500965440971,\"NR2F1;VEGFA\",\"GCST010696\",\"PMID:32665545\"],[19,\"measurement\",0.447500965440971,\"NR2F1;VEGFA\",\"GCST010700\",\"PMID:32665545\"],[19,\"measurement\",0.4636903021542604,\"LIPA;NFE2L2;LIPG;FDFT1;TM4SF19;GLI2;SCARB1\",\"GCST90025959\",\"PMID:34226706\"],[19,\"measurement\",0.465152707449157,\"BTG1;CEBPD;S1PR1;SCD5\",\"GCST004623\",\"PMID:27863252\"],[19,\"measurement\",0.4699827852886225,\"MLXIP;IRF2BP2;ITSN1;PTPN1;BNIP3L;CLIC4;NFIB;RAI14\",\"GCST90018971\",\"PMID:34594039\"],[19,\"measurement\",0.4760098066584078,\"LRP8;PTPRN2\",\"GCST007326\",\"PMID:30643258\"],[19,\"measurement\",0.4805511540600514,\"BAZ2A;RNF145;PTPN1;CLIC4;NRDC;PDIA5;CD9;GJC1;HABP4;CLTC;APOC1\",\"GCST90002401\",\"PMID:32888494\"],[19,\"measurement\",0.4854209635556349,\"NPC1\",\"GCST008522\",\"PMID:31046077\"],[19,\"measurement\",0.488662354006874,\"SRBD1;RAB32;NR2F1\",\"GCST90026052\",\"PMID:33437055\"],[19,\"measurement\",0.488662354006874,\"SRBD1;RAB32;NR2F1\",\"GCST90026060\",\"PMID:33437055\"],[19,\"measurement\",0.488662354006874,\"SRBD1;RAB32;NR2F1\",\"GCST90026062\",\"PMID:33437055\"],[19,\"measurement\",0.488662354006874,\"SRBD1;RAB32;NR2F1\",\"GCST90026067\",\"PMID:33437055\"],[19,\"measurement\",0.488662354006874,\"SRBD1;RAB32;NR2F1\",\"GCST90026126\",\"PMID:33437055\"],[19,\"measurement\",0.488662354006874,\"SRBD1;RAB32;NR2F1\",\"GCST90026140\",\"PMID:33437055\"],[19,\"measurement\",0.488662354006874,\"SRBD1;RAB32;NR2F1\",\"GCST90026156\",\"PMID:33437055\"],[19,\"measurement\",0.488662354006874,\"SRBD1;RAB32;NR2F1\",\"GCST90026185\",\"PMID:33437055\"],[19,\"measurement\",0.488662354006874,\"SRBD1;RAB32;NR2F1\",\"GCST90026200\",\"PMID:33437055\"],[19,\"measurement\",0.488662354006874,\"SRBD1;RAB32;NR2F1\",\"GCST90026203\",\"PMID:33437055\"],[19,\"measurement\",0.488662354006874,\"SRBD1;RAB32;NR2F1\",\"GCST90026212\",\"PMID:33437055\"],[19,\"measurement\",0.488662354006874,\"SRBD1;RAB32;NR2F1\",\"GCST90026216\",\"PMID:33437055\"],[19,\"measurement\",0.488662354006874,\"SRBD1;RAB32;NR2F1\",\"GCST90026243\",\"PMID:33437055\"],[19,\"measurement\",0.488662354006874,\"SRBD1;RAB32;NR2F1\",\"GCST90026306\",\"PMID:33437055\"],[19,\"measurement\",0.488662354006874,\"SRBD1;RAB32;NR2F1\",\"GCST90026310\",\"PMID:33437055\"],[19,\"measurement\",0.488662354006874,\"SRBD1;RAB32;NR2F1\",\"GCST90026314\",\"PMID:33437055\"],[19,\"measurement\",0.5000961706667439,\"VEGFA\",\"GCST90002238\",\"PMID:34059833\"],[19,\"measurement\",0.5022999104645244,\"DUSP6;NFIB;CBX5;IRF2BP2\",\"GCST90000047\",\"PMID:34211149\"],[19,\"measurement\",0.5115295825864637,\"RAB2A;UBASH3B;PTPN1;HDGFL3;FDFT1;ELOVL5;RTN4;PLK2;ACACA\",\"GCST90002320\",\"PMID:32888493\"],[19,\"measurement\",0.5143547315191779,\"HSD17B12\",\"GCST007561\",\"PMID:30846698\"],[19,\"measurement\",0.5143547315191779,\"SMIM29\",\"GCST90016667\",\"PMID:34128465\"],[19,\"measurement\",0.5204538292975093,\"RNF145;PRSS23;GNAS;RAI14\",\"GCST90018948\",\"PMID:34594039\"],[19,\"measurement\",0.5233338457846393,\"B4GALT5;VCL;TUBA1A;NR2F1;IRF2BP2;PCSK5;THSD4;ME1;LRP8;S1PR1;PLXNA2;AKAP12;NAV3;NFIB;CDC42BPA;DPYSL2;RRAS2\",\"GCST90095129\",\"PMID:34910505\"],[19,\"measurement\",0.530264315956697,\"SOCS2;PCSK5\",\"GCST001956\",\"PMID:23563607\"],[19,\"measurement\",0.5382935818303047,\"MNT;PIK3C2A;SNCA;NFIB\",\"GCST007988\",\"PMID:30804565\"],[19,\"measurement\",0.5382935818303047,\"MNT;PIK3C2A;SNCA;NFIB\",\"GCST007988_2\",\"PMID:30804565\"],[19,\"measurement\",0.5382935818303047,\"MNT;PIK3C2A;SNCA;NFIB\",\"GCST007988_3\",\"PMID:30804565\"],[19,\"measurement\",0.5469364599426958,\"IRF2BP2;ITSN1;PTPN1;BNIP3L;ZRANB1;CLIC4;NFIB;RAI14;PTTG1IP\",\"GCST90002367\",\"PMID:32888493\"],[19,\"measurement\",0.5547466477670275,\"ZRANB1\",\"GCST006014\",\"PMID:29403010\"],[19,\"measurement\",0.5627008272548027,\"INSIG1;PDGFB;AKAP12;DUSP6;CDC42BPA;SCARB1;RAI14\",\"GCST007082\",\"PMID:30595370\"],[19,\"measurement\",0.564264367018959,\"FLNB;THSD4\",\"GCST009724\",\"PMID:31959993\"],[19,\"measurement\",0.584737603881208,\"INSIG1;UBC;ETNK1\",\"GCST011567\",\"PMID:32939015\"],[19,\"measurement\",0.584737603881208,\"INSIG1;UBC;ETNK1\",\"GCST011568\",\"PMID:32939015\"],[19,\"measurement\",0.5897176239190327,\"THSD4;PRSS23;DYSF;FRY\",\"GCST007430\",\"PMID:30804560\"],[19,\"measurement\",0.5911514694477766,\"TCF20;PTPRN2;SYT1\",\"GCST90011875\",\"PMID:33414549\"],[19,\"measurement\",0.6034471354601211,\"VEGFA\",\"GCST008790\",\"PMID:31511532\"],[19,\"measurement\",0.6037875810677646,\"IL21R;ARHGAP29;RAB2A\",\"GCST90019515\",\"PMID:33462484\"],[19,\"measurement\",0.6090754937100225,\"THSD4;LRP8;NAV3;PNMA2;DPYSL2;RRAS2;VEGFA\",\"GCST010699\",\"PMID:32665545\"],[19,\"measurement\",0.6090754937100225,\"THSD4;LRP8;NAV3;PNMA2;DPYSL2;RRAS2;VEGFA\",\"GCST010703\",\"PMID:32665545\"],[19,\"measurement\",0.6145413567682156,\"RRAS2;NUCKS1;ODF2L;PCSK5;SOCS2;ZRANB1;HSD17B12;NFIC;NPC1\",\"GCST90018949\",\"PMID:34594039\"],[19,\"measurement\",0.6172279538131711,\"PTPN1;PNPLA3;CLIC4;NFIB;SMIM29;RAI14;SMAD1\",\"GCST90002314\",\"PMID:32888493\"],[19,\"measurement\",0.6257705477960311,\"S1PR1\",\"GCST90085818\",\"PMID:34469753\"],[19,\"measurement\",0.6393856261257229,\"PDGFB;PCSK5;CCSER2;THSD4;UBASH3B;IFITM2;SMURF2;PRSS23;RAI14;LTBP2\",\"GCST90025978\",\"PMID:34226706\"],[19,\"measurement\",0.6474407271065719,\"YWHAZ;PCYOX1;TCF20;NAV3;ETNK1;NPC1\",\"GCST007576\",\"PMID:30696823\"],[19,\"measurement\",0.6528184545178594,\"DUSP6;HSD17B12;NFIB;VEGFA\",\"GCST90020232\",\"PMID:33980691\"],[19,\"measurement\",0.6630384517720197,\"DUSP6;HSD17B12;NPC1\",\"GCST008744\",\"PMID:31501611\"],[19,\"measurement\",0.6686762343132817,\"MLXIP;LPIN1;UBASH3B;KLHL24;NFIB;PDLIM1;GLI2;KRT18;RAI14;VEGFA\",\"GCST90025945\",\"PMID:34226706\"],[19,\"measurement\",0.6757571864974095,\"NUCKS1;NFE2L2\",\"GCST007472\",\"PMID:30643251\"],[19,\"measurement\",0.6776972076939256,\"RAI14;ABCC1;NFIC;SCD5;VEGFA\",\"GCST90018958\",\"PMID:34594039\"],[19,\"measurement\",0.6855089857015289,\"HSD17B12\",\"GCST007463\",\"PMID:30643251\"],[19,\"measurement\",0.6944979938815563,\"HABP4\",\"GCST005141\",\"PMID:29186694\"],[19,\"measurement\",0.6950669659408967,\"AACS;VEGFA\",\"GCST90018955\",\"PMID:34594039\"],[19,\"measurement\",0.7032312220896585,\"DTD1\",\"GCST010544\",\"PMID:32451486\"],[19,\"measurement\",0.7117159157400594,\"CDKN1A\",\"GCST011010\",\"PMID:32602732\"],[19,\"measurement\",0.7199591159356593,\"NPC1\",\"GCST011122\",\"PMID:33128006\"],[19,\"measurement\",0.7251386263547017,\"PTPN1;PCSK5\",\"GCST006412\",\"PMID:29785010\"],[19,\"measurement\",0.7301261421239565,\"EPAS1;KLHL24;GLI2\",\"GCST008362\",\"PMID:31043758\"],[19,\"measurement\",0.7394627796843924,\"UBASH3B;APOC1;CCBE1\",\"GCST90018945\",\"PMID:34594039\"],[19,\"measurement\",0.7577855612271639,\"CD9\",\"GCST90026371\",\"PMID:35023831\"],[19,\"measurement\",0.7647169252273888,\"CLCN6\",\"GCST90018986\",\"PMID:34594039\"],[19,\"measurement\",0.777992860371213,\"ANXA2\",\"NEALE2_2375\",null],[19,\"measurement\",0.7926633044456417,\"NR2F1;THSD4;LRP8;CBX5;S1PR1;PLXNA2;NAV3;NFIB;DPYSL2;RRAS2;VEGFA\",\"GCST90091060\",\"PMID:34560273\"],[19,\"measurement\",0.7940481386929774,\"UBASH3B;PLK2;CLCN6\",\"GCST90018963\",\"PMID:34594039\"],[19,\"measurement\",0.7949052254592006,\"NUCKS1;SOBP;IER2;PCSK5;NMT2;SOCS2;NFIB;VAMP5;GLI2;GNAS;DDR2\",\"GCST90018959\",\"PMID:34594039\"],[19,\"measurement\",0.7962940411489594,\"SLC7A11;ETNK1\",\"GCST007340\",\"PMID:30643256\"],[19,\"measurement\",0.7979773239117613,\"THSD4;HSD17B12;IER5L;PRSS23\",\"GCST007432\",\"PMID:30804560\"],[19,\"measurement\",0.8171997503379301,\"UBASH3B;GPCPD1;GNAQ;CCBE1\",\"GCST90025990\",\"PMID:34226706\"],[19,\"measurement\",0.8292300388307603,\"THSD4;NAV3\",\"GCST010697\",\"PMID:32665545\"],[19,\"measurement\",0.8292300388307603,\"THSD4;NAV3\",\"GCST010701\",\"PMID:32665545\"],[19,\"measurement\",0.8329932047685966,\"SLC7A11;ETNK1\",\"GCST007339\",\"PMID:30643256\"],[19,\"measurement\",0.8339851874060723,\"IER5L\",\"GCST011494\",\"PMID:33568662\"],[19,\"measurement\",0.8478584563137905,\"EPAS1\",\"GCST008363\",\"PMID:31043758\"],[19,\"measurement\",0.8522214423029417,\"PCSK5\",\"GCST007293\",\"PMID:30664634\"],[19,\"measurement\",0.8522214423029417,\"PCSK5\",\"GCST007293_2\",\"PMID:30664634\"],[19,\"measurement\",0.8522214423029417,\"PCSK5\",\"GCST007293_3\",\"PMID:30664634\"],[19,\"measurement\",0.8522214423029417,\"PCSK5\",\"GCST007294\",\"PMID:30664634\"],[19,\"measurement\",0.8522214423029417,\"PCSK5\",\"GCST007294_2\",\"PMID:30664634\"],[19,\"measurement\",0.8522214423029417,\"PCSK5\",\"GCST007295\",\"PMID:30664634\"],[19,\"measurement\",0.8522214423029417,\"PCSK5\",\"GCST007295_2\",\"PMID:30664634\"],[19,\"measurement\",0.8522214423029417,\"PCSK5\",\"GCST007295_3\",\"PMID:30664634\"],[19,\"measurement\",0.8540454176049468,\"AZIN1;CLCN6\",\"GCST90018988\",\"PMID:34594039\"],[19,\"measurement\",0.8605090116855827,\"SLC7A11;ETNK1\",\"GCST007341\",\"PMID:30643256\"],[19,\"measurement\",0.8636620780943707,\"DUSP6;HSD17B12;GPCPD1;VEGFA\",\"GCST008996\",\"PMID:30239722\"],[19,\"measurement\",0.8764515925576719,\"SHISA4;CLIC4;RRAS;B4GALT5;VEGFA\",\"GCST90000059\",\"PMID:33230300\"],[19,\"measurement\",0.8862876712140708,\"NAV3\",\"GCST009462\",\"PMID:31809533\"],[19,\"measurement\",0.8927248501253555,\"LRRC8B\",\"GCST90019522\",\"PMID:33462484\"],[19,\"measurement\",0.8940028498351168,\"ACLY;CDKN1A;RRAS;IRF2BP2\",\"GCST90000061\",\"PMID:33230300\"],[19,\"measurement\",0.9037535683585566,\"NR2F1;LPIN1;GLI2\",\"GCST007038\",\"PMID:30595370\"],[19,\"measurement\",0.9099397701834048,\"SCD\",\"GCST006976\",\"PMID:30535121\"],[19,\"measurement\",0.9291751884201368,\"NUCKS1;TCF20;UBXN7;SMURF2;HSD17B12;LTBP2\",\"GCST007081\",\"PMID:30595370\"],[19,\"measurement\",0.9337786486141324,\"NUCKS1;TCF20;LONRF1;HSD17B12;MTFR1;PTPRN2\",\"GCST007468\",\"PMID:30643251\"],[19,\"measurement\",0.9383788931301958,\"NPC1\",\"GCST010084\",\"PMID:32317632\"],[19,\"measurement\",0.9383788931301958,\"NPC1\",\"GCST010085\",\"PMID:32317632\"],[19,\"measurement\",0.9614079463309868,\"SOCS2\",\"GCST007063\",\"PMID:30593698\"],[19,\"measurement\",0.9614079463309868,\"SOCS2\",\"GCST007063_2\",\"PMID:30593698\"],[19,\"measurement\",0.9614079463309868,\"SOCS2\",\"GCST007063_3\",\"PMID:30593698\"],[19,\"measurement\",0.9743958724442392,\"GLI2\",\"NEALE2_2395_1\",null]],\"hovertemplate\":\"trait_category=%{customdata[1]}\\u003cbr\\u003etrait_reported=%{x}\\u003cbr\\u003e-log10(p-value)=%{y}\\u003cbr\\u003eprogram_name=%{customdata[0]}\\u003cbr\\u003eP-value=%{customdata[2]}\\u003cbr\\u003eGenes=%{customdata[3]}\\u003cbr\\u003estudy_id=%{customdata[4]}\\u003cbr\\u003epmid=%{customdata[5]}\\u003cextra\\u003e\\u003c\\u002fextra\\u003e\",\"legendgroup\":\"measurement\",\"marker\":{\"color\":\"#636efa\",\"symbol\":\"circle\"},\"mode\":\"markers\",\"name\":\"measurement\",\"orientation\":\"v\",\"showlegend\":true,\"x\":[\"HDL cholesterol levels\",\"Neutrophil count\",\"LDL cholesterol levels\",\"Mean platelet volume\",\"Diacylglycerol_38:5_[M+H-H2O]1+ levels\",\"Sex hormone-binding globulin levels\",\"Serum uric acid levels\",\"Apolipoprotein A1 levels\",\"Total cholesterol levels\",\"Monocyte percentage of white cells\",\"Sum neutrophil eosinophil counts\",\"Medication use (HMG CoA reductase inhibitors)\",\"High light scatter reticulocyte count\",\"Hip index\",\"Estimated glomerular filtration rate\",\"Apolipoprotein B levels\",\"Eosinophil counts\",\"White blood cell count\",\"White blood cell count\",\"Alanine aminotransferase levels\",\"Platelet count\",\"Lymphocyte-to-monocyte ratio\",\"Urate levels\",\"Urate levels [AA]\",\"Urate levels [East Asian]\",\"Total bilirubin levels\",\"Serum 25-Hydroxyvitamin D levels\",\"Hemoglobin A1c levels\",\"C-X-C motif chemokine 16 levels\",\"Immature fraction of reticulocytes\",\"Sum basophil neutrophil counts\",\"Cognitive performance (MTAG) [MTAG]\",\"High light scatter reticulocyte percentage of red cells\",\"Immature fraction of reticulocytes\",\"Reticulocyte fraction of red cells\",\"Basophil count\",\"Granulocyte count\",\"QRS duration\",\"Menarche (age at onset)\",\"Educational attainment (years of education)\",\"Red cell distribution width\",\"Monocyte count\",\"Aspartate aminotransferase to alanine aminotransferase ratio\",\"Mean corpuscular hemoglobin\",\"Plateletcrit\",\"Fibrinogen levels\",\"Infant head circumference (MTAG)\",\"Elusimicrobiota abundance in stool\",\"Treponema D abundance in stool\",\"Treponemataceae abundance in stool\",\"Retinal vascular fractal density\",\"Aspartate aminotransferase levels\",\"Hand grip strength\",\"Resting heart rate\",\"Sum eosinophil basophil counts\",\"Factor VIII levels\",\"Renal function-related traits (BUN)\",\"Parental lifespan\",\"Stem cell factor levels\",\"Receptor for advanced glycosylation end products levels\",\"Percent liver fat\",\"Pre-treatment viral load in HIV-1 infection\",\"Mean corpuscular volume\",\"Gamma glutamyl transpeptidase\",\"Serum phosphate levels\",\"Neutrophil percentage of white cells\",\"Total testosterone levels\",\"Homocysteine levels\",\"Basophil percentage of white cells\",\"Heel bone mineral density\",\"Coagulation Factor VIII measurement\",\"Coagulation factor Xa measurement\",\"Joint mobility (Beighton score)\",\"Body mass index\",\"Eosinophil percentage of white cells\",\"Intralaminar thalamic nuclei volume\",\"Lateral thalamic nuclei volume\",\"Moderate to vigorous physical activity levels\",\"Feeling tense\",\"Appendicular lean mass\",\"Triglycerides\",\"Lymphocyte percentage of white cells\",\"Optic cup area\",\"Sensitivity \\u002f hurt feelings\",\"Serum creatinine levels\",\"Waist-hip index\",\"Glucuronate levels\",\"Brainstem volume\",\"Insulin-like growth factor 1 levels\",\"Mean reticulocyte volume\",\"Cortical thickness\",\"Ascending aorta minimum area\",\"Phospholipid levels (plasma) [levels]\",\"Phospholipid levels (plasma) [proportions]\",\"Insulin-like growth factor 1 levels\",\"Serum alkaline phosphatase levels\",\"Thyroid hormone levels [TSH]\",\"White matter hyperintensity volume\",\"Facial morphology (segment 1)\",\"Facial morphology (segment 2)\",\"Mean corpuscular hemoglobin concentration\",\"Serum urea levels\",\"Granulocyte percentage of myeloid white cells\",\"Neutrophil-to-lymphocyte ratio\",\"Feeling hurt\",\"Youthful appearance (self-reported)\",\"A body shape index\",\"Heart rate\",\"Feeling nervous\",\"Glycine levels\",\"PR interval\",\"Birth length (MTAG)\",\"Verbal-numerical reasoning\",\"TPE interval (resting)\",\"TPE interval (resting) [men]\",\"TPE interval (resting) [women]\",\"Ganglion cell inner plexiform layer (GCIPL) thickness\",\"Basophil percentage of granulocytes\",\"Subcortical volume (min-P)\",\"Subcortical volume (MOSTest)\",\"Eosinophil percentage of granulocytes\",\"Medication use (thyroid preparations)\",\"Anthropometric traits (multi-trait analysis)\",\"Hematocrit\",\"Serum total protein level\",\"Cortical thickness (min-P)\",\"Cortical thickness (MOSTest)\",\"C-reactive protein levels\",\"Neutrophil percentage of granulocytes\",\"Red blood cell count\",\"Number of sexual partners\",\"Platelet distribution width\",\"Bitter alcoholic beverage consumption\",\"1-palmitoyl-2-arachidonoyl-gpc (16:0\\u002f20:4n6) levels\",\"1-stearoyl-2-arachidonoyl-gpc (18:0\\u002f20:4) levels\",\"1-stearoyl-2-linoleoyl-gpc (18:0\\u002f18:2) levels\",\"2,3-dihydroxy-2-methylbutyrate levels\",\"Ascorbate (vitamin c) levels\",\"Citramalate levels\",\"Erythritol levels\",\"Hydroxyasparagine levels\",\"Methylmalonate (mma) levels\",\"Myo-inositol levels\",\"N-acetylglucosamine\\u002fn-acetylgalactosamine levels\",\"N-acetylhistidine levels\",\"Oxalate (ethanedioate) levels\",\"N,n,n-trimethyl-alanylproline betaine (tmap) levels\",\"Butyrate (4:0) levels\",\"4-chlorobenzoic acid levels\",\"Fasting insulin\",\"Age at first sexual intercourse\",\"Lymphocyte counts\",\"Sleep duration\",\"Spleen volume\",\"Blood urea nitrogen levels\",\"Vertex-wise sulcal depth\",\"Height\",\"Insomnia\",\"Insomnia [Female]\",\"Insomnia [Male]\",\"Red blood cell count\",\"Creatine kinase levels\",\"Hair color\",\"Vertical cup-disc ratio (multi-trait analysis)\",\"Ebbinghaus illusion (underestimation)\",\"Ebbinghaus illusion (overestimation)\",\"Peak expiratory flow\",\"Cognitive aspects of educational attainment\",\"Urinary albumin-to-creatinine ratio\",\"Non-albumin protein levels\",\"Brain morphology (min-P)\",\"Brain morphology (MOSTest)\",\"Weight\",\"Hemoglobin concentration\",\"Platelet-to-lymphocyte ratio\",\"Lung function (FEV1\\u002fFVC)\",\"Chronotype\",\"Body fat percentage\",\"Predicted visceral adipose tissue\",\"Cystatin C levels\",\"Alcohol consumption (drinks per week) (MTAG)\",\"Hemoglobin A1c levels\",\"Cigarettes smoked per day (MTAG)\",\"Cognitive ability (MTAG)\",\"Glucose levels\",\"Problematic alcohol use (MTAG)\",\"Electrocardiographic traits (multivariate)\",\"Walking pace\",\"Intraocular pressure\",\"Birth weight\",\"Serum albumin levels\",\"Mitochondrial DNA copy number\",\"Medication use (beta blocking agents)\",\"Relative age of first facial hair\",\"Cortical surface area\",\"Mean arterial pressure\",\"Height\",\"Depressive symptoms\",\"FEV1\",\"Calcium levels\",\"Cortical surface area (min-P)\",\"Cortical surface area (MOSTest)\",\"Neuroticism\",\"Daytime nap\",\"Offspring birth weight\",\"Body fat distribution (arm fat ratio)\",\"Body fat distribution (arm fat ratio) [females]\",\"Body fat distribution (arm fat ratio) [males]\",\"Body fat distribution (trunk fat ratio)\",\"Body fat distribution (trunk fat ratio) [females]\",\"Body fat distribution (leg fat ratio)\",\"Body fat distribution (leg fat ratio) [females]\",\"Body fat distribution (leg fat ratio) [males]\",\"Medication use (agents acting on the renin-angiotensin system)\",\"Well-being spectrum (multivariate analysis)\",\"Waist-hip ratio\",\"Diastolic blood pressure\",\"Optic disc size\",\"Serum total protein level\",\"Pulse pressure\",\"Balding type 1\",\"Macular thickness\",\"Lung function (FVC)\",\"Smoking initiation (ever regular vs never regular) (MTAG)\",\"Leisure sedentary behaviour (television watching)\",\"Leisure sedentary behaviour (computer use)\",\"Fat-free mass\",\"Fat-free mass [female]\",\"Fat-free mass [male]\",\"Pattern 1 | hair\\u002fbalding pattern\"],\"xaxis\":\"x\",\"y\":[3.7217267604218467,2.2085146890677216,2.041405643510129,1.9579074698952725,1.951044374896618,1.8241882621345995,1.770631114879941,1.7411687362188664,1.7396407250478436,1.690812274047095,1.4704408243467335,1.4080856632715508,1.3781939711216924,1.362419332776284,1.3544566479011757,1.293950511686175,1.2676997014487477,1.2465806849674252,1.235289025140926,1.2228005175729528,1.2190206992990031,1.1788678313002405,1.1715759157952723,1.1715759157952723,1.1715759157952723,1.0960185792798,1.0960185792798,1.089932436670235,1.081408859356079,1.0763721590611,1.0614065901361642,1.0603927068899206,1.0543677520671646,1.0543677520671646,1.0543677520671646,1.0466582514376923,1.0466582514376923,1.039055667545529,0.9948769861297059,0.9368956174689225,0.8957149324974121,0.8637679846524777,0.8452664993267902,0.8366442946177243,0.8354417249747166,0.830057667146352,0.7986863209335994,0.7986863209335994,0.7986863209335994,0.7986863209335994,0.7986863209335994,0.7778381118657756,0.7700892471688905,0.7538587782959907,0.7009324651239999,0.6858060349882722,0.6858060349882722,0.6858060349882722,0.6858060349882722,0.6858060349882722,0.6858060349882722,0.6722965519392787,0.6689813283020113,0.6638953266418268,0.6619668214461817,0.6610086091656856,0.654392438410845,0.640638795065622,0.6403037461058949,0.6091719286958492,0.600837303625428,0.600837303625428,0.600837303625428,0.5963300386704616,0.5736812309119169,0.5653713461456946,0.5653713461456946,0.5653713461456946,0.5653713461456946,0.5566285860294564,0.5548330211137795,0.5514954872964928,0.5334802559376316,0.5334802559376316,0.5274367733240749,0.515491225732224,0.5045863802829738,0.5045863802829738,0.49935154560093575,0.4956526120335892,0.49494905821834334,0.4868508020361554,0.47824070682724795,0.47824070682724795,0.4636762982214514,0.4600892798492229,0.4540872945230746,0.4540872945230746,0.4540872945230746,0.4540872945230746,0.4486929598029413,0.43860422944425476,0.43508264792163637,0.43183920744882176,0.43183920744882176,0.4226886062349129,0.42183298040970696,0.4112617574381072,0.4112617574381072,0.4112617574381072,0.3965082741419726,0.39216054376928067,0.37866922288358823,0.3743727308927516,0.3743727308927516,0.3743727308927516,0.3743727308927516,0.36853396665532223,0.36692770312074385,0.36692770312074385,0.3630272931324168,0.3597077572377868,0.3577605660432619,0.3526349764843956,0.350701631919816,0.3492060233978256,0.3492060233978256,0.3337719870563926,0.3324044468626262,0.32791804927934365,0.3223840999396732,0.3182603754386476,0.313881472009155,0.31099111723709444,0.31099111723709444,0.31099111723709444,0.31099111723709444,0.31099111723709444,0.31099111723709444,0.31099111723709444,0.31099111723709444,0.31099111723709444,0.31099111723709444,0.31099111723709444,0.31099111723709444,0.31099111723709444,0.31099111723709444,0.31099111723709444,0.31099111723709444,0.30094647091657867,0.2990368992538818,0.29112924527038014,0.28873726076138856,0.28873726076138856,0.283617791745582,0.28122117704673677,0.2755075976684138,0.2689807983234533,0.2689807983234533,0.2689807983234533,0.2620631246704594,0.25590531345049344,0.2497224463673653,0.24851737431910442,0.23303897622774877,0.23303897622774877,0.2293558929845921,0.22830122653499976,0.21936076994703263,0.21911582395486884,0.21532887408356802,0.21532887408356802,0.21144888509347357,0.20955441327659186,0.20358488099593702,0.19423713122424574,0.18879998488197744,0.18520757701463067,0.17846128470507308,0.17478411195789112,0.17020932699871788,0.16896430377360622,0.16398684807357408,0.15832900442230294,0.15797335147093647,0.15290185568138592,0.1476933221584665,0.1426921649960585,0.1395789604554925,0.13660210139221657,0.13108368101055365,0.12045367398727036,0.11649929760822468,0.10902438850595701,0.10091124656962411,0.10015316793185175,0.0996846480903241,0.09892653418685364,0.09800944980205051,0.08767177472054431,0.0813249739899602,0.0813249739899602,0.07935854138257471,0.07884166289335762,0.0716766439375091,0.06944754293925572,0.06944754293925572,0.06944754293925572,0.06944754293925572,0.06944754293925572,0.06944754293925572,0.06944754293925572,0.06944754293925572,0.06851903318601958,0.06524457716114158,0.0636561491019446,0.057272065497898976,0.052425291946877256,0.049282375921661604,0.048661096790555615,0.04394997493628287,0.04098735311041072,0.031902395595961704,0.029756060684797827,0.027621769328351052,0.027621769328351052,0.017092292615696322,0.017092292615696322,0.017092292615696322,0.011264564385345333],\"yaxis\":\"y\",\"type\":\"scatter\"}],                        {\"template\":{\"data\":{\"histogram2dcontour\":[{\"type\":\"histogram2dcontour\",\"colorbar\":{\"outlinewidth\":0,\"ticks\":\"\"},\"colorscale\":[[0.0,\"#0d0887\"],[0.1111111111111111,\"#46039f\"],[0.2222222222222222,\"#7201a8\"],[0.3333333333333333,\"#9c179e\"],[0.4444444444444444,\"#bd3786\"],[0.5555555555555556,\"#d8576b\"],[0.6666666666666666,\"#ed7953\"],[0.7777777777777778,\"#fb9f3a\"],[0.8888888888888888,\"#fdca26\"],[1.0,\"#f0f921\"]]}],\"choropleth\":[{\"type\":\"choropleth\",\"colorbar\":{\"outlinewidth\":0,\"ticks\":\"\"}}],\"histogram2d\":[{\"type\":\"histogram2d\",\"colorbar\":{\"outlinewidth\":0,\"ticks\":\"\"},\"colorscale\":[[0.0,\"#0d0887\"],[0.1111111111111111,\"#46039f\"],[0.2222222222222222,\"#7201a8\"],[0.3333333333333333,\"#9c179e\"],[0.4444444444444444,\"#bd3786\"],[0.5555555555555556,\"#d8576b\"],[0.6666666666666666,\"#ed7953\"],[0.7777777777777778,\"#fb9f3a\"],[0.8888888888888888,\"#fdca26\"],[1.0,\"#f0f921\"]]}],\"heatmap\":[{\"type\":\"heatmap\",\"colorbar\":{\"outlinewidth\":0,\"ticks\":\"\"},\"colorscale\":[[0.0,\"#0d0887\"],[0.1111111111111111,\"#46039f\"],[0.2222222222222222,\"#7201a8\"],[0.3333333333333333,\"#9c179e\"],[0.4444444444444444,\"#bd3786\"],[0.5555555555555556,\"#d8576b\"],[0.6666666666666666,\"#ed7953\"],[0.7777777777777778,\"#fb9f3a\"],[0.8888888888888888,\"#fdca26\"],[1.0,\"#f0f921\"]]}],\"heatmapgl\":[{\"type\":\"heatmapgl\",\"colorbar\":{\"outlinewidth\":0,\"ticks\":\"\"},\"colorscale\":[[0.0,\"#0d0887\"],[0.1111111111111111,\"#46039f\"],[0.2222222222222222,\"#7201a8\"],[0.3333333333333333,\"#9c179e\"],[0.4444444444444444,\"#bd3786\"],[0.5555555555555556,\"#d8576b\"],[0.6666666666666666,\"#ed7953\"],[0.7777777777777778,\"#fb9f3a\"],[0.8888888888888888,\"#fdca26\"],[1.0,\"#f0f921\"]]}],\"contourcarpet\":[{\"type\":\"contourcarpet\",\"colorbar\":{\"outlinewidth\":0,\"ticks\":\"\"}}],\"contour\":[{\"type\":\"contour\",\"colorbar\":{\"outlinewidth\":0,\"ticks\":\"\"},\"colorscale\":[[0.0,\"#0d0887\"],[0.1111111111111111,\"#46039f\"],[0.2222222222222222,\"#7201a8\"],[0.3333333333333333,\"#9c179e\"],[0.4444444444444444,\"#bd3786\"],[0.5555555555555556,\"#d8576b\"],[0.6666666666666666,\"#ed7953\"],[0.7777777777777778,\"#fb9f3a\"],[0.8888888888888888,\"#fdca26\"],[1.0,\"#f0f921\"]]}],\"surface\":[{\"type\":\"surface\",\"colorbar\":{\"outlinewidth\":0,\"ticks\":\"\"},\"colorscale\":[[0.0,\"#0d0887\"],[0.1111111111111111,\"#46039f\"],[0.2222222222222222,\"#7201a8\"],[0.3333333333333333,\"#9c179e\"],[0.4444444444444444,\"#bd3786\"],[0.5555555555555556,\"#d8576b\"],[0.6666666666666666,\"#ed7953\"],[0.7777777777777778,\"#fb9f3a\"],[0.8888888888888888,\"#fdca26\"],[1.0,\"#f0f921\"]]}],\"mesh3d\":[{\"type\":\"mesh3d\",\"colorbar\":{\"outlinewidth\":0,\"ticks\":\"\"}}],\"scatter\":[{\"fillpattern\":{\"fillmode\":\"overlay\",\"size\":10,\"solidity\":0.2},\"type\":\"scatter\"}],\"parcoords\":[{\"type\":\"parcoords\",\"line\":{\"colorbar\":{\"outlinewidth\":0,\"ticks\":\"\"}}}],\"scatterpolargl\":[{\"type\":\"scatterpolargl\",\"marker\":{\"colorbar\":{\"outlinewidth\":0,\"ticks\":\"\"}}}],\"bar\":[{\"error_x\":{\"color\":\"#2a3f5f\"},\"error_y\":{\"color\":\"#2a3f5f\"},\"marker\":{\"line\":{\"color\":\"#E5ECF6\",\"width\":0.5},\"pattern\":{\"fillmode\":\"overlay\",\"size\":10,\"solidity\":0.2}},\"type\":\"bar\"}],\"scattergeo\":[{\"type\":\"scattergeo\",\"marker\":{\"colorbar\":{\"outlinewidth\":0,\"ticks\":\"\"}}}],\"scatterpolar\":[{\"type\":\"scatterpolar\",\"marker\":{\"colorbar\":{\"outlinewidth\":0,\"ticks\":\"\"}}}],\"histogram\":[{\"marker\":{\"pattern\":{\"fillmode\":\"overlay\",\"size\":10,\"solidity\":0.2}},\"type\":\"histogram\"}],\"scattergl\":[{\"type\":\"scattergl\",\"marker\":{\"colorbar\":{\"outlinewidth\":0,\"ticks\":\"\"}}}],\"scatter3d\":[{\"type\":\"scatter3d\",\"line\":{\"colorbar\":{\"outlinewidth\":0,\"ticks\":\"\"}},\"marker\":{\"colorbar\":{\"outlinewidth\":0,\"ticks\":\"\"}}}],\"scattermapbox\":[{\"type\":\"scattermapbox\",\"marker\":{\"colorbar\":{\"outlinewidth\":0,\"ticks\":\"\"}}}],\"scatterternary\":[{\"type\":\"scatterternary\",\"marker\":{\"colorbar\":{\"outlinewidth\":0,\"ticks\":\"\"}}}],\"scattercarpet\":[{\"type\":\"scattercarpet\",\"marker\":{\"colorbar\":{\"outlinewidth\":0,\"ticks\":\"\"}}}],\"carpet\":[{\"aaxis\":{\"endlinecolor\":\"#2a3f5f\",\"gridcolor\":\"white\",\"linecolor\":\"white\",\"minorgridcolor\":\"white\",\"startlinecolor\":\"#2a3f5f\"},\"baxis\":{\"endlinecolor\":\"#2a3f5f\",\"gridcolor\":\"white\",\"linecolor\":\"white\",\"minorgridcolor\":\"white\",\"startlinecolor\":\"#2a3f5f\"},\"type\":\"carpet\"}],\"table\":[{\"cells\":{\"fill\":{\"color\":\"#EBF0F8\"},\"line\":{\"color\":\"white\"}},\"header\":{\"fill\":{\"color\":\"#C8D4E3\"},\"line\":{\"color\":\"white\"}},\"type\":\"table\"}],\"barpolar\":[{\"marker\":{\"line\":{\"color\":\"#E5ECF6\",\"width\":0.5},\"pattern\":{\"fillmode\":\"overlay\",\"size\":10,\"solidity\":0.2}},\"type\":\"barpolar\"}],\"pie\":[{\"automargin\":true,\"type\":\"pie\"}]},\"layout\":{\"autotypenumbers\":\"strict\",\"colorway\":[\"#636efa\",\"#EF553B\",\"#00cc96\",\"#ab63fa\",\"#FFA15A\",\"#19d3f3\",\"#FF6692\",\"#B6E880\",\"#FF97FF\",\"#FECB52\"],\"font\":{\"color\":\"#2a3f5f\"},\"hovermode\":\"closest\",\"hoverlabel\":{\"align\":\"left\"},\"paper_bgcolor\":\"white\",\"plot_bgcolor\":\"#E5ECF6\",\"polar\":{\"bgcolor\":\"#E5ECF6\",\"angularaxis\":{\"gridcolor\":\"white\",\"linecolor\":\"white\",\"ticks\":\"\"},\"radialaxis\":{\"gridcolor\":\"white\",\"linecolor\":\"white\",\"ticks\":\"\"}},\"ternary\":{\"bgcolor\":\"#E5ECF6\",\"aaxis\":{\"gridcolor\":\"white\",\"linecolor\":\"white\",\"ticks\":\"\"},\"baxis\":{\"gridcolor\":\"white\",\"linecolor\":\"white\",\"ticks\":\"\"},\"caxis\":{\"gridcolor\":\"white\",\"linecolor\":\"white\",\"ticks\":\"\"}},\"coloraxis\":{\"colorbar\":{\"outlinewidth\":0,\"ticks\":\"\"}},\"colorscale\":{\"sequential\":[[0.0,\"#0d0887\"],[0.1111111111111111,\"#46039f\"],[0.2222222222222222,\"#7201a8\"],[0.3333333333333333,\"#9c179e\"],[0.4444444444444444,\"#bd3786\"],[0.5555555555555556,\"#d8576b\"],[0.6666666666666666,\"#ed7953\"],[0.7777777777777778,\"#fb9f3a\"],[0.8888888888888888,\"#fdca26\"],[1.0,\"#f0f921\"]],\"sequentialminus\":[[0.0,\"#0d0887\"],[0.1111111111111111,\"#46039f\"],[0.2222222222222222,\"#7201a8\"],[0.3333333333333333,\"#9c179e\"],[0.4444444444444444,\"#bd3786\"],[0.5555555555555556,\"#d8576b\"],[0.6666666666666666,\"#ed7953\"],[0.7777777777777778,\"#fb9f3a\"],[0.8888888888888888,\"#fdca26\"],[1.0,\"#f0f921\"]],\"diverging\":[[0,\"#8e0152\"],[0.1,\"#c51b7d\"],[0.2,\"#de77ae\"],[0.3,\"#f1b6da\"],[0.4,\"#fde0ef\"],[0.5,\"#f7f7f7\"],[0.6,\"#e6f5d0\"],[0.7,\"#b8e186\"],[0.8,\"#7fbc41\"],[0.9,\"#4d9221\"],[1,\"#276419\"]]},\"xaxis\":{\"gridcolor\":\"white\",\"linecolor\":\"white\",\"ticks\":\"\",\"title\":{\"standoff\":15},\"zerolinecolor\":\"white\",\"automargin\":true,\"zerolinewidth\":2},\"yaxis\":{\"gridcolor\":\"white\",\"linecolor\":\"white\",\"ticks\":\"\",\"title\":{\"standoff\":15},\"zerolinecolor\":\"white\",\"automargin\":true,\"zerolinewidth\":2},\"scene\":{\"xaxis\":{\"backgroundcolor\":\"#E5ECF6\",\"gridcolor\":\"white\",\"linecolor\":\"white\",\"showbackground\":true,\"ticks\":\"\",\"zerolinecolor\":\"white\",\"gridwidth\":2},\"yaxis\":{\"backgroundcolor\":\"#E5ECF6\",\"gridcolor\":\"white\",\"linecolor\":\"white\",\"showbackground\":true,\"ticks\":\"\",\"zerolinecolor\":\"white\",\"gridwidth\":2},\"zaxis\":{\"backgroundcolor\":\"#E5ECF6\",\"gridcolor\":\"white\",\"linecolor\":\"white\",\"showbackground\":true,\"ticks\":\"\",\"zerolinecolor\":\"white\",\"gridwidth\":2}},\"shapedefaults\":{\"line\":{\"color\":\"#2a3f5f\"}},\"annotationdefaults\":{\"arrowcolor\":\"#2a3f5f\",\"arrowhead\":0,\"arrowwidth\":1},\"geo\":{\"bgcolor\":\"white\",\"landcolor\":\"#E5ECF6\",\"subunitcolor\":\"white\",\"showland\":true,\"showlakes\":true,\"lakecolor\":\"white\"},\"title\":{\"x\":0.05},\"mapbox\":{\"style\":\"light\"}}},\"xaxis\":{\"anchor\":\"y\",\"domain\":[0.0,1.0],\"title\":{\"text\":\"trait_reported\"},\"tickfont\":{\"size\":4}},\"yaxis\":{\"anchor\":\"x\",\"domain\":[0.0,1.0],\"title\":{\"text\":\"-log10(p-value)\"},\"tickformat\":\".1f\"},\"legend\":{\"title\":{\"text\":\"trait_category\"},\"tracegroupgap\":0},\"title\":{\"text\":\"Endothelial Cell Programs x GWAS Continuous Outcome Enrichments\"},\"width\":1000,\"height\":800,\"shapes\":[{\"line\":{\"dash\":\"dash\"},\"type\":\"line\",\"x0\":0,\"x1\":1,\"xref\":\"x domain\",\"y0\":1.3010299956639813,\"y1\":1.3010299956639813,\"yref\":\"y\"}],\"annotations\":[{\"showarrow\":false,\"text\":\"Significance Threshold (0.05)\",\"x\":1,\"xanchor\":\"right\",\"xref\":\"x domain\",\"y\":1.3010299956639813,\"yanchor\":\"bottom\",\"yref\":\"y\"}]},                        {\"responsive\": true}                    ).then(function(){\n",
       "                            \n",
       "var gd = document.getElementById('3e9fe6d2-a6f0-49b8-a7d9-9152b8b62ba2');\n",
       "var x = new MutationObserver(function (mutations, observer) {{\n",
       "        var display = window.getComputedStyle(gd).display;\n",
       "        if (!display || display === 'none') {{\n",
       "            console.log([gd, 'removed!']);\n",
       "            Plotly.purge(gd);\n",
       "            observer.disconnect();\n",
       "        }}\n",
       "}});\n",
       "\n",
       "// Listen for the removal of the full notebook cells\n",
       "var notebookContainer = gd.closest('#notebook-container');\n",
       "if (notebookContainer) {{\n",
       "    x.observe(notebookContainer, {childList: true});\n",
       "}}\n",
       "\n",
       "// Listen for the clearing of the current output cell\n",
       "var outputEl = gd.closest('.output');\n",
       "if (outputEl) {{\n",
       "    x.observe(outputEl, {childList: true});\n",
       "}}\n",
       "\n",
       "                        })                };                });            </script>        </div>"
      ]
     },
     "metadata": {},
     "output_type": "display_data"
    }
   ],
   "source": [
    "plot_interactive_phewas(data=data,\n",
    "                        title=\"Endothelial Cell Programs x GWAS Continuous Outcome Enrichments\",\n",
    "                       query_string=\"trait_category == 'measurement'\")"
   ]
  }
 ],
 "metadata": {
  "kernelspec": {
   "display_name": "Python 3.10 test_celloracle",
   "language": "python",
   "name": "test_scenicplus-py310"
  }
 },
 "nbformat": 4,
 "nbformat_minor": 5
}
