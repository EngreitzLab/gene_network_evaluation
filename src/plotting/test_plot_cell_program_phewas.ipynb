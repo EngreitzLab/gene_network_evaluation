{
 "cells": [
  {
   "cell_type": "code",
   "execution_count": 1,
   "id": "68b70e4d",
   "metadata": {},
   "outputs": [],
   "source": [
    "import pandas as pd\n",
    "import numpy as np\n",
    "import mudata\n",
    "import plotly.express as px\n",
    "from ipywidgets import interact, Dropdown, Output, VBox\n",
    "\n",
    "import pandas as pd\n",
    "import numpy as np\n",
    "\n",
    "def process_enrichment_data(enrich_res,\n",
    "                            metadata,\n",
    "                            pval_col=\"P-value\",\n",
    "                            enrich_geneset_id_col=\"Term\",\n",
    "                            metadata_geneset_id_col=\"trait_efos\",\n",
    "                            color_category_col=\"trait_category\",\n",
    "                            program_name_col=\"program_name\",\n",
    "                            annotation_cols=[\"trait_reported\", \"Genes\", \"study_id\", \"pmid\"]):\n",
    "\n",
    "    # Read in enrichment results\n",
    "    if isinstance(enrich_res, str):\n",
    "        enrich_df = pd.read_csv(enrich_res)\n",
    "    elif isinstance(enrich_res, pd.DataFrame):\n",
    "        enrich_df = enrich_res\n",
    "    else:\n",
    "        raise ValueError(\"enrich_res must be either a pandas DataFrame or a file path to a CSV file.\")\n",
    "\n",
    "    if isinstance(metadata, str):\n",
    "        metadata_df = pd.read_csv(metadata, compression='gzip', low_memory=False)\n",
    "    elif isinstance(metadata, pd.DataFrame):\n",
    "        metadata_df = metadata\n",
    "    else:\n",
    "        raise ValueError(\"metadata must be either a pandas DataFrame or a file path to a CSV file.\")\n",
    "\n",
    "    # Join the enrichment results and the metadata\n",
    "    enrich_ps = enrich_df.merge(metadata_df, left_on=enrich_geneset_id_col, right_on=metadata_geneset_id_col, how=\"left\")\n",
    "\n",
    "    # Only keep the relevant columns\n",
    "    keep_cols = list([enrich_geneset_id_col, pval_col, metadata_geneset_id_col, color_category_col, program_name_col] + annotation_cols)\n",
    "    enrich_ps = enrich_ps[keep_cols]\n",
    "\n",
    "    # Sort by P-value\n",
    "    enrich_ps = enrich_ps.drop_duplicates().sort_values(by=[color_category_col, pval_col])\n",
    "\n",
    "    # If the input P-value == 0, then replace it with the lowest non-zero P-value in the dataframe\n",
    "    min_value = enrich_ps.query(f\"`{pval_col}` > 0\")[pval_col].min()\n",
    "\n",
    "    # Compute the -log(10) P-value and deal with edge-cases (e.g. P=0, P=1)\n",
    "    enrich_ps.loc[enrich_ps[pval_col] == 0, pval_col] = min_value  # Replace P=0 with min non-0 p-value\n",
    "    enrich_ps['-log10(p-value)'] = abs(-1 * np.log10(enrich_ps[pval_col]))\n",
    "\n",
    "    enrich_ps.reset_index(drop=True, inplace=True)\n",
    "\n",
    "    return enrich_ps\n",
    "\n",
    "\n",
    "def plot_interactive_phewas(data, x_column='trait_reported',\n",
    "                            y_column='-log10(p-value)',\n",
    "                            color_column='trait_category',\n",
    "                            filter_column='program_name',\n",
    "                            significance_threshold=0.05,\n",
    "                            annotation_cols=[\"program_name\", \"trait_reported\",\n",
    "                                             \"trait_category\", \"P-value\",\n",
    "                                             \"Genes\", \"study_id\", \"pmid\"],\n",
    "                           query_string=\"trait_category != 'measurement'\",\n",
    "                           title=\"Cell Program x OpenTargets GWAS L2G Enrichment\"):\n",
    "    \n",
    "    # Get unique values for the filtering column\n",
    "    filter_values = ['All'] + list(data[filter_column].unique())\n",
    "\n",
    "    # Initialize output widget to display the plot\n",
    "    output = Output()\n",
    "    \n",
    "    if query_string:\n",
    "        data=data.query(query_string)\n",
    "\n",
    "    # Function to update plot based on dropdown selection\n",
    "    def update_plot(selected_value):\n",
    "        # Filter data based on selected value\n",
    "        if selected_value == \"All\":\n",
    "            filtered_data = data.copy()  # No selection, show all data\n",
    "        else:\n",
    "            filtered_data = data[data[filter_column] == selected_value]\n",
    "\n",
    "        # Create the plot\n",
    "        fig = px.scatter(filtered_data, x=x_column, y=y_column, color=color_column,\n",
    "                         title=title,\n",
    "                         hover_data=annotation_cols)\n",
    "\n",
    "        # Customize layout\n",
    "        fig.update_layout(\n",
    "            xaxis_title=x_column,\n",
    "            yaxis_title=y_column,\n",
    "            yaxis=dict(tickformat=\".1f\"),\n",
    "            width=1000,  # Adjust width as needed\n",
    "            height=500,  # Adjust height as needed,\n",
    "            xaxis_tickfont=dict(size=4)\n",
    "        )\n",
    "\n",
    "        # Add horizontal dashed line for significance threshold\n",
    "        fig.add_hline(y=-np.log10(significance_threshold), line_dash=\"dash\",\n",
    "                      annotation_text=f'Significance Threshold ({significance_threshold})', annotation_position=\"top right\")\n",
    "\n",
    "        # Clear previous plot and display the new one\n",
    "        with output:\n",
    "            output.clear_output(wait=True)\n",
    "            fig.show()\n",
    "\n",
    "    # Create dropdown widget\n",
    "    dropdown = Dropdown(options=filter_values, description=f\"{filter_column}:\")\n",
    "\n",
    "    # Define function to handle dropdown value change\n",
    "    def on_change(change):\n",
    "        if change['type'] == 'change' and change['name'] == 'value':\n",
    "            update_plot(change['new'])\n",
    "\n",
    "    # Link dropdown change to function\n",
    "    dropdown.observe(on_change)\n",
    "\n",
    "    # Display dropdown widget and initial plot\n",
    "    display(VBox([dropdown, output]))"
   ]
  },
  {
   "cell_type": "code",
   "execution_count": 2,
   "id": "cd63c378",
   "metadata": {},
   "outputs": [],
   "source": [
    "import os\n",
    "current_directory = os.getcwd()\n",
    "os.chdir(current_directory)\n",
    "\n",
    "enrich_res=\"../../smk/resources/OpenTargets_L2G_Cell_Program_Enrichment_Results.csv\"\n",
    "metadata=\"../../smk/resources/OpenTargets_L2G_Filtered.csv.gz\"\n",
    "\n",
    "data=process_enrichment_data(\n",
    "    enrich_res=enrich_res,\n",
    "    metadata=metadata)"
   ]
  },
  {
   "cell_type": "markdown",
   "id": "a31fb60c",
   "metadata": {},
   "source": [
    "## Plot Binary GWAS Outcomes"
   ]
  },
  {
   "cell_type": "code",
   "execution_count": 3,
   "id": "5271013d",
   "metadata": {
    "scrolled": true
   },
   "outputs": [
    {
     "data": {
      "application/vnd.jupyter.widget-view+json": {
       "model_id": "9633931d822c46249d66a1a9c615c953",
       "version_major": 2,
       "version_minor": 0
      },
      "text/plain": [
       "VBox(children=(Dropdown(description='program_name:', options=('All', 36, 19, 8, 28, 35, 21, 41, 1, 2, 47, 34, …"
      ]
     },
     "metadata": {},
     "output_type": "display_data"
    }
   ],
   "source": [
    "plot_interactive_phewas(data=data,\n",
    "                        title=\"Endothelial Cell Programs x GWAS Binary Outcome Enrichments\",\n",
    "                       query_string=\"trait_category != 'measurement'\")"
   ]
  },
  {
   "cell_type": "markdown",
   "id": "184601fb",
   "metadata": {},
   "source": [
    "## Plot Continuous Trait GWAS Outcomes"
   ]
  },
  {
   "cell_type": "code",
   "execution_count": 4,
   "id": "e9aacf93",
   "metadata": {},
   "outputs": [
    {
     "data": {
      "application/vnd.jupyter.widget-view+json": {
       "model_id": "4e7cbc134d1d4e62bc4dcbf3ff7ea268",
       "version_major": 2,
       "version_minor": 0
      },
      "text/plain": [
       "VBox(children=(Dropdown(description='program_name:', options=('All', 36, 19, 8, 28, 35, 21, 41, 1, 2, 47, 34, …"
      ]
     },
     "metadata": {},
     "output_type": "display_data"
    }
   ],
   "source": [
    "plot_interactive_phewas(data=data,\n",
    "                        title=\"Endothelial Cell Programs x GWAS Continuous Outcome Enrichments\",\n",
    "                       query_string=\"trait_category == 'measurement'\")"
   ]
  }
 ],
 "metadata": {
  "kernelspec": {
   "display_name": "cell_programs",
   "language": "python",
   "name": "cell_programs"
  },
  "language_info": {
   "codemirror_mode": {
    "name": "ipython",
    "version": 3
   },
   "file_extension": ".py",
   "mimetype": "text/x-python",
   "name": "python",
   "nbconvert_exporter": "python",
   "pygments_lexer": "ipython3",
   "version": "3.9.19"
  }
 },
 "nbformat": 4,
 "nbformat_minor": 5
}
